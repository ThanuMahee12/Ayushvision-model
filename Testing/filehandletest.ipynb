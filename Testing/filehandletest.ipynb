{
 "cells": [
  {
   "cell_type": "markdown",
   "metadata": {},
   "source": [
    "# File handle Functions Testing"
   ]
  },
  {
   "cell_type": "code",
   "execution_count": 1,
   "metadata": {},
   "outputs": [],
   "source": [
    "%run ../Util/FileFolder"
   ]
  },
  {
   "cell_type": "markdown",
   "metadata": {},
   "source": [
    "#### File extextension"
   ]
  },
  {
   "cell_type": "code",
   "execution_count": 2,
   "metadata": {},
   "outputs": [
    {
     "data": {
      "text/plain": [
       "'.txt'"
      ]
     },
     "execution_count": 2,
     "metadata": {},
     "output_type": "execute_result"
    }
   ],
   "source": [
    "file_extention('my.txt')"
   ]
  },
  {
   "cell_type": "markdown",
   "metadata": {},
   "source": [
    "#### parentFolder"
   ]
  },
  {
   "cell_type": "code",
   "execution_count": 3,
   "metadata": {},
   "outputs": [
    {
     "data": {
      "text/plain": [
       "'D://Research'"
      ]
     },
     "execution_count": 3,
     "metadata": {},
     "output_type": "execute_result"
    }
   ],
   "source": [
    "file_parent_folder('D://Research//ayush-vision')"
   ]
  },
  {
   "cell_type": "markdown",
   "metadata": {},
   "source": [
    "#### parent folder name"
   ]
  },
  {
   "cell_type": "code",
   "execution_count": 4,
   "metadata": {},
   "outputs": [
    {
     "data": {
      "text/plain": [
       "'Research'"
      ]
     },
     "execution_count": 4,
     "metadata": {},
     "output_type": "execute_result"
    }
   ],
   "source": [
    "file_parent_folder_name('D://Research//ayush-vision')"
   ]
  },
  {
   "cell_type": "markdown",
   "metadata": {},
   "source": [
    "#### sub_folders"
   ]
  },
  {
   "cell_type": "code",
   "execution_count": 6,
   "metadata": {},
   "outputs": [
    {
     "data": {
      "text/plain": [
       "['.git', 'Algorithums', 'config', 'DataSet', 'Testing', 'Util']"
      ]
     },
     "execution_count": 6,
     "metadata": {},
     "output_type": "execute_result"
    }
   ],
   "source": [
    "sub_folders('D://Research//ayush-vision')"
   ]
  },
  {
   "cell_type": "markdown",
   "metadata": {},
   "source": [
    "#### number of subfolders"
   ]
  },
  {
   "cell_type": "code",
   "execution_count": 7,
   "metadata": {},
   "outputs": [
    {
     "data": {
      "text/plain": [
       "6"
      ]
     },
     "execution_count": 7,
     "metadata": {},
     "output_type": "execute_result"
    }
   ],
   "source": [
    "num_sub_folders('D://Research//ayush-vision')"
   ]
  },
  {
   "cell_type": "markdown",
   "metadata": {},
   "source": [
    "#### list_all_subfolders"
   ]
  },
  {
   "cell_type": "code",
   "execution_count": 8,
   "metadata": {},
   "outputs": [
    {
     "data": {
      "text/plain": [
       "['D://Research//ayush-vision\\\\.git',\n",
       " 'D://Research//ayush-vision\\\\Algorithums',\n",
       " 'D://Research//ayush-vision\\\\config',\n",
       " 'D://Research//ayush-vision\\\\DataSet',\n",
       " 'D://Research//ayush-vision\\\\Testing',\n",
       " 'D://Research//ayush-vision\\\\Util',\n",
       " 'D://Research//ayush-vision\\\\.git\\\\fsmonitor--daemon',\n",
       " 'D://Research//ayush-vision\\\\.git\\\\hooks',\n",
       " 'D://Research//ayush-vision\\\\.git\\\\info',\n",
       " 'D://Research//ayush-vision\\\\.git\\\\logs',\n",
       " 'D://Research//ayush-vision\\\\.git\\\\objects',\n",
       " 'D://Research//ayush-vision\\\\.git\\\\refs',\n",
       " 'D://Research//ayush-vision\\\\.git\\\\fsmonitor--daemon\\\\cookies',\n",
       " 'D://Research//ayush-vision\\\\.git\\\\logs\\\\refs',\n",
       " 'D://Research//ayush-vision\\\\.git\\\\logs\\\\refs\\\\heads',\n",
       " 'D://Research//ayush-vision\\\\.git\\\\logs\\\\refs\\\\remotes',\n",
       " 'D://Research//ayush-vision\\\\.git\\\\logs\\\\refs\\\\remotes\\\\origin',\n",
       " 'D://Research//ayush-vision\\\\.git\\\\objects\\\\01',\n",
       " 'D://Research//ayush-vision\\\\.git\\\\objects\\\\02',\n",
       " 'D://Research//ayush-vision\\\\.git\\\\objects\\\\03',\n",
       " 'D://Research//ayush-vision\\\\.git\\\\objects\\\\04',\n",
       " 'D://Research//ayush-vision\\\\.git\\\\objects\\\\05',\n",
       " 'D://Research//ayush-vision\\\\.git\\\\objects\\\\06',\n",
       " 'D://Research//ayush-vision\\\\.git\\\\objects\\\\07',\n",
       " 'D://Research//ayush-vision\\\\.git\\\\objects\\\\09',\n",
       " 'D://Research//ayush-vision\\\\.git\\\\objects\\\\0b',\n",
       " 'D://Research//ayush-vision\\\\.git\\\\objects\\\\0e',\n",
       " 'D://Research//ayush-vision\\\\.git\\\\objects\\\\10',\n",
       " 'D://Research//ayush-vision\\\\.git\\\\objects\\\\13',\n",
       " 'D://Research//ayush-vision\\\\.git\\\\objects\\\\19',\n",
       " 'D://Research//ayush-vision\\\\.git\\\\objects\\\\1b',\n",
       " 'D://Research//ayush-vision\\\\.git\\\\objects\\\\1e',\n",
       " 'D://Research//ayush-vision\\\\.git\\\\objects\\\\1f',\n",
       " 'D://Research//ayush-vision\\\\.git\\\\objects\\\\20',\n",
       " 'D://Research//ayush-vision\\\\.git\\\\objects\\\\21',\n",
       " 'D://Research//ayush-vision\\\\.git\\\\objects\\\\22',\n",
       " 'D://Research//ayush-vision\\\\.git\\\\objects\\\\24',\n",
       " 'D://Research//ayush-vision\\\\.git\\\\objects\\\\26',\n",
       " 'D://Research//ayush-vision\\\\.git\\\\objects\\\\27',\n",
       " 'D://Research//ayush-vision\\\\.git\\\\objects\\\\28',\n",
       " 'D://Research//ayush-vision\\\\.git\\\\objects\\\\2b',\n",
       " 'D://Research//ayush-vision\\\\.git\\\\objects\\\\2d',\n",
       " 'D://Research//ayush-vision\\\\.git\\\\objects\\\\2e',\n",
       " 'D://Research//ayush-vision\\\\.git\\\\objects\\\\31',\n",
       " 'D://Research//ayush-vision\\\\.git\\\\objects\\\\32',\n",
       " 'D://Research//ayush-vision\\\\.git\\\\objects\\\\33',\n",
       " 'D://Research//ayush-vision\\\\.git\\\\objects\\\\34',\n",
       " 'D://Research//ayush-vision\\\\.git\\\\objects\\\\35',\n",
       " 'D://Research//ayush-vision\\\\.git\\\\objects\\\\36',\n",
       " 'D://Research//ayush-vision\\\\.git\\\\objects\\\\37',\n",
       " 'D://Research//ayush-vision\\\\.git\\\\objects\\\\39',\n",
       " 'D://Research//ayush-vision\\\\.git\\\\objects\\\\3b',\n",
       " 'D://Research//ayush-vision\\\\.git\\\\objects\\\\3e',\n",
       " 'D://Research//ayush-vision\\\\.git\\\\objects\\\\3f',\n",
       " 'D://Research//ayush-vision\\\\.git\\\\objects\\\\40',\n",
       " 'D://Research//ayush-vision\\\\.git\\\\objects\\\\41',\n",
       " 'D://Research//ayush-vision\\\\.git\\\\objects\\\\42',\n",
       " 'D://Research//ayush-vision\\\\.git\\\\objects\\\\44',\n",
       " 'D://Research//ayush-vision\\\\.git\\\\objects\\\\45',\n",
       " 'D://Research//ayush-vision\\\\.git\\\\objects\\\\47',\n",
       " 'D://Research//ayush-vision\\\\.git\\\\objects\\\\48',\n",
       " 'D://Research//ayush-vision\\\\.git\\\\objects\\\\4a',\n",
       " 'D://Research//ayush-vision\\\\.git\\\\objects\\\\4b',\n",
       " 'D://Research//ayush-vision\\\\.git\\\\objects\\\\4c',\n",
       " 'D://Research//ayush-vision\\\\.git\\\\objects\\\\4d',\n",
       " 'D://Research//ayush-vision\\\\.git\\\\objects\\\\4f',\n",
       " 'D://Research//ayush-vision\\\\.git\\\\objects\\\\50',\n",
       " 'D://Research//ayush-vision\\\\.git\\\\objects\\\\52',\n",
       " 'D://Research//ayush-vision\\\\.git\\\\objects\\\\53',\n",
       " 'D://Research//ayush-vision\\\\.git\\\\objects\\\\54',\n",
       " 'D://Research//ayush-vision\\\\.git\\\\objects\\\\55',\n",
       " 'D://Research//ayush-vision\\\\.git\\\\objects\\\\56',\n",
       " 'D://Research//ayush-vision\\\\.git\\\\objects\\\\57',\n",
       " 'D://Research//ayush-vision\\\\.git\\\\objects\\\\58',\n",
       " 'D://Research//ayush-vision\\\\.git\\\\objects\\\\5a',\n",
       " 'D://Research//ayush-vision\\\\.git\\\\objects\\\\5b',\n",
       " 'D://Research//ayush-vision\\\\.git\\\\objects\\\\5c',\n",
       " 'D://Research//ayush-vision\\\\.git\\\\objects\\\\5d',\n",
       " 'D://Research//ayush-vision\\\\.git\\\\objects\\\\5e',\n",
       " 'D://Research//ayush-vision\\\\.git\\\\objects\\\\5f',\n",
       " 'D://Research//ayush-vision\\\\.git\\\\objects\\\\61',\n",
       " 'D://Research//ayush-vision\\\\.git\\\\objects\\\\62',\n",
       " 'D://Research//ayush-vision\\\\.git\\\\objects\\\\64',\n",
       " 'D://Research//ayush-vision\\\\.git\\\\objects\\\\65',\n",
       " 'D://Research//ayush-vision\\\\.git\\\\objects\\\\66',\n",
       " 'D://Research//ayush-vision\\\\.git\\\\objects\\\\67',\n",
       " 'D://Research//ayush-vision\\\\.git\\\\objects\\\\68',\n",
       " 'D://Research//ayush-vision\\\\.git\\\\objects\\\\6a',\n",
       " 'D://Research//ayush-vision\\\\.git\\\\objects\\\\6d',\n",
       " 'D://Research//ayush-vision\\\\.git\\\\objects\\\\6e',\n",
       " 'D://Research//ayush-vision\\\\.git\\\\objects\\\\6f',\n",
       " 'D://Research//ayush-vision\\\\.git\\\\objects\\\\72',\n",
       " 'D://Research//ayush-vision\\\\.git\\\\objects\\\\73',\n",
       " 'D://Research//ayush-vision\\\\.git\\\\objects\\\\75',\n",
       " 'D://Research//ayush-vision\\\\.git\\\\objects\\\\77',\n",
       " 'D://Research//ayush-vision\\\\.git\\\\objects\\\\78',\n",
       " 'D://Research//ayush-vision\\\\.git\\\\objects\\\\79',\n",
       " 'D://Research//ayush-vision\\\\.git\\\\objects\\\\7a',\n",
       " 'D://Research//ayush-vision\\\\.git\\\\objects\\\\7d',\n",
       " 'D://Research//ayush-vision\\\\.git\\\\objects\\\\7e',\n",
       " 'D://Research//ayush-vision\\\\.git\\\\objects\\\\7f',\n",
       " 'D://Research//ayush-vision\\\\.git\\\\objects\\\\80',\n",
       " 'D://Research//ayush-vision\\\\.git\\\\objects\\\\81',\n",
       " 'D://Research//ayush-vision\\\\.git\\\\objects\\\\83',\n",
       " 'D://Research//ayush-vision\\\\.git\\\\objects\\\\84',\n",
       " 'D://Research//ayush-vision\\\\.git\\\\objects\\\\85',\n",
       " 'D://Research//ayush-vision\\\\.git\\\\objects\\\\88',\n",
       " 'D://Research//ayush-vision\\\\.git\\\\objects\\\\89',\n",
       " 'D://Research//ayush-vision\\\\.git\\\\objects\\\\8a',\n",
       " 'D://Research//ayush-vision\\\\.git\\\\objects\\\\8b',\n",
       " 'D://Research//ayush-vision\\\\.git\\\\objects\\\\8c',\n",
       " 'D://Research//ayush-vision\\\\.git\\\\objects\\\\8e',\n",
       " 'D://Research//ayush-vision\\\\.git\\\\objects\\\\8f',\n",
       " 'D://Research//ayush-vision\\\\.git\\\\objects\\\\92',\n",
       " 'D://Research//ayush-vision\\\\.git\\\\objects\\\\93',\n",
       " 'D://Research//ayush-vision\\\\.git\\\\objects\\\\94',\n",
       " 'D://Research//ayush-vision\\\\.git\\\\objects\\\\95',\n",
       " 'D://Research//ayush-vision\\\\.git\\\\objects\\\\96',\n",
       " 'D://Research//ayush-vision\\\\.git\\\\objects\\\\98',\n",
       " 'D://Research//ayush-vision\\\\.git\\\\objects\\\\9a',\n",
       " 'D://Research//ayush-vision\\\\.git\\\\objects\\\\9d',\n",
       " 'D://Research//ayush-vision\\\\.git\\\\objects\\\\a0',\n",
       " 'D://Research//ayush-vision\\\\.git\\\\objects\\\\a1',\n",
       " 'D://Research//ayush-vision\\\\.git\\\\objects\\\\a4',\n",
       " 'D://Research//ayush-vision\\\\.git\\\\objects\\\\a6',\n",
       " 'D://Research//ayush-vision\\\\.git\\\\objects\\\\a7',\n",
       " 'D://Research//ayush-vision\\\\.git\\\\objects\\\\ad',\n",
       " 'D://Research//ayush-vision\\\\.git\\\\objects\\\\af',\n",
       " 'D://Research//ayush-vision\\\\.git\\\\objects\\\\b0',\n",
       " 'D://Research//ayush-vision\\\\.git\\\\objects\\\\b1',\n",
       " 'D://Research//ayush-vision\\\\.git\\\\objects\\\\b3',\n",
       " 'D://Research//ayush-vision\\\\.git\\\\objects\\\\b4',\n",
       " 'D://Research//ayush-vision\\\\.git\\\\objects\\\\b5',\n",
       " 'D://Research//ayush-vision\\\\.git\\\\objects\\\\b8',\n",
       " 'D://Research//ayush-vision\\\\.git\\\\objects\\\\ba',\n",
       " 'D://Research//ayush-vision\\\\.git\\\\objects\\\\be',\n",
       " 'D://Research//ayush-vision\\\\.git\\\\objects\\\\bf',\n",
       " 'D://Research//ayush-vision\\\\.git\\\\objects\\\\c0',\n",
       " 'D://Research//ayush-vision\\\\.git\\\\objects\\\\c1',\n",
       " 'D://Research//ayush-vision\\\\.git\\\\objects\\\\c2',\n",
       " 'D://Research//ayush-vision\\\\.git\\\\objects\\\\c3',\n",
       " 'D://Research//ayush-vision\\\\.git\\\\objects\\\\c5',\n",
       " 'D://Research//ayush-vision\\\\.git\\\\objects\\\\c6',\n",
       " 'D://Research//ayush-vision\\\\.git\\\\objects\\\\c7',\n",
       " 'D://Research//ayush-vision\\\\.git\\\\objects\\\\c8',\n",
       " 'D://Research//ayush-vision\\\\.git\\\\objects\\\\cb',\n",
       " 'D://Research//ayush-vision\\\\.git\\\\objects\\\\cd',\n",
       " 'D://Research//ayush-vision\\\\.git\\\\objects\\\\d0',\n",
       " 'D://Research//ayush-vision\\\\.git\\\\objects\\\\d4',\n",
       " 'D://Research//ayush-vision\\\\.git\\\\objects\\\\d6',\n",
       " 'D://Research//ayush-vision\\\\.git\\\\objects\\\\d8',\n",
       " 'D://Research//ayush-vision\\\\.git\\\\objects\\\\d9',\n",
       " 'D://Research//ayush-vision\\\\.git\\\\objects\\\\db',\n",
       " 'D://Research//ayush-vision\\\\.git\\\\objects\\\\dc',\n",
       " 'D://Research//ayush-vision\\\\.git\\\\objects\\\\de',\n",
       " 'D://Research//ayush-vision\\\\.git\\\\objects\\\\df',\n",
       " 'D://Research//ayush-vision\\\\.git\\\\objects\\\\e1',\n",
       " 'D://Research//ayush-vision\\\\.git\\\\objects\\\\e2',\n",
       " 'D://Research//ayush-vision\\\\.git\\\\objects\\\\e3',\n",
       " 'D://Research//ayush-vision\\\\.git\\\\objects\\\\e4',\n",
       " 'D://Research//ayush-vision\\\\.git\\\\objects\\\\e5',\n",
       " 'D://Research//ayush-vision\\\\.git\\\\objects\\\\e6',\n",
       " 'D://Research//ayush-vision\\\\.git\\\\objects\\\\e9',\n",
       " 'D://Research//ayush-vision\\\\.git\\\\objects\\\\ea',\n",
       " 'D://Research//ayush-vision\\\\.git\\\\objects\\\\eb',\n",
       " 'D://Research//ayush-vision\\\\.git\\\\objects\\\\ec',\n",
       " 'D://Research//ayush-vision\\\\.git\\\\objects\\\\ee',\n",
       " 'D://Research//ayush-vision\\\\.git\\\\objects\\\\f0',\n",
       " 'D://Research//ayush-vision\\\\.git\\\\objects\\\\f1',\n",
       " 'D://Research//ayush-vision\\\\.git\\\\objects\\\\f3',\n",
       " 'D://Research//ayush-vision\\\\.git\\\\objects\\\\f4',\n",
       " 'D://Research//ayush-vision\\\\.git\\\\objects\\\\f5',\n",
       " 'D://Research//ayush-vision\\\\.git\\\\objects\\\\f7',\n",
       " 'D://Research//ayush-vision\\\\.git\\\\objects\\\\f8',\n",
       " 'D://Research//ayush-vision\\\\.git\\\\objects\\\\f9',\n",
       " 'D://Research//ayush-vision\\\\.git\\\\objects\\\\fa',\n",
       " 'D://Research//ayush-vision\\\\.git\\\\objects\\\\fc',\n",
       " 'D://Research//ayush-vision\\\\.git\\\\objects\\\\info',\n",
       " 'D://Research//ayush-vision\\\\.git\\\\objects\\\\pack',\n",
       " 'D://Research//ayush-vision\\\\.git\\\\refs\\\\heads',\n",
       " 'D://Research//ayush-vision\\\\.git\\\\refs\\\\remotes',\n",
       " 'D://Research//ayush-vision\\\\.git\\\\refs\\\\tags',\n",
       " 'D://Research//ayush-vision\\\\.git\\\\refs\\\\remotes\\\\origin',\n",
       " 'D://Research//ayush-vision\\\\Algorithums\\\\detection',\n",
       " 'D://Research//ayush-vision\\\\Algorithums\\\\detection\\\\Yolo',\n",
       " 'D://Research//ayush-vision\\\\DataSet\\\\collection']"
      ]
     },
     "execution_count": 8,
     "metadata": {},
     "output_type": "execute_result"
    }
   ],
   "source": [
    "list_all_subfolders('D://Research//ayush-vision') "
   ]
  },
  {
   "cell_type": "markdown",
   "metadata": {},
   "source": [
    "#### subfolder paths"
   ]
  },
  {
   "cell_type": "code",
   "execution_count": 9,
   "metadata": {},
   "outputs": [
    {
     "data": {
      "text/plain": [
       "['D://Research//ayush-vision\\\\.git',\n",
       " 'D://Research//ayush-vision\\\\Algorithums',\n",
       " 'D://Research//ayush-vision\\\\config',\n",
       " 'D://Research//ayush-vision\\\\DataSet',\n",
       " 'D://Research//ayush-vision\\\\Testing',\n",
       " 'D://Research//ayush-vision\\\\Util']"
      ]
     },
     "execution_count": 9,
     "metadata": {},
     "output_type": "execute_result"
    }
   ],
   "source": [
    "subfolders_path('D://Research//ayush-vision')"
   ]
  },
  {
   "cell_type": "markdown",
   "metadata": {},
   "source": [
    "#### number of files in a folder"
   ]
  },
  {
   "cell_type": "code",
   "execution_count": 10,
   "metadata": {},
   "outputs": [
    {
     "data": {
      "text/plain": [
       "324"
      ]
     },
     "execution_count": 10,
     "metadata": {},
     "output_type": "execute_result"
    }
   ],
   "source": [
    "count_files_in_folder('D://Research//ayush-vision')"
   ]
  },
  {
   "cell_type": "markdown",
   "metadata": {},
   "source": [
    "#### create new Folder"
   ]
  },
  {
   "cell_type": "code",
   "execution_count": 11,
   "metadata": {},
   "outputs": [],
   "source": [
    "create_new_folder(\"D://Research/Testing\")"
   ]
  },
  {
   "cell_type": "markdown",
   "metadata": {},
   "source": [
    "#### create nested folders\n"
   ]
  },
  {
   "cell_type": "code",
   "execution_count": 12,
   "metadata": {},
   "outputs": [],
   "source": [
    "create_new_folders(\"D://Research/Testing1/sub\")"
   ]
  },
  {
   "cell_type": "markdown",
   "metadata": {},
   "source": [
    "#### Delete folder"
   ]
  },
  {
   "cell_type": "code",
   "execution_count": 13,
   "metadata": {},
   "outputs": [],
   "source": [
    "delete_folders(\"D://Research/Testing\")"
   ]
  }
 ],
 "metadata": {
  "kernelspec": {
   "display_name": "Python 3",
   "language": "python",
   "name": "python3"
  },
  "language_info": {
   "codemirror_mode": {
    "name": "ipython",
    "version": 3
   },
   "file_extension": ".py",
   "mimetype": "text/x-python",
   "name": "python",
   "nbconvert_exporter": "python",
   "pygments_lexer": "ipython3",
   "version": "3.12.4"
  }
 },
 "nbformat": 4,
 "nbformat_minor": 2
}
