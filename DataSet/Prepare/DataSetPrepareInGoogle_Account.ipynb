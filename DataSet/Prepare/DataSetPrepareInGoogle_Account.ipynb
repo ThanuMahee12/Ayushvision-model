{
  "nbformat": 4,
  "nbformat_minor": 0,
  "metadata": {
    "colab": {
      "provenance": [],
      "include_colab_link": true
    },
    "kernelspec": {
      "name": "python3",
      "display_name": "Python 3"
    },
    "language_info": {
      "name": "python"
    }
  },
  "cells": [
    {
      "cell_type": "markdown",
      "metadata": {
        "id": "view-in-github",
        "colab_type": "text"
      },
      "source": [
        "<a href=\"https://colab.research.google.com/github/ThanuMahee12/ayush-vision/blob/data-prepare/DataSet/Prepare/DataSetPrepareInGoogle_Account.ipynb\" target=\"_parent\"><img src=\"https://colab.research.google.com/assets/colab-badge.svg\" alt=\"Open In Colab\"/></a>"
      ]
    },
    {
      "cell_type": "markdown",
      "source": [
        "## Colab"
      ],
      "metadata": {
        "id": "yRAdujFDwHSx"
      }
    },
    {
      "cell_type": "code",
      "source": [
        "from google.colab import auth"
      ],
      "metadata": {
        "id": "zhOjl2xfxAb7"
      },
      "execution_count": 2,
      "outputs": []
    },
    {
      "cell_type": "code",
      "source": [
        "from googleapiclient.discovery import build"
      ],
      "metadata": {
        "id": "Y-vwxfKMxKSI"
      },
      "execution_count": 1,
      "outputs": []
    },
    {
      "cell_type": "code",
      "source": [
        "from google.colab import drive"
      ],
      "metadata": {
        "id": "38boXpiAxBmA"
      },
      "execution_count": 3,
      "outputs": []
    },
    {
      "cell_type": "code",
      "source": [
        "drive.mount('/content/drive')"
      ],
      "metadata": {
        "id": "DYZBWDtix78f",
        "outputId": "e50e8e94-c063-4434-b5d3-094ff5ff8e32",
        "colab": {
          "base_uri": "https://localhost:8080/"
        }
      },
      "execution_count": 4,
      "outputs": [
        {
          "output_type": "stream",
          "name": "stdout",
          "text": [
            "Mounted at /content/drive\n"
          ]
        }
      ]
    },
    {
      "cell_type": "code",
      "source": [
        "firebase_key='/content/drive/MyDrive/ServiceKey.json'"
      ],
      "metadata": {
        "id": "GZdLNrDgy-nV"
      },
      "execution_count": 5,
      "outputs": []
    },
    {
      "cell_type": "code",
      "source": [
        "firebase_count=1"
      ],
      "metadata": {
        "id": "A8cfmI97zTg7"
      },
      "execution_count": 13,
      "outputs": []
    },
    {
      "cell_type": "markdown",
      "source": [
        "### user"
      ],
      "metadata": {
        "id": "BBKpdxhiw68G"
      }
    },
    {
      "cell_type": "code",
      "source": [
        "auth.authenticate_user()\n",
        "service = build('oauth2', 'v2')\n",
        "user_info = service.userinfo().get().execute()\n",
        "email = user_info['email']\n",
        "profile=user_info['picture']\n"
      ],
      "metadata": {
        "id": "XtOqIGaZrwc9"
      },
      "execution_count": 6,
      "outputs": []
    },
    {
      "cell_type": "markdown",
      "source": [
        "## Firebase"
      ],
      "metadata": {
        "id": "jBf2MG5iwLqS"
      }
    },
    {
      "cell_type": "code",
      "source": [
        "!pip install firebase-admin"
      ],
      "metadata": {
        "id": "FTNSwya2wdI1"
      },
      "execution_count": null,
      "outputs": []
    },
    {
      "cell_type": "code",
      "source": [
        "import firebase_admin"
      ],
      "metadata": {
        "id": "2ZmZ8wdZydxW"
      },
      "execution_count": 7,
      "outputs": []
    },
    {
      "cell_type": "code",
      "source": [
        "from firebase_admin import credentials,storage\n"
      ],
      "metadata": {
        "id": "mk3obvVcyf_I"
      },
      "execution_count": 8,
      "outputs": []
    },
    {
      "cell_type": "code",
      "source": [
        "from firebase_admin import firestore"
      ],
      "metadata": {
        "id": "udGq691jyj5Y"
      },
      "execution_count": 9,
      "outputs": []
    },
    {
      "cell_type": "code",
      "source": [
        "\n",
        "if firebase_count==1:\n",
        "  cred = credentials.Certificate(firebase_key)\n",
        "  firebase_admin.initialize_app(cred,{\n",
        "    'storageBucket': 'ayush-vision-asw4gh.appspot.com'\n",
        "})\n",
        "firebase_count=firebase_count+1"
      ],
      "metadata": {
        "id": "K9BN_zA9zQ2B"
      },
      "execution_count": 14,
      "outputs": []
    },
    {
      "cell_type": "code",
      "source": [
        "db = firestore.client()"
      ],
      "metadata": {
        "id": "BHxALWW4z9Xc"
      },
      "execution_count": 15,
      "outputs": []
    },
    {
      "cell_type": "code",
      "source": [
        "bucket = storage.bucket()"
      ],
      "metadata": {
        "id": "AsHSO5En0Ayn"
      },
      "execution_count": 17,
      "outputs": []
    },
    {
      "cell_type": "code",
      "source": [
        "dataset_col = db.collection(\"dataset\")"
      ],
      "metadata": {
        "id": "QU2o_Bt50ESo"
      },
      "execution_count": 16,
      "outputs": []
    },
    {
      "cell_type": "markdown",
      "source": [
        "### Default"
      ],
      "metadata": {
        "id": "nc4LUGx-x071"
      }
    },
    {
      "cell_type": "code",
      "source": [
        "import numpy as np\n",
        "import os\n",
        "from datetime import date,datetime\n",
        "import json\n",
        "import csv\n",
        "import yaml"
      ],
      "metadata": {
        "id": "Dbt_VhZIx4MN"
      },
      "execution_count": 18,
      "outputs": []
    },
    {
      "cell_type": "code",
      "source": [
        "def count_images_in_folder(folder_path):\n",
        "    return sum([len(files) for r, d, files in os.walk(folder_path) if any(file.endswith(('.jpg', '.jpeg', '.png')) for file in files)])\n",
        "\n",
        "def dictory_images_count(root_dir):\n",
        "  train_images = count_images_in_folder(os.path.join(root_dir, 'train','images'))\n",
        "  val_images = count_images_in_folder(os.path.join(root_dir, 'valid','images'))\n",
        "  test_images = count_images_in_folder(os.path.join(root_dir, 'test','images'))\n",
        "  total_images = train_images + val_images + test_images\n",
        "  return {\n",
        "      'total_count':total_images,\n",
        "      'val_count':val_images,\n",
        "      'train_count':train_images,\n",
        "      'test_count':test_images\n",
        "  }"
      ],
      "metadata": {
        "id": "vv6jfXOp-Vtl"
      },
      "execution_count": 19,
      "outputs": []
    },
    {
      "cell_type": "markdown",
      "source": [
        "## Yolo"
      ],
      "metadata": {
        "id": "EKcJYIRJrtFk"
      }
    },
    {
      "cell_type": "code",
      "execution_count": 20,
      "metadata": {
        "id": "iNI8uHmBrlqs"
      },
      "outputs": [],
      "source": [
        "Dataset_dir='/content/drive/MyDrive/AyushVision/yolo/dataset'"
      ]
    },
    {
      "cell_type": "code",
      "source": [
        "yolo_doc=dataset_col.document('yolo')\n",
        "doc=yolo_doc.get()"
      ],
      "metadata": {
        "id": "7UXYA-Ukz3mW"
      },
      "execution_count": 21,
      "outputs": []
    },
    {
      "cell_type": "code",
      "source": [
        "if not doc.exists:\n",
        "  doc_ref= db.collection(\"dataset\").document('yolo')\n",
        "  doc_ref.set({'algorithum':'yolo','version':'1','mode':'detection','url':'yolo'})\n",
        "else:\n",
        "  doc_ref= yolo_doc"
      ],
      "metadata": {
        "id": "7zvkgCE-1aln"
      },
      "execution_count": 22,
      "outputs": []
    },
    {
      "cell_type": "code",
      "source": [
        "import os\n",
        "import yaml\n",
        "from collections import defaultdict\n",
        "\n",
        "def load_class_names(yaml_path):\n",
        "    \"\"\"Load class names from data.yaml.\"\"\"\n",
        "    with open(yaml_path, 'r') as file:\n",
        "        data = yaml.safe_load(file)\n",
        "    return {i: value for i, value in enumerate(data['names'])}\n",
        "\n",
        "def map_files_to_classes(base_path, yaml_path):\n",
        "    \"\"\"Map number of files for each class.\"\"\"\n",
        "    class_names = load_class_names(yaml_path)\n",
        "\n",
        "    # Initialize data structures\n",
        "    class_files = defaultdict(lambda: {\n",
        "        'count': 0,\n",
        "        'files': []\n",
        "    })\n",
        "\n",
        "    # Paths to label files\n",
        "    label_paths = {\n",
        "        'train': os.path.join(base_path, 'train', 'labels'),\n",
        "        'test': os.path.join(base_path, 'test', 'labels'),\n",
        "        'valid': os.path.join(base_path, 'valid', 'labels')\n",
        "    }\n",
        "\n",
        "    # Process each label file\n",
        "    for dataset in ['train', 'test', 'valid']:\n",
        "        label_path = label_paths[dataset]\n",
        "        for filename in os.listdir(label_path):\n",
        "            if filename.endswith('.txt'):\n",
        "                image_file = filename.replace('.txt', '.jpg')  # Assuming images are .jpg\n",
        "                label_file = os.path.join(label_path, filename)\n",
        "\n",
        "                with open(label_file, 'r') as file:\n",
        "                    classes = set()\n",
        "                    for line in file:\n",
        "                        parts = line.strip().split()\n",
        "                        class_id = int(parts[0])\n",
        "                        classes.add(class_names.get(class_id, 'unknown'))\n",
        "\n",
        "                for cls in classes:\n",
        "                    class_files[cls]['count'] += 1\n",
        "                    class_files[cls]['files'].append({\n",
        "                        'imagefile': image_file,\n",
        "                        'annotationfile': filename,\n",
        "                        'classes': list(classes)\n",
        "                    })\n",
        "\n",
        "    return class_files\n",
        "\n",
        "# Example usage\n",
        "\n"
      ],
      "metadata": {
        "id": "y3wQYpztQxqN"
      },
      "execution_count": 23,
      "outputs": []
    },
    {
      "cell_type": "markdown",
      "source": [
        "#### Yolo Leaves"
      ],
      "metadata": {
        "id": "4AofJ-we2IpZ"
      }
    },
    {
      "cell_type": "code",
      "source": [
        "yolo_ref_leaves=doc_ref.collection(\"Leaves\")"
      ],
      "metadata": {
        "id": "fje9VeIz17ff"
      },
      "execution_count": 24,
      "outputs": []
    },
    {
      "cell_type": "code",
      "source": [
        "yolo_doc_leave_basic=yolo_ref_leaves.document('basic')"
      ],
      "metadata": {
        "id": "7t6O-OvY2ST7"
      },
      "execution_count": null,
      "outputs": []
    },
    {
      "cell_type": "code",
      "source": [
        "yolo_doc_leave_basic.set({\n",
        "    'account':email,\n",
        "    'profile':profile,\n",
        "})"
      ],
      "metadata": {
        "id": "YY8REIa72l_V",
        "outputId": "e8a1ee5a-5713-40c0-fbf4-9662dc519958",
        "colab": {
          "base_uri": "https://localhost:8080/"
        }
      },
      "execution_count": null,
      "outputs": [
        {
          "output_type": "execute_result",
          "data": {
            "text/plain": [
              "update_time {\n",
              "  seconds: 1725862376\n",
              "  nanos: 280581000\n",
              "}"
            ]
          },
          "metadata": {},
          "execution_count": 23
        }
      ]
    },
    {
      "cell_type": "code",
      "source": [
        "intial_basic_col=yolo_doc_leave_basic.collection(\"Intial\")"
      ],
      "metadata": {
        "id": "mEp4A_LK4D8q"
      },
      "execution_count": null,
      "outputs": []
    },
    {
      "cell_type": "code",
      "source": [
        "subfolders=os.listdir(Dataset_dir)"
      ],
      "metadata": {
        "id": "OsBsgPqP4Sd4"
      },
      "execution_count": null,
      "outputs": []
    },
    {
      "cell_type": "code",
      "source": [
        "total_datasetCount=0\n",
        "names=[]"
      ],
      "metadata": {
        "id": "LvzoodhgG9db"
      },
      "execution_count": null,
      "outputs": []
    },
    {
      "cell_type": "code",
      "source": [
        "for sub in subfolders:\n",
        "  yaml_file=os.path.join(Dataset_dir,sub,'data.yaml')\n",
        "  sub_doc=intial_basic_col.document(sub)\n",
        "  sub_doc_col_util=sub_doc.collection('Util')\n",
        "  sub_doc_col_util_dataYaml=sub_doc_col_util.document('datYaml')\n",
        "  sub_doc_col_util_Dataset_readMe=sub_doc_col_util.document('readme_Dataset')\n",
        "  sub_doc_col_util_roboflow_readMe=sub_doc_col_util.document('readme_roboflow')\n",
        "  dataset_count=dictory_images_count(os.path.join(Dataset_dir,sub))\n",
        "  total_datasetCount=total_datasetCount+dataset_count['total_count']\n",
        "  sub_doc.set(dataset_count)\n",
        "  datasetLines,roboflowlines=[],[]\n",
        "  with open(os.path.join(Dataset_dir,sub,'README.dataset.txt'), \"r\") as file:\n",
        "    datasetLines = file.readlines()\n",
        "  sub_doc_col_util_Dataset_readMe.set({'dataset':datasetLines})\n",
        "  with open(os.path.join(Dataset_dir,sub,'README.roboflow.txt'), \"r\") as file:\n",
        "    roboflowlines = file.readlines()\n",
        "  sub_doc_col_util_roboflow_readMe.set({\n",
        "      'roboflow':roboflowlines\n",
        "  })\n",
        "  with open(yaml_file, 'r') as file:\n",
        "    yaml_content = yaml.safe_load(file)\n",
        "    names.extend(yaml_content['names'])\n",
        "    sub_doc_col_util_dataYaml.set(yaml_content)\n",
        "    sub_doc.update({'names':yaml_content['names'],'no_of_species':yaml_content['nc'],'roboflow':yaml_content['roboflow']})"
      ],
      "metadata": {
        "id": "Z2hvH-rc7V7V"
      },
      "execution_count": null,
      "outputs": []
    },
    {
      "cell_type": "code",
      "source": [
        "yolo_doc_leave_basic.update({\n",
        "    'count':total_datasetCount,\n",
        "    'names':list(set(names))\n",
        "})"
      ],
      "metadata": {
        "id": "aYUw_32LHpwL",
        "outputId": "ab9925b4-ea06-43cf-b1b5-c5237c737fa6",
        "colab": {
          "base_uri": "https://localhost:8080/"
        }
      },
      "execution_count": null,
      "outputs": [
        {
          "output_type": "execute_result",
          "data": {
            "text/plain": [
              "update_time {\n",
              "  seconds: 1725862570\n",
              "  nanos: 231251000\n",
              "}"
            ]
          },
          "metadata": {},
          "execution_count": 28
        }
      ]
    },
    {
      "cell_type": "code",
      "source": [
        "root_path=Dataset_dir\n",
        "for folder in os.listdir(root_path):\n",
        "  base_path =os.path.join(root_path,folder)\n",
        "  yaml_path = os.path.join(base_path,'data.yaml')\n",
        "  class_files = map_files_to_classes(base_path, yaml_path)\n",
        "  sub_doc=intial_basic_col.document(folder)\n",
        "  sub_doc_collection=sub_doc.collection(\"Species\")\n",
        "  for cls, info in class_files.items():\n",
        "    doc=sub_doc_collection.document(cls)\n",
        "    doc.set({\n",
        "        'count':info['count'],\n",
        "        'file_info':info['files']\n",
        "    })"
      ],
      "metadata": {
        "id": "apSSl24jQ1cM",
        "outputId": "eeee4f4c-01b4-454b-dc9f-650c1bf3e4ce",
        "colab": {
          "base_uri": "https://localhost:8080/",
          "height": 211
        }
      },
      "execution_count": null,
      "outputs": [
        {
          "output_type": "error",
          "ename": "NameError",
          "evalue": "name 'Dataset_dir' is not defined",
          "traceback": [
            "\u001b[0;31m---------------------------------------------------------------------------\u001b[0m",
            "\u001b[0;31mNameError\u001b[0m                                 Traceback (most recent call last)",
            "\u001b[0;32m<ipython-input-1-8f2271b20901>\u001b[0m in \u001b[0;36m<cell line: 1>\u001b[0;34m()\u001b[0m\n\u001b[0;32m----> 1\u001b[0;31m \u001b[0mroot_path\u001b[0m\u001b[0;34m=\u001b[0m\u001b[0mDataset_dir\u001b[0m\u001b[0;34m\u001b[0m\u001b[0;34m\u001b[0m\u001b[0m\n\u001b[0m\u001b[1;32m      2\u001b[0m \u001b[0;32mfor\u001b[0m \u001b[0mfolder\u001b[0m \u001b[0;32min\u001b[0m \u001b[0mos\u001b[0m\u001b[0;34m.\u001b[0m\u001b[0mlistdir\u001b[0m\u001b[0;34m(\u001b[0m\u001b[0mroot_path\u001b[0m\u001b[0;34m)\u001b[0m\u001b[0;34m:\u001b[0m\u001b[0;34m\u001b[0m\u001b[0;34m\u001b[0m\u001b[0m\n\u001b[1;32m      3\u001b[0m   \u001b[0mbase_path\u001b[0m \u001b[0;34m=\u001b[0m\u001b[0mos\u001b[0m\u001b[0;34m.\u001b[0m\u001b[0mpath\u001b[0m\u001b[0;34m.\u001b[0m\u001b[0mjoin\u001b[0m\u001b[0;34m(\u001b[0m\u001b[0mroot_path\u001b[0m\u001b[0;34m,\u001b[0m\u001b[0mfolder\u001b[0m\u001b[0;34m)\u001b[0m\u001b[0;34m\u001b[0m\u001b[0;34m\u001b[0m\u001b[0m\n\u001b[1;32m      4\u001b[0m   \u001b[0myaml_path\u001b[0m \u001b[0;34m=\u001b[0m \u001b[0mos\u001b[0m\u001b[0;34m.\u001b[0m\u001b[0mpath\u001b[0m\u001b[0;34m.\u001b[0m\u001b[0mjoin\u001b[0m\u001b[0;34m(\u001b[0m\u001b[0mbase_path\u001b[0m\u001b[0;34m,\u001b[0m\u001b[0;34m'data.yaml'\u001b[0m\u001b[0;34m)\u001b[0m\u001b[0;34m\u001b[0m\u001b[0;34m\u001b[0m\u001b[0m\n\u001b[1;32m      5\u001b[0m   \u001b[0mclass_files\u001b[0m \u001b[0;34m=\u001b[0m \u001b[0mmap_files_to_classes\u001b[0m\u001b[0;34m(\u001b[0m\u001b[0mbase_path\u001b[0m\u001b[0;34m,\u001b[0m \u001b[0myaml_path\u001b[0m\u001b[0;34m)\u001b[0m\u001b[0;34m\u001b[0m\u001b[0;34m\u001b[0m\u001b[0m\n",
            "\u001b[0;31mNameError\u001b[0m: name 'Dataset_dir' is not defined"
          ]
        }
      ]
    },
    {
      "cell_type": "markdown",
      "source": [
        "### Prepare"
      ],
      "metadata": {
        "id": "7vsPRolabQng"
      }
    },
    {
      "cell_type": "code",
      "source": [
        "intial_prepare_col=yolo_doc_leave_basic.collection(\"Prepare\")"
      ],
      "metadata": {
        "id": "eyK2qrlVbXMi"
      },
      "execution_count": null,
      "outputs": []
    },
    {
      "cell_type": "code",
      "source": [
        "Dataset_dir=\"/content/drive/MyDrive/AyushVision/yolo/dataset/final\"\n",
        "yaml_file=os.path.join(Dataset_dir,sub,'data.yaml')\n",
        "sub_doc=intial_prepare_col.document(\"final\")\n",
        "sub_doc_col_util=sub_doc.collection('Util')\n",
        "sub_doc_col_util_dataYaml=sub_doc_col_util.document('datYaml')\n",
        "dataset_count=dictory_images_count(os.path.join(Dataset_dir,sub))\n",
        "total_datasetCount=total_datasetCount+dataset_count['total_count']\n",
        "sub_doc.set(dataset_count)\n",
        "with open(yaml_file, 'r') as file:\n",
        "    yaml_content = yaml.safe_load(file)\n",
        "    names.extend(yaml_content['names'])\n",
        "    sub_doc_col_util_dataYaml.set(yaml_content)\n",
        "    sub_doc.update({'names':yaml_content['names'],'no_of_species':yaml_content['nc'],'roboflow':yaml_content['roboflow']})"
      ],
      "metadata": {
        "id": "aR2D8dMGbw0h"
      },
      "execution_count": null,
      "outputs": []
    },
    {
      "cell_type": "markdown",
      "source": [
        "# Tumber"
      ],
      "metadata": {
        "id": "npSnCza_YfU4"
      }
    },
    {
      "cell_type": "code",
      "source": [
        "yolo_ref_tumbers=doc_ref.collection(\"Tumbers\")"
      ],
      "metadata": {
        "id": "MHzgq6kXYirI"
      },
      "execution_count": null,
      "outputs": []
    },
    {
      "cell_type": "code",
      "source": [
        "yolo_doc_tumber_basic=yolo_ref_tumbers.document('basic')"
      ],
      "metadata": {
        "id": "WWyYw70kZB3B"
      },
      "execution_count": null,
      "outputs": []
    },
    {
      "cell_type": "code",
      "source": [
        "yolo_doc_tumber_basic.set({\n",
        "    'account':email,\n",
        "    'profile':profile,\n",
        "})"
      ],
      "metadata": {
        "id": "Silirz2oZKR_",
        "outputId": "bc18280a-0cc6-493d-91f4-584e63d19a47",
        "colab": {
          "base_uri": "https://localhost:8080/"
        }
      },
      "execution_count": null,
      "outputs": [
        {
          "output_type": "execute_result",
          "data": {
            "text/plain": [
              "update_time {\n",
              "  seconds: 1726247920\n",
              "  nanos: 666678000\n",
              "}"
            ]
          },
          "metadata": {},
          "execution_count": 23
        }
      ]
    },
    {
      "cell_type": "code",
      "source": [
        "intial_basic_col=yolo_doc_tumber_basic.collection(\"Intial\")"
      ],
      "metadata": {
        "id": "x6eSinU8ZVBh"
      },
      "execution_count": null,
      "outputs": []
    },
    {
      "cell_type": "code",
      "source": [
        "subfolders=os.listdir(Dataset_dir)"
      ],
      "metadata": {
        "id": "1acqXc_mZfhK"
      },
      "execution_count": null,
      "outputs": []
    },
    {
      "cell_type": "code",
      "source": [
        "total_datasetCount=0\n",
        "names=[]"
      ],
      "metadata": {
        "id": "evJoPQS0ZkQZ"
      },
      "execution_count": null,
      "outputs": []
    },
    {
      "cell_type": "code",
      "source": [
        "for sub in subfolders:\n",
        "  yaml_file=os.path.join(Dataset_dir,sub,'data.yaml')\n",
        "  sub_doc=intial_basic_col.document(sub)\n",
        "  sub_doc_col_util=sub_doc.collection('Util')\n",
        "  sub_doc_col_util_dataYaml=sub_doc_col_util.document('datYaml')\n",
        "  sub_doc_col_util_Dataset_readMe=sub_doc_col_util.document('readme_Dataset')\n",
        "  sub_doc_col_util_roboflow_readMe=sub_doc_col_util.document('readme_roboflow')\n",
        "  dataset_count=dictory_images_count(os.path.join(Dataset_dir,sub))\n",
        "  total_datasetCount=total_datasetCount+dataset_count['total_count']\n",
        "  sub_doc.set(dataset_count)\n",
        "  datasetLines,roboflowlines=[],[]\n",
        "  with open(os.path.join(Dataset_dir,sub,'README.dataset.txt'), \"r\") as file:\n",
        "    datasetLines = file.readlines()\n",
        "  sub_doc_col_util_Dataset_readMe.set({'dataset':datasetLines})\n",
        "  with open(os.path.join(Dataset_dir,sub,'README.roboflow.txt'), \"r\") as file:\n",
        "    roboflowlines = file.readlines()\n",
        "  sub_doc_col_util_roboflow_readMe.set({\n",
        "      'roboflow':roboflowlines\n",
        "  })\n",
        "  with open(yaml_file, 'r') as file:\n",
        "    yaml_content = yaml.safe_load(file)\n",
        "    names.extend(yaml_content['names'])\n",
        "    sub_doc_col_util_dataYaml.set(yaml_content)\n",
        "    sub_doc.update({'names':yaml_content['names'],'no_of_species':yaml_content['nc'],'roboflow':yaml_content['roboflow']})"
      ],
      "metadata": {
        "id": "CiaXCqkFZpar"
      },
      "execution_count": null,
      "outputs": []
    },
    {
      "cell_type": "code",
      "source": [
        "yolo_doc_tumber_basic.update({\n",
        "    'count':total_datasetCount,\n",
        "    'names':list(set(names))\n",
        "})"
      ],
      "metadata": {
        "id": "us9Z26mQZ_8_",
        "outputId": "c17e9b8d-1020-4b91-8e11-1aad4ee250e4",
        "colab": {
          "base_uri": "https://localhost:8080/"
        }
      },
      "execution_count": null,
      "outputs": [
        {
          "output_type": "execute_result",
          "data": {
            "text/plain": [
              "update_time {\n",
              "  seconds: 1726248158\n",
              "  nanos: 750474000\n",
              "}"
            ]
          },
          "metadata": {},
          "execution_count": 29
        }
      ]
    },
    {
      "cell_type": "code",
      "source": [
        "root_path=Dataset_dir\n",
        "for folder in os.listdir(root_path):\n",
        "  base_path =os.path.join(root_path,folder)\n",
        "  yaml_path = os.path.join(base_path,'data.yaml')\n",
        "  class_files = map_files_to_classes(base_path, yaml_path)\n",
        "  sub_doc=intial_basic_col.document(folder)\n",
        "  sub_doc_collection=sub_doc.collection(\"Species\")\n",
        "  for cls, info in class_files.items():\n",
        "    doc=sub_doc_collection.document(cls)\n",
        "    doc.set({\n",
        "        'count':info['count'],\n",
        "        'file_info':info['files']\n",
        "    })"
      ],
      "metadata": {
        "id": "091tglOVaN-B"
      },
      "execution_count": null,
      "outputs": []
    },
    {
      "cell_type": "markdown",
      "source": [
        "## Prepare"
      ],
      "metadata": {
        "id": "4S4M2s0Fa9Y_"
      }
    },
    {
      "cell_type": "code",
      "source": [
        "intial_prepare_col=yolo_doc_tumber_basic.collection(\"Prepare\")"
      ],
      "metadata": {
        "id": "icktn8MJfgQY"
      },
      "execution_count": null,
      "outputs": []
    },
    {
      "cell_type": "code",
      "source": [
        "Dataset_dir=\"/content/drive/MyDrive/AyushVision/yolo8/dataset/final\"\n",
        "yaml_file=os.path.join(Dataset_dir,'data.yaml')\n",
        "sub_doc=intial_prepare_col.document(\"final\")\n",
        "sub_doc_col_util=sub_doc.collection('Util')\n",
        "sub_doc_col_util_dataYaml=sub_doc_col_util.document('datYaml')\n",
        "dataset_count=dictory_images_count(os.path.join(Dataset_dir,sub))\n",
        "total_datasetCount=total_datasetCount+dataset_count['total_count']\n",
        "sub_doc.set(dataset_count)\n",
        "with open(yaml_file, 'r') as file:\n",
        "    yaml_content = yaml.safe_load(file)\n",
        "    names.extend(yaml_content['names'])\n",
        "    sub_doc_col_util_dataYaml.set(yaml_content)\n",
        "    sub_doc.update({'names':yaml_content['names'],'no_of_species':yaml_content['nc'],'roboflow':yaml_content['roboflow']})"
      ],
      "metadata": {
        "id": "E_-51hgUg-7X"
      },
      "execution_count": null,
      "outputs": []
    },
    {
      "cell_type": "code",
      "source": [
        "base_path =Dataset_dir\n",
        "yaml_path = os.path.join(base_path,'data.yaml')\n",
        "class_files = map_files_to_classes(base_path, yaml_path)\n",
        "sub_doc=intial_prepare_col.document('final')\n",
        "sub_doc_collection=sub_doc.collection(\"Species\")\n",
        "for cls, info in class_files.items():\n",
        "    doc=sub_doc_collection.document(cls)\n",
        "    doc.set({\n",
        "        'count':info['count'],\n",
        "        'file_info':info['files']\n",
        "    })"
      ],
      "metadata": {
        "id": "h3PMDJR6lZz4"
      },
      "execution_count": null,
      "outputs": []
    },
    {
      "cell_type": "markdown",
      "source": [
        "# Yolo Fruits"
      ],
      "metadata": {
        "id": "UEfRGE-X8uOy"
      }
    },
    {
      "cell_type": "code",
      "source": [
        "yolo_ref_tumbers=doc_ref.collection(\"Raw_Fruits\")"
      ],
      "metadata": {
        "id": "BqkQW-G_8woY"
      },
      "execution_count": null,
      "outputs": []
    },
    {
      "cell_type": "code",
      "source": [
        "yolo_doc_tumber_basic=yolo_ref_tumbers.document('basic')"
      ],
      "metadata": {
        "id": "ZuJIreqi84O3"
      },
      "execution_count": null,
      "outputs": []
    },
    {
      "cell_type": "code",
      "source": [
        "yolo_doc_tumber_basic.set({\n",
        "    'account':email,\n",
        "    'profile':profile,\n",
        "})"
      ],
      "metadata": {
        "colab": {
          "base_uri": "https://localhost:8080/"
        },
        "id": "cTYpmc5888Dl",
        "outputId": "35355c4a-fc9d-4483-c073-d47362777bd4"
      },
      "execution_count": null,
      "outputs": [
        {
          "output_type": "execute_result",
          "data": {
            "text/plain": [
              "update_time {\n",
              "  seconds: 1726257359\n",
              "  nanos: 808489000\n",
              "}"
            ]
          },
          "metadata": {},
          "execution_count": 23
        }
      ]
    },
    {
      "cell_type": "code",
      "source": [
        "intial_basic_col=yolo_doc_tumber_basic.collection(\"Intial\")"
      ],
      "metadata": {
        "id": "_vQ7VTB99JsO"
      },
      "execution_count": null,
      "outputs": []
    },
    {
      "cell_type": "code",
      "source": [
        "subfolders=os.listdir(Dataset_dir)"
      ],
      "metadata": {
        "id": "vA35NHkW9UoS"
      },
      "execution_count": null,
      "outputs": []
    },
    {
      "cell_type": "code",
      "source": [
        "subfolders=os.listdir(Dataset_dir)"
      ],
      "metadata": {
        "id": "BQeRtUPj9lKY"
      },
      "execution_count": null,
      "outputs": []
    },
    {
      "cell_type": "code",
      "source": [
        "total_datasetCount=0\n",
        "names=[]"
      ],
      "metadata": {
        "id": "_qapPVIR94xg"
      },
      "execution_count": null,
      "outputs": []
    },
    {
      "cell_type": "code",
      "source": [
        "for sub in subfolders:\n",
        "  yaml_file=os.path.join(Dataset_dir,sub,'data.yaml')\n",
        "  sub_doc=intial_basic_col.document(sub)\n",
        "  sub_doc_col_util=sub_doc.collection('Util')\n",
        "  sub_doc_col_util_dataYaml=sub_doc_col_util.document('datYaml')\n",
        "  sub_doc_col_util_Dataset_readMe=sub_doc_col_util.document('readme_Dataset')\n",
        "  sub_doc_col_util_roboflow_readMe=sub_doc_col_util.document('readme_roboflow')\n",
        "  dataset_count=dictory_images_count(os.path.join(Dataset_dir,sub))\n",
        "  total_datasetCount=total_datasetCount+dataset_count['total_count']\n",
        "  sub_doc.set(dataset_count)\n",
        "  datasetLines,roboflowlines=[],[]\n",
        "  with open(os.path.join(Dataset_dir,sub,'README.dataset.txt'), \"r\") as file:\n",
        "    datasetLines = file.readlines()\n",
        "  sub_doc_col_util_Dataset_readMe.set({'dataset':datasetLines})\n",
        "  with open(os.path.join(Dataset_dir,sub,'README.roboflow.txt'), \"r\") as file:\n",
        "    roboflowlines = file.readlines()\n",
        "  sub_doc_col_util_roboflow_readMe.set({\n",
        "      'roboflow':roboflowlines\n",
        "  })\n",
        "  with open(yaml_file, 'r') as file:\n",
        "    yaml_content = yaml.safe_load(file)\n",
        "    names.extend(yaml_content['names'])\n",
        "    sub_doc_col_util_dataYaml.set(yaml_content)\n",
        "    sub_doc.update({'names':yaml_content['names'],'no_of_species':yaml_content['nc'],'roboflow':yaml_content['roboflow']})"
      ],
      "metadata": {
        "id": "4s3epukT9pfG"
      },
      "execution_count": null,
      "outputs": []
    },
    {
      "cell_type": "code",
      "source": [
        "yolo_doc_tumber_basic.update({\n",
        "    'count':total_datasetCount,\n",
        "    'names':list(set(names))\n",
        "})"
      ],
      "metadata": {
        "colab": {
          "base_uri": "https://localhost:8080/"
        },
        "id": "9edUvYiu90eA",
        "outputId": "8a7d57f7-cae9-4dc2-d577-942782a97f88"
      },
      "execution_count": null,
      "outputs": [
        {
          "output_type": "execute_result",
          "data": {
            "text/plain": [
              "update_time {\n",
              "  seconds: 1726257544\n",
              "  nanos: 885296000\n",
              "}"
            ]
          },
          "metadata": {},
          "execution_count": 32
        }
      ]
    },
    {
      "cell_type": "code",
      "source": [
        "root_path=Dataset_dir\n",
        "for folder in os.listdir(root_path):\n",
        "  base_path =os.path.join(root_path,folder)\n",
        "  yaml_path = os.path.join(base_path,'data.yaml')\n",
        "  class_files = map_files_to_classes(base_path, yaml_path)\n",
        "  sub_doc=intial_basic_col.document(folder)\n",
        "  sub_doc_collection=sub_doc.collection(\"Species\")\n",
        "  for cls, info in class_files.items():\n",
        "    doc=sub_doc_collection.document(cls)\n",
        "    doc.set({\n",
        "        'count':info['count'],\n",
        "        'file_info':info['files']\n",
        "    })"
      ],
      "metadata": {
        "id": "dElSH4Ev-A_2"
      },
      "execution_count": null,
      "outputs": []
    },
    {
      "cell_type": "code",
      "source": [
        "intial_prepare_col=yolo_doc_tumber_basic.collection(\"Prepare\")"
      ],
      "metadata": {
        "id": "qdUdWtNoD6wu"
      },
      "execution_count": null,
      "outputs": []
    },
    {
      "cell_type": "code",
      "source": [
        "Dataset_dir=\"/content/drive/MyDrive/AyushVision/yolo8/dataset/final\"\n",
        "yaml_file=os.path.join(Dataset_dir,'data.yaml')\n",
        "sub_doc=intial_prepare_col.document(\"final\")\n",
        "sub_doc_col_util=sub_doc.collection('Util')\n",
        "sub_doc_col_util_dataYaml=sub_doc_col_util.document('datYaml')\n",
        "dataset_count=dictory_images_count(os.path.join(Dataset_dir,sub))\n",
        "total_datasetCount=total_datasetCount+dataset_count['total_count']\n",
        "sub_doc.set(dataset_count)\n",
        "with open(yaml_file, 'r') as file:\n",
        "    yaml_content = yaml.safe_load(file)\n",
        "    names.extend(yaml_content['names'])\n",
        "    sub_doc_col_util_dataYaml.set(yaml_content)\n",
        "    sub_doc.update({'names':yaml_content['names'],'no_of_species':yaml_content['nc'],'roboflow':yaml_content['roboflow']})"
      ],
      "metadata": {
        "id": "F6D9EToPGXT8"
      },
      "execution_count": null,
      "outputs": []
    },
    {
      "cell_type": "code",
      "source": [
        "base_path =Dataset_dir\n",
        "yaml_path = os.path.join(base_path,'data.yaml')\n",
        "class_files = map_files_to_classes(base_path, yaml_path)\n",
        "sub_doc=intial_prepare_col.document('final')\n",
        "sub_doc_collection=sub_doc.collection(\"Species\")\n",
        "for cls, info in class_files.items():\n",
        "    doc=sub_doc_collection.document(cls)\n",
        "    doc.set({\n",
        "        'count':info['count'],\n",
        "        'file_info':info['files']\n",
        "    })"
      ],
      "metadata": {
        "id": "cmDXp7PDH7GE"
      },
      "execution_count": null,
      "outputs": []
    },
    {
      "cell_type": "markdown",
      "source": [
        "## Yolo Plants"
      ],
      "metadata": {
        "id": "SBsDJENvnK0L"
      }
    },
    {
      "cell_type": "code",
      "source": [
        "yolo_ref_tumbers=doc_ref.collection(\"Plants\")"
      ],
      "metadata": {
        "id": "Ms7C4mHjnQ4P"
      },
      "execution_count": 25,
      "outputs": []
    },
    {
      "cell_type": "code",
      "source": [
        "yolo_doc_tumber_basic=yolo_ref_tumbers.document('basic')"
      ],
      "metadata": {
        "id": "OK7zp_oYu9cn"
      },
      "execution_count": 26,
      "outputs": []
    },
    {
      "cell_type": "code",
      "source": [
        "yolo_doc_tumber_basic.set({\n",
        "    'account':email,\n",
        "    'profile':profile,\n",
        "})"
      ],
      "metadata": {
        "colab": {
          "base_uri": "https://localhost:8080/"
        },
        "id": "Ms49i7vZvBu3",
        "outputId": "00770197-5c0b-40c2-b7cf-4f91111364b4"
      },
      "execution_count": null,
      "outputs": [
        {
          "output_type": "execute_result",
          "data": {
            "text/plain": [
              "update_time {\n",
              "  seconds: 1726400691\n",
              "  nanos: 874615000\n",
              "}"
            ]
          },
          "metadata": {},
          "execution_count": 23
        }
      ]
    },
    {
      "cell_type": "code",
      "source": [
        "intial_basic_col=yolo_doc_tumber_basic.collection(\"Intial\")"
      ],
      "metadata": {
        "id": "9hW9OPd_vHFW"
      },
      "execution_count": 27,
      "outputs": []
    },
    {
      "cell_type": "code",
      "source": [
        "subfolders=os.listdir(Dataset_dir)"
      ],
      "metadata": {
        "id": "vSCTK-LzvLFf"
      },
      "execution_count": 28,
      "outputs": []
    },
    {
      "cell_type": "code",
      "source": [
        "subfolders"
      ],
      "metadata": {
        "colab": {
          "base_uri": "https://localhost:8080/"
        },
        "id": "ikz_8kL9x8Tc",
        "outputId": "54f9ad6e-d6c9-4f67-b887-2dbecf3ad8be"
      },
      "execution_count": 29,
      "outputs": [
        {
          "output_type": "execute_result",
          "data": {
            "text/plain": [
              "['ayushvision_plants-2lgbz', 'ayushvision_plants', 'ayushvision_plant']"
            ]
          },
          "metadata": {},
          "execution_count": 29
        }
      ]
    },
    {
      "cell_type": "code",
      "source": [
        "total_datasetCount=0\n",
        "names=[]"
      ],
      "metadata": {
        "id": "uIjydoBcvsSG"
      },
      "execution_count": 30,
      "outputs": []
    },
    {
      "cell_type": "code",
      "source": [
        "for sub in subfolders:\n",
        "  yaml_file=os.path.join(Dataset_dir,sub,'data.yaml')\n",
        "  sub_doc=intial_basic_col.document(sub)\n",
        "  sub_doc_col_util=sub_doc.collection('Util')\n",
        "  sub_doc_col_util_dataYaml=sub_doc_col_util.document('datYaml')\n",
        "  sub_doc_col_util_Dataset_readMe=sub_doc_col_util.document('readme_Dataset')\n",
        "  sub_doc_col_util_roboflow_readMe=sub_doc_col_util.document('readme_roboflow')\n",
        "  dataset_count=dictory_images_count(os.path.join(Dataset_dir,sub))\n",
        "  total_datasetCount=total_datasetCount+dataset_count['total_count']\n",
        "  sub_doc.set(dataset_count)\n",
        "  datasetLines,roboflowlines=[],[]\n",
        "  with open(os.path.join(Dataset_dir,sub,'README.dataset.txt'), \"r\") as file:\n",
        "    datasetLines = file.readlines()\n",
        "  sub_doc_col_util_Dataset_readMe.set({'dataset':datasetLines})\n",
        "  with open(os.path.join(Dataset_dir,sub,'README.roboflow.txt'), \"r\") as file:\n",
        "    roboflowlines = file.readlines()\n",
        "  sub_doc_col_util_roboflow_readMe.set({\n",
        "      'roboflow':roboflowlines\n",
        "  })\n",
        "  with open(yaml_file, 'r') as file:\n",
        "    yaml_content = yaml.safe_load(file)\n",
        "    names.extend(yaml_content['names'])\n",
        "    sub_doc_col_util_dataYaml.set(yaml_content)\n",
        "    sub_doc.update({'names':yaml_content['names'],'no_of_species':yaml_content['nc'],'roboflow':yaml_content['roboflow']})"
      ],
      "metadata": {
        "id": "dlSZE28Qvvvl"
      },
      "execution_count": 31,
      "outputs": []
    },
    {
      "cell_type": "code",
      "source": [
        "speciescount={}"
      ],
      "metadata": {
        "id": "zhOUzffZyFam"
      },
      "execution_count": 33,
      "outputs": []
    },
    {
      "cell_type": "code",
      "source": [
        "root_path=Dataset_dir\n",
        "for folder in os.listdir(root_path):\n",
        "  base_path =os.path.join(root_path,folder)\n",
        "  yaml_path = os.path.join(base_path,'data.yaml')\n",
        "  class_files = map_files_to_classes(base_path, yaml_path)\n",
        "  sub_doc=intial_basic_col.document(folder)\n",
        "  sub_doc_collection=sub_doc.collection(\"Species\")\n",
        "  for cls, info in class_files.items():\n",
        "    doc=sub_doc_collection.document(cls)\n",
        "    doc.set({\n",
        "        'count':info['count'],\n",
        "        'file_info':info['files']\n",
        "    })\n",
        "    speciescount[cls]=speciescount.get(cls,0)+info['count']"
      ],
      "metadata": {
        "id": "CWVIszaDv7Py"
      },
      "execution_count": 36,
      "outputs": []
    },
    {
      "cell_type": "code",
      "source": [
        "yolo_doc_tumber_basic.update({\n",
        "    'intial':{\n",
        "         'count':total_datasetCount,\n",
        "    'names':list(set(names)),\n",
        "         'species_count':speciescount,\n",
        "         'species':list(speciescount.keys()),\n",
        "         'number_of_species':len(speciescount.keys())\n",
        "    }\n",
        "\n",
        "})"
      ],
      "metadata": {
        "colab": {
          "base_uri": "https://localhost:8080/"
        },
        "id": "VsFAS0rXv2at",
        "outputId": "3b5c51a9-22a7-4439-f1d0-a48b510e43f3"
      },
      "execution_count": 38,
      "outputs": [
        {
          "output_type": "execute_result",
          "data": {
            "text/plain": [
              "update_time {\n",
              "  seconds: 1726709795\n",
              "  nanos: 756000000\n",
              "}"
            ]
          },
          "metadata": {},
          "execution_count": 38
        }
      ]
    },
    {
      "cell_type": "code",
      "source": [
        "intial_intermediate_col=yolo_doc_tumber_basic.collection(\"Intermediate\")"
      ],
      "metadata": {
        "id": "j44G9HFix3En"
      },
      "execution_count": null,
      "outputs": []
    },
    {
      "cell_type": "code",
      "source": [
        "subfolders=os.listdir(Dataset_dir)\n",
        "subfolders\n",
        "total_datasetCount=0\n",
        "names=[]"
      ],
      "metadata": {
        "id": "CcEj34Du14hW"
      },
      "execution_count": null,
      "outputs": []
    },
    {
      "cell_type": "code",
      "source": [
        "for sub in subfolders:\n",
        "  yaml_file=os.path.join(Dataset_dir,sub,'data.yaml')\n",
        "  sub_doc=intial_intermediate_col.document(sub)\n",
        "  sub_doc_col_util=sub_doc.collection('Util')\n",
        "  sub_doc_col_util_dataYaml=sub_doc_col_util.document('datYaml')\n",
        "  sub_doc_col_util_Dataset_readMe=sub_doc_col_util.document('readme_Dataset')\n",
        "  sub_doc_col_util_roboflow_readMe=sub_doc_col_util.document('readme_roboflow')\n",
        "  dataset_count=dictory_images_count(os.path.join(Dataset_dir,sub))\n",
        "  total_datasetCount=total_datasetCount+dataset_count['total_count']\n",
        "  sub_doc.set(dataset_count)\n",
        "  with open(yaml_file, 'r') as file:\n",
        "    yaml_content = yaml.safe_load(file)\n",
        "    names.extend(yaml_content['names'])\n",
        "    sub_doc_col_util_dataYaml.set(yaml_content)\n",
        "    sub_doc.update({'names':yaml_content['names'],'no_of_species':yaml_content['nc'],'roboflow':yaml_content['roboflow']})"
      ],
      "metadata": {
        "id": "qgn0H52a2PYq"
      },
      "execution_count": null,
      "outputs": []
    },
    {
      "cell_type": "code",
      "source": [
        "speciespreparecount={}"
      ],
      "metadata": {
        "id": "SPiUUu_o3vt1"
      },
      "execution_count": null,
      "outputs": []
    },
    {
      "cell_type": "code",
      "source": [
        "root_path=Dataset_dir\n",
        "for folder in os.listdir(root_path):\n",
        "  base_path =os.path.join(root_path,folder)\n",
        "  yaml_path = os.path.join(base_path,'data.yaml')\n",
        "  class_files = map_files_to_classes(base_path, yaml_path)\n",
        "  sub_doc=intial_intermediate_col.document(folder)\n",
        "  sub_doc_collection=sub_doc.collection(\"Species\")\n",
        "  for cls, info in class_files.items():\n",
        "    doc=sub_doc_collection.document(cls)\n",
        "    doc.set({\n",
        "        'count':info['count'],\n",
        "        'file_info':info['files']\n",
        "    })\n",
        "    speciespreparecount[cls]=speciespreparecount.get(cls,0)+info['count']"
      ],
      "metadata": {
        "id": "fkyjSc9130st"
      },
      "execution_count": null,
      "outputs": []
    },
    {
      "cell_type": "code",
      "source": [
        "yolo_doc_tumber_basic.update({\n",
        "    'intial':{\n",
        "         'count':total_datasetCount,\n",
        "    'names':list(set(names)),\n",
        "         'species_count':speciescount\n",
        "    }\n",
        "\n",
        "})"
      ],
      "metadata": {
        "id": "5Z5pyBPI2pjD"
      },
      "execution_count": null,
      "outputs": []
    },
    {
      "cell_type": "code",
      "source": [
        "intial_prepare_col=yolo_doc_tumber_basic.collection(\"Prepare\")"
      ],
      "metadata": {
        "id": "8foswRtkLtGQ"
      },
      "execution_count": null,
      "outputs": []
    },
    {
      "cell_type": "code",
      "source": [
        "Dataset_dir=\"/content/drive/MyDrive/AyushVision/yolo/final\"\n",
        "yaml_file=os.path.join(Dataset_dir,'data.yaml')\n",
        "sub_doc=intial_prepare_col.document(\"final\")\n",
        "sub_doc_col_util=sub_doc.collection('Util')\n",
        "sub_doc_col_util_dataYaml=sub_doc_col_util.document('datYaml')\n",
        "dataset_count=dictory_images_count(os.path.join(Dataset_dir))\n",
        "total_datasetCount=total_datasetCount+dataset_count['total_count']\n",
        "sub_doc.set(dataset_count)\n",
        "with open(yaml_file, 'r') as file:\n",
        "    yaml_content = yaml.safe_load(file)\n",
        "    names.extend(yaml_content['names'])\n",
        "    sub_doc_col_util_dataYaml.set(yaml_content)\n",
        "    sub_doc.update({'names':yaml_content['names'],'no_of_species':yaml_content['nc'],'roboflow':yaml_content['roboflow']})"
      ],
      "metadata": {
        "id": "WOOiFQsyLyKA"
      },
      "execution_count": null,
      "outputs": []
    },
    {
      "cell_type": "code",
      "source": [
        "base_path =Dataset_dir\n",
        "yaml_path = os.path.join(base_path,'data.yaml')\n",
        "class_files = map_files_to_classes(base_path, yaml_path)\n",
        "sub_doc=intial_prepare_col.document('final')\n",
        "sub_doc_collection=sub_doc.collection(\"Species\")\n",
        "for cls, info in class_files.items():\n",
        "    doc=sub_doc_collection.document(cls)\n",
        "    doc.set({\n",
        "        'count':info['count'],\n",
        "        'file_info':info['files']\n",
        "    })"
      ],
      "metadata": {
        "id": "U4tcYjlVMM71"
      },
      "execution_count": null,
      "outputs": []
    }
  ]
}