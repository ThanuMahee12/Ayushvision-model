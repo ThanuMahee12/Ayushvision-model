{
 "cells": [
  {
   "cell_type": "markdown",
   "metadata": {},
   "source": [
    "# Roboflow Anotation File Edit "
   ]
  },
  {
   "cell_type": "code",
   "execution_count": 1,
   "metadata": {},
   "outputs": [],
   "source": [
    "import os"
   ]
  },
  {
   "cell_type": "code",
   "execution_count": 2,
   "metadata": {},
   "outputs": [],
   "source": [
    "dataset_root='D:\\\\Research\\\\ayushVision_flowers'"
   ]
  },
  {
   "cell_type": "code",
   "execution_count": 3,
   "metadata": {},
   "outputs": [],
   "source": [
    "dirctories=list(map(lambda item: os.path.join(dataset_root,item,'labels'),['train','test','valid']))"
   ]
  },
  {
   "cell_type": "code",
   "execution_count": 19,
   "metadata": {},
   "outputs": [],
   "source": [
    "def modify_label_file(file_path, increasenumber):\n",
    "    # Read the file content line by line\n",
    "    with open(file_path, 'r') as file:\n",
    "        lines = file.readlines()\n",
    "    \n",
    "    # Replace the first number in each line with the new number\n",
    "    updated_lines = []\n",
    "    for line in lines:\n",
    "        parts = line.split(maxsplit=1)  # Split only on the first space\n",
    "        if len(parts) > 1:\n",
    "            updated_line = f\"{int(parts[0])+increasenumber} {parts[1]}\"\n",
    "        else:\n",
    "            updated_line = f\"{int(parts[0])+increasenumber}\"\n",
    "        updated_lines.append(updated_line)\n",
    "    \n",
    "    # Write the updated content back to the file\n",
    "    with open(file_path, 'w') as file:\n",
    "        file.writelines(updated_lines)"
   ]
  },
  {
   "cell_type": "code",
   "execution_count": 20,
   "metadata": {},
   "outputs": [],
   "source": [
    "\n",
    "def process_directory(directory_path, increasenum):\n",
    "    # Loop through all files in the directory\n",
    "    for filename in os.listdir(directory_path):\n",
    "        if filename.endswith('.txt'):  # Process only .txt files\n",
    "            file_path = os.path.join(directory_path, filename)\n",
    "            modify_label_file(file_path, increasenum)\n",
    "            print(f\"Processed file: {filename}\")\n",
    "                "
   ]
  },
  {
   "cell_type": "code",
   "execution_count": null,
   "metadata": {},
   "outputs": [],
   "source": [
    "for dir in dirctories:\n",
    "    process_directory(dir,10)"
   ]
  }
 ],
 "metadata": {
  "kernelspec": {
   "display_name": "Python 3",
   "language": "python",
   "name": "python3"
  },
  "language_info": {
   "codemirror_mode": {
    "name": "ipython",
    "version": 3
   },
   "file_extension": ".py",
   "mimetype": "text/x-python",
   "name": "python",
   "nbconvert_exporter": "python",
   "pygments_lexer": "ipython3",
   "version": "3.12.5"
  }
 },
 "nbformat": 4,
 "nbformat_minor": 2
}
