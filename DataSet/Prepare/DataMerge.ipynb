{
 "cells": [
  {
   "cell_type": "code",
   "execution_count": null,
   "metadata": {},
   "outputs": [],
   "source": [
    "import os\n",
    "import shutil"
   ]
  },
  {
   "cell_type": "code",
   "execution_count": null,
   "metadata": {},
   "outputs": [],
   "source": [
    "source_file=''\n",
    "target_folder=''"
   ]
  },
  {
   "cell_type": "code",
   "execution_count": null,
   "metadata": {},
   "outputs": [],
   "source": [
    "subfolders=['train','test','val']"
   ]
  },
  {
   "cell_type": "code",
   "execution_count": null,
   "metadata": {},
   "outputs": [],
   "source": [
    "for subfolder in subfolders:\n",
    "    sourcepath=os.path.join(source_file,subfolder)\n",
    "    target_folder=os.path.join(target_folder,subfolder)\n",
    "    sourceimages_path=os.path.join(sourcepath,'images')\n",
    "    targetimages_path=os.path.join(target_folder,'images')\n",
    "    sourcelabel_path=os.path.join(sourcepath,'labels')\n",
    "    targetlabel_path=os.path.join(target_folder,'labels')\n",
    "    for item in os.listdir(sourceimages_path):\n",
    "        src_item = os.path.join(sourceimages_path, item)\n",
    "        dest_item = os.path.join(targetimages_path, item)\n",
    "        shutil.move(src_item, dest_item)\n",
    "    for item in os.listdir(sourcelabel_path):\n",
    "        src_item = os.path.join(sourcelabel_path, item)\n",
    "        dest_item = os.path.join(targetlabel_path, item)\n",
    "        shutil.move(src_item, dest_item)"
   ]
  }
 ],
 "metadata": {
  "language_info": {
   "name": "python"
  }
 },
 "nbformat": 4,
 "nbformat_minor": 2
}
