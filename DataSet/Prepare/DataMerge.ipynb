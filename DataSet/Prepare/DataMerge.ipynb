{
  "cells": [
    {
      "cell_type": "markdown",
      "metadata": {
        "id": "view-in-github",
        "colab_type": "text"
      },
      "source": [
        "<a href=\"https://colab.research.google.com/github/ThanuMahee12/ayush-vision/blob/data-prepare/DataSet/Prepare/DataMerge.ipynb\" target=\"_parent\"><img src=\"https://colab.research.google.com/assets/colab-badge.svg\" alt=\"Open In Colab\"/></a>"
      ]
    },
    {
      "cell_type": "code",
      "execution_count": 1,
      "metadata": {
        "id": "UsZZ-LUyeeg1"
      },
      "outputs": [],
      "source": [
        "import os\n",
        "import shutil"
      ]
    },
    {
      "cell_type": "code",
      "source": [
        "from google.colab import drive\n",
        "drive.mount('/content/drive')"
      ],
      "metadata": {
        "id": "kkLhgdQGemD9",
        "outputId": "d6310012-86f8-45b4-fdc5-507ddfcf779f",
        "colab": {
          "base_uri": "https://localhost:8080/"
        }
      },
      "execution_count": 2,
      "outputs": [
        {
          "output_type": "stream",
          "name": "stdout",
          "text": [
            "Mounted at /content/drive\n"
          ]
        }
      ]
    },
    {
      "cell_type": "code",
      "execution_count": 3,
      "metadata": {
        "id": "SUUU02dxeeg3"
      },
      "outputs": [],
      "source": [
        "source_file='/content/drive/MyDrive/AyushVision/yolo8/dataset/ayushvision_rawfruit'\n",
        "target_folder='/content/drive/MyDrive/AyushVision/yolo8/dataset/ayushvision_fruits'"
      ]
    },
    {
      "cell_type": "code",
      "execution_count": 4,
      "metadata": {
        "id": "v-1gRtzIeeg3"
      },
      "outputs": [],
      "source": [
        "subfolders=['train','test','valid']"
      ]
    },
    {
      "cell_type": "code",
      "execution_count": 5,
      "metadata": {
        "id": "ijBQGV2Reeg3"
      },
      "outputs": [],
      "source": [
        "for subfolder in subfolders:\n",
        "    sourcepath=os.path.join(source_file,subfolder)\n",
        "    targetpath=os.path.join(target_folder,subfolder)\n",
        "    if os.path.exists(sourcepath):\n",
        "      for folder in ['images','labels']:\n",
        "        source=os.path.join(sourcepath,folder)\n",
        "        target=os.path.join(targetpath,folder)\n",
        "        if not os.path.exists(target):\n",
        "          os.makedirs(target)\n",
        "        for file in os.listdir(source):\n",
        "          os.rename(os.path.join(source,file),os.path.join(target,file))\n"
      ]
    }
  ],
  "metadata": {
    "language_info": {
      "name": "python"
    },
    "colab": {
      "provenance": [],
      "include_colab_link": true
    },
    "kernelspec": {
      "name": "python3",
      "display_name": "Python 3"
    }
  },
  "nbformat": 4,
  "nbformat_minor": 0
}