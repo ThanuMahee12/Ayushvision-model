{
  "cells": [
    {
      "cell_type": "markdown",
      "metadata": {
        "id": "view-in-github",
        "colab_type": "text"
      },
      "source": [
        "<a href=\"https://colab.research.google.com/github/ThanuMahee12/ayush-vision/blob/data-prepare/DataSet/Prepare/DataMerge.ipynb\" target=\"_parent\"><img src=\"https://colab.research.google.com/assets/colab-badge.svg\" alt=\"Open In Colab\"/></a>"
      ]
    },
    {
      "cell_type": "code",
      "execution_count": 21,
      "metadata": {
        "id": "UsZZ-LUyeeg1"
      },
      "outputs": [],
      "source": [
        "import os\n",
        "import shutil"
      ]
    },
    {
      "cell_type": "code",
      "source": [
        "from google.colab import drive\n",
        "drive.mount('/content/drive')"
      ],
      "metadata": {
        "id": "kkLhgdQGemD9",
        "outputId": "239a368d-c5a0-4437-bfd8-34d253decebb",
        "colab": {
          "base_uri": "https://localhost:8080/"
        }
      },
      "execution_count": 22,
      "outputs": [
        {
          "output_type": "stream",
          "name": "stdout",
          "text": [
            "Drive already mounted at /content/drive; to attempt to forcibly remount, call drive.mount(\"/content/drive\", force_remount=True).\n"
          ]
        }
      ]
    },
    {
      "cell_type": "code",
      "execution_count": 23,
      "metadata": {
        "id": "SUUU02dxeeg3"
      },
      "outputs": [],
      "source": [
        "source_file='/content/drive/MyDrive/AyushVision/yolo8/dataset/ayushvision_fruits'\n",
        "target_folder='/content/drive/MyDrive/AyushVision/yolo8/dataset/ayushvision_rawfruit'"
      ]
    },
    {
      "cell_type": "code",
      "execution_count": 24,
      "metadata": {
        "id": "v-1gRtzIeeg3"
      },
      "outputs": [],
      "source": [
        "subfolders=['train','test','valid']"
      ]
    },
    {
      "cell_type": "code",
      "execution_count": 31,
      "metadata": {
        "id": "ijBQGV2Reeg3"
      },
      "outputs": [],
      "source": [
        "for subfolder in subfolders:\n",
        "    sourcepath=os.path.join(source_file,subfolder)\n",
        "    targetpath=os.path.join(target_folder,subfolder)\n",
        "    if os.path.exists(sourcepath):\n",
        "      for folder in ['images','labels']:\n",
        "        source=os.path.join(sourcepath,folder)\n",
        "        target=os.path.join(targetpath,folder)\n",
        "        if not os.path.exists(target):\n",
        "          os.makedirs(target)\n",
        "        for file in os.listdir(source):\n",
        "          os.rename(os.path.join(source,file),os.path.join(target,file))\n",
        ""
      ]
    }
  ],
  "metadata": {
    "language_info": {
      "name": "python"
    },
    "colab": {
      "provenance": [],
      "include_colab_link": true
    },
    "kernelspec": {
      "name": "python3",
      "display_name": "Python 3"
    }
  },
  "nbformat": 4,
  "nbformat_minor": 0
}