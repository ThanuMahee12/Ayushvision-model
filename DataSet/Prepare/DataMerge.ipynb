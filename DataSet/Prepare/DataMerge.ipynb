{
  "cells": [
    {
      "cell_type": "markdown",
      "metadata": {
        "id": "view-in-github",
        "colab_type": "text"
      },
      "source": [
        "<a href=\"https://colab.research.google.com/github/ThanuMahee12/ayush-vision/blob/data-prepare/DataSet/Prepare/DataMerge.ipynb\" target=\"_parent\"><img src=\"https://colab.research.google.com/assets/colab-badge.svg\" alt=\"Open In Colab\"/></a>"
      ]
    },
    {
      "cell_type": "code",
      "execution_count": 12,
      "metadata": {
        "id": "UsZZ-LUyeeg1"
      },
      "outputs": [],
      "source": [
        "import os\n",
        "import shutil"
      ]
    },
    {
      "cell_type": "code",
      "source": [
        "from google.colab import drive\n",
        "drive.mount('/content/drive')"
      ],
      "metadata": {
        "id": "kkLhgdQGemD9",
        "outputId": "a09258ef-bce4-4689-fe5d-436dd0597520",
        "colab": {
          "base_uri": "https://localhost:8080/"
        }
      },
      "execution_count": 2,
      "outputs": [
        {
          "output_type": "stream",
          "name": "stdout",
          "text": [
            "Mounted at /content/drive\n"
          ]
        }
      ]
    },
    {
      "cell_type": "code",
      "execution_count": 13,
      "metadata": {
        "id": "SUUU02dxeeg3"
      },
      "outputs": [],
      "source": [
        "source_file='/content/drive/MyDrive/AyushVision/yolo8/dataset/ayushvision_fruits'\n",
        "target_folder='/content/drive/MyDrive/AyushVision/yolo8/dataset/ayushvision_rawfruit'"
      ]
    },
    {
      "cell_type": "code",
      "execution_count": 14,
      "metadata": {
        "id": "v-1gRtzIeeg3"
      },
      "outputs": [],
      "source": [
        "subfolders=['train','test','valid']"
      ]
    },
    {
      "cell_type": "code",
      "execution_count": 17,
      "metadata": {
        "id": "ijBQGV2Reeg3",
        "outputId": "64009bb9-94e6-4e5a-aa3b-df29fa7ceeed",
        "colab": {
          "base_uri": "https://localhost:8080/"
        }
      },
      "outputs": [
        {
          "output_type": "stream",
          "name": "stdout",
          "text": [
            "/content/drive/MyDrive/AyushVision/yolo8/dataset/ayushvision_fruits/valid/images\n",
            "/content/drive/MyDrive/AyushVision/yolo8/dataset/ayushvision_rawfruit/train/test/valid/train/test/valid/train/test/valid/images\n",
            "/content/drive/MyDrive/AyushVision/yolo8/dataset/ayushvision_fruits/valid/labels\n",
            "/content/drive/MyDrive/AyushVision/yolo8/dataset/ayushvision_rawfruit/train/test/valid/train/test/valid/train/test/valid/labels\n"
          ]
        }
      ],
      "source": [
        "for subfolder in subfolders:\n",
        "    sourcepath=os.path.join(source_file,subfolder)\n",
        "    target_folder=os.path.join(target_folder,subfolder)\n",
        "    if os.path.exists(sourcepath):\n",
        "      sourceimages_path=os.path.join(sourcepath,'images')\n",
        "      targetimages_path=os.path.join(target_folder,'images')\n",
        "      sourcelabel_path=os.path.join(sourcepath,'labels')\n",
        "      targetlabel_path=os.path.join(target_folder,'labels')\n",
        "      print(sourceimages_path)\n",
        "      print(targetimages_path)\n",
        "      print(sourcelabel_path)\n",
        "      print(targetlabel_path)\n",
        "      # for item in os.listdir(sourceimages_path):\n",
        "      #     src_item = os.path.join(sourceimages_path, item)\n",
        "      #     dest_item = os.path.join(targetimages_path, item)\n",
        "      #     shutil.move(src_item, dest_item)\n",
        "      # for item in os.listdir(sourcelabel_path):\n",
        "      #     src_item = os.path.join(sourcelabel_path, item)\n",
        "      #     dest_item = os.path.join(targetlabel_path, item)\n",
        "      #     shutil.move(src_item, dest_item)\n",
        "    else:\n",
        "      pass"
      ]
    }
  ],
  "metadata": {
    "language_info": {
      "name": "python"
    },
    "colab": {
      "provenance": [],
      "include_colab_link": true
    },
    "kernelspec": {
      "name": "python3",
      "display_name": "Python 3"
    }
  },
  "nbformat": 4,
  "nbformat_minor": 0
}