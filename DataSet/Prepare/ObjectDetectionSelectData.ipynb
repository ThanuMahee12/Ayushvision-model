{
 "cells": [
  {
   "cell_type": "markdown",
   "metadata": {},
   "source": [
    "# Object Detetection Data Preparation"
   ]
  },
  {
   "cell_type": "markdown",
   "metadata": {},
   "source": [
    "in RoboFlow We use the Object Detection Models We Get Image \n",
    "<ol>\n",
    "<li>plats-600</li>\n",
    "<li>leafs-500</li>\n",
    "<li>flowers-200</li>\n",
    "<li>root-200</li>\n",
    "</ol>\n"
   ]
  },
  {
   "cell_type": "markdown",
   "metadata": {},
   "source": [
    "## Imports"
   ]
  },
  {
   "cell_type": "markdown",
   "metadata": {},
   "source": [
    "### Gentral"
   ]
  },
  {
   "cell_type": "code",
   "execution_count": 1,
   "metadata": {},
   "outputs": [],
   "source": [
    "import os\n",
    "import numpy as np\n",
    "import pandas as py"
   ]
  },
  {
   "cell_type": "code",
   "execution_count": 2,
   "metadata": {},
   "outputs": [
    {
     "name": "stdout",
     "output_type": "stream",
     "text": [
      "created\n"
     ]
    }
   ],
   "source": [
    "%run ../../Util/FileFolder"
   ]
  },
  {
   "cell_type": "code",
   "execution_count": 3,
   "metadata": {},
   "outputs": [],
   "source": [
    "%run ../../Util/Variable"
   ]
  },
  {
   "cell_type": "code",
   "execution_count": 4,
   "metadata": {},
   "outputs": [],
   "source": [
    "%run ../../Util/ImageProcessing"
   ]
  },
  {
   "cell_type": "code",
   "execution_count": 5,
   "metadata": {},
   "outputs": [],
   "source": [
    "create_new_folders(ayush_detection_Working)"
   ]
  },
  {
   "cell_type": "code",
   "execution_count": 6,
   "metadata": {},
   "outputs": [],
   "source": [
    "idinfiypath=[\"ThornApple\\\\seeds\",\"RedPeaEggplant\\\\kaai\",\"Neem\\\\flower\",\"turmeric\\\\leaf\"]"
   ]
  },
  {
   "cell_type": "code",
   "execution_count": 7,
   "metadata": {},
   "outputs": [],
   "source": [
    "originalpathlist=list(map(lambda pathname:os.path.join(original_dataset_dir,pathname),idinfiypath))\n",
    "targetpathlist=list(map(lambda pathname:os.path.join(ayush_detection_Working,pathname),idinfiypath))"
   ]
  },
  {
   "cell_type": "code",
   "execution_count": 8,
   "metadata": {},
   "outputs": [],
   "source": [
    "for target in targetpathlist:\n",
    "    create_new_folders(target)"
   ]
  },
  {
   "cell_type": "code",
   "execution_count": 9,
   "metadata": {},
   "outputs": [],
   "source": [
    "selectedImages=[]\n",
    "for subfolder in originalpathlist:\n",
    "    filepaths=file_paths(subfolder)\n",
    "    file_paths_folder=list(map(lambda filespathfol:filespathfol[0],filepaths))\n",
    "    selectedImages.extend(file_paths_folder)\n"
   ]
  },
  {
   "cell_type": "code",
   "execution_count": 10,
   "metadata": {},
   "outputs": [],
   "source": [
    "for file in selectedImages:\n",
    "    relative_path=rel_path(file,original_dataset_dir)\n",
    "    relative_folder_path=file_parent_folder(relative_path)\n",
    "    target_folder_path=join_path(ayush_detection_Working,relative_folder_path)\n",
    "    copy_file(file,target_folder_path)"
   ]
  },
  {
   "cell_type": "code",
   "execution_count": 11,
   "metadata": {},
   "outputs": [],
   "source": [
    "subfolderspaths_detection=subfolders_path(ayush_detection_Working)"
   ]
  },
  {
   "cell_type": "code",
   "execution_count": 14,
   "metadata": {},
   "outputs": [
    {
     "name": "stdout",
     "output_type": "stream",
     "text": [
      "4\n",
      "action complete\n",
      "16\n",
      "action complete\n",
      "8\n",
      "action complete\n",
      "6\n",
      "action complete\n"
     ]
    }
   ],
   "source": [
    "for subcollectionpath in subfolderspaths_detection:\n",
    "    subsubfolders=subfolders_path(subcollectionpath)\n",
    "    subfoldernames=sub_folders(subcollectionpath)\n",
    "    targetcount=0\n",
    "    for s in subsubfolders:\n",
    "        if subfoldernames[0]=='leaf':\n",
    "            targetcount=500\n",
    "        if subfoldernames[0]=='flower' or subfoldernames[0]=='kaai' or subfoldernames[0]=='seeds' :\n",
    "            targetcount=200\n",
    "        filecount=count_files_in_folder(s)\n",
    "        if filecount<targetcount:\n",
    "            file_paths_balancing=list(map(lambda filepath:filepath[0],file_paths(subcollectionpath)))\n",
    "            print(targetcount-filecount)\n",
    "            DataSetgenration(pathList=file_paths_balancing,genrationFun=[random_rotate,random_flip,random_Bright],target_count=(targetcount-filecount))"
   ]
  }
 ],
 "metadata": {
  "kernelspec": {
   "display_name": "Python 3",
   "language": "python",
   "name": "python3"
  },
  "language_info": {
   "codemirror_mode": {
    "name": "ipython",
    "version": 3
   },
   "file_extension": ".py",
   "mimetype": "text/x-python",
   "name": "python",
   "nbconvert_exporter": "python",
   "pygments_lexer": "ipython3",
   "version": "3.11.9"
  }
 },
 "nbformat": 4,
 "nbformat_minor": 2
}
