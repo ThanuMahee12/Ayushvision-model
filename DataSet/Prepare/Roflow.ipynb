{
  "cells": [
    {
      "cell_type": "markdown",
      "metadata": {
        "id": "view-in-github",
        "colab_type": "text"
      },
      "source": [
        "<a href=\"https://colab.research.google.com/github/ThanuMahee12/ayush-vision/blob/data-prepare/DataSet/Prepare/Roflow.ipynb\" target=\"_parent\"><img src=\"https://colab.research.google.com/assets/colab-badge.svg\" alt=\"Open In Colab\"/></a>"
      ]
    },
    {
      "cell_type": "markdown",
      "metadata": {
        "id": "78oKjOSASNs9"
      },
      "source": [
        "# Roboflow"
      ]
    },
    {
      "cell_type": "code",
      "execution_count": 10,
      "metadata": {
        "id": "qWe3SVg3SNs_"
      },
      "outputs": [],
      "source": [
        "import os"
      ]
    },
    {
      "cell_type": "code",
      "source": [
        "from google.colab import drive\n",
        "drive.mount('/content/drive')"
      ],
      "metadata": {
        "id": "cPX0tJb-SQHX",
        "outputId": "1f44beb3-e63e-40b0-ca86-2f0439a529bf",
        "colab": {
          "base_uri": "https://localhost:8080/"
        }
      },
      "execution_count": 11,
      "outputs": [
        {
          "output_type": "stream",
          "name": "stdout",
          "text": [
            "Drive already mounted at /content/drive; to attempt to forcibly remount, call drive.mount(\"/content/drive\", force_remount=True).\n"
          ]
        }
      ]
    },
    {
      "cell_type": "code",
      "execution_count": 12,
      "metadata": {
        "id": "KOWuut2GSNtA"
      },
      "outputs": [],
      "source": [
        "work_dir='/content/drive/MyDrive/AyushVision'"
      ]
    },
    {
      "cell_type": "code",
      "execution_count": 13,
      "metadata": {
        "id": "DorVJpbdSNtB"
      },
      "outputs": [],
      "source": [
        "if not os.path.exists(work_dir):\n",
        "    os.makedirs(work_dir,exist_ok=True)"
      ]
    },
    {
      "cell_type": "code",
      "source": [
        "algorithum='yolo8'"
      ],
      "metadata": {
        "id": "Q0_hP9A5SxX7"
      },
      "execution_count": 14,
      "outputs": []
    },
    {
      "cell_type": "code",
      "execution_count": 15,
      "metadata": {
        "id": "TXj6yE1rSNtB"
      },
      "outputs": [],
      "source": [
        "dataset_dir=os.path.join(work_dir,algorithum,'dataset')"
      ]
    },
    {
      "cell_type": "code",
      "execution_count": 16,
      "metadata": {
        "id": "ZXDI5MJbSNtB"
      },
      "outputs": [],
      "source": [
        "if not os.path.exists(dataset_dir):\n",
        "    os.makedirs(dataset_dir)"
      ]
    },
    {
      "cell_type": "code",
      "execution_count": 17,
      "metadata": {
        "id": "2G20k6cASNtC",
        "outputId": "b72c84b9-24bf-451c-d6e5-4ed12292dd82",
        "colab": {
          "base_uri": "https://localhost:8080/"
        }
      },
      "outputs": [
        {
          "output_type": "stream",
          "name": "stdout",
          "text": [
            "Requirement already satisfied: roboflow in /usr/local/lib/python3.10/dist-packages (1.1.37)\n",
            "Requirement already satisfied: certifi in /usr/local/lib/python3.10/dist-packages (from roboflow) (2024.7.4)\n",
            "Requirement already satisfied: chardet==4.0.0 in /usr/local/lib/python3.10/dist-packages (from roboflow) (4.0.0)\n",
            "Requirement already satisfied: idna==3.7 in /usr/local/lib/python3.10/dist-packages (from roboflow) (3.7)\n",
            "Requirement already satisfied: cycler in /usr/local/lib/python3.10/dist-packages (from roboflow) (0.12.1)\n",
            "Requirement already satisfied: kiwisolver>=1.3.1 in /usr/local/lib/python3.10/dist-packages (from roboflow) (1.4.5)\n",
            "Requirement already satisfied: matplotlib in /usr/local/lib/python3.10/dist-packages (from roboflow) (3.7.1)\n",
            "Requirement already satisfied: numpy>=1.18.5 in /usr/local/lib/python3.10/dist-packages (from roboflow) (1.26.4)\n",
            "Requirement already satisfied: opencv-python-headless==4.10.0.84 in /usr/local/lib/python3.10/dist-packages (from roboflow) (4.10.0.84)\n",
            "Requirement already satisfied: Pillow>=7.1.2 in /usr/local/lib/python3.10/dist-packages (from roboflow) (9.4.0)\n",
            "Requirement already satisfied: python-dateutil in /usr/local/lib/python3.10/dist-packages (from roboflow) (2.8.2)\n",
            "Requirement already satisfied: python-dotenv in /usr/local/lib/python3.10/dist-packages (from roboflow) (1.0.1)\n",
            "Requirement already satisfied: requests in /usr/local/lib/python3.10/dist-packages (from roboflow) (2.32.3)\n",
            "Requirement already satisfied: six in /usr/local/lib/python3.10/dist-packages (from roboflow) (1.16.0)\n",
            "Requirement already satisfied: urllib3>=1.26.6 in /usr/local/lib/python3.10/dist-packages (from roboflow) (2.0.7)\n",
            "Requirement already satisfied: tqdm>=4.41.0 in /usr/local/lib/python3.10/dist-packages (from roboflow) (4.66.5)\n",
            "Requirement already satisfied: PyYAML>=5.3.1 in /usr/local/lib/python3.10/dist-packages (from roboflow) (6.0.2)\n",
            "Requirement already satisfied: requests-toolbelt in /usr/local/lib/python3.10/dist-packages (from roboflow) (1.0.0)\n",
            "Requirement already satisfied: filetype in /usr/local/lib/python3.10/dist-packages (from roboflow) (1.2.0)\n",
            "Requirement already satisfied: contourpy>=1.0.1 in /usr/local/lib/python3.10/dist-packages (from matplotlib->roboflow) (1.2.1)\n",
            "Requirement already satisfied: fonttools>=4.22.0 in /usr/local/lib/python3.10/dist-packages (from matplotlib->roboflow) (4.53.1)\n",
            "Requirement already satisfied: packaging>=20.0 in /usr/local/lib/python3.10/dist-packages (from matplotlib->roboflow) (24.1)\n",
            "Requirement already satisfied: pyparsing>=2.3.1 in /usr/local/lib/python3.10/dist-packages (from matplotlib->roboflow) (3.1.2)\n",
            "Requirement already satisfied: charset-normalizer<4,>=2 in /usr/local/lib/python3.10/dist-packages (from requests->roboflow) (3.3.2)\n"
          ]
        }
      ],
      "source": [
        "! pip install roboflow"
      ]
    },
    {
      "cell_type": "code",
      "execution_count": 18,
      "metadata": {
        "id": "qS2HcKtTSNtC"
      },
      "outputs": [],
      "source": [
        "from roboflow import Roboflow"
      ]
    },
    {
      "cell_type": "markdown",
      "metadata": {
        "id": "1oA0dmDwSNtC"
      },
      "source": [
        "## Roboflow Root"
      ]
    },
    {
      "cell_type": "code",
      "execution_count": 19,
      "metadata": {
        "id": "cACvvKMbSNtD",
        "outputId": "17c28ddb-34b0-401a-f20f-5bba8a0f7284",
        "colab": {
          "base_uri": "https://localhost:8080/"
        }
      },
      "outputs": [
        {
          "output_type": "stream",
          "name": "stdout",
          "text": [
            "loading Roboflow workspace...\n",
            "loading Roboflow project...\n",
            "[WARNING] we noticed you are downloading a `yolov8` datasets but you don't have `ultralytics` installed. Roboflow `.deploy` supports only models trained with `ultralytics==8.0.196`, to intall it `pip install ultralytics==8.0.196`.\n"
          ]
        },
        {
          "output_type": "stream",
          "name": "stderr",
          "text": [
            "Downloading Dataset Version Zip in /content/drive/MyDrive/AyushVision/yolo8/dataset/ayushvision_root to yolov8:: 100%|██████████| 24066/24066 [00:04<00:00, 5851.58it/s]"
          ]
        },
        {
          "output_type": "stream",
          "name": "stdout",
          "text": [
            "\n"
          ]
        },
        {
          "output_type": "stream",
          "name": "stderr",
          "text": [
            "\n",
            "Extracting Dataset Version Zip to /content/drive/MyDrive/AyushVision/yolo8/dataset/ayushvision_root in yolov8:: 100%|██████████| 972/972 [00:11<00:00, 81.22it/s]\n"
          ]
        }
      ],
      "source": [
        "rf = Roboflow(api_key=\"KvYzBayallmQzuRDfNc3\")\n",
        "project = rf.workspace(\"ayushvision\").project(\"ayushvision_root\")\n",
        "version = project.version(2)\n",
        "dataset = version.download(\"yolov8\",location=f'{dataset_dir}/ayushvision_root')"
      ]
    },
    {
      "cell_type": "markdown",
      "metadata": {
        "id": "AXTrKUVHSNtD"
      },
      "source": [
        "## Roboflow Flower"
      ]
    },
    {
      "cell_type": "markdown",
      "source": [
        "[account](sanashajeeva@gmail.com)\n",
        "[dataset](https://drive.google.com/drive/folders/1-7kH_Adw9kDlUbFPNd3zEpKhhUkIM75k)"
      ],
      "metadata": {
        "id": "sBhbQUNN8860"
      }
    },
    {
      "cell_type": "code",
      "execution_count": null,
      "metadata": {
        "id": "U3D0ETgHSNtD",
        "outputId": "acd85e22-132b-44f9-c2b3-69ba4f0a2c2a",
        "colab": {
          "base_uri": "https://localhost:8080/"
        }
      },
      "outputs": [
        {
          "output_type": "stream",
          "name": "stdout",
          "text": [
            "loading Roboflow workspace...\n",
            "loading Roboflow project...\n",
            "[WARNING] we noticed you are downloading a `yolov8` datasets but you don't have `ultralytics` installed. Roboflow `.deploy` supports only models trained with `ultralytics==8.0.196`, to intall it `pip install ultralytics==8.0.196`.\n"
          ]
        },
        {
          "output_type": "stream",
          "name": "stderr",
          "text": [
            "Downloading Dataset Version Zip in /content/drive/MyDrive/AyushVision/yolo8/dataset/ayushvision_flowers-ckd0d to yolov8:: 100%|██████████| 38691/38691 [00:06<00:00, 6286.09it/s]"
          ]
        },
        {
          "output_type": "stream",
          "name": "stdout",
          "text": [
            "\n"
          ]
        },
        {
          "output_type": "stream",
          "name": "stderr",
          "text": [
            "\n",
            "Extracting Dataset Version Zip to /content/drive/MyDrive/AyushVision/yolo8/dataset/ayushvision_flowers-ckd0d in yolov8:: 100%|██████████| 1932/1932 [00:21<00:00, 88.14it/s]\n"
          ]
        }
      ],
      "source": [
        "rf = Roboflow(api_key=\"iW0ic53GGPbz3kP5MbgZ\")\n",
        "project = rf.workspace(\"research-piohe\").project(\"ayushvision_flowers-ckd0d\")\n",
        "version = project.version(2)\n",
        "dataset = version.download(\"yolov8\",location=f'{dataset_dir}/ayushvision_flowers-ckd0d')\n",
        "\n",
        "\n"
      ]
    },
    {
      "cell_type": "code",
      "source": [
        "rf = Roboflow(api_key=\"KvYzBayallmQzuRDfNc3\")\n",
        "project = rf.workspace(\"ayushvision\").project(\"ayushvision_flowers\")\n",
        "version = project.version(3)\n",
        "dataset = version.download(\"yolov8\",location=f'{dataset_dir}/ayushvision_flowers')\n",
        "\n"
      ],
      "metadata": {
        "id": "vaJ0Z1sF8EbL",
        "outputId": "764ef7ab-6e81-4c67-f563-a9f2a0027fad",
        "colab": {
          "base_uri": "https://localhost:8080/"
        }
      },
      "execution_count": null,
      "outputs": [
        {
          "output_type": "stream",
          "name": "stdout",
          "text": [
            "loading Roboflow workspace...\n",
            "loading Roboflow project...\n",
            "[WARNING] we noticed you are downloading a `yolov8` datasets but you don't have `ultralytics` installed. Roboflow `.deploy` supports only models trained with `ultralytics==8.0.196`, to intall it `pip install ultralytics==8.0.196`.\n"
          ]
        },
        {
          "output_type": "stream",
          "name": "stderr",
          "text": [
            "Downloading Dataset Version Zip in /content/drive/MyDrive/AyushVision/yolo8/dataset/ayushvision_flowers to yolov8:: 100%|██████████| 137157/137157 [00:22<00:00, 6179.95it/s]"
          ]
        },
        {
          "output_type": "stream",
          "name": "stdout",
          "text": [
            "\n"
          ]
        },
        {
          "output_type": "stream",
          "name": "stderr",
          "text": [
            "\n",
            "Extracting Dataset Version Zip to /content/drive/MyDrive/AyushVision/yolo8/dataset/ayushvision_flowers in yolov8:: 100%|██████████| 8652/8652 [01:47<00:00, 80.40it/s]\n"
          ]
        }
      ]
    },
    {
      "cell_type": "markdown",
      "metadata": {
        "id": "83ZU_1SXSNtD"
      },
      "source": [
        "## Roboflow Rawfruit"
      ]
    },
    {
      "cell_type": "markdown",
      "source": [
        "[account](rainorobot334567@gmail.com)\n",
        "[dataset](https://drive.google.com/drive/folders/1UFvjVE4IlkzTMmcu7YCI_nHWPp9RvmfL)"
      ],
      "metadata": {
        "id": "6IOfpfxfYOvH"
      }
    },
    {
      "cell_type": "code",
      "execution_count": null,
      "metadata": {
        "id": "cH_cc3jrSNtD",
        "outputId": "934f1386-e31d-41a4-837a-6ddca43e2809",
        "colab": {
          "base_uri": "https://localhost:8080/"
        }
      },
      "outputs": [
        {
          "output_type": "stream",
          "name": "stdout",
          "text": [
            "loading Roboflow workspace...\n",
            "loading Roboflow project...\n",
            "[WARNING] we noticed you are downloading a `yolov8` datasets but you don't have `ultralytics` installed. Roboflow `.deploy` supports only models trained with `ultralytics==8.0.196`, to intall it `pip install ultralytics==8.0.196`.\n"
          ]
        },
        {
          "output_type": "stream",
          "name": "stderr",
          "text": [
            "Downloading Dataset Version Zip in /content/drive/MyDrive/AyushVision/yolo8/dataset/ayushvision_fruits to yolov8:: 100%|██████████| 115751/115751 [00:14<00:00, 8245.26it/s]"
          ]
        },
        {
          "output_type": "stream",
          "name": "stdout",
          "text": [
            "\n"
          ]
        },
        {
          "output_type": "stream",
          "name": "stderr",
          "text": [
            "\n",
            "Extracting Dataset Version Zip to /content/drive/MyDrive/AyushVision/yolo8/dataset/ayushvision_fruits in yolov8:: 100%|██████████| 7680/7680 [01:21<00:00, 94.19it/s] \n"
          ]
        }
      ],
      "source": [
        "rf = Roboflow(api_key=\"KvYzBayallmQzuRDfNc3\")\n",
        "project = rf.workspace(\"ayushvision\").project(\"ayushvision_fruits\")\n",
        "version = project.version(1)\n",
        "dataset = version.download(\"yolov8\",location=f'{dataset_dir}/ayushvision_fruits')\n"
      ]
    },
    {
      "cell_type": "code",
      "source": [
        "rf = Roboflow(api_key=\"iW0ic53GGPbz3kP5MbgZ\")\n",
        "project = rf.workspace(\"research-piohe\").project(\"ayushvision_rawfruit\")\n",
        "version = project.version(2)\n",
        "dataset = version.download(\"yolov8\",location=f'{dataset_dir}/ayushvision_rawfruit')\n"
      ],
      "metadata": {
        "id": "-QPprVt5UQoK",
        "outputId": "3d07f9fc-b60c-43f3-b687-52c49747332d",
        "colab": {
          "base_uri": "https://localhost:8080/"
        }
      },
      "execution_count": null,
      "outputs": [
        {
          "output_type": "stream",
          "name": "stdout",
          "text": [
            "loading Roboflow workspace...\n",
            "loading Roboflow project...\n",
            "[WARNING] we noticed you are downloading a `yolov8` datasets but you don't have `ultralytics` installed. Roboflow `.deploy` supports only models trained with `ultralytics==8.0.196`, to intall it `pip install ultralytics==8.0.196`.\n"
          ]
        },
        {
          "output_type": "stream",
          "name": "stderr",
          "text": [
            "Downloading Dataset Version Zip in /content/drive/MyDrive/AyushVision/yolo8/dataset/ayushvision_rawfruit to yolov8:: 100%|██████████| 19234/19234 [00:03<00:00, 5925.50it/s]\n"
          ]
        },
        {
          "output_type": "stream",
          "name": "stdout",
          "text": [
            "\n"
          ]
        },
        {
          "output_type": "stream",
          "name": "stderr",
          "text": [
            "Extracting Dataset Version Zip to /content/drive/MyDrive/AyushVision/yolo8/dataset/ayushvision_rawfruit in yolov8:: 100%|██████████| 970/970 [00:09<00:00, 98.35it/s]\n"
          ]
        }
      ]
    }
  ],
  "metadata": {
    "language_info": {
      "name": "python"
    },
    "colab": {
      "provenance": [],
      "include_colab_link": true
    },
    "kernelspec": {
      "name": "python3",
      "display_name": "Python 3"
    }
  },
  "nbformat": 4,
  "nbformat_minor": 0
}