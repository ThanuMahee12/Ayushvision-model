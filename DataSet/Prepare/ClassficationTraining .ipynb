{
 "cells": [
  {
   "cell_type": "code",
   "execution_count": 1,
   "metadata": {},
   "outputs": [],
   "source": [
    "import os\n",
    "import pandas as pd\n",
    "import matplotlib.pyplot as plt\n",
    "import numpy as np\n",
    "import json\n",
    "import re\n",
    "from sklearn.model_selection import train_test_split"
   ]
  },
  {
   "cell_type": "code",
   "execution_count": 2,
   "metadata": {},
   "outputs": [
    {
     "name": "stdout",
     "output_type": "stream",
     "text": [
      "created\n"
     ]
    }
   ],
   "source": [
    "%run ../../Util/FileFolder\n",
    "%run ../../Util/Variable\n",
    "%run ../../Util/ImageProcessing"
   ]
  },
  {
   "cell_type": "code",
   "execution_count": 3,
   "metadata": {},
   "outputs": [],
   "source": [
    "datasetSplit=['train','test','val']\n",
    "datasetDir=list(map(lambda pathaname: os.path.join(ayush_classFication_Working_ready,pathaname),datasetSplit))"
   ]
  },
  {
   "cell_type": "code",
   "execution_count": 4,
   "metadata": {},
   "outputs": [],
   "source": [
    "\n",
    "for split in datasetDir:\n",
    "    create_new_folders(split)"
   ]
  },
  {
   "cell_type": "code",
   "execution_count": 5,
   "metadata": {},
   "outputs": [],
   "source": [
    "training_dataSet=[]\n",
    "validation_dataset=[]\n",
    "test_dataset=[]"
   ]
  },
  {
   "cell_type": "code",
   "execution_count": 6,
   "metadata": {},
   "outputs": [],
   "source": [
    "for split in datasetDir:\n",
    "    copy_folder_stucture(ayush_classFication_Working,split)"
   ]
  },
  {
   "cell_type": "code",
   "execution_count": 7,
   "metadata": {},
   "outputs": [
    {
     "name": "stdout",
     "output_type": "stream",
     "text": [
      "species:D:\\\\AYUSHWORKING\\classification\\AdamantCreeper\\flower train:175 test40 val:25\n",
      "species:D:\\\\AYUSHWORKING\\classification\\AdamantCreeper\\leaf train:623 test143 val:90\n",
      "species:D:\\\\AYUSHWORKING\\classification\\AdamantCreeper\\plant train:513 test118 val:74\n",
      "species:D:\\\\AYUSHWORKING\\classification\\Alovera\\leaf train:441 test101 val:64\n",
      "species:D:\\\\AYUSHWORKING\\classification\\Alovera\\Plants train:870 test199 val:125\n",
      "species:D:\\\\AYUSHWORKING\\classification\\Betel\\leaf train:656 test150 val:94\n",
      "species:D:\\\\AYUSHWORKING\\classification\\Betel\\Plant train:656 test150 val:94\n",
      "species:D:\\\\AYUSHWORKING\\classification\\Black-HoneyShrub\\leaf train:538 test123 val:77\n",
      "species:D:\\\\AYUSHWORKING\\classification\\Black-HoneyShrub\\plant train:774 test177 val:111\n",
      "species:D:\\\\AYUSHWORKING\\classification\\Calotropisgigantea\\flower train:207 test48 val:30\n",
      "species:D:\\\\AYUSHWORKING\\classification\\Calotropisgigantea\\leaf train:469 test108 val:68\n",
      "species:D:\\\\AYUSHWORKING\\classification\\Calotropisgigantea\\plant train:635 test146 val:91\n",
      "species:D:\\\\AYUSHWORKING\\classification\\Caster\\leaf train:434 test100 val:62\n",
      "species:D:\\\\AYUSHWORKING\\classification\\Caster\\Plant train:537 test123 val:77\n",
      "species:D:\\\\AYUSHWORKING\\classification\\Caster\\seeds train:341 test78 val:49\n",
      "species:D:\\\\AYUSHWORKING\\classification\\Cinnamon\\leaf train:770 test177 val:111\n",
      "species:D:\\\\AYUSHWORKING\\classification\\Cinnamon\\plant train:541 test124 val:78\n",
      "species:D:\\\\AYUSHWORKING\\classification\\ginger\\leaf train:469 test108 val:68\n",
      "species:D:\\\\AYUSHWORKING\\classification\\ginger\\plants train:668 test153 val:96\n",
      "species:D:\\\\AYUSHWORKING\\classification\\ginger\\Root train:174 test40 val:25\n",
      "species:D:\\\\AYUSHWORKING\\classification\\Henna\\leaf train:658 test151 val:94\n",
      "species:D:\\\\AYUSHWORKING\\classification\\Henna\\plant train:654 test150 val:94\n",
      "species:D:\\\\AYUSHWORKING\\classification\\Hibiscus\\flower train:262 test60 val:38\n",
      "species:D:\\\\AYUSHWORKING\\classification\\Hibiscus\\leaf train:519 test119 val:75\n",
      "species:D:\\\\AYUSHWORKING\\classification\\Hibiscus\\plant train:530 test122 val:76\n",
      "species:D:\\\\AYUSHWORKING\\classification\\HolyBasil\\flower train:286 test66 val:41\n",
      "species:D:\\\\AYUSHWORKING\\classification\\HolyBasil\\leaf train:502 test115 val:72\n",
      "species:D:\\\\AYUSHWORKING\\classification\\HolyBasil\\Plants train:524 test120 val:75\n",
      "species:D:\\\\AYUSHWORKING\\classification\\indian Mallow\\flower train:348 test80 val:50\n",
      "species:D:\\\\AYUSHWORKING\\classification\\indian Mallow\\leaf train:438 test101 val:63\n",
      "species:D:\\\\AYUSHWORKING\\classification\\indian Mallow\\plant train:525 test121 val:76\n",
      "species:D:\\\\AYUSHWORKING\\classification\\Indianacalypha\\flower train:262 test60 val:38\n",
      "species:D:\\\\AYUSHWORKING\\classification\\Indianacalypha\\leaf train:481 test110 val:69\n",
      "species:D:\\\\AYUSHWORKING\\classification\\Indianacalypha\\plants train:568 test130 val:82\n",
      "species:D:\\\\AYUSHWORKING\\classification\\ivy gourd\\fruits train:190 test44 val:28\n",
      "species:D:\\\\AYUSHWORKING\\classification\\ivy gourd\\leaf train:483 test111 val:69\n",
      "species:D:\\\\AYUSHWORKING\\classification\\ivy gourd\\plant train:638 test146 val:92\n",
      "species:D:\\\\AYUSHWORKING\\classification\\Landrina\\leaf train:656 test150 val:94\n",
      "species:D:\\\\AYUSHWORKING\\classification\\Landrina\\plant train:656 test150 val:94\n",
      "species:D:\\\\AYUSHWORKING\\classification\\Lemongrass\\leaves train:658 test151 val:95\n",
      "species:D:\\\\AYUSHWORKING\\classification\\Lemongrass\\Plant train:653 test150 val:94\n",
      "species:D:\\\\AYUSHWORKING\\classification\\lime\\fruit train:204 test47 val:30\n",
      "species:D:\\\\AYUSHWORKING\\classification\\lime\\leaf train:544 test125 val:78\n",
      "species:D:\\\\AYUSHWORKING\\classification\\lime\\Plant train:563 test129 val:81\n",
      "species:D:\\\\AYUSHWORKING\\classification\\longPepper\\kaai train:200 test46 val:29\n",
      "species:D:\\\\AYUSHWORKING\\classification\\longPepper\\leaf train:537 test123 val:77\n",
      "species:D:\\\\AYUSHWORKING\\classification\\longPepper\\plants train:574 test132 val:83\n",
      "species:D:\\\\AYUSHWORKING\\classification\\MiracleLeaf\\leaf train:667 test153 val:96\n",
      "species:D:\\\\AYUSHWORKING\\classification\\MiracleLeaf\\Plant train:644 test148 val:93\n",
      "species:D:\\\\AYUSHWORKING\\classification\\MountainKnotgrass\\leaf train:460 test106 val:66\n",
      "species:D:\\\\AYUSHWORKING\\classification\\MountainKnotgrass\\Plants train:852 test195 val:122\n",
      "species:D:\\\\AYUSHWORKING\\classification\\Neem\\flower train:164 test38 val:24\n",
      "species:D:\\\\AYUSHWORKING\\classification\\Neem\\leaf train:624 test143 val:90\n",
      "species:D:\\\\AYUSHWORKING\\classification\\Neem\\plant train:523 test120 val:75\n",
      "species:D:\\\\AYUSHWORKING\\classification\\Oregano\\leaf train:656 test150 val:94\n",
      "species:D:\\\\AYUSHWORKING\\classification\\Oregano\\plant train:656 test150 val:94\n",
      "species:D:\\\\AYUSHWORKING\\classification\\Pedaliummurex\\flower train:175 test40 val:25\n",
      "species:D:\\\\AYUSHWORKING\\classification\\Pedaliummurex\\leaf train:438 test101 val:63\n",
      "species:D:\\\\AYUSHWORKING\\classification\\Pedaliummurex\\plant train:523 test120 val:75\n",
      "species:D:\\\\AYUSHWORKING\\classification\\Pedaliummurex\\seeds train:175 test41 val:26\n",
      "species:D:\\\\AYUSHWORKING\\classification\\RedPeaEggplant\\Flower train:167 test39 val:24\n",
      "species:D:\\\\AYUSHWORKING\\classification\\RedPeaEggplant\\kaai train:167 test39 val:24\n",
      "species:D:\\\\AYUSHWORKING\\classification\\RedPeaEggplant\\leaf train:444 test102 val:64\n",
      "species:D:\\\\AYUSHWORKING\\classification\\RedPeaEggplant\\plant train:533 test122 val:77\n",
      "species:D:\\\\AYUSHWORKING\\classification\\RingwormPlant\\flower train:245 test56 val:35\n",
      "species:D:\\\\AYUSHWORKING\\classification\\RingwormPlant\\kai train:167 test39 val:24\n",
      "species:D:\\\\AYUSHWORKING\\classification\\RingwormPlant\\leaf train:406 test93 val:59\n",
      "species:D:\\\\AYUSHWORKING\\classification\\RingwormPlant\\Plant train:493 test113 val:71\n",
      "species:D:\\\\AYUSHWORKING\\classification\\Seedsunderleaves\\leaf train:665 test152 val:95\n",
      "species:D:\\\\AYUSHWORKING\\classification\\Seedsunderleaves\\plant train:647 test148 val:93\n",
      "species:D:\\\\AYUSHWORKING\\classification\\SleepyPlant\\flower train:140 test33 val:21\n",
      "species:D:\\\\AYUSHWORKING\\classification\\SleepyPlant\\Leaf train:401 test92 val:58\n",
      "species:D:\\\\AYUSHWORKING\\classification\\SleepyPlant\\Plant train:770 test176 val:110\n",
      "species:D:\\\\AYUSHWORKING\\classification\\tallperennialgrass\\leaf train:515 test118 val:74\n",
      "species:D:\\\\AYUSHWORKING\\classification\\tallperennialgrass\\Plant train:602 test138 val:87\n",
      "species:D:\\\\AYUSHWORKING\\classification\\tallperennialgrass\\root train:194 test45 val:28\n",
      "species:D:\\\\AYUSHWORKING\\classification\\ThornApple\\flower train:177 test41 val:26\n",
      "species:D:\\\\AYUSHWORKING\\classification\\ThornApple\\leaf train:427 test98 val:61\n",
      "species:D:\\\\AYUSHWORKING\\classification\\ThornApple\\Plant train:539 test124 val:78\n",
      "species:D:\\\\AYUSHWORKING\\classification\\ThornApple\\seeds train:168 test39 val:24\n",
      "species:D:\\\\AYUSHWORKING\\classification\\turmeric\\leaf train:446 test102 val:64\n",
      "species:D:\\\\AYUSHWORKING\\classification\\turmeric\\Plant train:690 test158 val:99\n",
      "species:D:\\\\AYUSHWORKING\\classification\\turmeric\\root train:175 test41 val:26\n",
      "species:D:\\\\AYUSHWORKING\\classification\\Vitexnegundo\\flower train:173 test40 val:25\n",
      "species:D:\\\\AYUSHWORKING\\classification\\Vitexnegundo\\leaf train:562 test129 val:81\n",
      "species:D:\\\\AYUSHWORKING\\classification\\Vitexnegundo\\plant train:576 test132 val:83\n",
      "species:D:\\\\AYUSHWORKING\\classification\\WildTurmaric\\kilanku train:246 test57 val:36\n",
      "species:D:\\\\AYUSHWORKING\\classification\\WildTurmaric\\Leaf train:447 test103 val:64\n",
      "species:D:\\\\AYUSHWORKING\\classification\\WildTurmaric\\plant train:618 test142 val:89\n"
     ]
    }
   ],
   "source": [
    "for folders in subfolders_path(ayush_classFication_Working): \n",
    "    for subfolder in subfolders_path(folders):\n",
    "        filepaths=list(map(lambda result:result[0],file_paths(subfolder)))\n",
    "        train_val_data, test_data = train_test_split(filepaths, test_size=0.2, random_state=42)\n",
    "        train_data, val_data = train_test_split(filepaths, test_size=0.125, random_state=42)\n",
    "        training_dataSet.extend(train_data)\n",
    "        validation_dataset.extend(val_data)\n",
    "        test_dataset.extend(test_data)\n",
    "        print(f'species:{subfolder} train:{len(train_data)} test{len(test_data)} val:{len(val_data)}')"
   ]
  },
  {
   "cell_type": "code",
   "execution_count": 8,
   "metadata": {},
   "outputs": [],
   "source": [
    "# training dataset Prepare\n",
    "for trainingData in training_dataSet:\n",
    "    newPath=os.path.join(ayush_classFication_Working_ready,'train',rel_path(trainingData,ayush_classFication_Working))\n",
    "    new_target_folder=file_parent_folder(newPath)\n",
    "    copy_file(trainingData,new_target_folder)"
   ]
  },
  {
   "cell_type": "code",
   "execution_count": 9,
   "metadata": {},
   "outputs": [],
   "source": [
    "for validationData in validation_dataset:\n",
    "    newPath=os.path.join(ayush_classFication_Working_ready,'val',rel_path(validationData,ayush_classFication_Working))\n",
    "    new_target_folder=file_parent_folder(newPath)\n",
    "    copy_file(validationData,new_target_folder)"
   ]
  },
  {
   "cell_type": "code",
   "execution_count": 10,
   "metadata": {},
   "outputs": [],
   "source": [
    "for testData in test_dataset:\n",
    "    newPath=os.path.join(ayush_classFication_Working_ready,'test',rel_path(testData,ayush_classFication_Working))\n",
    "    new_target_folder=file_parent_folder(newPath)\n",
    "    copy_file(testData,new_target_folder)"
   ]
  }
 ],
 "metadata": {
  "kernelspec": {
   "display_name": "Python 3",
   "language": "python",
   "name": "python3"
  },
  "language_info": {
   "codemirror_mode": {
    "name": "ipython",
    "version": 3
   },
   "file_extension": ".py",
   "mimetype": "text/x-python",
   "name": "python",
   "nbconvert_exporter": "python",
   "pygments_lexer": "ipython3",
   "version": "3.11.9"
  }
 },
 "nbformat": 4,
 "nbformat_minor": 2
}
