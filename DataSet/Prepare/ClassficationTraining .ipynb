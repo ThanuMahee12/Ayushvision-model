{
 "cells": [
  {
   "cell_type": "code",
   "execution_count": 1,
   "metadata": {},
   "outputs": [],
   "source": [
    "import os\n",
    "import pandas as pd\n",
    "import matplotlib.pyplot as plt\n",
    "import numpy as np\n",
    "import json\n",
    "import re\n",
    "from sklearn.model_selection import train_test_split"
   ]
  },
  {
   "cell_type": "code",
   "execution_count": 2,
   "metadata": {},
   "outputs": [
    {
     "name": "stdout",
     "output_type": "stream",
     "text": [
      "created\n"
     ]
    }
   ],
   "source": [
    "%run ../../Util/FileFolder\n",
    "%run ../../Util/Variable\n",
    "%run ../../Util/ImageProcessing"
   ]
  },
  {
   "cell_type": "code",
   "execution_count": 3,
   "metadata": {},
   "outputs": [],
   "source": [
    "datasetSplit=['train','test','val']\n",
    "datasetDir=list(map(lambda pathaname: os.path.join(ayush_classFication_Working_ready,pathaname),datasetSplit))"
   ]
  },
  {
   "cell_type": "code",
   "execution_count": 4,
   "metadata": {},
   "outputs": [],
   "source": [
    "\n",
    "for split in datasetDir:\n",
    "    create_new_folders(split)"
   ]
  },
  {
   "cell_type": "code",
   "execution_count": 5,
   "metadata": {},
   "outputs": [],
   "source": [
    "training_dataSet=[]\n",
    "validation_dataset=[]\n",
    "test_dataset=[]"
   ]
  },
  {
   "cell_type": "code",
   "execution_count": 6,
   "metadata": {},
   "outputs": [],
   "source": [
    "for split in datasetDir:\n",
    "    copy_folder_stucture(ayush_classFication_Working,split)"
   ]
  },
  {
   "cell_type": "code",
   "execution_count": 7,
   "metadata": {},
   "outputs": [],
   "source": [
    "test_train_valSplit=[]"
   ]
  },
  {
   "cell_type": "code",
   "execution_count": 8,
   "metadata": {},
   "outputs": [
    {
     "name": "stdout",
     "output_type": "stream",
     "text": [
      "species:D:\\\\AYUSHWORKING\\classification\\AdamantCreeper\\flower train:140 test40 val:20\n",
      "species:D:\\\\AYUSHWORKING\\classification\\AdamantCreeper\\leaf train:498 test143 val:72\n",
      "species:D:\\\\AYUSHWORKING\\classification\\AdamantCreeper\\plant train:410 test118 val:59\n",
      "species:D:\\\\AYUSHWORKING\\classification\\Alovera\\leaf train:353 test101 val:51\n",
      "species:D:\\\\AYUSHWORKING\\classification\\Alovera\\Plants train:696 test199 val:100\n",
      "species:D:\\\\AYUSHWORKING\\classification\\Betel\\leaf train:525 test150 val:75\n",
      "species:D:\\\\AYUSHWORKING\\classification\\Betel\\Plant train:525 test150 val:75\n",
      "species:D:\\\\AYUSHWORKING\\classification\\Black-HoneyShrub\\leaf train:430 test123 val:62\n",
      "species:D:\\\\AYUSHWORKING\\classification\\Black-HoneyShrub\\plant train:619 test177 val:89\n",
      "species:D:\\\\AYUSHWORKING\\classification\\Calotropisgigantea\\flower train:165 test48 val:24\n",
      "species:D:\\\\AYUSHWORKING\\classification\\Calotropisgigantea\\leaf train:375 test108 val:54\n",
      "species:D:\\\\AYUSHWORKING\\classification\\Calotropisgigantea\\plant train:507 test146 val:73\n",
      "species:D:\\\\AYUSHWORKING\\classification\\Caster\\leaf train:346 test100 val:50\n",
      "species:D:\\\\AYUSHWORKING\\classification\\Caster\\Plant train:429 test123 val:62\n",
      "species:D:\\\\AYUSHWORKING\\classification\\Caster\\seeds train:273 test78 val:39\n",
      "species:D:\\\\AYUSHWORKING\\classification\\Cinnamon\\leaf train:616 test177 val:88\n",
      "species:D:\\\\AYUSHWORKING\\classification\\Cinnamon\\plant train:433 test124 val:62\n",
      "species:D:\\\\AYUSHWORKING\\classification\\ginger\\leaf train:375 test108 val:54\n",
      "species:D:\\\\AYUSHWORKING\\classification\\ginger\\plants train:534 test153 val:77\n",
      "species:D:\\\\AYUSHWORKING\\classification\\ginger\\Root train:139 test40 val:20\n",
      "species:D:\\\\AYUSHWORKING\\classification\\Henna\\leaf train:525 test151 val:76\n",
      "species:D:\\\\AYUSHWORKING\\classification\\Henna\\plant train:523 test150 val:75\n",
      "species:D:\\\\AYUSHWORKING\\classification\\Hibiscus\\flower train:210 test60 val:30\n",
      "species:D:\\\\AYUSHWORKING\\classification\\Hibiscus\\leaf train:415 test119 val:60\n",
      "species:D:\\\\AYUSHWORKING\\classification\\Hibiscus\\plant train:423 test122 val:61\n",
      "species:D:\\\\AYUSHWORKING\\classification\\HolyBasil\\flower train:228 test66 val:33\n",
      "species:D:\\\\AYUSHWORKING\\classification\\HolyBasil\\leaf train:401 test115 val:58\n",
      "species:D:\\\\AYUSHWORKING\\classification\\HolyBasil\\Plants train:419 test120 val:60\n",
      "species:D:\\\\AYUSHWORKING\\classification\\indian Mallow\\flower train:278 test80 val:40\n",
      "species:D:\\\\AYUSHWORKING\\classification\\indian Mallow\\leaf train:350 test101 val:50\n",
      "species:D:\\\\AYUSHWORKING\\classification\\indian Mallow\\plant train:420 test121 val:60\n",
      "species:D:\\\\AYUSHWORKING\\classification\\Indianacalypha\\flower train:210 test60 val:30\n",
      "species:D:\\\\AYUSHWORKING\\classification\\Indianacalypha\\leaf train:385 test110 val:55\n",
      "species:D:\\\\AYUSHWORKING\\classification\\Indianacalypha\\plants train:455 test130 val:65\n",
      "species:D:\\\\AYUSHWORKING\\classification\\ivy gourd\\fruits train:152 test44 val:22\n",
      "species:D:\\\\AYUSHWORKING\\classification\\ivy gourd\\leaf train:385 test111 val:56\n",
      "species:D:\\\\AYUSHWORKING\\classification\\ivy gourd\\plant train:511 test146 val:73\n",
      "species:D:\\\\AYUSHWORKING\\classification\\Landrina\\leaf train:525 test150 val:75\n",
      "species:D:\\\\AYUSHWORKING\\classification\\Landrina\\plant train:525 test150 val:75\n",
      "species:D:\\\\AYUSHWORKING\\classification\\Lemongrass\\leaves train:526 test151 val:76\n",
      "species:D:\\\\AYUSHWORKING\\classification\\Lemongrass\\Plant train:522 test150 val:75\n",
      "species:D:\\\\AYUSHWORKING\\classification\\lime\\fruit train:163 test47 val:24\n",
      "species:D:\\\\AYUSHWORKING\\classification\\lime\\leaf train:434 test125 val:63\n",
      "species:D:\\\\AYUSHWORKING\\classification\\lime\\Plant train:450 test129 val:65\n",
      "species:D:\\\\AYUSHWORKING\\classification\\longPepper\\kaai train:160 test46 val:23\n",
      "species:D:\\\\AYUSHWORKING\\classification\\longPepper\\leaf train:429 test123 val:62\n",
      "species:D:\\\\AYUSHWORKING\\classification\\longPepper\\plants train:459 test132 val:66\n",
      "species:D:\\\\AYUSHWORKING\\classification\\MiracleLeaf\\leaf train:533 test153 val:77\n",
      "species:D:\\\\AYUSHWORKING\\classification\\MiracleLeaf\\Plant train:515 test148 val:74\n",
      "species:D:\\\\AYUSHWORKING\\classification\\MountainKnotgrass\\leaf train:367 test106 val:53\n",
      "species:D:\\\\AYUSHWORKING\\classification\\MountainKnotgrass\\Plants train:681 test195 val:98\n",
      "species:D:\\\\AYUSHWORKING\\classification\\Neem\\flower train:131 test38 val:19\n",
      "species:D:\\\\AYUSHWORKING\\classification\\Neem\\leaf train:499 test143 val:72\n",
      "species:D:\\\\AYUSHWORKING\\classification\\Neem\\plant train:418 test120 val:60\n",
      "species:D:\\\\AYUSHWORKING\\classification\\Oregano\\leaf train:525 test150 val:75\n",
      "species:D:\\\\AYUSHWORKING\\classification\\Oregano\\plant train:525 test150 val:75\n",
      "species:D:\\\\AYUSHWORKING\\classification\\Pedaliummurex\\flower train:140 test40 val:20\n",
      "species:D:\\\\AYUSHWORKING\\classification\\Pedaliummurex\\leaf train:350 test101 val:50\n",
      "species:D:\\\\AYUSHWORKING\\classification\\Pedaliummurex\\plant train:418 test120 val:60\n",
      "species:D:\\\\AYUSHWORKING\\classification\\Pedaliummurex\\seeds train:140 test41 val:20\n",
      "species:D:\\\\AYUSHWORKING\\classification\\RedPeaEggplant\\Flower train:133 test39 val:19\n",
      "species:D:\\\\AYUSHWORKING\\classification\\RedPeaEggplant\\kaai train:133 test39 val:19\n",
      "species:D:\\\\AYUSHWORKING\\classification\\RedPeaEggplant\\leaf train:355 test102 val:51\n",
      "species:D:\\\\AYUSHWORKING\\classification\\RedPeaEggplant\\plant train:427 test122 val:61\n",
      "species:D:\\\\AYUSHWORKING\\classification\\RingwormPlant\\flower train:196 test56 val:28\n",
      "species:D:\\\\AYUSHWORKING\\classification\\RingwormPlant\\kai train:133 test39 val:19\n",
      "species:D:\\\\AYUSHWORKING\\classification\\RingwormPlant\\leaf train:325 test93 val:47\n",
      "species:D:\\\\AYUSHWORKING\\classification\\RingwormPlant\\Plant train:394 test113 val:57\n",
      "species:D:\\\\AYUSHWORKING\\classification\\Seedsunderleaves\\leaf train:532 test152 val:76\n",
      "species:D:\\\\AYUSHWORKING\\classification\\Seedsunderleaves\\plant train:518 test148 val:74\n",
      "species:D:\\\\AYUSHWORKING\\classification\\SleepyPlant\\flower train:112 test33 val:16\n",
      "species:D:\\\\AYUSHWORKING\\classification\\SleepyPlant\\Leaf train:321 test92 val:46\n",
      "species:D:\\\\AYUSHWORKING\\classification\\SleepyPlant\\Plant train:616 test176 val:88\n",
      "species:D:\\\\AYUSHWORKING\\classification\\tallperennialgrass\\leaf train:412 test118 val:59\n",
      "species:D:\\\\AYUSHWORKING\\classification\\tallperennialgrass\\Plant train:482 test138 val:69\n",
      "species:D:\\\\AYUSHWORKING\\classification\\tallperennialgrass\\root train:154 test45 val:23\n",
      "species:D:\\\\AYUSHWORKING\\classification\\ThornApple\\flower train:141 test41 val:21\n",
      "species:D:\\\\AYUSHWORKING\\classification\\ThornApple\\leaf train:341 test98 val:49\n",
      "species:D:\\\\AYUSHWORKING\\classification\\ThornApple\\Plant train:431 test124 val:62\n",
      "species:D:\\\\AYUSHWORKING\\classification\\ThornApple\\seeds train:133 test39 val:20\n",
      "species:D:\\\\AYUSHWORKING\\classification\\turmeric\\leaf train:357 test102 val:51\n",
      "species:D:\\\\AYUSHWORKING\\classification\\turmeric\\Plant train:552 test158 val:79\n",
      "species:D:\\\\AYUSHWORKING\\classification\\turmeric\\root train:140 test41 val:20\n",
      "species:D:\\\\AYUSHWORKING\\classification\\Vitexnegundo\\flower train:138 test40 val:20\n",
      "species:D:\\\\AYUSHWORKING\\classification\\Vitexnegundo\\leaf train:449 test129 val:65\n",
      "species:D:\\\\AYUSHWORKING\\classification\\Vitexnegundo\\plant train:461 test132 val:66\n",
      "species:D:\\\\AYUSHWORKING\\classification\\WildTurmaric\\kilanku train:196 test57 val:29\n",
      "species:D:\\\\AYUSHWORKING\\classification\\WildTurmaric\\Leaf train:357 test103 val:51\n",
      "species:D:\\\\AYUSHWORKING\\classification\\WildTurmaric\\plant train:494 test142 val:71\n"
     ]
    }
   ],
   "source": [
    "for folders in subfolders_path(ayush_classFication_Working): \n",
    "    for subfolder in subfolders_path(folders):\n",
    "        filepaths=list(map(lambda result:result[0],file_paths(subfolder)))\n",
    "        train_val_data, test_data = train_test_split(filepaths, test_size=0.2, random_state=42)\n",
    "        train_data, val_data = train_test_split( train_val_data, test_size=0.125, random_state=42)\n",
    "        training_dataSet.extend(train_data) \n",
    "        validation_dataset.extend(val_data)\n",
    "        test_dataset.extend(test_data)\n",
    "        test_train_valSplit.append([subfolder,len(train_data),len(test_data),len(val_data)])\n",
    "        print(f'species:{subfolder} train:{len(train_data)} test{len(test_data)} val:{len(val_data)}')"
   ]
  },
  {
   "cell_type": "code",
   "execution_count": 9,
   "metadata": {},
   "outputs": [],
   "source": [
    "# training dataset Prepare\n",
    "for trainingData in training_dataSet:\n",
    "    newPath=os.path.join(ayush_classFication_Working_ready,'train',rel_path(trainingData,ayush_classFication_Working))\n",
    "    new_target_folder=file_parent_folder(newPath)\n",
    "    copy_file(trainingData,new_target_folder)"
   ]
  },
  {
   "cell_type": "code",
   "execution_count": 10,
   "metadata": {},
   "outputs": [],
   "source": [
    "for validationData in validation_dataset:\n",
    "    newPath=os.path.join(ayush_classFication_Working_ready,'val',rel_path(validationData,ayush_classFication_Working))\n",
    "    new_target_folder=file_parent_folder(newPath)\n",
    "    copy_file(validationData,new_target_folder)"
   ]
  },
  {
   "cell_type": "code",
   "execution_count": 11,
   "metadata": {},
   "outputs": [],
   "source": [
    "for testData in test_dataset:\n",
    "    newPath=os.path.join(ayush_classFication_Working_ready,'test',rel_path(testData,ayush_classFication_Working))\n",
    "    new_target_folder=file_parent_folder(newPath)\n",
    "    copy_file(testData,new_target_folder)"
   ]
  },
  {
   "cell_type": "code",
   "execution_count": 12,
   "metadata": {},
   "outputs": [
    {
     "data": {
      "text/plain": [
       "89"
      ]
     },
     "execution_count": 12,
     "metadata": {},
     "output_type": "execute_result"
    }
   ],
   "source": [
    "save_to_csv_filedetails(data= test_train_valSplit,colums=['Path','train','test',\"val\"],csv_filename='Training_testing-val.csv',save_folder=today_classfication_analysis_path)"
   ]
  }
 ],
 "metadata": {
  "kernelspec": {
   "display_name": "Python 3",
   "language": "python",
   "name": "python3"
  },
  "language_info": {
   "codemirror_mode": {
    "name": "ipython",
    "version": 3
   },
   "file_extension": ".py",
   "mimetype": "text/x-python",
   "name": "python",
   "nbconvert_exporter": "python",
   "pygments_lexer": "ipython3",
   "version": "3.11.9"
  }
 },
 "nbformat": 4,
 "nbformat_minor": 2
}
