{
 "cells": [
  {
   "cell_type": "code",
   "execution_count": 1,
   "metadata": {},
   "outputs": [],
   "source": [
    "import os\n",
    "import shutil"
   ]
  },
  {
   "cell_type": "code",
   "execution_count": 2,
   "metadata": {},
   "outputs": [
    {
     "name": "stdout",
     "output_type": "stream",
     "text": [
      "created\n"
     ]
    }
   ],
   "source": [
    "%run ../../Util/FileFolder\n",
    "%run ../../Util/Variable\n",
    "%run ../../Util/ImageProcessing"
   ]
  },
  {
   "cell_type": "code",
   "execution_count": 3,
   "metadata": {},
   "outputs": [],
   "source": [
    "root_path='D:\\AYUSHWORKING\\classification'\n",
    "datasetpath=os.path.join(root_path,'Source')\n",
    "readypath=os.path.join(root_path,'pretained')"
   ]
  },
  {
   "cell_type": "code",
   "execution_count": 47,
   "metadata": {},
   "outputs": [],
   "source": [
    "if not os.path.exists(readypath):\n",
    "    os.makedirs(readypath)"
   ]
  },
  {
   "cell_type": "code",
   "execution_count": 48,
   "metadata": {},
   "outputs": [],
   "source": [
    "copy_folder_stucture(datasetpath,readypath)"
   ]
  },
  {
   "cell_type": "code",
   "execution_count": 30,
   "metadata": {},
   "outputs": [],
   "source": [
    "total_count=500"
   ]
  },
  {
   "cell_type": "code",
   "execution_count": 31,
   "metadata": {},
   "outputs": [],
   "source": [
    "leave_plant_only_set=[]\n",
    "leave_plant_only_other_set=[]\n",
    "leave_plant_with_other_2=[]"
   ]
  },
  {
   "cell_type": "code",
   "execution_count": 32,
   "metadata": {},
   "outputs": [
    {
     "name": "stdout",
     "output_type": "stream",
     "text": [
      "AdamantCreeper->167\n",
      "Alovera->250\n",
      "Betel->250\n",
      "Black-HoneyShrub->250\n",
      "Calotropisgigantea->167\n",
      "Caster->167\n",
      "Cinnamon->250\n",
      "ginger->167\n",
      "Henna->250\n",
      "Hibiscus->167\n",
      "HolyBasil->167\n",
      "indian Mallow->167\n",
      "Indianacalypha->167\n",
      "ivy gourd->167\n",
      "Landrina->250\n",
      "Lemongrass->250\n",
      "lime->167\n",
      "longPepper->167\n",
      "MiracleLeaf->250\n",
      "MountainKnotgrass->250\n",
      "Neem->167\n",
      "Oregano->250\n",
      "Pedaliummurex->125\n",
      "RedPeaEggplant->125\n",
      "RingwormPlant->125\n",
      "Seedsunderleaves->250\n",
      "SleepyPlant->167\n",
      "tallperennialgrass->167\n",
      "ThornApple->125\n",
      "turmeric->167\n",
      "Vitexnegundo->167\n",
      "WildTurmaric->167\n"
     ]
    }
   ],
   "source": [
    "for sub_folder in os.listdir(datasetpath):\n",
    "    subfolders=os.listdir(os.path.join(datasetpath,sub_folder))\n",
    "    fration_count=round(total_count/len(subfolders))\n",
    "    print(f'{sub_folder}->{fration_count}')\n",
    "    if fration_count==250:\n",
    "        leave_plant_only_set.append(sub_folder)\n",
    "    if fration_count==167:\n",
    "        leave_plant_only_other_set.append(sub_folder)\n",
    "    if fration_count==125:\n",
    "        leave_plant_with_other_2.append(sub_folder)\n",
    "    "
   ]
  },
  {
   "cell_type": "code",
   "execution_count": 35,
   "metadata": {},
   "outputs": [
    {
     "data": {
      "text/plain": [
       "['Alovera',\n",
       " 'Betel',\n",
       " 'Black-HoneyShrub',\n",
       " 'Cinnamon',\n",
       " 'Henna',\n",
       " 'Landrina',\n",
       " 'Lemongrass',\n",
       " 'MiracleLeaf',\n",
       " 'MountainKnotgrass',\n",
       " 'Oregano',\n",
       " 'Seedsunderleaves']"
      ]
     },
     "execution_count": 35,
     "metadata": {},
     "output_type": "execute_result"
    }
   ],
   "source": [
    "leave_plant_only_set"
   ]
  },
  {
   "cell_type": "code",
   "execution_count": 34,
   "metadata": {},
   "outputs": [
    {
     "data": {
      "text/plain": [
       "['AdamantCreeper',\n",
       " 'Calotropisgigantea',\n",
       " 'Caster',\n",
       " 'ginger',\n",
       " 'Hibiscus',\n",
       " 'HolyBasil',\n",
       " 'indian Mallow',\n",
       " 'Indianacalypha',\n",
       " 'ivy gourd',\n",
       " 'lime',\n",
       " 'longPepper',\n",
       " 'Neem',\n",
       " 'SleepyPlant',\n",
       " 'tallperennialgrass',\n",
       " 'turmeric',\n",
       " 'Vitexnegundo',\n",
       " 'WildTurmaric']"
      ]
     },
     "execution_count": 34,
     "metadata": {},
     "output_type": "execute_result"
    }
   ],
   "source": [
    "leave_plant_only_other_set"
   ]
  },
  {
   "cell_type": "code",
   "execution_count": 36,
   "metadata": {},
   "outputs": [
    {
     "data": {
      "text/plain": [
       "['Pedaliummurex', 'RedPeaEggplant', 'RingwormPlant', 'ThornApple']"
      ]
     },
     "execution_count": 36,
     "metadata": {},
     "output_type": "execute_result"
    }
   ],
   "source": [
    "leave_plant_with_other_2"
   ]
  },
  {
   "cell_type": "code",
   "execution_count": 37,
   "metadata": {},
   "outputs": [
    {
     "data": {
      "text/plain": [
       "32"
      ]
     },
     "execution_count": 37,
     "metadata": {},
     "output_type": "execute_result"
    }
   ],
   "source": [
    "len(leave_plant_with_other_2)+len(leave_plant_only_other_set)+len(leave_plant_only_set)"
   ]
  },
  {
   "cell_type": "code",
   "execution_count": 49,
   "metadata": {},
   "outputs": [],
   "source": [
    "selected_leave_plants_images=[]"
   ]
  },
  {
   "cell_type": "code",
   "execution_count": 50,
   "metadata": {},
   "outputs": [],
   "source": [
    "for specie in leave_plant_only_set:\n",
    "    sourcePath=os.path.join(datasetpath,specie)\n",
    "    for sub in os.listdir(sourcePath):\n",
    "        files=list(map(lambda file:os.path.join(sourcePath,sub,file),os.listdir(os.path.join(sourcePath,sub))))\n",
    "        selected_images=randomImage(files,250)\n",
    "        modifyImages=list(map(lambda img:[img,os.path.join(readypath,os.path.relpath(img,datasetpath))],selected_images))\n",
    "        selected_leave_plants_images.extend(modifyImages)\n",
    "        "
   ]
  },
  {
   "cell_type": "code",
   "execution_count": 51,
   "metadata": {},
   "outputs": [],
   "source": [
    "for original,target in selected_leave_plants_images:\n",
    "    shutil.copy2(original,target)"
   ]
  },
  {
   "cell_type": "code",
   "execution_count": 54,
   "metadata": {},
   "outputs": [],
   "source": [
    "selected_leave_plants_other_images=[]"
   ]
  },
  {
   "cell_type": "code",
   "execution_count": 55,
   "metadata": {},
   "outputs": [],
   "source": [
    "for specie in leave_plant_only_other_set:\n",
    "    sourcePath=os.path.join(datasetpath,specie)\n",
    "    for sub in os.listdir(sourcePath):\n",
    "        expected_count=200 if sub=='leaves' or sub=='plants' else 100 \n",
    "        files=list(map(lambda file:os.path.join(sourcePath,sub,file),os.listdir(os.path.join(sourcePath,sub))))\n",
    "        selected_images=randomImage(files,expected_count)\n",
    "        modifyImages=list(map(lambda img:[img,os.path.join(readypath,os.path.relpath(img,datasetpath))],selected_images))\n",
    "        selected_leave_plants_other_images.extend(modifyImages)"
   ]
  },
  {
   "cell_type": "code",
   "execution_count": 56,
   "metadata": {},
   "outputs": [],
   "source": [
    "for original,target in selected_leave_plants_other_images:\n",
    "    shutil.copy2(original,target)"
   ]
  },
  {
   "cell_type": "code",
   "execution_count": 58,
   "metadata": {},
   "outputs": [],
   "source": [
    "selected_leave_plants_2other_images=[]"
   ]
  },
  {
   "cell_type": "code",
   "execution_count": 59,
   "metadata": {},
   "outputs": [],
   "source": [
    "for specie in leave_plant_with_other_2:\n",
    "    sourcePath=os.path.join(datasetpath,specie)\n",
    "    for sub in os.listdir(sourcePath):\n",
    "        expected_count=150 if sub=='leaves' or sub=='plants' else 100 \n",
    "        files=list(map(lambda file:os.path.join(sourcePath,sub,file),os.listdir(os.path.join(sourcePath,sub))))\n",
    "        selected_images=randomImage(files,expected_count)\n",
    "        modifyImages=list(map(lambda img:[img,os.path.join(readypath,os.path.relpath(img,datasetpath))],selected_images))\n",
    "        selected_leave_plants_2other_images.extend(modifyImages)"
   ]
  },
  {
   "cell_type": "code",
   "execution_count": 60,
   "metadata": {},
   "outputs": [],
   "source": [
    "for original,target in selected_leave_plants_2other_images:\n",
    "    shutil.copy2(original,target)"
   ]
  },
  {
   "cell_type": "code",
   "execution_count": 61,
   "metadata": {},
   "outputs": [
    {
     "name": "stdout",
     "output_type": "stream",
     "text": [
      "AdamantCreeper=>500\n",
      "Alovera=>500\n",
      "Betel=>500\n",
      "Black-HoneyShrub=>500\n",
      "Calotropisgigantea=>500\n",
      "Caster=>500\n",
      "Cinnamon=>500\n",
      "ginger=>500\n",
      "Henna=>500\n",
      "Hibiscus=>500\n",
      "HolyBasil=>500\n",
      "indian Mallow=>500\n",
      "Indianacalypha=>500\n",
      "ivy gourd=>500\n",
      "Landrina=>500\n",
      "Lemongrass=>500\n",
      "lime=>500\n",
      "longPepper=>500\n",
      "MiracleLeaf=>500\n",
      "MountainKnotgrass=>500\n",
      "Neem=>500\n",
      "Oregano=>500\n",
      "Pedaliummurex=>500\n",
      "RedPeaEggplant=>500\n",
      "RingwormPlant=>500\n",
      "Seedsunderleaves=>500\n",
      "SleepyPlant=>500\n",
      "tallperennialgrass=>500\n",
      "ThornApple=>500\n",
      "turmeric=>500\n",
      "Vitexnegundo=>500\n",
      "WildTurmaric=>500\n"
     ]
    }
   ],
   "source": [
    "for folder in os.listdir(readypath):\n",
    "    print(f'{folder}=>{count_files_in_folder(os.path.join(readypath,folder))}')"
   ]
  }
 ],
 "metadata": {
  "kernelspec": {
   "display_name": "Python 3",
   "language": "python",
   "name": "python3"
  },
  "language_info": {
   "codemirror_mode": {
    "name": "ipython",
    "version": 3
   },
   "file_extension": ".py",
   "mimetype": "text/x-python",
   "name": "python",
   "nbconvert_exporter": "python",
   "pygments_lexer": "ipython3",
   "version": "3.11.undefined"
  }
 },
 "nbformat": 4,
 "nbformat_minor": 2
}
