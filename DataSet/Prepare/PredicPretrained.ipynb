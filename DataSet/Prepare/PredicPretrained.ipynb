{
 "cells": [
  {
   "cell_type": "code",
   "execution_count": 1,
   "metadata": {},
   "outputs": [],
   "source": [
    "import os\n",
    "import shutil"
   ]
  },
  {
   "cell_type": "code",
   "execution_count": 2,
   "metadata": {},
   "outputs": [
    {
     "name": "stdout",
     "output_type": "stream",
     "text": [
      "created\n"
     ]
    }
   ],
   "source": [
    "%run ../../Util/FileFolder\n",
    "%run ../../Util/Variable\n",
    "%run ../../Util/ImageProcessing"
   ]
  },
  {
   "cell_type": "code",
   "execution_count": 3,
   "metadata": {},
   "outputs": [],
   "source": [
    "root_path='D:\\AYUSHWORKING\\classification'\n",
    "datasetpath=os.path.join(root_path,'AyushPartPreparation')\n",
    "readypath=os.path.join(root_path,'Predicts')"
   ]
  },
  {
   "cell_type": "code",
   "execution_count": 4,
   "metadata": {},
   "outputs": [],
   "source": [
    "if not os.path.exists(readypath):\n",
    "    os.makedirs(readypath)"
   ]
  },
  {
   "cell_type": "code",
   "execution_count": 6,
   "metadata": {},
   "outputs": [],
   "source": [
    "partcount={'leaves':130,'plants':170,'roots':5,'raw_fruits':90,'flowers':80,'tumbers':25}"
   ]
  },
  {
   "cell_type": "code",
   "execution_count": 37,
   "metadata": {},
   "outputs": [],
   "source": [
    "slectedImages=[]\n",
    "for part in os.listdir(datasetpath):\n",
    "    containfiles=[]\n",
    "    expected_count=partcount.get(part)\n",
    "    for root,dirs,files in os.walk(os.path.join(datasetpath,part)):\n",
    "        containfiles.extend(list(map(lambda file:os.path.join(root,file),files)))\n",
    "    slectedImages.extend(randomImage(containfiles,expected_count))\n"
   ]
  },
  {
   "cell_type": "code",
   "execution_count": 42,
   "metadata": {},
   "outputs": [],
   "source": [
    "for img in slectedImages:\n",
    "    shutil.copy2(img,readypath)"
   ]
  },
  {
   "cell_type": "code",
   "execution_count": 44,
   "metadata": {},
   "outputs": [],
   "source": [
    "for root,dirs,files in os.walk(readypath):\n",
    "    for file in files:\n",
    "        os.rename(os.path.join(root,file),os.path.join(root,os.path.splitext(file)[0]))"
   ]
  },
  {
   "cell_type": "code",
   "execution_count": 60,
   "metadata": {},
   "outputs": [],
   "source": [
    "for original,target in selected_leave_plants_2other_images:\n",
    "    shutil.copy2(original,target)"
   ]
  },
  {
   "cell_type": "code",
   "execution_count": 61,
   "metadata": {},
   "outputs": [
    {
     "name": "stdout",
     "output_type": "stream",
     "text": [
      "AdamantCreeper=>500\n",
      "Alovera=>500\n",
      "Betel=>500\n",
      "Black-HoneyShrub=>500\n",
      "Calotropisgigantea=>500\n",
      "Caster=>500\n",
      "Cinnamon=>500\n",
      "ginger=>500\n",
      "Henna=>500\n",
      "Hibiscus=>500\n",
      "HolyBasil=>500\n",
      "indian Mallow=>500\n",
      "Indianacalypha=>500\n",
      "ivy gourd=>500\n",
      "Landrina=>500\n",
      "Lemongrass=>500\n",
      "lime=>500\n",
      "longPepper=>500\n",
      "MiracleLeaf=>500\n",
      "MountainKnotgrass=>500\n",
      "Neem=>500\n",
      "Oregano=>500\n",
      "Pedaliummurex=>500\n",
      "RedPeaEggplant=>500\n",
      "RingwormPlant=>500\n",
      "Seedsunderleaves=>500\n",
      "SleepyPlant=>500\n",
      "tallperennialgrass=>500\n",
      "ThornApple=>500\n",
      "turmeric=>500\n",
      "Vitexnegundo=>500\n",
      "WildTurmaric=>500\n"
     ]
    }
   ],
   "source": [
    "for folder in os.listdir(readypath):\n",
    "    print(f'{folder}=>{count_files_in_folder(os.path.join(readypath,folder))}')"
   ]
  }
 ],
 "metadata": {
  "kernelspec": {
   "display_name": "Python 3",
   "language": "python",
   "name": "python3"
  },
  "language_info": {
   "codemirror_mode": {
    "name": "ipython",
    "version": 3
   },
   "file_extension": ".py",
   "mimetype": "text/x-python",
   "name": "python",
   "nbconvert_exporter": "python",
   "pygments_lexer": "ipython3",
   "version": "3.11.9"
  }
 },
 "nbformat": 4,
 "nbformat_minor": 2
}
