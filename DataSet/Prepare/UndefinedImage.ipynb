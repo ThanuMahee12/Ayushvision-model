{
  "cells": [
    {
      "cell_type": "markdown",
      "metadata": {
        "id": "view-in-github",
        "colab_type": "text"
      },
      "source": [
        "<a href=\"https://colab.research.google.com/github/ThanuMahee12/ayush-vision/blob/data-prepare/DataSet/Prepare/UndefinedImage.ipynb\" target=\"_parent\"><img src=\"https://colab.research.google.com/assets/colab-badge.svg\" alt=\"Open In Colab\"/></a>"
      ]
    },
    {
      "cell_type": "code",
      "execution_count": 17,
      "metadata": {
        "id": "6ynvzPc8SICD"
      },
      "outputs": [],
      "source": [
        "import os\n",
        "import tensorflow as tf\n",
        "from tensorflow.keras.preprocessing import image\n",
        "\n"
      ]
    },
    {
      "cell_type": "code",
      "source": [
        "from google.colab import drive\n",
        "drive.mount('/content/drive')"
      ],
      "metadata": {
        "id": "lMDPn5lHSS9v",
        "outputId": "3e4a7775-1292-480b-d5fc-5902001a7e35",
        "colab": {
          "base_uri": "https://localhost:8080/"
        }
      },
      "execution_count": 20,
      "outputs": [
        {
          "output_type": "stream",
          "name": "stdout",
          "text": [
            "Drive already mounted at /content/drive; to attempt to forcibly remount, call drive.mount(\"/content/drive\", force_remount=True).\n"
          ]
        }
      ]
    },
    {
      "cell_type": "code",
      "execution_count": 21,
      "metadata": {
        "id": "qjl50baISICG"
      },
      "outputs": [],
      "source": [
        "def is_image_file(filepath):\n",
        "    try:\n",
        "        img = image.load_img(filepath)\n",
        "        return True\n",
        "    except Exception as e:\n",
        "        return False\n"
      ]
    },
    {
      "cell_type": "code",
      "execution_count": 28,
      "metadata": {
        "id": "84AkS9MdSICH"
      },
      "outputs": [],
      "source": [
        "\n",
        "def remove_undefined_images(folder_path):\n",
        "    for root,_,filenames in os.walk(folder_path):\n",
        "        for filename in filenames:\n",
        "          file_path = os.path.join(root, filename)\n",
        "          if not is_image_file(file_path):\n",
        "            os.remove(file_path)\n",
        "            print(f\"Removed undefined image: {file_path}\")\n",
        "\n"
      ]
    },
    {
      "cell_type": "code",
      "execution_count": 29,
      "metadata": {
        "id": "_MAP1BPBSICH"
      },
      "outputs": [],
      "source": [
        "# Specify the folder path containing the images\n",
        "folder_path = '/content/drive/MyDrive/AYUSHFOLDER'\n"
      ]
    },
    {
      "cell_type": "code",
      "execution_count": 30,
      "metadata": {
        "id": "lIdv0PO7SICI"
      },
      "outputs": [],
      "source": [
        "\n",
        "# Remove undefined images\n",
        "remove_undefined_images(folder_path)"
      ]
    }
  ],
  "metadata": {
    "language_info": {
      "name": "python"
    },
    "colab": {
      "provenance": [],
      "include_colab_link": true
    },
    "kernelspec": {
      "name": "python3",
      "display_name": "Python 3"
    }
  },
  "nbformat": 4,
  "nbformat_minor": 0
}