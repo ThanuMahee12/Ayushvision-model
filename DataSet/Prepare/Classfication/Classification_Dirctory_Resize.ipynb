{
 "cells": [
  {
   "cell_type": "code",
   "execution_count": 1,
   "metadata": {},
   "outputs": [],
   "source": [
    "import os"
   ]
  },
  {
   "cell_type": "code",
   "execution_count": 2,
   "metadata": {},
   "outputs": [],
   "source": [
    "import pandas as pd"
   ]
  },
  {
   "cell_type": "code",
   "execution_count": 3,
   "metadata": {},
   "outputs": [],
   "source": [
    "import time"
   ]
  },
  {
   "cell_type": "code",
   "execution_count": 4,
   "metadata": {},
   "outputs": [
    {
     "name": "stdout",
     "output_type": "stream",
     "text": [
      "created\n"
     ]
    }
   ],
   "source": [
    "%run ../../Util/FileFolder"
   ]
  },
  {
   "cell_type": "code",
   "execution_count": 5,
   "metadata": {},
   "outputs": [],
   "source": [
    "%run ../../Util/Variable"
   ]
  },
  {
   "cell_type": "code",
   "execution_count": 6,
   "metadata": {},
   "outputs": [],
   "source": [
    "%run ../../Util/ImageProcessing"
   ]
  },
  {
   "cell_type": "code",
   "execution_count": 7,
   "metadata": {},
   "outputs": [],
   "source": [
    "create_new_folders(ayush_classification_prepare_summary)"
   ]
  },
  {
   "cell_type": "code",
   "execution_count": 8,
   "metadata": {},
   "outputs": [],
   "source": [
    "subfolderspaths_collection=subfolders_path(ayush_classFication_Working)"
   ]
  },
  {
   "cell_type": "code",
   "execution_count": 11,
   "metadata": {},
   "outputs": [
    {
     "name": "stdout",
     "output_type": "stream",
     "text": [
      "D:\\\\AYUSHWORKING\\classification\\HolyBasil entry \n",
      "resized all images\n",
      "D:\\\\AYUSHWORKING\\classification\\HolyBasil-> 1500 complete \n",
      "D:\\\\AYUSHWORKING\\classification\\indian Mallow entry \n",
      "resized all images\n",
      "D:\\\\AYUSHWORKING\\classification\\indian Mallow-> 1501 complete \n",
      "D:\\\\AYUSHWORKING\\classification\\Indianacalypha entry \n",
      "resized all images\n",
      "D:\\\\AYUSHWORKING\\classification\\Indianacalypha-> 1501 complete \n",
      "D:\\\\AYUSHWORKING\\classification\\ivy gourd entry \n",
      "resized all images\n",
      "D:\\\\AYUSHWORKING\\classification\\ivy gourd-> 1501 complete \n",
      "D:\\\\AYUSHWORKING\\classification\\Landrina entry \n",
      "resized all images\n",
      "D:\\\\AYUSHWORKING\\classification\\Landrina-> 1501 complete \n",
      "D:\\\\AYUSHWORKING\\classification\\Lemongrass entry \n",
      "resized all images\n",
      "D:\\\\AYUSHWORKING\\classification\\Lemongrass-> 1501 complete \n",
      "D:\\\\AYUSHWORKING\\classification\\lime entry \n",
      "resized all images\n",
      "D:\\\\AYUSHWORKING\\classification\\lime-> 1501 complete \n",
      "D:\\\\AYUSHWORKING\\classification\\longPepper entry \n",
      "resized all images\n",
      "D:\\\\AYUSHWORKING\\classification\\longPepper-> 1500 complete \n",
      "D:\\\\AYUSHWORKING\\classification\\MiracleLeaf entry \n",
      "resized all images\n",
      "D:\\\\AYUSHWORKING\\classification\\MiracleLeaf-> 1501 complete \n",
      "D:\\\\AYUSHWORKING\\classification\\MountainKnotgrass entry \n",
      "resized all images\n",
      "D:\\\\AYUSHWORKING\\classification\\MountainKnotgrass-> 1500 complete \n",
      "D:\\\\AYUSHWORKING\\classification\\Neem entry \n",
      "resized all images\n",
      "D:\\\\AYUSHWORKING\\classification\\Neem-> 1500 complete \n",
      "D:\\\\AYUSHWORKING\\classification\\Oregano entry \n",
      "resized all images\n",
      "D:\\\\AYUSHWORKING\\classification\\Oregano-> 1500 complete \n",
      "D:\\\\AYUSHWORKING\\classification\\Pedaliummurex entry \n",
      "File 'D:\\\\AYUSHWORKING\\classification\\Pedaliummurex\\plant\\IMG20240425075433.jpg' seems too small, possibly truncated.\n",
      "resized all images\n",
      "D:\\\\AYUSHWORKING\\classification\\Pedaliummurex-> 1501 complete \n",
      "D:\\\\AYUSHWORKING\\classification\\RedPeaEggplant entry \n",
      "resized all images\n",
      "D:\\\\AYUSHWORKING\\classification\\RedPeaEggplant-> 1500 complete \n",
      "D:\\\\AYUSHWORKING\\classification\\RingwormPlant entry \n",
      "resized all images\n",
      "D:\\\\AYUSHWORKING\\classification\\RingwormPlant-> 1500 complete \n",
      "D:\\\\AYUSHWORKING\\classification\\Seedsunderleaves entry \n",
      "resized all images\n",
      "D:\\\\AYUSHWORKING\\classification\\Seedsunderleaves-> 1501 complete \n",
      "D:\\\\AYUSHWORKING\\classification\\SleepyPlant entry \n",
      "resized all images\n",
      "D:\\\\AYUSHWORKING\\classification\\SleepyPlant-> 1500 complete \n",
      "D:\\\\AYUSHWORKING\\classification\\tallperennialgrass entry \n",
      "resized all images\n",
      "D:\\\\AYUSHWORKING\\classification\\tallperennialgrass-> 1500 complete \n",
      "D:\\\\AYUSHWORKING\\classification\\ThornApple entry \n",
      "resized all images\n",
      "D:\\\\AYUSHWORKING\\classification\\ThornApple-> 1500 complete \n",
      "D:\\\\AYUSHWORKING\\classification\\turmeric entry \n",
      "resized all images\n",
      "D:\\\\AYUSHWORKING\\classification\\turmeric-> 1501 complete \n",
      "D:\\\\AYUSHWORKING\\classification\\Vitexnegundo entry \n",
      "resized all images\n",
      "D:\\\\AYUSHWORKING\\classification\\Vitexnegundo-> 1500 complete \n",
      "D:\\\\AYUSHWORKING\\classification\\WildTurmaric entry \n",
      "resized all images\n",
      "D:\\\\AYUSHWORKING\\classification\\WildTurmaric-> 1500 complete \n"
     ]
    }
   ],
   "source": [
    "for subfold in subfolderspaths_collection:\n",
    "    print(f'{subfold} entry ')\n",
    "    collection_files=file_paths(subfold)\n",
    "    collection_files=list(map(lambda result:result[0],collection_files))\n",
    "    resize_image_folder(ImageSetPaths=collection_files,size=(224,224))\n",
    "    print(f'{subfold}-> {len(collection_files)} complete ')\n",
    "    "
   ]
  }
 ],
 "metadata": {
  "kernelspec": {
   "display_name": "Python 3",
   "language": "python",
   "name": "python3"
  },
  "language_info": {
   "codemirror_mode": {
    "name": "ipython",
    "version": 3
   },
   "file_extension": ".py",
   "mimetype": "text/x-python",
   "name": "python",
   "nbconvert_exporter": "python",
   "pygments_lexer": "ipython3",
   "version": "3.11.9"
  }
 },
 "nbformat": 4,
 "nbformat_minor": 2
}
