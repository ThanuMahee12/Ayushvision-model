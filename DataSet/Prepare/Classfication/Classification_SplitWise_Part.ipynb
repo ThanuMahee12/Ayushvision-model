{
 "cells": [
  {
   "cell_type": "code",
   "execution_count": 1,
   "metadata": {},
   "outputs": [],
   "source": [
    "import os"
   ]
  },
  {
   "cell_type": "code",
   "execution_count": 2,
   "metadata": {},
   "outputs": [],
   "source": [
    "import pandas as pd"
   ]
  },
  {
   "cell_type": "code",
   "execution_count": 3,
   "metadata": {},
   "outputs": [],
   "source": [
    "import time"
   ]
  },
  {
   "cell_type": "code",
   "execution_count": 4,
   "metadata": {},
   "outputs": [
    {
     "name": "stdout",
     "output_type": "stream",
     "text": [
      "created\n"
     ]
    }
   ],
   "source": [
    "%run ../../../Util/FileFolder"
   ]
  },
  {
   "cell_type": "code",
   "execution_count": 5,
   "metadata": {},
   "outputs": [],
   "source": [
    "%run ../../../Util/Variable"
   ]
  },
  {
   "cell_type": "code",
   "execution_count": 6,
   "metadata": {},
   "outputs": [],
   "source": [
    "%run ../../../Util/ImageProcessing"
   ]
  },
  {
   "cell_type": "code",
   "execution_count": 7,
   "metadata": {},
   "outputs": [],
   "source": [
    "create_new_folders(ayush_classification_prepare_summary)"
   ]
  },
  {
   "cell_type": "code",
   "execution_count": 8,
   "metadata": {},
   "outputs": [],
   "source": [
    "source_path=os.path.join(ayush_classFication_Working,'Source')"
   ]
  },
  {
   "cell_type": "code",
   "execution_count": 9,
   "metadata": {},
   "outputs": [],
   "source": [
    "partworkdir=os.path.join(ayush_classFication_Working,'parts')"
   ]
  },
  {
   "cell_type": "code",
   "execution_count": 10,
   "metadata": {},
   "outputs": [],
   "source": [
    "create_new_folders(partworkdir)"
   ]
  },
  {
   "cell_type": "code",
   "execution_count": 11,
   "metadata": {},
   "outputs": [],
   "source": [
    "parts=['plants','leaves','flowers','raw_fruits','roots','tumbers']"
   ]
  },
  {
   "cell_type": "code",
   "execution_count": 12,
   "metadata": {},
   "outputs": [],
   "source": [
    "subfolders_names=sub_folders(source_path)"
   ]
  },
  {
   "cell_type": "code",
   "execution_count": 13,
   "metadata": {},
   "outputs": [],
   "source": [
    "folders=[]"
   ]
  },
  {
   "cell_type": "code",
   "execution_count": 14,
   "metadata": {},
   "outputs": [
    {
     "name": "stdout",
     "output_type": "stream",
     "text": [
      "plants->32->['AdamantCreeper', 'Alovera', 'Betel', 'Black-HoneyShrub', 'Calotropisgigantea', 'Caster', 'Cinnamon', 'ginger', 'Henna', 'Hibiscus', 'HolyBasil', 'indian Mallow', 'Indianacalypha', 'ivy gourd', 'Landrina', 'Lemongrass', 'lime', 'longPepper', 'MiracleLeaf', 'MountainKnotgrass', 'Neem', 'Oregano', 'Pedaliummurex', 'RedPeaEggplant', 'RingwormPlant', 'Seedsunderleaves', 'SleepyPlant', 'tallperennialgrass', 'ThornApple', 'turmeric', 'Vitexnegundo', 'WildTurmaric']\n",
      "leaves->32->['AdamantCreeper', 'Alovera', 'Betel', 'Black-HoneyShrub', 'Calotropisgigantea', 'Caster', 'Cinnamon', 'ginger', 'Henna', 'Hibiscus', 'HolyBasil', 'indian Mallow', 'Indianacalypha', 'ivy gourd', 'Landrina', 'Lemongrass', 'lime', 'longPepper', 'MiracleLeaf', 'MountainKnotgrass', 'Neem', 'Oregano', 'Pedaliummurex', 'RedPeaEggplant', 'RingwormPlant', 'Seedsunderleaves', 'SleepyPlant', 'tallperennialgrass', 'ThornApple', 'turmeric', 'Vitexnegundo', 'WildTurmaric']\n",
      "flowers->12->['AdamantCreeper', 'Calotropisgigantea', 'Hibiscus', 'HolyBasil', 'Indianacalypha', 'Neem', 'Pedaliummurex', 'RedPeaEggplant', 'RingwormPlant', 'SleepyPlant', 'ThornApple', 'Vitexnegundo']\n",
      "raw_fruits->9->['Caster', 'indian Mallow', 'ivy gourd', 'lime', 'longPepper', 'Pedaliummurex', 'RedPeaEggplant', 'RingwormPlant', 'ThornApple']\n",
      "roots->1->['tallperennialgrass']\n",
      "tumbers->3->['ginger', 'turmeric', 'WildTurmaric']\n"
     ]
    }
   ],
   "source": [
    "for part in parts:\n",
    "    avialble=[]\n",
    "    for subfolder in subfolders_names:\n",
    "        count=count_files_in_folder(os.path.join(source_path,subfolder,part))\n",
    "        if count>0:\n",
    "            avialble.append(subfolder)\n",
    "    newfolders=list(map(lambda name:os.path.join(partworkdir,part,name),avialble))\n",
    "    oldfolders=list(map(lambda name:os.path.join(partworkdir,name,part),avialble))\n",
    "    for old,new in zip(oldfolders,newfolders):\n",
    "        folders.append([old,new])\n",
    "    print(f'{part}->{len(avialble)}->{avialble}')"
   ]
  },
  {
   "cell_type": "code",
   "execution_count": 15,
   "metadata": {},
   "outputs": [],
   "source": [
    "newfolders=list(map(lambda folder:folder[1],folders))"
   ]
  },
  {
   "cell_type": "code",
   "execution_count": 16,
   "metadata": {},
   "outputs": [],
   "source": [
    "for fold in set(newfolders):\n",
    "    os.makedirs(fold)"
   ]
  },
  {
   "cell_type": "code",
   "execution_count": 17,
   "metadata": {},
   "outputs": [
    {
     "name": "stdout",
     "output_type": "stream",
     "text": [
      "AdamantCreeper\n",
      "Alovera\n",
      "Betel\n",
      "Black-HoneyShrub\n",
      "Calotropisgigantea\n",
      "Caster\n",
      "Cinnamon\n",
      "ginger\n",
      "Henna\n",
      "Hibiscus\n",
      "HolyBasil\n",
      "indian Mallow\n",
      "Indianacalypha\n",
      "ivy gourd\n",
      "Landrina\n",
      "Lemongrass\n",
      "lime\n",
      "longPepper\n",
      "MiracleLeaf\n",
      "MountainKnotgrass\n",
      "Neem\n",
      "Oregano\n",
      "Pedaliummurex\n",
      "RedPeaEggplant\n",
      "RingwormPlant\n",
      "Seedsunderleaves\n",
      "SleepyPlant\n",
      "tallperennialgrass\n",
      "ThornApple\n",
      "turmeric\n",
      "Vitexnegundo\n",
      "WildTurmaric\n"
     ]
    }
   ],
   "source": [
    "for subfolder in os.listdir(source_path):\n",
    "    for subsubfolder in os.listdir(os.path.join(source_path,subfolder)):\n",
    "        count=count_files_in_folder(os.path.join(source_path,subfolder,subsubfolder))\n",
    "        if count>0:\n",
    "            newfolder=os.path.join(partworkdir,subsubfolder,subfolder)\n",
    "            oldfolder=os.path.join(source_path,subfolder,subsubfolder)\n",
    "            for file in os.listdir(oldfolder):\n",
    "                filename=os.path.join(oldfolder,file)\n",
    "                copy_file(filename,newfolder)\n",
    "    print(subfolder)"
   ]
  }
 ],
 "metadata": {
  "kernelspec": {
   "display_name": "Python 3",
   "language": "python",
   "name": "python3"
  },
  "language_info": {
   "codemirror_mode": {
    "name": "ipython",
    "version": 3
   },
   "file_extension": ".py",
   "mimetype": "text/x-python",
   "name": "python",
   "nbconvert_exporter": "python",
   "pygments_lexer": "ipython3",
   "version": "3.11.9"
  }
 },
 "nbformat": 4,
 "nbformat_minor": 2
}
