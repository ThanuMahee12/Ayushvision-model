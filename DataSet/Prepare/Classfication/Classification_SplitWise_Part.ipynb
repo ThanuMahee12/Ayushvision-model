{
 "cells": [
  {
   "cell_type": "code",
   "execution_count": 121,
   "metadata": {},
   "outputs": [],
   "source": [
    "import os"
   ]
  },
  {
   "cell_type": "code",
   "execution_count": 122,
   "metadata": {},
   "outputs": [],
   "source": [
    "import pandas as pd"
   ]
  },
  {
   "cell_type": "code",
   "execution_count": 123,
   "metadata": {},
   "outputs": [],
   "source": [
    "import time"
   ]
  },
  {
   "cell_type": "code",
   "execution_count": 125,
   "metadata": {},
   "outputs": [
    {
     "name": "stdout",
     "output_type": "stream",
     "text": [
      "created\n"
     ]
    }
   ],
   "source": [
    "%run ../../../Util/FileFolder"
   ]
  },
  {
   "cell_type": "code",
   "execution_count": 126,
   "metadata": {},
   "outputs": [],
   "source": [
    "%run ../../../Util/Variable"
   ]
  },
  {
   "cell_type": "code",
   "execution_count": 127,
   "metadata": {},
   "outputs": [],
   "source": [
    "%run ../../../Util/ImageProcessing"
   ]
  },
  {
   "cell_type": "code",
   "execution_count": 130,
   "metadata": {},
   "outputs": [
    {
     "data": {
      "text/plain": [
       "'already exsist'"
      ]
     },
     "execution_count": 130,
     "metadata": {},
     "output_type": "execute_result"
    }
   ],
   "source": [
    "create_new_folders(ayush_classification_prepare_summary)"
   ]
  },
  {
   "cell_type": "code",
   "execution_count": 131,
   "metadata": {},
   "outputs": [],
   "source": [
    "source_path=os.path.join(ayush_classFication_Working,'Source')"
   ]
  },
  {
   "cell_type": "code",
   "execution_count": 132,
   "metadata": {},
   "outputs": [],
   "source": [
    "partworkdir=os.path.join(ayush_classFication_Working,'parts')"
   ]
  },
  {
   "cell_type": "code",
   "execution_count": 133,
   "metadata": {},
   "outputs": [
    {
     "data": {
      "text/plain": [
       "'already exsist'"
      ]
     },
     "execution_count": 133,
     "metadata": {},
     "output_type": "execute_result"
    }
   ],
   "source": [
    "create_new_folders(partworkdir)"
   ]
  },
  {
   "cell_type": "code",
   "execution_count": 134,
   "metadata": {},
   "outputs": [],
   "source": [
    "parts=['plants','leaves','flowers','raw_fruits','roots','tumbers']"
   ]
  },
  {
   "cell_type": "code",
   "execution_count": 136,
   "metadata": {},
   "outputs": [],
   "source": [
    "subfolders_names=sub_folders(source_path)"
   ]
  },
  {
   "cell_type": "code",
   "execution_count": 137,
   "metadata": {},
   "outputs": [],
   "source": [
    "folders=[]"
   ]
  },
  {
   "cell_type": "code",
   "execution_count": 141,
   "metadata": {},
   "outputs": [
    {
     "name": "stdout",
     "output_type": "stream",
     "text": [
      "plants->32->['AdamantCreeper', 'Alovera', 'Betel', 'Black-HoneyShrub', 'Calotropisgigantea', 'Caster', 'Cinnamon', 'ginger', 'Henna', 'Hibiscus', 'HolyBasil', 'indian Mallow', 'Indianacalypha', 'ivy gourd', 'Landrina', 'Lemongrass', 'lime', 'longPepper', 'MiracleLeaf', 'MountainKnotgrass', 'Neem', 'Oregano', 'Pedaliummurex', 'RedPeaEggplant', 'RingwormPlant', 'Seedsunderleaves', 'SleepyPlant', 'tallperennialgrass', 'ThornApple', 'turmeric', 'Vitexnegundo', 'WildTurmaric']\n",
      "leaves->32->['AdamantCreeper', 'Alovera', 'Betel', 'Black-HoneyShrub', 'Calotropisgigantea', 'Caster', 'Cinnamon', 'ginger', 'Henna', 'Hibiscus', 'HolyBasil', 'indian Mallow', 'Indianacalypha', 'ivy gourd', 'Landrina', 'Lemongrass', 'lime', 'longPepper', 'MiracleLeaf', 'MountainKnotgrass', 'Neem', 'Oregano', 'Pedaliummurex', 'RedPeaEggplant', 'RingwormPlant', 'Seedsunderleaves', 'SleepyPlant', 'tallperennialgrass', 'ThornApple', 'turmeric', 'Vitexnegundo', 'WildTurmaric']\n",
      "flowers->12->['AdamantCreeper', 'Calotropisgigantea', 'Hibiscus', 'HolyBasil', 'Indianacalypha', 'Neem', 'Pedaliummurex', 'RedPeaEggplant', 'RingwormPlant', 'SleepyPlant', 'ThornApple', 'Vitexnegundo']\n",
      "raw_fruits->8->['Caster', 'indian Mallow', 'lime', 'longPepper', 'Pedaliummurex', 'RedPeaEggplant', 'RingwormPlant', 'ThornApple']\n",
      "roots->1->['tallperennialgrass']\n",
      "tumbers->3->['ginger', 'turmeric', 'WildTurmaric']\n"
     ]
    }
   ],
   "source": [
    "for part in parts:\n",
    "    avialble=[]\n",
    "    for subfolder in subfolders_names:\n",
    "        count=count_files_in_folder(os.path.join(source_path,subfolder,part))\n",
    "        if count>0:\n",
    "            avialble.append(subfolder)\n",
    "    newfolders=list(map(lambda name:os.path.join(partworkdir,part,name),avialble))\n",
    "    oldfolders=list(map(lambda name:os.path.join(partworkdir,name,part),avialble))\n",
    "    for old,new in zip(oldfolders,newfolders):\n",
    "        folders.append([old,new])\n",
    "    print(f'{part}->{len(avialble)}->{avialble}')"
   ]
  },
  {
   "cell_type": "code",
   "execution_count": null,
   "metadata": {},
   "outputs": [],
   "source": [
    "for subfolder in os.listdir(ayush_classFication_Working):\n",
    "    for subsubfolder in os.listdir(os.path.join(ayush_classFication_Working,subfolder)):\n",
    "        newfolder=os.path.join(partworkdir,subsubfolder,subfolder)\n",
    "        oldfolder=os.path.join(ayush_classFication_Working,subfolder,subsubfolder)\n",
    "        for file in os.listdir(oldfolder):\n",
    "            filename=os.path.join(oldfolder,file)\n",
    "            copy_file(filename,newfolder)\n",
    "    print(subfolder)"
   ]
  }
 ],
 "metadata": {
  "language_info": {
   "name": "python"
  }
 },
 "nbformat": 4,
 "nbformat_minor": 2
}
