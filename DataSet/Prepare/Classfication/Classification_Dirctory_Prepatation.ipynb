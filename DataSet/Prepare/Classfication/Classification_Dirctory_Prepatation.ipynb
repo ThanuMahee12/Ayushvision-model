{
 "cells": [
  {
   "cell_type": "code",
   "execution_count": 1,
   "metadata": {},
   "outputs": [],
   "source": [
    "import os"
   ]
  },
  {
   "cell_type": "code",
   "execution_count": 2,
   "metadata": {},
   "outputs": [],
   "source": [
    "import pandas as pd"
   ]
  },
  {
   "cell_type": "code",
   "execution_count": 3,
   "metadata": {},
   "outputs": [],
   "source": [
    "import time"
   ]
  },
  {
   "cell_type": "code",
   "execution_count": 4,
   "metadata": {},
   "outputs": [
    {
     "name": "stdout",
     "output_type": "stream",
     "text": [
      "created\n"
     ]
    }
   ],
   "source": [
    "%run ../../Util/FileFolder"
   ]
  },
  {
   "cell_type": "code",
   "execution_count": 5,
   "metadata": {},
   "outputs": [],
   "source": [
    "%run ../../Util/Variable"
   ]
  },
  {
   "cell_type": "code",
   "execution_count": 6,
   "metadata": {},
   "outputs": [],
   "source": [
    "%run ../../Util/ImageProcessing"
   ]
  },
  {
   "cell_type": "code",
   "execution_count": 7,
   "metadata": {},
   "outputs": [
    {
     "data": {
      "text/plain": [
       "'already exsist'"
      ]
     },
     "execution_count": 7,
     "metadata": {},
     "output_type": "execute_result"
    }
   ],
   "source": [
    "create_new_folders(ayush_classification_prepare_summary)"
   ]
  },
  {
   "cell_type": "code",
   "execution_count": 8,
   "metadata": {},
   "outputs": [
    {
     "data": {
      "text/plain": [
       "'already exsist'"
      ]
     },
     "execution_count": 8,
     "metadata": {},
     "output_type": "execute_result"
    }
   ],
   "source": [
    "create_new_folders(ayush_classFication_Working)"
   ]
  },
  {
   "cell_type": "code",
   "execution_count": 9,
   "metadata": {},
   "outputs": [],
   "source": [
    "copy_folder_stucture(original_dataset_dir,ayush_classFication_Working)"
   ]
  },
  {
   "cell_type": "code",
   "execution_count": 10,
   "metadata": {},
   "outputs": [],
   "source": [
    "subfolderspaths=subfolders_path(original_dataset_dir)"
   ]
  },
  {
   "cell_type": "code",
   "execution_count": 11,
   "metadata": {},
   "outputs": [],
   "source": [
    "selectedImages=[]\n",
    "for subfolder in subfolderspaths:\n",
    "    filepaths=file_paths(subfolder)\n",
    "    file_paths_folder=list(map(lambda filespathfol:filespathfol[0],filepaths))\n",
    "    if len(file_paths_folder)>1500:\n",
    "        selectedImages.append(randomImage(file_paths_folder,1500))\n",
    "    else:\n",
    "        selectedImages.append(file_paths_folder)\n"
   ]
  },
  {
   "cell_type": "code",
   "execution_count": 12,
   "metadata": {},
   "outputs": [],
   "source": [
    "classficationMoveFiles=[]"
   ]
  },
  {
   "cell_type": "code",
   "execution_count": 13,
   "metadata": {},
   "outputs": [
    {
     "name": "stdout",
     "output_type": "stream",
     "text": [
      "1 folder copied\n",
      "1 folder copied\n",
      "1 folder copied\n",
      "1 folder copied\n",
      "1 folder copied\n",
      "1 folder copied\n",
      "1 folder copied\n",
      "1 folder copied\n",
      "1 folder copied\n",
      "1 folder copied\n",
      "1 folder copied\n",
      "1 folder copied\n",
      "1 folder copied\n",
      "1 folder copied\n",
      "1 folder copied\n",
      "1 folder copied\n",
      "1 folder copied\n",
      "1 folder copied\n",
      "1 folder copied\n",
      "1 folder copied\n",
      "1 folder copied\n",
      "1 folder copied\n",
      "1 folder copied\n",
      "1 folder copied\n",
      "1 folder copied\n",
      "1 folder copied\n",
      "1 folder copied\n",
      "1 folder copied\n",
      "1 folder copied\n",
      "1 folder copied\n",
      "1 folder copied\n",
      "1 folder copied\n"
     ]
    }
   ],
   "source": [
    "for files in selectedImages:\n",
    "    count=1\n",
    "    for file in files:\n",
    "        if not isImage(file):\n",
    "            raise Exception('invalid file')\n",
    "        relative_path=rel_path(file,original_dataset_dir)\n",
    "        relative_folder_path=file_parent_folder(relative_path)\n",
    "        target_folder_path=join_path(ayush_classFication_Working,relative_folder_path)\n",
    "        classficationMoveFiles.append([file,os.path.join(ayush_classFication_Working,relative_path)])\n",
    "        copy_file(file,target_folder_path)\n",
    "    print(f'{count} folder copied')\n",
    "    count=count+1\n"
   ]
  },
  {
   "cell_type": "code",
   "execution_count": 14,
   "metadata": {},
   "outputs": [
    {
     "data": {
      "text/plain": [
       "47942"
      ]
     },
     "execution_count": 14,
     "metadata": {},
     "output_type": "execute_result"
    }
   ],
   "source": [
    "save_to_csv_filedetails(data=classficationMoveFiles,colums=['OldPath','NewPath'],save_folder=ayush_classification_prepare_summary)"
   ]
  },
  {
   "cell_type": "code",
   "execution_count": 15,
   "metadata": {},
   "outputs": [],
   "source": [
    "subfolderspaths_collection=subfolders_path(ayush_classFication_Working)"
   ]
  },
  {
   "cell_type": "code",
   "execution_count": 16,
   "metadata": {},
   "outputs": [
    {
     "name": "stdout",
     "output_type": "stream",
     "text": [
      "action complete\n",
      "action complete\n",
      "action complete\n",
      "action complete\n",
      "action complete\n",
      "action complete\n",
      "action complete\n",
      "action complete\n",
      "action complete\n",
      "action complete\n",
      "action complete\n",
      "action complete\n",
      "action complete\n",
      "action complete\n",
      "action complete\n"
     ]
    }
   ],
   "source": [
    "for subcollectionpath in subfolderspaths_collection:\n",
    "    filecount=count_files_in_folder(subcollectionpath)\n",
    "    if filecount<1500:\n",
    "        file_paths_balancing=list(map(lambda filepath:filepath[0],file_paths(subcollectionpath)))\n",
    "        DataSetgenration(pathList=file_paths_balancing,genrationFun=[random_rotate,random_flip,random_Bright],target_count=(1500-filecount))\n",
    "        "
   ]
  }
 ],
 "metadata": {
  "kernelspec": {
   "display_name": "Python 3",
   "language": "python",
   "name": "python3"
  },
  "language_info": {
   "codemirror_mode": {
    "name": "ipython",
    "version": 3
   },
   "file_extension": ".py",
   "mimetype": "text/x-python",
   "name": "python",
   "nbconvert_exporter": "python",
   "pygments_lexer": "ipython3",
   "version": "3.11.9"
  }
 },
 "nbformat": 4,
 "nbformat_minor": 2
}
