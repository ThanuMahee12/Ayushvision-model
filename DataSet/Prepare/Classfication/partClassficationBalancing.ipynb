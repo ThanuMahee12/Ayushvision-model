{
 "cells": [
  {
   "cell_type": "code",
   "execution_count": null,
   "metadata": {},
   "outputs": [],
   "source": [
    "import os"
   ]
  },
  {
   "cell_type": "code",
   "execution_count": null,
   "metadata": {},
   "outputs": [],
   "source": [
    "import time"
   ]
  },
  {
   "cell_type": "code",
   "execution_count": null,
   "metadata": {},
   "outputs": [],
   "source": [
    "%run ../../Util/FileFolder"
   ]
  },
  {
   "cell_type": "code",
   "execution_count": null,
   "metadata": {},
   "outputs": [],
   "source": [
    "%run ../../Util/Variable"
   ]
  },
  {
   "cell_type": "code",
   "execution_count": null,
   "metadata": {},
   "outputs": [],
   "source": [
    "%run ../../Util/ImageProcessing"
   ]
  },
  {
   "cell_type": "code",
   "execution_count": null,
   "metadata": {},
   "outputs": [],
   "source": [
    "parts={\n",
    "    'plants':600,\n",
    "    'leaves':500,\n",
    "    'flowers':200,\n",
    "    'raw_fruits':200,\n",
    "    'roots':200,\n",
    "    'tubers':200\n",
    "}"
   ]
  },
  {
   "cell_type": "code",
   "execution_count": null,
   "metadata": {},
   "outputs": [],
   "source": [
    "ayush_ready=os.path.join(ayush_classFication_Working,'AyushPartPreparation')"
   ]
  },
  {
   "cell_type": "code",
   "execution_count": null,
   "metadata": {},
   "outputs": [],
   "source": [
    "os.makedirs(ayush_ready)"
   ]
  },
  {
   "cell_type": "code",
   "execution_count": null,
   "metadata": {},
   "outputs": [],
   "source": [
    "partworkdir=os.path.join(ayush_classFication_Working,'parts')"
   ]
  },
  {
   "cell_type": "code",
   "execution_count": null,
   "metadata": {},
   "outputs": [],
   "source": [
    "copy_folder_stucture(partworkdir,ayush_ready)"
   ]
  },
  {
   "cell_type": "code",
   "execution_count": null,
   "metadata": {},
   "outputs": [],
   "source": [
    "subfolderspaths_collection=sub_folders(partworkdir) "
   ]
  },
  {
   "cell_type": "code",
   "execution_count": 2,
   "metadata": {},
   "outputs": [
    {
     "ename": "SyntaxError",
     "evalue": "incomplete input (3887852868.py, line 8)",
     "output_type": "error",
     "traceback": [
      "\u001b[1;36m  Cell \u001b[1;32mIn[2], line 8\u001b[1;36m\u001b[0m\n\u001b[1;33m    elif filecount>expactfilecount:\u001b[0m\n\u001b[1;37m                                   ^\u001b[0m\n\u001b[1;31mSyntaxError\u001b[0m\u001b[1;31m:\u001b[0m incomplete input\n"
     ]
    }
   ],
   "source": [
    "for subcollectionpath in subfolderspaths_collection:\n",
    "    expactfilecount=parts[subcollectionpath]\n",
    "    for subfolder in os.listdir(os.path.join(partworkdir,subcollectionpath)):\n",
    "        filecount=count_files_in_folder(os.path.join(partworkdir,subcollectionpath,subfolder))\n",
    "        file_paths_balancing=list(map(lambda filepath:filepath[0],file_paths(os.path.join(partworkdir,subcollectionpath,subfolder))))\n",
    "        if filecount<expactfilecount:\n",
    "            DataSetgenration(pathList=file_paths_balancing,genrationFun=[random_rotate,random_flip,random_Bright],target_count=(expactfilecount-filecount))\n",
    "        elif filecount>expactfilecount:\n",
    "            randomImage(file_paths_balancing,expactfilecount)\n",
    "        else:\n",
    "            pass\n",
    "        print(f'{subcollectionpath}/{subfolder}')"
   ]
  },
  {
   "cell_type": "code",
   "execution_count": null,
   "metadata": {},
   "outputs": [],
   "source": [
    "for root,dir,files in os.walk(ayush_ready):\n",
    "    count=1\n",
    "    for file in files:\n",
    "        rel=rel_path(root,ayush_ready)\n",
    "        extenstion=file_extention(file)\n",
    "        newname=f'{rel.replace('/','_')}_{count}{extenstion}'\n",
    "        rename_filenam(os.path.join(root,file),newname)\n",
    "        count=count+1\n",
    "        print(f'{newname}',end='\\t',sep='')\n",
    "        "
   ]
  }
 ],
 "metadata": {
  "kernelspec": {
   "display_name": "Python 3",
   "language": "python",
   "name": "python3"
  },
  "language_info": {
   "codemirror_mode": {
    "name": "ipython",
    "version": 3
   },
   "file_extension": ".py",
   "mimetype": "text/x-python",
   "name": "python",
   "nbconvert_exporter": "python",
   "pygments_lexer": "ipython3",
   "version": "3.12.5"
  }
 },
 "nbformat": 4,
 "nbformat_minor": 2
}
