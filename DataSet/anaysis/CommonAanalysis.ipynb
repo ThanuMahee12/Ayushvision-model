{
 "cells": [
  {
   "cell_type": "code",
   "execution_count": null,
   "metadata": {},
   "outputs": [],
   "source": [
    "%run ../../Util/Variable"
   ]
  },
  {
   "cell_type": "code",
   "execution_count": 1,
   "metadata": {},
   "outputs": [],
   "source": [
    "import os\n",
    "import glob"
   ]
  },
  {
   "cell_type": "code",
   "execution_count": null,
   "metadata": {},
   "outputs": [],
   "source": [
    "def read_overview_files(root_dir):\n",
    "    # Find all Overview.txt files\n",
    "    pattern = os.path.join(root_dir, '*/collection/Overview.txt')\n",
    "    overview_files = glob.glob(pattern, recursive=True)\n",
    "    \n",
    "    data = {}\n",
    "    \n",
    "    for file_path in overview_files:\n",
    "        # Extract the date from the file path\n",
    "        date = os.path.basename(os.path.dirname(os.path.dirname(file_path)))\n",
    "        with open(file_path, 'r') as file:\n",
    "            content = file.read()\n",
    "            data[date] = content\n",
    "    \n",
    "    return data"
   ]
  },
  {
   "cell_type": "code",
   "execution_count": null,
   "metadata": {},
   "outputs": [],
   "source": [
    "data=read_overview_files(summary_report_dir)"
   ]
  },
  {
   "cell_type": "code",
   "execution_count": null,
   "metadata": {},
   "outputs": [],
   "source": []
  }
 ],
 "metadata": {
  "kernelspec": {
   "display_name": "Python 3",
   "language": "python",
   "name": "python3"
  },
  "language_info": {
   "codemirror_mode": {
    "name": "ipython",
    "version": 3
   },
   "file_extension": ".py",
   "mimetype": "text/x-python",
   "name": "python",
   "nbconvert_exporter": "python",
   "pygments_lexer": "ipython3",
   "version": "3.12.4"
  }
 },
 "nbformat": 4,
 "nbformat_minor": 2
}
