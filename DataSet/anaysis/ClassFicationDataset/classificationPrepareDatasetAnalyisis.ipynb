{
 "cells": [
  {
   "cell_type": "code",
   "execution_count": 1,
   "metadata": {},
   "outputs": [],
   "source": [
    "import os\n",
    "import pandas as pd\n",
    "import matplotlib.pyplot as plt\n",
    "import numpy as np\n",
    "import json\n",
    "import re"
   ]
  },
  {
   "cell_type": "code",
   "execution_count": 2,
   "metadata": {},
   "outputs": [
    {
     "name": "stdout",
     "output_type": "stream",
     "text": [
      "created\n"
     ]
    }
   ],
   "source": [
    "%run ../../../Util/FileFolder\n",
    "%run ../../../Util/Variable\n",
    "%run ../../../Util/ImageProcessing"
   ]
  },
  {
   "cell_type": "code",
   "execution_count": 5,
   "metadata": {},
   "outputs": [
    {
     "data": {
      "text/plain": [
       "'48015 images in The Dataset'"
      ]
     },
     "execution_count": 5,
     "metadata": {},
     "output_type": "execute_result"
    }
   ],
   "source": [
    "\n",
    "f'{count_files_in_folder(ayush_classFication_Working)} images in The Dataset' # from File Handle"
   ]
  },
  {
   "cell_type": "code",
   "execution_count": 6,
   "metadata": {},
   "outputs": [
    {
     "data": {
      "text/plain": [
       "'Dataset have  153.97459274809808 GB Data'"
      ]
     },
     "execution_count": 6,
     "metadata": {},
     "output_type": "execute_result"
    }
   ],
   "source": [
    "volume=folder_size_in_gb(ayush_classFication_Working) # from File Handle\n",
    "f'Dataset have  {volume} GB Data'"
   ]
  },
  {
   "cell_type": "code",
   "execution_count": 3,
   "metadata": {},
   "outputs": [],
   "source": [
    "create_new_folders(today_classfication_analysis_path)"
   ]
  },
  {
   "cell_type": "code",
   "execution_count": 9,
   "metadata": {},
   "outputs": [],
   "source": [
    "reportjsonfile=os.path.join(today_classfication_analysis_path,'reportjsonfile.json')"
   ]
  },
  {
   "cell_type": "code",
   "execution_count": 10,
   "metadata": {},
   "outputs": [],
   "source": [
    "with open(reportjsonfile, 'w', encoding='utf-8') as json_file:\n",
    "    json.dump({\n",
    "        'volume_gb':volume,\n",
    "        'count':count_files_in_folder(ayush_classFication_Working)\n",
    "        }, json_file, indent=2)"
   ]
  },
  {
   "cell_type": "code",
   "execution_count": 11,
   "metadata": {},
   "outputs": [],
   "source": [
    "subfolder={}\n",
    "subfolderCount=num_sub_folders(ayush_classFication_Working)\n",
    "subfolder['count']=subfolderCount"
   ]
  },
  {
   "cell_type": "code",
   "execution_count": 12,
   "metadata": {},
   "outputs": [],
   "source": [
    "folders_names=sub_folders(ayush_classFication_Working)"
   ]
  },
  {
   "cell_type": "code",
   "execution_count": 13,
   "metadata": {},
   "outputs": [],
   "source": [
    "folders=list(\n",
    "    map(\n",
    "        lambda name: \n",
    "            {'name':name,\n",
    "             'path':os.path.join(ayush_classFication_Working,name),\n",
    "             'filecount':count_files_in_folder(os.path.join(ayush_classFication_Working,name)),\n",
    "             'volume':{\n",
    "                 'GB':folder_size_in_gb(os.path.join(ayush_classFication_Working,name)),\n",
    "                 \"KB\":folder_size_in_kb(os.path.join(ayush_classFication_Working,name)),\n",
    "                \"MB\":folder_size_in_mb(os.path.join(ayush_classFication_Working,name))\n",
    "             }\n",
    "            },folders_names))\n",
    "folder_li=list(map( lambda name: \n",
    "            [name,\n",
    "             folder_size_in_gb(os.path.join(ayush_classFication_Working,name)),\n",
    "            folder_size_in_kb(os.path.join(ayush_classFication_Working,name)),\n",
    "            folder_size_in_mb(os.path.join(ayush_classFication_Working,name))\n",
    "             \n",
    "            ],folders_names))\n",
    "folder_count_li=list(map( lambda name: \n",
    "            [name,\n",
    "            count_files_in_folder(os.path.join(ayush_classFication_Working,name)),\n",
    "             \n",
    "            ],folders_names))"
   ]
  },
  {
   "cell_type": "code",
   "execution_count": 14,
   "metadata": {},
   "outputs": [
    {
     "data": {
      "text/plain": [
       "32"
      ]
     },
     "execution_count": 14,
     "metadata": {},
     "output_type": "execute_result"
    }
   ],
   "source": [
    "save_to_csv_filedetails(data=folder_li,colums=['Names','VolumeKB','VolumeMB',\"VolumeGB\"],csv_filename='volumereportcsv.csv',save_folder=today_classfication_analysis_path)"
   ]
  },
  {
   "cell_type": "code",
   "execution_count": 15,
   "metadata": {},
   "outputs": [
    {
     "data": {
      "text/plain": [
       "32"
      ]
     },
     "execution_count": 15,
     "metadata": {},
     "output_type": "execute_result"
    }
   ],
   "source": [
    "save_to_csv_filedetails(data=folder_count_li,colums=['Names','counts'],csv_filename='countreportcsv.csv',save_folder=today_classfication_analysis_path)"
   ]
  },
  {
   "cell_type": "code",
   "execution_count": 16,
   "metadata": {},
   "outputs": [],
   "source": [
    "subfolderpaths=subfolders_path(ayush_classFication_Working)"
   ]
  },
  {
   "cell_type": "code",
   "execution_count": 17,
   "metadata": {},
   "outputs": [],
   "source": [
    "subfolders=[]\n",
    "for subfolder in folders:\n",
    "     subfoldernames=sub_folders(subfolder['path'])\n",
    "     subchild=list(\n",
    "        map(lambda name: {\n",
    "                'name':name,\n",
    "                'path':os.path.join(subfolder['path'],name),\n",
    "                 'filecount':count_files_in_folder(os.path.join(subfolder['path'],name)),\n",
    "                 'volume':{\n",
    "                     'GB':folder_size_in_gb(os.path.join(subfolder['path'],name)),\n",
    "                     \"KB\":folder_size_in_kb(os.path.join(subfolder['path'],name)),\n",
    "                    \"MB\":folder_size_in_mb(os.path.join(subfolder['path'],name)),\n",
    "                 },\n",
    "                },subfoldernames)),\n",
    "     subfolder['subfolders']=subchild,\n",
    "     subfolders.append(subfolder)"
   ]
  },
  {
   "cell_type": "code",
   "execution_count": 18,
   "metadata": {},
   "outputs": [],
   "source": [
    "leafpattern = re.compile(r'^(leaf|leafs|leaves|Leaves|Leaf)$')\n",
    "plantpattern=re.compile(r'^(Plants|plant|plants|p|Plant)$')\n",
    "rawFruitpattern=re.compile(r'^(fruits|Fruit|kaai|Fruits|fruit|raw_fruits|seeds|kai)$')\n",
    "flowerpattern=re.compile(r'^(Flower|flower|flowers)$')\n",
    "Rootpattern=re.compile(r'^(kilanku|Root|root)$')\n",
    "subsub=[]\n",
    "for i,subpath in enumerate(subfolderpaths):\n",
    "    subsubnames=sub_folders(subpath)\n",
    "    subsubpath=subfolders_path(subpath)\n",
    "    sub={\n",
    "        'speciesname':folders_names[i],\n",
    "    }\n",
    "    for ind,s in enumerate(subsubnames):\n",
    "        sub['path']=subsubpath[ind]\n",
    "        if leafpattern.match(s):\n",
    "            sub['leaves']=count_files_in_folder(subsubpath[ind])\n",
    "        elif plantpattern.match(s):\n",
    "            sub['plants']=count_files_in_folder(subsubpath[ind])\n",
    "        elif flowerpattern.match(s):\n",
    "            sub['flowers']=count_files_in_folder(subsubpath[ind])\n",
    "        elif rawFruitpattern.match(s):\n",
    "            sub['raw_fruits']=count_files_in_folder(subsubpath[ind])\n",
    "        elif Rootpattern.match(s):\n",
    "            sub['root']=count_files_in_folder(subsubpath[ind])\n",
    "        else:\n",
    "             sub[s]=count_files_in_folder(subsubpath[ind])\n",
    "    subsub.append(sub)"
   ]
  },
  {
   "cell_type": "code",
   "execution_count": 19,
   "metadata": {},
   "outputs": [],
   "source": [
    "def subpartcountmaping(subpart):\n",
    "    subpartRow=[]\n",
    "    subpartRow.append(subpart['speciesname'])\n",
    "    subpartRow.append(subpart['path'])\n",
    "    for part in ['leaves','plants','flowers','raw_fruits','root']:\n",
    "        subpartRow.append(subpart[part]) if part in subpart.keys() else subpartRow.append(0)\n",
    "    return subpartRow"
   ]
  },
  {
   "cell_type": "code",
   "execution_count": 20,
   "metadata": {},
   "outputs": [],
   "source": [
    "subsubli=list(map(lambda tr:subpartcountmaping(tr),subsub))"
   ]
  },
  {
   "cell_type": "code",
   "execution_count": 21,
   "metadata": {},
   "outputs": [],
   "source": [
    "with open(reportjsonfile, 'r+') as f:\n",
    "        # Load existing data from JSON\n",
    "        existing_data = json.load(f)\n",
    "        \n",
    "        # Append new data to existing JSON data\n",
    "        existing_data['subfolder']=subfolders\n",
    "        \n",
    "        # Write updated data back to JSON file\n",
    "        f.seek(0)\n",
    "        json.dump(existing_data, f, indent=4)\n",
    "        f.truncate()"
   ]
  },
  {
   "cell_type": "code",
   "execution_count": 22,
   "metadata": {},
   "outputs": [],
   "source": [
    "subfolderdetails =list(map(lambda folder: {\n",
    "    'name':folder['name'],\n",
    "    'path':folder['path'],\n",
    "    'files':folder['filecount'],\n",
    "    'volume(MB)':folder['volume']['MB'],\n",
    "    },subfolders)) \n",
    "subfolderdetails_li=list(map(lambda folder: [\n",
    "    folder['name'],\n",
    "    folder['path'],\n",
    "    folder['filecount'],\n",
    "    folder['volume']['MB'],\n",
    "    len(folder['subfolders'])\n",
    "    ],subfolders)) "
   ]
  },
  {
   "cell_type": "code",
   "execution_count": 23,
   "metadata": {},
   "outputs": [
    {
     "data": {
      "text/plain": [
       "32"
      ]
     },
     "execution_count": 23,
     "metadata": {},
     "output_type": "execute_result"
    }
   ],
   "source": [
    "save_to_csv_filedetails(data=subsubli,colums=[\"Speciesname\",\"Path\",\"Leaves\",\"Plants\",\"Flowers\",\"rawFruits\",\"Root\"],csv_filename='subpart_reportcsv.csv',save_folder=today_classfication_analysis_path)"
   ]
  },
  {
   "cell_type": "code",
   "execution_count": 24,
   "metadata": {},
   "outputs": [
    {
     "data": {
      "text/plain": [
       "32"
      ]
     },
     "execution_count": 24,
     "metadata": {},
     "output_type": "execute_result"
    }
   ],
   "source": [
    "save_to_csv_filedetails(data=subfolderdetails_li,colums=[\"Names\",\"Path\",\"Files\",\"Volume MB\",\"subfolders\"],csv_filename='reportcsv.csv',save_folder=today_classfication_analysis_path)"
   ]
  }
 ],
 "metadata": {
  "kernelspec": {
   "display_name": "Python 3",
   "language": "python",
   "name": "python3"
  },
  "language_info": {
   "codemirror_mode": {
    "name": "ipython",
    "version": 3
   },
   "file_extension": ".py",
   "mimetype": "text/x-python",
   "name": "python",
   "nbconvert_exporter": "python",
   "pygments_lexer": "ipython3",
   "version": "3.11.9"
  }
 },
 "nbformat": 4,
 "nbformat_minor": 2
}
