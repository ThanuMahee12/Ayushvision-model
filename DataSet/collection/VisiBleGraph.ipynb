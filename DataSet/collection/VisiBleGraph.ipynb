{
 "cells": [
  {
   "cell_type": "code",
   "execution_count": 1,
   "metadata": {},
   "outputs": [],
   "source": [
    "import pandas as pd"
   ]
  },
  {
   "cell_type": "code",
   "execution_count": 2,
   "metadata": {},
   "outputs": [],
   "source": [
    "import os"
   ]
  },
  {
   "cell_type": "code",
   "execution_count": 13,
   "metadata": {},
   "outputs": [],
   "source": [
    "import matplotlib.pyplot as plt"
   ]
  },
  {
   "cell_type": "code",
   "execution_count": 3,
   "metadata": {},
   "outputs": [],
   "source": [
    "%run ../../Util/Variable"
   ]
  },
  {
   "cell_type": "code",
   "execution_count": 4,
   "metadata": {},
   "outputs": [
    {
     "name": "stdout",
     "output_type": "stream",
     "text": [
      "created\n"
     ]
    }
   ],
   "source": [
    "%run ../../Util/FileFolder"
   ]
  },
  {
   "cell_type": "code",
   "execution_count": 5,
   "metadata": {},
   "outputs": [],
   "source": [
    "today_collection_path=os.path.join(today_summary_path,'collection') # from Variables"
   ]
  },
  {
   "cell_type": "code",
   "execution_count": 6,
   "metadata": {},
   "outputs": [],
   "source": [
    "reportjsonfile=os.path.join(today_collection_path,'reportjsonfile.json')"
   ]
  },
  {
   "cell_type": "code",
   "execution_count": 7,
   "metadata": {},
   "outputs": [],
   "source": [
    "jsonFilRead=pd.read_json(reportjsonfile)"
   ]
  },
  {
   "cell_type": "code",
   "execution_count": 11,
   "metadata": {},
   "outputs": [],
   "source": [
    "Subfolders=pd.DataFrame(jsonFilRead['subfolder'].values.tolist())"
   ]
  },
  {
   "cell_type": "code",
   "execution_count": 12,
   "metadata": {},
   "outputs": [
    {
     "data": {
      "text/html": [
       "<div>\n",
       "<style scoped>\n",
       "    .dataframe tbody tr th:only-of-type {\n",
       "        vertical-align: middle;\n",
       "    }\n",
       "\n",
       "    .dataframe tbody tr th {\n",
       "        vertical-align: top;\n",
       "    }\n",
       "\n",
       "    .dataframe thead th {\n",
       "        text-align: right;\n",
       "    }\n",
       "</style>\n",
       "<table border=\"1\" class=\"dataframe\">\n",
       "  <thead>\n",
       "    <tr style=\"text-align: right;\">\n",
       "      <th></th>\n",
       "      <th>name</th>\n",
       "      <th>path</th>\n",
       "      <th>filecount</th>\n",
       "      <th>volume</th>\n",
       "      <th>subfolders</th>\n",
       "    </tr>\n",
       "  </thead>\n",
       "  <tbody>\n",
       "    <tr>\n",
       "      <th>0</th>\n",
       "      <td>.git</td>\n",
       "      <td>D:\\\\Research\\\\ayush-vision\\.git</td>\n",
       "      <td>332</td>\n",
       "      <td>{'GB': 0.0005957596004000001, 'KB': 624.699218...</td>\n",
       "      <td>[{'name': 'fsmonitor--daemon', 'path': 'D:\\\\Re...</td>\n",
       "    </tr>\n",
       "    <tr>\n",
       "      <th>1</th>\n",
       "      <td>Algorithums</td>\n",
       "      <td>D:\\\\Research\\\\ayush-vision\\Algorithums</td>\n",
       "      <td>1</td>\n",
       "      <td>{'GB': 1.032836735248565e-06, 'KB': 1.08300781...</td>\n",
       "      <td>[{'name': 'detection', 'path': 'D:\\\\Research\\\\...</td>\n",
       "    </tr>\n",
       "    <tr>\n",
       "      <th>2</th>\n",
       "      <td>config</td>\n",
       "      <td>D:\\\\Research\\\\ayush-vision\\config</td>\n",
       "      <td>2</td>\n",
       "      <td>{'GB': 2.493150532245636e-06, 'KB': 2.61425781...</td>\n",
       "      <td>[]</td>\n",
       "    </tr>\n",
       "    <tr>\n",
       "      <th>3</th>\n",
       "      <td>DataSet</td>\n",
       "      <td>D:\\\\Research\\\\ayush-vision\\DataSet</td>\n",
       "      <td>5</td>\n",
       "      <td>{'GB': 1.733750104904174e-05, 'KB': 18.1796875...</td>\n",
       "      <td>[{'name': 'collection', 'path': 'D:\\\\Research\\...</td>\n",
       "    </tr>\n",
       "    <tr>\n",
       "      <th>4</th>\n",
       "      <td>Summary</td>\n",
       "      <td>D:\\\\Research\\\\ayush-vision\\Summary</td>\n",
       "      <td>2</td>\n",
       "      <td>{'GB': 6.570480763912201e-06, 'KB': 6.88964843...</td>\n",
       "      <td>[{'name': '2024_07_07', 'path': 'D:\\\\Research\\...</td>\n",
       "    </tr>\n",
       "    <tr>\n",
       "      <th>5</th>\n",
       "      <td>Testing</td>\n",
       "      <td>D:\\\\Research\\\\ayush-vision\\Testing</td>\n",
       "      <td>1</td>\n",
       "      <td>{'GB': 1.8337741494178772e-06, 'KB': 1.9228515...</td>\n",
       "      <td>[]</td>\n",
       "    </tr>\n",
       "    <tr>\n",
       "      <th>6</th>\n",
       "      <td>Util</td>\n",
       "      <td>D:\\\\Research\\\\ayush-vision\\Util</td>\n",
       "      <td>4</td>\n",
       "      <td>{'GB': 0.0008584922179570001, 'KB': 900.194335...</td>\n",
       "      <td>[]</td>\n",
       "    </tr>\n",
       "  </tbody>\n",
       "</table>\n",
       "</div>"
      ],
      "text/plain": [
       "          name                                    path  filecount  \\\n",
       "0         .git         D:\\\\Research\\\\ayush-vision\\.git        332   \n",
       "1  Algorithums  D:\\\\Research\\\\ayush-vision\\Algorithums          1   \n",
       "2       config       D:\\\\Research\\\\ayush-vision\\config          2   \n",
       "3      DataSet      D:\\\\Research\\\\ayush-vision\\DataSet          5   \n",
       "4      Summary      D:\\\\Research\\\\ayush-vision\\Summary          2   \n",
       "5      Testing      D:\\\\Research\\\\ayush-vision\\Testing          1   \n",
       "6         Util         D:\\\\Research\\\\ayush-vision\\Util          4   \n",
       "\n",
       "                                              volume  \\\n",
       "0  {'GB': 0.0005957596004000001, 'KB': 624.699218...   \n",
       "1  {'GB': 1.032836735248565e-06, 'KB': 1.08300781...   \n",
       "2  {'GB': 2.493150532245636e-06, 'KB': 2.61425781...   \n",
       "3  {'GB': 1.733750104904174e-05, 'KB': 18.1796875...   \n",
       "4  {'GB': 6.570480763912201e-06, 'KB': 6.88964843...   \n",
       "5  {'GB': 1.8337741494178772e-06, 'KB': 1.9228515...   \n",
       "6  {'GB': 0.0008584922179570001, 'KB': 900.194335...   \n",
       "\n",
       "                                          subfolders  \n",
       "0  [{'name': 'fsmonitor--daemon', 'path': 'D:\\\\Re...  \n",
       "1  [{'name': 'detection', 'path': 'D:\\\\Research\\\\...  \n",
       "2                                                 []  \n",
       "3  [{'name': 'collection', 'path': 'D:\\\\Research\\...  \n",
       "4  [{'name': '2024_07_07', 'path': 'D:\\\\Research\\...  \n",
       "5                                                 []  \n",
       "6                                                 []  "
      ]
     },
     "execution_count": 12,
     "metadata": {},
     "output_type": "execute_result"
    }
   ],
   "source": [
    "Subfolders"
   ]
  },
  {
   "cell_type": "code",
   "execution_count": 16,
   "metadata": {},
   "outputs": [
    {
     "data": {
      "image/png": "[encoded data removed]",
      "text/plain": [
       "<Figure size 800x600 with 1 Axes>"
      ]
     },
     "metadata": {},
     "output_type": "display_data"
    }
   ],
   "source": [
    "\n",
    "# Plotting a bar chart\n",
    "plt.figure(figsize=(8, 6))  # Set the figure size (width, height) in inches\n",
    "colors = [plt.cm.tab20c(i/len(Subfolders['name'])) for i in range(len(Subfolders['name']))]\n",
    "# Plot bars\n",
    "plt.bar(Subfolders['name'], Subfolders['filecount'], color=colors)\n",
    "\n",
    "# Customize chart\n",
    "plt.xlabel('Specices')  # X-axis label\n",
    "plt.ylabel('Count')  # Y-axis label\n",
    "plt.title('Specises Vs Count')  # Chart title\n",
    "plt.xticks(rotation=45)  # Rotate x-axis labels for better visibility if needed\n",
    "\n",
    "# Show plot\n",
    "plt.tight_layout()  # Adjust layout for better appearance of labels\n",
    "plt.show()"
   ]
  },
  {
   "cell_type": "code",
   "execution_count": 17,
   "metadata": {},
   "outputs": [],
   "source": [
    "sub_folders=jsonFilRead['subfolder'].values.tolist()"
   ]
  }
 ],
 "metadata": {
  "kernelspec": {
   "display_name": "Python 3",
   "language": "python",
   "name": "python3"
  },
  "language_info": {
   "codemirror_mode": {
    "name": "ipython",
    "version": 3
   },
   "file_extension": ".py",
   "mimetype": "text/x-python",
   "name": "python",
   "nbconvert_exporter": "python",
   "pygments_lexer": "ipython3",
   "version": "3.12.4"
  }
 },
 "nbformat": 4,
 "nbformat_minor": 2
}
