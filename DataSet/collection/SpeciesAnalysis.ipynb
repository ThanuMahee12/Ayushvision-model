{
 "cells": [
  {
   "cell_type": "markdown",
   "metadata": {},
   "source": [
    "# Species Analysis"
   ]
  },
  {
   "cell_type": "markdown",
   "metadata": {},
   "source": [
    "## import"
   ]
  },
  {
   "cell_type": "code",
   "execution_count": 2,
   "metadata": {},
   "outputs": [],
   "source": [
    "import os"
   ]
  },
  {
   "cell_type": "code",
   "execution_count": 3,
   "metadata": {},
   "outputs": [],
   "source": [
    "import pandas as pd"
   ]
  },
  {
   "cell_type": "code",
   "execution_count": 4,
   "metadata": {},
   "outputs": [],
   "source": [
    "import matplotlib.pyplot as plt"
   ]
  },
  {
   "cell_type": "code",
   "execution_count": 5,
   "metadata": {},
   "outputs": [],
   "source": [
    "import numpy as np"
   ]
  },
  {
   "cell_type": "code",
   "execution_count": 6,
   "metadata": {},
   "outputs": [],
   "source": [
    "import json"
   ]
  },
  {
   "cell_type": "code",
   "execution_count": 7,
   "metadata": {},
   "outputs": [
    {
     "name": "stdout",
     "output_type": "stream",
     "text": [
      "created\n"
     ]
    }
   ],
   "source": [
    "%run ../../Util/FileFolder"
   ]
  },
  {
   "cell_type": "code",
   "execution_count": 8,
   "metadata": {},
   "outputs": [],
   "source": [
    "%run ../../Util/Variable"
   ]
  },
  {
   "cell_type": "markdown",
   "metadata": {},
   "source": [
    "# subfolders"
   ]
  },
  {
   "cell_type": "code",
   "execution_count": 9,
   "metadata": {},
   "outputs": [],
   "source": [
    "subfolder={}"
   ]
  },
  {
   "cell_type": "markdown",
   "metadata": {},
   "source": [
    "## sub folder count"
   ]
  },
  {
   "cell_type": "code",
   "execution_count": 10,
   "metadata": {},
   "outputs": [
    {
     "data": {
      "text/plain": [
       "{'count': 7}"
      ]
     },
     "execution_count": 10,
     "metadata": {},
     "output_type": "execute_result"
    }
   ],
   "source": [
    "subfolderCount=num_sub_folders(original_dataset_dir)\n",
    "subfolder['count']=subfolderCount\n",
    "subfolder"
   ]
  },
  {
   "cell_type": "markdown",
   "metadata": {},
   "source": [
    "### Subfolder names\n"
   ]
  },
  {
   "cell_type": "code",
   "execution_count": 11,
   "metadata": {},
   "outputs": [],
   "source": [
    "folders_names=sub_folders(original_dataset_dir)"
   ]
  },
  {
   "cell_type": "code",
   "execution_count": 12,
   "metadata": {},
   "outputs": [
    {
     "data": {
      "text/plain": [
       "[{'name': '.git',\n",
       "  'path': 'D:\\\\\\\\Research\\\\\\\\ayush-vision\\\\.git',\n",
       "  'filecount': 318,\n",
       "  'volume': {'GB': 0.0005262289196252823,\n",
       "   'KB': 551.791015625,\n",
       "   'MB': 0.5388584136962891}},\n",
       " {'name': 'Algorithums',\n",
       "  'path': 'D:\\\\\\\\Research\\\\\\\\ayush-vision\\\\Algorithums',\n",
       "  'filecount': 1,\n",
       "  'volume': {'GB': 1.0328367352485657e-06,\n",
       "   'KB': 1.0830078125,\n",
       "   'MB': 0.0010576248168945312}},\n",
       " {'name': 'config',\n",
       "  'path': 'D:\\\\\\\\Research\\\\\\\\ayush-vision\\\\config',\n",
       "  'filecount': 2,\n",
       "  'volume': {'GB': 2.493150532245636e-06,\n",
       "   'KB': 2.6142578125,\n",
       "   'MB': 0.0025529861450195312}},\n",
       " {'name': 'DataSet',\n",
       "  'path': 'D:\\\\\\\\Research\\\\\\\\ayush-vision\\\\DataSet',\n",
       "  'filecount': 5,\n",
       "  'volume': {'GB': 1.9213184714317322e-05,\n",
       "   'KB': 20.146484375,\n",
       "   'MB': 0.019674301147460938}},\n",
       " {'name': 'Summary',\n",
       "  'path': 'D:\\\\\\\\Research\\\\\\\\ayush-vision\\\\Summary',\n",
       "  'filecount': 1,\n",
       "  'volume': {'GB': 5.4016709327697754e-08,\n",
       "   'KB': 0.056640625,\n",
       "   'MB': 5.53131103515625e-05}},\n",
       " {'name': 'Testing',\n",
       "  'path': 'D:\\\\\\\\Research\\\\\\\\ayush-vision\\\\Testing',\n",
       "  'filecount': 1,\n",
       "  'volume': {'GB': 1.8337741494178772e-06,\n",
       "   'KB': 1.9228515625,\n",
       "   'MB': 0.0018777847290039062}},\n",
       " {'name': 'Util',\n",
       "  'path': 'D:\\\\\\\\Research\\\\\\\\ayush-vision\\\\Util',\n",
       "  'filecount': 4,\n",
       "  'volume': {'GB': 0.0008584922179579735,\n",
       "   'KB': 900.1943359375,\n",
       "   'MB': 0.8790960311889648}}]"
      ]
     },
     "execution_count": 12,
     "metadata": {},
     "output_type": "execute_result"
    }
   ],
   "source": [
    "folders=list(\n",
    "    map(\n",
    "        lambda name: \n",
    "            {'name':name,\n",
    "             'path':os.path.join(original_dataset_dir,name),\n",
    "             'filecount':count_files_in_folder(os.path.join(original_dataset_dir,name)),\n",
    "             'volume':{\n",
    "                 'GB':folder_size_in_gb(os.path.join(original_dataset_dir,name)),\n",
    "                 \"KB\":folder_size_in_kb(os.path.join(original_dataset_dir,name)),\n",
    "                \"MB\":folder_size_in_mb(os.path.join(original_dataset_dir,name))\n",
    "             }\n",
    "            },folders_names))\n",
    "folders"
   ]
  },
  {
   "cell_type": "markdown",
   "metadata": {},
   "source": [
    "### subfolder details"
   ]
  },
  {
   "cell_type": "code",
   "execution_count": 13,
   "metadata": {},
   "outputs": [],
   "source": [
    "subfolders=[]"
   ]
  },
  {
   "cell_type": "code",
   "execution_count": 14,
   "metadata": {},
   "outputs": [
    {
     "data": {
      "text/plain": [
       "[{'name': '.git',\n",
       "  'path': 'D:\\\\\\\\Research\\\\\\\\ayush-vision\\\\.git',\n",
       "  'filecount': 318,\n",
       "  'volume': {'GB': 0.0005262289196252823,\n",
       "   'KB': 551.791015625,\n",
       "   'MB': 0.5388584136962891},\n",
       "  'subfolders': [{'name': 'fsmonitor--daemon',\n",
       "    'path': 'D:\\\\\\\\Research\\\\\\\\ayush-vision\\\\.git\\\\fsmonitor--daemon',\n",
       "    'filecount': 0,\n",
       "    'volume': {'GB': 0.0, 'KB': 0.0, 'MB': 0.0}},\n",
       "   {'name': 'hooks',\n",
       "    'path': 'D:\\\\\\\\Research\\\\\\\\ayush-vision\\\\.git\\\\hooks',\n",
       "    'filecount': 14,\n",
       "    'volume': {'GB': 2.4053268134593964e-05,\n",
       "     'KB': 25.2216796875,\n",
       "     'MB': 0.02463054656982422}},\n",
       "   {'name': 'info',\n",
       "    'path': 'D:\\\\\\\\Research\\\\\\\\ayush-vision\\\\.git\\\\info',\n",
       "    'filecount': 1,\n",
       "    'volume': {'GB': 2.2351741790771484e-07,\n",
       "     'KB': 0.234375,\n",
       "     'MB': 0.0002288818359375}},\n",
       "   {'name': 'logs',\n",
       "    'path': 'D:\\\\\\\\Research\\\\\\\\ayush-vision\\\\.git\\\\logs',\n",
       "    'filecount': 24,\n",
       "    'volume': {'GB': 4.45488840341568e-05,\n",
       "     'KB': 46.712890625,\n",
       "     'MB': 0.04561805725097656}},\n",
       "   {'name': 'objects',\n",
       "    'path': 'D:\\\\\\\\Research\\\\\\\\ayush-vision\\\\.git\\\\objects',\n",
       "    'filecount': 248,\n",
       "    'volume': {'GB': 0.00045164860785007477,\n",
       "     'KB': 473.587890625,\n",
       "     'MB': 0.46248817443847656}},\n",
       "   {'name': 'refs',\n",
       "    'path': 'D:\\\\\\\\Research\\\\\\\\ayush-vision\\\\.git\\\\refs',\n",
       "    'filecount': 23,\n",
       "    'volume': {'GB': 8.67992639541626e-07,\n",
       "     'KB': 0.91015625,\n",
       "     'MB': 0.000888824462890625}}]},\n",
       " {'name': 'Algorithums',\n",
       "  'path': 'D:\\\\\\\\Research\\\\\\\\ayush-vision\\\\Algorithums',\n",
       "  'filecount': 1,\n",
       "  'volume': {'GB': 1.0328367352485657e-06,\n",
       "   'KB': 1.0830078125,\n",
       "   'MB': 0.0010576248168945312},\n",
       "  'subfolders': [{'name': 'detection',\n",
       "    'path': 'D:\\\\\\\\Research\\\\\\\\ayush-vision\\\\Algorithums\\\\detection',\n",
       "    'filecount': 1,\n",
       "    'volume': {'GB': 1.0328367352485657e-06,\n",
       "     'KB': 1.0830078125,\n",
       "     'MB': 0.0010576248168945312}}]},\n",
       " {'name': 'config',\n",
       "  'path': 'D:\\\\\\\\Research\\\\\\\\ayush-vision\\\\config',\n",
       "  'filecount': 2,\n",
       "  'volume': {'GB': 2.493150532245636e-06,\n",
       "   'KB': 2.6142578125,\n",
       "   'MB': 0.0025529861450195312},\n",
       "  'subfolders': []},\n",
       " {'name': 'DataSet',\n",
       "  'path': 'D:\\\\\\\\Research\\\\\\\\ayush-vision\\\\DataSet',\n",
       "  'filecount': 5,\n",
       "  'volume': {'GB': 1.9213184714317322e-05,\n",
       "   'KB': 20.146484375,\n",
       "   'MB': 0.019674301147460938},\n",
       "  'subfolders': [{'name': 'collection',\n",
       "    'path': 'D:\\\\\\\\Research\\\\\\\\ayush-vision\\\\DataSet\\\\collection',\n",
       "    'filecount': 3,\n",
       "    'volume': {'GB': 1.8197111785411835e-05,\n",
       "     'KB': 19.0810546875,\n",
       "     'MB': 0.01863384246826172}},\n",
       "   {'name': 'Prepare',\n",
       "    'path': 'D:\\\\\\\\Research\\\\\\\\ayush-vision\\\\DataSet\\\\Prepare',\n",
       "    'filecount': 1,\n",
       "    'volume': {'GB': 1.016072928905487e-06,\n",
       "     'KB': 1.0654296875,\n",
       "     'MB': 0.0010404586791992188}}]},\n",
       " {'name': 'Summary',\n",
       "  'path': 'D:\\\\\\\\Research\\\\\\\\ayush-vision\\\\Summary',\n",
       "  'filecount': 1,\n",
       "  'volume': {'GB': 5.4016709327697754e-08,\n",
       "   'KB': 0.056640625,\n",
       "   'MB': 5.53131103515625e-05},\n",
       "  'subfolders': [{'name': '2024_07_07',\n",
       "    'path': 'D:\\\\\\\\Research\\\\\\\\ayush-vision\\\\Summary\\\\2024_07_07',\n",
       "    'filecount': 1,\n",
       "    'volume': {'GB': 5.4016709327697754e-08,\n",
       "     'KB': 0.056640625,\n",
       "     'MB': 5.53131103515625e-05}}]},\n",
       " {'name': 'Testing',\n",
       "  'path': 'D:\\\\\\\\Research\\\\\\\\ayush-vision\\\\Testing',\n",
       "  'filecount': 1,\n",
       "  'volume': {'GB': 1.8337741494178772e-06,\n",
       "   'KB': 1.9228515625,\n",
       "   'MB': 0.0018777847290039062},\n",
       "  'subfolders': []},\n",
       " {'name': 'Util',\n",
       "  'path': 'D:\\\\\\\\Research\\\\\\\\ayush-vision\\\\Util',\n",
       "  'filecount': 4,\n",
       "  'volume': {'GB': 0.0008584922179579735,\n",
       "   'KB': 900.1943359375,\n",
       "   'MB': 0.8790960311889648},\n",
       "  'subfolders': []}]"
      ]
     },
     "execution_count": 14,
     "metadata": {},
     "output_type": "execute_result"
    }
   ],
   "source": [
    "for subfolder in folders:\n",
    "    subfoldernames=sub_folders(subfolder['path'])\n",
    "    subchild=list(\n",
    "    map(\n",
    "        lambda name: \n",
    "            {'name':name,\n",
    "             'path':os.path.join(subfolder['path'],name),\n",
    "             'filecount':count_files_in_folder(os.path.join(subfolder['path'],name)),\n",
    "             'volume':{\n",
    "                 'GB':folder_size_in_gb(os.path.join(subfolder['path'],name)),\n",
    "                 \"KB\":folder_size_in_kb(os.path.join(subfolder['path'],name)),\n",
    "                \"MB\":folder_size_in_mb(os.path.join(subfolder['path'],name))\n",
    "             }\n",
    "            },subfoldernames))\n",
    "    subfolder['subfolders']=subchild\n",
    "    subfolders.append(subfolder)\n",
    "subfolders\n",
    "    "
   ]
  },
  {
   "cell_type": "code",
   "execution_count": 15,
   "metadata": {},
   "outputs": [],
   "source": [
    "today_collection_path=os.path.join(today_summary_path,'collection')\n",
    "reportjsonfile=os.path.join(today_collection_path,'reportjsonfile.json')"
   ]
  },
  {
   "cell_type": "code",
   "execution_count": 16,
   "metadata": {},
   "outputs": [],
   "source": [
    "with open(reportjsonfile, 'r+') as f:\n",
    "        # Load existing data from JSON\n",
    "        existing_data = json.load(f)\n",
    "        \n",
    "        # Append new data to existing JSON data\n",
    "        existing_data['subfolder']=subfolders\n",
    "        \n",
    "        # Write updated data back to JSON file\n",
    "        f.seek(0)\n",
    "        json.dump(existing_data, f, indent=4)\n",
    "        f.truncate()"
   ]
  },
  {
   "cell_type": "code",
   "execution_count": 31,
   "metadata": {},
   "outputs": [],
   "source": [
    "subfolderdetails =list(map(lambda folder: {\n",
    "    'name':folder['name'],\n",
    "    'path':folder['path'],\n",
    "    'files':folder['filecount'],\n",
    "    'volume(MB)':folder['volume']['MB'],\n",
    "    },subfolders)) \n",
    "subfolderdetails_li=list(map(lambda folder: [\n",
    "    folder['name'],\n",
    "    folder['path'],\n",
    "    folder['filecount'],\n",
    "    folder['volume']['MB'],\n",
    "    ],subfolders)) "
   ]
  },
  {
   "cell_type": "code",
   "execution_count": 32,
   "metadata": {},
   "outputs": [
    {
     "data": {
      "text/plain": [
       "7"
      ]
     },
     "execution_count": 32,
     "metadata": {},
     "output_type": "execute_result"
    }
   ],
   "source": [
    "save_to_csv_filedetails(data=subfolderdetails_li,colums=['Names','Path','Files',\"Volume MB\"],csv_filename='reportcsv.csv',save_folder=today_collection_path)"
   ]
  }
 ],
 "metadata": {
  "kernelspec": {
   "display_name": "Python 3",
   "language": "python",
   "name": "python3"
  },
  "language_info": {
   "codemirror_mode": {
    "name": "ipython",
    "version": 3
   },
   "file_extension": ".py",
   "mimetype": "text/x-python",
   "name": "python",
   "nbconvert_exporter": "python",
   "pygments_lexer": "ipython3",
   "version": "3.12.4"
  }
 },
 "nbformat": 4,
 "nbformat_minor": 2
}
