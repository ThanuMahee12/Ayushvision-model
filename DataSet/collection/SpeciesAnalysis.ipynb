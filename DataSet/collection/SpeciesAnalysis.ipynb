{
 "cells": [
  {
   "cell_type": "markdown",
   "metadata": {},
   "source": [
    "# Species Analysis"
   ]
  },
  {
   "cell_type": "markdown",
   "metadata": {},
   "source": [
    "## import"
   ]
  },
  {
   "cell_type": "code",
   "execution_count": 1,
   "metadata": {},
   "outputs": [],
   "source": [
    "import os"
   ]
  },
  {
   "cell_type": "code",
   "execution_count": 2,
   "metadata": {},
   "outputs": [],
   "source": [
    "import re"
   ]
  },
  {
   "cell_type": "code",
   "execution_count": 3,
   "metadata": {},
   "outputs": [],
   "source": [
    "import pandas as pd"
   ]
  },
  {
   "cell_type": "code",
   "execution_count": 4,
   "metadata": {},
   "outputs": [],
   "source": [
    "import matplotlib.pyplot as plt"
   ]
  },
  {
   "cell_type": "code",
   "execution_count": 5,
   "metadata": {},
   "outputs": [],
   "source": [
    "import numpy as np"
   ]
  },
  {
   "cell_type": "code",
   "execution_count": 6,
   "metadata": {},
   "outputs": [],
   "source": [
    "import json"
   ]
  },
  {
   "cell_type": "code",
   "execution_count": 7,
   "metadata": {},
   "outputs": [
    {
     "name": "stdout",
     "output_type": "stream",
     "text": [
      "created\n"
     ]
    }
   ],
   "source": [
    "%run ../../Util/FileFolder"
   ]
  },
  {
   "cell_type": "code",
   "execution_count": 8,
   "metadata": {},
   "outputs": [],
   "source": [
    "%run ../../Util/Variable"
   ]
  },
  {
   "cell_type": "markdown",
   "metadata": {},
   "source": [
    "# subfolders"
   ]
  },
  {
   "cell_type": "code",
   "execution_count": 9,
   "metadata": {},
   "outputs": [],
   "source": [
    "subfolder={}"
   ]
  },
  {
   "cell_type": "markdown",
   "metadata": {},
   "source": [
    "## sub folder count"
   ]
  },
  {
   "cell_type": "code",
   "execution_count": 10,
   "metadata": {},
   "outputs": [],
   "source": [
    "subfolderCount=num_sub_folders(original_dataset_dir)\n",
    "subfolder['count']=subfolderCount"
   ]
  },
  {
   "cell_type": "code",
   "execution_count": 11,
   "metadata": {},
   "outputs": [],
   "source": [
    "today_collection_path=os.path.join(today_summary_path,'collection')\n"
   ]
  },
  {
   "cell_type": "code",
   "execution_count": 12,
   "metadata": {},
   "outputs": [],
   "source": [
    "overviewTxt=os.path.join(today_collection_path,'Overview.txt')"
   ]
  },
  {
   "cell_type": "code",
   "execution_count": 13,
   "metadata": {},
   "outputs": [],
   "source": [
    "with open (overviewTxt,'a') as overviewFile:\n",
    "    overviewFile.write(f'species:{subfolderCount}\\n')"
   ]
  },
  {
   "cell_type": "markdown",
   "metadata": {},
   "source": [
    "### Subfolder names\n"
   ]
  },
  {
   "cell_type": "code",
   "execution_count": 14,
   "metadata": {},
   "outputs": [],
   "source": [
    "folders_names=sub_folders(original_dataset_dir)"
   ]
  },
  {
   "cell_type": "code",
   "execution_count": 15,
   "metadata": {},
   "outputs": [],
   "source": [
    "subfoldersNamesTxt=os.path.join(today_collection_path,'subfolders_Names.txt')"
   ]
  },
  {
   "cell_type": "code",
   "execution_count": 16,
   "metadata": {},
   "outputs": [],
   "source": [
    "with open (subfoldersNamesTxt,'a') as subfoldersFile:\n",
    "    for subfolder in folders_names:\n",
    "        subfoldersFile.write(f'{subfolder}\\n')"
   ]
  },
  {
   "cell_type": "code",
   "execution_count": 17,
   "metadata": {},
   "outputs": [],
   "source": [
    "folders=list(\n",
    "    map(\n",
    "        lambda name: \n",
    "            {'name':name,\n",
    "             'path':os.path.join(original_dataset_dir,name),\n",
    "             'filecount':count_files_in_folder(os.path.join(original_dataset_dir,name)),\n",
    "             'volume':{\n",
    "                 'GB':folder_size_in_gb(os.path.join(original_dataset_dir,name)),\n",
    "                 \"KB\":folder_size_in_kb(os.path.join(original_dataset_dir,name)),\n",
    "                \"MB\":folder_size_in_mb(os.path.join(original_dataset_dir,name))\n",
    "             }\n",
    "            },folders_names))\n",
    "folder_li=list(map( lambda name: \n",
    "            [name,\n",
    "             folder_size_in_gb(os.path.join(original_dataset_dir,name)),\n",
    "            folder_size_in_kb(os.path.join(original_dataset_dir,name)),\n",
    "            folder_size_in_mb(os.path.join(original_dataset_dir,name))\n",
    "             \n",
    "            ],folders_names))\n",
    "folder_count_li=list(map( lambda name: \n",
    "            [name,\n",
    "            count_files_in_folder(os.path.join(original_dataset_dir,name)),\n",
    "             \n",
    "            ],folders_names))"
   ]
  },
  {
   "cell_type": "code",
   "execution_count": 18,
   "metadata": {},
   "outputs": [
    {
     "data": {
      "text/plain": [
       "32"
      ]
     },
     "execution_count": 18,
     "metadata": {},
     "output_type": "execute_result"
    }
   ],
   "source": [
    "save_to_csv_filedetails(data=folder_li,colums=['Names','VolumeKB','VolumeMB',\"VolumeGB\"],csv_filename='volumereportcsv.csv',save_folder=today_collection_path)"
   ]
  },
  {
   "cell_type": "code",
   "execution_count": 19,
   "metadata": {},
   "outputs": [
    {
     "data": {
      "text/plain": [
       "32"
      ]
     },
     "execution_count": 19,
     "metadata": {},
     "output_type": "execute_result"
    }
   ],
   "source": [
    "save_to_csv_filedetails(data=folder_count_li,colums=['Names','counts'],csv_filename='countreportcsv.csv',save_folder=today_collection_path)"
   ]
  },
  {
   "cell_type": "code",
   "execution_count": 20,
   "metadata": {},
   "outputs": [],
   "source": [
    "subfolderpaths=subfolders_path(original_dataset_dir)"
   ]
  },
  {
   "cell_type": "code",
   "execution_count": 21,
   "metadata": {},
   "outputs": [],
   "source": [
    "subfoldersPathsTxt=os.path.join(today_collection_path,'subfolders_paths.txt')"
   ]
  },
  {
   "cell_type": "code",
   "execution_count": 22,
   "metadata": {},
   "outputs": [],
   "source": [
    "with open (subfoldersPathsTxt,'a') as subfoldersFile:\n",
    "    for subfolder in subfolderpaths:\n",
    "        subfoldersFile.write(f'{subfolder}\\n')"
   ]
  },
  {
   "cell_type": "markdown",
   "metadata": {},
   "source": [
    "### subfolder details"
   ]
  },
  {
   "cell_type": "code",
   "execution_count": 23,
   "metadata": {},
   "outputs": [],
   "source": [
    "subfolders=[]"
   ]
  },
  {
   "cell_type": "code",
   "execution_count": 24,
   "metadata": {},
   "outputs": [],
   "source": [
    "for subfolder in folders:\n",
    "     subfoldernames=sub_folders(subfolder['path'])\n",
    "     subchild=list(\n",
    "        map(lambda name: {\n",
    "                'name':name,\n",
    "                'path':os.path.join(subfolder['path'],name),\n",
    "                 'filecount':count_files_in_folder(os.path.join(subfolder['path'],name)),\n",
    "                 'volume':{\n",
    "                     'GB':folder_size_in_gb(os.path.join(subfolder['path'],name)),\n",
    "                     \"KB\":folder_size_in_kb(os.path.join(subfolder['path'],name)),\n",
    "                    \"MB\":folder_size_in_mb(os.path.join(subfolder['path'],name)),\n",
    "                 },\n",
    "                },subfoldernames)),\n",
    "     subfolder['subfolders']=subchild,\n",
    "     subfolders.append(subfolder)\n",
    "     \n",
    "     \n",
    "        "
   ]
  },
  {
   "cell_type": "code",
   "execution_count": 25,
   "metadata": {},
   "outputs": [],
   "source": [
    "leafpattern = re.compile(r'^(leaf|leafs|leaves|Leaves)$')\n",
    "plantpattern=re.compile(r'^(Plants|plant|p|Plant)$')\n",
    "rawFruitpattern=re.compile(r'^(fruits|Fruit|kaai|Fruits,raw_fruits,seeds)$')\n",
    "flowerpattern=re.compile(r'^(fruits|fruit|Fruits)$')"
   ]
  },
  {
   "cell_type": "code",
   "execution_count": 26,
   "metadata": {},
   "outputs": [],
   "source": [
    "subsub=[]\n",
    "for i,subpath in enumerate(subfolderpaths):\n",
    "    subsubnames=sub_folders(subpath)\n",
    "    subsubpath=subfolders_path(subpath)\n",
    "    sub={\n",
    "        'speciesname':folders_names[i],\n",
    "    }\n",
    "    for ind,s in enumerate(subsubnames):\n",
    "        sub['path']=subsubpath[ind]\n",
    "        if leafpattern.match(s):\n",
    "            sub['leaves']=num_sub_folders(subsubpath[ind])\n",
    "        elif plantpattern.match(s):\n",
    "            sub['plants']=num_sub_folders(subsubpath[ind])\n",
    "        elif flowerpattern.match(s):\n",
    "            sub['flowers']=num_sub_folders(subsubpath[ind])\n",
    "        elif rawFruitpattern.match(s):\n",
    "            sub['raw_fruits']=num_sub_folders(subsubpath[ind])\n",
    "        else:\n",
    "             sub[s]=num_sub_folders(subsubpath[ind])\n",
    "    subsub.append(sub)"
   ]
  },
  {
   "cell_type": "code",
   "execution_count": 27,
   "metadata": {},
   "outputs": [],
   "source": [
    "def subpartcountmaping(subpart):\n",
    "    subpartRow=[]\n",
    "    subpartRow.append(subpart['speciesname'])\n",
    "    for part in ['leaves','plants','flowers','raw_fruits']:\n",
    "        subpartRow.append(subpart[part]) if part in subpart.keys() else subpartRow.append(0)\n",
    "    return subpartRow"
   ]
  },
  {
   "cell_type": "code",
   "execution_count": 28,
   "metadata": {},
   "outputs": [],
   "source": [
    "subsubli=list(map(lambda tr:subpartcountmaping(tr),subsub))"
   ]
  },
  {
   "cell_type": "code",
   "execution_count": 29,
   "metadata": {},
   "outputs": [],
   "source": [
    "reportjsonfile=os.path.join(today_collection_path,'reportjsonfile.json')"
   ]
  },
  {
   "cell_type": "code",
   "execution_count": 30,
   "metadata": {},
   "outputs": [],
   "source": [
    "with open(reportjsonfile, 'r+') as f:\n",
    "        # Load existing data from JSON\n",
    "        existing_data = json.load(f)\n",
    "        \n",
    "        # Append new data to existing JSON data\n",
    "        existing_data['subfolder']=subfolders\n",
    "        \n",
    "        # Write updated data back to JSON file\n",
    "        f.seek(0)\n",
    "        json.dump(existing_data, f, indent=4)\n",
    "        f.truncate()"
   ]
  },
  {
   "cell_type": "code",
   "execution_count": 31,
   "metadata": {},
   "outputs": [],
   "source": [
    "subfolderdetails =list(map(lambda folder: {\n",
    "    'name':folder['name'],\n",
    "    'path':folder['path'],\n",
    "    'files':folder['filecount'],\n",
    "    'volume(MB)':folder['volume']['MB'],\n",
    "    },subfolders)) \n",
    "subfolderdetails_li=list(map(lambda folder: [\n",
    "    folder['name'],\n",
    "    folder['path'],\n",
    "    folder['filecount'],\n",
    "    folder['volume']['MB'],\n",
    "    len(folder['subfolders'])\n",
    "    ],subfolders)) "
   ]
  },
  {
   "cell_type": "code",
   "execution_count": 32,
   "metadata": {},
   "outputs": [
    {
     "data": {
      "text/plain": [
       "32"
      ]
     },
     "execution_count": 32,
     "metadata": {},
     "output_type": "execute_result"
    }
   ],
   "source": [
    "save_to_csv_filedetails(data=subfolderdetails_li,colums=[\"Speciesname\",\"Path\",\"Leaves\",\"Plants\",\"Flowers\",\"rawFruits\"],csv_filename='subpart_reportcsv.csv',save_folder=today_collection_path)"
   ]
  },
  {
   "cell_type": "code",
   "execution_count": 33,
   "metadata": {},
   "outputs": [
    {
     "data": {
      "text/plain": [
       "32"
      ]
     },
     "execution_count": 33,
     "metadata": {},
     "output_type": "execute_result"
    }
   ],
   "source": [
    "save_to_csv_filedetails(data=subfolderdetails_li,colums=[\"Names\",\"Path\",\"Files\",\"Volume MB\",\"subfolders\"],csv_filename='reportcsv.csv',save_folder=today_collection_path)"
   ]
  }
 ],
 "metadata": {
  "kernelspec": {
   "display_name": "Python 3",
   "language": "python",
   "name": "python3"
  },
  "language_info": {
   "codemirror_mode": {
    "name": "ipython",
    "version": 3
   },
   "file_extension": ".py",
   "mimetype": "text/x-python",
   "name": "python",
   "nbconvert_exporter": "python",
   "pygments_lexer": "ipython3",
   "version": "3.11.9"
  }
 },
 "nbformat": 4,
 "nbformat_minor": 2
}
