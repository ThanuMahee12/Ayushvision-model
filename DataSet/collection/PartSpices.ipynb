{
 "cells": [
  {
   "cell_type": "code",
   "execution_count": null,
   "metadata": {},
   "outputs": [],
   "source": [
    "import os"
   ]
  },
  {
   "cell_type": "code",
   "execution_count": 1,
   "metadata": {},
   "outputs": [],
   "source": [
    "from PIL import Image"
   ]
  },
  {
   "cell_type": "code",
   "execution_count": 2,
   "metadata": {},
   "outputs": [],
   "source": [
    "from datetime import datetime"
   ]
  },
  {
   "cell_type": "code",
   "execution_count": 10,
   "metadata": {},
   "outputs": [],
   "source": [
    "import pandas as pd"
   ]
  },
  {
   "cell_type": "code",
   "execution_count": 3,
   "metadata": {},
   "outputs": [
    {
     "name": "stdout",
     "output_type": "stream",
     "text": [
      "created\n"
     ]
    }
   ],
   "source": [
    "%run ../../Util/FileFolder"
   ]
  },
  {
   "cell_type": "code",
   "execution_count": 5,
   "metadata": {},
   "outputs": [],
   "source": [
    "analysispath=\"D:\\AYUSHWORKING\\classification\\AyushPartPreparation\""
   ]
  },
  {
   "cell_type": "code",
   "execution_count": 22,
   "metadata": {},
   "outputs": [],
   "source": [
    "%run ../../Util/ImageProcessing"
   ]
  },
  {
   "cell_type": "code",
   "execution_count": 23,
   "metadata": {},
   "outputs": [],
   "source": [
    "folders=[]"
   ]
  },
  {
   "cell_type": "code",
   "execution_count": 24,
   "metadata": {},
   "outputs": [],
   "source": [
    "for folder in os.listdir(analysispath):\n",
    "    for subfold in os.listdir(os.path.join(analysispath,folder)):\n",
    "        dir=os.path.join(analysispath,folder,subfold )\n",
    "        folders.append({'dir':dir,'part':folder,'species':subfold,'count':count_files_in_folder(dir)})"
   ]
  },
  {
   "cell_type": "code",
   "execution_count": 25,
   "metadata": {},
   "outputs": [],
   "source": [
    "df=pd.DataFrame(folders)"
   ]
  },
  {
   "cell_type": "code",
   "execution_count": 27,
   "metadata": {},
   "outputs": [
    {
     "data": {
      "text/html": [
       "<div>\n",
       "<style scoped>\n",
       "    .dataframe tbody tr th:only-of-type {\n",
       "        vertical-align: middle;\n",
       "    }\n",
       "\n",
       "    .dataframe tbody tr th {\n",
       "        vertical-align: top;\n",
       "    }\n",
       "\n",
       "    .dataframe thead th {\n",
       "        text-align: right;\n",
       "    }\n",
       "</style>\n",
       "<table border=\"1\" class=\"dataframe\">\n",
       "  <thead>\n",
       "    <tr style=\"text-align: right;\">\n",
       "      <th></th>\n",
       "      <th>dir</th>\n",
       "      <th>part</th>\n",
       "      <th>species</th>\n",
       "      <th>count</th>\n",
       "    </tr>\n",
       "  </thead>\n",
       "  <tbody>\n",
       "    <tr>\n",
       "      <th>0</th>\n",
       "      <td>D:\\AYUSHWORKING\\classification\\AyushPartPrepar...</td>\n",
       "      <td>flowers</td>\n",
       "      <td>AdamantCreeper</td>\n",
       "      <td>200</td>\n",
       "    </tr>\n",
       "    <tr>\n",
       "      <th>1</th>\n",
       "      <td>D:\\AYUSHWORKING\\classification\\AyushPartPrepar...</td>\n",
       "      <td>flowers</td>\n",
       "      <td>Calotropisgigantea</td>\n",
       "      <td>200</td>\n",
       "    </tr>\n",
       "    <tr>\n",
       "      <th>2</th>\n",
       "      <td>D:\\AYUSHWORKING\\classification\\AyushPartPrepar...</td>\n",
       "      <td>flowers</td>\n",
       "      <td>Hibiscus</td>\n",
       "      <td>200</td>\n",
       "    </tr>\n",
       "    <tr>\n",
       "      <th>3</th>\n",
       "      <td>D:\\AYUSHWORKING\\classification\\AyushPartPrepar...</td>\n",
       "      <td>flowers</td>\n",
       "      <td>HolyBasil</td>\n",
       "      <td>200</td>\n",
       "    </tr>\n",
       "    <tr>\n",
       "      <th>4</th>\n",
       "      <td>D:\\AYUSHWORKING\\classification\\AyushPartPrepar...</td>\n",
       "      <td>flowers</td>\n",
       "      <td>Indianacalypha</td>\n",
       "      <td>200</td>\n",
       "    </tr>\n",
       "    <tr>\n",
       "      <th>...</th>\n",
       "      <td>...</td>\n",
       "      <td>...</td>\n",
       "      <td>...</td>\n",
       "      <td>...</td>\n",
       "    </tr>\n",
       "    <tr>\n",
       "      <th>84</th>\n",
       "      <td>D:\\AYUSHWORKING\\classification\\AyushPartPrepar...</td>\n",
       "      <td>raw_fruits</td>\n",
       "      <td>ThornApple</td>\n",
       "      <td>200</td>\n",
       "    </tr>\n",
       "    <tr>\n",
       "      <th>85</th>\n",
       "      <td>D:\\AYUSHWORKING\\classification\\AyushPartPrepar...</td>\n",
       "      <td>roots</td>\n",
       "      <td>tallperennialgrass</td>\n",
       "      <td>200</td>\n",
       "    </tr>\n",
       "    <tr>\n",
       "      <th>86</th>\n",
       "      <td>D:\\AYUSHWORKING\\classification\\AyushPartPrepar...</td>\n",
       "      <td>tumbers</td>\n",
       "      <td>ginger</td>\n",
       "      <td>200</td>\n",
       "    </tr>\n",
       "    <tr>\n",
       "      <th>87</th>\n",
       "      <td>D:\\AYUSHWORKING\\classification\\AyushPartPrepar...</td>\n",
       "      <td>tumbers</td>\n",
       "      <td>turmeric</td>\n",
       "      <td>200</td>\n",
       "    </tr>\n",
       "    <tr>\n",
       "      <th>88</th>\n",
       "      <td>D:\\AYUSHWORKING\\classification\\AyushPartPrepar...</td>\n",
       "      <td>tumbers</td>\n",
       "      <td>WildTurmaric</td>\n",
       "      <td>200</td>\n",
       "    </tr>\n",
       "  </tbody>\n",
       "</table>\n",
       "<p>89 rows × 4 columns</p>\n",
       "</div>"
      ],
      "text/plain": [
       "                                                  dir        part  \\\n",
       "0   D:\\AYUSHWORKING\\classification\\AyushPartPrepar...     flowers   \n",
       "1   D:\\AYUSHWORKING\\classification\\AyushPartPrepar...     flowers   \n",
       "2   D:\\AYUSHWORKING\\classification\\AyushPartPrepar...     flowers   \n",
       "3   D:\\AYUSHWORKING\\classification\\AyushPartPrepar...     flowers   \n",
       "4   D:\\AYUSHWORKING\\classification\\AyushPartPrepar...     flowers   \n",
       "..                                                ...         ...   \n",
       "84  D:\\AYUSHWORKING\\classification\\AyushPartPrepar...  raw_fruits   \n",
       "85  D:\\AYUSHWORKING\\classification\\AyushPartPrepar...       roots   \n",
       "86  D:\\AYUSHWORKING\\classification\\AyushPartPrepar...     tumbers   \n",
       "87  D:\\AYUSHWORKING\\classification\\AyushPartPrepar...     tumbers   \n",
       "88  D:\\AYUSHWORKING\\classification\\AyushPartPrepar...     tumbers   \n",
       "\n",
       "               species  count  \n",
       "0       AdamantCreeper    200  \n",
       "1   Calotropisgigantea    200  \n",
       "2             Hibiscus    200  \n",
       "3            HolyBasil    200  \n",
       "4       Indianacalypha    200  \n",
       "..                 ...    ...  \n",
       "84          ThornApple    200  \n",
       "85  tallperennialgrass    200  \n",
       "86              ginger    200  \n",
       "87            turmeric    200  \n",
       "88        WildTurmaric    200  \n",
       "\n",
       "[89 rows x 4 columns]"
      ]
     },
     "execution_count": 27,
     "metadata": {},
     "output_type": "execute_result"
    }
   ],
   "source": [
    "df"
   ]
  }
 ],
 "metadata": {
  "kernelspec": {
   "display_name": "Python 3",
   "language": "python",
   "name": "python3"
  },
  "language_info": {
   "codemirror_mode": {
    "name": "ipython",
    "version": 3
   },
   "file_extension": ".py",
   "mimetype": "text/x-python",
   "name": "python",
   "nbconvert_exporter": "python",
   "pygments_lexer": "ipython3",
   "version": "3.11.9"
  }
 },
 "nbformat": 4,
 "nbformat_minor": 2
}
