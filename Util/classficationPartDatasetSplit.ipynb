{
  "nbformat": 4,
  "nbformat_minor": 0,
  "metadata": {
    "colab": {
      "provenance": [],
      "authorship_tag": "ABX9TyMvbDBATGPrq+a7jNZ8VwhE",
      "include_colab_link": true
    },
    "kernelspec": {
      "name": "python3",
      "display_name": "Python 3"
    },
    "language_info": {
      "name": "python"
    }
  },
  "cells": [
    {
      "cell_type": "markdown",
      "metadata": {
        "id": "view-in-github",
        "colab_type": "text"
      },
      "source": [
        "<a href=\"https://colab.research.google.com/github/ThanuMahee12/ayush-vision/blob/util/Util/classficationPartDatasetSplit.ipynb\" target=\"_parent\"><img src=\"https://colab.research.google.com/assets/colab-badge.svg\" alt=\"Open In Colab\"/></a>"
      ]
    },
    {
      "cell_type": "code",
      "execution_count": 1,
      "metadata": {
        "colab": {
          "base_uri": "https://localhost:8080/"
        },
        "id": "1XbJVXpxuRSI",
        "outputId": "034f0f5b-0288-4124-9568-7de33ddac6c0"
      },
      "outputs": [
        {
          "output_type": "stream",
          "name": "stdout",
          "text": [
            "Mounted at /content/drive\n"
          ]
        }
      ],
      "source": [
        "from google.colab import drive\n",
        "drive.mount('/content/drive')"
      ]
    },
    {
      "cell_type": "code",
      "source": [
        "import os"
      ],
      "metadata": {
        "id": "AFnaYCzjvIxI"
      },
      "execution_count": 2,
      "outputs": []
    },
    {
      "cell_type": "code",
      "source": [
        "from sklearn.model_selection import train_test_split"
      ],
      "metadata": {
        "id": "5AeFFeIS5bZ6"
      },
      "execution_count": 3,
      "outputs": []
    },
    {
      "cell_type": "code",
      "source": [
        "import shutil"
      ],
      "metadata": {
        "id": "_PYwIzlBX7-P"
      },
      "execution_count": 10,
      "outputs": []
    },
    {
      "cell_type": "code",
      "source": [
        "root_dir=\"/content/drive/MyDrive/AYUSHVISION\""
      ],
      "metadata": {
        "id": "2g98xVn1u13L"
      },
      "execution_count": 4,
      "outputs": []
    },
    {
      "cell_type": "code",
      "source": [
        "source_path=os.path.join(root_dir,'source')\n",
        "work_path=os.path.join(root_dir,'working')"
      ],
      "metadata": {
        "id": "d6UZpATOvKuI"
      },
      "execution_count": 5,
      "outputs": []
    },
    {
      "cell_type": "code",
      "source": [
        "if not os.path.exists(work_path):\n",
        "  os.makedirs(work_path)"
      ],
      "metadata": {
        "id": "5D2HdnX3vY-_"
      },
      "execution_count": 6,
      "outputs": []
    },
    {
      "cell_type": "code",
      "source": [
        "for root,dir,files in os.walk(source_path):\n",
        "  newpaths=list(map(lambda split:os.path.join(work_path,split,os.path.relpath(root,source_path)),['train','test','val']))\n",
        "  for splitdir in newpaths:\n",
        "    if not os.path.exists(splitdir ):\n",
        "      os.makedirs(splitdir )"
      ],
      "metadata": {
        "id": "sGsOFVP0vlit"
      },
      "execution_count": 7,
      "outputs": []
    },
    {
      "cell_type": "code",
      "source": [
        "datas=traindata,testdata,valdata=[],[],[]"
      ],
      "metadata": {
        "id": "5ZgvDvCk6HP5"
      },
      "execution_count": 8,
      "outputs": []
    },
    {
      "cell_type": "code",
      "source": [
        "for subdir in os.listdir(source_path):\n",
        "  files=list(map(lambda file:os.path.join(subdir,file),os.listdir(os.path.join(source_path,subdir))))\n",
        "  train_val_data, test_data = train_test_split(files, test_size=0.2, random_state=42)\n",
        "  train_data, val_data = train_test_split( train_val_data, test_size=0.125, random_state=42)\n",
        "  traindata.extend(train_data)\n",
        "  testdata.extend(test_data)\n",
        "  valdata.extend(val_data)"
      ],
      "metadata": {
        "id": "a4vQthiny1k2"
      },
      "execution_count": 9,
      "outputs": []
    },
    {
      "cell_type": "code",
      "source": [
        "for file in traindata:\n",
        "  filename=os.path.join(source_path,file)\n",
        "  target_path=os.path.join(work_path,'train',os.path.splitext(file)[0])\n",
        "  shutil.copy2(filename,target_path)\n"
      ],
      "metadata": {
        "id": "65vAb4u46mw2"
      },
      "execution_count": 13,
      "outputs": []
    },
    {
      "cell_type": "code",
      "source": [
        "for file in testdata:\n",
        "  filename=os.path.join(source_path,file)\n",
        "  target_path=os.path.join(work_path,'test',os.path.splitext(file)[0])\n",
        "  shutil.copy2(filename,target_path)"
      ],
      "metadata": {
        "id": "2yLT5K_VZrvl"
      },
      "execution_count": 14,
      "outputs": []
    },
    {
      "cell_type": "code",
      "source": [
        "for file in valdata:\n",
        "  filename=os.path.join(source_path,file)\n",
        "  target_path=os.path.join(work_path,'val',os.path.splitext(file)[0])\n",
        "  shutil.copy2(filename,target_path)"
      ],
      "metadata": {
        "id": "2JBOqBcHZzbO"
      },
      "execution_count": 15,
      "outputs": []
    },
    {
      "cell_type": "code",
      "source": [
        "for splititem in os.listdir(work_path):\n",
        "  for species in os.listdir(os.path.join(work_path,splititem)):\n",
        "    print(f'{splititem}_{species}->{len(os.listdir(os.path.join(work_path,splititem,species)))}')"
      ],
      "metadata": {
        "colab": {
          "base_uri": "https://localhost:8080/"
        },
        "id": "gr05lVr8aQ_-",
        "outputId": "b62708d1-e1a1-48b3-9e1d-0d97f8fbd007"
      },
      "execution_count": 18,
      "outputs": [
        {
          "output_type": "stream",
          "name": "stdout",
          "text": [
            "train_tallperennialgrass->140\n",
            "test_tallperennialgrass->40\n",
            "val_tallperennialgrass->20\n"
          ]
        }
      ]
    }
  ]
}