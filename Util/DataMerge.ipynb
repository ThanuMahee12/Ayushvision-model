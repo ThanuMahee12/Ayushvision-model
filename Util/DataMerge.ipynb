{
  "cells": [
    {
      "cell_type": "markdown",
      "metadata": {
        "id": "view-in-github",
        "colab_type": "text"
      },
      "source": [
        "<a href=\"https://colab.research.google.com/github/ThanuMahee12/ayush-vision/blob/util/Util/DataMerge.ipynb\" target=\"_parent\"><img src=\"https://colab.research.google.com/assets/colab-badge.svg\" alt=\"Open In Colab\"/></a>"
      ]
    },
    {
      "cell_type": "code",
      "execution_count": 1,
      "metadata": {
        "id": "UsZZ-LUyeeg1"
      },
      "outputs": [],
      "source": [
        "import os\n",
        "import shutil"
      ]
    },
    {
      "cell_type": "code",
      "source": [
        "from google.colab import drive\n",
        "drive.mount('/content/drive')"
      ],
      "metadata": {
        "id": "kkLhgdQGemD9",
        "outputId": "4678d159-9491-4a8f-c18d-ec9232e7dd27",
        "colab": {
          "base_uri": "https://localhost:8080/"
        }
      },
      "execution_count": 2,
      "outputs": [
        {
          "output_type": "stream",
          "name": "stdout",
          "text": [
            "Mounted at /content/drive\n"
          ]
        }
      ]
    },
    {
      "cell_type": "code",
      "execution_count": 3,
      "metadata": {
        "id": "SUUU02dxeeg3"
      },
      "outputs": [],
      "source": [
        "source_file='/content/drive/MyDrive/AyushVision/yolo/workingdir/source'\n",
        "target_folder='/content/drive/MyDrive/AyushVision/yolo/workingdir/final'"
      ]
    },
    {
      "cell_type": "code",
      "execution_count": 5,
      "metadata": {
        "id": "v-1gRtzIeeg3"
      },
      "outputs": [],
      "source": [
        "subfolders=['train','test','valid']"
      ]
    },
    {
      "cell_type": "code",
      "source": [
        "for subfolder in os.listdir(source_file):\n",
        "  for sub in os.listdir(os.path.join(source_file,subfolder)):\n",
        "     if sub in subfolders:\n",
        "        for root,dirs,files in os.walk(os.path.join(source_file,subfolder,sub)):\n",
        "            targetfolderpath=os.path.join(target_folder,os.path.relpath(root,os.path.join(source_file,subfolder)))\n",
        "            if not os.path.exists(targetfolderpath):\n",
        "              os.makedirs(targetfolderpath)\n",
        "            else:\n",
        "              print(targetfolderpath)\n",
        ""
      ],
      "metadata": {
        "id": "xeQz5q8tjbW9",
        "outputId": "7ac9c177-1c44-4f62-f44a-5cdf2de61097",
        "colab": {
          "base_uri": "https://localhost:8080/"
        }
      },
      "execution_count": 14,
      "outputs": [
        {
          "output_type": "stream",
          "name": "stdout",
          "text": [
            "/content/drive/MyDrive/AyushVision/yolo/workingdir/final/valid\n",
            "/content/drive/MyDrive/AyushVision/yolo/workingdir/final/valid/images\n",
            "/content/drive/MyDrive/AyushVision/yolo/workingdir/final/valid/labels\n",
            "/content/drive/MyDrive/AyushVision/yolo/workingdir/final/test\n",
            "/content/drive/MyDrive/AyushVision/yolo/workingdir/final/test/labels\n",
            "/content/drive/MyDrive/AyushVision/yolo/workingdir/final/test/images\n",
            "/content/drive/MyDrive/AyushVision/yolo/workingdir/final/train\n",
            "/content/drive/MyDrive/AyushVision/yolo/workingdir/final/train/labels\n",
            "/content/drive/MyDrive/AyushVision/yolo/workingdir/final/train/images\n",
            "/content/drive/MyDrive/AyushVision/yolo/workingdir/final/test\n",
            "/content/drive/MyDrive/AyushVision/yolo/workingdir/final/test/images\n",
            "/content/drive/MyDrive/AyushVision/yolo/workingdir/final/test/labels\n",
            "/content/drive/MyDrive/AyushVision/yolo/workingdir/final/train\n",
            "/content/drive/MyDrive/AyushVision/yolo/workingdir/final/train/images\n",
            "/content/drive/MyDrive/AyushVision/yolo/workingdir/final/train/labels\n",
            "/content/drive/MyDrive/AyushVision/yolo/workingdir/final/valid\n",
            "/content/drive/MyDrive/AyushVision/yolo/workingdir/final/valid/images\n",
            "/content/drive/MyDrive/AyushVision/yolo/workingdir/final/valid/labels\n"
          ]
        }
      ]
    },
    {
      "cell_type": "code",
      "source": [
        "for subfolder in os.listdir(source_file):\n",
        "  for sub in os.listdir(os.path.join(source_file,subfolder)):\n",
        "     if sub in subfolders:\n",
        "        for root,dirs,files in os.walk(os.path.join(source_file,subfolder,sub)):\n",
        "            targetfolderpath=os.path.join(target_folder,os.path.relpath(root,os.path.join(source_file,subfolder)))\n",
        "            for file in files:\n",
        "              oldpath=os.path.join(root,file)\n",
        "              if not os.path.exists(os.path.join(targetfolderpath,file)):\n",
        "                shutil.copy2(oldpath,targetfolderpath)\n",
        ""
      ],
      "metadata": {
        "id": "SEQBIa7GnEL9"
      },
      "execution_count": 22,
      "outputs": []
    },
    {
      "cell_type": "code",
      "source": [
        "count=0\n",
        "for root,dirs,files in os.walk(source_file):\n",
        "  count=count+len(files)\n",
        "print(count)"
      ],
      "metadata": {
        "id": "-bTNgsfhjuZB",
        "outputId": "481939f6-5cbf-4fd7-d2e3-3588c4bce7bc",
        "colab": {
          "base_uri": "https://localhost:8080/"
        }
      },
      "execution_count": 18,
      "outputs": [
        {
          "output_type": "stream",
          "name": "stdout",
          "text": [
            "31706\n"
          ]
        }
      ]
    },
    {
      "cell_type": "code",
      "source": [
        "count=0\n",
        "for root,dirs,files in os.walk(target_folder):\n",
        "  count=count+len(files)\n",
        "print(count)"
      ],
      "metadata": {
        "id": "uZJ5tWr_k8nn",
        "outputId": "bfaf14db-3da1-4a85-a84d-f8d131757e8b",
        "colab": {
          "base_uri": "https://localhost:8080/"
        }
      },
      "execution_count": 21,
      "outputs": [
        {
          "output_type": "stream",
          "name": "stdout",
          "text": [
            "31699\n"
          ]
        }
      ]
    },
    {
      "cell_type": "code",
      "execution_count": null,
      "metadata": {
        "id": "ijBQGV2Reeg3",
        "outputId": "c6d2877b-5c92-479b-ed5f-cf1d2ea4f022",
        "colab": {
          "base_uri": "https://localhost:8080/"
        }
      },
      "outputs": [
        {
          "output_type": "stream",
          "name": "stdout",
          "text": [
            "train\n",
            "test\n",
            "valid\n"
          ]
        }
      ],
      "source": [
        "for subfolder in subfolders:\n",
        "    sourcepath=os.path.join(source_file,subfolder)\n",
        "    targetpath=os.path.join(target_folder,subfolder)\n",
        "    if os.path.exists(sourcepath):\n",
        "      for folder in ['images','labels']:\n",
        "        source=os.path.join(sourcepath,folder)\n",
        "        target=os.path.join(targetpath,folder)\n",
        "        if not os.path.exists(target):\n",
        "          os.makedirs(target)\n",
        "        for file in os.listdir(source):\n",
        "          os.rename(os.path.join(source,file),os.path.join(target,file))\n",
        "    print(subfolder)\n",
        "\n"
      ]
    }
  ],
  "metadata": {
    "language_info": {
      "name": "python"
    },
    "colab": {
      "provenance": [],
      "include_colab_link": true
    },
    "kernelspec": {
      "name": "python3",
      "display_name": "Python 3"
    }
  },
  "nbformat": 4,
  "nbformat_minor": 0
}