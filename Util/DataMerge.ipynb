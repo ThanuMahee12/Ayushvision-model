{
  "cells": [
    {
      "cell_type": "markdown",
      "metadata": {
        "id": "view-in-github",
        "colab_type": "text"
      },
      "source": [
        "<a href=\"https://colab.research.google.com/github/ThanuMahee12/ayush-vision/blob/util/Util/DataMerge.ipynb\" target=\"_parent\"><img src=\"https://colab.research.google.com/assets/colab-badge.svg\" alt=\"Open In Colab\"/></a>"
      ]
    },
    {
      "cell_type": "code",
      "execution_count": 1,
      "metadata": {
        "id": "UsZZ-LUyeeg1"
      },
      "outputs": [],
      "source": [
        "import os\n",
        "import shutil"
      ]
    },
    {
      "cell_type": "code",
      "source": [
        "from google.colab import drive\n",
        "drive.mount('/content/drive')"
      ],
      "metadata": {
        "id": "kkLhgdQGemD9",
        "outputId": "2990ddb5-853e-4f54-bbdd-372269752c8c",
        "colab": {
          "base_uri": "https://localhost:8080/"
        }
      },
      "execution_count": 2,
      "outputs": [
        {
          "output_type": "stream",
          "name": "stdout",
          "text": [
            "Mounted at /content/drive\n"
          ]
        }
      ]
    },
    {
      "cell_type": "code",
      "execution_count": 3,
      "metadata": {
        "id": "SUUU02dxeeg3"
      },
      "outputs": [],
      "source": [
        "source_file='/content/drive/MyDrive/AyushVision/yolo/dataset/ayushvision_leaves'\n",
        "target_folder='/content/drive/MyDrive/AyushVision/yolo/dataset/ayushvision_leaf'"
      ]
    },
    {
      "cell_type": "code",
      "execution_count": 4,
      "metadata": {
        "id": "v-1gRtzIeeg3"
      },
      "outputs": [],
      "source": [
        "subfolders=['train','test','valid']"
      ]
    },
    {
      "cell_type": "code",
      "execution_count": 5,
      "metadata": {
        "id": "ijBQGV2Reeg3",
        "outputId": "c6d2877b-5c92-479b-ed5f-cf1d2ea4f022",
        "colab": {
          "base_uri": "https://localhost:8080/"
        }
      },
      "outputs": [
        {
          "output_type": "stream",
          "name": "stdout",
          "text": [
            "train\n",
            "test\n",
            "valid\n"
          ]
        }
      ],
      "source": [
        "for subfolder in subfolders:\n",
        "    sourcepath=os.path.join(source_file,subfolder)\n",
        "    targetpath=os.path.join(target_folder,subfolder)\n",
        "    if os.path.exists(sourcepath):\n",
        "      for folder in ['images','labels']:\n",
        "        source=os.path.join(sourcepath,folder)\n",
        "        target=os.path.join(targetpath,folder)\n",
        "        if not os.path.exists(target):\n",
        "          os.makedirs(target)\n",
        "        for file in os.listdir(source):\n",
        "          os.rename(os.path.join(source,file),os.path.join(target,file))\n",
        "    print(subfolder)\n",
        "\n"
      ]
    }
  ],
  "metadata": {
    "language_info": {
      "name": "python"
    },
    "colab": {
      "provenance": [],
      "gpuType": "T4",
      "include_colab_link": true
    },
    "kernelspec": {
      "name": "python3",
      "display_name": "Python 3"
    },
    "accelerator": "GPU"
  },
  "nbformat": 4,
  "nbformat_minor": 0
}