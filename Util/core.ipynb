{
  "cells": [
    {
      "cell_type": "markdown",
      "metadata": {
        "colab_type": "text",
        "id": "view-in-github"
      },
      "source": [
        "<a href=\"https://colab.research.google.com/github/ThanuMahee12/ayush-vision/blob/main/Util/core.ipynb\" target=\"_parent\"><img src=\"https://colab.research.google.com/assets/colab-badge.svg\" alt=\"Open In Colab\"/></a>"
      ]
    },
    {
      "cell_type": "markdown",
      "metadata": {
        "id": "3gxZRAu-jgzN"
      },
      "source": [
        "# Core functions"
      ]
    },
    {
      "cell_type": "markdown",
      "metadata": {
        "id": "06W1AwOwjgzW"
      },
      "source": [
        "#### check Availble Packages"
      ]
    },
    {
      "cell_type": "code",
      "execution_count": null,
      "metadata": {
        "id": "yR5axEXhjgzY"
      },
      "outputs": [],
      "source": [
        "# import importlib\n",
        "import os"
      ]
    },
    {
      "cell_type": "markdown",
      "metadata": {
        "id": "hELdNxOrjgzb"
      },
      "source": [
        "#### check package is availble or not cg"
      ]
    },
    {
      "cell_type": "code",
      "execution_count": null,
      "metadata": {
        "id": "89gUN_5Ijgzc"
      },
      "outputs": [],
      "source": [
        "def check_and_install_packages(package_name,quit=False):\n",
        "    try:\n",
        "        importlib.import_module(package_name)\n",
        "        print(f\"{package_name} is already installed.\")\n",
        "    except ImportError:\n",
        "        print(f\"{package_name} is not installed. Installing...\")\n",
        "        ! pip install {package_name}\n",
        "        print(f\"{package_name} has been installed.\")\n"
      ]
    },
    {
      "cell_type": "code",
      "execution_count": null,
      "metadata": {
        "id": "cwyRgqR8jgze"
      },
      "outputs": [],
      "source": [
        "def check_and_install_packages_my_project(package_names):\n",
        "    for package_name in package_names:\n",
        "        check_and_install_packages(package_name)\n"
      ]
    },
    {
      "cell_type": "markdown",
      "metadata": {
        "id": "ICJPsVssjgzf"
      },
      "source": [
        "## check what are the components in the enviroment"
      ]
    },
    {
      "cell_type": "markdown",
      "metadata": {
        "id": "Sp0AFlkfjgzg"
      },
      "source": [
        "### package manual checkup and install"
      ]
    },
    {
      "cell_type": "markdown",
      "metadata": {
        "id": "UrbzYl7_jgzg"
      },
      "source": [
        "##### Pandas"
      ]
    },
    {
      "cell_type": "code",
      "execution_count": null,
      "metadata": {
        "id": "npaUtUdQjgzh",
        "outputId": "71653ee6-c35f-426e-c354-b66156540085"
      },
      "outputs": [],
      "source": [
        "import pandas\n",
        "print(pandas.__version__)"
      ]
    },
    {
      "cell_type": "code",
      "execution_count": null,
      "metadata": {
        "id": "-Mkoplw8jgzq",
        "outputId": "a30f0d70-d3a8-4ceb-9d74-76222aaa08cb"
      },
      "outputs": [],
      "source": [
        "! pip install pandas"
      ]
    },
    {
      "cell_type": "code",
      "execution_count": null,
      "metadata": {
        "id": "ZpZsukCajgzq",
        "outputId": "88725279-f8ff-4439-8367-605ebc0981a3"
      },
      "outputs": [],
      "source": [
        "! pip install --upgrade pip"
      ]
    },
    {
      "cell_type": "markdown",
      "metadata": {
        "id": "ekafZ9Ofjgzr"
      },
      "source": [
        "##### Numpy"
      ]
    },
    {
      "cell_type": "code",
      "execution_count": null,
      "metadata": {
        "id": "cNL8EvoAjgzr",
        "outputId": "803a42ab-a583-4b2f-d7b7-ff8088181ec6"
      },
      "outputs": [],
      "source": [
        "import numpy\n",
        "numpy.__version__"
      ]
    },
    {
      "cell_type": "code",
      "execution_count": null,
      "metadata": {
        "id": "crU5SiSyjg0C",
        "outputId": "e5defae0-b43a-4633-d06d-af530a4b0e63"
      },
      "outputs": [],
      "source": [
        "! pip install numpy"
      ]
    },
    {
      "cell_type": "markdown",
      "metadata": {
        "id": "a_H_Kmn4jg0E"
      },
      "source": [
        "##### pillow"
      ]
    },
    {
      "cell_type": "code",
      "execution_count": null,
      "metadata": {
        "id": "DpzJ2Wtpjg0F",
        "outputId": "fb4cf5b8-bc32-49c1-cc65-9c15800678dc"
      },
      "outputs": [
        {
          "data": {
            "text/plain": [
              "'10.4.0'"
            ]
          },
          "execution_count": 3,
          "metadata": {},
          "output_type": "execute_result"
        }
      ],
      "source": [
        "import PIL\n",
        "PIL.__version__"
      ]
    },
    {
      "cell_type": "code",
      "execution_count": null,
      "metadata": {
        "id": "r8jLiCZFjg0G",
        "outputId": "272391fa-9181-4974-982e-5b77d3885938"
      },
      "outputs": [],
      "source": [
        "! pip install pillow"
      ]
    },
    {
      "cell_type": "markdown",
      "metadata": {
        "id": "d2cugcUWjg0H"
      },
      "source": [
        "##### Matplotlib"
      ]
    },
    {
      "cell_type": "code",
      "execution_count": null,
      "metadata": {
        "id": "gNpTCEP2jg0H",
        "outputId": "2f5c06fd-4804-42b3-bf63-27e84c739205"
      },
      "outputs": [],
      "source": [
        "import matplotlib\n",
        "matplotlib.__version__"
      ]
    },
    {
      "cell_type": "code",
      "execution_count": null,
      "metadata": {
        "id": "tS7QgZ87jg0I",
        "outputId": "4fd7ce69-c45c-4448-8a3e-4b84f6572bc5"
      },
      "outputs": [],
      "source": [
        "! pip install matplotlib"
      ]
    },
    {
      "cell_type": "markdown",
      "metadata": {
        "id": "DmKkrcqJjg0J"
      },
      "source": [
        "##### open cv"
      ]
    },
    {
      "cell_type": "code",
      "execution_count": null,
      "metadata": {
        "id": "8EhqzK8Djg0J",
        "outputId": "85aecaa9-ed2e-40a9-b94f-24a9a5a6510a"
      },
      "outputs": [],
      "source": [
        "! pip install opencv-python"
      ]
    },
    {
      "cell_type": "code",
      "execution_count": null,
      "metadata": {
        "id": "juY8MO4Xjg0J",
        "outputId": "57932260-69d6-4633-bf80-a3bc3f87a7c8"
      },
      "outputs": [
        {
          "data": {
            "text/plain": [
              "'4.9.0'"
            ]
          },
          "execution_count": 24,
          "metadata": {},
          "output_type": "execute_result"
        }
      ],
      "source": [
        "import cv2\n",
        "cv2.__version__"
      ]
    },
    {
      "cell_type": "code",
      "execution_count": null,
      "metadata": {
        "colab": {
          "base_uri": "https://localhost:8080/"
        },
        "id": "yczVwjBujg0K",
        "outputId": "8733fc33-71e5-4b88-eac3-3eff716cb3fc"
      },
      "outputs": [],
      "source": [
        "! pip install python-dotenv"
      ]
    },
    {
      "cell_type": "code",
      "execution_count": null,
      "metadata": {
        "id": "rK5cOL9Zjg0K",
        "outputId": "487a5f26-9322-4c43-b2dc-7b8e60ec9f81"
      },
      "outputs": [],
      "source": [
        "! pip install openpyxl"
      ]
    },
    {
      "cell_type": "code",
      "execution_count": null,
      "metadata": {
        "id": "vaIkFSjjjg0K",
        "outputId": "a4fc113c-31a9-4d2f-f554-21a7e5785666"
      },
      "outputs": [],
      "source": [
        "! pip install pyyaml\n"
      ]
    },
    {
      "cell_type": "code",
      "execution_count": null,
      "metadata": {
        "id": "Lhe1l7bEjg0L",
        "outputId": "51e803a4-945a-4108-afe6-1dbba2bcb9ed"
      },
      "outputs": [],
      "source": [
        "! pip install fsspec"
      ]
    },
    {
      "cell_type": "code",
      "execution_count": null,
      "metadata": {
        "id": "u-pZIMiUjg0L",
        "outputId": "c02e5811-d6d7-4d94-d557-c8a8d49b58dd"
      },
      "outputs": [],
      "source": [
        "! pip install tensorflow"
      ]
    },
    {
      "cell_type": "code",
      "execution_count": null,
      "metadata": {
        "id": "iUK1IeHujg0M",
        "outputId": "ff4baa37-f2b2-4a48-9085-0a62388a02c9"
      },
      "outputs": [],
      "source": [
        "! pip install scikit-learn"
      ]
    },
    {
      "cell_type": "code",
      "execution_count": null,
      "metadata": {
        "id": "pnicJRiOjg0c",
        "outputId": "55d40aa5-1a10-4953-84d8-28256712e26b"
      },
      "outputs": [],
      "source": [
        "! pip install fsspec"
      ]
    },
    {
      "cell_type": "code",
      "execution_count": null,
      "metadata": {
        "id": "3QmSzGX1jg0d",
        "outputId": "f606850f-ca9f-4115-c1b7-c3234302610e"
      },
      "outputs": [],
      "source": [
        "! pip install --user firebase-admin\n"
      ]
    },
    {
      "cell_type": "code",
      "execution_count": null,
      "metadata": {
        "id": "ydzE7vvmjg0e",
        "outputId": "65cea0ae-aeed-47bf-f686-71b8b74e26b8"
      },
      "outputs": [],
      "source": [
        "import firebase_admin\n",
        "\n",
        "print(\"firebase_admin module is installed and imported successfully.\")\n"
      ]
    },
    {
      "cell_type": "code",
      "execution_count": null,
      "metadata": {
        "id": "GWroe5n5jg0g",
        "outputId": "52af6d00-6b8a-4204-c780-11edc6fa322d"
      },
      "outputs": [],
      "source": [
        "! pip list"
      ]
    },
    {
      "cell_type": "code",
      "execution_count": null,
      "metadata": {
        "id": "WeDiMiYBjg0g",
        "outputId": "9202ddea-83d2-4c6f-e9c9-054291d90e89"
      },
      "outputs": [],
      "source": [
        "! pip install scikit-learn"
      ]
    }
  ],
  "metadata": {
    "colab": {
      "include_colab_link": true,
      "provenance": []
    },
    "kernelspec": {
      "display_name": "Python 3 (ipykernel)",
      "language": "python",
      "name": "python3"
    },
    "language_info": {
      "codemirror_mode": {
        "name": "ipython",
        "version": 3
      },
      "file_extension": ".py",
      "mimetype": "text/x-python",
      "name": "python",
      "nbconvert_exporter": "python",
      "pygments_lexer": "ipython3",
      "version": "3.12.4"
    }
  },
  "nbformat": 4,
  "nbformat_minor": 0
}
