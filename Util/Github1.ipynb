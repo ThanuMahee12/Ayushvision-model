{
  "cells": [
    {
      "cell_type": "markdown",
      "metadata": {
        "id": "view-in-github",
        "colab_type": "text"
      },
      "source": [
        "<a href=\"https://colab.research.google.com/github/ThanuMahee12/ayush-vision/blob/main/Util/Github1.ipynb\" target=\"_parent\"><img src=\"https://colab.research.google.com/assets/colab-badge.svg\" alt=\"Open In Colab\"/></a>"
      ]
    },
    {
      "cell_type": "code",
      "execution_count": 2,
      "metadata": {
        "colab": {
          "base_uri": "https://localhost:8080/"
        },
        "id": "9mjx3ZjljuuN",
        "outputId": "89cb2c7d-4548-4353-d4d1-ecc938b10e50"
      },
      "outputs": [
        {
          "output_type": "stream",
          "name": "stdout",
          "text": [
            "Mounted at /content/drive\n"
          ]
        }
      ],
      "source": [
        "from google.colab import drive\n",
        "drive.mount('/content/drive')"
      ]
    },
    {
      "cell_type": "code",
      "source": [
        "import os"
      ],
      "metadata": {
        "id": "8NTb96q-kDWE"
      },
      "execution_count": 3,
      "outputs": []
    },
    {
      "cell_type": "code",
      "execution_count": null,
      "metadata": {
        "id": "AsFqTgOjjuuQ"
      },
      "outputs": [],
      "source": [
        "cd /content/drive/MyDrive/\n",
        "mkdir -p Research\n",
        "cd deep-learning-for-coders\n",
        "! git clone https://github.com/fastai/course22.git\n"
      ]
    },
    {
      "cell_type": "code",
      "source": [
        "os.chdir(\"/content/drive/MyDrive/Research/ayush-vision\")"
      ],
      "metadata": {
        "id": "DP0Nc_I6j_zt"
      },
      "execution_count": 5,
      "outputs": []
    },
    {
      "cell_type": "code",
      "source": [
        "%pwd"
      ],
      "metadata": {
        "colab": {
          "base_uri": "https://localhost:8080/",
          "height": 36
        },
        "id": "frRuZZ67l4tF",
        "outputId": "d66c6162-b56e-49f0-bc80-d8822399673b"
      },
      "execution_count": 7,
      "outputs": [
        {
          "output_type": "execute_result",
          "data": {
            "text/plain": [
              "'/content/drive/MyDrive/Research/ayush-vision'"
            ],
            "application/vnd.google.colaboratory.intrinsic+json": {
              "type": "string"
            }
          },
          "metadata": {},
          "execution_count": 7
        }
      ]
    },
    {
      "cell_type": "code",
      "source": [
        "!git config user.email 'thanumahee440@gmail.com'"
      ],
      "metadata": {
        "id": "fwqt4YoGj12o"
      },
      "execution_count": 8,
      "outputs": []
    },
    {
      "cell_type": "code",
      "source": [
        "! git config --global user.email 'thanuamhee440@gmail.com'"
      ],
      "metadata": {
        "id": "H9Me8NwMmGVa"
      },
      "execution_count": 9,
      "outputs": []
    },
    {
      "cell_type": "code",
      "source": [
        "!git config pull.ff only"
      ],
      "metadata": {
        "id": "1Sm13_kNnO8q"
      },
      "execution_count": 20,
      "outputs": []
    },
    {
      "cell_type": "code",
      "source": [
        "! git pull origin main"
      ],
      "metadata": {
        "colab": {
          "base_uri": "https://localhost:8080/"
        },
        "id": "ZykPKFJ4mTxN",
        "outputId": "ceb3b758-22b5-41c4-ac66-fd487536f86e"
      },
      "execution_count": 21,
      "outputs": [
        {
          "output_type": "stream",
          "name": "stdout",
          "text": [
            "From https://github.com/ThanuMahee12/ayush-vision\n",
            " * branch            main       -> FETCH_HEAD\n",
            "fatal: Not possible to fast-forward, aborting.\n"
          ]
        }
      ]
    },
    {
      "cell_type": "code",
      "source": [
        "! git add ."
      ],
      "metadata": {
        "id": "qS3BVtC0m2JL"
      },
      "execution_count": 16,
      "outputs": []
    },
    {
      "cell_type": "code",
      "source": [
        "!git commit -m 'github.ipynb added'"
      ],
      "metadata": {
        "colab": {
          "base_uri": "https://localhost:8080/"
        },
        "id": "-tdHIFrlm7PI",
        "outputId": "c91e76d3-3d06-46b8-d270-0f87fc75a57a"
      },
      "execution_count": 17,
      "outputs": [
        {
          "output_type": "stream",
          "name": "stdout",
          "text": [
            "[main 50ef7ce] github.ipynb added\n",
            " 1 file changed, 1 insertion(+), 1 deletion(-)\n"
          ]
        }
      ]
    },
    {
      "cell_type": "code",
      "source": [
        "!git push"
      ],
      "metadata": {
        "colab": {
          "base_uri": "https://localhost:8080/"
        },
        "id": "XpPAgM1enEOZ",
        "outputId": "183214df-2287-4334-fbf6-83c68a1acf09"
      },
      "execution_count": 19,
      "outputs": [
        {
          "output_type": "stream",
          "name": "stdout",
          "text": [
            "To https://github.com/ThanuMahee12/ayush-vision.git\n",
            " \u001b[31m! [rejected]       \u001b[m main -> main (non-fast-forward)\n",
            "\u001b[31merror: failed to push some refs to 'https://github.com/ThanuMahee12/ayush-vision.git'\n",
            "\u001b[m\u001b[33mhint: Updates were rejected because the tip of your current branch is behind\u001b[m\n",
            "\u001b[33mhint: its remote counterpart. Integrate the remote changes (e.g.\u001b[m\n",
            "\u001b[33mhint: 'git pull ...') before pushing again.\u001b[m\n",
            "\u001b[33mhint: See the 'Note about fast-forwards' in 'git push --help' for details.\u001b[m\n"
          ]
        }
      ]
    }
  ],
  "metadata": {
    "language_info": {
      "name": "python"
    },
    "colab": {
      "provenance": [],
      "include_colab_link": true
    },
    "kernelspec": {
      "name": "python3",
      "display_name": "Python 3"
    }
  },
  "nbformat": 4,
  "nbformat_minor": 0
}