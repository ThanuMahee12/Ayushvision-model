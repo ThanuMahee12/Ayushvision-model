{
 "cells": [
  {
   "cell_type": "code",
   "execution_count": 2,
   "id": "b4357af5",
   "metadata": {
    "scrolled": false
   },
   "outputs": [
    {
     "name": "stdout",
     "output_type": "stream",
     "text": [
      "WARNING:tensorflow:From C:\\Users\\thanu\\AppData\\Roaming\\Python\\Python311\\site-packages\\keras\\src\\losses.py:2976: The name tf.losses.sparse_softmax_cross_entropy is deprecated. Please use tf.compat.v1.losses.sparse_softmax_cross_entropy instead.\n",
      "\n"
     ]
    }
   ],
   "source": [
    "from tensorflow.keras.preprocessing import image\n",
    "from tensorflow.keras.models import Sequential\n",
    "from tensorflow.keras.layers import Conv2D,MaxPooling2D,Dropout,Flatten,Dense,Activation,BatchNormalization\n",
    "from tensorflow.keras.optimizers import Adam\n",
    "import matplotlib.pyplot as plt\n",
    "import numpy as np\n",
    "import os"
   ]
  },
  {
   "cell_type": "code",
   "execution_count": 3,
   "id": "cc774cfb",
   "metadata": {},
   "outputs": [
    {
     "name": "stdout",
     "output_type": "stream",
     "text": [
      "Found 999 images belonging to 2 classes.\n",
      "Found 100 images belonging to 2 classes.\n",
      "Found 200 images belonging to 2 classes.\n"
     ]
    }
   ],
   "source": [
    "# Define the path to the train folder containing images of dogs and cats\n",
    "train_data_dir = 'sample/train'\n",
    "# Define the path to the val folder containing images of dogs and cats\n",
    "validation_data_dir = 'sample/validation'\n",
    "# Define the path to the val folder containing images of dogs and cats\n",
    "test_data_dir = 'sample/test'\n",
    "\n",
    "# Set up data augmentation\n",
    "train_datagen = image.ImageDataGenerator(rescale=1./255)\n",
    "\n",
    "# Load and augment the training dataset\n",
    "train_generator = train_datagen.flow_from_directory(\n",
    "    train_data_dir,\n",
    "    target_size=(150, 150),\n",
    "    class_mode='categorical'\n",
    ")\n",
    "\n",
    "# Set up data augmentation\n",
    "validation_datagen = image.ImageDataGenerator(rescale=1./255)\n",
    "\n",
    "# Load and augment the training dataset\n",
    "validation_generator = validation_datagen.flow_from_directory(\n",
    "    validation_data_dir,\n",
    "    target_size=(150, 150),\n",
    "    class_mode='categorical'\n",
    ")\n",
    "\n",
    "# Set up data augmentation\n",
    "test_datagen = image.ImageDataGenerator(rescale=1./255)\n",
    "\n",
    "# Load and augment the training dataset\n",
    "test_generator = test_datagen.flow_from_directory(\n",
    "    test_data_dir,\n",
    "    target_size=(150, 150),\n",
    "    class_mode='categorical'\n",
    ")"
   ]
  },
  {
   "cell_type": "code",
   "execution_count": 4,
   "id": "58c0be44",
   "metadata": {},
   "outputs": [
    {
     "name": "stdout",
     "output_type": "stream",
     "text": [
      "WARNING:tensorflow:From C:\\Users\\thanu\\AppData\\Roaming\\Python\\Python311\\site-packages\\keras\\src\\backend.py:873: The name tf.get_default_graph is deprecated. Please use tf.compat.v1.get_default_graph instead.\n",
      "\n",
      "WARNING:tensorflow:From C:\\Users\\thanu\\AppData\\Roaming\\Python\\Python311\\site-packages\\keras\\src\\layers\\pooling\\max_pooling2d.py:161: The name tf.nn.max_pool is deprecated. Please use tf.nn.max_pool2d instead.\n",
      "\n"
     ]
    }
   ],
   "source": [
    "# Build the CNN model\n",
    "model=Sequential()\n",
    "#Adding convolution layer\n",
    "model.add(Conv2D(32,(3,3),activation='relu',input_shape=(224,224,3)))\n",
    "model.add(BatchNormalization())\n",
    "model.add(MaxPooling2D(pool_size=(2,2)))\n",
    "model.add(Dropout(0.25))\n",
    "#Adding convolution layer\n",
    "model.add(Conv2D(64,(3,3),activation='relu'))\n",
    "model.add(BatchNormalization())\n",
    "model.add(MaxPooling2D(pool_size=(2,2)))\n",
    "model.add(Dropout(0.25))\n",
    "#Adding convolution layer\n",
    "model.add(Conv2D(128,(3,3),activation='relu'))\n",
    "model.add(BatchNormalization())\n",
    "model.add(MaxPooling2D(pool_size=(2,2)))\n",
    "model.add(Dropout(0.25))\n",
    "#Adding dense layers\n",
    "model.add(Flatten())\n",
    "model.add(Dense(512,activation='relu'))\n",
    "model.add(BatchNormalization())\n",
    "model.add(Dropout(0.5))\n",
    "model.add(Dense(32,activation='softmax'))"
   ]
  },
  {
   "cell_type": "code",
   "execution_count": 5,
   "id": "1b37d1f1",
   "metadata": {},
   "outputs": [],
   "source": [
    "# compile model\n",
    "optimizer = Adam(learning_rate=0.001)\n",
    "model.compile(optimizer=optimizer, loss=\"categorical_crossentropy\", metrics=[\"accuracy\"])"
   ]
  },
  {
   "cell_type": "code",
   "execution_count": 11,
   "id": "d2d5edbc",
   "metadata": {},
   "outputs": [
    {
     "name": "stdout",
     "output_type": "stream",
     "text": [
      "Epoch 1/50\n",
      "32/32 [==============================] - 43s 1s/step - loss: 2.3010e-04 - accuracy: 1.0000 - val_loss: 2.3350 - val_accuracy: 0.7100\n",
      "Epoch 2/50\n",
      "32/32 [==============================] - 44s 1s/step - loss: 2.0732e-04 - accuracy: 1.0000 - val_loss: 2.3478 - val_accuracy: 0.7100\n",
      "Epoch 3/50\n",
      "32/32 [==============================] - 51s 2s/step - loss: 1.8864e-04 - accuracy: 1.0000 - val_loss: 2.3682 - val_accuracy: 0.7100\n",
      "Epoch 4/50\n",
      "32/32 [==============================] - 57s 2s/step - loss: 1.7335e-04 - accuracy: 1.0000 - val_loss: 2.3696 - val_accuracy: 0.7200\n",
      "Epoch 5/50\n",
      "32/32 [==============================] - 42s 1s/step - loss: 1.5934e-04 - accuracy: 1.0000 - val_loss: 2.4091 - val_accuracy: 0.7000\n",
      "Epoch 6/50\n",
      "32/32 [==============================] - 39s 1s/step - loss: 1.4495e-04 - accuracy: 1.0000 - val_loss: 2.4278 - val_accuracy: 0.7100\n",
      "Epoch 7/50\n",
      "32/32 [==============================] - 49s 2s/step - loss: 1.3289e-04 - accuracy: 1.0000 - val_loss: 2.4454 - val_accuracy: 0.7000\n",
      "Epoch 8/50\n",
      "32/32 [==============================] - 62s 2s/step - loss: 1.2323e-04 - accuracy: 1.0000 - val_loss: 2.4468 - val_accuracy: 0.7100\n",
      "Epoch 9/50\n",
      "32/32 [==============================] - 55s 2s/step - loss: 1.1424e-04 - accuracy: 1.0000 - val_loss: 2.4768 - val_accuracy: 0.7000\n",
      "Epoch 10/50\n",
      "32/32 [==============================] - 36s 1s/step - loss: 1.0730e-04 - accuracy: 1.0000 - val_loss: 2.4816 - val_accuracy: 0.7100\n",
      "Epoch 11/50\n",
      "32/32 [==============================] - 42s 1s/step - loss: 9.9963e-05 - accuracy: 1.0000 - val_loss: 2.5082 - val_accuracy: 0.7100\n",
      "Epoch 12/50\n",
      "32/32 [==============================] - 52s 2s/step - loss: 9.4137e-05 - accuracy: 1.0000 - val_loss: 2.5106 - val_accuracy: 0.7100\n",
      "Epoch 13/50\n",
      "32/32 [==============================] - 54s 2s/step - loss: 8.8608e-05 - accuracy: 1.0000 - val_loss: 2.5298 - val_accuracy: 0.6900\n",
      "Epoch 14/50\n",
      "32/32 [==============================] - 48s 1s/step - loss: 8.2819e-05 - accuracy: 1.0000 - val_loss: 2.5366 - val_accuracy: 0.7000\n",
      "Epoch 15/50\n",
      "32/32 [==============================] - 41s 1s/step - loss: 7.9290e-05 - accuracy: 1.0000 - val_loss: 2.5573 - val_accuracy: 0.6900\n",
      "Epoch 16/50\n",
      "32/32 [==============================] - 41s 1s/step - loss: 7.4145e-05 - accuracy: 1.0000 - val_loss: 2.5565 - val_accuracy: 0.7000\n",
      "Epoch 17/50\n",
      "32/32 [==============================] - 43s 1s/step - loss: 6.9488e-05 - accuracy: 1.0000 - val_loss: 2.5662 - val_accuracy: 0.7000\n",
      "Epoch 18/50\n",
      "32/32 [==============================] - 41s 1s/step - loss: 6.6537e-05 - accuracy: 1.0000 - val_loss: 2.5744 - val_accuracy: 0.7000\n",
      "Epoch 19/50\n",
      "32/32 [==============================] - 40s 1s/step - loss: 6.2989e-05 - accuracy: 1.0000 - val_loss: 2.5892 - val_accuracy: 0.7000\n",
      "Epoch 20/50\n",
      "32/32 [==============================] - 42s 1s/step - loss: 6.0324e-05 - accuracy: 1.0000 - val_loss: 2.5930 - val_accuracy: 0.7100\n",
      "Epoch 21/50\n",
      "32/32 [==============================] - 54s 2s/step - loss: 5.6963e-05 - accuracy: 1.0000 - val_loss: 2.5909 - val_accuracy: 0.7000\n",
      "Epoch 22/50\n",
      "32/32 [==============================] - 42s 1s/step - loss: 5.4927e-05 - accuracy: 1.0000 - val_loss: 2.6123 - val_accuracy: 0.7100\n",
      "Epoch 23/50\n",
      "32/32 [==============================] - 43s 1s/step - loss: 5.1755e-05 - accuracy: 1.0000 - val_loss: 2.6207 - val_accuracy: 0.7100\n",
      "Epoch 24/50\n",
      "32/32 [==============================] - 37s 1s/step - loss: 4.9145e-05 - accuracy: 1.0000 - val_loss: 2.6282 - val_accuracy: 0.7100\n",
      "Epoch 25/50\n",
      "32/32 [==============================] - 35s 1s/step - loss: 4.7193e-05 - accuracy: 1.0000 - val_loss: 2.6285 - val_accuracy: 0.7100\n",
      "Epoch 26/50\n",
      "32/32 [==============================] - 36s 1s/step - loss: 4.5028e-05 - accuracy: 1.0000 - val_loss: 2.6386 - val_accuracy: 0.7100\n",
      "Epoch 27/50\n",
      "32/32 [==============================] - 41s 1s/step - loss: 4.3625e-05 - accuracy: 1.0000 - val_loss: 2.6532 - val_accuracy: 0.7100\n",
      "Epoch 28/50\n",
      "32/32 [==============================] - 51s 2s/step - loss: 4.1229e-05 - accuracy: 1.0000 - val_loss: 2.6511 - val_accuracy: 0.7100\n",
      "Epoch 29/50\n",
      "32/32 [==============================] - 38s 1s/step - loss: 3.9592e-05 - accuracy: 1.0000 - val_loss: 2.6671 - val_accuracy: 0.7100\n",
      "Epoch 30/50\n",
      "32/32 [==============================] - 41s 1s/step - loss: 3.8774e-05 - accuracy: 1.0000 - val_loss: 2.6718 - val_accuracy: 0.7100\n",
      "Epoch 31/50\n",
      "32/32 [==============================] - 42s 1s/step - loss: 3.6993e-05 - accuracy: 1.0000 - val_loss: 2.6813 - val_accuracy: 0.7100\n",
      "Epoch 32/50\n",
      "32/32 [==============================] - 39s 1s/step - loss: 3.5347e-05 - accuracy: 1.0000 - val_loss: 2.6822 - val_accuracy: 0.7100\n",
      "Epoch 33/50\n",
      "32/32 [==============================] - 40s 1s/step - loss: 3.3882e-05 - accuracy: 1.0000 - val_loss: 2.7018 - val_accuracy: 0.7100\n",
      "Epoch 34/50\n",
      "32/32 [==============================] - 37s 1s/step - loss: 3.2467e-05 - accuracy: 1.0000 - val_loss: 2.7031 - val_accuracy: 0.7100\n",
      "Epoch 35/50\n",
      "32/32 [==============================] - 44s 1s/step - loss: 3.1395e-05 - accuracy: 1.0000 - val_loss: 2.7061 - val_accuracy: 0.7100\n",
      "Epoch 36/50\n",
      "32/32 [==============================] - 41s 1s/step - loss: 3.0025e-05 - accuracy: 1.0000 - val_loss: 2.7141 - val_accuracy: 0.7100\n",
      "Epoch 37/50\n",
      "32/32 [==============================] - 39s 1s/step - loss: 2.9040e-05 - accuracy: 1.0000 - val_loss: 2.7216 - val_accuracy: 0.7100\n",
      "Epoch 38/50\n",
      "32/32 [==============================] - 46s 1s/step - loss: 2.7929e-05 - accuracy: 1.0000 - val_loss: 2.7305 - val_accuracy: 0.7100\n",
      "Epoch 39/50\n",
      "32/32 [==============================] - 41s 1s/step - loss: 2.7044e-05 - accuracy: 1.0000 - val_loss: 2.7367 - val_accuracy: 0.7100\n",
      "Epoch 40/50\n",
      "32/32 [==============================] - 37s 1s/step - loss: 2.5917e-05 - accuracy: 1.0000 - val_loss: 2.7339 - val_accuracy: 0.7100\n",
      "Epoch 41/50\n",
      "32/32 [==============================] - 37s 1s/step - loss: 2.5105e-05 - accuracy: 1.0000 - val_loss: 2.7369 - val_accuracy: 0.7100\n",
      "Epoch 42/50\n",
      "32/32 [==============================] - 58s 2s/step - loss: 2.4167e-05 - accuracy: 1.0000 - val_loss: 2.7501 - val_accuracy: 0.7100\n",
      "Epoch 43/50\n",
      "32/32 [==============================] - 58s 2s/step - loss: 2.3515e-05 - accuracy: 1.0000 - val_loss: 2.7509 - val_accuracy: 0.7100\n",
      "Epoch 44/50\n",
      "32/32 [==============================] - 50s 2s/step - loss: 2.2692e-05 - accuracy: 1.0000 - val_loss: 2.7514 - val_accuracy: 0.7200\n",
      "Epoch 45/50\n",
      "32/32 [==============================] - 54s 2s/step - loss: 2.1675e-05 - accuracy: 1.0000 - val_loss: 2.7803 - val_accuracy: 0.7100\n",
      "Epoch 46/50\n",
      "32/32 [==============================] - 39s 1s/step - loss: 2.1066e-05 - accuracy: 1.0000 - val_loss: 2.7852 - val_accuracy: 0.7000\n",
      "Epoch 47/50\n",
      "32/32 [==============================] - 42s 1s/step - loss: 2.0330e-05 - accuracy: 1.0000 - val_loss: 2.7804 - val_accuracy: 0.7200\n",
      "Epoch 48/50\n",
      "32/32 [==============================] - 47s 1s/step - loss: 1.9713e-05 - accuracy: 1.0000 - val_loss: 2.7854 - val_accuracy: 0.7200\n",
      "Epoch 49/50\n",
      "32/32 [==============================] - 55s 2s/step - loss: 1.8953e-05 - accuracy: 1.0000 - val_loss: 2.7877 - val_accuracy: 0.7200\n",
      "Epoch 50/50\n",
      "32/32 [==============================] - 41s 1s/step - loss: 1.8470e-05 - accuracy: 1.0000 - val_loss: 2.8061 - val_accuracy: 0.7000\n"
     ]
    }
   ],
   "source": [
    "# train the model\n",
    "history = model.fit(train_generator, epochs=50, validation_data=validation_generator)"
   ]
  },
  {
   "cell_type": "code",
   "execution_count": 12,
   "id": "19df6470",
   "metadata": {},
   "outputs": [
    {
     "data": {
      "image/png": "[encoded data removed]",
      "text/plain": [
       "<Figure size 640x480 with 1 Axes>"
      ]
     },
     "metadata": {},
     "output_type": "display_data"
    }
   ],
   "source": [
    "# Plot training history\n",
    "plt.plot(history.history['accuracy'], label='Training Accuracy')\n",
    "plt.plot(history.history['val_accuracy'], label='Validation Accuracy')\n",
    "plt.legend()\n",
    "plt.show()"
   ]
  },
  {
   "cell_type": "code",
   "execution_count": 14,
   "id": "91d4fde9",
   "metadata": {},
   "outputs": [
    {
     "name": "stdout",
     "output_type": "stream",
     "text": [
      "7/7 [==============================] - 3s 338ms/step - loss: 4.1499 - accuracy: 0.6100\n",
      "Test Accuracy: 61.00%\n"
     ]
    }
   ],
   "source": [
    "# Evaluate the model on the test set\n",
    "test_loss, test_accuracy = model.evaluate(test_generator)\n",
    "print(f'Test Accuracy: {test_accuracy*100:.2f}%')"
   ]
  },
  {
   "cell_type": "code",
   "execution_count": 15,
   "id": "63d1efb0",
   "metadata": {},
   "outputs": [
    {
     "name": "stdout",
     "output_type": "stream",
     "text": [
      "1/1 [==============================] - 0s 125ms/step\n",
      "[[9.99884605e-01 1.15348936e-04]]\n",
      "Predicted Class: cat\n",
      "Confidence Score: 99.99%\n",
      "1/1 [==============================] - 0s 85ms/step\n",
      "[[9.999260e-01 7.405674e-05]]\n",
      "Predicted Class: cat\n",
      "Confidence Score: 99.99%\n",
      "1/1 [==============================] - 0s 82ms/step\n",
      "[[0.4278868  0.57211316]]\n",
      "Predicted Class: dog\n",
      "Confidence Score: 57.21%\n",
      "1/1 [==============================] - 0s 93ms/step\n",
      "[[9.9997509e-01 2.4884128e-05]]\n",
      "Predicted Class: cat\n",
      "Confidence Score: 100.00%\n",
      "1/1 [==============================] - 0s 83ms/step\n",
      "[[0.52782446 0.4721755 ]]\n",
      "Predicted Class: cat\n",
      "Confidence Score: 52.78%\n",
      "1/1 [==============================] - 0s 97ms/step\n",
      "[[1.0000000e+00 1.2603996e-10]]\n",
      "Predicted Class: cat\n",
      "Confidence Score: 100.00%\n",
      "1/1 [==============================] - 0s 94ms/step\n",
      "[[0.7516124  0.24838759]]\n",
      "Predicted Class: cat\n",
      "Confidence Score: 75.16%\n",
      "1/1 [==============================] - 0s 76ms/step\n",
      "[[0.9614283  0.03857167]]\n",
      "Predicted Class: cat\n",
      "Confidence Score: 96.14%\n",
      "1/1 [==============================] - 0s 95ms/step\n",
      "[[5.518306e-11 1.000000e+00]]\n",
      "Predicted Class: dog\n",
      "Confidence Score: 100.00%\n",
      "1/1 [==============================] - 0s 85ms/step\n",
      "[[3.8583994e-11 1.0000000e+00]]\n",
      "Predicted Class: dog\n",
      "Confidence Score: 100.00%\n",
      "1/1 [==============================] - 0s 74ms/step\n",
      "[[0.9456173  0.05438265]]\n",
      "Predicted Class: cat\n",
      "Confidence Score: 94.56%\n",
      "1/1 [==============================] - 0s 80ms/step\n",
      "[[9.9999523e-01 4.7855742e-06]]\n",
      "Predicted Class: cat\n",
      "Confidence Score: 100.00%\n"
     ]
    }
   ],
   "source": [
    "directory_path = 'sample/predict'\n",
    "# List all files in the specified directory\n",
    "files = os.listdir(directory_path)\n",
    "\n",
    "# Iterate through the files and move those starting with 'dog_' to the 'dog' folder\n",
    "for file in files:\n",
    "    image_path = os.path.join(directory_path, file)\n",
    "    \n",
    "    if os.path.isfile(os.path.join(directory_path, file)):\n",
    "        # Load and preprocess the image\n",
    "        img = image.load_img(image_path, target_size=(150, 150))\n",
    "        img_array = image.img_to_array(img)\n",
    "        img_array = np.expand_dims(img_array, axis=0)  # Add an extra dimension to match the model's expected input shape\n",
    "        img_array /= 255.0  # Normalize pixel values to be in the range [0, 1]\n",
    "\n",
    "        # Make a prediction\n",
    "        prediction = model.predict(img_array)\n",
    "        print(prediction)\n",
    "\n",
    "        # `predictions` is a numpy array containing the predicted probabilities for each class\n",
    "        # You can further process these predictions based on your specific use case\n",
    "        # Assuming you have `predictions` from the previous code\n",
    "\n",
    "        # Get the predicted class index\n",
    "        predicted_class_index = np.argmax(prediction)\n",
    "\n",
    "        # Define your class labels\n",
    "        class_labels = ['cat', 'dog']\n",
    "\n",
    "        # Get the corresponding class label\n",
    "        predicted_class_label = class_labels[predicted_class_index]\n",
    "\n",
    "        # Get the confidence score for the predicted class\n",
    "        confidence_score = prediction[0, predicted_class_index]\n",
    "\n",
    "        # Display the results\n",
    "        print(f'Predicted Class: {predicted_class_label}')\n",
    "        print(f'Confidence Score: {confidence_score * 100:.2f}%')\n"
   ]
  },
  {
   "cell_type": "code",
   "execution_count": null,
   "id": "9f3f9f40",
   "metadata": {},
   "outputs": [],
   "source": []
  }
 ],
 "metadata": {
  "kernelspec": {
   "display_name": "Python 3 (ipykernel)",
   "language": "python",
   "name": "python3"
  },
  "language_info": {
   "codemirror_mode": {
    "name": "ipython",
    "version": 3
   },
   "file_extension": ".py",
   "mimetype": "text/x-python",
   "name": "python",
   "nbconvert_exporter": "python",
   "pygments_lexer": "ipython3",
   "version": "3.11.5"
  }
 },
 "nbformat": 4,
 "nbformat_minor": 5
}
