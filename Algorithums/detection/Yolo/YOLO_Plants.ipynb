{
  "cells": [
    {
      "cell_type": "markdown",
      "metadata": {
        "id": "view-in-github",
        "colab_type": "text"
      },
      "source": [
        "<a href=\"https://colab.research.google.com/github/ThanuMahee12/ayush-vision/blob/yolo/Algorithums/detection/Yolo/YOLO_Plants.ipynb\" target=\"_parent\"><img src=\"https://colab.research.google.com/assets/colab-badge.svg\" alt=\"Open In Colab\"/></a>"
      ]
    },
    {
      "cell_type": "markdown",
      "metadata": {
        "id": "mWi18aj0n7HU"
      },
      "source": [
        "# YOLO Plants"
      ]
    },
    {
      "cell_type": "markdown",
      "metadata": {
        "id": "0CM_KjiNtVB7"
      },
      "source": [
        "## Colab"
      ]
    },
    {
      "cell_type": "code",
      "execution_count": 1,
      "metadata": {
        "colab": {
          "base_uri": "https://localhost:8080/"
        },
        "id": "3r-r4NsGoIwe",
        "outputId": "e217e206-8f19-41a8-ff6f-930eec0c6804"
      },
      "outputs": [
        {
          "output_type": "stream",
          "name": "stdout",
          "text": [
            "Drive already mounted at /content/drive; to attempt to forcibly remount, call drive.mount(\"/content/drive\", force_remount=True).\n"
          ]
        }
      ],
      "source": [
        "from google.colab import drive\n",
        "drive.mount('/content/drive')"
      ]
    },
    {
      "cell_type": "code",
      "execution_count": null,
      "metadata": {
        "id": "ZKSwn8-clJNR"
      },
      "outputs": [],
      "source": [
        "basicdata={'account':'vediothanu.com','user':\"Thanush126\"}\n"
      ]
    },
    {
      "cell_type": "code",
      "execution_count": null,
      "metadata": {
        "colab": {
          "base_uri": "https://localhost:8080/"
        },
        "id": "z0Q4dWFHbYdR",
        "outputId": "c6963486-696b-4d22-9a23-0c3adc1b8fa1"
      },
      "outputs": [
        {
          "output_type": "stream",
          "name": "stdout",
          "text": [
            "Generating locales (this might take a while)...\n",
            "  en_US.UTF-8... done\n",
            "Generation complete.\n"
          ]
        }
      ],
      "source": [
        "! locale-gen en_US.UTF-8\n",
        "! export LC_ALL=en_US.UTF-8"
      ]
    },
    {
      "cell_type": "code",
      "source": [
        "firebase_count=1"
      ],
      "metadata": {
        "id": "QchwXMyYnQGQ"
      },
      "execution_count": null,
      "outputs": []
    },
    {
      "cell_type": "markdown",
      "metadata": {
        "id": "h4jrfd8WtYpd"
      },
      "source": [
        "## Intallations"
      ]
    },
    {
      "cell_type": "code",
      "execution_count": null,
      "metadata": {
        "id": "uRKGcqEKhzzt"
      },
      "outputs": [],
      "source": [
        "!pip install firebase-admin"
      ]
    },
    {
      "cell_type": "code",
      "execution_count": null,
      "metadata": {
        "colab": {
          "base_uri": "https://localhost:8080/"
        },
        "id": "xx51cd0goqWi",
        "outputId": "cad3c126-81c2-410a-94df-91ed90874361"
      },
      "outputs": [
        {
          "output_type": "stream",
          "name": "stdout",
          "text": [
            "Collecting ultralytics\n",
            "  Downloading ultralytics-8.2.98-py3-none-any.whl.metadata (39 kB)\n",
            "Requirement already satisfied: numpy<2.0.0,>=1.23.0 in /usr/local/lib/python3.10/dist-packages (from ultralytics) (1.26.4)\n",
            "Requirement already satisfied: matplotlib>=3.3.0 in /usr/local/lib/python3.10/dist-packages (from ultralytics) (3.7.1)\n",
            "Requirement already satisfied: opencv-python>=4.6.0 in /usr/local/lib/python3.10/dist-packages (from ultralytics) (4.10.0.84)\n",
            "Requirement already satisfied: pillow>=7.1.2 in /usr/local/lib/python3.10/dist-packages (from ultralytics) (10.4.0)\n",
            "Requirement already satisfied: pyyaml>=5.3.1 in /usr/local/lib/python3.10/dist-packages (from ultralytics) (6.0.2)\n",
            "Requirement already satisfied: requests>=2.23.0 in /usr/local/lib/python3.10/dist-packages (from ultralytics) (2.32.3)\n",
            "Requirement already satisfied: scipy>=1.4.1 in /usr/local/lib/python3.10/dist-packages (from ultralytics) (1.13.1)\n",
            "Requirement already satisfied: torch>=1.8.0 in /usr/local/lib/python3.10/dist-packages (from ultralytics) (2.4.1+cu121)\n",
            "Requirement already satisfied: torchvision>=0.9.0 in /usr/local/lib/python3.10/dist-packages (from ultralytics) (0.19.1+cu121)\n",
            "Requirement already satisfied: tqdm>=4.64.0 in /usr/local/lib/python3.10/dist-packages (from ultralytics) (4.66.5)\n",
            "Requirement already satisfied: psutil in /usr/local/lib/python3.10/dist-packages (from ultralytics) (5.9.5)\n",
            "Requirement already satisfied: py-cpuinfo in /usr/local/lib/python3.10/dist-packages (from ultralytics) (9.0.0)\n",
            "Requirement already satisfied: pandas>=1.1.4 in /usr/local/lib/python3.10/dist-packages (from ultralytics) (2.1.4)\n",
            "Requirement already satisfied: seaborn>=0.11.0 in /usr/local/lib/python3.10/dist-packages (from ultralytics) (0.13.1)\n",
            "Collecting ultralytics-thop>=2.0.0 (from ultralytics)\n",
            "  Downloading ultralytics_thop-2.0.6-py3-none-any.whl.metadata (9.1 kB)\n",
            "Requirement already satisfied: contourpy>=1.0.1 in /usr/local/lib/python3.10/dist-packages (from matplotlib>=3.3.0->ultralytics) (1.3.0)\n",
            "Requirement already satisfied: cycler>=0.10 in /usr/local/lib/python3.10/dist-packages (from matplotlib>=3.3.0->ultralytics) (0.12.1)\n",
            "Requirement already satisfied: fonttools>=4.22.0 in /usr/local/lib/python3.10/dist-packages (from matplotlib>=3.3.0->ultralytics) (4.53.1)\n",
            "Requirement already satisfied: kiwisolver>=1.0.1 in /usr/local/lib/python3.10/dist-packages (from matplotlib>=3.3.0->ultralytics) (1.4.7)\n",
            "Requirement already satisfied: packaging>=20.0 in /usr/local/lib/python3.10/dist-packages (from matplotlib>=3.3.0->ultralytics) (24.1)\n",
            "Requirement already satisfied: pyparsing>=2.3.1 in /usr/local/lib/python3.10/dist-packages (from matplotlib>=3.3.0->ultralytics) (3.1.4)\n",
            "Requirement already satisfied: python-dateutil>=2.7 in /usr/local/lib/python3.10/dist-packages (from matplotlib>=3.3.0->ultralytics) (2.8.2)\n",
            "Requirement already satisfied: pytz>=2020.1 in /usr/local/lib/python3.10/dist-packages (from pandas>=1.1.4->ultralytics) (2024.2)\n",
            "Requirement already satisfied: tzdata>=2022.1 in /usr/local/lib/python3.10/dist-packages (from pandas>=1.1.4->ultralytics) (2024.1)\n",
            "Requirement already satisfied: charset-normalizer<4,>=2 in /usr/local/lib/python3.10/dist-packages (from requests>=2.23.0->ultralytics) (3.3.2)\n",
            "Requirement already satisfied: idna<4,>=2.5 in /usr/local/lib/python3.10/dist-packages (from requests>=2.23.0->ultralytics) (3.10)\n",
            "Requirement already satisfied: urllib3<3,>=1.21.1 in /usr/local/lib/python3.10/dist-packages (from requests>=2.23.0->ultralytics) (2.0.7)\n",
            "Requirement already satisfied: certifi>=2017.4.17 in /usr/local/lib/python3.10/dist-packages (from requests>=2.23.0->ultralytics) (2024.8.30)\n",
            "Requirement already satisfied: filelock in /usr/local/lib/python3.10/dist-packages (from torch>=1.8.0->ultralytics) (3.16.0)\n",
            "Requirement already satisfied: typing-extensions>=4.8.0 in /usr/local/lib/python3.10/dist-packages (from torch>=1.8.0->ultralytics) (4.12.2)\n",
            "Requirement already satisfied: sympy in /usr/local/lib/python3.10/dist-packages (from torch>=1.8.0->ultralytics) (1.13.2)\n",
            "Requirement already satisfied: networkx in /usr/local/lib/python3.10/dist-packages (from torch>=1.8.0->ultralytics) (3.3)\n",
            "Requirement already satisfied: jinja2 in /usr/local/lib/python3.10/dist-packages (from torch>=1.8.0->ultralytics) (3.1.4)\n",
            "Requirement already satisfied: fsspec in /usr/local/lib/python3.10/dist-packages (from torch>=1.8.0->ultralytics) (2024.6.1)\n",
            "Requirement already satisfied: six>=1.5 in /usr/local/lib/python3.10/dist-packages (from python-dateutil>=2.7->matplotlib>=3.3.0->ultralytics) (1.16.0)\n",
            "Requirement already satisfied: MarkupSafe>=2.0 in /usr/local/lib/python3.10/dist-packages (from jinja2->torch>=1.8.0->ultralytics) (2.1.5)\n",
            "Requirement already satisfied: mpmath<1.4,>=1.1.0 in /usr/local/lib/python3.10/dist-packages (from sympy->torch>=1.8.0->ultralytics) (1.3.0)\n",
            "Downloading ultralytics-8.2.98-py3-none-any.whl (873 kB)\n",
            "\u001b[2K   \u001b[90m━━━━━━━━━━━━━━━━━━━━━━━━━━━━━━━━━━━━━━━━\u001b[0m \u001b[32m873.6/873.6 kB\u001b[0m \u001b[31m15.5 MB/s\u001b[0m eta \u001b[36m0:00:00\u001b[0m\n",
            "\u001b[?25hDownloading ultralytics_thop-2.0.6-py3-none-any.whl (26 kB)\n",
            "Installing collected packages: ultralytics-thop, ultralytics\n",
            "Successfully installed ultralytics-8.2.98 ultralytics-thop-2.0.6\n"
          ]
        }
      ],
      "source": [
        "!pip install ultralytics"
      ]
    },
    {
      "cell_type": "markdown",
      "metadata": {
        "id": "dF-FeFKVtc0j"
      },
      "source": [
        "## Imports"
      ]
    },
    {
      "cell_type": "code",
      "execution_count": null,
      "metadata": {
        "id": "LA6879REh_Yu"
      },
      "outputs": [],
      "source": [
        "import firebase_admin\n"
      ]
    },
    {
      "cell_type": "code",
      "source": [
        "from PIL import Image"
      ],
      "metadata": {
        "id": "61UufPts33B0"
      },
      "execution_count": null,
      "outputs": []
    },
    {
      "cell_type": "code",
      "execution_count": null,
      "metadata": {
        "id": "TxfkdTzEiEie"
      },
      "outputs": [],
      "source": [
        "from firebase_admin import credentials,storage\n"
      ]
    },
    {
      "cell_type": "code",
      "execution_count": null,
      "metadata": {
        "id": "Z1wqn3xWiGgv"
      },
      "outputs": [],
      "source": [
        "from firebase_admin import firestore"
      ]
    },
    {
      "cell_type": "code",
      "execution_count": null,
      "metadata": {
        "id": "vWoaQzKEn7He"
      },
      "outputs": [],
      "source": [
        "from ultralytics import YOLO"
      ]
    },
    {
      "cell_type": "code",
      "execution_count": null,
      "metadata": {
        "id": "2vAitzxpoa7a"
      },
      "outputs": [],
      "source": [
        "from datetime import date,datetime"
      ]
    },
    {
      "cell_type": "code",
      "execution_count": null,
      "metadata": {
        "id": "QXBrUhRTn7Hg"
      },
      "outputs": [],
      "source": [
        "import os"
      ]
    },
    {
      "cell_type": "code",
      "execution_count": null,
      "metadata": {
        "id": "3H26Ktufn7Hh"
      },
      "outputs": [],
      "source": [
        "import numpy as np"
      ]
    },
    {
      "cell_type": "code",
      "execution_count": null,
      "metadata": {
        "id": "YX-4QEzwn7Hi"
      },
      "outputs": [],
      "source": [
        "from matplotlib import pyplot as plt"
      ]
    },
    {
      "cell_type": "code",
      "execution_count": null,
      "metadata": {
        "id": "VPtnbmKmpo6w"
      },
      "outputs": [],
      "source": [
        "import random"
      ]
    },
    {
      "cell_type": "code",
      "execution_count": null,
      "metadata": {
        "id": "3zftmIrTuI99"
      },
      "outputs": [],
      "source": [
        "import yaml"
      ]
    },
    {
      "cell_type": "code",
      "source": [
        "import csv"
      ],
      "metadata": {
        "id": "Ao5cEidSgm4D"
      },
      "execution_count": null,
      "outputs": []
    },
    {
      "cell_type": "code",
      "source": [
        "import json"
      ],
      "metadata": {
        "id": "W9ZafQyMgoug"
      },
      "execution_count": null,
      "outputs": []
    },
    {
      "cell_type": "markdown",
      "metadata": {
        "id": "VLe9eLGetyX_"
      },
      "source": [
        "## Config"
      ]
    },
    {
      "cell_type": "code",
      "execution_count": null,
      "metadata": {
        "id": "c_qNgMdot0QK"
      },
      "outputs": [],
      "source": [
        "epochs=50\n",
        "imageSize=640\n",
        "optimizer='Adam'\n",
        "dropout=0.5"
      ]
    },
    {
      "cell_type": "markdown",
      "metadata": {
        "id": "xPNvfYoiKmz8"
      },
      "source": [
        "### Dirctory"
      ]
    },
    {
      "cell_type": "code",
      "execution_count": null,
      "metadata": {
        "id": "hrtvf7FqKZzj"
      },
      "outputs": [],
      "source": [
        "work_dirctory=\"/content/drive/MyDrive/AyushVision/yolo/training\"\n",
        "work_dirctory_root=\"/content/drive/MyDrive/AyushVision/yolo\"\n",
        "firebase_key=\"/content/drive/MyDrive/ServiceKey.json\""
      ]
    },
    {
      "cell_type": "code",
      "execution_count": null,
      "metadata": {
        "id": "NWkZ6kdWl9Tc"
      },
      "outputs": [],
      "source": [
        "today_work_dirctory=f\"{work_dirctory}/{date.today().strftime('%d_%m_%Y')}/{datetime.now().strftime('%H%M%S')}\"\n",
        "# today_work_dirctory=\"/content/drive/MyDrive/AyushVision/yolo/training/16_09_2024/192332\""
      ]
    },
    {
      "cell_type": "code",
      "execution_count": null,
      "metadata": {
        "id": "VCixGiXvmBWf"
      },
      "outputs": [],
      "source": [
        "if not os.path.exists(work_dirctory):\n",
        "  os.makedirs(work_dirctory,exist_ok=True)\n",
        "if not os.path.exists(today_work_dirctory):\n",
        "  os.makedirs(today_work_dirctory,exist_ok=True)"
      ]
    },
    {
      "cell_type": "code",
      "execution_count": null,
      "metadata": {
        "id": "iAbj-AXXmEo7"
      },
      "outputs": [],
      "source": [
        "data=\"/content/drive/MyDrive/AyushVision/yolo/final/data.yaml\""
      ]
    },
    {
      "cell_type": "code",
      "execution_count": null,
      "metadata": {
        "id": "J77aImwXtlPV"
      },
      "outputs": [],
      "source": [
        "project=f\"{today_work_dirctory}/plants/runs\"\n",
        "name=f'train{epochs}'"
      ]
    },
    {
      "cell_type": "markdown",
      "metadata": {
        "id": "XV9QP9llluYJ"
      },
      "source": [
        "## Firebase"
      ]
    },
    {
      "cell_type": "code",
      "execution_count": null,
      "metadata": {
        "id": "RpsSJqZBiPpe"
      },
      "outputs": [],
      "source": [
        "\n",
        "if firebase_count==1:\n",
        "  cred = credentials.Certificate(firebase_key)\n",
        "  firebase_admin.initialize_app(cred,{\n",
        "    'storageBucket': 'ayush-vision-asw4gh.appspot.com'\n",
        "  })\n",
        "firebase_count=firebase_count+1"
      ]
    },
    {
      "cell_type": "code",
      "execution_count": null,
      "metadata": {
        "id": "UlsbRiTTj259"
      },
      "outputs": [],
      "source": [
        "db = firestore.client()"
      ]
    },
    {
      "cell_type": "code",
      "execution_count": null,
      "metadata": {
        "id": "1MqZJtEzv4eF"
      },
      "outputs": [],
      "source": [
        "bucket = storage.bucket()"
      ]
    },
    {
      "cell_type": "code",
      "execution_count": null,
      "metadata": {
        "id": "FjHEnE_7qSNN"
      },
      "outputs": [],
      "source": [
        "yolo_ref = db.collection(\"training1\").document('yolo')\n",
        "doc = yolo_ref.get()"
      ]
    },
    {
      "cell_type": "code",
      "execution_count": null,
      "metadata": {
        "id": "mivbo7JFl00U"
      },
      "outputs": [],
      "source": [
        "if not doc.exists:\n",
        "  doc_ref= db.collection(\"training1\").document('yolo')\n",
        "  doc_ref.set({'algorithum':'yolo','version':'V8','mode':'detection','url':'ultralytics'})\n",
        "else:\n",
        "  doc_ref= yolo_ref"
      ]
    },
    {
      "cell_type": "markdown",
      "metadata": {
        "id": "LtFuKd42KznG"
      },
      "source": [
        "### Roboflow"
      ]
    },
    {
      "cell_type": "markdown",
      "metadata": {
        "id": "AapMM59Xn7Hj"
      },
      "source": [
        "## Model"
      ]
    },
    {
      "cell_type": "code",
      "source": [
        "document_id=f'{datetime.now().strftime(f\"%Y%m%d%%S\")}_{epochs}'\n",
        "# document_id=\"20240916%S_50\""
      ],
      "metadata": {
        "id": "0zKnjUWKotRg"
      },
      "execution_count": null,
      "outputs": []
    },
    {
      "cell_type": "code",
      "source": [
        "storageLocation=f'training/yolo/plants/{document_id}'"
      ],
      "metadata": {
        "id": "X0vdMJ2Eo9AS"
      },
      "execution_count": null,
      "outputs": []
    },
    {
      "cell_type": "code",
      "execution_count": null,
      "metadata": {
        "id": "Mwg3H-G3orDr"
      },
      "outputs": [],
      "source": [
        "today_ref=doc_ref.collection(\"Plants\").document(document_id)"
      ]
    },
    {
      "cell_type": "code",
      "execution_count": null,
      "metadata": {
        "id": "7UvmNAyIreO8"
      },
      "outputs": [],
      "source": [
        "basicdata['imageSize']=imageSize\n",
        "basicdata['project']=project\n",
        "basicdata['name']=name\n",
        "basicdata['training_date']=datetime.now().strftime(\"%Y/%m/%d %H:%M:%S\")\n",
        "basicdata['filename']='YOLO_Plants'"
      ]
    },
    {
      "cell_type": "code",
      "execution_count": null,
      "metadata": {
        "id": "-YZRg5JWuAEM"
      },
      "outputs": [],
      "source": [
        "with open(data, 'r') as file:\n",
        "    yaml_content = yaml.safe_load(file)"
      ]
    },
    {
      "cell_type": "code",
      "execution_count": null,
      "metadata": {
        "id": "PY06W962uaMn"
      },
      "outputs": [],
      "source": [
        "basicdata['names']=yaml_content['names']"
      ]
    },
    {
      "cell_type": "code",
      "execution_count": null,
      "metadata": {
        "colab": {
          "base_uri": "https://localhost:8080/"
        },
        "id": "UafSx86dkAcs",
        "outputId": "7a324023-1036-4ee6-d5e9-f9e4ec53ba5b"
      },
      "outputs": [
        {
          "output_type": "execute_result",
          "data": {
            "text/plain": [
              "update_time {\n",
              "  seconds: 1726825810\n",
              "  nanos: 844901000\n",
              "}"
            ]
          },
          "metadata": {},
          "execution_count": 38
        }
      ],
      "source": [
        "today_ref.set(basicdata)"
      ]
    },
    {
      "cell_type": "code",
      "execution_count": null,
      "metadata": {
        "colab": {
          "base_uri": "https://localhost:8080/"
        },
        "id": "uTFQPVebn7Hk",
        "outputId": "272e89c8-11e4-48dd-a959-236160c76ae3"
      },
      "outputs": [
        {
          "output_type": "stream",
          "name": "stdout",
          "text": [
            "Downloading https://github.com/ultralytics/assets/releases/download/v8.2.0/yolov8n.pt to 'yolov8n.pt'...\n"
          ]
        },
        {
          "output_type": "stream",
          "name": "stderr",
          "text": [
            "100%|██████████| 6.25M/6.25M [00:00<00:00, 24.7MB/s]\n"
          ]
        }
      ],
      "source": [
        "yolo_model = YOLO('yolov8n.pt')"
      ]
    },
    {
      "cell_type": "markdown",
      "metadata": {
        "id": "8EMUXQQAn7Hm"
      },
      "source": [
        "#### Training"
      ]
    },
    {
      "cell_type": "code",
      "execution_count": null,
      "metadata": {
        "colab": {
          "base_uri": "https://localhost:8080/"
        },
        "id": "cyofPiscn7Hn",
        "outputId": "0dde81de-c430-4907-d198-98c6596a2546"
      },
      "outputs": [
        {
          "metadata": {
            "tags": null
          },
          "name": "stdout",
          "output_type": "stream",
          "text": [
            "Ultralytics YOLOv8.2.98 🚀 Python-3.10.12 torch-2.4.1+cu121 CUDA:0 (Tesla T4, 15102MiB)\n",
            "\u001b[34m\u001b[1mengine/trainer: \u001b[0mtask=detect, mode=train, model=yolov8n.pt, data=/content/drive/MyDrive/AyushVision/yolo/final/data.yaml, epochs=50, time=None, patience=100, batch=16, imgsz=640, save=True, save_period=-1, cache=False, device=None, workers=8, project=/content/drive/MyDrive/AyushVision/yolo/training/20_09_2024/094919/plants/runs, name=train50, exist_ok=False, pretrained=True, optimizer=Adam, verbose=True, seed=0, deterministic=True, single_cls=False, rect=False, cos_lr=True, close_mosaic=10, resume=False, amp=True, fraction=1.0, profile=False, freeze=None, multi_scale=False, overlap_mask=True, mask_ratio=4, dropout=0.5, val=True, split=val, save_json=False, save_hybrid=False, conf=None, iou=0.7, max_det=300, half=False, dnn=False, plots=True, source=None, vid_stride=1, stream_buffer=False, visualize=False, augment=False, agnostic_nms=False, classes=None, retina_masks=False, embed=None, show=False, save_frames=False, save_txt=False, save_conf=False, save_crop=False, show_labels=True, show_conf=True, show_boxes=True, line_width=None, format=torchscript, keras=False, optimize=False, int8=False, dynamic=False, simplify=False, opset=None, workspace=4, nms=False, lr0=0.01, lrf=0.01, momentum=0.937, weight_decay=0.0005, warmup_epochs=3.0, warmup_momentum=0.8, warmup_bias_lr=0.1, box=7.5, cls=0.5, dfl=1.5, pose=12.0, kobj=1.0, label_smoothing=0.0, nbs=64, hsv_h=0.015, hsv_s=0.7, hsv_v=0.4, degrees=0.0, translate=0.1, scale=0.5, shear=0.0, perspective=0.0, flipud=0.0, fliplr=0.5, bgr=0.0, mosaic=1.0, mixup=0.0, copy_paste=0.0, auto_augment=randaugment, erasing=0.4, crop_fraction=1.0, cfg=None, tracker=botsort.yaml, save_dir=/content/drive/MyDrive/AyushVision/yolo/training/20_09_2024/094919/plants/runs/train50\n",
            "Downloading https://ultralytics.com/assets/Arial.ttf to '/root/.config/Ultralytics/Arial.ttf'...\n"
          ]
        },
        {
          "metadata": {
            "tags": null
          },
          "name": "stderr",
          "output_type": "stream",
          "text": [
            "100%|██████████| 755k/755k [00:00<00:00, 4.59MB/s]\n"
          ]
        },
        {
          "metadata": {
            "tags": null
          },
          "name": "stdout",
          "output_type": "stream",
          "text": [
            "Overriding model.yaml nc=80 with nc=32\n",
            "\n",
            "                   from  n    params  module                                       arguments                     \n",
            "  0                  -1  1       464  ultralytics.nn.modules.conv.Conv             [3, 16, 3, 2]                 \n",
            "  1                  -1  1      4672  ultralytics.nn.modules.conv.Conv             [16, 32, 3, 2]                \n",
            "  2                  -1  1      7360  ultralytics.nn.modules.block.C2f             [32, 32, 1, True]             \n",
            "  3                  -1  1     18560  ultralytics.nn.modules.conv.Conv             [32, 64, 3, 2]                \n",
            "  4                  -1  2     49664  ultralytics.nn.modules.block.C2f             [64, 64, 2, True]             \n",
            "  5                  -1  1     73984  ultralytics.nn.modules.conv.Conv             [64, 128, 3, 2]               \n",
            "  6                  -1  2    197632  ultralytics.nn.modules.block.C2f             [128, 128, 2, True]           \n",
            "  7                  -1  1    295424  ultralytics.nn.modules.conv.Conv             [128, 256, 3, 2]              \n",
            "  8                  -1  1    460288  ultralytics.nn.modules.block.C2f             [256, 256, 1, True]           \n",
            "  9                  -1  1    164608  ultralytics.nn.modules.block.SPPF            [256, 256, 5]                 \n",
            " 10                  -1  1         0  torch.nn.modules.upsampling.Upsample         [None, 2, 'nearest']          \n",
            " 11             [-1, 6]  1         0  ultralytics.nn.modules.conv.Concat           [1]                           \n",
            " 12                  -1  1    148224  ultralytics.nn.modules.block.C2f             [384, 128, 1]                 \n",
            " 13                  -1  1         0  torch.nn.modules.upsampling.Upsample         [None, 2, 'nearest']          \n",
            " 14             [-1, 4]  1         0  ultralytics.nn.modules.conv.Concat           [1]                           \n",
            " 15                  -1  1     37248  ultralytics.nn.modules.block.C2f             [192, 64, 1]                  \n",
            " 16                  -1  1     36992  ultralytics.nn.modules.conv.Conv             [64, 64, 3, 2]                \n",
            " 17            [-1, 12]  1         0  ultralytics.nn.modules.conv.Concat           [1]                           \n",
            " 18                  -1  1    123648  ultralytics.nn.modules.block.C2f             [192, 128, 1]                 \n",
            " 19                  -1  1    147712  ultralytics.nn.modules.conv.Conv             [128, 128, 3, 2]              \n",
            " 20             [-1, 9]  1         0  ultralytics.nn.modules.conv.Concat           [1]                           \n",
            " 21                  -1  1    493056  ultralytics.nn.modules.block.C2f             [384, 256, 1]                 \n",
            " 22        [15, 18, 21]  1    757552  ultralytics.nn.modules.head.Detect           [32, [64, 128, 256]]          \n",
            "Model summary: 225 layers, 3,017,088 parameters, 3,017,072 gradients, 8.2 GFLOPs\n",
            "\n",
            "Transferred 319/355 items from pretrained weights\n",
            "\u001b[34m\u001b[1mTensorBoard: \u001b[0mStart with 'tensorboard --logdir /content/drive/MyDrive/AyushVision/yolo/training/20_09_2024/094919/plants/runs/train50', view at http://localhost:6006/\n",
            "Freezing layer 'model.22.dfl.conv.weight'\n",
            "\u001b[34m\u001b[1mAMP: \u001b[0mrunning Automatic Mixed Precision (AMP) checks with YOLOv8n...\n",
            "\u001b[34m\u001b[1mAMP: \u001b[0mchecks passed ✅\n"
          ]
        },
        {
          "metadata": {
            "tags": null
          },
          "name": "stderr",
          "output_type": "stream",
          "text": [
            "\u001b[34m\u001b[1mtrain: \u001b[0mScanning /content/drive/MyDrive/AyushVision/yolo/final/train/labels.cache... 13459 images, 3 backgrounds, 0 corrupt: 100%|██████████| 13459/13459 [00:00<?, ?it/s]"
          ]
        },
        {
          "metadata": {
            "tags": null
          },
          "name": "stdout",
          "output_type": "stream",
          "text": [
            "WARNING ⚠️ Box and segment counts should be equal, but got len(segments) = 3, len(boxes) = 17609. To resolve this only boxes will be used and all segments will be removed. To avoid this please supply either a detect or segment dataset, not a detect-segment mixed dataset.\n"
          ]
        },
        {
          "metadata": {
            "tags": null
          },
          "name": "stderr",
          "output_type": "stream",
          "text": [
            "\n"
          ]
        },
        {
          "metadata": {
            "tags": null
          },
          "name": "stdout",
          "output_type": "stream",
          "text": [
            "\u001b[34m\u001b[1malbumentations: \u001b[0mBlur(p=0.01, blur_limit=(3, 7)), MedianBlur(p=0.01, blur_limit=(3, 7)), ToGray(p=0.01, num_output_channels=3, method='weighted_average'), CLAHE(p=0.01, clip_limit=(1, 4.0), tile_grid_size=(8, 8))\n"
          ]
        },
        {
          "metadata": {
            "tags": null
          },
          "name": "stderr",
          "output_type": "stream",
          "text": [
            "/usr/lib/python3.10/multiprocessing/popen_fork.py:66: RuntimeWarning: os.fork() was called. os.fork() is incompatible with multithreaded code, and JAX is multithreaded, so this will likely lead to a deadlock.\n",
            "  self.pid = os.fork()\n",
            "\u001b[34m\u001b[1mval: \u001b[0mScanning /content/drive/MyDrive/AyushVision/yolo/final/valid/labels.cache... 3840 images, 0 backgrounds, 0 corrupt: 100%|██████████| 3840/3840 [00:00<?, ?it/s]\n"
          ]
        },
        {
          "metadata": {
            "tags": null
          },
          "name": "stdout",
          "output_type": "stream",
          "text": [
            "WARNING ⚠️ Box and segment counts should be equal, but got len(segments) = 4, len(boxes) = 5055. To resolve this only boxes will be used and all segments will be removed. To avoid this please supply either a detect or segment dataset, not a detect-segment mixed dataset.\n",
            "Plotting labels to /content/drive/MyDrive/AyushVision/yolo/training/20_09_2024/094919/plants/runs/train50/labels.jpg... \n",
            "\u001b[34m\u001b[1moptimizer:\u001b[0m Adam(lr=0.01, momentum=0.937) with parameter groups 57 weight(decay=0.0), 64 weight(decay=0.0005), 63 bias(decay=0.0)\n",
            "\u001b[34m\u001b[1mTensorBoard: \u001b[0mmodel graph visualization added ✅\n",
            "Image sizes 640 train, 640 val\n",
            "Using 8 dataloader workers\n",
            "Logging results to \u001b[1m/content/drive/MyDrive/AyushVision/yolo/training/20_09_2024/094919/plants/runs/train50\u001b[0m\n",
            "Starting training for 50 epochs...\n",
            "\n",
            "      Epoch    GPU_mem   box_loss   cls_loss   dfl_loss  Instances       Size\n"
          ]
        },
        {
          "metadata": {
            "tags": null
          },
          "name": "stderr",
          "output_type": "stream",
          "text": [
            "       1/50      2.25G       1.06      2.997      1.621         17        640: 100%|██████████| 842/842 [20:39<00:00,  1.47s/it]\n",
            "                 Class     Images  Instances      Box(P          R      mAP50  mAP50-95): 100%|██████████| 120/120 [00:26<00:00,  4.57it/s]\n"
          ]
        },
        {
          "metadata": {
            "tags": null
          },
          "name": "stdout",
          "output_type": "stream",
          "text": [
            "                   all       3840       5055      0.263      0.236     0.0479     0.0313\n",
            "\n",
            "      Epoch    GPU_mem   box_loss   cls_loss   dfl_loss  Instances       Size\n"
          ]
        },
        {
          "metadata": {
            "tags": null
          },
          "name": "stderr",
          "output_type": "stream",
          "text": [
            "       2/50      2.27G      1.027      2.605      1.596         10        640: 100%|██████████| 842/842 [02:17<00:00,  6.14it/s]\n",
            "                 Class     Images  Instances      Box(P          R      mAP50  mAP50-95): 100%|██████████| 120/120 [00:25<00:00,  4.75it/s]\n"
          ]
        },
        {
          "metadata": {
            "tags": null
          },
          "name": "stdout",
          "output_type": "stream",
          "text": [
            "                   all       3840       5055      0.263      0.324      0.181      0.125\n",
            "\n",
            "      Epoch    GPU_mem   box_loss   cls_loss   dfl_loss  Instances       Size\n"
          ]
        },
        {
          "metadata": {
            "tags": null
          },
          "name": "stderr",
          "output_type": "stream",
          "text": [
            "       3/50      2.31G     0.9938      2.451      1.569         12        640: 100%|██████████| 842/842 [02:15<00:00,  6.23it/s]\n",
            "                 Class     Images  Instances      Box(P          R      mAP50  mAP50-95): 100%|██████████| 120/120 [00:24<00:00,  4.86it/s]\n"
          ]
        },
        {
          "metadata": {
            "tags": null
          },
          "name": "stdout",
          "output_type": "stream",
          "text": [
            "                   all       3840       5055      0.037      0.632      0.125     0.0701\n",
            "\n",
            "      Epoch    GPU_mem   box_loss   cls_loss   dfl_loss  Instances       Size\n"
          ]
        },
        {
          "metadata": {
            "tags": null
          },
          "name": "stderr",
          "output_type": "stream",
          "text": [
            "       4/50      2.25G     0.9644      2.322      1.548         10        640: 100%|██████████| 842/842 [02:14<00:00,  6.27it/s]\n",
            "                 Class     Images  Instances      Box(P          R      mAP50  mAP50-95): 100%|██████████| 120/120 [00:25<00:00,  4.72it/s]\n"
          ]
        },
        {
          "metadata": {
            "tags": null
          },
          "name": "stdout",
          "output_type": "stream",
          "text": [
            "                   all       3840       5055      0.282      0.234      0.206      0.137\n",
            "\n",
            "      Epoch    GPU_mem   box_loss   cls_loss   dfl_loss  Instances       Size\n"
          ]
        },
        {
          "metadata": {
            "tags": null
          },
          "name": "stderr",
          "output_type": "stream",
          "text": [
            "       5/50      2.23G     0.9492      2.229      1.535          9        640: 100%|██████████| 842/842 [02:14<00:00,  6.28it/s]\n",
            "                 Class     Images  Instances      Box(P          R      mAP50  mAP50-95): 100%|██████████| 120/120 [00:25<00:00,  4.73it/s]\n"
          ]
        },
        {
          "metadata": {
            "tags": null
          },
          "name": "stdout",
          "output_type": "stream",
          "text": [
            "                   all       3840       5055      0.316      0.372      0.303       0.21\n",
            "\n",
            "      Epoch    GPU_mem   box_loss   cls_loss   dfl_loss  Instances       Size\n"
          ]
        },
        {
          "metadata": {
            "tags": null
          },
          "name": "stderr",
          "output_type": "stream",
          "text": [
            "       6/50      2.23G     0.9311      2.128      1.524          8        640: 100%|██████████| 842/842 [02:14<00:00,  6.28it/s]\n",
            "                 Class     Images  Instances      Box(P          R      mAP50  mAP50-95): 100%|██████████| 120/120 [00:25<00:00,  4.65it/s]\n"
          ]
        },
        {
          "metadata": {
            "tags": null
          },
          "name": "stdout",
          "output_type": "stream",
          "text": [
            "                   all       3840       5055      0.315      0.355      0.284      0.195\n",
            "\n",
            "      Epoch    GPU_mem   box_loss   cls_loss   dfl_loss  Instances       Size\n"
          ]
        },
        {
          "metadata": {
            "tags": null
          },
          "name": "stderr",
          "output_type": "stream",
          "text": [
            "       7/50      2.24G     0.9159      2.065       1.51         15        640: 100%|██████████| 842/842 [02:14<00:00,  6.28it/s]\n",
            "                 Class     Images  Instances      Box(P          R      mAP50  mAP50-95): 100%|██████████| 120/120 [00:25<00:00,  4.72it/s]\n"
          ]
        },
        {
          "metadata": {
            "tags": null
          },
          "name": "stdout",
          "output_type": "stream",
          "text": [
            "                   all       3840       5055      0.411       0.42      0.375      0.258\n",
            "\n",
            "      Epoch    GPU_mem   box_loss   cls_loss   dfl_loss  Instances       Size\n"
          ]
        },
        {
          "metadata": {
            "tags": null
          },
          "name": "stderr",
          "output_type": "stream",
          "text": [
            "       8/50      2.23G     0.9183      2.015       1.51          7        640: 100%|██████████| 842/842 [02:14<00:00,  6.26it/s]\n",
            "                 Class     Images  Instances      Box(P          R      mAP50  mAP50-95): 100%|██████████| 120/120 [00:25<00:00,  4.76it/s]\n"
          ]
        },
        {
          "metadata": {
            "tags": null
          },
          "name": "stdout",
          "output_type": "stream",
          "text": [
            "                   all       3840       5055      0.441      0.423      0.412      0.281\n",
            "\n",
            "      Epoch    GPU_mem   box_loss   cls_loss   dfl_loss  Instances       Size\n"
          ]
        },
        {
          "metadata": {
            "tags": null
          },
          "name": "stderr",
          "output_type": "stream",
          "text": [
            "       9/50      2.23G     0.9072      1.952      1.502         12        640: 100%|██████████| 842/842 [02:14<00:00,  6.27it/s]\n",
            "                 Class     Images  Instances      Box(P          R      mAP50  mAP50-95): 100%|██████████| 120/120 [00:25<00:00,  4.74it/s]\n"
          ]
        },
        {
          "metadata": {
            "tags": null
          },
          "name": "stdout",
          "output_type": "stream",
          "text": [
            "                   all       3840       5055      0.424      0.432       0.38      0.271\n",
            "\n",
            "      Epoch    GPU_mem   box_loss   cls_loss   dfl_loss  Instances       Size\n"
          ]
        },
        {
          "metadata": {
            "tags": null
          },
          "name": "stderr",
          "output_type": "stream",
          "text": [
            "      10/50      2.22G     0.9096      1.922      1.507         14        640: 100%|██████████| 842/842 [02:14<00:00,  6.27it/s]\n",
            "                 Class     Images  Instances      Box(P          R      mAP50  mAP50-95): 100%|██████████| 120/120 [00:25<00:00,  4.75it/s]\n"
          ]
        },
        {
          "metadata": {
            "tags": null
          },
          "name": "stdout",
          "output_type": "stream",
          "text": [
            "                   all       3840       5055      0.459      0.434      0.413      0.293\n",
            "\n",
            "      Epoch    GPU_mem   box_loss   cls_loss   dfl_loss  Instances       Size\n"
          ]
        },
        {
          "metadata": {
            "tags": null
          },
          "name": "stderr",
          "output_type": "stream",
          "text": [
            "      11/50      2.23G     0.9015      1.876      1.498          9        640: 100%|██████████| 842/842 [02:14<00:00,  6.28it/s]\n",
            "                 Class     Images  Instances      Box(P          R      mAP50  mAP50-95): 100%|██████████| 120/120 [00:24<00:00,  4.80it/s]\n"
          ]
        },
        {
          "metadata": {
            "tags": null
          },
          "name": "stdout",
          "output_type": "stream",
          "text": [
            "                   all       3840       5055      0.475      0.473       0.46      0.325\n",
            "\n",
            "      Epoch    GPU_mem   box_loss   cls_loss   dfl_loss  Instances       Size\n"
          ]
        },
        {
          "metadata": {
            "tags": null
          },
          "name": "stderr",
          "output_type": "stream",
          "text": [
            "      12/50      2.26G     0.8945       1.84      1.494          7        640: 100%|██████████| 842/842 [02:14<00:00,  6.28it/s]\n",
            "                 Class     Images  Instances      Box(P          R      mAP50  mAP50-95): 100%|██████████| 120/120 [00:25<00:00,  4.70it/s]\n"
          ]
        },
        {
          "metadata": {
            "tags": null
          },
          "name": "stdout",
          "output_type": "stream",
          "text": [
            "                   all       3840       5055      0.492      0.473      0.471      0.319\n",
            "\n",
            "      Epoch    GPU_mem   box_loss   cls_loss   dfl_loss  Instances       Size\n"
          ]
        },
        {
          "metadata": {
            "tags": null
          },
          "name": "stderr",
          "output_type": "stream",
          "text": [
            "      13/50       2.3G     0.8878      1.783      1.488         11        640: 100%|██████████| 842/842 [02:13<00:00,  6.30it/s]\n",
            "                 Class     Images  Instances      Box(P          R      mAP50  mAP50-95): 100%|██████████| 120/120 [00:24<00:00,  4.86it/s]\n"
          ]
        },
        {
          "metadata": {
            "tags": null
          },
          "name": "stdout",
          "output_type": "stream",
          "text": [
            "                   all       3840       5055      0.532      0.466      0.477      0.329\n",
            "\n",
            "      Epoch    GPU_mem   box_loss   cls_loss   dfl_loss  Instances       Size\n"
          ]
        },
        {
          "metadata": {
            "tags": null
          },
          "name": "stderr",
          "output_type": "stream",
          "text": [
            "      14/50      2.26G     0.8768      1.769      1.478          6        640: 100%|██████████| 842/842 [02:14<00:00,  6.27it/s]\n",
            "                 Class     Images  Instances      Box(P          R      mAP50  mAP50-95): 100%|██████████| 120/120 [00:25<00:00,  4.75it/s]\n"
          ]
        },
        {
          "metadata": {
            "tags": null
          },
          "name": "stdout",
          "output_type": "stream",
          "text": [
            "                   all       3840       5055      0.525      0.492      0.515      0.353\n",
            "\n",
            "      Epoch    GPU_mem   box_loss   cls_loss   dfl_loss  Instances       Size\n"
          ]
        },
        {
          "metadata": {
            "tags": null
          },
          "name": "stderr",
          "output_type": "stream",
          "text": [
            "      15/50      2.29G     0.8746      1.729      1.476          5        640: 100%|██████████| 842/842 [02:13<00:00,  6.30it/s]\n",
            "                 Class     Images  Instances      Box(P          R      mAP50  mAP50-95): 100%|██████████| 120/120 [00:24<00:00,  4.84it/s]\n"
          ]
        },
        {
          "metadata": {
            "tags": null
          },
          "name": "stdout",
          "output_type": "stream",
          "text": [
            "                   all       3840       5055      0.606      0.521       0.56       0.39\n",
            "\n",
            "      Epoch    GPU_mem   box_loss   cls_loss   dfl_loss  Instances       Size\n"
          ]
        },
        {
          "metadata": {
            "tags": null
          },
          "name": "stderr",
          "output_type": "stream",
          "text": [
            "      16/50      2.23G     0.8733      1.692      1.478          8        640: 100%|██████████| 842/842 [02:14<00:00,  6.28it/s]\n",
            "                 Class     Images  Instances      Box(P          R      mAP50  mAP50-95): 100%|██████████| 120/120 [00:25<00:00,  4.77it/s]\n"
          ]
        },
        {
          "metadata": {
            "tags": null
          },
          "name": "stdout",
          "output_type": "stream",
          "text": [
            "                   all       3840       5055      0.629      0.526      0.574      0.401\n",
            "\n",
            "      Epoch    GPU_mem   box_loss   cls_loss   dfl_loss  Instances       Size\n"
          ]
        },
        {
          "metadata": {
            "tags": null
          },
          "name": "stderr",
          "output_type": "stream",
          "text": [
            "      17/50      2.29G     0.8707      1.656      1.473         15        640: 100%|██████████| 842/842 [02:14<00:00,  6.27it/s]\n",
            "                 Class     Images  Instances      Box(P          R      mAP50  mAP50-95): 100%|██████████| 120/120 [00:25<00:00,  4.66it/s]\n"
          ]
        },
        {
          "metadata": {
            "tags": null
          },
          "name": "stdout",
          "output_type": "stream",
          "text": [
            "                   all       3840       5055      0.642      0.574      0.603      0.417\n",
            "\n",
            "      Epoch    GPU_mem   box_loss   cls_loss   dfl_loss  Instances       Size\n"
          ]
        },
        {
          "metadata": {
            "tags": null
          },
          "name": "stderr",
          "output_type": "stream",
          "text": [
            "      18/50      2.22G     0.8658      1.635      1.471          8        640: 100%|██████████| 842/842 [02:15<00:00,  6.21it/s]\n",
            "                 Class     Images  Instances      Box(P          R      mAP50  mAP50-95): 100%|██████████| 120/120 [00:25<00:00,  4.65it/s]\n"
          ]
        },
        {
          "metadata": {
            "tags": null
          },
          "name": "stdout",
          "output_type": "stream",
          "text": [
            "                   all       3840       5055      0.655      0.558      0.604       0.42\n",
            "\n",
            "      Epoch    GPU_mem   box_loss   cls_loss   dfl_loss  Instances       Size\n"
          ]
        },
        {
          "metadata": {
            "tags": null
          },
          "name": "stderr",
          "output_type": "stream",
          "text": [
            "      19/50      2.29G      0.868      1.612      1.473          7        640: 100%|██████████| 842/842 [02:14<00:00,  6.25it/s]\n",
            "                 Class     Images  Instances      Box(P          R      mAP50  mAP50-95): 100%|██████████| 120/120 [00:25<00:00,  4.64it/s]\n"
          ]
        },
        {
          "metadata": {
            "tags": null
          },
          "name": "stdout",
          "output_type": "stream",
          "text": [
            "                   all       3840       5055      0.681      0.584      0.631      0.437\n",
            "\n",
            "      Epoch    GPU_mem   box_loss   cls_loss   dfl_loss  Instances       Size\n"
          ]
        },
        {
          "metadata": {
            "tags": null
          },
          "name": "stderr",
          "output_type": "stream",
          "text": [
            "      20/50      2.22G     0.8548      1.578      1.463         13        640: 100%|██████████| 842/842 [02:14<00:00,  6.27it/s]\n",
            "                 Class     Images  Instances      Box(P          R      mAP50  mAP50-95): 100%|██████████| 120/120 [00:25<00:00,  4.73it/s]\n"
          ]
        },
        {
          "metadata": {
            "tags": null
          },
          "name": "stdout",
          "output_type": "stream",
          "text": [
            "                   all       3840       5055      0.703      0.598      0.646      0.451\n",
            "\n",
            "      Epoch    GPU_mem   box_loss   cls_loss   dfl_loss  Instances       Size\n"
          ]
        },
        {
          "metadata": {
            "tags": null
          },
          "name": "stderr",
          "output_type": "stream",
          "text": [
            "      21/50      2.28G     0.8556      1.541      1.459          9        640: 100%|██████████| 842/842 [02:14<00:00,  6.27it/s]\n",
            "                 Class     Images  Instances      Box(P          R      mAP50  mAP50-95): 100%|██████████| 120/120 [00:25<00:00,  4.69it/s]\n"
          ]
        },
        {
          "metadata": {
            "tags": null
          },
          "name": "stdout",
          "output_type": "stream",
          "text": [
            "                   all       3840       5055      0.735        0.6      0.662       0.46\n",
            "\n",
            "      Epoch    GPU_mem   box_loss   cls_loss   dfl_loss  Instances       Size\n"
          ]
        },
        {
          "metadata": {
            "tags": null
          },
          "name": "stderr",
          "output_type": "stream",
          "text": [
            "      22/50      2.22G     0.8543      1.514      1.459         11        640: 100%|██████████| 842/842 [02:14<00:00,  6.26it/s]\n",
            "                 Class     Images  Instances      Box(P          R      mAP50  mAP50-95): 100%|██████████| 120/120 [00:25<00:00,  4.69it/s]\n"
          ]
        },
        {
          "metadata": {
            "tags": null
          },
          "name": "stdout",
          "output_type": "stream",
          "text": [
            "                   all       3840       5055      0.738      0.614      0.672       0.47\n",
            "\n",
            "      Epoch    GPU_mem   box_loss   cls_loss   dfl_loss  Instances       Size\n"
          ]
        },
        {
          "metadata": {
            "tags": null
          },
          "name": "stderr",
          "output_type": "stream",
          "text": [
            "      23/50      2.23G     0.8513      1.503      1.458          9        640: 100%|██████████| 842/842 [02:14<00:00,  6.26it/s]\n",
            "                 Class     Images  Instances      Box(P          R      mAP50  mAP50-95): 100%|██████████| 120/120 [00:25<00:00,  4.70it/s]\n"
          ]
        },
        {
          "metadata": {
            "tags": null
          },
          "name": "stdout",
          "output_type": "stream",
          "text": [
            "                   all       3840       5055      0.758      0.616      0.678       0.48\n",
            "\n",
            "      Epoch    GPU_mem   box_loss   cls_loss   dfl_loss  Instances       Size\n"
          ]
        },
        {
          "metadata": {
            "tags": null
          },
          "name": "stderr",
          "output_type": "stream",
          "text": [
            "      24/50      2.26G     0.8418      1.485      1.456          7        640: 100%|██████████| 842/842 [02:14<00:00,  6.26it/s]\n",
            "                 Class     Images  Instances      Box(P          R      mAP50  mAP50-95): 100%|██████████| 120/120 [00:25<00:00,  4.72it/s]\n"
          ]
        },
        {
          "metadata": {
            "tags": null
          },
          "name": "stdout",
          "output_type": "stream",
          "text": [
            "                   all       3840       5055      0.766       0.63      0.697      0.494\n",
            "\n",
            "      Epoch    GPU_mem   box_loss   cls_loss   dfl_loss  Instances       Size\n"
          ]
        },
        {
          "metadata": {
            "tags": null
          },
          "name": "stderr",
          "output_type": "stream",
          "text": [
            "      25/50      2.28G     0.8289       1.46      1.447          8        640: 100%|██████████| 842/842 [02:14<00:00,  6.27it/s]\n",
            "                 Class     Images  Instances      Box(P          R      mAP50  mAP50-95): 100%|██████████| 120/120 [00:25<00:00,  4.68it/s]\n"
          ]
        },
        {
          "metadata": {
            "tags": null
          },
          "name": "stdout",
          "output_type": "stream",
          "text": [
            "                   all       3840       5055      0.762      0.648      0.705      0.498\n",
            "\n",
            "      Epoch    GPU_mem   box_loss   cls_loss   dfl_loss  Instances       Size\n"
          ]
        },
        {
          "metadata": {
            "tags": null
          },
          "name": "stderr",
          "output_type": "stream",
          "text": [
            "      26/50      2.28G     0.8409       1.43      1.452          6        640: 100%|██████████| 842/842 [02:14<00:00,  6.27it/s]\n",
            "                 Class     Images  Instances      Box(P          R      mAP50  mAP50-95): 100%|██████████| 120/120 [00:25<00:00,  4.66it/s]\n"
          ]
        },
        {
          "metadata": {
            "tags": null
          },
          "name": "stdout",
          "output_type": "stream",
          "text": [
            "                   all       3840       5055      0.769      0.658      0.717      0.505\n",
            "\n",
            "      Epoch    GPU_mem   box_loss   cls_loss   dfl_loss  Instances       Size\n"
          ]
        },
        {
          "metadata": {
            "tags": null
          },
          "name": "stderr",
          "output_type": "stream",
          "text": [
            "      27/50      2.29G     0.8264       1.41      1.441          6        640: 100%|██████████| 842/842 [02:14<00:00,  6.24it/s]\n",
            "                 Class     Images  Instances      Box(P          R      mAP50  mAP50-95): 100%|██████████| 120/120 [00:25<00:00,  4.68it/s]\n"
          ]
        },
        {
          "metadata": {
            "tags": null
          },
          "name": "stdout",
          "output_type": "stream",
          "text": [
            "                   all       3840       5055      0.802      0.651      0.721       0.51\n",
            "\n",
            "      Epoch    GPU_mem   box_loss   cls_loss   dfl_loss  Instances       Size\n"
          ]
        },
        {
          "metadata": {
            "tags": null
          },
          "name": "stderr",
          "output_type": "stream",
          "text": [
            "      28/50      2.28G     0.8195      1.376      1.435          9        640: 100%|██████████| 842/842 [02:14<00:00,  6.25it/s]\n",
            "                 Class     Images  Instances      Box(P          R      mAP50  mAP50-95): 100%|██████████| 120/120 [00:26<00:00,  4.57it/s]\n"
          ]
        },
        {
          "metadata": {
            "tags": null
          },
          "name": "stdout",
          "output_type": "stream",
          "text": [
            "                   all       3840       5055      0.787      0.658      0.725      0.514\n",
            "\n",
            "      Epoch    GPU_mem   box_loss   cls_loss   dfl_loss  Instances       Size\n"
          ]
        },
        {
          "metadata": {
            "tags": null
          },
          "name": "stderr",
          "output_type": "stream",
          "text": [
            "      29/50      2.27G     0.8179      1.366      1.436         13        640: 100%|██████████| 842/842 [02:14<00:00,  6.26it/s]\n",
            "                 Class     Images  Instances      Box(P          R      mAP50  mAP50-95): 100%|██████████| 120/120 [00:25<00:00,  4.64it/s]\n"
          ]
        },
        {
          "metadata": {
            "tags": null
          },
          "name": "stdout",
          "output_type": "stream",
          "text": [
            "                   all       3840       5055      0.819      0.664      0.739      0.526\n",
            "\n",
            "      Epoch    GPU_mem   box_loss   cls_loss   dfl_loss  Instances       Size\n"
          ]
        },
        {
          "metadata": {
            "tags": null
          },
          "name": "stderr",
          "output_type": "stream",
          "text": [
            "      30/50      2.29G     0.8173      1.344      1.434         15        640: 100%|██████████| 842/842 [02:14<00:00,  6.24it/s]\n",
            "                 Class     Images  Instances      Box(P          R      mAP50  mAP50-95): 100%|██████████| 120/120 [00:25<00:00,  4.74it/s]\n"
          ]
        },
        {
          "metadata": {
            "tags": null
          },
          "name": "stdout",
          "output_type": "stream",
          "text": [
            "                   all       3840       5055       0.81      0.673      0.746      0.529\n",
            "\n",
            "      Epoch    GPU_mem   box_loss   cls_loss   dfl_loss  Instances       Size\n"
          ]
        },
        {
          "metadata": {
            "tags": null
          },
          "name": "stderr",
          "output_type": "stream",
          "text": [
            "      31/50      2.27G     0.8086      1.311      1.431          9        640: 100%|██████████| 842/842 [02:13<00:00,  6.30it/s]\n",
            "                 Class     Images  Instances      Box(P          R      mAP50  mAP50-95): 100%|██████████| 120/120 [00:25<00:00,  4.66it/s]\n"
          ]
        },
        {
          "metadata": {
            "tags": null
          },
          "name": "stdout",
          "output_type": "stream",
          "text": [
            "                   all       3840       5055      0.819       0.68      0.749      0.532\n",
            "\n",
            "      Epoch    GPU_mem   box_loss   cls_loss   dfl_loss  Instances       Size\n"
          ]
        },
        {
          "metadata": {
            "tags": null
          },
          "name": "stderr",
          "output_type": "stream",
          "text": [
            "      32/50      2.27G     0.8066      1.301       1.43          9        640: 100%|██████████| 842/842 [02:14<00:00,  6.27it/s]\n",
            "                 Class     Images  Instances      Box(P          R      mAP50  mAP50-95): 100%|██████████| 120/120 [00:25<00:00,  4.69it/s]\n"
          ]
        },
        {
          "metadata": {
            "tags": null
          },
          "name": "stdout",
          "output_type": "stream",
          "text": [
            "                   all       3840       5055      0.817      0.684      0.754      0.539\n",
            "\n",
            "      Epoch    GPU_mem   box_loss   cls_loss   dfl_loss  Instances       Size\n"
          ]
        },
        {
          "metadata": {
            "tags": null
          },
          "name": "stderr",
          "output_type": "stream",
          "text": [
            "      33/50      2.28G     0.7979      1.267      1.425          9        640: 100%|██████████| 842/842 [02:14<00:00,  6.27it/s]\n",
            "                 Class     Images  Instances      Box(P          R      mAP50  mAP50-95): 100%|██████████| 120/120 [00:25<00:00,  4.70it/s]\n"
          ]
        },
        {
          "metadata": {
            "tags": null
          },
          "name": "stdout",
          "output_type": "stream",
          "text": [
            "                   all       3840       5055      0.807      0.694      0.755      0.544\n",
            "\n",
            "      Epoch    GPU_mem   box_loss   cls_loss   dfl_loss  Instances       Size\n"
          ]
        },
        {
          "metadata": {
            "tags": null
          },
          "name": "stderr",
          "output_type": "stream",
          "text": [
            "      34/50      2.22G     0.7904      1.255      1.418          7        640: 100%|██████████| 842/842 [02:14<00:00,  6.26it/s]\n",
            "                 Class     Images  Instances      Box(P          R      mAP50  mAP50-95): 100%|██████████| 120/120 [00:25<00:00,  4.68it/s]\n"
          ]
        },
        {
          "metadata": {
            "tags": null
          },
          "name": "stdout",
          "output_type": "stream",
          "text": [
            "                   all       3840       5055      0.821      0.692      0.762      0.545\n",
            "\n",
            "      Epoch    GPU_mem   box_loss   cls_loss   dfl_loss  Instances       Size\n"
          ]
        },
        {
          "metadata": {
            "tags": null
          },
          "name": "stderr",
          "output_type": "stream",
          "text": [
            "      35/50      2.27G     0.7906      1.247      1.422          9        640: 100%|██████████| 842/842 [02:14<00:00,  6.27it/s]\n",
            "                 Class     Images  Instances      Box(P          R      mAP50  mAP50-95): 100%|██████████| 120/120 [00:25<00:00,  4.66it/s]\n"
          ]
        },
        {
          "metadata": {
            "tags": null
          },
          "name": "stdout",
          "output_type": "stream",
          "text": [
            "                   all       3840       5055      0.823      0.694      0.765       0.55\n",
            "\n",
            "      Epoch    GPU_mem   box_loss   cls_loss   dfl_loss  Instances       Size\n"
          ]
        },
        {
          "metadata": {
            "tags": null
          },
          "name": "stderr",
          "output_type": "stream",
          "text": [
            "      36/50      2.26G     0.7804      1.214      1.415         12        640: 100%|██████████| 842/842 [02:14<00:00,  6.28it/s]\n",
            "                 Class     Images  Instances      Box(P          R      mAP50  mAP50-95): 100%|██████████| 120/120 [00:25<00:00,  4.73it/s]\n"
          ]
        },
        {
          "metadata": {
            "tags": null
          },
          "name": "stdout",
          "output_type": "stream",
          "text": [
            "                   all       3840       5055      0.833      0.702      0.774      0.553\n",
            "\n",
            "      Epoch    GPU_mem   box_loss   cls_loss   dfl_loss  Instances       Size\n"
          ]
        },
        {
          "metadata": {
            "tags": null
          },
          "name": "stderr",
          "output_type": "stream",
          "text": [
            "      37/50      2.23G     0.7779      1.211      1.411         10        640: 100%|██████████| 842/842 [02:14<00:00,  6.27it/s]\n",
            "                 Class     Images  Instances      Box(P          R      mAP50  mAP50-95): 100%|██████████| 120/120 [00:25<00:00,  4.71it/s]\n"
          ]
        },
        {
          "metadata": {
            "tags": null
          },
          "name": "stdout",
          "output_type": "stream",
          "text": [
            "                   all       3840       5055      0.834      0.698      0.771      0.556\n",
            "\n",
            "      Epoch    GPU_mem   box_loss   cls_loss   dfl_loss  Instances       Size\n"
          ]
        },
        {
          "metadata": {
            "tags": null
          },
          "name": "stderr",
          "output_type": "stream",
          "text": [
            "      38/50      2.28G     0.7759      1.195      1.409          9        640: 100%|██████████| 842/842 [02:13<00:00,  6.30it/s]\n",
            "                 Class     Images  Instances      Box(P          R      mAP50  mAP50-95): 100%|██████████| 120/120 [00:25<00:00,  4.71it/s]\n"
          ]
        },
        {
          "metadata": {
            "tags": null
          },
          "name": "stdout",
          "output_type": "stream",
          "text": [
            "                   all       3840       5055      0.828      0.707      0.776       0.56\n",
            "\n",
            "      Epoch    GPU_mem   box_loss   cls_loss   dfl_loss  Instances       Size\n"
          ]
        },
        {
          "metadata": {
            "tags": null
          },
          "name": "stderr",
          "output_type": "stream",
          "text": [
            "      39/50      2.28G     0.7709      1.188      1.404          6        640: 100%|██████████| 842/842 [02:13<00:00,  6.28it/s]\n",
            "                 Class     Images  Instances      Box(P          R      mAP50  mAP50-95): 100%|██████████| 120/120 [00:25<00:00,  4.76it/s]\n"
          ]
        },
        {
          "metadata": {
            "tags": null
          },
          "name": "stdout",
          "output_type": "stream",
          "text": [
            "                   all       3840       5055      0.841      0.705      0.778      0.565\n",
            "\n",
            "      Epoch    GPU_mem   box_loss   cls_loss   dfl_loss  Instances       Size\n"
          ]
        },
        {
          "metadata": {
            "tags": null
          },
          "name": "stderr",
          "output_type": "stream",
          "text": [
            "      40/50      2.22G     0.7688      1.166      1.403         11        640: 100%|██████████| 842/842 [02:13<00:00,  6.29it/s]\n",
            "                 Class     Images  Instances      Box(P          R      mAP50  mAP50-95): 100%|██████████| 120/120 [00:25<00:00,  4.71it/s]\n"
          ]
        },
        {
          "metadata": {
            "tags": null
          },
          "name": "stdout",
          "output_type": "stream",
          "text": [
            "                   all       3840       5055      0.844      0.705      0.779      0.566\n",
            "Closing dataloader mosaic\n",
            "\u001b[34m\u001b[1malbumentations: \u001b[0mBlur(p=0.01, blur_limit=(3, 7)), MedianBlur(p=0.01, blur_limit=(3, 7)), ToGray(p=0.01, num_output_channels=3, method='weighted_average'), CLAHE(p=0.01, clip_limit=(1, 4.0), tile_grid_size=(8, 8))\n"
          ]
        },
        {
          "metadata": {
            "tags": null
          },
          "name": "stderr",
          "output_type": "stream",
          "text": [
            "/usr/lib/python3.10/multiprocessing/popen_fork.py:66: RuntimeWarning: os.fork() was called. os.fork() is incompatible with multithreaded code, and JAX is multithreaded, so this will likely lead to a deadlock.\n",
            "  self.pid = os.fork()\n"
          ]
        },
        {
          "metadata": {
            "tags": null
          },
          "name": "stdout",
          "output_type": "stream",
          "text": [
            "\n",
            "      Epoch    GPU_mem   box_loss   cls_loss   dfl_loss  Instances       Size\n"
          ]
        },
        {
          "metadata": {
            "tags": null
          },
          "name": "stderr",
          "output_type": "stream",
          "text": [
            "      41/50      2.25G     0.8423      1.161      1.614          3        640: 100%|██████████| 842/842 [02:14<00:00,  6.25it/s]\n",
            "                 Class     Images  Instances      Box(P          R      mAP50  mAP50-95): 100%|██████████| 120/120 [00:25<00:00,  4.70it/s]\n"
          ]
        },
        {
          "metadata": {
            "tags": null
          },
          "name": "stdout",
          "output_type": "stream",
          "text": [
            "                   all       3840       5055      0.852      0.703       0.78       0.57\n",
            "\n",
            "      Epoch    GPU_mem   box_loss   cls_loss   dfl_loss  Instances       Size\n"
          ]
        },
        {
          "output_type": "stream",
          "name": "stderr",
          "text": [
            "      42/50       2.2G     0.8225      1.088      1.592          6        640: 100%|██████████| 842/842 [02:13<00:00,  6.33it/s]\n",
            "                 Class     Images  Instances      Box(P          R      mAP50  mAP50-95): 100%|██████████| 120/120 [00:25<00:00,  4.68it/s]\n"
          ]
        },
        {
          "output_type": "stream",
          "name": "stdout",
          "text": [
            "                   all       3840       5055       0.85       0.71      0.787      0.576\n",
            "\n",
            "      Epoch    GPU_mem   box_loss   cls_loss   dfl_loss  Instances       Size\n"
          ]
        },
        {
          "output_type": "stream",
          "name": "stderr",
          "text": [
            "      43/50      2.26G     0.8128      1.056       1.58          4        640: 100%|██████████| 842/842 [02:12<00:00,  6.36it/s]\n",
            "                 Class     Images  Instances      Box(P          R      mAP50  mAP50-95): 100%|██████████| 120/120 [00:25<00:00,  4.70it/s]\n"
          ]
        },
        {
          "output_type": "stream",
          "name": "stdout",
          "text": [
            "                   all       3840       5055      0.849      0.713      0.788      0.578\n",
            "\n",
            "      Epoch    GPU_mem   box_loss   cls_loss   dfl_loss  Instances       Size\n"
          ]
        },
        {
          "output_type": "stream",
          "name": "stderr",
          "text": [
            "      44/50      2.25G     0.8068      1.035      1.572          4        640: 100%|██████████| 842/842 [02:12<00:00,  6.36it/s]\n",
            "                 Class     Images  Instances      Box(P          R      mAP50  mAP50-95): 100%|██████████| 120/120 [00:25<00:00,  4.69it/s]\n"
          ]
        },
        {
          "output_type": "stream",
          "name": "stdout",
          "text": [
            "                   all       3840       5055      0.841      0.719       0.79      0.579\n",
            "\n",
            "      Epoch    GPU_mem   box_loss   cls_loss   dfl_loss  Instances       Size\n"
          ]
        },
        {
          "output_type": "stream",
          "name": "stderr",
          "text": [
            "      45/50      2.26G     0.7949      1.012      1.564          3        640: 100%|██████████| 842/842 [02:12<00:00,  6.36it/s]\n",
            "                 Class     Images  Instances      Box(P          R      mAP50  mAP50-95): 100%|██████████| 120/120 [00:25<00:00,  4.67it/s]\n"
          ]
        },
        {
          "output_type": "stream",
          "name": "stdout",
          "text": [
            "                   all       3840       5055      0.843      0.721      0.791      0.582\n",
            "\n",
            "      Epoch    GPU_mem   box_loss   cls_loss   dfl_loss  Instances       Size\n"
          ]
        },
        {
          "output_type": "stream",
          "name": "stderr",
          "text": [
            "      46/50       2.2G     0.7915     0.9993      1.557          4        640: 100%|██████████| 842/842 [02:12<00:00,  6.35it/s]\n",
            "                 Class     Images  Instances      Box(P          R      mAP50  mAP50-95): 100%|██████████| 120/120 [00:25<00:00,  4.71it/s]\n"
          ]
        },
        {
          "output_type": "stream",
          "name": "stdout",
          "text": [
            "                   all       3840       5055      0.843       0.72      0.794      0.585\n",
            "\n",
            "      Epoch    GPU_mem   box_loss   cls_loss   dfl_loss  Instances       Size\n"
          ]
        },
        {
          "output_type": "stream",
          "name": "stderr",
          "text": [
            "      47/50      2.26G     0.7875     0.9853      1.553          3        640: 100%|██████████| 842/842 [02:12<00:00,  6.36it/s]\n",
            "                 Class     Images  Instances      Box(P          R      mAP50  mAP50-95): 100%|██████████| 120/120 [00:25<00:00,  4.65it/s]\n"
          ]
        },
        {
          "output_type": "stream",
          "name": "stdout",
          "text": [
            "                   all       3840       5055      0.852      0.718      0.795      0.585\n",
            "\n",
            "      Epoch    GPU_mem   box_loss   cls_loss   dfl_loss  Instances       Size\n"
          ]
        },
        {
          "output_type": "stream",
          "name": "stderr",
          "text": [
            "      48/50       2.2G     0.7794     0.9766       1.55          3        640: 100%|██████████| 842/842 [02:12<00:00,  6.36it/s]\n",
            "                 Class     Images  Instances      Box(P          R      mAP50  mAP50-95): 100%|██████████| 120/120 [00:25<00:00,  4.72it/s]\n"
          ]
        },
        {
          "output_type": "stream",
          "name": "stdout",
          "text": [
            "                   all       3840       5055      0.849      0.721      0.795      0.587\n",
            "\n",
            "      Epoch    GPU_mem   box_loss   cls_loss   dfl_loss  Instances       Size\n"
          ]
        },
        {
          "output_type": "stream",
          "name": "stderr",
          "text": [
            "      49/50      2.26G     0.7855     0.9707      1.553          3        640: 100%|██████████| 842/842 [02:12<00:00,  6.36it/s]\n",
            "                 Class     Images  Instances      Box(P          R      mAP50  mAP50-95): 100%|██████████| 120/120 [00:25<00:00,  4.72it/s]\n"
          ]
        },
        {
          "output_type": "stream",
          "name": "stdout",
          "text": [
            "                   all       3840       5055      0.854      0.716      0.796      0.587\n",
            "\n",
            "      Epoch    GPU_mem   box_loss   cls_loss   dfl_loss  Instances       Size\n"
          ]
        },
        {
          "output_type": "stream",
          "name": "stderr",
          "text": [
            "      50/50       2.2G     0.7831     0.9625      1.548          3        640: 100%|██████████| 842/842 [02:12<00:00,  6.36it/s]\n",
            "                 Class     Images  Instances      Box(P          R      mAP50  mAP50-95): 100%|██████████| 120/120 [00:25<00:00,  4.71it/s]\n"
          ]
        },
        {
          "output_type": "stream",
          "name": "stdout",
          "text": [
            "                   all       3840       5055      0.851      0.718      0.796      0.588\n",
            "\n",
            "50 epochs completed in 2.546 hours.\n",
            "Optimizer stripped from /content/drive/MyDrive/AyushVision/yolo/training/20_09_2024/094919/plants/runs/train50/weights/last.pt, 6.3MB\n",
            "Optimizer stripped from /content/drive/MyDrive/AyushVision/yolo/training/20_09_2024/094919/plants/runs/train50/weights/best.pt, 6.3MB\n",
            "\n",
            "Validating /content/drive/MyDrive/AyushVision/yolo/training/20_09_2024/094919/plants/runs/train50/weights/best.pt...\n",
            "Ultralytics YOLOv8.2.98 🚀 Python-3.10.12 torch-2.4.1+cu121 CUDA:0 (Tesla T4, 15102MiB)\n",
            "Model summary (fused): 168 layers, 3,011,888 parameters, 0 gradients, 8.1 GFLOPs\n"
          ]
        },
        {
          "output_type": "stream",
          "name": "stderr",
          "text": [
            "                 Class     Images  Instances      Box(P          R      mAP50  mAP50-95): 100%|██████████| 120/120 [00:26<00:00,  4.56it/s]\n"
          ]
        },
        {
          "output_type": "stream",
          "name": "stdout",
          "text": [
            "                   all       3840       5055      0.852      0.718      0.796      0.588\n",
            "              Hibiscus        120        126      0.836      0.913      0.936      0.727\n",
            "          Sleepy_plant        121        278      0.727      0.227      0.418      0.211\n",
            "                  lime        122        123      0.812      0.911      0.945      0.786\n",
            "       Adamant_Creeper        120        178      0.824      0.551      0.622      0.466\n",
            "               Alovera        127        160       0.95      0.713      0.767      0.603\n",
            "                 Betel        124        131      0.948      0.924      0.947      0.864\n",
            "     Black_honey_shrub        120        135      0.923      0.763       0.82      0.663\n",
            "   Calotropis_gigantea        120        157      0.813      0.713      0.771      0.462\n",
            "                Caster        122        123      0.933      0.905      0.957       0.74\n",
            "              Cinnamon        119        123      0.917      0.935      0.952      0.822\n",
            "                Ginger        121        132       0.93      0.864      0.939      0.795\n",
            "                 Henna        120        121      0.897      0.967      0.984      0.874\n",
            "             Holybasil        121        140      0.891      0.758      0.835       0.59\n",
            "         Indian_Mallow        120        131      0.913      0.878      0.929      0.628\n",
            "             Ivy_gourd        120        122      0.908      0.891      0.943      0.752\n",
            "              Landrina        121        150      0.713      0.629      0.681      0.412\n",
            "           Lemon_grass        120        128      0.912      0.883      0.918      0.764\n",
            "           Long_pepper        120        181      0.911      0.512        0.7      0.521\n",
            "          Miracle_leaf        115        348      0.671      0.333      0.469      0.219\n",
            "    Mountain_Knotgrass        121        164      0.867      0.595      0.714      0.488\n",
            "                  Neem        121        136      0.857       0.75        0.8      0.554\n",
            "        Acalyphaindica        120        147      0.769      0.701      0.787      0.527\n",
            "               Oregano        120        198      0.746      0.551      0.692      0.405\n",
            "         Pedaliummurex        119        149      0.817      0.705      0.815      0.597\n",
            "      Redpea_egg_plant        120        215      0.791      0.344      0.435      0.255\n",
            "        Ringworm_plant        120        157      0.896      0.669       0.78      0.538\n",
            "       Seedsunder_leaf        122        188      0.719      0.521      0.652      0.348\n",
            "   Tallperennial_grass        120        134      0.934      0.813      0.904      0.726\n",
            "            Thornapple        120        151      0.861      0.722      0.815      0.603\n",
            "              Turmeric        119        145      0.871      0.748      0.824       0.57\n",
            "          Vitexnegundo        120        126      0.934      0.897      0.944      0.803\n",
            "         Wild_Turmeric        119        158      0.776      0.703       0.78      0.509\n",
            "Speed: 0.2ms preprocess, 2.0ms inference, 0.0ms loss, 1.1ms postprocess per image\n",
            "Results saved to \u001b[1m/content/drive/MyDrive/AyushVision/yolo/training/20_09_2024/094919/plants/runs/train50\u001b[0m\n"
          ]
        }
      ],
      "source": [
        "results = yolo_model.train(\n",
        "    data=data,\n",
        "    name=name,\n",
        "    epochs=epochs,                 # Number of epochs\n",
        "    imgsz=imageSize,               # Image size\n",
        "    project=project,           # Project directory\n",
        "    optimizer=optimizer,          # Optimizer\n",
        "    plots=True,                # Enable plots\n",
        "    dropout=dropout,               # Dropout rate               # Data augmentation\n",
        "    cos_lr=True,\n",
        ")"
      ]
    },
    {
      "cell_type": "code",
      "source": [
        "args_yaml=f'{project}/{name}/args.yaml'"
      ],
      "metadata": {
        "id": "DvZnNECFhFeT"
      },
      "execution_count": null,
      "outputs": []
    },
    {
      "cell_type": "code",
      "source": [
        "resultcsv=f'{project}/{name}/results.csv'"
      ],
      "metadata": {
        "id": "SO4n0G5EhJA6"
      },
      "execution_count": null,
      "outputs": []
    },
    {
      "cell_type": "code",
      "source": [
        "with open(resultcsv, mode='r') as file:\n",
        "     csv_reader = csv.DictReader(file)\n",
        "     data_dict = [row for row in csv_reader]"
      ],
      "metadata": {
        "id": "Aiu9ngptJt1A"
      },
      "execution_count": null,
      "outputs": []
    },
    {
      "cell_type": "code",
      "source": [
        "with open(args_yaml, 'r') as file:\n",
        "    yaml_content = yaml.safe_load(file)"
      ],
      "metadata": {
        "id": "8Uw3V5VihL6M"
      },
      "execution_count": null,
      "outputs": []
    },
    {
      "cell_type": "code",
      "execution_count": null,
      "metadata": {
        "id": "j0b7pQMdwiee"
      },
      "outputs": [],
      "source": [
        "today_training_colref=today_ref.collection('Train')"
      ]
    },
    {
      "cell_type": "code",
      "source": [
        "today_training_ref=today_training_colref.document('args')"
      ],
      "metadata": {
        "id": "k7fDm31ghVFV"
      },
      "execution_count": null,
      "outputs": []
    },
    {
      "cell_type": "code",
      "source": [
        "today_training_ref.set(yaml_content)"
      ],
      "metadata": {
        "id": "J_1uaRjBhW-_",
        "outputId": "169247d9-a606-4b61-d7fa-51c34abd8c7a",
        "colab": {
          "base_uri": "https://localhost:8080/"
        }
      },
      "execution_count": null,
      "outputs": [
        {
          "output_type": "execute_result",
          "data": {
            "text/plain": [
              "update_time {\n",
              "  seconds: 1726835720\n",
              "  nanos: 284842000\n",
              "}"
            ]
          },
          "metadata": {},
          "execution_count": 61
        }
      ]
    },
    {
      "cell_type": "code",
      "source": [
        "todayresultref=today_training_colref.document('results')"
      ],
      "metadata": {
        "id": "vtduLfTXhZ52"
      },
      "execution_count": null,
      "outputs": []
    },
    {
      "cell_type": "code",
      "source": [
        "todayresultref.set({'results':data_dict})"
      ],
      "metadata": {
        "id": "Dq-GrSl0hf1v",
        "outputId": "31ede1c1-158b-49c5-f117-73bcf20112d3",
        "colab": {
          "base_uri": "https://localhost:8080/"
        }
      },
      "execution_count": null,
      "outputs": [
        {
          "output_type": "execute_result",
          "data": {
            "text/plain": [
              "update_time {\n",
              "  seconds: 1726835722\n",
              "  nanos: 748027000\n",
              "}"
            ]
          },
          "metadata": {},
          "execution_count": 63
        }
      ]
    },
    {
      "cell_type": "code",
      "execution_count": null,
      "metadata": {
        "id": "g-BcnpaezP3a"
      },
      "outputs": [],
      "source": [
        "trainfiles={}\n",
        "wights={}"
      ]
    },
    {
      "cell_type": "code",
      "execution_count": null,
      "metadata": {
        "id": "jhuDVlf7xyNL"
      },
      "outputs": [],
      "source": [
        "for file in os.listdir(f\"{project}/{name}\"):\n",
        "  if os.path.isfile(f\"{project}/{name}/{file}\"):\n",
        "    blob = bucket.blob(f\"{storageLocation}/train/{file}\")\n",
        "    blob.upload_from_filename(f\"{project}/{name}/{file}\")\n",
        "    blob.make_public()\n",
        "    trainfiles[os.path.splitext(file)[0]]=blob.public_url\n"
      ]
    },
    {
      "cell_type": "code",
      "execution_count": null,
      "metadata": {
        "id": "qbmOsJHgNmoU"
      },
      "outputs": [],
      "source": [
        "for file in os.listdir(f\"{project}/{name}/weights\"):\n",
        "  if os.path.isfile(f\"{project}/{name}/weights/{file}\"):\n",
        "    blob = bucket.blob(f\"{storageLocation}/train/weights/{file}\")\n",
        "    blob.upload_from_filename(f\"{project}/{name}/weights/{file}\")\n",
        "    blob.make_public()\n",
        "    wights[os.path.splitext(file)[0]]=blob.public_url"
      ]
    },
    {
      "cell_type": "code",
      "execution_count": null,
      "metadata": {
        "id": "rMcQNIy10MUP",
        "outputId": "4db8002d-d1bb-4ffd-9bf2-176aa136f9f6",
        "colab": {
          "base_uri": "https://localhost:8080/"
        }
      },
      "outputs": [
        {
          "output_type": "execute_result",
          "data": {
            "text/plain": [
              "update_time {\n",
              "  seconds: 1726835730\n",
              "  nanos: 168077000\n",
              "}"
            ]
          },
          "metadata": {},
          "execution_count": 67
        }
      ],
      "source": [
        "today_training_files=today_training_colref.document('files')\n",
        "today_training_files.set(trainfiles)"
      ]
    },
    {
      "cell_type": "code",
      "source": [
        "today_weights_files=today_training_colref.document('weights')\n",
        "today_weights_files.set(wights)"
      ],
      "metadata": {
        "id": "JaS_sPzuhmk7",
        "outputId": "aebad25d-dcdb-4cba-e9fb-b1d4cc823fd2",
        "colab": {
          "base_uri": "https://localhost:8080/"
        }
      },
      "execution_count": null,
      "outputs": [
        {
          "output_type": "execute_result",
          "data": {
            "text/plain": [
              "update_time {\n",
              "  seconds: 1726835730\n",
              "  nanos: 203134000\n",
              "}"
            ]
          },
          "metadata": {},
          "execution_count": 68
        }
      ]
    },
    {
      "cell_type": "markdown",
      "metadata": {
        "id": "vebaeyvan7Ho"
      },
      "source": [
        "#### Validation"
      ]
    },
    {
      "cell_type": "code",
      "execution_count": null,
      "metadata": {
        "id": "-9orCdN0n7Ho"
      },
      "outputs": [],
      "source": [
        "model_train_path=f'{project}/{name}/weights/best.pt'"
      ]
    },
    {
      "cell_type": "code",
      "execution_count": null,
      "metadata": {
        "id": "eGWISZx7n7Hp"
      },
      "outputs": [],
      "source": [
        "model = YOLO(model_train_path)  # load a custom trained model"
      ]
    },
    {
      "cell_type": "code",
      "execution_count": null,
      "metadata": {
        "id": "AXl1m-taeNDN",
        "outputId": "1e7c6c2f-d265-4af0-a348-f62a0e47885f",
        "colab": {
          "base_uri": "https://localhost:8080/"
        }
      },
      "outputs": [
        {
          "output_type": "stream",
          "name": "stdout",
          "text": [
            "Ultralytics YOLOv8.2.98 🚀 Python-3.10.12 torch-2.4.1+cu121 CUDA:0 (Tesla T4, 15102MiB)\n",
            "Model summary (fused): 168 layers, 3,011,888 parameters, 0 gradients, 8.1 GFLOPs\n"
          ]
        },
        {
          "output_type": "stream",
          "name": "stderr",
          "text": [
            "\u001b[34m\u001b[1mval: \u001b[0mScanning /content/drive/MyDrive/AyushVision/yolo/final/valid/labels.cache... 3840 images, 0 backgrounds, 0 corrupt: 100%|██████████| 3840/3840 [00:00<?, ?it/s]"
          ]
        },
        {
          "output_type": "stream",
          "name": "stdout",
          "text": [
            "WARNING ⚠️ Box and segment counts should be equal, but got len(segments) = 4, len(boxes) = 5055. To resolve this only boxes will be used and all segments will be removed. To avoid this please supply either a detect or segment dataset, not a detect-segment mixed dataset.\n"
          ]
        },
        {
          "output_type": "stream",
          "name": "stderr",
          "text": [
            "\n",
            "                 Class     Images  Instances      Box(P          R      mAP50  mAP50-95): 100%|██████████| 240/240 [01:21<00:00,  2.94it/s]\n"
          ]
        },
        {
          "output_type": "stream",
          "name": "stdout",
          "text": [
            "                   all       3840       5055      0.851      0.718      0.796      0.588\n",
            "              Hibiscus        120        126      0.837      0.913      0.937      0.727\n",
            "          Sleepy_plant        121        278      0.727      0.227      0.417      0.212\n",
            "                  lime        122        123      0.812      0.911      0.946      0.785\n",
            "       Adamant_Creeper        120        178      0.823      0.551      0.623      0.467\n",
            "               Alovera        127        160      0.951      0.713      0.767      0.603\n",
            "                 Betel        124        131      0.948      0.924      0.947      0.863\n",
            "     Black_honey_shrub        120        135      0.923      0.763       0.82      0.663\n",
            "   Calotropis_gigantea        120        157      0.809      0.713      0.769      0.464\n",
            "                Caster        122        123      0.933      0.905      0.957       0.74\n",
            "              Cinnamon        119        123      0.917      0.935      0.953      0.822\n",
            "                Ginger        121        132      0.932      0.864      0.939      0.796\n",
            "                 Henna        120        121      0.897      0.967      0.984      0.876\n",
            "             Holybasil        121        140      0.891      0.759      0.836      0.589\n",
            "         Indian_Mallow        120        131      0.912      0.878      0.929      0.629\n",
            "             Ivy_gourd        120        122      0.908      0.891      0.943      0.753\n",
            "              Landrina        121        150       0.71      0.627       0.68      0.413\n",
            "           Lemon_grass        120        128      0.911      0.883      0.918      0.765\n",
            "           Long_pepper        120        181      0.911      0.512      0.699      0.522\n",
            "          Miracle_leaf        115        348       0.67      0.328      0.469      0.219\n",
            "    Mountain_Knotgrass        121        164      0.867      0.595      0.714      0.488\n",
            "                  Neem        121        136      0.858       0.75      0.799      0.554\n",
            "        Acalyphaindica        120        147      0.769      0.701      0.787      0.527\n",
            "               Oregano        120        198      0.742      0.551       0.69      0.404\n",
            "         Pedaliummurex        119        149      0.817      0.705      0.816      0.597\n",
            "      Redpea_egg_plant        120        215       0.79      0.344      0.435      0.255\n",
            "        Ringworm_plant        120        157      0.888      0.669       0.78      0.538\n",
            "       Seedsunder_leaf        122        188      0.719      0.521      0.651      0.347\n",
            "   Tallperennial_grass        120        134      0.934      0.813      0.904      0.726\n",
            "            Thornapple        120        151      0.861      0.722      0.816      0.603\n",
            "              Turmeric        119        145      0.871      0.746      0.824      0.573\n",
            "          Vitexnegundo        120        126      0.934      0.897      0.943      0.803\n",
            "         Wild_Turmeric        119        158      0.774      0.703       0.78      0.508\n",
            "Speed: 0.2ms preprocess, 3.6ms inference, 0.0ms loss, 1.3ms postprocess per image\n",
            "Saving /content/drive/MyDrive/AyushVision/yolo/training/20_09_2024/094919/plants/runs/val502/predictions.json...\n",
            "Results saved to \u001b[1m/content/drive/MyDrive/AyushVision/yolo/training/20_09_2024/094919/plants/runs/val502\u001b[0m\n"
          ]
        }
      ],
      "source": [
        "metrics = model.val(save_json=True,plots=True,project=project,name=f'val{epochs}')  # no arguments needed, dataset and settings remembered"
      ]
    },
    {
      "cell_type": "code",
      "execution_count": null,
      "metadata": {
        "id": "q9FLMqVSzVDo"
      },
      "outputs": [],
      "source": [
        "val_today_col=today_ref.collection('Val')"
      ]
    },
    {
      "cell_type": "code",
      "source": [
        "predication_file=f'{project}/val{epochs}2/predictions.json'"
      ],
      "metadata": {
        "id": "27h9s3UHh0tI"
      },
      "execution_count": null,
      "outputs": []
    },
    {
      "cell_type": "code",
      "source": [
        "with open(predication_file, 'r') as file:\n",
        "    data_dict = json.load(file)"
      ],
      "metadata": {
        "id": "Vl-fCG-dh29I"
      },
      "execution_count": null,
      "outputs": []
    },
    {
      "cell_type": "code",
      "source": [
        "val_today_ref_files=val_today_col.document('files')"
      ],
      "metadata": {
        "id": "09j8IGJph5x7"
      },
      "execution_count": null,
      "outputs": []
    },
    {
      "cell_type": "code",
      "execution_count": null,
      "metadata": {
        "id": "zUlTjrFB0JtF"
      },
      "outputs": [],
      "source": [
        "valfiles={}"
      ]
    },
    {
      "cell_type": "code",
      "execution_count": null,
      "metadata": {
        "id": "f5kMLdoCTg9l"
      },
      "outputs": [],
      "source": [
        "for file in os.listdir(f\"{project}/val{epochs}2\"):\n",
        "  if os.path.isfile(f\"{project}/val{epochs}2/{file}\"):\n",
        "    blob = bucket.blob(f\"{storageLocation}/val/{file}\")\n",
        "    blob.upload_from_filename(f\"{project}/val{epochs}2/{file}\")\n",
        "    blob.make_public()\n",
        "    valfiles[os.path.splitext(file)[0]]=blob.public_url"
      ]
    },
    {
      "cell_type": "code",
      "execution_count": null,
      "metadata": {
        "id": "P5xtzL5GUB_H",
        "outputId": "6b7aa7d9-2e59-449b-a7b4-26a2ccde1a47",
        "colab": {
          "base_uri": "https://localhost:8080/"
        }
      },
      "outputs": [
        {
          "output_type": "execute_result",
          "data": {
            "text/plain": [
              "update_time {\n",
              "  seconds: 1726835894\n",
              "  nanos: 80925000\n",
              "}"
            ]
          },
          "metadata": {},
          "execution_count": 78
        }
      ],
      "source": [
        "val_today_ref_files.set(valfiles)"
      ]
    },
    {
      "cell_type": "code",
      "source": [
        "val_today_ref_metrics=val_today_col.document('metrics')"
      ],
      "metadata": {
        "id": "E9UV7ub9iECt"
      },
      "execution_count": null,
      "outputs": []
    },
    {
      "cell_type": "code",
      "source": [
        "\n",
        "val_today_ref_metrics.set({\n",
        "    'confusion_matrix':{\n",
        "        'conf':metrics.confusion_matrix.conf\n",
        "    },\n",
        "    'maps':np.array(metrics.maps).tolist(),\n",
        "    'fitness':metrics.fitness,\n",
        "'results_dict':metrics.results_dict,\n",
        "    'speed':metrics.speed,\n",
        "    'box':{\n",
        "        'map':metrics.box.map,\n",
        "        'map50':metrics.box.map50,\n",
        "        'map75':metrics.box.map75,\n",
        "        'mp':metrics.box.mp,\n",
        "'mr':metrics.box.mr,\n",
        "        'nc':metrics.box.nc,\n",
        "        'p':np.array(metrics.box.p).tolist(),\n",
        "        'r':np.array(metrics.box.r).tolist(),\n",
        "        'ap':np.array(metrics.box.ap).tolist(),\n",
        "        'ap50':np.array(metrics.box.ap50).tolist(),\n",
        "        'ap_class_index':np.array(metrics.box.ap_class_index).tolist(),\n",
        "        }\n",
        "})"
      ],
      "metadata": {
        "id": "y5oEEll4iDqZ",
        "outputId": "49cbb8ad-1dc7-43bf-9790-847817d7bf5e",
        "colab": {
          "base_uri": "https://localhost:8080/"
        }
      },
      "execution_count": null,
      "outputs": [
        {
          "output_type": "execute_result",
          "data": {
            "text/plain": [
              "update_time {\n",
              "  seconds: 1726835894\n",
              "  nanos: 155746000\n",
              "}"
            ]
          },
          "metadata": {},
          "execution_count": 80
        }
      ]
    },
    {
      "cell_type": "code",
      "execution_count": null,
      "metadata": {
        "id": "P8B6V3_wwohd",
        "outputId": "f774ea66-2525-461c-93a5-9df6e132c026",
        "colab": {
          "base_uri": "https://localhost:8080/"
        }
      },
      "outputs": [
        {
          "output_type": "execute_result",
          "data": {
            "text/plain": [
              "0.7959448838423586"
            ]
          },
          "metadata": {},
          "execution_count": 51
        }
      ],
      "source": [
        "metrics.box.map50"
      ]
    },
    {
      "cell_type": "code",
      "execution_count": null,
      "metadata": {
        "id": "ZN0NsU2kwsYW",
        "outputId": "4538ce7c-6a72-4f5d-8df4-2c2ebbce9d98",
        "colab": {
          "base_uri": "https://localhost:8080/"
        }
      },
      "outputs": [
        {
          "output_type": "execute_result",
          "data": {
            "text/plain": [
              "0.6344750815520492"
            ]
          },
          "metadata": {},
          "execution_count": 52
        }
      ],
      "source": [
        "metrics.box.map75"
      ]
    },
    {
      "cell_type": "code",
      "execution_count": null,
      "metadata": {
        "id": "xaONZry0wx04",
        "outputId": "29afbae9-a9db-436c-c095-7bf849f25750",
        "colab": {
          "base_uri": "https://localhost:8080/"
        }
      },
      "outputs": [
        {
          "output_type": "execute_result",
          "data": {
            "text/plain": [
              "array([    0.72704,     0.21179,     0.78485,      0.4669,      0.6026,     0.86284,     0.66282,      0.4635,     0.73977,     0.82215,     0.79572,     0.87641,     0.58939,     0.62929,     0.75275,     0.41269,     0.76529,      0.5221,     0.21875,     0.48841,     0.55369,     0.52729,     0.40418,      0.5967,\n",
              "           0.25459,     0.53776,     0.34691,      0.7261,     0.60301,     0.57318,     0.80331,     0.50846])"
            ]
          },
          "metadata": {},
          "execution_count": 81
        }
      ],
      "source": [
        "metrics.box.maps"
      ]
    },
    {
      "cell_type": "markdown",
      "metadata": {
        "id": "jkbwnnv_n7Hp"
      },
      "source": [
        "#### Predict"
      ]
    },
    {
      "cell_type": "code",
      "execution_count": null,
      "metadata": {
        "id": "xKZ8DDRumwwW",
        "outputId": "6344a431-35fd-4c3a-bfad-a78cc8b8c1fd",
        "colab": {
          "base_uri": "https://localhost:8080/"
        }
      },
      "outputs": [
        {
          "output_type": "stream",
          "name": "stdout",
          "text": [
            "\n",
            "\n",
            "WARNING ⚠️ inference results will accumulate in RAM unless `stream=True` is passed, causing potential out-of-memory\n",
            "errors for large sources or long-running streams and videos. See https://docs.ultralytics.com/modes/predict/ for help.\n",
            "\n",
            "Example:\n",
            "    results = model(source=..., stream=True)  # generator of Results objects\n",
            "    for r in results:\n",
            "        boxes = r.boxes  # Boxes object for bbox outputs\n",
            "        masks = r.masks  # Masks object for segment masks outputs\n",
            "        probs = r.probs  # Class probabilities for classification outputs\n",
            "\n",
            "image 1/1917 /content/drive/MyDrive/AyushVision/yolo/final/test/images/20240121_122425_jpg.rf.e08274d4c615f1963bf136b45aabe9db.jpg: 640x640 1 Oregano, 8.9ms\n",
            "image 2/1917 /content/drive/MyDrive/AyushVision/yolo/final/test/images/20240121_122449_jpg.rf.fe61632151d3b4e29d107c247be2bc8f.jpg: 640x640 2 Oreganos, 7.9ms\n",
            "image 3/1917 /content/drive/MyDrive/AyushVision/yolo/final/test/images/20240121_122644_jpg.rf.326fdb41a75fb2cab2de46908af14905.jpg: 640x640 1 Oregano, 8.1ms\n",
            "image 4/1917 /content/drive/MyDrive/AyushVision/yolo/final/test/images/20240121_123103_jpg.rf.76a6f92e864a0692851ee8de6c61fc18.jpg: 640x640 1 Oregano, 7.6ms\n",
            "image 5/1917 /content/drive/MyDrive/AyushVision/yolo/final/test/images/20240121_123130-0-_jpg.rf.0ae6cc43109f7903a7c367ad58887e8a.jpg: 640x640 1 Oregano, 7.9ms\n",
            "image 6/1917 /content/drive/MyDrive/AyushVision/yolo/final/test/images/20240121_123137_jpg.rf.dad985d07776ecf45e85f8ba1b019323.jpg: 640x640 2 Oreganos, 11.4ms\n",
            "image 7/1917 /content/drive/MyDrive/AyushVision/yolo/final/test/images/20240121_123140_jpg.rf.15ef6c84be3e9e5248272283c4df62a2.jpg: 640x640 2 Oreganos, 8.0ms\n",
            "image 8/1917 /content/drive/MyDrive/AyushVision/yolo/final/test/images/20240121_123146_jpg.rf.39c3376ca356375dc0de9fc1e592813e.jpg: 640x640 1 Oregano, 11.6ms\n",
            "image 9/1917 /content/drive/MyDrive/AyushVision/yolo/final/test/images/20240121_123210-1-_jpg.rf.bd7279b85002ecf714680a8f4b4c7691.jpg: 640x640 1 Oregano, 7.6ms\n",
            "image 10/1917 /content/drive/MyDrive/AyushVision/yolo/final/test/images/20240121_123213_jpg.rf.3472821c281a838aaf20bdd4fcb7fde9.jpg: 640x640 3 Oreganos, 7.6ms\n",
            "image 11/1917 /content/drive/MyDrive/AyushVision/yolo/final/test/images/20240121_123232-0-_jpg.rf.9cfccc460eb3b2f5c766e69e0b5f8da1.jpg: 640x640 2 Oreganos, 7.8ms\n",
            "image 12/1917 /content/drive/MyDrive/AyushVision/yolo/final/test/images/20240121_123240_jpg.rf.a6533cf1d72e5d4f0036dd971f06c4b3.jpg: 640x640 1 Oregano, 8.2ms\n",
            "image 13/1917 /content/drive/MyDrive/AyushVision/yolo/final/test/images/20240121_123243-1-_jpg.rf.08a1e00dd7355593082da24f42cb8c97.jpg: 640x640 2 Oreganos, 7.7ms\n",
            "image 14/1917 /content/drive/MyDrive/AyushVision/yolo/final/test/images/20240121_123254_jpg.rf.ae168351e1a05b672957e758793ae0e5.jpg: 640x640 1 Oregano, 7.8ms\n",
            "image 15/1917 /content/drive/MyDrive/AyushVision/yolo/final/test/images/20240121_123255-1-_jpg.rf.1ea0a7c795f42f472461720d790c5eae.jpg: 640x640 1 Oregano, 7.7ms\n",
            "image 16/1917 /content/drive/MyDrive/AyushVision/yolo/final/test/images/20240121_124015-0-_jpg.rf.54a289a3ee112afcb993cdb6769e4935.jpg: 640x640 1 Oregano, 8.1ms\n",
            "image 17/1917 /content/drive/MyDrive/AyushVision/yolo/final/test/images/20240121_124015_jpg.rf.70824d1bd00214a6011727b6465ad9a8.jpg: 640x640 1 Oregano, 7.6ms\n",
            "image 18/1917 /content/drive/MyDrive/AyushVision/yolo/final/test/images/20240121_124019-0-_jpg.rf.a9f99d5fc522ecfde924f01f0e799642.jpg: 640x640 2 Oreganos, 8.1ms\n",
            "image 19/1917 /content/drive/MyDrive/AyushVision/yolo/final/test/images/20240121_124019_jpg.rf.b197325d730149031bad9cf3cf41edaa.jpg: 640x640 2 Oreganos, 7.6ms\n",
            "image 20/1917 /content/drive/MyDrive/AyushVision/yolo/final/test/images/20240121_124108_jpg.rf.ce3c426e276a6bc18c6fb184e91bc8b9.jpg: 640x640 2 Oreganos, 12.1ms\n",
            "image 21/1917 /content/drive/MyDrive/AyushVision/yolo/final/test/images/20240121_124113-1-_jpg.rf.c907be3a43674196568ccdc78a61e774.jpg: 640x640 1 Oregano, 10.6ms\n",
            "image 22/1917 /content/drive/MyDrive/AyushVision/yolo/final/test/images/20240121_124146_jpg.rf.4613f7faf4e545d815ba0ade524eb5d1.jpg: 640x640 1 Oregano, 10.0ms\n",
            "image 23/1917 /content/drive/MyDrive/AyushVision/yolo/final/test/images/IMG-20231225-WA0178_jpg.rf.aa709efef1f9638e3a2fd2dd82607ab2.jpg: 640x640 1 Holybasil, 9.1ms\n",
            "image 24/1917 /content/drive/MyDrive/AyushVision/yolo/final/test/images/IMG-20231225-WA0181_jpg.rf.6855b034edf680812068f30e34b37b55.jpg: 640x640 1 Holybasil, 8.0ms\n",
            "image 25/1917 /content/drive/MyDrive/AyushVision/yolo/final/test/images/IMG-20231225-WA0192_jpg.rf.a1f0a419ff0f7676d00a5624ad8ff02c.jpg: 640x640 1 Holybasil, 11.3ms\n",
            "image 26/1917 /content/drive/MyDrive/AyushVision/yolo/final/test/images/IMG-20231225-WA0196_jpg.rf.c89072e5ffcc98601a0fcd0dd3893b22.jpg: 640x640 1 Holybasil, 8.7ms\n",
            "image 27/1917 /content/drive/MyDrive/AyushVision/yolo/final/test/images/IMG-20231225-WA0225_jpg.rf.02df9d8231b2d34bd6fd39ad49ac0396.jpg: 640x640 1 Holybasil, 8.4ms\n",
            "image 28/1917 /content/drive/MyDrive/AyushVision/yolo/final/test/images/IMG-20231225-WA0245_jpg.rf.cf4ea88e663070ab5c4a86f23298acb4.jpg: 640x640 1 Holybasil, 1 Acalyphaindica, 9.5ms\n",
            "image 29/1917 /content/drive/MyDrive/AyushVision/yolo/final/test/images/IMG-20231225-WA0256_jpg.rf.9a1f61d67860347f1d54d36be79973d3.jpg: 640x640 2 Holybasils, 10.2ms\n",
            "image 30/1917 /content/drive/MyDrive/AyushVision/yolo/final/test/images/IMG-20231225-WA0260_jpg.rf.aced4fd6d70bb75ab6520db880694426.jpg: 640x640 1 Holybasil, 9.1ms\n",
            "image 31/1917 /content/drive/MyDrive/AyushVision/yolo/final/test/images/IMG-20231225-WA0267_jpg.rf.7b49f69f74b27e3a6dbed464ea16f7ed.jpg: 640x640 1 Holybasil, 10.0ms\n",
            "image 32/1917 /content/drive/MyDrive/AyushVision/yolo/final/test/images/IMG-20231227-WA0043_jpg.rf.d11c5ba7c18177415f39daa9b671bb70.jpg: 640x640 1 Alovera, 7.5ms\n",
            "image 33/1917 /content/drive/MyDrive/AyushVision/yolo/final/test/images/IMG-20231227-WA0066_jpg.rf.a8fcb04fa02d6486e668fe74049ba8f1.jpg: 640x640 2 Aloveras, 7.5ms\n",
            "image 34/1917 /content/drive/MyDrive/AyushVision/yolo/final/test/images/IMG-20231227-WA0081_jpg.rf.6fe336edd85f4b1e5540aab4c25587a8.jpg: 640x640 1 Alovera, 9.7ms\n",
            "image 35/1917 /content/drive/MyDrive/AyushVision/yolo/final/test/images/IMG-20231227-WA0083_jpg.rf.de16e3317d0fdbad2f942c1b9530edf6.jpg: 640x640 1 Alovera, 9.6ms\n",
            "image 36/1917 /content/drive/MyDrive/AyushVision/yolo/final/test/images/IMG-20231227-WA0094_jpg.rf.a07c0ca5d6cec7cbe827aad9f57bd205.jpg: 640x640 1 Alovera, 9.5ms\n",
            "image 37/1917 /content/drive/MyDrive/AyushVision/yolo/final/test/images/IMG-20231227-WA0113_jpg.rf.3c7f50aef2f3c2201e770c57d5a7dd68.jpg: 640x640 1 Alovera, 9.1ms\n",
            "image 38/1917 /content/drive/MyDrive/AyushVision/yolo/final/test/images/IMG-20231227-WA0114_jpg.rf.70296b90486451d92cad1b0e1e94e053.jpg: 640x640 1 Alovera, 9.4ms\n",
            "image 39/1917 /content/drive/MyDrive/AyushVision/yolo/final/test/images/IMG-20240121-WA0332_jpg.rf.26ff0b976da58aadc0e4913bd66b117b.jpg: 640x640 1 Oregano, 9.5ms\n",
            "image 40/1917 /content/drive/MyDrive/AyushVision/yolo/final/test/images/IMG-20240121-WA0338_jpg.rf.fa696727571e701ce61a1f385afcfe96.jpg: 640x640 (no detections), 7.5ms\n",
            "image 41/1917 /content/drive/MyDrive/AyushVision/yolo/final/test/images/IMG-20240121-WA0342_jpg.rf.1b01bc13bed9283d6d0728db9ad4799d.jpg: 640x640 1 Oregano, 7.5ms\n",
            "image 42/1917 /content/drive/MyDrive/AyushVision/yolo/final/test/images/IMG-20240121-WA0350_jpg.rf.9d08cddb459ebe3cae6af09b964d12cc.jpg: 640x640 1 Oregano, 7.6ms\n",
            "image 43/1917 /content/drive/MyDrive/AyushVision/yolo/final/test/images/IMG-20240121-WA0363_jpg.rf.90763d5ee9eacb5223edded0c843c6f1.jpg: 640x640 2 Oreganos, 7.9ms\n",
            "image 44/1917 /content/drive/MyDrive/AyushVision/yolo/final/test/images/IMG-20240121-WA0379_jpg.rf.693e77abeecb40dd1006f8342f755237.jpg: 640x640 1 Oregano, 8.1ms\n",
            "image 45/1917 /content/drive/MyDrive/AyushVision/yolo/final/test/images/IMG-20240507-WA0074_jpg.rf.1fc8888ed07bdd41f288b517b9d71d9c.jpg: 640x640 1 Mountain_Knotgrass, 7.7ms\n",
            "image 46/1917 /content/drive/MyDrive/AyushVision/yolo/final/test/images/IMG-20240507-WA0151_jpg.rf.cfcd2b6eb81264d258faa49ca04baf53.jpg: 640x640 1 lime, 7.5ms\n",
            "image 47/1917 /content/drive/MyDrive/AyushVision/yolo/final/test/images/IMG-20240507-WA0212_jpg.rf.28f37aaf7e99628fd35574659d424fa3.jpg: 640x640 1 Mountain_Knotgrass, 7.5ms\n",
            "image 48/1917 /content/drive/MyDrive/AyushVision/yolo/final/test/images/IMG-20240507-WA0216_jpg.rf.c52527d92f298b60c031353f0271523b.jpg: 640x640 1 Mountain_Knotgrass, 7.6ms\n",
            "image 49/1917 /content/drive/MyDrive/AyushVision/yolo/final/test/images/IMG-20240507-WA0218_jpg.rf.dec25324a134d46dd91e16c71bf5ae04.jpg: 640x640 1 Mountain_Knotgrass, 7.5ms\n",
            "image 50/1917 /content/drive/MyDrive/AyushVision/yolo/final/test/images/IMG-20240507-WA0222_jpg.rf.772203045c657703f604d0557087cb89.jpg: 640x640 1 Mountain_Knotgrass, 7.5ms\n",
            "image 51/1917 /content/drive/MyDrive/AyushVision/yolo/final/test/images/IMG-20240507-WA0256_jpg.rf.a42397cd61e2ce4d1c41a14b1b3f67df.jpg: 640x640 1 Mountain_Knotgrass, 9.0ms\n",
            "image 52/1917 /content/drive/MyDrive/AyushVision/yolo/final/test/images/IMG-20240507-WA0264_jpg.rf.ed73ed7db6f64dd70a1e978a5705eb09.jpg: 640x640 1 Mountain_Knotgrass, 7.5ms\n",
            "image 53/1917 /content/drive/MyDrive/AyushVision/yolo/final/test/images/IMG-20240507-WA0268_jpg.rf.7c57eb126665168b4c7a561cf063f35f.jpg: 640x640 1 Mountain_Knotgrass, 7.5ms\n",
            "image 54/1917 /content/drive/MyDrive/AyushVision/yolo/final/test/images/IMG-20240507-WA0316_jpg.rf.fca387796f2ef92aec09cfce294a78e3.jpg: 640x640 1 Mountain_Knotgrass, 7.5ms\n",
            "image 55/1917 /content/drive/MyDrive/AyushVision/yolo/final/test/images/IMG-20240507-WA0387_jpg.rf.fceac21845f544ab7ca22184d77048c4.jpg: 640x640 1 Mountain_Knotgrass, 7.5ms\n",
            "image 56/1917 /content/drive/MyDrive/AyushVision/yolo/final/test/images/IMG-20240507-WA0414_jpg.rf.1316d22ab00dc7d8ab2f46fb4a7aadfe.jpg: 640x640 1 Mountain_Knotgrass, 7.5ms\n",
            "image 57/1917 /content/drive/MyDrive/AyushVision/yolo/final/test/images/IMG-20240626-WA0061_jpg.rf.e8125b33866308bc0b97db9822914f75.jpg: 640x640 1 Lemon_grass, 7.4ms\n",
            "image 58/1917 /content/drive/MyDrive/AyushVision/yolo/final/test/images/IMG20231224091907_jpg.rf.231b005d17417714d837092e76a20586.jpg: 640x640 1 Hibiscus, 8.7ms\n",
            "image 59/1917 /content/drive/MyDrive/AyushVision/yolo/final/test/images/IMG20231224102102_jpg.rf.ec11337ce98e22f22805f04755e7cde4.jpg: 640x640 1 Hibiscus, 1 Holybasil, 7.5ms\n",
            "image 60/1917 /content/drive/MyDrive/AyushVision/yolo/final/test/images/IMG20231224102113_jpg.rf.77f4f1b571af84701f0c5ce5a370d940.jpg: 640x640 1 Holybasil, 7.6ms\n",
            "image 61/1917 /content/drive/MyDrive/AyushVision/yolo/final/test/images/IMG20231224102446_jpg.rf.db90b6bf88fa3b2a75a1d71c6d1cdba9.jpg: 640x640 1 Oregano, 7.5ms\n",
            "image 62/1917 /content/drive/MyDrive/AyushVision/yolo/final/test/images/IMG20231224160320_jpg.rf.f22127f7409f502b87f01c92d92b3d50.jpg: 640x640 1 Acalyphaindica, 7.5ms\n",
            "image 63/1917 /content/drive/MyDrive/AyushVision/yolo/final/test/images/IMG20231224160401_jpg.rf.0d48084c91ceeeb7c9c0eb3f42a5a81a.jpg: 640x640 1 Acalyphaindica, 7.5ms\n",
            "image 64/1917 /content/drive/MyDrive/AyushVision/yolo/final/test/images/IMG20231224160448_jpg.rf.1c2f6f9ad4bb909095b0fd6fe33fe289.jpg: 640x640 1 Acalyphaindica, 7.5ms\n",
            "image 65/1917 /content/drive/MyDrive/AyushVision/yolo/final/test/images/IMG20231224160550_jpg.rf.1679dbec4cf3be37b5bd46f94fbd0e8a.jpg: 640x640 1 Acalyphaindica, 7.5ms\n",
            "image 66/1917 /content/drive/MyDrive/AyushVision/yolo/final/test/images/IMG20231224160649_jpg.rf.36d319a8b2da6747500539942d0fcb02.jpg: 640x640 1 Acalyphaindica, 7.5ms\n",
            "image 67/1917 /content/drive/MyDrive/AyushVision/yolo/final/test/images/IMG20231224160714_jpg.rf.8c0af072031692162d56143680a1700c.jpg: 640x640 1 Acalyphaindica, 7.5ms\n",
            "image 68/1917 /content/drive/MyDrive/AyushVision/yolo/final/test/images/IMG20231224161932_jpg.rf.5b66c81cbd05a80bf46ebab3f7251d9c.jpg: 640x640 1 Landrina, 9.1ms\n",
            "image 69/1917 /content/drive/MyDrive/AyushVision/yolo/final/test/images/IMG20231224161944_jpg.rf.a5d9333f31d7056930e3ac8bc5820e42.jpg: 640x640 1 Landrina, 7.5ms\n",
            "image 70/1917 /content/drive/MyDrive/AyushVision/yolo/final/test/images/IMG20231224161950_jpg.rf.5dd677360a718b62b635f96b62538495.jpg: 640x640 1 Landrina, 7.5ms\n",
            "image 71/1917 /content/drive/MyDrive/AyushVision/yolo/final/test/images/IMG20231224161956_jpg.rf.9e5d3acb98f87511534204e873712f2b.jpg: 640x640 1 Landrina, 7.5ms\n",
            "image 72/1917 /content/drive/MyDrive/AyushVision/yolo/final/test/images/IMG20231224162001_jpg.rf.f47409e03998e8eb785670ab6da2dad1.jpg: 640x640 1 Landrina, 7.5ms\n",
            "image 73/1917 /content/drive/MyDrive/AyushVision/yolo/final/test/images/IMG20231224163334_jpg.rf.4f7b5f4b8e930646ddcb1f8fdc4129f9.jpg: 640x640 1 Landrina, 7.6ms\n",
            "image 74/1917 /content/drive/MyDrive/AyushVision/yolo/final/test/images/IMG20231224163344_jpg.rf.8ca51823dc1c1a4f7752961c658fee8a.jpg: 640x640 1 Landrina, 7.5ms\n",
            "image 75/1917 /content/drive/MyDrive/AyushVision/yolo/final/test/images/IMG20231224163417_jpg.rf.46c229e7496aa1171ee8797037d8226b.jpg: 640x640 1 Landrina, 7.6ms\n",
            "image 76/1917 /content/drive/MyDrive/AyushVision/yolo/final/test/images/IMG20231224163741_jpg.rf.e76c5c2e4dfb3cf366385c9ec7e96483.jpg: 640x640 1 Landrina, 7.5ms\n",
            "image 77/1917 /content/drive/MyDrive/AyushVision/yolo/final/test/images/IMG20231224164306_jpg.rf.6042ac6a2ec675b1de0a70e06e6c54be.jpg: 640x640 1 Caster, 7.5ms\n",
            "image 78/1917 /content/drive/MyDrive/AyushVision/yolo/final/test/images/IMG20231224164601_jpg.rf.5506c91403ab91a2c37c5fb29a4cad09.jpg: 640x640 (no detections), 7.9ms\n",
            "image 79/1917 /content/drive/MyDrive/AyushVision/yolo/final/test/images/IMG20231224164606_jpg.rf.28f085b8b19ace4bdada76f8e621ce12.jpg: 640x640 (no detections), 7.4ms\n",
            "image 80/1917 /content/drive/MyDrive/AyushVision/yolo/final/test/images/IMG20231224172114_jpg.rf.1bd9789ec67be6b70aac36e6021eab89.jpg: 640x640 1 Acalyphaindica, 7.5ms\n",
            "image 81/1917 /content/drive/MyDrive/AyushVision/yolo/final/test/images/IMG20231224172203_jpg.rf.5234bbf08b45fe40d9307dbaaa9a8b72.jpg: 640x640 1 Acalyphaindica, 7.5ms\n",
            "image 82/1917 /content/drive/MyDrive/AyushVision/yolo/final/test/images/IMG20231224174358_jpg.rf.d12c53378b2f29d8a04042cdb70b00fd.jpg: 640x640 1 Pedaliummurex, 7.5ms\n",
            "image 83/1917 /content/drive/MyDrive/AyushVision/yolo/final/test/images/IMG20231224174446_jpg.rf.348e6ffb4cc17ad4d8a73e199489e771.jpg: 640x640 1 Pedaliummurex, 7.5ms\n",
            "image 84/1917 /content/drive/MyDrive/AyushVision/yolo/final/test/images/IMG20231224174809_jpg.rf.17a3a202740c02b6a077718fa1e07f97.jpg: 640x640 1 Pedaliummurex, 7.5ms\n",
            "image 85/1917 /content/drive/MyDrive/AyushVision/yolo/final/test/images/IMG20231224174834_jpg.rf.df14c1bc932ca0d7a3ddc1c97f09548b.jpg: 640x640 1 Pedaliummurex, 7.4ms\n",
            "image 86/1917 /content/drive/MyDrive/AyushVision/yolo/final/test/images/IMG20231224174929_jpg.rf.9f2fcb1005a5876d2fbe7db231072d59.jpg: 640x640 1 Pedaliummurex, 7.5ms\n",
            "image 87/1917 /content/drive/MyDrive/AyushVision/yolo/final/test/images/IMG20231224174950_jpg.rf.a83cd956cf0d73ac1a347888726b1339.jpg: 640x640 3 Pedaliummurexs, 7.5ms\n",
            "image 88/1917 /content/drive/MyDrive/AyushVision/yolo/final/test/images/IMG20231225170313_jpg.rf.3b5f888bf2817f6072dfb858a7076c47.jpg: 640x640 1 Alovera, 7.9ms\n",
            "image 89/1917 /content/drive/MyDrive/AyushVision/yolo/final/test/images/IMG20231225170559_jpg.rf.6bc0bf8d8ac838d264d277f0b55bd694.jpg: 640x640 1 Alovera, 7.5ms\n",
            "image 90/1917 /content/drive/MyDrive/AyushVision/yolo/final/test/images/IMG20231225170622_jpg.rf.1314af50bad6d4943321f7815d56c0a5.jpg: 640x640 1 Alovera, 7.5ms\n",
            "image 91/1917 /content/drive/MyDrive/AyushVision/yolo/final/test/images/IMG20231229162759_jpg.rf.179648040590b529ded057d0a4c5c7d8.jpg: 640x640 2 Landrinas, 8.3ms\n",
            "image 92/1917 /content/drive/MyDrive/AyushVision/yolo/final/test/images/IMG20231229163033_jpg.rf.81ebc33b6f9c2a59517b946941f7f667.jpg: 640x640 1 Pedaliummurex, 7.9ms\n",
            "image 93/1917 /content/drive/MyDrive/AyushVision/yolo/final/test/images/IMG20231229163100_jpg.rf.75cf4176de49e6f7025141caa8d815e2.jpg: 640x640 1 Landrina, 7.5ms\n",
            "image 94/1917 /content/drive/MyDrive/AyushVision/yolo/final/test/images/IMG20231229163102_jpg.rf.a385d60d1788cc72c91b58c0c2fcc698.jpg: 640x640 1 Acalyphaindica, 8.3ms\n",
            "image 95/1917 /content/drive/MyDrive/AyushVision/yolo/final/test/images/IMG20231229163110_jpg.rf.8ceb4982575489ce185dcdeea00f1772.jpg: 640x640 1 Landrina, 7.7ms\n",
            "image 96/1917 /content/drive/MyDrive/AyushVision/yolo/final/test/images/IMG20231229163405_jpg.rf.21028b1cc1531b06214c7acad39c55f1.jpg: 640x640 1 Betel, 7.5ms\n",
            "image 97/1917 /content/drive/MyDrive/AyushVision/yolo/final/test/images/IMG20231229163653_jpg.rf.85e2a87687046b4fc2f9ddfc9d8e2f6a.jpg: 640x640 1 Betel, 7.7ms\n",
            "image 98/1917 /content/drive/MyDrive/AyushVision/yolo/final/test/images/IMG20231229163842_jpg.rf.710c72f2ae25391224ad794f4927a908.jpg: 640x640 1 Betel, 7.7ms\n",
            "image 99/1917 /content/drive/MyDrive/AyushVision/yolo/final/test/images/IMG20231229163947_jpg.rf.4138f3875adc5f74291325e6ea5a193e.jpg: 640x640 1 Betel, 8.1ms\n",
            "image 100/1917 /content/drive/MyDrive/AyushVision/yolo/final/test/images/IMG20231229164016_jpg.rf.900bddacda98f2f31ab2efa658f43058.jpg: 640x640 1 Betel, 7.5ms\n",
            "image 101/1917 /content/drive/MyDrive/AyushVision/yolo/final/test/images/IMG20231229164027_jpg.rf.465cfac5cdf5fa630a417499a29ae26b.jpg: 640x640 1 Betel, 7.5ms\n",
            "image 102/1917 /content/drive/MyDrive/AyushVision/yolo/final/test/images/IMG20231229164130_jpg.rf.a677f6c1f93c039b18356bec1f15fb72.jpg: 640x640 1 Betel, 7.5ms\n",
            "image 103/1917 /content/drive/MyDrive/AyushVision/yolo/final/test/images/IMG20231229164205_jpg.rf.09fb878ce4ad343f0120ddf47119ad7f.jpg: 640x640 1 Betel, 8.5ms\n",
            "image 104/1917 /content/drive/MyDrive/AyushVision/yolo/final/test/images/IMG20231229164259_jpg.rf.ebd901e06c987f2534f1f299522aed35.jpg: 640x640 1 Betel, 7.8ms\n",
            "image 105/1917 /content/drive/MyDrive/AyushVision/yolo/final/test/images/IMG20231229164330_jpg.rf.325fea6106029663755836f1515613f2.jpg: 640x640 1 Betel, 7.5ms\n",
            "image 106/1917 /content/drive/MyDrive/AyushVision/yolo/final/test/images/IMG20231229164451_jpg.rf.bd5f40c6985d015f1273fb6edfafa16b.jpg: 640x640 1 Betel, 7.5ms\n",
            "image 107/1917 /content/drive/MyDrive/AyushVision/yolo/final/test/images/IMG20231229164501_jpg.rf.9e8d56a3e9e8c691df3d188a18cec3a1.jpg: 640x640 1 Betel, 7.5ms\n",
            "image 108/1917 /content/drive/MyDrive/AyushVision/yolo/final/test/images/IMG20231229164529_jpg.rf.6f2ebee377f5b776727fbebe7ee08925.jpg: 640x640 1 Betel, 7.5ms\n",
            "image 109/1917 /content/drive/MyDrive/AyushVision/yolo/final/test/images/IMG20231229164545_jpg.rf.5fecd842b3b0d66e019040a22b72e617.jpg: 640x640 1 Betel, 8.6ms\n",
            "image 110/1917 /content/drive/MyDrive/AyushVision/yolo/final/test/images/IMG20231229164608_jpg.rf.21d87a87444a8fc02dd8c38959d2505d.jpg: 640x640 1 Betel, 7.5ms\n",
            "image 111/1917 /content/drive/MyDrive/AyushVision/yolo/final/test/images/IMG20231229164632_jpg.rf.9fa07caccdd39c8ba38fb19453503455.jpg: 640x640 1 Betel, 7.5ms\n",
            "image 112/1917 /content/drive/MyDrive/AyushVision/yolo/final/test/images/IMG20231229164846_jpg.rf.3b41ed3401979ded5999ffc46cba4c5a.jpg: 640x640 1 Betel, 7.5ms\n",
            "image 113/1917 /content/drive/MyDrive/AyushVision/yolo/final/test/images/IMG20231229164905_jpg.rf.1ff15012d658a677b8f166c46c7aa76c.jpg: 640x640 1 Betel, 7.5ms\n",
            "image 114/1917 /content/drive/MyDrive/AyushVision/yolo/final/test/images/IMG20231229164911_jpg.rf.83d4c96eb517bc6b8abe4fe39d88a92f.jpg: 640x640 1 Betel, 7.6ms\n",
            "image 115/1917 /content/drive/MyDrive/AyushVision/yolo/final/test/images/IMG20231229165020_jpg.rf.3d25d62b4b47b5ef5b694816828d504b.jpg: 640x640 1 Betel, 7.9ms\n",
            "image 116/1917 /content/drive/MyDrive/AyushVision/yolo/final/test/images/IMG20231229165207_jpg.rf.ecab1d6dbf56315c32aca793cf87f5c6.jpg: 640x640 1 Betel, 7.7ms\n",
            "image 117/1917 /content/drive/MyDrive/AyushVision/yolo/final/test/images/IMG20231229165222_jpg.rf.9123b2d7807bfea78b1ac0608eb8bd6f.jpg: 640x640 1 Betel, 8.0ms\n",
            "image 118/1917 /content/drive/MyDrive/AyushVision/yolo/final/test/images/IMG20231229165309_jpg.rf.f1c4cb079857127ae89b54ca241897b9.jpg: 640x640 1 Betel, 7.9ms\n",
            "image 119/1917 /content/drive/MyDrive/AyushVision/yolo/final/test/images/IMG20231229165317_jpg.rf.99aa50e5839ddc02d8f61f7319a4b6ee.jpg: 640x640 1 Betel, 8.0ms\n",
            "image 120/1917 /content/drive/MyDrive/AyushVision/yolo/final/test/images/IMG20231229165329_jpg.rf.bf7399a56c95417439e622edfdab4c80.jpg: 640x640 1 Betel, 7.6ms\n",
            "image 121/1917 /content/drive/MyDrive/AyushVision/yolo/final/test/images/IMG20231229165539_jpg.rf.9ab547084a6db770aae1fc0e8e7a3d30.jpg: 640x640 1 Betel, 8.2ms\n",
            "image 122/1917 /content/drive/MyDrive/AyushVision/yolo/final/test/images/IMG20231229165543_jpg.rf.8492018ccee7671389a27946fed7c041.jpg: 640x640 1 Betel, 7.5ms\n",
            "image 123/1917 /content/drive/MyDrive/AyushVision/yolo/final/test/images/IMG20231229165621_jpg.rf.29649f8872fc1760d878f98bf0a7a073.jpg: 640x640 1 Betel, 7.5ms\n",
            "image 124/1917 /content/drive/MyDrive/AyushVision/yolo/final/test/images/IMG20231229165629_jpg.rf.ab953e96d500e1695c42590d1209dc59.jpg: 640x640 1 Betel, 7.6ms\n",
            "image 125/1917 /content/drive/MyDrive/AyushVision/yolo/final/test/images/IMG20231229165659_jpg.rf.7f815fb141555064b1b70d991942bc19.jpg: 640x640 1 Betel, 7.6ms\n",
            "image 126/1917 /content/drive/MyDrive/AyushVision/yolo/final/test/images/IMG20231229165730_jpg.rf.e7b4f4e034a4b54c99f30a2f5f70a3ba.jpg: 640x640 1 Betel, 7.7ms\n",
            "image 127/1917 /content/drive/MyDrive/AyushVision/yolo/final/test/images/IMG20231229165758_jpg.rf.d2f5ef6909638a38821f3987eda2e493.jpg: 640x640 1 Betel, 7.5ms\n",
            "image 128/1917 /content/drive/MyDrive/AyushVision/yolo/final/test/images/IMG20231229165931_jpg.rf.8158b8cde6df8bb536710c68d76ccef7.jpg: 640x640 1 Ginger, 8.3ms\n",
            "image 129/1917 /content/drive/MyDrive/AyushVision/yolo/final/test/images/IMG20231229165933_jpg.rf.76a214d57c74ec425d3d41469adfb045.jpg: 640x640 1 Ginger, 7.9ms\n",
            "image 130/1917 /content/drive/MyDrive/AyushVision/yolo/final/test/images/IMG20231229165937_jpg.rf.ad83eba1804f12180cd02b2f7fa44daf.jpg: 640x640 1 Ginger, 7.7ms\n",
            "image 131/1917 /content/drive/MyDrive/AyushVision/yolo/final/test/images/IMG20231229170029_jpg.rf.e9018bc6b037d5374995e1c661d8d5ed.jpg: 640x640 1 Ginger, 10.1ms\n",
            "image 132/1917 /content/drive/MyDrive/AyushVision/yolo/final/test/images/IMG20231229170250_jpg.rf.194e398d0fc3b27ccb5da5072d468369.jpg: 640x640 1 Ginger, 10.6ms\n",
            "image 133/1917 /content/drive/MyDrive/AyushVision/yolo/final/test/images/IMG20231229170300_01_jpg.rf.e6dab1a85821b5a32560182fbacb74d5.jpg: 640x640 1 Ginger, 9.0ms\n",
            "image 134/1917 /content/drive/MyDrive/AyushVision/yolo/final/test/images/IMG20231229170327_jpg.rf.1c4e76b86684971ad5df815cefdb64ef.jpg: 640x640 1 Ginger, 7.8ms\n",
            "image 135/1917 /content/drive/MyDrive/AyushVision/yolo/final/test/images/IMG20231229170329_jpg.rf.8b965026c9dfedd651ded2c0e533f82d.jpg: 640x640 1 Ginger, 8.0ms\n",
            "image 136/1917 /content/drive/MyDrive/AyushVision/yolo/final/test/images/IMG20231229170344_jpg.rf.2d76352be57fccf9b46fc7dd9bb3adf6.jpg: 640x640 2 Gingers, 8.5ms\n",
            "image 137/1917 /content/drive/MyDrive/AyushVision/yolo/final/test/images/IMG20231230125007_jpg.rf.b8a7bd29f92ed27668a70593d2ff22f9.jpg: 640x640 1 Alovera, 10.6ms\n",
            "image 138/1917 /content/drive/MyDrive/AyushVision/yolo/final/test/images/IMG20231230125235_jpg.rf.eeebab40c57e8060e9d15baec51f6a5d.jpg: 640x640 2 Oreganos, 8.2ms\n",
            "image 139/1917 /content/drive/MyDrive/AyushVision/yolo/final/test/images/IMG20231230125307_jpg.rf.c8d4ca5fd1e7ede44792bb8160018c78.jpg: 640x640 1 Oregano, 8.7ms\n",
            "image 140/1917 /content/drive/MyDrive/AyushVision/yolo/final/test/images/IMG20240106100644_jpg.rf.4c404645823245c271caf7456b0b70b9.jpg: 640x640 1 Holybasil, 7.9ms\n",
            "image 141/1917 /content/drive/MyDrive/AyushVision/yolo/final/test/images/IMG20240106100928_jpg.rf.69a18afe892ec56fb4d455de1d329e65.jpg: 640x640 1 Holybasil, 8.3ms\n",
            "image 142/1917 /content/drive/MyDrive/AyushVision/yolo/final/test/images/IMG20240106101039_jpg.rf.0fee65d46f3561b8382395546cf0501a.jpg: 640x640 1 Holybasil, 7.7ms\n",
            "image 143/1917 /content/drive/MyDrive/AyushVision/yolo/final/test/images/IMG2024010610154490_jpg.rf.ab04855062904e69fc369915d8a4f322.jpg: 640x640 1 Tallperennial_grass, 8.0ms\n",
            "image 144/1917 /content/drive/MyDrive/AyushVision/yolo/final/test/images/IMG20240106101851_01_jpg.rf.476ae094feb898dfe3320cf86b59d12e.jpg: 640x640 1 Adamant_Creeper, 7.7ms\n",
            "image 145/1917 /content/drive/MyDrive/AyushVision/yolo/final/test/images/IMG20240106101904_03_jpg.rf.015a3c24c4bfe18ccf068849828b5319.jpg: 640x640 1 Adamant_Creeper, 8.1ms\n",
            "image 146/1917 /content/drive/MyDrive/AyushVision/yolo/final/test/images/IMG20240106101905_05_jpg.rf.f862f35156270efb0be2324e3ff1865b.jpg: 640x640 1 Adamant_Creeper, 7.5ms\n",
            "image 147/1917 /content/drive/MyDrive/AyushVision/yolo/final/test/images/IMG20240106101912_jpg.rf.45181d9e9a9e8d4ff4a23ef5e0f6ddf4.jpg: 640x640 1 Adamant_Creeper, 8.7ms\n",
            "image 148/1917 /content/drive/MyDrive/AyushVision/yolo/final/test/images/IMG20240106101933_jpg.rf.c96dbb297992188d399f55982d7d84ea.jpg: 640x640 1 Adamant_Creeper, 7.9ms\n",
            "image 149/1917 /content/drive/MyDrive/AyushVision/yolo/final/test/images/IMG20240106102028_01_jpg.rf.234ed6bbca9db04ea654fab4c3536267.jpg: 640x640 1 Adamant_Creeper, 7.5ms\n",
            "image 150/1917 /content/drive/MyDrive/AyushVision/yolo/final/test/images/IMG20240106102046_jpg.rf.200da8254ac75376a184eaf115007a59.jpg: 640x640 1 Adamant_Creeper, 7.5ms\n",
            "image 151/1917 /content/drive/MyDrive/AyushVision/yolo/final/test/images/IMG20240106102052_jpg.rf.71d5fd12a5ea713f8bb61d54686ab946.jpg: 640x640 1 Adamant_Creeper, 8.0ms\n",
            "image 152/1917 /content/drive/MyDrive/AyushVision/yolo/final/test/images/IMG20240106102106_04_jpg.rf.6c23e6b3a20938b935afdb970393315a.jpg: 640x640 1 Adamant_Creeper, 7.8ms\n",
            "image 153/1917 /content/drive/MyDrive/AyushVision/yolo/final/test/images/IMG20240106102121_03_jpg.rf.ed9395dc506cf1be619c221d1809df6e.jpg: 640x640 1 Adamant_Creeper, 8.2ms\n",
            "image 154/1917 /content/drive/MyDrive/AyushVision/yolo/final/test/images/IMG20240106102121_jpg.rf.b07e4d6c11831af3f12a0891837b427b.jpg: 640x640 1 Adamant_Creeper, 8.1ms\n",
            "image 155/1917 /content/drive/MyDrive/AyushVision/yolo/final/test/images/IMG20240106102130_03_jpg.rf.5f81a693b059b8c1b9978131cba3edf1.jpg: 640x640 1 Adamant_Creeper, 7.9ms\n",
            "image 156/1917 /content/drive/MyDrive/AyushVision/yolo/final/test/images/IMG20240106102139_01_jpg.rf.595fadd5a07e45565cd2c45fe716c672.jpg: 640x640 1 Adamant_Creeper, 7.6ms\n",
            "image 157/1917 /content/drive/MyDrive/AyushVision/yolo/final/test/images/IMG20240106102144_jpg.rf.614fe9a51c0fef57495505aefa1e0a4d.jpg: 640x640 1 Adamant_Creeper, 7.5ms\n",
            "image 158/1917 /content/drive/MyDrive/AyushVision/yolo/final/test/images/IMG20240106102145_01_jpg.rf.80554193f2a87f9d3bcb171de2533589.jpg: 640x640 1 Adamant_Creeper, 7.6ms\n",
            "image 159/1917 /content/drive/MyDrive/AyushVision/yolo/final/test/images/IMG20240106102347_jpg.rf.9bbce141db7139231fb42887d7702583.jpg: 640x640 1 Adamant_Creeper, 7.5ms\n",
            "image 160/1917 /content/drive/MyDrive/AyushVision/yolo/final/test/images/IMG20240106102403_jpg.rf.d3a4386a49fe8bd828e73af259ab5527.jpg: 640x640 1 Adamant_Creeper, 7.7ms\n",
            "image 161/1917 /content/drive/MyDrive/AyushVision/yolo/final/test/images/IMG20240106102412_jpg.rf.d4cee246cbc94001d25cd58ba97b0f70.jpg: 640x640 1 Adamant_Creeper, 7.8ms\n",
            "image 162/1917 /content/drive/MyDrive/AyushVision/yolo/final/test/images/IMG20240106102414_jpg.rf.26b42242bae253cc1d7579baf04cb54c.jpg: 640x640 2 Adamant_Creepers, 7.5ms\n",
            "image 163/1917 /content/drive/MyDrive/AyushVision/yolo/final/test/images/IMG20240106102454_jpg.rf.351c41a313b31315badb52dc758391d0.jpg: 640x640 1 Adamant_Creeper, 8.0ms\n",
            "image 164/1917 /content/drive/MyDrive/AyushVision/yolo/final/test/images/IMG20240106102503_jpg.rf.534c7c8f96d8d5541a04a0b4869330a7.jpg: 640x640 1 Adamant_Creeper, 8.0ms\n",
            "image 165/1917 /content/drive/MyDrive/AyushVision/yolo/final/test/images/IMG20240106102656_01_jpg.rf.3ccb151e0ccfcfb2eb9b06f593c19bc2.jpg: 640x640 1 Lemon_grass, 8.1ms\n",
            "image 166/1917 /content/drive/MyDrive/AyushVision/yolo/final/test/images/IMG20240106102728_jpg.rf.7f61dffc80e7a4917607db439e5073ad.jpg: 640x640 1 Tallperennial_grass, 7.7ms\n",
            "image 167/1917 /content/drive/MyDrive/AyushVision/yolo/final/test/images/IMG20240106103158_jpg.rf.924c235d9af8039919f45fa3d4a9c8eb.jpg: 640x640 1 Adamant_Creeper, 7.8ms\n",
            "image 168/1917 /content/drive/MyDrive/AyushVision/yolo/final/test/images/IMG20240106103239_jpg.rf.4ce3cb1c2070b53579451b5c39c477e6.jpg: 640x640 1 Adamant_Creeper, 7.6ms\n",
            "image 169/1917 /content/drive/MyDrive/AyushVision/yolo/final/test/images/IMG20240106131907_jpg.rf.7a51a4d0daacb645eee12e599a3ae55f.jpg: 640x640 1 Thornapple, 9.2ms\n",
            "image 170/1917 /content/drive/MyDrive/AyushVision/yolo/final/test/images/IMG20240106131914_01_jpg.rf.6f990b4b2285621f38b02578b922dce3.jpg: 640x640 1 Thornapple, 8.6ms\n",
            "image 171/1917 /content/drive/MyDrive/AyushVision/yolo/final/test/images/IMG20240106131931_02_jpg.rf.ba7eb0a0c1d7f33503673524eca5dee4.jpg: 640x640 1 Thornapple, 7.6ms\n",
            "image 172/1917 /content/drive/MyDrive/AyushVision/yolo/final/test/images/IMG20240106131931_jpg.rf.f70f825d0262f05f2a44e1470a6a01a6.jpg: 640x640 1 Thornapple, 9.9ms\n",
            "image 173/1917 /content/drive/MyDrive/AyushVision/yolo/final/test/images/IMG20240106131932_01_jpg.rf.a1f012f9b063c6a038f067aae675ab53.jpg: 640x640 1 Thornapple, 8.3ms\n",
            "image 174/1917 /content/drive/MyDrive/AyushVision/yolo/final/test/images/IMG20240106131943_07_jpg.rf.67fe1b225aace64cba404462b129f88a.jpg: 640x640 1 Thornapple, 7.9ms\n",
            "image 175/1917 /content/drive/MyDrive/AyushVision/yolo/final/test/images/IMG20240106131954_jpg.rf.4303632b5f7a07a2f071540de27b5d31.jpg: 640x640 1 Thornapple, 8.0ms\n",
            "image 176/1917 /content/drive/MyDrive/AyushVision/yolo/final/test/images/IMG20240106131955_jpg.rf.fa92e8923206376fd344b65941fc8557.jpg: 640x640 1 Thornapple, 7.5ms\n",
            "image 177/1917 /content/drive/MyDrive/AyushVision/yolo/final/test/images/IMG20240106132026_jpg.rf.75a06fcf55b5c981891db720300f86ac.jpg: 640x640 1 Thornapple, 7.5ms\n",
            "image 178/1917 /content/drive/MyDrive/AyushVision/yolo/final/test/images/IMG20240106132036_jpg.rf.2ccbd2aa18cdae0ed61bb6273f3c2acc.jpg: 640x640 1 Thornapple, 7.5ms\n",
            "image 179/1917 /content/drive/MyDrive/AyushVision/yolo/final/test/images/IMG20240106132253_jpg.rf.ce578365dedccbc40ac7d1c9f14d7666.jpg: 640x640 1 Wild_Turmeric, 10.1ms\n",
            "image 180/1917 /content/drive/MyDrive/AyushVision/yolo/final/test/images/IMG20240106132320_jpg.rf.63f1f36c7567fefa1d10ae967774e49e.jpg: 640x640 1 Wild_Turmeric, 12.2ms\n",
            "image 181/1917 /content/drive/MyDrive/AyushVision/yolo/final/test/images/IMG20240106132321_02_jpg.rf.91fa318cb3cc15f3d9b53f8b0a7a92f5.jpg: 640x640 1 Wild_Turmeric, 15.4ms\n",
            "image 182/1917 /content/drive/MyDrive/AyushVision/yolo/final/test/images/IMG20240106132422_jpg.rf.cea830cea94d1b19ce8bc6ed418255bc.jpg: 640x640 1 Wild_Turmeric, 13.8ms\n",
            "image 183/1917 /content/drive/MyDrive/AyushVision/yolo/final/test/images/IMG20240106132459_jpg.rf.de553eb936aad290577971d87e29a87a.jpg: 640x640 1 Wild_Turmeric, 13.6ms\n",
            "image 184/1917 /content/drive/MyDrive/AyushVision/yolo/final/test/images/IMG20240106132526_jpg.rf.0224e9b20b778e44f62094bc65f61449.jpg: 640x640 1 Wild_Turmeric, 8.1ms\n",
            "image 185/1917 /content/drive/MyDrive/AyushVision/yolo/final/test/images/IMG20240106132620_jpg.rf.c7a9162fbb1ceaaa8eb5e5c30b72a1bf.jpg: 640x640 1 Turmeric, 2 Wild_Turmerics, 8.2ms\n",
            "image 186/1917 /content/drive/MyDrive/AyushVision/yolo/final/test/images/IMG20240106132645_01_jpg.rf.e2cf5833c04a7b1c7cce38d9995c1020.jpg: 640x640 1 Wild_Turmeric, 7.6ms\n",
            "image 187/1917 /content/drive/MyDrive/AyushVision/yolo/final/test/images/IMG20240106132829_jpg.rf.5b6919010cea2b6a7300f504ebc4bf78.jpg: 640x640 1 Wild_Turmeric, 7.7ms\n",
            "image 188/1917 /content/drive/MyDrive/AyushVision/yolo/final/test/images/IMG20240106132912_jpg.rf.8cc8abc7743335669a0923078a7fb39d.jpg: 640x640 1 Wild_Turmeric, 7.5ms\n",
            "image 189/1917 /content/drive/MyDrive/AyushVision/yolo/final/test/images/IMG20240106133108_jpg.rf.22afdf629f66a62c579876de1edcac9e.jpg: 640x640 1 Adamant_Creeper, 7.8ms\n",
            "image 190/1917 /content/drive/MyDrive/AyushVision/yolo/final/test/images/IMG20240106133118_01_jpg.rf.999cd28c125be7940d72782961d09d30.jpg: 640x640 1 Adamant_Creeper, 8.3ms\n",
            "image 191/1917 /content/drive/MyDrive/AyushVision/yolo/final/test/images/IMG20240106133130_jpg.rf.3acb6b572434b880c8390b955fd97263.jpg: 640x640 1 Adamant_Creeper, 8.3ms\n",
            "image 192/1917 /content/drive/MyDrive/AyushVision/yolo/final/test/images/IMG20240106133140_03_jpg.rf.a202ce45542ac073c44bceb73f254159.jpg: 640x640 1 Adamant_Creeper, 9.3ms\n",
            "image 193/1917 /content/drive/MyDrive/AyushVision/yolo/final/test/images/IMG20240106133143_01_jpg.rf.0419bad4f9486ceb58c712837c81483c.jpg: 640x640 1 Adamant_Creeper, 9.6ms\n",
            "image 194/1917 /content/drive/MyDrive/AyushVision/yolo/final/test/images/IMG20240106133212_01_jpg.rf.f20dd5ea6739672f51b6603b263b26a3.jpg: 640x640 1 Adamant_Creeper, 9.1ms\n",
            "image 195/1917 /content/drive/MyDrive/AyushVision/yolo/final/test/images/IMG20240106133225_jpg.rf.77121576b824db135048d7017ff9fc8a.jpg: 640x640 1 Adamant_Creeper, 8.0ms\n",
            "image 196/1917 /content/drive/MyDrive/AyushVision/yolo/final/test/images/IMG20240106133226_jpg.rf.8a91d3927ed17fbd761910fba4f303c2.jpg: 640x640 1 Adamant_Creeper, 8.6ms\n",
            "image 197/1917 /content/drive/MyDrive/AyushVision/yolo/final/test/images/IMG20240106133228_jpg.rf.983080a42197bdeed596a11f04d66ff7.jpg: 640x640 1 Adamant_Creeper, 7.5ms\n",
            "image 198/1917 /content/drive/MyDrive/AyushVision/yolo/final/test/images/IMG20240106133309_jpg.rf.68958bbc163a078d463c9bb72e8c90c8.jpg: 640x640 1 Adamant_Creeper, 7.5ms\n",
            "image 199/1917 /content/drive/MyDrive/AyushVision/yolo/final/test/images/IMG20240106133711_jpg.rf.1d00e07b5caf54321b5b3e50771d9c69.jpg: 640x640 1 Wild_Turmeric, 7.5ms\n",
            "image 200/1917 /content/drive/MyDrive/AyushVision/yolo/final/test/images/IMG20240106134351_jpg.rf.91abfb9d835a50b2f8a908e781eef247.jpg: 640x640 1 Tallperennial_grass, 7.5ms\n",
            "image 201/1917 /content/drive/MyDrive/AyushVision/yolo/final/test/images/IMG20240106134521_02_jpg.rf.e63539f9e297cb46e1701d21f3c69353.jpg: 640x640 1 Lemon_grass, 7.5ms\n",
            "image 202/1917 /content/drive/MyDrive/AyushVision/yolo/final/test/images/IMG20240106134741_jpg.rf.f342e1d0fd69f52d220bb6230b9c0581.jpg: 640x640 1 Lemon_grass, 7.5ms\n",
            "image 203/1917 /content/drive/MyDrive/AyushVision/yolo/final/test/images/IMG20240106134750_01_jpg.rf.bee3f543fde39ec057c908dc9250593b.jpg: 640x640 1 Lemon_grass, 8.0ms\n",
            "image 204/1917 /content/drive/MyDrive/AyushVision/yolo/final/test/images/IMG20240106134801_jpg.rf.795a5b95ce422afcc55f4ed337fa0b18.jpg: 640x640 1 Lemon_grass, 7.8ms\n",
            "image 205/1917 /content/drive/MyDrive/AyushVision/yolo/final/test/images/IMG20240106134936_01_jpg.rf.de843a6fcca7464f68939442881d5c02.jpg: 640x640 1 Lemon_grass, 7.9ms\n",
            "image 206/1917 /content/drive/MyDrive/AyushVision/yolo/final/test/images/IMG20240106135011_jpg.rf.c3d14b1102bf30d36bd02af0f76486da.jpg: 640x640 1 Lemon_grass, 8.0ms\n",
            "image 207/1917 /content/drive/MyDrive/AyushVision/yolo/final/test/images/IMG20240106140140_jpg.rf.43770cbe99471d0b9a79a8016002fdbc.jpg: 640x640 1 Long_pepper, 8.4ms\n",
            "image 208/1917 /content/drive/MyDrive/AyushVision/yolo/final/test/images/IMG20240106140508_jpg.rf.c5f2d7ffa1f6be7929b3b40b253310ad.jpg: 640x640 1 Long_pepper, 8.5ms\n",
            "image 209/1917 /content/drive/MyDrive/AyushVision/yolo/final/test/images/IMG20240106140513_jpg.rf.79b9aff38e9d6f63e3af6a818b091d06.jpg: 640x640 1 Long_pepper, 8.6ms\n",
            "image 210/1917 /content/drive/MyDrive/AyushVision/yolo/final/test/images/IMG20240106142624_jpg.rf.4cab3b934c58b1bf3e89104901c48698.jpg: 640x640 2 Aloveras, 8.3ms\n",
            "image 211/1917 /content/drive/MyDrive/AyushVision/yolo/final/test/images/IMG20240106142754_jpg.rf.ada9ecabd4a7449d056a68e15cd9310a.jpg: 640x640 1 Holybasil, 7.5ms\n",
            "image 212/1917 /content/drive/MyDrive/AyushVision/yolo/final/test/images/IMG20240106142904_jpg.rf.cfcfccf46c65a56fe30b6594f2953fef.jpg: 640x640 1 Holybasil, 7.8ms\n",
            "image 213/1917 /content/drive/MyDrive/AyushVision/yolo/final/test/images/IMG20240106142909_jpg.rf.d435230c655680022c8fdc24d5a5a2e3.jpg: 640x640 1 Holybasil, 7.5ms\n",
            "image 214/1917 /content/drive/MyDrive/AyushVision/yolo/final/test/images/IMG20240106142920_01_jpg.rf.e2c69ee8d6bc2dc4233c2e1d2edcbf9e.jpg: 640x640 1 Holybasil, 7.5ms\n",
            "image 215/1917 /content/drive/MyDrive/AyushVision/yolo/final/test/images/IMG20240106142920_05_jpg.rf.147e3503e6d37f5425c3a0f138550148.jpg: 640x640 1 Holybasil, 7.7ms\n",
            "image 216/1917 /content/drive/MyDrive/AyushVision/yolo/final/test/images/IMG20240106143021_08_jpg.rf.4a820c3708dc6e0a72adf21a65e69ad0.jpg: 640x640 1 Holybasil, 7.8ms\n",
            "image 217/1917 /content/drive/MyDrive/AyushVision/yolo/final/test/images/IMG20240106143035_jpg.rf.4374e4da73dc57306edefd9e4bc533c4.jpg: 640x640 1 Holybasil, 7.5ms\n",
            "image 218/1917 /content/drive/MyDrive/AyushVision/yolo/final/test/images/IMG20240106143055_jpg.rf.2b20d6152e06592d6e96518b8783c779.jpg: 640x640 1 Holybasil, 7.7ms\n",
            "image 219/1917 /content/drive/MyDrive/AyushVision/yolo/final/test/images/IMG20240106143100_jpg.rf.ab0d73bdd3a51ff8ede57bc6ec9362cf.jpg: 640x640 1 Holybasil, 7.5ms\n",
            "image 220/1917 /content/drive/MyDrive/AyushVision/yolo/final/test/images/IMG20240106143110_02_jpg.rf.45442f33d620bc2694b7f3de589b1634.jpg: 640x640 1 Holybasil, 7.4ms\n",
            "image 221/1917 /content/drive/MyDrive/AyushVision/yolo/final/test/images/IMG20240106143117_02_jpg.rf.6ff42b4c6a184ead04a0d15f5d768c23.jpg: 640x640 1 Holybasil, 7.5ms\n",
            "image 222/1917 /content/drive/MyDrive/AyushVision/yolo/final/test/images/IMG20240117140933_jpg.rf.8f3a83cae6235144f748065da6a928f2.jpg: 640x640 1 Holybasil, 8.1ms\n",
            "image 223/1917 /content/drive/MyDrive/AyushVision/yolo/final/test/images/IMG20240117142242_01_jpg.rf.1e74021300d4c8c52d16843f33293fe0.jpg: 640x640 1 Adamant_Creeper, 1 Ringworm_plant, 7.5ms\n",
            "image 224/1917 /content/drive/MyDrive/AyushVision/yolo/final/test/images/IMG20240117142247_jpg.rf.94c677d548c363cab0e3c991b4ebdd51.jpg: 640x640 1 Ringworm_plant, 7.7ms\n",
            "image 225/1917 /content/drive/MyDrive/AyushVision/yolo/final/test/images/IMG20240117142256_jpg.rf.1fb9935bae4bbc1609d8772497448b43.jpg: 640x640 1 Vitexnegundo, 8.2ms\n",
            "image 226/1917 /content/drive/MyDrive/AyushVision/yolo/final/test/images/IMG20240117142301_02_jpg.rf.35d553d4ce3853cf9d00b6f7588cb751.jpg: 640x640 1 Ringworm_plant, 7.9ms\n",
            "image 227/1917 /content/drive/MyDrive/AyushVision/yolo/final/test/images/IMG20240117142753_jpg.rf.77259e9ebbba6335593f4e313e31b63e.jpg: 640x640 1 Alovera, 1 Caster, 7.7ms\n",
            "image 228/1917 /content/drive/MyDrive/AyushVision/yolo/final/test/images/IMG20240121122359_jpg.rf.7ce069b184946ecaf2c69c3204c9e6c8.jpg: 640x640 1 Mountain_Knotgrass, 7.7ms\n",
            "image 229/1917 /content/drive/MyDrive/AyushVision/yolo/final/test/images/IMG20240121122439_jpg.rf.ac163c4616ad5e487ff17086133ef5f4.jpg: 640x640 1 Mountain_Knotgrass, 7.6ms\n",
            "image 230/1917 /content/drive/MyDrive/AyushVision/yolo/final/test/images/IMG20240121122507_jpg.rf.53d4b19079a00aca66e998be66b4ea63.jpg: 640x640 1 Mountain_Knotgrass, 7.5ms\n",
            "image 231/1917 /content/drive/MyDrive/AyushVision/yolo/final/test/images/IMG20240121122618_jpg.rf.b73dfad553d0276eb79c140f2eb4bce0.jpg: 640x640 1 Mountain_Knotgrass, 7.7ms\n",
            "image 232/1917 /content/drive/MyDrive/AyushVision/yolo/final/test/images/IMG20240121122649_jpg.rf.f9fbdb0e54b178cb1b7e15a623ca9051.jpg: 640x640 1 Mountain_Knotgrass, 7.6ms\n",
            "image 233/1917 /content/drive/MyDrive/AyushVision/yolo/final/test/images/IMG20240121122820_jpg.rf.aa3396ece9cd33b4a20bd9c5402d2b3a.jpg: 640x640 1 Mountain_Knotgrass, 7.5ms\n",
            "image 234/1917 /content/drive/MyDrive/AyushVision/yolo/final/test/images/IMG20240121123030_jpg.rf.8d559d7acb43e916d5f716b8783cc030.jpg: 640x640 1 Mountain_Knotgrass, 7.5ms\n",
            "image 235/1917 /content/drive/MyDrive/AyushVision/yolo/final/test/images/IMG20240121123834_jpg.rf.80fe0826ca7088b026c5f00420625682.jpg: 640x640 (no detections), 7.5ms\n",
            "image 236/1917 /content/drive/MyDrive/AyushVision/yolo/final/test/images/IMG20240121123839_jpg.rf.f666214fa98b63470fd82e5ff5413356.jpg: 640x640 (no detections), 7.6ms\n",
            "image 237/1917 /content/drive/MyDrive/AyushVision/yolo/final/test/images/IMG20240121123942_jpg.rf.b245829f29e25f964569282dd86d669f.jpg: 640x640 1 Mountain_Knotgrass, 7.5ms\n",
            "image 238/1917 /content/drive/MyDrive/AyushVision/yolo/final/test/images/IMG20240121124300_jpg.rf.d75754eeae13859f307c55cfd8381988.jpg: 640x640 1 Mountain_Knotgrass, 7.4ms\n",
            "image 239/1917 /content/drive/MyDrive/AyushVision/yolo/final/test/images/IMG20240121124429_jpg.rf.f9032de90573afe261f530a8fcb0eb28.jpg: 640x640 1 Mountain_Knotgrass, 7.7ms\n",
            "image 240/1917 /content/drive/MyDrive/AyushVision/yolo/final/test/images/IMG20240121124624_jpg.rf.9a9d6370ba8cc9593f25abc5515d7a15.jpg: 640x640 1 Mountain_Knotgrass, 7.5ms\n",
            "image 241/1917 /content/drive/MyDrive/AyushVision/yolo/final/test/images/IMG20240121125638_jpg.rf.715cce64cb3e11e51c07eb34a639ff40.jpg: 640x640 1 Oregano, 7.6ms\n",
            "image 242/1917 /content/drive/MyDrive/AyushVision/yolo/final/test/images/IMG20240121125644_jpg.rf.0881d0572f5c872c604cce0d0c9decb5.jpg: 640x640 1 Oregano, 7.6ms\n",
            "image 243/1917 /content/drive/MyDrive/AyushVision/yolo/final/test/images/IMG20240121125649_jpg.rf.ae4ee9fd592a4447b69574d8242f1cd4.jpg: 640x640 1 Oregano, 7.8ms\n",
            "image 244/1917 /content/drive/MyDrive/AyushVision/yolo/final/test/images/IMG20240121125731_jpg.rf.64d39169f1cbfd2222a8ac8c8477593d.jpg: 640x640 1 Oregano, 7.5ms\n",
            "image 245/1917 /content/drive/MyDrive/AyushVision/yolo/final/test/images/IMG20240121125809_jpg.rf.1605e55392ddbb315851b983db49dc4f.jpg: 640x640 1 Oregano, 10.4ms\n",
            "image 246/1917 /content/drive/MyDrive/AyushVision/yolo/final/test/images/IMG20240121125847_jpg.rf.29a650388c2fb0baced0c7eb85d9a112.jpg: 640x640 1 Oregano, 7.9ms\n",
            "image 247/1917 /content/drive/MyDrive/AyushVision/yolo/final/test/images/IMG20240121125856_jpg.rf.dcc3af89cdaa30a7693fe766a9c2e65d.jpg: 640x640 1 Oregano, 7.5ms\n",
            "image 248/1917 /content/drive/MyDrive/AyushVision/yolo/final/test/images/IMG20240121125908_jpg.rf.8a3091c302cc6943be13fc4167bcad33.jpg: 640x640 1 Oregano, 9.5ms\n",
            "image 249/1917 /content/drive/MyDrive/AyushVision/yolo/final/test/images/IMG20240121125949_jpg.rf.abbfd1297dfdac3d1e855e669372188c.jpg: 640x640 1 Mountain_Knotgrass, 1 Oregano, 8.7ms\n",
            "image 250/1917 /content/drive/MyDrive/AyushVision/yolo/final/test/images/IMG20240121130246_jpg.rf.a6cb95366884038d151a4a8167f96c8f.jpg: 640x640 1 Oregano, 9.2ms\n",
            "image 251/1917 /content/drive/MyDrive/AyushVision/yolo/final/test/images/IMG20240121130317_jpg.rf.9cb4e9b4fbbac35be4b40d75b3ba6931.jpg: 640x640 1 Mountain_Knotgrass, 7.5ms\n",
            "image 252/1917 /content/drive/MyDrive/AyushVision/yolo/final/test/images/IMG20240121130355_jpg.rf.ef117c50b450009400d0747c95bc7425.jpg: 640x640 1 Neem, 7.5ms\n",
            "image 253/1917 /content/drive/MyDrive/AyushVision/yolo/final/test/images/IMG20240121130356_jpg.rf.846903a6bb60784082b43b5851883a50.jpg: 640x640 1 Neem, 7.5ms\n",
            "image 254/1917 /content/drive/MyDrive/AyushVision/yolo/final/test/images/IMG20240121130408_jpg.rf.df332a8690aea63fa6f027452c0e7405.jpg: 640x640 1 Mountain_Knotgrass, 7.5ms\n",
            "image 255/1917 /content/drive/MyDrive/AyushVision/yolo/final/test/images/IMG20240121130509_jpg.rf.92d40eb76a902ed135733907f2414955.jpg: 640x640 1 Mountain_Knotgrass, 7.6ms\n",
            "image 256/1917 /content/drive/MyDrive/AyushVision/yolo/final/test/images/IMG20240121130543_jpg.rf.a37864760efa801d20f33f477ee74b9d.jpg: 640x640 1 Mountain_Knotgrass, 7.6ms\n",
            "image 257/1917 /content/drive/MyDrive/AyushVision/yolo/final/test/images/IMG20240121130559_jpg.rf.799eb96c544dba3928fd778e1130e57e.jpg: 640x640 1 Mountain_Knotgrass, 7.5ms\n",
            "image 258/1917 /content/drive/MyDrive/AyushVision/yolo/final/test/images/IMG20240121130604_jpg.rf.ae1c2ca316c9ed29d5e59025e02eea0d.jpg: 640x640 1 Mountain_Knotgrass, 7.8ms\n",
            "image 259/1917 /content/drive/MyDrive/AyushVision/yolo/final/test/images/IMG20240121130752_jpg.rf.02ad10f11863f7afda77ac4023948935.jpg: 640x640 1 Mountain_Knotgrass, 7.5ms\n",
            "image 260/1917 /content/drive/MyDrive/AyushVision/yolo/final/test/images/IMG20240121130802_jpg.rf.63eae0e71d33538396d22591a2c91efe.jpg: 640x640 1 Mountain_Knotgrass, 7.9ms\n",
            "image 261/1917 /content/drive/MyDrive/AyushVision/yolo/final/test/images/IMG20240121130842_jpg.rf.373cb3ec4930986cd146c60eaf8bfdf3.jpg: 640x640 1 Mountain_Knotgrass, 7.7ms\n",
            "image 262/1917 /content/drive/MyDrive/AyushVision/yolo/final/test/images/IMG20240121130934_jpg.rf.80a5464e81709cc091fbaaf19a92a0c2.jpg: 640x640 1 Caster, 9.2ms\n",
            "image 263/1917 /content/drive/MyDrive/AyushVision/yolo/final/test/images/IMG20240121130944_jpg.rf.9a41d438631cca4f93d5586d614dae4c.jpg: 640x640 1 Caster, 7.8ms\n",
            "image 264/1917 /content/drive/MyDrive/AyushVision/yolo/final/test/images/IMG20240121131046_jpg.rf.136f6dd2f58df17916d22634a36a8c3b.jpg: 640x640 1 Caster, 7.5ms\n",
            "image 265/1917 /content/drive/MyDrive/AyushVision/yolo/final/test/images/IMG20240121131111_jpg.rf.8e80375c0ddc17a2aed83aa678397b09.jpg: 640x640 1 Mountain_Knotgrass, 7.5ms\n",
            "image 266/1917 /content/drive/MyDrive/AyushVision/yolo/final/test/images/IMG20240121131124_jpg.rf.fc11507755c9ced5dbf83cede6a3dfb0.jpg: 640x640 2 Mountain_Knotgrasss, 7.6ms\n",
            "image 267/1917 /content/drive/MyDrive/AyushVision/yolo/final/test/images/IMG20240121152328_jpg.rf.93545098916a3781e80875665b47cc7e.jpg: 640x640 1 Caster, 7.5ms\n",
            "image 268/1917 /content/drive/MyDrive/AyushVision/yolo/final/test/images/IMG20240121152417_jpg.rf.56cb71e9a4ae4abc10bde5b722bff71f.jpg: 640x640 1 Caster, 7.5ms\n",
            "image 269/1917 /content/drive/MyDrive/AyushVision/yolo/final/test/images/IMG20240121152420_jpg.rf.8c0ba84a2594ef4cf4261b952da32e6c.jpg: 640x640 1 Neem, 7.5ms\n",
            "image 270/1917 /content/drive/MyDrive/AyushVision/yolo/final/test/images/IMG20240121153619_jpg.rf.19657fb138f97c29a138e4c5eb9a9386.jpg: 640x640 1 Caster, 7.5ms\n",
            "image 271/1917 /content/drive/MyDrive/AyushVision/yolo/final/test/images/IMG20240121153650_jpg.rf.53bca5ea5081a9859cecf5a5c103c581.jpg: 640x640 1 Caster, 7.5ms\n",
            "image 272/1917 /content/drive/MyDrive/AyushVision/yolo/final/test/images/IMG20240121153746_jpg.rf.44ce0c717cebfe0378aa359bb7759734.jpg: 640x640 1 Caster, 7.5ms\n",
            "image 273/1917 /content/drive/MyDrive/AyushVision/yolo/final/test/images/IMG20240121153818_jpg.rf.1e9e1b2bae2a94c14933e24e1b794871.jpg: 640x640 1 Caster, 7.5ms\n",
            "image 274/1917 /content/drive/MyDrive/AyushVision/yolo/final/test/images/IMG20240121153821_jpg.rf.d9b24aa68d88aba6b7e685da554d23e9.jpg: 640x640 1 Caster, 7.5ms\n",
            "image 275/1917 /content/drive/MyDrive/AyushVision/yolo/final/test/images/IMG20240122131826_jpg.rf.ced2ee17ac7be35148714f9b5dbfa407.jpg: 640x640 (no detections), 7.6ms\n",
            "image 276/1917 /content/drive/MyDrive/AyushVision/yolo/final/test/images/IMG20240122131831_jpg.rf.7e51da206ad217211aa83271c32ba571.jpg: 640x640 1 Sleepy_plant, 7.5ms\n",
            "image 277/1917 /content/drive/MyDrive/AyushVision/yolo/final/test/images/IMG20240122131855_jpg.rf.31c8ceb60dcb6683bdd0126e0cd67f0d.jpg: 640x640 1 Sleepy_plant, 7.5ms\n",
            "image 278/1917 /content/drive/MyDrive/AyushVision/yolo/final/test/images/IMG20240122131902_jpg.rf.47a61bee5d60e51e18ea8d8b5d37b367.jpg: 640x640 1 Sleepy_plant, 7.5ms\n",
            "image 279/1917 /content/drive/MyDrive/AyushVision/yolo/final/test/images/IMG20240208102828_jpg.rf.0bea56ff45fb9e77930596df7572aded.jpg: 640x640 1 Hibiscus, 2 Aloveras, 7.5ms\n",
            "image 280/1917 /content/drive/MyDrive/AyushVision/yolo/final/test/images/IMG20240208171544_jpg.rf.c24a776b5c0998c0049c4fe1780bb47f.jpg: 640x640 2 Aloveras, 8.5ms\n",
            "image 281/1917 /content/drive/MyDrive/AyushVision/yolo/final/test/images/IMG20240208172405_jpg.rf.8c49bae6134e0ff216d85d80e91c25fc.jpg: 640x640 2 Seedsunder_leafs, 8.6ms\n",
            "image 282/1917 /content/drive/MyDrive/AyushVision/yolo/final/test/images/IMG20240208172413_jpg.rf.12dd2749798dbdb28e4d5b52bf27625c.jpg: 640x640 (no detections), 7.6ms\n",
            "image 283/1917 /content/drive/MyDrive/AyushVision/yolo/final/test/images/IMG20240208172714_jpg.rf.d7f23299690024a988fad676504c639f.jpg: 640x640 1 Sleepy_plant, 8.0ms\n",
            "image 284/1917 /content/drive/MyDrive/AyushVision/yolo/final/test/images/IMG20240208172824_jpg.rf.604da216df8085067645f08baf734e83.jpg: 640x640 1 Sleepy_plant, 7.7ms\n",
            "image 285/1917 /content/drive/MyDrive/AyushVision/yolo/final/test/images/IMG20240208172859_jpg.rf.8e546124126a9bb34f8a8355dd2dcf3a.jpg: 640x640 2 Sleepy_plants, 7.7ms\n",
            "image 286/1917 /content/drive/MyDrive/AyushVision/yolo/final/test/images/IMG20240208173240_jpg.rf.6f9726ec944506f33614e597ae400a4a.jpg: 640x640 1 Sleepy_plant, 7.5ms\n",
            "image 287/1917 /content/drive/MyDrive/AyushVision/yolo/final/test/images/IMG20240208174338_jpg.rf.36cefd4a344e1794cd800fa317f79477.jpg: 640x640 (no detections), 7.8ms\n",
            "image 288/1917 /content/drive/MyDrive/AyushVision/yolo/final/test/images/IMG20240209082545_jpg.rf.208963970bea958ca92841d3127e3d80.jpg: 640x640 1 Henna, 7.5ms\n",
            "image 289/1917 /content/drive/MyDrive/AyushVision/yolo/final/test/images/IMG20240209082607_jpg.rf.fba64c967cead2d377b151cdb9556366.jpg: 640x640 1 Henna, 7.8ms\n",
            "image 290/1917 /content/drive/MyDrive/AyushVision/yolo/final/test/images/IMG20240209082614_jpg.rf.5cd93b0db2828be41bf4f9baafae6980.jpg: 640x640 1 Henna, 7.7ms\n",
            "image 291/1917 /content/drive/MyDrive/AyushVision/yolo/final/test/images/IMG20240209082632_jpg.rf.eaa2f4d2f9b026761f24bae474494462.jpg: 640x640 1 Henna, 7.5ms\n",
            "image 292/1917 /content/drive/MyDrive/AyushVision/yolo/final/test/images/IMG20240209082800_jpg.rf.bfaf48f0e7362f00e59997a16ce70d02.jpg: 640x640 1 Henna, 7.5ms\n",
            "image 293/1917 /content/drive/MyDrive/AyushVision/yolo/final/test/images/IMG20240209082819_jpg.rf.7946369cba8de5eda2c9b503b6398a13.jpg: 640x640 1 Henna, 7.5ms\n",
            "image 294/1917 /content/drive/MyDrive/AyushVision/yolo/final/test/images/IMG20240209082832_jpg.rf.d256919d3078a4cc9457b2df405661ff.jpg: 640x640 1 Henna, 7.4ms\n",
            "image 295/1917 /content/drive/MyDrive/AyushVision/yolo/final/test/images/IMG20240209082846_jpg.rf.3b2fe5a3a4bd25baabc076fb752f5651.jpg: 640x640 1 Henna, 1 Landrina, 7.9ms\n",
            "image 296/1917 /content/drive/MyDrive/AyushVision/yolo/final/test/images/IMG20240209082851_jpg.rf.3af825e53bc04386a0264884f3b8f903.jpg: 640x640 1 Henna, 7.5ms\n",
            "image 297/1917 /content/drive/MyDrive/AyushVision/yolo/final/test/images/IMG20240209082921_jpg.rf.1124b36542fd03c27420ef5c4f17add8.jpg: 640x640 1 Henna, 7.7ms\n",
            "image 298/1917 /content/drive/MyDrive/AyushVision/yolo/final/test/images/IMG20240209082933_jpg.rf.02bf72a1987c95b37c613c7db67d3d08.jpg: 640x640 1 Henna, 7.5ms\n",
            "image 299/1917 /content/drive/MyDrive/AyushVision/yolo/final/test/images/IMG20240209082942_jpg.rf.d0a888f2194148facbbc59f6fba3efb5.jpg: 640x640 1 Henna, 7.5ms\n",
            "image 300/1917 /content/drive/MyDrive/AyushVision/yolo/final/test/images/IMG20240209082950_jpg.rf.40ad0dbf0fe1045f54f8a2fc159cd8ad.jpg: 640x640 1 Henna, 7.6ms\n",
            "image 301/1917 /content/drive/MyDrive/AyushVision/yolo/final/test/images/IMG20240209083005_jpg.rf.4b67b7396262c72b855c7e27996a794d.jpg: 640x640 1 Henna, 7.7ms\n",
            "image 302/1917 /content/drive/MyDrive/AyushVision/yolo/final/test/images/IMG20240209083007_jpg.rf.cce1ab2e3569334d6ea621ff4047b369.jpg: 640x640 1 Henna, 7.8ms\n",
            "image 303/1917 /content/drive/MyDrive/AyushVision/yolo/final/test/images/IMG20240209083011_jpg.rf.75781eef9b8e149ea1fc7ea6b204def7.jpg: 640x640 1 Henna, 7.7ms\n",
            "image 304/1917 /content/drive/MyDrive/AyushVision/yolo/final/test/images/IMG20240209083050_jpg.rf.6487d4a19eb4a8f3aa538b569e2e01c7.jpg: 640x640 1 Henna, 7.5ms\n",
            "image 305/1917 /content/drive/MyDrive/AyushVision/yolo/final/test/images/IMG20240209083056_jpg.rf.fda66bb000ae6f25621c0cafc7efc335.jpg: 640x640 1 Henna, 8.1ms\n",
            "image 306/1917 /content/drive/MyDrive/AyushVision/yolo/final/test/images/IMG20240209083211_jpg.rf.64dee418d5615d6102d89b91207451b3.jpg: 640x640 1 Henna, 7.5ms\n",
            "image 307/1917 /content/drive/MyDrive/AyushVision/yolo/final/test/images/IMG20240209083223_jpg.rf.baa0ab487cdd2a9972df3ca409ce50cb.jpg: 640x640 1 Henna, 7.5ms\n",
            "image 308/1917 /content/drive/MyDrive/AyushVision/yolo/final/test/images/IMG20240209084050_jpg.rf.d509020efffd1c5bb77342942ec4fe0c.jpg: 640x640 1 Tallperennial_grass, 7.5ms\n",
            "image 309/1917 /content/drive/MyDrive/AyushVision/yolo/final/test/images/IMG20240209084123_jpg.rf.9829bc48cabf6519a768a2908198117f.jpg: 640x640 1 Tallperennial_grass, 7.5ms\n",
            "image 310/1917 /content/drive/MyDrive/AyushVision/yolo/final/test/images/IMG20240209084156_jpg.rf.04c7012f4dc26fba4fd8461c501c3416.jpg: 640x640 1 Tallperennial_grass, 7.5ms\n",
            "image 311/1917 /content/drive/MyDrive/AyushVision/yolo/final/test/images/IMG20240209084234_jpg.rf.5e4b9462323f07f4daa3b9394036ff33.jpg: 640x640 1 Tallperennial_grass, 7.5ms\n",
            "image 312/1917 /content/drive/MyDrive/AyushVision/yolo/final/test/images/IMG20240209084302_jpg.rf.044bef64e48e4d4c956bb18147a82032.jpg: 640x640 1 Tallperennial_grass, 7.5ms\n",
            "image 313/1917 /content/drive/MyDrive/AyushVision/yolo/final/test/images/IMG20240209084324_jpg.rf.56affa3357c3f1da94b7eda48d0f6922.jpg: 640x640 1 Tallperennial_grass, 7.5ms\n",
            "image 314/1917 /content/drive/MyDrive/AyushVision/yolo/final/test/images/IMG20240209084348_jpg.rf.d99e6b449415d14fa1a4b5432a4d8625.jpg: 640x640 1 Tallperennial_grass, 7.6ms\n",
            "image 315/1917 /content/drive/MyDrive/AyushVision/yolo/final/test/images/IMG20240209084350_jpg.rf.0d9ffbd0d27cc3d810e9b5b7d76f1fb4.jpg: 640x640 1 Tallperennial_grass, 7.5ms\n",
            "image 316/1917 /content/drive/MyDrive/AyushVision/yolo/final/test/images/IMG20240209084437_01_jpg.rf.50b75a33ad7f8b25c67de8ac625ed8a0.jpg: 640x640 1 Tallperennial_grass, 7.5ms\n",
            "image 317/1917 /content/drive/MyDrive/AyushVision/yolo/final/test/images/IMG20240209084607_jpg.rf.f00ce47482896e69316f106c7af15467.jpg: 640x640 1 Tallperennial_grass, 7.5ms\n",
            "image 318/1917 /content/drive/MyDrive/AyushVision/yolo/final/test/images/IMG20240209084619_jpg.rf.f6701a64a21127f291e390164d9f9db4.jpg: 640x640 1 Tallperennial_grass, 7.8ms\n",
            "image 319/1917 /content/drive/MyDrive/AyushVision/yolo/final/test/images/IMG20240209084624_jpg.rf.5542cab1ec05e9a765e15dd812022e90.jpg: 640x640 1 Lemon_grass, 1 Tallperennial_grass, 7.8ms\n",
            "image 320/1917 /content/drive/MyDrive/AyushVision/yolo/final/test/images/IMG20240209084625_jpg.rf.7c1e0b237c0a0e4dc67c6ec6c52dbbb9.jpg: 640x640 1 Tallperennial_grass, 9.3ms\n",
            "image 321/1917 /content/drive/MyDrive/AyushVision/yolo/final/test/images/IMG20240209084709_jpg.rf.1c521d30df2f948375eb3a0c33a5c51f.jpg: 640x640 1 Tallperennial_grass, 7.5ms\n",
            "image 322/1917 /content/drive/MyDrive/AyushVision/yolo/final/test/images/IMG20240209084739_jpg.rf.1bebcc925be98d5066cf561daf2e213c.jpg: 640x640 1 Tallperennial_grass, 10.9ms\n",
            "image 323/1917 /content/drive/MyDrive/AyushVision/yolo/final/test/images/IMG20240209084828_jpg.rf.db91f003993298a34e57be919a75b5c5.jpg: 640x640 1 Tallperennial_grass, 9.8ms\n",
            "image 324/1917 /content/drive/MyDrive/AyushVision/yolo/final/test/images/IMG20240209084830_jpg.rf.55c506f1315b76a208b7f72c3b9d63d7.jpg: 640x640 1 Tallperennial_grass, 7.7ms\n",
            "image 325/1917 /content/drive/MyDrive/AyushVision/yolo/final/test/images/IMG20240209084837_jpg.rf.fb162769882763271fe784338ec4bfc7.jpg: 640x640 1 Tallperennial_grass, 7.6ms\n",
            "image 326/1917 /content/drive/MyDrive/AyushVision/yolo/final/test/images/IMG20240209084844_jpg.rf.4a16fc2711cc419206fc1d251645b37f.jpg: 640x640 1 Tallperennial_grass, 8.1ms\n",
            "image 327/1917 /content/drive/MyDrive/AyushVision/yolo/final/test/images/IMG20240209085022_jpg.rf.5f4e047e9d23da04ed010bffd00d920f.jpg: 640x640 1 Tallperennial_grass, 7.5ms\n",
            "image 328/1917 /content/drive/MyDrive/AyushVision/yolo/final/test/images/IMG20240209091840_jpg.rf.53fca6101db950f92d5f461361d5212d.jpg: 640x640 1 lime, 7.5ms\n",
            "image 329/1917 /content/drive/MyDrive/AyushVision/yolo/final/test/images/IMG20240209092732_jpg.rf.6486052797799a423628d97a665eeac2.jpg: 640x640 1 Turmeric, 7.5ms\n",
            "image 330/1917 /content/drive/MyDrive/AyushVision/yolo/final/test/images/IMG20240209092829_jpg.rf.ea9cebc4b33846dac97180fbe36ac32c.jpg: 640x640 1 Turmeric, 7.6ms\n",
            "image 331/1917 /content/drive/MyDrive/AyushVision/yolo/final/test/images/IMG20240209092832_jpg.rf.c62a292c23878d1c61cea8835a8de11c.jpg: 640x640 3 Turmerics, 7.5ms\n",
            "image 332/1917 /content/drive/MyDrive/AyushVision/yolo/final/test/images/IMG20240209092847_jpg.rf.fe5c5d5c07d8db7dcb47f333abb0f3e1.jpg: 640x640 1 Turmeric, 7.5ms\n",
            "image 333/1917 /content/drive/MyDrive/AyushVision/yolo/final/test/images/IMG20240209092853_jpg.rf.92297d0e71f1b9f58e9371155b6d429a.jpg: 640x640 1 Turmeric, 7.7ms\n",
            "image 334/1917 /content/drive/MyDrive/AyushVision/yolo/final/test/images/IMG20240209092948_jpg.rf.5662a186f4d75d2e34e9947c174ed3cc.jpg: 640x640 1 Turmeric, 7.5ms\n",
            "image 335/1917 /content/drive/MyDrive/AyushVision/yolo/final/test/images/IMG20240209093411_jpg.rf.2d8b43a0920d4fc19ae74e7b860e50ed.jpg: 640x640 1 Sleepy_plant, 7.5ms\n",
            "image 336/1917 /content/drive/MyDrive/AyushVision/yolo/final/test/images/IMG2024020909444256_jpg.rf.63c35c1813a8b0fa7fc174d7bd132589.jpg: 640x640 2 Seedsunder_leafs, 7.5ms\n",
            "image 337/1917 /content/drive/MyDrive/AyushVision/yolo/final/test/images/IMG20240209094450_jpg.rf.238132761b9736edb6892287fab6ad76.jpg: 640x640 1 Seedsunder_leaf, 7.5ms\n",
            "image 338/1917 /content/drive/MyDrive/AyushVision/yolo/final/test/images/IMG20240209094630_jpg.rf.25a0e1ccabc411f7df52ba78da3a47fe.jpg: 640x640 (no detections), 8.8ms\n",
            "image 339/1917 /content/drive/MyDrive/AyushVision/yolo/final/test/images/IMG20240209171322_jpg.rf.07db84da462e387ec0893efadebab26f.jpg: 640x640 1 Cinnamon, 7.4ms\n",
            "image 340/1917 /content/drive/MyDrive/AyushVision/yolo/final/test/images/IMG20240209171414_jpg.rf.44fedee30e0034f68411d6768e0cfd20.jpg: 640x640 1 Cinnamon, 7.5ms\n",
            "image 341/1917 /content/drive/MyDrive/AyushVision/yolo/final/test/images/IMG20240209171436_jpg.rf.624ed847888b493f2f60d4182954be7e.jpg: 640x640 1 Cinnamon, 7.7ms\n",
            "image 342/1917 /content/drive/MyDrive/AyushVision/yolo/final/test/images/IMG20240209171439_jpg.rf.f4eff0cddb55542fab7fdeeab5b17c49.jpg: 640x640 1 Cinnamon, 7.5ms\n",
            "image 343/1917 /content/drive/MyDrive/AyushVision/yolo/final/test/images/IMG20240209171523_jpg.rf.99343d53ec63c36967913495b2f792ab.jpg: 640x640 1 Cinnamon, 7.6ms\n",
            "image 344/1917 /content/drive/MyDrive/AyushVision/yolo/final/test/images/IMG20240209173608_jpg.rf.1f71bbbfd6c839bbd9977620ddb0cc0f.jpg: 640x640 1 Ivy_gourd, 7.5ms\n",
            "image 345/1917 /content/drive/MyDrive/AyushVision/yolo/final/test/images/IMG20240209173645_jpg.rf.29cf5dade8853b2079fab2502e1b984e.jpg: 640x640 1 Ivy_gourd, 8.8ms\n",
            "image 346/1917 /content/drive/MyDrive/AyushVision/yolo/final/test/images/IMG20240209175618_jpg.rf.d2d70b2c2826e5230380b54ad6812b8a.jpg: 640x640 1 Ivy_gourd, 7.5ms\n",
            "image 347/1917 /content/drive/MyDrive/AyushVision/yolo/final/test/images/IMG20240209175622_jpg.rf.bbff6945820b20ba7d6ab15aae9bbb7d.jpg: 640x640 1 Ivy_gourd, 7.6ms\n",
            "image 348/1917 /content/drive/MyDrive/AyushVision/yolo/final/test/images/IMG20240209175624_jpg.rf.805b9fd87b0cfbe191074fd983e66e30.jpg: 640x640 1 Ivy_gourd, 7.5ms\n",
            "image 349/1917 /content/drive/MyDrive/AyushVision/yolo/final/test/images/IMG20240209175630_jpg.rf.e8aa6665fe6a6c134840ffe8eb8534a5.jpg: 640x640 1 Ivy_gourd, 7.4ms\n",
            "image 350/1917 /content/drive/MyDrive/AyushVision/yolo/final/test/images/IMG20240209175701_jpg.rf.c86f07ef9cc7babd47c7fa5207662cd1.jpg: 640x640 1 Ivy_gourd, 7.5ms\n",
            "image 351/1917 /content/drive/MyDrive/AyushVision/yolo/final/test/images/IMG20240209175752_jpg.rf.ffc16f152778850fd3e1e8c28a4e76df.jpg: 640x640 1 Ivy_gourd, 7.5ms\n",
            "image 352/1917 /content/drive/MyDrive/AyushVision/yolo/final/test/images/IMG20240209175754_jpg.rf.f8786c0d816329c951447dd411a2145d.jpg: 640x640 1 Ivy_gourd, 7.5ms\n",
            "image 353/1917 /content/drive/MyDrive/AyushVision/yolo/final/test/images/IMG20240209180215_jpg.rf.46973b69dec4ea75d45c15f155fe9dbb.jpg: 640x640 1 Redpea_egg_plant, 7.5ms\n",
            "image 354/1917 /content/drive/MyDrive/AyushVision/yolo/final/test/images/IMG20240209180335_jpg.rf.a7f37040109c63a2fb06b558842b3554.jpg: 640x640 1 Redpea_egg_plant, 7.5ms\n",
            "image 355/1917 /content/drive/MyDrive/AyushVision/yolo/final/test/images/IMG20240209180400_jpg.rf.2f1f68b88ce6cbf90ea6b5ec25e4dcdf.jpg: 640x640 2 Redpea_egg_plants, 7.5ms\n",
            "image 356/1917 /content/drive/MyDrive/AyushVision/yolo/final/test/images/IMG20240209180453_jpg.rf.12d9e7fc5a680bb5aae5560286169a17.jpg: 640x640 1 Redpea_egg_plant, 7.5ms\n",
            "image 357/1917 /content/drive/MyDrive/AyushVision/yolo/final/test/images/IMG20240209180502_jpg.rf.10e2777d5cac33e816cb3da0643888b0.jpg: 640x640 1 Redpea_egg_plant, 7.6ms\n",
            "image 358/1917 /content/drive/MyDrive/AyushVision/yolo/final/test/images/IMG20240209180602_jpg.rf.2da4af95260257ff6b58ca40803977eb.jpg: 640x640 1 Redpea_egg_plant, 7.5ms\n",
            "image 359/1917 /content/drive/MyDrive/AyushVision/yolo/final/test/images/IMG20240209180605_jpg.rf.c76bfe664f944e686ea8bde2696841d9.jpg: 640x640 1 Redpea_egg_plant, 7.6ms\n",
            "image 360/1917 /content/drive/MyDrive/AyushVision/yolo/final/test/images/IMG20240209180607_jpg.rf.02b6652600d859cb741bfe33a7925b25.jpg: 640x640 1 Redpea_egg_plant, 8.7ms\n",
            "image 361/1917 /content/drive/MyDrive/AyushVision/yolo/final/test/images/IMG20240209180630_jpg.rf.ed11574112327e7bf9d646ebf10ced31.jpg: 640x640 1 Redpea_egg_plant, 12.1ms\n",
            "image 362/1917 /content/drive/MyDrive/AyushVision/yolo/final/test/images/IMG20240209180834_jpg.rf.42eb64d28c485494b96e740f3dec2e51.jpg: 640x640 1 Redpea_egg_plant, 10.6ms\n",
            "image 363/1917 /content/drive/MyDrive/AyushVision/yolo/final/test/images/IMG20240209180837_jpg.rf.84ba5d852feb77075a41c84a0c8f7f05.jpg: 640x640 1 Redpea_egg_plant, 10.5ms\n",
            "image 364/1917 /content/drive/MyDrive/AyushVision/yolo/final/test/images/IMG20240209180859_jpg.rf.07606a382239710420441dce219fa376.jpg: 640x640 1 Redpea_egg_plant, 8.7ms\n",
            "image 365/1917 /content/drive/MyDrive/AyushVision/yolo/final/test/images/IMG20240209181053_jpg.rf.347807e22f9cac9a0a7285facaef4dc7.jpg: 640x640 1 Redpea_egg_plant, 7.6ms\n",
            "image 366/1917 /content/drive/MyDrive/AyushVision/yolo/final/test/images/IMG20240209181155_jpg.rf.6b3e166f3849074d6a4e83634f30beb2.jpg: 640x640 1 Redpea_egg_plant, 7.6ms\n",
            "image 367/1917 /content/drive/MyDrive/AyushVision/yolo/final/test/images/IMG20240209181249_jpg.rf.4204a2698ff4645b483ddf0df0392181.jpg: 640x640 1 Redpea_egg_plant, 7.8ms\n",
            "image 368/1917 /content/drive/MyDrive/AyushVision/yolo/final/test/images/IMG20240209182248_jpg.rf.82334a64a6b0939a812aed3d0d91f691.jpg: 640x640 1 Ivy_gourd, 7.5ms\n",
            "image 369/1917 /content/drive/MyDrive/AyushVision/yolo/final/test/images/IMG20240210082952_jpg.rf.786ee31688ad78a0f42d3da9e3b827a9.jpg: 640x640 2 Turmerics, 7.6ms\n",
            "image 370/1917 /content/drive/MyDrive/AyushVision/yolo/final/test/images/IMG20240210083358_jpg.rf.56a306668d8f719b4ff2f0a6ea4b4081.jpg: 640x640 1 Turmeric, 7.5ms\n",
            "image 371/1917 /content/drive/MyDrive/AyushVision/yolo/final/test/images/IMG20240210083457_jpg.rf.6f36f6f81059d775c9813bf86c31eaf6.jpg: 640x640 (no detections), 7.5ms\n",
            "image 372/1917 /content/drive/MyDrive/AyushVision/yolo/final/test/images/IMG20240210083606_jpg.rf.344e38f09df462d847de8fac5a0ef85f.jpg: 640x640 1 Ginger, 7.5ms\n",
            "image 373/1917 /content/drive/MyDrive/AyushVision/yolo/final/test/images/IMG20240210083623_jpg.rf.3e68a7f55ec74f76ef1a4679242c8891.jpg: 640x640 1 Ginger, 7.5ms\n",
            "image 374/1917 /content/drive/MyDrive/AyushVision/yolo/final/test/images/IMG20240210083700_jpg.rf.ab946a6bcd52b33fcac57ec595535c10.jpg: 640x640 1 Ginger, 7.5ms\n",
            "image 375/1917 /content/drive/MyDrive/AyushVision/yolo/final/test/images/IMG20240210083718_jpg.rf.e8e580d3165c700700f401ebdd825712.jpg: 640x640 1 Ginger, 7.5ms\n",
            "image 376/1917 /content/drive/MyDrive/AyushVision/yolo/final/test/images/IMG20240210083756_jpg.rf.0a3cfe047bc21d946788e022ba10a404.jpg: 640x640 1 Ginger, 7.5ms\n",
            "image 377/1917 /content/drive/MyDrive/AyushVision/yolo/final/test/images/IMG20240210083914_jpg.rf.94b00ec08b7159271fe0a0d497d1da6b.jpg: 640x640 1 Ginger, 7.5ms\n",
            "image 378/1917 /content/drive/MyDrive/AyushVision/yolo/final/test/images/IMG20240210083919_jpg.rf.2ac98a1d42bcf82449abbe4b622ef8b4.jpg: 640x640 1 Ginger, 7.7ms\n",
            "image 379/1917 /content/drive/MyDrive/AyushVision/yolo/final/test/images/IMG20240210083942_jpg.rf.b4af295570747c1db2b7bb7cc4b6e745.jpg: 640x640 1 Ginger, 9.0ms\n",
            "image 380/1917 /content/drive/MyDrive/AyushVision/yolo/final/test/images/IMG20240210084006_jpg.rf.744b6c0d5daafc5c2123abe6e6c21b37.jpg: 640x640 1 Ginger, 7.6ms\n",
            "image 381/1917 /content/drive/MyDrive/AyushVision/yolo/final/test/images/IMG20240210084020_jpg.rf.1cb64a8220a9967ebc4721a5958aa084.jpg: 640x640 1 Ginger, 7.7ms\n",
            "image 382/1917 /content/drive/MyDrive/AyushVision/yolo/final/test/images/IMG20240210084034_jpg.rf.3ff256ee68855eea0a8b27902efb7c95.jpg: 640x640 1 Ginger, 7.5ms\n",
            "image 383/1917 /content/drive/MyDrive/AyushVision/yolo/final/test/images/IMG20240210084230_jpg.rf.1730cf40c0e379165703031a8683a08a.jpg: 640x640 1 Redpea_egg_plant, 7.5ms\n",
            "image 384/1917 /content/drive/MyDrive/AyushVision/yolo/final/test/images/IMG20240210084233_jpg.rf.fc4cb18632a669f5e9f845f0e38f0fcb.jpg: 640x640 (no detections), 7.5ms\n",
            "image 385/1917 /content/drive/MyDrive/AyushVision/yolo/final/test/images/IMG20240210084236_jpg.rf.4d14e4ae3398b6df9102cea0ae6fc9c4.jpg: 640x640 2 Redpea_egg_plants, 7.9ms\n",
            "image 386/1917 /content/drive/MyDrive/AyushVision/yolo/final/test/images/IMG20240210084249_jpg.rf.5fc25154c8f07615b5f53e6137cb5ade.jpg: 640x640 1 Redpea_egg_plant, 7.5ms\n",
            "image 387/1917 /content/drive/MyDrive/AyushVision/yolo/final/test/images/IMG20240210084253_jpg.rf.2d0bc32b2be1e98630781421cec6fd91.jpg: 640x640 (no detections), 7.5ms\n",
            "image 388/1917 /content/drive/MyDrive/AyushVision/yolo/final/test/images/IMG20240210084255_jpg.rf.f7bd0d8e411b286c7675f820dcb02966.jpg: 640x640 1 Redpea_egg_plant, 1 Tallperennial_grass, 7.5ms\n",
            "image 389/1917 /content/drive/MyDrive/AyushVision/yolo/final/test/images/IMG20240210084311_jpg.rf.03aa64d6cc9ef20c96b1ba034ce6a16d.jpg: 640x640 (no detections), 7.4ms\n",
            "image 390/1917 /content/drive/MyDrive/AyushVision/yolo/final/test/images/IMG20240210084350_jpg.rf.5b95271fc6604a7db91f5eafce76eb36.jpg: 640x640 1 Redpea_egg_plant, 8.2ms\n",
            "image 391/1917 /content/drive/MyDrive/AyushVision/yolo/final/test/images/IMG20240210084356_jpg.rf.9c4d59e87bf2a3ee6c850ee0611c82d5.jpg: 640x640 1 Ginger, 7.5ms\n",
            "image 392/1917 /content/drive/MyDrive/AyushVision/yolo/final/test/images/IMG20240210084359_jpg.rf.4a97156f8478f5bf31c66a9e481bbcea.jpg: 640x640 1 Ginger, 7.5ms\n",
            "image 393/1917 /content/drive/MyDrive/AyushVision/yolo/final/test/images/IMG20240210084435_jpg.rf.03c8d44447b890c953c18b23858d46ad.jpg: 640x640 1 Redpea_egg_plant, 7.5ms\n",
            "image 394/1917 /content/drive/MyDrive/AyushVision/yolo/final/test/images/IMG20240210084445_jpg.rf.32c953d1b81e5496e9b2493b6ca27a84.jpg: 640x640 1 Redpea_egg_plant, 7.4ms\n",
            "image 395/1917 /content/drive/MyDrive/AyushVision/yolo/final/test/images/IMG20240210084504_jpg.rf.52a061c3141122fc5a5a48bba93ffc47.jpg: 640x640 1 Redpea_egg_plant, 7.5ms\n",
            "image 396/1917 /content/drive/MyDrive/AyushVision/yolo/final/test/images/IMG20240210084506_jpg.rf.b23fb615348311242faea620ddd9e7df.jpg: 640x640 1 Redpea_egg_plant, 7.4ms\n",
            "image 397/1917 /content/drive/MyDrive/AyushVision/yolo/final/test/images/IMG20240210084515_jpg.rf.8a2bcd8c38b24a000d8de8f8be3db514.jpg: 640x640 1 Redpea_egg_plant, 7.5ms\n",
            "image 398/1917 /content/drive/MyDrive/AyushVision/yolo/final/test/images/IMG20240210084617_jpg.rf.f478daaabd76af6f09026f6ee2303c33.jpg: 640x640 1 Redpea_egg_plant, 7.5ms\n",
            "image 399/1917 /content/drive/MyDrive/AyushVision/yolo/final/test/images/IMG20240210084629_jpg.rf.dde11e3a568b03e1a4d2c2ff6a97627e.jpg: 640x640 1 lime, 1 Redpea_egg_plant, 7.5ms\n",
            "image 400/1917 /content/drive/MyDrive/AyushVision/yolo/final/test/images/IMG20240210084658_jpg.rf.3ae072ffb424893594f481aa3febabd2.jpg: 640x640 1 Redpea_egg_plant, 7.5ms\n",
            "image 401/1917 /content/drive/MyDrive/AyushVision/yolo/final/test/images/IMG20240210084724_jpg.rf.ece5c57150944c5dd83c7bb6fef4d603.jpg: 640x640 1 Redpea_egg_plant, 7.9ms\n",
            "image 402/1917 /content/drive/MyDrive/AyushVision/yolo/final/test/images/IMG20240210084813_jpg.rf.52b79c32b4101820a33a73f35a47a66f.jpg: 640x640 (no detections), 7.5ms\n",
            "image 403/1917 /content/drive/MyDrive/AyushVision/yolo/final/test/images/IMG20240210084825_jpg.rf.28223cc18339c5431bf583dd934f4f67.jpg: 640x640 1 Redpea_egg_plant, 7.5ms\n",
            "image 404/1917 /content/drive/MyDrive/AyushVision/yolo/final/test/images/IMG20240210084828_jpg.rf.3674283dea8bf8f90f901ccc62979aad.jpg: 640x640 1 Ginger, 7.6ms\n",
            "image 405/1917 /content/drive/MyDrive/AyushVision/yolo/final/test/images/IMG20240210084837_jpg.rf.2530fdf3aafa67a1437fa10cd7b58970.jpg: 640x640 1 Ginger, 7.5ms\n",
            "image 406/1917 /content/drive/MyDrive/AyushVision/yolo/final/test/images/IMG20240210084902_jpg.rf.7e26e1f6ae399a2fdab409c79b87521a.jpg: 640x640 1 Redpea_egg_plant, 8.4ms\n",
            "image 407/1917 /content/drive/MyDrive/AyushVision/yolo/final/test/images/IMG20240210084918_jpg.rf.8eb062e13005e8829b99c39382385c33.jpg: 640x640 1 Redpea_egg_plant, 8.0ms\n",
            "image 408/1917 /content/drive/MyDrive/AyushVision/yolo/final/test/images/IMG20240210084923_jpg.rf.1c8b5948492fb0a8026b43c31966e070.jpg: 640x640 1 Redpea_egg_plant, 7.6ms\n",
            "image 409/1917 /content/drive/MyDrive/AyushVision/yolo/final/test/images/IMG20240210085004_jpg.rf.fd0e9561a2029aa4c7de1edc5ff49bfb.jpg: 640x640 1 Redpea_egg_plant, 7.8ms\n",
            "image 410/1917 /content/drive/MyDrive/AyushVision/yolo/final/test/images/IMG20240210085019_jpg.rf.8a65f6b2bc21d23965abd92627d22593.jpg: 640x640 1 Ginger, 7.5ms\n",
            "image 411/1917 /content/drive/MyDrive/AyushVision/yolo/final/test/images/IMG20240210085035_jpg.rf.41570e570baa44275e25b06ad13e0c6f.jpg: 640x640 1 Ginger, 7.5ms\n",
            "image 412/1917 /content/drive/MyDrive/AyushVision/yolo/final/test/images/IMG20240210085103_jpg.rf.82e0694e9e7c7a2066b36c129451d1f2.jpg: 640x640 1 Redpea_egg_plant, 7.5ms\n",
            "image 413/1917 /content/drive/MyDrive/AyushVision/yolo/final/test/images/IMG20240210085114_jpg.rf.cb7eafded6ec7ec66f2c17c9bbc5f99a.jpg: 640x640 1 Redpea_egg_plant, 7.5ms\n",
            "image 414/1917 /content/drive/MyDrive/AyushVision/yolo/final/test/images/IMG20240210085116_jpg.rf.b321cf12d3a77a1d968b91ad69e464f9.jpg: 640x640 1 Redpea_egg_plant, 7.7ms\n",
            "image 415/1917 /content/drive/MyDrive/AyushVision/yolo/final/test/images/IMG20240210085121_01_jpg.rf.94ac113ff76d952a0aa19c2dcdbae060.jpg: 640x640 1 Redpea_egg_plant, 7.5ms\n",
            "image 416/1917 /content/drive/MyDrive/AyushVision/yolo/final/test/images/IMG20240210085125_jpg.rf.1be966c545c62a564f661e30efa445d1.jpg: 640x640 1 Redpea_egg_plant, 7.5ms\n",
            "image 417/1917 /content/drive/MyDrive/AyushVision/yolo/final/test/images/IMG20240210085128_jpg.rf.ec5482434fad2a6512038bb34d100576.jpg: 640x640 1 Ginger, 7.5ms\n",
            "image 418/1917 /content/drive/MyDrive/AyushVision/yolo/final/test/images/IMG20240210085135_01_jpg.rf.5eedb78423903434055b53ce625c2c36.jpg: 640x640 1 Redpea_egg_plant, 7.5ms\n",
            "image 419/1917 /content/drive/MyDrive/AyushVision/yolo/final/test/images/IMG20240210085135_03_jpg.rf.1c19caac100e0fb840fb349dfaa4b0c4.jpg: 640x640 1 Redpea_egg_plant, 7.5ms\n",
            "image 420/1917 /content/drive/MyDrive/AyushVision/yolo/final/test/images/IMG20240210085156_jpg.rf.c758cb3b5528a43c1082851f05881d93.jpg: 640x640 1 lime, 7.9ms\n",
            "image 421/1917 /content/drive/MyDrive/AyushVision/yolo/final/test/images/IMG20240210085203_01_jpg.rf.88e4a9d8998e39b22026f2bda41576a8.jpg: 640x640 1 Redpea_egg_plant, 7.5ms\n",
            "image 422/1917 /content/drive/MyDrive/AyushVision/yolo/final/test/images/IMG20240210085210_jpg.rf.4f7dec00c9ae245a582c64ffc8b15531.jpg: 640x640 1 Redpea_egg_plant, 7.6ms\n",
            "image 423/1917 /content/drive/MyDrive/AyushVision/yolo/final/test/images/IMG20240210085211_01_jpg.rf.ef7c3903e749e31a07213b1fd1bde4fe.jpg: 640x640 1 Redpea_egg_plant, 7.5ms\n",
            "image 424/1917 /content/drive/MyDrive/AyushVision/yolo/final/test/images/IMG20240210085213_01_jpg.rf.2a1f5f7a87dffb9a2a128584f2de026c.jpg: 640x640 1 Redpea_egg_plant, 7.5ms\n",
            "image 425/1917 /content/drive/MyDrive/AyushVision/yolo/final/test/images/IMG20240210085214_jpg.rf.b4d20ce2aaabe36aa0e6cb0f96691e0a.jpg: 640x640 1 Redpea_egg_plant, 7.4ms\n",
            "image 426/1917 /content/drive/MyDrive/AyushVision/yolo/final/test/images/IMG20240210085215_jpg.rf.a7774c7348861b5e442ff7cf72a1f6c1.jpg: 640x640 1 Redpea_egg_plant, 7.5ms\n",
            "image 427/1917 /content/drive/MyDrive/AyushVision/yolo/final/test/images/IMG20240210085452_jpg.rf.da0f1a5d9afa337f608f8792a90520c9.jpg: 640x640 1 Redpea_egg_plant, 7.5ms\n",
            "image 428/1917 /content/drive/MyDrive/AyushVision/yolo/final/test/images/IMG20240210085454_jpg.rf.26310f338fbc91885faa56c902a71778.jpg: 640x640 1 Redpea_egg_plant, 7.5ms\n",
            "image 429/1917 /content/drive/MyDrive/AyushVision/yolo/final/test/images/IMG20240210085536_jpg.rf.9ee9eed16c6bf74a069954b6c463aef8.jpg: 640x640 1 Ginger, 7.5ms\n",
            "image 430/1917 /content/drive/MyDrive/AyushVision/yolo/final/test/images/IMG20240210085549_jpg.rf.aa4cb20f9cd2a5307aace414013755bd.jpg: 640x640 1 Redpea_egg_plant, 7.5ms\n",
            "image 431/1917 /content/drive/MyDrive/AyushVision/yolo/final/test/images/IMG20240210085630_jpg.rf.55662fbe5084fb3d8a3ebd4955e6dcd6.jpg: 640x640 1 Ginger, 7.5ms\n",
            "image 432/1917 /content/drive/MyDrive/AyushVision/yolo/final/test/images/IMG20240210085638_jpg.rf.346e62983a5ad5a1a54e420a393d577c.jpg: 640x640 1 Ginger, 7.5ms\n",
            "image 433/1917 /content/drive/MyDrive/AyushVision/yolo/final/test/images/IMG20240210085733_jpg.rf.99ceff071985cd702d5f40a4c21c7d62.jpg: 640x640 1 lime, 7.5ms\n",
            "image 434/1917 /content/drive/MyDrive/AyushVision/yolo/final/test/images/IMG20240210085748_jpg.rf.48c5499966f2957779313128ee6e95b0.jpg: 640x640 1 lime, 7.5ms\n",
            "image 435/1917 /content/drive/MyDrive/AyushVision/yolo/final/test/images/IMG20240210085810_jpg.rf.406441a0fda81d9b9dd75de1df2d20ea.jpg: 640x640 1 lime, 1 Redpea_egg_plant, 7.6ms\n",
            "image 436/1917 /content/drive/MyDrive/AyushVision/yolo/final/test/images/IMG20240210085831_jpg.rf.3736af7cae0e23dd0c83fb136514bad1.jpg: 640x640 1 lime, 8.1ms\n",
            "image 437/1917 /content/drive/MyDrive/AyushVision/yolo/final/test/images/IMG20240210085843_jpg.rf.0ae1305cb9b524ac7a6f8c2b339628db.jpg: 640x640 1 Ginger, 7.5ms\n",
            "image 438/1917 /content/drive/MyDrive/AyushVision/yolo/final/test/images/IMG20240210085846_jpg.rf.4ff74a9152d5b06739b672ef135477c5.jpg: 640x640 1 lime, 7.7ms\n",
            "image 439/1917 /content/drive/MyDrive/AyushVision/yolo/final/test/images/IMG20240210085859_jpg.rf.579f4268a1dae547a130e26b7407c7d2.jpg: 640x640 (no detections), 7.5ms\n",
            "image 440/1917 /content/drive/MyDrive/AyushVision/yolo/final/test/images/IMG20240210085932_jpg.rf.90f1d10cd3821bc9771a5474bbbb0836.jpg: 640x640 1 Ginger, 7.5ms\n",
            "image 441/1917 /content/drive/MyDrive/AyushVision/yolo/final/test/images/IMG20240210085937_jpg.rf.5eb16112e0c3db376bf015288c4ee556.jpg: 640x640 1 Ginger, 8.9ms\n",
            "image 442/1917 /content/drive/MyDrive/AyushVision/yolo/final/test/images/IMG20240210085944_jpg.rf.ba1f963a11731eda839b15ff44191eaa.jpg: 640x640 1 lime, 10.7ms\n",
            "image 443/1917 /content/drive/MyDrive/AyushVision/yolo/final/test/images/IMG20240210085950_jpg.rf.fe394b4f24b99344c87b5d8aa78162c7.jpg: 640x640 1 Ginger, 8.2ms\n",
            "image 444/1917 /content/drive/MyDrive/AyushVision/yolo/final/test/images/IMG20240210090038_jpg.rf.89cdf8a59c51f3e7593d480b3a6e279f.jpg: 640x640 1 lime, 8.5ms\n",
            "image 445/1917 /content/drive/MyDrive/AyushVision/yolo/final/test/images/IMG20240210090052_jpg.rf.9ff5a9f7d6d2f8f0073a9b833c65ee6f.jpg: 640x640 1 Ginger, 8.1ms\n",
            "image 446/1917 /content/drive/MyDrive/AyushVision/yolo/final/test/images/IMG202402100900579_jpg.rf.5be5183863e5c9663ef75333cc79d454.jpg: 640x640 1 lime, 8.9ms\n",
            "image 447/1917 /content/drive/MyDrive/AyushVision/yolo/final/test/images/IMG20240210090059_jpg.rf.84bc6425050089e3fb1681d4908cbcce.jpg: 640x640 1 Ginger, 9.9ms\n",
            "image 448/1917 /content/drive/MyDrive/AyushVision/yolo/final/test/images/IMG20240210090126_jpg.rf.4957f3312ba83b4eed8c1b0b52bb1f72.jpg: 640x640 1 lime, 8.6ms\n",
            "image 449/1917 /content/drive/MyDrive/AyushVision/yolo/final/test/images/IMG20240210090208_jpg.rf.0372a58344cde5cfdc49f41c9d52c32f.jpg: 640x640 1 Ginger, 7.9ms\n",
            "image 450/1917 /content/drive/MyDrive/AyushVision/yolo/final/test/images/IMG20240210090236_jpg.rf.78cfd72790ba9f90d0cd2ebafba36220.jpg: 640x640 1 Ginger, 7.5ms\n",
            "image 451/1917 /content/drive/MyDrive/AyushVision/yolo/final/test/images/IMG20240210090323_jpg.rf.4733d93b9f0304a907e13ce1c74cfeed.jpg: 640x640 1 lime, 7.8ms\n",
            "image 452/1917 /content/drive/MyDrive/AyushVision/yolo/final/test/images/IMG20240210090335_jpg.rf.bc87ba8a7eab2d8d3d0695bcc6cefbc6.jpg: 640x640 1 Ginger, 7.7ms\n",
            "image 453/1917 /content/drive/MyDrive/AyushVision/yolo/final/test/images/IMG20240210090343_jpg.rf.8344f5745aa60fb5b5cab51d6cd0b9b2.jpg: 640x640 1 Ginger, 7.5ms\n",
            "image 454/1917 /content/drive/MyDrive/AyushVision/yolo/final/test/images/IMG20240210090349_jpg.rf.9275c6c9c37c06921dfba2aefcbb84fe.jpg: 640x640 1 lime, 7.6ms\n",
            "image 455/1917 /content/drive/MyDrive/AyushVision/yolo/final/test/images/IMG20240210090357_jpg.rf.20a3f634f085b2628a55cde5b2f7d3e0.jpg: 640x640 1 lime, 7.5ms\n",
            "image 456/1917 /content/drive/MyDrive/AyushVision/yolo/final/test/images/IMG20240210090403_jpg.rf.beece05363c3db1f8a4c213d7524071a.jpg: 640x640 1 lime, 7.8ms\n",
            "image 457/1917 /content/drive/MyDrive/AyushVision/yolo/final/test/images/IMG20240210090414_jpg.rf.f20aa5470f147153641088d03338252b.jpg: 640x640 1 lime, 8.1ms\n",
            "image 458/1917 /content/drive/MyDrive/AyushVision/yolo/final/test/images/IMG20240210090421_jpg.rf.3d8311645b1b1d5409305d53d5d73d83.jpg: 640x640 1 lime, 8.2ms\n",
            "image 459/1917 /content/drive/MyDrive/AyushVision/yolo/final/test/images/IMG20240210090428_jpg.rf.de140fa9079b5c64d4cabb24c7bbd085.jpg: 640x640 1 lime, 7.9ms\n",
            "image 460/1917 /content/drive/MyDrive/AyushVision/yolo/final/test/images/IMG20240210090453_jpg.rf.fb62f647921dff8533b7e93afb5195ed.jpg: 640x640 1 lime, 7.5ms\n",
            "image 461/1917 /content/drive/MyDrive/AyushVision/yolo/final/test/images/IMG20240210090502_jpg.rf.9f83167d9781539f2ae987f513ddd52d.jpg: 640x640 1 Ginger, 7.7ms\n",
            "image 462/1917 /content/drive/MyDrive/AyushVision/yolo/final/test/images/IMG20240210090522_jpg.rf.fef2cdcf1487fb0d5603965ebc2badf3.jpg: 640x640 1 Ginger, 7.5ms\n",
            "image 463/1917 /content/drive/MyDrive/AyushVision/yolo/final/test/images/IMG20240210090535_jpg.rf.01620b51fa0c21a7a21ae8b8c875dffe.jpg: 640x640 1 lime, 7.8ms\n",
            "image 464/1917 /content/drive/MyDrive/AyushVision/yolo/final/test/images/IMG20240210090541_jpg.rf.0ad4fdf87ca4e9733e539980978b78ee.jpg: 640x640 1 lime, 7.5ms\n",
            "image 465/1917 /content/drive/MyDrive/AyushVision/yolo/final/test/images/IMG20240210090551_jpg.rf.0b986bdae5630f371ba4a748c4532ed4.jpg: 640x640 1 lime, 7.5ms\n",
            "image 466/1917 /content/drive/MyDrive/AyushVision/yolo/final/test/images/IMG20240210090603_jpg.rf.b07bedf6e8b9d29b755f5cfd21bca660.jpg: 640x640 1 lime, 9.1ms\n",
            "image 467/1917 /content/drive/MyDrive/AyushVision/yolo/final/test/images/IMG20240210090632_jpg.rf.5c8fef58791c462c85669b7ddf97db16.jpg: 640x640 1 lime, 7.5ms\n",
            "image 468/1917 /content/drive/MyDrive/AyushVision/yolo/final/test/images/IMG20240210090723_jpg.rf.315ea4de03b7850eba49cf6601ec78c7.jpg: 640x640 1 Ginger, 8.0ms\n",
            "image 469/1917 /content/drive/MyDrive/AyushVision/yolo/final/test/images/IMG20240210090751_jpg.rf.67b4a122ca7098b33e480f78901441c1.jpg: 640x640 1 Ginger, 7.6ms\n",
            "image 470/1917 /content/drive/MyDrive/AyushVision/yolo/final/test/images/IMG20240210090806_jpg.rf.7db30b8b1cb31895a42e80e1faff4050.jpg: 640x640 1 Ginger, 8.1ms\n",
            "image 471/1917 /content/drive/MyDrive/AyushVision/yolo/final/test/images/IMG20240210090809_jpg.rf.d3e2f4a70c546c7abc30b33f5d0b9dfb.jpg: 640x640 1 Ginger, 7.8ms\n",
            "image 472/1917 /content/drive/MyDrive/AyushVision/yolo/final/test/images/IMG20240210090834_jpg.rf.696289decc425124e710ab65aee7729b.jpg: 640x640 1 Ginger, 8.7ms\n",
            "image 473/1917 /content/drive/MyDrive/AyushVision/yolo/final/test/images/IMG20240210090851_jpg.rf.abfd9db0ea3caabaea321f650e57e977.jpg: 640x640 1 Ginger, 7.5ms\n",
            "image 474/1917 /content/drive/MyDrive/AyushVision/yolo/final/test/images/IMG20240210091527_jpg.rf.b46a7c17e415ac2fddf839f5ce993a2f.jpg: 640x640 1 Betel, 8.1ms\n",
            "image 475/1917 /content/drive/MyDrive/AyushVision/yolo/final/test/images/IMG20240210100945_jpg.rf.ff6a46130c4f3cd07b791352a5a7a01e.jpg: 640x640 1 Henna, 8.9ms\n",
            "image 476/1917 /content/drive/MyDrive/AyushVision/yolo/final/test/images/IMG20240210101039_jpg.rf.4ad65fe5020557600a71b344d79b9bc7.jpg: 640x640 1 Henna, 8.0ms\n",
            "image 477/1917 /content/drive/MyDrive/AyushVision/yolo/final/test/images/IMG20240210101047_jpg.rf.228227828d2407c3852dd3f402acc7eb.jpg: 640x640 1 Calotropis_gigantea, 1 Henna, 8.1ms\n",
            "image 478/1917 /content/drive/MyDrive/AyushVision/yolo/final/test/images/IMG20240210101117_jpg.rf.6276797547f1c0c1e0ae9ce4e0fa2653.jpg: 640x640 1 Henna, 7.9ms\n",
            "image 479/1917 /content/drive/MyDrive/AyushVision/yolo/final/test/images/IMG20240210101215_jpg.rf.4424f5f3ead416eb3a69b1609b850adc.jpg: 640x640 1 Henna, 8.5ms\n",
            "image 480/1917 /content/drive/MyDrive/AyushVision/yolo/final/test/images/IMG20240210101219_jpg.rf.43d31cc99e9c43aadb80c0bf0a8df988.jpg: 640x640 1 Henna, 8.3ms\n",
            "image 481/1917 /content/drive/MyDrive/AyushVision/yolo/final/test/images/IMG20240210101238_jpg.rf.8d9aa1d1a0191e4071ab05517442deec.jpg: 640x640 1 Henna, 8.3ms\n",
            "image 482/1917 /content/drive/MyDrive/AyushVision/yolo/final/test/images/IMG20240210101557_jpg.rf.3563d30ef7c9169e3777fe269758e6fd.jpg: 640x640 1 Henna, 10.9ms\n",
            "image 483/1917 /content/drive/MyDrive/AyushVision/yolo/final/test/images/IMG20240210101906_jpg.rf.a6b655e6a752699cee83631fcbd10cbe.jpg: 640x640 1 Henna, 9.7ms\n",
            "image 484/1917 /content/drive/MyDrive/AyushVision/yolo/final/test/images/IMG20240210150716_jpg.rf.fa18f60dc74a80513a07f19996946af3.jpg: 640x640 1 lime, 1 Cinnamon, 9.2ms\n",
            "image 485/1917 /content/drive/MyDrive/AyushVision/yolo/final/test/images/IMG20240210151105_jpg.rf.268a3f151d6fc0ab6d5f8bed538cc2c9.jpg: 640x640 1 Cinnamon, 7.9ms\n",
            "image 486/1917 /content/drive/MyDrive/AyushVision/yolo/final/test/images/IMG20240210151156_jpg.rf.51ea93419a2e57ec8afcb76accf544a0.jpg: 640x640 1 Cinnamon, 10.5ms\n",
            "image 487/1917 /content/drive/MyDrive/AyushVision/yolo/final/test/images/IMG20240210155603_jpg.rf.f1bbd4af36b5e306681e8b6490d56398.jpg: 640x640 1 Cinnamon, 7.8ms\n",
            "image 488/1917 /content/drive/MyDrive/AyushVision/yolo/final/test/images/IMG20240210155704_jpg.rf.4d112169c94ac87ade5b11b97edc5059.jpg: 640x640 1 Cinnamon, 7.8ms\n",
            "image 489/1917 /content/drive/MyDrive/AyushVision/yolo/final/test/images/IMG20240210162129_jpg.rf.5f6938130af117e78632c2be742f11f4.jpg: 640x640 2 Seedsunder_leafs, 7.8ms\n",
            "image 490/1917 /content/drive/MyDrive/AyushVision/yolo/final/test/images/IMG20240210162132_jpg.rf.4a1c39bfdcb76abad7dbca339476d626.jpg: 640x640 1 Seedsunder_leaf, 7.5ms\n",
            "image 491/1917 /content/drive/MyDrive/AyushVision/yolo/final/test/images/IMG20240210162239_jpg.rf.cf6803fa32fb0e4d5104fbdcc893459f.jpg: 640x640 1 Seedsunder_leaf, 7.5ms\n",
            "image 492/1917 /content/drive/MyDrive/AyushVision/yolo/final/test/images/IMG20240210162249_jpg.rf.2fa2af71f22e15040968b4af35792ded.jpg: 640x640 1 Seedsunder_leaf, 7.9ms\n",
            "image 493/1917 /content/drive/MyDrive/AyushVision/yolo/final/test/images/IMG20240210162359_jpg.rf.69da03b9a397f51b6f6e1c39fee40428.jpg: 640x640 1 Seedsunder_leaf, 7.5ms\n",
            "image 494/1917 /content/drive/MyDrive/AyushVision/yolo/final/test/images/IMG20240210162447_jpg.rf.652c5bbdcd963da6a130015b3e57a7ff.jpg: 640x640 1 Seedsunder_leaf, 7.6ms\n",
            "image 495/1917 /content/drive/MyDrive/AyushVision/yolo/final/test/images/IMG20240210162459_jpg.rf.43e2ad1ae49f2a0578cd79d66cb3cbbe.jpg: 640x640 2 Seedsunder_leafs, 7.5ms\n",
            "image 496/1917 /content/drive/MyDrive/AyushVision/yolo/final/test/images/IMG20240210162503_jpg.rf.7e1ad65bbc3b368a8d80420225b7d493.jpg: 640x640 2 Seedsunder_leafs, 7.6ms\n",
            "image 497/1917 /content/drive/MyDrive/AyushVision/yolo/final/test/images/IMG20240210162510_jpg.rf.f49e3c26fa3359e8860ceb241086b2d2.jpg: 640x640 1 Seedsunder_leaf, 9.1ms\n",
            "image 498/1917 /content/drive/MyDrive/AyushVision/yolo/final/test/images/IMG20240210162523_jpg.rf.93ef39e81081d78b9b11406a28524cfe.jpg: 640x640 1 Seedsunder_leaf, 7.8ms\n",
            "image 499/1917 /content/drive/MyDrive/AyushVision/yolo/final/test/images/IMG20240210162525_jpg.rf.ec79543d89954845157c79cb3362d201.jpg: 640x640 1 Seedsunder_leaf, 7.7ms\n",
            "image 500/1917 /content/drive/MyDrive/AyushVision/yolo/final/test/images/IMG20240210162548_jpg.rf.f03eaf66a0acafcfffa0452d31afbb68.jpg: 640x640 1 Seedsunder_leaf, 8.6ms\n",
            "image 501/1917 /content/drive/MyDrive/AyushVision/yolo/final/test/images/IMG20240210162606_jpg.rf.4461b878d46f9ed49d7255fdb635ddc5.jpg: 640x640 2 Seedsunder_leafs, 8.9ms\n",
            "image 502/1917 /content/drive/MyDrive/AyushVision/yolo/final/test/images/IMG20240210162630_jpg.rf.d554c5ad883d3bc029f2f081f2b11297.jpg: 640x640 1 Seedsunder_leaf, 7.7ms\n",
            "image 503/1917 /content/drive/MyDrive/AyushVision/yolo/final/test/images/IMG20240210162641_jpg.rf.74cef09210e4cb66d2f6cf822b8a91ec.jpg: 640x640 1 Seedsunder_leaf, 8.2ms\n",
            "image 504/1917 /content/drive/MyDrive/AyushVision/yolo/final/test/images/IMG20240210162701_jpg.rf.da9ee16367bb85c6f54a6d80715d998c.jpg: 640x640 (no detections), 9.2ms\n",
            "image 505/1917 /content/drive/MyDrive/AyushVision/yolo/final/test/images/IMG20240210163133_jpg.rf.801e1afee0b2ab3fb1d775fd2867bf13.jpg: 640x640 1 lime, 1 Black_honey_shrub, 8.8ms\n",
            "image 506/1917 /content/drive/MyDrive/AyushVision/yolo/final/test/images/IMG20240210163215_jpg.rf.038abe0b0b28e391aab62e17bd66e6db.jpg: 640x640 1 Seedsunder_leaf, 7.8ms\n",
            "image 507/1917 /content/drive/MyDrive/AyushVision/yolo/final/test/images/IMG20240210165220_jpg.rf.e97186ddf5c7ac3d89d29411a2a09745.jpg: 640x640 1 Black_honey_shrub, 8.4ms\n",
            "image 508/1917 /content/drive/MyDrive/AyushVision/yolo/final/test/images/IMG20240210165503_jpg.rf.e77bf5cfcb75e0530571a5bac043aa41.jpg: 640x640 (no detections), 7.9ms\n",
            "image 509/1917 /content/drive/MyDrive/AyushVision/yolo/final/test/images/IMG20240210165823_jpg.rf.5bf3879aa004c724e0af2bbb2e2e9ec7.jpg: 640x640 1 Seedsunder_leaf, 7.5ms\n",
            "image 510/1917 /content/drive/MyDrive/AyushVision/yolo/final/test/images/IMG20240210165826_jpg.rf.1f2ffa753987c6fa6bc63b894828e742.jpg: 640x640 1 Seedsunder_leaf, 8.0ms\n",
            "image 511/1917 /content/drive/MyDrive/AyushVision/yolo/final/test/images/IMG20240210165853_jpg.rf.34a432f9c301b321de56995cd0c56c42.jpg: 640x640 3 Seedsunder_leafs, 8.2ms\n",
            "image 512/1917 /content/drive/MyDrive/AyushVision/yolo/final/test/images/IMG20240210171100_jpg.rf.a2241c82947225ee3cfaafcfe49535aa.jpg: 640x640 1 Seedsunder_leaf, 9.1ms\n",
            "image 513/1917 /content/drive/MyDrive/AyushVision/yolo/final/test/images/IMG20240210175248_jpg.rf.acabe458cb44fd6a1fd4286059469098.jpg: 640x640 (no detections), 10.7ms\n",
            "image 514/1917 /content/drive/MyDrive/AyushVision/yolo/final/test/images/IMG20240210175310_jpg.rf.73ef571a19894361d07a3b3bbc2e66c0.jpg: 640x640 2 Seedsunder_leafs, 8.1ms\n",
            "image 515/1917 /content/drive/MyDrive/AyushVision/yolo/final/test/images/IMG20240210175333_jpg.rf.4d92da456ea2881d0a24075223ae61fd.jpg: 640x640 2 Acalyphaindicas, 7.7ms\n",
            "image 516/1917 /content/drive/MyDrive/AyushVision/yolo/final/test/images/IMG20240210175417_jpg.rf.8a34f8399b4b118f46eda3639ae73224.jpg: 640x640 1 Acalyphaindica, 7.7ms\n",
            "image 517/1917 /content/drive/MyDrive/AyushVision/yolo/final/test/images/IMG20240210175510_jpg.rf.2ac6ad7755439748b2a80c3a7d9393e5.jpg: 640x640 1 Acalyphaindica, 7.8ms\n",
            "image 518/1917 /content/drive/MyDrive/AyushVision/yolo/final/test/images/IMG20240210175525_jpg.rf.073ca84b2e9c1762296181a1385689d7.jpg: 640x640 1 Acalyphaindica, 7.8ms\n",
            "image 519/1917 /content/drive/MyDrive/AyushVision/yolo/final/test/images/IMG20240211071453_jpg.rf.78bd6328415e9727dce1530187139b95.jpg: 640x640 1 Black_honey_shrub, 7.6ms\n",
            "image 520/1917 /content/drive/MyDrive/AyushVision/yolo/final/test/images/IMG20240211072307_jpg.rf.1fff9e77cc53b446ea6e9c2991c7e326.jpg: 640x640 1 Black_honey_shrub, 12.0ms\n",
            "image 521/1917 /content/drive/MyDrive/AyushVision/yolo/final/test/images/IMG20240211072336_jpg.rf.2c9c83b21ffe962d681cedec22a43123.jpg: 640x640 1 Black_honey_shrub, 8.1ms\n",
            "image 522/1917 /content/drive/MyDrive/AyushVision/yolo/final/test/images/IMG20240211073140_jpg.rf.0c1b7cdc834218d651bccee6d19e0cc0.jpg: 640x640 1 Black_honey_shrub, 7.6ms\n",
            "image 523/1917 /content/drive/MyDrive/AyushVision/yolo/final/test/images/IMG20240211074424_jpg.rf.8f1992576a7ec130a62597a201f94e9a.jpg: 640x640 1 Black_honey_shrub, 7.9ms\n",
            "image 524/1917 /content/drive/MyDrive/AyushVision/yolo/final/test/images/IMG20240211074726_jpg.rf.4cadb47a598818db03ba2c113808f27f.jpg: 640x640 1 Black_honey_shrub, 11.6ms\n",
            "image 525/1917 /content/drive/MyDrive/AyushVision/yolo/final/test/images/IMG20240211074727_jpg.rf.42a581a932e655af9954356e06bfa030.jpg: 640x640 1 Black_honey_shrub, 7.5ms\n",
            "image 526/1917 /content/drive/MyDrive/AyushVision/yolo/final/test/images/IMG20240211074846_jpg.rf.b02af09281ff7a5d40ad1faee17637f6.jpg: 640x640 1 Black_honey_shrub, 7.5ms\n",
            "image 527/1917 /content/drive/MyDrive/AyushVision/yolo/final/test/images/IMG20240211074912_01_jpg.rf.984248957606b99e623e57d731b4fd57.jpg: 640x640 1 Hibiscus, 1 Ivy_gourd, 7.5ms\n",
            "image 528/1917 /content/drive/MyDrive/AyushVision/yolo/final/test/images/IMG20240211074916_jpg.rf.4b4b6c5601cecad5037cce86972cc23d.jpg: 640x640 1 Black_honey_shrub, 7.5ms\n",
            "image 529/1917 /content/drive/MyDrive/AyushVision/yolo/final/test/images/IMG20240211075517_jpg.rf.d7fb0f43574142e468c6a9ca17ed504d.jpg: 640x640 1 Black_honey_shrub, 7.7ms\n",
            "image 530/1917 /content/drive/MyDrive/AyushVision/yolo/final/test/images/IMG20240211075708_jpg.rf.6f8db312d62528b400d1353556dc248b.jpg: 640x640 (no detections), 7.5ms\n",
            "image 531/1917 /content/drive/MyDrive/AyushVision/yolo/final/test/images/IMG20240211075730_jpg.rf.bb9994b0c62db7331301009ec6680bb9.jpg: 640x640 2 Sleepy_plants, 7.5ms\n",
            "image 532/1917 /content/drive/MyDrive/AyushVision/yolo/final/test/images/IMG20240211075808_jpg.rf.e8ab07dfea824d460754a34977b2208b.jpg: 640x640 2 Sleepy_plants, 7.7ms\n",
            "image 533/1917 /content/drive/MyDrive/AyushVision/yolo/final/test/images/IMG20240211080341_jpg.rf.0660f16df748dc271f8f67288659735d.jpg: 640x640 1 Sleepy_plant, 7.5ms\n",
            "image 534/1917 /content/drive/MyDrive/AyushVision/yolo/final/test/images/IMG20240211080437_jpg.rf.1f22d23aeaa38808eacbbb54d1c20b51.jpg: 640x640 2 Seedsunder_leafs, 7.7ms\n",
            "image 535/1917 /content/drive/MyDrive/AyushVision/yolo/final/test/images/IMG20240211080521_jpg.rf.470cac7aa74d3d5c2e52bc63abc2a590.jpg: 640x640 1 Seedsunder_leaf, 8.4ms\n",
            "image 536/1917 /content/drive/MyDrive/AyushVision/yolo/final/test/images/IMG20240211082126_jpg.rf.e5ed0e2d9a21cc6ed3e1ea7afd3c49ea.jpg: 640x640 1 Ivy_gourd, 1 Redpea_egg_plant, 7.5ms\n",
            "image 537/1917 /content/drive/MyDrive/AyushVision/yolo/final/test/images/IMG20240211082209_jpg.rf.50d0da36dc94fb26416f97b44e79102c.jpg: 640x640 1 Caster, 7.7ms\n",
            "image 538/1917 /content/drive/MyDrive/AyushVision/yolo/final/test/images/IMG20240211082419_jpg.rf.a0d9d013a2745cf1c659ded422eff5a9.jpg: 640x640 2 Ivy_gourds, 7.5ms\n",
            "image 539/1917 /content/drive/MyDrive/AyushVision/yolo/final/test/images/IMG20240211082511_jpg.rf.93dedcbd54ea6709fceaf17d74d548a2.jpg: 640x640 1 Sleepy_plant, 7.6ms\n",
            "image 540/1917 /content/drive/MyDrive/AyushVision/yolo/final/test/images/IMG20240211082542_jpg.rf.1f06317bd77259c0a974a9dfdf13360f.jpg: 640x640 1 Ivy_gourd, 7.5ms\n",
            "image 541/1917 /content/drive/MyDrive/AyushVision/yolo/final/test/images/IMG20240211082614_jpg.rf.24ec26942b5632f3c26c9bc6bb2fbcea.jpg: 640x640 1 Ivy_gourd, 7.5ms\n",
            "image 542/1917 /content/drive/MyDrive/AyushVision/yolo/final/test/images/IMG20240211083343_jpg.rf.aed89257834f9518bbf5a1f92de87895.jpg: 640x640 2 Sleepy_plants, 8.3ms\n",
            "image 543/1917 /content/drive/MyDrive/AyushVision/yolo/final/test/images/IMG20240211083420_jpg.rf.15ccc070ca4106452e418a477f11590f.jpg: 640x640 1 Sleepy_plant, 9.2ms\n",
            "image 544/1917 /content/drive/MyDrive/AyushVision/yolo/final/test/images/IMG20240211083428_jpg.rf.7a7e6e7744f0f1d1cfc8905bbeedca36.jpg: 640x640 2 Sleepy_plants, 8.0ms\n",
            "image 545/1917 /content/drive/MyDrive/AyushVision/yolo/final/test/images/IMG20240211083434_jpg.rf.2717d3c09d5d1f679a318bfe201b39be.jpg: 640x640 2 Sleepy_plants, 7.8ms\n",
            "image 546/1917 /content/drive/MyDrive/AyushVision/yolo/final/test/images/IMG20240211083451_jpg.rf.d3c1c37ab48826e24e8fe5c7a953b25b.jpg: 640x640 1 Sleepy_plant, 9.7ms\n",
            "image 547/1917 /content/drive/MyDrive/AyushVision/yolo/final/test/images/IMG20240211083523_jpg.rf.afae8028ac3a96f30ee0103881b77113.jpg: 640x640 1 Sleepy_plant, 7.8ms\n",
            "image 548/1917 /content/drive/MyDrive/AyushVision/yolo/final/test/images/IMG20240211083525_jpg.rf.1aeaec19d3c2d1831f36c92bfd96be8e.jpg: 640x640 1 Sleepy_plant, 1 Landrina, 7.5ms\n",
            "image 549/1917 /content/drive/MyDrive/AyushVision/yolo/final/test/images/IMG20240211083526_jpg.rf.490c5a43b3669ad34d6b35266b52b818.jpg: 640x640 1 Sleepy_plant, 7.7ms\n",
            "image 550/1917 /content/drive/MyDrive/AyushVision/yolo/final/test/images/IMG20240211083535_jpg.rf.50aa31d8cbc11c78b7b83749b7898dc9.jpg: 640x640 (no detections), 7.7ms\n",
            "image 551/1917 /content/drive/MyDrive/AyushVision/yolo/final/test/images/IMG20240211083642_jpg.rf.a86c2add50a65c40b880e12ad34035a7.jpg: 640x640 2 Sleepy_plants, 7.5ms\n",
            "image 552/1917 /content/drive/MyDrive/AyushVision/yolo/final/test/images/IMG20240211083650_jpg.rf.46fc6ae610a703e519357eca385064f7.jpg: 640x640 (no detections), 7.7ms\n",
            "image 553/1917 /content/drive/MyDrive/AyushVision/yolo/final/test/images/IMG20240211083754_jpg.rf.d3d6a469ce7cd5604fe595e55a89a596.jpg: 640x640 1 Sleepy_plant, 7.8ms\n",
            "image 554/1917 /content/drive/MyDrive/AyushVision/yolo/final/test/images/IMG20240211083810_jpg.rf.aa06f2de43ec1ebfc6583cabaab3f15d.jpg: 640x640 1 Sleepy_plant, 7.5ms\n",
            "image 555/1917 /content/drive/MyDrive/AyushVision/yolo/final/test/images/IMG20240211084118_jpg.rf.a98501cb9614574de2cc8656f0f8ea06.jpg: 640x640 1 Cinnamon, 7.6ms\n",
            "image 556/1917 /content/drive/MyDrive/AyushVision/yolo/final/test/images/IMG20240211084132_jpg.rf.4ab610d1bff131d7412b999d64f3f586.jpg: 640x640 1 Pedaliummurex, 1 Thornapple, 7.7ms\n",
            "image 557/1917 /content/drive/MyDrive/AyushVision/yolo/final/test/images/IMG20240211084137_jpg.rf.48ae710261cc8bc4290a063735c2c764.jpg: 640x640 1 lime, 10.6ms\n",
            "image 558/1917 /content/drive/MyDrive/AyushVision/yolo/final/test/images/IMG20240211084206_jpg.rf.f0e24972211d2cac5c5aa27ccbb58196.jpg: 640x640 1 Ivy_gourd, 7.5ms\n",
            "image 559/1917 /content/drive/MyDrive/AyushVision/yolo/final/test/images/IMG20240211084339_jpg.rf.95cbf5a99d4e62cea8b74d2d47cf9183.jpg: 640x640 1 Turmeric, 7.5ms\n",
            "image 560/1917 /content/drive/MyDrive/AyushVision/yolo/final/test/images/IMG20240211084424_jpg.rf.01bd749d93378a6d37e850f7589e8ac7.jpg: 640x640 (no detections), 7.7ms\n",
            "image 561/1917 /content/drive/MyDrive/AyushVision/yolo/final/test/images/IMG20240211084546_jpg.rf.2e0c1b2da059e32b7aed0ff4f09ac1c7.jpg: 640x640 1 Wild_Turmeric, 7.5ms\n",
            "image 562/1917 /content/drive/MyDrive/AyushVision/yolo/final/test/images/IMG20240211084632_jpg.rf.b80ac6a3619604654113a2583f9fdd09.jpg: 640x640 1 Turmeric, 7.5ms\n",
            "image 563/1917 /content/drive/MyDrive/AyushVision/yolo/final/test/images/IMG20240211085255_jpg.rf.3117872183ab8277fb10ea2f646d02f2.jpg: 640x640 1 Alovera, 10.5ms\n",
            "image 564/1917 /content/drive/MyDrive/AyushVision/yolo/final/test/images/IMG20240211085345_jpg.rf.0c1e11ae5d47b1142dcde994db4be95c.jpg: 640x640 1 Alovera, 7.6ms\n",
            "image 565/1917 /content/drive/MyDrive/AyushVision/yolo/final/test/images/IMG20240211085525_jpg.rf.4afd00ab66d72b0be644261889e617de.jpg: 640x640 1 Alovera, 10.7ms\n",
            "image 566/1917 /content/drive/MyDrive/AyushVision/yolo/final/test/images/IMG20240211085530_jpg.rf.d4973a3b58eeb3ebb275ebe980a6ae5a.jpg: 640x640 1 Alovera, 10.1ms\n",
            "image 567/1917 /content/drive/MyDrive/AyushVision/yolo/final/test/images/IMG20240211085550_jpg.rf.078a89321b9957bbef23371574ddcc56.jpg: 640x640 1 Alovera, 7.7ms\n",
            "image 568/1917 /content/drive/MyDrive/AyushVision/yolo/final/test/images/IMG20240211085924_jpg.rf.16c05b317a030c5b024df2eb53b7a7da.jpg: 640x640 1 Alovera, 7.5ms\n",
            "image 569/1917 /content/drive/MyDrive/AyushVision/yolo/final/test/images/IMG20240211090020_jpg.rf.c935d686f6082a2ca4d0b95268e5b11e.jpg: 640x640 1 Alovera, 7.6ms\n",
            "image 570/1917 /content/drive/MyDrive/AyushVision/yolo/final/test/images/IMG20240211090031_jpg.rf.7ce0776316937d493bd38e100dd0d455.jpg: 640x640 1 Alovera, 10.3ms\n",
            "image 571/1917 /content/drive/MyDrive/AyushVision/yolo/final/test/images/IMG20240211090202_jpg.rf.119d9ae0aa3d8ead07bbdfe3153d7d64.jpg: 640x640 1 Alovera, 7.6ms\n",
            "image 572/1917 /content/drive/MyDrive/AyushVision/yolo/final/test/images/IMG20240211090310_jpg.rf.7d49177e7ec182eba353c4f55d5574b5.jpg: 640x640 1 Alovera, 7.8ms\n",
            "image 573/1917 /content/drive/MyDrive/AyushVision/yolo/final/test/images/IMG20240211092000_jpg.rf.f95b2b1f948ba9f782dce2684dc2325c.jpg: 640x640 2 Seedsunder_leafs, 10.5ms\n",
            "image 574/1917 /content/drive/MyDrive/AyushVision/yolo/final/test/images/IMG20240211092017_jpg.rf.6da12e5d9f07788443e04756ae28db67.jpg: 640x640 1 Seedsunder_leaf, 7.5ms\n",
            "image 575/1917 /content/drive/MyDrive/AyushVision/yolo/final/test/images/IMG20240211092132_jpg.rf.a7ea7dabf1179b24dfb5a9c4bd47bec0.jpg: 640x640 1 Seedsunder_leaf, 7.5ms\n",
            "image 576/1917 /content/drive/MyDrive/AyushVision/yolo/final/test/images/IMG20240211092458_jpg.rf.27e72a4ab37df2b06805cb12a3d1ff5e.jpg: 640x640 1 Seedsunder_leaf, 11.4ms\n",
            "image 577/1917 /content/drive/MyDrive/AyushVision/yolo/final/test/images/IMG20240211094323_jpg.rf.0c5ff7a4b7683e1860e3bb51605e7b67.jpg: 640x640 1 Landrina, 10.1ms\n",
            "image 578/1917 /content/drive/MyDrive/AyushVision/yolo/final/test/images/IMG20240211094336_jpg.rf.cc5be26cbec3341dfa9431ad0209332a.jpg: 640x640 1 Indian_Mallow, 10.5ms\n",
            "image 579/1917 /content/drive/MyDrive/AyushVision/yolo/final/test/images/IMG20240211094405_jpg.rf.cbff8900b4046920c8dc6691bdc91cf7.jpg: 640x640 1 Landrina, 7.7ms\n",
            "image 580/1917 /content/drive/MyDrive/AyushVision/yolo/final/test/images/IMG20240211094602_jpg.rf.3d3c9428fc6c34c7cb648bfbd41f6452.jpg: 640x640 2 Landrinas, 11.1ms\n",
            "image 581/1917 /content/drive/MyDrive/AyushVision/yolo/final/test/images/IMG20240328122422_jpg.rf.6f223ef413bad460c903a9c8badc92d8.jpg: 640x640 1 Lemon_grass, 8.2ms\n",
            "image 582/1917 /content/drive/MyDrive/AyushVision/yolo/final/test/images/IMG20240328122529_jpg.rf.a9d6e37fa89c10874540d2af2ce40ddb.jpg: 640x640 1 Lemon_grass, 7.6ms\n",
            "image 583/1917 /content/drive/MyDrive/AyushVision/yolo/final/test/images/IMG20240408162200_jpg.rf.d44cffc43dcc6a686cba5b0296347104.jpg: 640x640 1 Black_honey_shrub, 9.2ms\n",
            "image 584/1917 /content/drive/MyDrive/AyushVision/yolo/final/test/images/IMG20240408162204_jpg.rf.d80784c3f63bb8278f61cae7125a9f69.jpg: 640x640 1 Black_honey_shrub, 9.7ms\n",
            "image 585/1917 /content/drive/MyDrive/AyushVision/yolo/final/test/images/IMG20240408162237_jpg.rf.703fe169a863e46a42277a7fe3c205f9.jpg: 640x640 1 Black_honey_shrub, 7.8ms\n",
            "image 586/1917 /content/drive/MyDrive/AyushVision/yolo/final/test/images/IMG20240408162305_jpg.rf.5fe6810003c426b10dc73f93202b5f73.jpg: 640x640 1 Black_honey_shrub, 7.7ms\n",
            "image 587/1917 /content/drive/MyDrive/AyushVision/yolo/final/test/images/IMG20240408162355_jpg.rf.33bfe7d1a00e06e4989580c9c1e4efc3.jpg: 640x640 1 Black_honey_shrub, 8.1ms\n",
            "image 588/1917 /content/drive/MyDrive/AyushVision/yolo/final/test/images/IMG20240408162423_jpg.rf.50dc08b2748fd8eba14c15ae99e2f25b.jpg: 640x640 1 Black_honey_shrub, 7.9ms\n",
            "image 589/1917 /content/drive/MyDrive/AyushVision/yolo/final/test/images/IMG20240408162539_jpg.rf.0057c199aecc2618af1d1ed86986f60d.jpg: 640x640 1 Neem, 7.8ms\n",
            "image 590/1917 /content/drive/MyDrive/AyushVision/yolo/final/test/images/IMG20240408162559_jpg.rf.ad99465454aab3d02ce0c05a1236d8ec.jpg: 640x640 1 Black_honey_shrub, 7.7ms\n",
            "image 591/1917 /content/drive/MyDrive/AyushVision/yolo/final/test/images/IMG20240424170501_jpg.rf.9e91c4f5661eea3e4e760aee3b72faed.jpg: 640x640 1 Pedaliummurex, 7.9ms\n",
            "image 592/1917 /content/drive/MyDrive/AyushVision/yolo/final/test/images/IMG20240424170517_jpg.rf.0803a4468dac647f39fb2628e424324e.jpg: 640x640 1 Pedaliummurex, 7.5ms\n",
            "image 593/1917 /content/drive/MyDrive/AyushVision/yolo/final/test/images/IMG20240424170529_jpg.rf.fa9d98133d2e6e0bb3d2ff0e407c0c57.jpg: 640x640 1 Pedaliummurex, 11.1ms\n",
            "image 594/1917 /content/drive/MyDrive/AyushVision/yolo/final/test/images/IMG20240424170612_jpg.rf.a8d9489ffef119e62114b9554ef8e3e9.jpg: 640x640 1 Landrina, 2 Pedaliummurexs, 7.6ms\n",
            "image 595/1917 /content/drive/MyDrive/AyushVision/yolo/final/test/images/IMG20240424170647_jpg.rf.9d7cca9b6da6841e98411420c0eaad73.jpg: 640x640 1 Pedaliummurex, 7.5ms\n",
            "image 596/1917 /content/drive/MyDrive/AyushVision/yolo/final/test/images/IMG20240424170654_jpg.rf.07ef49cffcccdfaa3411cf69bbb4cb86.jpg: 640x640 1 Pedaliummurex, 7.5ms\n",
            "image 597/1917 /content/drive/MyDrive/AyushVision/yolo/final/test/images/IMG20240424170809_jpg.rf.f45cb9cd13314ffd1dc53bb8838497cc.jpg: 640x640 2 Pedaliummurexs, 7.5ms\n",
            "image 598/1917 /content/drive/MyDrive/AyushVision/yolo/final/test/images/IMG20240424170824_jpg.rf.9b0037c0804f73279ba01492efd44280.jpg: 640x640 1 Pedaliummurex, 7.5ms\n",
            "image 599/1917 /content/drive/MyDrive/AyushVision/yolo/final/test/images/IMG20240424170950_jpg.rf.323ce43425b67ff633c2ad2e5e167f6f.jpg: 640x640 1 Pedaliummurex, 7.5ms\n",
            "image 600/1917 /content/drive/MyDrive/AyushVision/yolo/final/test/images/IMG20240424170953_jpg.rf.14361b7fb6b098a2a1605b77954db3d0.jpg: 640x640 1 Pedaliummurex, 10.2ms\n",
            "image 601/1917 /content/drive/MyDrive/AyushVision/yolo/final/test/images/IMG20240424170958_jpg.rf.437f5148f0ac107e45e87ea8c74fae73.jpg: 640x640 1 Pedaliummurex, 8.3ms\n",
            "image 602/1917 /content/drive/MyDrive/AyushVision/yolo/final/test/images/IMG20240424171027_jpg.rf.46b8eaf17369dcb2d51bb6efe8cbf196.jpg: 640x640 1 Pedaliummurex, 7.5ms\n",
            "image 603/1917 /content/drive/MyDrive/AyushVision/yolo/final/test/images/IMG20240424171621_jpg.rf.57092fbc115f4b3d869e56561f93fc86.jpg: 640x640 1 Acalyphaindica, 10.4ms\n",
            "image 604/1917 /content/drive/MyDrive/AyushVision/yolo/final/test/images/IMG20240424171653_jpg.rf.43967dd8f336d148503912351aa29e21.jpg: 640x640 1 Acalyphaindica, 11.0ms\n",
            "image 605/1917 /content/drive/MyDrive/AyushVision/yolo/final/test/images/IMG20240424171725_jpg.rf.83628c6bc0557f202b0ee76044e7a9a4.jpg: 640x640 1 Acalyphaindica, 7.7ms\n",
            "image 606/1917 /content/drive/MyDrive/AyushVision/yolo/final/test/images/IMG20240424171730_jpg.rf.2297f7c26d5004178ceb2e4d5e2826ec.jpg: 640x640 1 Acalyphaindica, 7.5ms\n",
            "image 607/1917 /content/drive/MyDrive/AyushVision/yolo/final/test/images/IMG20240424171818_jpg.rf.998b6bec02b1932c3c54d8e40277da2b.jpg: 640x640 1 Acalyphaindica, 7.5ms\n",
            "image 608/1917 /content/drive/MyDrive/AyushVision/yolo/final/test/images/IMG20240424171946_jpg.rf.e7ba48be92a2f5f3974385158311c712.jpg: 640x640 1 Acalyphaindica, 7.8ms\n",
            "image 609/1917 /content/drive/MyDrive/AyushVision/yolo/final/test/images/IMG20240424172153_jpg.rf.d4b18c5368e2047bac16c0d9722283b4.jpg: 640x640 1 Acalyphaindica, 7.6ms\n",
            "image 610/1917 /content/drive/MyDrive/AyushVision/yolo/final/test/images/IMG20240424172208_jpg.rf.def961f45f4ab942d9aafaf29dca101d.jpg: 640x640 1 Acalyphaindica, 7.7ms\n",
            "image 611/1917 /content/drive/MyDrive/AyushVision/yolo/final/test/images/IMG20240424172248_jpg.rf.8a3932e02dd8fc45be49cc30f1698ccf.jpg: 640x640 1 Acalyphaindica, 7.5ms\n",
            "image 612/1917 /content/drive/MyDrive/AyushVision/yolo/final/test/images/IMG20240424172426_jpg.rf.f12aceebedc84975d5b96910b1ac80dc.jpg: 640x640 1 Acalyphaindica, 7.5ms\n",
            "image 613/1917 /content/drive/MyDrive/AyushVision/yolo/final/test/images/IMG20240424172524_jpg.rf.26cbe98c2c624f65ce738f69687b2452.jpg: 640x640 1 Acalyphaindica, 10.0ms\n",
            "image 614/1917 /content/drive/MyDrive/AyushVision/yolo/final/test/images/IMG20240424172527_jpg.rf.2361b284b5d6aac3e8499a9ab9898fe0.jpg: 640x640 1 Acalyphaindica, 7.5ms\n",
            "image 615/1917 /content/drive/MyDrive/AyushVision/yolo/final/test/images/IMG20240424172611_jpg.rf.78dcffa46a111f08a783b48b6e3919b5.jpg: 640x640 2 Acalyphaindicas, 7.5ms\n",
            "image 616/1917 /content/drive/MyDrive/AyushVision/yolo/final/test/images/IMG20240424172614_jpg.rf.8cf170cb52f0cd53c74a569517187049.jpg: 640x640 4 Acalyphaindicas, 7.6ms\n",
            "image 617/1917 /content/drive/MyDrive/AyushVision/yolo/final/test/images/IMG20240424172620_jpg.rf.08fcc621dc81eca89326a68290a557c6.jpg: 640x640 1 Acalyphaindica, 9.0ms\n",
            "image 618/1917 /content/drive/MyDrive/AyushVision/yolo/final/test/images/IMG20240424172718_jpg.rf.d34d8b6b051d0c1815c7e6b8a45cf1c8.jpg: 640x640 2 Acalyphaindicas, 7.9ms\n",
            "image 619/1917 /content/drive/MyDrive/AyushVision/yolo/final/test/images/IMG20240424172842_jpg.rf.5f7f7a57064aed5e1f431b09037a2e2f.jpg: 640x640 2 Acalyphaindicas, 7.7ms\n",
            "image 620/1917 /content/drive/MyDrive/AyushVision/yolo/final/test/images/IMG20240424172854_jpg.rf.1dc00a5bf105644b411b252408e80374.jpg: 640x640 1 Acalyphaindica, 7.9ms\n",
            "image 621/1917 /content/drive/MyDrive/AyushVision/yolo/final/test/images/IMG20240424172907_jpg.rf.fb0f05f95b8de3c08c6306e56b80efbb.jpg: 640x640 1 Acalyphaindica, 8.9ms\n",
            "image 622/1917 /content/drive/MyDrive/AyushVision/yolo/final/test/images/IMG20240424172918_jpg.rf.1278bda842a35480f1f8691dac524c7c.jpg: 640x640 1 Acalyphaindica, 8.0ms\n",
            "image 623/1917 /content/drive/MyDrive/AyushVision/yolo/final/test/images/IMG20240424173109_jpg.rf.f11b11b7877a26a46759d74f58eecaeb.jpg: 640x640 3 Acalyphaindicas, 8.2ms\n",
            "image 624/1917 /content/drive/MyDrive/AyushVision/yolo/final/test/images/IMG20240424173113_jpg.rf.33a2d2fa26afd8e4128b8ccc8eba05c7.jpg: 640x640 (no detections), 8.2ms\n",
            "image 625/1917 /content/drive/MyDrive/AyushVision/yolo/final/test/images/IMG20240425074135_jpg.rf.3ae5b957997e99bb7a4f6bed34223eb1.jpg: 640x640 1 Pedaliummurex, 7.5ms\n",
            "image 626/1917 /content/drive/MyDrive/AyushVision/yolo/final/test/images/IMG20240425074230_jpg.rf.d08bc3ab31011e5593709e1b917c9a9f.jpg: 640x640 1 Pedaliummurex, 1 Redpea_egg_plant, 7.5ms\n",
            "image 627/1917 /content/drive/MyDrive/AyushVision/yolo/final/test/images/IMG20240425074233_jpg.rf.f58e1d4dc0dab97566b703f3b50774f7.jpg: 640x640 1 Pedaliummurex, 8.7ms\n",
            "image 628/1917 /content/drive/MyDrive/AyushVision/yolo/final/test/images/IMG20240425074243_jpg.rf.3652929d8036caa027027e14f858cfa7.jpg: 640x640 1 Pedaliummurex, 10.4ms\n",
            "image 629/1917 /content/drive/MyDrive/AyushVision/yolo/final/test/images/IMG20240425074259_jpg.rf.0bfc2d6f29347321b2ca4ab7d11953d8.jpg: 640x640 1 Pedaliummurex, 8.1ms\n",
            "image 630/1917 /content/drive/MyDrive/AyushVision/yolo/final/test/images/IMG20240425074312_jpg.rf.d910e8f8274aacf37dff1a60eeb6ae1d.jpg: 640x640 1 Pedaliummurex, 7.6ms\n",
            "image 631/1917 /content/drive/MyDrive/AyushVision/yolo/final/test/images/IMG20240425074342_jpg.rf.769fed52137596627828e598b6f7a4dc.jpg: 640x640 1 Pedaliummurex, 10.6ms\n",
            "image 632/1917 /content/drive/MyDrive/AyushVision/yolo/final/test/images/IMG20240425074400_jpg.rf.7b3309e1bed214778259e91215133a01.jpg: 640x640 1 Pedaliummurex, 7.7ms\n",
            "image 633/1917 /content/drive/MyDrive/AyushVision/yolo/final/test/images/IMG20240425074421_jpg.rf.ed5eea5479a7b7cffc6aada5c37d0a94.jpg: 640x640 2 Pedaliummurexs, 8.5ms\n",
            "image 634/1917 /content/drive/MyDrive/AyushVision/yolo/final/test/images/IMG20240425074423_jpg.rf.d09968d66291e027d29e6f0c3102b01b.jpg: 640x640 2 Pedaliummurexs, 11.5ms\n",
            "image 635/1917 /content/drive/MyDrive/AyushVision/yolo/final/test/images/IMG20240425074524_jpg.rf.27274e52c864af3b5e497f0d29c4a45b.jpg: 640x640 1 Pedaliummurex, 8.0ms\n",
            "image 636/1917 /content/drive/MyDrive/AyushVision/yolo/final/test/images/IMG20240425074546_jpg.rf.567cba7cce2552adb588c3ed0c8e6c5e.jpg: 640x640 1 Pedaliummurex, 7.7ms\n",
            "image 637/1917 /content/drive/MyDrive/AyushVision/yolo/final/test/images/IMG20240425074720_jpg.rf.33920f9fefad63c225dd2e7706f57824.jpg: 640x640 1 Pedaliummurex, 7.5ms\n",
            "image 638/1917 /content/drive/MyDrive/AyushVision/yolo/final/test/images/IMG20240425074732_jpg.rf.a23414fc9ee34eb3eb5507cdaafd0a5a.jpg: 640x640 1 Pedaliummurex, 11.0ms\n",
            "image 639/1917 /content/drive/MyDrive/AyushVision/yolo/final/test/images/IMG20240425074803_jpg.rf.683ef6176412438c35e5b79df3c021e5.jpg: 640x640 1 Pedaliummurex, 11.2ms\n",
            "image 640/1917 /content/drive/MyDrive/AyushVision/yolo/final/test/images/IMG20240425074813_jpg.rf.b496d71f1fbff0b884feaf408873d808.jpg: 640x640 1 Pedaliummurex, 10.9ms\n",
            "image 641/1917 /content/drive/MyDrive/AyushVision/yolo/final/test/images/IMG20240425074828_jpg.rf.2b853f189ddaf47764bcef5fb5de5936.jpg: 640x640 1 Pedaliummurex, 11.2ms\n",
            "image 642/1917 /content/drive/MyDrive/AyushVision/yolo/final/test/images/IMG20240425074959_jpg.rf.5b9c1b05cb0dafa80b9ef0aad3501972.jpg: 640x640 1 Pedaliummurex, 7.5ms\n",
            "image 643/1917 /content/drive/MyDrive/AyushVision/yolo/final/test/images/IMG20240425075005_jpg.rf.a5e53fae13ec9c3a1dc9c2b4c7e9ab0b.jpg: 640x640 4 Pedaliummurexs, 10.2ms\n",
            "image 644/1917 /content/drive/MyDrive/AyushVision/yolo/final/test/images/IMG20240425075048_jpg.rf.be14eaae87212011385e564a9a1c0f4c.jpg: 640x640 1 Pedaliummurex, 10.4ms\n",
            "image 645/1917 /content/drive/MyDrive/AyushVision/yolo/final/test/images/IMG20240425075050_jpg.rf.9179f0772f56ab0685163ea6ef5343c5.jpg: 640x640 1 Pedaliummurex, 11.3ms\n",
            "image 646/1917 /content/drive/MyDrive/AyushVision/yolo/final/test/images/IMG20240425075111_jpg.rf.f5b8b11479c14d71e29d1019783938f1.jpg: 640x640 1 Pedaliummurex, 8.1ms\n",
            "image 647/1917 /content/drive/MyDrive/AyushVision/yolo/final/test/images/IMG20240425075117_jpg.rf.81ee566f163c37d96489c7c6e132aff3.jpg: 640x640 1 Pedaliummurex, 8.2ms\n",
            "image 648/1917 /content/drive/MyDrive/AyushVision/yolo/final/test/images/IMG20240425075258_jpg.rf.5f8821989cd6cb7a372a2dfde2cc4946.jpg: 640x640 1 Pedaliummurex, 9.2ms\n",
            "image 649/1917 /content/drive/MyDrive/AyushVision/yolo/final/test/images/IMG20240425075540_jpg.rf.5e82d5ef1eb0276f5a380de7bdab6290.jpg: 640x640 1 Pedaliummurex, 8.6ms\n",
            "image 650/1917 /content/drive/MyDrive/AyushVision/yolo/final/test/images/IMG20240425075642_jpg.rf.663b08eec0f6bd2156978850aa86dacb.jpg: 640x640 1 Pedaliummurex, 7.5ms\n",
            "image 651/1917 /content/drive/MyDrive/AyushVision/yolo/final/test/images/IMG20240425075643_jpg.rf.d8de6a61b07021bf64c5386d816f4a59.jpg: 640x640 1 Pedaliummurex, 7.8ms\n",
            "image 652/1917 /content/drive/MyDrive/AyushVision/yolo/final/test/images/IMG20240425080557_jpg.rf.9e3ca05a629fe6bc9dd6cc96ce8692c9.jpg: 640x640 1 Alovera, 9.7ms\n",
            "image 653/1917 /content/drive/MyDrive/AyushVision/yolo/final/test/images/IMG20240425080746_jpg.rf.46ddeca1aa0f9085b4eb44d75c2d2a1a.jpg: 640x640 1 Alovera, 7.6ms\n",
            "image 654/1917 /content/drive/MyDrive/AyushVision/yolo/final/test/images/IMG20240425080757_jpg.rf.c1d4283d6ea2a96c1627a813fdf121db.jpg: 640x640 1 Alovera, 9.6ms\n",
            "image 655/1917 /content/drive/MyDrive/AyushVision/yolo/final/test/images/IMG20240425080836_jpg.rf.517fefaeb6bac7f0049e2088e2ca0392.jpg: 640x640 1 Alovera, 8.6ms\n",
            "image 656/1917 /content/drive/MyDrive/AyushVision/yolo/final/test/images/IMG20240425081346_jpg.rf.3ab46983e7bd4e14786f3722f6bba007.jpg: 640x640 1 Alovera, 9.1ms\n",
            "image 657/1917 /content/drive/MyDrive/AyushVision/yolo/final/test/images/IMG20240425081548_jpg.rf.e96d7628e5aea92a4e0b90885108e455.jpg: 640x640 1 Alovera, 10.6ms\n",
            "image 658/1917 /content/drive/MyDrive/AyushVision/yolo/final/test/images/IMG20240425081929_jpg.rf.e391ce68409d6b308f233865448844eb.jpg: 640x640 1 Alovera, 7.9ms\n",
            "image 659/1917 /content/drive/MyDrive/AyushVision/yolo/final/test/images/IMG20240425082000_jpg.rf.2bff09a988c80e7ac6a3e5d05eb97901.jpg: 640x640 1 Alovera, 8.1ms\n",
            "image 660/1917 /content/drive/MyDrive/AyushVision/yolo/final/test/images/IMG20240425082122_jpg.rf.e665aab0a9f6a54d46d8f809f80792f6.jpg: 640x640 1 Alovera, 8.0ms\n",
            "image 661/1917 /content/drive/MyDrive/AyushVision/yolo/final/test/images/IMG20240425082138_jpg.rf.e178d77c3d0bea7bba507ebe8e9a626e.jpg: 640x640 1 Alovera, 8.6ms\n",
            "image 662/1917 /content/drive/MyDrive/AyushVision/yolo/final/test/images/IMG20240425082143_jpg.rf.dc6459d3d7355205cddc3a91cb3b1ce6.jpg: 640x640 1 Alovera, 7.9ms\n",
            "image 663/1917 /content/drive/MyDrive/AyushVision/yolo/final/test/images/IMG20240425082152_jpg.rf.79afb2242a8080e20c64bdbef8979d15.jpg: 640x640 1 Alovera, 7.7ms\n",
            "image 664/1917 /content/drive/MyDrive/AyushVision/yolo/final/test/images/IMG20240425082534_jpg.rf.91a5fe536e7d6afad6048a65f694478f.jpg: 640x640 1 Alovera, 8.1ms\n",
            "image 665/1917 /content/drive/MyDrive/AyushVision/yolo/final/test/images/IMG20240425082756_jpg.rf.ebb0306f8b9f6848ebdea2c297be8421.jpg: 640x640 1 Alovera, 7.7ms\n",
            "image 666/1917 /content/drive/MyDrive/AyushVision/yolo/final/test/images/IMG20240425082806_jpg.rf.7a1e4d34514722b410d8856a454d6c3a.jpg: 640x640 1 Alovera, 7.9ms\n",
            "image 667/1917 /content/drive/MyDrive/AyushVision/yolo/final/test/images/IMG20240425083001_jpg.rf.adac7c624d853288213c2b5a26d9a1e4.jpg: 640x640 1 Alovera, 7.6ms\n",
            "image 668/1917 /content/drive/MyDrive/AyushVision/yolo/final/test/images/IMG20240425083005_jpg.rf.b058e983ef9ce0f4768dbbceabab7d05.jpg: 640x640 1 Alovera, 7.5ms\n",
            "image 669/1917 /content/drive/MyDrive/AyushVision/yolo/final/test/images/IMG20240425083730_jpg.rf.013248c4302e26d8dcda530380f8efa2.jpg: 640x640 1 Alovera, 7.8ms\n",
            "image 670/1917 /content/drive/MyDrive/AyushVision/yolo/final/test/images/IMG20240425084017_jpg.rf.9bf8ea37860762e441f2d34b09dcfb6c.jpg: 640x640 1 Alovera, 7.5ms\n",
            "image 671/1917 /content/drive/MyDrive/AyushVision/yolo/final/test/images/IMG20240425084521_jpg.rf.2fa47b4af9d82db06a2f9113d1c645ef.jpg: 640x640 1 Alovera, 1 Ginger, 11.5ms\n",
            "image 672/1917 /content/drive/MyDrive/AyushVision/yolo/final/test/images/IMG20240425084522_jpg.rf.2b4507c57a8fae382a3b4983d9ab265a.jpg: 640x640 1 Ginger, 9.1ms\n",
            "image 673/1917 /content/drive/MyDrive/AyushVision/yolo/final/test/images/IMG20240425084602_jpg.rf.85f7f927894acee31cdd30c409d613a2.jpg: 640x640 1 Ginger, 7.9ms\n",
            "image 674/1917 /content/drive/MyDrive/AyushVision/yolo/final/test/images/IMG20240425084636_jpg.rf.af65f379f841b91d074ef9d97ef1dd22.jpg: 640x640 1 Ginger, 10.7ms\n",
            "image 675/1917 /content/drive/MyDrive/AyushVision/yolo/final/test/images/IMG20240425084659_jpg.rf.ed7e32c7bd46301c24d29204f7d960df.jpg: 640x640 1 Ginger, 10.6ms\n",
            "image 676/1917 /content/drive/MyDrive/AyushVision/yolo/final/test/images/IMG20240425084704_jpg.rf.d2045281aed2897704ee7d9324ba43a3.jpg: 640x640 1 Wild_Turmeric, 7.7ms\n",
            "image 677/1917 /content/drive/MyDrive/AyushVision/yolo/final/test/images/IMG20240425084923_jpg.rf.58601f0015e537dd95e6498d828a3658.jpg: 640x640 1 Ginger, 8.0ms\n",
            "image 678/1917 /content/drive/MyDrive/AyushVision/yolo/final/test/images/IMG20240425084924_jpg.rf.50193aa61955813a012cc3574c4c5c59.jpg: 640x640 1 Ginger, 7.6ms\n",
            "image 679/1917 /content/drive/MyDrive/AyushVision/yolo/final/test/images/IMG20240425084932_jpg.rf.71e1e7cdd2f3ee64e23dac8841b9bf64.jpg: 640x640 1 Ginger, 7.7ms\n",
            "image 680/1917 /content/drive/MyDrive/AyushVision/yolo/final/test/images/IMG20240425085057_jpg.rf.a59da107ba0960911971215ae53bf5ef.jpg: 640x640 3 Betels, 7.6ms\n",
            "image 681/1917 /content/drive/MyDrive/AyushVision/yolo/final/test/images/IMG20240425085738_jpg.rf.8fb9d8c37b499c953401086ac5856701.jpg: 640x640 2 Acalyphaindicas, 10.3ms\n",
            "image 682/1917 /content/drive/MyDrive/AyushVision/yolo/final/test/images/IMG20240425085833_jpg.rf.8be79407914280a90c484eccf137b225.jpg: 640x640 1 Acalyphaindica, 7.5ms\n",
            "image 683/1917 /content/drive/MyDrive/AyushVision/yolo/final/test/images/IMG20240425085837_jpg.rf.323e520ff495908aeb4cc9747c8ea1f6.jpg: 640x640 (no detections), 7.5ms\n",
            "image 684/1917 /content/drive/MyDrive/AyushVision/yolo/final/test/images/IMG20240425085842_jpg.rf.826874393d041c4af0c8caee42009fb3.jpg: 640x640 1 Acalyphaindica, 7.5ms\n",
            "image 685/1917 /content/drive/MyDrive/AyushVision/yolo/final/test/images/IMG20240425085935_jpg.rf.c060d4461d592eb7095bf8326032844d.jpg: 640x640 1 Acalyphaindica, 7.6ms\n",
            "image 686/1917 /content/drive/MyDrive/AyushVision/yolo/final/test/images/IMG20240425090007_jpg.rf.a9ed39c574135f3dfd98563e5daf0f02.jpg: 640x640 1 Acalyphaindica, 7.6ms\n",
            "image 687/1917 /content/drive/MyDrive/AyushVision/yolo/final/test/images/IMG20240425090134_jpg.rf.2e33a80b6c2c6711752f2d570b75b916.jpg: 640x640 1 Acalyphaindica, 7.6ms\n",
            "image 688/1917 /content/drive/MyDrive/AyushVision/yolo/final/test/images/IMG20240425090928_jpg.rf.a443dba6459c0379b6deaa97ad2da176.jpg: 640x640 1 Caster, 7.9ms\n",
            "image 689/1917 /content/drive/MyDrive/AyushVision/yolo/final/test/images/IMG20240425091033_jpg.rf.e0b823c6432913a7cdf156d8af5a9266.jpg: 640x640 1 Caster, 7.6ms\n",
            "image 690/1917 /content/drive/MyDrive/AyushVision/yolo/final/test/images/IMG20240425091215_jpg.rf.189d3c4299c6c7b7a1da3ba4a63f392d.jpg: 640x640 1 Caster, 8.8ms\n",
            "image 691/1917 /content/drive/MyDrive/AyushVision/yolo/final/test/images/IMG20240425091217_jpg.rf.611d2e716f166ad5855c3bd47b721722.jpg: 640x640 2 Casters, 12.0ms\n",
            "image 692/1917 /content/drive/MyDrive/AyushVision/yolo/final/test/images/IMG20240425091220_jpg.rf.de2905d84704e410ea95560b5e77174f.jpg: 640x640 1 Caster, 12.1ms\n",
            "image 693/1917 /content/drive/MyDrive/AyushVision/yolo/final/test/images/IMG20240425091312_jpg.rf.78771436746bde951ae348cc95896482.jpg: 640x640 1 Caster, 8.3ms\n",
            "image 694/1917 /content/drive/MyDrive/AyushVision/yolo/final/test/images/IMG20240425091321_jpg.rf.33492325db7292eca56fd47e30a67a59.jpg: 640x640 1 Caster, 8.2ms\n",
            "image 695/1917 /content/drive/MyDrive/AyushVision/yolo/final/test/images/IMG20240425091326_jpg.rf.739b373add34b7cbf06ca5937aa04fea.jpg: 640x640 1 Caster, 8.0ms\n",
            "image 696/1917 /content/drive/MyDrive/AyushVision/yolo/final/test/images/IMG20240425091331_jpg.rf.8f1db172e3198ce830b74ae1f09ee357.jpg: 640x640 1 Caster, 11.6ms\n",
            "image 697/1917 /content/drive/MyDrive/AyushVision/yolo/final/test/images/IMG20240425091337_jpg.rf.aa78869ef5b7eb8eb34260aeacc3a8a8.jpg: 640x640 1 Caster, 7.6ms\n",
            "image 698/1917 /content/drive/MyDrive/AyushVision/yolo/final/test/images/IMG20240425091339_jpg.rf.18d47955c55f446f96d6b7cf1e01537d.jpg: 640x640 1 Caster, 11.2ms\n",
            "image 699/1917 /content/drive/MyDrive/AyushVision/yolo/final/test/images/IMG20240425091345_jpg.rf.727ff53731dbe3baa5e8aa15b026eb14.jpg: 640x640 1 Caster, 7.5ms\n",
            "image 700/1917 /content/drive/MyDrive/AyushVision/yolo/final/test/images/IMG20240425091457_jpg.rf.e0faa3e057a33e14db17424c3c39d7e0.jpg: 640x640 1 Caster, 7.5ms\n",
            "image 701/1917 /content/drive/MyDrive/AyushVision/yolo/final/test/images/IMG20240425091512_jpg.rf.d568ac5348c20fffd43e9c08b52c93c6.jpg: 640x640 1 Caster, 8.6ms\n",
            "image 702/1917 /content/drive/MyDrive/AyushVision/yolo/final/test/images/IMG20240425091539_jpg.rf.8e4872be25f54ad1258559eb493e10f7.jpg: 640x640 1 Caster, 8.0ms\n",
            "image 703/1917 /content/drive/MyDrive/AyushVision/yolo/final/test/images/IMG20240425091631_jpg.rf.feaddbf613c5d97f6979b4c2e25a7fe2.jpg: 640x640 1 Caster, 10.4ms\n",
            "image 704/1917 /content/drive/MyDrive/AyushVision/yolo/final/test/images/IMG20240425091754_jpg.rf.de8c715cbc29b31054833f5fcff8015e.jpg: 640x640 1 Acalyphaindica, 7.6ms\n",
            "image 705/1917 /content/drive/MyDrive/AyushVision/yolo/final/test/images/IMG20240425092423_jpg.rf.6167b03f5e5838248d82f3a8ebdf7fe7.jpg: 640x640 (no detections), 7.5ms\n",
            "image 706/1917 /content/drive/MyDrive/AyushVision/yolo/final/test/images/IMG20240425165515_jpg.rf.3f059cf3bf3845b8dda8ceb87da7e41c.jpg: 640x640 1 Pedaliummurex, 8.4ms\n",
            "image 707/1917 /content/drive/MyDrive/AyushVision/yolo/final/test/images/IMG20240425165620_jpg.rf.776584140f666e37af2b60ede141ab24.jpg: 640x640 1 Pedaliummurex, 11.3ms\n",
            "image 708/1917 /content/drive/MyDrive/AyushVision/yolo/final/test/images/IMG20240425165641_jpg.rf.fe8667d4ea5f7a7bbc6bb60c65067ac5.jpg: 640x640 1 Pedaliummurex, 10.4ms\n",
            "image 709/1917 /content/drive/MyDrive/AyushVision/yolo/final/test/images/IMG20240425165718_jpg.rf.a317ec9a9c80b2041eb020caab742433.jpg: 640x640 1 Pedaliummurex, 7.5ms\n",
            "image 710/1917 /content/drive/MyDrive/AyushVision/yolo/final/test/images/IMG20240425165806_jpg.rf.501e8ba5929e5067ba330f57cccd45e8.jpg: 640x640 1 Pedaliummurex, 7.8ms\n",
            "image 711/1917 /content/drive/MyDrive/AyushVision/yolo/final/test/images/IMG20240425165815_jpg.rf.cb617ac127012e677bc706aa8b7edb89.jpg: 640x640 1 Pedaliummurex, 7.5ms\n",
            "image 712/1917 /content/drive/MyDrive/AyushVision/yolo/final/test/images/IMG20240425170008_jpg.rf.3be52eb2bf90a414a3c5909057866526.jpg: 640x640 1 Pedaliummurex, 7.6ms\n",
            "image 713/1917 /content/drive/MyDrive/AyushVision/yolo/final/test/images/IMG20240425170033_jpg.rf.3821f4e15484faefba411623986f1d75.jpg: 640x640 2 Pedaliummurexs, 8.7ms\n",
            "image 714/1917 /content/drive/MyDrive/AyushVision/yolo/final/test/images/IMG20240425170037_jpg.rf.b47f53a9a4e76637bec1d1404658dcb8.jpg: 640x640 1 Pedaliummurex, 7.5ms\n",
            "image 715/1917 /content/drive/MyDrive/AyushVision/yolo/final/test/images/IMG20240425170100_jpg.rf.77e160f54668e2d35b085081ee83ae39.jpg: 640x640 1 Ginger, 7.5ms\n",
            "image 716/1917 /content/drive/MyDrive/AyushVision/yolo/final/test/images/IMG20240425170105_jpg.rf.0f7f59cdad93d04fb0421c2648f9e62f.jpg: 640x640 1 Pedaliummurex, 11.1ms\n",
            "image 717/1917 /content/drive/MyDrive/AyushVision/yolo/final/test/images/IMG20240425170137_jpg.rf.b3f52d3a2a94c0b294fa083a006354e7.jpg: 640x640 2 Pedaliummurexs, 7.6ms\n",
            "image 718/1917 /content/drive/MyDrive/AyushVision/yolo/final/test/images/IMG20240425170228_jpg.rf.bd4cb2c8764bfb21836e384fb0fbc5b3.jpg: 640x640 1 Pedaliummurex, 10.9ms\n",
            "image 719/1917 /content/drive/MyDrive/AyushVision/yolo/final/test/images/IMG20240425170229_jpg.rf.71065586282f330b86d6c1849b209fed.jpg: 640x640 2 Pedaliummurexs, 7.5ms\n",
            "image 720/1917 /content/drive/MyDrive/AyushVision/yolo/final/test/images/IMG20240425170241_jpg.rf.34c85e6357d1fb2c2c31f530e54c76c4.jpg: 640x640 (no detections), 11.3ms\n",
            "image 721/1917 /content/drive/MyDrive/AyushVision/yolo/final/test/images/IMG20240425171445_jpg.rf.ff0e071e2ac1672e0963509833623fbf.jpg: 640x640 1 Caster, 7.5ms\n",
            "image 722/1917 /content/drive/MyDrive/AyushVision/yolo/final/test/images/IMG20240425171508_jpg.rf.b19885f8ada8d69cb02d9b9c422b9ab9.jpg: 640x640 1 Caster, 7.6ms\n",
            "image 723/1917 /content/drive/MyDrive/AyushVision/yolo/final/test/images/IMG20240425171515_jpg.rf.d73b6527b8620f513f19c673c2c1831c.jpg: 640x640 2 Acalyphaindicas, 7.7ms\n",
            "image 724/1917 /content/drive/MyDrive/AyushVision/yolo/final/test/images/IMG20240425171632_jpg.rf.709f415e3c31dc702836d59d4f165468.jpg: 640x640 1 Acalyphaindica, 7.5ms\n",
            "image 725/1917 /content/drive/MyDrive/AyushVision/yolo/final/test/images/IMG20240425171634_jpg.rf.864ac3ef7ec18db68ad1f84e25454e89.jpg: 640x640 2 Acalyphaindicas, 10.7ms\n",
            "image 726/1917 /content/drive/MyDrive/AyushVision/yolo/final/test/images/IMG20240425171659_jpg.rf.32352bbbadacdb0dc40e744852c8ea94.jpg: 640x640 1 Caster, 8.3ms\n",
            "image 727/1917 /content/drive/MyDrive/AyushVision/yolo/final/test/images/IMG20240425171730_jpg.rf.77eb43914e5b7ea2b1e3c98c08e2abdf.jpg: 640x640 2 Casters, 11.2ms\n",
            "image 728/1917 /content/drive/MyDrive/AyushVision/yolo/final/test/images/IMG20240425171748_jpg.rf.895eb7695e49a2c415398e5e4af47921.jpg: 640x640 1 Caster, 7.9ms\n",
            "image 729/1917 /content/drive/MyDrive/AyushVision/yolo/final/test/images/IMG20240425171854_jpg.rf.be0cd83bbbd533c1ae9ed8d8128bafc9.jpg: 640x640 1 Caster, 8.1ms\n",
            "image 730/1917 /content/drive/MyDrive/AyushVision/yolo/final/test/images/IMG20240425171858_jpg.rf.51f68edd2de7662f151d2e728202f36a.jpg: 640x640 1 Caster, 11.3ms\n",
            "image 731/1917 /content/drive/MyDrive/AyushVision/yolo/final/test/images/IMG20240425171957_jpg.rf.d8e6dea01e630cc7bc5bb1d28b36e2c8.jpg: 640x640 1 Caster, 11.4ms\n",
            "image 732/1917 /content/drive/MyDrive/AyushVision/yolo/final/test/images/IMG20240425172011_jpg.rf.f7c68f6c58400cb04dab51f2397b1ac9.jpg: 640x640 1 Caster, 7.9ms\n",
            "image 733/1917 /content/drive/MyDrive/AyushVision/yolo/final/test/images/IMG20240425172753_jpg.rf.a4ec2d3484c37dfed8be1e2291e62c90.jpg: 640x640 1 Betel, 9.1ms\n",
            "image 734/1917 /content/drive/MyDrive/AyushVision/yolo/final/test/images/IMG20240425172819_jpg.rf.806d60595a96099f52934a33c8ee6b50.jpg: 640x640 1 Betel, 7.6ms\n",
            "image 735/1917 /content/drive/MyDrive/AyushVision/yolo/final/test/images/IMG20240425172851_jpg.rf.6914e56ead15d27813c77719d14a690b.jpg: 640x640 1 Betel, 8.8ms\n",
            "image 736/1917 /content/drive/MyDrive/AyushVision/yolo/final/test/images/IMG20240425172902_jpg.rf.714b99bd1759d6e60789a8aac56a66f4.jpg: 640x640 1 Betel, 8.3ms\n",
            "image 737/1917 /content/drive/MyDrive/AyushVision/yolo/final/test/images/IMG20240425172920_jpg.rf.ff5c11c183661dedbdc20613582fed89.jpg: 640x640 1 Betel, 7.6ms\n",
            "image 738/1917 /content/drive/MyDrive/AyushVision/yolo/final/test/images/IMG20240425172953_jpg.rf.262fbcf8ef318e991dd7af2b2050588e.jpg: 640x640 1 Betel, 7.7ms\n",
            "image 739/1917 /content/drive/MyDrive/AyushVision/yolo/final/test/images/IMG20240425173011_jpg.rf.13422944935056927a990c864f94da21.jpg: 640x640 1 Betel, 8.0ms\n",
            "image 740/1917 /content/drive/MyDrive/AyushVision/yolo/final/test/images/IMG20240425173054_jpg.rf.9837c22a262b8c30712ba90c54853235.jpg: 640x640 1 Betel, 7.8ms\n",
            "image 741/1917 /content/drive/MyDrive/AyushVision/yolo/final/test/images/IMG20240425173103_jpg.rf.cbc7858b9fa45d5e15f53d5e24178a10.jpg: 640x640 1 Betel, 7.9ms\n",
            "image 742/1917 /content/drive/MyDrive/AyushVision/yolo/final/test/images/IMG20240425173129_jpg.rf.335df15c5580db260408b86534d9be16.jpg: 640x640 1 Betel, 7.7ms\n",
            "image 743/1917 /content/drive/MyDrive/AyushVision/yolo/final/test/images/IMG20240425173137_jpg.rf.781a1ae6754c958d65054cf2e8a7f466.jpg: 640x640 1 Betel, 7.6ms\n",
            "image 744/1917 /content/drive/MyDrive/AyushVision/yolo/final/test/images/IMG20240425173152_jpg.rf.b6abca90f4120b7ba1bd87de6438aa1a.jpg: 640x640 1 Betel, 7.9ms\n",
            "image 745/1917 /content/drive/MyDrive/AyushVision/yolo/final/test/images/IMG20240425173253_jpg.rf.78cfb30c26e7a73d1e2a3eb56c52c48f.jpg: 640x640 1 Landrina, 7.8ms\n",
            "image 746/1917 /content/drive/MyDrive/AyushVision/yolo/final/test/images/IMG20240425173323_jpg.rf.88b530204161c4e2f88c33b3f8a898fe.jpg: 640x640 1 Betel, 7.8ms\n",
            "image 747/1917 /content/drive/MyDrive/AyushVision/yolo/final/test/images/IMG20240425173422_jpg.rf.d1c6586397282db423701c0e11de6b35.jpg: 640x640 1 Betel, 7.6ms\n",
            "image 748/1917 /content/drive/MyDrive/AyushVision/yolo/final/test/images/IMG20240425173611_jpg.rf.4188f2ebaa2d5d189dd4e2867e3a397d.jpg: 640x640 1 Betel, 9.2ms\n",
            "image 749/1917 /content/drive/MyDrive/AyushVision/yolo/final/test/images/IMG20240425173638_jpg.rf.0515b08bf5a63a239f3cb6f6815ba6ac.jpg: 640x640 1 Acalyphaindica, 9.0ms\n",
            "image 750/1917 /content/drive/MyDrive/AyushVision/yolo/final/test/images/IMG20240425173642_jpg.rf.6aa4263ed962a52124600e0e598336ed.jpg: 640x640 1 Betel, 7.6ms\n",
            "image 751/1917 /content/drive/MyDrive/AyushVision/yolo/final/test/images/IMG20240425173644_jpg.rf.387e5f57d8cb0d50f5880869eff3de52.jpg: 640x640 1 Betel, 7.5ms\n",
            "image 752/1917 /content/drive/MyDrive/AyushVision/yolo/final/test/images/IMG20240425173708_jpg.rf.2263579231eb45e29f1529ef0bfbdfe2.jpg: 640x640 1 Acalyphaindica, 7.5ms\n",
            "image 753/1917 /content/drive/MyDrive/AyushVision/yolo/final/test/images/IMG20240425173918_jpg.rf.73542a6ae8dd900e36df81d35731eab2.jpg: 640x640 1 Betel, 7.6ms\n",
            "image 754/1917 /content/drive/MyDrive/AyushVision/yolo/final/test/images/IMG20240425174141_jpg.rf.415abcbdf325d0ef90239588d5f7e64f.jpg: 640x640 1 Betel, 7.7ms\n",
            "image 755/1917 /content/drive/MyDrive/AyushVision/yolo/final/test/images/IMG20240425174144_jpg.rf.8b20caef31703acb362be59d658775c4.jpg: 640x640 1 Betel, 7.6ms\n",
            "image 756/1917 /content/drive/MyDrive/AyushVision/yolo/final/test/images/IMG20240425174344_jpg.rf.ae4e9c71ef9ecc6301ee2a77343e2c7c.jpg: 640x640 1 Betel, 7.5ms\n",
            "image 757/1917 /content/drive/MyDrive/AyushVision/yolo/final/test/images/IMG20240425174429_jpg.rf.231777c32589a451cee6f33e9bbcb5ab.jpg: 640x640 1 Betel, 7.5ms\n",
            "image 758/1917 /content/drive/MyDrive/AyushVision/yolo/final/test/images/IMG20240425174441_jpg.rf.52776e57ba8543afd1a5aad5909c307b.jpg: 640x640 1 Betel, 8.6ms\n",
            "image 759/1917 /content/drive/MyDrive/AyushVision/yolo/final/test/images/IMG20240425174518_jpg.rf.75b54cd401df8db71cc633cf65e72275.jpg: 640x640 1 Betel, 7.7ms\n",
            "image 760/1917 /content/drive/MyDrive/AyushVision/yolo/final/test/images/IMG20240425174528_jpg.rf.853ddba8026825069b6c939c3761c56a.jpg: 640x640 1 Betel, 7.7ms\n",
            "image 761/1917 /content/drive/MyDrive/AyushVision/yolo/final/test/images/IMG20240425174557_jpg.rf.0d7f8d082d85bac86438dcd621d8352c.jpg: 640x640 1 Betel, 7.5ms\n",
            "image 762/1917 /content/drive/MyDrive/AyushVision/yolo/final/test/images/IMG20240425175511_jpg.rf.c40141fb4816d52ed00dd9a799de343e.jpg: 640x640 1 Black_honey_shrub, 1 Neem, 7.5ms\n",
            "image 763/1917 /content/drive/MyDrive/AyushVision/yolo/final/test/images/IMG20240425175526_jpg.rf.d7969df352c1dce340e93457347ba6d2.jpg: 640x640 1 Black_honey_shrub, 7.6ms\n",
            "image 764/1917 /content/drive/MyDrive/AyushVision/yolo/final/test/images/IMG20240425175624_jpg.rf.36253ab3fc0b2430804783d4a8ca8ddc.jpg: 640x640 1 Black_honey_shrub, 8.5ms\n",
            "image 765/1917 /content/drive/MyDrive/AyushVision/yolo/final/test/images/IMG20240425175743_jpg.rf.ba65993772a3b807c006676ea875b296.jpg: 640x640 1 Black_honey_shrub, 8.9ms\n",
            "image 766/1917 /content/drive/MyDrive/AyushVision/yolo/final/test/images/IMG20240425175805_jpg.rf.be5ce5932e220ad8cbcc226dbdfeb7b4.jpg: 640x640 1 Black_honey_shrub, 10.4ms\n",
            "image 767/1917 /content/drive/MyDrive/AyushVision/yolo/final/test/images/IMG20240425180704_jpg.rf.eb8d2ce7155800c12c47f8f3b8edac80.jpg: 640x640 1 Black_honey_shrub, 9.9ms\n",
            "image 768/1917 /content/drive/MyDrive/AyushVision/yolo/final/test/images/IMG20240425180742_jpg.rf.b3dd58a2f598d3daf45e43735ab5161d.jpg: 640x640 1 Black_honey_shrub, 9.7ms\n",
            "image 769/1917 /content/drive/MyDrive/AyushVision/yolo/final/test/images/IMG20240426192332_jpg.rf.0a6ba27b81b80a459e9054cc308e6cc1.jpg: 640x640 1 Acalyphaindica, 9.9ms\n",
            "image 770/1917 /content/drive/MyDrive/AyushVision/yolo/final/test/images/IMG20240426192343_jpg.rf.973d0698f9e493b1000ae19c01a81ee6.jpg: 640x640 1 Acalyphaindica, 9.2ms\n",
            "image 771/1917 /content/drive/MyDrive/AyushVision/yolo/final/test/images/IMG20240426192751_jpg.rf.6dfeb4197b175383b4ad37d9129c210d.jpg: 640x640 1 Acalyphaindica, 8.1ms\n",
            "image 772/1917 /content/drive/MyDrive/AyushVision/yolo/final/test/images/IMG20240426193438_jpg.rf.4a74e2dbd1a6239db5b1ce44020bcb0d.jpg: 640x640 1 Acalyphaindica, 7.8ms\n",
            "image 773/1917 /content/drive/MyDrive/AyushVision/yolo/final/test/images/IMG20240426193541_jpg.rf.7381ea22c30bf5c1536b5ad0431c1407.jpg: 640x640 1 Acalyphaindica, 7.8ms\n",
            "image 774/1917 /content/drive/MyDrive/AyushVision/yolo/final/test/images/IMG20240426193748_jpg.rf.6dd71789ced6f621cc41f80753c6264f.jpg: 640x640 1 Acalyphaindica, 7.7ms\n",
            "image 775/1917 /content/drive/MyDrive/AyushVision/yolo/final/test/images/IMG20240426193759_jpg.rf.ed2e3ba7058255d70fc89a418a729f85.jpg: 640x640 1 Acalyphaindica, 7.5ms\n",
            "image 776/1917 /content/drive/MyDrive/AyushVision/yolo/final/test/images/IMG20240426194042_jpg.rf.0161c062594ec82748cc06333605fc83.jpg: 640x640 1 Acalyphaindica, 8.1ms\n",
            "image 777/1917 /content/drive/MyDrive/AyushVision/yolo/final/test/images/IMG20240426194049_jpg.rf.2c92252518f4831946da41329187e525.jpg: 640x640 1 Acalyphaindica, 7.9ms\n",
            "image 778/1917 /content/drive/MyDrive/AyushVision/yolo/final/test/images/IMG20240426194112_jpg.rf.5c280a523cfb6a7c43abc35c082bdbf5.jpg: 640x640 1 Acalyphaindica, 7.9ms\n",
            "image 779/1917 /content/drive/MyDrive/AyushVision/yolo/final/test/images/IMG20240426194128_jpg.rf.c223f2acf4310a817aef3db1a12d1681.jpg: 640x640 1 Acalyphaindica, 9.4ms\n",
            "image 780/1917 /content/drive/MyDrive/AyushVision/yolo/final/test/images/IMG20240427092306_jpg.rf.875a58b9396199b9799fe0b99b98c237.jpg: 640x640 1 Acalyphaindica, 8.1ms\n",
            "image 781/1917 /content/drive/MyDrive/AyushVision/yolo/final/test/images/IMG20240427172452_jpg.rf.a582f7bf2ec40c1cdbfdaa9dd054933e.jpg: 640x640 1 Cinnamon, 9.5ms\n",
            "image 782/1917 /content/drive/MyDrive/AyushVision/yolo/final/test/images/IMG20240427172500_jpg.rf.4113a7cf0eb8946bcb1b06f15594e545.jpg: 640x640 1 Cinnamon, 9.9ms\n",
            "image 783/1917 /content/drive/MyDrive/AyushVision/yolo/final/test/images/IMG20240427172513_jpg.rf.b488828fbf7aa445a374daf96811fc73.jpg: 640x640 1 Cinnamon, 7.7ms\n",
            "image 784/1917 /content/drive/MyDrive/AyushVision/yolo/final/test/images/IMG20240427172612_jpg.rf.8d0e359761bd83bf3c28ce8432b69c5f.jpg: 640x640 1 Cinnamon, 9.0ms\n",
            "image 785/1917 /content/drive/MyDrive/AyushVision/yolo/final/test/images/IMG20240427172643_jpg.rf.73d99cee490a590b233cc88af63dc949.jpg: 640x640 1 Cinnamon, 7.5ms\n",
            "image 786/1917 /content/drive/MyDrive/AyushVision/yolo/final/test/images/IMG20240427172657_jpg.rf.1fbc21666151546f4f0e5c46ce03da12.jpg: 640x640 1 Cinnamon, 7.6ms\n",
            "image 787/1917 /content/drive/MyDrive/AyushVision/yolo/final/test/images/IMG20240427172708_jpg.rf.1ac3961f5af745769aabde5469ec9e5a.jpg: 640x640 1 Cinnamon, 7.6ms\n",
            "image 788/1917 /content/drive/MyDrive/AyushVision/yolo/final/test/images/IMG20240427172819_jpg.rf.fb7120e2926253a4d063a1b025ce37dd.jpg: 640x640 1 Cinnamon, 8.1ms\n",
            "image 789/1917 /content/drive/MyDrive/AyushVision/yolo/final/test/images/IMG20240427172825_jpg.rf.c0bcbfa8e6adb94aa0f53fdcd787b02f.jpg: 640x640 1 Cinnamon, 8.1ms\n",
            "image 790/1917 /content/drive/MyDrive/AyushVision/yolo/final/test/images/IMG20240427172829_jpg.rf.9aa2f343cf5aba8a43b1232c8ff962e8.jpg: 640x640 1 Cinnamon, 7.8ms\n",
            "image 791/1917 /content/drive/MyDrive/AyushVision/yolo/final/test/images/IMG20240427172905_jpg.rf.dd73340fffabfbff3ccb36c911a56c66.jpg: 640x640 1 Cinnamon, 7.7ms\n",
            "image 792/1917 /content/drive/MyDrive/AyushVision/yolo/final/test/images/IMG20240427172915_jpg.rf.5cd993cb357c2c7abc5f707eb1ec4da6.jpg: 640x640 1 Cinnamon, 8.0ms\n",
            "image 793/1917 /content/drive/MyDrive/AyushVision/yolo/final/test/images/IMG20240427172959_jpg.rf.949795a7024416d8244d6f0232f3c9f5.jpg: 640x640 1 Cinnamon, 7.9ms\n",
            "image 794/1917 /content/drive/MyDrive/AyushVision/yolo/final/test/images/IMG20240427173018_jpg.rf.c45f9336f2d4c4eaaa53569ceffabf96.jpg: 640x640 1 Cinnamon, 7.7ms\n",
            "image 795/1917 /content/drive/MyDrive/AyushVision/yolo/final/test/images/IMG20240427173110_jpg.rf.6c77521c8682194b3726e929af05353c.jpg: 640x640 1 Cinnamon, 7.6ms\n",
            "image 796/1917 /content/drive/MyDrive/AyushVision/yolo/final/test/images/IMG20240427173218_jpg.rf.1dcad17f028908fb2431d9ce49901b35.jpg: 640x640 1 Cinnamon, 7.9ms\n",
            "image 797/1917 /content/drive/MyDrive/AyushVision/yolo/final/test/images/IMG20240427173229_jpg.rf.d7e1434be7d89b35839a1a460378e75e.jpg: 640x640 1 Henna, 7.7ms\n",
            "image 798/1917 /content/drive/MyDrive/AyushVision/yolo/final/test/images/IMG20240427173234_jpg.rf.0e740ccd26d336dd7da96f214eed69ae.jpg: 640x640 1 Cinnamon, 7.5ms\n",
            "image 799/1917 /content/drive/MyDrive/AyushVision/yolo/final/test/images/IMG20240427173250_jpg.rf.01516c2220a977826288494c58350964.jpg: 640x640 1 Cinnamon, 7.6ms\n",
            "image 800/1917 /content/drive/MyDrive/AyushVision/yolo/final/test/images/IMG20240427173546_jpg.rf.27ed61ceb39753d9b61d6b661bc74fb5.jpg: 640x640 1 Black_honey_shrub, 7.7ms\n",
            "image 801/1917 /content/drive/MyDrive/AyushVision/yolo/final/test/images/IMG20240427173626_jpg.rf.848289b121d9fdf90e7a720a81e29ed4.jpg: 640x640 (no detections), 7.8ms\n",
            "image 802/1917 /content/drive/MyDrive/AyushVision/yolo/final/test/images/IMG20240427173630_jpg.rf.4718053eaed10013cf887bc2c5f41d31.jpg: 640x640 1 Black_honey_shrub, 7.7ms\n",
            "image 803/1917 /content/drive/MyDrive/AyushVision/yolo/final/test/images/IMG20240427173639_jpg.rf.c7d0b63fc8c07e3b681b4c3730709a38.jpg: 640x640 1 Black_honey_shrub, 8.5ms\n",
            "image 804/1917 /content/drive/MyDrive/AyushVision/yolo/final/test/images/IMG20240427173642_jpg.rf.bf53dddede937e7616fa81fc37e587ca.jpg: 640x640 1 Black_honey_shrub, 11.2ms\n",
            "image 805/1917 /content/drive/MyDrive/AyushVision/yolo/final/test/images/IMG20240427173953_jpg.rf.b355e68ba2ec24e54f6498c215c5049d.jpg: 640x640 1 Black_honey_shrub, 8.8ms\n",
            "image 806/1917 /content/drive/MyDrive/AyushVision/yolo/final/test/images/IMG20240427173954_jpg.rf.f8145dcd771d16a80e44f79623e46f33.jpg: 640x640 1 Black_honey_shrub, 7.8ms\n",
            "image 807/1917 /content/drive/MyDrive/AyushVision/yolo/final/test/images/IMG20240427174006_jpg.rf.d84260de6170be0ed8c59ef292498b7f.jpg: 640x640 1 Black_honey_shrub, 8.1ms\n",
            "image 808/1917 /content/drive/MyDrive/AyushVision/yolo/final/test/images/IMG20240427174026_jpg.rf.f8ef995ea124fed7035993bb0bfd642a.jpg: 640x640 1 Black_honey_shrub, 9.2ms\n",
            "image 809/1917 /content/drive/MyDrive/AyushVision/yolo/final/test/images/IMG20240427174145_jpg.rf.f2e7848d414bb36dd48b2ada4956dcfd.jpg: 640x640 1 Black_honey_shrub, 7.8ms\n",
            "image 810/1917 /content/drive/MyDrive/AyushVision/yolo/final/test/images/IMG20240427174146_jpg.rf.26a837a76d42a48840a2c54def7370d7.jpg: 640x640 1 Black_honey_shrub, 7.5ms\n",
            "image 811/1917 /content/drive/MyDrive/AyushVision/yolo/final/test/images/IMG20240427174214_jpg.rf.3d645e9ba56593bb8558c35504423fbe.jpg: 640x640 1 Black_honey_shrub, 8.2ms\n",
            "image 812/1917 /content/drive/MyDrive/AyushVision/yolo/final/test/images/IMG20240427174216_jpg.rf.0dabc9c8504349998458e156881174be.jpg: 640x640 1 Black_honey_shrub, 7.8ms\n",
            "image 813/1917 /content/drive/MyDrive/AyushVision/yolo/final/test/images/IMG20240427174301_jpg.rf.e76dba205af81c81bcca84db666e361c.jpg: 640x640 1 Black_honey_shrub, 7.6ms\n",
            "image 814/1917 /content/drive/MyDrive/AyushVision/yolo/final/test/images/IMG20240427174359_jpg.rf.8e07648198857cd59e1ccf8f5b135b9a.jpg: 640x640 1 Black_honey_shrub, 7.7ms\n",
            "image 815/1917 /content/drive/MyDrive/AyushVision/yolo/final/test/images/IMG20240427174401_jpg.rf.acc319d8df4f913a9cb53e14262fbbc0.jpg: 640x640 1 Black_honey_shrub, 7.8ms\n",
            "image 816/1917 /content/drive/MyDrive/AyushVision/yolo/final/test/images/IMG20240427174404_jpg.rf.8a46431edb0521ce6162af704b86734c.jpg: 640x640 1 Black_honey_shrub, 7.5ms\n",
            "image 817/1917 /content/drive/MyDrive/AyushVision/yolo/final/test/images/IMG20240427174408_jpg.rf.60b27c24466659a9d61847298d24a3c3.jpg: 640x640 1 Black_honey_shrub, 7.5ms\n",
            "image 818/1917 /content/drive/MyDrive/AyushVision/yolo/final/test/images/IMG20240427174415_jpg.rf.8bbfe39d337455460b97c9edaf04ccb9.jpg: 640x640 1 Vitexnegundo, 7.9ms\n",
            "image 819/1917 /content/drive/MyDrive/AyushVision/yolo/final/test/images/IMG20240427174427_jpg.rf.a30adb19da56619d3de43bd28eb13a02.jpg: 640x640 1 Black_honey_shrub, 9.6ms\n",
            "image 820/1917 /content/drive/MyDrive/AyushVision/yolo/final/test/images/IMG20240427174440_jpg.rf.dbac0eba005f39709afc34834c6f10e2.jpg: 640x640 1 Black_honey_shrub, 7.9ms\n",
            "image 821/1917 /content/drive/MyDrive/AyushVision/yolo/final/test/images/IMG20240427180153_jpg.rf.8a6bd4bfefa10e67c940bd2d073dfc60.jpg: 640x640 1 Black_honey_shrub, 7.8ms\n",
            "image 822/1917 /content/drive/MyDrive/AyushVision/yolo/final/test/images/IMG20240427180202_jpg.rf.8775c55739b15cacb8f77350d9fdc880.jpg: 640x640 1 Black_honey_shrub, 7.7ms\n",
            "image 823/1917 /content/drive/MyDrive/AyushVision/yolo/final/test/images/IMG20240427180214_jpg.rf.c9baba8ef16a667a71866dc6fb9eac48.jpg: 640x640 1 Black_honey_shrub, 9.0ms\n",
            "image 824/1917 /content/drive/MyDrive/AyushVision/yolo/final/test/images/IMG20240427180311_jpg.rf.c71e93873a80afd66ce9e5093a1730a1.jpg: 640x640 1 Black_honey_shrub, 7.6ms\n",
            "image 825/1917 /content/drive/MyDrive/AyushVision/yolo/final/test/images/IMG20240427180332_jpg.rf.d52fcee90c842317462f6fe3c3cbbbe6.jpg: 640x640 1 Neem, 7.6ms\n",
            "image 826/1917 /content/drive/MyDrive/AyushVision/yolo/final/test/images/IMG20240427180350_jpg.rf.64d4f846ef4cb81dcee7cdcfdc12831a.jpg: 640x640 1 Black_honey_shrub, 7.6ms\n",
            "image 827/1917 /content/drive/MyDrive/AyushVision/yolo/final/test/images/IMG20240501154712_jpg.rf.646bc3560d5a6221c01b4569b4f61b23.jpg: 640x640 1 Ivy_gourd, 7.5ms\n",
            "image 828/1917 /content/drive/MyDrive/AyushVision/yolo/final/test/images/IMG20240501155415_jpg.rf.dc8504159c8d21258ce513a2c74e51b8.jpg: 640x640 1 Ivy_gourd, 7.7ms\n",
            "image 829/1917 /content/drive/MyDrive/AyushVision/yolo/final/test/images/IMG20240501155501_jpg.rf.7546fcc1ef23a5493afde0981a899b9e.jpg: 640x640 1 Ivy_gourd, 7.7ms\n",
            "image 830/1917 /content/drive/MyDrive/AyushVision/yolo/final/test/images/IMG20240501155621_jpg.rf.f7f2328a406dbd859ba9ff07fc21a5a4.jpg: 640x640 1 Ivy_gourd, 10.0ms\n",
            "image 831/1917 /content/drive/MyDrive/AyushVision/yolo/final/test/images/IMG20240501155650_jpg.rf.4253c5965801d78f25b3feae9e585691.jpg: 640x640 1 Ivy_gourd, 8.1ms\n",
            "image 832/1917 /content/drive/MyDrive/AyushVision/yolo/final/test/images/IMG20240501155711_jpg.rf.f2a02a6489da49ff2d244e4ae2f3b10f.jpg: 640x640 1 Ivy_gourd, 7.8ms\n",
            "image 833/1917 /content/drive/MyDrive/AyushVision/yolo/final/test/images/IMG20240501155727_jpg.rf.099a7a585249148112093060820cf5b1.jpg: 640x640 1 Ivy_gourd, 7.6ms\n",
            "image 834/1917 /content/drive/MyDrive/AyushVision/yolo/final/test/images/IMG20240501155751_jpg.rf.7702bc1fc67b9c6d1c4b110856742390.jpg: 640x640 1 Ivy_gourd, 8.1ms\n",
            "image 835/1917 /content/drive/MyDrive/AyushVision/yolo/final/test/images/IMG20240501155804_jpg.rf.79e49d550d812dc2c81e09e43a570caf.jpg: 640x640 1 Ivy_gourd, 7.7ms\n",
            "image 836/1917 /content/drive/MyDrive/AyushVision/yolo/final/test/images/IMG20240501155822_jpg.rf.d6b8c8ad60441661cddb44541714c9b2.jpg: 640x640 1 Ivy_gourd, 7.6ms\n",
            "image 837/1917 /content/drive/MyDrive/AyushVision/yolo/final/test/images/IMG20240501155837_jpg.rf.656050391db492f93a8c77c7498dc7e3.jpg: 640x640 1 Ivy_gourd, 7.5ms\n",
            "image 838/1917 /content/drive/MyDrive/AyushVision/yolo/final/test/images/IMG20240501155842_jpg.rf.13900bfd00802b4477056f5b5d49009e.jpg: 640x640 1 Ivy_gourd, 7.8ms\n",
            "image 839/1917 /content/drive/MyDrive/AyushVision/yolo/final/test/images/IMG20240501155849_jpg.rf.fa1de330242f48d338271c2a17bc667e.jpg: 640x640 1 Ivy_gourd, 7.5ms\n",
            "image 840/1917 /content/drive/MyDrive/AyushVision/yolo/final/test/images/IMG20240501155853_jpg.rf.d60e75f94b7f3f47986266ea91d7c6a4.jpg: 640x640 1 Ivy_gourd, 7.7ms\n",
            "image 841/1917 /content/drive/MyDrive/AyushVision/yolo/final/test/images/IMG20240501155919_jpg.rf.0654568a9a819d689b1b4780c534f4d2.jpg: 640x640 1 Ivy_gourd, 9.4ms\n",
            "image 842/1917 /content/drive/MyDrive/AyushVision/yolo/final/test/images/IMG20240501160108_jpg.rf.ac59d7a45f032ac75b0c4cbda7422c2e.jpg: 640x640 1 Ivy_gourd, 8.6ms\n",
            "image 843/1917 /content/drive/MyDrive/AyushVision/yolo/final/test/images/IMG20240501160906_jpg.rf.414c2600b8b588199c11d9dd2748fdfd.jpg: 640x640 1 Ivy_gourd, 7.9ms\n",
            "image 844/1917 /content/drive/MyDrive/AyushVision/yolo/final/test/images/IMG20240501160913_jpg.rf.44615a3aa9f514602c782f8746f46275.jpg: 640x640 1 Ivy_gourd, 7.8ms\n",
            "image 845/1917 /content/drive/MyDrive/AyushVision/yolo/final/test/images/IMG20240501160928_jpg.rf.54ed8024221becf8fceb0c6b32aec8aa.jpg: 640x640 1 Ivy_gourd, 8.7ms\n",
            "image 846/1917 /content/drive/MyDrive/AyushVision/yolo/final/test/images/IMG20240501160947_jpg.rf.b3f0be22e767a870f896230b041f9295.jpg: 640x640 1 Ivy_gourd, 9.9ms\n",
            "image 847/1917 /content/drive/MyDrive/AyushVision/yolo/final/test/images/IMG20240501160957_jpg.rf.2873f4747b12804175d40050b9b82da5.jpg: 640x640 1 Ivy_gourd, 7.6ms\n",
            "image 848/1917 /content/drive/MyDrive/AyushVision/yolo/final/test/images/IMG20240501161004_jpg.rf.7e0c1cd13fc812c91bd23b448c6fda44.jpg: 640x640 1 Ivy_gourd, 8.2ms\n",
            "image 849/1917 /content/drive/MyDrive/AyushVision/yolo/final/test/images/IMG20240501161046_jpg.rf.7b6926c38210db9b71901d58c9ce92be.jpg: 640x640 1 Ivy_gourd, 9.7ms\n",
            "image 850/1917 /content/drive/MyDrive/AyushVision/yolo/final/test/images/IMG20240501161712_jpg.rf.4ed9413ba67c59db122abe6f2030f5a2.jpg: 640x640 1 Ivy_gourd, 7.7ms\n",
            "image 851/1917 /content/drive/MyDrive/AyushVision/yolo/final/test/images/IMG20240501161724_jpg.rf.1fac142d04993b9a5ba1beae3f600755.jpg: 640x640 1 Ivy_gourd, 7.7ms\n",
            "image 852/1917 /content/drive/MyDrive/AyushVision/yolo/final/test/images/IMG20240501161742_jpg.rf.576782b8af8677554386bcf628785ebf.jpg: 640x640 1 Ivy_gourd, 7.5ms\n",
            "image 853/1917 /content/drive/MyDrive/AyushVision/yolo/final/test/images/IMG20240501161754_jpg.rf.53ce2a45d99882c6726c83ef2a89cd81.jpg: 640x640 1 Ivy_gourd, 7.6ms\n",
            "image 854/1917 /content/drive/MyDrive/AyushVision/yolo/final/test/images/IMG20240501164614_jpg.rf.a15e2c360927754d858fab041483913b.jpg: 640x640 1 Henna, 7.8ms\n",
            "image 855/1917 /content/drive/MyDrive/AyushVision/yolo/final/test/images/IMG20240501170619_jpg.rf.9ed92dcca392a9eab310450e79bc20c3.jpg: 640x640 1 Henna, 7.5ms\n",
            "image 856/1917 /content/drive/MyDrive/AyushVision/yolo/final/test/images/IMG20240501170717_jpg.rf.e67116ccdf51eb4926ca9b6097f2a577.jpg: 640x640 1 Henna, 7.5ms\n",
            "image 857/1917 /content/drive/MyDrive/AyushVision/yolo/final/test/images/IMG20240501170740_jpg.rf.a0fcaf426d23859507f0f75347c91eac.jpg: 640x640 1 Henna, 7.5ms\n",
            "image 858/1917 /content/drive/MyDrive/AyushVision/yolo/final/test/images/IMG20240501171024_jpg.rf.36a834bb206a21a6aeda6201210b5f9b.jpg: 640x640 1 Henna, 8.0ms\n",
            "image 859/1917 /content/drive/MyDrive/AyushVision/yolo/final/test/images/IMG20240501171027_jpg.rf.4c6d473d9dc7a034d3c9a9acc7e7f24d.jpg: 640x640 1 Henna, 7.9ms\n",
            "image 860/1917 /content/drive/MyDrive/AyushVision/yolo/final/test/images/IMG20240501171042_jpg.rf.52f9a4bf13a50924d38573d45f112506.jpg: 640x640 1 Henna, 7.9ms\n",
            "image 861/1917 /content/drive/MyDrive/AyushVision/yolo/final/test/images/IMG20240501171054_jpg.rf.c13c6a5ce70bfda31a77f52b13ad5549.jpg: 640x640 1 Henna, 7.5ms\n",
            "image 862/1917 /content/drive/MyDrive/AyushVision/yolo/final/test/images/IMG20240501171758_jpg.rf.9e04698407e4897c67ac2c1f89211503.jpg: 640x640 1 Henna, 7.6ms\n",
            "image 863/1917 /content/drive/MyDrive/AyushVision/yolo/final/test/images/IMG20240501171830_jpg.rf.92deb15798c71693cfea1c7655f4523f.jpg: 640x640 1 Henna, 7.5ms\n",
            "image 864/1917 /content/drive/MyDrive/AyushVision/yolo/final/test/images/IMG20240501171844_jpg.rf.bec6e76d7a9aa38710ad5ff228ef39a8.jpg: 640x640 1 Henna, 7.5ms\n",
            "image 865/1917 /content/drive/MyDrive/AyushVision/yolo/final/test/images/IMG20240501171907_jpg.rf.3c10a9657ac7333665fcc94569139f75.jpg: 640x640 1 Henna, 7.5ms\n",
            "image 866/1917 /content/drive/MyDrive/AyushVision/yolo/final/test/images/IMG20240501171919_jpg.rf.14bbbcf628d6c7740306cd757b8c96cb.jpg: 640x640 1 Henna, 7.7ms\n",
            "image 867/1917 /content/drive/MyDrive/AyushVision/yolo/final/test/images/IMG20240501172005_jpg.rf.84ed995de5f850999d774f200afc03db.jpg: 640x640 1 Henna, 7.7ms\n",
            "image 868/1917 /content/drive/MyDrive/AyushVision/yolo/final/test/images/IMG20240501172213_jpg.rf.f5dd944210dda4e6eba1d085fae1ff23.jpg: 640x640 1 Henna, 7.5ms\n",
            "image 869/1917 /content/drive/MyDrive/AyushVision/yolo/final/test/images/IMG20240501172236_jpg.rf.c81270b71f81265f9b601f51963c7f93.jpg: 640x640 1 Henna, 8.1ms\n",
            "image 870/1917 /content/drive/MyDrive/AyushVision/yolo/final/test/images/IMG20240501172712_jpg.rf.ecd9d6d7db12b32aaf4628c65b559973.jpg: 640x640 1 Henna, 7.5ms\n",
            "image 871/1917 /content/drive/MyDrive/AyushVision/yolo/final/test/images/IMG20240501174241_jpg.rf.7bbb62bbd47b97f0b5c1113ac938a910.jpg: 640x640 1 Henna, 7.5ms\n",
            "image 872/1917 /content/drive/MyDrive/AyushVision/yolo/final/test/images/IMG20240501174243_jpg.rf.c832d6371778578784bb188b23d1aa05.jpg: 640x640 1 Henna, 7.5ms\n",
            "image 873/1917 /content/drive/MyDrive/AyushVision/yolo/final/test/images/IMG20240501174443_jpg.rf.2be73c09fc0045eac4f02cb9b5b1d6db.jpg: 640x640 1 Henna, 7.5ms\n",
            "image 874/1917 /content/drive/MyDrive/AyushVision/yolo/final/test/images/IMG20240501174845_jpg.rf.dda6ec0767077358c709ddfd25e96008.jpg: 640x640 1 Henna, 7.5ms\n",
            "image 875/1917 /content/drive/MyDrive/AyushVision/yolo/final/test/images/IMG20240501175016_jpg.rf.890e1d29c17ea3dbfc3039d95e1ad0e3.jpg: 640x640 1 Henna, 7.5ms\n",
            "image 876/1917 /content/drive/MyDrive/AyushVision/yolo/final/test/images/IMG20240501175045_jpg.rf.3a9b7c45e2a909b495632cc596a03494.jpg: 640x640 1 Henna, 7.5ms\n",
            "image 877/1917 /content/drive/MyDrive/AyushVision/yolo/final/test/images/IMG20240501175157_jpg.rf.0f7486ad4a1ce8052339bab71807cc73.jpg: 640x640 1 Henna, 7.5ms\n",
            "image 878/1917 /content/drive/MyDrive/AyushVision/yolo/final/test/images/IMG20240501175208_jpg.rf.5d264acbb496a95c9f4cace4462da127.jpg: 640x640 1 Henna, 7.8ms\n",
            "image 879/1917 /content/drive/MyDrive/AyushVision/yolo/final/test/images/IMG20240501175218_jpg.rf.138f93e9b8c96caaf88dd46755d24230.jpg: 640x640 1 Henna, 8.1ms\n",
            "image 880/1917 /content/drive/MyDrive/AyushVision/yolo/final/test/images/IMG20240501175241_jpg.rf.516ae8880451ced934ae7e2a7130a812.jpg: 640x640 1 Henna, 8.6ms\n",
            "image 881/1917 /content/drive/MyDrive/AyushVision/yolo/final/test/images/IMG20240501175433_jpg.rf.745c77f98aac1bae7e700106a84c3dda.jpg: 640x640 1 Henna, 7.5ms\n",
            "image 882/1917 /content/drive/MyDrive/AyushVision/yolo/final/test/images/IMG20240501175441_jpg.rf.adde12e9a51078a2a1206c6237811d86.jpg: 640x640 1 Henna, 9.3ms\n",
            "image 883/1917 /content/drive/MyDrive/AyushVision/yolo/final/test/images/IMG20240501175547_jpg.rf.f01695363426b1250ba232778561174a.jpg: 640x640 1 Henna, 8.3ms\n",
            "image 884/1917 /content/drive/MyDrive/AyushVision/yolo/final/test/images/IMG20240501175554_jpg.rf.3ccb543eba325b376a083a2a2ab240f6.jpg: 640x640 1 Henna, 9.9ms\n",
            "image 885/1917 /content/drive/MyDrive/AyushVision/yolo/final/test/images/IMG20240501180240_jpg.rf.83e715ac338fcee8bcc30a98a74bd286.jpg: 640x640 1 Ivy_gourd, 9.2ms\n",
            "image 886/1917 /content/drive/MyDrive/AyushVision/yolo/final/test/images/IMG20240501180242_jpg.rf.bceef33a0cb1f48fa7e83b70b5ef8f0b.jpg: 640x640 1 Ivy_gourd, 7.5ms\n",
            "image 887/1917 /content/drive/MyDrive/AyushVision/yolo/final/test/images/IMG20240501180353_jpg.rf.ebbc85c1c286aa7cc73e5c3d6cef8b01.jpg: 640x640 1 Ivy_gourd, 7.5ms\n",
            "image 888/1917 /content/drive/MyDrive/AyushVision/yolo/final/test/images/IMG20240501180407_jpg.rf.5de41cac7dd8d018ed60adf18310c382.jpg: 640x640 1 Ivy_gourd, 7.7ms\n",
            "image 889/1917 /content/drive/MyDrive/AyushVision/yolo/final/test/images/IMG20240501180445_jpg.rf.5f3790438058d5f6f8bbdedf6c2cc98e.jpg: 640x640 1 Ivy_gourd, 8.1ms\n",
            "image 890/1917 /content/drive/MyDrive/AyushVision/yolo/final/test/images/IMG20240501180447_jpg.rf.7f372dd559469a19e204c9786fb71419.jpg: 640x640 1 Ivy_gourd, 7.7ms\n",
            "image 891/1917 /content/drive/MyDrive/AyushVision/yolo/final/test/images/IMG20240501180634_jpg.rf.401a352db944890926f26e6b4f6ea583.jpg: 640x640 1 Ivy_gourd, 7.6ms\n",
            "image 892/1917 /content/drive/MyDrive/AyushVision/yolo/final/test/images/IMG20240501180650_jpg.rf.9ce7bfa8d8e2a55d3d8214a4b72a563f.jpg: 640x640 1 Ivy_gourd, 7.7ms\n",
            "image 893/1917 /content/drive/MyDrive/AyushVision/yolo/final/test/images/IMG20240501180904_jpg.rf.94e58c4358a2434ce2e24f40a5984d2b.jpg: 640x640 1 Ivy_gourd, 7.5ms\n",
            "image 894/1917 /content/drive/MyDrive/AyushVision/yolo/final/test/images/IMG20240501180946_jpg.rf.e235735a11ed4eca8b6a138223256811.jpg: 640x640 1 Ivy_gourd, 7.5ms\n",
            "image 895/1917 /content/drive/MyDrive/AyushVision/yolo/final/test/images/IMG20240501181122_jpg.rf.2fc0b40df41f9676d0b4e8f7577c7e85.jpg: 640x640 1 Redpea_egg_plant, 7.5ms\n",
            "image 896/1917 /content/drive/MyDrive/AyushVision/yolo/final/test/images/IMG20240501181143_jpg.rf.20e125fa7f3ea31472e6a77cbeadb7d7.jpg: 640x640 1 Ivy_gourd, 1 Redpea_egg_plant, 7.5ms\n",
            "image 897/1917 /content/drive/MyDrive/AyushVision/yolo/final/test/images/IMG20240501181309_jpg.rf.f437c718b7fe8571ee59ce839684dd41.jpg: 640x640 1 Ivy_gourd, 7.8ms\n",
            "image 898/1917 /content/drive/MyDrive/AyushVision/yolo/final/test/images/IMG20240501181330_jpg.rf.12f615091398447a9b7aab99277353f8.jpg: 640x640 1 Ivy_gourd, 7.5ms\n",
            "image 899/1917 /content/drive/MyDrive/AyushVision/yolo/final/test/images/IMG20240501181532_jpg.rf.9530e6e5b9049c54cff8995e730602fa.jpg: 640x640 1 Turmeric, 7.7ms\n",
            "image 900/1917 /content/drive/MyDrive/AyushVision/yolo/final/test/images/IMG20240501181538_jpg.rf.7923ab551f8bea4c91c382d2b116ba09.jpg: 640x640 1 Turmeric, 7.6ms\n",
            "image 901/1917 /content/drive/MyDrive/AyushVision/yolo/final/test/images/IMG20240501181559_jpg.rf.194ce6c06016bc8087a8b5549fcaad8f.jpg: 640x640 1 Turmeric, 7.5ms\n",
            "image 902/1917 /content/drive/MyDrive/AyushVision/yolo/final/test/images/IMG20240501181650_jpg.rf.2c7cd80095d0af3772dfcb162061d7aa.jpg: 640x640 1 Turmeric, 7.6ms\n",
            "image 903/1917 /content/drive/MyDrive/AyushVision/yolo/final/test/images/IMG20240501181712_jpg.rf.57588115f7cd72bde4574cfabc71536c.jpg: 640x640 1 Turmeric, 7.5ms\n",
            "image 904/1917 /content/drive/MyDrive/AyushVision/yolo/final/test/images/IMG20240501181858_jpg.rf.b14dba99a27bda75d902f2e69ea3a034.jpg: 640x640 1 Ivy_gourd, 7.5ms\n",
            "image 905/1917 /content/drive/MyDrive/AyushVision/yolo/final/test/images/IMG20240518101639_jpg.rf.062fe24d4246d6d638838d519b8f2078.jpg: 640x640 1 Long_pepper, 7.8ms\n",
            "image 906/1917 /content/drive/MyDrive/AyushVision/yolo/final/test/images/IMG20240518101713_jpg.rf.5e8bc990ec39213527eb8cf851a7d9f7.jpg: 640x640 1 Long_pepper, 7.5ms\n",
            "image 907/1917 /content/drive/MyDrive/AyushVision/yolo/final/test/images/IMG20240518101717_jpg.rf.9415fc6edc8903ff3f17f3c24ab1d09c.jpg: 640x640 1 Long_pepper, 7.5ms\n",
            "image 908/1917 /content/drive/MyDrive/AyushVision/yolo/final/test/images/IMG20240518101719_jpg.rf.512add1e35f2d858956689e795b1db11.jpg: 640x640 1 Long_pepper, 7.5ms\n",
            "image 909/1917 /content/drive/MyDrive/AyushVision/yolo/final/test/images/IMG20240518101742_jpg.rf.7aebcb1815573b7c94996e1c1a007495.jpg: 640x640 1 Long_pepper, 7.9ms\n",
            "image 910/1917 /content/drive/MyDrive/AyushVision/yolo/final/test/images/IMG20240518101807_jpg.rf.b690ab818794d580c439fd2846097b5f.jpg: 640x640 1 Long_pepper, 7.6ms\n",
            "image 911/1917 /content/drive/MyDrive/AyushVision/yolo/final/test/images/IMG20240518102021_jpg.rf.baea37e2b38ae8ec029b25f29729542e.jpg: 640x640 1 Long_pepper, 7.5ms\n",
            "image 912/1917 /content/drive/MyDrive/AyushVision/yolo/final/test/images/IMG20240518102022_jpg.rf.2c0032cd87a59340eddd17c0aab9f238.jpg: 640x640 1 Long_pepper, 7.6ms\n",
            "image 913/1917 /content/drive/MyDrive/AyushVision/yolo/final/test/images/IMG20240518102043_jpg.rf.3f4ddc15210536ad270f805ebaffa497.jpg: 640x640 1 Long_pepper, 7.5ms\n",
            "image 914/1917 /content/drive/MyDrive/AyushVision/yolo/final/test/images/IMG20240518102454_jpg.rf.d054c7fbf8bf9ce0423cc4202c9d3143.jpg: 640x640 1 Long_pepper, 7.5ms\n",
            "image 915/1917 /content/drive/MyDrive/AyushVision/yolo/final/test/images/IMG20240518102601_jpg.rf.3f7604f7b509b9f36c2d45e63af81d96.jpg: 640x640 1 Long_pepper, 7.5ms\n",
            "image 916/1917 /content/drive/MyDrive/AyushVision/yolo/final/test/images/IMG20240518102619_jpg.rf.ed1f53dd92e904a58b7feec1e05af35b.jpg: 640x640 1 Long_pepper, 7.5ms\n",
            "image 917/1917 /content/drive/MyDrive/AyushVision/yolo/final/test/images/IMG20240518102624_jpg.rf.412d0de3f97a188b9fc44fcdef9386fd.jpg: 640x640 1 Long_pepper, 7.5ms\n",
            "image 918/1917 /content/drive/MyDrive/AyushVision/yolo/final/test/images/IMG20240518102635_jpg.rf.6fa66312c6fd259a79a9c881a0a1c3e8.jpg: 640x640 1 Long_pepper, 7.5ms\n",
            "image 919/1917 /content/drive/MyDrive/AyushVision/yolo/final/test/images/IMG20240518102922_jpg.rf.c688bb0148942c023f3d4f75c9a62815.jpg: 640x640 1 Long_pepper, 7.5ms\n",
            "image 920/1917 /content/drive/MyDrive/AyushVision/yolo/final/test/images/IMG20240518102929_jpg.rf.55ca83c0f8f5d46fb1c609621c94f230.jpg: 640x640 1 Long_pepper, 8.9ms\n",
            "image 921/1917 /content/drive/MyDrive/AyushVision/yolo/final/test/images/IMG20240518102942_jpg.rf.2052ac299e30dc6b0c6b29674c0198af.jpg: 640x640 1 Long_pepper, 7.5ms\n",
            "image 922/1917 /content/drive/MyDrive/AyushVision/yolo/final/test/images/IMG20240518102943_jpg.rf.605fa1fdf04a9e9b84e03f3ebeef5548.jpg: 640x640 1 Long_pepper, 7.8ms\n",
            "image 923/1917 /content/drive/MyDrive/AyushVision/yolo/final/test/images/IMG20240518103006_03_jpg.rf.96a8f2489d77ab2e747a068d569c8178.jpg: 640x640 1 Long_pepper, 7.9ms\n",
            "image 924/1917 /content/drive/MyDrive/AyushVision/yolo/final/test/images/IMG20240518103021_jpg.rf.2f92d53f22ad440f2ee5027f5ec593f6.jpg: 640x640 1 Long_pepper, 7.7ms\n",
            "image 925/1917 /content/drive/MyDrive/AyushVision/yolo/final/test/images/IMG20240518103142_jpg.rf.d60aaba590ac9f6d1d34a13a7a034467.jpg: 640x640 1 Long_pepper, 7.5ms\n",
            "image 926/1917 /content/drive/MyDrive/AyushVision/yolo/final/test/images/IMG20240518103325_jpg.rf.200ac71664520c3d0a373ea517832dd5.jpg: 640x640 1 Long_pepper, 7.9ms\n",
            "image 927/1917 /content/drive/MyDrive/AyushVision/yolo/final/test/images/IMG20240518103400_jpg.rf.d05c898ed30fb4ddf8228db626582246.jpg: 640x640 1 Long_pepper, 7.5ms\n",
            "image 928/1917 /content/drive/MyDrive/AyushVision/yolo/final/test/images/IMG20240518103418_jpg.rf.c4ba5709d0b2927c28df455110dde94e.jpg: 640x640 1 Long_pepper, 7.5ms\n",
            "image 929/1917 /content/drive/MyDrive/AyushVision/yolo/final/test/images/IMG20240518103430_jpg.rf.55fb0ca5f1b6c0c54b2764663bf1b780.jpg: 640x640 1 Long_pepper, 7.5ms\n",
            "image 930/1917 /content/drive/MyDrive/AyushVision/yolo/final/test/images/IMG20240518103820_05_jpg.rf.cdf184ef2458f565d58b0297c739520c.jpg: 640x640 1 Wild_Turmeric, 7.5ms\n",
            "image 931/1917 /content/drive/MyDrive/AyushVision/yolo/final/test/images/IMG20240518103912_jpg.rf.370123b413783e23d942c91328fc29bd.jpg: 640x640 1 Wild_Turmeric, 7.5ms\n",
            "image 932/1917 /content/drive/MyDrive/AyushVision/yolo/final/test/images/IMG20240518104105_jpg.rf.54fe92c17e40275dd2d3e5b77aa2b0e1.jpg: 640x640 1 Alovera, 7.5ms\n",
            "image 933/1917 /content/drive/MyDrive/AyushVision/yolo/final/test/images/IMG20240518104343_jpg.rf.248548f0b83715e77d119e674a3ff3e7.jpg: 640x640 1 Alovera, 7.6ms\n",
            "image 934/1917 /content/drive/MyDrive/AyushVision/yolo/final/test/images/IMG20240518104438_jpg.rf.cc437d14334f710f9147823e85d9d4b6.jpg: 640x640 2 Aloveras, 7.6ms\n",
            "image 935/1917 /content/drive/MyDrive/AyushVision/yolo/final/test/images/IMG20240518104516_jpg.rf.d7aa1e2df2922df01e4ba85625c29fca.jpg: 640x640 1 Alovera, 7.5ms\n",
            "image 936/1917 /content/drive/MyDrive/AyushVision/yolo/final/test/images/IMG20240518104537_01_jpg.rf.c98a662f6457e52de9092601b8a5241a.jpg: 640x640 1 Alovera, 7.5ms\n",
            "image 937/1917 /content/drive/MyDrive/AyushVision/yolo/final/test/images/IMG20240518104539_jpg.rf.9f9436fa06d3d611208cc814104e99fe.jpg: 640x640 1 Alovera, 7.5ms\n",
            "image 938/1917 /content/drive/MyDrive/AyushVision/yolo/final/test/images/IMG20240518104618_jpg.rf.8e13e0fde3a5e86e18d5baa6b3e4cd0d.jpg: 640x640 1 Alovera, 8.2ms\n",
            "image 939/1917 /content/drive/MyDrive/AyushVision/yolo/final/test/images/IMG20240518105048_jpg.rf.c6c1fbff03a409caf8b9e1654dc5cb92.jpg: 640x640 1 Alovera, 1 Ginger, 1 Turmeric, 8.0ms\n",
            "image 940/1917 /content/drive/MyDrive/AyushVision/yolo/final/test/images/IMG20240518105055_jpg.rf.02a759ad0b0674f214850754113f4601.jpg: 640x640 1 Alovera, 7.5ms\n",
            "image 941/1917 /content/drive/MyDrive/AyushVision/yolo/final/test/images/IMG20240518105203_01_jpg.rf.f1f7fa321da893c4dc4cdd7e3cd6917e.jpg: 640x640 1 Wild_Turmeric, 7.8ms\n",
            "image 942/1917 /content/drive/MyDrive/AyushVision/yolo/final/test/images/IMG20240518105303_jpg.rf.63249b01b4f4bdeceaae6e434043595b.jpg: 640x640 1 Wild_Turmeric, 7.7ms\n",
            "image 943/1917 /content/drive/MyDrive/AyushVision/yolo/final/test/images/IMG20240518105305_jpg.rf.2a444c13e566525f8866472e256676d4.jpg: 640x640 2 Wild_Turmerics, 7.5ms\n",
            "image 944/1917 /content/drive/MyDrive/AyushVision/yolo/final/test/images/IMG20240518105317_jpg.rf.a5bfd75b1c3bbcf099896e4727e7dd1e.jpg: 640x640 1 Wild_Turmeric, 7.6ms\n",
            "image 945/1917 /content/drive/MyDrive/AyushVision/yolo/final/test/images/IMG20240518105333_jpg.rf.efe7e726a8316a0323e926b719659c1e.jpg: 640x640 3 Wild_Turmerics, 7.5ms\n",
            "image 946/1917 /content/drive/MyDrive/AyushVision/yolo/final/test/images/IMG20240518105334_jpg.rf.70d64f9295ec3101660f7387e84ad5f5.jpg: 640x640 2 Wild_Turmerics, 8.1ms\n",
            "image 947/1917 /content/drive/MyDrive/AyushVision/yolo/final/test/images/IMG20240518105339_jpg.rf.2494715ca0bdb265a9ff0f1f855b7fbc.jpg: 640x640 1 Wild_Turmeric, 7.5ms\n",
            "image 948/1917 /content/drive/MyDrive/AyushVision/yolo/final/test/images/IMG20240518105343_jpg.rf.aa4d3ae27f535d5366a58f06385092de.jpg: 640x640 2 Wild_Turmerics, 7.8ms\n",
            "image 949/1917 /content/drive/MyDrive/AyushVision/yolo/final/test/images/IMG20240518105941_jpg.rf.8c83eda70879442e815ba12005055c31.jpg: 640x640 1 Wild_Turmeric, 7.5ms\n",
            "image 950/1917 /content/drive/MyDrive/AyushVision/yolo/final/test/images/IMG20240518110011_jpg.rf.99ffc919e0aed178f31964c2ec9005b9.jpg: 640x640 2 Wild_Turmerics, 7.9ms\n",
            "image 951/1917 /content/drive/MyDrive/AyushVision/yolo/final/test/images/IMG20240518110018_01_jpg.rf.661aa0219421ff3eeb57d73c618bc206.jpg: 640x640 1 Wild_Turmeric, 7.5ms\n",
            "image 952/1917 /content/drive/MyDrive/AyushVision/yolo/final/test/images/IMG20240518110128_jpg.rf.13d9f76fa622af0d993f8229e2c50e21.jpg: 640x640 1 Wild_Turmeric, 7.5ms\n",
            "image 953/1917 /content/drive/MyDrive/AyushVision/yolo/final/test/images/IMG20240518110136_jpg.rf.46019f42cc139c84ec20df09177bddee.jpg: 640x640 2 Wild_Turmerics, 7.5ms\n",
            "image 954/1917 /content/drive/MyDrive/AyushVision/yolo/final/test/images/IMG20240518110138_jpg.rf.2e338b28ed3a77721976a5e7c68e23c7.jpg: 640x640 1 Wild_Turmeric, 7.5ms\n",
            "image 955/1917 /content/drive/MyDrive/AyushVision/yolo/final/test/images/IMG20240518110145_jpg.rf.74ef298e73f76daaae0b190db73b87aa.jpg: 640x640 1 Wild_Turmeric, 7.9ms\n",
            "image 956/1917 /content/drive/MyDrive/AyushVision/yolo/final/test/images/IMG20240518110152_jpg.rf.de435dcf6492ebc5bb557201f06fe77e.jpg: 640x640 3 Wild_Turmerics, 7.5ms\n",
            "image 957/1917 /content/drive/MyDrive/AyushVision/yolo/final/test/images/IMG20240518110210_jpg.rf.5365636ee9c6fb01e4f0cfc31e09a65c.jpg: 640x640 3 Wild_Turmerics, 8.1ms\n",
            "image 958/1917 /content/drive/MyDrive/AyushVision/yolo/final/test/images/IMG20240518110242_jpg.rf.46808eb6ea209892e9e3df9479fba1b5.jpg: 640x640 1 Wild_Turmeric, 7.7ms\n",
            "image 959/1917 /content/drive/MyDrive/AyushVision/yolo/final/test/images/IMG20240518110243_jpg.rf.2fabb19a6b134ed1ee2abe6d87a648d2.jpg: 640x640 3 Wild_Turmerics, 7.8ms\n",
            "image 960/1917 /content/drive/MyDrive/AyushVision/yolo/final/test/images/IMG20240518110334_jpg.rf.1ad8cd417ffc021a978d468e0ad1898b.jpg: 640x640 3 Wild_Turmerics, 7.6ms\n",
            "image 961/1917 /content/drive/MyDrive/AyushVision/yolo/final/test/images/IMG20240518110556_jpg.rf.2b3b87ee11aa34d08b8691d29a52c3ad.jpg: 640x640 2 Landrinas, 9.3ms\n",
            "image 962/1917 /content/drive/MyDrive/AyushVision/yolo/final/test/images/IMG20240518111259_jpg.rf.9ae3bab0dd0fd26260c7827954335dd4.jpg: 640x640 3 Wild_Turmerics, 8.6ms\n",
            "image 963/1917 /content/drive/MyDrive/AyushVision/yolo/final/test/images/IMG20240518111310_jpg.rf.faf37eb6d4853638a32b497420380bb5.jpg: 640x640 2 Wild_Turmerics, 7.9ms\n",
            "image 964/1917 /content/drive/MyDrive/AyushVision/yolo/final/test/images/IMG20240518111312_jpg.rf.7a4065bf8dddba1f573f9568b9fafe7b.jpg: 640x640 2 Wild_Turmerics, 7.7ms\n",
            "image 965/1917 /content/drive/MyDrive/AyushVision/yolo/final/test/images/IMG20240518111336_jpg.rf.314617e3940f5cfc998a3816a5a09d44.jpg: 640x640 3 Wild_Turmerics, 7.8ms\n",
            "image 966/1917 /content/drive/MyDrive/AyushVision/yolo/final/test/images/IMG20240518111338_jpg.rf.90bff057ee1735f9aad5bf8181f77476.jpg: 640x640 1 Wild_Turmeric, 7.6ms\n",
            "image 967/1917 /content/drive/MyDrive/AyushVision/yolo/final/test/images/IMG20240518111342_jpg.rf.a29314707b2d7a3215203501c6e7b875.jpg: 640x640 1 Wild_Turmeric, 7.5ms\n",
            "image 968/1917 /content/drive/MyDrive/AyushVision/yolo/final/test/images/IMG20240518111421_jpg.rf.593f94be32ae6ae4679328432ea26d2b.jpg: 640x640 1 Wild_Turmeric, 7.8ms\n",
            "image 969/1917 /content/drive/MyDrive/AyushVision/yolo/final/test/images/IMG20240518111434_jpg.rf.df011f5e136d9ba4c4759b1892f2b723.jpg: 640x640 1 Wild_Turmeric, 10.7ms\n",
            "image 970/1917 /content/drive/MyDrive/AyushVision/yolo/final/test/images/IMG20240518111439_jpg.rf.428bc4e3289894020db923f400a022b5.jpg: 640x640 1 Wild_Turmeric, 7.7ms\n",
            "image 971/1917 /content/drive/MyDrive/AyushVision/yolo/final/test/images/IMG20240518111441_jpg.rf.014f45983adcae6c5272c7d8d2e60e14.jpg: 640x640 3 Wild_Turmerics, 7.7ms\n",
            "image 972/1917 /content/drive/MyDrive/AyushVision/yolo/final/test/images/IMG20240518111445_jpg.rf.8face39ccedf0d74a84e9ac7f3fbea23.jpg: 640x640 1 Wild_Turmeric, 7.5ms\n",
            "image 973/1917 /content/drive/MyDrive/AyushVision/yolo/final/test/images/IMG20240518111520_jpg.rf.74e87b8335aa7ab2d3a3a8617a3eb44c.jpg: 640x640 2 Wild_Turmerics, 7.5ms\n",
            "image 974/1917 /content/drive/MyDrive/AyushVision/yolo/final/test/images/IMG20240518111523_jpg.rf.29241e1ead3ce14935e258a664c628f9.jpg: 640x640 1 Wild_Turmeric, 7.5ms\n",
            "image 975/1917 /content/drive/MyDrive/AyushVision/yolo/final/test/images/IMG20240518111524_jpg.rf.ab77f2f00c503e70b04cc30a42a96d63.jpg: 640x640 3 Wild_Turmerics, 7.5ms\n",
            "image 976/1917 /content/drive/MyDrive/AyushVision/yolo/final/test/images/IMG20240518111530_01_jpg.rf.d526bc2cf4ecf48b0ae6855038ad781b.jpg: 640x640 1 Wild_Turmeric, 7.5ms\n",
            "image 977/1917 /content/drive/MyDrive/AyushVision/yolo/final/test/images/IMG20240518111608_jpg.rf.cf03cf2015e5c6397138bec53148c539.jpg: 640x640 1 Wild_Turmeric, 8.4ms\n",
            "image 978/1917 /content/drive/MyDrive/AyushVision/yolo/final/test/images/IMG20240518111630_jpg.rf.7f3863966681142af9ece5f14de16033.jpg: 640x640 1 Wild_Turmeric, 7.5ms\n",
            "image 979/1917 /content/drive/MyDrive/AyushVision/yolo/final/test/images/IMG20240518112217_jpg.rf.07728064e681de4b0683feb073669d16.jpg: 640x640 1 Tallperennial_grass, 7.5ms\n",
            "image 980/1917 /content/drive/MyDrive/AyushVision/yolo/final/test/images/IMG20240518112221_jpg.rf.29ee1ce37166e2b8d168d5150d46edda.jpg: 640x640 1 Tallperennial_grass, 7.5ms\n",
            "image 981/1917 /content/drive/MyDrive/AyushVision/yolo/final/test/images/IMG20240518112230_jpg.rf.f04085119bc0a2dca2a61e6f77b2d53e.jpg: 640x640 1 Tallperennial_grass, 7.5ms\n",
            "image 982/1917 /content/drive/MyDrive/AyushVision/yolo/final/test/images/IMG20240518112359_jpg.rf.625c0df12204a38349ad33486a80f380.jpg: 640x640 2 Tallperennial_grasss, 7.9ms\n",
            "image 983/1917 /content/drive/MyDrive/AyushVision/yolo/final/test/images/IMG20240518112502_jpg.rf.bfeec8f7d2e892edf4f2cd8b5b521f2f.jpg: 640x640 1 Tallperennial_grass, 7.8ms\n",
            "image 984/1917 /content/drive/MyDrive/AyushVision/yolo/final/test/images/IMG20240518112506_jpg.rf.5c6015830123d034044cf19340cc36bb.jpg: 640x640 1 Tallperennial_grass, 7.5ms\n",
            "image 985/1917 /content/drive/MyDrive/AyushVision/yolo/final/test/images/IMG20240518112513_jpg.rf.a842ce2461ddbd5ac03022a0bdc03c3c.jpg: 640x640 (no detections), 7.5ms\n",
            "image 986/1917 /content/drive/MyDrive/AyushVision/yolo/final/test/images/IMG20240518112517_jpg.rf.49605fd139c9f103aa8864f916aca5a4.jpg: 640x640 1 Tallperennial_grass, 7.5ms\n",
            "image 987/1917 /content/drive/MyDrive/AyushVision/yolo/final/test/images/IMG20240518112559_jpg.rf.fe77e569d030046e2ebeebb7a29972b8.jpg: 640x640 1 Tallperennial_grass, 7.5ms\n",
            "image 988/1917 /content/drive/MyDrive/AyushVision/yolo/final/test/images/IMG20240518112837_jpg.rf.127beb22fb83c3b0131fd05da64e2747.jpg: 640x640 1 Tallperennial_grass, 7.5ms\n",
            "image 989/1917 /content/drive/MyDrive/AyushVision/yolo/final/test/images/IMG20240518112919_jpg.rf.1492d5579107fa16db60a69bdadb3f01.jpg: 640x640 1 Tallperennial_grass, 7.5ms\n",
            "image 990/1917 /content/drive/MyDrive/AyushVision/yolo/final/test/images/IMG20240518113028_jpg.rf.38fd235cfd0e310e65958953a6ae7414.jpg: 640x640 1 Tallperennial_grass, 7.5ms\n",
            "image 991/1917 /content/drive/MyDrive/AyushVision/yolo/final/test/images/IMG20240518113037_jpg.rf.86c0f8c648b0049630dc4fcc7eaed910.jpg: 640x640 1 Tallperennial_grass, 7.5ms\n",
            "image 992/1917 /content/drive/MyDrive/AyushVision/yolo/final/test/images/IMG20240518113113_jpg.rf.294cc4b9f1a91a35ab196e36486fde94.jpg: 640x640 1 Tallperennial_grass, 7.5ms\n",
            "image 993/1917 /content/drive/MyDrive/AyushVision/yolo/final/test/images/IMG20240518113126_jpg.rf.36554793ba640fd0339ef8eedd0192ed.jpg: 640x640 1 Tallperennial_grass, 8.3ms\n",
            "image 994/1917 /content/drive/MyDrive/AyushVision/yolo/final/test/images/IMG20240518113129_jpg.rf.138cc032c9b5a10c4366a5739d00c213.jpg: 640x640 1 Tallperennial_grass, 7.5ms\n",
            "image 995/1917 /content/drive/MyDrive/AyushVision/yolo/final/test/images/IMG20240518113151_jpg.rf.c9135cec987825c94592a2142b2cfd38.jpg: 640x640 1 Tallperennial_grass, 7.7ms\n",
            "image 996/1917 /content/drive/MyDrive/AyushVision/yolo/final/test/images/IMG20240518113254_jpg.rf.526ce2d9e0566684bc96b1579f6bcbaf.jpg: 640x640 1 Tallperennial_grass, 7.8ms\n",
            "image 997/1917 /content/drive/MyDrive/AyushVision/yolo/final/test/images/IMG20240518113257_jpg.rf.ee92539483728045da156468a070aefb.jpg: 640x640 1 Tallperennial_grass, 7.6ms\n",
            "image 998/1917 /content/drive/MyDrive/AyushVision/yolo/final/test/images/IMG20240518113259_jpg.rf.0574346f7f9954b40212f63d59a794eb.jpg: 640x640 1 Tallperennial_grass, 8.6ms\n",
            "image 999/1917 /content/drive/MyDrive/AyushVision/yolo/final/test/images/IMG20240518113304_jpg.rf.02d31fd33680d573e4702b7e0d27a76b.jpg: 640x640 1 Tallperennial_grass, 8.3ms\n",
            "image 1000/1917 /content/drive/MyDrive/AyushVision/yolo/final/test/images/IMG20240518113317_jpg.rf.862c57612b7b49f284c3898d178d9fa2.jpg: 640x640 1 Tallperennial_grass, 7.9ms\n",
            "image 1001/1917 /content/drive/MyDrive/AyushVision/yolo/final/test/images/IMG20240518113730_jpg.rf.59c541bed2eac8f3fbeb11f8b2a8ca4e.jpg: 640x640 1 Tallperennial_grass, 7.5ms\n",
            "image 1002/1917 /content/drive/MyDrive/AyushVision/yolo/final/test/images/IMG20240518113731_jpg.rf.5565b0813476fd018e23d8e56d6a111f.jpg: 640x640 1 Tallperennial_grass, 8.3ms\n",
            "image 1003/1917 /content/drive/MyDrive/AyushVision/yolo/final/test/images/IMG20240518113733_jpg.rf.0985aad45c900feb1a3b44cea7ef9b8b.jpg: 640x640 1 Tallperennial_grass, 7.6ms\n",
            "image 1004/1917 /content/drive/MyDrive/AyushVision/yolo/final/test/images/IMG20240518113757_jpg.rf.18dc0f02ed5ab0d28659998e7fc88403.jpg: 640x640 1 Tallperennial_grass, 7.5ms\n",
            "image 1005/1917 /content/drive/MyDrive/AyushVision/yolo/final/test/images/IMG20240518113829_jpg.rf.d49dd6ad7f917364c403f3546c0d9b89.jpg: 640x640 1 Tallperennial_grass, 7.5ms\n",
            "image 1006/1917 /content/drive/MyDrive/AyushVision/yolo/final/test/images/IMG20240518114100_jpg.rf.984942d638a0d322e00187d3243df2c9.jpg: 640x640 1 Tallperennial_grass, 8.1ms\n",
            "image 1007/1917 /content/drive/MyDrive/AyushVision/yolo/final/test/images/IMG20240518114102_jpg.rf.04a79915247bf5fec9af99e39a6351fc.jpg: 640x640 1 Tallperennial_grass, 7.5ms\n",
            "image 1008/1917 /content/drive/MyDrive/AyushVision/yolo/final/test/images/IMG20240518114103_01_jpg.rf.a296a84d267909883bb6207662b54238.jpg: 640x640 1 Tallperennial_grass, 7.5ms\n",
            "image 1009/1917 /content/drive/MyDrive/AyushVision/yolo/final/test/images/IMG20240518114328_jpg.rf.695330b25f05acf4807cd9578c3b7cd1.jpg: 640x640 1 Neem, 8.4ms\n",
            "image 1010/1917 /content/drive/MyDrive/AyushVision/yolo/final/test/images/IMG20240518114401_jpg.rf.bc028ae35c76c394c6ac2a9888fcd206.jpg: 640x640 1 Neem, 7.5ms\n",
            "image 1011/1917 /content/drive/MyDrive/AyushVision/yolo/final/test/images/IMG20240518114403_jpg.rf.1dda905e40b7f3b70e18cb03c2291441.jpg: 640x640 1 Neem, 7.5ms\n",
            "image 1012/1917 /content/drive/MyDrive/AyushVision/yolo/final/test/images/IMG20240518114736_jpg.rf.d3f8de6eb5b4af58adb6866f603324f1.jpg: 640x640 1 Neem, 7.5ms\n",
            "image 1013/1917 /content/drive/MyDrive/AyushVision/yolo/final/test/images/IMG20240518115133_jpg.rf.67e8af35511bde63f08cf36a21692963.jpg: 640x640 1 Neem, 7.5ms\n",
            "image 1014/1917 /content/drive/MyDrive/AyushVision/yolo/final/test/images/IMG20240518123204_jpg.rf.da54f501a7c80d07a92f6ee76828c32a.jpg: 640x640 1 lime, 1 Henna, 7.5ms\n",
            "image 1015/1917 /content/drive/MyDrive/AyushVision/yolo/final/test/images/IMG20240518123334_jpg.rf.da359c00301d905b41eede93e417fa62.jpg: 640x640 (no detections), 8.2ms\n",
            "image 1016/1917 /content/drive/MyDrive/AyushVision/yolo/final/test/images/IMG20240518123730_jpg.rf.312a2c935b7c70021868c912f7b780ac.jpg: 640x640 1 Cinnamon, 7.5ms\n",
            "image 1017/1917 /content/drive/MyDrive/AyushVision/yolo/final/test/images/IMG20240518123828_jpg.rf.5883c201f28efb8b43b256ef6b511150.jpg: 640x640 (no detections), 7.6ms\n",
            "image 1018/1917 /content/drive/MyDrive/AyushVision/yolo/final/test/images/IMG20240523091944_jpg.rf.8fd18b4630f5a881e272202076546f83.jpg: 640x640 1 Hibiscus, 7.5ms\n",
            "image 1019/1917 /content/drive/MyDrive/AyushVision/yolo/final/test/images/IMG20240523091948_jpg.rf.5991f5fc92a6875d6d3674ba6dbfa24c.jpg: 640x640 1 Hibiscus, 7.5ms\n",
            "image 1020/1917 /content/drive/MyDrive/AyushVision/yolo/final/test/images/IMG20240523092028_jpg.rf.93cb86394f369c11a3eeefec98ab13e5.jpg: 640x640 1 Hibiscus, 7.5ms\n",
            "image 1021/1917 /content/drive/MyDrive/AyushVision/yolo/final/test/images/IMG20240523092032_jpg.rf.de8469d94b1577588189ea3f7e98a99b.jpg: 640x640 1 Hibiscus, 7.6ms\n",
            "image 1022/1917 /content/drive/MyDrive/AyushVision/yolo/final/test/images/IMG20240523092058_jpg.rf.39f3df6976d2068169bcbbbfc68d7f5d.jpg: 640x640 1 Hibiscus, 7.8ms\n",
            "image 1023/1917 /content/drive/MyDrive/AyushVision/yolo/final/test/images/IMG20240523143835_01_jpg.rf.e1f0dcfe4d3af1003ab43e6db0047590.jpg: 640x640 1 Wild_Turmeric, 8.0ms\n",
            "image 1024/1917 /content/drive/MyDrive/AyushVision/yolo/final/test/images/IMG20240523143837_jpg.rf.c945fb4e90dde0cc54f0ee334ce99960.jpg: 640x640 1 Wild_Turmeric, 7.5ms\n",
            "image 1025/1917 /content/drive/MyDrive/AyushVision/yolo/final/test/images/IMG20240523144107_jpg.rf.4a40a2f675d87d9983370a2202847714.jpg: 640x640 1 Turmeric, 7.5ms\n",
            "image 1026/1917 /content/drive/MyDrive/AyushVision/yolo/final/test/images/IMG20240523144128_jpg.rf.987686d9050f061cec6613f7f51add0a.jpg: 640x640 1 Wild_Turmeric, 7.5ms\n",
            "image 1027/1917 /content/drive/MyDrive/AyushVision/yolo/final/test/images/IMG20240523144352_jpg.rf.28791575eb6221525b7827a4e656ec2c.jpg: 640x640 1 Wild_Turmeric, 7.5ms\n",
            "image 1028/1917 /content/drive/MyDrive/AyushVision/yolo/final/test/images/IMG20240523145155_jpg.rf.8dc921d696ad855d1fc9230265172d0f.jpg: 640x640 1 Caster, 7.5ms\n",
            "image 1029/1917 /content/drive/MyDrive/AyushVision/yolo/final/test/images/IMG20240523145213_jpg.rf.dd94f17aa495b5a5e743ad4589fca3c2.jpg: 640x640 1 Neem, 7.5ms\n",
            "image 1030/1917 /content/drive/MyDrive/AyushVision/yolo/final/test/images/IMG20240523145431_jpg.rf.9c624749d308a211876a27fca3a90d1f.jpg: 640x640 1 Caster, 7.5ms\n",
            "image 1031/1917 /content/drive/MyDrive/AyushVision/yolo/final/test/images/IMG20240523145521_jpg.rf.5c1b77b12d1ace7fa5168ec96d155f3d.jpg: 640x640 1 Caster, 7.5ms\n",
            "image 1032/1917 /content/drive/MyDrive/AyushVision/yolo/final/test/images/IMG20240523145532_jpg.rf.954481e21fe299118bf1c9a03401c940.jpg: 640x640 1 Caster, 1 Neem, 7.5ms\n",
            "image 1033/1917 /content/drive/MyDrive/AyushVision/yolo/final/test/images/IMG20240523145700_jpg.rf.01332b802d0be0bd57c5da0a9059de92.jpg: 640x640 1 Neem, 8.0ms\n",
            "image 1034/1917 /content/drive/MyDrive/AyushVision/yolo/final/test/images/IMG20240523145739_jpg.rf.538fba9dfe3833c0021c72133ff6e3c7.jpg: 640x640 1 Neem, 7.5ms\n",
            "image 1035/1917 /content/drive/MyDrive/AyushVision/yolo/final/test/images/IMG20240523145803_jpg.rf.3e45b4cc1bf10122db5e094a56a8573c.jpg: 640x640 1 Neem, 7.5ms\n",
            "image 1036/1917 /content/drive/MyDrive/AyushVision/yolo/final/test/images/IMG20240523145838_jpg.rf.9a0649a4e1f94325b916f747760618b2.jpg: 640x640 1 Neem, 7.7ms\n",
            "image 1037/1917 /content/drive/MyDrive/AyushVision/yolo/final/test/images/IMG20240523145918_jpg.rf.59d69169759816911828ae3e019f988e.jpg: 640x640 1 Neem, 7.6ms\n",
            "image 1038/1917 /content/drive/MyDrive/AyushVision/yolo/final/test/images/IMG20240523145950_jpg.rf.f2b3dcb4d98738b8e2452ba2252e1c02.jpg: 640x640 1 Neem, 8.2ms\n",
            "image 1039/1917 /content/drive/MyDrive/AyushVision/yolo/final/test/images/IMG20240523145958_jpg.rf.71c9693a56369cfc16888b7ff77d1491.jpg: 640x640 1 Neem, 10.8ms\n",
            "image 1040/1917 /content/drive/MyDrive/AyushVision/yolo/final/test/images/IMG20240523150231_jpg.rf.9efccaabad6f0a232f735e2b11ff3338.jpg: 640x640 1 Neem, 7.5ms\n",
            "image 1041/1917 /content/drive/MyDrive/AyushVision/yolo/final/test/images/IMG20240523150341_jpg.rf.da4ff8debe791f824263502bdcab22f7.jpg: 640x640 1 Neem, 7.5ms\n",
            "image 1042/1917 /content/drive/MyDrive/AyushVision/yolo/final/test/images/IMG20240523150545_jpg.rf.2ad2d546366f92f48dc0a844a62521c5.jpg: 640x640 1 Hibiscus, 7.6ms\n",
            "image 1043/1917 /content/drive/MyDrive/AyushVision/yolo/final/test/images/IMG20240523150547_jpg.rf.ac871b709c83c58d28e0001d148ae608.jpg: 640x640 1 Hibiscus, 8.0ms\n",
            "image 1044/1917 /content/drive/MyDrive/AyushVision/yolo/final/test/images/IMG20240523150613_jpg.rf.bb16fcc5a83588feefde95990c6dfd1d.jpg: 640x640 1 Hibiscus, 7.5ms\n",
            "image 1045/1917 /content/drive/MyDrive/AyushVision/yolo/final/test/images/IMG20240523150658_jpg.rf.9fb447cd1768e2c86f23dc3b62227fe3.jpg: 640x640 1 Hibiscus, 7.5ms\n",
            "image 1046/1917 /content/drive/MyDrive/AyushVision/yolo/final/test/images/IMG20240523150720_jpg.rf.44eda99e10cdedcaa7c3c801b1705aeb.jpg: 640x640 2 Hibiscuss, 7.7ms\n",
            "image 1047/1917 /content/drive/MyDrive/AyushVision/yolo/final/test/images/IMG20240523151652_01_jpg.rf.42e218033702b815f0da976401b96d96.jpg: 640x640 1 Ginger, 7.5ms\n",
            "image 1048/1917 /content/drive/MyDrive/AyushVision/yolo/final/test/images/IMG20240523151823_jpg.rf.f6cbfb109ff17ec08062211fc9e1316b.jpg: 640x640 1 Ginger, 7.5ms\n",
            "image 1049/1917 /content/drive/MyDrive/AyushVision/yolo/final/test/images/IMG20240523151903_jpg.rf.b2db0c01c30b94a21828cd90dfa101d1.jpg: 640x640 (no detections), 8.0ms\n",
            "image 1050/1917 /content/drive/MyDrive/AyushVision/yolo/final/test/images/IMG20240523152822_jpg.rf.e99cb62b0a0eb270ca17d3f545c578de.jpg: 640x640 1 Caster, 7.5ms\n",
            "image 1051/1917 /content/drive/MyDrive/AyushVision/yolo/final/test/images/IMG20240523152823_jpg.rf.e3c23fc2c07ece193aa8c8e8e9c76b80.jpg: 640x640 1 Caster, 7.5ms\n",
            "image 1052/1917 /content/drive/MyDrive/AyushVision/yolo/final/test/images/IMG20240523152832_jpg.rf.23d131f77c0284e1c3276756c3a20bf3.jpg: 640x640 1 Caster, 7.5ms\n",
            "image 1053/1917 /content/drive/MyDrive/AyushVision/yolo/final/test/images/IMG20240523152924_jpg.rf.317a29174760d9d15dc776eb8250944b.jpg: 640x640 1 Caster, 7.5ms\n",
            "image 1054/1917 /content/drive/MyDrive/AyushVision/yolo/final/test/images/IMG20240523152937_jpg.rf.2c7c2d9d48f39dfd8a7fbe00e04e7e8c.jpg: 640x640 1 Caster, 7.5ms\n",
            "image 1055/1917 /content/drive/MyDrive/AyushVision/yolo/final/test/images/IMG20240523153042_jpg.rf.253ab02499a24b1fed45373c18d22ab0.jpg: 640x640 1 Caster, 8.7ms\n",
            "image 1056/1917 /content/drive/MyDrive/AyushVision/yolo/final/test/images/IMG20240523153106_jpg.rf.54c48f1f6660b9f26c1cf1af30dd9bb1.jpg: 640x640 1 Caster, 7.5ms\n",
            "image 1057/1917 /content/drive/MyDrive/AyushVision/yolo/final/test/images/IMG20240523153109_jpg.rf.ee273f9e17e3e3e9b19300233bcc1e4c.jpg: 640x640 1 Caster, 7.5ms\n",
            "image 1058/1917 /content/drive/MyDrive/AyushVision/yolo/final/test/images/IMG20240523153355_jpg.rf.b48ade6dfed61e75ca9bfc3d9ffe12f3.jpg: 640x640 1 Neem, 7.5ms\n",
            "image 1059/1917 /content/drive/MyDrive/AyushVision/yolo/final/test/images/IMG20240523153402_jpg.rf.75f306c9910887e1a7d6136a8513b2e6.jpg: 640x640 1 Neem, 7.5ms\n",
            "image 1060/1917 /content/drive/MyDrive/AyushVision/yolo/final/test/images/IMG20240524100430_jpg.rf.f44810b534ebb94b1547b1d9693567a7.jpg: 640x640 1 Indian_Mallow, 7.7ms\n",
            "image 1061/1917 /content/drive/MyDrive/AyushVision/yolo/final/test/images/IMG20240526085432_jpg.rf.20b19b5c877d25ce5159db3263d6c438.jpg: 640x640 1 Mountain_Knotgrass, 7.5ms\n",
            "image 1062/1917 /content/drive/MyDrive/AyushVision/yolo/final/test/images/IMG20240526085826_jpg.rf.03b14d1457ce332d6badcb4d78e2b423.jpg: 640x640 1 Mountain_Knotgrass, 7.5ms\n",
            "image 1063/1917 /content/drive/MyDrive/AyushVision/yolo/final/test/images/IMG20240526091022_jpg.rf.fad3ac32e694c8b9623deab44eed8499.jpg: 640x640 1 Mountain_Knotgrass, 7.5ms\n",
            "image 1064/1917 /content/drive/MyDrive/AyushVision/yolo/final/test/images/IMG20240526093536_jpg.rf.160a9647c203307d0cd7e99c353eac6d.jpg: 640x640 1 Mountain_Knotgrass, 7.5ms\n",
            "image 1065/1917 /content/drive/MyDrive/AyushVision/yolo/final/test/images/IMG20240526093905_jpg.rf.1518279cab3c70c6c198e416c8e4dead.jpg: 640x640 1 Mountain_Knotgrass, 7.5ms\n",
            "image 1066/1917 /content/drive/MyDrive/AyushVision/yolo/final/test/images/IMG20240526094341_jpg.rf.e140ebc7c952d4e3a7b3490ac3b5dad5.jpg: 640x640 1 Mountain_Knotgrass, 7.5ms\n",
            "image 1067/1917 /content/drive/MyDrive/AyushVision/yolo/final/test/images/IMG20240526094353_jpg.rf.675d21d7ae2c60568b757032ef080a52.jpg: 640x640 1 Mountain_Knotgrass, 7.5ms\n",
            "image 1068/1917 /content/drive/MyDrive/AyushVision/yolo/final/test/images/IMG20240526094420_jpg.rf.72431433d2d9fb163228070e1ecbf589.jpg: 640x640 1 Mountain_Knotgrass, 7.5ms\n",
            "image 1069/1917 /content/drive/MyDrive/AyushVision/yolo/final/test/images/IMG20240526094431_jpg.rf.6046294ae70f4c6da2ec30fa5a69ed13.jpg: 640x640 1 Mountain_Knotgrass, 7.5ms\n",
            "image 1070/1917 /content/drive/MyDrive/AyushVision/yolo/final/test/images/IMG20240530214750_jpg.rf.f0e2b3ce9d0b07602e872c6f2752660c.jpg: 640x640 1 Mountain_Knotgrass, 7.5ms\n",
            "image 1071/1917 /content/drive/MyDrive/AyushVision/yolo/final/test/images/IMG20240605083218_jpg.rf.ed61cecebfc360be75935a2d5e97ba7b.jpg: 640x640 1 Sleepy_plant, 7.6ms\n",
            "image 1072/1917 /content/drive/MyDrive/AyushVision/yolo/final/test/images/IMG20240605083221_jpg.rf.268c98416d1a638ca09fa2fdad79464a.jpg: 640x640 1 Sleepy_plant, 7.5ms\n",
            "image 1073/1917 /content/drive/MyDrive/AyushVision/yolo/final/test/images/IMG20240605083222_jpg.rf.ee95b4a9f7c85e4e2ee9d303e474e6f2.jpg: 640x640 (no detections), 7.5ms\n",
            "image 1074/1917 /content/drive/MyDrive/AyushVision/yolo/final/test/images/IMG20240605083232_jpg.rf.9b1b29a676144e6024b8164a7f977598.jpg: 640x640 1 Sleepy_plant, 7.5ms\n",
            "image 1075/1917 /content/drive/MyDrive/AyushVision/yolo/final/test/images/IMG20240605083341_jpg.rf.3b4800cdd671c14e6df5196776bb395f.jpg: 640x640 1 Sleepy_plant, 7.5ms\n",
            "image 1076/1917 /content/drive/MyDrive/AyushVision/yolo/final/test/images/IMG20240605083359_jpg.rf.2a36bd51008b347c8a7e178cec25cdcd.jpg: 640x640 (no detections), 7.5ms\n",
            "image 1077/1917 /content/drive/MyDrive/AyushVision/yolo/final/test/images/IMG20240605083422_jpg.rf.23959ff9391722232cd32884cb4edc4a.jpg: 640x640 1 Sleepy_plant, 8.5ms\n",
            "image 1078/1917 /content/drive/MyDrive/AyushVision/yolo/final/test/images/IMG20240605083425_jpg.rf.06371c4764767e8717211848677a5b1f.jpg: 640x640 1 Sleepy_plant, 9.3ms\n",
            "image 1079/1917 /content/drive/MyDrive/AyushVision/yolo/final/test/images/IMG20240605083506_jpg.rf.16632d51bcfbcddf95dd368288f7d311.jpg: 640x640 2 Sleepy_plants, 8.6ms\n",
            "image 1080/1917 /content/drive/MyDrive/AyushVision/yolo/final/test/images/IMG20240605083511_jpg.rf.b003ea7b6b94f552afe952a9bc65affd.jpg: 640x640 (no detections), 8.9ms\n",
            "image 1081/1917 /content/drive/MyDrive/AyushVision/yolo/final/test/images/IMG20240605083552_jpg.rf.e521ba29b8511200f0e0cef5f9335e60.jpg: 640x640 (no detections), 8.4ms\n",
            "image 1082/1917 /content/drive/MyDrive/AyushVision/yolo/final/test/images/IMG20240605083616_jpg.rf.bfe90f2c7ee835c504ca768a0884ee2e.jpg: 640x640 1 Sleepy_plant, 7.5ms\n",
            "image 1083/1917 /content/drive/MyDrive/AyushVision/yolo/final/test/images/IMG20240605083629_jpg.rf.92c7e398af161b22c28377293d504599.jpg: 640x640 1 Sleepy_plant, 7.6ms\n",
            "image 1084/1917 /content/drive/MyDrive/AyushVision/yolo/final/test/images/IMG20240605083707_jpg.rf.705339bc8f5bea4167b554863d5d684a.jpg: 640x640 1 Sleepy_plant, 7.8ms\n",
            "image 1085/1917 /content/drive/MyDrive/AyushVision/yolo/final/test/images/IMG20240605083712_jpg.rf.4e17b89815de5c001224a595b7197274.jpg: 640x640 1 Sleepy_plant, 7.9ms\n",
            "image 1086/1917 /content/drive/MyDrive/AyushVision/yolo/final/test/images/IMG20240605083926_jpg.rf.b8160cf28690b3625e86518c91742feb.jpg: 640x640 1 Sleepy_plant, 8.1ms\n",
            "image 1087/1917 /content/drive/MyDrive/AyushVision/yolo/final/test/images/IMG20240605084031_jpg.rf.ecdce264d4c82cf3ee7e814a1c51e6e2.jpg: 640x640 (no detections), 8.0ms\n",
            "image 1088/1917 /content/drive/MyDrive/AyushVision/yolo/final/test/images/IMG20240605084032_jpg.rf.7cfb6a9044b8666dfa7712781b5b070b.jpg: 640x640 2 Sleepy_plants, 9.2ms\n",
            "image 1089/1917 /content/drive/MyDrive/AyushVision/yolo/final/test/images/IMG20240605084037_jpg.rf.8f813482089d2ce421163c151a44ab0c.jpg: 640x640 1 Landrina, 7.5ms\n",
            "image 1090/1917 /content/drive/MyDrive/AyushVision/yolo/final/test/images/IMG20240605084040_jpg.rf.4ef5d9bd5e83e57f8150d652604ad9e9.jpg: 640x640 2 Sleepy_plants, 7.7ms\n",
            "image 1091/1917 /content/drive/MyDrive/AyushVision/yolo/final/test/images/IMG20240605084043_jpg.rf.af9e165343d3b847ecd41eab791f0703.jpg: 640x640 1 Sleepy_plant, 7.5ms\n",
            "image 1092/1917 /content/drive/MyDrive/AyushVision/yolo/final/test/images/IMG20240605084107_jpg.rf.dec5fd354978238bcd2b5addfd051cd5.jpg: 640x640 1 Sleepy_plant, 7.5ms\n",
            "image 1093/1917 /content/drive/MyDrive/AyushVision/yolo/final/test/images/IMG20240605084138_jpg.rf.bd280cc10116396a8761cd76f7279547.jpg: 640x640 1 Sleepy_plant, 7.5ms\n",
            "image 1094/1917 /content/drive/MyDrive/AyushVision/yolo/final/test/images/IMG20240605084359_jpg.rf.9181c432b106cadba45f6bfcf654a01c.jpg: 640x640 1 Sleepy_plant, 8.0ms\n",
            "image 1095/1917 /content/drive/MyDrive/AyushVision/yolo/final/test/images/IMG20240605084446_jpg.rf.a50f755adca5200ec8bcfc27e72a930e.jpg: 640x640 1 Sleepy_plant, 8.3ms\n",
            "image 1096/1917 /content/drive/MyDrive/AyushVision/yolo/final/test/images/IMG20240605084642_jpg.rf.ff18b4aebe859748d5542ec6e80b20d5.jpg: 640x640 (no detections), 7.5ms\n",
            "image 1097/1917 /content/drive/MyDrive/AyushVision/yolo/final/test/images/IMG20240606093251_jpg.rf.cef6c6e33ec62c00b0b6107417417aed.jpg: 640x640 1 Cinnamon, 7.5ms\n",
            "image 1098/1917 /content/drive/MyDrive/AyushVision/yolo/final/test/images/IMG20240606093318_jpg.rf.54e9d9df88ba9658f768a98c5b6effc2.jpg: 640x640 1 Cinnamon, 7.5ms\n",
            "image 1099/1917 /content/drive/MyDrive/AyushVision/yolo/final/test/images/IMG20240606093344_jpg.rf.d116c7c801d7acc9e2dee12e9014c913.jpg: 640x640 1 Cinnamon, 7.5ms\n",
            "image 1100/1917 /content/drive/MyDrive/AyushVision/yolo/final/test/images/IMG20240606093448_jpg.rf.ef78fc47247e3c867242f28a040ff79c.jpg: 640x640 1 Hibiscus, 7.5ms\n",
            "image 1101/1917 /content/drive/MyDrive/AyushVision/yolo/final/test/images/IMG20240606093553_jpg.rf.04f336f6bf7a816789baf4a0662182e0.jpg: 640x640 1 Hibiscus, 7.5ms\n",
            "image 1102/1917 /content/drive/MyDrive/AyushVision/yolo/final/test/images/IMG20240606093800_jpg.rf.4432a644ee97e0399a9375255d72ca08.jpg: 640x640 1 Hibiscus, 7.5ms\n",
            "image 1103/1917 /content/drive/MyDrive/AyushVision/yolo/final/test/images/IMG20240606093802_jpg.rf.a05358487798e834480ed5f839459e2e.jpg: 640x640 1 Hibiscus, 7.5ms\n",
            "image 1104/1917 /content/drive/MyDrive/AyushVision/yolo/final/test/images/IMG20240606173539_jpg.rf.dbaf8caef6f7c8a375ac30be9100b7b1.jpg: 640x640 1 Hibiscus, 7.5ms\n",
            "image 1105/1917 /content/drive/MyDrive/AyushVision/yolo/final/test/images/IMG20240606173556_jpg.rf.d23a97dcce1206e4d57b4d7ab7e7c49d.jpg: 640x640 1 Hibiscus, 7.5ms\n",
            "image 1106/1917 /content/drive/MyDrive/AyushVision/yolo/final/test/images/IMG20240606173712_jpg.rf.c6703565ed29ccedce75157c8e34b294.jpg: 640x640 1 Hibiscus, 7.5ms\n",
            "image 1107/1917 /content/drive/MyDrive/AyushVision/yolo/final/test/images/IMG20240606173734_jpg.rf.18c082262b23b8da798e7646832578c4.jpg: 640x640 1 Hibiscus, 7.5ms\n",
            "image 1108/1917 /content/drive/MyDrive/AyushVision/yolo/final/test/images/IMG20240606173742_jpg.rf.32b33e86dd01c37d71fff938289e2a95.jpg: 640x640 1 Hibiscus, 7.4ms\n",
            "image 1109/1917 /content/drive/MyDrive/AyushVision/yolo/final/test/images/IMG20240606173910_jpg.rf.6a65a4524134d3fb7958fa78670739e9.jpg: 640x640 1 Hibiscus, 7.5ms\n",
            "image 1110/1917 /content/drive/MyDrive/AyushVision/yolo/final/test/images/IMG20240606173940_jpg.rf.3e6f59831767811bde7fd6a8f5149652.jpg: 640x640 1 Hibiscus, 7.5ms\n",
            "image 1111/1917 /content/drive/MyDrive/AyushVision/yolo/final/test/images/IMG20240606173943_jpg.rf.41e4018d380508844005fb931b7485a9.jpg: 640x640 1 Hibiscus, 7.5ms\n",
            "image 1112/1917 /content/drive/MyDrive/AyushVision/yolo/final/test/images/IMG20240606174142_jpg.rf.ad40444dc635118fd02b83886360566a.jpg: 640x640 1 Cinnamon, 7.5ms\n",
            "image 1113/1917 /content/drive/MyDrive/AyushVision/yolo/final/test/images/IMG20240606174143_jpg.rf.c4ae242130cf1426cf3f23e1e89bb5d1.jpg: 640x640 1 Cinnamon, 7.6ms\n",
            "image 1114/1917 /content/drive/MyDrive/AyushVision/yolo/final/test/images/IMG20240606174149_jpg.rf.ec2b6a280277c4c2655e0060e1959a73.jpg: 640x640 1 Cinnamon, 7.6ms\n",
            "image 1115/1917 /content/drive/MyDrive/AyushVision/yolo/final/test/images/IMG20240606174154_jpg.rf.1559ab55a7fe433c21239fff04a31300.jpg: 640x640 1 Cinnamon, 7.5ms\n",
            "image 1116/1917 /content/drive/MyDrive/AyushVision/yolo/final/test/images/IMG20240606174309_jpg.rf.4dbbf7bfdc7fd19c6cb3d532b0116135.jpg: 640x640 1 Cinnamon, 7.7ms\n",
            "image 1117/1917 /content/drive/MyDrive/AyushVision/yolo/final/test/images/IMG20240606175021_jpg.rf.b446b05255b257e1e8721ded24264a8e.jpg: 640x640 1 Ivy_gourd, 8.3ms\n",
            "image 1118/1917 /content/drive/MyDrive/AyushVision/yolo/final/test/images/IMG20240606175113_jpg.rf.c2b427a4ad66473b480d2d4c9e4e09d5.jpg: 640x640 (no detections), 10.7ms\n",
            "image 1119/1917 /content/drive/MyDrive/AyushVision/yolo/final/test/images/IMG20240606175427_jpg.rf.9b8c7c00a9c759ee44d7b45785cf6f97.jpg: 640x640 (no detections), 8.4ms\n",
            "image 1120/1917 /content/drive/MyDrive/AyushVision/yolo/final/test/images/IMG20240606180841_jpg.rf.97a7550a9f233b9b41960e5955443eaa.jpg: 640x640 1 Landrina, 7.5ms\n",
            "image 1121/1917 /content/drive/MyDrive/AyushVision/yolo/final/test/images/IMG20240606181144_jpg.rf.6bb2643fcad0db77afddad9645c5381d.jpg: 640x640 1 Landrina, 7.5ms\n",
            "image 1122/1917 /content/drive/MyDrive/AyushVision/yolo/final/test/images/IMG20240607171423_jpg.rf.b90d131751149b0c27cfcc79e3792015.jpg: 640x640 1 Seedsunder_leaf, 7.6ms\n",
            "image 1123/1917 /content/drive/MyDrive/AyushVision/yolo/final/test/images/IMG20240607171924_jpg.rf.3b88a7dfa22ab10e0cee1cd806c02b72.jpg: 640x640 1 Neem, 7.7ms\n",
            "image 1124/1917 /content/drive/MyDrive/AyushVision/yolo/final/test/images/IMG20240607172054_jpg.rf.bf7ad33f3ced2bb695677a700bc8ed02.jpg: 640x640 1 Neem, 7.7ms\n",
            "image 1125/1917 /content/drive/MyDrive/AyushVision/yolo/final/test/images/IMG20240607172132_jpg.rf.8ce366502356d2c4630e914f9949f4bb.jpg: 640x640 1 Landrina, 7.8ms\n",
            "image 1126/1917 /content/drive/MyDrive/AyushVision/yolo/final/test/images/IMG20240607172510_jpg.rf.efea4e450f134033bb34133448fec125.jpg: 640x640 1 Neem, 7.5ms\n",
            "image 1127/1917 /content/drive/MyDrive/AyushVision/yolo/final/test/images/IMG20240607172536_jpg.rf.f40882e1e8568a255161fcb65deb0cd7.jpg: 640x640 (no detections), 7.9ms\n",
            "image 1128/1917 /content/drive/MyDrive/AyushVision/yolo/final/test/images/IMG20240607173159_jpg.rf.eb112f44d4f3d4c6b95e68283ac0cbc5.jpg: 640x640 1 Henna, 7.5ms\n",
            "image 1129/1917 /content/drive/MyDrive/AyushVision/yolo/final/test/images/IMG20240607173316_jpg.rf.3eada9cbf5a93eb1c61750f305afe5f0.jpg: 640x640 2 Neems, 7.5ms\n",
            "image 1130/1917 /content/drive/MyDrive/AyushVision/yolo/final/test/images/IMG20240607173624_jpg.rf.fb0a96b3c1011e080c5ce28014fe2e12.jpg: 640x640 1 Neem, 7.6ms\n",
            "image 1131/1917 /content/drive/MyDrive/AyushVision/yolo/final/test/images/IMG20240607173628_jpg.rf.186351d63a97e3eac07f41e92884d597.jpg: 640x640 (no detections), 7.5ms\n",
            "image 1132/1917 /content/drive/MyDrive/AyushVision/yolo/final/test/images/IMG20240607173814_jpg.rf.b18132aac34d86ec71c20dc1b0b9b624.jpg: 640x640 1 Neem, 7.5ms\n",
            "image 1133/1917 /content/drive/MyDrive/AyushVision/yolo/final/test/images/IMG20240607173824_jpg.rf.b9615b03bb490ab1f2e97edfd341b195.jpg: 640x640 1 Caster, 1 Neem, 7.6ms\n",
            "image 1134/1917 /content/drive/MyDrive/AyushVision/yolo/final/test/images/IMG20240607174401_jpg.rf.e3f9dc6e392f46b83c8e5f89fb5e0ef8.jpg: 640x640 2 Landrinas, 7.5ms\n",
            "image 1135/1917 /content/drive/MyDrive/AyushVision/yolo/final/test/images/IMG20240607174756_jpg.rf.b651f6d5c1819cc1a350a6cc144983d5.jpg: 640x640 1 Landrina, 8.5ms\n",
            "image 1136/1917 /content/drive/MyDrive/AyushVision/yolo/final/test/images/IMG20240607175035_jpg.rf.3efd7ca61983e2144b88946d51bc1ee7.jpg: 640x640 1 Landrina, 7.5ms\n",
            "image 1137/1917 /content/drive/MyDrive/AyushVision/yolo/final/test/images/IMG20240607175210_jpg.rf.c375e4ec91250fd081fce4b9b4adbeea.jpg: 640x640 1 Landrina, 7.5ms\n",
            "image 1138/1917 /content/drive/MyDrive/AyushVision/yolo/final/test/images/IMG20240607175308_jpg.rf.7e6573167a130b1233e774de7d9fd91d.jpg: 640x640 1 Landrina, 7.4ms\n",
            "image 1139/1917 /content/drive/MyDrive/AyushVision/yolo/final/test/images/IMG20240607175426_jpg.rf.303d3d75a87ed1bd0d4c0fb989082302.jpg: 640x640 1 Landrina, 7.5ms\n",
            "image 1140/1917 /content/drive/MyDrive/AyushVision/yolo/final/test/images/IMG20240608104632_jpg.rf.a6eedeb01f290362e3729a56936facb7.jpg: 640x640 1 Long_pepper, 7.5ms\n",
            "image 1141/1917 /content/drive/MyDrive/AyushVision/yolo/final/test/images/IMG20240608104641_jpg.rf.70ccfbdb8407c7f581c06eb5c345a587.jpg: 640x640 1 Long_pepper, 7.6ms\n",
            "image 1142/1917 /content/drive/MyDrive/AyushVision/yolo/final/test/images/IMG20240608104734_jpg.rf.a20d5ee909deea3deed41228f18effe1.jpg: 640x640 1 Long_pepper, 7.5ms\n",
            "image 1143/1917 /content/drive/MyDrive/AyushVision/yolo/final/test/images/IMG20240608104735_jpg.rf.ec2e4018f8663643fcd1d84571c125b2.jpg: 640x640 1 Long_pepper, 7.7ms\n",
            "image 1144/1917 /content/drive/MyDrive/AyushVision/yolo/final/test/images/IMG20240608104745_jpg.rf.6060447e0a48aaba6cd62bb418652f51.jpg: 640x640 1 Long_pepper, 7.5ms\n",
            "image 1145/1917 /content/drive/MyDrive/AyushVision/yolo/final/test/images/IMG20240608104752_jpg.rf.18c807bdec66358d7f32792ac04d96fc.jpg: 640x640 1 Long_pepper, 7.5ms\n",
            "image 1146/1917 /content/drive/MyDrive/AyushVision/yolo/final/test/images/IMG20240608104756_jpg.rf.f10da814eaff496b2eccd6e1324d2a16.jpg: 640x640 1 Long_pepper, 7.5ms\n",
            "image 1147/1917 /content/drive/MyDrive/AyushVision/yolo/final/test/images/IMG20240608104828_jpg.rf.7fb3841ab6968109e93684b3e1fae493.jpg: 640x640 1 Long_pepper, 7.5ms\n",
            "image 1148/1917 /content/drive/MyDrive/AyushVision/yolo/final/test/images/IMG20240608104848_jpg.rf.335884e9f8d625146add36fd0b53531b.jpg: 640x640 1 Long_pepper, 7.5ms\n",
            "image 1149/1917 /content/drive/MyDrive/AyushVision/yolo/final/test/images/IMG20240608104926_jpg.rf.32e09786f22b19c2cf4a252bbcd81aa5.jpg: 640x640 1 Long_pepper, 7.6ms\n",
            "image 1150/1917 /content/drive/MyDrive/AyushVision/yolo/final/test/images/IMG20240608104950_jpg.rf.30039e1c179d6a94411fe7c253f7181a.jpg: 640x640 1 Long_pepper, 7.5ms\n",
            "image 1151/1917 /content/drive/MyDrive/AyushVision/yolo/final/test/images/IMG20240608105027_jpg.rf.6dffb77325add05c911b525c3cfe16d7.jpg: 640x640 1 Long_pepper, 7.5ms\n",
            "image 1152/1917 /content/drive/MyDrive/AyushVision/yolo/final/test/images/IMG20240608105046_jpg.rf.7f8e575388af02b867a93835410559a8.jpg: 640x640 1 Long_pepper, 7.6ms\n",
            "image 1153/1917 /content/drive/MyDrive/AyushVision/yolo/final/test/images/IMG20240608105111_jpg.rf.4402f953dccc0c14fbbdc6641be5b045.jpg: 640x640 1 Long_pepper, 7.6ms\n",
            "image 1154/1917 /content/drive/MyDrive/AyushVision/yolo/final/test/images/IMG20240608105221_jpg.rf.598e293f08d6769d9855d8519a5b721b.jpg: 640x640 1 Long_pepper, 7.5ms\n",
            "image 1155/1917 /content/drive/MyDrive/AyushVision/yolo/final/test/images/IMG20240608105227_jpg.rf.df303691cfc5d442ccd5df233100d28b.jpg: 640x640 1 Long_pepper, 7.5ms\n",
            "image 1156/1917 /content/drive/MyDrive/AyushVision/yolo/final/test/images/IMG20240608105245_jpg.rf.66ff8ef17209f056da3beec859ad5a82.jpg: 640x640 1 Long_pepper, 7.5ms\n",
            "image 1157/1917 /content/drive/MyDrive/AyushVision/yolo/final/test/images/IMG20240608105248_jpg.rf.3212c14f55860ccd379e7d6ceff4dc00.jpg: 640x640 1 Long_pepper, 7.7ms\n",
            "image 1158/1917 /content/drive/MyDrive/AyushVision/yolo/final/test/images/IMG20240608105258_jpg.rf.8019cd23f6ef109f6747a187bf4b32a8.jpg: 640x640 1 Betel, 1 Long_pepper, 10.0ms\n",
            "image 1159/1917 /content/drive/MyDrive/AyushVision/yolo/final/test/images/IMG20240608105319_jpg.rf.c9ea769a1791cebfb3910f07cebe0074.jpg: 640x640 1 Long_pepper, 7.9ms\n",
            "image 1160/1917 /content/drive/MyDrive/AyushVision/yolo/final/test/images/IMG20240608105321_jpg.rf.68a4eb5f82dcef02cd7a7f46b89a9d33.jpg: 640x640 1 Long_pepper, 8.0ms\n",
            "image 1161/1917 /content/drive/MyDrive/AyushVision/yolo/final/test/images/IMG20240608105332_jpg.rf.9d03a49e79c5d252afb338e5b72973b5.jpg: 640x640 1 Long_pepper, 8.4ms\n",
            "image 1162/1917 /content/drive/MyDrive/AyushVision/yolo/final/test/images/IMG20240608105336_jpg.rf.f254b541db2de2f1c5e80da10f1a1113.jpg: 640x640 (no detections), 9.9ms\n",
            "image 1163/1917 /content/drive/MyDrive/AyushVision/yolo/final/test/images/IMG20240608105338_jpg.rf.fbfa65b43429d04ba5d34f2b6b30cc96.jpg: 640x640 1 Holybasil, 8.4ms\n",
            "image 1164/1917 /content/drive/MyDrive/AyushVision/yolo/final/test/images/IMG20240608105340_jpg.rf.6b8909dd437e1f310d050ee74c6c6931.jpg: 640x640 1 Long_pepper, 7.5ms\n",
            "image 1165/1917 /content/drive/MyDrive/AyushVision/yolo/final/test/images/IMG20240608105352_jpg.rf.29072113095d89f4f3efa0b8aebb2685.jpg: 640x640 1 Long_pepper, 7.5ms\n",
            "image 1166/1917 /content/drive/MyDrive/AyushVision/yolo/final/test/images/IMG20240608105356_jpg.rf.bbe0f60cc44d46a4eb1545df3706e2f3.jpg: 640x640 1 Long_pepper, 7.5ms\n",
            "image 1167/1917 /content/drive/MyDrive/AyushVision/yolo/final/test/images/IMG20240608105357_jpg.rf.120bd32013a5459348aa615799be6348.jpg: 640x640 (no detections), 7.5ms\n",
            "image 1168/1917 /content/drive/MyDrive/AyushVision/yolo/final/test/images/IMG20240608105358_jpg.rf.d0123d3866a2a407d97d41e92309340b.jpg: 640x640 1 Long_pepper, 7.6ms\n",
            "image 1169/1917 /content/drive/MyDrive/AyushVision/yolo/final/test/images/IMG20240608105655_jpg.rf.5c4c3c8d75e1093dd33971b2429e2008.jpg: 640x640 1 Oregano, 7.5ms\n",
            "image 1170/1917 /content/drive/MyDrive/AyushVision/yolo/final/test/images/IMG20240608105703_jpg.rf.c113461ee2414225a1c17221567ce7cb.jpg: 640x640 1 Oregano, 7.6ms\n",
            "image 1171/1917 /content/drive/MyDrive/AyushVision/yolo/final/test/images/IMG20240608105737_jpg.rf.a9348966ffa1c19b2e7f8690919a82c3.jpg: 640x640 2 Oreganos, 8.1ms\n",
            "image 1172/1917 /content/drive/MyDrive/AyushVision/yolo/final/test/images/IMG20240608110217_jpg.rf.234396afe6c9887e80d511ab8ea30cb3.jpg: 640x640 1 Sleepy_plant, 7.5ms\n",
            "image 1173/1917 /content/drive/MyDrive/AyushVision/yolo/final/test/images/IMG20240608110423_jpg.rf.b273329a6af47e40f9af54a26867534e.jpg: 640x640 2 Miracle_leafs, 7.5ms\n",
            "image 1174/1917 /content/drive/MyDrive/AyushVision/yolo/final/test/images/IMG20240608110428_jpg.rf.554d36447c96b981e5ea2d3f4cce595d.jpg: 640x640 1 Miracle_leaf, 7.5ms\n",
            "image 1175/1917 /content/drive/MyDrive/AyushVision/yolo/final/test/images/IMG20240608110433_jpg.rf.3fe2bbc4a68f24d86d92a919d0bfccf3.jpg: 640x640 3 Miracle_leafs, 7.5ms\n",
            "image 1176/1917 /content/drive/MyDrive/AyushVision/yolo/final/test/images/IMG20240608110452_jpg.rf.115053e9d37f65116b3b6b0c95edbf00.jpg: 640x640 3 Miracle_leafs, 7.5ms\n",
            "image 1177/1917 /content/drive/MyDrive/AyushVision/yolo/final/test/images/IMG20240608110545_jpg.rf.dd3a4fde5e3b2ac1f162258434597d8d.jpg: 640x640 3 Miracle_leafs, 7.5ms\n",
            "image 1178/1917 /content/drive/MyDrive/AyushVision/yolo/final/test/images/IMG20240608110608_jpg.rf.c803041a7e145484090b3eee7338a593.jpg: 640x640 4 Miracle_leafs, 7.5ms\n",
            "image 1179/1917 /content/drive/MyDrive/AyushVision/yolo/final/test/images/IMG20240608110655_jpg.rf.7cc5c2485e38809b0d5dd1ff0b811171.jpg: 640x640 1 Miracle_leaf, 7.5ms\n",
            "image 1180/1917 /content/drive/MyDrive/AyushVision/yolo/final/test/images/IMG20240608110704_jpg.rf.88f8b816386a0ffe6c4de12143dba479.jpg: 640x640 4 Miracle_leafs, 7.5ms\n",
            "image 1181/1917 /content/drive/MyDrive/AyushVision/yolo/final/test/images/IMG20240608110721_jpg.rf.6564e48a74f4826a191101e08b23bdba.jpg: 640x640 4 Miracle_leafs, 7.5ms\n",
            "image 1182/1917 /content/drive/MyDrive/AyushVision/yolo/final/test/images/IMG20240608110723_jpg.rf.c5aa8515753b5a3d4bf0cd3fe91f1e35.jpg: 640x640 1 Miracle_leaf, 7.5ms\n",
            "image 1183/1917 /content/drive/MyDrive/AyushVision/yolo/final/test/images/IMG20240608110729_jpg.rf.941e57d7f89ea8feeaea19d9edf987f7.jpg: 640x640 3 Miracle_leafs, 7.5ms\n",
            "image 1184/1917 /content/drive/MyDrive/AyushVision/yolo/final/test/images/IMG20240608110736_01_jpg.rf.35ee7b5d8aa01dc6d5318d05ae54fb81.jpg: 640x640 2 Miracle_leafs, 7.5ms\n",
            "image 1185/1917 /content/drive/MyDrive/AyushVision/yolo/final/test/images/IMG20240608110739_jpg.rf.907f89ee2218308a5c9739a177a20a3a.jpg: 640x640 1 Miracle_leaf, 7.5ms\n",
            "image 1186/1917 /content/drive/MyDrive/AyushVision/yolo/final/test/images/IMG20240608110858_jpg.rf.7735c5241e2ba2d99b512d3cb46e5c62.jpg: 640x640 3 Miracle_leafs, 7.5ms\n",
            "image 1187/1917 /content/drive/MyDrive/AyushVision/yolo/final/test/images/IMG20240608110901_jpg.rf.829ba304af94e5b89477925fce5f773f.jpg: 640x640 4 Miracle_leafs, 7.5ms\n",
            "image 1188/1917 /content/drive/MyDrive/AyushVision/yolo/final/test/images/IMG20240608110923_jpg.rf.e59fe7c755a6a597dd12f740bd698678.jpg: 640x640 1 Miracle_leaf, 7.5ms\n",
            "image 1189/1917 /content/drive/MyDrive/AyushVision/yolo/final/test/images/IMG20240608111208_jpg.rf.a97ca6cbe3f3f365e4ed72d01053dc47.jpg: 640x640 5 Miracle_leafs, 7.7ms\n",
            "image 1190/1917 /content/drive/MyDrive/AyushVision/yolo/final/test/images/IMG20240608111254_jpg.rf.9ddf635b4cb354be6f36d7fc0647a58f.jpg: 640x640 1 Oregano, 7.7ms\n",
            "image 1191/1917 /content/drive/MyDrive/AyushVision/yolo/final/test/images/IMG20240608111310_jpg.rf.d0dbe7329df7404784dde9b6abff6b98.jpg: 640x640 1 Miracle_leaf, 7.5ms\n",
            "image 1192/1917 /content/drive/MyDrive/AyushVision/yolo/final/test/images/IMG20240608111315_jpg.rf.a6b077e2a6422fcc381b7431ff1045e2.jpg: 640x640 1 Oregano, 7.5ms\n",
            "image 1193/1917 /content/drive/MyDrive/AyushVision/yolo/final/test/images/IMG20240608111337_jpg.rf.a775bd13417098196df3233a410ffca2.jpg: 640x640 1 Oregano, 7.5ms\n",
            "image 1194/1917 /content/drive/MyDrive/AyushVision/yolo/final/test/images/IMG20240608111413_jpg.rf.dbfd157718e5e299669b0218f33aa5c1.jpg: 640x640 3 Miracle_leafs, 7.7ms\n",
            "image 1195/1917 /content/drive/MyDrive/AyushVision/yolo/final/test/images/IMG20240608111428_jpg.rf.68a9a598d3cf52bb314b849db0c20fbf.jpg: 640x640 1 Miracle_leaf, 7.5ms\n",
            "image 1196/1917 /content/drive/MyDrive/AyushVision/yolo/final/test/images/IMG20240608111433_jpg.rf.2a77281e4439e4b64457e60b0091c90a.jpg: 640x640 (no detections), 9.4ms\n",
            "image 1197/1917 /content/drive/MyDrive/AyushVision/yolo/final/test/images/IMG20240608111442_jpg.rf.e1a4ceae7186e2a45b0935187f7c0bd4.jpg: 640x640 1 Miracle_leaf, 7.8ms\n",
            "image 1198/1917 /content/drive/MyDrive/AyushVision/yolo/final/test/images/IMG20240608111516_jpg.rf.f556e31355cb2b407cb9e133db15d573.jpg: 640x640 2 Miracle_leafs, 8.7ms\n",
            "image 1199/1917 /content/drive/MyDrive/AyushVision/yolo/final/test/images/IMG20240608111532_jpg.rf.da53c6519f257896f7aa2c4a2ad0a7e1.jpg: 640x640 1 Miracle_leaf, 7.5ms\n",
            "image 1200/1917 /content/drive/MyDrive/AyushVision/yolo/final/test/images/IMG20240608111534_jpg.rf.b83de9dc55e581cd6c6880dd66f9f3b3.jpg: 640x640 1 Miracle_leaf, 8.4ms\n",
            "image 1201/1917 /content/drive/MyDrive/AyushVision/yolo/final/test/images/IMG20240608111605_jpg.rf.94fb71800ddb1080c207adbc88a601a0.jpg: 640x640 3 Miracle_leafs, 8.4ms\n",
            "image 1202/1917 /content/drive/MyDrive/AyushVision/yolo/final/test/images/IMG20240608111606_jpg.rf.ad5dafeb33cedaae67db21b724c1e074.jpg: 640x640 2 Miracle_leafs, 7.5ms\n",
            "image 1203/1917 /content/drive/MyDrive/AyushVision/yolo/final/test/images/IMG20240608111615_jpg.rf.4c43d41450cd942a800974bf6c9419a0.jpg: 640x640 (no detections), 7.5ms\n",
            "image 1204/1917 /content/drive/MyDrive/AyushVision/yolo/final/test/images/IMG20240608111632_jpg.rf.896f6030a19bdd471b3c994efb6831e8.jpg: 640x640 4 Miracle_leafs, 7.5ms\n",
            "image 1205/1917 /content/drive/MyDrive/AyushVision/yolo/final/test/images/IMG20240608111634_jpg.rf.19e2fd6ec806089f65a858b9642227d4.jpg: 640x640 3 Miracle_leafs, 7.5ms\n",
            "image 1206/1917 /content/drive/MyDrive/AyushVision/yolo/final/test/images/IMG20240608111638_jpg.rf.253f8e9aeeca8255e175d863cb841f54.jpg: 640x640 1 Miracle_leaf, 7.5ms\n",
            "image 1207/1917 /content/drive/MyDrive/AyushVision/yolo/final/test/images/IMG20240608112317_jpg.rf.95b5c642dc9fb98f86b34e22a80128e6.jpg: 640x640 1 Cinnamon, 7.5ms\n",
            "image 1208/1917 /content/drive/MyDrive/AyushVision/yolo/final/test/images/IMG20240608112327_jpg.rf.6758e10b998760b902e95df57bf83355.jpg: 640x640 1 Cinnamon, 7.5ms\n",
            "image 1209/1917 /content/drive/MyDrive/AyushVision/yolo/final/test/images/IMG20240608112329_jpg.rf.907e99a977f39de162c676713e5ade4f.jpg: 640x640 1 Cinnamon, 7.5ms\n",
            "image 1210/1917 /content/drive/MyDrive/AyushVision/yolo/final/test/images/IMG20240608112346_jpg.rf.abb38d15a2ade7bc5574565b98733904.jpg: 640x640 1 Cinnamon, 7.5ms\n",
            "image 1211/1917 /content/drive/MyDrive/AyushVision/yolo/final/test/images/IMG20240608112349_jpg.rf.a96e03caf2966cf1b38bb30b57783c73.jpg: 640x640 1 Cinnamon, 7.5ms\n",
            "image 1212/1917 /content/drive/MyDrive/AyushVision/yolo/final/test/images/IMG20240608112420_jpg.rf.a78e8c4c422e01dcd3384a9cdefbc9c8.jpg: 640x640 1 Cinnamon, 7.7ms\n",
            "image 1213/1917 /content/drive/MyDrive/AyushVision/yolo/final/test/images/IMG20240608112422_jpg.rf.083cc382c0cff83b8eb25c7382625ce5.jpg: 640x640 1 Cinnamon, 7.5ms\n",
            "image 1214/1917 /content/drive/MyDrive/AyushVision/yolo/final/test/images/IMG20240608112428_jpg.rf.e9f02088d85c949095c8008629ebc60c.jpg: 640x640 1 Cinnamon, 7.5ms\n",
            "image 1215/1917 /content/drive/MyDrive/AyushVision/yolo/final/test/images/IMG20240608112447_jpg.rf.e155fa4ee47085bc190e2b1de55d71a4.jpg: 640x640 1 Cinnamon, 7.7ms\n",
            "image 1216/1917 /content/drive/MyDrive/AyushVision/yolo/final/test/images/IMG20240608112501_jpg.rf.8d24ca34996297e6721bd1ef2a67906f.jpg: 640x640 1 Cinnamon, 7.5ms\n",
            "image 1217/1917 /content/drive/MyDrive/AyushVision/yolo/final/test/images/IMG20240608162313_jpg.rf.ac8f21c18731443c45c0ed2dc2bebfd6.jpg: 640x640 1 Lemon_grass, 7.5ms\n",
            "image 1218/1917 /content/drive/MyDrive/AyushVision/yolo/final/test/images/IMG20240608162741_jpg.rf.1811ed1b322fdc4bfe34d437c538d75b.jpg: 640x640 1 Lemon_grass, 7.5ms\n",
            "image 1219/1917 /content/drive/MyDrive/AyushVision/yolo/final/test/images/IMG20240608162829_jpg.rf.503c4729fbc5d5ce0e81b1aef3cd0597.jpg: 640x640 1 Lemon_grass, 7.5ms\n",
            "image 1220/1917 /content/drive/MyDrive/AyushVision/yolo/final/test/images/IMG20240608162834_jpg.rf.b04147966a8c2073e542dbff791187b8.jpg: 640x640 1 Lemon_grass, 7.5ms\n",
            "image 1221/1917 /content/drive/MyDrive/AyushVision/yolo/final/test/images/IMG20240608163048_jpg.rf.81d45901cb24ab17bc1ef7f8aa3eda6f.jpg: 640x640 1 Lemon_grass, 7.5ms\n",
            "image 1222/1917 /content/drive/MyDrive/AyushVision/yolo/final/test/images/IMG20240608163200_jpg.rf.d2f1177a3c33607fa24dad80c44b1c42.jpg: 640x640 1 Lemon_grass, 7.5ms\n",
            "image 1223/1917 /content/drive/MyDrive/AyushVision/yolo/final/test/images/IMG20240608163235_jpg.rf.58309a3ae32b56135caf0f0dd47adf5b.jpg: 640x640 1 Lemon_grass, 7.5ms\n",
            "image 1224/1917 /content/drive/MyDrive/AyushVision/yolo/final/test/images/IMG20240608163310_jpg.rf.8612f50660cfbc82df1b08b334a6af41.jpg: 640x640 1 Lemon_grass, 7.5ms\n",
            "image 1225/1917 /content/drive/MyDrive/AyushVision/yolo/final/test/images/IMG20240608163844_jpg.rf.fd7b39e873f55bd13d4c353212bee353.jpg: 640x640 1 lime, 7.5ms\n",
            "image 1226/1917 /content/drive/MyDrive/AyushVision/yolo/final/test/images/IMG20240608163847_jpg.rf.ad279aef5677f9e07bf397b2acd0ab2e.jpg: 640x640 (no detections), 7.6ms\n",
            "image 1227/1917 /content/drive/MyDrive/AyushVision/yolo/final/test/images/IMG20240608170502_jpg.rf.74b6d6c941e096bafc7519f7265541a1.jpg: 640x640 1 Lemon_grass, 7.8ms\n",
            "image 1228/1917 /content/drive/MyDrive/AyushVision/yolo/final/test/images/IMG20240608170504_jpg.rf.d77e53acda5df76edddc38b87e5e3b8a.jpg: 640x640 1 Lemon_grass, 7.5ms\n",
            "image 1229/1917 /content/drive/MyDrive/AyushVision/yolo/final/test/images/IMG20240608170518_jpg.rf.7971e129c1664fca1150c16645b78cc7.jpg: 640x640 1 Lemon_grass, 7.6ms\n",
            "image 1230/1917 /content/drive/MyDrive/AyushVision/yolo/final/test/images/IMG20240608170521_jpg.rf.f74828ccda1520894d3918322856bf0a.jpg: 640x640 1 Lemon_grass, 1 Tallperennial_grass, 7.5ms\n",
            "image 1231/1917 /content/drive/MyDrive/AyushVision/yolo/final/test/images/IMG20240608170537_jpg.rf.f81dbf78737cae1b1aaac05ef936f286.jpg: 640x640 1 Lemon_grass, 7.7ms\n",
            "image 1232/1917 /content/drive/MyDrive/AyushVision/yolo/final/test/images/IMG20240608170548_jpg.rf.2bf71d184b58124f144299e58395321d.jpg: 640x640 1 Lemon_grass, 7.5ms\n",
            "image 1233/1917 /content/drive/MyDrive/AyushVision/yolo/final/test/images/IMG20240608170557_jpg.rf.22b1f689d5e934bf76afa32c7142dfcc.jpg: 640x640 1 Lemon_grass, 7.5ms\n",
            "image 1234/1917 /content/drive/MyDrive/AyushVision/yolo/final/test/images/IMG20240608170603_jpg.rf.5bad19545f9b68e3a37a357c55669b49.jpg: 640x640 1 Lemon_grass, 7.4ms\n",
            "image 1235/1917 /content/drive/MyDrive/AyushVision/yolo/final/test/images/IMG20240608170633_jpg.rf.c3cbe57e33dae4c21ac38ca9116d8532.jpg: 640x640 1 Lemon_grass, 7.5ms\n",
            "image 1236/1917 /content/drive/MyDrive/AyushVision/yolo/final/test/images/IMG20240608170643_jpg.rf.b37c98dfcefee2298a624243edfe8dc3.jpg: 640x640 1 Lemon_grass, 7.5ms\n",
            "image 1237/1917 /content/drive/MyDrive/AyushVision/yolo/final/test/images/IMG20240608170746_jpg.rf.95314ad44a6ec899542d7fdcdda786fb.jpg: 640x640 1 Lemon_grass, 8.1ms\n",
            "image 1238/1917 /content/drive/MyDrive/AyushVision/yolo/final/test/images/IMG20240608170911_jpg.rf.d86ec4d101aa4153e8640e8bfd96d252.jpg: 640x640 1 Lemon_grass, 7.6ms\n",
            "image 1239/1917 /content/drive/MyDrive/AyushVision/yolo/final/test/images/IMG20240608170912_jpg.rf.8fdb8ef7cd0113d4736e33992d95a66c.jpg: 640x640 1 Lemon_grass, 7.5ms\n",
            "image 1240/1917 /content/drive/MyDrive/AyushVision/yolo/final/test/images/IMG20240608170923_jpg.rf.4652744010686f206ff7cd636e51eb07.jpg: 640x640 1 Lemon_grass, 7.5ms\n",
            "image 1241/1917 /content/drive/MyDrive/AyushVision/yolo/final/test/images/IMG20240608170941_jpg.rf.ae5a44c35f441343f7e9710730eca439.jpg: 640x640 1 Lemon_grass, 8.4ms\n",
            "image 1242/1917 /content/drive/MyDrive/AyushVision/yolo/final/test/images/IMG20240608171009_jpg.rf.0228b1091cc94941f2fb2fce13ba3501.jpg: 640x640 1 Lemon_grass, 8.3ms\n",
            "image 1243/1917 /content/drive/MyDrive/AyushVision/yolo/final/test/images/IMG20240609175102_jpg.rf.e37b53f0f9af2241c8ae13f49c09cda4.jpg: 640x640 1 Neem, 7.9ms\n",
            "image 1244/1917 /content/drive/MyDrive/AyushVision/yolo/final/test/images/IMG20240609175418_jpg.rf.ab82d9115ccfc8d93471e2fbc32574c3.jpg: 640x640 1 Hibiscus, 9.0ms\n",
            "image 1245/1917 /content/drive/MyDrive/AyushVision/yolo/final/test/images/IMG20240609175447_jpg.rf.cbcc6521e6084ef08480ee60770a54e5.jpg: 640x640 1 Hibiscus, 7.7ms\n",
            "image 1246/1917 /content/drive/MyDrive/AyushVision/yolo/final/test/images/IMG20240609175641_jpg.rf.dff8c2315947639e13e917954c8df514.jpg: 640x640 1 Hibiscus, 7.5ms\n",
            "image 1247/1917 /content/drive/MyDrive/AyushVision/yolo/final/test/images/IMG20240609175646_jpg.rf.aafb9f536cf5568125bdec6035129e1e.jpg: 640x640 1 Hibiscus, 7.5ms\n",
            "image 1248/1917 /content/drive/MyDrive/AyushVision/yolo/final/test/images/IMG20240609175805_jpg.rf.d60a31a4c298a90ca4df90abcf04736b.jpg: 640x640 1 Hibiscus, 7.5ms\n",
            "image 1249/1917 /content/drive/MyDrive/AyushVision/yolo/final/test/images/IMG20240609175838_jpg.rf.4448a7fa49883a8a227b9f4bcfabf346.jpg: 640x640 1 Hibiscus, 1 Holybasil, 9.0ms\n",
            "image 1250/1917 /content/drive/MyDrive/AyushVision/yolo/final/test/images/IMG20240609175922_jpg.rf.937af851a03e0c2f78e9020b7e5c1ad8.jpg: 640x640 1 Hibiscus, 10.5ms\n",
            "image 1251/1917 /content/drive/MyDrive/AyushVision/yolo/final/test/images/IMG20240609175937_jpg.rf.47022588b0e8448d337aae70d5872e84.jpg: 640x640 1 Hibiscus, 7.5ms\n",
            "image 1252/1917 /content/drive/MyDrive/AyushVision/yolo/final/test/images/IMG20240609180100_jpg.rf.7cadba7754954cedd8391ffd4d10abcb.jpg: 640x640 1 Hibiscus, 8.6ms\n",
            "image 1253/1917 /content/drive/MyDrive/AyushVision/yolo/final/test/images/IMG20240609180115_jpg.rf.7c21b0fb3da1d5889bd31056df018adc.jpg: 640x640 1 Hibiscus, 7.7ms\n",
            "image 1254/1917 /content/drive/MyDrive/AyushVision/yolo/final/test/images/IMG20240609180254_jpg.rf.b736ae4544f2a2ffd9599ff7ddde9eb3.jpg: 640x640 1 lime, 7.9ms\n",
            "image 1255/1917 /content/drive/MyDrive/AyushVision/yolo/final/test/images/IMG20240609180524_jpg.rf.d3dd7926e93af30995614d8a5ec8b620.jpg: 640x640 1 lime, 1 Cinnamon, 7.9ms\n",
            "image 1256/1917 /content/drive/MyDrive/AyushVision/yolo/final/test/images/IMG20240609180839_jpg.rf.5f0fae39b91103c2db1443d6ecd16d95.jpg: 640x640 1 Neem, 10.4ms\n",
            "image 1257/1917 /content/drive/MyDrive/AyushVision/yolo/final/test/images/IMG20240610080403_jpg.rf.261d29303a74b217ce0c58b63db9062e.jpg: 640x640 2 Turmerics, 7.6ms\n",
            "image 1258/1917 /content/drive/MyDrive/AyushVision/yolo/final/test/images/IMG20240610080411_jpg.rf.bfeb0704ac1ea6b4bf6f950be37ed885.jpg: 640x640 1 Turmeric, 7.9ms\n",
            "image 1259/1917 /content/drive/MyDrive/AyushVision/yolo/final/test/images/IMG20240610080827_jpg.rf.8d589df582a72968a12efe0944ef9b54.jpg: 640x640 2 Turmerics, 7.8ms\n",
            "image 1260/1917 /content/drive/MyDrive/AyushVision/yolo/final/test/images/IMG20240610080837_jpg.rf.2f5ba782629e3493d756e978947c4c4e.jpg: 640x640 1 Wild_Turmeric, 7.5ms\n",
            "image 1261/1917 /content/drive/MyDrive/AyushVision/yolo/final/test/images/IMG20240610080858_jpg.rf.58196be7ea69f1866a3af9cd5844e608.jpg: 640x640 1 Turmeric, 7.5ms\n",
            "image 1262/1917 /content/drive/MyDrive/AyushVision/yolo/final/test/images/IMG20240610080901_jpg.rf.887848d5cb616ad10b5aea39ba6008aa.jpg: 640x640 1 Acalyphaindica, 2 Turmerics, 7.5ms\n",
            "image 1263/1917 /content/drive/MyDrive/AyushVision/yolo/final/test/images/IMG20240610080936_jpg.rf.6742fe17f9161c5916c0c2d47cfee7a2.jpg: 640x640 1 Turmeric, 7.5ms\n",
            "image 1264/1917 /content/drive/MyDrive/AyushVision/yolo/final/test/images/IMG20240610081042_jpg.rf.c0ada34f5cfae9f779e4f1ad0b60583b.jpg: 640x640 1 Turmeric, 7.5ms\n",
            "image 1265/1917 /content/drive/MyDrive/AyushVision/yolo/final/test/images/IMG20240610081150_jpg.rf.d89038093bbf702b63450ac781a58116.jpg: 640x640 1 Turmeric, 9.4ms\n",
            "image 1266/1917 /content/drive/MyDrive/AyushVision/yolo/final/test/images/IMG20240610081256_jpg.rf.06c830ce83d5776f66059d4b11422f7f.jpg: 640x640 1 Turmeric, 7.7ms\n",
            "image 1267/1917 /content/drive/MyDrive/AyushVision/yolo/final/test/images/IMG20240610081308_jpg.rf.9f6e25b7eb7b175441d2a4991d73fd41.jpg: 640x640 1 Wild_Turmeric, 9.1ms\n",
            "image 1268/1917 /content/drive/MyDrive/AyushVision/yolo/final/test/images/IMG20240610081545_jpg.rf.bd25bc6a997877bed0dc276a08c1cdf6.jpg: 640x640 1 Turmeric, 7.5ms\n",
            "image 1269/1917 /content/drive/MyDrive/AyushVision/yolo/final/test/images/IMG20240610082251_jpg.rf.67dacb9b0e0bc72a177f987637f32c21.jpg: 640x640 1 Seedsunder_leaf, 7.5ms\n",
            "image 1270/1917 /content/drive/MyDrive/AyushVision/yolo/final/test/images/IMG20240610082338_jpg.rf.dfd5ea72f8b70978003a6cac62f03d59.jpg: 640x640 1 Seedsunder_leaf, 7.5ms\n",
            "image 1271/1917 /content/drive/MyDrive/AyushVision/yolo/final/test/images/IMG20240610082718_jpg.rf.9d4f3b16d4bd1facfd76388d059a2f42.jpg: 640x640 2 Seedsunder_leafs, 7.5ms\n",
            "image 1272/1917 /content/drive/MyDrive/AyushVision/yolo/final/test/images/IMG20240610083924_jpg.rf.4ff60ad8aa92b3290115482deda48d23.jpg: 640x640 1 Turmeric, 7.7ms\n",
            "image 1273/1917 /content/drive/MyDrive/AyushVision/yolo/final/test/images/IMG20240610083938_jpg.rf.b8ced31abffa0a46edaf7d63d9e72d5d.jpg: 640x640 1 Turmeric, 7.5ms\n",
            "image 1274/1917 /content/drive/MyDrive/AyushVision/yolo/final/test/images/IMG20240610171737_jpg.rf.214e7ea4899de1727a3758f00dfd8f78.jpg: 640x640 (no detections), 7.5ms\n",
            "image 1275/1917 /content/drive/MyDrive/AyushVision/yolo/final/test/images/IMG20240610171900_jpg.rf.0f554c66a33588af67e512bbfef901b0.jpg: 640x640 1 Seedsunder_leaf, 7.5ms\n",
            "image 1276/1917 /content/drive/MyDrive/AyushVision/yolo/final/test/images/IMG20240610171908_jpg.rf.8e9d90fb8f97bda28a2d17c2bfcb9ae0.jpg: 640x640 2 Seedsunder_leafs, 8.4ms\n",
            "image 1277/1917 /content/drive/MyDrive/AyushVision/yolo/final/test/images/IMG20240610172152_jpg.rf.d42af8e42da158bc78bab2e117393485.jpg: 640x640 1 Seedsunder_leaf, 8.2ms\n",
            "image 1278/1917 /content/drive/MyDrive/AyushVision/yolo/final/test/images/IMG20240610172303_jpg.rf.d736e5ae0d24e1b79c812a79c908821f.jpg: 640x640 2 Seedsunder_leafs, 9.9ms\n",
            "image 1279/1917 /content/drive/MyDrive/AyushVision/yolo/final/test/images/IMG20240610172327_jpg.rf.9147c4b72048438716574ec348d41ead.jpg: 640x640 1 Caster, 9.6ms\n",
            "image 1280/1917 /content/drive/MyDrive/AyushVision/yolo/final/test/images/IMG20240610172353_jpg.rf.717c4b5c0e75b46cdf129ae129795dec.jpg: 640x640 1 Seedsunder_leaf, 9.6ms\n",
            "image 1281/1917 /content/drive/MyDrive/AyushVision/yolo/final/test/images/IMG20240610172358_jpg.rf.7077537cc103e6458d2162b732cf7d00.jpg: 640x640 2 Seedsunder_leafs, 8.2ms\n",
            "image 1282/1917 /content/drive/MyDrive/AyushVision/yolo/final/test/images/IMG20240610172424_jpg.rf.ed86bca8331f3c005359b506c794d94e.jpg: 640x640 2 Seedsunder_leafs, 8.5ms\n",
            "image 1283/1917 /content/drive/MyDrive/AyushVision/yolo/final/test/images/IMG20240610172426_jpg.rf.f7ddb2e8c4269bbbd84ac16d7bdd4dda.jpg: 640x640 2 Seedsunder_leafs, 7.7ms\n",
            "image 1284/1917 /content/drive/MyDrive/AyushVision/yolo/final/test/images/IMG20240610172519_jpg.rf.245d1adcb904df13e35f8c260528a903.jpg: 640x640 1 Seedsunder_leaf, 7.9ms\n",
            "image 1285/1917 /content/drive/MyDrive/AyushVision/yolo/final/test/images/IMG20240610172535_jpg.rf.f52db2e3a1a7d56b52a5fc29c65bd752.jpg: 640x640 1 Seedsunder_leaf, 7.9ms\n",
            "image 1286/1917 /content/drive/MyDrive/AyushVision/yolo/final/test/images/IMG20240610172546_jpg.rf.fb03635243cce718ab9fe48745762474.jpg: 640x640 2 Seedsunder_leafs, 8.1ms\n",
            "image 1287/1917 /content/drive/MyDrive/AyushVision/yolo/final/test/images/IMG20240610172821_jpg.rf.b718fdc789aa10d1565505117e2fd3d6.jpg: 640x640 1 Seedsunder_leaf, 9.2ms\n",
            "image 1288/1917 /content/drive/MyDrive/AyushVision/yolo/final/test/images/IMG20240610172851_jpg.rf.1c6a4cef4f44fae7930461aaf9279280.jpg: 640x640 1 Landrina, 1 Seedsunder_leaf, 7.9ms\n",
            "image 1289/1917 /content/drive/MyDrive/AyushVision/yolo/final/test/images/IMG20240610172910_jpg.rf.0d4266d4853ad4aa500c174b4b11ed0c.jpg: 640x640 2 Seedsunder_leafs, 7.8ms\n",
            "image 1290/1917 /content/drive/MyDrive/AyushVision/yolo/final/test/images/IMG20240610172959_jpg.rf.fba0b5a90bd4bf2b7100e6abf4769267.jpg: 640x640 1 Seedsunder_leaf, 8.5ms\n",
            "image 1291/1917 /content/drive/MyDrive/AyushVision/yolo/final/test/images/IMG20240610173304_jpg.rf.8133ef165c7e060f3bf0845da3e04909.jpg: 640x640 1 Landrina, 8.8ms\n",
            "image 1292/1917 /content/drive/MyDrive/AyushVision/yolo/final/test/images/IMG20240610173330_jpg.rf.456f498e917f0ab4e1bc18f03b9b4826.jpg: 640x640 1 Landrina, 7.7ms\n",
            "image 1293/1917 /content/drive/MyDrive/AyushVision/yolo/final/test/images/IMG20240610173406_jpg.rf.4c46419af444512b72fe7a8ae7e9eb7d.jpg: 640x640 2 Landrinas, 9.8ms\n",
            "image 1294/1917 /content/drive/MyDrive/AyushVision/yolo/final/test/images/IMG20240610173440_jpg.rf.cc24b4bdd0435e02d405b6e39b8a9b98.jpg: 640x640 1 Landrina, 9.5ms\n",
            "image 1295/1917 /content/drive/MyDrive/AyushVision/yolo/final/test/images/IMG20240610173617_jpg.rf.f5d452c57f770591a577cffeb1c0ad24.jpg: 640x640 2 Landrinas, 1 Acalyphaindica, 7.6ms\n",
            "image 1296/1917 /content/drive/MyDrive/AyushVision/yolo/final/test/images/IMG20240610173639_jpg.rf.0fe78c64ca239790d2eb669df0f8e0c7.jpg: 640x640 1 Landrina, 7.6ms\n",
            "image 1297/1917 /content/drive/MyDrive/AyushVision/yolo/final/test/images/IMG20240610173722_jpg.rf.a7a4f52b03b1cab290229e51f26fed4b.jpg: 640x640 1 Landrina, 7.5ms\n",
            "image 1298/1917 /content/drive/MyDrive/AyushVision/yolo/final/test/images/IMG20240610173920_jpg.rf.63e1aac2ae4b53854cfe2b9721bac40d.jpg: 640x640 1 Landrina, 7.7ms\n",
            "image 1299/1917 /content/drive/MyDrive/AyushVision/yolo/final/test/images/IMG20240610173929_jpg.rf.444d83bbeb4258b188d9d0a55d15bda7.jpg: 640x640 1 Landrina, 7.5ms\n",
            "image 1300/1917 /content/drive/MyDrive/AyushVision/yolo/final/test/images/IMG20240610173935_jpg.rf.ec6332a4ab691e69c01f700518f394b6.jpg: 640x640 1 Landrina, 7.5ms\n",
            "image 1301/1917 /content/drive/MyDrive/AyushVision/yolo/final/test/images/IMG20240610173939_jpg.rf.f54937602579bdb2210d6fae40575182.jpg: 640x640 1 Landrina, 9.6ms\n",
            "image 1302/1917 /content/drive/MyDrive/AyushVision/yolo/final/test/images/IMG20240610173941_jpg.rf.af583d0773812e0b516aeb31ff72c538.jpg: 640x640 1 Landrina, 7.5ms\n",
            "image 1303/1917 /content/drive/MyDrive/AyushVision/yolo/final/test/images/IMG20240610173949_jpg.rf.82086d47149496a93189777c4fb9a786.jpg: 640x640 1 Landrina, 7.7ms\n",
            "image 1304/1917 /content/drive/MyDrive/AyushVision/yolo/final/test/images/IMG20240610173956_jpg.rf.84a8398888ff948526574a6f23db05c6.jpg: 640x640 3 Landrinas, 7.5ms\n",
            "image 1305/1917 /content/drive/MyDrive/AyushVision/yolo/final/test/images/IMG20240610174012_jpg.rf.82b66e5705ad03a778e847477ecbfed9.jpg: 640x640 1 Landrina, 1 Acalyphaindica, 7.6ms\n",
            "image 1306/1917 /content/drive/MyDrive/AyushVision/yolo/final/test/images/IMG20240610174107_jpg.rf.0015c55504a705d37a665477a092d211.jpg: 640x640 1 Landrina, 7.5ms\n",
            "image 1307/1917 /content/drive/MyDrive/AyushVision/yolo/final/test/images/IMG20240610174111_jpg.rf.de571118984d5c1aa7b0035f41de154c.jpg: 640x640 2 Landrinas, 7.6ms\n",
            "image 1308/1917 /content/drive/MyDrive/AyushVision/yolo/final/test/images/IMG20240610174127_jpg.rf.4184b687704cdb88af77ac2b54502e44.jpg: 640x640 1 Landrina, 7.5ms\n",
            "image 1309/1917 /content/drive/MyDrive/AyushVision/yolo/final/test/images/IMG20240610174129_jpg.rf.672ae9f2678c92085b37843ca815ee58.jpg: 640x640 2 Landrinas, 7.5ms\n",
            "image 1310/1917 /content/drive/MyDrive/AyushVision/yolo/final/test/images/IMG20240610174248_jpg.rf.5bb5dad13f206f62329ea5e5c061d2bd.jpg: 640x640 2 Landrinas, 7.5ms\n",
            "image 1311/1917 /content/drive/MyDrive/AyushVision/yolo/final/test/images/IMG20240610174305_jpg.rf.ac05b3368da437d0ef5d85f50f99a4a5.jpg: 640x640 1 Landrina, 7.5ms\n",
            "image 1312/1917 /content/drive/MyDrive/AyushVision/yolo/final/test/images/IMG20240610174312_jpg.rf.9e98d58fc7a7637fdfbb8cff2113d65b.jpg: 640x640 1 Landrina, 9.1ms\n",
            "image 1313/1917 /content/drive/MyDrive/AyushVision/yolo/final/test/images/IMG20240610174315_jpg.rf.70c10124113a0387df0ef4601433ee78.jpg: 640x640 1 Landrina, 8.0ms\n",
            "image 1314/1917 /content/drive/MyDrive/AyushVision/yolo/final/test/images/IMG20240610174326_jpg.rf.50cedce9ff839b46f44df7aab6074d39.jpg: 640x640 1 Landrina, 7.9ms\n",
            "image 1315/1917 /content/drive/MyDrive/AyushVision/yolo/final/test/images/IMG20240610174353_jpg.rf.bbd88d5b2fe4a968fa7304b184a5680d.jpg: 640x640 2 Landrinas, 9.3ms\n",
            "image 1316/1917 /content/drive/MyDrive/AyushVision/yolo/final/test/images/IMG20240610174355_jpg.rf.8a110daf783953d6913422af3de05f60.jpg: 640x640 1 Landrina, 7.9ms\n",
            "image 1317/1917 /content/drive/MyDrive/AyushVision/yolo/final/test/images/IMG20240610174357_jpg.rf.d1f8f856b5997fc424ee3cee01bc1234.jpg: 640x640 1 Landrina, 7.7ms\n",
            "image 1318/1917 /content/drive/MyDrive/AyushVision/yolo/final/test/images/IMG20240610174436_jpg.rf.738f374887933074b5dc5fa724e00171.jpg: 640x640 1 Landrina, 7.9ms\n",
            "image 1319/1917 /content/drive/MyDrive/AyushVision/yolo/final/test/images/IMG20240610174501_jpg.rf.90c261157645e4128ba339c4cf7f391a.jpg: 640x640 1 Landrina, 8.3ms\n",
            "image 1320/1917 /content/drive/MyDrive/AyushVision/yolo/final/test/images/IMG20240610174521_jpg.rf.ccd8000761d11c57c859eb73cef40b6e.jpg: 640x640 1 Landrina, 7.9ms\n",
            "image 1321/1917 /content/drive/MyDrive/AyushVision/yolo/final/test/images/IMG20240610181422_jpg.rf.e6b938befbeb289069437b06f9f2e113.jpg: 640x640 1 Vitexnegundo, 7.7ms\n",
            "image 1322/1917 /content/drive/MyDrive/AyushVision/yolo/final/test/images/IMG20240610181437_jpg.rf.720e8d6422eb50dd08641a70b603983d.jpg: 640x640 1 Vitexnegundo, 8.0ms\n",
            "image 1323/1917 /content/drive/MyDrive/AyushVision/yolo/final/test/images/IMG20240610181505_jpg.rf.1cc592377c8b1d935323452152d6e6c0.jpg: 640x640 1 Vitexnegundo, 8.6ms\n",
            "image 1324/1917 /content/drive/MyDrive/AyushVision/yolo/final/test/images/IMG20240610181551_jpg.rf.11b423765d7636dae5ea00ae90d1423c.jpg: 640x640 1 Vitexnegundo, 8.9ms\n",
            "image 1325/1917 /content/drive/MyDrive/AyushVision/yolo/final/test/images/IMG20240610181614_jpg.rf.f11290482f9e91ce5eeb559b269cdcc2.jpg: 640x640 1 Vitexnegundo, 7.9ms\n",
            "image 1326/1917 /content/drive/MyDrive/AyushVision/yolo/final/test/images/IMG20240610181627_jpg.rf.6269e228ae0bc89d25738433f9965e96.jpg: 640x640 1 Vitexnegundo, 7.7ms\n",
            "image 1327/1917 /content/drive/MyDrive/AyushVision/yolo/final/test/images/IMG20240610181633_jpg.rf.fd33f42c78611550d227cb803b35d057.jpg: 640x640 1 Vitexnegundo, 7.8ms\n",
            "image 1328/1917 /content/drive/MyDrive/AyushVision/yolo/final/test/images/IMG20240610181635_jpg.rf.667481f2a15aead039fa3060b45bcc10.jpg: 640x640 1 Vitexnegundo, 8.3ms\n",
            "image 1329/1917 /content/drive/MyDrive/AyushVision/yolo/final/test/images/IMG20240610181655_jpg.rf.8eda47ac7e2c49708137f35284bad889.jpg: 640x640 1 Vitexnegundo, 7.5ms\n",
            "image 1330/1917 /content/drive/MyDrive/AyushVision/yolo/final/test/images/IMG20240610181706_jpg.rf.372e837010832038d0b32adecd24e6a5.jpg: 640x640 1 Vitexnegundo, 7.5ms\n",
            "image 1331/1917 /content/drive/MyDrive/AyushVision/yolo/final/test/images/IMG20240610181853_jpg.rf.f45c16e2dafa8b95af856f1a06464af8.jpg: 640x640 1 Vitexnegundo, 7.5ms\n",
            "image 1332/1917 /content/drive/MyDrive/AyushVision/yolo/final/test/images/IMG20240610181916_jpg.rf.70c36537d4011374135a02711499cc65.jpg: 640x640 1 Vitexnegundo, 7.7ms\n",
            "image 1333/1917 /content/drive/MyDrive/AyushVision/yolo/final/test/images/IMG20240610181943_jpg.rf.387be3da3b2ac29f60d5db1385b2a2f9.jpg: 640x640 1 Vitexnegundo, 7.5ms\n",
            "image 1334/1917 /content/drive/MyDrive/AyushVision/yolo/final/test/images/IMG20240610182025_jpg.rf.ba90d1787fda3b240d06216955e6cb89.jpg: 640x640 1 Vitexnegundo, 7.7ms\n",
            "image 1335/1917 /content/drive/MyDrive/AyushVision/yolo/final/test/images/IMG20240610182042_jpg.rf.ac64dc12a530da8881f923f1c3d96f8b.jpg: 640x640 1 Vitexnegundo, 7.8ms\n",
            "image 1336/1917 /content/drive/MyDrive/AyushVision/yolo/final/test/images/IMG20240610182114_jpg.rf.ee5904d2f90ce4b577d1f91f10c22ed8.jpg: 640x640 1 Vitexnegundo, 7.9ms\n",
            "image 1337/1917 /content/drive/MyDrive/AyushVision/yolo/final/test/images/IMG20240610182211_jpg.rf.3769655ccea03b80bb2d69ec2ebaad5f.jpg: 640x640 1 Vitexnegundo, 7.9ms\n",
            "image 1338/1917 /content/drive/MyDrive/AyushVision/yolo/final/test/images/IMG20240610182215_jpg.rf.6ead42d993e9d8ab77c743a7f0baf7fd.jpg: 640x640 1 Vitexnegundo, 8.3ms\n",
            "image 1339/1917 /content/drive/MyDrive/AyushVision/yolo/final/test/images/IMG20240610182306_jpg.rf.590eaa54a0840859a9d0bf621a3d40ff.jpg: 640x640 1 Vitexnegundo, 7.7ms\n",
            "image 1340/1917 /content/drive/MyDrive/AyushVision/yolo/final/test/images/IMG20240610182310_jpg.rf.55cd3f17dfbe65025383c35afdd5077e.jpg: 640x640 1 Vitexnegundo, 7.5ms\n",
            "image 1341/1917 /content/drive/MyDrive/AyushVision/yolo/final/test/images/IMG20240610182451_jpg.rf.2fb212cc4f0e7ed62364b2f6e0698943.jpg: 640x640 1 Vitexnegundo, 11.6ms\n",
            "image 1342/1917 /content/drive/MyDrive/AyushVision/yolo/final/test/images/IMG20240610182611_jpg.rf.df7d6ecfcab4e6d0806cc352dec9e060.jpg: 640x640 1 Vitexnegundo, 7.6ms\n",
            "image 1343/1917 /content/drive/MyDrive/AyushVision/yolo/final/test/images/IMG20240610182644_jpg.rf.702a2aa2867d08f5d7f1143f5f8240c5.jpg: 640x640 1 Vitexnegundo, 7.5ms\n",
            "image 1344/1917 /content/drive/MyDrive/AyushVision/yolo/final/test/images/IMG20240610182647_jpg.rf.89e1be8b7a90d321713b706e2c65d1d0.jpg: 640x640 1 Vitexnegundo, 8.1ms\n",
            "image 1345/1917 /content/drive/MyDrive/AyushVision/yolo/final/test/images/IMG20240610182653_jpg.rf.755ce7a96d734ef551dac264f07ccb5a.jpg: 640x640 1 Vitexnegundo, 8.3ms\n",
            "image 1346/1917 /content/drive/MyDrive/AyushVision/yolo/final/test/images/IMG20240610182831_jpg.rf.0e25e3d8e630ca0d3b34e8a4b1528f53.jpg: 640x640 1 Vitexnegundo, 7.5ms\n",
            "image 1347/1917 /content/drive/MyDrive/AyushVision/yolo/final/test/images/IMG20240610182847_jpg.rf.ad8a0baa2189d7345c66ae0ef6e5b6f4.jpg: 640x640 1 Vitexnegundo, 8.0ms\n",
            "image 1348/1917 /content/drive/MyDrive/AyushVision/yolo/final/test/images/IMG20240610182902_jpg.rf.d23f3bace083eefc25aa5c96a46d06e1.jpg: 640x640 1 Vitexnegundo, 10.8ms\n",
            "image 1349/1917 /content/drive/MyDrive/AyushVision/yolo/final/test/images/IMG20240610182927_jpg.rf.5187e25e6e02c2c99440eeb3ad342de0.jpg: 640x640 1 Vitexnegundo, 7.5ms\n",
            "image 1350/1917 /content/drive/MyDrive/AyushVision/yolo/final/test/images/IMG20240610182934_jpg.rf.409e90d6c34ccdf8782b1ae1ff8c86a4.jpg: 640x640 1 Vitexnegundo, 7.5ms\n",
            "image 1351/1917 /content/drive/MyDrive/AyushVision/yolo/final/test/images/IMG20240611101614_jpg.rf.c91f47b77a5b73be8309028c91a457c5.jpg: 640x640 2 Seedsunder_leafs, 7.5ms\n",
            "image 1352/1917 /content/drive/MyDrive/AyushVision/yolo/final/test/images/IMG20240611101626_jpg.rf.32b5e425c9f827c77a57a6937de90182.jpg: 640x640 1 Seedsunder_leaf, 10.1ms\n",
            "image 1353/1917 /content/drive/MyDrive/AyushVision/yolo/final/test/images/IMG20240611102018_jpg.rf.09e40ecaf626358bcf59837abcb6f0c8.jpg: 640x640 1 Seedsunder_leaf, 8.9ms\n",
            "image 1354/1917 /content/drive/MyDrive/AyushVision/yolo/final/test/images/IMG20240615084911_jpg.rf.6b8ec910da1d7ce0fade9a23139d6f9e.jpg: 640x640 1 Sleepy_plant, 9.2ms\n",
            "image 1355/1917 /content/drive/MyDrive/AyushVision/yolo/final/test/images/IMG20240615084918_jpg.rf.a4f8315b1c801ccb913c2e20ebac3094.jpg: 640x640 1 Sleepy_plant, 11.7ms\n",
            "image 1356/1917 /content/drive/MyDrive/AyushVision/yolo/final/test/images/IMG20240615085128_jpg.rf.53e6fb705eb4c9e6c2fcf3953e691e8d.jpg: 640x640 1 Sleepy_plant, 12.8ms\n",
            "image 1357/1917 /content/drive/MyDrive/AyushVision/yolo/final/test/images/IMG20240615090810_jpg.rf.f7ebb3066168c3e5597ef3adceba4648.jpg: 640x640 1 Sleepy_plant, 9.0ms\n",
            "image 1358/1917 /content/drive/MyDrive/AyushVision/yolo/final/test/images/IMG20240615090839_jpg.rf.00495b77c900583d68b21a787241665f.jpg: 640x640 (no detections), 11.3ms\n",
            "image 1359/1917 /content/drive/MyDrive/AyushVision/yolo/final/test/images/IMG20240615091239_jpg.rf.7961a9f72c135300683d2541af908d38.jpg: 640x640 1 Neem, 8.2ms\n",
            "image 1360/1917 /content/drive/MyDrive/AyushVision/yolo/final/test/images/IMG20240615091353_jpg.rf.05c261eb8dc5b4004a470b8dc576908d.jpg: 640x640 1 Neem, 7.7ms\n",
            "image 1361/1917 /content/drive/MyDrive/AyushVision/yolo/final/test/images/IMG20240615091749_jpg.rf.e0eef5c31d472b426d4ab2806805bafe.jpg: 640x640 1 Hibiscus, 1 Neem, 8.2ms\n",
            "image 1362/1917 /content/drive/MyDrive/AyushVision/yolo/final/test/images/IMG20240615091755_jpg.rf.0f602d1e545029ceaf480ad0755da46b.jpg: 640x640 1 Hibiscus, 9.7ms\n",
            "image 1363/1917 /content/drive/MyDrive/AyushVision/yolo/final/test/images/IMG20240615091819_jpg.rf.94ecaaf8521546584c27c6ac7d0e2825.jpg: 640x640 1 Hibiscus, 8.2ms\n",
            "image 1364/1917 /content/drive/MyDrive/AyushVision/yolo/final/test/images/IMG20240615091821_jpg.rf.303ce874f1dac51de4c873491a3438ae.jpg: 640x640 1 Hibiscus, 8.7ms\n",
            "image 1365/1917 /content/drive/MyDrive/AyushVision/yolo/final/test/images/IMG20240615091834_jpg.rf.6d57cceebc3d6ac4d9bc3f45ea52eb0d.jpg: 640x640 1 Hibiscus, 7.7ms\n",
            "image 1366/1917 /content/drive/MyDrive/AyushVision/yolo/final/test/images/IMG20240615091854_jpg.rf.8b62984ac1545f04793db528226eb21f.jpg: 640x640 1 Hibiscus, 7.7ms\n",
            "image 1367/1917 /content/drive/MyDrive/AyushVision/yolo/final/test/images/IMG20240615092031_jpg.rf.f45c17a8fcc9119fd7ca106649ab6be9.jpg: 640x640 1 Hibiscus, 7.5ms\n",
            "image 1368/1917 /content/drive/MyDrive/AyushVision/yolo/final/test/images/IMG20240615093904_jpg.rf.59b21721e2ec68f6008d08df1766c276.jpg: 640x640 1 lime, 9.0ms\n",
            "image 1369/1917 /content/drive/MyDrive/AyushVision/yolo/final/test/images/IMG20240615093922_jpg.rf.a22f61d0ada9a8d887623ce0c23eeaf5.jpg: 640x640 1 lime, 7.5ms\n",
            "image 1370/1917 /content/drive/MyDrive/AyushVision/yolo/final/test/images/IMG20240615093934_jpg.rf.b78b49ff353ab0ef0ef34a304dc68c48.jpg: 640x640 1 lime, 7.7ms\n",
            "image 1371/1917 /content/drive/MyDrive/AyushVision/yolo/final/test/images/IMG20240615094040_jpg.rf.8699bf2f33ba9e45cee7bc556d694b8f.jpg: 640x640 1 lime, 7.8ms\n",
            "image 1372/1917 /content/drive/MyDrive/AyushVision/yolo/final/test/images/IMG20240615094051_jpg.rf.d5755db5f225fa553987ae765a62096b.jpg: 640x640 1 lime, 11.2ms\n",
            "image 1373/1917 /content/drive/MyDrive/AyushVision/yolo/final/test/images/IMG20240615094056_jpg.rf.ab7df06f6e5fc79c0066c732bcabd888.jpg: 640x640 1 lime, 7.5ms\n",
            "image 1374/1917 /content/drive/MyDrive/AyushVision/yolo/final/test/images/IMG20240615094213_jpg.rf.88dc72132eeff99ef8e9abc4fa836eeb.jpg: 640x640 1 lime, 7.5ms\n",
            "image 1375/1917 /content/drive/MyDrive/AyushVision/yolo/final/test/images/IMG20240615094235_jpg.rf.4412d04409a80f28474cf70ab7b7503f.jpg: 640x640 1 lime, 10.9ms\n",
            "image 1376/1917 /content/drive/MyDrive/AyushVision/yolo/final/test/images/IMG20240615094304_jpg.rf.5150140efce46426083f819de7977405.jpg: 640x640 1 lime, 9.2ms\n",
            "image 1377/1917 /content/drive/MyDrive/AyushVision/yolo/final/test/images/IMG20240615094317_jpg.rf.38f428e26efda81299117b7999b8aa8c.jpg: 640x640 1 lime, 8.9ms\n",
            "image 1378/1917 /content/drive/MyDrive/AyushVision/yolo/final/test/images/IMG20240615094356_jpg.rf.83fa0c92a76fc97156237243d2b142ff.jpg: 640x640 1 lime, 7.6ms\n",
            "image 1379/1917 /content/drive/MyDrive/AyushVision/yolo/final/test/images/IMG20240615094409_jpg.rf.19d6b291b5a088d039efca3c6ec9d8d5.jpg: 640x640 1 lime, 8.0ms\n",
            "image 1380/1917 /content/drive/MyDrive/AyushVision/yolo/final/test/images/IMG20240615094439_jpg.rf.e90521205235ff43cca93a1be884215b.jpg: 640x640 1 lime, 1 Landrina, 7.9ms\n",
            "image 1381/1917 /content/drive/MyDrive/AyushVision/yolo/final/test/images/IMG20240615094852_jpg.rf.febf36f42fee7b9f7da9e949b0d35437.jpg: 640x640 1 lime, 7.5ms\n",
            "image 1382/1917 /content/drive/MyDrive/AyushVision/yolo/final/test/images/IMG20240615094941_jpg.rf.3177e1b839dac0bb69ebe2fb8d0ca761.jpg: 640x640 1 lime, 10.8ms\n",
            "image 1383/1917 /content/drive/MyDrive/AyushVision/yolo/final/test/images/IMG20240615094942_jpg.rf.8c73f8ea8bacd5704e029091a0b38ad6.jpg: 640x640 1 lime, 7.5ms\n",
            "image 1384/1917 /content/drive/MyDrive/AyushVision/yolo/final/test/images/IMG20240615173611_jpg.rf.51f14076611f953e33e2d98189607162.jpg: 640x640 1 Hibiscus, 7.9ms\n",
            "image 1385/1917 /content/drive/MyDrive/AyushVision/yolo/final/test/images/IMG20240615173614_jpg.rf.2609ad4c84ccd9209d0530cf692f8408.jpg: 640x640 1 Hibiscus, 7.8ms\n",
            "image 1386/1917 /content/drive/MyDrive/AyushVision/yolo/final/test/images/IMG20240615173619_jpg.rf.6c80e8ea649f28d53ae4bc7df9635ab6.jpg: 640x640 1 Hibiscus, 10.2ms\n",
            "image 1387/1917 /content/drive/MyDrive/AyushVision/yolo/final/test/images/IMG20240615173628_jpg.rf.3d5a8d4e87180961bd796e148426f7cb.jpg: 640x640 1 Hibiscus, 8.1ms\n",
            "image 1388/1917 /content/drive/MyDrive/AyushVision/yolo/final/test/images/IMG20240615174537_jpg.rf.fd1a4ae020adf22e2010bbaa1ddaf9bd.jpg: 640x640 1 Vitexnegundo, 9.5ms\n",
            "image 1389/1917 /content/drive/MyDrive/AyushVision/yolo/final/test/images/IMG20240615174543_jpg.rf.31f99d3532e15ed5748f698fab1a36cb.jpg: 640x640 1 Vitexnegundo, 9.0ms\n",
            "image 1390/1917 /content/drive/MyDrive/AyushVision/yolo/final/test/images/IMG20240615174617_jpg.rf.063a6af2c6533bb3f01534cf492f4b45.jpg: 640x640 1 Vitexnegundo, 7.6ms\n",
            "image 1391/1917 /content/drive/MyDrive/AyushVision/yolo/final/test/images/IMG20240615174626_jpg.rf.af4af3ed51c50dd8bd108fddb65510e9.jpg: 640x640 1 Vitexnegundo, 8.6ms\n",
            "image 1392/1917 /content/drive/MyDrive/AyushVision/yolo/final/test/images/IMG20240615174732_jpg.rf.4288d2932a24221e408f38c3ec8400d8.jpg: 640x640 1 Vitexnegundo, 7.5ms\n",
            "image 1393/1917 /content/drive/MyDrive/AyushVision/yolo/final/test/images/IMG20240615174809_jpg.rf.d6d944ef7eea3034623ea5963fc1900b.jpg: 640x640 1 Vitexnegundo, 11.1ms\n",
            "image 1394/1917 /content/drive/MyDrive/AyushVision/yolo/final/test/images/IMG20240615174812_jpg.rf.fb6bcad38a5acc55f21c6b3154816ce1.jpg: 640x640 1 Vitexnegundo, 8.2ms\n",
            "image 1395/1917 /content/drive/MyDrive/AyushVision/yolo/final/test/images/IMG20240615174939_jpg.rf.c3dbcc1f5e8c680257a1a18b3ee93924.jpg: 640x640 1 Vitexnegundo, 7.5ms\n",
            "image 1396/1917 /content/drive/MyDrive/AyushVision/yolo/final/test/images/IMG20240615175042_jpg.rf.9231b1f1d290658b6a1330803feb3685.jpg: 640x640 1 Vitexnegundo, 7.5ms\n",
            "image 1397/1917 /content/drive/MyDrive/AyushVision/yolo/final/test/images/IMG20240615175043_jpg.rf.b9f0cd8de3206e355e783eab1f05a498.jpg: 640x640 1 Vitexnegundo, 8.8ms\n",
            "image 1398/1917 /content/drive/MyDrive/AyushVision/yolo/final/test/images/IMG20240615175047_jpg.rf.9e886664fe66b6d1d0dcb08af2964faf.jpg: 640x640 1 Vitexnegundo, 7.9ms\n",
            "image 1399/1917 /content/drive/MyDrive/AyushVision/yolo/final/test/images/IMG20240615175056_01_jpg.rf.61ffb0de76ffa20db23aaae74c895823.jpg: 640x640 1 Vitexnegundo, 7.8ms\n",
            "image 1400/1917 /content/drive/MyDrive/AyushVision/yolo/final/test/images/IMG20240615175126_jpg.rf.357ee55f42be36831fcb2c2d19de877a.jpg: 640x640 1 Vitexnegundo, 7.9ms\n",
            "image 1401/1917 /content/drive/MyDrive/AyushVision/yolo/final/test/images/IMG20240615175133_jpg.rf.5168fc756f1de8159c39c76254505595.jpg: 640x640 1 Vitexnegundo, 8.2ms\n",
            "image 1402/1917 /content/drive/MyDrive/AyushVision/yolo/final/test/images/IMG20240615175138_jpg.rf.a668656fd510a5ec51dddd00f65dffb8.jpg: 640x640 1 Vitexnegundo, 8.1ms\n",
            "image 1403/1917 /content/drive/MyDrive/AyushVision/yolo/final/test/images/IMG20240615175207_jpg.rf.b2e39989d58e1dc9fdfe8832aad95e25.jpg: 640x640 1 Vitexnegundo, 11.7ms\n",
            "image 1404/1917 /content/drive/MyDrive/AyushVision/yolo/final/test/images/IMG20240615175239_jpg.rf.09c77c1303f789659a8249e3b8ced1f6.jpg: 640x640 1 Vitexnegundo, 7.5ms\n",
            "image 1405/1917 /content/drive/MyDrive/AyushVision/yolo/final/test/images/IMG20240615175248_jpg.rf.36f77e1cf130246d93daedf55e9d9a44.jpg: 640x640 1 Vitexnegundo, 11.0ms\n",
            "image 1406/1917 /content/drive/MyDrive/AyushVision/yolo/final/test/images/IMG20240615175251_jpg.rf.b05f674ee5b9634c5540a5da35d06bdb.jpg: 640x640 1 Vitexnegundo, 7.6ms\n",
            "image 1407/1917 /content/drive/MyDrive/AyushVision/yolo/final/test/images/IMG20240615175322_01_jpg.rf.42ecb3482aa7a478a607d4438e376ba6.jpg: 640x640 1 Vitexnegundo, 8.1ms\n",
            "image 1408/1917 /content/drive/MyDrive/AyushVision/yolo/final/test/images/IMG20240615175322_jpg.rf.3beeb9292431a8c9a34be804bda65955.jpg: 640x640 1 Vitexnegundo, 7.5ms\n",
            "image 1409/1917 /content/drive/MyDrive/AyushVision/yolo/final/test/images/IMG20240615175327_jpg.rf.4359bb2ab8002ccbd57cb75939b91382.jpg: 640x640 1 Vitexnegundo, 7.5ms\n",
            "image 1410/1917 /content/drive/MyDrive/AyushVision/yolo/final/test/images/IMG20240615175330_jpg.rf.c3e94c5aab2e9152b011440a4ac1284d.jpg: 640x640 1 Neem, 1 Vitexnegundo, 7.6ms\n",
            "image 1411/1917 /content/drive/MyDrive/AyushVision/yolo/final/test/images/IMG20240615175400_jpg.rf.df4c57a574bfec066db7522b59874abe.jpg: 640x640 1 Vitexnegundo, 7.5ms\n",
            "image 1412/1917 /content/drive/MyDrive/AyushVision/yolo/final/test/images/IMG20240615175404_01_jpg.rf.1b775dd264fc681ac4ad1cc920f701c5.jpg: 640x640 1 Vitexnegundo, 7.8ms\n",
            "image 1413/1917 /content/drive/MyDrive/AyushVision/yolo/final/test/images/IMG20240615175439_jpg.rf.75e6e0a42e992022ca890ffe9fa1a53b.jpg: 640x640 1 Vitexnegundo, 10.0ms\n",
            "image 1414/1917 /content/drive/MyDrive/AyushVision/yolo/final/test/images/IMG20240615175455_jpg.rf.ede654cc7adb2f32959121fdb03c6ae0.jpg: 640x640 1 Vitexnegundo, 7.7ms\n",
            "image 1415/1917 /content/drive/MyDrive/AyushVision/yolo/final/test/images/IMG20240615175533_jpg.rf.09026ee6f553ac38505edd7b198f9337.jpg: 640x640 1 Vitexnegundo, 8.6ms\n",
            "image 1416/1917 /content/drive/MyDrive/AyushVision/yolo/final/test/images/IMG20240615175604_jpg.rf.47d5bc3e4347f93ec6b811ea200c1d31.jpg: 640x640 1 Vitexnegundo, 7.5ms\n",
            "image 1417/1917 /content/drive/MyDrive/AyushVision/yolo/final/test/images/IMG20240615180333_jpg.rf.39cf2bf66dc86fc3148193fd0a89ae8a.jpg: 640x640 1 Hibiscus, 1 lime, 8.3ms\n",
            "image 1418/1917 /content/drive/MyDrive/AyushVision/yolo/final/test/images/IMG20240622182147_jpg.rf.6d12d0cf921ddce6c9671a6c145f0803.jpg: 640x640 1 Lemon_grass, 10.2ms\n",
            "image 1419/1917 /content/drive/MyDrive/AyushVision/yolo/final/test/images/IMG20240622182157_jpg.rf.f031a947c6bc798e7313385bc1cbe8c2.jpg: 640x640 1 Lemon_grass, 11.1ms\n",
            "image 1420/1917 /content/drive/MyDrive/AyushVision/yolo/final/test/images/IMG20240622182406_jpg.rf.f33250160c905836f0b3c23b46e97204.jpg: 640x640 2 Lemon_grasss, 7.9ms\n",
            "image 1421/1917 /content/drive/MyDrive/AyushVision/yolo/final/test/images/IMG20240622182411_jpg.rf.dee999c6fc0bfea23dfe76beb99d0f05.jpg: 640x640 1 Lemon_grass, 9.0ms\n",
            "image 1422/1917 /content/drive/MyDrive/AyushVision/yolo/final/test/images/IMG20240622182453_jpg.rf.73da405ab5eac7eafbaaebd8ae582f56.jpg: 640x640 1 Lemon_grass, 10.4ms\n",
            "image 1423/1917 /content/drive/MyDrive/AyushVision/yolo/final/test/images/IMG20240622182506_jpg.rf.2437fb2551af4fbe5ab80316612b09b7.jpg: 640x640 1 Lemon_grass, 7.6ms\n",
            "image 1424/1917 /content/drive/MyDrive/AyushVision/yolo/final/test/images/IMG20240622182633_jpg.rf.4e1fc20a095342ca88e19d29b70e577a.jpg: 640x640 1 Lemon_grass, 11.8ms\n",
            "image 1425/1917 /content/drive/MyDrive/AyushVision/yolo/final/test/images/IMG20240622182835_jpg.rf.189f8b0fe1a5d3e06749295ed80964e5.jpg: 640x640 1 Lemon_grass, 8.0ms\n",
            "image 1426/1917 /content/drive/MyDrive/AyushVision/yolo/final/test/images/IMG20240622182844_jpg.rf.ceafba2c6e93c7e2115b7904e18f5628.jpg: 640x640 1 Lemon_grass, 10.8ms\n",
            "image 1427/1917 /content/drive/MyDrive/AyushVision/yolo/final/test/images/IMG20240622183033_jpg.rf.8a52d904c34f5e45be4eb847dd39e225.jpg: 640x640 1 Lemon_grass, 10.1ms\n",
            "image 1428/1917 /content/drive/MyDrive/AyushVision/yolo/final/test/images/IMG20240622183131_jpg.rf.d936075a8edb9d460ee47971600e79bb.jpg: 640x640 1 Lemon_grass, 8.2ms\n",
            "image 1429/1917 /content/drive/MyDrive/AyushVision/yolo/final/test/images/IMG20240622183210_jpg.rf.905b7adf78f308e4b0439c4d6fed747e.jpg: 640x640 1 Lemon_grass, 7.7ms\n",
            "image 1430/1917 /content/drive/MyDrive/AyushVision/yolo/final/test/images/IMG20240622183235_jpg.rf.e0c0fdcb4fd240453f7de986a7097f08.jpg: 640x640 1 Lemon_grass, 7.5ms\n",
            "image 1431/1917 /content/drive/MyDrive/AyushVision/yolo/final/test/images/IMG20240622183441_jpg.rf.4378ae66d80bd09a6bae252810a0eda2.jpg: 640x640 1 Lemon_grass, 7.5ms\n",
            "image 1432/1917 /content/drive/MyDrive/AyushVision/yolo/final/test/images/IMG20240622183458_jpg.rf.d9d90995b4c0928ef824da4e4f4397aa.jpg: 640x640 1 Lemon_grass, 7.5ms\n",
            "image 1433/1917 /content/drive/MyDrive/AyushVision/yolo/final/test/images/IMG20240622183508_jpg.rf.14433a8969755e70809f9a5f9bf6ef3c.jpg: 640x640 1 Lemon_grass, 7.6ms\n",
            "image 1434/1917 /content/drive/MyDrive/AyushVision/yolo/final/test/images/IMG20240622183549_jpg.rf.5e71fc017a09041f4de6f64d19eb7bea.jpg: 640x640 1 Lemon_grass, 11.2ms\n",
            "image 1435/1917 /content/drive/MyDrive/AyushVision/yolo/final/test/images/IMG20240625173845_jpg.rf.76f4d5876baa569e37189c0c1cd2869f.jpg: 640x640 1 Cinnamon, 7.9ms\n",
            "image 1436/1917 /content/drive/MyDrive/AyushVision/yolo/final/test/images/IMG20240625173855_jpg.rf.72ad1ecde3d8bc1282deb2f4a89ed905.jpg: 640x640 1 Black_honey_shrub, 8.0ms\n",
            "image 1437/1917 /content/drive/MyDrive/AyushVision/yolo/final/test/images/IMG20240625174016_jpg.rf.ce47b1e113e77db5a1500bfb2c93e93d.jpg: 640x640 1 Black_honey_shrub, 11.8ms\n",
            "image 1438/1917 /content/drive/MyDrive/AyushVision/yolo/final/test/images/IMG20240625174101_jpg.rf.d2864bd1f6e3c45f547214b4a75eb3fe.jpg: 640x640 1 Black_honey_shrub, 8.1ms\n",
            "image 1439/1917 /content/drive/MyDrive/AyushVision/yolo/final/test/images/IMG20240625174341_jpg.rf.675a28db45b37d3cd36ff8d1910d2bb6.jpg: 640x640 1 Black_honey_shrub, 7.5ms\n",
            "image 1440/1917 /content/drive/MyDrive/AyushVision/yolo/final/test/images/IMG20240625174342_jpg.rf.31be05fcb7e88850050896c2cda969e2.jpg: 640x640 1 Black_honey_shrub, 7.7ms\n",
            "image 1441/1917 /content/drive/MyDrive/AyushVision/yolo/final/test/images/IMG20240626105829_jpg.rf.af84011009b130fd1163605dc63c9d8b.jpg: 640x640 1 Hibiscus, 9.1ms\n",
            "image 1442/1917 /content/drive/MyDrive/AyushVision/yolo/final/test/images/IMG20240626105838_jpg.rf.7db8ca99c3d3f12a1162555ad4be63a8.jpg: 640x640 1 Hibiscus, 11.2ms\n",
            "image 1443/1917 /content/drive/MyDrive/AyushVision/yolo/final/test/images/IMG20240626105947_jpg.rf.3d25f2ecd40d02e206a2dd139b682a08.jpg: 640x640 1 Hibiscus, 11.1ms\n",
            "image 1444/1917 /content/drive/MyDrive/AyushVision/yolo/final/test/images/IMG20240626105957_jpg.rf.0ec73f7795b94c40ddd89e6c5e978dc4.jpg: 640x640 1 Hibiscus, 7.5ms\n",
            "image 1445/1917 /content/drive/MyDrive/AyushVision/yolo/final/test/images/IMG20240626110030_jpg.rf.71f2ad705f94d84f76c13631b3069e0c.jpg: 640x640 1 Hibiscus, 7.5ms\n",
            "image 1446/1917 /content/drive/MyDrive/AyushVision/yolo/final/test/images/IMG20240626110058_jpg.rf.fcbc862733afe4724e359d1a91417c70.jpg: 640x640 1 Hibiscus, 10.6ms\n",
            "image 1447/1917 /content/drive/MyDrive/AyushVision/yolo/final/test/images/IMG20240626110635_jpg.rf.80cf8ea8d8089feb41fcc4f2c5ae215f.jpg: 640x640 1 Hibiscus, 8.0ms\n",
            "image 1448/1917 /content/drive/MyDrive/AyushVision/yolo/final/test/images/IMG20240626111400_jpg.rf.59ca4beb5ca8e85798d8e655bbc2076c.jpg: 640x640 1 Hibiscus, 7.5ms\n",
            "image 1449/1917 /content/drive/MyDrive/AyushVision/yolo/final/test/images/IMG20240709172944_jpg.rf.cf16ad6a6f8c0245f6ef73b535e87ba9.jpg: 640x640 1 Calotropis_gigantea, 7.8ms\n",
            "image 1450/1917 /content/drive/MyDrive/AyushVision/yolo/final/test/images/IMG20240709173050_jpg.rf.0d084516c05aceccd8e8a9b59dfd752d.jpg: 640x640 1 Calotropis_gigantea, 8.8ms\n",
            "image 1451/1917 /content/drive/MyDrive/AyushVision/yolo/final/test/images/IMG20240709173132_jpg.rf.dcd5a1254df318a566eb42633fb5e9fc.jpg: 640x640 (no detections), 7.6ms\n",
            "image 1452/1917 /content/drive/MyDrive/AyushVision/yolo/final/test/images/IMG20240709173436_jpg.rf.c05b4d746337d20d7f8c814d06ebacab.jpg: 640x640 1 Ivy_gourd, 7.6ms\n",
            "image 1453/1917 /content/drive/MyDrive/AyushVision/yolo/final/test/images/IMG20240709173817_jpg.rf.408e05befda9cf53a78b5db5cdf2d653.jpg: 640x640 3 Calotropis_giganteas, 7.5ms\n",
            "image 1454/1917 /content/drive/MyDrive/AyushVision/yolo/final/test/images/IMG20240709173828_jpg.rf.a4061f09f84d66fc781f2e0bc16ef0b3.jpg: 640x640 1 Calotropis_gigantea, 7.5ms\n",
            "image 1455/1917 /content/drive/MyDrive/AyushVision/yolo/final/test/images/IMG20240709173858_jpg.rf.3cde6bb94dacb4f21d147f1bf05c9e9b.jpg: 640x640 1 Calotropis_gigantea, 7.5ms\n",
            "image 1456/1917 /content/drive/MyDrive/AyushVision/yolo/final/test/images/IMG20240709173918_jpg.rf.03fe294b8c859d57b3bdd39bdc157c58.jpg: 640x640 1 Calotropis_gigantea, 11.0ms\n",
            "image 1457/1917 /content/drive/MyDrive/AyushVision/yolo/final/test/images/IMG20240709173928_jpg.rf.4ed2602e675aa904ceeabf4a9ecb563b.jpg: 640x640 1 Calotropis_gigantea, 7.6ms\n",
            "image 1458/1917 /content/drive/MyDrive/AyushVision/yolo/final/test/images/IMG20240714180619_jpg.rf.c2693dbe995bf20505f8935c90e699f2.jpg: 640x640 1 lime, 7.5ms\n",
            "image 1459/1917 /content/drive/MyDrive/AyushVision/yolo/final/test/images/IMG20240714180636_jpg.rf.d2102360cc6bd801452661f5bd5ece0e.jpg: 640x640 1 lime, 10.8ms\n",
            "image 1460/1917 /content/drive/MyDrive/AyushVision/yolo/final/test/images/IMG20240714180934_jpg.rf.57b8a9f67711ba702e8b87ab1da4ce80.jpg: 640x640 1 lime, 11.1ms\n",
            "image 1461/1917 /content/drive/MyDrive/AyushVision/yolo/final/test/images/IMG20240714181150_jpg.rf.4fcd4b254f37eb91b8ca4d1de3f499dd.jpg: 640x640 1 Hibiscus, 1 lime, 7.8ms\n",
            "image 1462/1917 /content/drive/MyDrive/AyushVision/yolo/final/test/images/IMG20240714181427_jpg.rf.1c982962acce4d4ccd09dd75aadd5342.jpg: 640x640 1 lime, 8.2ms\n",
            "image 1463/1917 /content/drive/MyDrive/AyushVision/yolo/final/test/images/IMG_20231227_083628_jpg.rf.6454fce671dab1b0be538cc2c891d442.jpg: 640x640 1 Alovera, 8.6ms\n",
            "image 1464/1917 /content/drive/MyDrive/AyushVision/yolo/final/test/images/IMG_20231227_083719_jpg.rf.1f2a18b4d4f1d2d608ff8dbebe4f6428.jpg: 640x640 1 Caster, 11.0ms\n",
            "image 1465/1917 /content/drive/MyDrive/AyushVision/yolo/final/test/images/IMG_20231227_1100455_jpg.rf.33fcdeb8c1de4d608e441ec24489b3ce.jpg: 640x640 1 Alovera, 8.0ms\n",
            "image 1466/1917 /content/drive/MyDrive/AyushVision/yolo/final/test/images/IMG_20231227_112108_jpg.rf.16ac780730a5de8cc5f935cd4144d012.jpg: 640x640 1 Caster, 8.2ms\n",
            "image 1467/1917 /content/drive/MyDrive/AyushVision/yolo/final/test/images/IMG_20231228_093436_2_jpg.rf.e5ce22b541891573106e73c1487b008b.jpg: 640x640 1 Cinnamon, 9.0ms\n",
            "image 1468/1917 /content/drive/MyDrive/AyushVision/yolo/final/test/images/IMG_20231228_093507_1_jpg.rf.13b751583ec005ae3662366a71bd5e13.jpg: 640x640 1 Cinnamon, 7.5ms\n",
            "image 1469/1917 /content/drive/MyDrive/AyushVision/yolo/final/test/images/IMG_20231228_093508_jpg.rf.caeb517d1040ee531fd599ba8abdb86a.jpg: 640x640 1 Cinnamon, 7.5ms\n",
            "image 1470/1917 /content/drive/MyDrive/AyushVision/yolo/final/test/images/IMG_20231228_093615_jpg.rf.3f31568cc5740a0aa1e84ac63843860d.jpg: 640x640 1 Cinnamon, 11.2ms\n",
            "image 1471/1917 /content/drive/MyDrive/AyushVision/yolo/final/test/images/IMG_20231228_093631_jpg.rf.e7006e208e7d0bad5788c03ea146523f.jpg: 640x640 1 Cinnamon, 7.7ms\n",
            "image 1472/1917 /content/drive/MyDrive/AyushVision/yolo/final/test/images/IMG_20231228_093734_jpg.rf.9085229a8083566aca073169b3e2c4c6.jpg: 640x640 1 Cinnamon, 8.6ms\n",
            "image 1473/1917 /content/drive/MyDrive/AyushVision/yolo/final/test/images/IMG_20231228_093748_jpg.rf.42e5911058a639492e158cf530d613f1.jpg: 640x640 1 Cinnamon, 7.7ms\n",
            "image 1474/1917 /content/drive/MyDrive/AyushVision/yolo/final/test/images/IMG_20231228_094046_jpg.rf.b38660a083d01792499f4c863b6a7ca2.jpg: 640x640 1 Cinnamon, 7.5ms\n",
            "image 1475/1917 /content/drive/MyDrive/AyushVision/yolo/final/test/images/IMG_20231228_094052_jpg.rf.ca71677ef0e931566d0f37223561a5b0.jpg: 640x640 1 Cinnamon, 7.7ms\n",
            "image 1476/1917 /content/drive/MyDrive/AyushVision/yolo/final/test/images/IMG_20231228_094109_jpg.rf.6f40f680b6543ea4b788409bb547956d.jpg: 640x640 1 Cinnamon, 7.6ms\n",
            "image 1477/1917 /content/drive/MyDrive/AyushVision/yolo/final/test/images/IMG_20231228_094358_jpg.rf.35701b3aae934f39a071da2291d9c967.jpg: 640x640 1 Cinnamon, 7.7ms\n",
            "image 1478/1917 /content/drive/MyDrive/AyushVision/yolo/final/test/images/IMG_20231228_094411_jpg.rf.fe1aed3e135700c7392030c1e6d57f7a.jpg: 640x640 1 Cinnamon, 7.5ms\n",
            "image 1479/1917 /content/drive/MyDrive/AyushVision/yolo/final/test/images/IMG_20231228_094416_jpg.rf.c5170800aaff9a738e7aaa8b9ff3c861.jpg: 640x640 1 Cinnamon, 10.3ms\n",
            "image 1480/1917 /content/drive/MyDrive/AyushVision/yolo/final/test/images/IMG_20231228_094546_jpg.rf.df68b09b211cbe8215723c658dbd0b7a.jpg: 640x640 1 Caster, 7.5ms\n",
            "image 1481/1917 /content/drive/MyDrive/AyushVision/yolo/final/test/images/IMG_20231228_094553_jpg.rf.dd979ac6c75bce5840f12685606dff2c.jpg: 640x640 1 Caster, 11.1ms\n",
            "image 1482/1917 /content/drive/MyDrive/AyushVision/yolo/final/test/images/IMG_20231228_094559_jpg.rf.584baa0031ff2c1e4740979458d0f6ac.jpg: 640x640 1 Caster, 11.1ms\n",
            "image 1483/1917 /content/drive/MyDrive/AyushVision/yolo/final/test/images/IMG_20231228_095606_1_jpg.rf.ff627da30886e03aaff2ae716d53eef1.jpg: 640x640 1 Alovera, 7.8ms\n",
            "image 1484/1917 /content/drive/MyDrive/AyushVision/yolo/final/test/images/IMG_20231228_095606_jpg.rf.3e68da573d90e0abacecfedd2456a464.jpg: 640x640 1 Alovera, 11.0ms\n",
            "image 1485/1917 /content/drive/MyDrive/AyushVision/yolo/final/test/images/IMG_20231228_102010_1_jpg.rf.2646c5a634b5873b98e841a714d389b0.jpg: 640x640 1 Caster, 7.8ms\n",
            "image 1486/1917 /content/drive/MyDrive/AyushVision/yolo/final/test/images/IMG_20231228_111236_jpg.rf.8f086904f0107b9b7077dfdcfe2567fb.jpg: 640x640 (no detections), 7.7ms\n",
            "image 1487/1917 /content/drive/MyDrive/AyushVision/yolo/final/test/images/IMG_20231228_112058_1_jpg.rf.ee7effbdcb95b9059f50670b05f8be05.jpg: 640x640 1 Adamant_Creeper, 7.5ms\n",
            "image 1488/1917 /content/drive/MyDrive/AyushVision/yolo/final/test/images/IMG_20231228_112101_jpg.rf.4d786230904fe626a0311a43781215cb.jpg: 640x640 1 Adamant_Creeper, 8.1ms\n",
            "image 1489/1917 /content/drive/MyDrive/AyushVision/yolo/final/test/images/IMG_20231228_112105_jpg.rf.153fe4c1520d6348435339d06126a465.jpg: 640x640 1 Adamant_Creeper, 7.5ms\n",
            "image 1490/1917 /content/drive/MyDrive/AyushVision/yolo/final/test/images/IMG_20231228_112107_jpg.rf.9e6d77101bdb44acee08076baaebe59b.jpg: 640x640 1 Adamant_Creeper, 8.4ms\n",
            "image 1491/1917 /content/drive/MyDrive/AyushVision/yolo/final/test/images/IMG_20231228_112110_1_jpg.rf.34f8b47a37982f15e2cc64aafe2610f7.jpg: 640x640 1 Adamant_Creeper, 9.8ms\n",
            "image 1492/1917 /content/drive/MyDrive/AyushVision/yolo/final/test/images/IMG_20231228_112150_12_jpg.rf.e1a1f34d00c42620028c76cd166f62a6.jpg: 640x640 (no detections), 7.5ms\n",
            "image 1493/1917 /content/drive/MyDrive/AyushVision/yolo/final/test/images/IMG_20231228_112154_1_jpg.rf.643b1abd25b7903827025c7f8d9a9df8.jpg: 640x640 1 Adamant_Creeper, 7.6ms\n",
            "image 1494/1917 /content/drive/MyDrive/AyushVision/yolo/final/test/images/IMG_20231228_112721_jpg.rf.b53e625b39e428667b2a7c3f4d631435.jpg: 640x640 1 Long_pepper, 10.0ms\n",
            "image 1495/1917 /content/drive/MyDrive/AyushVision/yolo/final/test/images/IMG_20231228_112734_jpg.rf.33c29e2e10cc698ee46e6bb7b07681b6.jpg: 640x640 1 Long_pepper, 7.5ms\n",
            "image 1496/1917 /content/drive/MyDrive/AyushVision/yolo/final/test/images/IMG_20231228_114211_jpg.rf.1da51a0fcfd8b0b99e1846b72d188f67.jpg: 640x640 1 Long_pepper, 11.1ms\n",
            "image 1497/1917 /content/drive/MyDrive/AyushVision/yolo/final/test/images/IMG_20231228_123009_1_jpg.rf.84755845046d721ec7408adc1a846b16.jpg: 640x640 1 Miracle_leaf, 7.7ms\n",
            "image 1498/1917 /content/drive/MyDrive/AyushVision/yolo/final/test/images/IMG_20231228_123729_2_jpg.rf.da468fc66ae4a832a2166a0ff98935ea.jpg: 640x640 1 Tallperennial_grass, 11.9ms\n",
            "image 1499/1917 /content/drive/MyDrive/AyushVision/yolo/final/test/images/IMG_20231228_123733_jpg.rf.c2e17e4ea6ada96c0e7ae88435640ea8.jpg: 640x640 (no detections), 8.2ms\n",
            "image 1500/1917 /content/drive/MyDrive/AyushVision/yolo/final/test/images/IMG_20231229_095932_jpg.rf.7a878284ce971e69e0bcdcb629b00745.jpg: 640x640 1 Lemon_grass, 9.6ms\n",
            "image 1501/1917 /content/drive/MyDrive/AyushVision/yolo/final/test/images/IMG_20231229_100002_1_jpg.rf.207bb6dd0941518b9b6357f5d043ef21.jpg: 640x640 1 Long_pepper, 8.1ms\n",
            "image 1502/1917 /content/drive/MyDrive/AyushVision/yolo/final/test/images/IMG_20231229_100004_jpg.rf.5a24e10fdbf0c2903e7d9ecc4627f532.jpg: 640x640 (no detections), 10.3ms\n",
            "image 1503/1917 /content/drive/MyDrive/AyushVision/yolo/final/test/images/IMG_20231229_100855_jpg.rf.181df6c68032a12a343bbfb7395fbde7.jpg: 640x640 1 Lemon_grass, 7.7ms\n",
            "image 1504/1917 /content/drive/MyDrive/AyushVision/yolo/final/test/images/IMG_20231229_100915_jpg.rf.06db54f8c92d50c5e641f0f9e0767fd8.jpg: 640x640 1 Lemon_grass, 7.9ms\n",
            "image 1505/1917 /content/drive/MyDrive/AyushVision/yolo/final/test/images/IMG_20231229_100927_jpg.rf.e932387bf188d25a74057dbb5623726b.jpg: 640x640 1 Lemon_grass, 11.2ms\n",
            "image 1506/1917 /content/drive/MyDrive/AyushVision/yolo/final/test/images/IMG_20231229_100929_1_jpg.rf.65f1ad1a871f0a03356c7f6e6617ac2c.jpg: 640x640 1 Lemon_grass, 7.7ms\n",
            "image 1507/1917 /content/drive/MyDrive/AyushVision/yolo/final/test/images/IMG_20231229_100929_2_jpg.rf.746e1ae9e56ce4c419ffc0973aca5f52.jpg: 640x640 1 Lemon_grass, 10.1ms\n",
            "image 1508/1917 /content/drive/MyDrive/AyushVision/yolo/final/test/images/IMG_20231229_101049_jpg.rf.50eeafb5536b4efebf1c41e1764ef918.jpg: 640x640 (no detections), 7.5ms\n",
            "image 1509/1917 /content/drive/MyDrive/AyushVision/yolo/final/test/images/IMG_20231229_101140_jpg.rf.8f1a45bf5b86e54bfe2f58bd67fd8a91.jpg: 640x640 1 Lemon_grass, 1 Tallperennial_grass, 7.5ms\n",
            "image 1510/1917 /content/drive/MyDrive/AyushVision/yolo/final/test/images/IMG_20231229_102137_jpg.rf.727e9ad0a671a06b3229534b674e5e44.jpg: 640x640 1 Lemon_grass, 7.5ms\n",
            "image 1511/1917 /content/drive/MyDrive/AyushVision/yolo/final/test/images/IMG_20231229_103835_jpg.rf.868c9251af908da99537c337a9f1f569.jpg: 640x640 1 Ringworm_plant, 7.7ms\n",
            "image 1512/1917 /content/drive/MyDrive/AyushVision/yolo/final/test/images/IMG_20231229_103838_3_jpg.rf.7a04135fe60c9d68c4e6ac236055f4f1.jpg: 640x640 1 Ringworm_plant, 7.5ms\n",
            "image 1513/1917 /content/drive/MyDrive/AyushVision/yolo/final/test/images/IMG_20231229_103839_2_jpg.rf.5b9b14da9fd24173efe36df2db7d13bb.jpg: 640x640 2 Ringworm_plants, 7.5ms\n",
            "image 1514/1917 /content/drive/MyDrive/AyushVision/yolo/final/test/images/IMG_20231229_103839_jpg.rf.49537d22e06ae7ba4e8d2de7aebbcbb0.jpg: 640x640 1 Ringworm_plant, 7.7ms\n",
            "image 1515/1917 /content/drive/MyDrive/AyushVision/yolo/final/test/images/IMG_20231229_103845_1_jpg.rf.9103cc5d619c96595b9a3c7c35f28689.jpg: 640x640 2 Ringworm_plants, 8.7ms\n",
            "image 1516/1917 /content/drive/MyDrive/AyushVision/yolo/final/test/images/IMG_20231229_103937_1_jpg.rf.0e50d3541b688eeff7c5ef8603cfc519.jpg: 640x640 1 Ringworm_plant, 7.6ms\n",
            "image 1517/1917 /content/drive/MyDrive/AyushVision/yolo/final/test/images/IMG_20231229_103937_3_jpg.rf.1f4c1b3ca732f1b4743ce13ede38d8f5.jpg: 640x640 1 Ringworm_plant, 7.6ms\n",
            "image 1518/1917 /content/drive/MyDrive/AyushVision/yolo/final/test/images/IMG_20231229_104016_2_jpg.rf.0a9a232d2fa2df705930bd525a12dbf2.jpg: 640x640 1 Ringworm_plant, 7.7ms\n",
            "image 1519/1917 /content/drive/MyDrive/AyushVision/yolo/final/test/images/IMG_20231229_104024_jpg.rf.b7b8a9cf0ba89684f49e28bd72bb92c8.jpg: 640x640 1 Ringworm_plant, 8.0ms\n",
            "image 1520/1917 /content/drive/MyDrive/AyushVision/yolo/final/test/images/IMG_20231229_104057_1_jpg.rf.3b5f37a0f9a4a53fd71a82f4be19e60f.jpg: 640x640 1 Ringworm_plant, 9.7ms\n",
            "image 1521/1917 /content/drive/MyDrive/AyushVision/yolo/final/test/images/IMG_20231229_104058_2_jpg.rf.5609c52069a7145caeac922d4bf8d10f.jpg: 640x640 1 Ringworm_plant, 8.1ms\n",
            "image 1522/1917 /content/drive/MyDrive/AyushVision/yolo/final/test/images/IMG_20231229_104104_jpg.rf.fe353d0c2d95e3c595a372c974cd45bc.jpg: 640x640 1 Ringworm_plant, 7.8ms\n",
            "image 1523/1917 /content/drive/MyDrive/AyushVision/yolo/final/test/images/IMG_20231229_104108_jpg.rf.3a98c92d15741e45ee4d05fa7bf1fe63.jpg: 640x640 1 Ringworm_plant, 7.9ms\n",
            "image 1524/1917 /content/drive/MyDrive/AyushVision/yolo/final/test/images/IMG_20231229_104131_jpg.rf.0c31a6a8fad31764441bfcde9772dc61.jpg: 640x640 2 Ringworm_plants, 7.9ms\n",
            "image 1525/1917 /content/drive/MyDrive/AyushVision/yolo/final/test/images/IMG_20231229_104352_jpg.rf.68f789c0b3a4c0606013e1be2096ed4f.jpg: 640x640 2 Indian_Mallows, 1 Ringworm_plant, 10.7ms\n",
            "image 1526/1917 /content/drive/MyDrive/AyushVision/yolo/final/test/images/IMG_20231229_104427_jpg.rf.630c71297829de20a442a62905588076.jpg: 640x640 1 Ringworm_plant, 7.6ms\n",
            "image 1527/1917 /content/drive/MyDrive/AyushVision/yolo/final/test/images/IMG_20231229_104520_1_jpg.rf.72c48a792d1237446dc22bd1084b444e.jpg: 640x640 2 Ringworm_plants, 7.7ms\n",
            "image 1528/1917 /content/drive/MyDrive/AyushVision/yolo/final/test/images/IMG_20231229_104529_jpg.rf.6d88503b45c40ebfe373147ee013bea1.jpg: 640x640 1 Ringworm_plant, 7.5ms\n",
            "image 1529/1917 /content/drive/MyDrive/AyushVision/yolo/final/test/images/IMG_20231229_1045422_jpg.rf.468f0a0e362726a722474d99880e4bdb.jpg: 640x640 1 Holybasil, 7.5ms\n",
            "image 1530/1917 /content/drive/MyDrive/AyushVision/yolo/final/test/images/IMG_20231229_104600_jpg.rf.6daac2b5f7a7d723c0ebc46259c7abb9.jpg: 640x640 1 Holybasil, 8.0ms\n",
            "image 1531/1917 /content/drive/MyDrive/AyushVision/yolo/final/test/images/IMG_20231229_104753_1_jpg.rf.a8a903bd22a509a0557807bf7cbf1b8e.jpg: 640x640 1 Holybasil, 7.5ms\n",
            "image 1532/1917 /content/drive/MyDrive/AyushVision/yolo/final/test/images/IMG_20231229_104911_1_jpg.rf.174ef638f4e3274490898552f0498d37.jpg: 640x640 1 Holybasil, 8.0ms\n",
            "image 1533/1917 /content/drive/MyDrive/AyushVision/yolo/final/test/images/IMG_20231229_104934_1_jpg.rf.74baa88123307af3f08856e8d3aa0209.jpg: 640x640 3 Oreganos, 8.2ms\n",
            "image 1534/1917 /content/drive/MyDrive/AyushVision/yolo/final/test/images/IMG_20231229_104935_3_jpg.rf.31c7d8ad670873d07bd3edbf170345ec.jpg: 640x640 1 Oregano, 7.8ms\n",
            "image 1535/1917 /content/drive/MyDrive/AyushVision/yolo/final/test/images/IMG_20231229_104949_1_jpg.rf.09bc18658301464a3060833ab008c2a9.jpg: 640x640 2 Oreganos, 11.5ms\n",
            "image 1536/1917 /content/drive/MyDrive/AyushVision/yolo/final/test/images/IMG_20231229_105111_1_jpg.rf.8edde5f20db8399469a9d6213bc7a7d7.jpg: 640x640 1 Holybasil, 11.3ms\n",
            "image 1537/1917 /content/drive/MyDrive/AyushVision/yolo/final/test/images/IMG_20231229_105324_jpg.rf.bc7f2c19a67074a321fe49a5276f98c7.jpg: 640x640 1 Holybasil, 10.3ms\n",
            "image 1538/1917 /content/drive/MyDrive/AyushVision/yolo/final/test/images/IMG_20231229_105447_3_jpg.rf.b42b327753f606752d2c5f773b011beb.jpg: 640x640 1 Holybasil, 11.3ms\n",
            "image 1539/1917 /content/drive/MyDrive/AyushVision/yolo/final/test/images/IMG_20231229_105452_jpg.rf.551521f90f0177811a4e49876f36be41.jpg: 640x640 1 Holybasil, 7.9ms\n",
            "image 1540/1917 /content/drive/MyDrive/AyushVision/yolo/final/test/images/IMG_20231229_105657_2_jpg.rf.5fe5959b1da46d7876cc77371ee239f9.jpg: 640x640 1 Holybasil, 7.6ms\n",
            "image 1541/1917 /content/drive/MyDrive/AyushVision/yolo/final/test/images/IMG_20231229_105658_jpg.rf.74caa6929114893655ab37887b265b4c.jpg: 640x640 2 Holybasils, 7.9ms\n",
            "image 1542/1917 /content/drive/MyDrive/AyushVision/yolo/final/test/images/IMG_20231229_105702_1_jpg.rf.81692179ce62b0d88a2cc236641636a8.jpg: 640x640 1 Holybasil, 7.5ms\n",
            "image 1543/1917 /content/drive/MyDrive/AyushVision/yolo/final/test/images/IMG_20231229_105734_1_jpg.rf.f692e397316ad8438ff3aca5412ee7aa.jpg: 640x640 1 Holybasil, 7.5ms\n",
            "image 1544/1917 /content/drive/MyDrive/AyushVision/yolo/final/test/images/IMG_20231229_105754_jpg.rf.f88836721aeeb2735373fbc65605bbdc.jpg: 640x640 1 Indian_Mallow, 7.9ms\n",
            "image 1545/1917 /content/drive/MyDrive/AyushVision/yolo/final/test/images/IMG_20231229_111033_jpg.rf.5efb04bbd37e4fb0c47e5be80a741fc3.jpg: 640x640 1 Lemon_grass, 1 Tallperennial_grass, 9.4ms\n",
            "image 1546/1917 /content/drive/MyDrive/AyushVision/yolo/final/test/images/IMG_20231229_111047_jpg.rf.d93c764095f8df792fddd6ac77e12376.jpg: 640x640 1 Tallperennial_grass, 7.8ms\n",
            "image 1547/1917 /content/drive/MyDrive/AyushVision/yolo/final/test/images/IMG_20231230_170329_jpg.rf.dede19aa0c122b2587c3e95661c0b169.jpg: 640x640 1 Indian_Mallow, 7.8ms\n",
            "image 1548/1917 /content/drive/MyDrive/AyushVision/yolo/final/test/images/IMG_20231230_1703337_jpg.rf.642f40fcf7782034511a063dcf2c4155.jpg: 640x640 1 Indian_Mallow, 7.7ms\n",
            "image 1549/1917 /content/drive/MyDrive/AyushVision/yolo/final/test/images/IMG_20231230_170349_1_jpg.rf.f357bc9441b451fbc7c4e1930218e76f.jpg: 640x640 1 Indian_Mallow, 7.8ms\n",
            "image 1550/1917 /content/drive/MyDrive/AyushVision/yolo/final/test/images/IMG_20231230_170355_1_jpg.rf.e1abe1625cbcf8e4bc167b5f528e432b.jpg: 640x640 1 Indian_Mallow, 9.5ms\n",
            "image 1551/1917 /content/drive/MyDrive/AyushVision/yolo/final/test/images/IMG_20231230_170356_1_jpg.rf.0c1999f1b67c06cd4d06d0ca776902da.jpg: 640x640 1 Indian_Mallow, 7.9ms\n",
            "image 1552/1917 /content/drive/MyDrive/AyushVision/yolo/final/test/images/IMG_20231230_170418_jpg.rf.fb996602087a3a47f3aaf89602791ed9.jpg: 640x640 1 Indian_Mallow, 8.7ms\n",
            "image 1553/1917 /content/drive/MyDrive/AyushVision/yolo/final/test/images/IMG_20231230_170421_1_jpg.rf.f087ad44578982d04ee9e3b92922a6e4.jpg: 640x640 1 Indian_Mallow, 8.7ms\n",
            "image 1554/1917 /content/drive/MyDrive/AyushVision/yolo/final/test/images/IMG_20231230_170440_2_jpg.rf.d9907864e4047cb4bbeb071e2cd7e081.jpg: 640x640 2 Indian_Mallows, 11.7ms\n",
            "image 1555/1917 /content/drive/MyDrive/AyushVision/yolo/final/test/images/IMG_20231230_170826_jpg.rf.f9d75aef5eb0be0a60823b26e32e5051.jpg: 640x640 2 Indian_Mallows, 8.0ms\n",
            "image 1556/1917 /content/drive/MyDrive/AyushVision/yolo/final/test/images/IMG_20231230_170827_1_jpg.rf.284d45b42f4ba3b94bdcf09f3f7f4dec.jpg: 640x640 1 Indian_Mallow, 7.5ms\n",
            "image 1557/1917 /content/drive/MyDrive/AyushVision/yolo/final/test/images/IMG_20231230_170833_1_jpg.rf.f9ebda597d2348236811448eb4f83c87.jpg: 640x640 1 Indian_Mallow, 7.6ms\n",
            "image 1558/1917 /content/drive/MyDrive/AyushVision/yolo/final/test/images/IMG_20231230_170846_jpg.rf.4cd62545ae2b4c5f02e48d498fa5064b.jpg: 640x640 1 Indian_Mallow, 7.6ms\n",
            "image 1559/1917 /content/drive/MyDrive/AyushVision/yolo/final/test/images/IMG_20231230_170848_jpg.rf.77ac0275010ea5b6414cca42eb880af7.jpg: 640x640 1 Indian_Mallow, 7.6ms\n",
            "image 1560/1917 /content/drive/MyDrive/AyushVision/yolo/final/test/images/IMG_20231230_170852_1_jpg.rf.f0b02b0f31fc0d9aa56b59d48d16ac10.jpg: 640x640 3 Indian_Mallows, 7.7ms\n",
            "image 1561/1917 /content/drive/MyDrive/AyushVision/yolo/final/test/images/IMG_20231230_170853_2_jpg.rf.0ab0e0a19a605788337b274e2b5f7674.jpg: 640x640 1 Indian_Mallow, 9.8ms\n",
            "image 1562/1917 /content/drive/MyDrive/AyushVision/yolo/final/test/images/IMG_20231230_170904_1_jpg.rf.f5620b221d1fbbf6f9507306ff8c7f33.jpg: 640x640 1 Indian_Mallow, 7.5ms\n",
            "image 1563/1917 /content/drive/MyDrive/AyushVision/yolo/final/test/images/IMG_20231230_170904_3_jpg.rf.4c3a50c42e45ee37028f1a2d2e89b941.jpg: 640x640 1 Indian_Mallow, 7.7ms\n",
            "image 1564/1917 /content/drive/MyDrive/AyushVision/yolo/final/test/images/IMG_20231230_170923_jpg.rf.850bc76e70d2164be4ab01fa04da94f0.jpg: 640x640 1 Indian_Mallow, 9.9ms\n",
            "image 1565/1917 /content/drive/MyDrive/AyushVision/yolo/final/test/images/IMG_20231230_170931_1_jpg.rf.b25d95f2a9a38412846b2142a62d961b.jpg: 640x640 1 Indian_Mallow, 9.1ms\n",
            "image 1566/1917 /content/drive/MyDrive/AyushVision/yolo/final/test/images/IMG_20231230_170932_1_jpg.rf.9e007f6b024681dd9407b72b6d84a835.jpg: 640x640 1 Indian_Mallow, 8.1ms\n",
            "image 1567/1917 /content/drive/MyDrive/AyushVision/yolo/final/test/images/IMG_20231230_170946_1_jpg.rf.317a6b748a68ad9e3c3b239693816260.jpg: 640x640 1 Indian_Mallow, 8.5ms\n",
            "image 1568/1917 /content/drive/MyDrive/AyushVision/yolo/final/test/images/IMG_20231230_170950_4_jpg.rf.bac0c83be94310cea9eb3cb622c0948b.jpg: 640x640 1 Indian_Mallow, 9.5ms\n",
            "image 1569/1917 /content/drive/MyDrive/AyushVision/yolo/final/test/images/IMG_20231230_170950_jpg.rf.ff533d87096226b823feb9ebbec98077.jpg: 640x640 1 Indian_Mallow, 8.3ms\n",
            "image 1570/1917 /content/drive/MyDrive/AyushVision/yolo/final/test/images/IMG_20231230_170951_3_jpg.rf.09f1cff2c196ce124b0f358c6b7f0b50.jpg: 640x640 1 Indian_Mallow, 9.1ms\n",
            "image 1571/1917 /content/drive/MyDrive/AyushVision/yolo/final/test/images/IMG_20231230_171015_2_jpg.rf.67227cf7747cda5a745bcb295a1bd038.jpg: 640x640 1 Indian_Mallow, 10.7ms\n",
            "image 1572/1917 /content/drive/MyDrive/AyushVision/yolo/final/test/images/IMG_20231230_171319_4_jpg.rf.18252edfedf6b6474858839e59bf1544.jpg: 640x640 2 Indian_Mallows, 8.9ms\n",
            "image 1573/1917 /content/drive/MyDrive/AyushVision/yolo/final/test/images/IMG_20231230_171401_jpg.rf.e5a4f488a359ceeecf3069942990e349.jpg: 640x640 1 Indian_Mallow, 8.3ms\n",
            "image 1574/1917 /content/drive/MyDrive/AyushVision/yolo/final/test/images/IMG_20231230_171402_1_jpg.rf.07e9a4c603f6e0f9a8bdd6cfa2dc020c.jpg: 640x640 2 Indian_Mallows, 8.4ms\n",
            "image 1575/1917 /content/drive/MyDrive/AyushVision/yolo/final/test/images/IMG_20231230_171624_2_jpg.rf.3d8dd6a250962e9b98cc94520f0ca1db.jpg: 640x640 1 Indian_Mallow, 7.9ms\n",
            "image 1576/1917 /content/drive/MyDrive/AyushVision/yolo/final/test/images/IMG_20231230_171624_jpg.rf.aa33706357496c400a4b1b8d06aaee0a.jpg: 640x640 1 Indian_Mallow, 8.0ms\n",
            "image 1577/1917 /content/drive/MyDrive/AyushVision/yolo/final/test/images/IMG_20231230_171626_1_jpg.rf.e5be958eafe05a911f1b7b676bb3799d.jpg: 640x640 1 Indian_Mallow, 7.8ms\n",
            "image 1578/1917 /content/drive/MyDrive/AyushVision/yolo/final/test/images/IMG_20231230_171643_2_jpg.rf.d81101612ec98a792b22b0067dc99e52.jpg: 640x640 1 Indian_Mallow, 7.8ms\n",
            "image 1579/1917 /content/drive/MyDrive/AyushVision/yolo/final/test/images/IMG_20231230_171730_1_jpg.rf.ad524a0bc1c9caa05f3c4ce945d86389.jpg: 640x640 1 Indian_Mallow, 8.2ms\n",
            "image 1580/1917 /content/drive/MyDrive/AyushVision/yolo/final/test/images/IMG_20231230_171731_1_jpg.rf.b650e2bbc032c6772180934665a7ba9a.jpg: 640x640 1 Indian_Mallow, 8.2ms\n",
            "image 1581/1917 /content/drive/MyDrive/AyushVision/yolo/final/test/images/IMG_20231230_171731_2_jpg.rf.10fdbd255a06d53ae6d48f7eaecb60ef.jpg: 640x640 1 Indian_Mallow, 9.6ms\n",
            "image 1582/1917 /content/drive/MyDrive/AyushVision/yolo/final/test/images/IMG_20231230_171735_1_jpg.rf.f9fe2f6f61f57653a7f8fb574c3bceb8.jpg: 640x640 1 Indian_Mallow, 7.7ms\n",
            "image 1583/1917 /content/drive/MyDrive/AyushVision/yolo/final/test/images/IMG_20231230_171741_1_jpg.rf.142edaae27c39818727f69da73834851.jpg: 640x640 1 Indian_Mallow, 7.6ms\n",
            "image 1584/1917 /content/drive/MyDrive/AyushVision/yolo/final/test/images/IMG_20231230_171741_2_jpg.rf.a10780b14468f8e26cc64de07862a823.jpg: 640x640 1 Indian_Mallow, 8.0ms\n",
            "image 1585/1917 /content/drive/MyDrive/AyushVision/yolo/final/test/images/IMG_20231230_171749_jpg.rf.c8fb5fbc8cba3b6163249ef435c681fd.jpg: 640x640 1 Indian_Mallow, 7.9ms\n",
            "image 1586/1917 /content/drive/MyDrive/AyushVision/yolo/final/test/images/IMG_20231230_171750_jpg.rf.bd570c459e09288cdbab6ce7f84484f8.jpg: 640x640 1 Indian_Mallow, 7.9ms\n",
            "image 1587/1917 /content/drive/MyDrive/AyushVision/yolo/final/test/images/IMG_20231230_171759_2_jpg.rf.4ebddfc9235c421aea23aa7d0f48c982.jpg: 640x640 1 Indian_Mallow, 10.4ms\n",
            "image 1588/1917 /content/drive/MyDrive/AyushVision/yolo/final/test/images/IMG_20231230_171808_1_jpg.rf.21e0a5d3589f254a62e2fa1afc4405a4.jpg: 640x640 1 Indian_Mallow, 9.1ms\n",
            "image 1589/1917 /content/drive/MyDrive/AyushVision/yolo/final/test/images/IMG_20231230_171808_jpg.rf.51795bf7e10885fa819eb2ace89906be.jpg: 640x640 1 Indian_Mallow, 7.9ms\n",
            "image 1590/1917 /content/drive/MyDrive/AyushVision/yolo/final/test/images/IMG_20231230_171813_1_jpg.rf.dc9209564ee96009f01eccacbf377993.jpg: 640x640 1 Indian_Mallow, 7.6ms\n",
            "image 1591/1917 /content/drive/MyDrive/AyushVision/yolo/final/test/images/IMG_20231230_171838_2_jpg.rf.8212df4b9bed34f7091c8593cc676598.jpg: 640x640 1 Indian_Mallow, 7.5ms\n",
            "image 1592/1917 /content/drive/MyDrive/AyushVision/yolo/final/test/images/IMG_20231230_171839_jpg.rf.ec2653fbbc1216f810201d6a08784168.jpg: 640x640 1 Indian_Mallow, 9.7ms\n",
            "image 1593/1917 /content/drive/MyDrive/AyushVision/yolo/final/test/images/IMG_20231230_171840_1_jpg.rf.c6d7bfeac2ea56e149c7489bb042b550.jpg: 640x640 1 Indian_Mallow, 7.9ms\n",
            "image 1594/1917 /content/drive/MyDrive/AyushVision/yolo/final/test/images/IMG_20231230_171846_jpg.rf.5dac58630538d26339e8a7c36d992309.jpg: 640x640 1 Indian_Mallow, 7.8ms\n",
            "image 1595/1917 /content/drive/MyDrive/AyushVision/yolo/final/test/images/IMG_20231230_172125_2_jpg.rf.27acd0fbd6d49f7cb570b5fbdfbfd6eb.jpg: 640x640 1 Indian_Mallow, 9.7ms\n",
            "image 1596/1917 /content/drive/MyDrive/AyushVision/yolo/final/test/images/IMG_20231230_172125_jpg.rf.7424d5e3e0020945a538ee6f69a4c119.jpg: 640x640 1 Indian_Mallow, 7.8ms\n",
            "image 1597/1917 /content/drive/MyDrive/AyushVision/yolo/final/test/images/IMG_20231230_172126_1_jpg.rf.1bd603f8971e042f6c120e142082bd7d.jpg: 640x640 1 Indian_Mallow, 8.3ms\n",
            "image 1598/1917 /content/drive/MyDrive/AyushVision/yolo/final/test/images/IMG_20231230_172126_jpg.rf.18ee2c8bb9f4b5bc8a4a67d0af499a45.jpg: 640x640 1 Indian_Mallow, 8.3ms\n",
            "image 1599/1917 /content/drive/MyDrive/AyushVision/yolo/final/test/images/IMG_20231230_172227_1_jpg.rf.6b63c3f630b5f6882fcd29f0694b6c56.jpg: 640x640 1 Oregano, 8.0ms\n",
            "image 1600/1917 /content/drive/MyDrive/AyushVision/yolo/final/test/images/IMG_20231230_172229_1_jpg.rf.0bbfadb33050650757589f67ba38b277.jpg: 640x640 1 Oregano, 8.2ms\n",
            "image 1601/1917 /content/drive/MyDrive/AyushVision/yolo/final/test/images/IMG_20231230_172259_2_jpg.rf.6a2b31b845398fab115d6d54ccc22645.jpg: 640x640 1 Holybasil, 8.0ms\n",
            "image 1602/1917 /content/drive/MyDrive/AyushVision/yolo/final/test/images/IMG_20231230_172314_jpg.rf.e29cf2d4efc467052fa2b83c30f68958.jpg: 640x640 1 Holybasil, 7.8ms\n",
            "image 1603/1917 /content/drive/MyDrive/AyushVision/yolo/final/test/images/IMG_20231230_172321_1_jpg.rf.2a9cb2b53221ad53c0b7d51488d1f568.jpg: 640x640 1 Holybasil, 8.0ms\n",
            "image 1604/1917 /content/drive/MyDrive/AyushVision/yolo/final/test/images/IMG_20231230_172321_3_jpg.rf.051eb2663c11a4db55c6dcd131bc448d.jpg: 640x640 1 Holybasil, 8.4ms\n",
            "image 1605/1917 /content/drive/MyDrive/AyushVision/yolo/final/test/images/IMG_20231230_172327_1_jpg.rf.f76e2c7e86b29776c60b571579a3144c.jpg: 640x640 1 Holybasil, 9.0ms\n",
            "image 1606/1917 /content/drive/MyDrive/AyushVision/yolo/final/test/images/IMG_20231230_172327_4_jpg.rf.2b616dcbe683473d8aeb4b199d400260.jpg: 640x640 1 Holybasil, 8.1ms\n",
            "image 1607/1917 /content/drive/MyDrive/AyushVision/yolo/final/test/images/IMG_20231230_172341_3_jpg.rf.a3b289c0ded4e101a35d3da9987ece74.jpg: 640x640 1 Holybasil, 8.0ms\n",
            "image 1608/1917 /content/drive/MyDrive/AyushVision/yolo/final/test/images/IMG_20231230_172504_1_jpg.rf.f6a3f4efb2e679ae37620dc5ad514e1b.jpg: 640x640 2 Oreganos, 9.8ms\n",
            "image 1609/1917 /content/drive/MyDrive/AyushVision/yolo/final/test/images/IMG_20231230_172506_1_jpg.rf.09219235a4a98197e77e64191411e544.jpg: 640x640 3 Oreganos, 8.9ms\n",
            "image 1610/1917 /content/drive/MyDrive/AyushVision/yolo/final/test/images/IMG_20231230_172507_1_jpg.rf.e84eabee2e421c5b2dfa9254b7022b6e.jpg: 640x640 2 Oreganos, 7.9ms\n",
            "image 1611/1917 /content/drive/MyDrive/AyushVision/yolo/final/test/images/IMG_20231230_172507_jpg.rf.d92b5f925107e62f9cd91327dcf0105b.jpg: 640x640 2 Oreganos, 8.9ms\n",
            "image 1612/1917 /content/drive/MyDrive/AyushVision/yolo/final/test/images/IMG_20231230_172512_2_jpg.rf.45396c0dbaa2e92b1a3732e482271652.jpg: 640x640 2 Oreganos, 10.5ms\n",
            "image 1613/1917 /content/drive/MyDrive/AyushVision/yolo/final/test/images/IMG_20231230_172514_jpg.rf.4bdfcdf6fb4d60640d7e0e58ecdc55c6.jpg: 640x640 3 Oreganos, 8.0ms\n",
            "image 1614/1917 /content/drive/MyDrive/AyushVision/yolo/final/test/images/IMG_20231230_172516_jpg.rf.266009a3fa3ac987a6b33ff8731f4349.jpg: 640x640 1 Oregano, 8.5ms\n",
            "image 1615/1917 /content/drive/MyDrive/AyushVision/yolo/final/test/images/IMG_20231230_172534_jpg.rf.b144371d56f0280624c9876b91e588a9.jpg: 640x640 3 Oreganos, 8.1ms\n",
            "image 1616/1917 /content/drive/MyDrive/AyushVision/yolo/final/test/images/IMG_20231230_172535_jpg.rf.d4a481994163743d9554e426948ce659.jpg: 640x640 1 Oregano, 8.0ms\n",
            "image 1617/1917 /content/drive/MyDrive/AyushVision/yolo/final/test/images/IMG_20231230_173232_jpg.rf.6a79f68a1fd1aba122bb8c3404ae15c3.jpg: 640x640 1 Indian_Mallow, 8.3ms\n",
            "image 1618/1917 /content/drive/MyDrive/AyushVision/yolo/final/test/images/IMG_20231230_173236_4_jpg.rf.9735fd8d6d1e0350575e415ca383bece.jpg: 640x640 1 Indian_Mallow, 8.0ms\n",
            "image 1619/1917 /content/drive/MyDrive/AyushVision/yolo/final/test/images/IMG_20231231_055933_jpg.rf.cd9213dd7a3750b8d17cfa23a623fdc8.jpg: 640x640 1 lime, 1 Holybasil, 7.8ms\n",
            "image 1620/1917 /content/drive/MyDrive/AyushVision/yolo/final/test/images/IMG_20240106_102856_jpg.rf.34f8547e347512cbb00e1108c79bf706.jpg: 640x640 1 Adamant_Creeper, 1 Alovera, 8.2ms\n",
            "image 1621/1917 /content/drive/MyDrive/AyushVision/yolo/final/test/images/IMG_20240121_124614_jpg.rf.1cdbf718f5f34edae6e266e30b77e1f0.jpg: 640x640 1 Mountain_Knotgrass, 7.7ms\n",
            "image 1622/1917 /content/drive/MyDrive/AyushVision/yolo/final/test/images/IMG_20240121_124904_jpg.rf.26eadca2ac82afe38d0c94311af9dd54.jpg: 640x640 1 Mountain_Knotgrass, 8.6ms\n",
            "image 1623/1917 /content/drive/MyDrive/AyushVision/yolo/final/test/images/IMG_20240121_124953_jpg.rf.8cf13a2bede7235d928c23d5b549ba0e.jpg: 640x640 1 Mountain_Knotgrass, 10.1ms\n",
            "image 1624/1917 /content/drive/MyDrive/AyushVision/yolo/final/test/images/IMG_20240121_130138_jpg.rf.27da9a8875c2d063b03115b54ac31295.jpg: 640x640 2 Mountain_Knotgrasss, 7.9ms\n",
            "image 1625/1917 /content/drive/MyDrive/AyushVision/yolo/final/test/images/IMG_20240121_130205_jpg.rf.291d55d4f06c5b4252f82ca12a92c37f.jpg: 640x640 1 Mountain_Knotgrass, 8.3ms\n",
            "image 1626/1917 /content/drive/MyDrive/AyushVision/yolo/final/test/images/IMG_20240413_165203_jpg.rf.33955652da134469030db2cda187c164.jpg: 640x640 (no detections), 7.7ms\n",
            "image 1627/1917 /content/drive/MyDrive/AyushVision/yolo/final/test/images/IMG_20240413_165232_jpg.rf.38f328a475f41296b62717046f7e2853.jpg: 640x640 1 Neem, 7.8ms\n",
            "image 1628/1917 /content/drive/MyDrive/AyushVision/yolo/final/test/images/IMG_20240413_165233_1_jpg.rf.9c21f72f17f732d2ce02c6ecf07fc88e.jpg: 640x640 1 Neem, 7.6ms\n",
            "image 1629/1917 /content/drive/MyDrive/AyushVision/yolo/final/test/images/IMG_20240413_165341_2_jpg.rf.23326d83e04238607773f3cf9bec8f7b.jpg: 640x640 1 Neem, 8.1ms\n",
            "image 1630/1917 /content/drive/MyDrive/AyushVision/yolo/final/test/images/IMG_20240413_165404_jpg.rf.9c1f25d3644970b977ddc7fdda9ddf49.jpg: 640x640 1 Neem, 7.6ms\n",
            "image 1631/1917 /content/drive/MyDrive/AyushVision/yolo/final/test/images/IMG_20240413_165411_2_jpg.rf.c76b21cafbfce7b2fa9d91f0221124d7.jpg: 640x640 1 Neem, 7.7ms\n",
            "image 1632/1917 /content/drive/MyDrive/AyushVision/yolo/final/test/images/IMG_20240413_165442_jpg.rf.102afcc6fe2221bf1f163e2415269c23.jpg: 640x640 1 Thornapple, 7.9ms\n",
            "image 1633/1917 /content/drive/MyDrive/AyushVision/yolo/final/test/images/IMG_20240413_165458_jpg.rf.2edd71851c1ef2626a50bb25a4643b01.jpg: 640x640 1 Neem, 8.2ms\n",
            "image 1634/1917 /content/drive/MyDrive/AyushVision/yolo/final/test/images/IMG_20240413_165503_1_jpg.rf.b98fdc865f56d2546e2255ce2dab5ee1.jpg: 640x640 1 Neem, 7.9ms\n",
            "image 1635/1917 /content/drive/MyDrive/AyushVision/yolo/final/test/images/IMG_20240415_123531_jpg.rf.4ec3940a4efe7b1a36f807de6ff8346c.jpg: 640x640 1 Neem, 8.2ms\n",
            "image 1636/1917 /content/drive/MyDrive/AyushVision/yolo/final/test/images/IMG_20240415_173145_jpg.rf.8e8b939d798512646cf0fe57e28f0527.jpg: 640x640 2 Neems, 8.3ms\n",
            "image 1637/1917 /content/drive/MyDrive/AyushVision/yolo/final/test/images/IMG_20240415_173204_1_jpg.rf.03833b988a895fd7563718d3bec0ec35.jpg: 640x640 1 Neem, 9.7ms\n",
            "image 1638/1917 /content/drive/MyDrive/AyushVision/yolo/final/test/images/IMG_20240415_173205_jpg.rf.dc3ec4e6875090ced2f06f1bc1b010d9.jpg: 640x640 1 Neem, 7.9ms\n",
            "image 1639/1917 /content/drive/MyDrive/AyushVision/yolo/final/test/images/IMG_20240415_173208_jpg.rf.edfde939e4893b1df0a45b7dfce37cb7.jpg: 640x640 1 Neem, 7.8ms\n",
            "image 1640/1917 /content/drive/MyDrive/AyushVision/yolo/final/test/images/IMG_20240415_173237_2_jpg.rf.0c664139cb2c465bd6397e7c753ddcf7.jpg: 640x640 1 Neem, 7.6ms\n",
            "image 1641/1917 /content/drive/MyDrive/AyushVision/yolo/final/test/images/IMG_20240415_173238_2_jpg.rf.50dc99d81d4786ded0a30b9a05247172.jpg: 640x640 1 Neem, 8.6ms\n",
            "image 1642/1917 /content/drive/MyDrive/AyushVision/yolo/final/test/images/IMG_20240415_173238_jpg.rf.8681b7b293f801861c229731b7df16a9.jpg: 640x640 1 Neem, 9.8ms\n",
            "image 1643/1917 /content/drive/MyDrive/AyushVision/yolo/final/test/images/IMG_20240427_091939_jpg.rf.318e8d99a55bebd2acad5fa235855512.jpg: 640x640 1 Adamant_Creeper, 8.6ms\n",
            "image 1644/1917 /content/drive/MyDrive/AyushVision/yolo/final/test/images/IMG_20240427_091956_jpg.rf.e604db940c8d5cb8718463a25cb902d0.jpg: 640x640 1 Adamant_Creeper, 10.2ms\n",
            "image 1645/1917 /content/drive/MyDrive/AyushVision/yolo/final/test/images/IMG_20240427_091958_3_jpg.rf.a705a86cc1ab7a7c88492d0484e3e58e.jpg: 640x640 1 Adamant_Creeper, 10.2ms\n",
            "image 1646/1917 /content/drive/MyDrive/AyushVision/yolo/final/test/images/IMG_20240427_092023_jpg.rf.facfa9c04d1cd4d9916c9c319084807d.jpg: 640x640 1 Adamant_Creeper, 10.4ms\n",
            "image 1647/1917 /content/drive/MyDrive/AyushVision/yolo/final/test/images/IMG_20240427_092056_jpg.rf.d69ad95cac93f123a810502d4a26f37c.jpg: 640x640 1 Adamant_Creeper, 8.9ms\n",
            "image 1648/1917 /content/drive/MyDrive/AyushVision/yolo/final/test/images/IMG_20240427_092204_jpg.rf.696cd5ef28e6ba61a060a8e3a588977a.jpg: 640x640 1 Adamant_Creeper, 8.3ms\n",
            "image 1649/1917 /content/drive/MyDrive/AyushVision/yolo/final/test/images/IMG_20240427_092223_jpg.rf.fd356c44f395eb5ce79f064066769acf.jpg: 640x640 1 Adamant_Creeper, 8.0ms\n",
            "image 1650/1917 /content/drive/MyDrive/AyushVision/yolo/final/test/images/IMG_20240427_092312_jpg.rf.7cb5d04be20ac0ab1fbae89a4c04ee84.jpg: 640x640 1 Adamant_Creeper, 10.6ms\n",
            "image 1651/1917 /content/drive/MyDrive/AyushVision/yolo/final/test/images/IMG_20240427_092317_jpg.rf.5d27396affd94ff0a72f140ac40c7989.jpg: 640x640 1 Adamant_Creeper, 8.4ms\n",
            "image 1652/1917 /content/drive/MyDrive/AyushVision/yolo/final/test/images/IMG_20240427_092321_2_jpg.rf.1203a9f1ddbf81e391dff6a3f1541780.jpg: 640x640 1 Adamant_Creeper, 7.9ms\n",
            "image 1653/1917 /content/drive/MyDrive/AyushVision/yolo/final/test/images/IMG_20240427_092339_jpg.rf.4ee2fa92ab719f26b2a30b6e5b765704.jpg: 640x640 1 Adamant_Creeper, 9.2ms\n",
            "image 1654/1917 /content/drive/MyDrive/AyushVision/yolo/final/test/images/IMG_20240427_092351_jpg.rf.ab4b3a01e698935693a7d5206e1deda2.jpg: 640x640 1 Adamant_Creeper, 7.9ms\n",
            "image 1655/1917 /content/drive/MyDrive/AyushVision/yolo/final/test/images/IMG_20240427_092455_2_jpg.rf.13eb41f521f6d929cb35cc7951ce6fd0.jpg: 640x640 1 Adamant_Creeper, 8.3ms\n",
            "image 1656/1917 /content/drive/MyDrive/AyushVision/yolo/final/test/images/IMG_20240427_092458_jpg.rf.fc6fd756a11c906fb58adf29d9ac32b5.jpg: 640x640 1 Adamant_Creeper, 9.2ms\n",
            "image 1657/1917 /content/drive/MyDrive/AyushVision/yolo/final/test/images/IMG_20240427_104012_jpg.rf.f91f399c26cf8e5fd697cff1accfba0c.jpg: 640x640 1 Adamant_Creeper, 7.6ms\n",
            "image 1658/1917 /content/drive/MyDrive/AyushVision/yolo/final/test/images/IMG_20240427_104014_jpg.rf.86657a63e00c2cd7533e52cd4dc6f4c5.jpg: 640x640 1 Adamant_Creeper, 7.9ms\n",
            "image 1659/1917 /content/drive/MyDrive/AyushVision/yolo/final/test/images/IMG_20240427_104016_jpg.rf.ba4398d13ad9d08a4aef1e9dbdec322a.jpg: 640x640 1 Adamant_Creeper, 9.7ms\n",
            "image 1660/1917 /content/drive/MyDrive/AyushVision/yolo/final/test/images/IMG_20240427_104017_2_jpg.rf.d2031dce7fa2fc4d3fd6adf6088c13ea.jpg: 640x640 1 Adamant_Creeper, 7.7ms\n",
            "image 1661/1917 /content/drive/MyDrive/AyushVision/yolo/final/test/images/IMG_20240427_104018_1_jpg.rf.c636aecca24f04faf29205fe748a91a3.jpg: 640x640 1 Adamant_Creeper, 8.1ms\n",
            "image 1662/1917 /content/drive/MyDrive/AyushVision/yolo/final/test/images/IMG_20240502_171157_1_jpg.rf.9d0563c99ce99462139c61c220723f05.jpg: 640x640 1 Ringworm_plant, 8.2ms\n",
            "image 1663/1917 /content/drive/MyDrive/AyushVision/yolo/final/test/images/IMG_20240502_201636_jpg.rf.0ece81717ccab6cd8208703e3208e3f8.jpg: 640x640 1 Alovera, 1 Miracle_leaf, 8.0ms\n",
            "image 1664/1917 /content/drive/MyDrive/AyushVision/yolo/final/test/images/IMG_20240502_201928_jpg.rf.e80942ca73f9c8946ef0a9f0e482abcf.jpg: 640x640 1 Adamant_Creeper, 1 Alovera, 8.2ms\n",
            "image 1665/1917 /content/drive/MyDrive/AyushVision/yolo/final/test/images/IMG_20240504_101732_jpg.rf.9857b9f0526bdb0ed1ec9f39eefdb14e.jpg: 640x640 1 Turmeric, 8.3ms\n",
            "image 1666/1917 /content/drive/MyDrive/AyushVision/yolo/final/test/images/IMG_20240504_101742_jpg.rf.ec64fe61ca3a16004bf3c380f8414533.jpg: 640x640 1 Turmeric, 7.9ms\n",
            "image 1667/1917 /content/drive/MyDrive/AyushVision/yolo/final/test/images/IMG_20240504_101751_jpg.rf.3553456bd3aa460aa95069950b04c29b.jpg: 640x640 1 Turmeric, 8.1ms\n",
            "image 1668/1917 /content/drive/MyDrive/AyushVision/yolo/final/test/images/IMG_20240504_101858_jpg.rf.eae247428965109f42e532304cf20909.jpg: 640x640 1 Turmeric, 9.7ms\n",
            "image 1669/1917 /content/drive/MyDrive/AyushVision/yolo/final/test/images/IMG_20240504_102144_jpg.rf.5c3f2185d4f3b7c1c07e6d29a5c9f73e.jpg: 640x640 1 Turmeric, 7.5ms\n",
            "image 1670/1917 /content/drive/MyDrive/AyushVision/yolo/final/test/images/IMG_20240504_102410_jpg.rf.990a0d96fbd74e8d89675f448baa8036.jpg: 640x640 1 Turmeric, 9.9ms\n",
            "image 1671/1917 /content/drive/MyDrive/AyushVision/yolo/final/test/images/IMG_20240504_102719_jpg.rf.02410b97cd9b05e90db09853339e8ef3.jpg: 640x640 1 Turmeric, 7.9ms\n",
            "image 1672/1917 /content/drive/MyDrive/AyushVision/yolo/final/test/images/IMG_20240504_102757_jpg.rf.ac29149058ff616c44232b9e1631b370.jpg: 640x640 1 Turmeric, 7.5ms\n",
            "image 1673/1917 /content/drive/MyDrive/AyushVision/yolo/final/test/images/IMG_20240504_102827_jpg.rf.8e50433d5a4f93ef50563f785f4d361e.jpg: 640x640 1 Turmeric, 7.5ms\n",
            "image 1674/1917 /content/drive/MyDrive/AyushVision/yolo/final/test/images/IMG_20240504_102922_jpg.rf.c4036463bb9edc9337632b36cc36fd71.jpg: 640x640 1 Turmeric, 7.7ms\n",
            "image 1675/1917 /content/drive/MyDrive/AyushVision/yolo/final/test/images/IMG_20240504_102934_jpg.rf.30449276413f1a1e32f0c4dd3ec4dbb2.jpg: 640x640 2 Turmerics, 7.8ms\n",
            "image 1676/1917 /content/drive/MyDrive/AyushVision/yolo/final/test/images/IMG_20240504_103016_jpg.rf.fb1804360626f77cff7937f5e7686ea2.jpg: 640x640 1 Turmeric, 7.8ms\n",
            "image 1677/1917 /content/drive/MyDrive/AyushVision/yolo/final/test/images/IMG_20240504_103053_jpg.rf.f79031784054361548fba23b88120a10.jpg: 640x640 1 Turmeric, 7.6ms\n",
            "image 1678/1917 /content/drive/MyDrive/AyushVision/yolo/final/test/images/IMG_20240504_103408_jpg.rf.77ed983f07290f72b549036ce48efa37.jpg: 640x640 1 Turmeric, 7.7ms\n",
            "image 1679/1917 /content/drive/MyDrive/AyushVision/yolo/final/test/images/IMG_20240504_103439_jpg.rf.3359c9ee4f1bae4b06951729a1978544.jpg: 640x640 1 Turmeric, 8.1ms\n",
            "image 1680/1917 /content/drive/MyDrive/AyushVision/yolo/final/test/images/IMG_20240504_103815_jpg.rf.2d6142466d5649cc51f3f79b8e386ac4.jpg: 640x640 1 Turmeric, 1 Wild_Turmeric, 7.6ms\n",
            "image 1681/1917 /content/drive/MyDrive/AyushVision/yolo/final/test/images/IMG_20240504_103921_jpg.rf.fb5d298bee29f28e8266c2c9320e2cfa.jpg: 640x640 1 Turmeric, 8.9ms\n",
            "image 1682/1917 /content/drive/MyDrive/AyushVision/yolo/final/test/images/IMG_20240504_103923_jpg.rf.dfe8cb9603e2c2aba71cd20c4a993f7d.jpg: 640x640 1 Turmeric, 8.4ms\n",
            "image 1683/1917 /content/drive/MyDrive/AyushVision/yolo/final/test/images/IMG_20240504_104001_jpg.rf.67e6dd4cc1f4e571de443b0df89f8f12.jpg: 640x640 1 Turmeric, 9.0ms\n",
            "image 1684/1917 /content/drive/MyDrive/AyushVision/yolo/final/test/images/IMG_20240504_104059_jpg.rf.c2525995656f6696af723a8064c16d27.jpg: 640x640 4 Turmerics, 8.5ms\n",
            "image 1685/1917 /content/drive/MyDrive/AyushVision/yolo/final/test/images/IMG_20240504_104100_jpg.rf.065946d1aa2fa61361d34700298c68e4.jpg: 640x640 2 Turmerics, 7.7ms\n",
            "image 1686/1917 /content/drive/MyDrive/AyushVision/yolo/final/test/images/IMG_20240504_104108_jpg.rf.172dffdce01dc3fa415d40c50fce2a19.jpg: 640x640 1 Turmeric, 7.5ms\n",
            "image 1687/1917 /content/drive/MyDrive/AyushVision/yolo/final/test/images/IMG_20240504_104109_jpg.rf.ac0fdd3aaf83a8032571892a945711a1.jpg: 640x640 1 Turmeric, 7.8ms\n",
            "image 1688/1917 /content/drive/MyDrive/AyushVision/yolo/final/test/images/IMG_20240504_104127_jpg.rf.881bef9138b9570cc42a5a069c1e8c8f.jpg: 640x640 1 Turmeric, 7.5ms\n",
            "image 1689/1917 /content/drive/MyDrive/AyushVision/yolo/final/test/images/IMG_20240504_104159_jpg.rf.ac06d9bd0e16d6f17ddf8ceafff360bd.jpg: 640x640 1 Turmeric, 7.9ms\n",
            "image 1690/1917 /content/drive/MyDrive/AyushVision/yolo/final/test/images/IMG_20240504_104213_1_jpg.rf.0f6006e1698aecd72e0b0b5ded4de0c1.jpg: 640x640 1 Turmeric, 7.9ms\n",
            "image 1691/1917 /content/drive/MyDrive/AyushVision/yolo/final/test/images/IMG_20240504_104222_jpg.rf.70e7781dfe14f77bf90ca2a1db51cd95.jpg: 640x640 1 Long_pepper, 3 Turmerics, 7.8ms\n",
            "image 1692/1917 /content/drive/MyDrive/AyushVision/yolo/final/test/images/IMG_20240504_104244_jpg.rf.9d8a0355e96013f410a83260f5253fc9.jpg: 640x640 1 Turmeric, 7.9ms\n",
            "image 1693/1917 /content/drive/MyDrive/AyushVision/yolo/final/test/images/IMG_20240504_104245_jpg.rf.5140a29c47fe0c48479808b80b29d1ab.jpg: 640x640 1 Turmeric, 7.8ms\n",
            "image 1694/1917 /content/drive/MyDrive/AyushVision/yolo/final/test/images/IMG_20240505_093808_jpg.rf.30be4379fc9180ca8f8c3df08bf0cb06.jpg: 640x640 1 Ivy_gourd, 7.9ms\n",
            "image 1695/1917 /content/drive/MyDrive/AyushVision/yolo/final/test/images/IMG_20240505_093823_jpg.rf.fae7f0d6e21d450c67dfd36a993a0e48.jpg: 640x640 1 Oregano, 7.5ms\n",
            "image 1696/1917 /content/drive/MyDrive/AyushVision/yolo/final/test/images/IMG_20240505_093831_jpg.rf.f5fa419b841c68080d99958bbdbc1158.jpg: 640x640 1 Indian_Mallow, 7.5ms\n",
            "image 1697/1917 /content/drive/MyDrive/AyushVision/yolo/final/test/images/IMG_20240505_223529_jpg.rf.be27eec9b7e0e81ac970ef3d392fe689.jpg: 640x640 1 Vitexnegundo, 7.8ms\n",
            "image 1698/1917 /content/drive/MyDrive/AyushVision/yolo/final/test/images/IMG_20240506_095425_1_jpg.rf.d1d19bb21152295fe3705d54ca8d39be.jpg: 640x640 1 Miracle_leaf, 7.6ms\n",
            "image 1699/1917 /content/drive/MyDrive/AyushVision/yolo/final/test/images/IMG_20240506_095513_jpg.rf.b903021182ec6b76c1aa833be8c369a3.jpg: 640x640 3 Miracle_leafs, 7.7ms\n",
            "image 1700/1917 /content/drive/MyDrive/AyushVision/yolo/final/test/images/IMG_20240506_095523_1_jpg.rf.5474155fea8ded0cb0762afac73d2feb.jpg: 640x640 4 Miracle_leafs, 7.6ms\n",
            "image 1701/1917 /content/drive/MyDrive/AyushVision/yolo/final/test/images/IMG_20240506_095528_jpg.rf.f55eb709cbb2f1693cc07dd3a2c674a6.jpg: 640x640 1 Miracle_leaf, 7.5ms\n",
            "image 1702/1917 /content/drive/MyDrive/AyushVision/yolo/final/test/images/IMG_20240506_095532_jpg.rf.d36e2672d38de707491db308fff61670.jpg: 640x640 3 Miracle_leafs, 7.8ms\n",
            "image 1703/1917 /content/drive/MyDrive/AyushVision/yolo/final/test/images/IMG_20240506_095534_1_jpg.rf.64402538a62e90efa7dc6f74270da289.jpg: 640x640 3 Miracle_leafs, 7.7ms\n",
            "image 1704/1917 /content/drive/MyDrive/AyushVision/yolo/final/test/images/IMG_20240506_095535_jpg.rf.88594e68d4204304c294e991f41b2c6b.jpg: 640x640 2 Miracle_leafs, 8.3ms\n",
            "image 1705/1917 /content/drive/MyDrive/AyushVision/yolo/final/test/images/IMG_20240506_095537_jpg.rf.997e9e61d5b49e5928ce7c8970646649.jpg: 640x640 1 Miracle_leaf, 7.7ms\n",
            "image 1706/1917 /content/drive/MyDrive/AyushVision/yolo/final/test/images/IMG_20240506_095612_3_jpg.rf.5b2a4788459d4155a8f22ad68577a757.jpg: 640x640 2 Miracle_leafs, 7.6ms\n",
            "image 1707/1917 /content/drive/MyDrive/AyushVision/yolo/final/test/images/IMG_20240506_095612_jpg.rf.e3b8d3952aff0b98f8dda918b8fd7482.jpg: 640x640 1 Miracle_leaf, 7.5ms\n",
            "image 1708/1917 /content/drive/MyDrive/AyushVision/yolo/final/test/images/IMG_20240506_095619_1_jpg.rf.9fc0ad5597343c09d8f9abdc0c011811.jpg: 640x640 1 Miracle_leaf, 7.5ms\n",
            "image 1709/1917 /content/drive/MyDrive/AyushVision/yolo/final/test/images/IMG_20240506_095634_2_jpg.rf.41e272db324ddb6673acdd0bb743dea9.jpg: 640x640 1 Turmeric, 7.7ms\n",
            "image 1710/1917 /content/drive/MyDrive/AyushVision/yolo/final/test/images/IMG_20240506_100359_jpg.rf.d748b314c33d5835a53e93fde6241d38.jpg: 640x640 3 Miracle_leafs, 7.5ms\n",
            "image 1711/1917 /content/drive/MyDrive/AyushVision/yolo/final/test/images/IMG_20240506_100400_jpg.rf.cc8baf8effcf2579c3b5db20ea83360c.jpg: 640x640 3 Miracle_leafs, 7.6ms\n",
            "image 1712/1917 /content/drive/MyDrive/AyushVision/yolo/final/test/images/IMG_20240506_1004089_jpg.rf.cd4acf2a3fc373c67b44a345668a55d9.jpg: 640x640 1 Miracle_leaf, 7.5ms\n",
            "image 1713/1917 /content/drive/MyDrive/AyushVision/yolo/final/test/images/IMG_20240506_100416_jpg.rf.7f28575981b8e02f34620bd301f056b2.jpg: 640x640 2 Miracle_leafs, 7.7ms\n",
            "image 1714/1917 /content/drive/MyDrive/AyushVision/yolo/final/test/images/IMG_20240506_100556_jpg.rf.3eaa2ce376789e8ef3c48da283e82327.jpg: 640x640 2 Miracle_leafs, 8.0ms\n",
            "image 1715/1917 /content/drive/MyDrive/AyushVision/yolo/final/test/images/IMG_20240506_100641_jpg.rf.f2178adbafd701da89332116fc69168f.jpg: 640x640 2 Miracle_leafs, 7.6ms\n",
            "image 1716/1917 /content/drive/MyDrive/AyushVision/yolo/final/test/images/IMG_20240506_100645_jpg.rf.952e0137fe04bb914cf16901a8d25ea9.jpg: 640x640 1 Miracle_leaf, 7.5ms\n",
            "image 1717/1917 /content/drive/MyDrive/AyushVision/yolo/final/test/images/IMG_20240506_100703_jpg.rf.45d0e99e1d094d07a4bb3c476f5d4cc2.jpg: 640x640 1 Miracle_leaf, 7.7ms\n",
            "image 1718/1917 /content/drive/MyDrive/AyushVision/yolo/final/test/images/IMG_20240506_100706_1_jpg.rf.a76751b287b6a6e37b06ba43b67805f0.jpg: 640x640 1 Miracle_leaf, 7.8ms\n",
            "image 1719/1917 /content/drive/MyDrive/AyushVision/yolo/final/test/images/IMG_20240506_100707_jpg.rf.ffb6972952bc6dc0f5a5f729655c787f.jpg: 640x640 2 Miracle_leafs, 7.8ms\n",
            "image 1720/1917 /content/drive/MyDrive/AyushVision/yolo/final/test/images/IMG_20240506_100805_jpg.rf.76c56f54a5dd2e898ac11ca84d58655f.jpg: 640x640 2 Miracle_leafs, 8.8ms\n",
            "image 1721/1917 /content/drive/MyDrive/AyushVision/yolo/final/test/images/IMG_20240506_100949_jpg.rf.6fa4199446ba05f611069c892bb35a7a.jpg: 640x640 1 Miracle_leaf, 7.9ms\n",
            "image 1722/1917 /content/drive/MyDrive/AyushVision/yolo/final/test/images/IMG_20240506_100956_jpg.rf.ede09a942f40963a49c97ba0c9eac5ec.jpg: 640x640 3 Miracle_leafs, 8.2ms\n",
            "image 1723/1917 /content/drive/MyDrive/AyushVision/yolo/final/test/images/IMG_20240506_101000_jpg.rf.c22e4084b80cbab6e9a58daff8907b50.jpg: 640x640 1 Miracle_leaf, 7.5ms\n",
            "image 1724/1917 /content/drive/MyDrive/AyushVision/yolo/final/test/images/IMG_20240506_101001_1_jpg.rf.d557f8e5f3d23a044b70be7bce42beed.jpg: 640x640 1 Miracle_leaf, 8.2ms\n",
            "image 1725/1917 /content/drive/MyDrive/AyushVision/yolo/final/test/images/IMG_20240506_101038_jpg.rf.525bcb40d2f583408c14d9d256e5cdf9.jpg: 640x640 3 Miracle_leafs, 7.7ms\n",
            "image 1726/1917 /content/drive/MyDrive/AyushVision/yolo/final/test/images/IMG_20240506_101042_2_jpg.rf.aa17e6e88e4b8e1dda99377ff8b9647c.jpg: 640x640 1 Miracle_leaf, 7.5ms\n",
            "image 1727/1917 /content/drive/MyDrive/AyushVision/yolo/final/test/images/IMG_20240506_101044_jpg.rf.500ed7018ea9e0d27742cafade54e365.jpg: 640x640 1 Miracle_leaf, 7.7ms\n",
            "image 1728/1917 /content/drive/MyDrive/AyushVision/yolo/final/test/images/IMG_20240506_103838_jpg.rf.4bc55c59b07a84dcd1cb99d4254e5c56.jpg: 640x640 1 Ringworm_plant, 7.7ms\n",
            "image 1729/1917 /content/drive/MyDrive/AyushVision/yolo/final/test/images/IMG_20240506_103906_jpg.rf.0ff449ecd96f719ffe268cc562180dd9.jpg: 640x640 1 Ringworm_plant, 8.0ms\n",
            "image 1730/1917 /content/drive/MyDrive/AyushVision/yolo/final/test/images/IMG_20240506_103924_jpg.rf.a5f74406a6822a26f3427880348d9e68.jpg: 640x640 1 Ringworm_plant, 7.6ms\n",
            "image 1731/1917 /content/drive/MyDrive/AyushVision/yolo/final/test/images/IMG_20240506_103934_jpg.rf.cc26b956d88d2372493048034173bf4d.jpg: 640x640 1 Ringworm_plant, 7.6ms\n",
            "image 1732/1917 /content/drive/MyDrive/AyushVision/yolo/final/test/images/IMG_20240506_103951_jpg.rf.340e3392029b37b75884cf09ef499b7a.jpg: 640x640 1 Ringworm_plant, 7.7ms\n",
            "image 1733/1917 /content/drive/MyDrive/AyushVision/yolo/final/test/images/IMG_20240506_103954_1_jpg.rf.00863d09d39fc5ef49b5979f4c81b776.jpg: 640x640 1 Ringworm_plant, 7.8ms\n",
            "image 1734/1917 /content/drive/MyDrive/AyushVision/yolo/final/test/images/IMG_20240506_104101_jpg.rf.daa1be12279105b981b341cd9198c77a.jpg: 640x640 2 Ringworm_plants, 7.9ms\n",
            "image 1735/1917 /content/drive/MyDrive/AyushVision/yolo/final/test/images/IMG_20240506_104119_jpg.rf.f79988090f16e3b240b319e7a56085cb.jpg: 640x640 1 Ringworm_plant, 8.1ms\n",
            "image 1736/1917 /content/drive/MyDrive/AyushVision/yolo/final/test/images/IMG_20240506_105703_1_jpg.rf.9522b1d9a5ec9fd9991da0c4fd1cd69a.jpg: 640x640 1 Thornapple, 7.7ms\n",
            "image 1737/1917 /content/drive/MyDrive/AyushVision/yolo/final/test/images/IMG_20240506_105704_jpg.rf.a4876b8018c68d2e182c1f3ff97e9c4b.jpg: 640x640 2 Thornapples, 7.6ms\n",
            "image 1738/1917 /content/drive/MyDrive/AyushVision/yolo/final/test/images/IMG_20240506_105727_jpg.rf.14ec57f3f92174eca0be8225f1ed3826.jpg: 640x640 1 Thornapple, 7.7ms\n",
            "image 1739/1917 /content/drive/MyDrive/AyushVision/yolo/final/test/images/IMG_20240506_105740_1_jpg.rf.fec3aaff71213a889b5b4426fbdfcb1f.jpg: 640x640 1 Thornapple, 8.0ms\n",
            "image 1740/1917 /content/drive/MyDrive/AyushVision/yolo/final/test/images/IMG_20240506_105741_jpg.rf.d5db93f1f6f88d50ae812bd5289a4fc6.jpg: 640x640 1 Thornapple, 7.5ms\n",
            "image 1741/1917 /content/drive/MyDrive/AyushVision/yolo/final/test/images/IMG_20240506_105800_2_jpg.rf.a1b311164f035886cb8150799cd72cc1.jpg: 640x640 1 Thornapple, 8.8ms\n",
            "image 1742/1917 /content/drive/MyDrive/AyushVision/yolo/final/test/images/IMG_20240506_105825_1_jpg.rf.cc3d283e5fac6b67348b679dc1e3d71c.jpg: 640x640 1 Hibiscus, 1 Thornapple, 7.9ms\n",
            "image 1743/1917 /content/drive/MyDrive/AyushVision/yolo/final/test/images/IMG_20240506_105905_jpg.rf.b17b12572976dc83a67d313479b53135.jpg: 640x640 1 Thornapple, 7.7ms\n",
            "image 1744/1917 /content/drive/MyDrive/AyushVision/yolo/final/test/images/IMG_20240506_105908_jpg.rf.7615e572a235f0bd01597c47347b02b0.jpg: 640x640 1 Thornapple, 7.7ms\n",
            "image 1745/1917 /content/drive/MyDrive/AyushVision/yolo/final/test/images/IMG_20240506_105909_jpg.rf.d1ca768f89a972ebd381e9755e0b4d6e.jpg: 640x640 1 Thornapple, 7.5ms\n",
            "image 1746/1917 /content/drive/MyDrive/AyushVision/yolo/final/test/images/IMG_20240506_105912_1_jpg.rf.88cb9767eb46dee69bb1550ac28842ca.jpg: 640x640 1 Thornapple, 7.5ms\n",
            "image 1747/1917 /content/drive/MyDrive/AyushVision/yolo/final/test/images/IMG_20240506_105915_jpg.rf.1843c113cff645d4ce454d4b4bc20b6f.jpg: 640x640 1 Thornapple, 7.8ms\n",
            "image 1748/1917 /content/drive/MyDrive/AyushVision/yolo/final/test/images/IMG_20240506_105938_jpg.rf.8ffb0a45aecfe76dffd5176b7b3ad2a6.jpg: 640x640 1 Thornapple, 7.9ms\n",
            "image 1749/1917 /content/drive/MyDrive/AyushVision/yolo/final/test/images/IMG_20240506_105939_jpg.rf.2de740aaf33356f5462db6bd5703dbd2.jpg: 640x640 1 Thornapple, 7.5ms\n",
            "image 1750/1917 /content/drive/MyDrive/AyushVision/yolo/final/test/images/IMG_20240506_105940_1_jpg.rf.695cea67cef180aa270f3c18fbb79c20.jpg: 640x640 1 Thornapple, 7.5ms\n",
            "image 1751/1917 /content/drive/MyDrive/AyushVision/yolo/final/test/images/IMG_20240506_110031_jpg.rf.05452f8ebb85f8756b609aa7b86c8e3a.jpg: 640x640 1 Thornapple, 7.5ms\n",
            "image 1752/1917 /content/drive/MyDrive/AyushVision/yolo/final/test/images/IMG_20240506_110043_2_jpg.rf.5487fc0c746f8479bd55eb3372b188bb.jpg: 640x640 1 Thornapple, 7.5ms\n",
            "image 1753/1917 /content/drive/MyDrive/AyushVision/yolo/final/test/images/IMG_20240506_110044_jpg.rf.67f93fbb25d0c507dd8b0a9d5046c060.jpg: 640x640 1 Thornapple, 8.0ms\n",
            "image 1754/1917 /content/drive/MyDrive/AyushVision/yolo/final/test/images/IMG_20240506_110324_jpg.rf.1d801ecc1ae71515ebb1649ca9b0be33.jpg: 640x640 (no detections), 7.6ms\n",
            "image 1755/1917 /content/drive/MyDrive/AyushVision/yolo/final/test/images/IMG_20240506_110338_jpg.rf.a9b8c32a05190c0b61c6bba3ad59ce7b.jpg: 640x640 1 Thornapple, 7.5ms\n",
            "image 1756/1917 /content/drive/MyDrive/AyushVision/yolo/final/test/images/IMG_20240506_110340_jpg.rf.b63cdb7e8dc449a1106da659c1c57e30.jpg: 640x640 1 Thornapple, 7.9ms\n",
            "image 1757/1917 /content/drive/MyDrive/AyushVision/yolo/final/test/images/IMG_20240506_110405_jpg.rf.29ce84fd494ad3bc0ded0bb364adaeb7.jpg: 640x640 1 Thornapple, 7.9ms\n",
            "image 1758/1917 /content/drive/MyDrive/AyushVision/yolo/final/test/images/IMG_20240506_110438_jpg.rf.5d27c6e7b8a5abdbe90e82e5d23c94ac.jpg: 640x640 1 Thornapple, 8.1ms\n",
            "image 1759/1917 /content/drive/MyDrive/AyushVision/yolo/final/test/images/IMG_20240506_110500_jpg.rf.795c04281a6af4d7733d7e75685a4485.jpg: 640x640 1 Thornapple, 9.8ms\n",
            "image 1760/1917 /content/drive/MyDrive/AyushVision/yolo/final/test/images/IMG_20240506_110546_jpg.rf.69513b15fcd0042f383ebbc1013306a1.jpg: 640x640 1 Thornapple, 7.7ms\n",
            "image 1761/1917 /content/drive/MyDrive/AyushVision/yolo/final/test/images/IMG_20240506_110548_1_jpg.rf.c2f20843a0ec12eb47d3bded496bca04.jpg: 640x640 1 Thornapple, 7.6ms\n",
            "image 1762/1917 /content/drive/MyDrive/AyushVision/yolo/final/test/images/IMG_20240506_110613_1_jpg.rf.744c4a71b682a535b24cdab210a418c1.jpg: 640x640 1 Thornapple, 7.7ms\n",
            "image 1763/1917 /content/drive/MyDrive/AyushVision/yolo/final/test/images/IMG_20240506_110613_jpg.rf.f3ce6e29d9db30769962922f634e45e3.jpg: 640x640 1 Thornapple, 7.9ms\n",
            "image 1764/1917 /content/drive/MyDrive/AyushVision/yolo/final/test/images/IMG_20240506_110620_jpg.rf.306dccc57aa5f635d4a04f2117c52d02.jpg: 640x640 1 Thornapple, 7.8ms\n",
            "image 1765/1917 /content/drive/MyDrive/AyushVision/yolo/final/test/images/IMG_20240506_110624_1_jpg.rf.ca06c2c087951ac41b1b0029b18d4b4a.jpg: 640x640 1 Thornapple, 7.9ms\n",
            "image 1766/1917 /content/drive/MyDrive/AyushVision/yolo/final/test/images/IMG_20240506_110624_jpg.rf.d21736d84abce702dce91f0a203880d6.jpg: 640x640 1 Thornapple, 7.9ms\n",
            "image 1767/1917 /content/drive/MyDrive/AyushVision/yolo/final/test/images/IMG_20240506_110638_jpg.rf.d600a5b35f37e74764f4e01ddc492b02.jpg: 640x640 1 Thornapple, 7.5ms\n",
            "image 1768/1917 /content/drive/MyDrive/AyushVision/yolo/final/test/images/IMG_20240506_110642_jpg.rf.ad2b87bda1055b8e08884feaf2430ced.jpg: 640x640 1 Thornapple, 7.9ms\n",
            "image 1769/1917 /content/drive/MyDrive/AyushVision/yolo/final/test/images/IMG_20240506_110654_jpg.rf.98d40c9f1d05cf0337c276b59cca6f14.jpg: 640x640 1 Thornapple, 7.6ms\n",
            "image 1770/1917 /content/drive/MyDrive/AyushVision/yolo/final/test/images/IMG_20240506_110656_jpg.rf.0451d8bd92101201a6248f4e031f6904.jpg: 640x640 1 Thornapple, 8.0ms\n",
            "image 1771/1917 /content/drive/MyDrive/AyushVision/yolo/final/test/images/IMG_20240506_110717_jpg.rf.a72d5b1d3c21d37d907137ecf265d384.jpg: 640x640 1 Thornapple, 7.6ms\n",
            "image 1772/1917 /content/drive/MyDrive/AyushVision/yolo/final/test/images/IMG_20240506_110721_jpg.rf.750dee8d82ec38ee795d545615cb0d52.jpg: 640x640 1 Thornapple, 8.4ms\n",
            "image 1773/1917 /content/drive/MyDrive/AyushVision/yolo/final/test/images/IMG_20240506_110731_jpg.rf.39547366d2550f5bbf7351f1e6407332.jpg: 640x640 1 Thornapple, 7.9ms\n",
            "image 1774/1917 /content/drive/MyDrive/AyushVision/yolo/final/test/images/IMG_20240506_110739_jpg.rf.eba9a78494edeaa39de524899685161c.jpg: 640x640 1 Thornapple, 7.7ms\n",
            "image 1775/1917 /content/drive/MyDrive/AyushVision/yolo/final/test/images/IMG_20240506_110740_jpg.rf.3fb638fb59cd4b9c22fa70ac98131eeb.jpg: 640x640 1 Thornapple, 7.5ms\n",
            "image 1776/1917 /content/drive/MyDrive/AyushVision/yolo/final/test/images/IMG_20240506_110745_jpg.rf.483cdd2f6a0e8e9bf1ab8a6d15dd4584.jpg: 640x640 2 Thornapples, 8.0ms\n",
            "image 1777/1917 /content/drive/MyDrive/AyushVision/yolo/final/test/images/IMG_20240506_110756_jpg.rf.a8a9ba594c7fafd9393fb8301cdfddb6.jpg: 640x640 1 Thornapple, 7.7ms\n",
            "image 1778/1917 /content/drive/MyDrive/AyushVision/yolo/final/test/images/IMG_20240506_110811_jpg.rf.460a6b9cd05837ecae1712e6988da25f.jpg: 640x640 1 Thornapple, 7.7ms\n",
            "image 1779/1917 /content/drive/MyDrive/AyushVision/yolo/final/test/images/IMG_20240506_110821_jpg.rf.80ef160324b5d25d7ca3516e4c9d2a2d.jpg: 640x640 1 Thornapple, 7.5ms\n",
            "image 1780/1917 /content/drive/MyDrive/AyushVision/yolo/final/test/images/IMG_20240506_110822_jpg.rf.2ce2d8bab617690addd45e79db78541f.jpg: 640x640 2 Thornapples, 8.2ms\n",
            "image 1781/1917 /content/drive/MyDrive/AyushVision/yolo/final/test/images/IMG_20240506_110837_jpg.rf.daff3c402bc3ba6ef56e111a16fb71fd.jpg: 640x640 1 Thornapple, 7.5ms\n",
            "image 1782/1917 /content/drive/MyDrive/AyushVision/yolo/final/test/images/IMG_20240506_110839_jpg.rf.a36c6ae1d3c26d28f3538b9b0d322474.jpg: 640x640 1 Thornapple, 7.5ms\n",
            "image 1783/1917 /content/drive/MyDrive/AyushVision/yolo/final/test/images/IMG_20240506_110842_jpg.rf.34808243fbe88d750ed7b6834e68a371.jpg: 640x640 1 Thornapple, 7.9ms\n",
            "image 1784/1917 /content/drive/MyDrive/AyushVision/yolo/final/test/images/IMG_20240506_110910_jpg.rf.0b94abed3f42576c16320ae108d071c6.jpg: 640x640 1 Thornapple, 7.5ms\n",
            "image 1785/1917 /content/drive/MyDrive/AyushVision/yolo/final/test/images/IMG_20240506_110912_1_jpg.rf.bc3e5fb6a956692561d6d75d70dd6cde.jpg: 640x640 1 Thornapple, 7.6ms\n",
            "image 1786/1917 /content/drive/MyDrive/AyushVision/yolo/final/test/images/IMG_20240508_080117_jpg.rf.a0a779c0cf720d04194da38e99875804.jpg: 640x640 1 Mountain_Knotgrass, 7.5ms\n",
            "image 1787/1917 /content/drive/MyDrive/AyushVision/yolo/final/test/images/IMG_20240508_080403_jpg.rf.3973b2d0396c1cb9000277eb9d8c3603.jpg: 640x640 1 Mountain_Knotgrass, 7.6ms\n",
            "image 1788/1917 /content/drive/MyDrive/AyushVision/yolo/final/test/images/IMG_20240508_080559_jpg.rf.3027aef2c46db285dcc83273653b2f6f.jpg: 640x640 1 Mountain_Knotgrass, 7.7ms\n",
            "image 1789/1917 /content/drive/MyDrive/AyushVision/yolo/final/test/images/IMG_20240508_081220_jpg.rf.a9d2a5f3ccda035cc6d81828a04d1dba.jpg: 640x640 (no detections), 7.5ms\n",
            "image 1790/1917 /content/drive/MyDrive/AyushVision/yolo/final/test/images/IMG_20240508_081514_jpg.rf.89df94cb76cf569a8c6216bca4cf5d6a.jpg: 640x640 1 Mountain_Knotgrass, 7.5ms\n",
            "image 1791/1917 /content/drive/MyDrive/AyushVision/yolo/final/test/images/IMG_20240508_081916_jpg.rf.8f9c13ce584c446ae51abd0d7a79fc7c.jpg: 640x640 1 Mountain_Knotgrass, 8.0ms\n",
            "image 1792/1917 /content/drive/MyDrive/AyushVision/yolo/final/test/images/IMG_20240509_13270390_jpg.rf.a21cdce2ea9a8b4968c3cb7508a2274e.jpg: 640x640 1 Neem, 7.7ms\n",
            "image 1793/1917 /content/drive/MyDrive/AyushVision/yolo/final/test/images/IMG_20240509_132726_jpg.rf.b39899ea06e870c7d162369430b18519.jpg: 640x640 1 Neem, 10.4ms\n",
            "image 1794/1917 /content/drive/MyDrive/AyushVision/yolo/final/test/images/IMG_20240509_132737_jpg.rf.69a77d8089deaa849d648ff085e94abd.jpg: 640x640 1 Neem, 9.7ms\n",
            "image 1795/1917 /content/drive/MyDrive/AyushVision/yolo/final/test/images/IMG_20240509_132738_jpg.rf.d01e2480f6f7cc05fa7626c032b0dbe0.jpg: 640x640 2 Neems, 9.0ms\n",
            "image 1796/1917 /content/drive/MyDrive/AyushVision/yolo/final/test/images/IMG_20240509_132739_jpg.rf.cc8a7b22d8e28cefbd365d52933b50f6.jpg: 640x640 1 Neem, 7.9ms\n",
            "image 1797/1917 /content/drive/MyDrive/AyushVision/yolo/final/test/images/IMG_20240509_132743_jpg.rf.92c6c5970fed4a7ba25e1607fb8b09d9.jpg: 640x640 1 Neem, 7.6ms\n",
            "image 1798/1917 /content/drive/MyDrive/AyushVision/yolo/final/test/images/IMG_20240509_132859_jpg.rf.a1238fd1ac912596086fb1837b943362.jpg: 640x640 1 Neem, 8.0ms\n",
            "image 1799/1917 /content/drive/MyDrive/AyushVision/yolo/final/test/images/IMG_20240509_133210_jpg.rf.e4f6b5a1a465657758d34e153b922e94.jpg: 640x640 1 Neem, 9.0ms\n",
            "image 1800/1917 /content/drive/MyDrive/AyushVision/yolo/final/test/images/IMG_20240606_171854_jpg.rf.ae9c71bb1595001873a8356768a495bc.jpg: 640x640 1 Ringworm_plant, 7.9ms\n",
            "image 1801/1917 /content/drive/MyDrive/AyushVision/yolo/final/test/images/IMG_20240606_171855_jpg.rf.cd51ec1d61269ab8c031f6d836d50c2f.jpg: 640x640 1 Ringworm_plant, 7.5ms\n",
            "image 1802/1917 /content/drive/MyDrive/AyushVision/yolo/final/test/images/IMG_20240606_171900_jpg.rf.bdbb458bb5be69caae63b07d4814b160.jpg: 640x640 1 Ringworm_plant, 7.5ms\n",
            "image 1803/1917 /content/drive/MyDrive/AyushVision/yolo/final/test/images/IMG_20240606_171942_jpg.rf.c3a1ffcabe4f03224258d3d1dc3df563.jpg: 640x640 1 Ringworm_plant, 7.9ms\n",
            "image 1804/1917 /content/drive/MyDrive/AyushVision/yolo/final/test/images/IMG_20240606_172043_jpg.rf.5321dd138f716c1693dd73e9f111f7bc.jpg: 640x640 1 Ringworm_plant, 8.0ms\n",
            "image 1805/1917 /content/drive/MyDrive/AyushVision/yolo/final/test/images/IMG_20240606_172110_jpg.rf.a22fd83739562a9ef92e60d7b5ce3ac5.jpg: 640x640 1 Ringworm_plant, 8.0ms\n",
            "image 1806/1917 /content/drive/MyDrive/AyushVision/yolo/final/test/images/IMG_20240606_172128_jpg.rf.6e9c27ac035ce891a50beec22834b4dd.jpg: 640x640 1 Ringworm_plant, 7.9ms\n",
            "image 1807/1917 /content/drive/MyDrive/AyushVision/yolo/final/test/images/IMG_20240606_172157_1_jpg.rf.d7b6cc833342d00632af669da1457bfa.jpg: 640x640 1 Ringworm_plant, 7.9ms\n",
            "image 1808/1917 /content/drive/MyDrive/AyushVision/yolo/final/test/images/IMG_20240606_172618_jpg.rf.35a8951e77f6b7ba1cad914a5a2b8eb8.jpg: 640x640 1 Ringworm_plant, 7.8ms\n",
            "image 1809/1917 /content/drive/MyDrive/AyushVision/yolo/final/test/images/IMG_20240606_172626_jpg.rf.0406c2e549d66809c880aa94f607d463.jpg: 640x640 1 Ringworm_plant, 7.6ms\n",
            "image 1810/1917 /content/drive/MyDrive/AyushVision/yolo/final/test/images/IMG_20240606_172634_1_jpg.rf.e5c779ade3cdb9e472e386b1a3535e82.jpg: 640x640 1 Ringworm_plant, 8.1ms\n",
            "image 1811/1917 /content/drive/MyDrive/AyushVision/yolo/final/test/images/IMG_20240606_172640_jpg.rf.17de8aca92410619414d480a4c5dd745.jpg: 640x640 2 Ringworm_plants, 8.0ms\n",
            "image 1812/1917 /content/drive/MyDrive/AyushVision/yolo/final/test/images/IMG_20240606_172705_jpg.rf.9eb7bb74fbaebfa96acb2caae9a4a8e7.jpg: 640x640 3 Ringworm_plants, 7.6ms\n",
            "image 1813/1917 /content/drive/MyDrive/AyushVision/yolo/final/test/images/IMG_20240606_172707_jpg.rf.624aac268d99c836fac621165a0f58c8.jpg: 640x640 1 Ringworm_plant, 7.8ms\n",
            "image 1814/1917 /content/drive/MyDrive/AyushVision/yolo/final/test/images/IMG_20240606_172717_jpg.rf.f604932bd6d183f8fece295635692bf6.jpg: 640x640 1 Ringworm_plant, 9.3ms\n",
            "image 1815/1917 /content/drive/MyDrive/AyushVision/yolo/final/test/images/IMG_20240606_172735_jpg.rf.e444a54b73ff639099fca2c6ed0eef73.jpg: 640x640 1 Ringworm_plant, 7.5ms\n",
            "image 1816/1917 /content/drive/MyDrive/AyushVision/yolo/final/test/images/IMG_20240606_172754_jpg.rf.ff75faa07e99890200aa125afb8e49ba.jpg: 640x640 1 Neem, 1 Ringworm_plant, 8.1ms\n",
            "image 1817/1917 /content/drive/MyDrive/AyushVision/yolo/final/test/images/IMG_20240606_172810_jpg.rf.5a48157d3fd1099e3e9c7b972860da15.jpg: 640x640 1 Ringworm_plant, 7.6ms\n",
            "image 1818/1917 /content/drive/MyDrive/AyushVision/yolo/final/test/images/IMG_20240606_172817_jpg.rf.f8d8b348789ce2eed6e5525802b584f7.jpg: 640x640 1 Ringworm_plant, 7.7ms\n",
            "image 1819/1917 /content/drive/MyDrive/AyushVision/yolo/final/test/images/IMG_20240606_172903_jpg.rf.5d310f606e6dbd06c764cb24ce16ae52.jpg: 640x640 1 Ringworm_plant, 7.5ms\n",
            "image 1820/1917 /content/drive/MyDrive/AyushVision/yolo/final/test/images/IMG_20240606_172915_jpg.rf.d3c77584ce1fcc0986b0675341945851.jpg: 640x640 1 Ringworm_plant, 7.5ms\n",
            "image 1821/1917 /content/drive/MyDrive/AyushVision/yolo/final/test/images/IMG_20240606_172926_jpg.rf.74524ca9fd2e1c147efc84e3ffdfae49.jpg: 640x640 1 Ringworm_plant, 7.7ms\n",
            "image 1822/1917 /content/drive/MyDrive/AyushVision/yolo/final/test/images/IMG_20240606_172932_jpg.rf.07742640cb09a5d77d82d7a45d77724f.jpg: 640x640 1 Ringworm_plant, 7.5ms\n",
            "image 1823/1917 /content/drive/MyDrive/AyushVision/yolo/final/test/images/IMG_20240606_172952_jpg.rf.8c170d7f1310ea8343e32a5bd71a4619.jpg: 640x640 1 Ringworm_plant, 7.6ms\n",
            "image 1824/1917 /content/drive/MyDrive/AyushVision/yolo/final/test/images/IMG_20240606_173004_1_jpg.rf.933ef0860aae0804e4ce5196f23163ac.jpg: 640x640 1 Ringworm_plant, 7.8ms\n",
            "image 1825/1917 /content/drive/MyDrive/AyushVision/yolo/final/test/images/IMG_20240606_173037_jpg.rf.6746dfb30839a42732d2ecb28053bdfc.jpg: 640x640 (no detections), 7.6ms\n",
            "image 1826/1917 /content/drive/MyDrive/AyushVision/yolo/final/test/images/IMG_20240606_173054_jpg.rf.84d4f7e91787d71e578f47b5101164bd.jpg: 640x640 1 Ringworm_plant, 8.0ms\n",
            "image 1827/1917 /content/drive/MyDrive/AyushVision/yolo/final/test/images/IMG_20240606_173058_1_jpg.rf.bc559710f1e87794d34942abd78c7824.jpg: 640x640 1 Ringworm_plant, 7.6ms\n",
            "image 1828/1917 /content/drive/MyDrive/AyushVision/yolo/final/test/images/IMG_20240606_173120_jpg.rf.347bafa34c343d3457d2af6d1b931c83.jpg: 640x640 1 Calotropis_gigantea, 1 Ringworm_plant, 7.5ms\n",
            "image 1829/1917 /content/drive/MyDrive/AyushVision/yolo/final/test/images/IMG_20240606_173122_1_jpg.rf.18c624c8b3402b726b77c8030f4bfa7c.jpg: 640x640 1 Ringworm_plant, 7.9ms\n",
            "image 1830/1917 /content/drive/MyDrive/AyushVision/yolo/final/test/images/IMG_20240610_095511_jpg.rf.5f93d3f4a90a17ec6b327585592576a7.jpg: 640x640 (no detections), 7.6ms\n",
            "image 1831/1917 /content/drive/MyDrive/AyushVision/yolo/final/test/images/IMG_20240610_095916_jpg.rf.9fb283981a627894c5a5a1158af0af32.jpg: 640x640 1 Calotropis_gigantea, 8.7ms\n",
            "image 1832/1917 /content/drive/MyDrive/AyushVision/yolo/final/test/images/IMG_20240610_100122_jpg.rf.cd43769a1cab68ef44eb32b894cc9da5.jpg: 640x640 2 Calotropis_giganteas, 7.6ms\n",
            "image 1833/1917 /content/drive/MyDrive/AyushVision/yolo/final/test/images/IMG_20240610_100127_jpg.rf.b2c9796ab565d8a274203b5e58f0cd13.jpg: 640x640 1 Calotropis_gigantea, 7.5ms\n",
            "image 1834/1917 /content/drive/MyDrive/AyushVision/yolo/final/test/images/IMG_20240610_100153_1_jpg.rf.51fc20aedff93d68d9a5f9b5de5b9c34.jpg: 640x640 1 Calotropis_gigantea, 7.9ms\n",
            "image 1835/1917 /content/drive/MyDrive/AyushVision/yolo/final/test/images/IMG_20240615_181410_jpg.rf.a707fb89745faa75900ede8f9c0c5acd.jpg: 640x640 1 Hibiscus, 7.9ms\n",
            "image 1836/1917 /content/drive/MyDrive/AyushVision/yolo/final/test/images/IMG_20240615_181423_jpg.rf.742855721b298781e8381031b5bfaf14.jpg: 640x640 1 Hibiscus, 9.7ms\n",
            "image 1837/1917 /content/drive/MyDrive/AyushVision/yolo/final/test/images/IMG_20240615_181513_1_jpg.rf.36d89d677d92f311a94e892e2371d483.jpg: 640x640 1 Hibiscus, 8.1ms\n",
            "image 1838/1917 /content/drive/MyDrive/AyushVision/yolo/final/test/images/IMG_20240615_181633_jpg.rf.d6b8c5e8e87796a606ba6d0f619f6a86.jpg: 640x640 1 Hibiscus, 8.0ms\n",
            "image 1839/1917 /content/drive/MyDrive/AyushVision/yolo/final/test/images/IMG_20240615_181634_jpg.rf.f6a435bb49003072a39470ea1593640e.jpg: 640x640 2 Hibiscuss, 8.0ms\n",
            "image 1840/1917 /content/drive/MyDrive/AyushVision/yolo/final/test/images/IMG_20240615_181643_jpg.rf.7422e6ed333f8765542de99f1cf097a2.jpg: 640x640 1 Hibiscus, 8.1ms\n",
            "image 1841/1917 /content/drive/MyDrive/AyushVision/yolo/final/test/images/IMG_20240615_181722_jpg.rf.27de831a796df55de19055eb383bfa56.jpg: 640x640 1 Hibiscus, 7.8ms\n",
            "image 1842/1917 /content/drive/MyDrive/AyushVision/yolo/final/test/images/IMG_20240615_181801_jpg.rf.3d42d28fb0abfc566e0884d4cf85b1d6.jpg: 640x640 1 Hibiscus, 7.9ms\n",
            "image 1843/1917 /content/drive/MyDrive/AyushVision/yolo/final/test/images/IMG_20240616_170620_jpg.rf.c8857d73b525570f1579faeae38c9c7f.jpg: 640x640 1 Calotropis_gigantea, 8.0ms\n",
            "image 1844/1917 /content/drive/MyDrive/AyushVision/yolo/final/test/images/IMG_20240616_171106_jpg.rf.e5cd355d2c71b52deafab97c7a52df9a.jpg: 640x640 1 Calotropis_gigantea, 7.7ms\n",
            "image 1845/1917 /content/drive/MyDrive/AyushVision/yolo/final/test/images/IMG_20240616_171108_jpg.rf.08fa4fe655e9275571d4c227279ce024.jpg: 640x640 1 Calotropis_gigantea, 7.7ms\n",
            "image 1846/1917 /content/drive/MyDrive/AyushVision/yolo/final/test/images/IMG_20240616_171110_jpg.rf.90c02cf870007f8b9cb9bbf35ceb86a5.jpg: 640x640 1 Calotropis_gigantea, 8.2ms\n",
            "image 1847/1917 /content/drive/MyDrive/AyushVision/yolo/final/test/images/IMG_20240616_171136_1_jpg.rf.acd756e328d48c0d0eb72cddd6c6e072.jpg: 640x640 1 Calotropis_gigantea, 7.7ms\n",
            "image 1848/1917 /content/drive/MyDrive/AyushVision/yolo/final/test/images/IMG_20240616_175512_jpg.rf.973dd5242f40b4bc4545763c9bdc129c.jpg: 640x640 1 Calotropis_gigantea, 9.1ms\n",
            "image 1849/1917 /content/drive/MyDrive/AyushVision/yolo/final/test/images/IMG_20240616_175637_jpg.rf.632ad72ce99ccc4eb2b7b5f28747c7db.jpg: 640x640 1 Calotropis_gigantea, 7.7ms\n",
            "image 1850/1917 /content/drive/MyDrive/AyushVision/yolo/final/test/images/IMG_20240616_180358_jpg.rf.3d84baf2fd8071a710a0744aa1114931.jpg: 640x640 1 Calotropis_gigantea, 8.0ms\n",
            "image 1851/1917 /content/drive/MyDrive/AyushVision/yolo/final/test/images/IMG_20240616_180415_jpg.rf.9307fb7abb8892121e6d57cde9011753.jpg: 640x640 1 Calotropis_gigantea, 8.0ms\n",
            "image 1852/1917 /content/drive/MyDrive/AyushVision/yolo/final/test/images/IMG_20240616_180618_jpg.rf.9dae8d66861e060517939a41fd887862.jpg: 640x640 1 Calotropis_gigantea, 7.6ms\n",
            "image 1853/1917 /content/drive/MyDrive/AyushVision/yolo/final/test/images/IMG_20240616_180636_jpg.rf.5416df0e0c81a19fe86afa4915126d5d.jpg: 640x640 1 Calotropis_gigantea, 7.7ms\n",
            "image 1854/1917 /content/drive/MyDrive/AyushVision/yolo/final/test/images/IMG_20240616_180718_jpg.rf.f029ca9b755a0a56937d82d303b9a2b4.jpg: 640x640 1 Calotropis_gigantea, 7.5ms\n",
            "image 1855/1917 /content/drive/MyDrive/AyushVision/yolo/final/test/images/IMG_20240616_180723_jpg.rf.3ddb311bed608f03b3b59d40d2e27b84.jpg: 640x640 2 Calotropis_giganteas, 7.8ms\n",
            "image 1856/1917 /content/drive/MyDrive/AyushVision/yolo/final/test/images/IMG_20240617_182830_jpg.rf.98cea83899a44c07c1cf0b043c93780e.jpg: 640x640 1 lime, 7.7ms\n",
            "image 1857/1917 /content/drive/MyDrive/AyushVision/yolo/final/test/images/IMG_20240617_182835_jpg.rf.49769f3766918674cba93d88fbea997a.jpg: 640x640 2 limes, 7.8ms\n",
            "image 1858/1917 /content/drive/MyDrive/AyushVision/yolo/final/test/images/IMG_20240617_183107_jpg.rf.0b017b7f4f2a91950fa83a2f9bbc6153.jpg: 640x640 1 Holybasil, 7.9ms\n",
            "image 1859/1917 /content/drive/MyDrive/AyushVision/yolo/final/test/images/IMG_20240617_183108_jpg.rf.cb6f98e33358cd4fdb897f8583631b52.jpg: 640x640 (no detections), 7.7ms\n",
            "image 1860/1917 /content/drive/MyDrive/AyushVision/yolo/final/test/images/IMG_20240617_183125_jpg.rf.40f86cc4ab0af7ee78ff8ae29470280c.jpg: 640x640 1 lime, 7.5ms\n",
            "image 1861/1917 /content/drive/MyDrive/AyushVision/yolo/final/test/images/IMG_20240617_183206_jpg.rf.86effa3d856182a0cb4265b4b36265cc.jpg: 640x640 1 lime, 7.5ms\n",
            "image 1862/1917 /content/drive/MyDrive/AyushVision/yolo/final/test/images/IMG_20240617_183235_jpg.rf.00de0bd10e707e0395b735ca2c782694.jpg: 640x640 1 lime, 7.6ms\n",
            "image 1863/1917 /content/drive/MyDrive/AyushVision/yolo/final/test/images/IMG_20240617_183305_jpg.rf.f30ed9770c58d05582973ffb78342b38.jpg: 640x640 1 lime, 7.5ms\n",
            "image 1864/1917 /content/drive/MyDrive/AyushVision/yolo/final/test/images/IMG_20240711_175031_jpg.rf.fceb41a975b29da4589065e085b2a9cc.jpg: 640x640 1 Neem, 7.5ms\n",
            "image 1865/1917 /content/drive/MyDrive/AyushVision/yolo/final/test/images/IMG_20240711_175042_jpg.rf.533325ce7762c78ce1287a90fa8aef85.jpg: 640x640 1 Neem, 7.6ms\n",
            "image 1866/1917 /content/drive/MyDrive/AyushVision/yolo/final/test/images/IMG_20240711_175049_jpg.rf.61de5646df90988f31ae33f718322482.jpg: 640x640 1 Neem, 7.5ms\n",
            "image 1867/1917 /content/drive/MyDrive/AyushVision/yolo/final/test/images/IMG_20240714_171158_jpg.rf.88eb058989a86cbcb26f1dbbce9d5ab7.jpg: 640x640 1 Calotropis_gigantea, 7.9ms\n",
            "image 1868/1917 /content/drive/MyDrive/AyushVision/yolo/final/test/images/IMG_20240714_172017_jpg.rf.125ce216666531a962be76e04c811f56.jpg: 640x640 1 Calotropis_gigantea, 7.8ms\n",
            "image 1869/1917 /content/drive/MyDrive/AyushVision/yolo/final/test/images/IMG_20240714_172110_jpg.rf.068af54554afea3ad0b3bbf4190c148a.jpg: 640x640 1 Calotropis_gigantea, 7.8ms\n",
            "image 1870/1917 /content/drive/MyDrive/AyushVision/yolo/final/test/images/IMG_20240714_172141_jpg.rf.2abd4a698d3284d5060a5fa003bd940f.jpg: 640x640 2 Calotropis_giganteas, 7.7ms\n",
            "image 1871/1917 /content/drive/MyDrive/AyushVision/yolo/final/test/images/IMG_20240714_172144_jpg.rf.b231aa90fa499e3a9aa6e1ec082b61b4.jpg: 640x640 1 Calotropis_gigantea, 8.0ms\n",
            "image 1872/1917 /content/drive/MyDrive/AyushVision/yolo/final/test/images/IMG_20240714_172251_jpg.rf.cad3f3b79395a82904df617fb3af2244.jpg: 640x640 1 Calotropis_gigantea, 8.2ms\n",
            "image 1873/1917 /content/drive/MyDrive/AyushVision/yolo/final/test/images/IMG_20240714_172256_jpg.rf.f8b8e37d31c7c7bbf6ad7f701c591ce3.jpg: 640x640 1 Calotropis_gigantea, 8.0ms\n",
            "image 1874/1917 /content/drive/MyDrive/AyushVision/yolo/final/test/images/IMG_20240714_172258_jpg.rf.efd7adff7e93c9e01b10645229a047c4.jpg: 640x640 1 Calotropis_gigantea, 9.8ms\n",
            "image 1875/1917 /content/drive/MyDrive/AyushVision/yolo/final/test/images/IMG_20240714_172314_jpg.rf.fe3452615d67fd0f511cd28399926d7e.jpg: 640x640 3 Calotropis_giganteas, 7.9ms\n",
            "image 1876/1917 /content/drive/MyDrive/AyushVision/yolo/final/test/images/IMG_20240714_172318_jpg.rf.fe4013598cac4a12237046d9df94c046.jpg: 640x640 1 Calotropis_gigantea, 7.8ms\n",
            "image 1877/1917 /content/drive/MyDrive/AyushVision/yolo/final/test/images/IMG_20240714_172347_jpg.rf.8dc9924fc33bf7f286daa15e397ce505.jpg: 640x640 1 Calotropis_gigantea, 7.8ms\n",
            "image 1878/1917 /content/drive/MyDrive/AyushVision/yolo/final/test/images/IMG_20240714_172353_jpg.rf.a9d89048496f9aedb2e1e5b71313d393.jpg: 640x640 1 Calotropis_gigantea, 7.7ms\n",
            "image 1879/1917 /content/drive/MyDrive/AyushVision/yolo/final/test/images/IMG_20240714_172401_jpg.rf.a4e436b689ecca823efbb8cb021de6fb.jpg: 640x640 1 Calotropis_gigantea, 7.8ms\n",
            "image 1880/1917 /content/drive/MyDrive/AyushVision/yolo/final/test/images/IMG_20240714_172405_jpg.rf.e6b489fa2e28a38ea90ce2bac5acedd5.jpg: 640x640 1 Calotropis_gigantea, 7.8ms\n",
            "image 1881/1917 /content/drive/MyDrive/AyushVision/yolo/final/test/images/IMG_20240714_172414_jpg.rf.a6e707e0cdd5cc869dd180e91af3348f.jpg: 640x640 1 Calotropis_gigantea, 7.9ms\n",
            "image 1882/1917 /content/drive/MyDrive/AyushVision/yolo/final/test/images/IMG_20240714_172510_1_jpg.rf.ff89f6ed1483179be6a3d1af2d68878f.jpg: 640x640 3 Calotropis_giganteas, 8.3ms\n",
            "image 1883/1917 /content/drive/MyDrive/AyushVision/yolo/final/test/images/IMG_20240714_172515_jpg.rf.dfae9fb6344895f082f9e5e85950e5de.jpg: 640x640 1 Calotropis_gigantea, 7.6ms\n",
            "image 1884/1917 /content/drive/MyDrive/AyushVision/yolo/final/test/images/IMG_20240714_172739_jpg.rf.29fe336ceb6bff1f87df5df7d3c889ea.jpg: 640x640 1 Calotropis_gigantea, 7.6ms\n",
            "image 1885/1917 /content/drive/MyDrive/AyushVision/yolo/final/test/images/IMG_20240714_172748_jpg.rf.490ab85edc0fa3d3ff3da4845cc6340a.jpg: 640x640 1 Calotropis_gigantea, 7.5ms\n",
            "image 1886/1917 /content/drive/MyDrive/AyushVision/yolo/final/test/images/IMG_20240714_172751_1_jpg.rf.0c306841c02e7778b7fe96c0c05b021b.jpg: 640x640 1 Calotropis_gigantea, 8.5ms\n",
            "image 1887/1917 /content/drive/MyDrive/AyushVision/yolo/final/test/images/IMG_20240714_172830_jpg.rf.c18a61f2eaf45bce22120c501f912c38.jpg: 640x640 1 Calotropis_gigantea, 7.6ms\n",
            "image 1888/1917 /content/drive/MyDrive/AyushVision/yolo/final/test/images/IMG_20240714_172839_jpg.rf.b426cb71be4722ea359bfd9f5a4d81ec.jpg: 640x640 2 Calotropis_giganteas, 7.7ms\n",
            "image 1889/1917 /content/drive/MyDrive/AyushVision/yolo/final/test/images/IMG_20240714_172851_jpg.rf.a79c5b68d61156d92f64151fe5f157cd.jpg: 640x640 (no detections), 7.5ms\n",
            "image 1890/1917 /content/drive/MyDrive/AyushVision/yolo/final/test/images/IMG_20240714_172900_jpg.rf.11c8d984dad08976c1b6419fd7abe661.jpg: 640x640 1 Calotropis_gigantea, 7.6ms\n",
            "image 1891/1917 /content/drive/MyDrive/AyushVision/yolo/final/test/images/IMG_20240714_172926_jpg.rf.7e8ff5a4932ff9fbbd5f48d4334528b9.jpg: 640x640 3 Calotropis_giganteas, 7.5ms\n",
            "image 1892/1917 /content/drive/MyDrive/AyushVision/yolo/final/test/images/IMG_20240714_172935_jpg.rf.3f7c27b505792328d69a3cc06ae7f475.jpg: 640x640 1 Calotropis_gigantea, 7.5ms\n",
            "image 1893/1917 /content/drive/MyDrive/AyushVision/yolo/final/test/images/IMG_20240714_173900_jpg.rf.8c107f18068e7ee74cd83b2b87e4ab34.jpg: 640x640 1 Calotropis_gigantea, 7.5ms\n",
            "image 1894/1917 /content/drive/MyDrive/AyushVision/yolo/final/test/images/IMG_20240714_173917_jpg.rf.5b26808c7ebcc8a3e729ab59bcd212b9.jpg: 640x640 1 Calotropis_gigantea, 7.8ms\n",
            "image 1895/1917 /content/drive/MyDrive/AyushVision/yolo/final/test/images/IMG_20240714_173919_jpg.rf.54351c57f0b7739dcf9dc04620af041b.jpg: 640x640 1 Calotropis_gigantea, 7.5ms\n",
            "image 1896/1917 /content/drive/MyDrive/AyushVision/yolo/final/test/images/IMG_20240714_173943_jpg.rf.bdefbb1e53f74847b48103aa34ef8de7.jpg: 640x640 1 Calotropis_gigantea, 7.5ms\n",
            "image 1897/1917 /content/drive/MyDrive/AyushVision/yolo/final/test/images/IMG_20240714_174002_1_jpg.rf.886f48ac1204f9c4af96dc61e3db0d27.jpg: 640x640 2 Calotropis_giganteas, 7.6ms\n",
            "image 1898/1917 /content/drive/MyDrive/AyushVision/yolo/final/test/images/IMG_20240714_174010_jpg.rf.f798b04b1b2c8de8bc12063a2f7a2e08.jpg: 640x640 4 Calotropis_giganteas, 7.5ms\n",
            "image 1899/1917 /content/drive/MyDrive/AyushVision/yolo/final/test/images/IMG_20240714_174032_jpg.rf.dca9b8dae91ca28ac8a9b77f6c2906b5.jpg: 640x640 4 Calotropis_giganteas, 7.5ms\n",
            "image 1900/1917 /content/drive/MyDrive/AyushVision/yolo/final/test/images/IMG_20240723_090452_jpg.rf.81b35d1bd9d5764139c21fb6ce2f2cee.jpg: 640x640 1 Holybasil, 7.5ms\n",
            "image 1901/1917 /content/drive/MyDrive/AyushVision/yolo/final/test/images/IMG_20240723_090502_jpg.rf.017882378a676047b4dcd573df5f5384.jpg: 640x640 1 Holybasil, 7.6ms\n",
            "image 1902/1917 /content/drive/MyDrive/AyushVision/yolo/final/test/images/IMG_20240723_090539_jpg.rf.5bd90888635e7ec22d94fa8d98e12387.jpg: 640x640 1 Holybasil, 7.6ms\n",
            "image 1903/1917 /content/drive/MyDrive/AyushVision/yolo/final/test/images/IMG_20240723_090547_jpg.rf.b80654ba2c6276a4fcc6e6b22f830eb0.jpg: 640x640 1 Holybasil, 8.4ms\n",
            "image 1904/1917 /content/drive/MyDrive/AyushVision/yolo/final/test/images/IMG_20240723_090600_jpg.rf.1f570b4ccf288a73e51109fc39e39fed.jpg: 640x640 1 Holybasil, 7.8ms\n",
            "image 1905/1917 /content/drive/MyDrive/AyushVision/yolo/final/test/images/IMG_20240723_090611_jpg.rf.e0888c24092c10b3ce06a5154cc1e7a6.jpg: 640x640 1 Holybasil, 8.1ms\n",
            "image 1906/1917 /content/drive/MyDrive/AyushVision/yolo/final/test/images/IMG_20240723_090630_jpg.rf.ce6ed1bf4a54a4a7f004c8be200fe8f5.jpg: 640x640 1 Holybasil, 9.1ms\n",
            "image 1907/1917 /content/drive/MyDrive/AyushVision/yolo/final/test/images/IMG_20240723_090632_jpg.rf.b263db9b6417f8791420a85f600851b0.jpg: 640x640 1 Holybasil, 8.4ms\n",
            "image 1908/1917 /content/drive/MyDrive/AyushVision/yolo/final/test/images/IMG_20240723_090650_jpg.rf.b9ef7636042f7fe222488c11cfc03ccd.jpg: 640x640 1 Holybasil, 8.0ms\n",
            "image 1909/1917 /content/drive/MyDrive/AyushVision/yolo/final/test/images/WhatsApp-Image-2024-05-07-at-17-41-02_7209e716_jpg.rf.2f532acf9c047290d56188d9a5454728.jpg: 640x640 1 Mountain_Knotgrass, 9.7ms\n",
            "image 1910/1917 /content/drive/MyDrive/AyushVision/yolo/final/test/images/WhatsApp-Image-2024-05-24-at-12-58-15_80665b1d_jpg.rf.a84ed10bbac78657e3bdb7310c2b701a.jpg: 640x640 (no detections), 7.7ms\n",
            "image 1911/1917 /content/drive/MyDrive/AyushVision/yolo/final/test/images/WhatsApp-Image-2024-05-24-at-12-58-26_5ff16fcb_jpg.rf.04478e1650dcf63245026569af956805.jpg: 640x640 2 Holybasils, 7.7ms\n",
            "image 1912/1917 /content/drive/MyDrive/AyushVision/yolo/final/test/images/WhatsApp-Image-2024-05-24-at-12-58-55_f09ea0a7_jpg.rf.473f707e1c924c65a9b65e51fc1f575f.jpg: 640x640 1 Holybasil, 8.3ms\n",
            "image 1913/1917 /content/drive/MyDrive/AyushVision/yolo/final/test/images/WhatsApp-Image-2024-05-24-at-16-45-10_40c39fb3_jpg.rf.bc262a58a559746c1d59772a5bd25843.jpg: 640x640 1 lime, 7.8ms\n",
            "image 1914/1917 /content/drive/MyDrive/AyushVision/yolo/final/test/images/WhatsApp-Image-2024-05-24-at-16-45-10_b2beb5e1_jpg.rf.4faec04cdedabf3a59cc70e34b412d8f.jpg: 640x640 1 lime, 7.5ms\n",
            "image 1915/1917 /content/drive/MyDrive/AyushVision/yolo/final/test/images/WhatsApp-Image-2024-05-24-at-16-45-13_41391807_jpg.rf.48ba4c86493f4fef2929d6adf07cf8ed.jpg: 640x640 1 lime, 7.8ms\n",
            "image 1916/1917 /content/drive/MyDrive/AyushVision/yolo/final/test/images/WhatsApp-Image-2024-05-24-at-16-45-16_2ef16633_jpg.rf.78f9830cf9ea1b97fe12eea1c4424f02.jpg: 640x640 1 Neem, 8.5ms\n",
            "image 1917/1917 /content/drive/MyDrive/AyushVision/yolo/final/test/images/WhatsApp-Image-2024-05-24-at-16-45-22_d4d7a77e_jpg.rf.63a96d877c5389b4a8a5486a263e81f1.jpg: 640x640 1 lime, 7.9ms\n",
            "Speed: 2.4ms preprocess, 8.1ms inference, 1.6ms postprocess per image at shape (1, 3, 640, 640)\n",
            "Results saved to \u001b[1mruns/detect/predict\u001b[0m\n"
          ]
        }
      ],
      "source": [
        "\n",
        "results=model.predict(source=f'/content/drive/MyDrive/AyushVision/yolo/final/test/images',save=True)"
      ]
    },
    {
      "cell_type": "code",
      "execution_count": null,
      "metadata": {
        "id": "hB4kWph9xI05"
      },
      "outputs": [],
      "source": [
        "predicts=[]"
      ]
    },
    {
      "cell_type": "code",
      "source": [
        "for r in results:\n",
        "        boxes = r.boxes\n",
        "        masks = r.masks\n",
        "        probs = r.probs\n",
        "        print(f'Boxed image saved to {r.boxes}')\n",
        "        print(f'Mask image saved to {r.masks}')\n",
        "        print(f'Prob image saved to {r.probs}')\n",
        "        print(f'Image saved to {r.path}')"
      ],
      "metadata": {
        "id": "zCY_C_UhBTG5"
      },
      "execution_count": null,
      "outputs": []
    },
    {
      "cell_type": "code",
      "source": [
        "predict_dir=f'{project}/predict'"
      ],
      "metadata": {
        "id": "EWkEQQjmYmex"
      },
      "execution_count": null,
      "outputs": []
    },
    {
      "cell_type": "code",
      "source": [
        "os.makedirs(predict_dir)"
      ],
      "metadata": {
        "id": "2IhVAzckYRr4"
      },
      "execution_count": null,
      "outputs": []
    },
    {
      "cell_type": "code",
      "source": [
        "import os\n",
        "import matplotlib.pyplot as plt\n",
        "from PIL import Image\n",
        "\n",
        "# Directory containing the images\n",
        "image_dir = results[0].save_dir  # Ensure this is the correct path\n",
        "\n",
        "# List of image files in the directory\n",
        "image_files = [f for f in os.listdir(image_dir) if f.endswith(('.png', '.jpg', '.jpeg', '.bmp', '.tiff'))]\n",
        "\n",
        "# Sort the images to ensure they are processed in a consistent order (optional)\n",
        "image_files.sort()\n",
        "\n",
        "# Parameters\n",
        "images_per_batch = 50  # Number of images per saved .png file\n",
        "images_per_row = 5     # Number of images per row\n",
        "output_dir = f'{project}/batches'  # Directory to save output images\n",
        "os.makedirs(output_dir, exist_ok=True)  # Create output directory if it doesn't exist\n",
        "\n",
        "# Loop through the image files in batches\n",
        "for batch_start in range(0, len(image_files), images_per_batch):\n",
        "    # Select the current batch of images\n",
        "    batch_images = image_files[batch_start:batch_start + images_per_batch]\n",
        "\n",
        "    # Calculate the number of rows needed for this batch\n",
        "    n_rows = len(batch_images) // images_per_row + int(len(batch_images) % images_per_row > 0)\n",
        "\n",
        "    # Create a figure for the batch with larger figsize for bigger images\n",
        "    fig, axs = plt.subplots(n_rows, images_per_row, figsize=(images_per_row * 5, n_rows * 5))  # Larger figure size for bigger images\n",
        "\n",
        "    # Flatten the axes array for easy iteration (in case of multiple rows)\n",
        "    axs = axs.flatten()\n",
        "\n",
        "    # Loop through the images in the batch and plot them\n",
        "    for i, img_file in enumerate(batch_images):\n",
        "        # Open the image\n",
        "        img = Image.open(os.path.join(image_dir, img_file))\n",
        "\n",
        "        # Display the image in the grid\n",
        "        axs[i].imshow(img)\n",
        "\n",
        "        # Turn off the axis labels\n",
        "        axs[i].axis('off')\n",
        "\n",
        "    # Hide any remaining subplots (if the number of images is less than the number of subplots)\n",
        "    for i in range(len(batch_images), len(axs)):\n",
        "        axs[i].axis('off')\n",
        "\n",
        "    # Adjust layout\n",
        "    plt.tight_layout()\n",
        "\n",
        "    # Save the current batch as a .png file\n",
        "    batch_number = batch_start // images_per_batch + 1\n",
        "    plt.savefig(f'{output_dir}/batch_{batch_number}.png', dpi=300)  # Save with high DPI for good quality\n",
        "\n",
        "    # Close the plot to free up memory\n",
        "    plt.close()\n",
        "\n",
        "print(f\"Finished saving batches of images to {output_dir}\")\n"
      ],
      "metadata": {
        "id": "MIiGKLoF_F1g"
      },
      "execution_count": null,
      "outputs": []
    },
    {
      "cell_type": "code",
      "execution_count": null,
      "metadata": {
        "id": "_gWIS5rDx1Fd"
      },
      "outputs": [],
      "source": [
        "blob = bucket.blob(f\"{storageLocation}/predict/predict{epochs}.png\")\n",
        "blob.upload_from_filename(f'{project}/predict{epochs}.png')\n",
        "blob.make_public()"
      ]
    },
    {
      "cell_type": "code",
      "execution_count": null,
      "metadata": {
        "id": "34-zsVB32uF8"
      },
      "outputs": [],
      "source": [
        "today_ref.collection('Predict').add({\n",
        "    'files':blob.public_url\n",
        "})"
      ]
    },
    {
      "cell_type": "markdown",
      "metadata": {
        "id": "IQWY9Bqbn7Hq"
      },
      "source": [
        "### Export Model"
      ]
    },
    {
      "cell_type": "code",
      "execution_count": null,
      "metadata": {
        "id": "YezH7LaIn7Hq",
        "colab": {
          "base_uri": "https://localhost:8080/",
          "height": 281
        },
        "outputId": "17ffccc3-3805-445d-99d6-ced5d78fdbb4"
      },
      "outputs": [
        {
          "output_type": "stream",
          "name": "stdout",
          "text": [
            "Ultralytics YOLOv8.2.98 🚀 Python-3.10.12 torch-2.4.1+cu121 CPU (Intel Xeon 2.20GHz)\n",
            "\n",
            "\u001b[34m\u001b[1mPyTorch:\u001b[0m starting from '/content/drive/MyDrive/AyushVision/yolo/training/20_09_2024/094919/plants/runs/train50/weights/best.pt' with input shape (1, 3, 640, 640) BCHW and output shape(s) (1, 36, 8400) (6.0 MB)\n",
            "\n",
            "\u001b[34m\u001b[1mONNX:\u001b[0m starting export with onnx 1.16.2 opset 19...\n",
            "\u001b[34m\u001b[1mONNX:\u001b[0m slimming with onnxslim 0.1.34...\n",
            "\u001b[34m\u001b[1mONNX:\u001b[0m export success ✅ 19.2s, saved as '/content/drive/MyDrive/AyushVision/yolo/training/20_09_2024/094919/plants/runs/train50/weights/best.onnx' (11.6 MB)\n",
            "\n",
            "Export complete (19.4s)\n",
            "Results saved to \u001b[1m/content/drive/MyDrive/AyushVision/yolo/training/20_09_2024/094919/plants/runs/train50/weights\u001b[0m\n",
            "Predict:         yolo predict task=detect model=/content/drive/MyDrive/AyushVision/yolo/training/20_09_2024/094919/plants/runs/train50/weights/best.onnx imgsz=640  \n",
            "Validate:        yolo val task=detect model=/content/drive/MyDrive/AyushVision/yolo/training/20_09_2024/094919/plants/runs/train50/weights/best.onnx imgsz=640 data=/content/drive/MyDrive/AyushVision/yolo/final/data.yaml  \n",
            "Visualize:       https://netron.app\n"
          ]
        },
        {
          "output_type": "execute_result",
          "data": {
            "text/plain": [
              "'/content/drive/MyDrive/AyushVision/yolo/training/20_09_2024/094919/plants/runs/train50/weights/best.onnx'"
            ],
            "application/vnd.google.colaboratory.intrinsic+json": {
              "type": "string"
            }
          },
          "metadata": {},
          "execution_count": 49
        }
      ],
      "source": [
        "format='onnx'\n",
        "model.export(format=format,keras=True,dynamic=True,simplify=True,)"
      ]
    },
    {
      "cell_type": "code",
      "source": [
        "model.export(format='saved_model',keras=True,simplify=True)"
      ],
      "metadata": {
        "id": "G5nSuPKUPYHU",
        "colab": {
          "base_uri": "https://localhost:8080/",
          "height": 350
        },
        "outputId": "40050bb0-0548-4b41-b8a9-d4ba10d1683e"
      },
      "execution_count": null,
      "outputs": [
        {
          "output_type": "stream",
          "name": "stdout",
          "text": [
            "Ultralytics YOLOv8.2.98 🚀 Python-3.10.12 torch-2.4.1+cu121 CPU (Intel Xeon 2.20GHz)\n",
            "\n",
            "\u001b[34m\u001b[1mPyTorch:\u001b[0m starting from '/content/drive/MyDrive/AyushVision/yolo/training/20_09_2024/094919/plants/runs/train50/weights/best.pt' with input shape (1, 3, 640, 640) BCHW and output shape(s) (1, 36, 8400) (6.0 MB)\n",
            "\n",
            "\u001b[34m\u001b[1mTensorFlow SavedModel:\u001b[0m starting export with tensorflow 2.17.0...\n",
            "\n",
            "\u001b[34m\u001b[1mONNX:\u001b[0m starting export with onnx 1.16.2 opset 19...\n",
            "\u001b[34m\u001b[1mONNX:\u001b[0m slimming with onnxslim 0.1.34...\n",
            "\u001b[34m\u001b[1mONNX:\u001b[0m export success ✅ 1.3s, saved as '/content/drive/MyDrive/AyushVision/yolo/training/20_09_2024/094919/plants/runs/train50/weights/best.onnx' (11.7 MB)\n",
            "\u001b[34m\u001b[1mTensorFlow SavedModel:\u001b[0m starting TFLite export with onnx2tf 1.22.3...\n",
            "\u001b[34m\u001b[1mTensorFlow SavedModel:\u001b[0m export success ✅ 10.4s, saved as '/content/drive/MyDrive/AyushVision/yolo/training/20_09_2024/094919/plants/runs/train50/weights/best_saved_model' (29.3 MB)\n",
            "\n",
            "Export complete (10.6s)\n",
            "Results saved to \u001b[1m/content/drive/MyDrive/AyushVision/yolo/training/20_09_2024/094919/plants/runs/train50/weights\u001b[0m\n",
            "Predict:         yolo predict task=detect model=/content/drive/MyDrive/AyushVision/yolo/training/20_09_2024/094919/plants/runs/train50/weights/best_saved_model imgsz=640  \n",
            "Validate:        yolo val task=detect model=/content/drive/MyDrive/AyushVision/yolo/training/20_09_2024/094919/plants/runs/train50/weights/best_saved_model imgsz=640 data=/content/drive/MyDrive/AyushVision/yolo/final/data.yaml  \n",
            "Visualize:       https://netron.app\n"
          ]
        },
        {
          "output_type": "execute_result",
          "data": {
            "text/plain": [
              "'/content/drive/MyDrive/AyushVision/yolo/training/20_09_2024/094919/plants/runs/train50/weights/best_saved_model'"
            ],
            "application/vnd.google.colaboratory.intrinsic+json": {
              "type": "string"
            }
          },
          "metadata": {},
          "execution_count": 50
        }
      ]
    },
    {
      "cell_type": "code",
      "source": [
        "model.export(format='tflite',keras=True,simplify=True)"
      ],
      "metadata": {
        "id": "TfheWxPVSFYk",
        "colab": {
          "base_uri": "https://localhost:8080/",
          "height": 1000
        },
        "outputId": "9b1e9913-d1bc-403f-874a-98a84c0d099d"
      },
      "execution_count": null,
      "outputs": [
        {
          "output_type": "stream",
          "name": "stdout",
          "text": [
            "Ultralytics YOLOv8.2.98 🚀 Python-3.10.12 torch-2.4.1+cu121 CPU (Intel Xeon 2.20GHz)\n",
            "\n",
            "\u001b[34m\u001b[1mPyTorch:\u001b[0m starting from '/content/drive/MyDrive/AyushVision/yolo/training/20_09_2024/094919/plants/runs/train50/weights/best.pt' with input shape (1, 3, 640, 640) BCHW and output shape(s) (1, 36, 8400) (6.0 MB)\n",
            "\u001b[31m\u001b[1mrequirements:\u001b[0m Ultralytics requirements ['sng4onnx>=1.0.1', 'onnx_graphsurgeon>=0.3.26', 'onnx>=1.12.0', 'onnx2tf>1.17.5,<=1.22.3', 'onnxslim>=0.1.31', 'tflite_support', 'onnxruntime-gpu'] not found, attempting AutoUpdate...\n",
            "Looking in indexes: https://pypi.org/simple, https://pypi.ngc.nvidia.com\n",
            "Collecting sng4onnx>=1.0.1\n",
            "  Downloading sng4onnx-1.0.4-py3-none-any.whl.metadata (4.6 kB)\n",
            "Collecting onnx_graphsurgeon>=0.3.26\n",
            "  Downloading onnx_graphsurgeon-0.5.2-py2.py3-none-any.whl.metadata (8.1 kB)\n",
            "Collecting onnx>=1.12.0\n",
            "  Downloading onnx-1.16.2-cp310-cp310-manylinux_2_17_x86_64.manylinux2014_x86_64.whl.metadata (16 kB)\n",
            "Collecting onnx2tf<=1.22.3,>1.17.5\n",
            "  Downloading onnx2tf-1.22.3-py3-none-any.whl.metadata (136 kB)\n",
            "     ━━━━━━━━━━━━━━━━━━━━━━━━━━━━━━━━━━━━━━━━ 136.6/136.6 kB 2.5 MB/s eta 0:00:00\n",
            "Collecting onnxslim>=0.1.31\n",
            "  Downloading onnxslim-0.1.34-py3-none-any.whl.metadata (2.7 kB)\n",
            "Collecting tflite_support\n",
            "  Downloading tflite_support-0.4.4-cp310-cp310-manylinux2014_x86_64.whl.metadata (2.4 kB)\n",
            "Collecting onnxruntime-gpu\n",
            "  Downloading onnxruntime_gpu-1.19.2-cp310-cp310-manylinux_2_27_x86_64.manylinux_2_28_x86_64.whl.metadata (4.5 kB)\n",
            "Requirement already satisfied: numpy in /usr/local/lib/python3.10/dist-packages (from onnx_graphsurgeon>=0.3.26) (1.26.4)\n",
            "Requirement already satisfied: protobuf>=3.20.2 in /usr/local/lib/python3.10/dist-packages (from onnx>=1.12.0) (3.20.3)\n",
            "Requirement already satisfied: sympy in /usr/local/lib/python3.10/dist-packages (from onnxslim>=0.1.31) (1.13.2)\n",
            "Requirement already satisfied: packaging in /usr/local/lib/python3.10/dist-packages (from onnxslim>=0.1.31) (24.1)\n",
            "Requirement already satisfied: absl-py>=0.7.0 in /usr/local/lib/python3.10/dist-packages (from tflite_support) (1.4.0)\n",
            "Requirement already satisfied: flatbuffers>=2.0 in /usr/local/lib/python3.10/dist-packages (from tflite_support) (24.3.25)\n",
            "Collecting sounddevice>=0.4.4 (from tflite_support)\n",
            "  Downloading sounddevice-0.5.0-py3-none-any.whl.metadata (1.4 kB)\n",
            "Collecting pybind11>=2.6.0 (from tflite_support)\n",
            "  Downloading pybind11-2.13.6-py3-none-any.whl.metadata (9.5 kB)\n",
            "Collecting coloredlogs (from onnxruntime-gpu)\n",
            "  Downloading coloredlogs-15.0.1-py2.py3-none-any.whl.metadata (12 kB)\n",
            "Requirement already satisfied: CFFI>=1.0 in /usr/local/lib/python3.10/dist-packages (from sounddevice>=0.4.4->tflite_support) (1.17.1)\n",
            "Collecting humanfriendly>=9.1 (from coloredlogs->onnxruntime-gpu)\n",
            "  Downloading humanfriendly-10.0-py2.py3-none-any.whl.metadata (9.2 kB)\n",
            "Requirement already satisfied: mpmath<1.4,>=1.1.0 in /usr/local/lib/python3.10/dist-packages (from sympy->onnxslim>=0.1.31) (1.3.0)\n",
            "Requirement already satisfied: pycparser in /usr/local/lib/python3.10/dist-packages (from CFFI>=1.0->sounddevice>=0.4.4->tflite_support) (2.22)\n",
            "Downloading sng4onnx-1.0.4-py3-none-any.whl (5.9 kB)\n",
            "Downloading onnx_graphsurgeon-0.5.2-py2.py3-none-any.whl (56 kB)\n",
            "   ━━━━━━━━━━━━━━━━━━━━━━━━━━━━━━━━━━━━━━━━ 56.4/56.4 kB 17.3 MB/s eta 0:00:00\n",
            "Downloading onnx-1.16.2-cp310-cp310-manylinux_2_17_x86_64.manylinux2014_x86_64.whl (15.9 MB)\n",
            "   ━━━━━━━━━━━━━━━━━━━━━━━━━━━━━━━━━━━━━━━━ 15.9/15.9 MB 161.2 MB/s eta 0:00:00\n",
            "Downloading onnx2tf-1.22.3-py3-none-any.whl (435 kB)\n",
            "   ━━━━━━━━━━━━━━━━━━━━━━━━━━━━━━━━━━━━━━━━ 435.0/435.0 kB 277.0 MB/s eta 0:00:00\n",
            "Downloading onnxslim-0.1.34-py3-none-any.whl (140 kB)\n",
            "   ━━━━━━━━━━━━━━━━━━━━━━━━━━━━━━━━━━━━━━━━ 140.3/140.3 kB 275.5 MB/s eta 0:00:00\n",
            "Downloading tflite_support-0.4.4-cp310-cp310-manylinux2014_x86_64.whl (60.8 MB)\n",
            "   ━━━━━━━━━━━━━━━━━━━━━━━━━━━━━━━━━━━━━━━━ 60.8/60.8 MB 123.1 MB/s eta 0:00:00\n",
            "Downloading onnxruntime_gpu-1.19.2-cp310-cp310-manylinux_2_27_x86_64.manylinux_2_28_x86_64.whl (226.2 MB)\n",
            "   ━━━━━━━━━━━━━━━━━━━━━━━━━━━━━━━━━━━━━━━━ 226.2/226.2 MB 155.1 MB/s eta 0:00:00\n",
            "Downloading pybind11-2.13.6-py3-none-any.whl (243 kB)\n",
            "   ━━━━━━━━━━━━━━━━━━━━━━━━━━━━━━━━━━━━━━━━ 243.3/243.3 kB 290.0 MB/s eta 0:00:00\n",
            "Downloading sounddevice-0.5.0-py3-none-any.whl (32 kB)\n",
            "Downloading coloredlogs-15.0.1-py2.py3-none-any.whl (46 kB)\n",
            "   ━━━━━━━━━━━━━━━━━━━━━━━━━━━━━━━━━━━━━━━━ 46.0/46.0 kB 222.3 MB/s eta 0:00:00\n",
            "Downloading humanfriendly-10.0-py2.py3-none-any.whl (86 kB)\n",
            "   ━━━━━━━━━━━━━━━━━━━━━━━━━━━━━━━━━━━━━━━━ 86.8/86.8 kB 168.8 MB/s eta 0:00:00\n",
            "Installing collected packages: sng4onnx, pybind11, onnx2tf, onnx, humanfriendly, sounddevice, onnxslim, onnx_graphsurgeon, coloredlogs, tflite_support, onnxruntime-gpu\n",
            "Successfully installed coloredlogs-15.0.1 humanfriendly-10.0 onnx-1.16.2 onnx2tf-1.22.3 onnx_graphsurgeon-0.5.2 onnxruntime-gpu-1.19.2 onnxslim-0.1.34 pybind11-2.13.6 sng4onnx-1.0.4 sounddevice-0.5.0 tflite_support-0.4.4\n",
            "\n",
            "\u001b[31m\u001b[1mrequirements:\u001b[0m AutoUpdate success ✅ 26.7s, installed 7 packages: ['sng4onnx>=1.0.1', 'onnx_graphsurgeon>=0.3.26', 'onnx>=1.12.0', 'onnx2tf>1.17.5,<=1.22.3', 'onnxslim>=0.1.31', 'tflite_support', 'onnxruntime-gpu']\n",
            "\u001b[31m\u001b[1mrequirements:\u001b[0m ⚠️ \u001b[1mRestart runtime or rerun command for updates to take effect\u001b[0m\n",
            "\n",
            "\n",
            "\u001b[34m\u001b[1mTensorFlow SavedModel:\u001b[0m starting export with tensorflow 2.17.0...\n",
            "Downloading https://github.com/ultralytics/assets/releases/download/v8.2.0/calibration_image_sample_data_20x128x128x3_float32.npy.zip to 'calibration_image_sample_data_20x128x128x3_float32.npy.zip'...\n"
          ]
        },
        {
          "output_type": "stream",
          "name": "stderr",
          "text": [
            "100%|██████████| 1.11M/1.11M [00:00<00:00, 6.36MB/s]\n",
            "Unzipping calibration_image_sample_data_20x128x128x3_float32.npy.zip to /content/calibration_image_sample_data_20x128x128x3_float32.npy...: 100%|██████████| 1/1 [00:00<00:00, 42.52file/s]"
          ]
        },
        {
          "output_type": "stream",
          "name": "stdout",
          "text": [
            "\n",
            "\u001b[34m\u001b[1mONNX:\u001b[0m starting export with onnx 1.16.2 opset 19...\n"
          ]
        },
        {
          "output_type": "stream",
          "name": "stderr",
          "text": [
            "\n"
          ]
        },
        {
          "output_type": "stream",
          "name": "stdout",
          "text": [
            "\u001b[34m\u001b[1mONNX:\u001b[0m slimming with onnxslim 0.1.34...\n",
            "\u001b[34m\u001b[1mONNX:\u001b[0m export success ✅ 1.4s, saved as '/content/drive/MyDrive/AyushVision/yolo/training/20_09_2024/094919/plants/runs/train50/weights/best.onnx' (11.8 MB)\n",
            "\u001b[34m\u001b[1mTensorFlow SavedModel:\u001b[0m starting TFLite export with onnx2tf 1.22.3...\n",
            "\u001b[34m\u001b[1mTensorFlow SavedModel:\u001b[0m export success ✅ 42.9s, saved as '/content/drive/MyDrive/AyushVision/yolo/training/20_09_2024/094919/plants/runs/train50/weights/best_saved_model' (29.5 MB)\n",
            "\n",
            "\u001b[34m\u001b[1mTensorFlow Lite:\u001b[0m starting export with tensorflow 2.17.0...\n",
            "\u001b[34m\u001b[1mTensorFlow Lite:\u001b[0m export success ✅ 0.0s, saved as '/content/drive/MyDrive/AyushVision/yolo/training/20_09_2024/094919/plants/runs/train50/weights/best_saved_model/best_float32.tflite' (11.7 MB)\n",
            "\n",
            "Export complete (44.4s)\n",
            "Results saved to \u001b[1m/content/drive/MyDrive/AyushVision/yolo/training/20_09_2024/094919/plants/runs/train50/weights\u001b[0m\n",
            "Predict:         yolo predict task=detect model=/content/drive/MyDrive/AyushVision/yolo/training/20_09_2024/094919/plants/runs/train50/weights/best_saved_model/best_float32.tflite imgsz=640  \n",
            "Validate:        yolo val task=detect model=/content/drive/MyDrive/AyushVision/yolo/training/20_09_2024/094919/plants/runs/train50/weights/best_saved_model/best_float32.tflite imgsz=640 data=/content/drive/MyDrive/AyushVision/yolo/final/data.yaml  \n",
            "Visualize:       https://netron.app\n"
          ]
        },
        {
          "output_type": "execute_result",
          "data": {
            "text/plain": [
              "'/content/drive/MyDrive/AyushVision/yolo/training/20_09_2024/094919/plants/runs/train50/weights/best_saved_model/best_float32.tflite'"
            ],
            "application/vnd.google.colaboratory.intrinsic+json": {
              "type": "string"
            }
          },
          "metadata": {},
          "execution_count": 48
        }
      ]
    },
    {
      "cell_type": "code",
      "execution_count": null,
      "metadata": {
        "id": "v5HGcR1t5xnO"
      },
      "outputs": [],
      "source": [
        "blob = bucket.blob(f\"{storageLocation}/model/best.onnx\")\n",
        "blob.upload_from_filename(f\"{today_work_dirctory}/leaves/runs/{name}/weights/best.onnx\")\n",
        "blob.make_public()"
      ]
    },
    {
      "cell_type": "code",
      "source": [
        "blobsavedmodel = bucket.blob(f\"{storageLocation}/model/best_saved_model.pb\")\n",
        "blobsavedmodel.upload_from_filename(f\"{today_work_dirctory}/leaves/runs/{name}/weights/best_saved_model/saved_model.pb\")\n",
        "blobsavedmodel.make_public()"
      ],
      "metadata": {
        "id": "-ENAxGDwRvtX"
      },
      "execution_count": null,
      "outputs": []
    },
    {
      "cell_type": "code",
      "source": [
        "blobtflite = bucket.blob(f\"{storageLocation}/model/best_float32.tflite\")\n",
        "blobtflite.upload_from_filename(f\"{today_work_dirctory}/leaves/runs/{name}/weights/best_saved_model/best_float32.tflite\")\n",
        "blobtflite.make_public()"
      ],
      "metadata": {
        "id": "NyWJiQ6hSQoe"
      },
      "execution_count": null,
      "outputs": []
    },
    {
      "cell_type": "code",
      "execution_count": null,
      "metadata": {
        "id": "Y0czVsQg5Kjr"
      },
      "outputs": [],
      "source": [
        "today_ref.collection('Model').add({\n",
        "    'format':format,\n",
        "    \"keras\":True,\n",
        "    \"dynamic\":True,\n",
        "    \"simplify\":True,\n",
        "    \"model\":blob.public_url,\n",
        "    \"tflite\":blobtflite.public_url,\n",
        "    \"save_model\":blobsavedmodel.public_url\n",
        "})"
      ]
    },
    {
      "cell_type": "code",
      "source": [
        "! pip install ultralytics==8.0.196"
      ],
      "metadata": {
        "id": "jFblbbBEYVVb",
        "outputId": "7faf45e3-184d-45a0-9aab-449c32696d62",
        "colab": {
          "base_uri": "https://localhost:8080/",
          "height": 984
        }
      },
      "execution_count": 5,
      "outputs": [
        {
          "output_type": "stream",
          "name": "stdout",
          "text": [
            "Collecting ultralytics==8.0.196\n",
            "  Downloading ultralytics-8.0.196-py3-none-any.whl.metadata (31 kB)\n",
            "Requirement already satisfied: matplotlib>=3.3.0 in /usr/local/lib/python3.10/dist-packages (from ultralytics==8.0.196) (3.7.1)\n",
            "Requirement already satisfied: numpy>=1.22.2 in /usr/local/lib/python3.10/dist-packages (from ultralytics==8.0.196) (1.26.4)\n",
            "Requirement already satisfied: opencv-python>=4.6.0 in /usr/local/lib/python3.10/dist-packages (from ultralytics==8.0.196) (4.10.0.84)\n",
            "Requirement already satisfied: pillow>=7.1.2 in /usr/local/lib/python3.10/dist-packages (from ultralytics==8.0.196) (10.4.0)\n",
            "Requirement already satisfied: pyyaml>=5.3.1 in /usr/local/lib/python3.10/dist-packages (from ultralytics==8.0.196) (6.0.2)\n",
            "Requirement already satisfied: requests>=2.23.0 in /usr/local/lib/python3.10/dist-packages (from ultralytics==8.0.196) (2.32.3)\n",
            "Requirement already satisfied: scipy>=1.4.1 in /usr/local/lib/python3.10/dist-packages (from ultralytics==8.0.196) (1.13.1)\n",
            "Requirement already satisfied: torch>=1.8.0 in /usr/local/lib/python3.10/dist-packages (from ultralytics==8.0.196) (2.4.1+cu121)\n",
            "Requirement already satisfied: torchvision>=0.9.0 in /usr/local/lib/python3.10/dist-packages (from ultralytics==8.0.196) (0.19.1+cu121)\n",
            "Requirement already satisfied: tqdm>=4.64.0 in /usr/local/lib/python3.10/dist-packages (from ultralytics==8.0.196) (4.66.5)\n",
            "Requirement already satisfied: pandas>=1.1.4 in /usr/local/lib/python3.10/dist-packages (from ultralytics==8.0.196) (2.1.4)\n",
            "Requirement already satisfied: seaborn>=0.11.0 in /usr/local/lib/python3.10/dist-packages (from ultralytics==8.0.196) (0.13.1)\n",
            "Requirement already satisfied: psutil in /usr/local/lib/python3.10/dist-packages (from ultralytics==8.0.196) (5.9.5)\n",
            "Requirement already satisfied: py-cpuinfo in /usr/local/lib/python3.10/dist-packages (from ultralytics==8.0.196) (9.0.0)\n",
            "Collecting thop>=0.1.1 (from ultralytics==8.0.196)\n",
            "  Downloading thop-0.1.1.post2209072238-py3-none-any.whl.metadata (2.7 kB)\n",
            "Requirement already satisfied: contourpy>=1.0.1 in /usr/local/lib/python3.10/dist-packages (from matplotlib>=3.3.0->ultralytics==8.0.196) (1.3.0)\n",
            "Requirement already satisfied: cycler>=0.10 in /usr/local/lib/python3.10/dist-packages (from matplotlib>=3.3.0->ultralytics==8.0.196) (0.12.1)\n",
            "Requirement already satisfied: fonttools>=4.22.0 in /usr/local/lib/python3.10/dist-packages (from matplotlib>=3.3.0->ultralytics==8.0.196) (4.53.1)\n",
            "Requirement already satisfied: kiwisolver>=1.0.1 in /usr/local/lib/python3.10/dist-packages (from matplotlib>=3.3.0->ultralytics==8.0.196) (1.4.7)\n",
            "Requirement already satisfied: packaging>=20.0 in /usr/local/lib/python3.10/dist-packages (from matplotlib>=3.3.0->ultralytics==8.0.196) (24.1)\n",
            "Requirement already satisfied: pyparsing>=2.3.1 in /usr/local/lib/python3.10/dist-packages (from matplotlib>=3.3.0->ultralytics==8.0.196) (3.1.4)\n",
            "Requirement already satisfied: python-dateutil>=2.7 in /usr/local/lib/python3.10/dist-packages (from matplotlib>=3.3.0->ultralytics==8.0.196) (2.8.2)\n",
            "Requirement already satisfied: pytz>=2020.1 in /usr/local/lib/python3.10/dist-packages (from pandas>=1.1.4->ultralytics==8.0.196) (2024.2)\n",
            "Requirement already satisfied: tzdata>=2022.1 in /usr/local/lib/python3.10/dist-packages (from pandas>=1.1.4->ultralytics==8.0.196) (2024.1)\n",
            "Requirement already satisfied: charset-normalizer<4,>=2 in /usr/local/lib/python3.10/dist-packages (from requests>=2.23.0->ultralytics==8.0.196) (3.3.2)\n",
            "Requirement already satisfied: idna<4,>=2.5 in /usr/local/lib/python3.10/dist-packages (from requests>=2.23.0->ultralytics==8.0.196) (3.7)\n",
            "Requirement already satisfied: urllib3<3,>=1.21.1 in /usr/local/lib/python3.10/dist-packages (from requests>=2.23.0->ultralytics==8.0.196) (2.2.3)\n",
            "Requirement already satisfied: certifi>=2017.4.17 in /usr/local/lib/python3.10/dist-packages (from requests>=2.23.0->ultralytics==8.0.196) (2024.8.30)\n",
            "Requirement already satisfied: filelock in /usr/local/lib/python3.10/dist-packages (from torch>=1.8.0->ultralytics==8.0.196) (3.16.1)\n",
            "Requirement already satisfied: typing-extensions>=4.8.0 in /usr/local/lib/python3.10/dist-packages (from torch>=1.8.0->ultralytics==8.0.196) (4.12.2)\n",
            "Requirement already satisfied: sympy in /usr/local/lib/python3.10/dist-packages (from torch>=1.8.0->ultralytics==8.0.196) (1.13.3)\n",
            "Requirement already satisfied: networkx in /usr/local/lib/python3.10/dist-packages (from torch>=1.8.0->ultralytics==8.0.196) (3.3)\n",
            "Requirement already satisfied: jinja2 in /usr/local/lib/python3.10/dist-packages (from torch>=1.8.0->ultralytics==8.0.196) (3.1.4)\n",
            "Requirement already satisfied: fsspec in /usr/local/lib/python3.10/dist-packages (from torch>=1.8.0->ultralytics==8.0.196) (2024.6.1)\n",
            "Requirement already satisfied: six>=1.5 in /usr/local/lib/python3.10/dist-packages (from python-dateutil>=2.7->matplotlib>=3.3.0->ultralytics==8.0.196) (1.16.0)\n",
            "Requirement already satisfied: MarkupSafe>=2.0 in /usr/local/lib/python3.10/dist-packages (from jinja2->torch>=1.8.0->ultralytics==8.0.196) (2.1.5)\n",
            "Requirement already satisfied: mpmath<1.4,>=1.1.0 in /usr/local/lib/python3.10/dist-packages (from sympy->torch>=1.8.0->ultralytics==8.0.196) (1.3.0)\n",
            "Downloading ultralytics-8.0.196-py3-none-any.whl (631 kB)\n",
            "\u001b[2K   \u001b[90m━━━━━━━━━━━━━━━━━━━━━━━━━━━━━━━━━━━━━━━━\u001b[0m \u001b[32m631.1/631.1 kB\u001b[0m \u001b[31m40.0 MB/s\u001b[0m eta \u001b[36m0:00:00\u001b[0m\n",
            "\u001b[?25hDownloading thop-0.1.1.post2209072238-py3-none-any.whl (15 kB)\n",
            "Installing collected packages: thop, ultralytics\n",
            "  Attempting uninstall: ultralytics\n",
            "    Found existing installation: ultralytics 8.0.120\n",
            "    Uninstalling ultralytics-8.0.120:\n",
            "      Successfully uninstalled ultralytics-8.0.120\n",
            "Successfully installed thop-0.1.1.post2209072238 ultralytics-8.0.196\n"
          ]
        },
        {
          "output_type": "display_data",
          "data": {
            "application/vnd.colab-display-data+json": {
              "pip_warning": {
                "packages": [
                  "ultralytics"
                ]
              },
              "id": "2e16c31f2e9147dca56644892ba83b6f"
            }
          },
          "metadata": {}
        }
      ]
    },
    {
      "cell_type": "code",
      "source": [
        "!pip install roboflow\n",
        "\n",
        "from roboflow import Roboflow\n",
        "rf = Roboflow(api_key=\"iW0ic53GGPbz3kP5MbgZ\")\n",
        "project = rf.workspace(\"research-piohe\").project(\"ayushvision\")\n",
        "version = project.version(1)\n",
        "\n",
        ""
      ],
      "metadata": {
        "id": "fZi7f7GBYcC-",
        "outputId": "6c6fa4ed-702c-4fce-9d13-e6429eccf0ee",
        "colab": {
          "base_uri": "https://localhost:8080/"
        }
      },
      "execution_count": 2,
      "outputs": [
        {
          "output_type": "stream",
          "name": "stdout",
          "text": [
            "Requirement already satisfied: roboflow in /usr/local/lib/python3.10/dist-packages (1.1.45)\n",
            "Requirement already satisfied: certifi in /usr/local/lib/python3.10/dist-packages (from roboflow) (2024.8.30)\n",
            "Requirement already satisfied: idna==3.7 in /usr/local/lib/python3.10/dist-packages (from roboflow) (3.7)\n",
            "Requirement already satisfied: cycler in /usr/local/lib/python3.10/dist-packages (from roboflow) (0.12.1)\n",
            "Requirement already satisfied: kiwisolver>=1.3.1 in /usr/local/lib/python3.10/dist-packages (from roboflow) (1.4.7)\n",
            "Requirement already satisfied: matplotlib in /usr/local/lib/python3.10/dist-packages (from roboflow) (3.7.1)\n",
            "Requirement already satisfied: numpy>=1.18.5 in /usr/local/lib/python3.10/dist-packages (from roboflow) (1.26.4)\n",
            "Requirement already satisfied: opencv-python-headless==4.10.0.84 in /usr/local/lib/python3.10/dist-packages (from roboflow) (4.10.0.84)\n",
            "Requirement already satisfied: Pillow>=7.1.2 in /usr/local/lib/python3.10/dist-packages (from roboflow) (10.4.0)\n",
            "Requirement already satisfied: python-dateutil in /usr/local/lib/python3.10/dist-packages (from roboflow) (2.8.2)\n",
            "Requirement already satisfied: python-dotenv in /usr/local/lib/python3.10/dist-packages (from roboflow) (1.0.1)\n",
            "Requirement already satisfied: requests in /usr/local/lib/python3.10/dist-packages (from roboflow) (2.32.3)\n",
            "Requirement already satisfied: six in /usr/local/lib/python3.10/dist-packages (from roboflow) (1.16.0)\n",
            "Requirement already satisfied: urllib3>=1.26.6 in /usr/local/lib/python3.10/dist-packages (from roboflow) (2.2.3)\n",
            "Requirement already satisfied: tqdm>=4.41.0 in /usr/local/lib/python3.10/dist-packages (from roboflow) (4.66.5)\n",
            "Requirement already satisfied: PyYAML>=5.3.1 in /usr/local/lib/python3.10/dist-packages (from roboflow) (6.0.2)\n",
            "Requirement already satisfied: requests-toolbelt in /usr/local/lib/python3.10/dist-packages (from roboflow) (1.0.0)\n",
            "Requirement already satisfied: filetype in /usr/local/lib/python3.10/dist-packages (from roboflow) (1.2.0)\n",
            "Requirement already satisfied: contourpy>=1.0.1 in /usr/local/lib/python3.10/dist-packages (from matplotlib->roboflow) (1.3.0)\n",
            "Requirement already satisfied: fonttools>=4.22.0 in /usr/local/lib/python3.10/dist-packages (from matplotlib->roboflow) (4.53.1)\n",
            "Requirement already satisfied: packaging>=20.0 in /usr/local/lib/python3.10/dist-packages (from matplotlib->roboflow) (24.1)\n",
            "Requirement already satisfied: pyparsing>=2.3.1 in /usr/local/lib/python3.10/dist-packages (from matplotlib->roboflow) (3.1.4)\n",
            "Requirement already satisfied: charset-normalizer<4,>=2 in /usr/local/lib/python3.10/dist-packages (from requests->roboflow) (3.3.2)\n",
            "loading Roboflow workspace...\n",
            "loading Roboflow project...\n"
          ]
        }
      ]
    },
    {
      "cell_type": "code",
      "source": [
        "project.version(1).deploy(model_type=\"yolov8\", model_path=f\"/content/drive/MyDrive/AyushVision/yolo/training/20_09_2024/094919/plants/runs/train50/\")"
      ],
      "metadata": {
        "id": "k0ismH-EYqs4",
        "outputId": "2af7f965-0793-4e77-b737-b59f7b6f0303",
        "colab": {
          "base_uri": "https://localhost:8080/"
        }
      },
      "execution_count": 3,
      "outputs": [
        {
          "output_type": "stream",
          "name": "stderr",
          "text": [
            "WARNING ⚠️ Ultralytics settings reset to default values. This may be due to a possible problem with your settings or a recent ultralytics package update. \n",
            "View settings with 'yolo settings' or at '/root/.config/Ultralytics/settings.yaml'\n",
            "Update settings with 'yolo settings key=value', i.e. 'yolo settings runs_dir=path/to/dir'.\n",
            "You are using `torch.load` with `weights_only=False` (the current default value), which uses the default pickle module implicitly. It is possible to construct malicious pickle data which will execute arbitrary code during unpickling (See https://github.com/pytorch/pytorch/blob/main/SECURITY.md#untrusted-models for more details). In a future release, the default value for `weights_only` will be flipped to `True`. This limits the functions that could be executed during unpickling. Arbitrary objects will no longer be allowed to be loaded via this mode unless they are explicitly allowlisted by the user via `torch.serialization.add_safe_globals`. We recommend you start setting `weights_only=True` for any use case where you don't have full control of the loaded file. Please open an issue on GitHub for any issues related to this experimental feature.\n"
          ]
        },
        {
          "output_type": "stream",
          "name": "stdout",
          "text": [
            "View the status of your deployment at: https://app.roboflow.com/research-piohe/ayushvision/1\n",
            "Share your model with the world at: https://universe.roboflow.com/research-piohe/ayushvision/model/1\n"
          ]
        }
      ]
    }
  ],
  "metadata": {
    "colab": {
      "provenance": [],
      "machine_shape": "hm",
      "gpuType": "T4",
      "include_colab_link": true
    },
    "kernelspec": {
      "display_name": "Python 3",
      "name": "python3"
    },
    "language_info": {
      "name": "python"
    },
    "accelerator": "GPU"
  },
  "nbformat": 4,
  "nbformat_minor": 0
}