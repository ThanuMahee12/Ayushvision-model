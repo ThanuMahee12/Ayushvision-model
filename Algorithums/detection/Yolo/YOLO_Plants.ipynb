{
  "cells": [
    {
      "cell_type": "markdown",
      "metadata": {
        "id": "view-in-github",
        "colab_type": "text"
      },
      "source": [
        "<a href=\"https://colab.research.google.com/github/ThanuMahee12/ayush-vision/blob/yolo/Algorithums/detection/Yolo/YOLO_Plants.ipynb\" target=\"_parent\"><img src=\"https://colab.research.google.com/assets/colab-badge.svg\" alt=\"Open In Colab\"/></a>"
      ]
    },
    {
      "cell_type": "markdown",
      "metadata": {
        "id": "mWi18aj0n7HU"
      },
      "source": [
        "# YOLO Plants"
      ]
    },
    {
      "cell_type": "markdown",
      "metadata": {
        "id": "0CM_KjiNtVB7"
      },
      "source": [
        "## Colab"
      ]
    },
    {
      "cell_type": "code",
      "execution_count": 3,
      "metadata": {
        "colab": {
          "base_uri": "https://localhost:8080/"
        },
        "id": "3r-r4NsGoIwe",
        "outputId": "141afd1c-0d94-422b-ccbb-afbc64bf240e"
      },
      "outputs": [
        {
          "output_type": "stream",
          "name": "stdout",
          "text": [
            "Mounted at /content/drive\n"
          ]
        }
      ],
      "source": [
        "from google.colab import drive\n",
        "drive.mount('/content/drive')"
      ]
    },
    {
      "cell_type": "code",
      "execution_count": 4,
      "metadata": {
        "id": "ZKSwn8-clJNR"
      },
      "outputs": [],
      "source": [
        "basicdata={'account':'thanumahee440@gmail.com','user':\"Thanush126\"}\n"
      ]
    },
    {
      "cell_type": "code",
      "execution_count": 5,
      "metadata": {
        "colab": {
          "base_uri": "https://localhost:8080/"
        },
        "id": "z0Q4dWFHbYdR",
        "outputId": "040bee76-cedd-41ee-a6ed-2308acb9a287"
      },
      "outputs": [
        {
          "output_type": "stream",
          "name": "stdout",
          "text": [
            "Generating locales (this might take a while)...\n",
            "  en_US.UTF-8... done\n",
            "Generation complete.\n"
          ]
        }
      ],
      "source": [
        "! locale-gen en_US.UTF-8\n",
        "! export LC_ALL=en_US.UTF-8"
      ]
    },
    {
      "cell_type": "code",
      "source": [
        "firebase_count=1"
      ],
      "metadata": {
        "id": "QchwXMyYnQGQ"
      },
      "execution_count": 7,
      "outputs": []
    },
    {
      "cell_type": "markdown",
      "metadata": {
        "id": "h4jrfd8WtYpd"
      },
      "source": [
        "## Intallations"
      ]
    },
    {
      "cell_type": "code",
      "execution_count": 8,
      "metadata": {
        "id": "uRKGcqEKhzzt",
        "colab": {
          "base_uri": "https://localhost:8080/"
        },
        "outputId": "d4d68a84-ce96-499a-ed01-a46006ff20ba"
      },
      "outputs": [
        {
          "output_type": "stream",
          "name": "stdout",
          "text": [
            "Requirement already satisfied: firebase-admin in /usr/local/lib/python3.10/dist-packages (6.5.0)\n",
            "Requirement already satisfied: cachecontrol>=0.12.6 in /usr/local/lib/python3.10/dist-packages (from firebase-admin) (0.14.0)\n",
            "Requirement already satisfied: google-api-python-client>=1.7.8 in /usr/local/lib/python3.10/dist-packages (from firebase-admin) (2.137.0)\n",
            "Requirement already satisfied: google-cloud-storage>=1.37.1 in /usr/local/lib/python3.10/dist-packages (from firebase-admin) (2.8.0)\n",
            "Requirement already satisfied: pyjwt>=2.5.0 in /usr/local/lib/python3.10/dist-packages (from pyjwt[crypto]>=2.5.0->firebase-admin) (2.9.0)\n",
            "Requirement already satisfied: google-api-core<3.0.0dev,>=1.22.1 in /usr/local/lib/python3.10/dist-packages (from google-api-core[grpc]<3.0.0dev,>=1.22.1; platform_python_implementation != \"PyPy\"->firebase-admin) (2.19.2)\n",
            "Requirement already satisfied: google-cloud-firestore>=2.9.1 in /usr/local/lib/python3.10/dist-packages (from firebase-admin) (2.16.1)\n",
            "Requirement already satisfied: requests>=2.16.0 in /usr/local/lib/python3.10/dist-packages (from cachecontrol>=0.12.6->firebase-admin) (2.32.3)\n",
            "Requirement already satisfied: msgpack<2.0.0,>=0.5.2 in /usr/local/lib/python3.10/dist-packages (from cachecontrol>=0.12.6->firebase-admin) (1.0.8)\n",
            "Requirement already satisfied: googleapis-common-protos<2.0.dev0,>=1.56.2 in /usr/local/lib/python3.10/dist-packages (from google-api-core<3.0.0dev,>=1.22.1->google-api-core[grpc]<3.0.0dev,>=1.22.1; platform_python_implementation != \"PyPy\"->firebase-admin) (1.65.0)\n",
            "Requirement already satisfied: protobuf!=3.20.0,!=3.20.1,!=4.21.0,!=4.21.1,!=4.21.2,!=4.21.3,!=4.21.4,!=4.21.5,<6.0.0.dev0,>=3.19.5 in /usr/local/lib/python3.10/dist-packages (from google-api-core<3.0.0dev,>=1.22.1->google-api-core[grpc]<3.0.0dev,>=1.22.1; platform_python_implementation != \"PyPy\"->firebase-admin) (3.20.3)\n",
            "Requirement already satisfied: proto-plus<2.0.0dev,>=1.22.3 in /usr/local/lib/python3.10/dist-packages (from google-api-core<3.0.0dev,>=1.22.1->google-api-core[grpc]<3.0.0dev,>=1.22.1; platform_python_implementation != \"PyPy\"->firebase-admin) (1.24.0)\n",
            "Requirement already satisfied: google-auth<3.0.dev0,>=2.14.1 in /usr/local/lib/python3.10/dist-packages (from google-api-core<3.0.0dev,>=1.22.1->google-api-core[grpc]<3.0.0dev,>=1.22.1; platform_python_implementation != \"PyPy\"->firebase-admin) (2.27.0)\n",
            "Requirement already satisfied: grpcio<2.0dev,>=1.33.2 in /usr/local/lib/python3.10/dist-packages (from google-api-core[grpc]<3.0.0dev,>=1.22.1; platform_python_implementation != \"PyPy\"->firebase-admin) (1.64.1)\n",
            "Requirement already satisfied: grpcio-status<2.0.dev0,>=1.33.2 in /usr/local/lib/python3.10/dist-packages (from google-api-core[grpc]<3.0.0dev,>=1.22.1; platform_python_implementation != \"PyPy\"->firebase-admin) (1.48.2)\n",
            "Requirement already satisfied: httplib2<1.dev0,>=0.19.0 in /usr/local/lib/python3.10/dist-packages (from google-api-python-client>=1.7.8->firebase-admin) (0.22.0)\n",
            "Requirement already satisfied: google-auth-httplib2<1.0.0,>=0.2.0 in /usr/local/lib/python3.10/dist-packages (from google-api-python-client>=1.7.8->firebase-admin) (0.2.0)\n",
            "Requirement already satisfied: uritemplate<5,>=3.0.1 in /usr/local/lib/python3.10/dist-packages (from google-api-python-client>=1.7.8->firebase-admin) (4.1.1)\n",
            "Requirement already satisfied: google-cloud-core<3.0.0dev,>=1.4.1 in /usr/local/lib/python3.10/dist-packages (from google-cloud-firestore>=2.9.1->firebase-admin) (2.4.1)\n",
            "Requirement already satisfied: google-resumable-media>=2.3.2 in /usr/local/lib/python3.10/dist-packages (from google-cloud-storage>=1.37.1->firebase-admin) (2.7.2)\n",
            "Requirement already satisfied: cryptography>=3.4.0 in /usr/local/lib/python3.10/dist-packages (from pyjwt[crypto]>=2.5.0->firebase-admin) (43.0.1)\n",
            "Requirement already satisfied: cffi>=1.12 in /usr/local/lib/python3.10/dist-packages (from cryptography>=3.4.0->pyjwt[crypto]>=2.5.0->firebase-admin) (1.17.1)\n",
            "Requirement already satisfied: cachetools<6.0,>=2.0.0 in /usr/local/lib/python3.10/dist-packages (from google-auth<3.0.dev0,>=2.14.1->google-api-core<3.0.0dev,>=1.22.1->google-api-core[grpc]<3.0.0dev,>=1.22.1; platform_python_implementation != \"PyPy\"->firebase-admin) (5.5.0)\n",
            "Requirement already satisfied: pyasn1-modules>=0.2.1 in /usr/local/lib/python3.10/dist-packages (from google-auth<3.0.dev0,>=2.14.1->google-api-core<3.0.0dev,>=1.22.1->google-api-core[grpc]<3.0.0dev,>=1.22.1; platform_python_implementation != \"PyPy\"->firebase-admin) (0.4.1)\n",
            "Requirement already satisfied: rsa<5,>=3.1.4 in /usr/local/lib/python3.10/dist-packages (from google-auth<3.0.dev0,>=2.14.1->google-api-core<3.0.0dev,>=1.22.1->google-api-core[grpc]<3.0.0dev,>=1.22.1; platform_python_implementation != \"PyPy\"->firebase-admin) (4.9)\n",
            "Requirement already satisfied: google-crc32c<2.0dev,>=1.0 in /usr/local/lib/python3.10/dist-packages (from google-resumable-media>=2.3.2->google-cloud-storage>=1.37.1->firebase-admin) (1.6.0)\n",
            "Requirement already satisfied: pyparsing!=3.0.0,!=3.0.1,!=3.0.2,!=3.0.3,<4,>=2.4.2 in /usr/local/lib/python3.10/dist-packages (from httplib2<1.dev0,>=0.19.0->google-api-python-client>=1.7.8->firebase-admin) (3.1.4)\n",
            "Requirement already satisfied: charset-normalizer<4,>=2 in /usr/local/lib/python3.10/dist-packages (from requests>=2.16.0->cachecontrol>=0.12.6->firebase-admin) (3.3.2)\n",
            "Requirement already satisfied: idna<4,>=2.5 in /usr/local/lib/python3.10/dist-packages (from requests>=2.16.0->cachecontrol>=0.12.6->firebase-admin) (3.8)\n",
            "Requirement already satisfied: urllib3<3,>=1.21.1 in /usr/local/lib/python3.10/dist-packages (from requests>=2.16.0->cachecontrol>=0.12.6->firebase-admin) (2.0.7)\n",
            "Requirement already satisfied: certifi>=2017.4.17 in /usr/local/lib/python3.10/dist-packages (from requests>=2.16.0->cachecontrol>=0.12.6->firebase-admin) (2024.8.30)\n",
            "Requirement already satisfied: pycparser in /usr/local/lib/python3.10/dist-packages (from cffi>=1.12->cryptography>=3.4.0->pyjwt[crypto]>=2.5.0->firebase-admin) (2.22)\n",
            "Requirement already satisfied: pyasn1<0.7.0,>=0.4.6 in /usr/local/lib/python3.10/dist-packages (from pyasn1-modules>=0.2.1->google-auth<3.0.dev0,>=2.14.1->google-api-core<3.0.0dev,>=1.22.1->google-api-core[grpc]<3.0.0dev,>=1.22.1; platform_python_implementation != \"PyPy\"->firebase-admin) (0.6.1)\n"
          ]
        }
      ],
      "source": [
        "!pip install firebase-admin"
      ]
    },
    {
      "cell_type": "code",
      "execution_count": 9,
      "metadata": {
        "colab": {
          "base_uri": "https://localhost:8080/"
        },
        "id": "xx51cd0goqWi",
        "outputId": "5db32b39-9d71-4b34-bd00-efd3877ccd9e"
      },
      "outputs": [
        {
          "output_type": "stream",
          "name": "stdout",
          "text": [
            "Collecting ultralytics\n",
            "  Downloading ultralytics-8.2.95-py3-none-any.whl.metadata (39 kB)\n",
            "Requirement already satisfied: numpy<2.0.0,>=1.23.0 in /usr/local/lib/python3.10/dist-packages (from ultralytics) (1.26.4)\n",
            "Requirement already satisfied: matplotlib>=3.3.0 in /usr/local/lib/python3.10/dist-packages (from ultralytics) (3.7.1)\n",
            "Requirement already satisfied: opencv-python>=4.6.0 in /usr/local/lib/python3.10/dist-packages (from ultralytics) (4.10.0.84)\n",
            "Requirement already satisfied: pillow>=7.1.2 in /usr/local/lib/python3.10/dist-packages (from ultralytics) (9.4.0)\n",
            "Requirement already satisfied: pyyaml>=5.3.1 in /usr/local/lib/python3.10/dist-packages (from ultralytics) (6.0.2)\n",
            "Requirement already satisfied: requests>=2.23.0 in /usr/local/lib/python3.10/dist-packages (from ultralytics) (2.32.3)\n",
            "Requirement already satisfied: scipy>=1.4.1 in /usr/local/lib/python3.10/dist-packages (from ultralytics) (1.13.1)\n",
            "Requirement already satisfied: torch>=1.8.0 in /usr/local/lib/python3.10/dist-packages (from ultralytics) (2.4.0+cu121)\n",
            "Requirement already satisfied: torchvision>=0.9.0 in /usr/local/lib/python3.10/dist-packages (from ultralytics) (0.19.0+cu121)\n",
            "Requirement already satisfied: tqdm>=4.64.0 in /usr/local/lib/python3.10/dist-packages (from ultralytics) (4.66.5)\n",
            "Requirement already satisfied: psutil in /usr/local/lib/python3.10/dist-packages (from ultralytics) (5.9.5)\n",
            "Requirement already satisfied: py-cpuinfo in /usr/local/lib/python3.10/dist-packages (from ultralytics) (9.0.0)\n",
            "Requirement already satisfied: pandas>=1.1.4 in /usr/local/lib/python3.10/dist-packages (from ultralytics) (2.1.4)\n",
            "Requirement already satisfied: seaborn>=0.11.0 in /usr/local/lib/python3.10/dist-packages (from ultralytics) (0.13.1)\n",
            "Collecting ultralytics-thop>=2.0.0 (from ultralytics)\n",
            "  Downloading ultralytics_thop-2.0.6-py3-none-any.whl.metadata (9.1 kB)\n",
            "Requirement already satisfied: contourpy>=1.0.1 in /usr/local/lib/python3.10/dist-packages (from matplotlib>=3.3.0->ultralytics) (1.3.0)\n",
            "Requirement already satisfied: cycler>=0.10 in /usr/local/lib/python3.10/dist-packages (from matplotlib>=3.3.0->ultralytics) (0.12.1)\n",
            "Requirement already satisfied: fonttools>=4.22.0 in /usr/local/lib/python3.10/dist-packages (from matplotlib>=3.3.0->ultralytics) (4.53.1)\n",
            "Requirement already satisfied: kiwisolver>=1.0.1 in /usr/local/lib/python3.10/dist-packages (from matplotlib>=3.3.0->ultralytics) (1.4.7)\n",
            "Requirement already satisfied: packaging>=20.0 in /usr/local/lib/python3.10/dist-packages (from matplotlib>=3.3.0->ultralytics) (24.1)\n",
            "Requirement already satisfied: pyparsing>=2.3.1 in /usr/local/lib/python3.10/dist-packages (from matplotlib>=3.3.0->ultralytics) (3.1.4)\n",
            "Requirement already satisfied: python-dateutil>=2.7 in /usr/local/lib/python3.10/dist-packages (from matplotlib>=3.3.0->ultralytics) (2.8.2)\n",
            "Requirement already satisfied: pytz>=2020.1 in /usr/local/lib/python3.10/dist-packages (from pandas>=1.1.4->ultralytics) (2024.2)\n",
            "Requirement already satisfied: tzdata>=2022.1 in /usr/local/lib/python3.10/dist-packages (from pandas>=1.1.4->ultralytics) (2024.1)\n",
            "Requirement already satisfied: charset-normalizer<4,>=2 in /usr/local/lib/python3.10/dist-packages (from requests>=2.23.0->ultralytics) (3.3.2)\n",
            "Requirement already satisfied: idna<4,>=2.5 in /usr/local/lib/python3.10/dist-packages (from requests>=2.23.0->ultralytics) (3.8)\n",
            "Requirement already satisfied: urllib3<3,>=1.21.1 in /usr/local/lib/python3.10/dist-packages (from requests>=2.23.0->ultralytics) (2.0.7)\n",
            "Requirement already satisfied: certifi>=2017.4.17 in /usr/local/lib/python3.10/dist-packages (from requests>=2.23.0->ultralytics) (2024.8.30)\n",
            "Requirement already satisfied: filelock in /usr/local/lib/python3.10/dist-packages (from torch>=1.8.0->ultralytics) (3.16.0)\n",
            "Requirement already satisfied: typing-extensions>=4.8.0 in /usr/local/lib/python3.10/dist-packages (from torch>=1.8.0->ultralytics) (4.12.2)\n",
            "Requirement already satisfied: sympy in /usr/local/lib/python3.10/dist-packages (from torch>=1.8.0->ultralytics) (1.13.2)\n",
            "Requirement already satisfied: networkx in /usr/local/lib/python3.10/dist-packages (from torch>=1.8.0->ultralytics) (3.3)\n",
            "Requirement already satisfied: jinja2 in /usr/local/lib/python3.10/dist-packages (from torch>=1.8.0->ultralytics) (3.1.4)\n",
            "Requirement already satisfied: fsspec in /usr/local/lib/python3.10/dist-packages (from torch>=1.8.0->ultralytics) (2024.6.1)\n",
            "Requirement already satisfied: six>=1.5 in /usr/local/lib/python3.10/dist-packages (from python-dateutil>=2.7->matplotlib>=3.3.0->ultralytics) (1.16.0)\n",
            "Requirement already satisfied: MarkupSafe>=2.0 in /usr/local/lib/python3.10/dist-packages (from jinja2->torch>=1.8.0->ultralytics) (2.1.5)\n",
            "Requirement already satisfied: mpmath<1.4,>=1.1.0 in /usr/local/lib/python3.10/dist-packages (from sympy->torch>=1.8.0->ultralytics) (1.3.0)\n",
            "Downloading ultralytics-8.2.95-py3-none-any.whl (872 kB)\n",
            "\u001b[2K   \u001b[90m━━━━━━━━━━━━━━━━━━━━━━━━━━━━━━━━━━━━━━━━\u001b[0m \u001b[32m872.8/872.8 kB\u001b[0m \u001b[31m14.0 MB/s\u001b[0m eta \u001b[36m0:00:00\u001b[0m\n",
            "\u001b[?25hDownloading ultralytics_thop-2.0.6-py3-none-any.whl (26 kB)\n",
            "Installing collected packages: ultralytics-thop, ultralytics\n",
            "Successfully installed ultralytics-8.2.95 ultralytics-thop-2.0.6\n"
          ]
        }
      ],
      "source": [
        "!pip install ultralytics"
      ]
    },
    {
      "cell_type": "markdown",
      "metadata": {
        "id": "dF-FeFKVtc0j"
      },
      "source": [
        "## Imports"
      ]
    },
    {
      "cell_type": "code",
      "execution_count": 10,
      "metadata": {
        "id": "LA6879REh_Yu"
      },
      "outputs": [],
      "source": [
        "import firebase_admin\n"
      ]
    },
    {
      "cell_type": "code",
      "source": [
        "from PIL import Image"
      ],
      "metadata": {
        "id": "61UufPts33B0"
      },
      "execution_count": 11,
      "outputs": []
    },
    {
      "cell_type": "code",
      "execution_count": 12,
      "metadata": {
        "id": "TxfkdTzEiEie"
      },
      "outputs": [],
      "source": [
        "from firebase_admin import credentials,storage\n"
      ]
    },
    {
      "cell_type": "code",
      "execution_count": 13,
      "metadata": {
        "id": "Z1wqn3xWiGgv"
      },
      "outputs": [],
      "source": [
        "from firebase_admin import firestore"
      ]
    },
    {
      "cell_type": "code",
      "execution_count": 14,
      "metadata": {
        "id": "vWoaQzKEn7He"
      },
      "outputs": [],
      "source": [
        "from ultralytics import YOLO"
      ]
    },
    {
      "cell_type": "code",
      "execution_count": 15,
      "metadata": {
        "id": "2vAitzxpoa7a"
      },
      "outputs": [],
      "source": [
        "from datetime import date,datetime"
      ]
    },
    {
      "cell_type": "code",
      "execution_count": 16,
      "metadata": {
        "id": "QXBrUhRTn7Hg"
      },
      "outputs": [],
      "source": [
        "import os"
      ]
    },
    {
      "cell_type": "code",
      "execution_count": 17,
      "metadata": {
        "id": "3H26Ktufn7Hh"
      },
      "outputs": [],
      "source": [
        "import numpy as np"
      ]
    },
    {
      "cell_type": "code",
      "execution_count": 18,
      "metadata": {
        "id": "YX-4QEzwn7Hi"
      },
      "outputs": [],
      "source": [
        "from matplotlib import pyplot as plt"
      ]
    },
    {
      "cell_type": "code",
      "execution_count": 19,
      "metadata": {
        "id": "VPtnbmKmpo6w"
      },
      "outputs": [],
      "source": [
        "import random"
      ]
    },
    {
      "cell_type": "code",
      "execution_count": 20,
      "metadata": {
        "id": "3zftmIrTuI99"
      },
      "outputs": [],
      "source": [
        "import yaml"
      ]
    },
    {
      "cell_type": "code",
      "source": [
        "import csv"
      ],
      "metadata": {
        "id": "Ao5cEidSgm4D"
      },
      "execution_count": 21,
      "outputs": []
    },
    {
      "cell_type": "code",
      "source": [
        "import json"
      ],
      "metadata": {
        "id": "W9ZafQyMgoug"
      },
      "execution_count": 22,
      "outputs": []
    },
    {
      "cell_type": "markdown",
      "metadata": {
        "id": "VLe9eLGetyX_"
      },
      "source": [
        "## Config"
      ]
    },
    {
      "cell_type": "code",
      "execution_count": 23,
      "metadata": {
        "id": "c_qNgMdot0QK"
      },
      "outputs": [],
      "source": [
        "epochs=50\n",
        "imageSize=640\n",
        "optimizer='Adam'\n",
        "dropout=0.25"
      ]
    },
    {
      "cell_type": "markdown",
      "metadata": {
        "id": "xPNvfYoiKmz8"
      },
      "source": [
        "### Dirctory"
      ]
    },
    {
      "cell_type": "code",
      "execution_count": 24,
      "metadata": {
        "id": "hrtvf7FqKZzj"
      },
      "outputs": [],
      "source": [
        "work_dirctory=\"/content/drive/MyDrive/AyushVision/yolo/training\"\n",
        "work_dirctory_root=\"/content/drive/MyDrive/AyushVision/yolo\"\n",
        "firebase_key=\"/content/drive/MyDrive/ServiceKey.json\""
      ]
    },
    {
      "cell_type": "code",
      "execution_count": 25,
      "metadata": {
        "id": "NWkZ6kdWl9Tc"
      },
      "outputs": [],
      "source": [
        "# today_work_dirctory=f\"{work_dirctory}/{date.today().strftime('%d_%m_%Y')}/{datetime.now().strftime('%H%M%S')}\"\n",
        "today_work_dirctory=\"/content/drive/MyDrive/AyushVision/yolo/training/16_09_2024/192332\""
      ]
    },
    {
      "cell_type": "code",
      "execution_count": 26,
      "metadata": {
        "id": "VCixGiXvmBWf"
      },
      "outputs": [],
      "source": [
        "if not os.path.exists(work_dirctory):\n",
        "  os.makedirs(work_dirctory,exist_ok=True)\n",
        "if not os.path.exists(today_work_dirctory):\n",
        "  os.makedirs(today_work_dirctory,exist_ok=True)"
      ]
    },
    {
      "cell_type": "code",
      "execution_count": 27,
      "metadata": {
        "id": "iAbj-AXXmEo7"
      },
      "outputs": [],
      "source": [
        "data=\"/content/drive/MyDrive/AyushVision/yolo/final/data.yaml\""
      ]
    },
    {
      "cell_type": "code",
      "execution_count": 28,
      "metadata": {
        "id": "J77aImwXtlPV"
      },
      "outputs": [],
      "source": [
        "project=f\"{today_work_dirctory}/leaves/runs\"\n",
        "name=f'train{epochs}'"
      ]
    },
    {
      "cell_type": "markdown",
      "metadata": {
        "id": "XV9QP9llluYJ"
      },
      "source": [
        "## Firebase"
      ]
    },
    {
      "cell_type": "code",
      "execution_count": 29,
      "metadata": {
        "id": "RpsSJqZBiPpe"
      },
      "outputs": [],
      "source": [
        "\n",
        "if firebase_count==1:\n",
        "  cred = credentials.Certificate(firebase_key)\n",
        "  firebase_admin.initialize_app(cred,{\n",
        "    'storageBucket': 'ayush-vision-asw4gh.appspot.com'\n",
        "  })\n",
        "firebase_count=firebase_count+1"
      ]
    },
    {
      "cell_type": "code",
      "execution_count": 30,
      "metadata": {
        "id": "UlsbRiTTj259"
      },
      "outputs": [],
      "source": [
        "db = firestore.client()"
      ]
    },
    {
      "cell_type": "code",
      "execution_count": 31,
      "metadata": {
        "id": "1MqZJtEzv4eF"
      },
      "outputs": [],
      "source": [
        "bucket = storage.bucket()"
      ]
    },
    {
      "cell_type": "code",
      "execution_count": 32,
      "metadata": {
        "id": "FjHEnE_7qSNN"
      },
      "outputs": [],
      "source": [
        "yolo_ref = db.collection(\"training1\").document('yolo')\n",
        "doc = yolo_ref.get()"
      ]
    },
    {
      "cell_type": "code",
      "execution_count": 33,
      "metadata": {
        "id": "mivbo7JFl00U"
      },
      "outputs": [],
      "source": [
        "if not doc.exists:\n",
        "  doc_ref= db.collection(\"training1\").document('yolo')\n",
        "  doc_ref.set({'algorithum':'yolo','version':'V8','mode':'detection','url':'ultralytics'})\n",
        "else:\n",
        "  doc_ref= yolo_ref"
      ]
    },
    {
      "cell_type": "markdown",
      "metadata": {
        "id": "LtFuKd42KznG"
      },
      "source": [
        "### Roboflow"
      ]
    },
    {
      "cell_type": "markdown",
      "metadata": {
        "id": "AapMM59Xn7Hj"
      },
      "source": [
        "## Model"
      ]
    },
    {
      "cell_type": "code",
      "source": [
        "# document_id=f'{datetime.now().strftime(f\"%Y%m%d%%S\")}_{epochs}'\n",
        "document_id=\"20240916%S_50\""
      ],
      "metadata": {
        "id": "0zKnjUWKotRg"
      },
      "execution_count": 34,
      "outputs": []
    },
    {
      "cell_type": "code",
      "source": [
        "storageLocation=f'training/yolo/plannts/{document_id}'"
      ],
      "metadata": {
        "id": "X0vdMJ2Eo9AS"
      },
      "execution_count": 35,
      "outputs": []
    },
    {
      "cell_type": "code",
      "execution_count": 36,
      "metadata": {
        "id": "Mwg3H-G3orDr"
      },
      "outputs": [],
      "source": [
        "today_ref=doc_ref.collection(\"Plants\").document(document_id)"
      ]
    },
    {
      "cell_type": "code",
      "execution_count": 34,
      "metadata": {
        "id": "7UvmNAyIreO8"
      },
      "outputs": [],
      "source": [
        "basicdata['imageSize']=imageSize\n",
        "basicdata['project']=project\n",
        "basicdata['name']=name\n",
        "basicdata['training_date']=datetime.now().strftime(\"%Y/%m/%d %H:%M:%S\")\n",
        "basicdata['filename']='YOLO_Plants'"
      ]
    },
    {
      "cell_type": "code",
      "execution_count": 35,
      "metadata": {
        "id": "-YZRg5JWuAEM"
      },
      "outputs": [],
      "source": [
        "with open(data, 'r') as file:\n",
        "    yaml_content = yaml.safe_load(file)"
      ]
    },
    {
      "cell_type": "code",
      "execution_count": 36,
      "metadata": {
        "id": "PY06W962uaMn"
      },
      "outputs": [],
      "source": [
        "basicdata['names']=yaml_content['names']"
      ]
    },
    {
      "cell_type": "code",
      "execution_count": 37,
      "metadata": {
        "colab": {
          "base_uri": "https://localhost:8080/"
        },
        "id": "UafSx86dkAcs",
        "outputId": "8f257bd2-8d52-4ed1-a641-ca676ddec515"
      },
      "outputs": [
        {
          "output_type": "execute_result",
          "data": {
            "text/plain": [
              "update_time {\n",
              "  seconds: 1726514658\n",
              "  nanos: 391849000\n",
              "}"
            ]
          },
          "metadata": {},
          "execution_count": 37
        }
      ],
      "source": [
        "today_ref.set(basicdata)"
      ]
    },
    {
      "cell_type": "code",
      "execution_count": 37,
      "metadata": {
        "colab": {
          "base_uri": "https://localhost:8080/"
        },
        "id": "uTFQPVebn7Hk",
        "outputId": "a95fed06-48b3-4e4d-9117-201e20a5930e"
      },
      "outputs": [
        {
          "output_type": "stream",
          "name": "stdout",
          "text": [
            "Downloading https://github.com/ultralytics/assets/releases/download/v8.2.0/yolov8n.pt to 'yolov8n.pt'...\n"
          ]
        },
        {
          "output_type": "stream",
          "name": "stderr",
          "text": [
            "100%|██████████| 6.25M/6.25M [00:00<00:00, 22.6MB/s]\n"
          ]
        },
        {
          "output_type": "stream",
          "name": "stdout",
          "text": [
            "Transferred 355/355 items from pretrained weights\n"
          ]
        }
      ],
      "source": [
        "yolo_model = YOLO('yolov8n.yaml').load('yolov8n.pt')"
      ]
    },
    {
      "cell_type": "markdown",
      "metadata": {
        "id": "8EMUXQQAn7Hm"
      },
      "source": [
        "#### Training"
      ]
    },
    {
      "cell_type": "code",
      "execution_count": 39,
      "metadata": {
        "colab": {
          "base_uri": "https://localhost:8080/"
        },
        "id": "cyofPiscn7Hn",
        "outputId": "f25e0957-01f7-4fc0-f4c7-d1decf833daa"
      },
      "outputs": [
        {
          "output_type": "stream",
          "name": "stdout",
          "text": [
            "Ultralytics YOLOv8.2.94 🚀 Python-3.10.12 torch-2.4.0+cu121 CUDA:0 (Tesla T4, 15102MiB)\n",
            "\u001b[34m\u001b[1mengine/trainer: \u001b[0mtask=detect, mode=train, model=yolov8n.yaml, data=/content/drive/MyDrive/AyushVision/yolo/final/data.yaml, epochs=50, time=None, patience=5, batch=16, imgsz=640, save=True, save_period=-1, cache=False, device=None, workers=8, project=/content/drive/MyDrive/AyushVision/yolo/training/16_09_2024/192332/leaves/runs, name=train50, exist_ok=False, pretrained=yolov8n.pt, optimizer=Adam, verbose=True, seed=0, deterministic=True, single_cls=False, rect=False, cos_lr=False, close_mosaic=10, resume=False, amp=True, fraction=1.0, profile=False, freeze=None, multi_scale=False, overlap_mask=True, mask_ratio=4, dropout=0.25, val=True, split=val, save_json=False, save_hybrid=False, conf=None, iou=0.7, max_det=300, half=False, dnn=False, plots=True, source=None, vid_stride=1, stream_buffer=False, visualize=False, augment=True, agnostic_nms=False, classes=None, retina_masks=False, embed=None, show=False, save_frames=False, save_txt=False, save_conf=False, save_crop=False, show_labels=True, show_conf=True, show_boxes=True, line_width=None, format=torchscript, keras=False, optimize=False, int8=False, dynamic=False, simplify=False, opset=None, workspace=4, nms=False, lr0=0.01, lrf=0.1, momentum=0.937, weight_decay=0.0005, warmup_epochs=3, warmup_momentum=0.8, warmup_bias_lr=0.1, box=7.5, cls=0.5, dfl=1.5, pose=12.0, kobj=1.0, label_smoothing=0.0, nbs=64, hsv_h=0.015, hsv_s=0.7, hsv_v=0.4, degrees=0.0, translate=0.1, scale=0.5, shear=0.0, perspective=0.0, flipud=0.0, fliplr=0.5, bgr=0.0, mosaic=1.0, mixup=0.0, copy_paste=0.0, auto_augment=randaugment, erasing=0.4, crop_fraction=1.0, cfg=None, tracker=botsort.yaml, save_dir=/content/drive/MyDrive/AyushVision/yolo/training/16_09_2024/192332/leaves/runs/train50\n",
            "Downloading https://ultralytics.com/assets/Arial.ttf to '/root/.config/Ultralytics/Arial.ttf'...\n"
          ]
        },
        {
          "output_type": "stream",
          "name": "stderr",
          "text": [
            "100%|██████████| 755k/755k [00:00<00:00, 109MB/s]\n"
          ]
        },
        {
          "output_type": "stream",
          "name": "stdout",
          "text": [
            "Overriding model.yaml nc=80 with nc=32\n",
            "\n",
            "                   from  n    params  module                                       arguments                     \n",
            "  0                  -1  1       464  ultralytics.nn.modules.conv.Conv             [3, 16, 3, 2]                 \n",
            "  1                  -1  1      4672  ultralytics.nn.modules.conv.Conv             [16, 32, 3, 2]                \n",
            "  2                  -1  1      7360  ultralytics.nn.modules.block.C2f             [32, 32, 1, True]             \n",
            "  3                  -1  1     18560  ultralytics.nn.modules.conv.Conv             [32, 64, 3, 2]                \n",
            "  4                  -1  2     49664  ultralytics.nn.modules.block.C2f             [64, 64, 2, True]             \n",
            "  5                  -1  1     73984  ultralytics.nn.modules.conv.Conv             [64, 128, 3, 2]               \n",
            "  6                  -1  2    197632  ultralytics.nn.modules.block.C2f             [128, 128, 2, True]           \n",
            "  7                  -1  1    295424  ultralytics.nn.modules.conv.Conv             [128, 256, 3, 2]              \n",
            "  8                  -1  1    460288  ultralytics.nn.modules.block.C2f             [256, 256, 1, True]           \n",
            "  9                  -1  1    164608  ultralytics.nn.modules.block.SPPF            [256, 256, 5]                 \n",
            " 10                  -1  1         0  torch.nn.modules.upsampling.Upsample         [None, 2, 'nearest']          \n",
            " 11             [-1, 6]  1         0  ultralytics.nn.modules.conv.Concat           [1]                           \n",
            " 12                  -1  1    148224  ultralytics.nn.modules.block.C2f             [384, 128, 1]                 \n",
            " 13                  -1  1         0  torch.nn.modules.upsampling.Upsample         [None, 2, 'nearest']          \n",
            " 14             [-1, 4]  1         0  ultralytics.nn.modules.conv.Concat           [1]                           \n",
            " 15                  -1  1     37248  ultralytics.nn.modules.block.C2f             [192, 64, 1]                  \n",
            " 16                  -1  1     36992  ultralytics.nn.modules.conv.Conv             [64, 64, 3, 2]                \n",
            " 17            [-1, 12]  1         0  ultralytics.nn.modules.conv.Concat           [1]                           \n",
            " 18                  -1  1    123648  ultralytics.nn.modules.block.C2f             [192, 128, 1]                 \n",
            " 19                  -1  1    147712  ultralytics.nn.modules.conv.Conv             [128, 128, 3, 2]              \n",
            " 20             [-1, 9]  1         0  ultralytics.nn.modules.conv.Concat           [1]                           \n",
            " 21                  -1  1    493056  ultralytics.nn.modules.block.C2f             [384, 256, 1]                 \n",
            " 22        [15, 18, 21]  1    757552  ultralytics.nn.modules.head.Detect           [32, [64, 128, 256]]          \n",
            "YOLOv8n summary: 225 layers, 3,017,088 parameters, 3,017,072 gradients, 8.2 GFLOPs\n",
            "\n",
            "Transferred 319/355 items from pretrained weights\n",
            "\u001b[34m\u001b[1mTensorBoard: \u001b[0mStart with 'tensorboard --logdir /content/drive/MyDrive/AyushVision/yolo/training/16_09_2024/192332/leaves/runs/train50', view at http://localhost:6006/\n",
            "Freezing layer 'model.22.dfl.conv.weight'\n",
            "\u001b[34m\u001b[1mAMP: \u001b[0mrunning Automatic Mixed Precision (AMP) checks with YOLOv8n...\n",
            "\u001b[34m\u001b[1mAMP: \u001b[0mchecks passed ✅\n"
          ]
        },
        {
          "output_type": "stream",
          "name": "stderr",
          "text": [
            "\u001b[34m\u001b[1mtrain: \u001b[0mScanning /content/drive/MyDrive/AyushVision/yolo/final/train/labels.cache... 8158 images, 4882 backgrounds, 0 corrupt: 100%|██████████| 13039/13039 [00:00<?, ?it/s]\n"
          ]
        },
        {
          "output_type": "stream",
          "name": "stdout",
          "text": [
            "\u001b[34m\u001b[1malbumentations: \u001b[0mBlur(p=0.01, blur_limit=(3, 7)), MedianBlur(p=0.01, blur_limit=(3, 7)), ToGray(p=0.01), CLAHE(p=0.01, clip_limit=(1, 4.0), tile_grid_size=(8, 8))\n"
          ]
        },
        {
          "output_type": "stream",
          "name": "stderr",
          "text": [
            "/usr/local/lib/python3.10/dist-packages/albumentations/__init__.py:13: UserWarning: A new version of Albumentations is available: 1.4.15 (you have 1.4.14). Upgrade using: pip install -U albumentations. To disable automatic update checks, set the environment variable NO_ALBUMENTATIONS_UPDATE to 1.\n",
            "  check_for_updates()\n",
            "/usr/lib/python3.10/multiprocessing/popen_fork.py:66: RuntimeWarning: os.fork() was called. os.fork() is incompatible with multithreaded code, and JAX is multithreaded, so this will likely lead to a deadlock.\n",
            "  self.pid = os.fork()\n",
            "\u001b[34m\u001b[1mval: \u001b[0mScanning /content/drive/MyDrive/AyushVision/yolo/final/valid/labels.cache... 1934 images, 0 backgrounds, 0 corrupt: 100%|██████████| 1934/1934 [00:00<?, ?it/s]\n"
          ]
        },
        {
          "output_type": "stream",
          "name": "stdout",
          "text": [
            "Plotting labels to /content/drive/MyDrive/AyushVision/yolo/training/16_09_2024/192332/leaves/runs/train50/labels.jpg... \n",
            "\u001b[34m\u001b[1moptimizer:\u001b[0m Adam(lr=0.01, momentum=0.937) with parameter groups 57 weight(decay=0.0), 64 weight(decay=0.0005), 63 bias(decay=0.0)\n",
            "\u001b[34m\u001b[1mTensorBoard: \u001b[0mmodel graph visualization added ✅\n",
            "Image sizes 640 train, 640 val\n",
            "Using 8 dataloader workers\n",
            "Logging results to \u001b[1m/content/drive/MyDrive/AyushVision/yolo/training/16_09_2024/192332/leaves/runs/train50\u001b[0m\n",
            "Starting training for 50 epochs...\n",
            "\n",
            "      Epoch    GPU_mem   box_loss   cls_loss   dfl_loss  Instances       Size\n"
          ]
        },
        {
          "output_type": "stream",
          "name": "stderr",
          "text": [
            "       1/50      2.21G      1.038      3.054      1.608         24        640: 100%|██████████| 815/815 [22:01<00:00,  1.62s/it]\n",
            "                 Class     Images  Instances      Box(P          R      mAP50  mAP50-95): 100%|██████████| 61/61 [00:13<00:00,  4.53it/s]\n"
          ]
        },
        {
          "output_type": "stream",
          "name": "stdout",
          "text": [
            "                   all       1934       2190     0.0267      0.264     0.0342     0.0223\n",
            "\n",
            "      Epoch    GPU_mem   box_loss   cls_loss   dfl_loss  Instances       Size\n"
          ]
        },
        {
          "output_type": "stream",
          "name": "stderr",
          "text": [
            "       2/50      2.23G      1.003      2.693      1.579         29        640: 100%|██████████| 815/815 [02:11<00:00,  6.21it/s]\n",
            "                 Class     Images  Instances      Box(P          R      mAP50  mAP50-95): 100%|██████████| 61/61 [00:12<00:00,  5.04it/s]\n"
          ]
        },
        {
          "output_type": "stream",
          "name": "stdout",
          "text": [
            "                   all       1934       2190     0.0101      0.507     0.0318     0.0169\n",
            "\n",
            "      Epoch    GPU_mem   box_loss   cls_loss   dfl_loss  Instances       Size\n"
          ]
        },
        {
          "output_type": "stream",
          "name": "stderr",
          "text": [
            "       3/50      2.19G     0.9706       2.56      1.551         29        640: 100%|██████████| 815/815 [02:08<00:00,  6.34it/s]\n",
            "                 Class     Images  Instances      Box(P          R      mAP50  mAP50-95): 100%|██████████| 61/61 [00:12<00:00,  5.07it/s]\n"
          ]
        },
        {
          "output_type": "stream",
          "name": "stdout",
          "text": [
            "                   all       1934       2190      0.231      0.118     0.0453     0.0243\n",
            "\n",
            "      Epoch    GPU_mem   box_loss   cls_loss   dfl_loss  Instances       Size\n"
          ]
        },
        {
          "output_type": "stream",
          "name": "stderr",
          "text": [
            "       4/50      2.18G     0.9321      2.427      1.525         28        640: 100%|██████████| 815/815 [02:07<00:00,  6.39it/s]\n",
            "                 Class     Images  Instances      Box(P          R      mAP50  mAP50-95): 100%|██████████| 61/61 [00:12<00:00,  5.04it/s]\n"
          ]
        },
        {
          "output_type": "stream",
          "name": "stdout",
          "text": [
            "                   all       1934       2190      0.327      0.183      0.162      0.113\n",
            "\n",
            "      Epoch    GPU_mem   box_loss   cls_loss   dfl_loss  Instances       Size\n"
          ]
        },
        {
          "output_type": "stream",
          "name": "stderr",
          "text": [
            "       5/50      2.23G     0.8971      2.335      1.497         22        640: 100%|██████████| 815/815 [02:07<00:00,  6.38it/s]\n",
            "                 Class     Images  Instances      Box(P          R      mAP50  mAP50-95): 100%|██████████| 61/61 [00:11<00:00,  5.11it/s]"
          ]
        },
        {
          "output_type": "stream",
          "name": "stdout",
          "text": [
            "                   all       1934       2190      0.383      0.235      0.207       0.15\n"
          ]
        },
        {
          "output_type": "stream",
          "name": "stderr",
          "text": [
            "\n"
          ]
        },
        {
          "output_type": "stream",
          "name": "stdout",
          "text": [
            "\n",
            "      Epoch    GPU_mem   box_loss   cls_loss   dfl_loss  Instances       Size\n"
          ]
        },
        {
          "output_type": "stream",
          "name": "stderr",
          "text": [
            "       6/50      2.18G     0.8886       2.25       1.49         32        640: 100%|██████████| 815/815 [02:07<00:00,  6.38it/s]\n",
            "                 Class     Images  Instances      Box(P          R      mAP50  mAP50-95): 100%|██████████| 61/61 [00:12<00:00,  4.88it/s]\n"
          ]
        },
        {
          "output_type": "stream",
          "name": "stdout",
          "text": [
            "                   all       1934       2190       0.59       0.28      0.264      0.194\n",
            "\n",
            "      Epoch    GPU_mem   box_loss   cls_loss   dfl_loss  Instances       Size\n"
          ]
        },
        {
          "output_type": "stream",
          "name": "stderr",
          "text": [
            "       7/50      2.18G     0.8587      2.179      1.469         37        640: 100%|██████████| 815/815 [02:07<00:00,  6.39it/s]\n",
            "                 Class     Images  Instances      Box(P          R      mAP50  mAP50-95): 100%|██████████| 61/61 [00:11<00:00,  5.12it/s]"
          ]
        },
        {
          "output_type": "stream",
          "name": "stdout",
          "text": [
            "                   all       1934       2190       0.57      0.203      0.242      0.174\n"
          ]
        },
        {
          "output_type": "stream",
          "name": "stderr",
          "text": [
            "\n"
          ]
        },
        {
          "output_type": "stream",
          "name": "stdout",
          "text": [
            "\n",
            "      Epoch    GPU_mem   box_loss   cls_loss   dfl_loss  Instances       Size\n"
          ]
        },
        {
          "output_type": "stream",
          "name": "stderr",
          "text": [
            "       8/50      2.18G     0.8641      2.112      1.476         31        640: 100%|██████████| 815/815 [02:07<00:00,  6.38it/s]\n",
            "                 Class     Images  Instances      Box(P          R      mAP50  mAP50-95): 100%|██████████| 61/61 [00:12<00:00,  5.01it/s]\n"
          ]
        },
        {
          "output_type": "stream",
          "name": "stdout",
          "text": [
            "                   all       1934       2190      0.383      0.269      0.241      0.176\n",
            "\n",
            "      Epoch    GPU_mem   box_loss   cls_loss   dfl_loss  Instances       Size\n"
          ]
        },
        {
          "output_type": "stream",
          "name": "stderr",
          "text": [
            "       9/50      2.18G     0.8612      2.058      1.467         34        640: 100%|██████████| 815/815 [02:07<00:00,  6.38it/s]\n",
            "                 Class     Images  Instances      Box(P          R      mAP50  mAP50-95): 100%|██████████| 61/61 [00:11<00:00,  5.17it/s]"
          ]
        },
        {
          "output_type": "stream",
          "name": "stdout",
          "text": [
            "                   all       1934       2190      0.455      0.337      0.265      0.191\n"
          ]
        },
        {
          "output_type": "stream",
          "name": "stderr",
          "text": [
            "\n"
          ]
        },
        {
          "output_type": "stream",
          "name": "stdout",
          "text": [
            "\n",
            "      Epoch    GPU_mem   box_loss   cls_loss   dfl_loss  Instances       Size\n"
          ]
        },
        {
          "output_type": "stream",
          "name": "stderr",
          "text": [
            "      10/50      2.23G     0.8474      2.012      1.462         29        640: 100%|██████████| 815/815 [02:07<00:00,  6.38it/s]\n",
            "                 Class     Images  Instances      Box(P          R      mAP50  mAP50-95): 100%|██████████| 61/61 [00:12<00:00,  4.98it/s]"
          ]
        },
        {
          "output_type": "stream",
          "name": "stdout",
          "text": [
            "                   all       1934       2190       0.63      0.335      0.339      0.241\n"
          ]
        },
        {
          "output_type": "stream",
          "name": "stderr",
          "text": [
            "\n"
          ]
        },
        {
          "output_type": "stream",
          "name": "stdout",
          "text": [
            "\n",
            "      Epoch    GPU_mem   box_loss   cls_loss   dfl_loss  Instances       Size\n"
          ]
        },
        {
          "output_type": "stream",
          "name": "stderr",
          "text": [
            "      11/50      2.18G     0.8373      1.958      1.455         30        640: 100%|██████████| 815/815 [02:07<00:00,  6.38it/s]\n",
            "                 Class     Images  Instances      Box(P          R      mAP50  mAP50-95): 100%|██████████| 61/61 [00:11<00:00,  5.10it/s]\n"
          ]
        },
        {
          "output_type": "stream",
          "name": "stdout",
          "text": [
            "                   all       1934       2190      0.523      0.343      0.319      0.226\n",
            "\n",
            "      Epoch    GPU_mem   box_loss   cls_loss   dfl_loss  Instances       Size\n"
          ]
        },
        {
          "output_type": "stream",
          "name": "stderr",
          "text": [
            "      12/50      2.18G     0.8443      1.929      1.455         31        640: 100%|██████████| 815/815 [02:07<00:00,  6.39it/s]\n",
            "                 Class     Images  Instances      Box(P          R      mAP50  mAP50-95): 100%|██████████| 61/61 [00:12<00:00,  5.03it/s]"
          ]
        },
        {
          "output_type": "stream",
          "name": "stdout",
          "text": [
            "                   all       1934       2190      0.584      0.363      0.348      0.244\n"
          ]
        },
        {
          "output_type": "stream",
          "name": "stderr",
          "text": [
            "\n"
          ]
        },
        {
          "output_type": "stream",
          "name": "stdout",
          "text": [
            "\n",
            "      Epoch    GPU_mem   box_loss   cls_loss   dfl_loss  Instances       Size\n"
          ]
        },
        {
          "output_type": "stream",
          "name": "stderr",
          "text": [
            "      13/50      2.18G     0.8327      1.875       1.45         39        640: 100%|██████████| 815/815 [02:07<00:00,  6.38it/s]\n",
            "                 Class     Images  Instances      Box(P          R      mAP50  mAP50-95): 100%|██████████| 61/61 [00:11<00:00,  5.17it/s]"
          ]
        },
        {
          "output_type": "stream",
          "name": "stdout",
          "text": [
            "                   all       1934       2190      0.497      0.365      0.328      0.234\n"
          ]
        },
        {
          "output_type": "stream",
          "name": "stderr",
          "text": [
            "\n"
          ]
        },
        {
          "output_type": "stream",
          "name": "stdout",
          "text": [
            "\n",
            "      Epoch    GPU_mem   box_loss   cls_loss   dfl_loss  Instances       Size\n"
          ]
        },
        {
          "output_type": "stream",
          "name": "stderr",
          "text": [
            "      14/50      2.23G     0.8277      1.847      1.446         31        640: 100%|██████████| 815/815 [02:07<00:00,  6.37it/s]\n",
            "                 Class     Images  Instances      Box(P          R      mAP50  mAP50-95): 100%|██████████| 61/61 [00:12<00:00,  5.00it/s]"
          ]
        },
        {
          "output_type": "stream",
          "name": "stdout",
          "text": [
            "                   all       1934       2190      0.555      0.388      0.404        0.3\n"
          ]
        },
        {
          "output_type": "stream",
          "name": "stderr",
          "text": [
            "\n"
          ]
        },
        {
          "output_type": "stream",
          "name": "stdout",
          "text": [
            "\n",
            "      Epoch    GPU_mem   box_loss   cls_loss   dfl_loss  Instances       Size\n"
          ]
        },
        {
          "output_type": "stream",
          "name": "stderr",
          "text": [
            "      15/50      2.23G     0.8292      1.816      1.445         24        640: 100%|██████████| 815/815 [02:07<00:00,  6.39it/s]\n",
            "                 Class     Images  Instances      Box(P          R      mAP50  mAP50-95): 100%|██████████| 61/61 [00:11<00:00,  5.17it/s]"
          ]
        },
        {
          "output_type": "stream",
          "name": "stdout",
          "text": [
            "                   all       1934       2190      0.481      0.245      0.261      0.192\n"
          ]
        },
        {
          "output_type": "stream",
          "name": "stderr",
          "text": [
            "\n"
          ]
        },
        {
          "output_type": "stream",
          "name": "stdout",
          "text": [
            "\n",
            "      Epoch    GPU_mem   box_loss   cls_loss   dfl_loss  Instances       Size\n"
          ]
        },
        {
          "output_type": "stream",
          "name": "stderr",
          "text": [
            "      16/50      2.18G     0.8245      1.777      1.444         35        640: 100%|██████████| 815/815 [02:07<00:00,  6.39it/s]\n",
            "                 Class     Images  Instances      Box(P          R      mAP50  mAP50-95): 100%|██████████| 61/61 [00:12<00:00,  5.03it/s]\n"
          ]
        },
        {
          "output_type": "stream",
          "name": "stdout",
          "text": [
            "                   all       1934       2190      0.632      0.371      0.373      0.269\n",
            "\n",
            "      Epoch    GPU_mem   box_loss   cls_loss   dfl_loss  Instances       Size\n"
          ]
        },
        {
          "output_type": "stream",
          "name": "stderr",
          "text": [
            "      17/50      2.18G     0.8253      1.756      1.442         27        640: 100%|██████████| 815/815 [02:07<00:00,  6.39it/s]\n",
            "                 Class     Images  Instances      Box(P          R      mAP50  mAP50-95): 100%|██████████| 61/61 [00:11<00:00,  5.12it/s]\n"
          ]
        },
        {
          "output_type": "stream",
          "name": "stdout",
          "text": [
            "                   all       1934       2190      0.657      0.413      0.407      0.295\n",
            "\n",
            "      Epoch    GPU_mem   box_loss   cls_loss   dfl_loss  Instances       Size\n"
          ]
        },
        {
          "output_type": "stream",
          "name": "stderr",
          "text": [
            "      18/50      2.23G     0.8159      1.709      1.435         30        640: 100%|██████████| 815/815 [02:07<00:00,  6.40it/s]\n",
            "                 Class     Images  Instances      Box(P          R      mAP50  mAP50-95): 100%|██████████| 61/61 [00:12<00:00,  5.06it/s]"
          ]
        },
        {
          "output_type": "stream",
          "name": "stdout",
          "text": [
            "                   all       1934       2190       0.54      0.377      0.419      0.314\n"
          ]
        },
        {
          "output_type": "stream",
          "name": "stderr",
          "text": [
            "\n"
          ]
        },
        {
          "output_type": "stream",
          "name": "stdout",
          "text": [
            "\n",
            "      Epoch    GPU_mem   box_loss   cls_loss   dfl_loss  Instances       Size\n"
          ]
        },
        {
          "output_type": "stream",
          "name": "stderr",
          "text": [
            "      19/50      2.23G     0.8061      1.678      1.428         31        640: 100%|██████████| 815/815 [02:07<00:00,  6.39it/s]\n",
            "                 Class     Images  Instances      Box(P          R      mAP50  mAP50-95): 100%|██████████| 61/61 [00:11<00:00,  5.11it/s]\n"
          ]
        },
        {
          "output_type": "stream",
          "name": "stdout",
          "text": [
            "                   all       1934       2190      0.708       0.41       0.44      0.314\n",
            "\n",
            "      Epoch    GPU_mem   box_loss   cls_loss   dfl_loss  Instances       Size\n"
          ]
        },
        {
          "output_type": "stream",
          "name": "stderr",
          "text": [
            "      20/50      2.18G     0.8056      1.656      1.431         32        640: 100%|██████████| 815/815 [02:07<00:00,  6.38it/s]\n",
            "                 Class     Images  Instances      Box(P          R      mAP50  mAP50-95): 100%|██████████| 61/61 [00:12<00:00,  5.05it/s]"
          ]
        },
        {
          "output_type": "stream",
          "name": "stdout",
          "text": [
            "                   all       1934       2190      0.647      0.408      0.407      0.293\n"
          ]
        },
        {
          "output_type": "stream",
          "name": "stderr",
          "text": [
            "\n"
          ]
        },
        {
          "output_type": "stream",
          "name": "stdout",
          "text": [
            "\n",
            "      Epoch    GPU_mem   box_loss   cls_loss   dfl_loss  Instances       Size\n"
          ]
        },
        {
          "output_type": "stream",
          "name": "stderr",
          "text": [
            "      21/50      2.18G     0.8063      1.648      1.433         30        640: 100%|██████████| 815/815 [02:07<00:00,  6.39it/s]\n",
            "                 Class     Images  Instances      Box(P          R      mAP50  mAP50-95): 100%|██████████| 61/61 [00:12<00:00,  5.05it/s]"
          ]
        },
        {
          "output_type": "stream",
          "name": "stdout",
          "text": [
            "                   all       1934       2190      0.753      0.416      0.482      0.358\n"
          ]
        },
        {
          "output_type": "stream",
          "name": "stderr",
          "text": [
            "\n"
          ]
        },
        {
          "output_type": "stream",
          "name": "stdout",
          "text": [
            "\n",
            "      Epoch    GPU_mem   box_loss   cls_loss   dfl_loss  Instances       Size\n"
          ]
        },
        {
          "output_type": "stream",
          "name": "stderr",
          "text": [
            "      22/50      2.18G     0.8027      1.622       1.43         31        640: 100%|██████████| 815/815 [02:07<00:00,  6.40it/s]\n",
            "                 Class     Images  Instances      Box(P          R      mAP50  mAP50-95): 100%|██████████| 61/61 [00:12<00:00,  4.99it/s]\n"
          ]
        },
        {
          "output_type": "stream",
          "name": "stdout",
          "text": [
            "                   all       1934       2190      0.735      0.422      0.479      0.354\n",
            "\n",
            "      Epoch    GPU_mem   box_loss   cls_loss   dfl_loss  Instances       Size\n"
          ]
        },
        {
          "output_type": "stream",
          "name": "stderr",
          "text": [
            "      23/50      2.18G     0.7945      1.596       1.42         27        640: 100%|██████████| 815/815 [02:07<00:00,  6.40it/s]\n",
            "                 Class     Images  Instances      Box(P          R      mAP50  mAP50-95): 100%|██████████| 61/61 [00:12<00:00,  5.06it/s]"
          ]
        },
        {
          "output_type": "stream",
          "name": "stdout",
          "text": [
            "                   all       1934       2190      0.651      0.445      0.475      0.354\n"
          ]
        },
        {
          "output_type": "stream",
          "name": "stderr",
          "text": [
            "\n"
          ]
        },
        {
          "output_type": "stream",
          "name": "stdout",
          "text": [
            "\n",
            "      Epoch    GPU_mem   box_loss   cls_loss   dfl_loss  Instances       Size\n"
          ]
        },
        {
          "output_type": "stream",
          "name": "stderr",
          "text": [
            "      24/50      2.18G     0.7905      1.562      1.425         20        640: 100%|██████████| 815/815 [02:07<00:00,  6.41it/s]\n",
            "                 Class     Images  Instances      Box(P          R      mAP50  mAP50-95): 100%|██████████| 61/61 [00:11<00:00,  5.11it/s]"
          ]
        },
        {
          "output_type": "stream",
          "name": "stdout",
          "text": [
            "                   all       1934       2190      0.625      0.456      0.489      0.369\n"
          ]
        },
        {
          "output_type": "stream",
          "name": "stderr",
          "text": [
            "\n"
          ]
        },
        {
          "output_type": "stream",
          "name": "stdout",
          "text": [
            "\n",
            "      Epoch    GPU_mem   box_loss   cls_loss   dfl_loss  Instances       Size\n"
          ]
        },
        {
          "output_type": "stream",
          "name": "stderr",
          "text": [
            "      25/50      2.23G     0.7855      1.548      1.415         33        640: 100%|██████████| 815/815 [02:07<00:00,  6.39it/s]\n",
            "                 Class     Images  Instances      Box(P          R      mAP50  mAP50-95): 100%|██████████| 61/61 [00:12<00:00,  5.08it/s]"
          ]
        },
        {
          "output_type": "stream",
          "name": "stdout",
          "text": [
            "                   all       1934       2190      0.771      0.423      0.499      0.368\n"
          ]
        },
        {
          "output_type": "stream",
          "name": "stderr",
          "text": [
            "\n"
          ]
        },
        {
          "output_type": "stream",
          "name": "stdout",
          "text": [
            "\n",
            "      Epoch    GPU_mem   box_loss   cls_loss   dfl_loss  Instances       Size\n"
          ]
        },
        {
          "output_type": "stream",
          "name": "stderr",
          "text": [
            "      26/50      2.23G     0.7815      1.524      1.415         25        640: 100%|██████████| 815/815 [02:07<00:00,  6.41it/s]\n",
            "                 Class     Images  Instances      Box(P          R      mAP50  mAP50-95): 100%|██████████| 61/61 [00:11<00:00,  5.15it/s]"
          ]
        },
        {
          "output_type": "stream",
          "name": "stdout",
          "text": [
            "                   all       1934       2190      0.719      0.423      0.491      0.364\n"
          ]
        },
        {
          "output_type": "stream",
          "name": "stderr",
          "text": [
            "\n"
          ]
        },
        {
          "output_type": "stream",
          "name": "stdout",
          "text": [
            "\n",
            "      Epoch    GPU_mem   box_loss   cls_loss   dfl_loss  Instances       Size\n"
          ]
        },
        {
          "output_type": "stream",
          "name": "stderr",
          "text": [
            "      27/50      2.23G     0.7817      1.508      1.417         17        640: 100%|██████████| 815/815 [02:07<00:00,  6.40it/s]\n",
            "                 Class     Images  Instances      Box(P          R      mAP50  mAP50-95): 100%|██████████| 61/61 [00:12<00:00,  5.00it/s]"
          ]
        },
        {
          "output_type": "stream",
          "name": "stdout",
          "text": [
            "                   all       1934       2190      0.662      0.472      0.524      0.399\n"
          ]
        },
        {
          "output_type": "stream",
          "name": "stderr",
          "text": [
            "\n"
          ]
        },
        {
          "output_type": "stream",
          "name": "stdout",
          "text": [
            "\n",
            "      Epoch    GPU_mem   box_loss   cls_loss   dfl_loss  Instances       Size\n"
          ]
        },
        {
          "output_type": "stream",
          "name": "stderr",
          "text": [
            "      28/50      2.23G     0.7804      1.501      1.411         33        640: 100%|██████████| 815/815 [02:07<00:00,  6.39it/s]\n",
            "                 Class     Images  Instances      Box(P          R      mAP50  mAP50-95): 100%|██████████| 61/61 [00:11<00:00,  5.11it/s]"
          ]
        },
        {
          "output_type": "stream",
          "name": "stdout",
          "text": [
            "                   all       1934       2190      0.735      0.433      0.523      0.386\n"
          ]
        },
        {
          "output_type": "stream",
          "name": "stderr",
          "text": [
            "\n"
          ]
        },
        {
          "output_type": "stream",
          "name": "stdout",
          "text": [
            "\n",
            "      Epoch    GPU_mem   box_loss   cls_loss   dfl_loss  Instances       Size\n"
          ]
        },
        {
          "output_type": "stream",
          "name": "stderr",
          "text": [
            "      29/50      2.23G     0.7834      1.487      1.417         30        640: 100%|██████████| 815/815 [02:07<00:00,  6.39it/s]\n",
            "                 Class     Images  Instances      Box(P          R      mAP50  mAP50-95): 100%|██████████| 61/61 [00:12<00:00,  5.04it/s]"
          ]
        },
        {
          "output_type": "stream",
          "name": "stdout",
          "text": [
            "                   all       1934       2190      0.734      0.527      0.521      0.386\n"
          ]
        },
        {
          "output_type": "stream",
          "name": "stderr",
          "text": [
            "\n"
          ]
        },
        {
          "output_type": "stream",
          "name": "stdout",
          "text": [
            "\n",
            "      Epoch    GPU_mem   box_loss   cls_loss   dfl_loss  Instances       Size\n"
          ]
        },
        {
          "output_type": "stream",
          "name": "stderr",
          "text": [
            "      30/50      2.23G     0.7756      1.461      1.411         34        640: 100%|██████████| 815/815 [02:07<00:00,  6.41it/s]\n",
            "                 Class     Images  Instances      Box(P          R      mAP50  mAP50-95): 100%|██████████| 61/61 [00:12<00:00,  5.04it/s]\n"
          ]
        },
        {
          "output_type": "stream",
          "name": "stdout",
          "text": [
            "                   all       1934       2190      0.701      0.476      0.558      0.423\n",
            "\n",
            "      Epoch    GPU_mem   box_loss   cls_loss   dfl_loss  Instances       Size\n"
          ]
        },
        {
          "output_type": "stream",
          "name": "stderr",
          "text": [
            "      31/50      2.18G     0.7696      1.435      1.406         39        640: 100%|██████████| 815/815 [02:07<00:00,  6.41it/s]\n",
            "                 Class     Images  Instances      Box(P          R      mAP50  mAP50-95): 100%|██████████| 61/61 [00:12<00:00,  5.05it/s]"
          ]
        },
        {
          "output_type": "stream",
          "name": "stdout",
          "text": [
            "                   all       1934       2190      0.745      0.515      0.594      0.439\n"
          ]
        },
        {
          "output_type": "stream",
          "name": "stderr",
          "text": [
            "\n"
          ]
        },
        {
          "output_type": "stream",
          "name": "stdout",
          "text": [
            "\n",
            "      Epoch    GPU_mem   box_loss   cls_loss   dfl_loss  Instances       Size\n"
          ]
        },
        {
          "output_type": "stream",
          "name": "stderr",
          "text": [
            "      32/50      2.18G     0.7721       1.44      1.406         23        640: 100%|██████████| 815/815 [02:07<00:00,  6.40it/s]\n",
            "                 Class     Images  Instances      Box(P          R      mAP50  mAP50-95): 100%|██████████| 61/61 [00:11<00:00,  5.14it/s]"
          ]
        },
        {
          "output_type": "stream",
          "name": "stdout",
          "text": [
            "                   all       1934       2190      0.751      0.459      0.523      0.395\n"
          ]
        },
        {
          "output_type": "stream",
          "name": "stderr",
          "text": [
            "\n"
          ]
        },
        {
          "output_type": "stream",
          "name": "stdout",
          "text": [
            "\n",
            "      Epoch    GPU_mem   box_loss   cls_loss   dfl_loss  Instances       Size\n"
          ]
        },
        {
          "output_type": "stream",
          "name": "stderr",
          "text": [
            "      33/50      2.23G      0.768      1.429      1.406         32        640: 100%|██████████| 815/815 [02:07<00:00,  6.40it/s]\n",
            "                 Class     Images  Instances      Box(P          R      mAP50  mAP50-95): 100%|██████████| 61/61 [00:12<00:00,  5.06it/s]"
          ]
        },
        {
          "output_type": "stream",
          "name": "stdout",
          "text": [
            "                   all       1934       2190      0.831      0.454       0.54      0.412\n"
          ]
        },
        {
          "output_type": "stream",
          "name": "stderr",
          "text": [
            "\n"
          ]
        },
        {
          "output_type": "stream",
          "name": "stdout",
          "text": [
            "\n",
            "      Epoch    GPU_mem   box_loss   cls_loss   dfl_loss  Instances       Size\n"
          ]
        },
        {
          "output_type": "stream",
          "name": "stderr",
          "text": [
            "      34/50      2.23G     0.7699      1.402      1.403         34        640: 100%|██████████| 815/815 [02:07<00:00,  6.41it/s]\n",
            "                 Class     Images  Instances      Box(P          R      mAP50  mAP50-95): 100%|██████████| 61/61 [00:11<00:00,  5.16it/s]"
          ]
        },
        {
          "output_type": "stream",
          "name": "stdout",
          "text": [
            "                   all       1934       2190      0.729      0.524      0.548      0.411\n"
          ]
        },
        {
          "output_type": "stream",
          "name": "stderr",
          "text": [
            "\n"
          ]
        },
        {
          "output_type": "stream",
          "name": "stdout",
          "text": [
            "\n",
            "      Epoch    GPU_mem   box_loss   cls_loss   dfl_loss  Instances       Size\n"
          ]
        },
        {
          "output_type": "stream",
          "name": "stderr",
          "text": [
            "      35/50       2.2G     0.7514      1.367      1.392         22        640: 100%|██████████| 815/815 [02:06<00:00,  6.42it/s]\n",
            "                 Class     Images  Instances      Box(P          R      mAP50  mAP50-95): 100%|██████████| 61/61 [00:12<00:00,  5.08it/s]"
          ]
        },
        {
          "output_type": "stream",
          "name": "stdout",
          "text": [
            "                   all       1934       2190      0.753      0.506      0.571       0.43\n"
          ]
        },
        {
          "output_type": "stream",
          "name": "stderr",
          "text": [
            "\n"
          ]
        },
        {
          "output_type": "stream",
          "name": "stdout",
          "text": [
            "\n",
            "      Epoch    GPU_mem   box_loss   cls_loss   dfl_loss  Instances       Size\n"
          ]
        },
        {
          "output_type": "stream",
          "name": "stderr",
          "text": [
            "      36/50      2.18G     0.7572      1.352      1.394         39        640: 100%|██████████| 815/815 [02:07<00:00,  6.41it/s]\n",
            "                 Class     Images  Instances      Box(P          R      mAP50  mAP50-95): 100%|██████████| 61/61 [00:11<00:00,  5.14it/s]"
          ]
        },
        {
          "output_type": "stream",
          "name": "stdout",
          "text": [
            "                   all       1934       2190      0.803      0.465      0.594      0.455\n"
          ]
        },
        {
          "output_type": "stream",
          "name": "stderr",
          "text": [
            "\n"
          ]
        },
        {
          "output_type": "stream",
          "name": "stdout",
          "text": [
            "\n",
            "      Epoch    GPU_mem   box_loss   cls_loss   dfl_loss  Instances       Size\n"
          ]
        },
        {
          "output_type": "stream",
          "name": "stderr",
          "text": [
            "      37/50      2.23G     0.7629      1.352      1.402         24        640: 100%|██████████| 815/815 [02:07<00:00,  6.41it/s]\n",
            "                 Class     Images  Instances      Box(P          R      mAP50  mAP50-95): 100%|██████████| 61/61 [00:12<00:00,  4.90it/s]"
          ]
        },
        {
          "output_type": "stream",
          "name": "stdout",
          "text": [
            "                   all       1934       2190      0.821      0.523      0.603       0.47\n"
          ]
        },
        {
          "output_type": "stream",
          "name": "stderr",
          "text": [
            "\n"
          ]
        },
        {
          "output_type": "stream",
          "name": "stdout",
          "text": [
            "\n",
            "      Epoch    GPU_mem   box_loss   cls_loss   dfl_loss  Instances       Size\n"
          ]
        },
        {
          "output_type": "stream",
          "name": "stderr",
          "text": [
            "      38/50      2.18G      0.751       1.32      1.394         22        640: 100%|██████████| 815/815 [02:06<00:00,  6.42it/s]\n",
            "                 Class     Images  Instances      Box(P          R      mAP50  mAP50-95): 100%|██████████| 61/61 [00:11<00:00,  5.09it/s]\n"
          ]
        },
        {
          "output_type": "stream",
          "name": "stdout",
          "text": [
            "                   all       1934       2190      0.751      0.491      0.575      0.442\n",
            "\n",
            "      Epoch    GPU_mem   box_loss   cls_loss   dfl_loss  Instances       Size\n"
          ]
        },
        {
          "output_type": "stream",
          "name": "stderr",
          "text": [
            "      39/50      2.23G     0.7407      1.303      1.384         28        640: 100%|██████████| 815/815 [02:06<00:00,  6.42it/s]\n",
            "                 Class     Images  Instances      Box(P          R      mAP50  mAP50-95): 100%|██████████| 61/61 [00:12<00:00,  5.08it/s]"
          ]
        },
        {
          "output_type": "stream",
          "name": "stdout",
          "text": [
            "                   all       1934       2190      0.758      0.528      0.603      0.465\n"
          ]
        },
        {
          "output_type": "stream",
          "name": "stderr",
          "text": [
            "\n"
          ]
        },
        {
          "output_type": "stream",
          "name": "stdout",
          "text": [
            "\n",
            "      Epoch    GPU_mem   box_loss   cls_loss   dfl_loss  Instances       Size\n"
          ]
        },
        {
          "output_type": "stream",
          "name": "stderr",
          "text": [
            "      40/50      2.17G     0.7446      1.293      1.387         36        640: 100%|██████████| 815/815 [02:07<00:00,  6.41it/s]\n",
            "                 Class     Images  Instances      Box(P          R      mAP50  mAP50-95): 100%|██████████| 61/61 [00:11<00:00,  5.14it/s]"
          ]
        },
        {
          "output_type": "stream",
          "name": "stdout",
          "text": [
            "                   all       1934       2190      0.769        0.5      0.593      0.461\n"
          ]
        },
        {
          "output_type": "stream",
          "name": "stderr",
          "text": [
            "\n"
          ]
        },
        {
          "output_type": "stream",
          "name": "stdout",
          "text": [
            "Closing dataloader mosaic\n",
            "\u001b[34m\u001b[1malbumentations: \u001b[0mBlur(p=0.01, blur_limit=(3, 7)), MedianBlur(p=0.01, blur_limit=(3, 7)), ToGray(p=0.01), CLAHE(p=0.01, clip_limit=(1, 4.0), tile_grid_size=(8, 8))\n"
          ]
        },
        {
          "output_type": "stream",
          "name": "stderr",
          "text": [
            "/usr/lib/python3.10/multiprocessing/popen_fork.py:66: RuntimeWarning: os.fork() was called. os.fork() is incompatible with multithreaded code, and JAX is multithreaded, so this will likely lead to a deadlock.\n",
            "  self.pid = os.fork()\n"
          ]
        },
        {
          "output_type": "stream",
          "name": "stdout",
          "text": [
            "\n",
            "      Epoch    GPU_mem   box_loss   cls_loss   dfl_loss  Instances       Size\n"
          ]
        },
        {
          "output_type": "stream",
          "name": "stderr",
          "text": [
            "      41/50      2.23G     0.7842       1.27      1.604         10        640: 100%|██████████| 815/815 [02:06<00:00,  6.42it/s]\n",
            "                 Class     Images  Instances      Box(P          R      mAP50  mAP50-95): 100%|██████████| 61/61 [00:12<00:00,  5.04it/s]"
          ]
        },
        {
          "output_type": "stream",
          "name": "stdout",
          "text": [
            "                   all       1934       2190       0.77      0.507      0.568      0.435\n"
          ]
        },
        {
          "output_type": "stream",
          "name": "stderr",
          "text": [
            "\n"
          ]
        },
        {
          "output_type": "stream",
          "name": "stdout",
          "text": [
            "\n",
            "      Epoch    GPU_mem   box_loss   cls_loss   dfl_loss  Instances       Size\n"
          ]
        },
        {
          "output_type": "stream",
          "name": "stderr",
          "text": [
            "      42/50      2.18G     0.7667      1.213       1.58          8        640: 100%|██████████| 815/815 [02:05<00:00,  6.49it/s]\n",
            "                 Class     Images  Instances      Box(P          R      mAP50  mAP50-95): 100%|██████████| 61/61 [00:12<00:00,  5.07it/s]"
          ]
        },
        {
          "output_type": "stream",
          "name": "stdout",
          "text": [
            "                   all       1934       2190      0.734       0.52      0.571      0.439\n",
            "\u001b[34m\u001b[1mEarlyStopping: \u001b[0mTraining stopped early as no improvement observed in last 5 epochs. Best results observed at epoch 37, best model saved as best.pt.\n",
            "To update EarlyStopping(patience=5) pass a new patience value, i.e. `patience=300` or use `patience=0` to disable EarlyStopping.\n"
          ]
        },
        {
          "output_type": "stream",
          "name": "stderr",
          "text": [
            "\n"
          ]
        },
        {
          "output_type": "stream",
          "name": "stdout",
          "text": [
            "\n",
            "42 epochs completed in 1.980 hours.\n",
            "Optimizer stripped from /content/drive/MyDrive/AyushVision/yolo/training/16_09_2024/192332/leaves/runs/train50/weights/last.pt, 6.3MB\n",
            "Optimizer stripped from /content/drive/MyDrive/AyushVision/yolo/training/16_09_2024/192332/leaves/runs/train50/weights/best.pt, 6.3MB\n",
            "\n",
            "Validating /content/drive/MyDrive/AyushVision/yolo/training/16_09_2024/192332/leaves/runs/train50/weights/best.pt...\n",
            "Ultralytics YOLOv8.2.94 🚀 Python-3.10.12 torch-2.4.0+cu121 CUDA:0 (Tesla T4, 15102MiB)\n",
            "YOLOv8n summary (fused): 168 layers, 3,011,888 parameters, 0 gradients, 8.1 GFLOPs\n"
          ]
        },
        {
          "output_type": "stream",
          "name": "stderr",
          "text": [
            "                 Class     Images  Instances      Box(P          R      mAP50  mAP50-95): 100%|██████████| 61/61 [00:21<00:00,  2.89it/s]\n"
          ]
        },
        {
          "output_type": "stream",
          "name": "stdout",
          "text": [
            "                   all       1934       2190      0.801      0.544      0.595      0.462\n",
            "              Hibiscus        120        126      0.855      0.865      0.919      0.715\n",
            "          Sleepy_plant          1          1          1          0          0          0\n",
            "                  lime          2          2          1          0    0.00963    0.00867\n",
            "       Adamant_Creeper        120        178      0.856      0.556      0.611       0.47\n",
            "               Alovera        121        135      0.908      0.859       0.88      0.705\n",
            "                 Betel        123        130      0.916      0.928      0.948      0.886\n",
            "     Black_honey_shrub        120        135      0.916        0.8      0.825      0.678\n",
            "   Calotropis_gigantea        120        157      0.793      0.669      0.762      0.468\n",
            "                Caster        120        121       0.85      0.909      0.938      0.695\n",
            "              Cinnamon        119        123      0.851      0.935      0.952      0.831\n",
            "                Ginger        120        131       0.95      0.861      0.929      0.796\n",
            "                 Henna        120        121      0.959      0.955      0.984      0.893\n",
            "             Holybasil        120        138      0.869      0.703      0.817      0.562\n",
            "         Indian_Mallow        120        131      0.868      0.852      0.884      0.598\n",
            "             Ivy_gourd        120        122      0.927      0.834      0.907      0.758\n",
            "              Landrina        119        148      0.628      0.466      0.577      0.347\n",
            "           Lemon_grass        120        128      0.926      0.879      0.946        0.8\n",
            "          Miracle_leaf          2          2      0.469      0.469      0.291      0.128\n",
            "    Mountain_Knotgrass          2          2          1          0          0          0\n",
            "                  Neem          3          3          0          0     0.0139    0.00661\n",
            "        Acalyphaindica        120        147      0.651      0.701      0.725      0.478\n",
            "               Oregano          1          1          1          0          0          0\n",
            "         Pedaliummurex          1          1          1          0          0          0\n",
            "      Redpea_egg_plant          1          1          1          0      0.332      0.332\n",
            "       Seedsunder_leaf          2          2          1          0     0.0858     0.0772\n",
            "   Tallperennial_grass          2          2          1          0      0.332      0.309\n",
            "            Thornapple          1          1      0.113          1      0.995      0.895\n",
            "          Vitexnegundo          1          1      0.126          1      0.995      0.497\n",
            "Speed: 0.2ms preprocess, 7.0ms inference, 0.0ms loss, 0.8ms postprocess per image\n",
            "Results saved to \u001b[1m/content/drive/MyDrive/AyushVision/yolo/training/16_09_2024/192332/leaves/runs/train50\u001b[0m\n"
          ]
        }
      ],
      "source": [
        "results = yolo_model.train(\n",
        "    data=data,\n",
        "    name=name,\n",
        "    epochs=epochs,                 # Number of epochs\n",
        "    imgsz=imageSize,               # Image size\n",
        "    project=project,           # Project directory\n",
        "    optimizer=optimizer,          # Optimizer\n",
        "    plots=True,                # Enable plots\n",
        "    dropout=dropout,               # Dropout rate\n",
        "    lr0=0.01,                  # Initial learning rate\n",
        "    lrf=0.1,                   # Final learning rate (lr0 * lrf)\n",
        "    warmup_epochs=3,           # Number of warmup epochs\n",
        "    patience=5,                # Patience for early stopping\n",
        "    augment=True                # Data augmentation\n",
        ")"
      ]
    },
    {
      "cell_type": "code",
      "source": [
        "args_yaml=f'{project}/{name}/args.yaml'"
      ],
      "metadata": {
        "id": "DvZnNECFhFeT"
      },
      "execution_count": 38,
      "outputs": []
    },
    {
      "cell_type": "code",
      "source": [
        "resultcsv=f'{project}/{name}/results.csv'"
      ],
      "metadata": {
        "id": "SO4n0G5EhJA6"
      },
      "execution_count": 39,
      "outputs": []
    },
    {
      "cell_type": "code",
      "source": [
        "with open(resultcsv, mode='r') as file:\n",
        "     csv_reader = csv.DictReader(file)\n",
        "     data_dict = [row for row in csv_reader]"
      ],
      "metadata": {
        "id": "Aiu9ngptJt1A"
      },
      "execution_count": 40,
      "outputs": []
    },
    {
      "cell_type": "code",
      "source": [
        "with open(args_yaml, 'r') as file:\n",
        "    yaml_content = yaml.safe_load(file)"
      ],
      "metadata": {
        "id": "8Uw3V5VihL6M"
      },
      "execution_count": 41,
      "outputs": []
    },
    {
      "cell_type": "code",
      "execution_count": 42,
      "metadata": {
        "id": "j0b7pQMdwiee"
      },
      "outputs": [],
      "source": [
        "today_training_colref=today_ref.collection('Train')"
      ]
    },
    {
      "cell_type": "code",
      "source": [
        "today_training_ref=today_training_colref.document('args')"
      ],
      "metadata": {
        "id": "k7fDm31ghVFV"
      },
      "execution_count": 43,
      "outputs": []
    },
    {
      "cell_type": "code",
      "source": [
        "today_training_ref.set(yaml_content)"
      ],
      "metadata": {
        "id": "J_1uaRjBhW-_",
        "outputId": "4cb26b35-c83f-4b24-8e55-e04956c78633",
        "colab": {
          "base_uri": "https://localhost:8080/"
        }
      },
      "execution_count": 44,
      "outputs": [
        {
          "output_type": "execute_result",
          "data": {
            "text/plain": [
              "update_time {\n",
              "  seconds: 1726532227\n",
              "  nanos: 747640000\n",
              "}"
            ]
          },
          "metadata": {},
          "execution_count": 44
        }
      ]
    },
    {
      "cell_type": "code",
      "source": [
        "todayresultref=today_training_colref.document('results')"
      ],
      "metadata": {
        "id": "vtduLfTXhZ52"
      },
      "execution_count": 45,
      "outputs": []
    },
    {
      "cell_type": "code",
      "source": [
        "todayresultref.set({'results':data_dict})"
      ],
      "metadata": {
        "id": "Dq-GrSl0hf1v",
        "outputId": "0153f72d-e2c7-4c49-cc6e-688a7c4ec4b3",
        "colab": {
          "base_uri": "https://localhost:8080/"
        }
      },
      "execution_count": 46,
      "outputs": [
        {
          "output_type": "execute_result",
          "data": {
            "text/plain": [
              "update_time {\n",
              "  seconds: 1726532236\n",
              "  nanos: 249473000\n",
              "}"
            ]
          },
          "metadata": {},
          "execution_count": 46
        }
      ]
    },
    {
      "cell_type": "code",
      "execution_count": 47,
      "metadata": {
        "id": "g-BcnpaezP3a"
      },
      "outputs": [],
      "source": [
        "trainfiles={}\n",
        "wights={}"
      ]
    },
    {
      "cell_type": "code",
      "execution_count": 48,
      "metadata": {
        "id": "jhuDVlf7xyNL"
      },
      "outputs": [],
      "source": [
        "for file in os.listdir(f\"{project}/{name}\"):\n",
        "  if os.path.isfile(f\"{project}/{name}/{file}\"):\n",
        "    blob = bucket.blob(f\"{storageLocation}/train/{file}\")\n",
        "    blob.upload_from_filename(f\"{project}/{name}/{file}\")\n",
        "    blob.make_public()\n",
        "    trainfiles[os.path.splitext(file)[0]]=blob.public_url\n"
      ]
    },
    {
      "cell_type": "code",
      "execution_count": 49,
      "metadata": {
        "id": "qbmOsJHgNmoU"
      },
      "outputs": [],
      "source": [
        "for file in os.listdir(f\"{project}/{name}/weights\"):\n",
        "  if os.path.isfile(f\"{project}/{name}/weights/{file}\"):\n",
        "    blob = bucket.blob(f\"{storageLocation}/train/weights/{file}\")\n",
        "    blob.upload_from_filename(f\"{project}/{name}/weights/{file}\")\n",
        "    blob.make_public()\n",
        "    wights[os.path.splitext(file)[0]]=blob.public_url"
      ]
    },
    {
      "cell_type": "code",
      "execution_count": 50,
      "metadata": {
        "id": "rMcQNIy10MUP",
        "outputId": "2c5b8e1d-9b19-4591-82bd-596e2e82d993",
        "colab": {
          "base_uri": "https://localhost:8080/"
        }
      },
      "outputs": [
        {
          "output_type": "execute_result",
          "data": {
            "text/plain": [
              "update_time {\n",
              "  seconds: 1726532266\n",
              "  nanos: 526171000\n",
              "}"
            ]
          },
          "metadata": {},
          "execution_count": 50
        }
      ],
      "source": [
        "today_training_files=today_training_colref.document('files')\n",
        "today_training_files.set(trainfiles)"
      ]
    },
    {
      "cell_type": "code",
      "source": [
        "today_weights_files=today_training_colref.document('weights')\n",
        "today_weights_files.set(wights)"
      ],
      "metadata": {
        "id": "JaS_sPzuhmk7",
        "outputId": "7ca043dd-c6df-4467-d498-c0a1293e05e0",
        "colab": {
          "base_uri": "https://localhost:8080/"
        }
      },
      "execution_count": 51,
      "outputs": [
        {
          "output_type": "execute_result",
          "data": {
            "text/plain": [
              "update_time {\n",
              "  seconds: 1726532276\n",
              "  nanos: 384365000\n",
              "}"
            ]
          },
          "metadata": {},
          "execution_count": 51
        }
      ]
    },
    {
      "cell_type": "markdown",
      "metadata": {
        "id": "vebaeyvan7Ho"
      },
      "source": [
        "#### Validation"
      ]
    },
    {
      "cell_type": "code",
      "execution_count": 52,
      "metadata": {
        "id": "-9orCdN0n7Ho"
      },
      "outputs": [],
      "source": [
        "model_train_path=f'{project}/{name}/weights/best.pt'"
      ]
    },
    {
      "cell_type": "code",
      "execution_count": 53,
      "metadata": {
        "id": "eGWISZx7n7Hp"
      },
      "outputs": [],
      "source": [
        "model = YOLO(model_train_path)  # load a custom trained model"
      ]
    },
    {
      "cell_type": "code",
      "execution_count": 54,
      "metadata": {
        "id": "AXl1m-taeNDN",
        "outputId": "e973a283-e012-436c-f3dc-758dab04ece3",
        "colab": {
          "base_uri": "https://localhost:8080/"
        }
      },
      "outputs": [
        {
          "output_type": "stream",
          "name": "stdout",
          "text": [
            "Ultralytics YOLOv8.2.95 🚀 Python-3.10.12 torch-2.4.0+cu121 CUDA:0 (Tesla T4, 15102MiB)\n",
            "YOLOv8n summary (fused): 168 layers, 3,011,888 parameters, 0 gradients, 8.1 GFLOPs\n",
            "Downloading https://ultralytics.com/assets/Arial.ttf to '/root/.config/Ultralytics/Arial.ttf'...\n"
          ]
        },
        {
          "output_type": "stream",
          "name": "stderr",
          "text": [
            "100%|██████████| 755k/755k [00:00<00:00, 4.62MB/s]\n",
            "\u001b[34m\u001b[1mval: \u001b[0mScanning /content/drive/MyDrive/AyushVision/yolo/final/valid/labels.cache... 1934 images, 0 backgrounds, 0 corrupt: 100%|██████████| 1934/1934 [00:00<?, ?it/s]\n",
            "                 Class     Images  Instances      Box(P          R      mAP50  mAP50-95): 100%|██████████| 121/121 [01:01<00:00,  1.95it/s]\n"
          ]
        },
        {
          "output_type": "stream",
          "name": "stdout",
          "text": [
            "                   all       1934       2190      0.822      0.523      0.603      0.471\n",
            "              Hibiscus        120        126      0.879       0.81      0.892      0.677\n",
            "          Sleepy_plant          1          1          1          0          0          0\n",
            "                  lime          2          2          1          0      0.125      0.125\n",
            "       Adamant_Creeper        120        178      0.842      0.556      0.615      0.449\n",
            "               Alovera        121        135      0.912      0.852       0.87      0.678\n",
            "                 Betel        123        130       0.95      0.915      0.943      0.853\n",
            "     Black_honey_shrub        120        135      0.953      0.751      0.816      0.661\n",
            "   Calotropis_gigantea        120        157      0.839      0.643      0.741      0.411\n",
            "                Caster        120        121      0.906      0.876      0.912      0.622\n",
            "              Cinnamon        119        123      0.915      0.919       0.95      0.801\n",
            "                Ginger        120        131      0.952      0.855      0.926       0.75\n",
            "                 Henna        120        121      0.973      0.881      0.983      0.865\n",
            "             Holybasil        120        138      0.924      0.705      0.819      0.526\n",
            "         Indian_Mallow        120        131      0.894      0.775      0.824       0.51\n",
            "             Ivy_gourd        120        122      0.921      0.769      0.898      0.707\n",
            "              Landrina        119        148      0.673       0.32      0.535      0.275\n",
            "           Lemon_grass        120        128      0.949       0.87      0.939      0.771\n",
            "          Miracle_leaf          2          2      0.539        0.5      0.496      0.397\n",
            "    Mountain_Knotgrass          2          2          1          0    0.00158    0.00063\n",
            "                  Neem          3          3          0          0     0.0611     0.0098\n",
            "        Acalyphaindica        120        147      0.668      0.639       0.67      0.399\n",
            "               Oregano          1          1          1          0     0.0829     0.0746\n",
            "         Pedaliummurex          1          1          1          0          0          0\n",
            "      Redpea_egg_plant          1          1          1          0      0.995      0.995\n",
            "       Seedsunder_leaf          2          2          1          0     0.0544      0.049\n",
            "   Tallperennial_grass          2          2          1          0      0.537      0.537\n",
            "            Thornapple          1          1      0.186          1      0.995      0.895\n",
            "          Vitexnegundo          1          1      0.135          1      0.199      0.139\n",
            "Speed: 0.3ms preprocess, 3.6ms inference, 0.0ms loss, 1.7ms postprocess per image\n",
            "Saving /content/drive/MyDrive/AyushVision/yolo/training/16_09_2024/192332/leaves/runs/val50/predictions.json...\n",
            "Results saved to \u001b[1m/content/drive/MyDrive/AyushVision/yolo/training/16_09_2024/192332/leaves/runs/val50\u001b[0m\n"
          ]
        }
      ],
      "source": [
        "metrics = model.val(save_json=True,plots=True,project=project,name=f'val{epochs}')  # no arguments needed, dataset and settings remembered"
      ]
    },
    {
      "cell_type": "code",
      "execution_count": 55,
      "metadata": {
        "id": "q9FLMqVSzVDo"
      },
      "outputs": [],
      "source": [
        "val_today_col=today_ref.collection('Val')"
      ]
    },
    {
      "cell_type": "code",
      "source": [
        "predication_file=f'{project}/val{epochs}/predictions.json'"
      ],
      "metadata": {
        "id": "27h9s3UHh0tI"
      },
      "execution_count": 56,
      "outputs": []
    },
    {
      "cell_type": "code",
      "source": [
        "with open(predication_file, 'r') as file:\n",
        "    data_dict = json.load(file)"
      ],
      "metadata": {
        "id": "Vl-fCG-dh29I"
      },
      "execution_count": 57,
      "outputs": []
    },
    {
      "cell_type": "code",
      "source": [
        "val_today_ref_files=val_today_col.document('files')"
      ],
      "metadata": {
        "id": "09j8IGJph5x7"
      },
      "execution_count": 58,
      "outputs": []
    },
    {
      "cell_type": "code",
      "execution_count": 59,
      "metadata": {
        "id": "zUlTjrFB0JtF"
      },
      "outputs": [],
      "source": [
        "valfiles={}"
      ]
    },
    {
      "cell_type": "code",
      "execution_count": 60,
      "metadata": {
        "id": "f5kMLdoCTg9l"
      },
      "outputs": [],
      "source": [
        "for file in os.listdir(f\"{project}/val{epochs}\"):\n",
        "  if os.path.isfile(f\"{project}/val{epochs}/{file}\"):\n",
        "    blob = bucket.blob(f\"{storageLocation}/val/{file}\")\n",
        "    blob.upload_from_filename(f\"{project}/val{epochs}/{file}\")\n",
        "    blob.make_public()\n",
        "    valfiles[os.path.splitext(file)[0]]=blob.public_url"
      ]
    },
    {
      "cell_type": "code",
      "execution_count": 61,
      "metadata": {
        "id": "P5xtzL5GUB_H",
        "outputId": "90dcf49a-1d0d-4857-de9c-dad55d28f475",
        "colab": {
          "base_uri": "https://localhost:8080/"
        }
      },
      "outputs": [
        {
          "output_type": "execute_result",
          "data": {
            "text/plain": [
              "update_time {\n",
              "  seconds: 1726532431\n",
              "  nanos: 275762000\n",
              "}"
            ]
          },
          "metadata": {},
          "execution_count": 61
        }
      ],
      "source": [
        "val_today_ref_files.set(valfiles)"
      ]
    },
    {
      "cell_type": "code",
      "source": [
        "val_today_ref_metrics=val_today_col.document('metrics')"
      ],
      "metadata": {
        "id": "E9UV7ub9iECt"
      },
      "execution_count": 62,
      "outputs": []
    },
    {
      "cell_type": "code",
      "source": [
        "\n",
        "val_today_ref_metrics.set({\n",
        "    'confusion_matrix':{\n",
        "        'conf':metrics.confusion_matrix.conf\n",
        "    },\n",
        "    'maps':np.array(metrics.maps).tolist(),\n",
        "    'fitness':metrics.fitness,\n",
        "'results_dict':metrics.results_dict,\n",
        "    'speed':metrics.speed,\n",
        "    'box':{\n",
        "        'map':metrics.box.map,\n",
        "        'map50':metrics.box.map50,\n",
        "        'map75':metrics.box.map75,\n",
        "        'mp':metrics.box.mp,\n",
        "'mr':metrics.box.mr,\n",
        "        'nc':metrics.box.nc,\n",
        "        'p':np.array(metrics.box.p).tolist(),\n",
        "        'r':np.array(metrics.box.r).tolist(),\n",
        "        'ap':np.array(metrics.box.ap).tolist(),\n",
        "        'ap50':np.array(metrics.box.ap50).tolist(),\n",
        "        'ap_class_index':np.array(metrics.box.ap_class_index).tolist(),\n",
        "        }\n",
        "})"
      ],
      "metadata": {
        "id": "y5oEEll4iDqZ",
        "outputId": "f6d18573-8957-4b91-9022-c4c84efe7d6b",
        "colab": {
          "base_uri": "https://localhost:8080/"
        }
      },
      "execution_count": 63,
      "outputs": [
        {
          "output_type": "execute_result",
          "data": {
            "text/plain": [
              "update_time {\n",
              "  seconds: 1726532443\n",
              "  nanos: 171333000\n",
              "}"
            ]
          },
          "metadata": {},
          "execution_count": 63
        }
      ]
    },
    {
      "cell_type": "code",
      "execution_count": 64,
      "metadata": {
        "id": "P8B6V3_wwohd",
        "outputId": "5a911edf-db56-4eb9-c010-bee7765c89f2",
        "colab": {
          "base_uri": "https://localhost:8080/"
        }
      },
      "outputs": [
        {
          "output_type": "execute_result",
          "data": {
            "text/plain": [
              "0.6028777618919676"
            ]
          },
          "metadata": {},
          "execution_count": 64
        }
      ],
      "source": [
        "metrics.box.map50"
      ]
    },
    {
      "cell_type": "code",
      "execution_count": 65,
      "metadata": {
        "id": "ZN0NsU2kwsYW",
        "outputId": "fd7069d2-7f08-46d0-ce0a-bc3970e8da64",
        "colab": {
          "base_uri": "https://localhost:8080/"
        }
      },
      "outputs": [
        {
          "output_type": "execute_result",
          "data": {
            "text/plain": [
              "0.5155245662298784"
            ]
          },
          "metadata": {},
          "execution_count": 65
        }
      ],
      "source": [
        "metrics.box.map75"
      ]
    },
    {
      "cell_type": "code",
      "execution_count": 66,
      "metadata": {
        "id": "xaONZry0wx04",
        "outputId": "098381b3-b719-406c-a206-0e30b20e4399",
        "colab": {
          "base_uri": "https://localhost:8080/"
        }
      },
      "outputs": [
        {
          "output_type": "execute_result",
          "data": {
            "text/plain": [
              "array([    0.67745,           0,     0.12486,     0.44884,     0.67776,     0.85291,     0.66101,     0.41084,     0.62167,     0.80069,     0.74985,     0.86492,     0.52564,     0.51026,      0.7072,     0.27491,     0.77137,     0.47058,     0.39693,  0.00063025,   0.0097992,     0.39852,    0.074625,           0,\n",
              "             0.995,     0.47058,    0.048963,     0.53667,      0.8955,     0.47058,      0.1393,     0.47058])"
            ]
          },
          "metadata": {},
          "execution_count": 66
        }
      ],
      "source": [
        "metrics.box.maps"
      ]
    },
    {
      "cell_type": "markdown",
      "metadata": {
        "id": "jkbwnnv_n7Hp"
      },
      "source": [
        "#### Predict"
      ]
    },
    {
      "cell_type": "code",
      "execution_count": 68,
      "metadata": {
        "id": "xKZ8DDRumwwW",
        "outputId": "669315a3-9a2b-4ebb-def2-2c0070b9e2be",
        "colab": {
          "base_uri": "https://localhost:8080/"
        }
      },
      "outputs": [
        {
          "output_type": "stream",
          "name": "stdout",
          "text": [
            "\n",
            "image 1/963 /content/drive/MyDrive/AyushVision/yolo/final/test/images/IMG-20231225-WA0178_jpg.rf.aa709efef1f9638e3a2fd2dd82607ab2.jpg: 640x640 1 Hibiscus, 1 Holybasil, 7.5ms\n",
            "image 2/963 /content/drive/MyDrive/AyushVision/yolo/final/test/images/IMG-20231225-WA0181_jpg.rf.6855b034edf680812068f30e34b37b55.jpg: 640x640 (no detections), 7.5ms\n",
            "image 3/963 /content/drive/MyDrive/AyushVision/yolo/final/test/images/IMG-20231225-WA0192_jpg.rf.a1f0a419ff0f7676d00a5624ad8ff02c.jpg: 640x640 1 Hibiscus, 1 Holybasil, 7.5ms\n",
            "image 4/963 /content/drive/MyDrive/AyushVision/yolo/final/test/images/IMG-20231225-WA0196_jpg.rf.c89072e5ffcc98601a0fcd0dd3893b22.jpg: 640x640 1 Holybasil, 7.5ms\n",
            "image 5/963 /content/drive/MyDrive/AyushVision/yolo/final/test/images/IMG-20231225-WA0225_jpg.rf.02df9d8231b2d34bd6fd39ad49ac0396.jpg: 640x640 2 Acalyphaindicas, 7.5ms\n",
            "image 6/963 /content/drive/MyDrive/AyushVision/yolo/final/test/images/IMG-20231225-WA0245_jpg.rf.cf4ea88e663070ab5c4a86f23298acb4.jpg: 640x640 1 Acalyphaindica, 7.5ms\n",
            "image 7/963 /content/drive/MyDrive/AyushVision/yolo/final/test/images/IMG-20231225-WA0256_jpg.rf.9a1f61d67860347f1d54d36be79973d3.jpg: 640x640 2 Holybasils, 1 Acalyphaindica, 7.5ms\n",
            "image 8/963 /content/drive/MyDrive/AyushVision/yolo/final/test/images/IMG-20231225-WA0260_jpg.rf.aced4fd6d70bb75ab6520db880694426.jpg: 640x640 1 Holybasil, 1 Acalyphaindica, 9.0ms\n",
            "image 9/963 /content/drive/MyDrive/AyushVision/yolo/final/test/images/IMG-20231225-WA0267_jpg.rf.7b49f69f74b27e3a6dbed464ea16f7ed.jpg: 640x640 1 Holybasil, 1 Acalyphaindica, 7.5ms\n",
            "image 10/963 /content/drive/MyDrive/AyushVision/yolo/final/test/images/IMG-20231227-WA0043_jpg.rf.d11c5ba7c18177415f39daa9b671bb70.jpg: 640x640 1 Alovera, 9.9ms\n",
            "image 11/963 /content/drive/MyDrive/AyushVision/yolo/final/test/images/IMG-20231227-WA0066_jpg.rf.a8fcb04fa02d6486e668fe74049ba8f1.jpg: 640x640 1 Alovera, 7.6ms\n",
            "image 12/963 /content/drive/MyDrive/AyushVision/yolo/final/test/images/IMG-20231227-WA0081_jpg.rf.6fe336edd85f4b1e5540aab4c25587a8.jpg: 640x640 1 Alovera, 7.5ms\n",
            "image 13/963 /content/drive/MyDrive/AyushVision/yolo/final/test/images/IMG-20231227-WA0083_jpg.rf.de16e3317d0fdbad2f942c1b9530edf6.jpg: 640x640 1 Alovera, 8.1ms\n",
            "image 14/963 /content/drive/MyDrive/AyushVision/yolo/final/test/images/IMG-20231227-WA0094_jpg.rf.a07c0ca5d6cec7cbe827aad9f57bd205.jpg: 640x640 1 Alovera, 7.5ms\n",
            "image 15/963 /content/drive/MyDrive/AyushVision/yolo/final/test/images/IMG-20231227-WA0113_jpg.rf.3c7f50aef2f3c2201e770c57d5a7dd68.jpg: 640x640 1 Alovera, 7.4ms\n",
            "image 16/963 /content/drive/MyDrive/AyushVision/yolo/final/test/images/IMG-20231227-WA0114_jpg.rf.70296b90486451d92cad1b0e1e94e053.jpg: 640x640 1 Alovera, 7.5ms\n",
            "image 17/963 /content/drive/MyDrive/AyushVision/yolo/final/test/images/IMG-20240626-WA0061_jpg.rf.e8125b33866308bc0b97db9822914f75.jpg: 640x640 1 Lemon_grass, 7.4ms\n",
            "image 18/963 /content/drive/MyDrive/AyushVision/yolo/final/test/images/IMG20231224091907_jpg.rf.231b005d17417714d837092e76a20586.jpg: 640x640 1 Holybasil, 7.7ms\n",
            "image 19/963 /content/drive/MyDrive/AyushVision/yolo/final/test/images/IMG20231224102102_jpg.rf.ec11337ce98e22f22805f04755e7cde4.jpg: 640x640 1 Holybasil, 7.5ms\n",
            "image 20/963 /content/drive/MyDrive/AyushVision/yolo/final/test/images/IMG20231224102113_jpg.rf.77f4f1b571af84701f0c5ce5a370d940.jpg: 640x640 1 Hibiscus, 1 Holybasil, 8.4ms\n",
            "image 21/963 /content/drive/MyDrive/AyushVision/yolo/final/test/images/IMG20231224160320_jpg.rf.f22127f7409f502b87f01c92d92b3d50.jpg: 640x640 1 Acalyphaindica, 7.5ms\n",
            "image 22/963 /content/drive/MyDrive/AyushVision/yolo/final/test/images/IMG20231224160401_jpg.rf.0d48084c91ceeeb7c9c0eb3f42a5a81a.jpg: 640x640 (no detections), 7.5ms\n",
            "image 23/963 /content/drive/MyDrive/AyushVision/yolo/final/test/images/IMG20231224160448_jpg.rf.1c2f6f9ad4bb909095b0fd6fe33fe289.jpg: 640x640 (no detections), 7.4ms\n",
            "image 24/963 /content/drive/MyDrive/AyushVision/yolo/final/test/images/IMG20231224160550_jpg.rf.1679dbec4cf3be37b5bd46f94fbd0e8a.jpg: 640x640 1 Acalyphaindica, 7.7ms\n",
            "image 25/963 /content/drive/MyDrive/AyushVision/yolo/final/test/images/IMG20231224160649_jpg.rf.36d319a8b2da6747500539942d0fcb02.jpg: 640x640 (no detections), 7.5ms\n",
            "image 26/963 /content/drive/MyDrive/AyushVision/yolo/final/test/images/IMG20231224160714_jpg.rf.8c0af072031692162d56143680a1700c.jpg: 640x640 1 Acalyphaindica, 7.5ms\n",
            "image 27/963 /content/drive/MyDrive/AyushVision/yolo/final/test/images/IMG20231224161932_jpg.rf.5b66c81cbd05a80bf46ebab3f7251d9c.jpg: 640x640 (no detections), 7.4ms\n",
            "image 28/963 /content/drive/MyDrive/AyushVision/yolo/final/test/images/IMG20231224161944_jpg.rf.a5d9333f31d7056930e3ac8bc5820e42.jpg: 640x640 (no detections), 7.5ms\n",
            "image 29/963 /content/drive/MyDrive/AyushVision/yolo/final/test/images/IMG20231224161950_jpg.rf.5dd677360a718b62b635f96b62538495.jpg: 640x640 (no detections), 7.4ms\n",
            "image 30/963 /content/drive/MyDrive/AyushVision/yolo/final/test/images/IMG20231224161956_jpg.rf.9e5d3acb98f87511534204e873712f2b.jpg: 640x640 (no detections), 7.4ms\n",
            "image 31/963 /content/drive/MyDrive/AyushVision/yolo/final/test/images/IMG20231224162001_jpg.rf.f47409e03998e8eb785670ab6da2dad1.jpg: 640x640 1 Landrina, 7.5ms\n",
            "image 32/963 /content/drive/MyDrive/AyushVision/yolo/final/test/images/IMG20231224163334_jpg.rf.4f7b5f4b8e930646ddcb1f8fdc4129f9.jpg: 640x640 (no detections), 7.4ms\n",
            "image 33/963 /content/drive/MyDrive/AyushVision/yolo/final/test/images/IMG20231224163344_jpg.rf.8ca51823dc1c1a4f7752961c658fee8a.jpg: 640x640 (no detections), 7.4ms\n",
            "image 34/963 /content/drive/MyDrive/AyushVision/yolo/final/test/images/IMG20231224163417_jpg.rf.46c229e7496aa1171ee8797037d8226b.jpg: 640x640 1 Landrina, 7.4ms\n",
            "image 35/963 /content/drive/MyDrive/AyushVision/yolo/final/test/images/IMG20231224163741_jpg.rf.e76c5c2e4dfb3cf366385c9ec7e96483.jpg: 640x640 (no detections), 7.4ms\n",
            "image 36/963 /content/drive/MyDrive/AyushVision/yolo/final/test/images/IMG20231224164306_jpg.rf.6042ac6a2ec675b1de0a70e06e6c54be.jpg: 640x640 1 Caster, 7.5ms\n",
            "image 37/963 /content/drive/MyDrive/AyushVision/yolo/final/test/images/IMG20231224164601_jpg.rf.5506c91403ab91a2c37c5fb29a4cad09.jpg: 640x640 (no detections), 7.4ms\n",
            "image 38/963 /content/drive/MyDrive/AyushVision/yolo/final/test/images/IMG20231224164606_jpg.rf.28f085b8b19ace4bdada76f8e621ce12.jpg: 640x640 (no detections), 7.4ms\n",
            "image 39/963 /content/drive/MyDrive/AyushVision/yolo/final/test/images/IMG20231224172114_jpg.rf.1bd9789ec67be6b70aac36e6021eab89.jpg: 640x640 1 Acalyphaindica, 7.9ms\n",
            "image 40/963 /content/drive/MyDrive/AyushVision/yolo/final/test/images/IMG20231224172203_jpg.rf.5234bbf08b45fe40d9307dbaaa9a8b72.jpg: 640x640 1 Acalyphaindica, 7.8ms\n",
            "image 41/963 /content/drive/MyDrive/AyushVision/yolo/final/test/images/IMG20231225170313_jpg.rf.3b5f888bf2817f6072dfb858a7076c47.jpg: 640x640 1 Alovera, 7.4ms\n",
            "image 42/963 /content/drive/MyDrive/AyushVision/yolo/final/test/images/IMG20231225170559_jpg.rf.6bc0bf8d8ac838d264d277f0b55bd694.jpg: 640x640 1 Alovera, 7.4ms\n",
            "image 43/963 /content/drive/MyDrive/AyushVision/yolo/final/test/images/IMG20231225170622_jpg.rf.1314af50bad6d4943321f7815d56c0a5.jpg: 640x640 1 Alovera, 7.5ms\n",
            "image 44/963 /content/drive/MyDrive/AyushVision/yolo/final/test/images/IMG20231229162759_jpg.rf.179648040590b529ded057d0a4c5c7d8.jpg: 640x640 (no detections), 7.5ms\n",
            "image 45/963 /content/drive/MyDrive/AyushVision/yolo/final/test/images/IMG20231229163033_jpg.rf.81ebc33b6f9c2a59517b946941f7f667.jpg: 640x640 (no detections), 7.4ms\n",
            "image 46/963 /content/drive/MyDrive/AyushVision/yolo/final/test/images/IMG20231229163100_jpg.rf.75cf4176de49e6f7025141caa8d815e2.jpg: 640x640 1 Landrina, 7.5ms\n",
            "image 47/963 /content/drive/MyDrive/AyushVision/yolo/final/test/images/IMG20231229163102_jpg.rf.a385d60d1788cc72c91b58c0c2fcc698.jpg: 640x640 1 Acalyphaindica, 7.5ms\n",
            "image 48/963 /content/drive/MyDrive/AyushVision/yolo/final/test/images/IMG20231229163110_jpg.rf.8ceb4982575489ce185dcdeea00f1772.jpg: 640x640 1 Acalyphaindica, 7.5ms\n",
            "image 49/963 /content/drive/MyDrive/AyushVision/yolo/final/test/images/IMG20231229163405_jpg.rf.21028b1cc1531b06214c7acad39c55f1.jpg: 640x640 1 Betel, 7.4ms\n",
            "image 50/963 /content/drive/MyDrive/AyushVision/yolo/final/test/images/IMG20231229163653_jpg.rf.85e2a87687046b4fc2f9ddfc9d8e2f6a.jpg: 640x640 1 Betel, 9.4ms\n",
            "image 51/963 /content/drive/MyDrive/AyushVision/yolo/final/test/images/IMG20231229163842_jpg.rf.710c72f2ae25391224ad794f4927a908.jpg: 640x640 1 Betel, 7.4ms\n",
            "image 52/963 /content/drive/MyDrive/AyushVision/yolo/final/test/images/IMG20231229163947_jpg.rf.4138f3875adc5f74291325e6ea5a193e.jpg: 640x640 1 Betel, 7.4ms\n",
            "image 53/963 /content/drive/MyDrive/AyushVision/yolo/final/test/images/IMG20231229164016_jpg.rf.900bddacda98f2f31ab2efa658f43058.jpg: 640x640 1 Betel, 7.8ms\n",
            "image 54/963 /content/drive/MyDrive/AyushVision/yolo/final/test/images/IMG20231229164027_jpg.rf.465cfac5cdf5fa630a417499a29ae26b.jpg: 640x640 1 Betel, 7.4ms\n",
            "image 55/963 /content/drive/MyDrive/AyushVision/yolo/final/test/images/IMG20231229164130_jpg.rf.a677f6c1f93c039b18356bec1f15fb72.jpg: 640x640 1 Betel, 7.4ms\n",
            "image 56/963 /content/drive/MyDrive/AyushVision/yolo/final/test/images/IMG20231229164205_jpg.rf.09fb878ce4ad343f0120ddf47119ad7f.jpg: 640x640 1 Betel, 7.4ms\n",
            "image 57/963 /content/drive/MyDrive/AyushVision/yolo/final/test/images/IMG20231229164259_jpg.rf.ebd901e06c987f2534f1f299522aed35.jpg: 640x640 1 Betel, 7.4ms\n",
            "image 58/963 /content/drive/MyDrive/AyushVision/yolo/final/test/images/IMG20231229164330_jpg.rf.325fea6106029663755836f1515613f2.jpg: 640x640 1 Betel, 7.7ms\n",
            "image 59/963 /content/drive/MyDrive/AyushVision/yolo/final/test/images/IMG20231229164451_jpg.rf.bd5f40c6985d015f1273fb6edfafa16b.jpg: 640x640 1 Betel, 8.5ms\n",
            "image 60/963 /content/drive/MyDrive/AyushVision/yolo/final/test/images/IMG20231229164501_jpg.rf.9e8d56a3e9e8c691df3d188a18cec3a1.jpg: 640x640 1 Betel, 7.5ms\n",
            "image 61/963 /content/drive/MyDrive/AyushVision/yolo/final/test/images/IMG20231229164529_jpg.rf.6f2ebee377f5b776727fbebe7ee08925.jpg: 640x640 1 Betel, 7.5ms\n",
            "image 62/963 /content/drive/MyDrive/AyushVision/yolo/final/test/images/IMG20231229164545_jpg.rf.5fecd842b3b0d66e019040a22b72e617.jpg: 640x640 1 Betel, 8.5ms\n",
            "image 63/963 /content/drive/MyDrive/AyushVision/yolo/final/test/images/IMG20231229164608_jpg.rf.21d87a87444a8fc02dd8c38959d2505d.jpg: 640x640 1 Betel, 7.9ms\n",
            "image 64/963 /content/drive/MyDrive/AyushVision/yolo/final/test/images/IMG20231229164632_jpg.rf.9fa07caccdd39c8ba38fb19453503455.jpg: 640x640 1 Betel, 8.0ms\n",
            "image 65/963 /content/drive/MyDrive/AyushVision/yolo/final/test/images/IMG20231229164846_jpg.rf.3b41ed3401979ded5999ffc46cba4c5a.jpg: 640x640 1 Betel, 7.4ms\n",
            "image 66/963 /content/drive/MyDrive/AyushVision/yolo/final/test/images/IMG20231229164905_jpg.rf.1ff15012d658a677b8f166c46c7aa76c.jpg: 640x640 1 Betel, 7.5ms\n",
            "image 67/963 /content/drive/MyDrive/AyushVision/yolo/final/test/images/IMG20231229164911_jpg.rf.83d4c96eb517bc6b8abe4fe39d88a92f.jpg: 640x640 1 Betel, 8.6ms\n",
            "image 68/963 /content/drive/MyDrive/AyushVision/yolo/final/test/images/IMG20231229165020_jpg.rf.3d25d62b4b47b5ef5b694816828d504b.jpg: 640x640 1 Betel, 7.5ms\n",
            "image 69/963 /content/drive/MyDrive/AyushVision/yolo/final/test/images/IMG20231229165207_jpg.rf.ecab1d6dbf56315c32aca793cf87f5c6.jpg: 640x640 1 Betel, 7.4ms\n",
            "image 70/963 /content/drive/MyDrive/AyushVision/yolo/final/test/images/IMG20231229165222_jpg.rf.9123b2d7807bfea78b1ac0608eb8bd6f.jpg: 640x640 1 Betel, 7.5ms\n",
            "image 71/963 /content/drive/MyDrive/AyushVision/yolo/final/test/images/IMG20231229165309_jpg.rf.f1c4cb079857127ae89b54ca241897b9.jpg: 640x640 1 Betel, 7.5ms\n",
            "image 72/963 /content/drive/MyDrive/AyushVision/yolo/final/test/images/IMG20231229165317_jpg.rf.99aa50e5839ddc02d8f61f7319a4b6ee.jpg: 640x640 1 Betel, 7.5ms\n",
            "image 73/963 /content/drive/MyDrive/AyushVision/yolo/final/test/images/IMG20231229165329_jpg.rf.bf7399a56c95417439e622edfdab4c80.jpg: 640x640 1 Betel, 7.5ms\n",
            "image 74/963 /content/drive/MyDrive/AyushVision/yolo/final/test/images/IMG20231229165539_jpg.rf.9ab547084a6db770aae1fc0e8e7a3d30.jpg: 640x640 1 Betel, 7.4ms\n",
            "image 75/963 /content/drive/MyDrive/AyushVision/yolo/final/test/images/IMG20231229165543_jpg.rf.8492018ccee7671389a27946fed7c041.jpg: 640x640 1 Betel, 7.4ms\n",
            "image 76/963 /content/drive/MyDrive/AyushVision/yolo/final/test/images/IMG20231229165621_jpg.rf.29649f8872fc1760d878f98bf0a7a073.jpg: 640x640 1 Betel, 7.5ms\n",
            "image 77/963 /content/drive/MyDrive/AyushVision/yolo/final/test/images/IMG20231229165629_jpg.rf.ab953e96d500e1695c42590d1209dc59.jpg: 640x640 1 Betel, 7.4ms\n",
            "image 78/963 /content/drive/MyDrive/AyushVision/yolo/final/test/images/IMG20231229165659_jpg.rf.7f815fb141555064b1b70d991942bc19.jpg: 640x640 1 Betel, 7.4ms\n",
            "image 79/963 /content/drive/MyDrive/AyushVision/yolo/final/test/images/IMG20231229165730_jpg.rf.e7b4f4e034a4b54c99f30a2f5f70a3ba.jpg: 640x640 1 Betel, 7.4ms\n",
            "image 80/963 /content/drive/MyDrive/AyushVision/yolo/final/test/images/IMG20231229165758_jpg.rf.d2f5ef6909638a38821f3987eda2e493.jpg: 640x640 1 Betel, 7.5ms\n",
            "image 81/963 /content/drive/MyDrive/AyushVision/yolo/final/test/images/IMG20231229165931_jpg.rf.8158b8cde6df8bb536710c68d76ccef7.jpg: 640x640 1 Ginger, 7.5ms\n",
            "image 82/963 /content/drive/MyDrive/AyushVision/yolo/final/test/images/IMG20231229165933_jpg.rf.76a214d57c74ec425d3d41469adfb045.jpg: 640x640 1 Ginger, 7.4ms\n",
            "image 83/963 /content/drive/MyDrive/AyushVision/yolo/final/test/images/IMG20231229165937_jpg.rf.ad83eba1804f12180cd02b2f7fa44daf.jpg: 640x640 1 Ginger, 7.4ms\n",
            "image 84/963 /content/drive/MyDrive/AyushVision/yolo/final/test/images/IMG20231229170029_jpg.rf.e9018bc6b037d5374995e1c661d8d5ed.jpg: 640x640 1 Ginger, 7.4ms\n",
            "image 85/963 /content/drive/MyDrive/AyushVision/yolo/final/test/images/IMG20231229170250_jpg.rf.194e398d0fc3b27ccb5da5072d468369.jpg: 640x640 1 Ginger, 8.0ms\n",
            "image 86/963 /content/drive/MyDrive/AyushVision/yolo/final/test/images/IMG20231229170300_01_jpg.rf.e6dab1a85821b5a32560182fbacb74d5.jpg: 640x640 1 Ginger, 7.4ms\n",
            "image 87/963 /content/drive/MyDrive/AyushVision/yolo/final/test/images/IMG20231229170327_jpg.rf.1c4e76b86684971ad5df815cefdb64ef.jpg: 640x640 1 Ginger, 7.4ms\n",
            "image 88/963 /content/drive/MyDrive/AyushVision/yolo/final/test/images/IMG20231229170329_jpg.rf.8b965026c9dfedd651ded2c0e533f82d.jpg: 640x640 1 Ginger, 7.4ms\n",
            "image 89/963 /content/drive/MyDrive/AyushVision/yolo/final/test/images/IMG20231229170344_jpg.rf.2d76352be57fccf9b46fc7dd9bb3adf6.jpg: 640x640 1 Ginger, 7.4ms\n",
            "image 90/963 /content/drive/MyDrive/AyushVision/yolo/final/test/images/IMG20231230125007_jpg.rf.b8a7bd29f92ed27668a70593d2ff22f9.jpg: 640x640 (no detections), 7.4ms\n",
            "image 91/963 /content/drive/MyDrive/AyushVision/yolo/final/test/images/IMG20240106100644_jpg.rf.4c404645823245c271caf7456b0b70b9.jpg: 640x640 1 Holybasil, 7.4ms\n",
            "image 92/963 /content/drive/MyDrive/AyushVision/yolo/final/test/images/IMG20240106100928_jpg.rf.69a18afe892ec56fb4d455de1d329e65.jpg: 640x640 1 Holybasil, 7.4ms\n",
            "image 93/963 /content/drive/MyDrive/AyushVision/yolo/final/test/images/IMG20240106101039_jpg.rf.0fee65d46f3561b8382395546cf0501a.jpg: 640x640 1 Holybasil, 7.4ms\n",
            "image 94/963 /content/drive/MyDrive/AyushVision/yolo/final/test/images/IMG2024010610154490_jpg.rf.ab04855062904e69fc369915d8a4f322.jpg: 640x640 (no detections), 7.5ms\n",
            "image 95/963 /content/drive/MyDrive/AyushVision/yolo/final/test/images/IMG20240106101851_01_jpg.rf.476ae094feb898dfe3320cf86b59d12e.jpg: 640x640 1 Adamant_Creeper, 7.5ms\n",
            "image 96/963 /content/drive/MyDrive/AyushVision/yolo/final/test/images/IMG20240106101904_03_jpg.rf.015a3c24c4bfe18ccf068849828b5319.jpg: 640x640 1 Adamant_Creeper, 8.6ms\n",
            "image 97/963 /content/drive/MyDrive/AyushVision/yolo/final/test/images/IMG20240106101905_05_jpg.rf.f862f35156270efb0be2324e3ff1865b.jpg: 640x640 1 Adamant_Creeper, 7.5ms\n",
            "image 98/963 /content/drive/MyDrive/AyushVision/yolo/final/test/images/IMG20240106101912_jpg.rf.45181d9e9a9e8d4ff4a23ef5e0f6ddf4.jpg: 640x640 1 Adamant_Creeper, 8.0ms\n",
            "image 99/963 /content/drive/MyDrive/AyushVision/yolo/final/test/images/IMG20240106101933_jpg.rf.c96dbb297992188d399f55982d7d84ea.jpg: 640x640 1 Adamant_Creeper, 7.4ms\n",
            "image 100/963 /content/drive/MyDrive/AyushVision/yolo/final/test/images/IMG20240106102028_01_jpg.rf.234ed6bbca9db04ea654fab4c3536267.jpg: 640x640 1 Adamant_Creeper, 7.4ms\n",
            "image 101/963 /content/drive/MyDrive/AyushVision/yolo/final/test/images/IMG20240106102046_jpg.rf.200da8254ac75376a184eaf115007a59.jpg: 640x640 1 Adamant_Creeper, 7.4ms\n",
            "image 102/963 /content/drive/MyDrive/AyushVision/yolo/final/test/images/IMG20240106102052_jpg.rf.71d5fd12a5ea713f8bb61d54686ab946.jpg: 640x640 1 Adamant_Creeper, 7.4ms\n",
            "image 103/963 /content/drive/MyDrive/AyushVision/yolo/final/test/images/IMG20240106102106_04_jpg.rf.6c23e6b3a20938b935afdb970393315a.jpg: 640x640 1 Adamant_Creeper, 7.4ms\n",
            "image 104/963 /content/drive/MyDrive/AyushVision/yolo/final/test/images/IMG20240106102121_03_jpg.rf.ed9395dc506cf1be619c221d1809df6e.jpg: 640x640 1 Adamant_Creeper, 7.4ms\n",
            "image 105/963 /content/drive/MyDrive/AyushVision/yolo/final/test/images/IMG20240106102121_jpg.rf.b07e4d6c11831af3f12a0891837b427b.jpg: 640x640 1 Adamant_Creeper, 7.4ms\n",
            "image 106/963 /content/drive/MyDrive/AyushVision/yolo/final/test/images/IMG20240106102130_03_jpg.rf.5f81a693b059b8c1b9978131cba3edf1.jpg: 640x640 1 Adamant_Creeper, 7.4ms\n",
            "image 107/963 /content/drive/MyDrive/AyushVision/yolo/final/test/images/IMG20240106102139_01_jpg.rf.595fadd5a07e45565cd2c45fe716c672.jpg: 640x640 1 Adamant_Creeper, 7.5ms\n",
            "image 108/963 /content/drive/MyDrive/AyushVision/yolo/final/test/images/IMG20240106102144_jpg.rf.614fe9a51c0fef57495505aefa1e0a4d.jpg: 640x640 1 Adamant_Creeper, 7.4ms\n",
            "image 109/963 /content/drive/MyDrive/AyushVision/yolo/final/test/images/IMG20240106102145_01_jpg.rf.80554193f2a87f9d3bcb171de2533589.jpg: 640x640 1 Adamant_Creeper, 7.4ms\n",
            "image 110/963 /content/drive/MyDrive/AyushVision/yolo/final/test/images/IMG20240106102347_jpg.rf.9bbce141db7139231fb42887d7702583.jpg: 640x640 1 Adamant_Creeper, 7.5ms\n",
            "image 111/963 /content/drive/MyDrive/AyushVision/yolo/final/test/images/IMG20240106102403_jpg.rf.d3a4386a49fe8bd828e73af259ab5527.jpg: 640x640 1 Adamant_Creeper, 7.5ms\n",
            "image 112/963 /content/drive/MyDrive/AyushVision/yolo/final/test/images/IMG20240106102412_jpg.rf.d4cee246cbc94001d25cd58ba97b0f70.jpg: 640x640 1 Adamant_Creeper, 7.5ms\n",
            "image 113/963 /content/drive/MyDrive/AyushVision/yolo/final/test/images/IMG20240106102414_jpg.rf.26b42242bae253cc1d7579baf04cb54c.jpg: 640x640 1 Adamant_Creeper, 7.5ms\n",
            "image 114/963 /content/drive/MyDrive/AyushVision/yolo/final/test/images/IMG20240106102454_jpg.rf.351c41a313b31315badb52dc758391d0.jpg: 640x640 1 Adamant_Creeper, 7.5ms\n",
            "image 115/963 /content/drive/MyDrive/AyushVision/yolo/final/test/images/IMG20240106102503_jpg.rf.534c7c8f96d8d5541a04a0b4869330a7.jpg: 640x640 1 Adamant_Creeper, 7.5ms\n",
            "image 116/963 /content/drive/MyDrive/AyushVision/yolo/final/test/images/IMG20240106102656_01_jpg.rf.3ccb151e0ccfcfb2eb9b06f593c19bc2.jpg: 640x640 1 Lemon_grass, 7.5ms\n",
            "image 117/963 /content/drive/MyDrive/AyushVision/yolo/final/test/images/IMG20240106103158_jpg.rf.924c235d9af8039919f45fa3d4a9c8eb.jpg: 640x640 1 Adamant_Creeper, 7.5ms\n",
            "image 118/963 /content/drive/MyDrive/AyushVision/yolo/final/test/images/IMG20240106103239_jpg.rf.4ce3cb1c2070b53579451b5c39c477e6.jpg: 640x640 1 Adamant_Creeper, 7.4ms\n",
            "image 119/963 /content/drive/MyDrive/AyushVision/yolo/final/test/images/IMG20240106133108_jpg.rf.22afdf629f66a62c579876de1edcac9e.jpg: 640x640 1 Adamant_Creeper, 7.4ms\n",
            "image 120/963 /content/drive/MyDrive/AyushVision/yolo/final/test/images/IMG20240106133118_01_jpg.rf.999cd28c125be7940d72782961d09d30.jpg: 640x640 1 Adamant_Creeper, 7.4ms\n",
            "image 121/963 /content/drive/MyDrive/AyushVision/yolo/final/test/images/IMG20240106133130_jpg.rf.3acb6b572434b880c8390b955fd97263.jpg: 640x640 1 Adamant_Creeper, 7.5ms\n",
            "image 122/963 /content/drive/MyDrive/AyushVision/yolo/final/test/images/IMG20240106133140_03_jpg.rf.a202ce45542ac073c44bceb73f254159.jpg: 640x640 1 Adamant_Creeper, 7.4ms\n",
            "image 123/963 /content/drive/MyDrive/AyushVision/yolo/final/test/images/IMG20240106133143_01_jpg.rf.0419bad4f9486ceb58c712837c81483c.jpg: 640x640 1 Adamant_Creeper, 7.4ms\n",
            "image 124/963 /content/drive/MyDrive/AyushVision/yolo/final/test/images/IMG20240106133212_01_jpg.rf.f20dd5ea6739672f51b6603b263b26a3.jpg: 640x640 1 Adamant_Creeper, 7.4ms\n",
            "image 125/963 /content/drive/MyDrive/AyushVision/yolo/final/test/images/IMG20240106133225_jpg.rf.77121576b824db135048d7017ff9fc8a.jpg: 640x640 1 Adamant_Creeper, 7.4ms\n",
            "image 126/963 /content/drive/MyDrive/AyushVision/yolo/final/test/images/IMG20240106133226_jpg.rf.8a91d3927ed17fbd761910fba4f303c2.jpg: 640x640 1 Adamant_Creeper, 7.5ms\n",
            "image 127/963 /content/drive/MyDrive/AyushVision/yolo/final/test/images/IMG20240106133228_jpg.rf.983080a42197bdeed596a11f04d66ff7.jpg: 640x640 1 Adamant_Creeper, 7.4ms\n",
            "image 128/963 /content/drive/MyDrive/AyushVision/yolo/final/test/images/IMG20240106133309_jpg.rf.68958bbc163a078d463c9bb72e8c90c8.jpg: 640x640 1 Adamant_Creeper, 8.4ms\n",
            "image 129/963 /content/drive/MyDrive/AyushVision/yolo/final/test/images/IMG20240106134521_02_jpg.rf.e63539f9e297cb46e1701d21f3c69353.jpg: 640x640 1 Lemon_grass, 9.3ms\n",
            "image 130/963 /content/drive/MyDrive/AyushVision/yolo/final/test/images/IMG20240106134741_jpg.rf.f342e1d0fd69f52d220bb6230b9c0581.jpg: 640x640 1 Lemon_grass, 7.4ms\n",
            "image 131/963 /content/drive/MyDrive/AyushVision/yolo/final/test/images/IMG20240106134750_01_jpg.rf.bee3f543fde39ec057c908dc9250593b.jpg: 640x640 1 Lemon_grass, 7.4ms\n",
            "image 132/963 /content/drive/MyDrive/AyushVision/yolo/final/test/images/IMG20240106134801_jpg.rf.795a5b95ce422afcc55f4ed337fa0b18.jpg: 640x640 1 Lemon_grass, 7.4ms\n",
            "image 133/963 /content/drive/MyDrive/AyushVision/yolo/final/test/images/IMG20240106134936_01_jpg.rf.de843a6fcca7464f68939442881d5c02.jpg: 640x640 1 Lemon_grass, 9.4ms\n",
            "image 134/963 /content/drive/MyDrive/AyushVision/yolo/final/test/images/IMG20240106135011_jpg.rf.c3d14b1102bf30d36bd02af0f76486da.jpg: 640x640 1 Lemon_grass, 9.6ms\n",
            "image 135/963 /content/drive/MyDrive/AyushVision/yolo/final/test/images/IMG20240106142624_jpg.rf.4cab3b934c58b1bf3e89104901c48698.jpg: 640x640 1 Alovera, 1 Lemon_grass, 9.8ms\n",
            "image 136/963 /content/drive/MyDrive/AyushVision/yolo/final/test/images/IMG20240106142754_jpg.rf.ada9ecabd4a7449d056a68e15cd9310a.jpg: 640x640 1 Holybasil, 7.6ms\n",
            "image 137/963 /content/drive/MyDrive/AyushVision/yolo/final/test/images/IMG20240106142904_jpg.rf.cfcfccf46c65a56fe30b6594f2953fef.jpg: 640x640 1 Holybasil, 8.7ms\n",
            "image 138/963 /content/drive/MyDrive/AyushVision/yolo/final/test/images/IMG20240106142909_jpg.rf.d435230c655680022c8fdc24d5a5a2e3.jpg: 640x640 1 Holybasil, 9.3ms\n",
            "image 139/963 /content/drive/MyDrive/AyushVision/yolo/final/test/images/IMG20240106142920_01_jpg.rf.e2c69ee8d6bc2dc4233c2e1d2edcbf9e.jpg: 640x640 1 Holybasil, 7.5ms\n",
            "image 140/963 /content/drive/MyDrive/AyushVision/yolo/final/test/images/IMG20240106142920_05_jpg.rf.147e3503e6d37f5425c3a0f138550148.jpg: 640x640 1 Holybasil, 9.4ms\n",
            "image 141/963 /content/drive/MyDrive/AyushVision/yolo/final/test/images/IMG20240106143021_08_jpg.rf.4a820c3708dc6e0a72adf21a65e69ad0.jpg: 640x640 1 Holybasil, 7.4ms\n",
            "image 142/963 /content/drive/MyDrive/AyushVision/yolo/final/test/images/IMG20240106143035_jpg.rf.4374e4da73dc57306edefd9e4bc533c4.jpg: 640x640 1 Holybasil, 7.4ms\n",
            "image 143/963 /content/drive/MyDrive/AyushVision/yolo/final/test/images/IMG20240106143055_jpg.rf.2b20d6152e06592d6e96518b8783c779.jpg: 640x640 1 Holybasil, 7.4ms\n",
            "image 144/963 /content/drive/MyDrive/AyushVision/yolo/final/test/images/IMG20240106143100_jpg.rf.ab0d73bdd3a51ff8ede57bc6ec9362cf.jpg: 640x640 1 Holybasil, 7.4ms\n",
            "image 145/963 /content/drive/MyDrive/AyushVision/yolo/final/test/images/IMG20240106143110_02_jpg.rf.45442f33d620bc2694b7f3de589b1634.jpg: 640x640 1 Holybasil, 7.4ms\n",
            "image 146/963 /content/drive/MyDrive/AyushVision/yolo/final/test/images/IMG20240106143117_02_jpg.rf.6ff42b4c6a184ead04a0d15f5d768c23.jpg: 640x640 1 Holybasil, 7.4ms\n",
            "image 147/963 /content/drive/MyDrive/AyushVision/yolo/final/test/images/IMG20240117140933_jpg.rf.8f3a83cae6235144f748065da6a928f2.jpg: 640x640 1 Adamant_Creeper, 1 Holybasil, 7.4ms\n",
            "image 148/963 /content/drive/MyDrive/AyushVision/yolo/final/test/images/IMG20240117142753_jpg.rf.77259e9ebbba6335593f4e313e31b63e.jpg: 640x640 1 Caster, 7.4ms\n",
            "image 149/963 /content/drive/MyDrive/AyushVision/yolo/final/test/images/IMG20240121130355_jpg.rf.ef117c50b450009400d0747c95bc7425.jpg: 640x640 (no detections), 8.1ms\n",
            "image 150/963 /content/drive/MyDrive/AyushVision/yolo/final/test/images/IMG20240121130356_jpg.rf.846903a6bb60784082b43b5851883a50.jpg: 640x640 (no detections), 7.4ms\n",
            "image 151/963 /content/drive/MyDrive/AyushVision/yolo/final/test/images/IMG20240121130934_jpg.rf.80a5464e81709cc091fbaaf19a92a0c2.jpg: 640x640 1 Ivy_gourd, 1 Thornapple, 7.4ms\n",
            "image 152/963 /content/drive/MyDrive/AyushVision/yolo/final/test/images/IMG20240121130944_jpg.rf.9a41d438631cca4f93d5586d614dae4c.jpg: 640x640 1 Adamant_Creeper, 1 Caster, 8.6ms\n",
            "image 153/963 /content/drive/MyDrive/AyushVision/yolo/final/test/images/IMG20240121131046_jpg.rf.136f6dd2f58df17916d22634a36a8c3b.jpg: 640x640 1 Caster, 7.4ms\n",
            "image 154/963 /content/drive/MyDrive/AyushVision/yolo/final/test/images/IMG20240121152328_jpg.rf.93545098916a3781e80875665b47cc7e.jpg: 640x640 1 Adamant_Creeper, 1 Caster, 7.5ms\n",
            "image 155/963 /content/drive/MyDrive/AyushVision/yolo/final/test/images/IMG20240121152417_jpg.rf.56cb71e9a4ae4abc10bde5b722bff71f.jpg: 640x640 1 Caster, 7.4ms\n",
            "image 156/963 /content/drive/MyDrive/AyushVision/yolo/final/test/images/IMG20240121152420_jpg.rf.8c0ba84a2594ef4cf4261b952da32e6c.jpg: 640x640 1 Neem, 7.4ms\n",
            "image 157/963 /content/drive/MyDrive/AyushVision/yolo/final/test/images/IMG20240121153619_jpg.rf.19657fb138f97c29a138e4c5eb9a9386.jpg: 640x640 1 Caster, 9.5ms\n",
            "image 158/963 /content/drive/MyDrive/AyushVision/yolo/final/test/images/IMG20240121153650_jpg.rf.53bca5ea5081a9859cecf5a5c103c581.jpg: 640x640 1 Caster, 8.8ms\n",
            "image 159/963 /content/drive/MyDrive/AyushVision/yolo/final/test/images/IMG20240121153746_jpg.rf.44ce0c717cebfe0378aa359bb7759734.jpg: 640x640 1 Caster, 9.4ms\n",
            "image 160/963 /content/drive/MyDrive/AyushVision/yolo/final/test/images/IMG20240121153818_jpg.rf.1e9e1b2bae2a94c14933e24e1b794871.jpg: 640x640 1 Caster, 7.9ms\n",
            "image 161/963 /content/drive/MyDrive/AyushVision/yolo/final/test/images/IMG20240121153821_jpg.rf.d9b24aa68d88aba6b7e685da554d23e9.jpg: 640x640 1 Caster, 7.4ms\n",
            "image 162/963 /content/drive/MyDrive/AyushVision/yolo/final/test/images/IMG20240208102828_jpg.rf.0bea56ff45fb9e77930596df7572aded.jpg: 640x640 1 Alovera, 7.5ms\n",
            "image 163/963 /content/drive/MyDrive/AyushVision/yolo/final/test/images/IMG20240208171544_jpg.rf.c24a776b5c0998c0049c4fe1780bb47f.jpg: 640x640 1 Alovera, 7.4ms\n",
            "image 164/963 /content/drive/MyDrive/AyushVision/yolo/final/test/images/IMG20240209082545_jpg.rf.208963970bea958ca92841d3127e3d80.jpg: 640x640 1 Henna, 7.4ms\n",
            "image 165/963 /content/drive/MyDrive/AyushVision/yolo/final/test/images/IMG20240209082607_jpg.rf.fba64c967cead2d377b151cdb9556366.jpg: 640x640 1 Henna, 7.4ms\n",
            "image 166/963 /content/drive/MyDrive/AyushVision/yolo/final/test/images/IMG20240209082614_jpg.rf.5cd93b0db2828be41bf4f9baafae6980.jpg: 640x640 1 Henna, 7.5ms\n",
            "image 167/963 /content/drive/MyDrive/AyushVision/yolo/final/test/images/IMG20240209082632_jpg.rf.eaa2f4d2f9b026761f24bae474494462.jpg: 640x640 1 Henna, 7.4ms\n",
            "image 168/963 /content/drive/MyDrive/AyushVision/yolo/final/test/images/IMG20240209082800_jpg.rf.bfaf48f0e7362f00e59997a16ce70d02.jpg: 640x640 1 Henna, 7.5ms\n",
            "image 169/963 /content/drive/MyDrive/AyushVision/yolo/final/test/images/IMG20240209082819_jpg.rf.7946369cba8de5eda2c9b503b6398a13.jpg: 640x640 1 Henna, 7.4ms\n",
            "image 170/963 /content/drive/MyDrive/AyushVision/yolo/final/test/images/IMG20240209082832_jpg.rf.d256919d3078a4cc9457b2df405661ff.jpg: 640x640 1 Henna, 7.4ms\n",
            "image 171/963 /content/drive/MyDrive/AyushVision/yolo/final/test/images/IMG20240209082846_jpg.rf.3b2fe5a3a4bd25baabc076fb752f5651.jpg: 640x640 1 Henna, 7.4ms\n",
            "image 172/963 /content/drive/MyDrive/AyushVision/yolo/final/test/images/IMG20240209082851_jpg.rf.3af825e53bc04386a0264884f3b8f903.jpg: 640x640 1 Henna, 7.4ms\n",
            "image 173/963 /content/drive/MyDrive/AyushVision/yolo/final/test/images/IMG20240209082921_jpg.rf.1124b36542fd03c27420ef5c4f17add8.jpg: 640x640 1 Henna, 7.4ms\n",
            "image 174/963 /content/drive/MyDrive/AyushVision/yolo/final/test/images/IMG20240209082933_jpg.rf.02bf72a1987c95b37c613c7db67d3d08.jpg: 640x640 1 Henna, 7.5ms\n",
            "image 175/963 /content/drive/MyDrive/AyushVision/yolo/final/test/images/IMG20240209082942_jpg.rf.d0a888f2194148facbbc59f6fba3efb5.jpg: 640x640 1 Henna, 7.4ms\n",
            "image 176/963 /content/drive/MyDrive/AyushVision/yolo/final/test/images/IMG20240209082950_jpg.rf.40ad0dbf0fe1045f54f8a2fc159cd8ad.jpg: 640x640 1 Henna, 7.5ms\n",
            "image 177/963 /content/drive/MyDrive/AyushVision/yolo/final/test/images/IMG20240209083005_jpg.rf.4b67b7396262c72b855c7e27996a794d.jpg: 640x640 1 Henna, 7.5ms\n",
            "image 178/963 /content/drive/MyDrive/AyushVision/yolo/final/test/images/IMG20240209083007_jpg.rf.cce1ab2e3569334d6ea621ff4047b369.jpg: 640x640 1 Henna, 7.5ms\n",
            "image 179/963 /content/drive/MyDrive/AyushVision/yolo/final/test/images/IMG20240209083011_jpg.rf.75781eef9b8e149ea1fc7ea6b204def7.jpg: 640x640 1 Henna, 8.2ms\n",
            "image 180/963 /content/drive/MyDrive/AyushVision/yolo/final/test/images/IMG20240209083050_jpg.rf.6487d4a19eb4a8f3aa538b569e2e01c7.jpg: 640x640 1 Henna, 7.4ms\n",
            "image 181/963 /content/drive/MyDrive/AyushVision/yolo/final/test/images/IMG20240209083056_jpg.rf.fda66bb000ae6f25621c0cafc7efc335.jpg: 640x640 1 Henna, 7.4ms\n",
            "image 182/963 /content/drive/MyDrive/AyushVision/yolo/final/test/images/IMG20240209083211_jpg.rf.64dee418d5615d6102d89b91207451b3.jpg: 640x640 1 Henna, 9.0ms\n",
            "image 183/963 /content/drive/MyDrive/AyushVision/yolo/final/test/images/IMG20240209083223_jpg.rf.baa0ab487cdd2a9972df3ca409ce50cb.jpg: 640x640 1 Henna, 10.4ms\n",
            "image 184/963 /content/drive/MyDrive/AyushVision/yolo/final/test/images/IMG20240209091840_jpg.rf.53fca6101db950f92d5f461361d5212d.jpg: 640x640 1 Hibiscus, 9.2ms\n",
            "image 185/963 /content/drive/MyDrive/AyushVision/yolo/final/test/images/IMG2024020909444256_jpg.rf.63c35c1813a8b0fa7fc174d7bd132589.jpg: 640x640 (no detections), 7.5ms\n",
            "image 186/963 /content/drive/MyDrive/AyushVision/yolo/final/test/images/IMG20240209094630_jpg.rf.25a0e1ccabc411f7df52ba78da3a47fe.jpg: 640x640 1 Caster, 7.4ms\n",
            "image 187/963 /content/drive/MyDrive/AyushVision/yolo/final/test/images/IMG20240209171322_jpg.rf.07db84da462e387ec0893efadebab26f.jpg: 640x640 1 Cinnamon, 7.5ms\n",
            "image 188/963 /content/drive/MyDrive/AyushVision/yolo/final/test/images/IMG20240209171414_jpg.rf.44fedee30e0034f68411d6768e0cfd20.jpg: 640x640 1 Cinnamon, 7.5ms\n",
            "image 189/963 /content/drive/MyDrive/AyushVision/yolo/final/test/images/IMG20240209171436_jpg.rf.624ed847888b493f2f60d4182954be7e.jpg: 640x640 1 Cinnamon, 7.4ms\n",
            "image 190/963 /content/drive/MyDrive/AyushVision/yolo/final/test/images/IMG20240209171439_jpg.rf.f4eff0cddb55542fab7fdeeab5b17c49.jpg: 640x640 1 Cinnamon, 7.5ms\n",
            "image 191/963 /content/drive/MyDrive/AyushVision/yolo/final/test/images/IMG20240209171523_jpg.rf.99343d53ec63c36967913495b2f792ab.jpg: 640x640 1 Cinnamon, 7.4ms\n",
            "image 192/963 /content/drive/MyDrive/AyushVision/yolo/final/test/images/IMG20240209175618_jpg.rf.d2d70b2c2826e5230380b54ad6812b8a.jpg: 640x640 1 Ivy_gourd, 7.7ms\n",
            "image 193/963 /content/drive/MyDrive/AyushVision/yolo/final/test/images/IMG20240209175622_jpg.rf.bbff6945820b20ba7d6ab15aae9bbb7d.jpg: 640x640 1 Ivy_gourd, 7.4ms\n",
            "image 194/963 /content/drive/MyDrive/AyushVision/yolo/final/test/images/IMG20240209175624_jpg.rf.805b9fd87b0cfbe191074fd983e66e30.jpg: 640x640 1 Ivy_gourd, 7.5ms\n",
            "image 195/963 /content/drive/MyDrive/AyushVision/yolo/final/test/images/IMG20240209175630_jpg.rf.e8aa6665fe6a6c134840ffe8eb8534a5.jpg: 640x640 1 Ivy_gourd, 1 Miracle_leaf, 7.4ms\n",
            "image 196/963 /content/drive/MyDrive/AyushVision/yolo/final/test/images/IMG20240209175701_jpg.rf.c86f07ef9cc7babd47c7fa5207662cd1.jpg: 640x640 1 Ivy_gourd, 7.4ms\n",
            "image 197/963 /content/drive/MyDrive/AyushVision/yolo/final/test/images/IMG20240209175752_jpg.rf.ffc16f152778850fd3e1e8c28a4e76df.jpg: 640x640 1 Ivy_gourd, 7.4ms\n",
            "image 198/963 /content/drive/MyDrive/AyushVision/yolo/final/test/images/IMG20240209175754_jpg.rf.f8786c0d816329c951447dd411a2145d.jpg: 640x640 1 Ivy_gourd, 7.4ms\n",
            "image 199/963 /content/drive/MyDrive/AyushVision/yolo/final/test/images/IMG20240209182248_jpg.rf.82334a64a6b0939a812aed3d0d91f691.jpg: 640x640 1 Ivy_gourd, 8.1ms\n",
            "image 200/963 /content/drive/MyDrive/AyushVision/yolo/final/test/images/IMG20240210083606_jpg.rf.344e38f09df462d847de8fac5a0ef85f.jpg: 640x640 1 Ginger, 7.4ms\n",
            "image 201/963 /content/drive/MyDrive/AyushVision/yolo/final/test/images/IMG20240210083623_jpg.rf.3e68a7f55ec74f76ef1a4679242c8891.jpg: 640x640 1 Ginger, 8.0ms\n",
            "image 202/963 /content/drive/MyDrive/AyushVision/yolo/final/test/images/IMG20240210083700_jpg.rf.ab946a6bcd52b33fcac57ec595535c10.jpg: 640x640 1 Ginger, 7.4ms\n",
            "image 203/963 /content/drive/MyDrive/AyushVision/yolo/final/test/images/IMG20240210083718_jpg.rf.e8e580d3165c700700f401ebdd825712.jpg: 640x640 1 Ginger, 7.4ms\n",
            "image 204/963 /content/drive/MyDrive/AyushVision/yolo/final/test/images/IMG20240210083756_jpg.rf.0a3cfe047bc21d946788e022ba10a404.jpg: 640x640 1 Ginger, 8.2ms\n",
            "image 205/963 /content/drive/MyDrive/AyushVision/yolo/final/test/images/IMG20240210083914_jpg.rf.94b00ec08b7159271fe0a0d497d1da6b.jpg: 640x640 1 Ginger, 7.5ms\n",
            "image 206/963 /content/drive/MyDrive/AyushVision/yolo/final/test/images/IMG20240210083919_jpg.rf.2ac98a1d42bcf82449abbe4b622ef8b4.jpg: 640x640 1 Ginger, 7.4ms\n",
            "image 207/963 /content/drive/MyDrive/AyushVision/yolo/final/test/images/IMG20240210083942_jpg.rf.b4af295570747c1db2b7bb7cc4b6e745.jpg: 640x640 1 Ginger, 7.4ms\n",
            "image 208/963 /content/drive/MyDrive/AyushVision/yolo/final/test/images/IMG20240210084006_jpg.rf.744b6c0d5daafc5c2123abe6e6c21b37.jpg: 640x640 1 Ginger, 7.5ms\n",
            "image 209/963 /content/drive/MyDrive/AyushVision/yolo/final/test/images/IMG20240210084020_jpg.rf.1cb64a8220a9967ebc4721a5958aa084.jpg: 640x640 1 Ginger, 7.4ms\n",
            "image 210/963 /content/drive/MyDrive/AyushVision/yolo/final/test/images/IMG20240210084034_jpg.rf.3ff256ee68855eea0a8b27902efb7c95.jpg: 640x640 1 Ginger, 7.5ms\n",
            "image 211/963 /content/drive/MyDrive/AyushVision/yolo/final/test/images/IMG20240210084356_jpg.rf.9c4d59e87bf2a3ee6c850ee0611c82d5.jpg: 640x640 1 Alovera, 8.2ms\n",
            "image 212/963 /content/drive/MyDrive/AyushVision/yolo/final/test/images/IMG20240210084359_jpg.rf.4a97156f8478f5bf31c66a9e481bbcea.jpg: 640x640 1 Ginger, 8.2ms\n",
            "image 213/963 /content/drive/MyDrive/AyushVision/yolo/final/test/images/IMG20240210084828_jpg.rf.3674283dea8bf8f90f901ccc62979aad.jpg: 640x640 1 Ginger, 7.4ms\n",
            "image 214/963 /content/drive/MyDrive/AyushVision/yolo/final/test/images/IMG20240210084837_jpg.rf.2530fdf3aafa67a1437fa10cd7b58970.jpg: 640x640 1 Ginger, 7.4ms\n",
            "image 215/963 /content/drive/MyDrive/AyushVision/yolo/final/test/images/IMG20240210085019_jpg.rf.8a65f6b2bc21d23965abd92627d22593.jpg: 640x640 1 Ginger, 7.4ms\n",
            "image 216/963 /content/drive/MyDrive/AyushVision/yolo/final/test/images/IMG20240210085035_jpg.rf.41570e570baa44275e25b06ad13e0c6f.jpg: 640x640 1 Ginger, 7.4ms\n",
            "image 217/963 /content/drive/MyDrive/AyushVision/yolo/final/test/images/IMG20240210085128_jpg.rf.ec5482434fad2a6512038bb34d100576.jpg: 640x640 1 Ginger, 7.4ms\n",
            "image 218/963 /content/drive/MyDrive/AyushVision/yolo/final/test/images/IMG20240210085536_jpg.rf.9ee9eed16c6bf74a069954b6c463aef8.jpg: 640x640 1 Ginger, 7.4ms\n",
            "image 219/963 /content/drive/MyDrive/AyushVision/yolo/final/test/images/IMG20240210085630_jpg.rf.55662fbe5084fb3d8a3ebd4955e6dcd6.jpg: 640x640 1 Ginger, 7.4ms\n",
            "image 220/963 /content/drive/MyDrive/AyushVision/yolo/final/test/images/IMG20240210085638_jpg.rf.346e62983a5ad5a1a54e420a393d577c.jpg: 640x640 1 Ginger, 7.9ms\n",
            "image 221/963 /content/drive/MyDrive/AyushVision/yolo/final/test/images/IMG20240210085843_jpg.rf.0ae1305cb9b524ac7a6f8c2b339628db.jpg: 640x640 1 Ginger, 7.5ms\n",
            "image 222/963 /content/drive/MyDrive/AyushVision/yolo/final/test/images/IMG20240210085932_jpg.rf.90f1d10cd3821bc9771a5474bbbb0836.jpg: 640x640 1 Ginger, 7.4ms\n",
            "image 223/963 /content/drive/MyDrive/AyushVision/yolo/final/test/images/IMG20240210085937_jpg.rf.5eb16112e0c3db376bf015288c4ee556.jpg: 640x640 1 Ginger, 7.5ms\n",
            "image 224/963 /content/drive/MyDrive/AyushVision/yolo/final/test/images/IMG20240210085950_jpg.rf.fe394b4f24b99344c87b5d8aa78162c7.jpg: 640x640 1 Ginger, 7.5ms\n",
            "image 225/963 /content/drive/MyDrive/AyushVision/yolo/final/test/images/IMG20240210090052_jpg.rf.9ff5a9f7d6d2f8f0073a9b833c65ee6f.jpg: 640x640 1 Ginger, 7.6ms\n",
            "image 226/963 /content/drive/MyDrive/AyushVision/yolo/final/test/images/IMG202402100900579_jpg.rf.5be5183863e5c9663ef75333cc79d454.jpg: 640x640 1 Cinnamon, 7.7ms\n",
            "image 227/963 /content/drive/MyDrive/AyushVision/yolo/final/test/images/IMG20240210090059_jpg.rf.84bc6425050089e3fb1681d4908cbcce.jpg: 640x640 1 Ginger, 8.3ms\n",
            "image 228/963 /content/drive/MyDrive/AyushVision/yolo/final/test/images/IMG20240210090208_jpg.rf.0372a58344cde5cfdc49f41c9d52c32f.jpg: 640x640 1 Ginger, 7.5ms\n",
            "image 229/963 /content/drive/MyDrive/AyushVision/yolo/final/test/images/IMG20240210090236_jpg.rf.78cfd72790ba9f90d0cd2ebafba36220.jpg: 640x640 1 Ginger, 7.5ms\n",
            "image 230/963 /content/drive/MyDrive/AyushVision/yolo/final/test/images/IMG20240210090335_jpg.rf.bc87ba8a7eab2d8d3d0695bcc6cefbc6.jpg: 640x640 1 Ginger, 7.5ms\n",
            "image 231/963 /content/drive/MyDrive/AyushVision/yolo/final/test/images/IMG20240210090343_jpg.rf.8344f5745aa60fb5b5cab51d6cd0b9b2.jpg: 640x640 1 Ginger, 7.4ms\n",
            "image 232/963 /content/drive/MyDrive/AyushVision/yolo/final/test/images/IMG20240210090502_jpg.rf.9f83167d9781539f2ae987f513ddd52d.jpg: 640x640 1 Ginger, 7.4ms\n",
            "image 233/963 /content/drive/MyDrive/AyushVision/yolo/final/test/images/IMG20240210090522_jpg.rf.fef2cdcf1487fb0d5603965ebc2badf3.jpg: 640x640 1 Ginger, 7.6ms\n",
            "image 234/963 /content/drive/MyDrive/AyushVision/yolo/final/test/images/IMG20240210090723_jpg.rf.315ea4de03b7850eba49cf6601ec78c7.jpg: 640x640 1 Ginger, 7.4ms\n",
            "image 235/963 /content/drive/MyDrive/AyushVision/yolo/final/test/images/IMG20240210090751_jpg.rf.67b4a122ca7098b33e480f78901441c1.jpg: 640x640 1 Ginger, 7.5ms\n",
            "image 236/963 /content/drive/MyDrive/AyushVision/yolo/final/test/images/IMG20240210090806_jpg.rf.7db30b8b1cb31895a42e80e1faff4050.jpg: 640x640 1 Ginger, 7.4ms\n",
            "image 237/963 /content/drive/MyDrive/AyushVision/yolo/final/test/images/IMG20240210090809_jpg.rf.d3e2f4a70c546c7abc30b33f5d0b9dfb.jpg: 640x640 1 Ginger, 7.4ms\n",
            "image 238/963 /content/drive/MyDrive/AyushVision/yolo/final/test/images/IMG20240210090834_jpg.rf.696289decc425124e710ab65aee7729b.jpg: 640x640 1 Ginger, 7.5ms\n",
            "image 239/963 /content/drive/MyDrive/AyushVision/yolo/final/test/images/IMG20240210090851_jpg.rf.abfd9db0ea3caabaea321f650e57e977.jpg: 640x640 1 Ginger, 7.4ms\n",
            "image 240/963 /content/drive/MyDrive/AyushVision/yolo/final/test/images/IMG20240210091527_jpg.rf.b46a7c17e415ac2fddf839f5ce993a2f.jpg: 640x640 1 Betel, 7.5ms\n",
            "image 241/963 /content/drive/MyDrive/AyushVision/yolo/final/test/images/IMG20240210100945_jpg.rf.ff6a46130c4f3cd07b791352a5a7a01e.jpg: 640x640 (no detections), 7.5ms\n",
            "image 242/963 /content/drive/MyDrive/AyushVision/yolo/final/test/images/IMG20240210101039_jpg.rf.4ad65fe5020557600a71b344d79b9bc7.jpg: 640x640 1 Henna, 7.4ms\n",
            "image 243/963 /content/drive/MyDrive/AyushVision/yolo/final/test/images/IMG20240210101047_jpg.rf.228227828d2407c3852dd3f402acc7eb.jpg: 640x640 1 Calotropis_gigantea, 7.5ms\n",
            "image 244/963 /content/drive/MyDrive/AyushVision/yolo/final/test/images/IMG20240210101117_jpg.rf.6276797547f1c0c1e0ae9ce4e0fa2653.jpg: 640x640 1 Henna, 7.4ms\n",
            "image 245/963 /content/drive/MyDrive/AyushVision/yolo/final/test/images/IMG20240210101215_jpg.rf.4424f5f3ead416eb3a69b1609b850adc.jpg: 640x640 1 Henna, 7.5ms\n",
            "image 246/963 /content/drive/MyDrive/AyushVision/yolo/final/test/images/IMG20240210101219_jpg.rf.43d31cc99e9c43aadb80c0bf0a8df988.jpg: 640x640 1 Henna, 7.4ms\n",
            "image 247/963 /content/drive/MyDrive/AyushVision/yolo/final/test/images/IMG20240210101238_jpg.rf.8d9aa1d1a0191e4071ab05517442deec.jpg: 640x640 1 Henna, 7.4ms\n",
            "image 248/963 /content/drive/MyDrive/AyushVision/yolo/final/test/images/IMG20240210101557_jpg.rf.3563d30ef7c9169e3777fe269758e6fd.jpg: 640x640 1 Cinnamon, 7.4ms\n",
            "image 249/963 /content/drive/MyDrive/AyushVision/yolo/final/test/images/IMG20240210101906_jpg.rf.a6b655e6a752699cee83631fcbd10cbe.jpg: 640x640 1 Henna, 7.4ms\n",
            "image 250/963 /content/drive/MyDrive/AyushVision/yolo/final/test/images/IMG20240210150716_jpg.rf.fa18f60dc74a80513a07f19996946af3.jpg: 640x640 1 Cinnamon, 7.4ms\n",
            "image 251/963 /content/drive/MyDrive/AyushVision/yolo/final/test/images/IMG20240210151105_jpg.rf.268a3f151d6fc0ab6d5f8bed538cc2c9.jpg: 640x640 1 Cinnamon, 7.5ms\n",
            "image 252/963 /content/drive/MyDrive/AyushVision/yolo/final/test/images/IMG20240210151156_jpg.rf.51ea93419a2e57ec8afcb76accf544a0.jpg: 640x640 1 Cinnamon, 7.5ms\n",
            "image 253/963 /content/drive/MyDrive/AyushVision/yolo/final/test/images/IMG20240210155603_jpg.rf.f1bbd4af36b5e306681e8b6490d56398.jpg: 640x640 1 Cinnamon, 8.1ms\n",
            "image 254/963 /content/drive/MyDrive/AyushVision/yolo/final/test/images/IMG20240210155704_jpg.rf.4d112169c94ac87ade5b11b97edc5059.jpg: 640x640 1 Cinnamon, 7.4ms\n",
            "image 255/963 /content/drive/MyDrive/AyushVision/yolo/final/test/images/IMG20240210175333_jpg.rf.4d92da456ea2881d0a24075223ae61fd.jpg: 640x640 3 Acalyphaindicas, 7.4ms\n",
            "image 256/963 /content/drive/MyDrive/AyushVision/yolo/final/test/images/IMG20240210175417_jpg.rf.8a34f8399b4b118f46eda3639ae73224.jpg: 640x640 1 Alovera, 1 Acalyphaindica, 7.5ms\n",
            "image 257/963 /content/drive/MyDrive/AyushVision/yolo/final/test/images/IMG20240210175510_jpg.rf.2ac6ad7755439748b2a80c3a7d9393e5.jpg: 640x640 1 Acalyphaindica, 7.4ms\n",
            "image 258/963 /content/drive/MyDrive/AyushVision/yolo/final/test/images/IMG20240210175525_jpg.rf.073ca84b2e9c1762296181a1385689d7.jpg: 640x640 1 Acalyphaindica, 7.5ms\n",
            "image 259/963 /content/drive/MyDrive/AyushVision/yolo/final/test/images/IMG20240211071453_jpg.rf.78bd6328415e9727dce1530187139b95.jpg: 640x640 1 Black_honey_shrub, 7.4ms\n",
            "image 260/963 /content/drive/MyDrive/AyushVision/yolo/final/test/images/IMG20240211072307_jpg.rf.1fff9e77cc53b446ea6e9c2991c7e326.jpg: 640x640 1 Black_honey_shrub, 7.4ms\n",
            "image 261/963 /content/drive/MyDrive/AyushVision/yolo/final/test/images/IMG20240211072336_jpg.rf.2c9c83b21ffe962d681cedec22a43123.jpg: 640x640 1 Black_honey_shrub, 7.4ms\n",
            "image 262/963 /content/drive/MyDrive/AyushVision/yolo/final/test/images/IMG20240211073140_jpg.rf.0c1b7cdc834218d651bccee6d19e0cc0.jpg: 640x640 1 Black_honey_shrub, 7.9ms\n",
            "image 263/963 /content/drive/MyDrive/AyushVision/yolo/final/test/images/IMG20240211074424_jpg.rf.8f1992576a7ec130a62597a201f94e9a.jpg: 640x640 (no detections), 7.4ms\n",
            "image 264/963 /content/drive/MyDrive/AyushVision/yolo/final/test/images/IMG20240211074726_jpg.rf.4cadb47a598818db03ba2c113808f27f.jpg: 640x640 1 Black_honey_shrub, 7.5ms\n",
            "image 265/963 /content/drive/MyDrive/AyushVision/yolo/final/test/images/IMG20240211074727_jpg.rf.42a581a932e655af9954356e06bfa030.jpg: 640x640 1 Black_honey_shrub, 8.2ms\n",
            "image 266/963 /content/drive/MyDrive/AyushVision/yolo/final/test/images/IMG20240211074846_jpg.rf.b02af09281ff7a5d40ad1faee17637f6.jpg: 640x640 1 Black_honey_shrub, 7.6ms\n",
            "image 267/963 /content/drive/MyDrive/AyushVision/yolo/final/test/images/IMG20240211074912_01_jpg.rf.984248957606b99e623e57d731b4fd57.jpg: 640x640 1 Hibiscus, 7.4ms\n",
            "image 268/963 /content/drive/MyDrive/AyushVision/yolo/final/test/images/IMG20240211074916_jpg.rf.4b4b6c5601cecad5037cce86972cc23d.jpg: 640x640 1 Black_honey_shrub, 7.4ms\n",
            "image 269/963 /content/drive/MyDrive/AyushVision/yolo/final/test/images/IMG20240211075517_jpg.rf.d7fb0f43574142e468c6a9ca17ed504d.jpg: 640x640 1 Black_honey_shrub, 7.4ms\n",
            "image 270/963 /content/drive/MyDrive/AyushVision/yolo/final/test/images/IMG20240211075708_jpg.rf.6f8db312d62528b400d1353556dc248b.jpg: 640x640 (no detections), 7.5ms\n",
            "image 271/963 /content/drive/MyDrive/AyushVision/yolo/final/test/images/IMG20240211082126_jpg.rf.e5ed0e2d9a21cc6ed3e1ea7afd3c49ea.jpg: 640x640 1 Ivy_gourd, 8.1ms\n",
            "image 272/963 /content/drive/MyDrive/AyushVision/yolo/final/test/images/IMG20240211082419_jpg.rf.a0d9d013a2745cf1c659ded422eff5a9.jpg: 640x640 (no detections), 7.5ms\n",
            "image 273/963 /content/drive/MyDrive/AyushVision/yolo/final/test/images/IMG20240211082542_jpg.rf.1f06317bd77259c0a974a9dfdf13360f.jpg: 640x640 (no detections), 7.4ms\n",
            "image 274/963 /content/drive/MyDrive/AyushVision/yolo/final/test/images/IMG20240211082614_jpg.rf.24ec26942b5632f3c26c9bc6bb2fbcea.jpg: 640x640 1 Acalyphaindica, 7.4ms\n",
            "image 275/963 /content/drive/MyDrive/AyushVision/yolo/final/test/images/IMG20240211084118_jpg.rf.a98501cb9614574de2cc8656f0f8ea06.jpg: 640x640 1 Cinnamon, 1 Ivy_gourd, 7.5ms\n",
            "image 276/963 /content/drive/MyDrive/AyushVision/yolo/final/test/images/IMG20240211084132_jpg.rf.4ab610d1bff131d7412b999d64f3f586.jpg: 640x640 1 Ivy_gourd, 7.4ms\n",
            "image 277/963 /content/drive/MyDrive/AyushVision/yolo/final/test/images/IMG20240211084137_jpg.rf.48ae710261cc8bc4290a063735c2c764.jpg: 640x640 1 Thornapple, 7.4ms\n",
            "image 278/963 /content/drive/MyDrive/AyushVision/yolo/final/test/images/IMG20240211084206_jpg.rf.f0e24972211d2cac5c5aa27ccbb58196.jpg: 640x640 1 Ivy_gourd, 7.4ms\n",
            "image 279/963 /content/drive/MyDrive/AyushVision/yolo/final/test/images/IMG20240211085255_jpg.rf.3117872183ab8277fb10ea2f646d02f2.jpg: 640x640 1 Alovera, 7.4ms\n",
            "image 280/963 /content/drive/MyDrive/AyushVision/yolo/final/test/images/IMG20240211085345_jpg.rf.0c1e11ae5d47b1142dcde994db4be95c.jpg: 640x640 1 Alovera, 9.2ms\n",
            "image 281/963 /content/drive/MyDrive/AyushVision/yolo/final/test/images/IMG20240211085525_jpg.rf.4afd00ab66d72b0be644261889e617de.jpg: 640x640 1 Alovera, 7.4ms\n",
            "image 282/963 /content/drive/MyDrive/AyushVision/yolo/final/test/images/IMG20240211085530_jpg.rf.d4973a3b58eeb3ebb275ebe980a6ae5a.jpg: 640x640 1 Alovera, 7.4ms\n",
            "image 283/963 /content/drive/MyDrive/AyushVision/yolo/final/test/images/IMG20240211085550_jpg.rf.078a89321b9957bbef23371574ddcc56.jpg: 640x640 1 Alovera, 7.4ms\n",
            "image 284/963 /content/drive/MyDrive/AyushVision/yolo/final/test/images/IMG20240211085924_jpg.rf.16c05b317a030c5b024df2eb53b7a7da.jpg: 640x640 1 Alovera, 7.4ms\n",
            "image 285/963 /content/drive/MyDrive/AyushVision/yolo/final/test/images/IMG20240211090020_jpg.rf.c935d686f6082a2ca4d0b95268e5b11e.jpg: 640x640 1 Alovera, 7.4ms\n",
            "image 286/963 /content/drive/MyDrive/AyushVision/yolo/final/test/images/IMG20240211090031_jpg.rf.7ce0776316937d493bd38e100dd0d455.jpg: 640x640 1 Alovera, 7.4ms\n",
            "image 287/963 /content/drive/MyDrive/AyushVision/yolo/final/test/images/IMG20240211090202_jpg.rf.119d9ae0aa3d8ead07bbdfe3153d7d64.jpg: 640x640 1 Alovera, 7.4ms\n",
            "image 288/963 /content/drive/MyDrive/AyushVision/yolo/final/test/images/IMG20240211090310_jpg.rf.7d49177e7ec182eba353c4f55d5574b5.jpg: 640x640 1 Alovera, 7.4ms\n",
            "image 289/963 /content/drive/MyDrive/AyushVision/yolo/final/test/images/IMG20240211094323_jpg.rf.0c5ff7a4b7683e1860e3bb51605e7b67.jpg: 640x640 (no detections), 7.4ms\n",
            "image 290/963 /content/drive/MyDrive/AyushVision/yolo/final/test/images/IMG20240211094336_jpg.rf.cc5be26cbec3341dfa9431ad0209332a.jpg: 640x640 (no detections), 7.5ms\n",
            "image 291/963 /content/drive/MyDrive/AyushVision/yolo/final/test/images/IMG20240211094405_jpg.rf.cbff8900b4046920c8dc6691bdc91cf7.jpg: 640x640 1 Landrina, 7.5ms\n",
            "image 292/963 /content/drive/MyDrive/AyushVision/yolo/final/test/images/IMG20240211094602_jpg.rf.3d3c9428fc6c34c7cb648bfbd41f6452.jpg: 640x640 1 Landrina, 7.4ms\n",
            "image 293/963 /content/drive/MyDrive/AyushVision/yolo/final/test/images/IMG20240328122422_jpg.rf.6f223ef413bad460c903a9c8badc92d8.jpg: 640x640 1 Lemon_grass, 7.4ms\n",
            "image 294/963 /content/drive/MyDrive/AyushVision/yolo/final/test/images/IMG20240328122529_jpg.rf.a9d6e37fa89c10874540d2af2ce40ddb.jpg: 640x640 (no detections), 7.5ms\n",
            "image 295/963 /content/drive/MyDrive/AyushVision/yolo/final/test/images/IMG20240408162200_jpg.rf.d44cffc43dcc6a686cba5b0296347104.jpg: 640x640 1 Black_honey_shrub, 7.4ms\n",
            "image 296/963 /content/drive/MyDrive/AyushVision/yolo/final/test/images/IMG20240408162204_jpg.rf.d80784c3f63bb8278f61cae7125a9f69.jpg: 640x640 1 Black_honey_shrub, 7.4ms\n",
            "image 297/963 /content/drive/MyDrive/AyushVision/yolo/final/test/images/IMG20240408162237_jpg.rf.703fe169a863e46a42277a7fe3c205f9.jpg: 640x640 1 Black_honey_shrub, 7.4ms\n",
            "image 298/963 /content/drive/MyDrive/AyushVision/yolo/final/test/images/IMG20240408162305_jpg.rf.5fe6810003c426b10dc73f93202b5f73.jpg: 640x640 1 Black_honey_shrub, 7.4ms\n",
            "image 299/963 /content/drive/MyDrive/AyushVision/yolo/final/test/images/IMG20240408162355_jpg.rf.33bfe7d1a00e06e4989580c9c1e4efc3.jpg: 640x640 1 Black_honey_shrub, 7.4ms\n",
            "image 300/963 /content/drive/MyDrive/AyushVision/yolo/final/test/images/IMG20240408162423_jpg.rf.50dc08b2748fd8eba14c15ae99e2f25b.jpg: 640x640 1 Black_honey_shrub, 7.5ms\n",
            "image 301/963 /content/drive/MyDrive/AyushVision/yolo/final/test/images/IMG20240408162539_jpg.rf.0057c199aecc2618af1d1ed86986f60d.jpg: 640x640 (no detections), 7.4ms\n",
            "image 302/963 /content/drive/MyDrive/AyushVision/yolo/final/test/images/IMG20240408162559_jpg.rf.ad99465454aab3d02ce0c05a1236d8ec.jpg: 640x640 1 Black_honey_shrub, 7.4ms\n",
            "image 303/963 /content/drive/MyDrive/AyushVision/yolo/final/test/images/IMG20240424171621_jpg.rf.57092fbc115f4b3d869e56561f93fc86.jpg: 640x640 1 Acalyphaindica, 7.4ms\n",
            "image 304/963 /content/drive/MyDrive/AyushVision/yolo/final/test/images/IMG20240424171653_jpg.rf.43967dd8f336d148503912351aa29e21.jpg: 640x640 1 Acalyphaindica, 7.4ms\n",
            "image 305/963 /content/drive/MyDrive/AyushVision/yolo/final/test/images/IMG20240424171725_jpg.rf.83628c6bc0557f202b0ee76044e7a9a4.jpg: 640x640 1 Indian_Mallow, 7.4ms\n",
            "image 306/963 /content/drive/MyDrive/AyushVision/yolo/final/test/images/IMG20240424171730_jpg.rf.2297f7c26d5004178ceb2e4d5e2826ec.jpg: 640x640 1 Acalyphaindica, 7.4ms\n",
            "image 307/963 /content/drive/MyDrive/AyushVision/yolo/final/test/images/IMG20240424171818_jpg.rf.998b6bec02b1932c3c54d8e40277da2b.jpg: 640x640 1 Acalyphaindica, 7.5ms\n",
            "image 308/963 /content/drive/MyDrive/AyushVision/yolo/final/test/images/IMG20240424171946_jpg.rf.e7ba48be92a2f5f3974385158311c712.jpg: 640x640 2 Acalyphaindicas, 7.4ms\n",
            "image 309/963 /content/drive/MyDrive/AyushVision/yolo/final/test/images/IMG20240424172153_jpg.rf.d4b18c5368e2047bac16c0d9722283b4.jpg: 640x640 1 Acalyphaindica, 7.5ms\n",
            "image 310/963 /content/drive/MyDrive/AyushVision/yolo/final/test/images/IMG20240424172208_jpg.rf.def961f45f4ab942d9aafaf29dca101d.jpg: 640x640 1 Acalyphaindica, 7.5ms\n",
            "image 311/963 /content/drive/MyDrive/AyushVision/yolo/final/test/images/IMG20240424172248_jpg.rf.8a3932e02dd8fc45be49cc30f1698ccf.jpg: 640x640 1 Acalyphaindica, 7.4ms\n",
            "image 312/963 /content/drive/MyDrive/AyushVision/yolo/final/test/images/IMG20240424172426_jpg.rf.f12aceebedc84975d5b96910b1ac80dc.jpg: 640x640 1 Acalyphaindica, 7.4ms\n",
            "image 313/963 /content/drive/MyDrive/AyushVision/yolo/final/test/images/IMG20240424172524_jpg.rf.26cbe98c2c624f65ce738f69687b2452.jpg: 640x640 1 Acalyphaindica, 7.4ms\n",
            "image 314/963 /content/drive/MyDrive/AyushVision/yolo/final/test/images/IMG20240424172527_jpg.rf.2361b284b5d6aac3e8499a9ab9898fe0.jpg: 640x640 1 Acalyphaindica, 7.5ms\n",
            "image 315/963 /content/drive/MyDrive/AyushVision/yolo/final/test/images/IMG20240424172611_jpg.rf.78dcffa46a111f08a783b48b6e3919b5.jpg: 640x640 1 Acalyphaindica, 7.4ms\n",
            "image 316/963 /content/drive/MyDrive/AyushVision/yolo/final/test/images/IMG20240424172614_jpg.rf.8cf170cb52f0cd53c74a569517187049.jpg: 640x640 3 Acalyphaindicas, 7.4ms\n",
            "image 317/963 /content/drive/MyDrive/AyushVision/yolo/final/test/images/IMG20240424172620_jpg.rf.08fcc621dc81eca89326a68290a557c6.jpg: 640x640 3 Acalyphaindicas, 7.4ms\n",
            "image 318/963 /content/drive/MyDrive/AyushVision/yolo/final/test/images/IMG20240424172718_jpg.rf.d34d8b6b051d0c1815c7e6b8a45cf1c8.jpg: 640x640 1 Acalyphaindica, 7.4ms\n",
            "image 319/963 /content/drive/MyDrive/AyushVision/yolo/final/test/images/IMG20240424172842_jpg.rf.5f7f7a57064aed5e1f431b09037a2e2f.jpg: 640x640 2 Acalyphaindicas, 7.5ms\n",
            "image 320/963 /content/drive/MyDrive/AyushVision/yolo/final/test/images/IMG20240424172854_jpg.rf.1dc00a5bf105644b411b252408e80374.jpg: 640x640 1 Acalyphaindica, 7.4ms\n",
            "image 321/963 /content/drive/MyDrive/AyushVision/yolo/final/test/images/IMG20240424172907_jpg.rf.fb0f05f95b8de3c08c6306e56b80efbb.jpg: 640x640 1 Acalyphaindica, 7.4ms\n",
            "image 322/963 /content/drive/MyDrive/AyushVision/yolo/final/test/images/IMG20240424172918_jpg.rf.1278bda842a35480f1f8691dac524c7c.jpg: 640x640 2 Acalyphaindicas, 7.4ms\n",
            "image 323/963 /content/drive/MyDrive/AyushVision/yolo/final/test/images/IMG20240424173109_jpg.rf.f11b11b7877a26a46759d74f58eecaeb.jpg: 640x640 (no detections), 7.4ms\n",
            "image 324/963 /content/drive/MyDrive/AyushVision/yolo/final/test/images/IMG20240424173113_jpg.rf.33a2d2fa26afd8e4128b8ccc8eba05c7.jpg: 640x640 (no detections), 7.4ms\n",
            "image 325/963 /content/drive/MyDrive/AyushVision/yolo/final/test/images/IMG20240425080557_jpg.rf.9e3ca05a629fe6bc9dd6cc96ce8692c9.jpg: 640x640 1 Alovera, 7.4ms\n",
            "image 326/963 /content/drive/MyDrive/AyushVision/yolo/final/test/images/IMG20240425080746_jpg.rf.46ddeca1aa0f9085b4eb44d75c2d2a1a.jpg: 640x640 1 Alovera, 7.4ms\n",
            "image 327/963 /content/drive/MyDrive/AyushVision/yolo/final/test/images/IMG20240425080757_jpg.rf.c1d4283d6ea2a96c1627a813fdf121db.jpg: 640x640 1 Alovera, 7.4ms\n",
            "image 328/963 /content/drive/MyDrive/AyushVision/yolo/final/test/images/IMG20240425080836_jpg.rf.517fefaeb6bac7f0049e2088e2ca0392.jpg: 640x640 1 Alovera, 7.4ms\n",
            "image 329/963 /content/drive/MyDrive/AyushVision/yolo/final/test/images/IMG20240425081346_jpg.rf.3ab46983e7bd4e14786f3722f6bba007.jpg: 640x640 1 Alovera, 7.4ms\n",
            "image 330/963 /content/drive/MyDrive/AyushVision/yolo/final/test/images/IMG20240425081548_jpg.rf.e96d7628e5aea92a4e0b90885108e455.jpg: 640x640 1 Alovera, 7.6ms\n",
            "image 331/963 /content/drive/MyDrive/AyushVision/yolo/final/test/images/IMG20240425081929_jpg.rf.e391ce68409d6b308f233865448844eb.jpg: 640x640 1 Alovera, 7.4ms\n",
            "image 332/963 /content/drive/MyDrive/AyushVision/yolo/final/test/images/IMG20240425082000_jpg.rf.2bff09a988c80e7ac6a3e5d05eb97901.jpg: 640x640 1 Alovera, 7.4ms\n",
            "image 333/963 /content/drive/MyDrive/AyushVision/yolo/final/test/images/IMG20240425082122_jpg.rf.e665aab0a9f6a54d46d8f809f80792f6.jpg: 640x640 1 Alovera, 1 Betel, 7.4ms\n",
            "image 334/963 /content/drive/MyDrive/AyushVision/yolo/final/test/images/IMG20240425082138_jpg.rf.e178d77c3d0bea7bba507ebe8e9a626e.jpg: 640x640 1 Alovera, 7.5ms\n",
            "image 335/963 /content/drive/MyDrive/AyushVision/yolo/final/test/images/IMG20240425082143_jpg.rf.dc6459d3d7355205cddc3a91cb3b1ce6.jpg: 640x640 1 Alovera, 7.5ms\n",
            "image 336/963 /content/drive/MyDrive/AyushVision/yolo/final/test/images/IMG20240425082152_jpg.rf.79afb2242a8080e20c64bdbef8979d15.jpg: 640x640 1 Alovera, 7.4ms\n",
            "image 337/963 /content/drive/MyDrive/AyushVision/yolo/final/test/images/IMG20240425082534_jpg.rf.91a5fe536e7d6afad6048a65f694478f.jpg: 640x640 1 Alovera, 7.4ms\n",
            "image 338/963 /content/drive/MyDrive/AyushVision/yolo/final/test/images/IMG20240425082756_jpg.rf.ebb0306f8b9f6848ebdea2c297be8421.jpg: 640x640 1 Alovera, 7.4ms\n",
            "image 339/963 /content/drive/MyDrive/AyushVision/yolo/final/test/images/IMG20240425082806_jpg.rf.7a1e4d34514722b410d8856a454d6c3a.jpg: 640x640 1 Alovera, 7.4ms\n",
            "image 340/963 /content/drive/MyDrive/AyushVision/yolo/final/test/images/IMG20240425083001_jpg.rf.adac7c624d853288213c2b5a26d9a1e4.jpg: 640x640 1 Alovera, 7.4ms\n",
            "image 341/963 /content/drive/MyDrive/AyushVision/yolo/final/test/images/IMG20240425083005_jpg.rf.b058e983ef9ce0f4768dbbceabab7d05.jpg: 640x640 1 Alovera, 7.5ms\n",
            "image 342/963 /content/drive/MyDrive/AyushVision/yolo/final/test/images/IMG20240425083730_jpg.rf.013248c4302e26d8dcda530380f8efa2.jpg: 640x640 1 Alovera, 7.4ms\n",
            "image 343/963 /content/drive/MyDrive/AyushVision/yolo/final/test/images/IMG20240425084017_jpg.rf.9bf8ea37860762e441f2d34b09dcfb6c.jpg: 640x640 1 Alovera, 7.4ms\n",
            "image 344/963 /content/drive/MyDrive/AyushVision/yolo/final/test/images/IMG20240425084521_jpg.rf.2fa47b4af9d82db06a2f9113d1c645ef.jpg: 640x640 1 Alovera, 1 Ginger, 7.4ms\n",
            "image 345/963 /content/drive/MyDrive/AyushVision/yolo/final/test/images/IMG20240425084522_jpg.rf.2b4507c57a8fae382a3b4983d9ab265a.jpg: 640x640 1 Alovera, 1 Ginger, 7.4ms\n",
            "image 346/963 /content/drive/MyDrive/AyushVision/yolo/final/test/images/IMG20240425084602_jpg.rf.85f7f927894acee31cdd30c409d613a2.jpg: 640x640 (no detections), 7.4ms\n",
            "image 347/963 /content/drive/MyDrive/AyushVision/yolo/final/test/images/IMG20240425084636_jpg.rf.af65f379f841b91d074ef9d97ef1dd22.jpg: 640x640 1 Ginger, 7.4ms\n",
            "image 348/963 /content/drive/MyDrive/AyushVision/yolo/final/test/images/IMG20240425084659_jpg.rf.ed7e32c7bd46301c24d29204f7d960df.jpg: 640x640 1 Ginger, 7.4ms\n",
            "image 349/963 /content/drive/MyDrive/AyushVision/yolo/final/test/images/IMG20240425084704_jpg.rf.d2045281aed2897704ee7d9324ba43a3.jpg: 640x640 1 Alovera, 7.4ms\n",
            "image 350/963 /content/drive/MyDrive/AyushVision/yolo/final/test/images/IMG20240425084923_jpg.rf.58601f0015e537dd95e6498d828a3658.jpg: 640x640 1 Ginger, 7.4ms\n",
            "image 351/963 /content/drive/MyDrive/AyushVision/yolo/final/test/images/IMG20240425084924_jpg.rf.50193aa61955813a012cc3574c4c5c59.jpg: 640x640 1 Ginger, 7.4ms\n",
            "image 352/963 /content/drive/MyDrive/AyushVision/yolo/final/test/images/IMG20240425084932_jpg.rf.71e1e7cdd2f3ee64e23dac8841b9bf64.jpg: 640x640 1 Ginger, 7.4ms\n",
            "image 353/963 /content/drive/MyDrive/AyushVision/yolo/final/test/images/IMG20240425085057_jpg.rf.a59da107ba0960911971215ae53bf5ef.jpg: 640x640 3 Betels, 7.4ms\n",
            "image 354/963 /content/drive/MyDrive/AyushVision/yolo/final/test/images/IMG20240425085738_jpg.rf.8fb9d8c37b499c953401086ac5856701.jpg: 640x640 1 Acalyphaindica, 7.4ms\n",
            "image 355/963 /content/drive/MyDrive/AyushVision/yolo/final/test/images/IMG20240425085833_jpg.rf.8be79407914280a90c484eccf137b225.jpg: 640x640 1 Acalyphaindica, 7.4ms\n",
            "image 356/963 /content/drive/MyDrive/AyushVision/yolo/final/test/images/IMG20240425085837_jpg.rf.323e520ff495908aeb4cc9747c8ea1f6.jpg: 640x640 1 Landrina, 7.5ms\n",
            "image 357/963 /content/drive/MyDrive/AyushVision/yolo/final/test/images/IMG20240425085842_jpg.rf.826874393d041c4af0c8caee42009fb3.jpg: 640x640 2 Acalyphaindicas, 7.5ms\n",
            "image 358/963 /content/drive/MyDrive/AyushVision/yolo/final/test/images/IMG20240425085935_jpg.rf.c060d4461d592eb7095bf8326032844d.jpg: 640x640 1 Acalyphaindica, 7.4ms\n",
            "image 359/963 /content/drive/MyDrive/AyushVision/yolo/final/test/images/IMG20240425090007_jpg.rf.a9ed39c574135f3dfd98563e5daf0f02.jpg: 640x640 1 Acalyphaindica, 7.5ms\n",
            "image 360/963 /content/drive/MyDrive/AyushVision/yolo/final/test/images/IMG20240425090134_jpg.rf.2e33a80b6c2c6711752f2d570b75b916.jpg: 640x640 1 Acalyphaindica, 7.5ms\n",
            "image 361/963 /content/drive/MyDrive/AyushVision/yolo/final/test/images/IMG20240425090928_jpg.rf.a443dba6459c0379b6deaa97ad2da176.jpg: 640x640 1 Caster, 7.5ms\n",
            "image 362/963 /content/drive/MyDrive/AyushVision/yolo/final/test/images/IMG20240425091033_jpg.rf.e0b823c6432913a7cdf156d8af5a9266.jpg: 640x640 1 Caster, 7.5ms\n",
            "image 363/963 /content/drive/MyDrive/AyushVision/yolo/final/test/images/IMG20240425091215_jpg.rf.189d3c4299c6c7b7a1da3ba4a63f392d.jpg: 640x640 1 Caster, 8.1ms\n",
            "image 364/963 /content/drive/MyDrive/AyushVision/yolo/final/test/images/IMG20240425091217_jpg.rf.611d2e716f166ad5855c3bd47b721722.jpg: 640x640 1 Caster, 7.4ms\n",
            "image 365/963 /content/drive/MyDrive/AyushVision/yolo/final/test/images/IMG20240425091220_jpg.rf.de2905d84704e410ea95560b5e77174f.jpg: 640x640 1 Caster, 7.4ms\n",
            "image 366/963 /content/drive/MyDrive/AyushVision/yolo/final/test/images/IMG20240425091312_jpg.rf.78771436746bde951ae348cc95896482.jpg: 640x640 1 Caster, 7.5ms\n",
            "image 367/963 /content/drive/MyDrive/AyushVision/yolo/final/test/images/IMG20240425091321_jpg.rf.33492325db7292eca56fd47e30a67a59.jpg: 640x640 1 Caster, 7.4ms\n",
            "image 368/963 /content/drive/MyDrive/AyushVision/yolo/final/test/images/IMG20240425091326_jpg.rf.739b373add34b7cbf06ca5937aa04fea.jpg: 640x640 (no detections), 7.4ms\n",
            "image 369/963 /content/drive/MyDrive/AyushVision/yolo/final/test/images/IMG20240425091331_jpg.rf.8f1db172e3198ce830b74ae1f09ee357.jpg: 640x640 1 Caster, 7.4ms\n",
            "image 370/963 /content/drive/MyDrive/AyushVision/yolo/final/test/images/IMG20240425091337_jpg.rf.aa78869ef5b7eb8eb34260aeacc3a8a8.jpg: 640x640 1 Caster, 7.4ms\n",
            "image 371/963 /content/drive/MyDrive/AyushVision/yolo/final/test/images/IMG20240425091339_jpg.rf.18d47955c55f446f96d6b7cf1e01537d.jpg: 640x640 1 Caster, 7.4ms\n",
            "image 372/963 /content/drive/MyDrive/AyushVision/yolo/final/test/images/IMG20240425091345_jpg.rf.727ff53731dbe3baa5e8aa15b026eb14.jpg: 640x640 1 Alovera, 1 Caster, 7.4ms\n",
            "image 373/963 /content/drive/MyDrive/AyushVision/yolo/final/test/images/IMG20240425091457_jpg.rf.e0faa3e057a33e14db17424c3c39d7e0.jpg: 640x640 1 Caster, 7.4ms\n",
            "image 374/963 /content/drive/MyDrive/AyushVision/yolo/final/test/images/IMG20240425091512_jpg.rf.d568ac5348c20fffd43e9c08b52c93c6.jpg: 640x640 1 Caster, 7.4ms\n",
            "image 375/963 /content/drive/MyDrive/AyushVision/yolo/final/test/images/IMG20240425091539_jpg.rf.8e4872be25f54ad1258559eb493e10f7.jpg: 640x640 1 Caster, 7.4ms\n",
            "image 376/963 /content/drive/MyDrive/AyushVision/yolo/final/test/images/IMG20240425091631_jpg.rf.feaddbf613c5d97f6979b4c2e25a7fe2.jpg: 640x640 1 Caster, 7.4ms\n",
            "image 377/963 /content/drive/MyDrive/AyushVision/yolo/final/test/images/IMG20240425091754_jpg.rf.de8c715cbc29b31054833f5fcff8015e.jpg: 640x640 (no detections), 7.5ms\n",
            "image 378/963 /content/drive/MyDrive/AyushVision/yolo/final/test/images/IMG20240425092423_jpg.rf.6167b03f5e5838248d82f3a8ebdf7fe7.jpg: 640x640 (no detections), 7.5ms\n",
            "image 379/963 /content/drive/MyDrive/AyushVision/yolo/final/test/images/IMG20240425171445_jpg.rf.ff0e071e2ac1672e0963509833623fbf.jpg: 640x640 1 Caster, 7.5ms\n",
            "image 380/963 /content/drive/MyDrive/AyushVision/yolo/final/test/images/IMG20240425171508_jpg.rf.b19885f8ada8d69cb02d9b9c422b9ab9.jpg: 640x640 1 Caster, 7.4ms\n",
            "image 381/963 /content/drive/MyDrive/AyushVision/yolo/final/test/images/IMG20240425171515_jpg.rf.d73b6527b8620f513f19c673c2c1831c.jpg: 640x640 1 Acalyphaindica, 7.4ms\n",
            "image 382/963 /content/drive/MyDrive/AyushVision/yolo/final/test/images/IMG20240425171632_jpg.rf.709f415e3c31dc702836d59d4f165468.jpg: 640x640 1 Acalyphaindica, 7.4ms\n",
            "image 383/963 /content/drive/MyDrive/AyushVision/yolo/final/test/images/IMG20240425171634_jpg.rf.864ac3ef7ec18db68ad1f84e25454e89.jpg: 640x640 1 Acalyphaindica, 7.5ms\n",
            "image 384/963 /content/drive/MyDrive/AyushVision/yolo/final/test/images/IMG20240425171659_jpg.rf.32352bbbadacdb0dc40e744852c8ea94.jpg: 640x640 1 Caster, 7.5ms\n",
            "image 385/963 /content/drive/MyDrive/AyushVision/yolo/final/test/images/IMG20240425171730_jpg.rf.77eb43914e5b7ea2b1e3c98c08e2abdf.jpg: 640x640 1 Caster, 7.4ms\n",
            "image 386/963 /content/drive/MyDrive/AyushVision/yolo/final/test/images/IMG20240425171748_jpg.rf.895eb7695e49a2c415398e5e4af47921.jpg: 640x640 1 Caster, 7.4ms\n",
            "image 387/963 /content/drive/MyDrive/AyushVision/yolo/final/test/images/IMG20240425171854_jpg.rf.be0cd83bbbd533c1ae9ed8d8128bafc9.jpg: 640x640 1 Caster, 7.4ms\n",
            "image 388/963 /content/drive/MyDrive/AyushVision/yolo/final/test/images/IMG20240425171858_jpg.rf.51f68edd2de7662f151d2e728202f36a.jpg: 640x640 1 Caster, 7.4ms\n",
            "image 389/963 /content/drive/MyDrive/AyushVision/yolo/final/test/images/IMG20240425171957_jpg.rf.d8e6dea01e630cc7bc5bb1d28b36e2c8.jpg: 640x640 1 Caster, 7.4ms\n",
            "image 390/963 /content/drive/MyDrive/AyushVision/yolo/final/test/images/IMG20240425172011_jpg.rf.f7c68f6c58400cb04dab51f2397b1ac9.jpg: 640x640 1 Caster, 7.4ms\n",
            "image 391/963 /content/drive/MyDrive/AyushVision/yolo/final/test/images/IMG20240425172753_jpg.rf.a4ec2d3484c37dfed8be1e2291e62c90.jpg: 640x640 1 Betel, 7.4ms\n",
            "image 392/963 /content/drive/MyDrive/AyushVision/yolo/final/test/images/IMG20240425172819_jpg.rf.806d60595a96099f52934a33c8ee6b50.jpg: 640x640 1 Betel, 7.5ms\n",
            "image 393/963 /content/drive/MyDrive/AyushVision/yolo/final/test/images/IMG20240425172851_jpg.rf.6914e56ead15d27813c77719d14a690b.jpg: 640x640 1 Betel, 7.4ms\n",
            "image 394/963 /content/drive/MyDrive/AyushVision/yolo/final/test/images/IMG20240425172902_jpg.rf.714b99bd1759d6e60789a8aac56a66f4.jpg: 640x640 1 Betel, 7.4ms\n",
            "image 395/963 /content/drive/MyDrive/AyushVision/yolo/final/test/images/IMG20240425172920_jpg.rf.ff5c11c183661dedbdc20613582fed89.jpg: 640x640 1 Betel, 7.4ms\n",
            "image 396/963 /content/drive/MyDrive/AyushVision/yolo/final/test/images/IMG20240425172953_jpg.rf.262fbcf8ef318e991dd7af2b2050588e.jpg: 640x640 1 Betel, 7.5ms\n",
            "image 397/963 /content/drive/MyDrive/AyushVision/yolo/final/test/images/IMG20240425173011_jpg.rf.13422944935056927a990c864f94da21.jpg: 640x640 2 Betels, 7.4ms\n",
            "image 398/963 /content/drive/MyDrive/AyushVision/yolo/final/test/images/IMG20240425173054_jpg.rf.9837c22a262b8c30712ba90c54853235.jpg: 640x640 1 Betel, 7.4ms\n",
            "image 399/963 /content/drive/MyDrive/AyushVision/yolo/final/test/images/IMG20240425173103_jpg.rf.cbc7858b9fa45d5e15f53d5e24178a10.jpg: 640x640 1 Betel, 7.4ms\n",
            "image 400/963 /content/drive/MyDrive/AyushVision/yolo/final/test/images/IMG20240425173129_jpg.rf.335df15c5580db260408b86534d9be16.jpg: 640x640 1 Betel, 7.4ms\n",
            "image 401/963 /content/drive/MyDrive/AyushVision/yolo/final/test/images/IMG20240425173137_jpg.rf.781a1ae6754c958d65054cf2e8a7f466.jpg: 640x640 1 Betel, 7.4ms\n",
            "image 402/963 /content/drive/MyDrive/AyushVision/yolo/final/test/images/IMG20240425173152_jpg.rf.b6abca90f4120b7ba1bd87de6438aa1a.jpg: 640x640 1 Betel, 7.4ms\n",
            "image 403/963 /content/drive/MyDrive/AyushVision/yolo/final/test/images/IMG20240425173253_jpg.rf.78cfb30c26e7a73d1e2a3eb56c52c48f.jpg: 640x640 (no detections), 7.4ms\n",
            "image 404/963 /content/drive/MyDrive/AyushVision/yolo/final/test/images/IMG20240425173323_jpg.rf.88b530204161c4e2f88c33b3f8a898fe.jpg: 640x640 1 Betel, 7.4ms\n",
            "image 405/963 /content/drive/MyDrive/AyushVision/yolo/final/test/images/IMG20240425173422_jpg.rf.d1c6586397282db423701c0e11de6b35.jpg: 640x640 1 Betel, 7.4ms\n",
            "image 406/963 /content/drive/MyDrive/AyushVision/yolo/final/test/images/IMG20240425173611_jpg.rf.4188f2ebaa2d5d189dd4e2867e3a397d.jpg: 640x640 1 Betel, 7.4ms\n",
            "image 407/963 /content/drive/MyDrive/AyushVision/yolo/final/test/images/IMG20240425173638_jpg.rf.0515b08bf5a63a239f3cb6f6815ba6ac.jpg: 640x640 1 Acalyphaindica, 7.8ms\n",
            "image 408/963 /content/drive/MyDrive/AyushVision/yolo/final/test/images/IMG20240425173642_jpg.rf.6aa4263ed962a52124600e0e598336ed.jpg: 640x640 1 Betel, 7.7ms\n",
            "image 409/963 /content/drive/MyDrive/AyushVision/yolo/final/test/images/IMG20240425173644_jpg.rf.387e5f57d8cb0d50f5880869eff3de52.jpg: 640x640 1 Betel, 7.4ms\n",
            "image 410/963 /content/drive/MyDrive/AyushVision/yolo/final/test/images/IMG20240425173708_jpg.rf.2263579231eb45e29f1529ef0bfbdfe2.jpg: 640x640 1 Acalyphaindica, 7.5ms\n",
            "image 411/963 /content/drive/MyDrive/AyushVision/yolo/final/test/images/IMG20240425173918_jpg.rf.73542a6ae8dd900e36df81d35731eab2.jpg: 640x640 1 Betel, 7.5ms\n",
            "image 412/963 /content/drive/MyDrive/AyushVision/yolo/final/test/images/IMG20240425174141_jpg.rf.415abcbdf325d0ef90239588d5f7e64f.jpg: 640x640 1 Betel, 7.5ms\n",
            "image 413/963 /content/drive/MyDrive/AyushVision/yolo/final/test/images/IMG20240425174144_jpg.rf.8b20caef31703acb362be59d658775c4.jpg: 640x640 1 Betel, 7.5ms\n",
            "image 414/963 /content/drive/MyDrive/AyushVision/yolo/final/test/images/IMG20240425174344_jpg.rf.ae4e9c71ef9ecc6301ee2a77343e2c7c.jpg: 640x640 1 Betel, 7.5ms\n",
            "image 415/963 /content/drive/MyDrive/AyushVision/yolo/final/test/images/IMG20240425174429_jpg.rf.231777c32589a451cee6f33e9bbcb5ab.jpg: 640x640 1 Betel, 7.4ms\n",
            "image 416/963 /content/drive/MyDrive/AyushVision/yolo/final/test/images/IMG20240425174441_jpg.rf.52776e57ba8543afd1a5aad5909c307b.jpg: 640x640 1 Betel, 7.4ms\n",
            "image 417/963 /content/drive/MyDrive/AyushVision/yolo/final/test/images/IMG20240425174518_jpg.rf.75b54cd401df8db71cc633cf65e72275.jpg: 640x640 1 Betel, 7.4ms\n",
            "image 418/963 /content/drive/MyDrive/AyushVision/yolo/final/test/images/IMG20240425174528_jpg.rf.853ddba8026825069b6c939c3761c56a.jpg: 640x640 1 Betel, 7.5ms\n",
            "image 419/963 /content/drive/MyDrive/AyushVision/yolo/final/test/images/IMG20240425174557_jpg.rf.0d7f8d082d85bac86438dcd621d8352c.jpg: 640x640 1 Betel, 7.4ms\n",
            "image 420/963 /content/drive/MyDrive/AyushVision/yolo/final/test/images/IMG20240425175511_jpg.rf.c40141fb4816d52ed00dd9a799de343e.jpg: 640x640 1 Black_honey_shrub, 7.5ms\n",
            "image 421/963 /content/drive/MyDrive/AyushVision/yolo/final/test/images/IMG20240425175526_jpg.rf.d7969df352c1dce340e93457347ba6d2.jpg: 640x640 1 Black_honey_shrub, 7.4ms\n",
            "image 422/963 /content/drive/MyDrive/AyushVision/yolo/final/test/images/IMG20240425175624_jpg.rf.36253ab3fc0b2430804783d4a8ca8ddc.jpg: 640x640 1 Black_honey_shrub, 7.5ms\n",
            "image 423/963 /content/drive/MyDrive/AyushVision/yolo/final/test/images/IMG20240425175743_jpg.rf.ba65993772a3b807c006676ea875b296.jpg: 640x640 1 Black_honey_shrub, 7.5ms\n",
            "image 424/963 /content/drive/MyDrive/AyushVision/yolo/final/test/images/IMG20240425175805_jpg.rf.be5ce5932e220ad8cbcc226dbdfeb7b4.jpg: 640x640 1 Black_honey_shrub, 7.4ms\n",
            "image 425/963 /content/drive/MyDrive/AyushVision/yolo/final/test/images/IMG20240425180704_jpg.rf.eb8d2ce7155800c12c47f8f3b8edac80.jpg: 640x640 1 Black_honey_shrub, 7.4ms\n",
            "image 426/963 /content/drive/MyDrive/AyushVision/yolo/final/test/images/IMG20240425180742_jpg.rf.b3dd58a2f598d3daf45e43735ab5161d.jpg: 640x640 1 Black_honey_shrub, 7.4ms\n",
            "image 427/963 /content/drive/MyDrive/AyushVision/yolo/final/test/images/IMG20240426192332_jpg.rf.0a6ba27b81b80a459e9054cc308e6cc1.jpg: 640x640 1 Acalyphaindica, 7.4ms\n",
            "image 428/963 /content/drive/MyDrive/AyushVision/yolo/final/test/images/IMG20240426192343_jpg.rf.973d0698f9e493b1000ae19c01a81ee6.jpg: 640x640 2 Acalyphaindicas, 7.4ms\n",
            "image 429/963 /content/drive/MyDrive/AyushVision/yolo/final/test/images/IMG20240426192751_jpg.rf.6dfeb4197b175383b4ad37d9129c210d.jpg: 640x640 1 Acalyphaindica, 7.4ms\n",
            "image 430/963 /content/drive/MyDrive/AyushVision/yolo/final/test/images/IMG20240426193438_jpg.rf.4a74e2dbd1a6239db5b1ce44020bcb0d.jpg: 640x640 1 Acalyphaindica, 7.4ms\n",
            "image 431/963 /content/drive/MyDrive/AyushVision/yolo/final/test/images/IMG20240426193541_jpg.rf.7381ea22c30bf5c1536b5ad0431c1407.jpg: 640x640 1 Acalyphaindica, 7.4ms\n",
            "image 432/963 /content/drive/MyDrive/AyushVision/yolo/final/test/images/IMG20240426193748_jpg.rf.6dd71789ced6f621cc41f80753c6264f.jpg: 640x640 1 Acalyphaindica, 7.4ms\n",
            "image 433/963 /content/drive/MyDrive/AyushVision/yolo/final/test/images/IMG20240426193759_jpg.rf.ed2e3ba7058255d70fc89a418a729f85.jpg: 640x640 1 Acalyphaindica, 7.4ms\n",
            "image 434/963 /content/drive/MyDrive/AyushVision/yolo/final/test/images/IMG20240426194042_jpg.rf.0161c062594ec82748cc06333605fc83.jpg: 640x640 1 Acalyphaindica, 7.4ms\n",
            "image 435/963 /content/drive/MyDrive/AyushVision/yolo/final/test/images/IMG20240426194049_jpg.rf.2c92252518f4831946da41329187e525.jpg: 640x640 1 Acalyphaindica, 7.4ms\n",
            "image 436/963 /content/drive/MyDrive/AyushVision/yolo/final/test/images/IMG20240426194112_jpg.rf.5c280a523cfb6a7c43abc35c082bdbf5.jpg: 640x640 1 Acalyphaindica, 7.5ms\n",
            "image 437/963 /content/drive/MyDrive/AyushVision/yolo/final/test/images/IMG20240426194128_jpg.rf.c223f2acf4310a817aef3db1a12d1681.jpg: 640x640 1 Acalyphaindica, 7.5ms\n",
            "image 438/963 /content/drive/MyDrive/AyushVision/yolo/final/test/images/IMG20240427092306_jpg.rf.875a58b9396199b9799fe0b99b98c237.jpg: 640x640 1 Acalyphaindica, 7.4ms\n",
            "image 439/963 /content/drive/MyDrive/AyushVision/yolo/final/test/images/IMG20240427172452_jpg.rf.a582f7bf2ec40c1cdbfdaa9dd054933e.jpg: 640x640 1 Cinnamon, 7.4ms\n",
            "image 440/963 /content/drive/MyDrive/AyushVision/yolo/final/test/images/IMG20240427172500_jpg.rf.4113a7cf0eb8946bcb1b06f15594e545.jpg: 640x640 1 Cinnamon, 7.5ms\n",
            "image 441/963 /content/drive/MyDrive/AyushVision/yolo/final/test/images/IMG20240427172513_jpg.rf.b488828fbf7aa445a374daf96811fc73.jpg: 640x640 1 Cinnamon, 7.4ms\n",
            "image 442/963 /content/drive/MyDrive/AyushVision/yolo/final/test/images/IMG20240427172612_jpg.rf.8d0e359761bd83bf3c28ce8432b69c5f.jpg: 640x640 1 Cinnamon, 7.4ms\n",
            "image 443/963 /content/drive/MyDrive/AyushVision/yolo/final/test/images/IMG20240427172643_jpg.rf.73d99cee490a590b233cc88af63dc949.jpg: 640x640 1 Cinnamon, 7.4ms\n",
            "image 444/963 /content/drive/MyDrive/AyushVision/yolo/final/test/images/IMG20240427172657_jpg.rf.1fbc21666151546f4f0e5c46ce03da12.jpg: 640x640 1 Cinnamon, 7.4ms\n",
            "image 445/963 /content/drive/MyDrive/AyushVision/yolo/final/test/images/IMG20240427172708_jpg.rf.1ac3961f5af745769aabde5469ec9e5a.jpg: 640x640 1 Cinnamon, 7.4ms\n",
            "image 446/963 /content/drive/MyDrive/AyushVision/yolo/final/test/images/IMG20240427172819_jpg.rf.fb7120e2926253a4d063a1b025ce37dd.jpg: 640x640 1 Cinnamon, 7.4ms\n",
            "image 447/963 /content/drive/MyDrive/AyushVision/yolo/final/test/images/IMG20240427172825_jpg.rf.c0bcbfa8e6adb94aa0f53fdcd787b02f.jpg: 640x640 1 Cinnamon, 7.5ms\n",
            "image 448/963 /content/drive/MyDrive/AyushVision/yolo/final/test/images/IMG20240427172829_jpg.rf.9aa2f343cf5aba8a43b1232c8ff962e8.jpg: 640x640 1 Cinnamon, 7.4ms\n",
            "image 449/963 /content/drive/MyDrive/AyushVision/yolo/final/test/images/IMG20240427172905_jpg.rf.dd73340fffabfbff3ccb36c911a56c66.jpg: 640x640 1 Cinnamon, 7.4ms\n",
            "image 450/963 /content/drive/MyDrive/AyushVision/yolo/final/test/images/IMG20240427172915_jpg.rf.5cd993cb357c2c7abc5f707eb1ec4da6.jpg: 640x640 1 Cinnamon, 7.5ms\n",
            "image 451/963 /content/drive/MyDrive/AyushVision/yolo/final/test/images/IMG20240427172959_jpg.rf.949795a7024416d8244d6f0232f3c9f5.jpg: 640x640 1 Cinnamon, 7.4ms\n",
            "image 452/963 /content/drive/MyDrive/AyushVision/yolo/final/test/images/IMG20240427173018_jpg.rf.c45f9336f2d4c4eaaa53569ceffabf96.jpg: 640x640 1 Cinnamon, 7.5ms\n",
            "image 453/963 /content/drive/MyDrive/AyushVision/yolo/final/test/images/IMG20240427173110_jpg.rf.6c77521c8682194b3726e929af05353c.jpg: 640x640 1 Cinnamon, 7.4ms\n",
            "image 454/963 /content/drive/MyDrive/AyushVision/yolo/final/test/images/IMG20240427173218_jpg.rf.1dcad17f028908fb2431d9ce49901b35.jpg: 640x640 1 Cinnamon, 7.4ms\n",
            "image 455/963 /content/drive/MyDrive/AyushVision/yolo/final/test/images/IMG20240427173229_jpg.rf.d7e1434be7d89b35839a1a460378e75e.jpg: 640x640 1 Cinnamon, 1 Henna, 7.9ms\n",
            "image 456/963 /content/drive/MyDrive/AyushVision/yolo/final/test/images/IMG20240427173234_jpg.rf.0e740ccd26d336dd7da96f214eed69ae.jpg: 640x640 1 Cinnamon, 8.1ms\n",
            "image 457/963 /content/drive/MyDrive/AyushVision/yolo/final/test/images/IMG20240427173250_jpg.rf.01516c2220a977826288494c58350964.jpg: 640x640 1 Cinnamon, 7.4ms\n",
            "image 458/963 /content/drive/MyDrive/AyushVision/yolo/final/test/images/IMG20240427173546_jpg.rf.27ed61ceb39753d9b61d6b661bc74fb5.jpg: 640x640 1 Black_honey_shrub, 7.5ms\n",
            "image 459/963 /content/drive/MyDrive/AyushVision/yolo/final/test/images/IMG20240427173626_jpg.rf.848289b121d9fdf90e7a720a81e29ed4.jpg: 640x640 1 Black_honey_shrub, 7.4ms\n",
            "image 460/963 /content/drive/MyDrive/AyushVision/yolo/final/test/images/IMG20240427173630_jpg.rf.4718053eaed10013cf887bc2c5f41d31.jpg: 640x640 1 Black_honey_shrub, 7.4ms\n",
            "image 461/963 /content/drive/MyDrive/AyushVision/yolo/final/test/images/IMG20240427173639_jpg.rf.c7d0b63fc8c07e3b681b4c3730709a38.jpg: 640x640 1 Black_honey_shrub, 7.5ms\n",
            "image 462/963 /content/drive/MyDrive/AyushVision/yolo/final/test/images/IMG20240427173642_jpg.rf.bf53dddede937e7616fa81fc37e587ca.jpg: 640x640 1 Black_honey_shrub, 7.4ms\n",
            "image 463/963 /content/drive/MyDrive/AyushVision/yolo/final/test/images/IMG20240427173953_jpg.rf.b355e68ba2ec24e54f6498c215c5049d.jpg: 640x640 1 Black_honey_shrub, 7.4ms\n",
            "image 464/963 /content/drive/MyDrive/AyushVision/yolo/final/test/images/IMG20240427173954_jpg.rf.f8145dcd771d16a80e44f79623e46f33.jpg: 640x640 1 Black_honey_shrub, 7.4ms\n",
            "image 465/963 /content/drive/MyDrive/AyushVision/yolo/final/test/images/IMG20240427174006_jpg.rf.d84260de6170be0ed8c59ef292498b7f.jpg: 640x640 1 Black_honey_shrub, 7.4ms\n",
            "image 466/963 /content/drive/MyDrive/AyushVision/yolo/final/test/images/IMG20240427174026_jpg.rf.f8ef995ea124fed7035993bb0bfd642a.jpg: 640x640 1 Black_honey_shrub, 7.4ms\n",
            "image 467/963 /content/drive/MyDrive/AyushVision/yolo/final/test/images/IMG20240427174145_jpg.rf.f2e7848d414bb36dd48b2ada4956dcfd.jpg: 640x640 1 Black_honey_shrub, 7.4ms\n",
            "image 468/963 /content/drive/MyDrive/AyushVision/yolo/final/test/images/IMG20240427174146_jpg.rf.26a837a76d42a48840a2c54def7370d7.jpg: 640x640 1 Black_honey_shrub, 7.5ms\n",
            "image 469/963 /content/drive/MyDrive/AyushVision/yolo/final/test/images/IMG20240427174214_jpg.rf.3d645e9ba56593bb8558c35504423fbe.jpg: 640x640 1 Black_honey_shrub, 7.4ms\n",
            "image 470/963 /content/drive/MyDrive/AyushVision/yolo/final/test/images/IMG20240427174216_jpg.rf.0dabc9c8504349998458e156881174be.jpg: 640x640 1 Black_honey_shrub, 7.4ms\n",
            "image 471/963 /content/drive/MyDrive/AyushVision/yolo/final/test/images/IMG20240427174301_jpg.rf.e76dba205af81c81bcca84db666e361c.jpg: 640x640 1 Black_honey_shrub, 7.5ms\n",
            "image 472/963 /content/drive/MyDrive/AyushVision/yolo/final/test/images/IMG20240427174359_jpg.rf.8e07648198857cd59e1ccf8f5b135b9a.jpg: 640x640 1 Black_honey_shrub, 7.4ms\n",
            "image 473/963 /content/drive/MyDrive/AyushVision/yolo/final/test/images/IMG20240427174401_jpg.rf.acc319d8df4f913a9cb53e14262fbbc0.jpg: 640x640 1 Black_honey_shrub, 7.4ms\n",
            "image 474/963 /content/drive/MyDrive/AyushVision/yolo/final/test/images/IMG20240427174404_jpg.rf.8a46431edb0521ce6162af704b86734c.jpg: 640x640 1 Black_honey_shrub, 7.5ms\n",
            "image 475/963 /content/drive/MyDrive/AyushVision/yolo/final/test/images/IMG20240427174408_jpg.rf.60b27c24466659a9d61847298d24a3c3.jpg: 640x640 1 Black_honey_shrub, 7.4ms\n",
            "image 476/963 /content/drive/MyDrive/AyushVision/yolo/final/test/images/IMG20240427174415_jpg.rf.8bbfe39d337455460b97c9edaf04ccb9.jpg: 640x640 1 Black_honey_shrub, 1 Vitexnegundo, 7.4ms\n",
            "image 477/963 /content/drive/MyDrive/AyushVision/yolo/final/test/images/IMG20240427174427_jpg.rf.a30adb19da56619d3de43bd28eb13a02.jpg: 640x640 1 Black_honey_shrub, 7.5ms\n",
            "image 478/963 /content/drive/MyDrive/AyushVision/yolo/final/test/images/IMG20240427174440_jpg.rf.dbac0eba005f39709afc34834c6f10e2.jpg: 640x640 1 Black_honey_shrub, 7.4ms\n",
            "image 479/963 /content/drive/MyDrive/AyushVision/yolo/final/test/images/IMG20240427180153_jpg.rf.8a6bd4bfefa10e67c940bd2d073dfc60.jpg: 640x640 1 Black_honey_shrub, 7.5ms\n",
            "image 480/963 /content/drive/MyDrive/AyushVision/yolo/final/test/images/IMG20240427180202_jpg.rf.8775c55739b15cacb8f77350d9fdc880.jpg: 640x640 1 Black_honey_shrub, 7.4ms\n",
            "image 481/963 /content/drive/MyDrive/AyushVision/yolo/final/test/images/IMG20240427180214_jpg.rf.c9baba8ef16a667a71866dc6fb9eac48.jpg: 640x640 1 Hibiscus, 1 Black_honey_shrub, 7.4ms\n",
            "image 482/963 /content/drive/MyDrive/AyushVision/yolo/final/test/images/IMG20240427180311_jpg.rf.c71e93873a80afd66ce9e5093a1730a1.jpg: 640x640 1 Black_honey_shrub, 7.4ms\n",
            "image 483/963 /content/drive/MyDrive/AyushVision/yolo/final/test/images/IMG20240427180332_jpg.rf.d52fcee90c842317462f6fe3c3cbbbe6.jpg: 640x640 1 Black_honey_shrub, 7.4ms\n",
            "image 484/963 /content/drive/MyDrive/AyushVision/yolo/final/test/images/IMG20240427180350_jpg.rf.64d4f846ef4cb81dcee7cdcfdc12831a.jpg: 640x640 1 Black_honey_shrub, 7.4ms\n",
            "image 485/963 /content/drive/MyDrive/AyushVision/yolo/final/test/images/IMG20240501154712_jpg.rf.646bc3560d5a6221c01b4569b4f61b23.jpg: 640x640 1 Ivy_gourd, 7.4ms\n",
            "image 486/963 /content/drive/MyDrive/AyushVision/yolo/final/test/images/IMG20240501155415_jpg.rf.dc8504159c8d21258ce513a2c74e51b8.jpg: 640x640 1 Ivy_gourd, 7.5ms\n",
            "image 487/963 /content/drive/MyDrive/AyushVision/yolo/final/test/images/IMG20240501155501_jpg.rf.7546fcc1ef23a5493afde0981a899b9e.jpg: 640x640 1 Ivy_gourd, 7.4ms\n",
            "image 488/963 /content/drive/MyDrive/AyushVision/yolo/final/test/images/IMG20240501155621_jpg.rf.f7f2328a406dbd859ba9ff07fc21a5a4.jpg: 640x640 1 Ivy_gourd, 7.4ms\n",
            "image 489/963 /content/drive/MyDrive/AyushVision/yolo/final/test/images/IMG20240501155650_jpg.rf.4253c5965801d78f25b3feae9e585691.jpg: 640x640 1 Ivy_gourd, 7.4ms\n",
            "image 490/963 /content/drive/MyDrive/AyushVision/yolo/final/test/images/IMG20240501155711_jpg.rf.f2a02a6489da49ff2d244e4ae2f3b10f.jpg: 640x640 1 Ivy_gourd, 7.4ms\n",
            "image 491/963 /content/drive/MyDrive/AyushVision/yolo/final/test/images/IMG20240501155727_jpg.rf.099a7a585249148112093060820cf5b1.jpg: 640x640 1 Ivy_gourd, 7.4ms\n",
            "image 492/963 /content/drive/MyDrive/AyushVision/yolo/final/test/images/IMG20240501155751_jpg.rf.7702bc1fc67b9c6d1c4b110856742390.jpg: 640x640 1 Ivy_gourd, 7.5ms\n",
            "image 493/963 /content/drive/MyDrive/AyushVision/yolo/final/test/images/IMG20240501155804_jpg.rf.79e49d550d812dc2c81e09e43a570caf.jpg: 640x640 1 Ivy_gourd, 7.5ms\n",
            "image 494/963 /content/drive/MyDrive/AyushVision/yolo/final/test/images/IMG20240501155822_jpg.rf.d6b8c8ad60441661cddb44541714c9b2.jpg: 640x640 1 Ivy_gourd, 7.5ms\n",
            "image 495/963 /content/drive/MyDrive/AyushVision/yolo/final/test/images/IMG20240501155837_jpg.rf.656050391db492f93a8c77c7498dc7e3.jpg: 640x640 1 Ivy_gourd, 7.4ms\n",
            "image 496/963 /content/drive/MyDrive/AyushVision/yolo/final/test/images/IMG20240501155842_jpg.rf.13900bfd00802b4477056f5b5d49009e.jpg: 640x640 1 Ivy_gourd, 7.4ms\n",
            "image 497/963 /content/drive/MyDrive/AyushVision/yolo/final/test/images/IMG20240501155849_jpg.rf.fa1de330242f48d338271c2a17bc667e.jpg: 640x640 1 Ivy_gourd, 7.5ms\n",
            "image 498/963 /content/drive/MyDrive/AyushVision/yolo/final/test/images/IMG20240501155853_jpg.rf.d60e75f94b7f3f47986266ea91d7c6a4.jpg: 640x640 1 Ivy_gourd, 7.5ms\n",
            "image 499/963 /content/drive/MyDrive/AyushVision/yolo/final/test/images/IMG20240501155919_jpg.rf.0654568a9a819d689b1b4780c534f4d2.jpg: 640x640 1 Ivy_gourd, 7.5ms\n",
            "image 500/963 /content/drive/MyDrive/AyushVision/yolo/final/test/images/IMG20240501160108_jpg.rf.ac59d7a45f032ac75b0c4cbda7422c2e.jpg: 640x640 1 Ivy_gourd, 7.4ms\n",
            "image 501/963 /content/drive/MyDrive/AyushVision/yolo/final/test/images/IMG20240501160906_jpg.rf.414c2600b8b588199c11d9dd2748fdfd.jpg: 640x640 1 Ivy_gourd, 7.5ms\n",
            "image 502/963 /content/drive/MyDrive/AyushVision/yolo/final/test/images/IMG20240501160913_jpg.rf.44615a3aa9f514602c782f8746f46275.jpg: 640x640 1 Ivy_gourd, 7.5ms\n",
            "image 503/963 /content/drive/MyDrive/AyushVision/yolo/final/test/images/IMG20240501160928_jpg.rf.54ed8024221becf8fceb0c6b32aec8aa.jpg: 640x640 1 Ivy_gourd, 7.5ms\n",
            "image 504/963 /content/drive/MyDrive/AyushVision/yolo/final/test/images/IMG20240501160947_jpg.rf.b3f0be22e767a870f896230b041f9295.jpg: 640x640 1 Ivy_gourd, 7.5ms\n",
            "image 505/963 /content/drive/MyDrive/AyushVision/yolo/final/test/images/IMG20240501160957_jpg.rf.2873f4747b12804175d40050b9b82da5.jpg: 640x640 1 Ivy_gourd, 7.5ms\n",
            "image 506/963 /content/drive/MyDrive/AyushVision/yolo/final/test/images/IMG20240501161004_jpg.rf.7e0c1cd13fc812c91bd23b448c6fda44.jpg: 640x640 1 Ivy_gourd, 7.4ms\n",
            "image 507/963 /content/drive/MyDrive/AyushVision/yolo/final/test/images/IMG20240501161046_jpg.rf.7b6926c38210db9b71901d58c9ce92be.jpg: 640x640 (no detections), 7.4ms\n",
            "image 508/963 /content/drive/MyDrive/AyushVision/yolo/final/test/images/IMG20240501161712_jpg.rf.4ed9413ba67c59db122abe6f2030f5a2.jpg: 640x640 1 Ivy_gourd, 7.4ms\n",
            "image 509/963 /content/drive/MyDrive/AyushVision/yolo/final/test/images/IMG20240501161724_jpg.rf.1fac142d04993b9a5ba1beae3f600755.jpg: 640x640 1 Ivy_gourd, 7.4ms\n",
            "image 510/963 /content/drive/MyDrive/AyushVision/yolo/final/test/images/IMG20240501161742_jpg.rf.576782b8af8677554386bcf628785ebf.jpg: 640x640 1 Ivy_gourd, 7.4ms\n",
            "image 511/963 /content/drive/MyDrive/AyushVision/yolo/final/test/images/IMG20240501161754_jpg.rf.53ce2a45d99882c6726c83ef2a89cd81.jpg: 640x640 1 Ivy_gourd, 7.4ms\n",
            "image 512/963 /content/drive/MyDrive/AyushVision/yolo/final/test/images/IMG20240501164614_jpg.rf.a15e2c360927754d858fab041483913b.jpg: 640x640 1 Henna, 7.4ms\n",
            "image 513/963 /content/drive/MyDrive/AyushVision/yolo/final/test/images/IMG20240501170619_jpg.rf.9ed92dcca392a9eab310450e79bc20c3.jpg: 640x640 (no detections), 7.4ms\n",
            "image 514/963 /content/drive/MyDrive/AyushVision/yolo/final/test/images/IMG20240501170717_jpg.rf.e67116ccdf51eb4926ca9b6097f2a577.jpg: 640x640 1 Henna, 7.5ms\n",
            "image 515/963 /content/drive/MyDrive/AyushVision/yolo/final/test/images/IMG20240501170740_jpg.rf.a0fcaf426d23859507f0f75347c91eac.jpg: 640x640 1 Henna, 7.4ms\n",
            "image 516/963 /content/drive/MyDrive/AyushVision/yolo/final/test/images/IMG20240501171024_jpg.rf.36a834bb206a21a6aeda6201210b5f9b.jpg: 640x640 1 Henna, 7.5ms\n",
            "image 517/963 /content/drive/MyDrive/AyushVision/yolo/final/test/images/IMG20240501171027_jpg.rf.4c6d473d9dc7a034d3c9a9acc7e7f24d.jpg: 640x640 1 Henna, 7.4ms\n",
            "image 518/963 /content/drive/MyDrive/AyushVision/yolo/final/test/images/IMG20240501171042_jpg.rf.52f9a4bf13a50924d38573d45f112506.jpg: 640x640 1 Henna, 7.4ms\n",
            "image 519/963 /content/drive/MyDrive/AyushVision/yolo/final/test/images/IMG20240501171054_jpg.rf.c13c6a5ce70bfda31a77f52b13ad5549.jpg: 640x640 1 Henna, 7.4ms\n",
            "image 520/963 /content/drive/MyDrive/AyushVision/yolo/final/test/images/IMG20240501171758_jpg.rf.9e04698407e4897c67ac2c1f89211503.jpg: 640x640 1 Henna, 7.5ms\n",
            "image 521/963 /content/drive/MyDrive/AyushVision/yolo/final/test/images/IMG20240501171830_jpg.rf.92deb15798c71693cfea1c7655f4523f.jpg: 640x640 1 Henna, 7.5ms\n",
            "image 522/963 /content/drive/MyDrive/AyushVision/yolo/final/test/images/IMG20240501171844_jpg.rf.bec6e76d7a9aa38710ad5ff228ef39a8.jpg: 640x640 1 Henna, 7.5ms\n",
            "image 523/963 /content/drive/MyDrive/AyushVision/yolo/final/test/images/IMG20240501171907_jpg.rf.3c10a9657ac7333665fcc94569139f75.jpg: 640x640 1 Henna, 7.4ms\n",
            "image 524/963 /content/drive/MyDrive/AyushVision/yolo/final/test/images/IMG20240501171919_jpg.rf.14bbbcf628d6c7740306cd757b8c96cb.jpg: 640x640 1 Henna, 7.4ms\n",
            "image 525/963 /content/drive/MyDrive/AyushVision/yolo/final/test/images/IMG20240501172005_jpg.rf.84ed995de5f850999d774f200afc03db.jpg: 640x640 1 Henna, 7.4ms\n",
            "image 526/963 /content/drive/MyDrive/AyushVision/yolo/final/test/images/IMG20240501172213_jpg.rf.f5dd944210dda4e6eba1d085fae1ff23.jpg: 640x640 1 Henna, 7.4ms\n",
            "image 527/963 /content/drive/MyDrive/AyushVision/yolo/final/test/images/IMG20240501172236_jpg.rf.c81270b71f81265f9b601f51963c7f93.jpg: 640x640 1 Henna, 7.4ms\n",
            "image 528/963 /content/drive/MyDrive/AyushVision/yolo/final/test/images/IMG20240501172712_jpg.rf.ecd9d6d7db12b32aaf4628c65b559973.jpg: 640x640 1 Henna, 7.4ms\n",
            "image 529/963 /content/drive/MyDrive/AyushVision/yolo/final/test/images/IMG20240501174241_jpg.rf.7bbb62bbd47b97f0b5c1113ac938a910.jpg: 640x640 1 Henna, 7.4ms\n",
            "image 530/963 /content/drive/MyDrive/AyushVision/yolo/final/test/images/IMG20240501174243_jpg.rf.c832d6371778578784bb188b23d1aa05.jpg: 640x640 1 Henna, 7.4ms\n",
            "image 531/963 /content/drive/MyDrive/AyushVision/yolo/final/test/images/IMG20240501174443_jpg.rf.2be73c09fc0045eac4f02cb9b5b1d6db.jpg: 640x640 1 Henna, 7.4ms\n",
            "image 532/963 /content/drive/MyDrive/AyushVision/yolo/final/test/images/IMG20240501174845_jpg.rf.dda6ec0767077358c709ddfd25e96008.jpg: 640x640 1 Henna, 7.4ms\n",
            "image 533/963 /content/drive/MyDrive/AyushVision/yolo/final/test/images/IMG20240501175016_jpg.rf.890e1d29c17ea3dbfc3039d95e1ad0e3.jpg: 640x640 1 Henna, 7.4ms\n",
            "image 534/963 /content/drive/MyDrive/AyushVision/yolo/final/test/images/IMG20240501175045_jpg.rf.3a9b7c45e2a909b495632cc596a03494.jpg: 640x640 1 Henna, 7.4ms\n",
            "image 535/963 /content/drive/MyDrive/AyushVision/yolo/final/test/images/IMG20240501175157_jpg.rf.0f7486ad4a1ce8052339bab71807cc73.jpg: 640x640 1 Henna, 7.4ms\n",
            "image 536/963 /content/drive/MyDrive/AyushVision/yolo/final/test/images/IMG20240501175208_jpg.rf.5d264acbb496a95c9f4cace4462da127.jpg: 640x640 1 Henna, 7.4ms\n",
            "image 537/963 /content/drive/MyDrive/AyushVision/yolo/final/test/images/IMG20240501175218_jpg.rf.138f93e9b8c96caaf88dd46755d24230.jpg: 640x640 1 Henna, 7.4ms\n",
            "image 538/963 /content/drive/MyDrive/AyushVision/yolo/final/test/images/IMG20240501175241_jpg.rf.516ae8880451ced934ae7e2a7130a812.jpg: 640x640 1 Henna, 7.4ms\n",
            "image 539/963 /content/drive/MyDrive/AyushVision/yolo/final/test/images/IMG20240501175433_jpg.rf.745c77f98aac1bae7e700106a84c3dda.jpg: 640x640 1 Henna, 7.5ms\n",
            "image 540/963 /content/drive/MyDrive/AyushVision/yolo/final/test/images/IMG20240501175441_jpg.rf.adde12e9a51078a2a1206c6237811d86.jpg: 640x640 1 Henna, 7.4ms\n",
            "image 541/963 /content/drive/MyDrive/AyushVision/yolo/final/test/images/IMG20240501175547_jpg.rf.f01695363426b1250ba232778561174a.jpg: 640x640 1 Henna, 7.4ms\n",
            "image 542/963 /content/drive/MyDrive/AyushVision/yolo/final/test/images/IMG20240501175554_jpg.rf.3ccb543eba325b376a083a2a2ab240f6.jpg: 640x640 1 Henna, 7.4ms\n",
            "image 543/963 /content/drive/MyDrive/AyushVision/yolo/final/test/images/IMG20240501180240_jpg.rf.83e715ac338fcee8bcc30a98a74bd286.jpg: 640x640 1 Ivy_gourd, 7.4ms\n",
            "image 544/963 /content/drive/MyDrive/AyushVision/yolo/final/test/images/IMG20240501180242_jpg.rf.bceef33a0cb1f48fa7e83b70b5ef8f0b.jpg: 640x640 1 Ivy_gourd, 7.6ms\n",
            "image 545/963 /content/drive/MyDrive/AyushVision/yolo/final/test/images/IMG20240501180353_jpg.rf.ebbc85c1c286aa7cc73e5c3d6cef8b01.jpg: 640x640 1 Ivy_gourd, 7.4ms\n",
            "image 546/963 /content/drive/MyDrive/AyushVision/yolo/final/test/images/IMG20240501180407_jpg.rf.5de41cac7dd8d018ed60adf18310c382.jpg: 640x640 1 Ivy_gourd, 7.4ms\n",
            "image 547/963 /content/drive/MyDrive/AyushVision/yolo/final/test/images/IMG20240501180445_jpg.rf.5f3790438058d5f6f8bbdedf6c2cc98e.jpg: 640x640 1 Ivy_gourd, 7.4ms\n",
            "image 548/963 /content/drive/MyDrive/AyushVision/yolo/final/test/images/IMG20240501180447_jpg.rf.7f372dd559469a19e204c9786fb71419.jpg: 640x640 1 Ivy_gourd, 7.4ms\n",
            "image 549/963 /content/drive/MyDrive/AyushVision/yolo/final/test/images/IMG20240501180634_jpg.rf.401a352db944890926f26e6b4f6ea583.jpg: 640x640 (no detections), 7.4ms\n",
            "image 550/963 /content/drive/MyDrive/AyushVision/yolo/final/test/images/IMG20240501180650_jpg.rf.9ce7bfa8d8e2a55d3d8214a4b72a563f.jpg: 640x640 1 Ivy_gourd, 7.4ms\n",
            "image 551/963 /content/drive/MyDrive/AyushVision/yolo/final/test/images/IMG20240501180904_jpg.rf.94e58c4358a2434ce2e24f40a5984d2b.jpg: 640x640 1 Ivy_gourd, 7.4ms\n",
            "image 552/963 /content/drive/MyDrive/AyushVision/yolo/final/test/images/IMG20240501180946_jpg.rf.e235735a11ed4eca8b6a138223256811.jpg: 640x640 1 Ivy_gourd, 7.4ms\n",
            "image 553/963 /content/drive/MyDrive/AyushVision/yolo/final/test/images/IMG20240501181122_jpg.rf.2fc0b40df41f9676d0b4e8f7577c7e85.jpg: 640x640 1 Ivy_gourd, 7.4ms\n",
            "image 554/963 /content/drive/MyDrive/AyushVision/yolo/final/test/images/IMG20240501181143_jpg.rf.20e125fa7f3ea31472e6a77cbeadb7d7.jpg: 640x640 1 Ivy_gourd, 7.4ms\n",
            "image 555/963 /content/drive/MyDrive/AyushVision/yolo/final/test/images/IMG20240501181309_jpg.rf.f437c718b7fe8571ee59ce839684dd41.jpg: 640x640 1 Ivy_gourd, 7.4ms\n",
            "image 556/963 /content/drive/MyDrive/AyushVision/yolo/final/test/images/IMG20240501181330_jpg.rf.12f615091398447a9b7aab99277353f8.jpg: 640x640 1 Ivy_gourd, 7.4ms\n",
            "image 557/963 /content/drive/MyDrive/AyushVision/yolo/final/test/images/IMG20240501181858_jpg.rf.b14dba99a27bda75d902f2e69ea3a034.jpg: 640x640 1 Ivy_gourd, 7.4ms\n",
            "image 558/963 /content/drive/MyDrive/AyushVision/yolo/final/test/images/IMG20240518104105_jpg.rf.54fe92c17e40275dd2d3e5b77aa2b0e1.jpg: 640x640 1 Alovera, 7.4ms\n",
            "image 559/963 /content/drive/MyDrive/AyushVision/yolo/final/test/images/IMG20240518104343_jpg.rf.248548f0b83715e77d119e674a3ff3e7.jpg: 640x640 1 Alovera, 7.4ms\n",
            "image 560/963 /content/drive/MyDrive/AyushVision/yolo/final/test/images/IMG20240518104438_jpg.rf.cc437d14334f710f9147823e85d9d4b6.jpg: 640x640 1 Alovera, 7.4ms\n",
            "image 561/963 /content/drive/MyDrive/AyushVision/yolo/final/test/images/IMG20240518104516_jpg.rf.d7aa1e2df2922df01e4ba85625c29fca.jpg: 640x640 1 Alovera, 7.4ms\n",
            "image 562/963 /content/drive/MyDrive/AyushVision/yolo/final/test/images/IMG20240518104537_01_jpg.rf.c98a662f6457e52de9092601b8a5241a.jpg: 640x640 1 Alovera, 7.5ms\n",
            "image 563/963 /content/drive/MyDrive/AyushVision/yolo/final/test/images/IMG20240518104539_jpg.rf.9f9436fa06d3d611208cc814104e99fe.jpg: 640x640 1 Alovera, 7.4ms\n",
            "image 564/963 /content/drive/MyDrive/AyushVision/yolo/final/test/images/IMG20240518104618_jpg.rf.8e13e0fde3a5e86e18d5baa6b3e4cd0d.jpg: 640x640 1 Alovera, 7.4ms\n",
            "image 565/963 /content/drive/MyDrive/AyushVision/yolo/final/test/images/IMG20240518105048_jpg.rf.c6c1fbff03a409caf8b9e1654dc5cb92.jpg: 640x640 1 Alovera, 7.4ms\n",
            "image 566/963 /content/drive/MyDrive/AyushVision/yolo/final/test/images/IMG20240518105055_jpg.rf.02a759ad0b0674f214850754113f4601.jpg: 640x640 1 Alovera, 7.4ms\n",
            "image 567/963 /content/drive/MyDrive/AyushVision/yolo/final/test/images/IMG20240518123730_jpg.rf.312a2c935b7c70021868c912f7b780ac.jpg: 640x640 1 Cinnamon, 7.4ms\n",
            "image 568/963 /content/drive/MyDrive/AyushVision/yolo/final/test/images/IMG20240518123828_jpg.rf.5883c201f28efb8b43b256ef6b511150.jpg: 640x640 (no detections), 7.4ms\n",
            "image 569/963 /content/drive/MyDrive/AyushVision/yolo/final/test/images/IMG20240523091944_jpg.rf.8fd18b4630f5a881e272202076546f83.jpg: 640x640 1 Hibiscus, 7.8ms\n",
            "image 570/963 /content/drive/MyDrive/AyushVision/yolo/final/test/images/IMG20240523091948_jpg.rf.5991f5fc92a6875d6d3674ba6dbfa24c.jpg: 640x640 1 Hibiscus, 7.4ms\n",
            "image 571/963 /content/drive/MyDrive/AyushVision/yolo/final/test/images/IMG20240523092028_jpg.rf.93cb86394f369c11a3eeefec98ab13e5.jpg: 640x640 1 Hibiscus, 7.5ms\n",
            "image 572/963 /content/drive/MyDrive/AyushVision/yolo/final/test/images/IMG20240523092032_jpg.rf.de8469d94b1577588189ea3f7e98a99b.jpg: 640x640 1 Holybasil, 7.4ms\n",
            "image 573/963 /content/drive/MyDrive/AyushVision/yolo/final/test/images/IMG20240523092058_jpg.rf.39f3df6976d2068169bcbbbfc68d7f5d.jpg: 640x640 1 Hibiscus, 7.4ms\n",
            "image 574/963 /content/drive/MyDrive/AyushVision/yolo/final/test/images/IMG20240523145155_jpg.rf.8dc921d696ad855d1fc9230265172d0f.jpg: 640x640 1 Caster, 7.4ms\n",
            "image 575/963 /content/drive/MyDrive/AyushVision/yolo/final/test/images/IMG20240523145213_jpg.rf.dd94f17aa495b5a5e743ad4589fca3c2.jpg: 640x640 1 Caster, 1 Neem, 7.4ms\n",
            "image 576/963 /content/drive/MyDrive/AyushVision/yolo/final/test/images/IMG20240523145431_jpg.rf.9c624749d308a211876a27fca3a90d1f.jpg: 640x640 1 Caster, 7.4ms\n",
            "image 577/963 /content/drive/MyDrive/AyushVision/yolo/final/test/images/IMG20240523145521_jpg.rf.5c1b77b12d1ace7fa5168ec96d155f3d.jpg: 640x640 1 Caster, 7.4ms\n",
            "image 578/963 /content/drive/MyDrive/AyushVision/yolo/final/test/images/IMG20240523145532_jpg.rf.954481e21fe299118bf1c9a03401c940.jpg: 640x640 1 Caster, 7.4ms\n",
            "image 579/963 /content/drive/MyDrive/AyushVision/yolo/final/test/images/IMG20240523150545_jpg.rf.2ad2d546366f92f48dc0a844a62521c5.jpg: 640x640 1 Hibiscus, 7.5ms\n",
            "image 580/963 /content/drive/MyDrive/AyushVision/yolo/final/test/images/IMG20240523150547_jpg.rf.ac871b709c83c58d28e0001d148ae608.jpg: 640x640 1 Hibiscus, 1 Landrina, 7.4ms\n",
            "image 581/963 /content/drive/MyDrive/AyushVision/yolo/final/test/images/IMG20240523150613_jpg.rf.bb16fcc5a83588feefde95990c6dfd1d.jpg: 640x640 1 Hibiscus, 7.4ms\n",
            "image 582/963 /content/drive/MyDrive/AyushVision/yolo/final/test/images/IMG20240523150658_jpg.rf.9fb447cd1768e2c86f23dc3b62227fe3.jpg: 640x640 1 Hibiscus, 7.4ms\n",
            "image 583/963 /content/drive/MyDrive/AyushVision/yolo/final/test/images/IMG20240523150720_jpg.rf.44eda99e10cdedcaa7c3c801b1705aeb.jpg: 640x640 1 Hibiscus, 7.4ms\n",
            "image 584/963 /content/drive/MyDrive/AyushVision/yolo/final/test/images/IMG20240523151652_01_jpg.rf.42e218033702b815f0da976401b96d96.jpg: 640x640 (no detections), 7.4ms\n",
            "image 585/963 /content/drive/MyDrive/AyushVision/yolo/final/test/images/IMG20240523151823_jpg.rf.f6cbfb109ff17ec08062211fc9e1316b.jpg: 640x640 1 Ginger, 7.4ms\n",
            "image 586/963 /content/drive/MyDrive/AyushVision/yolo/final/test/images/IMG20240523151903_jpg.rf.b2db0c01c30b94a21828cd90dfa101d1.jpg: 640x640 (no detections), 7.4ms\n",
            "image 587/963 /content/drive/MyDrive/AyushVision/yolo/final/test/images/IMG20240523152822_jpg.rf.e99cb62b0a0eb270ca17d3f545c578de.jpg: 640x640 2 Casters, 7.4ms\n",
            "image 588/963 /content/drive/MyDrive/AyushVision/yolo/final/test/images/IMG20240523152823_jpg.rf.e3c23fc2c07ece193aa8c8e8e9c76b80.jpg: 640x640 1 Caster, 7.4ms\n",
            "image 589/963 /content/drive/MyDrive/AyushVision/yolo/final/test/images/IMG20240523152832_jpg.rf.23d131f77c0284e1c3276756c3a20bf3.jpg: 640x640 1 Caster, 7.4ms\n",
            "image 590/963 /content/drive/MyDrive/AyushVision/yolo/final/test/images/IMG20240523152924_jpg.rf.317a29174760d9d15dc776eb8250944b.jpg: 640x640 1 Caster, 7.5ms\n",
            "image 591/963 /content/drive/MyDrive/AyushVision/yolo/final/test/images/IMG20240523152937_jpg.rf.2c7c2d9d48f39dfd8a7fbe00e04e7e8c.jpg: 640x640 1 Caster, 7.4ms\n",
            "image 592/963 /content/drive/MyDrive/AyushVision/yolo/final/test/images/IMG20240523153042_jpg.rf.253ab02499a24b1fed45373c18d22ab0.jpg: 640x640 1 Caster, 7.5ms\n",
            "image 593/963 /content/drive/MyDrive/AyushVision/yolo/final/test/images/IMG20240523153106_jpg.rf.54c48f1f6660b9f26c1cf1af30dd9bb1.jpg: 640x640 1 Caster, 7.5ms\n",
            "image 594/963 /content/drive/MyDrive/AyushVision/yolo/final/test/images/IMG20240523153109_jpg.rf.ee273f9e17e3e3e9b19300233bcc1e4c.jpg: 640x640 1 Caster, 7.5ms\n",
            "image 595/963 /content/drive/MyDrive/AyushVision/yolo/final/test/images/IMG20240524100430_jpg.rf.f44810b534ebb94b1547b1d9693567a7.jpg: 640x640 (no detections), 7.5ms\n",
            "image 596/963 /content/drive/MyDrive/AyushVision/yolo/final/test/images/IMG20240606093251_jpg.rf.cef6c6e33ec62c00b0b6107417417aed.jpg: 640x640 1 Cinnamon, 7.5ms\n",
            "image 597/963 /content/drive/MyDrive/AyushVision/yolo/final/test/images/IMG20240606093318_jpg.rf.54e9d9df88ba9658f768a98c5b6effc2.jpg: 640x640 1 Cinnamon, 7.4ms\n",
            "image 598/963 /content/drive/MyDrive/AyushVision/yolo/final/test/images/IMG20240606093344_jpg.rf.d116c7c801d7acc9e2dee12e9014c913.jpg: 640x640 1 Cinnamon, 7.4ms\n",
            "image 599/963 /content/drive/MyDrive/AyushVision/yolo/final/test/images/IMG20240606093448_jpg.rf.ef78fc47247e3c867242f28a040ff79c.jpg: 640x640 1 Hibiscus, 7.4ms\n",
            "image 600/963 /content/drive/MyDrive/AyushVision/yolo/final/test/images/IMG20240606093553_jpg.rf.04f336f6bf7a816789baf4a0662182e0.jpg: 640x640 1 Hibiscus, 8.1ms\n",
            "image 601/963 /content/drive/MyDrive/AyushVision/yolo/final/test/images/IMG20240606093800_jpg.rf.4432a644ee97e0399a9375255d72ca08.jpg: 640x640 1 Hibiscus, 7.4ms\n",
            "image 602/963 /content/drive/MyDrive/AyushVision/yolo/final/test/images/IMG20240606093802_jpg.rf.a05358487798e834480ed5f839459e2e.jpg: 640x640 1 Hibiscus, 7.4ms\n",
            "image 603/963 /content/drive/MyDrive/AyushVision/yolo/final/test/images/IMG20240606173539_jpg.rf.dbaf8caef6f7c8a375ac30be9100b7b1.jpg: 640x640 1 Hibiscus, 7.4ms\n",
            "image 604/963 /content/drive/MyDrive/AyushVision/yolo/final/test/images/IMG20240606173556_jpg.rf.d23a97dcce1206e4d57b4d7ab7e7c49d.jpg: 640x640 1 Hibiscus, 7.4ms\n",
            "image 605/963 /content/drive/MyDrive/AyushVision/yolo/final/test/images/IMG20240606173712_jpg.rf.c6703565ed29ccedce75157c8e34b294.jpg: 640x640 1 Hibiscus, 7.5ms\n",
            "image 606/963 /content/drive/MyDrive/AyushVision/yolo/final/test/images/IMG20240606173734_jpg.rf.18c082262b23b8da798e7646832578c4.jpg: 640x640 1 Hibiscus, 7.5ms\n",
            "image 607/963 /content/drive/MyDrive/AyushVision/yolo/final/test/images/IMG20240606173742_jpg.rf.32b33e86dd01c37d71fff938289e2a95.jpg: 640x640 1 Hibiscus, 7.4ms\n",
            "image 608/963 /content/drive/MyDrive/AyushVision/yolo/final/test/images/IMG20240606173910_jpg.rf.6a65a4524134d3fb7958fa78670739e9.jpg: 640x640 1 Hibiscus, 7.4ms\n",
            "image 609/963 /content/drive/MyDrive/AyushVision/yolo/final/test/images/IMG20240606173940_jpg.rf.3e6f59831767811bde7fd6a8f5149652.jpg: 640x640 1 Hibiscus, 7.4ms\n",
            "image 610/963 /content/drive/MyDrive/AyushVision/yolo/final/test/images/IMG20240606173943_jpg.rf.41e4018d380508844005fb931b7485a9.jpg: 640x640 1 Hibiscus, 7.4ms\n",
            "image 611/963 /content/drive/MyDrive/AyushVision/yolo/final/test/images/IMG20240606174142_jpg.rf.ad40444dc635118fd02b83886360566a.jpg: 640x640 1 Cinnamon, 7.4ms\n",
            "image 612/963 /content/drive/MyDrive/AyushVision/yolo/final/test/images/IMG20240606174143_jpg.rf.c4ae242130cf1426cf3f23e1e89bb5d1.jpg: 640x640 1 Cinnamon, 7.4ms\n",
            "image 613/963 /content/drive/MyDrive/AyushVision/yolo/final/test/images/IMG20240606174149_jpg.rf.ec2b6a280277c4c2655e0060e1959a73.jpg: 640x640 1 Cinnamon, 7.4ms\n",
            "image 614/963 /content/drive/MyDrive/AyushVision/yolo/final/test/images/IMG20240606174154_jpg.rf.1559ab55a7fe433c21239fff04a31300.jpg: 640x640 1 Cinnamon, 7.5ms\n",
            "image 615/963 /content/drive/MyDrive/AyushVision/yolo/final/test/images/IMG20240606174309_jpg.rf.4dbbf7bfdc7fd19c6cb3d532b0116135.jpg: 640x640 1 Cinnamon, 7.5ms\n",
            "image 616/963 /content/drive/MyDrive/AyushVision/yolo/final/test/images/IMG20240606180841_jpg.rf.97a7550a9f233b9b41960e5955443eaa.jpg: 640x640 1 Landrina, 1 Vitexnegundo, 7.4ms\n",
            "image 617/963 /content/drive/MyDrive/AyushVision/yolo/final/test/images/IMG20240606181144_jpg.rf.6bb2643fcad0db77afddad9645c5381d.jpg: 640x640 1 Landrina, 7.5ms\n",
            "image 618/963 /content/drive/MyDrive/AyushVision/yolo/final/test/images/IMG20240607172132_jpg.rf.8ce366502356d2c4630e914f9949f4bb.jpg: 640x640 (no detections), 7.5ms\n",
            "image 619/963 /content/drive/MyDrive/AyushVision/yolo/final/test/images/IMG20240607174401_jpg.rf.e3f9dc6e392f46b83c8e5f89fb5e0ef8.jpg: 640x640 1 Landrina, 7.5ms\n",
            "image 620/963 /content/drive/MyDrive/AyushVision/yolo/final/test/images/IMG20240607174756_jpg.rf.b651f6d5c1819cc1a350a6cc144983d5.jpg: 640x640 1 Landrina, 7.4ms\n",
            "image 621/963 /content/drive/MyDrive/AyushVision/yolo/final/test/images/IMG20240607175035_jpg.rf.3efd7ca61983e2144b88946d51bc1ee7.jpg: 640x640 1 Landrina, 7.5ms\n",
            "image 622/963 /content/drive/MyDrive/AyushVision/yolo/final/test/images/IMG20240607175210_jpg.rf.c375e4ec91250fd081fce4b9b4adbeea.jpg: 640x640 (no detections), 7.4ms\n",
            "image 623/963 /content/drive/MyDrive/AyushVision/yolo/final/test/images/IMG20240607175308_jpg.rf.7e6573167a130b1233e774de7d9fd91d.jpg: 640x640 1 Landrina, 7.5ms\n",
            "image 624/963 /content/drive/MyDrive/AyushVision/yolo/final/test/images/IMG20240607175426_jpg.rf.303d3d75a87ed1bd0d4c0fb989082302.jpg: 640x640 1 Landrina, 1 Vitexnegundo, 7.5ms\n",
            "image 625/963 /content/drive/MyDrive/AyushVision/yolo/final/test/images/IMG20240608111433_jpg.rf.2a77281e4439e4b64457e60b0091c90a.jpg: 640x640 (no detections), 7.4ms\n",
            "image 626/963 /content/drive/MyDrive/AyushVision/yolo/final/test/images/IMG20240608111615_jpg.rf.4c43d41450cd942a800974bf6c9419a0.jpg: 640x640 1 Lemon_grass, 7.5ms\n",
            "image 627/963 /content/drive/MyDrive/AyushVision/yolo/final/test/images/IMG20240608112317_jpg.rf.95b5c642dc9fb98f86b34e22a80128e6.jpg: 640x640 1 Cinnamon, 7.4ms\n",
            "image 628/963 /content/drive/MyDrive/AyushVision/yolo/final/test/images/IMG20240608112327_jpg.rf.6758e10b998760b902e95df57bf83355.jpg: 640x640 1 Cinnamon, 7.4ms\n",
            "image 629/963 /content/drive/MyDrive/AyushVision/yolo/final/test/images/IMG20240608112329_jpg.rf.907e99a977f39de162c676713e5ade4f.jpg: 640x640 1 Cinnamon, 7.4ms\n",
            "image 630/963 /content/drive/MyDrive/AyushVision/yolo/final/test/images/IMG20240608112346_jpg.rf.abb38d15a2ade7bc5574565b98733904.jpg: 640x640 1 Cinnamon, 7.4ms\n",
            "image 631/963 /content/drive/MyDrive/AyushVision/yolo/final/test/images/IMG20240608112349_jpg.rf.a96e03caf2966cf1b38bb30b57783c73.jpg: 640x640 1 Cinnamon, 7.4ms\n",
            "image 632/963 /content/drive/MyDrive/AyushVision/yolo/final/test/images/IMG20240608112420_jpg.rf.a78e8c4c422e01dcd3384a9cdefbc9c8.jpg: 640x640 1 Cinnamon, 7.4ms\n",
            "image 633/963 /content/drive/MyDrive/AyushVision/yolo/final/test/images/IMG20240608112422_jpg.rf.083cc382c0cff83b8eb25c7382625ce5.jpg: 640x640 1 Cinnamon, 7.4ms\n",
            "image 634/963 /content/drive/MyDrive/AyushVision/yolo/final/test/images/IMG20240608112428_jpg.rf.e9f02088d85c949095c8008629ebc60c.jpg: 640x640 1 Cinnamon, 7.4ms\n",
            "image 635/963 /content/drive/MyDrive/AyushVision/yolo/final/test/images/IMG20240608112447_jpg.rf.e155fa4ee47085bc190e2b1de55d71a4.jpg: 640x640 1 Cinnamon, 7.6ms\n",
            "image 636/963 /content/drive/MyDrive/AyushVision/yolo/final/test/images/IMG20240608112501_jpg.rf.8d24ca34996297e6721bd1ef2a67906f.jpg: 640x640 1 Cinnamon, 7.4ms\n",
            "image 637/963 /content/drive/MyDrive/AyushVision/yolo/final/test/images/IMG20240608162313_jpg.rf.ac8f21c18731443c45c0ed2dc2bebfd6.jpg: 640x640 1 Lemon_grass, 7.4ms\n",
            "image 638/963 /content/drive/MyDrive/AyushVision/yolo/final/test/images/IMG20240608162741_jpg.rf.1811ed1b322fdc4bfe34d437c538d75b.jpg: 640x640 1 Lemon_grass, 7.5ms\n",
            "image 639/963 /content/drive/MyDrive/AyushVision/yolo/final/test/images/IMG20240608162829_jpg.rf.503c4729fbc5d5ce0e81b1aef3cd0597.jpg: 640x640 1 Lemon_grass, 7.5ms\n",
            "image 640/963 /content/drive/MyDrive/AyushVision/yolo/final/test/images/IMG20240608162834_jpg.rf.b04147966a8c2073e542dbff791187b8.jpg: 640x640 1 Lemon_grass, 7.5ms\n",
            "image 641/963 /content/drive/MyDrive/AyushVision/yolo/final/test/images/IMG20240608163048_jpg.rf.81d45901cb24ab17bc1ef7f8aa3eda6f.jpg: 640x640 1 Lemon_grass, 7.4ms\n",
            "image 642/963 /content/drive/MyDrive/AyushVision/yolo/final/test/images/IMG20240608163200_jpg.rf.d2f1177a3c33607fa24dad80c44b1c42.jpg: 640x640 1 Lemon_grass, 7.4ms\n",
            "image 643/963 /content/drive/MyDrive/AyushVision/yolo/final/test/images/IMG20240608163235_jpg.rf.58309a3ae32b56135caf0f0dd47adf5b.jpg: 640x640 1 Lemon_grass, 7.4ms\n",
            "image 644/963 /content/drive/MyDrive/AyushVision/yolo/final/test/images/IMG20240608163310_jpg.rf.8612f50660cfbc82df1b08b334a6af41.jpg: 640x640 1 Lemon_grass, 7.4ms\n",
            "image 645/963 /content/drive/MyDrive/AyushVision/yolo/final/test/images/IMG20240608170502_jpg.rf.74b6d6c941e096bafc7519f7265541a1.jpg: 640x640 1 Lemon_grass, 7.4ms\n",
            "image 646/963 /content/drive/MyDrive/AyushVision/yolo/final/test/images/IMG20240608170504_jpg.rf.d77e53acda5df76edddc38b87e5e3b8a.jpg: 640x640 1 Lemon_grass, 7.4ms\n",
            "image 647/963 /content/drive/MyDrive/AyushVision/yolo/final/test/images/IMG20240608170518_jpg.rf.7971e129c1664fca1150c16645b78cc7.jpg: 640x640 1 Lemon_grass, 7.4ms\n",
            "image 648/963 /content/drive/MyDrive/AyushVision/yolo/final/test/images/IMG20240608170521_jpg.rf.f74828ccda1520894d3918322856bf0a.jpg: 640x640 1 Lemon_grass, 7.4ms\n",
            "image 649/963 /content/drive/MyDrive/AyushVision/yolo/final/test/images/IMG20240608170537_jpg.rf.f81dbf78737cae1b1aaac05ef936f286.jpg: 640x640 1 Lemon_grass, 7.4ms\n",
            "image 650/963 /content/drive/MyDrive/AyushVision/yolo/final/test/images/IMG20240608170548_jpg.rf.2bf71d184b58124f144299e58395321d.jpg: 640x640 1 Lemon_grass, 7.4ms\n",
            "image 651/963 /content/drive/MyDrive/AyushVision/yolo/final/test/images/IMG20240608170557_jpg.rf.22b1f689d5e934bf76afa32c7142dfcc.jpg: 640x640 1 Lemon_grass, 7.5ms\n",
            "image 652/963 /content/drive/MyDrive/AyushVision/yolo/final/test/images/IMG20240608170603_jpg.rf.5bad19545f9b68e3a37a357c55669b49.jpg: 640x640 1 Lemon_grass, 7.4ms\n",
            "image 653/963 /content/drive/MyDrive/AyushVision/yolo/final/test/images/IMG20240608170633_jpg.rf.c3cbe57e33dae4c21ac38ca9116d8532.jpg: 640x640 1 Lemon_grass, 7.5ms\n",
            "image 654/963 /content/drive/MyDrive/AyushVision/yolo/final/test/images/IMG20240608170643_jpg.rf.b37c98dfcefee2298a624243edfe8dc3.jpg: 640x640 1 Lemon_grass, 7.5ms\n",
            "image 655/963 /content/drive/MyDrive/AyushVision/yolo/final/test/images/IMG20240608170746_jpg.rf.95314ad44a6ec899542d7fdcdda786fb.jpg: 640x640 1 Lemon_grass, 7.4ms\n",
            "image 656/963 /content/drive/MyDrive/AyushVision/yolo/final/test/images/IMG20240608170911_jpg.rf.d86ec4d101aa4153e8640e8bfd96d252.jpg: 640x640 1 Lemon_grass, 7.4ms\n",
            "image 657/963 /content/drive/MyDrive/AyushVision/yolo/final/test/images/IMG20240608170912_jpg.rf.8fdb8ef7cd0113d4736e33992d95a66c.jpg: 640x640 1 Lemon_grass, 7.5ms\n",
            "image 658/963 /content/drive/MyDrive/AyushVision/yolo/final/test/images/IMG20240608170923_jpg.rf.4652744010686f206ff7cd636e51eb07.jpg: 640x640 1 Lemon_grass, 7.5ms\n",
            "image 659/963 /content/drive/MyDrive/AyushVision/yolo/final/test/images/IMG20240608170941_jpg.rf.ae5a44c35f441343f7e9710730eca439.jpg: 640x640 1 Lemon_grass, 7.4ms\n",
            "image 660/963 /content/drive/MyDrive/AyushVision/yolo/final/test/images/IMG20240608171009_jpg.rf.0228b1091cc94941f2fb2fce13ba3501.jpg: 640x640 1 Lemon_grass, 7.4ms\n",
            "image 661/963 /content/drive/MyDrive/AyushVision/yolo/final/test/images/IMG20240609175418_jpg.rf.ab82d9115ccfc8d93471e2fbc32574c3.jpg: 640x640 1 Hibiscus, 7.5ms\n",
            "image 662/963 /content/drive/MyDrive/AyushVision/yolo/final/test/images/IMG20240609175447_jpg.rf.cbcc6521e6084ef08480ee60770a54e5.jpg: 640x640 1 Landrina, 7.4ms\n",
            "image 663/963 /content/drive/MyDrive/AyushVision/yolo/final/test/images/IMG20240609175641_jpg.rf.dff8c2315947639e13e917954c8df514.jpg: 640x640 1 Hibiscus, 7.5ms\n",
            "image 664/963 /content/drive/MyDrive/AyushVision/yolo/final/test/images/IMG20240609175646_jpg.rf.aafb9f536cf5568125bdec6035129e1e.jpg: 640x640 1 Hibiscus, 7.5ms\n",
            "image 665/963 /content/drive/MyDrive/AyushVision/yolo/final/test/images/IMG20240609175805_jpg.rf.d60a31a4c298a90ca4df90abcf04736b.jpg: 640x640 1 Hibiscus, 7.4ms\n",
            "image 666/963 /content/drive/MyDrive/AyushVision/yolo/final/test/images/IMG20240609175838_jpg.rf.4448a7fa49883a8a227b9f4bcfabf346.jpg: 640x640 1 Hibiscus, 7.5ms\n",
            "image 667/963 /content/drive/MyDrive/AyushVision/yolo/final/test/images/IMG20240609175922_jpg.rf.937af851a03e0c2f78e9020b7e5c1ad8.jpg: 640x640 1 Hibiscus, 1 Cinnamon, 7.5ms\n",
            "image 668/963 /content/drive/MyDrive/AyushVision/yolo/final/test/images/IMG20240609175937_jpg.rf.47022588b0e8448d337aae70d5872e84.jpg: 640x640 1 Hibiscus, 7.4ms\n",
            "image 669/963 /content/drive/MyDrive/AyushVision/yolo/final/test/images/IMG20240609180100_jpg.rf.7cadba7754954cedd8391ffd4d10abcb.jpg: 640x640 1 Hibiscus, 7.4ms\n",
            "image 670/963 /content/drive/MyDrive/AyushVision/yolo/final/test/images/IMG20240609180115_jpg.rf.7c21b0fb3da1d5889bd31056df018adc.jpg: 640x640 1 Hibiscus, 7.5ms\n",
            "image 671/963 /content/drive/MyDrive/AyushVision/yolo/final/test/images/IMG20240610173304_jpg.rf.8133ef165c7e060f3bf0845da3e04909.jpg: 640x640 1 Vitexnegundo, 7.4ms\n",
            "image 672/963 /content/drive/MyDrive/AyushVision/yolo/final/test/images/IMG20240610173330_jpg.rf.456f498e917f0ab4e1bc18f03b9b4826.jpg: 640x640 1 Landrina, 7.4ms\n",
            "image 673/963 /content/drive/MyDrive/AyushVision/yolo/final/test/images/IMG20240610173406_jpg.rf.4c46419af444512b72fe7a8ae7e9eb7d.jpg: 640x640 1 Landrina, 7.4ms\n",
            "image 674/963 /content/drive/MyDrive/AyushVision/yolo/final/test/images/IMG20240610173440_jpg.rf.cc24b4bdd0435e02d405b6e39b8a9b98.jpg: 640x640 1 Landrina, 7.4ms\n",
            "image 675/963 /content/drive/MyDrive/AyushVision/yolo/final/test/images/IMG20240610173617_jpg.rf.f5d452c57f770591a577cffeb1c0ad24.jpg: 640x640 1 Acalyphaindica, 7.4ms\n",
            "image 676/963 /content/drive/MyDrive/AyushVision/yolo/final/test/images/IMG20240610173639_jpg.rf.0fe78c64ca239790d2eb669df0f8e0c7.jpg: 640x640 1 Landrina, 7.4ms\n",
            "image 677/963 /content/drive/MyDrive/AyushVision/yolo/final/test/images/IMG20240610173722_jpg.rf.a7a4f52b03b1cab290229e51f26fed4b.jpg: 640x640 1 Landrina, 7.4ms\n",
            "image 678/963 /content/drive/MyDrive/AyushVision/yolo/final/test/images/IMG20240610173920_jpg.rf.63e1aac2ae4b53854cfe2b9721bac40d.jpg: 640x640 1 Landrina, 7.4ms\n",
            "image 679/963 /content/drive/MyDrive/AyushVision/yolo/final/test/images/IMG20240610173929_jpg.rf.444d83bbeb4258b188d9d0a55d15bda7.jpg: 640x640 1 Landrina, 7.5ms\n",
            "image 680/963 /content/drive/MyDrive/AyushVision/yolo/final/test/images/IMG20240610173935_jpg.rf.ec6332a4ab691e69c01f700518f394b6.jpg: 640x640 1 Landrina, 1 Acalyphaindica, 7.4ms\n",
            "image 681/963 /content/drive/MyDrive/AyushVision/yolo/final/test/images/IMG20240610173939_jpg.rf.f54937602579bdb2210d6fae40575182.jpg: 640x640 (no detections), 7.4ms\n",
            "image 682/963 /content/drive/MyDrive/AyushVision/yolo/final/test/images/IMG20240610173941_jpg.rf.af583d0773812e0b516aeb31ff72c538.jpg: 640x640 (no detections), 7.4ms\n",
            "image 683/963 /content/drive/MyDrive/AyushVision/yolo/final/test/images/IMG20240610173949_jpg.rf.82086d47149496a93189777c4fb9a786.jpg: 640x640 1 Landrina, 7.4ms\n",
            "image 684/963 /content/drive/MyDrive/AyushVision/yolo/final/test/images/IMG20240610173956_jpg.rf.84a8398888ff948526574a6f23db05c6.jpg: 640x640 1 Landrina, 7.4ms\n",
            "image 685/963 /content/drive/MyDrive/AyushVision/yolo/final/test/images/IMG20240610174012_jpg.rf.82b66e5705ad03a778e847477ecbfed9.jpg: 640x640 1 Acalyphaindica, 7.4ms\n",
            "image 686/963 /content/drive/MyDrive/AyushVision/yolo/final/test/images/IMG20240610174107_jpg.rf.0015c55504a705d37a665477a092d211.jpg: 640x640 (no detections), 7.4ms\n",
            "image 687/963 /content/drive/MyDrive/AyushVision/yolo/final/test/images/IMG20240610174111_jpg.rf.de571118984d5c1aa7b0035f41de154c.jpg: 640x640 1 Landrina, 7.4ms\n",
            "image 688/963 /content/drive/MyDrive/AyushVision/yolo/final/test/images/IMG20240610174127_jpg.rf.4184b687704cdb88af77ac2b54502e44.jpg: 640x640 1 Acalyphaindica, 7.4ms\n",
            "image 689/963 /content/drive/MyDrive/AyushVision/yolo/final/test/images/IMG20240610174129_jpg.rf.672ae9f2678c92085b37843ca815ee58.jpg: 640x640 (no detections), 7.4ms\n",
            "image 690/963 /content/drive/MyDrive/AyushVision/yolo/final/test/images/IMG20240610174248_jpg.rf.5bb5dad13f206f62329ea5e5c061d2bd.jpg: 640x640 1 Landrina, 7.4ms\n",
            "image 691/963 /content/drive/MyDrive/AyushVision/yolo/final/test/images/IMG20240610174305_jpg.rf.ac05b3368da437d0ef5d85f50f99a4a5.jpg: 640x640 1 Landrina, 7.4ms\n",
            "image 692/963 /content/drive/MyDrive/AyushVision/yolo/final/test/images/IMG20240610174312_jpg.rf.9e98d58fc7a7637fdfbb8cff2113d65b.jpg: 640x640 (no detections), 7.4ms\n",
            "image 693/963 /content/drive/MyDrive/AyushVision/yolo/final/test/images/IMG20240610174315_jpg.rf.70c10124113a0387df0ef4601433ee78.jpg: 640x640 1 Landrina, 7.4ms\n",
            "image 694/963 /content/drive/MyDrive/AyushVision/yolo/final/test/images/IMG20240610174326_jpg.rf.50cedce9ff839b46f44df7aab6074d39.jpg: 640x640 1 Landrina, 7.4ms\n",
            "image 695/963 /content/drive/MyDrive/AyushVision/yolo/final/test/images/IMG20240610174353_jpg.rf.bbd88d5b2fe4a968fa7304b184a5680d.jpg: 640x640 1 Landrina, 7.4ms\n",
            "image 696/963 /content/drive/MyDrive/AyushVision/yolo/final/test/images/IMG20240610174355_jpg.rf.8a110daf783953d6913422af3de05f60.jpg: 640x640 (no detections), 7.5ms\n",
            "image 697/963 /content/drive/MyDrive/AyushVision/yolo/final/test/images/IMG20240610174357_jpg.rf.d1f8f856b5997fc424ee3cee01bc1234.jpg: 640x640 1 Landrina, 7.4ms\n",
            "image 698/963 /content/drive/MyDrive/AyushVision/yolo/final/test/images/IMG20240610174436_jpg.rf.738f374887933074b5dc5fa724e00171.jpg: 640x640 3 Landrinas, 7.4ms\n",
            "image 699/963 /content/drive/MyDrive/AyushVision/yolo/final/test/images/IMG20240610174501_jpg.rf.90c261157645e4128ba339c4cf7f391a.jpg: 640x640 1 Landrina, 7.5ms\n",
            "image 700/963 /content/drive/MyDrive/AyushVision/yolo/final/test/images/IMG20240610174521_jpg.rf.ccd8000761d11c57c859eb73cef40b6e.jpg: 640x640 1 Landrina, 7.4ms\n",
            "image 701/963 /content/drive/MyDrive/AyushVision/yolo/final/test/images/IMG20240615091749_jpg.rf.e0eef5c31d472b426d4ab2806805bafe.jpg: 640x640 1 Neem, 7.5ms\n",
            "image 702/963 /content/drive/MyDrive/AyushVision/yolo/final/test/images/IMG20240615091755_jpg.rf.0f602d1e545029ceaf480ad0755da46b.jpg: 640x640 1 Hibiscus, 7.5ms\n",
            "image 703/963 /content/drive/MyDrive/AyushVision/yolo/final/test/images/IMG20240615091819_jpg.rf.94ecaaf8521546584c27c6ac7d0e2825.jpg: 640x640 1 Hibiscus, 7.4ms\n",
            "image 704/963 /content/drive/MyDrive/AyushVision/yolo/final/test/images/IMG20240615091821_jpg.rf.303ce874f1dac51de4c873491a3438ae.jpg: 640x640 1 Hibiscus, 7.4ms\n",
            "image 705/963 /content/drive/MyDrive/AyushVision/yolo/final/test/images/IMG20240615091834_jpg.rf.6d57cceebc3d6ac4d9bc3f45ea52eb0d.jpg: 640x640 1 Hibiscus, 7.5ms\n",
            "image 706/963 /content/drive/MyDrive/AyushVision/yolo/final/test/images/IMG20240615091854_jpg.rf.8b62984ac1545f04793db528226eb21f.jpg: 640x640 1 Hibiscus, 7.5ms\n",
            "image 707/963 /content/drive/MyDrive/AyushVision/yolo/final/test/images/IMG20240615092031_jpg.rf.f45c17a8fcc9119fd7ca106649ab6be9.jpg: 640x640 1 Hibiscus, 7.4ms\n",
            "image 708/963 /content/drive/MyDrive/AyushVision/yolo/final/test/images/IMG20240615173611_jpg.rf.51f14076611f953e33e2d98189607162.jpg: 640x640 1 Hibiscus, 7.4ms\n",
            "image 709/963 /content/drive/MyDrive/AyushVision/yolo/final/test/images/IMG20240615173614_jpg.rf.2609ad4c84ccd9209d0530cf692f8408.jpg: 640x640 1 Hibiscus, 7.4ms\n",
            "image 710/963 /content/drive/MyDrive/AyushVision/yolo/final/test/images/IMG20240615173619_jpg.rf.6c80e8ea649f28d53ae4bc7df9635ab6.jpg: 640x640 (no detections), 7.4ms\n",
            "image 711/963 /content/drive/MyDrive/AyushVision/yolo/final/test/images/IMG20240615173628_jpg.rf.3d5a8d4e87180961bd796e148426f7cb.jpg: 640x640 1 Hibiscus, 7.4ms\n",
            "image 712/963 /content/drive/MyDrive/AyushVision/yolo/final/test/images/IMG20240615180333_jpg.rf.39cf2bf66dc86fc3148193fd0a89ae8a.jpg: 640x640 1 Hibiscus, 7.4ms\n",
            "image 713/963 /content/drive/MyDrive/AyushVision/yolo/final/test/images/IMG20240622182147_jpg.rf.6d12d0cf921ddce6c9671a6c145f0803.jpg: 640x640 1 Lemon_grass, 7.5ms\n",
            "image 714/963 /content/drive/MyDrive/AyushVision/yolo/final/test/images/IMG20240622182157_jpg.rf.f031a947c6bc798e7313385bc1cbe8c2.jpg: 640x640 1 Lemon_grass, 7.4ms\n",
            "image 715/963 /content/drive/MyDrive/AyushVision/yolo/final/test/images/IMG20240622182406_jpg.rf.f33250160c905836f0b3c23b46e97204.jpg: 640x640 1 Lemon_grass, 7.4ms\n",
            "image 716/963 /content/drive/MyDrive/AyushVision/yolo/final/test/images/IMG20240622182411_jpg.rf.dee999c6fc0bfea23dfe76beb99d0f05.jpg: 640x640 1 Lemon_grass, 7.5ms\n",
            "image 717/963 /content/drive/MyDrive/AyushVision/yolo/final/test/images/IMG20240622182453_jpg.rf.73da405ab5eac7eafbaaebd8ae582f56.jpg: 640x640 1 Lemon_grass, 7.4ms\n",
            "image 718/963 /content/drive/MyDrive/AyushVision/yolo/final/test/images/IMG20240622182506_jpg.rf.2437fb2551af4fbe5ab80316612b09b7.jpg: 640x640 1 Lemon_grass, 7.5ms\n",
            "image 719/963 /content/drive/MyDrive/AyushVision/yolo/final/test/images/IMG20240622182633_jpg.rf.4e1fc20a095342ca88e19d29b70e577a.jpg: 640x640 1 Lemon_grass, 7.4ms\n",
            "image 720/963 /content/drive/MyDrive/AyushVision/yolo/final/test/images/IMG20240622182835_jpg.rf.189f8b0fe1a5d3e06749295ed80964e5.jpg: 640x640 1 Lemon_grass, 7.4ms\n",
            "image 721/963 /content/drive/MyDrive/AyushVision/yolo/final/test/images/IMG20240622182844_jpg.rf.ceafba2c6e93c7e2115b7904e18f5628.jpg: 640x640 1 Lemon_grass, 7.4ms\n",
            "image 722/963 /content/drive/MyDrive/AyushVision/yolo/final/test/images/IMG20240622183033_jpg.rf.8a52d904c34f5e45be4eb847dd39e225.jpg: 640x640 1 Lemon_grass, 7.4ms\n",
            "image 723/963 /content/drive/MyDrive/AyushVision/yolo/final/test/images/IMG20240622183131_jpg.rf.d936075a8edb9d460ee47971600e79bb.jpg: 640x640 1 Lemon_grass, 7.4ms\n",
            "image 724/963 /content/drive/MyDrive/AyushVision/yolo/final/test/images/IMG20240622183210_jpg.rf.905b7adf78f308e4b0439c4d6fed747e.jpg: 640x640 1 Lemon_grass, 7.4ms\n",
            "image 725/963 /content/drive/MyDrive/AyushVision/yolo/final/test/images/IMG20240622183235_jpg.rf.e0c0fdcb4fd240453f7de986a7097f08.jpg: 640x640 1 Lemon_grass, 7.4ms\n",
            "image 726/963 /content/drive/MyDrive/AyushVision/yolo/final/test/images/IMG20240622183441_jpg.rf.4378ae66d80bd09a6bae252810a0eda2.jpg: 640x640 1 Lemon_grass, 7.8ms\n",
            "image 727/963 /content/drive/MyDrive/AyushVision/yolo/final/test/images/IMG20240622183458_jpg.rf.d9d90995b4c0928ef824da4e4f4397aa.jpg: 640x640 1 Lemon_grass, 7.4ms\n",
            "image 728/963 /content/drive/MyDrive/AyushVision/yolo/final/test/images/IMG20240622183508_jpg.rf.14433a8969755e70809f9a5f9bf6ef3c.jpg: 640x640 1 Lemon_grass, 7.5ms\n",
            "image 729/963 /content/drive/MyDrive/AyushVision/yolo/final/test/images/IMG20240622183549_jpg.rf.5e71fc017a09041f4de6f64d19eb7bea.jpg: 640x640 1 Lemon_grass, 7.4ms\n",
            "image 730/963 /content/drive/MyDrive/AyushVision/yolo/final/test/images/IMG20240625173845_jpg.rf.76f4d5876baa569e37189c0c1cd2869f.jpg: 640x640 1 Cinnamon, 7.4ms\n",
            "image 731/963 /content/drive/MyDrive/AyushVision/yolo/final/test/images/IMG20240625173855_jpg.rf.72ad1ecde3d8bc1282deb2f4a89ed905.jpg: 640x640 1 Black_honey_shrub, 7.5ms\n",
            "image 732/963 /content/drive/MyDrive/AyushVision/yolo/final/test/images/IMG20240625174016_jpg.rf.ce47b1e113e77db5a1500bfb2c93e93d.jpg: 640x640 1 Hibiscus, 7.4ms\n",
            "image 733/963 /content/drive/MyDrive/AyushVision/yolo/final/test/images/IMG20240625174101_jpg.rf.d2864bd1f6e3c45f547214b4a75eb3fe.jpg: 640x640 1 Black_honey_shrub, 7.4ms\n",
            "image 734/963 /content/drive/MyDrive/AyushVision/yolo/final/test/images/IMG20240625174341_jpg.rf.675a28db45b37d3cd36ff8d1910d2bb6.jpg: 640x640 1 Black_honey_shrub, 7.4ms\n",
            "image 735/963 /content/drive/MyDrive/AyushVision/yolo/final/test/images/IMG20240625174342_jpg.rf.31be05fcb7e88850050896c2cda969e2.jpg: 640x640 1 Black_honey_shrub, 7.4ms\n",
            "image 736/963 /content/drive/MyDrive/AyushVision/yolo/final/test/images/IMG20240626105829_jpg.rf.af84011009b130fd1163605dc63c9d8b.jpg: 640x640 1 Hibiscus, 7.4ms\n",
            "image 737/963 /content/drive/MyDrive/AyushVision/yolo/final/test/images/IMG20240626105838_jpg.rf.7db8ca99c3d3f12a1162555ad4be63a8.jpg: 640x640 1 Hibiscus, 7.8ms\n",
            "image 738/963 /content/drive/MyDrive/AyushVision/yolo/final/test/images/IMG20240626105947_jpg.rf.3d25f2ecd40d02e206a2dd139b682a08.jpg: 640x640 1 Hibiscus, 7.5ms\n",
            "image 739/963 /content/drive/MyDrive/AyushVision/yolo/final/test/images/IMG20240626105957_jpg.rf.0ec73f7795b94c40ddd89e6c5e978dc4.jpg: 640x640 1 Hibiscus, 7.9ms\n",
            "image 740/963 /content/drive/MyDrive/AyushVision/yolo/final/test/images/IMG20240626110030_jpg.rf.71f2ad705f94d84f76c13631b3069e0c.jpg: 640x640 1 Hibiscus, 7.4ms\n",
            "image 741/963 /content/drive/MyDrive/AyushVision/yolo/final/test/images/IMG20240626110058_jpg.rf.fcbc862733afe4724e359d1a91417c70.jpg: 640x640 1 Hibiscus, 7.8ms\n",
            "image 742/963 /content/drive/MyDrive/AyushVision/yolo/final/test/images/IMG20240626110635_jpg.rf.80cf8ea8d8089feb41fcc4f2c5ae215f.jpg: 640x640 1 Hibiscus, 9.7ms\n",
            "image 743/963 /content/drive/MyDrive/AyushVision/yolo/final/test/images/IMG20240626111400_jpg.rf.59ca4beb5ca8e85798d8e655bbc2076c.jpg: 640x640 1 Hibiscus, 7.4ms\n",
            "image 744/963 /content/drive/MyDrive/AyushVision/yolo/final/test/images/IMG20240709172944_jpg.rf.cf16ad6a6f8c0245f6ef73b535e87ba9.jpg: 640x640 1 Calotropis_gigantea, 7.5ms\n",
            "image 745/963 /content/drive/MyDrive/AyushVision/yolo/final/test/images/IMG20240709173050_jpg.rf.0d084516c05aceccd8e8a9b59dfd752d.jpg: 640x640 1 Calotropis_gigantea, 7.5ms\n",
            "image 746/963 /content/drive/MyDrive/AyushVision/yolo/final/test/images/IMG20240709173132_jpg.rf.dcd5a1254df318a566eb42633fb5e9fc.jpg: 640x640 1 Thornapple, 7.4ms\n",
            "image 747/963 /content/drive/MyDrive/AyushVision/yolo/final/test/images/IMG20240709173436_jpg.rf.c05b4d746337d20d7f8c814d06ebacab.jpg: 640x640 1 Cinnamon, 7.4ms\n",
            "image 748/963 /content/drive/MyDrive/AyushVision/yolo/final/test/images/IMG20240709173817_jpg.rf.408e05befda9cf53a78b5db5cdf2d653.jpg: 640x640 3 Calotropis_giganteas, 7.5ms\n",
            "image 749/963 /content/drive/MyDrive/AyushVision/yolo/final/test/images/IMG20240709173828_jpg.rf.a4061f09f84d66fc781f2e0bc16ef0b3.jpg: 640x640 1 Vitexnegundo, 8.2ms\n",
            "image 750/963 /content/drive/MyDrive/AyushVision/yolo/final/test/images/IMG20240709173858_jpg.rf.3cde6bb94dacb4f21d147f1bf05c9e9b.jpg: 640x640 1 Calotropis_gigantea, 7.4ms\n",
            "image 751/963 /content/drive/MyDrive/AyushVision/yolo/final/test/images/IMG20240709173918_jpg.rf.03fe294b8c859d57b3bdd39bdc157c58.jpg: 640x640 1 Calotropis_gigantea, 7.6ms\n",
            "image 752/963 /content/drive/MyDrive/AyushVision/yolo/final/test/images/IMG20240709173928_jpg.rf.4ed2602e675aa904ceeabf4a9ecb563b.jpg: 640x640 1 Calotropis_gigantea, 7.4ms\n",
            "image 753/963 /content/drive/MyDrive/AyushVision/yolo/final/test/images/IMG_20231227_083628_jpg.rf.6454fce671dab1b0be538cc2c891d442.jpg: 640x640 1 Alovera, 7.4ms\n",
            "image 754/963 /content/drive/MyDrive/AyushVision/yolo/final/test/images/IMG_20231227_083719_jpg.rf.1f2a18b4d4f1d2d608ff8dbebe4f6428.jpg: 640x640 1 Caster, 7.4ms\n",
            "image 755/963 /content/drive/MyDrive/AyushVision/yolo/final/test/images/IMG_20231227_1100455_jpg.rf.33fcdeb8c1de4d608e441ec24489b3ce.jpg: 640x640 1 Alovera, 7.4ms\n",
            "image 756/963 /content/drive/MyDrive/AyushVision/yolo/final/test/images/IMG_20231227_112108_jpg.rf.16ac780730a5de8cc5f935cd4144d012.jpg: 640x640 1 Caster, 1 Ivy_gourd, 7.6ms\n",
            "image 757/963 /content/drive/MyDrive/AyushVision/yolo/final/test/images/IMG_20231228_093436_2_jpg.rf.e5ce22b541891573106e73c1487b008b.jpg: 640x640 1 Cinnamon, 7.4ms\n",
            "image 758/963 /content/drive/MyDrive/AyushVision/yolo/final/test/images/IMG_20231228_093507_1_jpg.rf.13b751583ec005ae3662366a71bd5e13.jpg: 640x640 1 Cinnamon, 7.5ms\n",
            "image 759/963 /content/drive/MyDrive/AyushVision/yolo/final/test/images/IMG_20231228_093508_jpg.rf.caeb517d1040ee531fd599ba8abdb86a.jpg: 640x640 1 Cinnamon, 7.4ms\n",
            "image 760/963 /content/drive/MyDrive/AyushVision/yolo/final/test/images/IMG_20231228_093615_jpg.rf.3f31568cc5740a0aa1e84ac63843860d.jpg: 640x640 1 Cinnamon, 7.4ms\n",
            "image 761/963 /content/drive/MyDrive/AyushVision/yolo/final/test/images/IMG_20231228_093631_jpg.rf.e7006e208e7d0bad5788c03ea146523f.jpg: 640x640 1 Cinnamon, 7.4ms\n",
            "image 762/963 /content/drive/MyDrive/AyushVision/yolo/final/test/images/IMG_20231228_093734_jpg.rf.9085229a8083566aca073169b3e2c4c6.jpg: 640x640 1 Cinnamon, 7.4ms\n",
            "image 763/963 /content/drive/MyDrive/AyushVision/yolo/final/test/images/IMG_20231228_093748_jpg.rf.42e5911058a639492e158cf530d613f1.jpg: 640x640 1 Cinnamon, 1 Holybasil, 7.4ms\n",
            "image 764/963 /content/drive/MyDrive/AyushVision/yolo/final/test/images/IMG_20231228_094046_jpg.rf.b38660a083d01792499f4c863b6a7ca2.jpg: 640x640 1 Cinnamon, 7.4ms\n",
            "image 765/963 /content/drive/MyDrive/AyushVision/yolo/final/test/images/IMG_20231228_094052_jpg.rf.ca71677ef0e931566d0f37223561a5b0.jpg: 640x640 1 Cinnamon, 7.4ms\n",
            "image 766/963 /content/drive/MyDrive/AyushVision/yolo/final/test/images/IMG_20231228_094109_jpg.rf.6f40f680b6543ea4b788409bb547956d.jpg: 640x640 1 Cinnamon, 7.5ms\n",
            "image 767/963 /content/drive/MyDrive/AyushVision/yolo/final/test/images/IMG_20231228_094358_jpg.rf.35701b3aae934f39a071da2291d9c967.jpg: 640x640 1 Cinnamon, 7.4ms\n",
            "image 768/963 /content/drive/MyDrive/AyushVision/yolo/final/test/images/IMG_20231228_094411_jpg.rf.fe1aed3e135700c7392030c1e6d57f7a.jpg: 640x640 1 Cinnamon, 7.5ms\n",
            "image 769/963 /content/drive/MyDrive/AyushVision/yolo/final/test/images/IMG_20231228_094416_jpg.rf.c5170800aaff9a738e7aaa8b9ff3c861.jpg: 640x640 1 Adamant_Creeper, 1 Cinnamon, 7.5ms\n",
            "image 770/963 /content/drive/MyDrive/AyushVision/yolo/final/test/images/IMG_20231228_094546_jpg.rf.df68b09b211cbe8215723c658dbd0b7a.jpg: 640x640 1 Caster, 7.5ms\n",
            "image 771/963 /content/drive/MyDrive/AyushVision/yolo/final/test/images/IMG_20231228_094553_jpg.rf.dd979ac6c75bce5840f12685606dff2c.jpg: 640x640 1 Caster, 7.5ms\n",
            "image 772/963 /content/drive/MyDrive/AyushVision/yolo/final/test/images/IMG_20231228_094559_jpg.rf.584baa0031ff2c1e4740979458d0f6ac.jpg: 640x640 1 Caster, 7.5ms\n",
            "image 773/963 /content/drive/MyDrive/AyushVision/yolo/final/test/images/IMG_20231228_095606_1_jpg.rf.ff627da30886e03aaff2ae716d53eef1.jpg: 640x640 1 Alovera, 8.0ms\n",
            "image 774/963 /content/drive/MyDrive/AyushVision/yolo/final/test/images/IMG_20231228_095606_jpg.rf.3e68da573d90e0abacecfedd2456a464.jpg: 640x640 1 Alovera, 7.4ms\n",
            "image 775/963 /content/drive/MyDrive/AyushVision/yolo/final/test/images/IMG_20231228_102010_1_jpg.rf.2646c5a634b5873b98e841a714d389b0.jpg: 640x640 (no detections), 8.5ms\n",
            "image 776/963 /content/drive/MyDrive/AyushVision/yolo/final/test/images/IMG_20231228_112058_1_jpg.rf.ee7effbdcb95b9059f50670b05f8be05.jpg: 640x640 1 Adamant_Creeper, 7.5ms\n",
            "image 777/963 /content/drive/MyDrive/AyushVision/yolo/final/test/images/IMG_20231228_112101_jpg.rf.4d786230904fe626a0311a43781215cb.jpg: 640x640 1 Adamant_Creeper, 7.4ms\n",
            "image 778/963 /content/drive/MyDrive/AyushVision/yolo/final/test/images/IMG_20231228_112105_jpg.rf.153fe4c1520d6348435339d06126a465.jpg: 640x640 1 Adamant_Creeper, 7.5ms\n",
            "image 779/963 /content/drive/MyDrive/AyushVision/yolo/final/test/images/IMG_20231228_112107_jpg.rf.9e6d77101bdb44acee08076baaebe59b.jpg: 640x640 1 Adamant_Creeper, 7.5ms\n",
            "image 780/963 /content/drive/MyDrive/AyushVision/yolo/final/test/images/IMG_20231228_112110_1_jpg.rf.34f8b47a37982f15e2cc64aafe2610f7.jpg: 640x640 1 Adamant_Creeper, 7.4ms\n",
            "image 781/963 /content/drive/MyDrive/AyushVision/yolo/final/test/images/IMG_20231228_112150_12_jpg.rf.e1a1f34d00c42620028c76cd166f62a6.jpg: 640x640 (no detections), 8.0ms\n",
            "image 782/963 /content/drive/MyDrive/AyushVision/yolo/final/test/images/IMG_20231228_112154_1_jpg.rf.643b1abd25b7903827025c7f8d9a9df8.jpg: 640x640 1 Adamant_Creeper, 7.4ms\n",
            "image 783/963 /content/drive/MyDrive/AyushVision/yolo/final/test/images/IMG_20231229_100855_jpg.rf.181df6c68032a12a343bbfb7395fbde7.jpg: 640x640 1 Lemon_grass, 7.4ms\n",
            "image 784/963 /content/drive/MyDrive/AyushVision/yolo/final/test/images/IMG_20231229_100915_jpg.rf.06db54f8c92d50c5e641f0f9e0767fd8.jpg: 640x640 1 Lemon_grass, 7.4ms\n",
            "image 785/963 /content/drive/MyDrive/AyushVision/yolo/final/test/images/IMG_20231229_100927_jpg.rf.e932387bf188d25a74057dbb5623726b.jpg: 640x640 1 Lemon_grass, 7.4ms\n",
            "image 786/963 /content/drive/MyDrive/AyushVision/yolo/final/test/images/IMG_20231229_100929_1_jpg.rf.65f1ad1a871f0a03356c7f6e6617ac2c.jpg: 640x640 1 Lemon_grass, 7.4ms\n",
            "image 787/963 /content/drive/MyDrive/AyushVision/yolo/final/test/images/IMG_20231229_100929_2_jpg.rf.746e1ae9e56ce4c419ffc0973aca5f52.jpg: 640x640 1 Lemon_grass, 7.4ms\n",
            "image 788/963 /content/drive/MyDrive/AyushVision/yolo/final/test/images/IMG_20231229_101049_jpg.rf.50eeafb5536b4efebf1c41e1764ef918.jpg: 640x640 1 Alovera, 7.5ms\n",
            "image 789/963 /content/drive/MyDrive/AyushVision/yolo/final/test/images/IMG_20231229_101140_jpg.rf.8f1a45bf5b86e54bfe2f58bd67fd8a91.jpg: 640x640 1 Lemon_grass, 7.4ms\n",
            "image 790/963 /content/drive/MyDrive/AyushVision/yolo/final/test/images/IMG_20231229_102137_jpg.rf.727e9ad0a671a06b3229534b674e5e44.jpg: 640x640 1 Lemon_grass, 7.5ms\n",
            "image 791/963 /content/drive/MyDrive/AyushVision/yolo/final/test/images/IMG_20231229_104352_jpg.rf.68f789c0b3a4c0606013e1be2096ed4f.jpg: 640x640 1 Indian_Mallow, 7.4ms\n",
            "image 792/963 /content/drive/MyDrive/AyushVision/yolo/final/test/images/IMG_20231229_1045422_jpg.rf.468f0a0e362726a722474d99880e4bdb.jpg: 640x640 1 Holybasil, 7.4ms\n",
            "image 793/963 /content/drive/MyDrive/AyushVision/yolo/final/test/images/IMG_20231229_104600_jpg.rf.6daac2b5f7a7d723c0ebc46259c7abb9.jpg: 640x640 1 Holybasil, 7.4ms\n",
            "image 794/963 /content/drive/MyDrive/AyushVision/yolo/final/test/images/IMG_20231229_104753_1_jpg.rf.a8a903bd22a509a0557807bf7cbf1b8e.jpg: 640x640 1 Holybasil, 7.4ms\n",
            "image 795/963 /content/drive/MyDrive/AyushVision/yolo/final/test/images/IMG_20231229_104911_1_jpg.rf.174ef638f4e3274490898552f0498d37.jpg: 640x640 1 Holybasil, 7.4ms\n",
            "image 796/963 /content/drive/MyDrive/AyushVision/yolo/final/test/images/IMG_20231229_105111_1_jpg.rf.8edde5f20db8399469a9d6213bc7a7d7.jpg: 640x640 1 Holybasil, 7.4ms\n",
            "image 797/963 /content/drive/MyDrive/AyushVision/yolo/final/test/images/IMG_20231229_105324_jpg.rf.bc7f2c19a67074a321fe49a5276f98c7.jpg: 640x640 (no detections), 7.4ms\n",
            "image 798/963 /content/drive/MyDrive/AyushVision/yolo/final/test/images/IMG_20231229_105447_3_jpg.rf.b42b327753f606752d2c5f773b011beb.jpg: 640x640 1 Holybasil, 7.4ms\n",
            "image 799/963 /content/drive/MyDrive/AyushVision/yolo/final/test/images/IMG_20231229_105452_jpg.rf.551521f90f0177811a4e49876f36be41.jpg: 640x640 1 Holybasil, 7.4ms\n",
            "image 800/963 /content/drive/MyDrive/AyushVision/yolo/final/test/images/IMG_20231229_105657_2_jpg.rf.5fe5959b1da46d7876cc77371ee239f9.jpg: 640x640 (no detections), 7.5ms\n",
            "image 801/963 /content/drive/MyDrive/AyushVision/yolo/final/test/images/IMG_20231229_105658_jpg.rf.74caa6929114893655ab37887b265b4c.jpg: 640x640 1 Holybasil, 7.5ms\n",
            "image 802/963 /content/drive/MyDrive/AyushVision/yolo/final/test/images/IMG_20231229_105702_1_jpg.rf.81692179ce62b0d88a2cc236641636a8.jpg: 640x640 1 Hibiscus, 1 Holybasil, 7.4ms\n",
            "image 803/963 /content/drive/MyDrive/AyushVision/yolo/final/test/images/IMG_20231229_105734_1_jpg.rf.f692e397316ad8438ff3aca5412ee7aa.jpg: 640x640 1 Holybasil, 7.4ms\n",
            "image 804/963 /content/drive/MyDrive/AyushVision/yolo/final/test/images/IMG_20231229_105754_jpg.rf.f88836721aeeb2735373fbc65605bbdc.jpg: 640x640 (no detections), 7.4ms\n",
            "image 805/963 /content/drive/MyDrive/AyushVision/yolo/final/test/images/IMG_20231230_170329_jpg.rf.dede19aa0c122b2587c3e95661c0b169.jpg: 640x640 1 Indian_Mallow, 7.4ms\n",
            "image 806/963 /content/drive/MyDrive/AyushVision/yolo/final/test/images/IMG_20231230_1703337_jpg.rf.642f40fcf7782034511a063dcf2c4155.jpg: 640x640 1 Indian_Mallow, 7.4ms\n",
            "image 807/963 /content/drive/MyDrive/AyushVision/yolo/final/test/images/IMG_20231230_170349_1_jpg.rf.f357bc9441b451fbc7c4e1930218e76f.jpg: 640x640 1 Indian_Mallow, 7.4ms\n",
            "image 808/963 /content/drive/MyDrive/AyushVision/yolo/final/test/images/IMG_20231230_170355_1_jpg.rf.e1abe1625cbcf8e4bc167b5f528e432b.jpg: 640x640 1 Indian_Mallow, 7.4ms\n",
            "image 809/963 /content/drive/MyDrive/AyushVision/yolo/final/test/images/IMG_20231230_170356_1_jpg.rf.0c1999f1b67c06cd4d06d0ca776902da.jpg: 640x640 1 Indian_Mallow, 7.4ms\n",
            "image 810/963 /content/drive/MyDrive/AyushVision/yolo/final/test/images/IMG_20231230_170418_jpg.rf.fb996602087a3a47f3aaf89602791ed9.jpg: 640x640 1 Indian_Mallow, 7.4ms\n",
            "image 811/963 /content/drive/MyDrive/AyushVision/yolo/final/test/images/IMG_20231230_170421_1_jpg.rf.f087ad44578982d04ee9e3b92922a6e4.jpg: 640x640 1 Indian_Mallow, 7.5ms\n",
            "image 812/963 /content/drive/MyDrive/AyushVision/yolo/final/test/images/IMG_20231230_170440_2_jpg.rf.d9907864e4047cb4bbeb071e2cd7e081.jpg: 640x640 1 Indian_Mallow, 7.4ms\n",
            "image 813/963 /content/drive/MyDrive/AyushVision/yolo/final/test/images/IMG_20231230_170826_jpg.rf.f9d75aef5eb0be0a60823b26e32e5051.jpg: 640x640 1 Indian_Mallow, 7.4ms\n",
            "image 814/963 /content/drive/MyDrive/AyushVision/yolo/final/test/images/IMG_20231230_170827_1_jpg.rf.284d45b42f4ba3b94bdcf09f3f7f4dec.jpg: 640x640 2 Indian_Mallows, 7.4ms\n",
            "image 815/963 /content/drive/MyDrive/AyushVision/yolo/final/test/images/IMG_20231230_170833_1_jpg.rf.f9ebda597d2348236811448eb4f83c87.jpg: 640x640 2 Indian_Mallows, 7.5ms\n",
            "image 816/963 /content/drive/MyDrive/AyushVision/yolo/final/test/images/IMG_20231230_170846_jpg.rf.4cd62545ae2b4c5f02e48d498fa5064b.jpg: 640x640 1 Indian_Mallow, 7.4ms\n",
            "image 817/963 /content/drive/MyDrive/AyushVision/yolo/final/test/images/IMG_20231230_170848_jpg.rf.77ac0275010ea5b6414cca42eb880af7.jpg: 640x640 1 Indian_Mallow, 7.4ms\n",
            "image 818/963 /content/drive/MyDrive/AyushVision/yolo/final/test/images/IMG_20231230_170852_1_jpg.rf.f0b02b0f31fc0d9aa56b59d48d16ac10.jpg: 640x640 1 Indian_Mallow, 7.5ms\n",
            "image 819/963 /content/drive/MyDrive/AyushVision/yolo/final/test/images/IMG_20231230_170853_2_jpg.rf.0ab0e0a19a605788337b274e2b5f7674.jpg: 640x640 1 Indian_Mallow, 7.6ms\n",
            "image 820/963 /content/drive/MyDrive/AyushVision/yolo/final/test/images/IMG_20231230_170904_1_jpg.rf.f5620b221d1fbbf6f9507306ff8c7f33.jpg: 640x640 1 Indian_Mallow, 7.5ms\n",
            "image 821/963 /content/drive/MyDrive/AyushVision/yolo/final/test/images/IMG_20231230_170904_3_jpg.rf.4c3a50c42e45ee37028f1a2d2e89b941.jpg: 640x640 1 Indian_Mallow, 8.4ms\n",
            "image 822/963 /content/drive/MyDrive/AyushVision/yolo/final/test/images/IMG_20231230_170923_jpg.rf.850bc76e70d2164be4ab01fa04da94f0.jpg: 640x640 2 Indian_Mallows, 7.4ms\n",
            "image 823/963 /content/drive/MyDrive/AyushVision/yolo/final/test/images/IMG_20231230_170931_1_jpg.rf.b25d95f2a9a38412846b2142a62d961b.jpg: 640x640 1 Indian_Mallow, 7.4ms\n",
            "image 824/963 /content/drive/MyDrive/AyushVision/yolo/final/test/images/IMG_20231230_170932_1_jpg.rf.9e007f6b024681dd9407b72b6d84a835.jpg: 640x640 1 Indian_Mallow, 7.5ms\n",
            "image 825/963 /content/drive/MyDrive/AyushVision/yolo/final/test/images/IMG_20231230_170946_1_jpg.rf.317a6b748a68ad9e3c3b239693816260.jpg: 640x640 1 Indian_Mallow, 7.4ms\n",
            "image 826/963 /content/drive/MyDrive/AyushVision/yolo/final/test/images/IMG_20231230_170950_4_jpg.rf.bac0c83be94310cea9eb3cb622c0948b.jpg: 640x640 1 Indian_Mallow, 7.4ms\n",
            "image 827/963 /content/drive/MyDrive/AyushVision/yolo/final/test/images/IMG_20231230_170950_jpg.rf.ff533d87096226b823feb9ebbec98077.jpg: 640x640 1 Indian_Mallow, 7.4ms\n",
            "image 828/963 /content/drive/MyDrive/AyushVision/yolo/final/test/images/IMG_20231230_170951_3_jpg.rf.09f1cff2c196ce124b0f358c6b7f0b50.jpg: 640x640 1 Indian_Mallow, 9.0ms\n",
            "image 829/963 /content/drive/MyDrive/AyushVision/yolo/final/test/images/IMG_20231230_171015_2_jpg.rf.67227cf7747cda5a745bcb295a1bd038.jpg: 640x640 1 Indian_Mallow, 8.8ms\n",
            "image 830/963 /content/drive/MyDrive/AyushVision/yolo/final/test/images/IMG_20231230_171319_4_jpg.rf.18252edfedf6b6474858839e59bf1544.jpg: 640x640 1 Indian_Mallow, 7.4ms\n",
            "image 831/963 /content/drive/MyDrive/AyushVision/yolo/final/test/images/IMG_20231230_171401_jpg.rf.e5a4f488a359ceeecf3069942990e349.jpg: 640x640 1 Indian_Mallow, 7.4ms\n",
            "image 832/963 /content/drive/MyDrive/AyushVision/yolo/final/test/images/IMG_20231230_171402_1_jpg.rf.07e9a4c603f6e0f9a8bdd6cfa2dc020c.jpg: 640x640 1 Indian_Mallow, 7.4ms\n",
            "image 833/963 /content/drive/MyDrive/AyushVision/yolo/final/test/images/IMG_20231230_171624_2_jpg.rf.3d8dd6a250962e9b98cc94520f0ca1db.jpg: 640x640 1 Indian_Mallow, 7.4ms\n",
            "image 834/963 /content/drive/MyDrive/AyushVision/yolo/final/test/images/IMG_20231230_171624_jpg.rf.aa33706357496c400a4b1b8d06aaee0a.jpg: 640x640 1 Indian_Mallow, 8.6ms\n",
            "image 835/963 /content/drive/MyDrive/AyushVision/yolo/final/test/images/IMG_20231230_171626_1_jpg.rf.e5be958eafe05a911f1b7b676bb3799d.jpg: 640x640 1 Indian_Mallow, 7.4ms\n",
            "image 836/963 /content/drive/MyDrive/AyushVision/yolo/final/test/images/IMG_20231230_171643_2_jpg.rf.d81101612ec98a792b22b0067dc99e52.jpg: 640x640 1 Indian_Mallow, 7.4ms\n",
            "image 837/963 /content/drive/MyDrive/AyushVision/yolo/final/test/images/IMG_20231230_171730_1_jpg.rf.ad524a0bc1c9caa05f3c4ce945d86389.jpg: 640x640 1 Indian_Mallow, 7.4ms\n",
            "image 838/963 /content/drive/MyDrive/AyushVision/yolo/final/test/images/IMG_20231230_171731_1_jpg.rf.b650e2bbc032c6772180934665a7ba9a.jpg: 640x640 1 Indian_Mallow, 8.8ms\n",
            "image 839/963 /content/drive/MyDrive/AyushVision/yolo/final/test/images/IMG_20231230_171731_2_jpg.rf.10fdbd255a06d53ae6d48f7eaecb60ef.jpg: 640x640 1 Indian_Mallow, 7.5ms\n",
            "image 840/963 /content/drive/MyDrive/AyushVision/yolo/final/test/images/IMG_20231230_171735_1_jpg.rf.f9fe2f6f61f57653a7f8fb574c3bceb8.jpg: 640x640 1 Indian_Mallow, 7.5ms\n",
            "image 841/963 /content/drive/MyDrive/AyushVision/yolo/final/test/images/IMG_20231230_171741_1_jpg.rf.142edaae27c39818727f69da73834851.jpg: 640x640 1 Indian_Mallow, 7.4ms\n",
            "image 842/963 /content/drive/MyDrive/AyushVision/yolo/final/test/images/IMG_20231230_171741_2_jpg.rf.a10780b14468f8e26cc64de07862a823.jpg: 640x640 1 Indian_Mallow, 8.2ms\n",
            "image 843/963 /content/drive/MyDrive/AyushVision/yolo/final/test/images/IMG_20231230_171749_jpg.rf.c8fb5fbc8cba3b6163249ef435c681fd.jpg: 640x640 1 Indian_Mallow, 7.4ms\n",
            "image 844/963 /content/drive/MyDrive/AyushVision/yolo/final/test/images/IMG_20231230_171750_jpg.rf.bd570c459e09288cdbab6ce7f84484f8.jpg: 640x640 1 Indian_Mallow, 7.4ms\n",
            "image 845/963 /content/drive/MyDrive/AyushVision/yolo/final/test/images/IMG_20231230_171759_2_jpg.rf.4ebddfc9235c421aea23aa7d0f48c982.jpg: 640x640 1 Indian_Mallow, 9.2ms\n",
            "image 846/963 /content/drive/MyDrive/AyushVision/yolo/final/test/images/IMG_20231230_171808_1_jpg.rf.21e0a5d3589f254a62e2fa1afc4405a4.jpg: 640x640 1 Indian_Mallow, 7.4ms\n",
            "image 847/963 /content/drive/MyDrive/AyushVision/yolo/final/test/images/IMG_20231230_171808_jpg.rf.51795bf7e10885fa819eb2ace89906be.jpg: 640x640 1 Indian_Mallow, 7.4ms\n",
            "image 848/963 /content/drive/MyDrive/AyushVision/yolo/final/test/images/IMG_20231230_171813_1_jpg.rf.dc9209564ee96009f01eccacbf377993.jpg: 640x640 1 Indian_Mallow, 7.5ms\n",
            "image 849/963 /content/drive/MyDrive/AyushVision/yolo/final/test/images/IMG_20231230_171838_2_jpg.rf.8212df4b9bed34f7091c8593cc676598.jpg: 640x640 1 Indian_Mallow, 7.4ms\n",
            "image 850/963 /content/drive/MyDrive/AyushVision/yolo/final/test/images/IMG_20231230_171839_jpg.rf.ec2653fbbc1216f810201d6a08784168.jpg: 640x640 1 Indian_Mallow, 7.4ms\n",
            "image 851/963 /content/drive/MyDrive/AyushVision/yolo/final/test/images/IMG_20231230_171840_1_jpg.rf.c6d7bfeac2ea56e149c7489bb042b550.jpg: 640x640 1 Acalyphaindica, 7.4ms\n",
            "image 852/963 /content/drive/MyDrive/AyushVision/yolo/final/test/images/IMG_20231230_171846_jpg.rf.5dac58630538d26339e8a7c36d992309.jpg: 640x640 1 Indian_Mallow, 1 Acalyphaindica, 7.5ms\n",
            "image 853/963 /content/drive/MyDrive/AyushVision/yolo/final/test/images/IMG_20231230_172125_2_jpg.rf.27acd0fbd6d49f7cb570b5fbdfbfd6eb.jpg: 640x640 1 Indian_Mallow, 7.4ms\n",
            "image 854/963 /content/drive/MyDrive/AyushVision/yolo/final/test/images/IMG_20231230_172125_jpg.rf.7424d5e3e0020945a538ee6f69a4c119.jpg: 640x640 1 Indian_Mallow, 7.4ms\n",
            "image 855/963 /content/drive/MyDrive/AyushVision/yolo/final/test/images/IMG_20231230_172126_1_jpg.rf.1bd603f8971e042f6c120e142082bd7d.jpg: 640x640 1 Indian_Mallow, 7.4ms\n",
            "image 856/963 /content/drive/MyDrive/AyushVision/yolo/final/test/images/IMG_20231230_172126_jpg.rf.18ee2c8bb9f4b5bc8a4a67d0af499a45.jpg: 640x640 1 Indian_Mallow, 7.4ms\n",
            "image 857/963 /content/drive/MyDrive/AyushVision/yolo/final/test/images/IMG_20231230_172259_2_jpg.rf.6a2b31b845398fab115d6d54ccc22645.jpg: 640x640 1 Holybasil, 7.5ms\n",
            "image 858/963 /content/drive/MyDrive/AyushVision/yolo/final/test/images/IMG_20231230_172314_jpg.rf.e29cf2d4efc467052fa2b83c30f68958.jpg: 640x640 1 Holybasil, 7.5ms\n",
            "image 859/963 /content/drive/MyDrive/AyushVision/yolo/final/test/images/IMG_20231230_172321_1_jpg.rf.2a9cb2b53221ad53c0b7d51488d1f568.jpg: 640x640 1 Holybasil, 7.7ms\n",
            "image 860/963 /content/drive/MyDrive/AyushVision/yolo/final/test/images/IMG_20231230_172321_3_jpg.rf.051eb2663c11a4db55c6dcd131bc448d.jpg: 640x640 1 Holybasil, 8.3ms\n",
            "image 861/963 /content/drive/MyDrive/AyushVision/yolo/final/test/images/IMG_20231230_172327_1_jpg.rf.f76e2c7e86b29776c60b571579a3144c.jpg: 640x640 1 Holybasil, 8.2ms\n",
            "image 862/963 /content/drive/MyDrive/AyushVision/yolo/final/test/images/IMG_20231230_172327_4_jpg.rf.2b616dcbe683473d8aeb4b199d400260.jpg: 640x640 1 Holybasil, 7.4ms\n",
            "image 863/963 /content/drive/MyDrive/AyushVision/yolo/final/test/images/IMG_20231230_172341_3_jpg.rf.a3b289c0ded4e101a35d3da9987ece74.jpg: 640x640 1 Holybasil, 7.5ms\n",
            "image 864/963 /content/drive/MyDrive/AyushVision/yolo/final/test/images/IMG_20231230_173232_jpg.rf.6a79f68a1fd1aba122bb8c3404ae15c3.jpg: 640x640 1 Ivy_gourd, 7.5ms\n",
            "image 865/963 /content/drive/MyDrive/AyushVision/yolo/final/test/images/IMG_20231230_173236_4_jpg.rf.9735fd8d6d1e0350575e415ca383bece.jpg: 640x640 1 Indian_Mallow, 7.5ms\n",
            "image 866/963 /content/drive/MyDrive/AyushVision/yolo/final/test/images/IMG_20231231_055933_jpg.rf.cd9213dd7a3750b8d17cfa23a623fdc8.jpg: 640x640 (no detections), 7.4ms\n",
            "image 867/963 /content/drive/MyDrive/AyushVision/yolo/final/test/images/IMG_20240106_102856_jpg.rf.34f8547e347512cbb00e1108c79bf706.jpg: 640x640 1 Adamant_Creeper, 7.4ms\n",
            "image 868/963 /content/drive/MyDrive/AyushVision/yolo/final/test/images/IMG_20240427_091939_jpg.rf.318e8d99a55bebd2acad5fa235855512.jpg: 640x640 1 Adamant_Creeper, 7.5ms\n",
            "image 869/963 /content/drive/MyDrive/AyushVision/yolo/final/test/images/IMG_20240427_091956_jpg.rf.e604db940c8d5cb8718463a25cb902d0.jpg: 640x640 1 Adamant_Creeper, 7.5ms\n",
            "image 870/963 /content/drive/MyDrive/AyushVision/yolo/final/test/images/IMG_20240427_091958_3_jpg.rf.a705a86cc1ab7a7c88492d0484e3e58e.jpg: 640x640 1 Adamant_Creeper, 7.5ms\n",
            "image 871/963 /content/drive/MyDrive/AyushVision/yolo/final/test/images/IMG_20240427_092023_jpg.rf.facfa9c04d1cd4d9916c9c319084807d.jpg: 640x640 1 Adamant_Creeper, 7.5ms\n",
            "image 872/963 /content/drive/MyDrive/AyushVision/yolo/final/test/images/IMG_20240427_092056_jpg.rf.d69ad95cac93f123a810502d4a26f37c.jpg: 640x640 1 Adamant_Creeper, 7.5ms\n",
            "image 873/963 /content/drive/MyDrive/AyushVision/yolo/final/test/images/IMG_20240427_092204_jpg.rf.696cd5ef28e6ba61a060a8e3a588977a.jpg: 640x640 1 Adamant_Creeper, 7.5ms\n",
            "image 874/963 /content/drive/MyDrive/AyushVision/yolo/final/test/images/IMG_20240427_092223_jpg.rf.fd356c44f395eb5ce79f064066769acf.jpg: 640x640 1 Adamant_Creeper, 7.4ms\n",
            "image 875/963 /content/drive/MyDrive/AyushVision/yolo/final/test/images/IMG_20240427_092312_jpg.rf.7cb5d04be20ac0ab1fbae89a4c04ee84.jpg: 640x640 1 Adamant_Creeper, 8.0ms\n",
            "image 876/963 /content/drive/MyDrive/AyushVision/yolo/final/test/images/IMG_20240427_092317_jpg.rf.5d27396affd94ff0a72f140ac40c7989.jpg: 640x640 1 Adamant_Creeper, 7.4ms\n",
            "image 877/963 /content/drive/MyDrive/AyushVision/yolo/final/test/images/IMG_20240427_092321_2_jpg.rf.1203a9f1ddbf81e391dff6a3f1541780.jpg: 640x640 1 Adamant_Creeper, 7.5ms\n",
            "image 878/963 /content/drive/MyDrive/AyushVision/yolo/final/test/images/IMG_20240427_092339_jpg.rf.4ee2fa92ab719f26b2a30b6e5b765704.jpg: 640x640 1 Adamant_Creeper, 7.5ms\n",
            "image 879/963 /content/drive/MyDrive/AyushVision/yolo/final/test/images/IMG_20240427_092351_jpg.rf.ab4b3a01e698935693a7d5206e1deda2.jpg: 640x640 1 Adamant_Creeper, 7.5ms\n",
            "image 880/963 /content/drive/MyDrive/AyushVision/yolo/final/test/images/IMG_20240427_092455_2_jpg.rf.13eb41f521f6d929cb35cc7951ce6fd0.jpg: 640x640 1 Adamant_Creeper, 8.6ms\n",
            "image 881/963 /content/drive/MyDrive/AyushVision/yolo/final/test/images/IMG_20240427_092458_jpg.rf.fc6fd756a11c906fb58adf29d9ac32b5.jpg: 640x640 1 Adamant_Creeper, 7.5ms\n",
            "image 882/963 /content/drive/MyDrive/AyushVision/yolo/final/test/images/IMG_20240427_104012_jpg.rf.f91f399c26cf8e5fd697cff1accfba0c.jpg: 640x640 1 Adamant_Creeper, 1 Cinnamon, 7.5ms\n",
            "image 883/963 /content/drive/MyDrive/AyushVision/yolo/final/test/images/IMG_20240427_104014_jpg.rf.86657a63e00c2cd7533e52cd4dc6f4c5.jpg: 640x640 1 Adamant_Creeper, 1 Cinnamon, 7.4ms\n",
            "image 884/963 /content/drive/MyDrive/AyushVision/yolo/final/test/images/IMG_20240427_104016_jpg.rf.ba4398d13ad9d08a4aef1e9dbdec322a.jpg: 640x640 1 Adamant_Creeper, 1 Cinnamon, 7.4ms\n",
            "image 885/963 /content/drive/MyDrive/AyushVision/yolo/final/test/images/IMG_20240427_104017_2_jpg.rf.d2031dce7fa2fc4d3fd6adf6088c13ea.jpg: 640x640 1 Adamant_Creeper, 7.5ms\n",
            "image 886/963 /content/drive/MyDrive/AyushVision/yolo/final/test/images/IMG_20240427_104018_1_jpg.rf.c636aecca24f04faf29205fe748a91a3.jpg: 640x640 1 Adamant_Creeper, 7.5ms\n",
            "image 887/963 /content/drive/MyDrive/AyushVision/yolo/final/test/images/IMG_20240502_201636_jpg.rf.0ece81717ccab6cd8208703e3208e3f8.jpg: 640x640 1 Acalyphaindica, 7.5ms\n",
            "image 888/963 /content/drive/MyDrive/AyushVision/yolo/final/test/images/IMG_20240502_201928_jpg.rf.e80942ca73f9c8946ef0a9f0e482abcf.jpg: 640x640 (no detections), 7.5ms\n",
            "image 889/963 /content/drive/MyDrive/AyushVision/yolo/final/test/images/IMG_20240505_093808_jpg.rf.30be4379fc9180ca8f8c3df08bf0cb06.jpg: 640x640 (no detections), 7.5ms\n",
            "image 890/963 /content/drive/MyDrive/AyushVision/yolo/final/test/images/IMG_20240505_093823_jpg.rf.fae7f0d6e21d450c67dfd36a993a0e48.jpg: 640x640 1 Indian_Mallow, 7.5ms\n",
            "image 891/963 /content/drive/MyDrive/AyushVision/yolo/final/test/images/IMG_20240505_093831_jpg.rf.f5fa419b841c68080d99958bbdbc1158.jpg: 640x640 (no detections), 7.8ms\n",
            "image 892/963 /content/drive/MyDrive/AyushVision/yolo/final/test/images/IMG_20240506_1004089_jpg.rf.cd4acf2a3fc373c67b44a345668a55d9.jpg: 640x640 (no detections), 8.1ms\n",
            "image 893/963 /content/drive/MyDrive/AyushVision/yolo/final/test/images/IMG_20240509_13270390_jpg.rf.a21cdce2ea9a8b4968c3cb7508a2274e.jpg: 640x640 (no detections), 7.4ms\n",
            "image 894/963 /content/drive/MyDrive/AyushVision/yolo/final/test/images/IMG_20240610_095511_jpg.rf.5f93d3f4a90a17ec6b327585592576a7.jpg: 640x640 1 Calotropis_gigantea, 1 Vitexnegundo, 7.4ms\n",
            "image 895/963 /content/drive/MyDrive/AyushVision/yolo/final/test/images/IMG_20240610_095916_jpg.rf.9fb283981a627894c5a5a1158af0af32.jpg: 640x640 2 Calotropis_giganteas, 7.4ms\n",
            "image 896/963 /content/drive/MyDrive/AyushVision/yolo/final/test/images/IMG_20240610_100122_jpg.rf.cd43769a1cab68ef44eb32b894cc9da5.jpg: 640x640 1 Calotropis_gigantea, 7.7ms\n",
            "image 897/963 /content/drive/MyDrive/AyushVision/yolo/final/test/images/IMG_20240610_100127_jpg.rf.b2c9796ab565d8a274203b5e58f0cd13.jpg: 640x640 1 Calotropis_gigantea, 7.5ms\n",
            "image 898/963 /content/drive/MyDrive/AyushVision/yolo/final/test/images/IMG_20240610_100153_1_jpg.rf.51fc20aedff93d68d9a5f9b5de5b9c34.jpg: 640x640 1 Calotropis_gigantea, 7.4ms\n",
            "image 899/963 /content/drive/MyDrive/AyushVision/yolo/final/test/images/IMG_20240615_181410_jpg.rf.a707fb89745faa75900ede8f9c0c5acd.jpg: 640x640 1 Hibiscus, 7.5ms\n",
            "image 900/963 /content/drive/MyDrive/AyushVision/yolo/final/test/images/IMG_20240615_181423_jpg.rf.742855721b298781e8381031b5bfaf14.jpg: 640x640 1 Hibiscus, 7.7ms\n",
            "image 901/963 /content/drive/MyDrive/AyushVision/yolo/final/test/images/IMG_20240615_181513_1_jpg.rf.36d89d677d92f311a94e892e2371d483.jpg: 640x640 1 Hibiscus, 1 Thornapple, 7.5ms\n",
            "image 902/963 /content/drive/MyDrive/AyushVision/yolo/final/test/images/IMG_20240615_181633_jpg.rf.d6b8c5e8e87796a606ba6d0f619f6a86.jpg: 640x640 1 Hibiscus, 7.5ms\n",
            "image 903/963 /content/drive/MyDrive/AyushVision/yolo/final/test/images/IMG_20240615_181634_jpg.rf.f6a435bb49003072a39470ea1593640e.jpg: 640x640 1 Hibiscus, 7.5ms\n",
            "image 904/963 /content/drive/MyDrive/AyushVision/yolo/final/test/images/IMG_20240615_181643_jpg.rf.7422e6ed333f8765542de99f1cf097a2.jpg: 640x640 1 Hibiscus, 1 Indian_Mallow, 7.5ms\n",
            "image 905/963 /content/drive/MyDrive/AyushVision/yolo/final/test/images/IMG_20240615_181722_jpg.rf.27de831a796df55de19055eb383bfa56.jpg: 640x640 1 Hibiscus, 7.5ms\n",
            "image 906/963 /content/drive/MyDrive/AyushVision/yolo/final/test/images/IMG_20240615_181801_jpg.rf.3d42d28fb0abfc566e0884d4cf85b1d6.jpg: 640x640 1 Hibiscus, 8.0ms\n",
            "image 907/963 /content/drive/MyDrive/AyushVision/yolo/final/test/images/IMG_20240616_170620_jpg.rf.c8857d73b525570f1579faeae38c9c7f.jpg: 640x640 1 Calotropis_gigantea, 7.5ms\n",
            "image 908/963 /content/drive/MyDrive/AyushVision/yolo/final/test/images/IMG_20240616_171106_jpg.rf.e5cd355d2c71b52deafab97c7a52df9a.jpg: 640x640 2 Calotropis_giganteas, 8.2ms\n",
            "image 909/963 /content/drive/MyDrive/AyushVision/yolo/final/test/images/IMG_20240616_171108_jpg.rf.08fa4fe655e9275571d4c227279ce024.jpg: 640x640 1 Calotropis_gigantea, 8.0ms\n",
            "image 910/963 /content/drive/MyDrive/AyushVision/yolo/final/test/images/IMG_20240616_171110_jpg.rf.90c02cf870007f8b9cb9bbf35ceb86a5.jpg: 640x640 1 Calotropis_gigantea, 7.5ms\n",
            "image 911/963 /content/drive/MyDrive/AyushVision/yolo/final/test/images/IMG_20240616_171136_1_jpg.rf.acd756e328d48c0d0eb72cddd6c6e072.jpg: 640x640 1 Calotropis_gigantea, 7.5ms\n",
            "image 912/963 /content/drive/MyDrive/AyushVision/yolo/final/test/images/IMG_20240616_175512_jpg.rf.973dd5242f40b4bc4545763c9bdc129c.jpg: 640x640 1 Calotropis_gigantea, 7.5ms\n",
            "image 913/963 /content/drive/MyDrive/AyushVision/yolo/final/test/images/IMG_20240616_175637_jpg.rf.632ad72ce99ccc4eb2b7b5f28747c7db.jpg: 640x640 2 Calotropis_giganteas, 7.5ms\n",
            "image 914/963 /content/drive/MyDrive/AyushVision/yolo/final/test/images/IMG_20240616_180358_jpg.rf.3d84baf2fd8071a710a0744aa1114931.jpg: 640x640 1 Calotropis_gigantea, 7.5ms\n",
            "image 915/963 /content/drive/MyDrive/AyushVision/yolo/final/test/images/IMG_20240616_180415_jpg.rf.9307fb7abb8892121e6d57cde9011753.jpg: 640x640 1 Calotropis_gigantea, 7.5ms\n",
            "image 916/963 /content/drive/MyDrive/AyushVision/yolo/final/test/images/IMG_20240616_180618_jpg.rf.9dae8d66861e060517939a41fd887862.jpg: 640x640 1 Calotropis_gigantea, 7.5ms\n",
            "image 917/963 /content/drive/MyDrive/AyushVision/yolo/final/test/images/IMG_20240616_180636_jpg.rf.5416df0e0c81a19fe86afa4915126d5d.jpg: 640x640 1 Calotropis_gigantea, 7.5ms\n",
            "image 918/963 /content/drive/MyDrive/AyushVision/yolo/final/test/images/IMG_20240616_180718_jpg.rf.f029ca9b755a0a56937d82d303b9a2b4.jpg: 640x640 1 Calotropis_gigantea, 7.5ms\n",
            "image 919/963 /content/drive/MyDrive/AyushVision/yolo/final/test/images/IMG_20240616_180723_jpg.rf.3ddb311bed608f03b3b59d40d2e27b84.jpg: 640x640 1 Calotropis_gigantea, 7.4ms\n",
            "image 920/963 /content/drive/MyDrive/AyushVision/yolo/final/test/images/IMG_20240714_171158_jpg.rf.88eb058989a86cbcb26f1dbbce9d5ab7.jpg: 640x640 1 Calotropis_gigantea, 7.4ms\n",
            "image 921/963 /content/drive/MyDrive/AyushVision/yolo/final/test/images/IMG_20240714_172017_jpg.rf.125ce216666531a962be76e04c811f56.jpg: 640x640 1 Calotropis_gigantea, 7.4ms\n",
            "image 922/963 /content/drive/MyDrive/AyushVision/yolo/final/test/images/IMG_20240714_172110_jpg.rf.068af54554afea3ad0b3bbf4190c148a.jpg: 640x640 1 Calotropis_gigantea, 7.4ms\n",
            "image 923/963 /content/drive/MyDrive/AyushVision/yolo/final/test/images/IMG_20240714_172141_jpg.rf.2abd4a698d3284d5060a5fa003bd940f.jpg: 640x640 1 Calotropis_gigantea, 7.5ms\n",
            "image 924/963 /content/drive/MyDrive/AyushVision/yolo/final/test/images/IMG_20240714_172144_jpg.rf.b231aa90fa499e3a9aa6e1ec082b61b4.jpg: 640x640 1 Calotropis_gigantea, 7.4ms\n",
            "image 925/963 /content/drive/MyDrive/AyushVision/yolo/final/test/images/IMG_20240714_172251_jpg.rf.cad3f3b79395a82904df617fb3af2244.jpg: 640x640 1 Calotropis_gigantea, 7.4ms\n",
            "image 926/963 /content/drive/MyDrive/AyushVision/yolo/final/test/images/IMG_20240714_172256_jpg.rf.f8b8e37d31c7c7bbf6ad7f701c591ce3.jpg: 640x640 1 Calotropis_gigantea, 7.5ms\n",
            "image 927/963 /content/drive/MyDrive/AyushVision/yolo/final/test/images/IMG_20240714_172258_jpg.rf.efd7adff7e93c9e01b10645229a047c4.jpg: 640x640 1 Calotropis_gigantea, 7.5ms\n",
            "image 928/963 /content/drive/MyDrive/AyushVision/yolo/final/test/images/IMG_20240714_172314_jpg.rf.fe3452615d67fd0f511cd28399926d7e.jpg: 640x640 2 Calotropis_giganteas, 7.5ms\n",
            "image 929/963 /content/drive/MyDrive/AyushVision/yolo/final/test/images/IMG_20240714_172318_jpg.rf.fe4013598cac4a12237046d9df94c046.jpg: 640x640 1 Calotropis_gigantea, 7.6ms\n",
            "image 930/963 /content/drive/MyDrive/AyushVision/yolo/final/test/images/IMG_20240714_172347_jpg.rf.8dc9924fc33bf7f286daa15e397ce505.jpg: 640x640 1 Calotropis_gigantea, 7.5ms\n",
            "image 931/963 /content/drive/MyDrive/AyushVision/yolo/final/test/images/IMG_20240714_172353_jpg.rf.a9d89048496f9aedb2e1e5b71313d393.jpg: 640x640 2 Calotropis_giganteas, 7.5ms\n",
            "image 932/963 /content/drive/MyDrive/AyushVision/yolo/final/test/images/IMG_20240714_172401_jpg.rf.a4e436b689ecca823efbb8cb021de6fb.jpg: 640x640 1 Calotropis_gigantea, 7.5ms\n",
            "image 933/963 /content/drive/MyDrive/AyushVision/yolo/final/test/images/IMG_20240714_172405_jpg.rf.e6b489fa2e28a38ea90ce2bac5acedd5.jpg: 640x640 1 Calotropis_gigantea, 7.5ms\n",
            "image 934/963 /content/drive/MyDrive/AyushVision/yolo/final/test/images/IMG_20240714_172414_jpg.rf.a6e707e0cdd5cc869dd180e91af3348f.jpg: 640x640 1 Calotropis_gigantea, 7.5ms\n",
            "image 935/963 /content/drive/MyDrive/AyushVision/yolo/final/test/images/IMG_20240714_172510_1_jpg.rf.ff89f6ed1483179be6a3d1af2d68878f.jpg: 640x640 1 Calotropis_gigantea, 7.4ms\n",
            "image 936/963 /content/drive/MyDrive/AyushVision/yolo/final/test/images/IMG_20240714_172515_jpg.rf.dfae9fb6344895f082f9e5e85950e5de.jpg: 640x640 1 Calotropis_gigantea, 7.5ms\n",
            "image 937/963 /content/drive/MyDrive/AyushVision/yolo/final/test/images/IMG_20240714_172739_jpg.rf.29fe336ceb6bff1f87df5df7d3c889ea.jpg: 640x640 1 Calotropis_gigantea, 8.3ms\n",
            "image 938/963 /content/drive/MyDrive/AyushVision/yolo/final/test/images/IMG_20240714_172748_jpg.rf.490ab85edc0fa3d3ff3da4845cc6340a.jpg: 640x640 1 Calotropis_gigantea, 7.8ms\n",
            "image 939/963 /content/drive/MyDrive/AyushVision/yolo/final/test/images/IMG_20240714_172751_1_jpg.rf.0c306841c02e7778b7fe96c0c05b021b.jpg: 640x640 (no detections), 7.5ms\n",
            "image 940/963 /content/drive/MyDrive/AyushVision/yolo/final/test/images/IMG_20240714_172830_jpg.rf.c18a61f2eaf45bce22120c501f912c38.jpg: 640x640 1 Calotropis_gigantea, 8.0ms\n",
            "image 941/963 /content/drive/MyDrive/AyushVision/yolo/final/test/images/IMG_20240714_172839_jpg.rf.b426cb71be4722ea359bfd9f5a4d81ec.jpg: 640x640 (no detections), 7.4ms\n",
            "image 942/963 /content/drive/MyDrive/AyushVision/yolo/final/test/images/IMG_20240714_172851_jpg.rf.a79c5b68d61156d92f64151fe5f157cd.jpg: 640x640 1 Calotropis_gigantea, 7.5ms\n",
            "image 943/963 /content/drive/MyDrive/AyushVision/yolo/final/test/images/IMG_20240714_172900_jpg.rf.11c8d984dad08976c1b6419fd7abe661.jpg: 640x640 1 Calotropis_gigantea, 7.5ms\n",
            "image 944/963 /content/drive/MyDrive/AyushVision/yolo/final/test/images/IMG_20240714_172926_jpg.rf.7e8ff5a4932ff9fbbd5f48d4334528b9.jpg: 640x640 1 Calotropis_gigantea, 7.5ms\n",
            "image 945/963 /content/drive/MyDrive/AyushVision/yolo/final/test/images/IMG_20240714_172935_jpg.rf.3f7c27b505792328d69a3cc06ae7f475.jpg: 640x640 1 Calotropis_gigantea, 8.7ms\n",
            "image 946/963 /content/drive/MyDrive/AyushVision/yolo/final/test/images/IMG_20240714_173900_jpg.rf.8c107f18068e7ee74cd83b2b87e4ab34.jpg: 640x640 1 Calotropis_gigantea, 7.5ms\n",
            "image 947/963 /content/drive/MyDrive/AyushVision/yolo/final/test/images/IMG_20240714_173917_jpg.rf.5b26808c7ebcc8a3e729ab59bcd212b9.jpg: 640x640 1 Calotropis_gigantea, 7.4ms\n",
            "image 948/963 /content/drive/MyDrive/AyushVision/yolo/final/test/images/IMG_20240714_173919_jpg.rf.54351c57f0b7739dcf9dc04620af041b.jpg: 640x640 2 Calotropis_giganteas, 7.5ms\n",
            "image 949/963 /content/drive/MyDrive/AyushVision/yolo/final/test/images/IMG_20240714_173943_jpg.rf.bdefbb1e53f74847b48103aa34ef8de7.jpg: 640x640 1 Calotropis_gigantea, 7.8ms\n",
            "image 950/963 /content/drive/MyDrive/AyushVision/yolo/final/test/images/IMG_20240714_174002_1_jpg.rf.886f48ac1204f9c4af96dc61e3db0d27.jpg: 640x640 1 Calotropis_gigantea, 7.4ms\n",
            "image 951/963 /content/drive/MyDrive/AyushVision/yolo/final/test/images/IMG_20240714_174010_jpg.rf.f798b04b1b2c8de8bc12063a2f7a2e08.jpg: 640x640 (no detections), 7.4ms\n",
            "image 952/963 /content/drive/MyDrive/AyushVision/yolo/final/test/images/IMG_20240714_174032_jpg.rf.dca9b8dae91ca28ac8a9b77f6c2906b5.jpg: 640x640 2 Calotropis_giganteas, 7.7ms\n",
            "image 953/963 /content/drive/MyDrive/AyushVision/yolo/final/test/images/IMG_20240723_090452_jpg.rf.81b35d1bd9d5764139c21fb6ce2f2cee.jpg: 640x640 1 Holybasil, 7.4ms\n",
            "image 954/963 /content/drive/MyDrive/AyushVision/yolo/final/test/images/IMG_20240723_090502_jpg.rf.017882378a676047b4dcd573df5f5384.jpg: 640x640 1 Holybasil, 7.5ms\n",
            "image 955/963 /content/drive/MyDrive/AyushVision/yolo/final/test/images/IMG_20240723_090539_jpg.rf.5bd90888635e7ec22d94fa8d98e12387.jpg: 640x640 3 Holybasils, 7.4ms\n",
            "image 956/963 /content/drive/MyDrive/AyushVision/yolo/final/test/images/IMG_20240723_090547_jpg.rf.b80654ba2c6276a4fcc6e6b22f830eb0.jpg: 640x640 2 Holybasils, 7.5ms\n",
            "image 957/963 /content/drive/MyDrive/AyushVision/yolo/final/test/images/IMG_20240723_090600_jpg.rf.1f570b4ccf288a73e51109fc39e39fed.jpg: 640x640 2 Holybasils, 7.5ms\n",
            "image 958/963 /content/drive/MyDrive/AyushVision/yolo/final/test/images/IMG_20240723_090611_jpg.rf.e0888c24092c10b3ce06a5154cc1e7a6.jpg: 640x640 2 Holybasils, 7.5ms\n",
            "image 959/963 /content/drive/MyDrive/AyushVision/yolo/final/test/images/IMG_20240723_090630_jpg.rf.ce6ed1bf4a54a4a7f004c8be200fe8f5.jpg: 640x640 1 Holybasil, 7.4ms\n",
            "image 960/963 /content/drive/MyDrive/AyushVision/yolo/final/test/images/IMG_20240723_090632_jpg.rf.b263db9b6417f8791420a85f600851b0.jpg: 640x640 1 Holybasil, 7.5ms\n",
            "image 961/963 /content/drive/MyDrive/AyushVision/yolo/final/test/images/IMG_20240723_090650_jpg.rf.b9ef7636042f7fe222488c11cfc03ccd.jpg: 640x640 1 Holybasil, 8.1ms\n",
            "image 962/963 /content/drive/MyDrive/AyushVision/yolo/final/test/images/WhatsApp-Image-2024-05-24-at-12-58-26_5ff16fcb_jpg.rf.04478e1650dcf63245026569af956805.jpg: 640x640 1 Holybasil, 7.4ms\n",
            "image 963/963 /content/drive/MyDrive/AyushVision/yolo/final/test/images/WhatsApp-Image-2024-05-24-at-12-58-55_f09ea0a7_jpg.rf.473f707e1c924c65a9b65e51fc1f575f.jpg: 640x640 1 Holybasil, 7.4ms\n",
            "Speed: 2.1ms preprocess, 7.5ms inference, 1.2ms postprocess per image at shape (1, 3, 640, 640)\n",
            "Results saved to \u001b[1mruns/detect/predict\u001b[0m\n"
          ]
        }
      ],
      "source": [
        "\n",
        "results=model.predict(source=f'/content/drive/MyDrive/AyushVision/yolo/final/test/images',save=True)"
      ]
    },
    {
      "cell_type": "code",
      "execution_count": 69,
      "metadata": {
        "id": "hB4kWph9xI05"
      },
      "outputs": [],
      "source": [
        "predicts=[]"
      ]
    },
    {
      "cell_type": "code",
      "source": [
        "for r in results:\n",
        "        boxes = r.boxes\n",
        "        masks = r.masks\n",
        "        probs = r.probs\n",
        "        print(f'Boxed image saved to {r.boxes}')\n",
        "        print(f'Mask image saved to {r.masks}')\n",
        "        print(f'Prob image saved to {r.probs}')\n",
        "        print(f'Image saved to {r.path}')"
      ],
      "metadata": {
        "id": "zCY_C_UhBTG5"
      },
      "execution_count": null,
      "outputs": []
    },
    {
      "cell_type": "code",
      "source": [
        "predict_dir=f'{project}/predict'"
      ],
      "metadata": {
        "id": "EWkEQQjmYmex"
      },
      "execution_count": 72,
      "outputs": []
    },
    {
      "cell_type": "code",
      "source": [
        "os.makedirs(predict_dir)"
      ],
      "metadata": {
        "id": "2IhVAzckYRr4"
      },
      "execution_count": 73,
      "outputs": []
    },
    {
      "cell_type": "code",
      "source": [
        "image_files = [f for f in os.listdir(results[0].save_dir) if f.endswith(('.png', '.jpg', '.jpeg', '.bmp', '.tiff'))]\n",
        "\n",
        "# Set the number of images per row\n",
        "images_per_row = 10\n",
        "\n",
        "# Calculate the number of rows needed\n",
        "n_rows = len(image_files) // images_per_row + int(len(image_files) % images_per_row > 0)\n",
        "\n",
        "# Create a figure with the necessary number of subplots\n",
        "fig, axs = plt.subplots(n_rows, images_per_row, figsize=(20, n_rows * 2))\n",
        "\n",
        "# Flatten the axes array for easy iteration (in case of multiple rows)\n",
        "axs = axs.flatten()\n",
        "\n",
        "# Loop through the images and plot them\n",
        "for i, img_file in enumerate(image_files):\n",
        "    # Open the image\n",
        "    img = Image.open(os.path.join(results[0].save_dir, img_file))\n",
        "\n",
        "    # Display the image in the grid\n",
        "    axs[i].imshow(img)\n",
        "\n",
        "    # Turn off the axis labels\n",
        "    axs[i].axis('off')\n",
        "\n",
        "    # Set the filename as the title (use `splitext` to remove the file extension)\n",
        "    axs[i].set_title(os.path.splitext(img_file)[0], fontsize=8)\n",
        "\n",
        "# Hide any remaining subplots (if the number of images is less than the number of subplots)\n",
        "for i in range(len(image_files), len(axs)):\n",
        "    axs[i].axis('off')\n",
        "\n",
        "# Adjust layout\n",
        "plt.tight_layout()\n",
        "plt.savefig(f'{predict_dir}/predict{epochs}.png')\n",
        "plt.show()"
      ],
      "metadata": {
        "id": "MIiGKLoF_F1g"
      },
      "execution_count": 70,
      "outputs": []
    },
    {
      "cell_type": "code",
      "source": [
        "for file in os.listdir(predict_dir)"
      ],
      "metadata": {
        "id": "x9MsJVqaYK6-"
      },
      "execution_count": null,
      "outputs": []
    },
    {
      "cell_type": "code",
      "execution_count": 71,
      "metadata": {
        "id": "_gWIS5rDx1Fd"
      },
      "outputs": [],
      "source": [
        "blob = bucket.blob(f\"{storageLocation}/predict/predict{epochs}.png\")\n",
        "blob.upload_from_filename(f'{project}/predict{epochs}.png')\n",
        "blob.make_public()"
      ]
    },
    {
      "cell_type": "code",
      "execution_count": 74,
      "metadata": {
        "id": "34-zsVB32uF8",
        "colab": {
          "base_uri": "https://localhost:8080/"
        },
        "outputId": "4bb49c51-1480-48d4-abc8-18e6c162584c"
      },
      "outputs": [
        {
          "output_type": "execute_result",
          "data": {
            "text/plain": [
              "(DatetimeWithNanoseconds(2024, 9, 17, 0, 33, 8, 188092, tzinfo=datetime.timezone.utc),\n",
              " <google.cloud.firestore_v1.document.DocumentReference at 0x7cf74c52bca0>)"
            ]
          },
          "metadata": {},
          "execution_count": 74
        }
      ],
      "source": [
        "today_ref.collection('Predict').add({\n",
        "    'files':blob.public_url\n",
        "})"
      ]
    },
    {
      "cell_type": "markdown",
      "metadata": {
        "id": "IQWY9Bqbn7Hq"
      },
      "source": [
        "### Export Model"
      ]
    },
    {
      "cell_type": "code",
      "execution_count": 75,
      "metadata": {
        "id": "YezH7LaIn7Hq",
        "outputId": "97c76151-dbf5-4b61-8f38-6b5116840969",
        "colab": {
          "base_uri": "https://localhost:8080/",
          "height": 854
        }
      },
      "outputs": [
        {
          "output_type": "stream",
          "name": "stdout",
          "text": [
            "Ultralytics YOLOv8.2.95 🚀 Python-3.10.12 torch-2.4.0+cu121 CPU (Intel Xeon 2.20GHz)\n",
            "\n",
            "\u001b[34m\u001b[1mPyTorch:\u001b[0m starting from '/content/drive/MyDrive/AyushVision/yolo/training/16_09_2024/192332/leaves/runs/train50/weights/best.pt' with input shape (1, 3, 640, 640) BCHW and output shape(s) (1, 36, 8400) (6.0 MB)\n",
            "\u001b[31m\u001b[1mrequirements:\u001b[0m Ultralytics requirements ['onnx>=1.12.0', 'onnxslim==0.1.34', 'onnxruntime-gpu'] not found, attempting AutoUpdate...\n",
            "Collecting onnx>=1.12.0\n",
            "  Downloading onnx-1.16.2-cp310-cp310-manylinux_2_17_x86_64.manylinux2014_x86_64.whl.metadata (16 kB)\n",
            "Collecting onnxslim==0.1.34\n",
            "  Downloading onnxslim-0.1.34-py3-none-any.whl.metadata (2.7 kB)\n",
            "Collecting onnxruntime-gpu\n",
            "  Downloading onnxruntime_gpu-1.19.2-cp310-cp310-manylinux_2_27_x86_64.manylinux_2_28_x86_64.whl.metadata (4.5 kB)\n",
            "Requirement already satisfied: sympy in /usr/local/lib/python3.10/dist-packages (from onnxslim==0.1.34) (1.13.2)\n",
            "Requirement already satisfied: packaging in /usr/local/lib/python3.10/dist-packages (from onnxslim==0.1.34) (24.1)\n",
            "Requirement already satisfied: numpy>=1.20 in /usr/local/lib/python3.10/dist-packages (from onnx>=1.12.0) (1.26.4)\n",
            "Requirement already satisfied: protobuf>=3.20.2 in /usr/local/lib/python3.10/dist-packages (from onnx>=1.12.0) (3.20.3)\n",
            "Collecting coloredlogs (from onnxruntime-gpu)\n",
            "  Downloading coloredlogs-15.0.1-py2.py3-none-any.whl.metadata (12 kB)\n",
            "Requirement already satisfied: flatbuffers in /usr/local/lib/python3.10/dist-packages (from onnxruntime-gpu) (24.3.25)\n",
            "Collecting humanfriendly>=9.1 (from coloredlogs->onnxruntime-gpu)\n",
            "  Downloading humanfriendly-10.0-py2.py3-none-any.whl.metadata (9.2 kB)\n",
            "Requirement already satisfied: mpmath<1.4,>=1.1.0 in /usr/local/lib/python3.10/dist-packages (from sympy->onnxslim==0.1.34) (1.3.0)\n",
            "Downloading onnxslim-0.1.34-py3-none-any.whl (140 kB)\n",
            "   ━━━━━━━━━━━━━━━━━━━━━━━━━━━━━━━━━━━━━━━━ 140.3/140.3 kB 5.7 MB/s eta 0:00:00\n",
            "Downloading onnx-1.16.2-cp310-cp310-manylinux_2_17_x86_64.manylinux2014_x86_64.whl (15.9 MB)\n",
            "   ━━━━━━━━━━━━━━━━━━━━━━━━━━━━━━━━━━━━━━━━ 15.9/15.9 MB 311.5 MB/s eta 0:00:00\n",
            "Downloading onnxruntime_gpu-1.19.2-cp310-cp310-manylinux_2_27_x86_64.manylinux_2_28_x86_64.whl (226.2 MB)\n",
            "   ━━━━━━━━━━━━━━━━━━━━━━━━━━━━━━━━━━━━━━━━ 226.2/226.2 MB 316.6 MB/s eta 0:00:00\n",
            "Downloading coloredlogs-15.0.1-py2.py3-none-any.whl (46 kB)\n",
            "   ━━━━━━━━━━━━━━━━━━━━━━━━━━━━━━━━━━━━━━━━ 46.0/46.0 kB 234.9 MB/s eta 0:00:00\n",
            "Downloading humanfriendly-10.0-py2.py3-none-any.whl (86 kB)\n",
            "   ━━━━━━━━━━━━━━━━━━━━━━━━━━━━━━━━━━━━━━━━ 86.8/86.8 kB 310.4 MB/s eta 0:00:00\n",
            "Installing collected packages: onnx, humanfriendly, onnxslim, coloredlogs, onnxruntime-gpu\n",
            "Successfully installed coloredlogs-15.0.1 humanfriendly-10.0 onnx-1.16.2 onnxruntime-gpu-1.19.2 onnxslim-0.1.34\n",
            "\n",
            "\u001b[31m\u001b[1mrequirements:\u001b[0m AutoUpdate success ✅ 14.7s, installed 3 packages: ['onnx>=1.12.0', 'onnxslim==0.1.34', 'onnxruntime-gpu']\n",
            "\u001b[31m\u001b[1mrequirements:\u001b[0m ⚠️ \u001b[1mRestart runtime or rerun command for updates to take effect\u001b[0m\n",
            "\n",
            "\n",
            "\u001b[34m\u001b[1mONNX:\u001b[0m starting export with onnx 1.16.2 opset 19...\n",
            "\u001b[34m\u001b[1mONNX:\u001b[0m slimming with onnxslim 0.1.34...\n",
            "\u001b[34m\u001b[1mONNX:\u001b[0m export success ✅ 31.6s, saved as '/content/drive/MyDrive/AyushVision/yolo/training/16_09_2024/192332/leaves/runs/train50/weights/best.onnx' (11.6 MB)\n",
            "\n",
            "Export complete (33.0s)\n",
            "Results saved to \u001b[1m/content/drive/MyDrive/AyushVision/yolo/training/16_09_2024/192332/leaves/runs/train50/weights\u001b[0m\n",
            "Predict:         yolo predict task=detect model=/content/drive/MyDrive/AyushVision/yolo/training/16_09_2024/192332/leaves/runs/train50/weights/best.onnx imgsz=640  \n",
            "Validate:        yolo val task=detect model=/content/drive/MyDrive/AyushVision/yolo/training/16_09_2024/192332/leaves/runs/train50/weights/best.onnx imgsz=640 data=/content/drive/MyDrive/AyushVision/yolo/final/data.yaml  \n",
            "Visualize:       https://netron.app\n"
          ]
        },
        {
          "output_type": "execute_result",
          "data": {
            "text/plain": [
              "'/content/drive/MyDrive/AyushVision/yolo/training/16_09_2024/192332/leaves/runs/train50/weights/best.onnx'"
            ],
            "application/vnd.google.colaboratory.intrinsic+json": {
              "type": "string"
            }
          },
          "metadata": {},
          "execution_count": 75
        }
      ],
      "source": [
        "format='onnx'\n",
        "model.export(format=format,keras=True,dynamic=True,simplify=True,)"
      ]
    },
    {
      "cell_type": "code",
      "source": [
        "model.export(format='saved_model',keras=True,simplify=True)"
      ],
      "metadata": {
        "colab": {
          "base_uri": "https://localhost:8080/",
          "height": 1000
        },
        "id": "G5nSuPKUPYHU",
        "outputId": "06f6d8eb-8b4f-4c29-b218-e6c4b1cef1eb"
      },
      "execution_count": 76,
      "outputs": [
        {
          "output_type": "stream",
          "name": "stdout",
          "text": [
            "Ultralytics YOLOv8.2.95 🚀 Python-3.10.12 torch-2.4.0+cu121 CPU (Intel Xeon 2.20GHz)\n",
            "\n",
            "\u001b[34m\u001b[1mPyTorch:\u001b[0m starting from '/content/drive/MyDrive/AyushVision/yolo/training/16_09_2024/192332/leaves/runs/train50/weights/best.pt' with input shape (1, 3, 640, 640) BCHW and output shape(s) (1, 36, 8400) (6.0 MB)\n",
            "\u001b[31m\u001b[1mrequirements:\u001b[0m Ultralytics requirements ['sng4onnx>=1.0.1', 'onnx_graphsurgeon>=0.3.26', 'onnx2tf>1.17.5,<=1.22.3', 'tflite_support'] not found, attempting AutoUpdate...\n",
            "Looking in indexes: https://pypi.org/simple, https://pypi.ngc.nvidia.com\n",
            "Collecting sng4onnx>=1.0.1\n",
            "  Downloading sng4onnx-1.0.4-py3-none-any.whl.metadata (4.6 kB)\n",
            "Collecting onnx_graphsurgeon>=0.3.26\n",
            "  Downloading onnx_graphsurgeon-0.5.2-py2.py3-none-any.whl.metadata (8.1 kB)\n",
            "Collecting onnx2tf<=1.22.3,>1.17.5\n",
            "  Downloading onnx2tf-1.22.3-py3-none-any.whl.metadata (136 kB)\n",
            "     ━━━━━━━━━━━━━━━━━━━━━━━━━━━━━━━━━━━━━━━━ 136.6/136.6 kB 5.1 MB/s eta 0:00:00\n",
            "Collecting tflite_support\n",
            "  Downloading tflite_support-0.4.4-cp310-cp310-manylinux2014_x86_64.whl.metadata (2.4 kB)\n",
            "Requirement already satisfied: numpy in /usr/local/lib/python3.10/dist-packages (from onnx_graphsurgeon>=0.3.26) (1.26.4)\n",
            "Requirement already satisfied: onnx>=1.14.0 in /usr/local/lib/python3.10/dist-packages (from onnx_graphsurgeon>=0.3.26) (1.16.2)\n",
            "Requirement already satisfied: absl-py>=0.7.0 in /usr/local/lib/python3.10/dist-packages (from tflite_support) (1.4.0)\n",
            "Requirement already satisfied: flatbuffers>=2.0 in /usr/local/lib/python3.10/dist-packages (from tflite_support) (24.3.25)\n",
            "Requirement already satisfied: protobuf<4,>=3.18.0 in /usr/local/lib/python3.10/dist-packages (from tflite_support) (3.20.3)\n",
            "Collecting sounddevice>=0.4.4 (from tflite_support)\n",
            "  Downloading sounddevice-0.5.0-py3-none-any.whl.metadata (1.4 kB)\n",
            "Collecting pybind11>=2.6.0 (from tflite_support)\n",
            "  Downloading pybind11-2.13.6-py3-none-any.whl.metadata (9.5 kB)\n",
            "Requirement already satisfied: CFFI>=1.0 in /usr/local/lib/python3.10/dist-packages (from sounddevice>=0.4.4->tflite_support) (1.17.1)\n",
            "Requirement already satisfied: pycparser in /usr/local/lib/python3.10/dist-packages (from CFFI>=1.0->sounddevice>=0.4.4->tflite_support) (2.22)\n",
            "Downloading sng4onnx-1.0.4-py3-none-any.whl (5.9 kB)\n",
            "Downloading onnx_graphsurgeon-0.5.2-py2.py3-none-any.whl (56 kB)\n",
            "   ━━━━━━━━━━━━━━━━━━━━━━━━━━━━━━━━━━━━━━━━ 56.4/56.4 kB 159.1 MB/s eta 0:00:00\n",
            "Downloading onnx2tf-1.22.3-py3-none-any.whl (435 kB)\n",
            "   ━━━━━━━━━━━━━━━━━━━━━━━━━━━━━━━━━━━━━━━━ 435.0/435.0 kB 24.2 MB/s eta 0:00:00\n",
            "Downloading tflite_support-0.4.4-cp310-cp310-manylinux2014_x86_64.whl (60.8 MB)\n",
            "   ━━━━━━━━━━━━━━━━━━━━━━━━━━━━━━━━━━━━━━━━ 60.8/60.8 MB 36.6 MB/s eta 0:00:00\n",
            "Downloading pybind11-2.13.6-py3-none-any.whl (243 kB)\n",
            "   ━━━━━━━━━━━━━━━━━━━━━━━━━━━━━━━━━━━━━━━━ 243.3/243.3 kB 300.0 MB/s eta 0:00:00\n",
            "Downloading sounddevice-0.5.0-py3-none-any.whl (32 kB)\n",
            "Installing collected packages: sng4onnx, pybind11, onnx2tf, sounddevice, onnx_graphsurgeon, tflite_support\n",
            "Successfully installed onnx2tf-1.22.3 onnx_graphsurgeon-0.5.2 pybind11-2.13.6 sng4onnx-1.0.4 sounddevice-0.5.0 tflite_support-0.4.4\n",
            "\n",
            "\u001b[31m\u001b[1mrequirements:\u001b[0m AutoUpdate success ✅ 9.5s, installed 4 packages: ['sng4onnx>=1.0.1', 'onnx_graphsurgeon>=0.3.26', 'onnx2tf>1.17.5,<=1.22.3', 'tflite_support']\n",
            "\u001b[31m\u001b[1mrequirements:\u001b[0m ⚠️ \u001b[1mRestart runtime or rerun command for updates to take effect\u001b[0m\n",
            "\n",
            "\n",
            "\u001b[34m\u001b[1mTensorFlow SavedModel:\u001b[0m starting export with tensorflow 2.17.0...\n",
            "Downloading https://github.com/ultralytics/assets/releases/download/v8.2.0/calibration_image_sample_data_20x128x128x3_float32.npy.zip to 'calibration_image_sample_data_20x128x128x3_float32.npy.zip'...\n"
          ]
        },
        {
          "output_type": "stream",
          "name": "stderr",
          "text": [
            "100%|██████████| 1.11M/1.11M [00:00<00:00, 6.05MB/s]\n",
            "Unzipping calibration_image_sample_data_20x128x128x3_float32.npy.zip to /content/calibration_image_sample_data_20x128x128x3_float32.npy...: 100%|██████████| 1/1 [00:00<00:00, 47.76file/s]"
          ]
        },
        {
          "output_type": "stream",
          "name": "stdout",
          "text": [
            "\n",
            "\u001b[34m\u001b[1mONNX:\u001b[0m starting export with onnx 1.16.2 opset 19...\n"
          ]
        },
        {
          "output_type": "stream",
          "name": "stderr",
          "text": [
            "\n"
          ]
        },
        {
          "output_type": "stream",
          "name": "stdout",
          "text": [
            "\u001b[34m\u001b[1mONNX:\u001b[0m slimming with onnxslim 0.1.34...\n",
            "\u001b[34m\u001b[1mONNX:\u001b[0m export success ✅ 2.3s, saved as '/content/drive/MyDrive/AyushVision/yolo/training/16_09_2024/192332/leaves/runs/train50/weights/best.onnx' (11.7 MB)\n",
            "\u001b[34m\u001b[1mTensorFlow SavedModel:\u001b[0m starting TFLite export with onnx2tf 1.22.3...\n",
            "\u001b[34m\u001b[1mTensorFlow SavedModel:\u001b[0m export success ✅ 28.2s, saved as '/content/drive/MyDrive/AyushVision/yolo/training/16_09_2024/192332/leaves/runs/train50/weights/best_saved_model' (29.3 MB)\n",
            "\n",
            "Export complete (29.5s)\n",
            "Results saved to \u001b[1m/content/drive/MyDrive/AyushVision/yolo/training/16_09_2024/192332/leaves/runs/train50/weights\u001b[0m\n",
            "Predict:         yolo predict task=detect model=/content/drive/MyDrive/AyushVision/yolo/training/16_09_2024/192332/leaves/runs/train50/weights/best_saved_model imgsz=640  \n",
            "Validate:        yolo val task=detect model=/content/drive/MyDrive/AyushVision/yolo/training/16_09_2024/192332/leaves/runs/train50/weights/best_saved_model imgsz=640 data=/content/drive/MyDrive/AyushVision/yolo/final/data.yaml  \n",
            "Visualize:       https://netron.app\n"
          ]
        },
        {
          "output_type": "execute_result",
          "data": {
            "text/plain": [
              "'/content/drive/MyDrive/AyushVision/yolo/training/16_09_2024/192332/leaves/runs/train50/weights/best_saved_model'"
            ],
            "application/vnd.google.colaboratory.intrinsic+json": {
              "type": "string"
            }
          },
          "metadata": {},
          "execution_count": 76
        }
      ]
    },
    {
      "cell_type": "code",
      "source": [
        "model.export(format='tflite',keras=True,simplify=True)"
      ],
      "metadata": {
        "colab": {
          "base_uri": "https://localhost:8080/",
          "height": 403
        },
        "id": "TfheWxPVSFYk",
        "outputId": "44c1e77f-7ba3-4b2c-bfc8-91c0e99880bb"
      },
      "execution_count": 77,
      "outputs": [
        {
          "output_type": "stream",
          "name": "stdout",
          "text": [
            "Ultralytics YOLOv8.2.95 🚀 Python-3.10.12 torch-2.4.0+cu121 CPU (Intel Xeon 2.20GHz)\n",
            "\n",
            "\u001b[34m\u001b[1mPyTorch:\u001b[0m starting from '/content/drive/MyDrive/AyushVision/yolo/training/16_09_2024/192332/leaves/runs/train50/weights/best.pt' with input shape (1, 3, 640, 640) BCHW and output shape(s) (1, 36, 8400) (6.0 MB)\n",
            "\n",
            "\u001b[34m\u001b[1mTensorFlow SavedModel:\u001b[0m starting export with tensorflow 2.17.0...\n",
            "\n",
            "\u001b[34m\u001b[1mONNX:\u001b[0m starting export with onnx 1.16.2 opset 19...\n",
            "\u001b[34m\u001b[1mONNX:\u001b[0m slimming with onnxslim 0.1.34...\n",
            "\u001b[34m\u001b[1mONNX:\u001b[0m export success ✅ 1.2s, saved as '/content/drive/MyDrive/AyushVision/yolo/training/16_09_2024/192332/leaves/runs/train50/weights/best.onnx' (11.8 MB)\n",
            "\u001b[34m\u001b[1mTensorFlow SavedModel:\u001b[0m starting TFLite export with onnx2tf 1.22.3...\n",
            "\u001b[34m\u001b[1mTensorFlow SavedModel:\u001b[0m export success ✅ 9.5s, saved as '/content/drive/MyDrive/AyushVision/yolo/training/16_09_2024/192332/leaves/runs/train50/weights/best_saved_model' (29.5 MB)\n",
            "\n",
            "\u001b[34m\u001b[1mTensorFlow Lite:\u001b[0m starting export with tensorflow 2.17.0...\n",
            "\u001b[34m\u001b[1mTensorFlow Lite:\u001b[0m export success ✅ 0.0s, saved as '/content/drive/MyDrive/AyushVision/yolo/training/16_09_2024/192332/leaves/runs/train50/weights/best_saved_model/best_float32.tflite' (11.7 MB)\n",
            "\n",
            "Export complete (10.8s)\n",
            "Results saved to \u001b[1m/content/drive/MyDrive/AyushVision/yolo/training/16_09_2024/192332/leaves/runs/train50/weights\u001b[0m\n",
            "Predict:         yolo predict task=detect model=/content/drive/MyDrive/AyushVision/yolo/training/16_09_2024/192332/leaves/runs/train50/weights/best_saved_model/best_float32.tflite imgsz=640  \n",
            "Validate:        yolo val task=detect model=/content/drive/MyDrive/AyushVision/yolo/training/16_09_2024/192332/leaves/runs/train50/weights/best_saved_model/best_float32.tflite imgsz=640 data=/content/drive/MyDrive/AyushVision/yolo/final/data.yaml  \n",
            "Visualize:       https://netron.app\n"
          ]
        },
        {
          "output_type": "execute_result",
          "data": {
            "text/plain": [
              "'/content/drive/MyDrive/AyushVision/yolo/training/16_09_2024/192332/leaves/runs/train50/weights/best_saved_model/best_float32.tflite'"
            ],
            "application/vnd.google.colaboratory.intrinsic+json": {
              "type": "string"
            }
          },
          "metadata": {},
          "execution_count": 77
        }
      ]
    },
    {
      "cell_type": "code",
      "execution_count": 78,
      "metadata": {
        "id": "v5HGcR1t5xnO"
      },
      "outputs": [],
      "source": [
        "blob = bucket.blob(f\"{storageLocation}/model/best.onnx\")\n",
        "blob.upload_from_filename(f\"{today_work_dirctory}/leaves/runs/{name}/weights/best.onnx\")\n",
        "blob.make_public()"
      ]
    },
    {
      "cell_type": "code",
      "source": [
        "blobsavedmodel = bucket.blob(f\"{storageLocation}/model/best_saved_model.pb\")\n",
        "blobsavedmodel.upload_from_filename(f\"{today_work_dirctory}/leaves/runs/{name}/weights/best_saved_model/saved_model.pb\")\n",
        "blobsavedmodel.make_public()"
      ],
      "metadata": {
        "id": "-ENAxGDwRvtX"
      },
      "execution_count": 79,
      "outputs": []
    },
    {
      "cell_type": "code",
      "source": [
        "blobtflite = bucket.blob(f\"{storageLocation}/model/best_float32.tflite\")\n",
        "blobtflite.upload_from_filename(f\"{today_work_dirctory}/leaves/runs/{name}/weights/best_saved_model/best_float32.tflite\")\n",
        "blobtflite.make_public()"
      ],
      "metadata": {
        "id": "NyWJiQ6hSQoe"
      },
      "execution_count": null,
      "outputs": []
    },
    {
      "cell_type": "code",
      "execution_count": 82,
      "metadata": {
        "id": "Y0czVsQg5Kjr",
        "outputId": "fa10680c-2258-46d0-8599-45a484ddcaae",
        "colab": {
          "base_uri": "https://localhost:8080/"
        }
      },
      "outputs": [
        {
          "output_type": "execute_result",
          "data": {
            "text/plain": [
              "(DatetimeWithNanoseconds(2024, 9, 17, 0, 40, 9, 95997, tzinfo=datetime.timezone.utc),\n",
              " <google.cloud.firestore_v1.document.DocumentReference at 0x7cf6f49805b0>)"
            ]
          },
          "metadata": {},
          "execution_count": 82
        }
      ],
      "source": [
        "today_ref.collection('Model').add({\n",
        "    'format':format,\n",
        "    \"keras\":True,\n",
        "    \"dynamic\":True,\n",
        "    \"simplify\":True,\n",
        "    \"model\":blob.public_url,\n",
        "    \"tflite\":blobtflite.public_url,\n",
        "    \"save_model\":blobsavedmodel.public_url\n",
        "})"
      ]
    }
  ],
  "metadata": {
    "colab": {
      "provenance": [],
      "machine_shape": "hm",
      "gpuType": "T4",
      "include_colab_link": true
    },
    "kernelspec": {
      "display_name": "Python 3",
      "name": "python3"
    },
    "language_info": {
      "name": "python"
    },
    "accelerator": "GPU"
  },
  "nbformat": 4,
  "nbformat_minor": 0
}