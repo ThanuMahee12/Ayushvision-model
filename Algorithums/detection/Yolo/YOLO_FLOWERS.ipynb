{
  "cells": [
    {
      "cell_type": "markdown",
      "metadata": {
        "id": "view-in-github",
        "colab_type": "text"
      },
      "source": [
        "<a href=\"https://colab.research.google.com/github/ThanuMahee12/ayush-vision/blob/yolo/Algorithums/detection/Yolo/YOLO_FLOWERS.ipynb\" target=\"_parent\"><img src=\"https://colab.research.google.com/assets/colab-badge.svg\" alt=\"Open In Colab\"/></a>"
      ]
    },
    {
      "cell_type": "markdown",
      "metadata": {
        "id": "mWi18aj0n7HU"
      },
      "source": [
        "# YOLO FLOWERS"
      ]
    },
    {
      "cell_type": "code",
      "source": [
        "from google.colab import drive\n",
        "drive.mount('/content/drive')"
      ],
      "metadata": {
        "colab": {
          "base_uri": "https://localhost:8080/"
        },
        "id": "3r-r4NsGoIwe",
        "outputId": "2e98373e-efef-4eed-f5f6-2d74eb5dfdcc"
      },
      "execution_count": 2,
      "outputs": [
        {
          "output_type": "stream",
          "name": "stdout",
          "text": [
            "Mounted at /content/drive\n"
          ]
        }
      ]
    },
    {
      "cell_type": "code",
      "source": [
        "! locale-gen en_US.UTF-8\n",
        "! export LC_ALL=en_US.UTF-8"
      ],
      "metadata": {
        "colab": {
          "base_uri": "https://localhost:8080/"
        },
        "id": "z0Q4dWFHbYdR",
        "outputId": "1f6eec36-65d2-4a16-b863-650ff9c4ab62"
      },
      "execution_count": 3,
      "outputs": [
        {
          "output_type": "stream",
          "name": "stdout",
          "text": [
            "Generating locales (this might take a while)...\n",
            "  en_US.UTF-8... done\n",
            "Generation complete.\n"
          ]
        }
      ]
    },
    {
      "cell_type": "code",
      "source": [
        "!pip install ultralytics"
      ],
      "metadata": {
        "colab": {
          "base_uri": "https://localhost:8080/"
        },
        "id": "xx51cd0goqWi",
        "outputId": "afeab408-216f-49bb-c19e-4731d8d235a9"
      },
      "execution_count": 4,
      "outputs": [
        {
          "output_type": "stream",
          "name": "stdout",
          "text": [
            "Collecting ultralytics\n",
            "  Downloading ultralytics-8.2.73-py3-none-any.whl.metadata (41 kB)\n",
            "\u001b[?25l     \u001b[90m━━━━━━━━━━━━━━━━━━━━━━━━━━━━━━━━━━━━━━━━\u001b[0m \u001b[32m0.0/41.3 kB\u001b[0m \u001b[31m?\u001b[0m eta \u001b[36m-:--:--\u001b[0m\r\u001b[2K     \u001b[90m━━━━━━━━━━━━━━━━━━━━━━━━━━━━━━━━━━━━━━━━\u001b[0m \u001b[32m41.3/41.3 kB\u001b[0m \u001b[31m3.1 MB/s\u001b[0m eta \u001b[36m0:00:00\u001b[0m\n",
            "\u001b[?25hRequirement already satisfied: numpy<2.0.0,>=1.23.0 in /usr/local/lib/python3.10/dist-packages (from ultralytics) (1.26.4)\n",
            "Requirement already satisfied: matplotlib>=3.3.0 in /usr/local/lib/python3.10/dist-packages (from ultralytics) (3.7.1)\n",
            "Requirement already satisfied: opencv-python>=4.6.0 in /usr/local/lib/python3.10/dist-packages (from ultralytics) (4.10.0.84)\n",
            "Requirement already satisfied: pillow>=7.1.2 in /usr/local/lib/python3.10/dist-packages (from ultralytics) (9.4.0)\n",
            "Requirement already satisfied: pyyaml>=5.3.1 in /usr/local/lib/python3.10/dist-packages (from ultralytics) (6.0.1)\n",
            "Requirement already satisfied: requests>=2.23.0 in /usr/local/lib/python3.10/dist-packages (from ultralytics) (2.31.0)\n",
            "Requirement already satisfied: scipy>=1.4.1 in /usr/local/lib/python3.10/dist-packages (from ultralytics) (1.13.1)\n",
            "Requirement already satisfied: torch>=1.8.0 in /usr/local/lib/python3.10/dist-packages (from ultralytics) (2.3.1+cu121)\n",
            "Requirement already satisfied: torchvision>=0.9.0 in /usr/local/lib/python3.10/dist-packages (from ultralytics) (0.18.1+cu121)\n",
            "Requirement already satisfied: tqdm>=4.64.0 in /usr/local/lib/python3.10/dist-packages (from ultralytics) (4.66.4)\n",
            "Requirement already satisfied: psutil in /usr/local/lib/python3.10/dist-packages (from ultralytics) (5.9.5)\n",
            "Requirement already satisfied: py-cpuinfo in /usr/local/lib/python3.10/dist-packages (from ultralytics) (9.0.0)\n",
            "Requirement already satisfied: pandas>=1.1.4 in /usr/local/lib/python3.10/dist-packages (from ultralytics) (2.1.4)\n",
            "Requirement already satisfied: seaborn>=0.11.0 in /usr/local/lib/python3.10/dist-packages (from ultralytics) (0.13.1)\n",
            "Collecting ultralytics-thop>=2.0.0 (from ultralytics)\n",
            "  Downloading ultralytics_thop-2.0.0-py3-none-any.whl.metadata (8.5 kB)\n",
            "Requirement already satisfied: contourpy>=1.0.1 in /usr/local/lib/python3.10/dist-packages (from matplotlib>=3.3.0->ultralytics) (1.2.1)\n",
            "Requirement already satisfied: cycler>=0.10 in /usr/local/lib/python3.10/dist-packages (from matplotlib>=3.3.0->ultralytics) (0.12.1)\n",
            "Requirement already satisfied: fonttools>=4.22.0 in /usr/local/lib/python3.10/dist-packages (from matplotlib>=3.3.0->ultralytics) (4.53.1)\n",
            "Requirement already satisfied: kiwisolver>=1.0.1 in /usr/local/lib/python3.10/dist-packages (from matplotlib>=3.3.0->ultralytics) (1.4.5)\n",
            "Requirement already satisfied: packaging>=20.0 in /usr/local/lib/python3.10/dist-packages (from matplotlib>=3.3.0->ultralytics) (24.1)\n",
            "Requirement already satisfied: pyparsing>=2.3.1 in /usr/local/lib/python3.10/dist-packages (from matplotlib>=3.3.0->ultralytics) (3.1.2)\n",
            "Requirement already satisfied: python-dateutil>=2.7 in /usr/local/lib/python3.10/dist-packages (from matplotlib>=3.3.0->ultralytics) (2.8.2)\n",
            "Requirement already satisfied: pytz>=2020.1 in /usr/local/lib/python3.10/dist-packages (from pandas>=1.1.4->ultralytics) (2024.1)\n",
            "Requirement already satisfied: tzdata>=2022.1 in /usr/local/lib/python3.10/dist-packages (from pandas>=1.1.4->ultralytics) (2024.1)\n",
            "Requirement already satisfied: charset-normalizer<4,>=2 in /usr/local/lib/python3.10/dist-packages (from requests>=2.23.0->ultralytics) (3.3.2)\n",
            "Requirement already satisfied: idna<4,>=2.5 in /usr/local/lib/python3.10/dist-packages (from requests>=2.23.0->ultralytics) (3.7)\n",
            "Requirement already satisfied: urllib3<3,>=1.21.1 in /usr/local/lib/python3.10/dist-packages (from requests>=2.23.0->ultralytics) (2.0.7)\n",
            "Requirement already satisfied: certifi>=2017.4.17 in /usr/local/lib/python3.10/dist-packages (from requests>=2.23.0->ultralytics) (2024.7.4)\n",
            "Requirement already satisfied: filelock in /usr/local/lib/python3.10/dist-packages (from torch>=1.8.0->ultralytics) (3.15.4)\n",
            "Requirement already satisfied: typing-extensions>=4.8.0 in /usr/local/lib/python3.10/dist-packages (from torch>=1.8.0->ultralytics) (4.12.2)\n",
            "Requirement already satisfied: sympy in /usr/local/lib/python3.10/dist-packages (from torch>=1.8.0->ultralytics) (1.13.1)\n",
            "Requirement already satisfied: networkx in /usr/local/lib/python3.10/dist-packages (from torch>=1.8.0->ultralytics) (3.3)\n",
            "Requirement already satisfied: jinja2 in /usr/local/lib/python3.10/dist-packages (from torch>=1.8.0->ultralytics) (3.1.4)\n",
            "Requirement already satisfied: fsspec in /usr/local/lib/python3.10/dist-packages (from torch>=1.8.0->ultralytics) (2024.6.1)\n",
            "Collecting nvidia-cuda-nvrtc-cu12==12.1.105 (from torch>=1.8.0->ultralytics)\n",
            "  Using cached nvidia_cuda_nvrtc_cu12-12.1.105-py3-none-manylinux1_x86_64.whl.metadata (1.5 kB)\n",
            "Collecting nvidia-cuda-runtime-cu12==12.1.105 (from torch>=1.8.0->ultralytics)\n",
            "  Using cached nvidia_cuda_runtime_cu12-12.1.105-py3-none-manylinux1_x86_64.whl.metadata (1.5 kB)\n",
            "Collecting nvidia-cuda-cupti-cu12==12.1.105 (from torch>=1.8.0->ultralytics)\n",
            "  Using cached nvidia_cuda_cupti_cu12-12.1.105-py3-none-manylinux1_x86_64.whl.metadata (1.6 kB)\n",
            "Collecting nvidia-cudnn-cu12==8.9.2.26 (from torch>=1.8.0->ultralytics)\n",
            "  Using cached nvidia_cudnn_cu12-8.9.2.26-py3-none-manylinux1_x86_64.whl.metadata (1.6 kB)\n",
            "Collecting nvidia-cublas-cu12==12.1.3.1 (from torch>=1.8.0->ultralytics)\n",
            "  Using cached nvidia_cublas_cu12-12.1.3.1-py3-none-manylinux1_x86_64.whl.metadata (1.5 kB)\n",
            "Collecting nvidia-cufft-cu12==11.0.2.54 (from torch>=1.8.0->ultralytics)\n",
            "  Using cached nvidia_cufft_cu12-11.0.2.54-py3-none-manylinux1_x86_64.whl.metadata (1.5 kB)\n",
            "Collecting nvidia-curand-cu12==10.3.2.106 (from torch>=1.8.0->ultralytics)\n",
            "  Using cached nvidia_curand_cu12-10.3.2.106-py3-none-manylinux1_x86_64.whl.metadata (1.5 kB)\n",
            "Collecting nvidia-cusolver-cu12==11.4.5.107 (from torch>=1.8.0->ultralytics)\n",
            "  Using cached nvidia_cusolver_cu12-11.4.5.107-py3-none-manylinux1_x86_64.whl.metadata (1.6 kB)\n",
            "Collecting nvidia-cusparse-cu12==12.1.0.106 (from torch>=1.8.0->ultralytics)\n",
            "  Using cached nvidia_cusparse_cu12-12.1.0.106-py3-none-manylinux1_x86_64.whl.metadata (1.6 kB)\n",
            "Collecting nvidia-nccl-cu12==2.20.5 (from torch>=1.8.0->ultralytics)\n",
            "  Using cached nvidia_nccl_cu12-2.20.5-py3-none-manylinux2014_x86_64.whl.metadata (1.8 kB)\n",
            "Collecting nvidia-nvtx-cu12==12.1.105 (from torch>=1.8.0->ultralytics)\n",
            "  Using cached nvidia_nvtx_cu12-12.1.105-py3-none-manylinux1_x86_64.whl.metadata (1.7 kB)\n",
            "Requirement already satisfied: triton==2.3.1 in /usr/local/lib/python3.10/dist-packages (from torch>=1.8.0->ultralytics) (2.3.1)\n",
            "Collecting nvidia-nvjitlink-cu12 (from nvidia-cusolver-cu12==11.4.5.107->torch>=1.8.0->ultralytics)\n",
            "  Using cached nvidia_nvjitlink_cu12-12.6.20-py3-none-manylinux2014_x86_64.whl.metadata (1.5 kB)\n",
            "Requirement already satisfied: six>=1.5 in /usr/local/lib/python3.10/dist-packages (from python-dateutil>=2.7->matplotlib>=3.3.0->ultralytics) (1.16.0)\n",
            "Requirement already satisfied: MarkupSafe>=2.0 in /usr/local/lib/python3.10/dist-packages (from jinja2->torch>=1.8.0->ultralytics) (2.1.5)\n",
            "Requirement already satisfied: mpmath<1.4,>=1.1.0 in /usr/local/lib/python3.10/dist-packages (from sympy->torch>=1.8.0->ultralytics) (1.3.0)\n",
            "Downloading ultralytics-8.2.73-py3-none-any.whl (865 kB)\n",
            "\u001b[2K   \u001b[90m━━━━━━━━━━━━━━━━━━━━━━━━━━━━━━━━━━━━━━━━\u001b[0m \u001b[32m865.5/865.5 kB\u001b[0m \u001b[31m48.1 MB/s\u001b[0m eta \u001b[36m0:00:00\u001b[0m\n",
            "\u001b[?25hUsing cached nvidia_cublas_cu12-12.1.3.1-py3-none-manylinux1_x86_64.whl (410.6 MB)\n",
            "Using cached nvidia_cuda_cupti_cu12-12.1.105-py3-none-manylinux1_x86_64.whl (14.1 MB)\n",
            "Using cached nvidia_cuda_nvrtc_cu12-12.1.105-py3-none-manylinux1_x86_64.whl (23.7 MB)\n",
            "Using cached nvidia_cuda_runtime_cu12-12.1.105-py3-none-manylinux1_x86_64.whl (823 kB)\n",
            "Using cached nvidia_cudnn_cu12-8.9.2.26-py3-none-manylinux1_x86_64.whl (731.7 MB)\n",
            "Using cached nvidia_cufft_cu12-11.0.2.54-py3-none-manylinux1_x86_64.whl (121.6 MB)\n",
            "Using cached nvidia_curand_cu12-10.3.2.106-py3-none-manylinux1_x86_64.whl (56.5 MB)\n",
            "Using cached nvidia_cusolver_cu12-11.4.5.107-py3-none-manylinux1_x86_64.whl (124.2 MB)\n",
            "Using cached nvidia_cusparse_cu12-12.1.0.106-py3-none-manylinux1_x86_64.whl (196.0 MB)\n",
            "Using cached nvidia_nccl_cu12-2.20.5-py3-none-manylinux2014_x86_64.whl (176.2 MB)\n",
            "Using cached nvidia_nvtx_cu12-12.1.105-py3-none-manylinux1_x86_64.whl (99 kB)\n",
            "Downloading ultralytics_thop-2.0.0-py3-none-any.whl (25 kB)\n",
            "Using cached nvidia_nvjitlink_cu12-12.6.20-py3-none-manylinux2014_x86_64.whl (19.7 MB)\n",
            "Installing collected packages: nvidia-nvtx-cu12, nvidia-nvjitlink-cu12, nvidia-nccl-cu12, nvidia-curand-cu12, nvidia-cufft-cu12, nvidia-cuda-runtime-cu12, nvidia-cuda-nvrtc-cu12, nvidia-cuda-cupti-cu12, nvidia-cublas-cu12, nvidia-cusparse-cu12, nvidia-cudnn-cu12, nvidia-cusolver-cu12, ultralytics-thop, ultralytics\n",
            "Successfully installed nvidia-cublas-cu12-12.1.3.1 nvidia-cuda-cupti-cu12-12.1.105 nvidia-cuda-nvrtc-cu12-12.1.105 nvidia-cuda-runtime-cu12-12.1.105 nvidia-cudnn-cu12-8.9.2.26 nvidia-cufft-cu12-11.0.2.54 nvidia-curand-cu12-10.3.2.106 nvidia-cusolver-cu12-11.4.5.107 nvidia-cusparse-cu12-12.1.0.106 nvidia-nccl-cu12-2.20.5 nvidia-nvjitlink-cu12-12.6.20 nvidia-nvtx-cu12-12.1.105 ultralytics-8.2.73 ultralytics-thop-2.0.0\n"
          ]
        }
      ]
    },
    {
      "cell_type": "code",
      "source": [
        "!pip install roboflow"
      ],
      "metadata": {
        "id": "Ns7vToG9Lwff",
        "outputId": "2b3155b1-031b-42a6-b6ae-a4fccd915348",
        "colab": {
          "base_uri": "https://localhost:8080/"
        }
      },
      "execution_count": 5,
      "outputs": [
        {
          "output_type": "stream",
          "name": "stdout",
          "text": [
            "Collecting roboflow\n",
            "  Downloading roboflow-1.1.37-py3-none-any.whl.metadata (9.4 kB)\n",
            "Requirement already satisfied: certifi in /usr/local/lib/python3.10/dist-packages (from roboflow) (2024.7.4)\n",
            "Collecting chardet==4.0.0 (from roboflow)\n",
            "  Downloading chardet-4.0.0-py2.py3-none-any.whl.metadata (3.5 kB)\n",
            "Requirement already satisfied: idna==3.7 in /usr/local/lib/python3.10/dist-packages (from roboflow) (3.7)\n",
            "Requirement already satisfied: cycler in /usr/local/lib/python3.10/dist-packages (from roboflow) (0.12.1)\n",
            "Requirement already satisfied: kiwisolver>=1.3.1 in /usr/local/lib/python3.10/dist-packages (from roboflow) (1.4.5)\n",
            "Requirement already satisfied: matplotlib in /usr/local/lib/python3.10/dist-packages (from roboflow) (3.7.1)\n",
            "Requirement already satisfied: numpy>=1.18.5 in /usr/local/lib/python3.10/dist-packages (from roboflow) (1.26.4)\n",
            "Requirement already satisfied: opencv-python-headless==4.10.0.84 in /usr/local/lib/python3.10/dist-packages (from roboflow) (4.10.0.84)\n",
            "Requirement already satisfied: Pillow>=7.1.2 in /usr/local/lib/python3.10/dist-packages (from roboflow) (9.4.0)\n",
            "Requirement already satisfied: python-dateutil in /usr/local/lib/python3.10/dist-packages (from roboflow) (2.8.2)\n",
            "Collecting python-dotenv (from roboflow)\n",
            "  Downloading python_dotenv-1.0.1-py3-none-any.whl.metadata (23 kB)\n",
            "Requirement already satisfied: requests in /usr/local/lib/python3.10/dist-packages (from roboflow) (2.31.0)\n",
            "Requirement already satisfied: six in /usr/local/lib/python3.10/dist-packages (from roboflow) (1.16.0)\n",
            "Requirement already satisfied: urllib3>=1.26.6 in /usr/local/lib/python3.10/dist-packages (from roboflow) (2.0.7)\n",
            "Requirement already satisfied: tqdm>=4.41.0 in /usr/local/lib/python3.10/dist-packages (from roboflow) (4.66.4)\n",
            "Requirement already satisfied: PyYAML>=5.3.1 in /usr/local/lib/python3.10/dist-packages (from roboflow) (6.0.1)\n",
            "Collecting requests-toolbelt (from roboflow)\n",
            "  Downloading requests_toolbelt-1.0.0-py2.py3-none-any.whl.metadata (14 kB)\n",
            "Collecting filetype (from roboflow)\n",
            "  Downloading filetype-1.2.0-py2.py3-none-any.whl.metadata (6.5 kB)\n",
            "Requirement already satisfied: contourpy>=1.0.1 in /usr/local/lib/python3.10/dist-packages (from matplotlib->roboflow) (1.2.1)\n",
            "Requirement already satisfied: fonttools>=4.22.0 in /usr/local/lib/python3.10/dist-packages (from matplotlib->roboflow) (4.53.1)\n",
            "Requirement already satisfied: packaging>=20.0 in /usr/local/lib/python3.10/dist-packages (from matplotlib->roboflow) (24.1)\n",
            "Requirement already satisfied: pyparsing>=2.3.1 in /usr/local/lib/python3.10/dist-packages (from matplotlib->roboflow) (3.1.2)\n",
            "Requirement already satisfied: charset-normalizer<4,>=2 in /usr/local/lib/python3.10/dist-packages (from requests->roboflow) (3.3.2)\n",
            "Downloading roboflow-1.1.37-py3-none-any.whl (76 kB)\n",
            "\u001b[2K   \u001b[90m━━━━━━━━━━━━━━━━━━━━━━━━━━━━━━━━━━━━━━━━\u001b[0m \u001b[32m76.9/76.9 kB\u001b[0m \u001b[31m5.6 MB/s\u001b[0m eta \u001b[36m0:00:00\u001b[0m\n",
            "\u001b[?25hDownloading chardet-4.0.0-py2.py3-none-any.whl (178 kB)\n",
            "\u001b[2K   \u001b[90m━━━━━━━━━━━━━━━━━━━━━━━━━━━━━━━━━━━━━━━━\u001b[0m \u001b[32m178.7/178.7 kB\u001b[0m \u001b[31m13.4 MB/s\u001b[0m eta \u001b[36m0:00:00\u001b[0m\n",
            "\u001b[?25hDownloading filetype-1.2.0-py2.py3-none-any.whl (19 kB)\n",
            "Downloading python_dotenv-1.0.1-py3-none-any.whl (19 kB)\n",
            "Downloading requests_toolbelt-1.0.0-py2.py3-none-any.whl (54 kB)\n",
            "\u001b[2K   \u001b[90m━━━━━━━━━━━━━━━━━━━━━━━━━━━━━━━━━━━━━━━━\u001b[0m \u001b[32m54.5/54.5 kB\u001b[0m \u001b[31m4.5 MB/s\u001b[0m eta \u001b[36m0:00:00\u001b[0m\n",
            "\u001b[?25hInstalling collected packages: filetype, python-dotenv, chardet, requests-toolbelt, roboflow\n",
            "  Attempting uninstall: chardet\n",
            "    Found existing installation: chardet 5.2.0\n",
            "    Uninstalling chardet-5.2.0:\n",
            "      Successfully uninstalled chardet-5.2.0\n",
            "Successfully installed chardet-4.0.0 filetype-1.2.0 python-dotenv-1.0.1 requests-toolbelt-1.0.0 roboflow-1.1.37\n"
          ]
        }
      ]
    },
    {
      "cell_type": "markdown",
      "metadata": {
        "id": "Js83iwlnn7Hc"
      },
      "source": [
        "## import"
      ]
    },
    {
      "cell_type": "code",
      "source": [
        "from roboflow import Roboflow"
      ],
      "metadata": {
        "id": "Gd7K_lS1L1if"
      },
      "execution_count": 6,
      "outputs": []
    },
    {
      "cell_type": "code",
      "execution_count": 7,
      "metadata": {
        "id": "vWoaQzKEn7He"
      },
      "outputs": [],
      "source": [
        "from ultralytics import YOLO"
      ]
    },
    {
      "cell_type": "code",
      "source": [
        "from datetime import date"
      ],
      "metadata": {
        "id": "2vAitzxpoa7a"
      },
      "execution_count": 8,
      "outputs": []
    },
    {
      "cell_type": "code",
      "execution_count": 9,
      "metadata": {
        "id": "QXBrUhRTn7Hg"
      },
      "outputs": [],
      "source": [
        "import os"
      ]
    },
    {
      "cell_type": "code",
      "execution_count": 10,
      "metadata": {
        "id": "3H26Ktufn7Hh"
      },
      "outputs": [],
      "source": [
        "import numpy as np"
      ]
    },
    {
      "cell_type": "code",
      "execution_count": 11,
      "metadata": {
        "id": "YX-4QEzwn7Hi"
      },
      "outputs": [],
      "source": [
        "from matplotlib import pyplot as plt"
      ]
    },
    {
      "cell_type": "code",
      "source": [
        "import random"
      ],
      "metadata": {
        "id": "VPtnbmKmpo6w"
      },
      "execution_count": 12,
      "outputs": []
    },
    {
      "cell_type": "markdown",
      "source": [
        "### Dirctory"
      ],
      "metadata": {
        "id": "xPNvfYoiKmz8"
      }
    },
    {
      "cell_type": "code",
      "source": [
        "work_dirctory=\"/content/drive/MyDrive/Research\""
      ],
      "metadata": {
        "id": "hrtvf7FqKZzj"
      },
      "execution_count": 13,
      "outputs": []
    },
    {
      "cell_type": "code",
      "source": [
        "today_work_dirctory=f\"{work_dirctory}/{date.today().strftime('%d_%m_%Y')}\""
      ],
      "metadata": {
        "id": "UyUOXvgnK6_B"
      },
      "execution_count": 14,
      "outputs": []
    },
    {
      "cell_type": "code",
      "source": [
        "if not os.path.exists(work_dirctory):\n",
        "  os.makedirs(work_dirctory,exist_ok=True)\n",
        "if not os.path.exists(today_work_dirctory):\n",
        "  os.makedirs(today_work_dirctory,exist_ok=True)"
      ],
      "metadata": {
        "id": "ft0WmOjrKepv"
      },
      "execution_count": 15,
      "outputs": []
    },
    {
      "cell_type": "markdown",
      "source": [
        "### Roboflow"
      ],
      "metadata": {
        "id": "LtFuKd42KznG"
      }
    },
    {
      "cell_type": "code",
      "source": [
        "\n",
        "\n",
        "rf = Roboflow(api_key=\"KvYzBayallmQzuRDfNc3\")\n",
        "project = rf.workspace(\"ayushvision\").project(\"ayushvision_flowers\")\n",
        "version = project.version(1)\n",
        "dataset = version.download(\"yolov8\",location=f\"{work_dirctory}/ayushvision_flowers\")\n"
      ],
      "metadata": {
        "id": "gAhaBy7ZKyHo",
        "outputId": "8ab59164-6a7a-4c17-afb8-322342a42969",
        "colab": {
          "base_uri": "https://localhost:8080/"
        }
      },
      "execution_count": 16,
      "outputs": [
        {
          "output_type": "stream",
          "name": "stdout",
          "text": [
            "loading Roboflow workspace...\n",
            "loading Roboflow project...\n",
            "Dependency ultralytics==8.0.196 is required but found version=8.2.73, to fix: `pip install ultralytics==8.0.196`\n"
          ]
        },
        {
          "output_type": "stream",
          "name": "stderr",
          "text": [
            "Downloading Dataset Version Zip in /content/drive/MyDrive/Research/ayushvision_flowers to yolov8:: 100%|██████████| 137222/137222 [00:14<00:00, 9745.22it/s] "
          ]
        },
        {
          "output_type": "stream",
          "name": "stdout",
          "text": [
            "\n"
          ]
        },
        {
          "output_type": "stream",
          "name": "stderr",
          "text": [
            "\n",
            "Extracting Dataset Version Zip to /content/drive/MyDrive/Research/ayushvision_flowers in yolov8:: 100%|██████████| 8652/8652 [01:14<00:00, 116.39it/s]\n"
          ]
        }
      ]
    },
    {
      "cell_type": "markdown",
      "metadata": {
        "id": "AapMM59Xn7Hj"
      },
      "source": [
        "## Model"
      ]
    },
    {
      "cell_type": "code",
      "execution_count": 17,
      "metadata": {
        "colab": {
          "base_uri": "https://localhost:8080/"
        },
        "id": "uTFQPVebn7Hk",
        "outputId": "dc732bb0-9ce0-49da-c212-32ecaa6ad8c8"
      },
      "outputs": [
        {
          "output_type": "stream",
          "name": "stdout",
          "text": [
            "Downloading https://github.com/ultralytics/assets/releases/download/v8.2.0/yolov8n.pt to 'yolov8n.pt'...\n"
          ]
        },
        {
          "output_type": "stream",
          "name": "stderr",
          "text": [
            "100%|██████████| 6.25M/6.25M [00:00<00:00, 358MB/s]"
          ]
        },
        {
          "output_type": "stream",
          "name": "stdout",
          "text": [
            "Transferred 355/355 items from pretrained weights\n"
          ]
        },
        {
          "output_type": "stream",
          "name": "stderr",
          "text": [
            "\n"
          ]
        }
      ],
      "source": [
        "yolo_model = YOLO('yolov8n.yaml').load('yolov8n.pt')"
      ]
    },
    {
      "cell_type": "markdown",
      "metadata": {
        "id": "8EMUXQQAn7Hm"
      },
      "source": [
        "#### Training"
      ]
    },
    {
      "cell_type": "code",
      "execution_count": 34,
      "metadata": {
        "id": "i6zpIR82n7Hn"
      },
      "outputs": [],
      "source": [
        "data=\"/content/drive/MyDrive/Research/ayushvision_flowers/data.yaml\"\n",
        "epochs=20\n",
        "imageSize=640\n",
        "project=f\"{today_work_dirctory}/flowers/runs\"\n",
        "name=f\"train{epochs}\""
      ]
    },
    {
      "cell_type": "code",
      "execution_count": 35,
      "metadata": {
        "colab": {
          "base_uri": "https://localhost:8080/"
        },
        "id": "cyofPiscn7Hn",
        "outputId": "451b4207-186a-4374-b7b3-7c9bc551f5db"
      },
      "outputs": [
        {
          "output_type": "stream",
          "name": "stdout",
          "text": [
            "Ultralytics YOLOv8.2.73 🚀 Python-3.10.12 torch-2.3.1+cu121 CUDA:0 (Tesla T4, 15102MiB)\n",
            "\u001b[34m\u001b[1mengine/trainer: \u001b[0mtask=detect, mode=train, model=yolov8n.yaml, data=/content/drive/MyDrive/Research/ayushvision_flowers/data.yaml, epochs=20, time=None, patience=100, batch=16, imgsz=640, save=True, save_period=1, cache=False, device=None, workers=8, project=/content/drive/MyDrive/Research/06_08_2024/flowers/runs, name=train20, exist_ok=False, pretrained=True, optimizer=Adam, verbose=True, seed=0, deterministic=True, single_cls=False, rect=False, cos_lr=False, close_mosaic=10, resume=False, amp=True, fraction=1.0, profile=False, freeze=None, multi_scale=False, overlap_mask=True, mask_ratio=4, dropout=0.1, val=True, split=val, save_json=False, save_hybrid=False, conf=None, iou=0.7, max_det=300, half=False, dnn=False, plots=True, source=None, vid_stride=1, stream_buffer=False, visualize=False, augment=False, agnostic_nms=False, classes=None, retina_masks=False, embed=None, show=False, save_frames=False, save_txt=False, save_conf=False, save_crop=False, show_labels=True, show_conf=True, show_boxes=True, line_width=None, format=torchscript, keras=False, optimize=False, int8=False, dynamic=False, simplify=False, opset=None, workspace=4, nms=False, lr0=0.01, lrf=0.01, momentum=0.937, weight_decay=0.0005, warmup_epochs=3.0, warmup_momentum=0.8, warmup_bias_lr=0.1, box=7.5, cls=0.5, dfl=1.5, pose=12.0, kobj=1.0, label_smoothing=0.0, nbs=64, hsv_h=0.015, hsv_s=0.7, hsv_v=0.4, degrees=0.0, translate=0.1, scale=0.5, shear=0.0, perspective=0.0, flipud=0.0, fliplr=0.5, bgr=0.0, mosaic=0.0, mixup=0.0, copy_paste=0.0, auto_augment=randaugment, erasing=0.4, crop_fraction=1.0, cfg=None, tracker=botsort.yaml, save_dir=/content/drive/MyDrive/Research/06_08_2024/flowers/runs/train20\n",
            "\n",
            "                   from  n    params  module                                       arguments                     \n",
            "  0                  -1  1       464  ultralytics.nn.modules.conv.Conv             [3, 16, 3, 2]                 \n",
            "  1                  -1  1      4672  ultralytics.nn.modules.conv.Conv             [16, 32, 3, 2]                \n",
            "  2                  -1  1      7360  ultralytics.nn.modules.block.C2f             [32, 32, 1, True]             \n",
            "  3                  -1  1     18560  ultralytics.nn.modules.conv.Conv             [32, 64, 3, 2]                \n",
            "  4                  -1  2     49664  ultralytics.nn.modules.block.C2f             [64, 64, 2, True]             \n",
            "  5                  -1  1     73984  ultralytics.nn.modules.conv.Conv             [64, 128, 3, 2]               \n",
            "  6                  -1  2    197632  ultralytics.nn.modules.block.C2f             [128, 128, 2, True]           \n",
            "  7                  -1  1    295424  ultralytics.nn.modules.conv.Conv             [128, 256, 3, 2]              \n",
            "  8                  -1  1    460288  ultralytics.nn.modules.block.C2f             [256, 256, 1, True]           \n",
            "  9                  -1  1    164608  ultralytics.nn.modules.block.SPPF            [256, 256, 5]                 \n",
            " 10                  -1  1         0  torch.nn.modules.upsampling.Upsample         [None, 2, 'nearest']          \n",
            " 11             [-1, 6]  1         0  ultralytics.nn.modules.conv.Concat           [1]                           \n",
            " 12                  -1  1    148224  ultralytics.nn.modules.block.C2f             [384, 128, 1]                 \n",
            " 13                  -1  1         0  torch.nn.modules.upsampling.Upsample         [None, 2, 'nearest']          \n",
            " 14             [-1, 4]  1         0  ultralytics.nn.modules.conv.Concat           [1]                           \n",
            " 15                  -1  1     37248  ultralytics.nn.modules.block.C2f             [192, 64, 1]                  \n",
            " 16                  -1  1     36992  ultralytics.nn.modules.conv.Conv             [64, 64, 3, 2]                \n",
            " 17            [-1, 12]  1         0  ultralytics.nn.modules.conv.Concat           [1]                           \n",
            " 18                  -1  1    123648  ultralytics.nn.modules.block.C2f             [192, 128, 1]                 \n",
            " 19                  -1  1    147712  ultralytics.nn.modules.conv.Conv             [128, 128, 3, 2]              \n",
            " 20             [-1, 9]  1         0  ultralytics.nn.modules.conv.Concat           [1]                           \n",
            " 21                  -1  1    493056  ultralytics.nn.modules.block.C2f             [384, 256, 1]                 \n",
            " 22        [15, 18, 21]  1    753067  ultralytics.nn.modules.head.Detect           [9, [64, 128, 256]]           \n",
            "YOLOv8n summary: 225 layers, 3,012,603 parameters, 3,012,587 gradients, 8.2 GFLOPs\n",
            "\n",
            "Transferred 355/355 items from pretrained weights\n",
            "\u001b[34m\u001b[1mTensorBoard: \u001b[0mStart with 'tensorboard --logdir /content/drive/MyDrive/Research/06_08_2024/flowers/runs/train20', view at http://localhost:6006/\n",
            "Freezing layer 'model.22.dfl.conv.weight'\n",
            "\u001b[34m\u001b[1mAMP: \u001b[0mrunning Automatic Mixed Precision (AMP) checks with YOLOv8n...\n",
            "\u001b[34m\u001b[1mAMP: \u001b[0mchecks passed ✅\n"
          ]
        },
        {
          "output_type": "stream",
          "name": "stderr",
          "text": [
            "\u001b[34m\u001b[1mtrain: \u001b[0mScanning /content/drive/MyDrive/Research/ayushvision_flowers/train/labels.cache... 3780 images, 0 backgrounds, 0 corrupt: 100%|██████████| 3780/3780 [00:00<?, ?it/s]"
          ]
        },
        {
          "output_type": "stream",
          "name": "stdout",
          "text": [
            "\u001b[34m\u001b[1malbumentations: \u001b[0mBlur(p=0.01, blur_limit=(3, 7)), MedianBlur(p=0.01, blur_limit=(3, 7)), ToGray(p=0.01), CLAHE(p=0.01, clip_limit=(1, 4.0), tile_grid_size=(8, 8))\n"
          ]
        },
        {
          "output_type": "stream",
          "name": "stderr",
          "text": [
            "\n",
            "os.fork() was called. os.fork() is incompatible with multithreaded code, and JAX is multithreaded, so this will likely lead to a deadlock.\n",
            "\u001b[34m\u001b[1mval: \u001b[0mScanning /content/drive/MyDrive/Research/ayushvision_flowers/valid/labels.cache... 361 images, 0 backgrounds, 0 corrupt: 100%|██████████| 361/361 [00:00<?, ?it/s]\n"
          ]
        },
        {
          "output_type": "stream",
          "name": "stdout",
          "text": [
            "Plotting labels to /content/drive/MyDrive/Research/06_08_2024/flowers/runs/train20/labels.jpg... \n",
            "\u001b[34m\u001b[1moptimizer:\u001b[0m Adam(lr=0.01, momentum=0.937) with parameter groups 57 weight(decay=0.0), 64 weight(decay=0.0005), 63 bias(decay=0.0)\n",
            "\u001b[34m\u001b[1mTensorBoard: \u001b[0mmodel graph visualization added ✅\n",
            "Image sizes 640 train, 640 val\n",
            "Using 2 dataloader workers\n",
            "Logging results to \u001b[1m/content/drive/MyDrive/Research/06_08_2024/flowers/runs/train20\u001b[0m\n",
            "Starting training for 20 epochs...\n",
            "\n",
            "      Epoch    GPU_mem   box_loss   cls_loss   dfl_loss  Instances       Size\n"
          ]
        },
        {
          "output_type": "stream",
          "name": "stderr",
          "text": [
            "       1/20      7.03G      1.407      1.517      1.771          8        640: 100%|██████████| 237/237 [01:50<00:00,  2.15it/s]\n",
            "                 Class     Images  Instances      Box(P          R      mAP50  mAP50-95): 100%|██████████| 12/12 [00:04<00:00,  2.52it/s]"
          ]
        },
        {
          "output_type": "stream",
          "name": "stdout",
          "text": [
            "                   all        361        462      0.666      0.535      0.623      0.336\n"
          ]
        },
        {
          "output_type": "stream",
          "name": "stderr",
          "text": [
            "\n"
          ]
        },
        {
          "output_type": "stream",
          "name": "stdout",
          "text": [
            "\n",
            "      Epoch    GPU_mem   box_loss   cls_loss   dfl_loss  Instances       Size\n"
          ]
        },
        {
          "output_type": "stream",
          "name": "stderr",
          "text": [
            "       2/20      2.33G      1.504      1.651      1.867         10        640: 100%|██████████| 237/237 [01:39<00:00,  2.38it/s]\n",
            "                 Class     Images  Instances      Box(P          R      mAP50  mAP50-95): 100%|██████████| 12/12 [00:07<00:00,  1.66it/s]"
          ]
        },
        {
          "output_type": "stream",
          "name": "stdout",
          "text": [
            "                   all        361        462      0.703      0.434      0.479      0.268\n"
          ]
        },
        {
          "output_type": "stream",
          "name": "stderr",
          "text": [
            "\n"
          ]
        },
        {
          "output_type": "stream",
          "name": "stdout",
          "text": [
            "\n",
            "      Epoch    GPU_mem   box_loss   cls_loss   dfl_loss  Instances       Size\n"
          ]
        },
        {
          "output_type": "stream",
          "name": "stderr",
          "text": [
            "       3/20      2.32G      1.519      1.677      1.885          4        640: 100%|██████████| 237/237 [01:39<00:00,  2.39it/s]\n",
            "                 Class     Images  Instances      Box(P          R      mAP50  mAP50-95): 100%|██████████| 12/12 [00:06<00:00,  1.90it/s]"
          ]
        },
        {
          "output_type": "stream",
          "name": "stdout",
          "text": [
            "                   all        361        462      0.498      0.541      0.552      0.316\n"
          ]
        },
        {
          "output_type": "stream",
          "name": "stderr",
          "text": [
            "\n"
          ]
        },
        {
          "output_type": "stream",
          "name": "stdout",
          "text": [
            "\n",
            "      Epoch    GPU_mem   box_loss   cls_loss   dfl_loss  Instances       Size\n"
          ]
        },
        {
          "output_type": "stream",
          "name": "stderr",
          "text": [
            "       4/20       2.3G      1.482      1.602      1.858          4        640: 100%|██████████| 237/237 [01:43<00:00,  2.28it/s]\n",
            "                 Class     Images  Instances      Box(P          R      mAP50  mAP50-95): 100%|██████████| 12/12 [00:04<00:00,  2.85it/s]\n"
          ]
        },
        {
          "output_type": "stream",
          "name": "stdout",
          "text": [
            "                   all        361        462      0.667      0.507      0.573      0.339\n",
            "\n",
            "      Epoch    GPU_mem   box_loss   cls_loss   dfl_loss  Instances       Size\n"
          ]
        },
        {
          "output_type": "stream",
          "name": "stderr",
          "text": [
            "       5/20       2.3G      1.464      1.538      1.822          4        640: 100%|██████████| 237/237 [01:35<00:00,  2.48it/s]\n",
            "                 Class     Images  Instances      Box(P          R      mAP50  mAP50-95): 100%|██████████| 12/12 [00:07<00:00,  1.61it/s]\n"
          ]
        },
        {
          "output_type": "stream",
          "name": "stdout",
          "text": [
            "                   all        361        462      0.542      0.604       0.56      0.331\n",
            "\n",
            "      Epoch    GPU_mem   box_loss   cls_loss   dfl_loss  Instances       Size\n"
          ]
        },
        {
          "output_type": "stream",
          "name": "stderr",
          "text": [
            "       6/20      2.33G      1.458      1.501      1.826          5        640: 100%|██████████| 237/237 [01:35<00:00,  2.47it/s]\n",
            "                 Class     Images  Instances      Box(P          R      mAP50  mAP50-95): 100%|██████████| 12/12 [00:04<00:00,  2.96it/s]\n"
          ]
        },
        {
          "output_type": "stream",
          "name": "stdout",
          "text": [
            "                   all        361        462       0.67      0.571      0.626      0.361\n",
            "\n",
            "      Epoch    GPU_mem   box_loss   cls_loss   dfl_loss  Instances       Size\n"
          ]
        },
        {
          "output_type": "stream",
          "name": "stderr",
          "text": [
            "       7/20      2.35G      1.439      1.457      1.798          7        640: 100%|██████████| 237/237 [01:40<00:00,  2.35it/s]\n",
            "                 Class     Images  Instances      Box(P          R      mAP50  mAP50-95): 100%|██████████| 12/12 [00:04<00:00,  2.46it/s]"
          ]
        },
        {
          "output_type": "stream",
          "name": "stdout",
          "text": [
            "                   all        361        462      0.674      0.573       0.64      0.382\n"
          ]
        },
        {
          "output_type": "stream",
          "name": "stderr",
          "text": [
            "\n"
          ]
        },
        {
          "output_type": "stream",
          "name": "stdout",
          "text": [
            "\n",
            "      Epoch    GPU_mem   box_loss   cls_loss   dfl_loss  Instances       Size\n"
          ]
        },
        {
          "output_type": "stream",
          "name": "stderr",
          "text": [
            "       8/20      2.33G      1.396      1.377      1.755          4        640: 100%|██████████| 237/237 [01:36<00:00,  2.44it/s]\n",
            "                 Class     Images  Instances      Box(P          R      mAP50  mAP50-95): 100%|██████████| 12/12 [00:06<00:00,  1.81it/s]"
          ]
        },
        {
          "output_type": "stream",
          "name": "stdout",
          "text": [
            "                   all        361        462      0.667      0.652      0.699      0.399\n"
          ]
        },
        {
          "output_type": "stream",
          "name": "stderr",
          "text": [
            "\n"
          ]
        },
        {
          "output_type": "stream",
          "name": "stdout",
          "text": [
            "\n",
            "      Epoch    GPU_mem   box_loss   cls_loss   dfl_loss  Instances       Size\n"
          ]
        },
        {
          "output_type": "stream",
          "name": "stderr",
          "text": [
            "       9/20      2.32G      1.383      1.342       1.75          5        640: 100%|██████████| 237/237 [01:35<00:00,  2.49it/s]\n",
            "                 Class     Images  Instances      Box(P          R      mAP50  mAP50-95): 100%|██████████| 12/12 [00:04<00:00,  2.53it/s]"
          ]
        },
        {
          "output_type": "stream",
          "name": "stdout",
          "text": [
            "                   all        361        462      0.753      0.703      0.756      0.456\n"
          ]
        },
        {
          "output_type": "stream",
          "name": "stderr",
          "text": [
            "\n"
          ]
        },
        {
          "output_type": "stream",
          "name": "stdout",
          "text": [
            "\n",
            "      Epoch    GPU_mem   box_loss   cls_loss   dfl_loss  Instances       Size\n"
          ]
        },
        {
          "output_type": "stream",
          "name": "stderr",
          "text": [
            "      10/20      2.33G      1.355      1.301      1.717          5        640: 100%|██████████| 237/237 [01:39<00:00,  2.39it/s]\n",
            "                 Class     Images  Instances      Box(P          R      mAP50  mAP50-95): 100%|██████████| 12/12 [00:04<00:00,  2.83it/s]"
          ]
        },
        {
          "output_type": "stream",
          "name": "stdout",
          "text": [
            "                   all        361        462      0.761      0.711      0.769      0.461\n"
          ]
        },
        {
          "output_type": "stream",
          "name": "stderr",
          "text": [
            "\n"
          ]
        },
        {
          "output_type": "stream",
          "name": "stdout",
          "text": [
            "Closing dataloader mosaic\n",
            "\u001b[34m\u001b[1malbumentations: \u001b[0mBlur(p=0.01, blur_limit=(3, 7)), MedianBlur(p=0.01, blur_limit=(3, 7)), ToGray(p=0.01), CLAHE(p=0.01, clip_limit=(1, 4.0), tile_grid_size=(8, 8))\n"
          ]
        },
        {
          "output_type": "stream",
          "name": "stderr",
          "text": [
            "os.fork() was called. os.fork() is incompatible with multithreaded code, and JAX is multithreaded, so this will likely lead to a deadlock.\n",
            "os.fork() was called. os.fork() is incompatible with multithreaded code, and JAX is multithreaded, so this will likely lead to a deadlock.\n"
          ]
        },
        {
          "output_type": "stream",
          "name": "stdout",
          "text": [
            "\n",
            "      Epoch    GPU_mem   box_loss   cls_loss   dfl_loss  Instances       Size\n"
          ]
        },
        {
          "output_type": "stream",
          "name": "stderr",
          "text": [
            "      11/20      2.46G      1.339      1.255      1.702          4        640: 100%|██████████| 237/237 [01:41<00:00,  2.34it/s]\n",
            "                 Class     Images  Instances      Box(P          R      mAP50  mAP50-95): 100%|██████████| 12/12 [00:06<00:00,  1.93it/s]"
          ]
        },
        {
          "output_type": "stream",
          "name": "stdout",
          "text": [
            "                   all        361        462      0.695      0.671      0.727      0.447\n"
          ]
        },
        {
          "output_type": "stream",
          "name": "stderr",
          "text": [
            "\n"
          ]
        },
        {
          "output_type": "stream",
          "name": "stdout",
          "text": [
            "\n",
            "      Epoch    GPU_mem   box_loss   cls_loss   dfl_loss  Instances       Size\n"
          ]
        },
        {
          "output_type": "stream",
          "name": "stderr",
          "text": [
            "      12/20      2.33G      1.318      1.227       1.68          4        640: 100%|██████████| 237/237 [01:38<00:00,  2.40it/s]\n",
            "                 Class     Images  Instances      Box(P          R      mAP50  mAP50-95): 100%|██████████| 12/12 [00:05<00:00,  2.20it/s]"
          ]
        },
        {
          "output_type": "stream",
          "name": "stdout",
          "text": [
            "                   all        361        462      0.791      0.667      0.768      0.464\n"
          ]
        },
        {
          "output_type": "stream",
          "name": "stderr",
          "text": [
            "\n"
          ]
        },
        {
          "output_type": "stream",
          "name": "stdout",
          "text": [
            "\n",
            "      Epoch    GPU_mem   box_loss   cls_loss   dfl_loss  Instances       Size\n"
          ]
        },
        {
          "output_type": "stream",
          "name": "stderr",
          "text": [
            "      13/20      2.32G      1.316      1.194      1.675          7        640: 100%|██████████| 237/237 [01:39<00:00,  2.38it/s]\n",
            "                 Class     Images  Instances      Box(P          R      mAP50  mAP50-95): 100%|██████████| 12/12 [00:04<00:00,  2.86it/s]\n"
          ]
        },
        {
          "output_type": "stream",
          "name": "stdout",
          "text": [
            "                   all        361        462      0.782      0.715      0.768      0.478\n",
            "\n",
            "      Epoch    GPU_mem   box_loss   cls_loss   dfl_loss  Instances       Size\n"
          ]
        },
        {
          "output_type": "stream",
          "name": "stderr",
          "text": [
            "      14/20      2.32G      1.295      1.146      1.657          4        640: 100%|██████████| 237/237 [01:36<00:00,  2.46it/s]\n",
            "                 Class     Images  Instances      Box(P          R      mAP50  mAP50-95): 100%|██████████| 12/12 [00:07<00:00,  1.55it/s]"
          ]
        },
        {
          "output_type": "stream",
          "name": "stdout",
          "text": [
            "                   all        361        462      0.768      0.748      0.798      0.496\n"
          ]
        },
        {
          "output_type": "stream",
          "name": "stderr",
          "text": [
            "\n"
          ]
        },
        {
          "output_type": "stream",
          "name": "stdout",
          "text": [
            "\n",
            "      Epoch    GPU_mem   box_loss   cls_loss   dfl_loss  Instances       Size\n"
          ]
        },
        {
          "output_type": "stream",
          "name": "stderr",
          "text": [
            "      15/20       2.3G      1.262      1.106      1.632          4        640: 100%|██████████| 237/237 [01:37<00:00,  2.44it/s]\n",
            "                 Class     Images  Instances      Box(P          R      mAP50  mAP50-95): 100%|██████████| 12/12 [00:04<00:00,  2.96it/s]"
          ]
        },
        {
          "output_type": "stream",
          "name": "stdout",
          "text": [
            "                   all        361        462      0.767      0.772      0.776      0.477\n"
          ]
        },
        {
          "output_type": "stream",
          "name": "stderr",
          "text": [
            "\n"
          ]
        },
        {
          "output_type": "stream",
          "name": "stdout",
          "text": [
            "\n",
            "      Epoch    GPU_mem   box_loss   cls_loss   dfl_loss  Instances       Size\n"
          ]
        },
        {
          "output_type": "stream",
          "name": "stderr",
          "text": [
            "      16/20      2.32G      1.251      1.065      1.623          4        640: 100%|██████████| 237/237 [01:45<00:00,  2.24it/s]\n",
            "                 Class     Images  Instances      Box(P          R      mAP50  mAP50-95): 100%|██████████| 12/12 [00:06<00:00,  1.71it/s]"
          ]
        },
        {
          "output_type": "stream",
          "name": "stdout",
          "text": [
            "                   all        361        462      0.803      0.783      0.831      0.532\n"
          ]
        },
        {
          "output_type": "stream",
          "name": "stderr",
          "text": [
            "\n"
          ]
        },
        {
          "output_type": "stream",
          "name": "stdout",
          "text": [
            "\n",
            "      Epoch    GPU_mem   box_loss   cls_loss   dfl_loss  Instances       Size\n"
          ]
        },
        {
          "output_type": "stream",
          "name": "stderr",
          "text": [
            "      17/20      2.29G      1.244      1.038      1.602          4        640: 100%|██████████| 237/237 [01:35<00:00,  2.48it/s]\n",
            "                 Class     Images  Instances      Box(P          R      mAP50  mAP50-95): 100%|██████████| 12/12 [00:05<00:00,  2.35it/s]"
          ]
        },
        {
          "output_type": "stream",
          "name": "stdout",
          "text": [
            "                   all        361        462      0.823      0.801      0.841       0.53\n"
          ]
        },
        {
          "output_type": "stream",
          "name": "stderr",
          "text": [
            "\n"
          ]
        },
        {
          "output_type": "stream",
          "name": "stdout",
          "text": [
            "\n",
            "      Epoch    GPU_mem   box_loss   cls_loss   dfl_loss  Instances       Size\n"
          ]
        },
        {
          "output_type": "stream",
          "name": "stderr",
          "text": [
            "      18/20      2.32G      1.217     0.9886      1.596          4        640: 100%|██████████| 237/237 [01:39<00:00,  2.38it/s]\n",
            "                 Class     Images  Instances      Box(P          R      mAP50  mAP50-95): 100%|██████████| 12/12 [00:07<00:00,  1.71it/s]"
          ]
        },
        {
          "output_type": "stream",
          "name": "stdout",
          "text": [
            "                   all        361        462       0.83      0.813      0.843      0.541\n"
          ]
        },
        {
          "output_type": "stream",
          "name": "stderr",
          "text": [
            "\n"
          ]
        },
        {
          "output_type": "stream",
          "name": "stdout",
          "text": [
            "\n",
            "      Epoch    GPU_mem   box_loss   cls_loss   dfl_loss  Instances       Size\n"
          ]
        },
        {
          "output_type": "stream",
          "name": "stderr",
          "text": [
            "      19/20       2.3G      1.193     0.9608      1.571          5        640: 100%|██████████| 237/237 [01:42<00:00,  2.32it/s]\n",
            "                 Class     Images  Instances      Box(P          R      mAP50  mAP50-95): 100%|██████████| 12/12 [00:08<00:00,  1.42it/s]"
          ]
        },
        {
          "output_type": "stream",
          "name": "stdout",
          "text": [
            "                   all        361        462      0.813      0.828      0.853       0.55\n"
          ]
        },
        {
          "output_type": "stream",
          "name": "stderr",
          "text": [
            "\n"
          ]
        },
        {
          "output_type": "stream",
          "name": "stdout",
          "text": [
            "\n",
            "      Epoch    GPU_mem   box_loss   cls_loss   dfl_loss  Instances       Size\n"
          ]
        },
        {
          "output_type": "stream",
          "name": "stderr",
          "text": [
            "      20/20      2.33G      1.175     0.9369      1.563          5        640: 100%|██████████| 237/237 [01:37<00:00,  2.43it/s]\n",
            "                 Class     Images  Instances      Box(P          R      mAP50  mAP50-95): 100%|██████████| 12/12 [00:04<00:00,  2.46it/s]"
          ]
        },
        {
          "output_type": "stream",
          "name": "stdout",
          "text": [
            "                   all        361        462      0.826      0.826      0.859      0.552\n"
          ]
        },
        {
          "output_type": "stream",
          "name": "stderr",
          "text": [
            "\n"
          ]
        },
        {
          "output_type": "stream",
          "name": "stdout",
          "text": [
            "\n",
            "20 epochs completed in 0.598 hours.\n",
            "Optimizer stripped from /content/drive/MyDrive/Research/06_08_2024/flowers/runs/train20/weights/last.pt, 6.2MB\n",
            "Optimizer stripped from /content/drive/MyDrive/Research/06_08_2024/flowers/runs/train20/weights/best.pt, 6.2MB\n",
            "\n",
            "Validating /content/drive/MyDrive/Research/06_08_2024/flowers/runs/train20/weights/best.pt...\n",
            "Ultralytics YOLOv8.2.73 🚀 Python-3.10.12 torch-2.3.1+cu121 CUDA:0 (Tesla T4, 15102MiB)\n",
            "YOLOv8n summary (fused): 168 layers, 3,007,403 parameters, 0 gradients, 8.1 GFLOPs\n"
          ]
        },
        {
          "output_type": "stream",
          "name": "stderr",
          "text": [
            "                 Class     Images  Instances      Box(P          R      mAP50  mAP50-95): 100%|██████████| 12/12 [00:09<00:00,  1.23it/s]\n"
          ]
        },
        {
          "output_type": "stream",
          "name": "stdout",
          "text": [
            "                   all        361        462      0.825      0.826      0.859      0.552\n",
            "        Acalyphaindica         40         61      0.753      0.656      0.667      0.336\n",
            "              Hibiscus         40         47      0.953      0.868      0.916      0.758\n",
            "             Holybasil         40         43      0.863      0.881      0.942      0.595\n",
            "        Pedalium_murex         41         85      0.802      0.682      0.783      0.502\n",
            "      Red_Pea_Eggplant         40         40      0.915       0.95      0.982      0.732\n",
            "        Ringworm_plant         40         44      0.675      0.848      0.823      0.449\n",
            "          Sleepy_plant         40         41       0.94      0.976      0.952      0.594\n",
            "           Thorn_apple         40         49      0.882      0.917      0.955      0.683\n",
            "          Vitexnegundo         40         52      0.646      0.654      0.714      0.317\n",
            "Speed: 0.4ms preprocess, 3.5ms inference, 0.1ms loss, 5.9ms postprocess per image\n",
            "Results saved to \u001b[1m/content/drive/MyDrive/Research/06_08_2024/flowers/runs/train20\u001b[0m\n"
          ]
        }
      ],
      "source": [
        "results = yolo_model.train(data=data, epochs=epochs,name=name, imgsz=imageSize,project=project,save_period=1,optimizer='Adam',plots=True,dropout=0.1)"
      ]
    },
    {
      "cell_type": "markdown",
      "metadata": {
        "id": "vebaeyvan7Ho"
      },
      "source": [
        "#### Validation"
      ]
    },
    {
      "cell_type": "code",
      "execution_count": 36,
      "metadata": {
        "id": "-9orCdN0n7Ho"
      },
      "outputs": [],
      "source": [
        "model_train_path=f'{project}/{name}/weights/best.pt'"
      ]
    },
    {
      "cell_type": "code",
      "execution_count": 37,
      "metadata": {
        "id": "eGWISZx7n7Hp"
      },
      "outputs": [],
      "source": [
        "model = YOLO(model_train_path)  # load a custom trained model\n",
        "\n"
      ]
    },
    {
      "cell_type": "code",
      "source": [
        "metrics = model.val(save_json=True,plots=True,project=project)  # no arguments needed, dataset and settings remembered"
      ],
      "metadata": {
        "id": "AXl1m-taeNDN",
        "outputId": "abe0bf5a-6310-482d-c80e-f2c1eeb587ea",
        "colab": {
          "base_uri": "https://localhost:8080/"
        }
      },
      "execution_count": 38,
      "outputs": [
        {
          "output_type": "stream",
          "name": "stdout",
          "text": [
            "Ultralytics YOLOv8.2.73 🚀 Python-3.10.12 torch-2.3.1+cu121 CUDA:0 (Tesla T4, 15102MiB)\n",
            "YOLOv8n summary (fused): 168 layers, 3,007,403 parameters, 0 gradients, 8.1 GFLOPs\n"
          ]
        },
        {
          "output_type": "stream",
          "name": "stderr",
          "text": [
            "\u001b[34m\u001b[1mval: \u001b[0mScanning /content/drive/MyDrive/Research/ayushvision_flowers/valid/labels.cache... 361 images, 0 backgrounds, 0 corrupt: 100%|██████████| 361/361 [00:00<?, ?it/s]\n",
            "os.fork() was called. os.fork() is incompatible with multithreaded code, and JAX is multithreaded, so this will likely lead to a deadlock.\n",
            "                 Class     Images  Instances      Box(P          R      mAP50  mAP50-95): 100%|██████████| 23/23 [00:11<00:00,  1.97it/s]\n"
          ]
        },
        {
          "output_type": "stream",
          "name": "stdout",
          "text": [
            "                   all        361        462      0.826      0.826      0.859      0.552\n",
            "        Acalyphaindica         40         61      0.753      0.656      0.668      0.338\n",
            "              Hibiscus         40         47      0.953      0.868      0.916      0.758\n",
            "             Holybasil         40         43      0.863      0.881      0.942      0.595\n",
            "        Pedalium_murex         41         85        0.8      0.682      0.783      0.502\n",
            "      Red_Pea_Eggplant         40         40      0.915       0.95      0.982      0.734\n",
            "        Ringworm_plant         40         44      0.675      0.849      0.823      0.446\n",
            "          Sleepy_plant         40         41       0.94      0.976      0.952      0.592\n",
            "           Thorn_apple         40         49      0.882      0.917      0.955      0.683\n",
            "          Vitexnegundo         40         52      0.649      0.654      0.714      0.317\n",
            "Speed: 0.6ms preprocess, 5.1ms inference, 0.0ms loss, 4.7ms postprocess per image\n",
            "Saving /content/drive/MyDrive/Research/06_08_2024/flowers/runs/val2/predictions.json...\n",
            "Results saved to \u001b[1m/content/drive/MyDrive/Research/06_08_2024/flowers/runs/val2\u001b[0m\n"
          ]
        }
      ]
    },
    {
      "cell_type": "code",
      "source": [
        "metrics.box.map"
      ],
      "metadata": {
        "colab": {
          "base_uri": "https://localhost:8080/"
        },
        "id": "78gM7GyKwmfg",
        "outputId": "2eb3cd1e-b4e3-49d6-b0ab-b6c7567f3826"
      },
      "execution_count": 39,
      "outputs": [
        {
          "output_type": "execute_result",
          "data": {
            "text/plain": [
              "0.5516105144497847"
            ]
          },
          "metadata": {},
          "execution_count": 39
        }
      ]
    },
    {
      "cell_type": "code",
      "source": [
        "metrics.box.map50"
      ],
      "metadata": {
        "colab": {
          "base_uri": "https://localhost:8080/"
        },
        "id": "P8B6V3_wwohd",
        "outputId": "c7d171b1-353a-4a8e-aca1-492e83a1829b"
      },
      "execution_count": 40,
      "outputs": [
        {
          "output_type": "execute_result",
          "data": {
            "text/plain": [
              "0.8594159669282454"
            ]
          },
          "metadata": {},
          "execution_count": 40
        }
      ]
    },
    {
      "cell_type": "code",
      "source": [
        "metrics.box.map75"
      ],
      "metadata": {
        "colab": {
          "base_uri": "https://localhost:8080/"
        },
        "id": "ZN0NsU2kwsYW",
        "outputId": "80f3a488-db99-4802-fe6e-0d2882cee8a4"
      },
      "execution_count": 41,
      "outputs": [
        {
          "output_type": "execute_result",
          "data": {
            "text/plain": [
              "0.6162793614276096"
            ]
          },
          "metadata": {},
          "execution_count": 41
        }
      ]
    },
    {
      "cell_type": "code",
      "source": [
        "metrics.box.maps"
      ],
      "metadata": {
        "colab": {
          "base_uri": "https://localhost:8080/"
        },
        "id": "xaONZry0wx04",
        "outputId": "a0b9d69f-ee61-46a6-8568-4a885f8e2a06"
      },
      "execution_count": 42,
      "outputs": [
        {
          "output_type": "execute_result",
          "data": {
            "text/plain": [
              "array([    0.33816,     0.75803,     0.59524,     0.50213,     0.73389,     0.44553,      0.5916,     0.68276,     0.31716])"
            ]
          },
          "metadata": {},
          "execution_count": 42
        }
      ]
    },
    {
      "cell_type": "markdown",
      "metadata": {
        "id": "jkbwnnv_n7Hp"
      },
      "source": [
        "#### Predict"
      ]
    },
    {
      "cell_type": "code",
      "execution_count": 43,
      "metadata": {
        "id": "DAQcdN7Mn7Hp"
      },
      "outputs": [],
      "source": [
        "testImages=[]"
      ]
    },
    {
      "cell_type": "code",
      "source": [
        "for root,dirs,files in os.walk(f\"{work_dirctory}/ayushvision_flowers/test/images\"):\n",
        "  for file in files:\n",
        "    testImages.append(os.path.join(root,file))"
      ],
      "metadata": {
        "id": "jZqo_7AGkI0j"
      },
      "execution_count": 44,
      "outputs": []
    },
    {
      "cell_type": "code",
      "execution_count": 45,
      "metadata": {
        "id": "BPGQn58Qn7Hp",
        "outputId": "e26e4865-4d8f-4df1-eef1-c342a9ed5041",
        "colab": {
          "base_uri": "https://localhost:8080/"
        }
      },
      "outputs": [
        {
          "output_type": "stream",
          "name": "stdout",
          "text": [
            "\n",
            "0: 640x640 1 Holybasil, 3.9ms\n",
            "1: 640x640 1 Holybasil, 3.9ms\n",
            "2: 640x640 1 Holybasil, 3.9ms\n",
            "3: 640x640 1 Holybasil, 3.9ms\n",
            "4: 640x640 1 Holybasil, 3.9ms\n",
            "5: 640x640 1 Holybasil, 3.9ms\n",
            "6: 640x640 1 Holybasil, 3.9ms\n",
            "7: 640x640 1 Holybasil, 3.9ms\n",
            "8: 640x640 1 Holybasil, 3.9ms\n",
            "9: 640x640 1 Holybasil, 3.9ms\n",
            "10: 640x640 1 Holybasil, 3.9ms\n",
            "11: 640x640 1 Holybasil, 3.9ms\n",
            "12: 640x640 4 Holybasils, 3.9ms\n",
            "13: 640x640 1 Holybasil, 3.9ms\n",
            "14: 640x640 1 Holybasil, 3.9ms\n",
            "15: 640x640 1 Holybasil, 3.9ms\n",
            "16: 640x640 1 Holybasil, 3.9ms\n",
            "17: 640x640 1 Holybasil, 3.9ms\n",
            "18: 640x640 2 Holybasils, 3.9ms\n",
            "19: 640x640 1 Holybasil, 3.9ms\n",
            "20: 640x640 1 Red_Pea_Eggplant, 3.9ms\n",
            "21: 640x640 1 Red_Pea_Eggplant, 3.9ms\n",
            "22: 640x640 1 Red_Pea_Eggplant, 3.9ms\n",
            "23: 640x640 1 Red_Pea_Eggplant, 3.9ms\n",
            "24: 640x640 1 Acalyphaindica, 3.9ms\n",
            "25: 640x640 1 Red_Pea_Eggplant, 3.9ms\n",
            "26: 640x640 1 Red_Pea_Eggplant, 3.9ms\n",
            "27: 640x640 1 Red_Pea_Eggplant, 3.9ms\n",
            "28: 640x640 1 Red_Pea_Eggplant, 3.9ms\n",
            "29: 640x640 1 Red_Pea_Eggplant, 3.9ms\n",
            "30: 640x640 1 Red_Pea_Eggplant, 3.9ms\n",
            "31: 640x640 2 Red_Pea_Eggplants, 3.9ms\n",
            "32: 640x640 1 Red_Pea_Eggplant, 3.9ms\n",
            "33: 640x640 1 Red_Pea_Eggplant, 3.9ms\n",
            "34: 640x640 1 Red_Pea_Eggplant, 3.9ms\n",
            "35: 640x640 1 Red_Pea_Eggplant, 3.9ms\n",
            "36: 640x640 1 Red_Pea_Eggplant, 3.9ms\n",
            "37: 640x640 1 Red_Pea_Eggplant, 3.9ms\n",
            "38: 640x640 1 Red_Pea_Eggplant, 3.9ms\n",
            "39: 640x640 1 Red_Pea_Eggplant, 3.9ms\n",
            "40: 640x640 1 Pedalium_murex, 3.9ms\n",
            "41: 640x640 4 Pedalium_murexs, 3.9ms\n",
            "42: 640x640 4 Pedalium_murexs, 3.9ms\n",
            "43: 640x640 1 Pedalium_murex, 3.9ms\n",
            "44: 640x640 1 Pedalium_murex, 3.9ms\n",
            "45: 640x640 2 Pedalium_murexs, 3.9ms\n",
            "46: 640x640 8 Pedalium_murexs, 3.9ms\n",
            "47: 640x640 3 Pedalium_murexs, 3.9ms\n",
            "48: 640x640 2 Pedalium_murexs, 3.9ms\n",
            "49: 640x640 1 Acalyphaindica, 3.9ms\n",
            "50: 640x640 2 Acalyphaindicas, 3.9ms\n",
            "51: 640x640 1 Acalyphaindica, 3.9ms\n",
            "52: 640x640 1 Acalyphaindica, 3.9ms\n",
            "53: 640x640 2 Acalyphaindicas, 3.9ms\n",
            "54: 640x640 1 Acalyphaindica, 3.9ms\n",
            "55: 640x640 2 Acalyphaindicas, 3.9ms\n",
            "56: 640x640 1 Acalyphaindica, 3.9ms\n",
            "57: 640x640 (no detections), 3.9ms\n",
            "58: 640x640 2 Acalyphaindicas, 3.9ms\n",
            "59: 640x640 2 Acalyphaindicas, 3.9ms\n",
            "60: 640x640 1 Acalyphaindica, 3.9ms\n",
            "61: 640x640 2 Acalyphaindicas, 3.9ms\n",
            "62: 640x640 1 Acalyphaindica, 3.9ms\n",
            "63: 640x640 2 Acalyphaindicas, 3.9ms\n",
            "64: 640x640 1 Acalyphaindica, 3.9ms\n",
            "65: 640x640 1 Acalyphaindica, 3.9ms\n",
            "66: 640x640 2 Acalyphaindicas, 3.9ms\n",
            "67: 640x640 1 Hibiscus, 3.9ms\n",
            "68: 640x640 1 Hibiscus, 3.9ms\n",
            "69: 640x640 1 Hibiscus, 3.9ms\n",
            "70: 640x640 1 Hibiscus, 3.9ms\n",
            "71: 640x640 1 Hibiscus, 3.9ms\n",
            "72: 640x640 1 Hibiscus, 3.9ms\n",
            "73: 640x640 1 Hibiscus, 3.9ms\n",
            "74: 640x640 1 Hibiscus, 3.9ms\n",
            "75: 640x640 1 Hibiscus, 3.9ms\n",
            "76: 640x640 1 Hibiscus, 3.9ms\n",
            "77: 640x640 1 Hibiscus, 3.9ms\n",
            "78: 640x640 1 Hibiscus, 3.9ms\n",
            "79: 640x640 1 Hibiscus, 3.9ms\n",
            "80: 640x640 2 Hibiscuss, 3.9ms\n",
            "81: 640x640 1 Hibiscus, 3.9ms\n",
            "82: 640x640 1 Hibiscus, 3.9ms\n",
            "83: 640x640 1 Hibiscus, 3.9ms\n",
            "84: 640x640 1 Hibiscus, 3.9ms\n",
            "85: 640x640 1 Hibiscus, 3.9ms\n",
            "86: 640x640 1 Hibiscus, 3.9ms\n",
            "87: 640x640 3 Acalyphaindicas, 3.9ms\n",
            "88: 640x640 5 Acalyphaindicas, 3.9ms\n",
            "89: 640x640 1 Pedalium_murex, 3.9ms\n",
            "90: 640x640 1 Pedalium_murex, 3.9ms\n",
            "91: 640x640 1 Pedalium_murex, 3.9ms\n",
            "92: 640x640 1 Pedalium_murex, 3.9ms\n",
            "93: 640x640 1 Pedalium_murex, 3.9ms\n",
            "94: 640x640 1 Pedalium_murex, 3.9ms\n",
            "95: 640x640 1 Pedalium_murex, 3.9ms\n",
            "96: 640x640 1 Pedalium_murex, 3.9ms\n",
            "97: 640x640 1 Pedalium_murex, 3.9ms\n",
            "98: 640x640 1 Pedalium_murex, 3.9ms\n",
            "99: 640x640 1 Sleepy_plant, 3.9ms\n",
            "100: 640x640 1 Sleepy_plant, 3.9ms\n",
            "101: 640x640 1 Sleepy_plant, 3.9ms\n",
            "102: 640x640 1 Sleepy_plant, 3.9ms\n",
            "103: 640x640 1 Sleepy_plant, 3.9ms\n",
            "104: 640x640 1 Sleepy_plant, 3.9ms\n",
            "105: 640x640 1 Sleepy_plant, 3.9ms\n",
            "106: 640x640 1 Sleepy_plant, 3.9ms\n",
            "107: 640x640 1 Sleepy_plant, 3.9ms\n",
            "108: 640x640 1 Sleepy_plant, 3.9ms\n",
            "109: 640x640 1 Sleepy_plant, 3.9ms\n",
            "110: 640x640 1 Sleepy_plant, 3.9ms\n",
            "111: 640x640 1 Sleepy_plant, 3.9ms\n",
            "112: 640x640 1 Sleepy_plant, 3.9ms\n",
            "113: 640x640 1 Sleepy_plant, 3.9ms\n",
            "114: 640x640 1 Sleepy_plant, 3.9ms\n",
            "115: 640x640 1 Sleepy_plant, 3.9ms\n",
            "116: 640x640 1 Sleepy_plant, 3.9ms\n",
            "117: 640x640 1 Sleepy_plant, 3.9ms\n",
            "118: 640x640 1 Sleepy_plant, 3.9ms\n",
            "119: 640x640 1 Vitexnegundo, 3.9ms\n",
            "120: 640x640 1 Vitexnegundo, 3.9ms\n",
            "121: 640x640 1 Vitexnegundo, 3.9ms\n",
            "122: 640x640 2 Vitexnegundos, 3.9ms\n",
            "123: 640x640 2 Vitexnegundos, 3.9ms\n",
            "124: 640x640 2 Vitexnegundos, 3.9ms\n",
            "125: 640x640 2 Vitexnegundos, 3.9ms\n",
            "126: 640x640 1 Vitexnegundo, 3.9ms\n",
            "127: 640x640 1 Vitexnegundo, 3.9ms\n",
            "128: 640x640 2 Vitexnegundos, 3.9ms\n",
            "129: 640x640 1 Vitexnegundo, 3.9ms\n",
            "130: 640x640 1 Vitexnegundo, 3.9ms\n",
            "131: 640x640 1 Vitexnegundo, 3.9ms\n",
            "132: 640x640 1 Vitexnegundo, 3.9ms\n",
            "133: 640x640 1 Vitexnegundo, 3.9ms\n",
            "134: 640x640 1 Vitexnegundo, 3.9ms\n",
            "135: 640x640 2 Vitexnegundos, 3.9ms\n",
            "136: 640x640 5 Vitexnegundos, 3.9ms\n",
            "137: 640x640 1 Vitexnegundo, 3.9ms\n",
            "138: 640x640 1 Vitexnegundo, 3.9ms\n",
            "139: 640x640 1 Ringworm_plant, 3.9ms\n",
            "140: 640x640 1 Ringworm_plant, 3.9ms\n",
            "141: 640x640 1 Ringworm_plant, 3.9ms\n",
            "142: 640x640 1 Ringworm_plant, 3.9ms\n",
            "143: 640x640 2 Ringworm_plants, 3.9ms\n",
            "144: 640x640 1 Ringworm_plant, 3.9ms\n",
            "145: 640x640 1 Ringworm_plant, 3.9ms\n",
            "146: 640x640 1 Ringworm_plant, 3.9ms\n",
            "147: 640x640 1 Ringworm_plant, 3.9ms\n",
            "148: 640x640 1 Thorn_apple, 3.9ms\n",
            "149: 640x640 1 Ringworm_plant, 3.9ms\n",
            "150: 640x640 1 Ringworm_plant, 3.9ms\n",
            "151: 640x640 1 Ringworm_plant, 3.9ms\n",
            "152: 640x640 1 Ringworm_plant, 3.9ms\n",
            "153: 640x640 1 Ringworm_plant, 3.9ms\n",
            "154: 640x640 2 Ringworm_plants, 3.9ms\n",
            "155: 640x640 2 Ringworm_plants, 3.9ms\n",
            "156: 640x640 1 Ringworm_plant, 3.9ms\n",
            "157: 640x640 1 Ringworm_plant, 3.9ms\n",
            "158: 640x640 1 Ringworm_plant, 3.9ms\n",
            "159: 640x640 2 Thorn_apples, 3.9ms\n",
            "160: 640x640 1 Thorn_apple, 3.9ms\n",
            "161: 640x640 1 Thorn_apple, 3.9ms\n",
            "162: 640x640 1 Thorn_apple, 3.9ms\n",
            "163: 640x640 1 Thorn_apple, 3.9ms\n",
            "164: 640x640 1 Thorn_apple, 3.9ms\n",
            "165: 640x640 1 Pedalium_murex, 3.9ms\n",
            "166: 640x640 1 Thorn_apple, 3.9ms\n",
            "167: 640x640 1 Thorn_apple, 3.9ms\n",
            "168: 640x640 1 Thorn_apple, 3.9ms\n",
            "169: 640x640 1 Thorn_apple, 3.9ms\n",
            "170: 640x640 1 Ringworm_plant, 3.9ms\n",
            "171: 640x640 1 Thorn_apple, 3.9ms\n",
            "172: 640x640 1 Ringworm_plant, 1 Thorn_apple, 3.9ms\n",
            "173: 640x640 1 Thorn_apple, 3.9ms\n",
            "174: 640x640 1 Thorn_apple, 3.9ms\n",
            "175: 640x640 1 Thorn_apple, 3.9ms\n",
            "176: 640x640 1 Thorn_apple, 3.9ms\n",
            "177: 640x640 1 Thorn_apple, 3.9ms\n",
            "178: 640x640 1 Thorn_apple, 3.9ms\n",
            "Speed: 5.5ms preprocess, 3.9ms inference, 1.5ms postprocess per image at shape (1, 3, 640, 640)\n"
          ]
        }
      ],
      "source": [
        "model = YOLO(model_train_path)  # load a custom model\n",
        "\n",
        "# Predict with the model\n",
        "results = model(testImages)"
      ]
    },
    {
      "cell_type": "code",
      "source": [
        "list=[]"
      ],
      "metadata": {
        "id": "xKZ8DDRumwwW"
      },
      "execution_count": 46,
      "outputs": []
    },
    {
      "cell_type": "code",
      "source": [
        "os.makedirs(f\"{today_work_dirctory}/predicts{epochs}\",exist_ok=True)"
      ],
      "metadata": {
        "id": "-JY9hIjeW30X"
      },
      "execution_count": 47,
      "outputs": []
    },
    {
      "cell_type": "code",
      "source": [
        "for result in results:\n",
        "    boxes = result.boxes  # Boxes object for bounding box outputs\n",
        "    masks = result.masks  # Masks object for segmentation masks outputs\n",
        "    keypoints = result.keypoints  # Keypoints object for pose outputs\n",
        "    probs = result.probs  # Probs object for classification outputs\n",
        "    obb = result.obb  # Oriented boxes object for OBB outputs\n",
        "    result.show()  # display to screen\n",
        "    result.save(filename=f\"{today_work_dirctory}/predicts{epochs}/{random.randint(1,len(results))}.png\")  # save to disk"
      ],
      "metadata": {
        "id": "34-zsVB32uF8"
      },
      "execution_count": 48,
      "outputs": []
    },
    {
      "cell_type": "markdown",
      "metadata": {
        "id": "IQWY9Bqbn7Hq"
      },
      "source": [
        "### Export Model"
      ]
    },
    {
      "cell_type": "code",
      "execution_count": 49,
      "metadata": {
        "id": "YezH7LaIn7Hq",
        "outputId": "dce785df-c60f-4917-e5cc-95c8bf201d64",
        "colab": {
          "base_uri": "https://localhost:8080/",
          "height": 281
        }
      },
      "outputs": [
        {
          "output_type": "stream",
          "name": "stdout",
          "text": [
            "Ultralytics YOLOv8.2.73 🚀 Python-3.10.12 torch-2.3.1+cu121 CPU (Intel Xeon 2.00GHz)\n",
            "\n",
            "\u001b[34m\u001b[1mPyTorch:\u001b[0m starting from '/content/drive/MyDrive/Research/06_08_2024/flowers/runs/train20/weights/best.pt' with input shape (1, 3, 640, 640) BCHW and output shape(s) (1, 13, 8400) (6.0 MB)\n",
            "\n",
            "\u001b[34m\u001b[1mONNX:\u001b[0m starting export with onnx 1.16.2 opset 17...\n",
            "\u001b[34m\u001b[1mONNX:\u001b[0m slimming with onnxslim 0.1.32...\n",
            "\u001b[34m\u001b[1mONNX:\u001b[0m export success ✅ 22.3s, saved as '/content/drive/MyDrive/Research/06_08_2024/flowers/runs/train20/weights/best.onnx' (11.6 MB)\n",
            "\n",
            "Export complete (23.8s)\n",
            "Results saved to \u001b[1m/content/drive/MyDrive/Research/06_08_2024/flowers/runs/train20/weights\u001b[0m\n",
            "Predict:         yolo predict task=detect model=/content/drive/MyDrive/Research/06_08_2024/flowers/runs/train20/weights/best.onnx imgsz=640  \n",
            "Validate:        yolo val task=detect model=/content/drive/MyDrive/Research/06_08_2024/flowers/runs/train20/weights/best.onnx imgsz=640 data=/content/drive/MyDrive/Research/ayushvision_flowers/data.yaml  \n",
            "Visualize:       https://netron.app\n"
          ]
        },
        {
          "output_type": "execute_result",
          "data": {
            "text/plain": [
              "'/content/drive/MyDrive/Research/06_08_2024/flowers/runs/train20/weights/best.onnx'"
            ],
            "application/vnd.google.colaboratory.intrinsic+json": {
              "type": "string"
            }
          },
          "metadata": {},
          "execution_count": 49
        }
      ],
      "source": [
        "format='onnx'\n",
        "model.export(format=format,keras=True,dynamic=True,simplify=True,)"
      ]
    }
  ],
  "metadata": {
    "language_info": {
      "name": "python"
    },
    "colab": {
      "provenance": [],
      "gpuType": "T4",
      "include_colab_link": true
    },
    "kernelspec": {
      "name": "python3",
      "display_name": "Python 3"
    },
    "accelerator": "GPU"
  },
  "nbformat": 4,
  "nbformat_minor": 0
}