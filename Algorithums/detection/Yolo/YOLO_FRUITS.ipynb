{
  "cells": [
    {
      "cell_type": "markdown",
      "metadata": {
        "colab_type": "text",
        "id": "view-in-github"
      },
      "source": [
        "<a href=\"https://colab.research.google.com/github/ThanuMahee12/ayush-vision/blob/yolo/Algorithums/detection/Yolo/YOLO_FRUITS.ipynb\" target=\"_parent\"><img src=\"https://colab.research.google.com/assets/colab-badge.svg\" alt=\"Open In Colab\"/></a>"
      ]
    },
    {
      "cell_type": "markdown",
      "metadata": {
        "id": "mWi18aj0n7HU"
      },
      "source": [
        "# YOLO FRUITS"
      ]
    },
    {
      "cell_type": "markdown",
      "metadata": {
        "id": "0CM_KjiNtVB7"
      },
      "source": [
        "## Colab"
      ]
    },
    {
      "cell_type": "code",
      "execution_count": 27,
      "metadata": {
        "colab": {
          "base_uri": "https://localhost:8080/"
        },
        "id": "3r-r4NsGoIwe",
        "outputId": "bbb6b77d-542e-496b-8bf2-19e7102e8f2f"
      },
      "outputs": [
        {
          "name": "stdout",
          "output_type": "stream",
          "text": [
            "Drive already mounted at /content/drive; to attempt to forcibly remount, call drive.mount(\"/content/drive\", force_remount=True).\n"
          ]
        }
      ],
      "source": [
        "from google.colab import drive\n",
        "drive.mount('/content/drive')"
      ]
    },
    {
      "cell_type": "code",
      "execution_count": null,
      "metadata": {
        "id": "ZKSwn8-clJNR"
      },
      "outputs": [],
      "source": [
        "basicdata={'account':'rainorobot334567@gmail.com','user':\"Thanush\"}\n"
      ]
    },
    {
      "cell_type": "code",
      "execution_count": null,
      "metadata": {
        "colab": {
          "base_uri": "https://localhost:8080/"
        },
        "id": "z0Q4dWFHbYdR",
        "outputId": "d24c19af-0a03-4b83-99bf-77726d73b43a"
      },
      "outputs": [
        {
          "name": "stdout",
          "output_type": "stream",
          "text": [
            "Generating locales (this might take a while)...\n",
            "  en_US.UTF-8... done\n",
            "Generation complete.\n"
          ]
        }
      ],
      "source": [
        "! locale-gen en_US.UTF-8\n",
        "! export LC_ALL=en_US.UTF-8"
      ]
    },
    {
      "cell_type": "markdown",
      "metadata": {
        "id": "h4jrfd8WtYpd"
      },
      "source": [
        "## Intallations"
      ]
    },
    {
      "cell_type": "code",
      "execution_count": null,
      "metadata": {
        "colab": {
          "base_uri": "https://localhost:8080/"
        },
        "id": "uRKGcqEKhzzt",
        "outputId": "c1f9694f-db63-4c06-d84b-b7a891a09174"
      },
      "outputs": [
        {
          "name": "stdout",
          "output_type": "stream",
          "text": [
            "Requirement already satisfied: firebase-admin in /usr/local/lib/python3.10/dist-packages (6.5.0)\n",
            "Requirement already satisfied: cachecontrol>=0.12.6 in /usr/local/lib/python3.10/dist-packages (from firebase-admin) (0.14.0)\n",
            "Requirement already satisfied: google-api-python-client>=1.7.8 in /usr/local/lib/python3.10/dist-packages (from firebase-admin) (2.137.0)\n",
            "Requirement already satisfied: google-cloud-storage>=1.37.1 in /usr/local/lib/python3.10/dist-packages (from firebase-admin) (2.8.0)\n",
            "Requirement already satisfied: pyjwt>=2.5.0 in /usr/local/lib/python3.10/dist-packages (from pyjwt[crypto]>=2.5.0->firebase-admin) (2.9.0)\n",
            "Requirement already satisfied: google-api-core<3.0.0dev,>=1.22.1 in /usr/local/lib/python3.10/dist-packages (from google-api-core[grpc]<3.0.0dev,>=1.22.1; platform_python_implementation != \"PyPy\"->firebase-admin) (2.19.1)\n",
            "Requirement already satisfied: google-cloud-firestore>=2.9.1 in /usr/local/lib/python3.10/dist-packages (from firebase-admin) (2.16.1)\n",
            "Requirement already satisfied: requests>=2.16.0 in /usr/local/lib/python3.10/dist-packages (from cachecontrol>=0.12.6->firebase-admin) (2.32.3)\n",
            "Requirement already satisfied: msgpack<2.0.0,>=0.5.2 in /usr/local/lib/python3.10/dist-packages (from cachecontrol>=0.12.6->firebase-admin) (1.0.8)\n",
            "Requirement already satisfied: googleapis-common-protos<2.0.dev0,>=1.56.2 in /usr/local/lib/python3.10/dist-packages (from google-api-core<3.0.0dev,>=1.22.1->google-api-core[grpc]<3.0.0dev,>=1.22.1; platform_python_implementation != \"PyPy\"->firebase-admin) (1.63.2)\n",
            "Requirement already satisfied: protobuf!=3.20.0,!=3.20.1,!=4.21.0,!=4.21.1,!=4.21.2,!=4.21.3,!=4.21.4,!=4.21.5,<6.0.0.dev0,>=3.19.5 in /usr/local/lib/python3.10/dist-packages (from google-api-core<3.0.0dev,>=1.22.1->google-api-core[grpc]<3.0.0dev,>=1.22.1; platform_python_implementation != \"PyPy\"->firebase-admin) (3.20.3)\n",
            "Requirement already satisfied: proto-plus<2.0.0dev,>=1.22.3 in /usr/local/lib/python3.10/dist-packages (from google-api-core<3.0.0dev,>=1.22.1->google-api-core[grpc]<3.0.0dev,>=1.22.1; platform_python_implementation != \"PyPy\"->firebase-admin) (1.24.0)\n",
            "Requirement already satisfied: google-auth<3.0.dev0,>=2.14.1 in /usr/local/lib/python3.10/dist-packages (from google-api-core<3.0.0dev,>=1.22.1->google-api-core[grpc]<3.0.0dev,>=1.22.1; platform_python_implementation != \"PyPy\"->firebase-admin) (2.27.0)\n",
            "Requirement already satisfied: grpcio<2.0dev,>=1.33.2 in /usr/local/lib/python3.10/dist-packages (from google-api-core[grpc]<3.0.0dev,>=1.22.1; platform_python_implementation != \"PyPy\"->firebase-admin) (1.64.1)\n",
            "Requirement already satisfied: grpcio-status<2.0.dev0,>=1.33.2 in /usr/local/lib/python3.10/dist-packages (from google-api-core[grpc]<3.0.0dev,>=1.22.1; platform_python_implementation != \"PyPy\"->firebase-admin) (1.48.2)\n",
            "Requirement already satisfied: httplib2<1.dev0,>=0.19.0 in /usr/local/lib/python3.10/dist-packages (from google-api-python-client>=1.7.8->firebase-admin) (0.22.0)\n",
            "Requirement already satisfied: google-auth-httplib2<1.0.0,>=0.2.0 in /usr/local/lib/python3.10/dist-packages (from google-api-python-client>=1.7.8->firebase-admin) (0.2.0)\n",
            "Requirement already satisfied: uritemplate<5,>=3.0.1 in /usr/local/lib/python3.10/dist-packages (from google-api-python-client>=1.7.8->firebase-admin) (4.1.1)\n",
            "Requirement already satisfied: google-cloud-core<3.0.0dev,>=1.4.1 in /usr/local/lib/python3.10/dist-packages (from google-cloud-firestore>=2.9.1->firebase-admin) (2.4.1)\n",
            "Requirement already satisfied: google-resumable-media>=2.3.2 in /usr/local/lib/python3.10/dist-packages (from google-cloud-storage>=1.37.1->firebase-admin) (2.7.1)\n",
            "Requirement already satisfied: cryptography>=3.4.0 in /usr/local/lib/python3.10/dist-packages (from pyjwt[crypto]>=2.5.0->firebase-admin) (42.0.8)\n",
            "Requirement already satisfied: cffi>=1.12 in /usr/local/lib/python3.10/dist-packages (from cryptography>=3.4.0->pyjwt[crypto]>=2.5.0->firebase-admin) (1.17.0)\n",
            "Requirement already satisfied: cachetools<6.0,>=2.0.0 in /usr/local/lib/python3.10/dist-packages (from google-auth<3.0.dev0,>=2.14.1->google-api-core<3.0.0dev,>=1.22.1->google-api-core[grpc]<3.0.0dev,>=1.22.1; platform_python_implementation != \"PyPy\"->firebase-admin) (5.4.0)\n",
            "Requirement already satisfied: pyasn1-modules>=0.2.1 in /usr/local/lib/python3.10/dist-packages (from google-auth<3.0.dev0,>=2.14.1->google-api-core<3.0.0dev,>=1.22.1->google-api-core[grpc]<3.0.0dev,>=1.22.1; platform_python_implementation != \"PyPy\"->firebase-admin) (0.4.0)\n",
            "Requirement already satisfied: rsa<5,>=3.1.4 in /usr/local/lib/python3.10/dist-packages (from google-auth<3.0.dev0,>=2.14.1->google-api-core<3.0.0dev,>=1.22.1->google-api-core[grpc]<3.0.0dev,>=1.22.1; platform_python_implementation != \"PyPy\"->firebase-admin) (4.9)\n",
            "Requirement already satisfied: google-crc32c<2.0dev,>=1.0 in /usr/local/lib/python3.10/dist-packages (from google-resumable-media>=2.3.2->google-cloud-storage>=1.37.1->firebase-admin) (1.5.0)\n",
            "Requirement already satisfied: pyparsing!=3.0.0,!=3.0.1,!=3.0.2,!=3.0.3,<4,>=2.4.2 in /usr/local/lib/python3.10/dist-packages (from httplib2<1.dev0,>=0.19.0->google-api-python-client>=1.7.8->firebase-admin) (3.1.2)\n",
            "Requirement already satisfied: charset-normalizer<4,>=2 in /usr/local/lib/python3.10/dist-packages (from requests>=2.16.0->cachecontrol>=0.12.6->firebase-admin) (3.3.2)\n",
            "Requirement already satisfied: idna<4,>=2.5 in /usr/local/lib/python3.10/dist-packages (from requests>=2.16.0->cachecontrol>=0.12.6->firebase-admin) (3.7)\n",
            "Requirement already satisfied: urllib3<3,>=1.21.1 in /usr/local/lib/python3.10/dist-packages (from requests>=2.16.0->cachecontrol>=0.12.6->firebase-admin) (2.0.7)\n",
            "Requirement already satisfied: certifi>=2017.4.17 in /usr/local/lib/python3.10/dist-packages (from requests>=2.16.0->cachecontrol>=0.12.6->firebase-admin) (2024.7.4)\n",
            "Requirement already satisfied: pycparser in /usr/local/lib/python3.10/dist-packages (from cffi>=1.12->cryptography>=3.4.0->pyjwt[crypto]>=2.5.0->firebase-admin) (2.22)\n",
            "Requirement already satisfied: pyasn1<0.7.0,>=0.4.6 in /usr/local/lib/python3.10/dist-packages (from pyasn1-modules>=0.2.1->google-auth<3.0.dev0,>=2.14.1->google-api-core<3.0.0dev,>=1.22.1->google-api-core[grpc]<3.0.0dev,>=1.22.1; platform_python_implementation != \"PyPy\"->firebase-admin) (0.6.0)\n"
          ]
        }
      ],
      "source": [
        "!pip install firebase-admin"
      ]
    },
    {
      "cell_type": "code",
      "execution_count": null,
      "metadata": {
        "colab": {
          "base_uri": "https://localhost:8080/"
        },
        "id": "xx51cd0goqWi",
        "outputId": "601efc88-8b22-45ff-ad9e-b7a2455c0838"
      },
      "outputs": [
        {
          "name": "stdout",
          "output_type": "stream",
          "text": [
            "Collecting ultralytics\n",
            "  Downloading ultralytics-8.2.75-py3-none-any.whl.metadata (41 kB)\n",
            "\u001b[?25l     \u001b[90m━━━━━━━━━━━━━━━━━━━━━━━━━━━━━━━━━━━━━━━━\u001b[0m \u001b[32m0.0/41.3 kB\u001b[0m \u001b[31m?\u001b[0m eta \u001b[36m-:--:--\u001b[0m\r\u001b[2K     \u001b[90m━━━━━━━━━━━━━━━━━━━━━━━━━━━━━━━━━━━━━━━━\u001b[0m \u001b[32m41.3/41.3 kB\u001b[0m \u001b[31m2.9 MB/s\u001b[0m eta \u001b[36m0:00:00\u001b[0m\n",
            "\u001b[?25hRequirement already satisfied: numpy<2.0.0,>=1.23.0 in /usr/local/lib/python3.10/dist-packages (from ultralytics) (1.26.4)\n",
            "Requirement already satisfied: matplotlib>=3.3.0 in /usr/local/lib/python3.10/dist-packages (from ultralytics) (3.7.1)\n",
            "Requirement already satisfied: opencv-python>=4.6.0 in /usr/local/lib/python3.10/dist-packages (from ultralytics) (4.10.0.84)\n",
            "Requirement already satisfied: pillow>=7.1.2 in /usr/local/lib/python3.10/dist-packages (from ultralytics) (9.4.0)\n",
            "Requirement already satisfied: pyyaml>=5.3.1 in /usr/local/lib/python3.10/dist-packages (from ultralytics) (6.0.2)\n",
            "Requirement already satisfied: requests>=2.23.0 in /usr/local/lib/python3.10/dist-packages (from ultralytics) (2.32.3)\n",
            "Requirement already satisfied: scipy>=1.4.1 in /usr/local/lib/python3.10/dist-packages (from ultralytics) (1.13.1)\n",
            "Requirement already satisfied: torch>=1.8.0 in /usr/local/lib/python3.10/dist-packages (from ultralytics) (2.3.1+cu121)\n",
            "Requirement already satisfied: torchvision>=0.9.0 in /usr/local/lib/python3.10/dist-packages (from ultralytics) (0.18.1+cu121)\n",
            "Requirement already satisfied: tqdm>=4.64.0 in /usr/local/lib/python3.10/dist-packages (from ultralytics) (4.66.5)\n",
            "Requirement already satisfied: psutil in /usr/local/lib/python3.10/dist-packages (from ultralytics) (5.9.5)\n",
            "Requirement already satisfied: py-cpuinfo in /usr/local/lib/python3.10/dist-packages (from ultralytics) (9.0.0)\n",
            "Requirement already satisfied: pandas>=1.1.4 in /usr/local/lib/python3.10/dist-packages (from ultralytics) (2.1.4)\n",
            "Requirement already satisfied: seaborn>=0.11.0 in /usr/local/lib/python3.10/dist-packages (from ultralytics) (0.13.1)\n",
            "Collecting ultralytics-thop>=2.0.0 (from ultralytics)\n",
            "  Downloading ultralytics_thop-2.0.0-py3-none-any.whl.metadata (8.5 kB)\n",
            "Requirement already satisfied: contourpy>=1.0.1 in /usr/local/lib/python3.10/dist-packages (from matplotlib>=3.3.0->ultralytics) (1.2.1)\n",
            "Requirement already satisfied: cycler>=0.10 in /usr/local/lib/python3.10/dist-packages (from matplotlib>=3.3.0->ultralytics) (0.12.1)\n",
            "Requirement already satisfied: fonttools>=4.22.0 in /usr/local/lib/python3.10/dist-packages (from matplotlib>=3.3.0->ultralytics) (4.53.1)\n",
            "Requirement already satisfied: kiwisolver>=1.0.1 in /usr/local/lib/python3.10/dist-packages (from matplotlib>=3.3.0->ultralytics) (1.4.5)\n",
            "Requirement already satisfied: packaging>=20.0 in /usr/local/lib/python3.10/dist-packages (from matplotlib>=3.3.0->ultralytics) (24.1)\n",
            "Requirement already satisfied: pyparsing>=2.3.1 in /usr/local/lib/python3.10/dist-packages (from matplotlib>=3.3.0->ultralytics) (3.1.2)\n",
            "Requirement already satisfied: python-dateutil>=2.7 in /usr/local/lib/python3.10/dist-packages (from matplotlib>=3.3.0->ultralytics) (2.8.2)\n",
            "Requirement already satisfied: pytz>=2020.1 in /usr/local/lib/python3.10/dist-packages (from pandas>=1.1.4->ultralytics) (2024.1)\n",
            "Requirement already satisfied: tzdata>=2022.1 in /usr/local/lib/python3.10/dist-packages (from pandas>=1.1.4->ultralytics) (2024.1)\n",
            "Requirement already satisfied: charset-normalizer<4,>=2 in /usr/local/lib/python3.10/dist-packages (from requests>=2.23.0->ultralytics) (3.3.2)\n",
            "Requirement already satisfied: idna<4,>=2.5 in /usr/local/lib/python3.10/dist-packages (from requests>=2.23.0->ultralytics) (3.7)\n",
            "Requirement already satisfied: urllib3<3,>=1.21.1 in /usr/local/lib/python3.10/dist-packages (from requests>=2.23.0->ultralytics) (2.0.7)\n",
            "Requirement already satisfied: certifi>=2017.4.17 in /usr/local/lib/python3.10/dist-packages (from requests>=2.23.0->ultralytics) (2024.7.4)\n",
            "Requirement already satisfied: filelock in /usr/local/lib/python3.10/dist-packages (from torch>=1.8.0->ultralytics) (3.15.4)\n",
            "Requirement already satisfied: typing-extensions>=4.8.0 in /usr/local/lib/python3.10/dist-packages (from torch>=1.8.0->ultralytics) (4.12.2)\n",
            "Requirement already satisfied: sympy in /usr/local/lib/python3.10/dist-packages (from torch>=1.8.0->ultralytics) (1.13.1)\n",
            "Requirement already satisfied: networkx in /usr/local/lib/python3.10/dist-packages (from torch>=1.8.0->ultralytics) (3.3)\n",
            "Requirement already satisfied: jinja2 in /usr/local/lib/python3.10/dist-packages (from torch>=1.8.0->ultralytics) (3.1.4)\n",
            "Requirement already satisfied: fsspec in /usr/local/lib/python3.10/dist-packages (from torch>=1.8.0->ultralytics) (2024.6.1)\n",
            "Collecting nvidia-cuda-nvrtc-cu12==12.1.105 (from torch>=1.8.0->ultralytics)\n",
            "  Using cached nvidia_cuda_nvrtc_cu12-12.1.105-py3-none-manylinux1_x86_64.whl.metadata (1.5 kB)\n",
            "Collecting nvidia-cuda-runtime-cu12==12.1.105 (from torch>=1.8.0->ultralytics)\n",
            "  Using cached nvidia_cuda_runtime_cu12-12.1.105-py3-none-manylinux1_x86_64.whl.metadata (1.5 kB)\n",
            "Collecting nvidia-cuda-cupti-cu12==12.1.105 (from torch>=1.8.0->ultralytics)\n",
            "  Using cached nvidia_cuda_cupti_cu12-12.1.105-py3-none-manylinux1_x86_64.whl.metadata (1.6 kB)\n",
            "Collecting nvidia-cudnn-cu12==8.9.2.26 (from torch>=1.8.0->ultralytics)\n",
            "  Using cached nvidia_cudnn_cu12-8.9.2.26-py3-none-manylinux1_x86_64.whl.metadata (1.6 kB)\n",
            "Collecting nvidia-cublas-cu12==12.1.3.1 (from torch>=1.8.0->ultralytics)\n",
            "  Using cached nvidia_cublas_cu12-12.1.3.1-py3-none-manylinux1_x86_64.whl.metadata (1.5 kB)\n",
            "Collecting nvidia-cufft-cu12==11.0.2.54 (from torch>=1.8.0->ultralytics)\n",
            "  Using cached nvidia_cufft_cu12-11.0.2.54-py3-none-manylinux1_x86_64.whl.metadata (1.5 kB)\n",
            "Collecting nvidia-curand-cu12==10.3.2.106 (from torch>=1.8.0->ultralytics)\n",
            "  Using cached nvidia_curand_cu12-10.3.2.106-py3-none-manylinux1_x86_64.whl.metadata (1.5 kB)\n",
            "Collecting nvidia-cusolver-cu12==11.4.5.107 (from torch>=1.8.0->ultralytics)\n",
            "  Using cached nvidia_cusolver_cu12-11.4.5.107-py3-none-manylinux1_x86_64.whl.metadata (1.6 kB)\n",
            "Collecting nvidia-cusparse-cu12==12.1.0.106 (from torch>=1.8.0->ultralytics)\n",
            "  Using cached nvidia_cusparse_cu12-12.1.0.106-py3-none-manylinux1_x86_64.whl.metadata (1.6 kB)\n",
            "Collecting nvidia-nccl-cu12==2.20.5 (from torch>=1.8.0->ultralytics)\n",
            "  Using cached nvidia_nccl_cu12-2.20.5-py3-none-manylinux2014_x86_64.whl.metadata (1.8 kB)\n",
            "Collecting nvidia-nvtx-cu12==12.1.105 (from torch>=1.8.0->ultralytics)\n",
            "  Using cached nvidia_nvtx_cu12-12.1.105-py3-none-manylinux1_x86_64.whl.metadata (1.7 kB)\n",
            "Requirement already satisfied: triton==2.3.1 in /usr/local/lib/python3.10/dist-packages (from torch>=1.8.0->ultralytics) (2.3.1)\n",
            "Collecting nvidia-nvjitlink-cu12 (from nvidia-cusolver-cu12==11.4.5.107->torch>=1.8.0->ultralytics)\n",
            "  Using cached nvidia_nvjitlink_cu12-12.6.20-py3-none-manylinux2014_x86_64.whl.metadata (1.5 kB)\n",
            "Requirement already satisfied: six>=1.5 in /usr/local/lib/python3.10/dist-packages (from python-dateutil>=2.7->matplotlib>=3.3.0->ultralytics) (1.16.0)\n",
            "Requirement already satisfied: MarkupSafe>=2.0 in /usr/local/lib/python3.10/dist-packages (from jinja2->torch>=1.8.0->ultralytics) (2.1.5)\n",
            "Requirement already satisfied: mpmath<1.4,>=1.1.0 in /usr/local/lib/python3.10/dist-packages (from sympy->torch>=1.8.0->ultralytics) (1.3.0)\n",
            "Downloading ultralytics-8.2.75-py3-none-any.whl (865 kB)\n",
            "\u001b[2K   \u001b[90m━━━━━━━━━━━━━━━━━━━━━━━━━━━━━━━━━━━━━━━━\u001b[0m \u001b[32m865.6/865.6 kB\u001b[0m \u001b[31m38.0 MB/s\u001b[0m eta \u001b[36m0:00:00\u001b[0m\n",
            "\u001b[?25hUsing cached nvidia_cublas_cu12-12.1.3.1-py3-none-manylinux1_x86_64.whl (410.6 MB)\n",
            "Using cached nvidia_cuda_cupti_cu12-12.1.105-py3-none-manylinux1_x86_64.whl (14.1 MB)\n",
            "Using cached nvidia_cuda_nvrtc_cu12-12.1.105-py3-none-manylinux1_x86_64.whl (23.7 MB)\n",
            "Using cached nvidia_cuda_runtime_cu12-12.1.105-py3-none-manylinux1_x86_64.whl (823 kB)\n",
            "Using cached nvidia_cudnn_cu12-8.9.2.26-py3-none-manylinux1_x86_64.whl (731.7 MB)\n",
            "Using cached nvidia_cufft_cu12-11.0.2.54-py3-none-manylinux1_x86_64.whl (121.6 MB)\n",
            "Using cached nvidia_curand_cu12-10.3.2.106-py3-none-manylinux1_x86_64.whl (56.5 MB)\n",
            "Using cached nvidia_cusolver_cu12-11.4.5.107-py3-none-manylinux1_x86_64.whl (124.2 MB)\n",
            "Using cached nvidia_cusparse_cu12-12.1.0.106-py3-none-manylinux1_x86_64.whl (196.0 MB)\n",
            "Using cached nvidia_nccl_cu12-2.20.5-py3-none-manylinux2014_x86_64.whl (176.2 MB)\n",
            "Using cached nvidia_nvtx_cu12-12.1.105-py3-none-manylinux1_x86_64.whl (99 kB)\n",
            "Downloading ultralytics_thop-2.0.0-py3-none-any.whl (25 kB)\n",
            "Using cached nvidia_nvjitlink_cu12-12.6.20-py3-none-manylinux2014_x86_64.whl (19.7 MB)\n",
            "Installing collected packages: nvidia-nvtx-cu12, nvidia-nvjitlink-cu12, nvidia-nccl-cu12, nvidia-curand-cu12, nvidia-cufft-cu12, nvidia-cuda-runtime-cu12, nvidia-cuda-nvrtc-cu12, nvidia-cuda-cupti-cu12, nvidia-cublas-cu12, nvidia-cusparse-cu12, nvidia-cudnn-cu12, nvidia-cusolver-cu12, ultralytics-thop, ultralytics\n",
            "Successfully installed nvidia-cublas-cu12-12.1.3.1 nvidia-cuda-cupti-cu12-12.1.105 nvidia-cuda-nvrtc-cu12-12.1.105 nvidia-cuda-runtime-cu12-12.1.105 nvidia-cudnn-cu12-8.9.2.26 nvidia-cufft-cu12-11.0.2.54 nvidia-curand-cu12-10.3.2.106 nvidia-cusolver-cu12-11.4.5.107 nvidia-cusparse-cu12-12.1.0.106 nvidia-nccl-cu12-2.20.5 nvidia-nvjitlink-cu12-12.6.20 nvidia-nvtx-cu12-12.1.105 ultralytics-8.2.75 ultralytics-thop-2.0.0\n"
          ]
        }
      ],
      "source": [
        "!pip install ultralytics"
      ]
    },
    {
      "cell_type": "markdown",
      "metadata": {
        "id": "dF-FeFKVtc0j"
      },
      "source": [
        "## Imports"
      ]
    },
    {
      "cell_type": "code",
      "execution_count": null,
      "metadata": {
        "id": "LA6879REh_Yu"
      },
      "outputs": [],
      "source": [
        "import firebase_admin\n"
      ]
    },
    {
      "cell_type": "code",
      "execution_count": null,
      "metadata": {
        "id": "TxfkdTzEiEie"
      },
      "outputs": [],
      "source": [
        "from firebase_admin import credentials,storage\n"
      ]
    },
    {
      "cell_type": "code",
      "execution_count": null,
      "metadata": {
        "id": "Z1wqn3xWiGgv"
      },
      "outputs": [],
      "source": [
        "from firebase_admin import firestore"
      ]
    },
    {
      "cell_type": "code",
      "execution_count": null,
      "metadata": {
        "id": "vWoaQzKEn7He"
      },
      "outputs": [],
      "source": [
        "from ultralytics import YOLO"
      ]
    },
    {
      "cell_type": "code",
      "execution_count": null,
      "metadata": {
        "id": "2vAitzxpoa7a"
      },
      "outputs": [],
      "source": [
        "from datetime import date,datetime"
      ]
    },
    {
      "cell_type": "code",
      "execution_count": null,
      "metadata": {
        "id": "QXBrUhRTn7Hg"
      },
      "outputs": [],
      "source": [
        "import os"
      ]
    },
    {
      "cell_type": "code",
      "execution_count": null,
      "metadata": {
        "id": "3H26Ktufn7Hh"
      },
      "outputs": [],
      "source": [
        "import numpy as np"
      ]
    },
    {
      "cell_type": "code",
      "execution_count": null,
      "metadata": {
        "id": "YX-4QEzwn7Hi"
      },
      "outputs": [],
      "source": [
        "from matplotlib import pyplot as plt"
      ]
    },
    {
      "cell_type": "code",
      "execution_count": null,
      "metadata": {
        "id": "VPtnbmKmpo6w"
      },
      "outputs": [],
      "source": [
        "import random"
      ]
    },
    {
      "cell_type": "code",
      "execution_count": 31,
      "metadata": {
        "id": "3zftmIrTuI99"
      },
      "outputs": [],
      "source": [
        "import yaml"
      ]
    },
    {
      "cell_type": "markdown",
      "metadata": {
        "id": "VLe9eLGetyX_"
      },
      "source": [
        "## Config"
      ]
    },
    {
      "cell_type": "code",
      "execution_count": 42,
      "metadata": {
        "id": "c_qNgMdot0QK"
      },
      "outputs": [],
      "source": [
        "epochs=10\n",
        "imageSize=640\n",
        "optimizer='Adam'\n",
        "dropout=0.1"
      ]
    },
    {
      "cell_type": "markdown",
      "metadata": {
        "id": "xPNvfYoiKmz8"
      },
      "source": [
        "### Dirctory"
      ]
    },
    {
      "cell_type": "code",
      "execution_count": 29,
      "metadata": {
        "id": "hrtvf7FqKZzj"
      },
      "outputs": [],
      "source": [
        "work_dirctory=\"/content/drive/MyDrive/AyushVision/yolo8/training\"\n",
        "firebase_key=\"/content/drive/MyDrive/AyushVision/ServiceKey.json\""
      ]
    },
    {
      "cell_type": "code",
      "execution_count": 30,
      "metadata": {
        "id": "NWkZ6kdWl9Tc"
      },
      "outputs": [],
      "source": [
        "today_work_dirctory=f\"{work_dirctory}/{date.today().strftime('%d_%m_%Y')}\""
      ]
    },
    {
      "cell_type": "code",
      "execution_count": 32,
      "metadata": {
        "id": "VCixGiXvmBWf"
      },
      "outputs": [],
      "source": [
        "if not os.path.exists(work_dirctory):\n",
        "  os.makedirs(work_dirctory,exist_ok=True)\n",
        "if not os.path.exists(today_work_dirctory):\n",
        "  os.makedirs(today_work_dirctory,exist_ok=True)"
      ]
    },
    {
      "cell_type": "code",
      "execution_count": 33,
      "metadata": {
        "id": "iAbj-AXXmEo7"
      },
      "outputs": [],
      "source": [
        "data=\"/content/drive/MyDrive/AyushVision/yolo8/dataset/ayushvision_rawfruit/data.yaml\""
      ]
    },
    {
      "cell_type": "code",
      "execution_count": 34,
      "metadata": {
        "id": "J77aImwXtlPV"
      },
      "outputs": [],
      "source": [
        "project=f\"{today_work_dirctory}/fruits/runs\"\n",
        "name=f'train{epochs}'"
      ]
    },
    {
      "cell_type": "markdown",
      "metadata": {
        "id": "XV9QP9llluYJ"
      },
      "source": [
        "## Firebase"
      ]
    },
    {
      "cell_type": "code",
      "execution_count": 35,
      "metadata": {
        "colab": {
          "base_uri": "https://localhost:8080/",
          "height": 349
        },
        "id": "RpsSJqZBiPpe",
        "outputId": "60b15404-0a9e-45a0-f3da-9ec5cd0e36d6"
      },
      "outputs": [
        {
          "ename": "ValueError",
          "evalue": "The default Firebase app already exists. This means you called initialize_app() more than once without providing an app name as the second argument. In most cases you only need to call initialize_app() once. But if you do want to initialize multiple apps, pass a second argument to initialize_app() to give each app a unique name.",
          "output_type": "error",
          "traceback": [
            "\u001b[0;31m---------------------------------------------------------------------------\u001b[0m",
            "\u001b[0;31mValueError\u001b[0m                                Traceback (most recent call last)",
            "\u001b[0;32m<ipython-input-35-35c6c30e55fc>\u001b[0m in \u001b[0;36m<cell line: 2>\u001b[0;34m()\u001b[0m\n\u001b[1;32m      1\u001b[0m \u001b[0mcred\u001b[0m \u001b[0;34m=\u001b[0m \u001b[0mcredentials\u001b[0m\u001b[0;34m.\u001b[0m\u001b[0mCertificate\u001b[0m\u001b[0;34m(\u001b[0m\u001b[0mfirebase_key\u001b[0m\u001b[0;34m)\u001b[0m\u001b[0;34m\u001b[0m\u001b[0;34m\u001b[0m\u001b[0m\n\u001b[0;32m----> 2\u001b[0;31m firebase_admin.initialize_app(cred,{\n\u001b[0m\u001b[1;32m      3\u001b[0m     \u001b[0;34m'storageBucket'\u001b[0m\u001b[0;34m:\u001b[0m \u001b[0;34m'ayush-vision-asw4gh.appspot.com'\u001b[0m\u001b[0;34m\u001b[0m\u001b[0;34m\u001b[0m\u001b[0m\n\u001b[1;32m      4\u001b[0m })\n",
            "\u001b[0;32m/usr/local/lib/python3.10/dist-packages/firebase_admin/__init__.py\u001b[0m in \u001b[0;36minitialize_app\u001b[0;34m(credential, options, name)\u001b[0m\n\u001b[1;32m     71\u001b[0m \u001b[0;34m\u001b[0m\u001b[0m\n\u001b[1;32m     72\u001b[0m     \u001b[0;32mif\u001b[0m \u001b[0mname\u001b[0m \u001b[0;34m==\u001b[0m \u001b[0m_DEFAULT_APP_NAME\u001b[0m\u001b[0;34m:\u001b[0m\u001b[0;34m\u001b[0m\u001b[0;34m\u001b[0m\u001b[0m\n\u001b[0;32m---> 73\u001b[0;31m         raise ValueError((\n\u001b[0m\u001b[1;32m     74\u001b[0m             \u001b[0;34m'The default Firebase app already exists. This means you called '\u001b[0m\u001b[0;34m\u001b[0m\u001b[0;34m\u001b[0m\u001b[0m\n\u001b[1;32m     75\u001b[0m             \u001b[0;34m'initialize_app() more than once without providing an app name as '\u001b[0m\u001b[0;34m\u001b[0m\u001b[0;34m\u001b[0m\u001b[0m\n",
            "\u001b[0;31mValueError\u001b[0m: The default Firebase app already exists. This means you called initialize_app() more than once without providing an app name as the second argument. In most cases you only need to call initialize_app() once. But if you do want to initialize multiple apps, pass a second argument to initialize_app() to give each app a unique name."
          ]
        }
      ],
      "source": [
        "cred = credentials.Certificate(firebase_key)\n",
        "firebase_admin.initialize_app(cred,{\n",
        "    'storageBucket': 'ayush-vision-asw4gh.appspot.com'\n",
        "})"
      ]
    },
    {
      "cell_type": "code",
      "execution_count": 36,
      "metadata": {
        "id": "UlsbRiTTj259"
      },
      "outputs": [],
      "source": [
        "db = firestore.client()"
      ]
    },
    {
      "cell_type": "code",
      "execution_count": 37,
      "metadata": {
        "id": "1MqZJtEzv4eF"
      },
      "outputs": [],
      "source": [
        "bucket = storage.bucket()"
      ]
    },
    {
      "cell_type": "code",
      "execution_count": 38,
      "metadata": {
        "id": "FjHEnE_7qSNN"
      },
      "outputs": [],
      "source": [
        "yolo_ref = db.collection(\"training\").document('yolo')\n",
        "doc = yolo_ref.get()"
      ]
    },
    {
      "cell_type": "code",
      "execution_count": null,
      "metadata": {
        "id": "mivbo7JFl00U"
      },
      "outputs": [],
      "source": [
        "if not doc.exists:\n",
        "  doc_ref= db.collection(\"training\").document('yolo')\n",
        "  doc_ref.set({'algorithum':'yolo','version':'V8','mode':'detection','url':'ultralytics'})\n",
        "else:\n",
        "  doc_ref= yolo_ref"
      ]
    },
    {
      "cell_type": "markdown",
      "metadata": {
        "id": "LtFuKd42KznG"
      },
      "source": [
        "### Roboflow"
      ]
    },
    {
      "cell_type": "markdown",
      "metadata": {
        "id": "AapMM59Xn7Hj"
      },
      "source": [
        "## Model"
      ]
    },
    {
      "cell_type": "code",
      "execution_count": null,
      "metadata": {
        "id": "Mwg3H-G3orDr"
      },
      "outputs": [],
      "source": [
        "today_ref=doc_ref.collection(\"Fruit\").document(datetime.now().strftime(f\"%Y%m%d%H\"))"
      ]
    },
    {
      "cell_type": "code",
      "execution_count": null,
      "metadata": {
        "id": "7UvmNAyIreO8"
      },
      "outputs": [],
      "source": [
        "basicdata['imageSize']=imageSize\n",
        "basicdata['project']=project\n",
        "basicdata['name']=name\n",
        "basicdata['training_date']=datetime.now().strftime(\"%Y/%m/%d %H:%M:%S\")\n",
        "basicdata['filename']='YOLO_FRUITS'"
      ]
    },
    {
      "cell_type": "code",
      "execution_count": 40,
      "metadata": {
        "id": "-YZRg5JWuAEM"
      },
      "outputs": [],
      "source": [
        "with open(data, 'r') as file:\n",
        "    yaml_content = yaml.safe_load(file)"
      ]
    },
    {
      "cell_type": "code",
      "execution_count": 41,
      "metadata": {
        "colab": {
          "base_uri": "https://localhost:8080/"
        },
        "id": "PY06W962uaMn",
        "outputId": "cda36da3-e288-4d72-99c8-5a3376d2b809"
      },
      "outputs": [
        {
          "data": {
            "text/plain": [
              "{'names': ['caster',\n",
              "  'Indian_mallow',\n",
              "  'Ivy_gourd',\n",
              "  'Lime',\n",
              "  'Long_pepper',\n",
              "  'Pedaliummurex',\n",
              "  'Red_Pea_Eggplant',\n",
              "  'Ring_worm_plant',\n",
              "  'ThornApple'],\n",
              " 'nc': 9,\n",
              " 'roboflow': {'license': 'CC BY 4.0',\n",
              "  'project': 'ayushvision_rawfruit',\n",
              "  'url': 'https://universe.roboflow.com/research-piohe/ayushvision_rawfruit/dataset/2',\n",
              "  'version': 2,\n",
              "  'workspace': 'research-piohe'},\n",
              " 'test': '../test/images',\n",
              " 'train': '/content/drive/MyDrive/AyushVision/yolo8/dataset/ayushvision_rawfruit/train/images',\n",
              " 'val': '/content/drive/MyDrive/AyushVision/yolo8/dataset/ayushvision_rawfruit/valid/images'}"
            ]
          },
          "execution_count": 41,
          "metadata": {},
          "output_type": "execute_result"
        }
      ],
      "source": [
        "basicdata['names']=yaml_content['names']"
      ]
    },
    {
      "cell_type": "code",
      "execution_count": null,
      "metadata": {
        "colab": {
          "base_uri": "https://localhost:8080/"
        },
        "id": "UafSx86dkAcs",
        "outputId": "4cc4fb4c-c6c4-4ce3-e171-2ffd9c2d0090"
      },
      "outputs": [
        {
          "data": {
            "text/plain": [
              "update_time {\n",
              "  seconds: 1723272808\n",
              "  nanos: 917362000\n",
              "}"
            ]
          },
          "execution_count": 27,
          "metadata": {},
          "output_type": "execute_result"
        }
      ],
      "source": [
        "today_ref.set(basicdata)"
      ]
    },
    {
      "cell_type": "code",
      "execution_count": null,
      "metadata": {
        "colab": {
          "base_uri": "https://localhost:8080/"
        },
        "id": "uTFQPVebn7Hk",
        "outputId": "6bad6efc-e779-40da-b973-aa8e89ff3148"
      },
      "outputs": [
        {
          "name": "stdout",
          "output_type": "stream",
          "text": [
            "Downloading https://github.com/ultralytics/assets/releases/download/v8.2.0/yolov8n.pt to 'yolov8n.pt'...\n"
          ]
        },
        {
          "name": "stderr",
          "output_type": "stream",
          "text": [
            "100%|██████████| 6.25M/6.25M [00:00<00:00, 77.9MB/s]"
          ]
        },
        {
          "name": "stdout",
          "output_type": "stream",
          "text": [
            "Transferred 355/355 items from pretrained weights\n"
          ]
        },
        {
          "name": "stderr",
          "output_type": "stream",
          "text": [
            "\n"
          ]
        }
      ],
      "source": [
        "yolo_model = YOLO('yolov8n.yaml').load('yolov8n.pt')"
      ]
    },
    {
      "cell_type": "markdown",
      "metadata": {
        "id": "8EMUXQQAn7Hm"
      },
      "source": [
        "#### Training"
      ]
    },
    {
      "cell_type": "code",
      "execution_count": null,
      "metadata": {
        "colab": {
          "base_uri": "https://localhost:8080/"
        },
        "id": "cyofPiscn7Hn",
        "outputId": "bec25f4b-b85a-4a4c-ca62-688298443f0d"
      },
      "outputs": [
        {
          "name": "stdout",
          "output_type": "stream",
          "text": [
            "Ultralytics YOLOv8.2.75 🚀 Python-3.10.12 torch-2.3.1+cu121 CUDA:0 (Tesla T4, 15102MiB)\n",
            "\u001b[34m\u001b[1mengine/trainer: \u001b[0mtask=detect, mode=train, model=yolov8n.yaml, data=/content/drive/MyDrive/AyushVision/yolo8/dataset/ayushvision_rawfruit/data.yaml, epochs=10, time=None, patience=100, batch=16, imgsz=640, save=True, save_period=-1, cache=False, device=None, workers=8, project=/content/drive/MyDrive/AyushVision/10_08_2024/fruits/runs, name=train10, exist_ok=False, pretrained=True, optimizer=Adam, verbose=True, seed=0, deterministic=True, single_cls=False, rect=False, cos_lr=False, close_mosaic=10, resume=False, amp=True, fraction=1.0, profile=False, freeze=None, multi_scale=False, overlap_mask=True, mask_ratio=4, dropout=0.1, val=True, split=val, save_json=False, save_hybrid=False, conf=None, iou=0.7, max_det=300, half=False, dnn=False, plots=True, source=None, vid_stride=1, stream_buffer=False, visualize=False, augment=False, agnostic_nms=False, classes=None, retina_masks=False, embed=None, show=False, save_frames=False, save_txt=False, save_conf=False, save_crop=False, show_labels=True, show_conf=True, show_boxes=True, line_width=None, format=torchscript, keras=False, optimize=False, int8=False, dynamic=False, simplify=False, opset=None, workspace=4, nms=False, lr0=0.01, lrf=0.01, momentum=0.937, weight_decay=0.0005, warmup_epochs=3.0, warmup_momentum=0.8, warmup_bias_lr=0.1, box=7.5, cls=0.5, dfl=1.5, pose=12.0, kobj=1.0, label_smoothing=0.0, nbs=64, hsv_h=0.015, hsv_s=0.7, hsv_v=0.4, degrees=0.0, translate=0.1, scale=0.5, shear=0.0, perspective=0.0, flipud=0.0, fliplr=0.5, bgr=0.0, mosaic=1.0, mixup=0.0, copy_paste=0.0, auto_augment=randaugment, erasing=0.4, crop_fraction=1.0, cfg=None, tracker=botsort.yaml, save_dir=/content/drive/MyDrive/AyushVision/10_08_2024/fruits/runs/train10\n",
            "Downloading https://ultralytics.com/assets/Arial.ttf to '/root/.config/Ultralytics/Arial.ttf'...\n"
          ]
        },
        {
          "name": "stderr",
          "output_type": "stream",
          "text": [
            "100%|██████████| 755k/755k [00:00<00:00, 14.5MB/s]\n"
          ]
        },
        {
          "name": "stdout",
          "output_type": "stream",
          "text": [
            "Overriding model.yaml nc=80 with nc=9\n",
            "\n",
            "                   from  n    params  module                                       arguments                     \n",
            "  0                  -1  1       464  ultralytics.nn.modules.conv.Conv             [3, 16, 3, 2]                 \n",
            "  1                  -1  1      4672  ultralytics.nn.modules.conv.Conv             [16, 32, 3, 2]                \n",
            "  2                  -1  1      7360  ultralytics.nn.modules.block.C2f             [32, 32, 1, True]             \n",
            "  3                  -1  1     18560  ultralytics.nn.modules.conv.Conv             [32, 64, 3, 2]                \n",
            "  4                  -1  2     49664  ultralytics.nn.modules.block.C2f             [64, 64, 2, True]             \n",
            "  5                  -1  1     73984  ultralytics.nn.modules.conv.Conv             [64, 128, 3, 2]               \n",
            "  6                  -1  2    197632  ultralytics.nn.modules.block.C2f             [128, 128, 2, True]           \n",
            "  7                  -1  1    295424  ultralytics.nn.modules.conv.Conv             [128, 256, 3, 2]              \n",
            "  8                  -1  1    460288  ultralytics.nn.modules.block.C2f             [256, 256, 1, True]           \n",
            "  9                  -1  1    164608  ultralytics.nn.modules.block.SPPF            [256, 256, 5]                 \n",
            " 10                  -1  1         0  torch.nn.modules.upsampling.Upsample         [None, 2, 'nearest']          \n",
            " 11             [-1, 6]  1         0  ultralytics.nn.modules.conv.Concat           [1]                           \n",
            " 12                  -1  1    148224  ultralytics.nn.modules.block.C2f             [384, 128, 1]                 \n",
            " 13                  -1  1         0  torch.nn.modules.upsampling.Upsample         [None, 2, 'nearest']          \n",
            " 14             [-1, 4]  1         0  ultralytics.nn.modules.conv.Concat           [1]                           \n",
            " 15                  -1  1     37248  ultralytics.nn.modules.block.C2f             [192, 64, 1]                  \n",
            " 16                  -1  1     36992  ultralytics.nn.modules.conv.Conv             [64, 64, 3, 2]                \n",
            " 17            [-1, 12]  1         0  ultralytics.nn.modules.conv.Concat           [1]                           \n",
            " 18                  -1  1    123648  ultralytics.nn.modules.block.C2f             [192, 128, 1]                 \n",
            " 19                  -1  1    147712  ultralytics.nn.modules.conv.Conv             [128, 128, 3, 2]              \n",
            " 20             [-1, 9]  1         0  ultralytics.nn.modules.conv.Concat           [1]                           \n",
            " 21                  -1  1    493056  ultralytics.nn.modules.block.C2f             [384, 256, 1]                 \n",
            " 22        [15, 18, 21]  1    753067  ultralytics.nn.modules.head.Detect           [9, [64, 128, 256]]           \n",
            "YOLOv8n summary: 225 layers, 3,012,603 parameters, 3,012,587 gradients, 8.2 GFLOPs\n",
            "\n",
            "Transferred 319/355 items from pretrained weights\n",
            "\u001b[34m\u001b[1mTensorBoard: \u001b[0mStart with 'tensorboard --logdir /content/drive/MyDrive/AyushVision/10_08_2024/fruits/runs/train10', view at http://localhost:6006/\n",
            "Freezing layer 'model.22.dfl.conv.weight'\n",
            "\u001b[34m\u001b[1mAMP: \u001b[0mrunning Automatic Mixed Precision (AMP) checks with YOLOv8n...\n",
            "\u001b[34m\u001b[1mAMP: \u001b[0mchecks passed ✅\n"
          ]
        },
        {
          "name": "stderr",
          "output_type": "stream",
          "text": [
            "\u001b[34m\u001b[1mtrain: \u001b[0mScanning /content/drive/MyDrive/AyushVision/yolo8/dataset/ayushvision_rawfruit/train/labels... 3773 images, 0 backgrounds, 0 corrupt: 100%|██████████| 3773/3773 [14:45<00:00,  4.26it/s]\n"
          ]
        },
        {
          "name": "stdout",
          "output_type": "stream",
          "text": [
            "\u001b[34m\u001b[1mtrain: \u001b[0mNew cache created: /content/drive/MyDrive/AyushVision/yolo8/dataset/ayushvision_rawfruit/train/labels.cache\n",
            "\u001b[34m\u001b[1malbumentations: \u001b[0mBlur(p=0.01, blur_limit=(3, 7)), MedianBlur(p=0.01, blur_limit=(3, 7)), ToGray(p=0.01), CLAHE(p=0.01, clip_limit=(1, 4.0), tile_grid_size=(8, 8))\n"
          ]
        },
        {
          "name": "stderr",
          "output_type": "stream",
          "text": [
            "/usr/lib/python3.10/multiprocessing/popen_fork.py:66: RuntimeWarning: os.fork() was called. os.fork() is incompatible with multithreaded code, and JAX is multithreaded, so this will likely lead to a deadlock.\n",
            "  self.pid = os.fork()\n",
            "\u001b[34m\u001b[1mval: \u001b[0mScanning /content/drive/MyDrive/AyushVision/yolo8/dataset/ayushvision_rawfruit/valid/labels... 360 images, 0 backgrounds, 0 corrupt: 100%|██████████| 360/360 [01:16<00:00,  4.70it/s]\n"
          ]
        },
        {
          "name": "stdout",
          "output_type": "stream",
          "text": [
            "\u001b[34m\u001b[1mval: \u001b[0mNew cache created: /content/drive/MyDrive/AyushVision/yolo8/dataset/ayushvision_rawfruit/valid/labels.cache\n",
            "Plotting labels to /content/drive/MyDrive/AyushVision/10_08_2024/fruits/runs/train10/labels.jpg... \n",
            "\u001b[34m\u001b[1moptimizer:\u001b[0m Adam(lr=0.01, momentum=0.937) with parameter groups 57 weight(decay=0.0), 64 weight(decay=0.0005), 63 bias(decay=0.0)\n",
            "\u001b[34m\u001b[1mTensorBoard: \u001b[0mmodel graph visualization added ✅\n",
            "Image sizes 640 train, 640 val\n",
            "Using 2 dataloader workers\n",
            "Logging results to \u001b[1m/content/drive/MyDrive/AyushVision/10_08_2024/fruits/runs/train10\u001b[0m\n",
            "Starting training for 10 epochs...\n",
            "Closing dataloader mosaic\n",
            "\u001b[34m\u001b[1malbumentations: \u001b[0mBlur(p=0.01, blur_limit=(3, 7)), MedianBlur(p=0.01, blur_limit=(3, 7)), ToGray(p=0.01), CLAHE(p=0.01, clip_limit=(1, 4.0), tile_grid_size=(8, 8))\n"
          ]
        },
        {
          "name": "stderr",
          "output_type": "stream",
          "text": [
            "/usr/lib/python3.10/multiprocessing/popen_fork.py:66: RuntimeWarning: os.fork() was called. os.fork() is incompatible with multithreaded code, and JAX is multithreaded, so this will likely lead to a deadlock.\n",
            "  self.pid = os.fork()\n"
          ]
        },
        {
          "name": "stdout",
          "output_type": "stream",
          "text": [
            "\n",
            "      Epoch    GPU_mem   box_loss   cls_loss   dfl_loss  Instances       Size\n"
          ]
        },
        {
          "name": "stderr",
          "output_type": "stream",
          "text": [
            "       1/10      2.46G      1.918      2.975      2.183         17        640: 100%|██████████| 236/236 [02:02<00:00,  1.93it/s]\n",
            "                 Class     Images  Instances      Box(P          R      mAP50  mAP50-95): 100%|██████████| 12/12 [00:18<00:00,  1.50s/it]"
          ]
        },
        {
          "name": "stdout",
          "output_type": "stream",
          "text": [
            "                   all        360        456      0.128      0.166    0.00183   0.000463\n"
          ]
        },
        {
          "name": "stderr",
          "output_type": "stream",
          "text": [
            "\n"
          ]
        },
        {
          "name": "stdout",
          "output_type": "stream",
          "text": [
            "\n",
            "      Epoch    GPU_mem   box_loss   cls_loss   dfl_loss  Instances       Size\n"
          ]
        },
        {
          "name": "stderr",
          "output_type": "stream",
          "text": [
            "       2/10      2.27G      1.935      2.672       2.16         23        640: 100%|██████████| 236/236 [01:53<00:00,  2.09it/s]\n",
            "                 Class     Images  Instances      Box(P          R      mAP50  mAP50-95): 100%|██████████| 12/12 [00:06<00:00,  1.88it/s]\n"
          ]
        },
        {
          "name": "stdout",
          "output_type": "stream",
          "text": [
            "                   all        360        456      0.509       0.11     0.0753     0.0303\n",
            "\n",
            "      Epoch    GPU_mem   box_loss   cls_loss   dfl_loss  Instances       Size\n"
          ]
        },
        {
          "name": "stderr",
          "output_type": "stream",
          "text": [
            "       3/10      2.27G      1.817      2.461      2.036         15        640: 100%|██████████| 236/236 [01:49<00:00,  2.15it/s]\n",
            "                 Class     Images  Instances      Box(P          R      mAP50  mAP50-95): 100%|██████████| 12/12 [00:08<00:00,  1.41it/s]\n"
          ]
        },
        {
          "name": "stdout",
          "output_type": "stream",
          "text": [
            "                   all        360        456      0.279      0.311      0.193     0.0893\n",
            "\n",
            "      Epoch    GPU_mem   box_loss   cls_loss   dfl_loss  Instances       Size\n"
          ]
        },
        {
          "name": "stderr",
          "output_type": "stream",
          "text": [
            "       4/10      2.27G      1.753       2.26      1.967         19        640: 100%|██████████| 236/236 [01:49<00:00,  2.16it/s]\n",
            "                 Class     Images  Instances      Box(P          R      mAP50  mAP50-95): 100%|██████████| 12/12 [00:06<00:00,  1.96it/s]\n"
          ]
        },
        {
          "name": "stdout",
          "output_type": "stream",
          "text": [
            "                   all        360        456      0.297      0.384      0.255      0.118\n",
            "\n",
            "      Epoch    GPU_mem   box_loss   cls_loss   dfl_loss  Instances       Size\n"
          ]
        },
        {
          "name": "stderr",
          "output_type": "stream",
          "text": [
            "       5/10      2.27G      1.673      2.077      1.893         15        640: 100%|██████████| 236/236 [01:49<00:00,  2.15it/s]\n",
            "                 Class     Images  Instances      Box(P          R      mAP50  mAP50-95): 100%|██████████| 12/12 [00:04<00:00,  2.47it/s]"
          ]
        },
        {
          "name": "stdout",
          "output_type": "stream",
          "text": [
            "                   all        360        456      0.562      0.489       0.48      0.266\n"
          ]
        },
        {
          "name": "stderr",
          "output_type": "stream",
          "text": [
            "\n"
          ]
        },
        {
          "name": "stdout",
          "output_type": "stream",
          "text": [
            "\n",
            "      Epoch    GPU_mem   box_loss   cls_loss   dfl_loss  Instances       Size\n"
          ]
        },
        {
          "name": "stderr",
          "output_type": "stream",
          "text": [
            "       6/10      2.27G       1.62      1.887      1.818         18        640: 100%|██████████| 236/236 [01:49<00:00,  2.16it/s]\n",
            "                 Class     Images  Instances      Box(P          R      mAP50  mAP50-95): 100%|██████████| 12/12 [00:04<00:00,  2.48it/s]"
          ]
        },
        {
          "name": "stdout",
          "output_type": "stream",
          "text": [
            "                   all        360        456      0.573      0.516      0.579      0.327\n"
          ]
        },
        {
          "name": "stderr",
          "output_type": "stream",
          "text": [
            "\n"
          ]
        },
        {
          "name": "stdout",
          "output_type": "stream",
          "text": [
            "\n",
            "      Epoch    GPU_mem   box_loss   cls_loss   dfl_loss  Instances       Size\n"
          ]
        },
        {
          "name": "stderr",
          "output_type": "stream",
          "text": [
            "       7/10      2.27G      1.561       1.76       1.76         15        640: 100%|██████████| 236/236 [01:51<00:00,  2.12it/s]\n",
            "                 Class     Images  Instances      Box(P          R      mAP50  mAP50-95): 100%|██████████| 12/12 [00:04<00:00,  2.47it/s]\n"
          ]
        },
        {
          "name": "stdout",
          "output_type": "stream",
          "text": [
            "                   all        360        456      0.433      0.515      0.455      0.252\n",
            "\n",
            "      Epoch    GPU_mem   box_loss   cls_loss   dfl_loss  Instances       Size\n"
          ]
        },
        {
          "name": "stderr",
          "output_type": "stream",
          "text": [
            "       8/10      2.27G      1.513       1.66      1.718         20        640: 100%|██████████| 236/236 [01:51<00:00,  2.11it/s]\n",
            "                 Class     Images  Instances      Box(P          R      mAP50  mAP50-95): 100%|██████████| 12/12 [00:04<00:00,  2.56it/s]\n"
          ]
        },
        {
          "name": "stdout",
          "output_type": "stream",
          "text": [
            "                   all        360        456      0.624      0.615      0.621      0.369\n",
            "\n",
            "      Epoch    GPU_mem   box_loss   cls_loss   dfl_loss  Instances       Size\n"
          ]
        },
        {
          "name": "stderr",
          "output_type": "stream",
          "text": [
            "       9/10      2.27G      1.448      1.512      1.659         14        640: 100%|██████████| 236/236 [01:51<00:00,  2.11it/s]\n",
            "                 Class     Images  Instances      Box(P          R      mAP50  mAP50-95): 100%|██████████| 12/12 [00:04<00:00,  2.42it/s]\n"
          ]
        },
        {
          "name": "stdout",
          "output_type": "stream",
          "text": [
            "                   all        360        456      0.726      0.591      0.676      0.416\n",
            "\n",
            "      Epoch    GPU_mem   box_loss   cls_loss   dfl_loss  Instances       Size\n"
          ]
        },
        {
          "name": "stderr",
          "output_type": "stream",
          "text": [
            "      10/10      2.27G      1.416      1.424      1.619         14        640: 100%|██████████| 236/236 [01:50<00:00,  2.13it/s]\n",
            "                 Class     Images  Instances      Box(P          R      mAP50  mAP50-95): 100%|██████████| 12/12 [00:05<00:00,  2.30it/s]"
          ]
        },
        {
          "name": "stdout",
          "output_type": "stream",
          "text": [
            "                   all        360        456      0.754      0.605      0.696      0.435\n"
          ]
        },
        {
          "name": "stderr",
          "output_type": "stream",
          "text": [
            "\n"
          ]
        },
        {
          "name": "stdout",
          "output_type": "stream",
          "text": [
            "\n",
            "10 epochs completed in 0.336 hours.\n",
            "Optimizer stripped from /content/drive/MyDrive/AyushVision/10_08_2024/fruits/runs/train10/weights/last.pt, 6.2MB\n",
            "Optimizer stripped from /content/drive/MyDrive/AyushVision/10_08_2024/fruits/runs/train10/weights/best.pt, 6.2MB\n",
            "\n",
            "Validating /content/drive/MyDrive/AyushVision/10_08_2024/fruits/runs/train10/weights/best.pt...\n",
            "Ultralytics YOLOv8.2.75 🚀 Python-3.10.12 torch-2.3.1+cu121 CUDA:0 (Tesla T4, 15102MiB)\n",
            "YOLOv8n summary (fused): 168 layers, 3,007,403 parameters, 0 gradients, 8.1 GFLOPs\n"
          ]
        },
        {
          "name": "stderr",
          "output_type": "stream",
          "text": [
            "                 Class     Images  Instances      Box(P          R      mAP50  mAP50-95): 100%|██████████| 12/12 [00:11<00:00,  1.04it/s]\n"
          ]
        },
        {
          "name": "stdout",
          "output_type": "stream",
          "text": [
            "                   all        360        456      0.755      0.605      0.696      0.435\n",
            "                caster         80        105      0.774      0.562      0.631      0.361\n",
            "         Indian_mallow         40         48      0.926      0.524      0.794      0.456\n",
            "             Ivy_gourd         40         45      0.808      0.842       0.86       0.68\n",
            "                  Lime         40         48      0.504      0.646      0.519      0.254\n",
            "           Long_pepper         40         61      0.781      0.557      0.736      0.461\n",
            "         Pedaliummurex         41         63      0.591     0.0635      0.274      0.133\n",
            "      Red_Pea_Eggplant         40         44      0.741       0.91      0.928      0.549\n",
            "       Ring_worm_plant         40         42      0.912      0.737      0.828      0.587\n",
            "Speed: 0.5ms preprocess, 3.7ms inference, 0.0ms loss, 7.6ms postprocess per image\n",
            "Results saved to \u001b[1m/content/drive/MyDrive/AyushVision/10_08_2024/fruits/runs/train10\u001b[0m\n"
          ]
        }
      ],
      "source": [
        "results = yolo_model.train(data=data,name=name, epochs=epochs, imgsz=imageSize,project=project,optimizer=optimizer,plots=True,dropout=dropout)"
      ]
    },
    {
      "cell_type": "code",
      "execution_count": null,
      "metadata": {
        "id": "j0b7pQMdwiee"
      },
      "outputs": [],
      "source": [
        "today_training_ref=today_ref.collection('Train').add({\n",
        "    epochs:epochs,\n",
        "    imageSize:imageSize,\n",
        "    optimizer:optimizer,\n",
        "    dropout:dropout,\n",
        "})"
      ]
    },
    {
      "cell_type": "code",
      "execution_count": null,
      "metadata": {
        "id": "g-BcnpaezP3a"
      },
      "outputs": [],
      "source": [
        "trainfiles={}\n",
        "wights={}"
      ]
    },
    {
      "cell_type": "code",
      "execution_count": null,
      "metadata": {
        "id": "jhuDVlf7xyNL"
      },
      "outputs": [],
      "source": [
        "for file in os.listdir(f\"{project}/{name}\"):\n",
        "  if os.path.isfile(f\"{project}/{name}/{file}\"):\n",
        "    blob = bucket.blob(f\"yolo/fruit/train/{epochs}/{file}\")\n",
        "    blob.upload_from_filename(f\"{project}/{name}/{file}\")\n",
        "    blob.make_public()\n",
        "    trainfiles[os.path.splitext(file)[0]]=blob.public_url\n"
      ]
    },
    {
      "cell_type": "code",
      "execution_count": null,
      "metadata": {
        "id": "qbmOsJHgNmoU"
      },
      "outputs": [],
      "source": [
        "for file in os.listdir(f\"{project}/{name}/weights\"):\n",
        "  if os.path.isfile(f\"{project}/{name}/weights/{file}\"):\n",
        "    blob = bucket.blob(f\"yolo/fruit/train/{epochs}/weights/{file}\")\n",
        "    blob.upload_from_filename(f\"{project}/{name}/weights/{file}\")\n",
        "    blob.make_public()\n",
        "    wights[os.path.splitext(file)[0]]=blob.public_url"
      ]
    },
    {
      "cell_type": "code",
      "execution_count": null,
      "metadata": {
        "id": "rMcQNIy10MUP"
      },
      "outputs": [],
      "source": [
        "today_training_ref.update({\n",
        "    \"files\":trainfiles,\n",
        "    \"weights\":wights\n",
        "})"
      ]
    },
    {
      "cell_type": "markdown",
      "metadata": {
        "id": "vebaeyvan7Ho"
      },
      "source": [
        "#### Validation"
      ]
    },
    {
      "cell_type": "code",
      "execution_count": null,
      "metadata": {
        "id": "-9orCdN0n7Ho"
      },
      "outputs": [],
      "source": [
        "model_train_path=f'{project}/{name}/weights/best.pt'"
      ]
    },
    {
      "cell_type": "code",
      "execution_count": null,
      "metadata": {
        "id": "eGWISZx7n7Hp"
      },
      "outputs": [],
      "source": [
        "model = YOLO(model_train_path)  # load a custom trained model"
      ]
    },
    {
      "cell_type": "code",
      "execution_count": null,
      "metadata": {
        "colab": {
          "base_uri": "https://localhost:8080/"
        },
        "id": "AXl1m-taeNDN",
        "outputId": "d2ef32a5-2d2a-4334-e2ba-b32990843ecc"
      },
      "outputs": [
        {
          "name": "stdout",
          "output_type": "stream",
          "text": [
            "Ultralytics YOLOv8.2.75 🚀 Python-3.10.12 torch-2.3.1+cu121 CUDA:0 (Tesla T4, 15102MiB)\n",
            "YOLOv8n summary (fused): 168 layers, 3,007,403 parameters, 0 gradients, 8.1 GFLOPs\n"
          ]
        },
        {
          "name": "stderr",
          "output_type": "stream",
          "text": [
            "\u001b[34m\u001b[1mval: \u001b[0mScanning /content/drive/MyDrive/AyushVision/yolo8/dataset/ayushvision_rawfruit/valid/labels.cache... 360 images, 0 backgrounds, 0 corrupt: 100%|██████████| 360/360 [00:00<?, ?it/s]\n",
            "/usr/lib/python3.10/multiprocessing/popen_fork.py:66: RuntimeWarning: os.fork() was called. os.fork() is incompatible with multithreaded code, and JAX is multithreaded, so this will likely lead to a deadlock.\n",
            "  self.pid = os.fork()\n",
            "                 Class     Images  Instances      Box(P          R      mAP50  mAP50-95): 100%|██████████| 23/23 [00:14<00:00,  1.59it/s]\n"
          ]
        },
        {
          "name": "stdout",
          "output_type": "stream",
          "text": [
            "                   all        360        456      0.754      0.605      0.696      0.435\n",
            "                caster         80        105      0.773      0.562      0.631       0.36\n",
            "         Indian_mallow         40         48      0.926      0.524      0.794      0.456\n",
            "             Ivy_gourd         40         45      0.808      0.842       0.86       0.68\n",
            "                  Lime         40         48      0.504      0.646      0.519       0.26\n",
            "           Long_pepper         40         61      0.781      0.557      0.736       0.46\n",
            "         Pedaliummurex         41         63      0.589     0.0635       0.27      0.131\n",
            "      Red_Pea_Eggplant         40         44      0.741       0.91      0.928      0.547\n",
            "       Ring_worm_plant         40         42      0.912      0.738      0.828      0.588\n",
            "Speed: 0.6ms preprocess, 8.1ms inference, 0.0ms loss, 5.4ms postprocess per image\n",
            "Saving /content/drive/MyDrive/AyushVision/10_08_2024/fruits/runs/val10/predictions.json...\n",
            "Results saved to \u001b[1m/content/drive/MyDrive/AyushVision/10_08_2024/fruits/runs/val10\u001b[0m\n"
          ]
        }
      ],
      "source": [
        "metrics = model.val(save_json=True,plots=True,project=project,name=f'val{epochs}')  # no arguments needed, dataset and settings remembered"
      ]
    },
    {
      "cell_type": "code",
      "execution_count": null,
      "metadata": {
        "id": "q9FLMqVSzVDo"
      },
      "outputs": [],
      "source": [
        "val_today_ref=today_ref.collection('Val').add({\n",
        "   epochs:epochs\n",
        "})"
      ]
    },
    {
      "cell_type": "code",
      "execution_count": null,
      "metadata": {
        "id": "zUlTjrFB0JtF"
      },
      "outputs": [],
      "source": [
        "valfiles={}"
      ]
    },
    {
      "cell_type": "code",
      "execution_count": null,
      "metadata": {
        "id": "f5kMLdoCTg9l"
      },
      "outputs": [],
      "source": [
        "for file in os.listdir(f\"{project}/val{epochs}\"):\n",
        "  if os.path.isfile(f\"{project}/val{epochs}/{file}\"):\n",
        "    blob = bucket.blob(f\"yolo/fruit/val/{epochs}/{file}\")\n",
        "    blob.upload_from_filename(f\"{project}/val{epochs}/{file}\")\n",
        "    blob.make_public()\n",
        "    valfiles[os.path.splitext(file)[0]]=blob.public_url"
      ]
    },
    {
      "cell_type": "code",
      "execution_count": null,
      "metadata": {
        "id": "P5xtzL5GUB_H"
      },
      "outputs": [],
      "source": [
        "val_today_ref.update({\n",
        "    'files':valfiles,\n",
        "    'metrics':{\n",
        "        'box':{\n",
        "            'map50':metrics.box.map50,\n",
        "            'map75':metrics.box.map75,\n",
        "            'maps':metrics.box.maps,\n",
        "        }\n",
        "    }\n",
        "})"
      ]
    },
    {
      "cell_type": "code",
      "execution_count": null,
      "metadata": {
        "colab": {
          "base_uri": "https://localhost:8080/"
        },
        "id": "P8B6V3_wwohd",
        "outputId": "3435fe11-884d-4737-94ce-48b26f90e93d"
      },
      "outputs": [
        {
          "data": {
            "text/plain": [
              "0.8589041190345956"
            ]
          },
          "execution_count": 21,
          "metadata": {},
          "output_type": "execute_result"
        }
      ],
      "source": [
        "metrics.box.map50"
      ]
    },
    {
      "cell_type": "code",
      "execution_count": null,
      "metadata": {
        "colab": {
          "base_uri": "https://localhost:8080/"
        },
        "id": "ZN0NsU2kwsYW",
        "outputId": "68e67b0e-ac8e-443b-8266-96566298c194"
      },
      "outputs": [
        {
          "data": {
            "text/plain": [
              "0.639577746476327"
            ]
          },
          "execution_count": 22,
          "metadata": {},
          "output_type": "execute_result"
        }
      ],
      "source": [
        "metrics.box.map75"
      ]
    },
    {
      "cell_type": "code",
      "execution_count": null,
      "metadata": {
        "colab": {
          "base_uri": "https://localhost:8080/"
        },
        "id": "xaONZry0wx04",
        "outputId": "546304af-fc3f-48f6-d01b-3937377051b4"
      },
      "outputs": [
        {
          "data": {
            "text/plain": [
              "array([     0.5406,     0.57343,     0.74344,     0.49199,     0.57389,     0.24103,     0.66876,      0.7052])"
            ]
          },
          "execution_count": 23,
          "metadata": {},
          "output_type": "execute_result"
        }
      ],
      "source": [
        "metrics.box.maps"
      ]
    },
    {
      "cell_type": "markdown",
      "metadata": {
        "id": "jkbwnnv_n7Hp"
      },
      "source": [
        "#### Predict"
      ]
    },
    {
      "cell_type": "code",
      "execution_count": null,
      "metadata": {
        "id": "DAQcdN7Mn7Hp"
      },
      "outputs": [],
      "source": [
        "testImages=[]"
      ]
    },
    {
      "cell_type": "code",
      "execution_count": null,
      "metadata": {
        "id": "jZqo_7AGkI0j"
      },
      "outputs": [],
      "source": [
        "for root,dirs,files in os.walk(f\"{work_dirctory}/ayushvision_fruits/test/images\"):\n",
        "  for file in files:\n",
        "    testImages.append(os.path.join(root,file))"
      ]
    },
    {
      "cell_type": "code",
      "execution_count": null,
      "metadata": {
        "colab": {
          "base_uri": "https://localhost:8080/"
        },
        "id": "BPGQn58Qn7Hp",
        "outputId": "ec39df05-5b65-4df4-a88b-9a19bb04907e"
      },
      "outputs": [
        {
          "name": "stdout",
          "output_type": "stream",
          "text": [
            "\n",
            "0: 640x640 2 Long_peppers, 451.0ms\n",
            "1: 640x640 3 Long_peppers, 451.0ms\n",
            "2: 640x640 1 Long_pepper, 451.0ms\n",
            "3: 640x640 1 Long_pepper, 451.0ms\n",
            "4: 640x640 6 Long_peppers, 451.0ms\n",
            "5: 640x640 2 Long_peppers, 451.0ms\n",
            "6: 640x640 1 Long_pepper, 451.0ms\n",
            "7: 640x640 1 Long_pepper, 451.0ms\n",
            "8: 640x640 1 Long_pepper, 451.0ms\n",
            "9: 640x640 1 Long_pepper, 451.0ms\n",
            "10: 640x640 1 Long_pepper, 451.0ms\n",
            "11: 640x640 1 Long_pepper, 451.0ms\n",
            "12: 640x640 1 Long_pepper, 451.0ms\n",
            "13: 640x640 1 Long_pepper, 451.0ms\n",
            "14: 640x640 1 Long_pepper, 451.0ms\n",
            "15: 640x640 1 Long_pepper, 451.0ms\n",
            "16: 640x640 1 Red_Pea_Eggplant, 451.0ms\n",
            "17: 640x640 1 Red_Pea_Eggplant, 451.0ms\n",
            "18: 640x640 1 Red_Pea_Eggplant, 451.0ms\n",
            "19: 640x640 2 Red_Pea_Eggplants, 451.0ms\n",
            "20: 640x640 2 Red_Pea_Eggplants, 451.0ms\n",
            "21: 640x640 2 Red_Pea_Eggplants, 451.0ms\n",
            "22: 640x640 2 Red_Pea_Eggplants, 451.0ms\n",
            "23: 640x640 1 Red_Pea_Eggplant, 451.0ms\n",
            "24: 640x640 1 Red_Pea_Eggplant, 451.0ms\n",
            "25: 640x640 1 Red_Pea_Eggplant, 451.0ms\n",
            "26: 640x640 2 Red_Pea_Eggplants, 451.0ms\n",
            "27: 640x640 1 Red_Pea_Eggplant, 451.0ms\n",
            "28: 640x640 1 Red_Pea_Eggplant, 451.0ms\n",
            "29: 640x640 5 Pedaliummurexs, 451.0ms\n",
            "30: 640x640 1 Pedaliummurex, 451.0ms\n",
            "31: 640x640 1 Pedaliummurex, 451.0ms\n",
            "32: 640x640 1 Pedaliummurex, 451.0ms\n",
            "33: 640x640 1 Pedaliummurex, 451.0ms\n",
            "34: 640x640 1 Pedaliummurex, 451.0ms\n",
            "35: 640x640 1 Pedaliummurex, 451.0ms\n",
            "36: 640x640 1 Pedaliummurex, 451.0ms\n",
            "37: 640x640 1 Pedaliummurex, 451.0ms\n",
            "38: 640x640 1 Pedaliummurex, 451.0ms\n",
            "39: 640x640 1 Pedaliummurex, 451.0ms\n",
            "40: 640x640 3 Pedaliummurexs, 451.0ms\n",
            "41: 640x640 2 Pedaliummurexs, 451.0ms\n",
            "42: 640x640 1 Pedaliummurex, 451.0ms\n",
            "43: 640x640 1 Pedaliummurex, 451.0ms\n",
            "44: 640x640 1 Pedaliummurex, 451.0ms\n",
            "45: 640x640 3 Pedaliummurexs, 451.0ms\n",
            "46: 640x640 5 Pedaliummurexs, 451.0ms\n",
            "47: 640x640 9 Pedaliummurexs, 451.0ms\n",
            "48: 640x640 3 Pedaliummurexs, 451.0ms\n",
            "49: 640x640 3 Ivy_gourds, 451.0ms\n",
            "50: 640x640 4 Ivy_gourds, 451.0ms\n",
            "51: 640x640 2 Ivy_gourds, 451.0ms\n",
            "52: 640x640 2 Ivy_gourds, 451.0ms\n",
            "53: 640x640 4 Ivy_gourds, 451.0ms\n",
            "54: 640x640 1 Ivy_gourd, 451.0ms\n",
            "55: 640x640 1 Ivy_gourd, 451.0ms\n",
            "56: 640x640 3 Ivy_gourds, 451.0ms\n",
            "57: 640x640 3 Ring_worm_plants, 451.0ms\n",
            "58: 640x640 1 Indian_mallow, 451.0ms\n",
            "59: 640x640 2 Indian_mallows, 451.0ms\n",
            "60: 640x640 1 Indian_mallow, 451.0ms\n",
            "61: 640x640 1 Indian_mallow, 451.0ms\n",
            "62: 640x640 1 Indian_mallow, 451.0ms\n",
            "63: 640x640 1 Indian_mallow, 451.0ms\n",
            "64: 640x640 1 Indian_mallow, 451.0ms\n",
            "65: 640x640 1 Indian_mallow, 451.0ms\n",
            "66: 640x640 1 Indian_mallow, 451.0ms\n",
            "67: 640x640 1 Indian_mallow, 451.0ms\n",
            "68: 640x640 1 Indian_mallow, 451.0ms\n",
            "69: 640x640 2 Indian_mallows, 451.0ms\n",
            "70: 640x640 1 Indian_mallow, 451.0ms\n",
            "71: 640x640 1 Indian_mallow, 451.0ms\n",
            "72: 640x640 1 Indian_mallow, 451.0ms\n",
            "73: 640x640 1 Ivy_gourd, 451.0ms\n",
            "74: 640x640 1 Ivy_gourd, 451.0ms\n",
            "75: 640x640 1 Ivy_gourd, 451.0ms\n",
            "76: 640x640 1 Ivy_gourd, 451.0ms\n",
            "77: 640x640 1 Ivy_gourd, 451.0ms\n",
            "78: 640x640 1 Ivy_gourd, 451.0ms\n",
            "79: 640x640 1 Ivy_gourd, 451.0ms\n",
            "80: 640x640 1 Ivy_gourd, 451.0ms\n",
            "81: 640x640 1 Ivy_gourd, 451.0ms\n",
            "82: 640x640 2 Ivy_gourds, 451.0ms\n",
            "83: 640x640 1 Ivy_gourd, 451.0ms\n",
            "84: 640x640 1 Long_pepper, 451.0ms\n",
            "85: 640x640 3 Long_peppers, 451.0ms\n",
            "86: 640x640 2 Long_peppers, 451.0ms\n",
            "87: 640x640 1 Long_pepper, 451.0ms\n",
            "88: 640x640 2 Ring_worm_plants, 451.0ms\n",
            "89: 640x640 2 Ring_worm_plants, 451.0ms\n",
            "90: 640x640 1 Ring_worm_plant, 451.0ms\n",
            "91: 640x640 2 Ring_worm_plants, 451.0ms\n",
            "92: 640x640 2 Ring_worm_plants, 451.0ms\n",
            "93: 640x640 2 Ring_worm_plants, 451.0ms\n",
            "94: 640x640 1 Ring_worm_plant, 451.0ms\n",
            "95: 640x640 1 Ring_worm_plant, 451.0ms\n",
            "96: 640x640 1 Ring_worm_plant, 451.0ms\n",
            "97: 640x640 1 Ring_worm_plant, 451.0ms\n",
            "98: 640x640 1 Ring_worm_plant, 451.0ms\n",
            "99: 640x640 1 Ring_worm_plant, 451.0ms\n",
            "100: 640x640 1 Ring_worm_plant, 451.0ms\n",
            "101: 640x640 1 Ring_worm_plant, 451.0ms\n",
            "102: 640x640 2 Ring_worm_plants, 451.0ms\n",
            "103: 640x640 1 Ring_worm_plant, 451.0ms\n",
            "104: 640x640 1 Ring_worm_plant, 451.0ms\n",
            "105: 640x640 1 Ring_worm_plant, 451.0ms\n",
            "106: 640x640 1 Ring_worm_plant, 451.0ms\n",
            "107: 640x640 1 Ring_worm_plant, 451.0ms\n",
            "108: 640x640 1 Indian_mallow, 451.0ms\n",
            "109: 640x640 2 Indian_mallows, 451.0ms\n",
            "110: 640x640 2 Indian_mallows, 451.0ms\n",
            "111: 640x640 1 Indian_mallow, 451.0ms\n",
            "112: 640x640 1 Indian_mallow, 451.0ms\n",
            "113: 640x640 1 Ring_worm_plant, 1 ThornApple, 451.0ms\n",
            "114: 640x640 1 Ring_worm_plant, 1 ThornApple, 451.0ms\n",
            "115: 640x640 2 ThornApples, 451.0ms\n",
            "116: 640x640 1 ThornApple, 451.0ms\n",
            "117: 640x640 1 ThornApple, 451.0ms\n",
            "118: 640x640 1 ThornApple, 451.0ms\n",
            "119: 640x640 1 ThornApple, 451.0ms\n",
            "120: 640x640 1 ThornApple, 451.0ms\n",
            "121: 640x640 2 ThornApples, 451.0ms\n",
            "122: 640x640 1 ThornApple, 451.0ms\n",
            "123: 640x640 1 ThornApple, 451.0ms\n",
            "124: 640x640 1 ThornApple, 451.0ms\n",
            "125: 640x640 1 ThornApple, 451.0ms\n",
            "126: 640x640 1 ThornApple, 451.0ms\n",
            "127: 640x640 1 Pedaliummurex, 1 ThornApple, 451.0ms\n",
            "128: 640x640 1 ThornApple, 451.0ms\n",
            "129: 640x640 1 ThornApple, 451.0ms\n",
            "130: 640x640 1 ThornApple, 451.0ms\n",
            "131: 640x640 1 ThornApple, 451.0ms\n",
            "132: 640x640 1 ThornApple, 451.0ms\n",
            "133: 640x640 1 Lime, 451.0ms\n",
            "134: 640x640 1 Lime, 451.0ms\n",
            "135: 640x640 1 Lime, 451.0ms\n",
            "136: 640x640 1 Lime, 451.0ms\n",
            "137: 640x640 1 Lime, 451.0ms\n",
            "138: 640x640 1 Lime, 451.0ms\n",
            "139: 640x640 1 Lime, 451.0ms\n",
            "140: 640x640 1 Lime, 451.0ms\n",
            "141: 640x640 1 Lime, 451.0ms\n",
            "142: 640x640 1 Lime, 451.0ms\n",
            "143: 640x640 1 Lime, 451.0ms\n",
            "144: 640x640 1 Lime, 451.0ms\n",
            "145: 640x640 1 Lime, 451.0ms\n",
            "146: 640x640 7 Limes, 451.0ms\n",
            "147: 640x640 1 Lime, 451.0ms\n",
            "148: 640x640 1 Lime, 451.0ms\n",
            "149: 640x640 1 Lime, 451.0ms\n",
            "150: 640x640 2 Limes, 451.0ms\n",
            "151: 640x640 1 Lime, 451.0ms\n",
            "152: 640x640 1 Lime, 451.0ms\n",
            "153: 640x640 1 Red_Pea_Eggplant, 451.0ms\n",
            "154: 640x640 1 Red_Pea_Eggplant, 451.0ms\n",
            "155: 640x640 (no detections), 451.0ms\n",
            "156: 640x640 1 Red_Pea_Eggplant, 451.0ms\n",
            "157: 640x640 1 Red_Pea_Eggplant, 451.0ms\n",
            "158: 640x640 1 Red_Pea_Eggplant, 451.0ms\n",
            "159: 640x640 1 Red_Pea_Eggplant, 451.0ms\n",
            "Speed: 9.7ms preprocess, 451.0ms inference, 0.6ms postprocess per image at shape (1, 3, 640, 640)\n"
          ]
        }
      ],
      "source": [
        "model = YOLO(model_train_path)  # load a custom model\n",
        "\n",
        "# Predict with the model\n",
        "results = model(testImages)"
      ]
    },
    {
      "cell_type": "code",
      "execution_count": null,
      "metadata": {
        "id": "xKZ8DDRumwwW"
      },
      "outputs": [],
      "source": [
        "list=[]"
      ]
    },
    {
      "cell_type": "code",
      "execution_count": null,
      "metadata": {
        "id": "hB4kWph9xI05"
      },
      "outputs": [],
      "source": [
        "os.makedirs(f\"{today_work_dirctory}/predicts{epochs}\")"
      ]
    },
    {
      "cell_type": "code",
      "execution_count": null,
      "metadata": {
        "colab": {
          "base_uri": "https://localhost:8080/"
        },
        "id": "_gWIS5rDx1Fd",
        "outputId": "03ee56f3-eeed-4c1a-e654-8d99387af7b7"
      },
      "outputs": [
        {
          "data": {
            "text/plain": [
              "160"
            ]
          },
          "execution_count": 29,
          "metadata": {},
          "output_type": "execute_result"
        }
      ],
      "source": [
        "len(results)"
      ]
    },
    {
      "cell_type": "code",
      "execution_count": null,
      "metadata": {
        "id": "34-zsVB32uF8"
      },
      "outputs": [],
      "source": [
        "for result in results:\n",
        "    boxes = result.boxes  # Boxes object for bounding box outputs\n",
        "    masks = result.masks  # Masks object for segmentation masks outputs\n",
        "    keypoints = result.keypoints  # Keypoints object for pose outputs\n",
        "    probs = result.probs  # Probs object for classification outputs\n",
        "    obb = result.obb  # Oriented boxes object for OBB outputs\n",
        "    result.show()  # display to screen\n",
        "    result.save(filename=f\"{today_work_dirctory}/predicts{epochs}/{random.randint(1,len(results)+1)}.png\")  # save to disk"
      ]
    },
    {
      "cell_type": "code",
      "execution_count": null,
      "metadata": {
        "id": "0RUmmiBt4lXL"
      },
      "outputs": [],
      "source": [
        "predicts=[]"
      ]
    },
    {
      "cell_type": "code",
      "execution_count": null,
      "metadata": {
        "id": "kc95wLTF4B3s"
      },
      "outputs": [],
      "source": [
        "for file in os.listdir(f\"{today_work_dirctory}/predicts{epochs}\"):\n",
        "  if os.path.isfile(f\"{today_work_dirctory}/predicts{epochs}/{file}\"):\n",
        "    blob = bucket.blob(f\"yolo/fruit/predict/{epochs}/{file}\")\n",
        "    blob.upload_from_filename(f\"{today_work_dirctory}/predicts{epochs}/{file}\")\n",
        "    blob.make_public()\n",
        "    predicts.append(blob.public_url)"
      ]
    },
    {
      "cell_type": "code",
      "execution_count": null,
      "metadata": {
        "id": "fZ5L5tpg4htg"
      },
      "outputs": [],
      "source": [
        "today_ref.collection('Predict').add({\n",
        "    'files':predicts\n",
        "})"
      ]
    },
    {
      "cell_type": "markdown",
      "metadata": {
        "id": "IQWY9Bqbn7Hq"
      },
      "source": [
        "### Export Model"
      ]
    },
    {
      "cell_type": "code",
      "execution_count": null,
      "metadata": {
        "colab": {
          "base_uri": "https://localhost:8080/",
          "height": 854
        },
        "id": "YezH7LaIn7Hq",
        "outputId": "304e6a18-2a5f-4e52-928d-c6ff24c0a5f6"
      },
      "outputs": [
        {
          "name": "stdout",
          "output_type": "stream",
          "text": [
            "Ultralytics YOLOv8.2.74 🚀 Python-3.10.12 torch-2.3.1+cu121 CPU (Intel Xeon 2.20GHz)\n",
            "\n",
            "\u001b[34m\u001b[1mPyTorch:\u001b[0m starting from '/content/drive/MyDrive/Research/07_08_2024/fruits/runs/train30/weights/best.pt' with input shape (1, 3, 640, 640) BCHW and output shape(s) (1, 12, 8400) (6.0 MB)\n",
            "\u001b[31m\u001b[1mrequirements:\u001b[0m Ultralytics requirements ['onnx>=1.12.0', 'onnxslim>=0.1.31', 'onnxruntime'] not found, attempting AutoUpdate...\n",
            "Collecting onnx>=1.12.0\n",
            "  Downloading onnx-1.16.2-cp310-cp310-manylinux_2_17_x86_64.manylinux2014_x86_64.whl.metadata (16 kB)\n",
            "Collecting onnxslim>=0.1.31\n",
            "  Downloading onnxslim-0.1.32-py3-none-any.whl.metadata (2.7 kB)\n",
            "Collecting onnxruntime\n",
            "  Downloading onnxruntime-1.18.1-cp310-cp310-manylinux_2_27_x86_64.manylinux_2_28_x86_64.whl.metadata (4.3 kB)\n",
            "Requirement already satisfied: numpy>=1.20 in /usr/local/lib/python3.10/dist-packages (from onnx>=1.12.0) (1.26.4)\n",
            "Requirement already satisfied: protobuf>=3.20.2 in /usr/local/lib/python3.10/dist-packages (from onnx>=1.12.0) (3.20.3)\n",
            "Requirement already satisfied: sympy in /usr/local/lib/python3.10/dist-packages (from onnxslim>=0.1.31) (1.13.1)\n",
            "Requirement already satisfied: packaging in /usr/local/lib/python3.10/dist-packages (from onnxslim>=0.1.31) (24.1)\n",
            "Collecting coloredlogs (from onnxruntime)\n",
            "  Downloading coloredlogs-15.0.1-py2.py3-none-any.whl.metadata (12 kB)\n",
            "Requirement already satisfied: flatbuffers in /usr/local/lib/python3.10/dist-packages (from onnxruntime) (24.3.25)\n",
            "Collecting humanfriendly>=9.1 (from coloredlogs->onnxruntime)\n",
            "  Downloading humanfriendly-10.0-py2.py3-none-any.whl.metadata (9.2 kB)\n",
            "Requirement already satisfied: mpmath<1.4,>=1.1.0 in /usr/local/lib/python3.10/dist-packages (from sympy->onnxslim>=0.1.31) (1.3.0)\n",
            "Downloading onnx-1.16.2-cp310-cp310-manylinux_2_17_x86_64.manylinux2014_x86_64.whl (15.9 MB)\n",
            "   ━━━━━━━━━━━━━━━━━━━━━━━━━━━━━━━━━━━━━━━━ 15.9/15.9 MB 191.1 MB/s eta 0:00:00\n",
            "Downloading onnxslim-0.1.32-py3-none-any.whl (130 kB)\n",
            "   ━━━━━━━━━━━━━━━━━━━━━━━━━━━━━━━━━━━━━━━━ 130.5/130.5 kB 186.1 MB/s eta 0:00:00\n",
            "Downloading onnxruntime-1.18.1-cp310-cp310-manylinux_2_27_x86_64.manylinux_2_28_x86_64.whl (6.8 MB)\n",
            "   ━━━━━━━━━━━━━━━━━━━━━━━━━━━━━━━━━━━━━━━━ 6.8/6.8 MB 264.3 MB/s eta 0:00:00\n",
            "Downloading coloredlogs-15.0.1-py2.py3-none-any.whl (46 kB)\n",
            "   ━━━━━━━━━━━━━━━━━━━━━━━━━━━━━━━━━━━━━━━━ 46.0/46.0 kB 165.9 MB/s eta 0:00:00\n",
            "Downloading humanfriendly-10.0-py2.py3-none-any.whl (86 kB)\n",
            "   ━━━━━━━━━━━━━━━━━━━━━━━━━━━━━━━━━━━━━━━━ 86.8/86.8 kB 238.0 MB/s eta 0:00:00\n",
            "Installing collected packages: onnx, humanfriendly, onnxslim, coloredlogs, onnxruntime\n",
            "Successfully installed coloredlogs-15.0.1 humanfriendly-10.0 onnx-1.16.2 onnxruntime-1.18.1 onnxslim-0.1.32\n",
            "\n",
            "\u001b[31m\u001b[1mrequirements:\u001b[0m AutoUpdate success ✅ 11.5s, installed 3 packages: ['onnx>=1.12.0', 'onnxslim>=0.1.31', 'onnxruntime']\n",
            "\u001b[31m\u001b[1mrequirements:\u001b[0m ⚠️ \u001b[1mRestart runtime or rerun command for updates to take effect\u001b[0m\n",
            "\n",
            "\n",
            "\u001b[34m\u001b[1mONNX:\u001b[0m starting export with onnx 1.16.2 opset 17...\n",
            "\u001b[34m\u001b[1mONNX:\u001b[0m slimming with onnxslim 0.1.32...\n",
            "\u001b[34m\u001b[1mONNX:\u001b[0m export success ✅ 38.1s, saved as '/content/drive/MyDrive/Research/07_08_2024/fruits/runs/train30/weights/best.onnx' (11.6 MB)\n",
            "\n",
            "Export complete (39.9s)\n",
            "Results saved to \u001b[1m/content/drive/MyDrive/Research/07_08_2024/fruits/runs/train30/weights\u001b[0m\n",
            "Predict:         yolo predict task=detect model=/content/drive/MyDrive/Research/07_08_2024/fruits/runs/train30/weights/best.onnx imgsz=640  \n",
            "Validate:        yolo val task=detect model=/content/drive/MyDrive/Research/07_08_2024/fruits/runs/train30/weights/best.onnx imgsz=640 data=/content/drive/MyDrive/Research/ayushvision_fruits/data.yaml  \n",
            "Visualize:       https://netron.app\n"
          ]
        },
        {
          "data": {
            "application/vnd.google.colaboratory.intrinsic+json": {
              "type": "string"
            },
            "text/plain": [
              "'/content/drive/MyDrive/Research/07_08_2024/fruits/runs/train30/weights/best.onnx'"
            ]
          },
          "execution_count": 31,
          "metadata": {},
          "output_type": "execute_result"
        }
      ],
      "source": [
        "format='onnx'\n",
        "model.export(format=format,keras=True,dynamic=True,simplify=True,)"
      ]
    },
    {
      "cell_type": "code",
      "execution_count": null,
      "metadata": {
        "id": "v5HGcR1t5xnO"
      },
      "outputs": [],
      "source": [
        "blob = bucket.blob(f\"yolo/fruit/model/{epochs}/best.onnx\")\n",
        "blob.upload_from_filename(f\"{today_work_dirctory}/name/weights/best.onnx\")\n",
        "blob.make_public()"
      ]
    },
    {
      "cell_type": "code",
      "execution_count": null,
      "metadata": {
        "id": "Y0czVsQg5Kjr"
      },
      "outputs": [],
      "source": [
        "today_ref.collection('Model').add({\n",
        "    'format':format,\n",
        "    \"keras\":True,\n",
        "    \"dynamic\":True,\n",
        "    \"simplify\":True,\n",
        "    \"model\":blob.public_url\n",
        "})"
      ]
    }
  ],
  "metadata": {
    "accelerator": "GPU",
    "colab": {
      "gpuType": "T4",
      "include_colab_link": true,
      "provenance": []
    },
    "kernelspec": {
      "display_name": "Python 3",
      "name": "python3"
    },
    "language_info": {
      "name": "python"
    }
  },
  "nbformat": 4,
  "nbformat_minor": 0
}
