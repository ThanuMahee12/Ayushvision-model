{
  "cells": [
    {
      "cell_type": "markdown",
      "metadata": {
        "id": "view-in-github",
        "colab_type": "text"
      },
      "source": [
        "<a href=\"https://colab.research.google.com/github/ThanuMahee12/ayush-vision/blob/yolo/Algorithums/detection/Yolo/YOLO_FRUITS.ipynb\" target=\"_parent\"><img src=\"https://colab.research.google.com/assets/colab-badge.svg\" alt=\"Open In Colab\"/></a>"
      ]
    },
    {
      "cell_type": "markdown",
      "metadata": {
        "id": "mWi18aj0n7HU"
      },
      "source": [
        "# YOLO FRUITS"
      ]
    },
    {
      "cell_type": "markdown",
      "metadata": {
        "id": "0CM_KjiNtVB7"
      },
      "source": [
        "## Colab"
      ]
    },
    {
      "cell_type": "code",
      "execution_count": 1,
      "metadata": {
        "colab": {
          "base_uri": "https://localhost:8080/"
        },
        "id": "3r-r4NsGoIwe",
        "outputId": "6efe7f8f-7055-4038-d1b9-638261e69b77"
      },
      "outputs": [
        {
          "output_type": "stream",
          "name": "stdout",
          "text": [
            "Mounted at /content/drive\n"
          ]
        }
      ],
      "source": [
        "from google.colab import drive\n",
        "drive.mount('/content/drive')"
      ]
    },
    {
      "cell_type": "code",
      "execution_count": 2,
      "metadata": {
        "id": "ZKSwn8-clJNR"
      },
      "outputs": [],
      "source": [
        "basicdata={'account':'rainorobot334567@gmail.com','user':\"Thanush\"}\n"
      ]
    },
    {
      "cell_type": "code",
      "execution_count": 3,
      "metadata": {
        "colab": {
          "base_uri": "https://localhost:8080/"
        },
        "id": "z0Q4dWFHbYdR",
        "outputId": "f6a16928-ab14-4dfe-9a84-b25bf9750992"
      },
      "outputs": [
        {
          "output_type": "stream",
          "name": "stdout",
          "text": [
            "Generating locales (this might take a while)...\n",
            "  en_US.UTF-8... done\n",
            "Generation complete.\n"
          ]
        }
      ],
      "source": [
        "! locale-gen en_US.UTF-8\n",
        "! export LC_ALL=en_US.UTF-8"
      ]
    },
    {
      "cell_type": "markdown",
      "metadata": {
        "id": "h4jrfd8WtYpd"
      },
      "source": [
        "## Intallations"
      ]
    },
    {
      "cell_type": "code",
      "execution_count": 4,
      "metadata": {
        "colab": {
          "base_uri": "https://localhost:8080/"
        },
        "id": "uRKGcqEKhzzt",
        "outputId": "6c03f385-73ac-449f-fa68-1bb069ae2d57"
      },
      "outputs": [
        {
          "output_type": "stream",
          "name": "stdout",
          "text": [
            "Requirement already satisfied: firebase-admin in /usr/local/lib/python3.10/dist-packages (6.5.0)\n",
            "Requirement already satisfied: cachecontrol>=0.12.6 in /usr/local/lib/python3.10/dist-packages (from firebase-admin) (0.14.0)\n",
            "Requirement already satisfied: google-api-python-client>=1.7.8 in /usr/local/lib/python3.10/dist-packages (from firebase-admin) (2.137.0)\n",
            "Requirement already satisfied: google-cloud-storage>=1.37.1 in /usr/local/lib/python3.10/dist-packages (from firebase-admin) (2.8.0)\n",
            "Requirement already satisfied: pyjwt>=2.5.0 in /usr/local/lib/python3.10/dist-packages (from pyjwt[crypto]>=2.5.0->firebase-admin) (2.9.0)\n",
            "Requirement already satisfied: google-api-core<3.0.0dev,>=1.22.1 in /usr/local/lib/python3.10/dist-packages (from google-api-core[grpc]<3.0.0dev,>=1.22.1; platform_python_implementation != \"PyPy\"->firebase-admin) (2.19.2)\n",
            "Requirement already satisfied: google-cloud-firestore>=2.9.1 in /usr/local/lib/python3.10/dist-packages (from firebase-admin) (2.16.1)\n",
            "Requirement already satisfied: requests>=2.16.0 in /usr/local/lib/python3.10/dist-packages (from cachecontrol>=0.12.6->firebase-admin) (2.32.3)\n",
            "Requirement already satisfied: msgpack<2.0.0,>=0.5.2 in /usr/local/lib/python3.10/dist-packages (from cachecontrol>=0.12.6->firebase-admin) (1.0.8)\n",
            "Requirement already satisfied: googleapis-common-protos<2.0.dev0,>=1.56.2 in /usr/local/lib/python3.10/dist-packages (from google-api-core<3.0.0dev,>=1.22.1->google-api-core[grpc]<3.0.0dev,>=1.22.1; platform_python_implementation != \"PyPy\"->firebase-admin) (1.65.0)\n",
            "Requirement already satisfied: protobuf!=3.20.0,!=3.20.1,!=4.21.0,!=4.21.1,!=4.21.2,!=4.21.3,!=4.21.4,!=4.21.5,<6.0.0.dev0,>=3.19.5 in /usr/local/lib/python3.10/dist-packages (from google-api-core<3.0.0dev,>=1.22.1->google-api-core[grpc]<3.0.0dev,>=1.22.1; platform_python_implementation != \"PyPy\"->firebase-admin) (3.20.3)\n",
            "Requirement already satisfied: proto-plus<2.0.0dev,>=1.22.3 in /usr/local/lib/python3.10/dist-packages (from google-api-core<3.0.0dev,>=1.22.1->google-api-core[grpc]<3.0.0dev,>=1.22.1; platform_python_implementation != \"PyPy\"->firebase-admin) (1.24.0)\n",
            "Requirement already satisfied: google-auth<3.0.dev0,>=2.14.1 in /usr/local/lib/python3.10/dist-packages (from google-api-core<3.0.0dev,>=1.22.1->google-api-core[grpc]<3.0.0dev,>=1.22.1; platform_python_implementation != \"PyPy\"->firebase-admin) (2.27.0)\n",
            "Requirement already satisfied: grpcio<2.0dev,>=1.33.2 in /usr/local/lib/python3.10/dist-packages (from google-api-core[grpc]<3.0.0dev,>=1.22.1; platform_python_implementation != \"PyPy\"->firebase-admin) (1.64.1)\n",
            "Requirement already satisfied: grpcio-status<2.0.dev0,>=1.33.2 in /usr/local/lib/python3.10/dist-packages (from google-api-core[grpc]<3.0.0dev,>=1.22.1; platform_python_implementation != \"PyPy\"->firebase-admin) (1.48.2)\n",
            "Requirement already satisfied: httplib2<1.dev0,>=0.19.0 in /usr/local/lib/python3.10/dist-packages (from google-api-python-client>=1.7.8->firebase-admin) (0.22.0)\n",
            "Requirement already satisfied: google-auth-httplib2<1.0.0,>=0.2.0 in /usr/local/lib/python3.10/dist-packages (from google-api-python-client>=1.7.8->firebase-admin) (0.2.0)\n",
            "Requirement already satisfied: uritemplate<5,>=3.0.1 in /usr/local/lib/python3.10/dist-packages (from google-api-python-client>=1.7.8->firebase-admin) (4.1.1)\n",
            "Requirement already satisfied: google-cloud-core<3.0.0dev,>=1.4.1 in /usr/local/lib/python3.10/dist-packages (from google-cloud-firestore>=2.9.1->firebase-admin) (2.4.1)\n",
            "Requirement already satisfied: google-resumable-media>=2.3.2 in /usr/local/lib/python3.10/dist-packages (from google-cloud-storage>=1.37.1->firebase-admin) (2.7.2)\n",
            "Requirement already satisfied: cryptography>=3.4.0 in /usr/local/lib/python3.10/dist-packages (from pyjwt[crypto]>=2.5.0->firebase-admin) (43.0.0)\n",
            "Requirement already satisfied: cffi>=1.12 in /usr/local/lib/python3.10/dist-packages (from cryptography>=3.4.0->pyjwt[crypto]>=2.5.0->firebase-admin) (1.17.0)\n",
            "Requirement already satisfied: cachetools<6.0,>=2.0.0 in /usr/local/lib/python3.10/dist-packages (from google-auth<3.0.dev0,>=2.14.1->google-api-core<3.0.0dev,>=1.22.1->google-api-core[grpc]<3.0.0dev,>=1.22.1; platform_python_implementation != \"PyPy\"->firebase-admin) (5.5.0)\n",
            "Requirement already satisfied: pyasn1-modules>=0.2.1 in /usr/local/lib/python3.10/dist-packages (from google-auth<3.0.dev0,>=2.14.1->google-api-core<3.0.0dev,>=1.22.1->google-api-core[grpc]<3.0.0dev,>=1.22.1; platform_python_implementation != \"PyPy\"->firebase-admin) (0.4.0)\n",
            "Requirement already satisfied: rsa<5,>=3.1.4 in /usr/local/lib/python3.10/dist-packages (from google-auth<3.0.dev0,>=2.14.1->google-api-core<3.0.0dev,>=1.22.1->google-api-core[grpc]<3.0.0dev,>=1.22.1; platform_python_implementation != \"PyPy\"->firebase-admin) (4.9)\n",
            "Requirement already satisfied: google-crc32c<2.0dev,>=1.0 in /usr/local/lib/python3.10/dist-packages (from google-resumable-media>=2.3.2->google-cloud-storage>=1.37.1->firebase-admin) (1.5.0)\n",
            "Requirement already satisfied: pyparsing!=3.0.0,!=3.0.1,!=3.0.2,!=3.0.3,<4,>=2.4.2 in /usr/local/lib/python3.10/dist-packages (from httplib2<1.dev0,>=0.19.0->google-api-python-client>=1.7.8->firebase-admin) (3.1.4)\n",
            "Requirement already satisfied: charset-normalizer<4,>=2 in /usr/local/lib/python3.10/dist-packages (from requests>=2.16.0->cachecontrol>=0.12.6->firebase-admin) (3.3.2)\n",
            "Requirement already satisfied: idna<4,>=2.5 in /usr/local/lib/python3.10/dist-packages (from requests>=2.16.0->cachecontrol>=0.12.6->firebase-admin) (3.8)\n",
            "Requirement already satisfied: urllib3<3,>=1.21.1 in /usr/local/lib/python3.10/dist-packages (from requests>=2.16.0->cachecontrol>=0.12.6->firebase-admin) (2.0.7)\n",
            "Requirement already satisfied: certifi>=2017.4.17 in /usr/local/lib/python3.10/dist-packages (from requests>=2.16.0->cachecontrol>=0.12.6->firebase-admin) (2024.8.30)\n",
            "Requirement already satisfied: pycparser in /usr/local/lib/python3.10/dist-packages (from cffi>=1.12->cryptography>=3.4.0->pyjwt[crypto]>=2.5.0->firebase-admin) (2.22)\n",
            "Requirement already satisfied: pyasn1<0.7.0,>=0.4.6 in /usr/local/lib/python3.10/dist-packages (from pyasn1-modules>=0.2.1->google-auth<3.0.dev0,>=2.14.1->google-api-core<3.0.0dev,>=1.22.1->google-api-core[grpc]<3.0.0dev,>=1.22.1; platform_python_implementation != \"PyPy\"->firebase-admin) (0.6.0)\n"
          ]
        }
      ],
      "source": [
        "!pip install firebase-admin"
      ]
    },
    {
      "cell_type": "code",
      "execution_count": 5,
      "metadata": {
        "colab": {
          "base_uri": "https://localhost:8080/"
        },
        "id": "xx51cd0goqWi",
        "outputId": "93b4207e-7126-45e2-9497-3ae7f47c6d93"
      },
      "outputs": [
        {
          "output_type": "stream",
          "name": "stdout",
          "text": [
            "Collecting ultralytics\n",
            "  Downloading ultralytics-8.2.88-py3-none-any.whl.metadata (41 kB)\n",
            "\u001b[?25l     \u001b[90m━━━━━━━━━━━━━━━━━━━━━━━━━━━━━━━━━━━━━━━━\u001b[0m \u001b[32m0.0/41.9 kB\u001b[0m \u001b[31m?\u001b[0m eta \u001b[36m-:--:--\u001b[0m\r\u001b[2K     \u001b[90m━━━━━━━━━━━━━━━━━━━━━━━━━━━━━━━━━━━━━━━━\u001b[0m \u001b[32m41.9/41.9 kB\u001b[0m \u001b[31m2.7 MB/s\u001b[0m eta \u001b[36m0:00:00\u001b[0m\n",
            "\u001b[?25hRequirement already satisfied: numpy<2.0.0,>=1.23.0 in /usr/local/lib/python3.10/dist-packages (from ultralytics) (1.26.4)\n",
            "Requirement already satisfied: matplotlib>=3.3.0 in /usr/local/lib/python3.10/dist-packages (from ultralytics) (3.7.1)\n",
            "Requirement already satisfied: opencv-python>=4.6.0 in /usr/local/lib/python3.10/dist-packages (from ultralytics) (4.10.0.84)\n",
            "Requirement already satisfied: pillow>=7.1.2 in /usr/local/lib/python3.10/dist-packages (from ultralytics) (9.4.0)\n",
            "Requirement already satisfied: pyyaml>=5.3.1 in /usr/local/lib/python3.10/dist-packages (from ultralytics) (6.0.2)\n",
            "Requirement already satisfied: requests>=2.23.0 in /usr/local/lib/python3.10/dist-packages (from ultralytics) (2.32.3)\n",
            "Requirement already satisfied: scipy>=1.4.1 in /usr/local/lib/python3.10/dist-packages (from ultralytics) (1.13.1)\n",
            "Requirement already satisfied: torch>=1.8.0 in /usr/local/lib/python3.10/dist-packages (from ultralytics) (2.4.0+cu121)\n",
            "Requirement already satisfied: torchvision>=0.9.0 in /usr/local/lib/python3.10/dist-packages (from ultralytics) (0.19.0+cu121)\n",
            "Requirement already satisfied: tqdm>=4.64.0 in /usr/local/lib/python3.10/dist-packages (from ultralytics) (4.66.5)\n",
            "Requirement already satisfied: psutil in /usr/local/lib/python3.10/dist-packages (from ultralytics) (5.9.5)\n",
            "Requirement already satisfied: py-cpuinfo in /usr/local/lib/python3.10/dist-packages (from ultralytics) (9.0.0)\n",
            "Requirement already satisfied: pandas>=1.1.4 in /usr/local/lib/python3.10/dist-packages (from ultralytics) (2.1.4)\n",
            "Requirement already satisfied: seaborn>=0.11.0 in /usr/local/lib/python3.10/dist-packages (from ultralytics) (0.13.1)\n",
            "Collecting ultralytics-thop>=2.0.0 (from ultralytics)\n",
            "  Downloading ultralytics_thop-2.0.6-py3-none-any.whl.metadata (9.1 kB)\n",
            "Requirement already satisfied: contourpy>=1.0.1 in /usr/local/lib/python3.10/dist-packages (from matplotlib>=3.3.0->ultralytics) (1.3.0)\n",
            "Requirement already satisfied: cycler>=0.10 in /usr/local/lib/python3.10/dist-packages (from matplotlib>=3.3.0->ultralytics) (0.12.1)\n",
            "Requirement already satisfied: fonttools>=4.22.0 in /usr/local/lib/python3.10/dist-packages (from matplotlib>=3.3.0->ultralytics) (4.53.1)\n",
            "Requirement already satisfied: kiwisolver>=1.0.1 in /usr/local/lib/python3.10/dist-packages (from matplotlib>=3.3.0->ultralytics) (1.4.5)\n",
            "Requirement already satisfied: packaging>=20.0 in /usr/local/lib/python3.10/dist-packages (from matplotlib>=3.3.0->ultralytics) (24.1)\n",
            "Requirement already satisfied: pyparsing>=2.3.1 in /usr/local/lib/python3.10/dist-packages (from matplotlib>=3.3.0->ultralytics) (3.1.4)\n",
            "Requirement already satisfied: python-dateutil>=2.7 in /usr/local/lib/python3.10/dist-packages (from matplotlib>=3.3.0->ultralytics) (2.8.2)\n",
            "Requirement already satisfied: pytz>=2020.1 in /usr/local/lib/python3.10/dist-packages (from pandas>=1.1.4->ultralytics) (2024.1)\n",
            "Requirement already satisfied: tzdata>=2022.1 in /usr/local/lib/python3.10/dist-packages (from pandas>=1.1.4->ultralytics) (2024.1)\n",
            "Requirement already satisfied: charset-normalizer<4,>=2 in /usr/local/lib/python3.10/dist-packages (from requests>=2.23.0->ultralytics) (3.3.2)\n",
            "Requirement already satisfied: idna<4,>=2.5 in /usr/local/lib/python3.10/dist-packages (from requests>=2.23.0->ultralytics) (3.8)\n",
            "Requirement already satisfied: urllib3<3,>=1.21.1 in /usr/local/lib/python3.10/dist-packages (from requests>=2.23.0->ultralytics) (2.0.7)\n",
            "Requirement already satisfied: certifi>=2017.4.17 in /usr/local/lib/python3.10/dist-packages (from requests>=2.23.0->ultralytics) (2024.8.30)\n",
            "Requirement already satisfied: filelock in /usr/local/lib/python3.10/dist-packages (from torch>=1.8.0->ultralytics) (3.15.4)\n",
            "Requirement already satisfied: typing-extensions>=4.8.0 in /usr/local/lib/python3.10/dist-packages (from torch>=1.8.0->ultralytics) (4.12.2)\n",
            "Requirement already satisfied: sympy in /usr/local/lib/python3.10/dist-packages (from torch>=1.8.0->ultralytics) (1.13.2)\n",
            "Requirement already satisfied: networkx in /usr/local/lib/python3.10/dist-packages (from torch>=1.8.0->ultralytics) (3.3)\n",
            "Requirement already satisfied: jinja2 in /usr/local/lib/python3.10/dist-packages (from torch>=1.8.0->ultralytics) (3.1.4)\n",
            "Requirement already satisfied: fsspec in /usr/local/lib/python3.10/dist-packages (from torch>=1.8.0->ultralytics) (2024.6.1)\n",
            "Requirement already satisfied: six>=1.5 in /usr/local/lib/python3.10/dist-packages (from python-dateutil>=2.7->matplotlib>=3.3.0->ultralytics) (1.16.0)\n",
            "Requirement already satisfied: MarkupSafe>=2.0 in /usr/local/lib/python3.10/dist-packages (from jinja2->torch>=1.8.0->ultralytics) (2.1.5)\n",
            "Requirement already satisfied: mpmath<1.4,>=1.1.0 in /usr/local/lib/python3.10/dist-packages (from sympy->torch>=1.8.0->ultralytics) (1.3.0)\n",
            "Downloading ultralytics-8.2.88-py3-none-any.whl (871 kB)\n",
            "\u001b[2K   \u001b[90m━━━━━━━━━━━━━━━━━━━━━━━━━━━━━━━━━━━━━━━━\u001b[0m \u001b[32m871.7/871.7 kB\u001b[0m \u001b[31m20.6 MB/s\u001b[0m eta \u001b[36m0:00:00\u001b[0m\n",
            "\u001b[?25hDownloading ultralytics_thop-2.0.6-py3-none-any.whl (26 kB)\n",
            "Installing collected packages: ultralytics-thop, ultralytics\n",
            "Successfully installed ultralytics-8.2.88 ultralytics-thop-2.0.6\n"
          ]
        }
      ],
      "source": [
        "!pip install ultralytics"
      ]
    },
    {
      "cell_type": "markdown",
      "metadata": {
        "id": "dF-FeFKVtc0j"
      },
      "source": [
        "## Imports"
      ]
    },
    {
      "cell_type": "code",
      "execution_count": 6,
      "metadata": {
        "id": "LA6879REh_Yu"
      },
      "outputs": [],
      "source": [
        "import firebase_admin\n"
      ]
    },
    {
      "cell_type": "code",
      "execution_count": 7,
      "metadata": {
        "id": "TxfkdTzEiEie"
      },
      "outputs": [],
      "source": [
        "from firebase_admin import credentials,storage\n"
      ]
    },
    {
      "cell_type": "code",
      "execution_count": 8,
      "metadata": {
        "id": "Z1wqn3xWiGgv"
      },
      "outputs": [],
      "source": [
        "from firebase_admin import firestore"
      ]
    },
    {
      "cell_type": "code",
      "execution_count": 9,
      "metadata": {
        "id": "vWoaQzKEn7He"
      },
      "outputs": [],
      "source": [
        "from ultralytics import YOLO"
      ]
    },
    {
      "cell_type": "code",
      "execution_count": 10,
      "metadata": {
        "id": "2vAitzxpoa7a"
      },
      "outputs": [],
      "source": [
        "from datetime import date,datetime"
      ]
    },
    {
      "cell_type": "code",
      "execution_count": 11,
      "metadata": {
        "id": "QXBrUhRTn7Hg"
      },
      "outputs": [],
      "source": [
        "import os"
      ]
    },
    {
      "cell_type": "code",
      "execution_count": 12,
      "metadata": {
        "id": "3H26Ktufn7Hh"
      },
      "outputs": [],
      "source": [
        "import numpy as np"
      ]
    },
    {
      "cell_type": "code",
      "execution_count": 13,
      "metadata": {
        "id": "YX-4QEzwn7Hi"
      },
      "outputs": [],
      "source": [
        "from matplotlib import pyplot as plt"
      ]
    },
    {
      "cell_type": "code",
      "execution_count": 14,
      "metadata": {
        "id": "VPtnbmKmpo6w"
      },
      "outputs": [],
      "source": [
        "import random"
      ]
    },
    {
      "cell_type": "code",
      "execution_count": 15,
      "metadata": {
        "id": "3zftmIrTuI99"
      },
      "outputs": [],
      "source": [
        "import yaml"
      ]
    },
    {
      "cell_type": "code",
      "source": [
        "import csv"
      ],
      "metadata": {
        "id": "xwwPh4JmKh0n"
      },
      "execution_count": 16,
      "outputs": []
    },
    {
      "cell_type": "code",
      "source": [
        "import json"
      ],
      "metadata": {
        "id": "46i8epZ0K-Mm"
      },
      "execution_count": 17,
      "outputs": []
    },
    {
      "cell_type": "markdown",
      "metadata": {
        "id": "VLe9eLGetyX_"
      },
      "source": [
        "## Config"
      ]
    },
    {
      "cell_type": "code",
      "execution_count": 77,
      "metadata": {
        "id": "c_qNgMdot0QK"
      },
      "outputs": [],
      "source": [
        "epochs=20\n",
        "imageSize=640\n",
        "optimizer='Adam'\n",
        "dropout=0.1"
      ]
    },
    {
      "cell_type": "markdown",
      "metadata": {
        "id": "xPNvfYoiKmz8"
      },
      "source": [
        "### Dirctory"
      ]
    },
    {
      "cell_type": "code",
      "execution_count": 19,
      "metadata": {
        "id": "hrtvf7FqKZzj"
      },
      "outputs": [],
      "source": [
        "work_dirctory_root=\"/content/drive/MyDrive/AyushVision/yolo8\"\n",
        "work_dirctory_training=f\"{work_dirctory_root}/training\"\n",
        "firebase_key=\"/content/drive/MyDrive/AyushVision/ServiceKey.json\"\n"
      ]
    },
    {
      "cell_type": "code",
      "execution_count": 78,
      "metadata": {
        "id": "NWkZ6kdWl9Tc"
      },
      "outputs": [],
      "source": [
        "today_work_dirctory=f\"{work_dirctory_training}/{date.today().strftime('%d_%m_%Y')}/{date.today().strftime('%H%M%s')}\""
      ]
    },
    {
      "cell_type": "code",
      "execution_count": 79,
      "metadata": {
        "id": "VCixGiXvmBWf"
      },
      "outputs": [],
      "source": [
        "if not os.path.exists(work_dirctory_training):\n",
        "  os.makedirs(work_dirctory_training,exist_ok=True)\n",
        "if not os.path.exists(today_work_dirctory):\n",
        "  os.makedirs(today_work_dirctory,exist_ok=True)"
      ]
    },
    {
      "cell_type": "code",
      "execution_count": 80,
      "metadata": {
        "id": "iAbj-AXXmEo7"
      },
      "outputs": [],
      "source": [
        "data=f\"{work_dirctory_root}/dataset/ayushvision_fruits/data.yaml\""
      ]
    },
    {
      "cell_type": "code",
      "execution_count": 81,
      "metadata": {
        "id": "J77aImwXtlPV"
      },
      "outputs": [],
      "source": [
        "project=f\"{today_work_dirctory}/fruits/runs\"\n",
        "name=f'train{epochs}'"
      ]
    },
    {
      "cell_type": "markdown",
      "metadata": {
        "id": "XV9QP9llluYJ"
      },
      "source": [
        "## Firebase"
      ]
    },
    {
      "cell_type": "code",
      "execution_count": 28,
      "metadata": {
        "id": "RpsSJqZBiPpe"
      },
      "outputs": [],
      "source": [
        "firebase_count=1\n",
        "if firebase_count==1:\n",
        "  cred = credentials.Certificate(firebase_key)\n",
        "  firebase_admin.initialize_app(cred,{\n",
        "      'storageBucket': 'ayush-vision-asw4gh.appspot.com'\n",
        "  })\n",
        "firebase_count=firebase_count+1"
      ]
    },
    {
      "cell_type": "code",
      "execution_count": 29,
      "metadata": {
        "id": "UlsbRiTTj259"
      },
      "outputs": [],
      "source": [
        "db = firestore.client()"
      ]
    },
    {
      "cell_type": "code",
      "execution_count": 30,
      "metadata": {
        "id": "1MqZJtEzv4eF"
      },
      "outputs": [],
      "source": [
        "bucket = storage.bucket()"
      ]
    },
    {
      "cell_type": "code",
      "execution_count": 82,
      "metadata": {
        "id": "FjHEnE_7qSNN"
      },
      "outputs": [],
      "source": [
        "yolo_ref = db.collection(\"training1\").document('yolo')\n",
        "doc = yolo_ref.get()"
      ]
    },
    {
      "cell_type": "code",
      "execution_count": 83,
      "metadata": {
        "id": "mivbo7JFl00U"
      },
      "outputs": [],
      "source": [
        "if not doc.exists:\n",
        "  doc_ref= db.collection(\"training1\").document('yolo')\n",
        "  doc_ref.set({'algorithum':'yolo','version':'V8','mode':'detection','url':'ultralytics'})\n",
        "else:\n",
        "  doc_ref= yolo_ref"
      ]
    },
    {
      "cell_type": "markdown",
      "metadata": {
        "id": "LtFuKd42KznG"
      },
      "source": [
        "### Roboflow"
      ]
    },
    {
      "cell_type": "markdown",
      "metadata": {
        "id": "AapMM59Xn7Hj"
      },
      "source": [
        "## Model"
      ]
    },
    {
      "cell_type": "code",
      "execution_count": 84,
      "metadata": {
        "id": "Mwg3H-G3orDr"
      },
      "outputs": [],
      "source": [
        "today_ref=doc_ref.collection(\"Fruit\").document(datetime.now().strftime(f\"%Y%m%d%H%s\"))"
      ]
    },
    {
      "cell_type": "code",
      "execution_count": 35,
      "metadata": {
        "id": "7UvmNAyIreO8"
      },
      "outputs": [],
      "source": [
        "basicdata['imageSize']=imageSize\n",
        "basicdata['project']=project\n",
        "basicdata['name']=name\n",
        "basicdata['training_date']=datetime.now().strftime(\"%Y/%m/%d %H:%M:%S\")\n",
        "basicdata['filename']='YOLO_FRUITS'"
      ]
    },
    {
      "cell_type": "code",
      "execution_count": 36,
      "metadata": {
        "id": "-YZRg5JWuAEM"
      },
      "outputs": [],
      "source": [
        "with open(data, 'r') as file:\n",
        "    yaml_content = yaml.safe_load(file)"
      ]
    },
    {
      "cell_type": "code",
      "execution_count": 37,
      "metadata": {
        "id": "PY06W962uaMn"
      },
      "outputs": [],
      "source": [
        "basicdata['names']=yaml_content['names']"
      ]
    },
    {
      "cell_type": "code",
      "execution_count": 85,
      "metadata": {
        "colab": {
          "base_uri": "https://localhost:8080/"
        },
        "id": "UafSx86dkAcs",
        "outputId": "eb2b6803-13e4-404d-fb03-996e32d67860"
      },
      "outputs": [
        {
          "output_type": "execute_result",
          "data": {
            "text/plain": [
              "update_time {\n",
              "  seconds: 1725585405\n",
              "  nanos: 570033000\n",
              "}"
            ]
          },
          "metadata": {},
          "execution_count": 85
        }
      ],
      "source": [
        "today_ref.set(basicdata)"
      ]
    },
    {
      "cell_type": "code",
      "execution_count": 39,
      "metadata": {
        "colab": {
          "base_uri": "https://localhost:8080/"
        },
        "id": "uTFQPVebn7Hk",
        "outputId": "0e49843c-00c4-49b0-c30e-7b19e02f86ec"
      },
      "outputs": [
        {
          "output_type": "stream",
          "name": "stdout",
          "text": [
            "Downloading https://github.com/ultralytics/assets/releases/download/v8.2.0/yolov8n.pt to 'yolov8n.pt'...\n"
          ]
        },
        {
          "output_type": "stream",
          "name": "stderr",
          "text": [
            "100%|██████████| 6.25M/6.25M [00:00<00:00, 97.8MB/s]"
          ]
        },
        {
          "output_type": "stream",
          "name": "stdout",
          "text": [
            "Transferred 355/355 items from pretrained weights\n"
          ]
        },
        {
          "output_type": "stream",
          "name": "stderr",
          "text": [
            "\n"
          ]
        }
      ],
      "source": [
        "yolo_model = YOLO('yolov8n.yaml').load('yolov8n.pt')"
      ]
    },
    {
      "cell_type": "markdown",
      "metadata": {
        "id": "8EMUXQQAn7Hm"
      },
      "source": [
        "#### Training"
      ]
    },
    {
      "cell_type": "code",
      "execution_count": 86,
      "metadata": {
        "colab": {
          "base_uri": "https://localhost:8080/"
        },
        "id": "cyofPiscn7Hn",
        "outputId": "d3fd580a-802f-4c87-a55b-61dddeb1b92f"
      },
      "outputs": [
        {
          "output_type": "stream",
          "name": "stdout",
          "text": [
            "Ultralytics YOLOv8.2.88 🚀 Python-3.10.12 torch-2.4.0+cu121 CUDA:0 (Tesla T4, 15102MiB)\n",
            "\u001b[34m\u001b[1mengine/trainer: \u001b[0mtask=detect, mode=train, model=yolov8n.yaml, data=/content/drive/MyDrive/AyushVision/yolo8/dataset/ayushvision_fruits/data.yaml, epochs=20, time=None, patience=100, batch=16, imgsz=640, save=True, save_period=-1, cache=False, device=None, workers=8, project=/content/drive/MyDrive/AyushVision/yolo8/training/06_09_2024/00001725580800/fruits/runs, name=train20, exist_ok=False, pretrained=yolov8n.pt, optimizer=Adam, verbose=True, seed=0, deterministic=True, single_cls=False, rect=False, cos_lr=False, close_mosaic=10, resume=False, amp=True, fraction=1.0, profile=False, freeze=None, multi_scale=False, overlap_mask=True, mask_ratio=4, dropout=0.1, val=True, split=val, save_json=False, save_hybrid=False, conf=None, iou=0.7, max_det=300, half=False, dnn=False, plots=True, source=None, vid_stride=1, stream_buffer=False, visualize=False, augment=False, agnostic_nms=False, classes=None, retina_masks=False, embed=None, show=False, save_frames=False, save_txt=False, save_conf=False, save_crop=False, show_labels=True, show_conf=True, show_boxes=True, line_width=None, format=torchscript, keras=False, optimize=False, int8=False, dynamic=False, simplify=False, opset=None, workspace=4, nms=False, lr0=0.01, lrf=0.01, momentum=0.937, weight_decay=0.0005, warmup_epochs=3.0, warmup_momentum=0.8, warmup_bias_lr=0.1, box=7.5, cls=0.5, dfl=1.5, pose=12.0, kobj=1.0, label_smoothing=0.0, nbs=64, hsv_h=0.015, hsv_s=0.7, hsv_v=0.4, degrees=0.0, translate=0.1, scale=0.5, shear=0.0, perspective=0.0, flipud=0.0, fliplr=0.5, bgr=0.0, mosaic=0.0, mixup=0.0, copy_paste=0.0, auto_augment=randaugment, erasing=0.4, crop_fraction=1.0, cfg=None, tracker=botsort.yaml, save_dir=/content/drive/MyDrive/AyushVision/yolo8/training/06_09_2024/00001725580800/fruits/runs/train20\n",
            "\n",
            "                   from  n    params  module                                       arguments                     \n",
            "  0                  -1  1       464  ultralytics.nn.modules.conv.Conv             [3, 16, 3, 2]                 \n",
            "  1                  -1  1      4672  ultralytics.nn.modules.conv.Conv             [16, 32, 3, 2]                \n",
            "  2                  -1  1      7360  ultralytics.nn.modules.block.C2f             [32, 32, 1, True]             \n",
            "  3                  -1  1     18560  ultralytics.nn.modules.conv.Conv             [32, 64, 3, 2]                \n",
            "  4                  -1  2     49664  ultralytics.nn.modules.block.C2f             [64, 64, 2, True]             \n",
            "  5                  -1  1     73984  ultralytics.nn.modules.conv.Conv             [64, 128, 3, 2]               \n",
            "  6                  -1  2    197632  ultralytics.nn.modules.block.C2f             [128, 128, 2, True]           \n",
            "  7                  -1  1    295424  ultralytics.nn.modules.conv.Conv             [128, 256, 3, 2]              \n",
            "  8                  -1  1    460288  ultralytics.nn.modules.block.C2f             [256, 256, 1, True]           \n",
            "  9                  -1  1    164608  ultralytics.nn.modules.block.SPPF            [256, 256, 5]                 \n",
            " 10                  -1  1         0  torch.nn.modules.upsampling.Upsample         [None, 2, 'nearest']          \n",
            " 11             [-1, 6]  1         0  ultralytics.nn.modules.conv.Concat           [1]                           \n",
            " 12                  -1  1    148224  ultralytics.nn.modules.block.C2f             [384, 128, 1]                 \n",
            " 13                  -1  1         0  torch.nn.modules.upsampling.Upsample         [None, 2, 'nearest']          \n",
            " 14             [-1, 4]  1         0  ultralytics.nn.modules.conv.Concat           [1]                           \n",
            " 15                  -1  1     37248  ultralytics.nn.modules.block.C2f             [192, 64, 1]                  \n",
            " 16                  -1  1     36992  ultralytics.nn.modules.conv.Conv             [64, 64, 3, 2]                \n",
            " 17            [-1, 12]  1         0  ultralytics.nn.modules.conv.Concat           [1]                           \n",
            " 18                  -1  1    123648  ultralytics.nn.modules.block.C2f             [192, 128, 1]                 \n",
            " 19                  -1  1    147712  ultralytics.nn.modules.conv.Conv             [128, 128, 3, 2]              \n",
            " 20             [-1, 9]  1         0  ultralytics.nn.modules.conv.Concat           [1]                           \n",
            " 21                  -1  1    493056  ultralytics.nn.modules.block.C2f             [384, 256, 1]                 \n",
            " 22        [15, 18, 21]  1    753067  ultralytics.nn.modules.head.Detect           [9, [64, 128, 256]]           \n",
            "YOLOv8n summary: 225 layers, 3,012,603 parameters, 3,012,587 gradients, 8.2 GFLOPs\n",
            "\n",
            "Transferred 355/355 items from pretrained weights\n",
            "\u001b[34m\u001b[1mTensorBoard: \u001b[0mStart with 'tensorboard --logdir /content/drive/MyDrive/AyushVision/yolo8/training/06_09_2024/00001725580800/fruits/runs/train20', view at http://localhost:6006/\n",
            "Freezing layer 'model.22.dfl.conv.weight'\n",
            "\u001b[34m\u001b[1mAMP: \u001b[0mrunning Automatic Mixed Precision (AMP) checks with YOLOv8n...\n",
            "\u001b[34m\u001b[1mAMP: \u001b[0mchecks passed ✅\n"
          ]
        },
        {
          "output_type": "stream",
          "name": "stderr",
          "text": [
            "\u001b[34m\u001b[1mtrain: \u001b[0mScanning /content/drive/MyDrive/AyushVision/yolo8/dataset/ayushvision_fruits/train/labels.cache... 3773 images, 0 backgrounds, 0 corrupt: 100%|██████████| 3773/3773 [00:00<?, ?it/s]"
          ]
        },
        {
          "output_type": "stream",
          "name": "stdout",
          "text": [
            "\u001b[34m\u001b[1malbumentations: \u001b[0mBlur(p=0.01, blur_limit=(3, 7)), MedianBlur(p=0.01, blur_limit=(3, 7)), ToGray(p=0.01), CLAHE(p=0.01, clip_limit=(1, 4.0), tile_grid_size=(8, 8))\n"
          ]
        },
        {
          "output_type": "stream",
          "name": "stderr",
          "text": [
            "\n",
            "/usr/lib/python3.10/multiprocessing/popen_fork.py:66: RuntimeWarning: os.fork() was called. os.fork() is incompatible with multithreaded code, and JAX is multithreaded, so this will likely lead to a deadlock.\n",
            "  self.pid = os.fork()\n",
            "\u001b[34m\u001b[1mval: \u001b[0mScanning /content/drive/MyDrive/AyushVision/yolo8/dataset/ayushvision_fruits/valid/labels.cache... 360 images, 0 backgrounds, 0 corrupt: 100%|██████████| 360/360 [00:00<?, ?it/s]\n"
          ]
        },
        {
          "output_type": "stream",
          "name": "stdout",
          "text": [
            "Plotting labels to /content/drive/MyDrive/AyushVision/yolo8/training/06_09_2024/00001725580800/fruits/runs/train20/labels.jpg... \n",
            "\u001b[34m\u001b[1moptimizer:\u001b[0m Adam(lr=0.01, momentum=0.937) with parameter groups 57 weight(decay=0.0), 64 weight(decay=0.0005), 63 bias(decay=0.0)\n",
            "\u001b[34m\u001b[1mTensorBoard: \u001b[0mmodel graph visualization added ✅\n",
            "Image sizes 640 train, 640 val\n",
            "Using 2 dataloader workers\n",
            "Logging results to \u001b[1m/content/drive/MyDrive/AyushVision/yolo8/training/06_09_2024/00001725580800/fruits/runs/train20\u001b[0m\n",
            "Starting training for 20 epochs...\n",
            "\n",
            "      Epoch    GPU_mem   box_loss   cls_loss   dfl_loss  Instances       Size\n"
          ]
        },
        {
          "output_type": "stream",
          "name": "stderr",
          "text": [
            "       1/20      2.31G      1.487      1.594      1.688         29        640: 100%|██████████| 236/236 [01:41<00:00,  2.31it/s]\n",
            "                 Class     Images  Instances      Box(P          R      mAP50  mAP50-95): 100%|██████████| 12/12 [00:06<00:00,  1.75it/s]\n"
          ]
        },
        {
          "output_type": "stream",
          "name": "stdout",
          "text": [
            "                   all        360        456      0.641      0.468      0.537      0.306\n",
            "\n",
            "      Epoch    GPU_mem   box_loss   cls_loss   dfl_loss  Instances       Size\n"
          ]
        },
        {
          "output_type": "stream",
          "name": "stderr",
          "text": [
            "       2/20      2.17G      1.569      1.744       1.76         13        640: 100%|██████████| 236/236 [01:35<00:00,  2.46it/s]\n",
            "                 Class     Images  Instances      Box(P          R      mAP50  mAP50-95): 100%|██████████| 12/12 [00:03<00:00,  3.06it/s]\n"
          ]
        },
        {
          "output_type": "stream",
          "name": "stdout",
          "text": [
            "                   all        360        456      0.482      0.341       0.33      0.173\n",
            "\n",
            "      Epoch    GPU_mem   box_loss   cls_loss   dfl_loss  Instances       Size\n"
          ]
        },
        {
          "output_type": "stream",
          "name": "stderr",
          "text": [
            "       3/20      2.18G      1.595      1.807      1.786         16        640: 100%|██████████| 236/236 [01:38<00:00,  2.40it/s]\n",
            "                 Class     Images  Instances      Box(P          R      mAP50  mAP50-95): 100%|██████████| 12/12 [00:06<00:00,  1.73it/s]"
          ]
        },
        {
          "output_type": "stream",
          "name": "stdout",
          "text": [
            "                   all        360        456      0.589      0.515      0.551      0.282\n"
          ]
        },
        {
          "output_type": "stream",
          "name": "stderr",
          "text": [
            "\n"
          ]
        },
        {
          "output_type": "stream",
          "name": "stdout",
          "text": [
            "\n",
            "      Epoch    GPU_mem   box_loss   cls_loss   dfl_loss  Instances       Size\n"
          ]
        },
        {
          "output_type": "stream",
          "name": "stderr",
          "text": [
            "       4/20      2.18G      1.592      1.731      1.779         17        640: 100%|██████████| 236/236 [01:30<00:00,  2.61it/s]\n",
            "                 Class     Images  Instances      Box(P          R      mAP50  mAP50-95): 100%|██████████| 12/12 [00:03<00:00,  3.07it/s]\n"
          ]
        },
        {
          "output_type": "stream",
          "name": "stdout",
          "text": [
            "                   all        360        456      0.576      0.494       0.48      0.245\n",
            "\n",
            "      Epoch    GPU_mem   box_loss   cls_loss   dfl_loss  Instances       Size\n"
          ]
        },
        {
          "output_type": "stream",
          "name": "stderr",
          "text": [
            "       5/20      2.18G      1.552       1.66      1.736         17        640: 100%|██████████| 236/236 [01:38<00:00,  2.39it/s]\n",
            "                 Class     Images  Instances      Box(P          R      mAP50  mAP50-95): 100%|██████████| 12/12 [00:06<00:00,  1.83it/s]"
          ]
        },
        {
          "output_type": "stream",
          "name": "stdout",
          "text": [
            "                   all        360        456      0.496      0.582      0.545      0.307\n"
          ]
        },
        {
          "output_type": "stream",
          "name": "stderr",
          "text": [
            "\n"
          ]
        },
        {
          "output_type": "stream",
          "name": "stdout",
          "text": [
            "\n",
            "      Epoch    GPU_mem   box_loss   cls_loss   dfl_loss  Instances       Size\n"
          ]
        },
        {
          "output_type": "stream",
          "name": "stderr",
          "text": [
            "       6/20      2.18G      1.514      1.568      1.713         18        640: 100%|██████████| 236/236 [01:31<00:00,  2.57it/s]\n",
            "                 Class     Images  Instances      Box(P          R      mAP50  mAP50-95): 100%|██████████| 12/12 [00:03<00:00,  3.10it/s]"
          ]
        },
        {
          "output_type": "stream",
          "name": "stdout",
          "text": [
            "                   all        360        456      0.607      0.608      0.631      0.353\n"
          ]
        },
        {
          "output_type": "stream",
          "name": "stderr",
          "text": [
            "\n"
          ]
        },
        {
          "output_type": "stream",
          "name": "stdout",
          "text": [
            "\n",
            "      Epoch    GPU_mem   box_loss   cls_loss   dfl_loss  Instances       Size\n"
          ]
        },
        {
          "output_type": "stream",
          "name": "stderr",
          "text": [
            "       7/20      2.19G      1.496       1.53      1.689         16        640: 100%|██████████| 236/236 [01:36<00:00,  2.45it/s]\n",
            "                 Class     Images  Instances      Box(P          R      mAP50  mAP50-95): 100%|██████████| 12/12 [00:06<00:00,  1.83it/s]"
          ]
        },
        {
          "output_type": "stream",
          "name": "stdout",
          "text": [
            "                   all        360        456       0.69       0.52        0.6       0.34\n"
          ]
        },
        {
          "output_type": "stream",
          "name": "stderr",
          "text": [
            "\n"
          ]
        },
        {
          "output_type": "stream",
          "name": "stdout",
          "text": [
            "\n",
            "      Epoch    GPU_mem   box_loss   cls_loss   dfl_loss  Instances       Size\n"
          ]
        },
        {
          "output_type": "stream",
          "name": "stderr",
          "text": [
            "       8/20      2.17G      1.477      1.456      1.672         16        640: 100%|██████████| 236/236 [01:39<00:00,  2.38it/s]\n",
            "                 Class     Images  Instances      Box(P          R      mAP50  mAP50-95): 100%|██████████| 12/12 [00:03<00:00,  3.03it/s]"
          ]
        },
        {
          "output_type": "stream",
          "name": "stdout",
          "text": [
            "                   all        360        456      0.544      0.559      0.583       0.34\n"
          ]
        },
        {
          "output_type": "stream",
          "name": "stderr",
          "text": [
            "\n"
          ]
        },
        {
          "output_type": "stream",
          "name": "stdout",
          "text": [
            "\n",
            "      Epoch    GPU_mem   box_loss   cls_loss   dfl_loss  Instances       Size\n"
          ]
        },
        {
          "output_type": "stream",
          "name": "stderr",
          "text": [
            "       9/20      2.17G      1.454      1.417       1.64         13        640: 100%|██████████| 236/236 [01:34<00:00,  2.49it/s]\n",
            "                 Class     Images  Instances      Box(P          R      mAP50  mAP50-95): 100%|██████████| 12/12 [00:06<00:00,  1.82it/s]"
          ]
        },
        {
          "output_type": "stream",
          "name": "stdout",
          "text": [
            "                   all        360        456      0.728      0.543      0.642      0.382\n"
          ]
        },
        {
          "output_type": "stream",
          "name": "stderr",
          "text": [
            "\n"
          ]
        },
        {
          "output_type": "stream",
          "name": "stdout",
          "text": [
            "\n",
            "      Epoch    GPU_mem   box_loss   cls_loss   dfl_loss  Instances       Size\n"
          ]
        },
        {
          "output_type": "stream",
          "name": "stderr",
          "text": [
            "      10/20      2.19G      1.434      1.366      1.621         17        640: 100%|██████████| 236/236 [01:36<00:00,  2.45it/s]\n",
            "                 Class     Images  Instances      Box(P          R      mAP50  mAP50-95): 100%|██████████| 12/12 [00:05<00:00,  2.26it/s]\n"
          ]
        },
        {
          "output_type": "stream",
          "name": "stdout",
          "text": [
            "                   all        360        456      0.659      0.571      0.623       0.39\n",
            "Closing dataloader mosaic\n",
            "\u001b[34m\u001b[1malbumentations: \u001b[0mBlur(p=0.01, blur_limit=(3, 7)), MedianBlur(p=0.01, blur_limit=(3, 7)), ToGray(p=0.01), CLAHE(p=0.01, clip_limit=(1, 4.0), tile_grid_size=(8, 8))\n"
          ]
        },
        {
          "output_type": "stream",
          "name": "stderr",
          "text": [
            "/usr/lib/python3.10/multiprocessing/popen_fork.py:66: RuntimeWarning: os.fork() was called. os.fork() is incompatible with multithreaded code, and JAX is multithreaded, so this will likely lead to a deadlock.\n",
            "  self.pid = os.fork()\n",
            "/usr/lib/python3.10/multiprocessing/popen_fork.py:66: RuntimeWarning: os.fork() was called. os.fork() is incompatible with multithreaded code, and JAX is multithreaded, so this will likely lead to a deadlock.\n",
            "  self.pid = os.fork()\n"
          ]
        },
        {
          "output_type": "stream",
          "name": "stdout",
          "text": [
            "\n",
            "      Epoch    GPU_mem   box_loss   cls_loss   dfl_loss  Instances       Size\n"
          ]
        },
        {
          "output_type": "stream",
          "name": "stderr",
          "text": [
            "      11/20      2.21G      1.396      1.295      1.588         13        640: 100%|██████████| 236/236 [01:36<00:00,  2.44it/s]\n",
            "                 Class     Images  Instances      Box(P          R      mAP50  mAP50-95): 100%|██████████| 12/12 [00:03<00:00,  3.05it/s]"
          ]
        },
        {
          "output_type": "stream",
          "name": "stdout",
          "text": [
            "                   all        360        456      0.688      0.635       0.68      0.402\n"
          ]
        },
        {
          "output_type": "stream",
          "name": "stderr",
          "text": [
            "\n"
          ]
        },
        {
          "output_type": "stream",
          "name": "stdout",
          "text": [
            "\n",
            "      Epoch    GPU_mem   box_loss   cls_loss   dfl_loss  Instances       Size\n"
          ]
        },
        {
          "output_type": "stream",
          "name": "stderr",
          "text": [
            "      12/20      2.18G      1.393      1.273      1.596         13        640: 100%|██████████| 236/236 [01:40<00:00,  2.35it/s]\n",
            "                 Class     Images  Instances      Box(P          R      mAP50  mAP50-95): 100%|██████████| 12/12 [00:07<00:00,  1.67it/s]\n"
          ]
        },
        {
          "output_type": "stream",
          "name": "stdout",
          "text": [
            "                   all        360        456      0.706      0.675      0.741      0.459\n",
            "\n",
            "      Epoch    GPU_mem   box_loss   cls_loss   dfl_loss  Instances       Size\n"
          ]
        },
        {
          "output_type": "stream",
          "name": "stderr",
          "text": [
            "      13/20      2.17G      1.362      1.232      1.567         16        640: 100%|██████████| 236/236 [01:35<00:00,  2.47it/s]\n",
            "                 Class     Images  Instances      Box(P          R      mAP50  mAP50-95): 100%|██████████| 12/12 [00:04<00:00,  2.63it/s]"
          ]
        },
        {
          "output_type": "stream",
          "name": "stdout",
          "text": [
            "                   all        360        456        0.8      0.605      0.706      0.431\n"
          ]
        },
        {
          "output_type": "stream",
          "name": "stderr",
          "text": [
            "\n"
          ]
        },
        {
          "output_type": "stream",
          "name": "stdout",
          "text": [
            "\n",
            "      Epoch    GPU_mem   box_loss   cls_loss   dfl_loss  Instances       Size\n"
          ]
        },
        {
          "output_type": "stream",
          "name": "stderr",
          "text": [
            "      14/20      2.17G      1.342      1.175      1.555         15        640: 100%|██████████| 236/236 [01:33<00:00,  2.52it/s]\n",
            "                 Class     Images  Instances      Box(P          R      mAP50  mAP50-95): 100%|██████████| 12/12 [00:06<00:00,  1.83it/s]"
          ]
        },
        {
          "output_type": "stream",
          "name": "stdout",
          "text": [
            "                   all        360        456      0.735      0.666      0.727      0.429\n"
          ]
        },
        {
          "output_type": "stream",
          "name": "stderr",
          "text": [
            "\n"
          ]
        },
        {
          "output_type": "stream",
          "name": "stdout",
          "text": [
            "\n",
            "      Epoch    GPU_mem   box_loss   cls_loss   dfl_loss  Instances       Size\n"
          ]
        },
        {
          "output_type": "stream",
          "name": "stderr",
          "text": [
            "      15/20      2.17G      1.331      1.142      1.552         16        640: 100%|██████████| 236/236 [01:35<00:00,  2.48it/s]\n",
            "                 Class     Images  Instances      Box(P          R      mAP50  mAP50-95): 100%|██████████| 12/12 [00:03<00:00,  3.03it/s]\n"
          ]
        },
        {
          "output_type": "stream",
          "name": "stdout",
          "text": [
            "                   all        360        456      0.841      0.662       0.74      0.467\n",
            "\n",
            "      Epoch    GPU_mem   box_loss   cls_loss   dfl_loss  Instances       Size\n"
          ]
        },
        {
          "output_type": "stream",
          "name": "stderr",
          "text": [
            "      16/20      2.17G      1.304      1.108      1.521         13        640: 100%|██████████| 236/236 [01:32<00:00,  2.55it/s]\n",
            "                 Class     Images  Instances      Box(P          R      mAP50  mAP50-95): 100%|██████████| 12/12 [00:06<00:00,  1.78it/s]"
          ]
        },
        {
          "output_type": "stream",
          "name": "stdout",
          "text": [
            "                   all        360        456      0.754      0.705      0.769      0.474\n"
          ]
        },
        {
          "output_type": "stream",
          "name": "stderr",
          "text": [
            "\n"
          ]
        },
        {
          "output_type": "stream",
          "name": "stdout",
          "text": [
            "\n",
            "      Epoch    GPU_mem   box_loss   cls_loss   dfl_loss  Instances       Size\n"
          ]
        },
        {
          "output_type": "stream",
          "name": "stderr",
          "text": [
            "      17/20      2.17G      1.284      1.069      1.498         17        640: 100%|██████████| 236/236 [01:36<00:00,  2.44it/s]\n",
            "                 Class     Images  Instances      Box(P          R      mAP50  mAP50-95): 100%|██████████| 12/12 [00:03<00:00,  3.29it/s]"
          ]
        },
        {
          "output_type": "stream",
          "name": "stdout",
          "text": [
            "                   all        360        456      0.748      0.745      0.792      0.501\n"
          ]
        },
        {
          "output_type": "stream",
          "name": "stderr",
          "text": [
            "\n"
          ]
        },
        {
          "output_type": "stream",
          "name": "stdout",
          "text": [
            "\n",
            "      Epoch    GPU_mem   box_loss   cls_loss   dfl_loss  Instances       Size\n"
          ]
        },
        {
          "output_type": "stream",
          "name": "stderr",
          "text": [
            "      18/20      2.17G      1.252      1.034      1.485         18        640: 100%|██████████| 236/236 [01:32<00:00,  2.56it/s]\n",
            "                 Class     Images  Instances      Box(P          R      mAP50  mAP50-95): 100%|██████████| 12/12 [00:06<00:00,  1.79it/s]"
          ]
        },
        {
          "output_type": "stream",
          "name": "stdout",
          "text": [
            "                   all        360        456      0.749      0.746      0.794      0.505\n"
          ]
        },
        {
          "output_type": "stream",
          "name": "stderr",
          "text": [
            "\n"
          ]
        },
        {
          "output_type": "stream",
          "name": "stdout",
          "text": [
            "\n",
            "      Epoch    GPU_mem   box_loss   cls_loss   dfl_loss  Instances       Size\n"
          ]
        },
        {
          "output_type": "stream",
          "name": "stderr",
          "text": [
            "      19/20      2.17G      1.228     0.9997      1.454         13        640: 100%|██████████| 236/236 [01:37<00:00,  2.41it/s]\n",
            "                 Class     Images  Instances      Box(P          R      mAP50  mAP50-95): 100%|██████████| 12/12 [00:04<00:00,  2.91it/s]\n"
          ]
        },
        {
          "output_type": "stream",
          "name": "stdout",
          "text": [
            "                   all        360        456      0.779      0.746      0.806      0.519\n",
            "\n",
            "      Epoch    GPU_mem   box_loss   cls_loss   dfl_loss  Instances       Size\n"
          ]
        },
        {
          "output_type": "stream",
          "name": "stderr",
          "text": [
            "      20/20      2.17G        1.2     0.9562       1.43         18        640: 100%|██████████| 236/236 [01:38<00:00,  2.39it/s]\n",
            "                 Class     Images  Instances      Box(P          R      mAP50  mAP50-95): 100%|██████████| 12/12 [00:06<00:00,  1.84it/s]"
          ]
        },
        {
          "output_type": "stream",
          "name": "stdout",
          "text": [
            "                   all        360        456      0.778      0.756      0.812      0.523\n"
          ]
        },
        {
          "output_type": "stream",
          "name": "stderr",
          "text": [
            "\n"
          ]
        },
        {
          "output_type": "stream",
          "name": "stdout",
          "text": [
            "\n",
            "20 epochs completed in 0.577 hours.\n",
            "Optimizer stripped from /content/drive/MyDrive/AyushVision/yolo8/training/06_09_2024/00001725580800/fruits/runs/train20/weights/last.pt, 6.2MB\n",
            "Optimizer stripped from /content/drive/MyDrive/AyushVision/yolo8/training/06_09_2024/00001725580800/fruits/runs/train20/weights/best.pt, 6.2MB\n",
            "\n",
            "Validating /content/drive/MyDrive/AyushVision/yolo8/training/06_09_2024/00001725580800/fruits/runs/train20/weights/best.pt...\n",
            "Ultralytics YOLOv8.2.88 🚀 Python-3.10.12 torch-2.4.0+cu121 CUDA:0 (Tesla T4, 15102MiB)\n",
            "YOLOv8n summary (fused): 168 layers, 3,007,403 parameters, 0 gradients, 8.1 GFLOPs\n"
          ]
        },
        {
          "output_type": "stream",
          "name": "stderr",
          "text": [
            "                 Class     Images  Instances      Box(P          R      mAP50  mAP50-95): 100%|██████████| 12/12 [00:07<00:00,  1.55it/s]\n"
          ]
        },
        {
          "output_type": "stream",
          "name": "stdout",
          "text": [
            "                   all        360        456      0.776      0.756      0.812      0.523\n",
            "         Indian_mallow         40         49      0.796      0.755      0.811      0.516\n",
            "             Ivy_gourd         40         48      0.734      0.896      0.924       0.54\n",
            "                  Lime         40         45      0.698      0.956      0.918      0.737\n",
            "           Long_pepper         40         48      0.774      0.938      0.934      0.499\n",
            "         Pedaliummurex         40         61      0.712      0.672      0.787      0.544\n",
            "      Red_Pea_Eggplant         41         63      0.941      0.255      0.485        0.2\n",
            "       Ring_worm_plant         40         44       0.77      0.977      0.962      0.634\n",
            "            ThornApple         40         42      0.847      0.857      0.932      0.696\n",
            "                caster         40         56      0.715        0.5      0.552      0.339\n",
            "Speed: 0.3ms preprocess, 2.8ms inference, 0.0ms loss, 4.3ms postprocess per image\n",
            "Results saved to \u001b[1m/content/drive/MyDrive/AyushVision/yolo8/training/06_09_2024/00001725580800/fruits/runs/train20\u001b[0m\n"
          ]
        }
      ],
      "source": [
        "results = yolo_model.train(data=data,name=name, epochs=epochs, imgsz=imageSize,project=project,optimizer=optimizer,plots=True,dropout=dropout)"
      ]
    },
    {
      "cell_type": "code",
      "source": [
        "args_yaml=f'{project}/{name}/args.yaml'"
      ],
      "metadata": {
        "id": "MdBQmfy28ayr"
      },
      "execution_count": 87,
      "outputs": []
    },
    {
      "cell_type": "code",
      "source": [
        "resultcsv=f'{project}/{name}/results.csv'"
      ],
      "metadata": {
        "id": "H8adM3bo8b3r"
      },
      "execution_count": 88,
      "outputs": []
    },
    {
      "cell_type": "code",
      "source": [
        "with open(resultcsv, mode='r') as file:\n",
        "     csv_reader = csv.DictReader(file)\n",
        "     data_dict = [row for row in csv_reader]"
      ],
      "metadata": {
        "id": "UFuXpXk-8h5S"
      },
      "execution_count": 89,
      "outputs": []
    },
    {
      "cell_type": "code",
      "source": [
        "with open(args_yaml, 'r') as file:\n",
        "    yaml_content = yaml.safe_load(file)"
      ],
      "metadata": {
        "id": "w2dt5YSU8lxH"
      },
      "execution_count": 90,
      "outputs": []
    },
    {
      "cell_type": "code",
      "execution_count": 91,
      "metadata": {
        "id": "j0b7pQMdwiee"
      },
      "outputs": [],
      "source": [
        "today_training_colref=today_ref.collection('Train')"
      ]
    },
    {
      "cell_type": "code",
      "source": [
        "today_training_ref=today_training_colref.document('args')"
      ],
      "metadata": {
        "id": "h93Bdy0883l4"
      },
      "execution_count": 92,
      "outputs": []
    },
    {
      "cell_type": "code",
      "source": [
        "today_training_ref.set(yaml_content)"
      ],
      "metadata": {
        "colab": {
          "base_uri": "https://localhost:8080/"
        },
        "id": "1fxk0yTh84zE",
        "outputId": "00f6998b-e3e1-4df5-d775-21d06888099b"
      },
      "execution_count": 93,
      "outputs": [
        {
          "output_type": "execute_result",
          "data": {
            "text/plain": [
              "update_time {\n",
              "  seconds: 1725587517\n",
              "  nanos: 870584000\n",
              "}"
            ]
          },
          "metadata": {},
          "execution_count": 93
        }
      ]
    },
    {
      "cell_type": "code",
      "source": [
        "todayresultref=today_training_colref.document('results')"
      ],
      "metadata": {
        "id": "e_cpWpnJ8_DT"
      },
      "execution_count": 94,
      "outputs": []
    },
    {
      "cell_type": "code",
      "source": [
        "todayresultref.set({'results':data_dict})"
      ],
      "metadata": {
        "colab": {
          "base_uri": "https://localhost:8080/"
        },
        "id": "_O3rQ8Oe9DPU",
        "outputId": "be1bdd84-f564-4458-f2c5-3caa1db26118"
      },
      "execution_count": 95,
      "outputs": [
        {
          "output_type": "execute_result",
          "data": {
            "text/plain": [
              "update_time {\n",
              "  seconds: 1725587518\n",
              "  nanos: 78648000\n",
              "}"
            ]
          },
          "metadata": {},
          "execution_count": 95
        }
      ]
    },
    {
      "cell_type": "code",
      "execution_count": 96,
      "metadata": {
        "id": "g-BcnpaezP3a"
      },
      "outputs": [],
      "source": [
        "trainfiles={}\n",
        "wights={}"
      ]
    },
    {
      "cell_type": "code",
      "execution_count": 97,
      "metadata": {
        "id": "jhuDVlf7xyNL"
      },
      "outputs": [],
      "source": [
        "for file in os.listdir(f\"{project}/{name}\"):\n",
        "  if os.path.isfile(f\"{project}/{name}/{file}\"):\n",
        "    blob = bucket.blob(f\"yolo/fruit/train/{epochs}/{file}\")\n",
        "    blob.upload_from_filename(f\"{project}/{name}/{file}\")\n",
        "    blob.make_public()\n",
        "    trainfiles[os.path.splitext(file)[0]]=blob.public_url\n"
      ]
    },
    {
      "cell_type": "code",
      "execution_count": 98,
      "metadata": {
        "id": "qbmOsJHgNmoU"
      },
      "outputs": [],
      "source": [
        "for file in os.listdir(f\"{project}/{name}/weights\"):\n",
        "  if os.path.isfile(f\"{project}/{name}/weights/{file}\"):\n",
        "    blob = bucket.blob(f\"yolo/fruit/train/{epochs}/weights/{file}\")\n",
        "    blob.upload_from_filename(f\"{project}/{name}/weights/{file}\")\n",
        "    blob.make_public()\n",
        "    wights[os.path.splitext(file)[0]]=blob.public_url"
      ]
    },
    {
      "cell_type": "code",
      "execution_count": 100,
      "metadata": {
        "id": "rMcQNIy10MUP",
        "colab": {
          "base_uri": "https://localhost:8080/"
        },
        "outputId": "5dac5bda-9d9c-4319-e91d-b2949b84a227"
      },
      "outputs": [
        {
          "output_type": "execute_result",
          "data": {
            "text/plain": [
              "update_time {\n",
              "  seconds: 1725587550\n",
              "  nanos: 530108000\n",
              "}"
            ]
          },
          "metadata": {},
          "execution_count": 100
        }
      ],
      "source": [
        "today_training_files=today_training_colref.document('files')\n",
        "today_training_files.set(trainfiles)"
      ]
    },
    {
      "cell_type": "code",
      "source": [
        "today_weights_files=today_training_colref.document('weights')\n",
        "today_weights_files.set(wights)"
      ],
      "metadata": {
        "colab": {
          "base_uri": "https://localhost:8080/"
        },
        "id": "mYZPqIsd9ju5",
        "outputId": "e9c12b63-26ab-4773-fe96-796561d7194c"
      },
      "execution_count": 99,
      "outputs": [
        {
          "output_type": "execute_result",
          "data": {
            "text/plain": [
              "update_time {\n",
              "  seconds: 1725587549\n",
              "  nanos: 922354000\n",
              "}"
            ]
          },
          "metadata": {},
          "execution_count": 99
        }
      ]
    },
    {
      "cell_type": "markdown",
      "metadata": {
        "id": "vebaeyvan7Ho"
      },
      "source": [
        "#### Validation"
      ]
    },
    {
      "cell_type": "code",
      "execution_count": 101,
      "metadata": {
        "id": "-9orCdN0n7Ho"
      },
      "outputs": [],
      "source": [
        "model_train_path=f'{project}/{name}/weights/best.pt'"
      ]
    },
    {
      "cell_type": "code",
      "execution_count": 102,
      "metadata": {
        "id": "eGWISZx7n7Hp"
      },
      "outputs": [],
      "source": [
        "model = YOLO(model_train_path)  # load a custom trained model"
      ]
    },
    {
      "cell_type": "code",
      "execution_count": 103,
      "metadata": {
        "colab": {
          "base_uri": "https://localhost:8080/"
        },
        "id": "AXl1m-taeNDN",
        "outputId": "c4b09a89-251f-406d-8d69-b720029bc35c"
      },
      "outputs": [
        {
          "output_type": "stream",
          "name": "stdout",
          "text": [
            "Ultralytics YOLOv8.2.88 🚀 Python-3.10.12 torch-2.4.0+cu121 CUDA:0 (Tesla T4, 15102MiB)\n",
            "YOLOv8n summary (fused): 168 layers, 3,007,403 parameters, 0 gradients, 8.1 GFLOPs\n"
          ]
        },
        {
          "output_type": "stream",
          "name": "stderr",
          "text": [
            "\u001b[34m\u001b[1mval: \u001b[0mScanning /content/drive/MyDrive/AyushVision/yolo8/dataset/ayushvision_fruits/valid/labels.cache... 360 images, 0 backgrounds, 0 corrupt: 100%|██████████| 360/360 [00:00<?, ?it/s]\n",
            "/usr/lib/python3.10/multiprocessing/popen_fork.py:66: RuntimeWarning: os.fork() was called. os.fork() is incompatible with multithreaded code, and JAX is multithreaded, so this will likely lead to a deadlock.\n",
            "  self.pid = os.fork()\n",
            "                 Class     Images  Instances      Box(P          R      mAP50  mAP50-95): 100%|██████████| 23/23 [00:09<00:00,  2.42it/s]\n"
          ]
        },
        {
          "output_type": "stream",
          "name": "stdout",
          "text": [
            "                   all        360        456      0.776      0.756      0.812      0.523\n",
            "         Indian_mallow         40         49      0.796      0.755       0.81      0.516\n",
            "             Ivy_gourd         40         48      0.734      0.896      0.924      0.542\n",
            "                  Lime         40         45      0.698      0.956      0.918      0.737\n",
            "           Long_pepper         40         48      0.774      0.938      0.934      0.499\n",
            "         Pedaliummurex         40         61      0.712      0.672      0.787      0.539\n",
            "      Red_Pea_Eggplant         41         63      0.941      0.255      0.485        0.2\n",
            "       Ring_worm_plant         40         44       0.77      0.977      0.962      0.634\n",
            "            ThornApple         40         42      0.847      0.857      0.932      0.695\n",
            "                caster         40         56      0.716        0.5      0.552       0.34\n",
            "Speed: 0.4ms preprocess, 5.2ms inference, 0.0ms loss, 3.2ms postprocess per image\n",
            "Saving /content/drive/MyDrive/AyushVision/yolo8/training/06_09_2024/00001725580800/fruits/runs/val20/predictions.json...\n",
            "Results saved to \u001b[1m/content/drive/MyDrive/AyushVision/yolo8/training/06_09_2024/00001725580800/fruits/runs/val20\u001b[0m\n"
          ]
        }
      ],
      "source": [
        "metrics = model.val(save_json=True,plots=True,project=project,name=f'val{epochs}')  # no arguments needed, dataset and settings remembered"
      ]
    },
    {
      "cell_type": "code",
      "execution_count": 104,
      "metadata": {
        "id": "q9FLMqVSzVDo"
      },
      "outputs": [],
      "source": [
        "val_today_col=today_ref.collection('Val')"
      ]
    },
    {
      "cell_type": "code",
      "source": [
        "predication_file=f'{project}/val{epochs}/predictions.json'"
      ],
      "metadata": {
        "id": "Ue99I-4m9_Hp"
      },
      "execution_count": 105,
      "outputs": []
    },
    {
      "cell_type": "code",
      "source": [
        "with open(predication_file, 'r') as file:\n",
        "    data_dict = json.load(file)"
      ],
      "metadata": {
        "id": "LnkXYv6f-DpZ"
      },
      "execution_count": 106,
      "outputs": []
    },
    {
      "cell_type": "code",
      "source": [
        "val_today_ref_files=val_today_col.document('files')"
      ],
      "metadata": {
        "id": "N9DvT2u_-FFB"
      },
      "execution_count": 107,
      "outputs": []
    },
    {
      "cell_type": "code",
      "execution_count": 108,
      "metadata": {
        "id": "zUlTjrFB0JtF"
      },
      "outputs": [],
      "source": [
        "valfiles={}"
      ]
    },
    {
      "cell_type": "code",
      "execution_count": 109,
      "metadata": {
        "id": "f5kMLdoCTg9l"
      },
      "outputs": [],
      "source": [
        "for file in os.listdir(f\"{project}/val{epochs}\"):\n",
        "  if os.path.isfile(f\"{project}/val{epochs}/{file}\"):\n",
        "    blob = bucket.blob(f\"yolo/fruit/val/{epochs}/{file}\")\n",
        "    blob.upload_from_filename(f\"{project}/val{epochs}/{file}\")\n",
        "    blob.make_public()\n",
        "    valfiles[os.path.splitext(file)[0]]=blob.public_url"
      ]
    },
    {
      "cell_type": "code",
      "execution_count": 110,
      "metadata": {
        "id": "P5xtzL5GUB_H",
        "colab": {
          "base_uri": "https://localhost:8080/"
        },
        "outputId": "87fe365d-ebb2-4a2f-c790-6aba78936678"
      },
      "outputs": [
        {
          "output_type": "execute_result",
          "data": {
            "text/plain": [
              "update_time {\n",
              "  seconds: 1725587580\n",
              "  nanos: 603799000\n",
              "}"
            ]
          },
          "metadata": {},
          "execution_count": 110
        }
      ],
      "source": [
        "val_today_ref_files.set(valfiles)"
      ]
    },
    {
      "cell_type": "code",
      "source": [
        "val_today_ref_metrics=val_today_col.document('metrics')"
      ],
      "metadata": {
        "id": "rm27eewN-neO"
      },
      "execution_count": 111,
      "outputs": []
    },
    {
      "cell_type": "code",
      "source": [
        "\n",
        "val_today_ref_metrics.set({\n",
        "    'confusion_matrix':{\n",
        "        'conf':metrics.confusion_matrix.conf\n",
        "    },\n",
        "    'maps':np.array(metrics.maps).tolist(),\n",
        "    'fitness':metrics.fitness,\n",
        "'results_dict':metrics.results_dict,\n",
        "    'speed':metrics.speed,\n",
        "    'box':{\n",
        "        'map':metrics.box.map,\n",
        "        'maps':np.array(metrics.box.maps).tolist(),\n",
        "        'map50':metrics.box.map50,\n",
        "        'map75':metrics.box.map75,\n",
        "        'mp':metrics.box.mp,\n",
        "'mr':metrics.box.mr,\n",
        "        'nc':metrics.box.nc,\n",
        "        'p':np.array(metrics.box.p).tolist(),\n",
        "        'r':np.array(metrics.box.r).tolist(),\n",
        "        'ap':np.array(metrics.box.ap).tolist(),\n",
        "        'ap50':np.array(metrics.box.ap50).tolist(),\n",
        "        'ap_class_index':np.array(metrics.box.ap_class_index).tolist(),\n",
        "        }\n",
        "})"
      ],
      "metadata": {
        "colab": {
          "base_uri": "https://localhost:8080/"
        },
        "id": "P0j1ffJG-r-p",
        "outputId": "6342e590-10ae-4db0-c311-ab437ce5be78"
      },
      "execution_count": 112,
      "outputs": [
        {
          "output_type": "execute_result",
          "data": {
            "text/plain": [
              "update_time {\n",
              "  seconds: 1725587580\n",
              "  nanos: 795509000\n",
              "}"
            ]
          },
          "metadata": {},
          "execution_count": 112
        }
      ]
    },
    {
      "cell_type": "code",
      "execution_count": 113,
      "metadata": {
        "colab": {
          "base_uri": "https://localhost:8080/"
        },
        "id": "P8B6V3_wwohd",
        "outputId": "4ce9266b-3303-4a47-e2b7-e617823d944c"
      },
      "outputs": [
        {
          "output_type": "execute_result",
          "data": {
            "text/plain": [
              "0.8116327679565178"
            ]
          },
          "metadata": {},
          "execution_count": 113
        }
      ],
      "source": [
        "metrics.box.map50"
      ]
    },
    {
      "cell_type": "code",
      "execution_count": 114,
      "metadata": {
        "colab": {
          "base_uri": "https://localhost:8080/"
        },
        "id": "ZN0NsU2kwsYW",
        "outputId": "bf46a2ec-c007-4788-b426-aff9f0cc4791"
      },
      "outputs": [
        {
          "output_type": "execute_result",
          "data": {
            "text/plain": [
              "0.5771531060199359"
            ]
          },
          "metadata": {},
          "execution_count": 114
        }
      ],
      "source": [
        "metrics.box.map75"
      ]
    },
    {
      "cell_type": "code",
      "execution_count": 115,
      "metadata": {
        "colab": {
          "base_uri": "https://localhost:8080/"
        },
        "id": "xaONZry0wx04",
        "outputId": "c7b9eb87-00ab-4225-f961-a50c24d51328"
      },
      "outputs": [
        {
          "output_type": "execute_result",
          "data": {
            "text/plain": [
              "array([    0.51589,     0.54213,     0.73743,     0.49921,     0.53924,     0.19964,     0.63445,     0.69547,      0.3398])"
            ]
          },
          "metadata": {},
          "execution_count": 115
        }
      ],
      "source": [
        "metrics.box.maps"
      ]
    },
    {
      "cell_type": "markdown",
      "metadata": {
        "id": "jkbwnnv_n7Hp"
      },
      "source": [
        "#### Predict"
      ]
    },
    {
      "cell_type": "code",
      "execution_count": 116,
      "metadata": {
        "id": "DAQcdN7Mn7Hp",
        "colab": {
          "base_uri": "https://localhost:8080/"
        },
        "outputId": "53130ca4-b1da-4d28-9106-2acc68296637"
      },
      "outputs": [
        {
          "output_type": "stream",
          "name": "stdout",
          "text": [
            "\n",
            "image 1/180 /content/drive/MyDrive/AyushVision/yolo8/dataset/ayushvision_fruits/test/images/IMG20240106140730_jpg.rf.7a217508c99e0fb0f8f70aca5bdf7981.jpg: 640x640 2 Long_peppers, 10.6ms\n",
            "image 2/180 /content/drive/MyDrive/AyushVision/yolo8/dataset/ayushvision_fruits/test/images/IMG20240106140815_jpg.rf.32d73aaf9acaa8d53bbf544105442f47.jpg: 640x640 3 Long_peppers, 13.9ms\n",
            "image 3/180 /content/drive/MyDrive/AyushVision/yolo8/dataset/ayushvision_fruits/test/images/IMG20240106140913_jpg.rf.fcae1904de5e91129d2fb3518e9c3723.jpg: 640x640 1 Long_pepper, 13.8ms\n",
            "image 4/180 /content/drive/MyDrive/AyushVision/yolo8/dataset/ayushvision_fruits/test/images/IMG20240106140941_jpg.rf.a6b20038d92c45a118489cf31d5756d3.jpg: 640x640 1 Long_pepper, 12.5ms\n",
            "image 5/180 /content/drive/MyDrive/AyushVision/yolo8/dataset/ayushvision_fruits/test/images/IMG20240106141029_jpg.rf.2c16c88c0e117420b940c64b48780e71.jpg: 640x640 2 Long_peppers, 9.4ms\n",
            "image 6/180 /content/drive/MyDrive/AyushVision/yolo8/dataset/ayushvision_fruits/test/images/IMG20240106141058_jpg.rf.797fdb7b5a10c555871111a1cf508240.jpg: 640x640 3 Long_peppers, 11.9ms\n",
            "image 7/180 /content/drive/MyDrive/AyushVision/yolo8/dataset/ayushvision_fruits/test/images/IMG20240106141233_jpg.rf.1181dee9a899a053653f18515954ace1.jpg: 640x640 2 Limes, 1 Long_pepper, 13.8ms\n",
            "image 8/180 /content/drive/MyDrive/AyushVision/yolo8/dataset/ayushvision_fruits/test/images/IMG20240120161928_jpg.rf.6808f9c6aae80fb5ab99b6a2ab75630b.jpg: 640x640 2 Long_peppers, 14.4ms\n",
            "image 9/180 /content/drive/MyDrive/AyushVision/yolo8/dataset/ayushvision_fruits/test/images/IMG20240120162105_jpg.rf.5a4ea0301140cd92405648f89eb45ed0.jpg: 640x640 1 Long_pepper, 11.9ms\n",
            "image 10/180 /content/drive/MyDrive/AyushVision/yolo8/dataset/ayushvision_fruits/test/images/IMG20240120162133_jpg.rf.0f7e2735fd95ee318000dd3fe637ac2f.jpg: 640x640 1 Long_pepper, 15.1ms\n",
            "image 11/180 /content/drive/MyDrive/AyushVision/yolo8/dataset/ayushvision_fruits/test/images/IMG20240120162209_jpg.rf.d9b23b654ccb6f3a2c013f81c23f650e.jpg: 640x640 1 Long_pepper, 13.5ms\n",
            "image 12/180 /content/drive/MyDrive/AyushVision/yolo8/dataset/ayushvision_fruits/test/images/IMG20240120162359_jpg.rf.b9a321f0ff53ffa075c5b22d08ebac91.jpg: 640x640 1 Long_pepper, 15.7ms\n",
            "image 13/180 /content/drive/MyDrive/AyushVision/yolo8/dataset/ayushvision_fruits/test/images/IMG20240120162437_jpg.rf.8d5a0e71f42998d145024d26f885fb19.jpg: 640x640 2 Long_peppers, 10.4ms\n",
            "image 14/180 /content/drive/MyDrive/AyushVision/yolo8/dataset/ayushvision_fruits/test/images/IMG20240120162458_jpg.rf.c6896e52fe25d864c58a43c64dec487e.jpg: 640x640 1 Long_pepper, 16.4ms\n",
            "image 15/180 /content/drive/MyDrive/AyushVision/yolo8/dataset/ayushvision_fruits/test/images/IMG20240120162514_jpg.rf.415e4995b1c4df64d93ccbb2ea7f9e2d.jpg: 640x640 1 Long_pepper, 12.7ms\n",
            "image 16/180 /content/drive/MyDrive/AyushVision/yolo8/dataset/ayushvision_fruits/test/images/IMG20240120162532_jpg.rf.6341afc62c3b555bcfcb1171d8e58f8a.jpg: 640x640 1 Long_pepper, 9.6ms\n",
            "image 17/180 /content/drive/MyDrive/AyushVision/yolo8/dataset/ayushvision_fruits/test/images/IMG20240209125209_jpg.rf.f6929d8a528a342502e6ecf78d414431.jpg: 640x640 (no detections), 8.8ms\n",
            "image 18/180 /content/drive/MyDrive/AyushVision/yolo8/dataset/ayushvision_fruits/test/images/IMG20240209125630_jpg.rf.fc1a5f400c3469af7fd33808c69e7a09.jpg: 640x640 1 Red_Pea_Eggplant, 9.9ms\n",
            "image 19/180 /content/drive/MyDrive/AyushVision/yolo8/dataset/ayushvision_fruits/test/images/IMG20240209125647_jpg.rf.761b421a9d28e93288d777b3f8b0f6e5.jpg: 640x640 1 Red_Pea_Eggplant, 8.9ms\n",
            "image 20/180 /content/drive/MyDrive/AyushVision/yolo8/dataset/ayushvision_fruits/test/images/IMG20240209125801_jpg.rf.f0a74b4031a65303ce614379a9d93f20.jpg: 640x640 2 Red_Pea_Eggplants, 8.9ms\n",
            "image 21/180 /content/drive/MyDrive/AyushVision/yolo8/dataset/ayushvision_fruits/test/images/IMG20240209130308_jpg.rf.7b6e3ece066b596a8fc61e8bd7697148.jpg: 640x640 2 Red_Pea_Eggplants, 8.8ms\n",
            "image 22/180 /content/drive/MyDrive/AyushVision/yolo8/dataset/ayushvision_fruits/test/images/IMG20240209130346_jpg.rf.6a1532370eadb4880025a3e5b08fb2a8.jpg: 640x640 2 Red_Pea_Eggplants, 12.6ms\n",
            "image 23/180 /content/drive/MyDrive/AyushVision/yolo8/dataset/ayushvision_fruits/test/images/IMG20240209130357_jpg.rf.07ce66ff63f93040e44de99faed40c98.jpg: 640x640 1 Red_Pea_Eggplant, 8.6ms\n",
            "image 24/180 /content/drive/MyDrive/AyushVision/yolo8/dataset/ayushvision_fruits/test/images/IMG20240209130413_jpg.rf.54f729cc3098e4ee8344d4ab2f1c6a96.jpg: 640x640 1 Red_Pea_Eggplant, 12.3ms\n",
            "image 25/180 /content/drive/MyDrive/AyushVision/yolo8/dataset/ayushvision_fruits/test/images/IMG20240209130453_jpg.rf.7298231f5d685087617bec88219b960e.jpg: 640x640 1 Red_Pea_Eggplant, 15.2ms\n",
            "image 26/180 /content/drive/MyDrive/AyushVision/yolo8/dataset/ayushvision_fruits/test/images/IMG20240209130513_jpg.rf.01dfaeafe949443e88f0c04f4688d31d.jpg: 640x640 1 Red_Pea_Eggplant, 11.2ms\n",
            "image 27/180 /content/drive/MyDrive/AyushVision/yolo8/dataset/ayushvision_fruits/test/images/IMG20240209130518_jpg.rf.3e7dfdb6e5ce8bea405b1719028ee7cf.jpg: 640x640 (no detections), 9.8ms\n",
            "image 28/180 /content/drive/MyDrive/AyushVision/yolo8/dataset/ayushvision_fruits/test/images/IMG20240209130521_jpg.rf.7909cd383cc13fef6fec51519db63889.jpg: 640x640 (no detections), 9.3ms\n",
            "image 29/180 /content/drive/MyDrive/AyushVision/yolo8/dataset/ayushvision_fruits/test/images/IMG202402091321114_jpg.rf.efa6ddb4c157646dfa8d771c31315987.jpg: 640x640 1 Red_Pea_Eggplant, 8.8ms\n",
            "image 30/180 /content/drive/MyDrive/AyushVision/yolo8/dataset/ayushvision_fruits/test/images/IMG20240426180640_jpg.rf.bf53a65eccf5a0213c96bd980345eaa0.jpg: 640x640 5 Pedaliummurexs, 9.7ms\n",
            "image 31/180 /content/drive/MyDrive/AyushVision/yolo8/dataset/ayushvision_fruits/test/images/IMG20240426180714_jpg.rf.83047a3525f9fc1f1035d900b65348dd.jpg: 640x640 1 Pedaliummurex, 14.9ms\n",
            "image 32/180 /content/drive/MyDrive/AyushVision/yolo8/dataset/ayushvision_fruits/test/images/IMG20240426180914_jpg.rf.539c8d5e32d7ec835cdac9ef24492240.jpg: 640x640 1 Pedaliummurex, 9.0ms\n",
            "image 33/180 /content/drive/MyDrive/AyushVision/yolo8/dataset/ayushvision_fruits/test/images/IMG20240427220416_jpg.rf.dbd9c575716e1b6776c0e8856f04cc54.jpg: 640x640 1 Pedaliummurex, 9.9ms\n",
            "image 34/180 /content/drive/MyDrive/AyushVision/yolo8/dataset/ayushvision_fruits/test/images/IMG20240427220442_jpg.rf.fdcd56846989099796d389e423a7e827.jpg: 640x640 1 Pedaliummurex, 9.0ms\n",
            "image 35/180 /content/drive/MyDrive/AyushVision/yolo8/dataset/ayushvision_fruits/test/images/IMG20240427220500_jpg.rf.3beace831675d9ef8a99ad1517c26396.jpg: 640x640 1 Pedaliummurex, 12.9ms\n",
            "image 36/180 /content/drive/MyDrive/AyushVision/yolo8/dataset/ayushvision_fruits/test/images/IMG20240427220822_jpg.rf.b8d8c1e2a4bf156b1d965d266400dbe4.jpg: 640x640 1 Pedaliummurex, 9.1ms\n",
            "image 37/180 /content/drive/MyDrive/AyushVision/yolo8/dataset/ayushvision_fruits/test/images/IMG20240427220829_jpg.rf.a489cb786b4a5e9c22d0fc7abe8582dc.jpg: 640x640 1 Pedaliummurex, 9.1ms\n",
            "image 38/180 /content/drive/MyDrive/AyushVision/yolo8/dataset/ayushvision_fruits/test/images/IMG20240427220834_jpg.rf.856ed1ead6cfd5d79a2125c2b7518e66.jpg: 640x640 1 Pedaliummurex, 9.7ms\n",
            "image 39/180 /content/drive/MyDrive/AyushVision/yolo8/dataset/ayushvision_fruits/test/images/IMG20240427220914_jpg.rf.0964a14ba8cc2d8c2b50032a5f8ae236.jpg: 640x640 1 Pedaliummurex, 9.9ms\n",
            "image 40/180 /content/drive/MyDrive/AyushVision/yolo8/dataset/ayushvision_fruits/test/images/IMG20240427220951_jpg.rf.e348d863147f1df763018cc37e5fbc4c.jpg: 640x640 1 Pedaliummurex, 11.2ms\n",
            "image 41/180 /content/drive/MyDrive/AyushVision/yolo8/dataset/ayushvision_fruits/test/images/IMG20240427221740_jpg.rf.09679f6d9ee0e057752016a82a869276.jpg: 640x640 2 Pedaliummurexs, 14.7ms\n",
            "image 42/180 /content/drive/MyDrive/AyushVision/yolo8/dataset/ayushvision_fruits/test/images/IMG20240427221819_jpg.rf.dc0579443893e5e823980d70c0626ce0.jpg: 640x640 3 Pedaliummurexs, 10.5ms\n",
            "image 43/180 /content/drive/MyDrive/AyushVision/yolo8/dataset/ayushvision_fruits/test/images/IMG20240427221823_jpg.rf.70d64bdab04639557f5373709fc323cc.jpg: 640x640 1 Pedaliummurex, 10.7ms\n",
            "image 44/180 /content/drive/MyDrive/AyushVision/yolo8/dataset/ayushvision_fruits/test/images/IMG20240427221826_jpg.rf.8204503b3ece8ee4d87328521051b551.jpg: 640x640 1 Pedaliummurex, 13.1ms\n",
            "image 45/180 /content/drive/MyDrive/AyushVision/yolo8/dataset/ayushvision_fruits/test/images/IMG20240427221925_jpg.rf.1665228e62db8aa04692b32416e8bb0c.jpg: 640x640 1 Pedaliummurex, 11.1ms\n",
            "image 46/180 /content/drive/MyDrive/AyushVision/yolo8/dataset/ayushvision_fruits/test/images/IMG20240427222009_jpg.rf.0dfb31b5eaa96bcf367100a3ccae06fd.jpg: 640x640 2 Pedaliummurexs, 13.3ms\n",
            "image 47/180 /content/drive/MyDrive/AyushVision/yolo8/dataset/ayushvision_fruits/test/images/IMG20240427222217_jpg.rf.da01453790a412f06b79cdf61e2af5d2.jpg: 640x640 7 Pedaliummurexs, 9.4ms\n",
            "image 48/180 /content/drive/MyDrive/AyushVision/yolo8/dataset/ayushvision_fruits/test/images/IMG20240427222327_jpg.rf.03ea929599aa70d6cb3990e5a36feaa5.jpg: 640x640 1 Lime, 4 Pedaliummurexs, 9.7ms\n",
            "image 49/180 /content/drive/MyDrive/AyushVision/yolo8/dataset/ayushvision_fruits/test/images/IMG20240427222328_jpg.rf.3a8e03f8fe8664cb0282d044240d20b3.jpg: 640x640 3 Pedaliummurexs, 8.9ms\n",
            "image 50/180 /content/drive/MyDrive/AyushVision/yolo8/dataset/ayushvision_fruits/test/images/IMG20240501192752_jpg.rf.7b489e0e7e96b59ebf3419ffbf2d2c94.jpg: 640x640 4 Ivy_gourds, 12.0ms\n",
            "image 51/180 /content/drive/MyDrive/AyushVision/yolo8/dataset/ayushvision_fruits/test/images/IMG20240501192945_jpg.rf.603bfed323c3a6644af0d20313c516c1.jpg: 640x640 4 Ivy_gourds, 8.5ms\n",
            "image 52/180 /content/drive/MyDrive/AyushVision/yolo8/dataset/ayushvision_fruits/test/images/IMG20240501193137_jpg.rf.c48977e5e0bf28fa8a3216ba114d9c30.jpg: 640x640 2 Ivy_gourds, 9.2ms\n",
            "image 53/180 /content/drive/MyDrive/AyushVision/yolo8/dataset/ayushvision_fruits/test/images/IMG20240501193406_jpg.rf.28c1e875fb53bab695d806631eed6fde.jpg: 640x640 3 Ivy_gourds, 8.7ms\n",
            "image 54/180 /content/drive/MyDrive/AyushVision/yolo8/dataset/ayushvision_fruits/test/images/IMG20240501193952_jpg.rf.454dcce567aaa3dc7187157eefdd7784.jpg: 640x640 2 Ivy_gourds, 9.2ms\n",
            "image 55/180 /content/drive/MyDrive/AyushVision/yolo8/dataset/ayushvision_fruits/test/images/IMG20240501194123_jpg.rf.83d04f9b6e11343fa75af2014b7ec5ce.jpg: 640x640 1 Ivy_gourd, 8.5ms\n",
            "image 56/180 /content/drive/MyDrive/AyushVision/yolo8/dataset/ayushvision_fruits/test/images/IMG20240501194455_jpg.rf.a08b8215aa1c47878c9fbb892ac89d42.jpg: 640x640 1 Ivy_gourd, 8.9ms\n",
            "image 57/180 /content/drive/MyDrive/AyushVision/yolo8/dataset/ayushvision_fruits/test/images/IMG20240501195402_jpg.rf.d27dfb65c6c846b12308c95cde735403.jpg: 640x640 2 Ivy_gourds, 8.4ms\n",
            "image 58/180 /content/drive/MyDrive/AyushVision/yolo8/dataset/ayushvision_fruits/test/images/IMG20240501195734_jpg.rf.f1ecd3d737b57cedf190e542ab2b50e0.jpg: 640x640 1 Ivy_gourd, 9.7ms\n",
            "image 59/180 /content/drive/MyDrive/AyushVision/yolo8/dataset/ayushvision_fruits/test/images/IMG20240523154423_jpg.rf.d1b3ad3a80aec26e82a0a0270adb4af7.jpg: 640x640 1 caster, 8.8ms\n",
            "image 60/180 /content/drive/MyDrive/AyushVision/yolo8/dataset/ayushvision_fruits/test/images/IMG20240523154436_jpg.rf.b0f39337b83586d41faf1399cc9ee56f.jpg: 640x640 1 caster, 8.9ms\n",
            "image 61/180 /content/drive/MyDrive/AyushVision/yolo8/dataset/ayushvision_fruits/test/images/IMG20240523155712_jpg.rf.d1643670f9aa6481602d4ed5cb3e859d.jpg: 640x640 2 casters, 9.0ms\n",
            "image 62/180 /content/drive/MyDrive/AyushVision/yolo8/dataset/ayushvision_fruits/test/images/IMG20240523155725_jpg.rf.86ac2ffba157a6b00d34a84c5f960001.jpg: 640x640 1 Long_pepper, 9.3ms\n",
            "image 63/180 /content/drive/MyDrive/AyushVision/yolo8/dataset/ayushvision_fruits/test/images/IMG20240523155833_jpg.rf.4612f87a014a4ed2e7147478745d922e.jpg: 640x640 1 Long_pepper, 1 caster, 8.6ms\n",
            "image 64/180 /content/drive/MyDrive/AyushVision/yolo8/dataset/ayushvision_fruits/test/images/IMG20240524101802_jpg.rf.642d34806f0f975c45b45175d8c0b80b.jpg: 640x640 1 Indian_mallow, 9.0ms\n",
            "image 65/180 /content/drive/MyDrive/AyushVision/yolo8/dataset/ayushvision_fruits/test/images/IMG20240524101910_jpg.rf.17678e09f15a1a8d71aead6b52381d29.jpg: 640x640 1 Indian_mallow, 13.3ms\n",
            "image 66/180 /content/drive/MyDrive/AyushVision/yolo8/dataset/ayushvision_fruits/test/images/IMG20240524101927_jpg.rf.03144e6a11fecfbe1bf19f42f5f3f121.jpg: 640x640 1 Indian_mallow, 10.3ms\n",
            "image 67/180 /content/drive/MyDrive/AyushVision/yolo8/dataset/ayushvision_fruits/test/images/IMG20240524102008_jpg.rf.db5d8fff3137d7ed9cf002a84c1e313e.jpg: 640x640 1 Indian_mallow, 8.9ms\n",
            "image 68/180 /content/drive/MyDrive/AyushVision/yolo8/dataset/ayushvision_fruits/test/images/IMG20240524102045_jpg.rf.2efda41bdef1cbdaba737ed6078df9e3.jpg: 640x640 1 Indian_mallow, 9.1ms\n",
            "image 69/180 /content/drive/MyDrive/AyushVision/yolo8/dataset/ayushvision_fruits/test/images/IMG20240524102145_jpg.rf.bd2bdf490283122920d9eae15876c38f.jpg: 640x640 1 Indian_mallow, 9.3ms\n",
            "image 70/180 /content/drive/MyDrive/AyushVision/yolo8/dataset/ayushvision_fruits/test/images/IMG20240524102811_jpg.rf.57cc72714ede20d81e900f8704e71192.jpg: 640x640 1 Indian_mallow, 10.9ms\n",
            "image 71/180 /content/drive/MyDrive/AyushVision/yolo8/dataset/ayushvision_fruits/test/images/IMG20240524102823_jpg.rf.1bb9e7c276e111359e3b8a8acc098c7b.jpg: 640x640 1 Indian_mallow, 10.7ms\n",
            "image 72/180 /content/drive/MyDrive/AyushVision/yolo8/dataset/ayushvision_fruits/test/images/IMG20240524102902_jpg.rf.cf61988c5955b72574880597c604c473.jpg: 640x640 1 Indian_mallow, 10.7ms\n",
            "image 73/180 /content/drive/MyDrive/AyushVision/yolo8/dataset/ayushvision_fruits/test/images/IMG20240524103219_jpg.rf.c8e0daf49ab16ea3ee030da3ecf238c1.jpg: 640x640 1 Indian_mallow, 11.8ms\n",
            "image 74/180 /content/drive/MyDrive/AyushVision/yolo8/dataset/ayushvision_fruits/test/images/IMG20240524103321_jpg.rf.439b0a7929cef4dd562ceedbb72f85d0.jpg: 640x640 1 Indian_mallow, 17.4ms\n",
            "image 75/180 /content/drive/MyDrive/AyushVision/yolo8/dataset/ayushvision_fruits/test/images/IMG20240524103551_jpg.rf.399a528b156b9b4eb7aa36dbb75aa571.jpg: 640x640 2 Indian_mallows, 12.5ms\n",
            "image 76/180 /content/drive/MyDrive/AyushVision/yolo8/dataset/ayushvision_fruits/test/images/IMG20240524104352_jpg.rf.8ba02fe01f3f03b0fad4aab2e9595ba5.jpg: 640x640 1 Indian_mallow, 20.5ms\n",
            "image 77/180 /content/drive/MyDrive/AyushVision/yolo8/dataset/ayushvision_fruits/test/images/IMG20240524104635_jpg.rf.e9568100b4d436a751bca1c2996de72e.jpg: 640x640 1 Indian_mallow, 11.6ms\n",
            "image 78/180 /content/drive/MyDrive/AyushVision/yolo8/dataset/ayushvision_fruits/test/images/IMG20240524104846_jpg.rf.8202749db333b4a47036bcbfa3590b35.jpg: 640x640 1 Indian_mallow, 11.2ms\n",
            "image 79/180 /content/drive/MyDrive/AyushVision/yolo8/dataset/ayushvision_fruits/test/images/IMG20240606100054_jpg.rf.dd8e2e1a6bce6b53183ed703e1a77223.jpg: 640x640 1 Ivy_gourd, 7.4ms\n",
            "image 80/180 /content/drive/MyDrive/AyushVision/yolo8/dataset/ayushvision_fruits/test/images/IMG20240606100057_jpg.rf.f10475ceb9e6e92d95b8fe7c7c65768a.jpg: 640x640 1 Ivy_gourd, 7.2ms\n",
            "image 81/180 /content/drive/MyDrive/AyushVision/yolo8/dataset/ayushvision_fruits/test/images/IMG20240606100112_jpg.rf.e271d004514dc14208c1068a4040304a.jpg: 640x640 1 Ivy_gourd, 7.2ms\n",
            "image 82/180 /content/drive/MyDrive/AyushVision/yolo8/dataset/ayushvision_fruits/test/images/IMG20240606100313_jpg.rf.1942fb87d8bf19930a796ecd21d8e919.jpg: 640x640 1 Ivy_gourd, 7.3ms\n",
            "image 83/180 /content/drive/MyDrive/AyushVision/yolo8/dataset/ayushvision_fruits/test/images/IMG20240606100555_jpg.rf.2ed50c186eb40ef50df259da05a54821.jpg: 640x640 1 Ivy_gourd, 7.2ms\n",
            "image 84/180 /content/drive/MyDrive/AyushVision/yolo8/dataset/ayushvision_fruits/test/images/IMG20240606100607_jpg.rf.f5cd4c6a58b02f2924924a563de9a4a9.jpg: 640x640 1 Ivy_gourd, 7.2ms\n",
            "image 85/180 /content/drive/MyDrive/AyushVision/yolo8/dataset/ayushvision_fruits/test/images/IMG20240606100618_jpg.rf.02145ec6e8fc5a3110bac81fdd5f55e8.jpg: 640x640 1 Ivy_gourd, 7.2ms\n",
            "image 86/180 /content/drive/MyDrive/AyushVision/yolo8/dataset/ayushvision_fruits/test/images/IMG20240606100624_jpg.rf.6c546844c1d41611a4a9df0099cfe67d.jpg: 640x640 1 Ivy_gourd, 7.3ms\n",
            "image 87/180 /content/drive/MyDrive/AyushVision/yolo8/dataset/ayushvision_fruits/test/images/IMG20240606100733_jpg.rf.77ab1ad8b50400e6130fd0ae61988f37.jpg: 640x640 1 Ivy_gourd, 7.3ms\n",
            "image 88/180 /content/drive/MyDrive/AyushVision/yolo8/dataset/ayushvision_fruits/test/images/IMG20240606100736_jpg.rf.dfb3ed53808bf834cebbf0211e32fc69.jpg: 640x640 2 Ivy_gourds, 7.2ms\n",
            "image 89/180 /content/drive/MyDrive/AyushVision/yolo8/dataset/ayushvision_fruits/test/images/IMG20240606100850_jpg.rf.619ed4409bed668ba6bf02087107e106.jpg: 640x640 1 Ivy_gourd, 7.3ms\n",
            "image 90/180 /content/drive/MyDrive/AyushVision/yolo8/dataset/ayushvision_fruits/test/images/IMG20240609083602_jpg.rf.3cc6faa5f086fa8031c1a59f65b78007.jpg: 640x640 1 Long_pepper, 7.3ms\n",
            "image 91/180 /content/drive/MyDrive/AyushVision/yolo8/dataset/ayushvision_fruits/test/images/IMG20240609084002_jpg.rf.4ec441322cb0334d8179e046a01169d8.jpg: 640x640 2 Long_peppers, 7.6ms\n",
            "image 92/180 /content/drive/MyDrive/AyushVision/yolo8/dataset/ayushvision_fruits/test/images/IMG20240609084030_jpg.rf.1c6976887153a9dd0cb819b3e2bf48cb.jpg: 640x640 6 Long_peppers, 7.3ms\n",
            "image 93/180 /content/drive/MyDrive/AyushVision/yolo8/dataset/ayushvision_fruits/test/images/IMG_20231228_113743_1_jpg.rf.a9621abda6730727a8eda76ab728eb5d.jpg: 640x640 1 Long_pepper, 7.2ms\n",
            "image 94/180 /content/drive/MyDrive/AyushVision/yolo8/dataset/ayushvision_fruits/test/images/IMG_20240503_022200_jpg.rf.5bccb506176df45227a6cd98e448741a.jpg: 640x640 2 Ring_worm_plants, 7.3ms\n",
            "image 95/180 /content/drive/MyDrive/AyushVision/yolo8/dataset/ayushvision_fruits/test/images/IMG_20240503_022231_jpg.rf.62c128febb35e628ad379167e713ecde.jpg: 640x640 1 Ring_worm_plant, 7.3ms\n",
            "image 96/180 /content/drive/MyDrive/AyushVision/yolo8/dataset/ayushvision_fruits/test/images/IMG_20240503_110717_jpg.rf.d68b31c29c0055b032437e9d5b4d3548.jpg: 640x640 1 Ring_worm_plant, 7.2ms\n",
            "image 97/180 /content/drive/MyDrive/AyushVision/yolo8/dataset/ayushvision_fruits/test/images/IMG_20240503_110752_jpg.rf.312a7d01f59ba6533aa3cd412d70243c.jpg: 640x640 2 Ring_worm_plants, 7.3ms\n",
            "image 98/180 /content/drive/MyDrive/AyushVision/yolo8/dataset/ayushvision_fruits/test/images/IMG_20240503_110827_jpg.rf.f35119b892e85ee82db8bed48863dc07.jpg: 640x640 2 Ring_worm_plants, 7.2ms\n",
            "image 99/180 /content/drive/MyDrive/AyushVision/yolo8/dataset/ayushvision_fruits/test/images/IMG_20240503_110834_jpg.rf.35114dee8c95ec5237b09de29aa4b0be.jpg: 640x640 2 Ring_worm_plants, 7.3ms\n",
            "image 100/180 /content/drive/MyDrive/AyushVision/yolo8/dataset/ayushvision_fruits/test/images/IMG_20240503_110952_jpg.rf.0c51876677b49f7d1bd5a7859946900e.jpg: 640x640 1 Ring_worm_plant, 7.3ms\n",
            "image 101/180 /content/drive/MyDrive/AyushVision/yolo8/dataset/ayushvision_fruits/test/images/IMG_20240503_111338_jpg.rf.fe536b8e895d075179e93771b1e99e6b.jpg: 640x640 1 Ring_worm_plant, 7.3ms\n",
            "image 102/180 /content/drive/MyDrive/AyushVision/yolo8/dataset/ayushvision_fruits/test/images/IMG_20240503_111431_jpg.rf.7578d68aed34bbe9ef8019025691cc34.jpg: 640x640 1 Ring_worm_plant, 7.2ms\n",
            "image 103/180 /content/drive/MyDrive/AyushVision/yolo8/dataset/ayushvision_fruits/test/images/IMG_20240503_111500_jpg.rf.9fd9f351dcb54b2bfcd4ce6b8b4d9cf4.jpg: 640x640 1 Ring_worm_plant, 7.2ms\n",
            "image 104/180 /content/drive/MyDrive/AyushVision/yolo8/dataset/ayushvision_fruits/test/images/IMG_20240503_111642_jpg.rf.0aa4b708c1011a6f5fc838f590e8e36d.jpg: 640x640 1 Ring_worm_plant, 7.2ms\n",
            "image 105/180 /content/drive/MyDrive/AyushVision/yolo8/dataset/ayushvision_fruits/test/images/IMG_20240503_115133_jpg.rf.c27f479c6d3db9cfc8f51be82ab2948c.jpg: 640x640 1 Ring_worm_plant, 7.2ms\n",
            "image 106/180 /content/drive/MyDrive/AyushVision/yolo8/dataset/ayushvision_fruits/test/images/IMG_20240503_115358_jpg.rf.29176ed6fff45eda4a153bc677debb1f.jpg: 640x640 1 Ring_worm_plant, 7.2ms\n",
            "image 107/180 /content/drive/MyDrive/AyushVision/yolo8/dataset/ayushvision_fruits/test/images/IMG_20240503_115504_jpg.rf.9cb1307713e08bb9210197787aff3a9d.jpg: 640x640 1 Ring_worm_plant, 7.2ms\n",
            "image 108/180 /content/drive/MyDrive/AyushVision/yolo8/dataset/ayushvision_fruits/test/images/IMG_20240503_115524_jpg.rf.be9a28600d15b200dcd507bae8b4b683.jpg: 640x640 1 Ring_worm_plant, 8.7ms\n",
            "image 109/180 /content/drive/MyDrive/AyushVision/yolo8/dataset/ayushvision_fruits/test/images/IMG_20240503_115701_jpg.rf.aa56df8a74412be5823c82045c4acfc3.jpg: 640x640 1 Ring_worm_plant, 7.3ms\n",
            "image 110/180 /content/drive/MyDrive/AyushVision/yolo8/dataset/ayushvision_fruits/test/images/IMG_20240503_115910_jpg.rf.5a3d787b631aeac194a0f08d9c3cdc01.jpg: 640x640 1 Ring_worm_plant, 8.6ms\n",
            "image 111/180 /content/drive/MyDrive/AyushVision/yolo8/dataset/ayushvision_fruits/test/images/IMG_20240503_115913_jpg.rf.61c5b19158e955e438bd9ce4eaa5f852.jpg: 640x640 1 Ring_worm_plant, 8.5ms\n",
            "image 112/180 /content/drive/MyDrive/AyushVision/yolo8/dataset/ayushvision_fruits/test/images/IMG_20240503_120009_jpg.rf.e5be7e5d0dabae9228425aba82650e4e.jpg: 640x640 1 Ring_worm_plant, 8.7ms\n",
            "image 113/180 /content/drive/MyDrive/AyushVision/yolo8/dataset/ayushvision_fruits/test/images/IMG_20240503_120012_jpg.rf.65e4d361c2c8edd3ac37ee16cba61782.jpg: 640x640 1 Ring_worm_plant, 8.9ms\n",
            "image 114/180 /content/drive/MyDrive/AyushVision/yolo8/dataset/ayushvision_fruits/test/images/IMG_20240505_101304_jpg.rf.eef5d95c13b57581093d71da009ba121.jpg: 640x640 1 caster, 12.7ms\n",
            "image 115/180 /content/drive/MyDrive/AyushVision/yolo8/dataset/ayushvision_fruits/test/images/IMG_20240505_101841_jpg.rf.7a8366440412b77e0e27469e50fa8cb7.jpg: 640x640 1 caster, 8.9ms\n",
            "image 116/180 /content/drive/MyDrive/AyushVision/yolo8/dataset/ayushvision_fruits/test/images/IMG_20240505_101953_jpg.rf.aeb835fa2098623104f8a16a8a3b5bc4.jpg: 640x640 1 caster, 8.5ms\n",
            "image 117/180 /content/drive/MyDrive/AyushVision/yolo8/dataset/ayushvision_fruits/test/images/IMG_20240505_101956_jpg.rf.40f28f5d8c191db86355875c698ed6f3.jpg: 640x640 1 caster, 7.3ms\n",
            "image 118/180 /content/drive/MyDrive/AyushVision/yolo8/dataset/ayushvision_fruits/test/images/IMG_20240505_102053_jpg.rf.b0bc2ef61ffe6203487247324cd21b83.jpg: 640x640 1 caster, 7.2ms\n",
            "image 119/180 /content/drive/MyDrive/AyushVision/yolo8/dataset/ayushvision_fruits/test/images/IMG_20240505_102129_jpg.rf.3dc2bf6f018a660f0b3cbf25be9e2eb4.jpg: 640x640 1 caster, 7.3ms\n",
            "image 120/180 /content/drive/MyDrive/AyushVision/yolo8/dataset/ayushvision_fruits/test/images/IMG_20240505_102247_jpg.rf.b654f2e81af13575c93f32d133eb7402.jpg: 640x640 1 caster, 7.3ms\n",
            "image 121/180 /content/drive/MyDrive/AyushVision/yolo8/dataset/ayushvision_fruits/test/images/IMG_20240505_102710_jpg.rf.d892bcceafa818baf76f8df34bcf4ebe.jpg: 640x640 1 caster, 7.2ms\n",
            "image 122/180 /content/drive/MyDrive/AyushVision/yolo8/dataset/ayushvision_fruits/test/images/IMG_20240505_102718_jpg.rf.619c79f917d91913866f5f1267a1fba7.jpg: 640x640 1 caster, 7.3ms\n",
            "image 123/180 /content/drive/MyDrive/AyushVision/yolo8/dataset/ayushvision_fruits/test/images/IMG_20240505_103050_jpg.rf.d34ce247ea5be67f0832d017dbab0de0.jpg: 640x640 1 caster, 7.3ms\n",
            "image 124/180 /content/drive/MyDrive/AyushVision/yolo8/dataset/ayushvision_fruits/test/images/IMG_20240505_111215_jpg.rf.b81b0a1e0e15afcbd8c3df299f92fc81.jpg: 640x640 1 caster, 7.2ms\n",
            "image 125/180 /content/drive/MyDrive/AyushVision/yolo8/dataset/ayushvision_fruits/test/images/IMG_20240505_111248_jpg.rf.85f1f20b49e84ae189de77adb10c040f.jpg: 640x640 1 caster, 7.3ms\n",
            "image 126/180 /content/drive/MyDrive/AyushVision/yolo8/dataset/ayushvision_fruits/test/images/IMG_20240505_111451_jpg.rf.e27a9b15321e74a9242cb09e5fefd495.jpg: 640x640 1 caster, 7.2ms\n",
            "image 127/180 /content/drive/MyDrive/AyushVision/yolo8/dataset/ayushvision_fruits/test/images/IMG_20240505_111503_jpg.rf.3c14685f456e04a80e52af2c8a59ea88.jpg: 640x640 1 caster, 7.2ms\n",
            "image 128/180 /content/drive/MyDrive/AyushVision/yolo8/dataset/ayushvision_fruits/test/images/IMG_20240505_112006_jpg.rf.5a7929bbc86c4e36ef2ba2cbd3f58f60.jpg: 640x640 1 Long_pepper, 7.3ms\n",
            "image 129/180 /content/drive/MyDrive/AyushVision/yolo8/dataset/ayushvision_fruits/test/images/IMG_20240505_113202_jpg.rf.81e96449c75a51e9f7c27fd1cb95636a.jpg: 640x640 1 Indian_mallow, 1 ThornApple, 1 caster, 8.6ms\n",
            "image 130/180 /content/drive/MyDrive/AyushVision/yolo8/dataset/ayushvision_fruits/test/images/IMG_20240505_113345_jpg.rf.d40fb1f64b67f5897dbe04dd4951b4e6.jpg: 640x640 1 Indian_mallow, 1 caster, 7.2ms\n",
            "image 131/180 /content/drive/MyDrive/AyushVision/yolo8/dataset/ayushvision_fruits/test/images/IMG_20240505_114251_jpg.rf.3b9c25b9c6f45b4d574284a6f17f2659.jpg: 640x640 2 Indian_mallows, 7.3ms\n",
            "image 132/180 /content/drive/MyDrive/AyushVision/yolo8/dataset/ayushvision_fruits/test/images/IMG_20240505_114319_jpg.rf.5006dded132c591040068647ee2923ce.jpg: 640x640 1 Indian_mallow, 7.3ms\n",
            "image 133/180 /content/drive/MyDrive/AyushVision/yolo8/dataset/ayushvision_fruits/test/images/IMG_20240505_115731_jpg.rf.c10482ab9b14963caaa77ff69e8972b0.jpg: 640x640 1 Ring_worm_plant, 7.3ms\n",
            "image 134/180 /content/drive/MyDrive/AyushVision/yolo8/dataset/ayushvision_fruits/test/images/IMG_20240506_120540_jpg.rf.0afa0a8c162c4684bd34641e74ab59d5.jpg: 640x640 1 ThornApple, 1 caster, 7.2ms\n",
            "image 135/180 /content/drive/MyDrive/AyushVision/yolo8/dataset/ayushvision_fruits/test/images/IMG_20240506_120543_jpg.rf.1cd378cfea80cd41e7116a2c06c20a9c.jpg: 640x640 1 ThornApple, 7.3ms\n",
            "image 136/180 /content/drive/MyDrive/AyushVision/yolo8/dataset/ayushvision_fruits/test/images/IMG_20240506_120735_jpg.rf.4319dc06c8f928c3751440703bf4fe8c.jpg: 640x640 1 ThornApple, 7.2ms\n",
            "image 137/180 /content/drive/MyDrive/AyushVision/yolo8/dataset/ayushvision_fruits/test/images/IMG_20240506_120837_gen_gen_1_png.rf.bf701b6ab877a28462c86f9c89466d31.jpg: 640x640 1 Lime, 1 ThornApple, 7.7ms\n",
            "image 138/180 /content/drive/MyDrive/AyushVision/yolo8/dataset/ayushvision_fruits/test/images/IMG_20240506_gen_120608_png.rf.0f6587d18e97c4d5dff7a27e870dd178.jpg: 640x640 1 ThornApple, 7.2ms\n",
            "image 139/180 /content/drive/MyDrive/AyushVision/yolo8/dataset/ayushvision_fruits/test/images/IMG_20240616_160437_jpg.rf.726f8c93cb2c0752822b1a534af37106.jpg: 640x640 1 ThornApple, 7.3ms\n",
            "image 140/180 /content/drive/MyDrive/AyushVision/yolo8/dataset/ayushvision_fruits/test/images/IMG_20240616_160528_jpg.rf.22a6bc3568427ad6f95119f34d273e65.jpg: 640x640 1 ThornApple, 7.2ms\n",
            "image 141/180 /content/drive/MyDrive/AyushVision/yolo8/dataset/ayushvision_fruits/test/images/IMG_20240616_160601_jpg.rf.9cf77b97157fc9956517be2535581fb9.jpg: 640x640 1 ThornApple, 7.3ms\n",
            "image 142/180 /content/drive/MyDrive/AyushVision/yolo8/dataset/ayushvision_fruits/test/images/IMG_20240616_160703_jpg.rf.7f1e6aa4faac314519bada5e4e52726d.jpg: 640x640 2 ThornApples, 1 caster, 7.2ms\n",
            "image 143/180 /content/drive/MyDrive/AyushVision/yolo8/dataset/ayushvision_fruits/test/images/IMG_20240616_160744_jpg.rf.1eee511f0fffc6e49d7b2ad56ec2530a.jpg: 640x640 1 ThornApple, 7.3ms\n",
            "image 144/180 /content/drive/MyDrive/AyushVision/yolo8/dataset/ayushvision_fruits/test/images/IMG_20240616_160837_jpg.rf.8b0df3584c089ec73a176fe1f52d76d1.jpg: 640x640 1 ThornApple, 7.3ms\n",
            "image 145/180 /content/drive/MyDrive/AyushVision/yolo8/dataset/ayushvision_fruits/test/images/IMG_20240616_160932_jpg.rf.cefe440409d9398989141a3eea7ead34.jpg: 640x640 1 ThornApple, 7.3ms\n",
            "image 146/180 /content/drive/MyDrive/AyushVision/yolo8/dataset/ayushvision_fruits/test/images/IMG_20240616_160947_jpg.rf.154bd4e11f347ad279cda89a4d1ab051.jpg: 640x640 1 ThornApple, 7.3ms\n",
            "image 147/180 /content/drive/MyDrive/AyushVision/yolo8/dataset/ayushvision_fruits/test/images/IMG_20240616_160949_jpg.rf.2a7f1cb9a31589d75e5efe3cdd8dc2f4.jpg: 640x640 1 ThornApple, 7.3ms\n",
            "image 148/180 /content/drive/MyDrive/AyushVision/yolo8/dataset/ayushvision_fruits/test/images/IMG_20240616_161016_jpg.rf.30647f231693f43a4b2c0248ac9102e0.jpg: 640x640 1 Indian_mallow, 7.2ms\n",
            "image 149/180 /content/drive/MyDrive/AyushVision/yolo8/dataset/ayushvision_fruits/test/images/IMG_20240616_161043_jpg.rf.7f110311a84d76f6c5f5f5f1c2a93771.jpg: 640x640 1 ThornApple, 7.2ms\n",
            "image 150/180 /content/drive/MyDrive/AyushVision/yolo8/dataset/ayushvision_fruits/test/images/IMG_20240616_200425_jpg.rf.9a6fcfcc0ee7aaba9fccc887c19e3ba7.jpg: 640x640 1 ThornApple, 7.2ms\n",
            "image 151/180 /content/drive/MyDrive/AyushVision/yolo8/dataset/ayushvision_fruits/test/images/IMG_20240616_gen_160535_png.rf.67d1076d36ce7871fbbb83a876d85049.jpg: 640x640 2 ThornApples, 7.2ms\n",
            "image 152/180 /content/drive/MyDrive/AyushVision/yolo8/dataset/ayushvision_fruits/test/images/IMG_20240616_gen_160604_png.rf.d00a11ada9aa4dff2e71b647d0ef1d1a.jpg: 640x640 1 ThornApple, 7.3ms\n",
            "image 153/180 /content/drive/MyDrive/AyushVision/yolo8/dataset/ayushvision_fruits/test/images/IMG_20240616_gen_160814_png.rf.baaecd96558a350f7c3d1aad5dad049b.jpg: 640x640 1 ThornApple, 8.8ms\n",
            "image 154/180 /content/drive/MyDrive/AyushVision/yolo8/dataset/ayushvision_fruits/test/images/IMG_20240617_210224_jpg.rf.5ae7ba2d13b3749ea5b3feada70b4f55.jpg: 640x640 1 Lime, 8.7ms\n",
            "image 155/180 /content/drive/MyDrive/AyushVision/yolo8/dataset/ayushvision_fruits/test/images/IMG_20240617_210226_jpg.rf.296b4f666addb0f7f99e59470ec90d4e.jpg: 640x640 1 Lime, 10.7ms\n",
            "image 156/180 /content/drive/MyDrive/AyushVision/yolo8/dataset/ayushvision_fruits/test/images/IMG_20240617_210325_jpg.rf.9b8ccc2e94300f62a1252aece460338e.jpg: 640x640 1 Lime, 8.4ms\n",
            "image 157/180 /content/drive/MyDrive/AyushVision/yolo8/dataset/ayushvision_fruits/test/images/IMG_20240617_210357_jpg.rf.7733fdf50ee7c5a886c2215ca53e3fbd.jpg: 640x640 1 Lime, 8.7ms\n",
            "image 158/180 /content/drive/MyDrive/AyushVision/yolo8/dataset/ayushvision_fruits/test/images/IMG_20240617_210408_jpg.rf.cc42849bcebf0cc620e633d2dfcef88b.jpg: 640x640 1 Lime, 9.5ms\n",
            "image 159/180 /content/drive/MyDrive/AyushVision/yolo8/dataset/ayushvision_fruits/test/images/IMG_20240617_210503_jpg.rf.0502d49134a93d1d7e06e2dbb13f5433.jpg: 640x640 1 Lime, 12.1ms\n",
            "image 160/180 /content/drive/MyDrive/AyushVision/yolo8/dataset/ayushvision_fruits/test/images/IMG_20240617_210512_jpg.rf.f1463b5550b82e72ddab128dc3d04805.jpg: 640x640 1 Lime, 8.9ms\n",
            "image 161/180 /content/drive/MyDrive/AyushVision/yolo8/dataset/ayushvision_fruits/test/images/IMG_20240617_210614_jpg.rf.8a33c195247fef60b4df335bb6c57ef7.jpg: 640x640 1 Lime, 7.3ms\n",
            "image 162/180 /content/drive/MyDrive/AyushVision/yolo8/dataset/ayushvision_fruits/test/images/IMG_20240617_210648_jpg.rf.be84b7b41dcbbbbead9031a46352c48c.jpg: 640x640 1 Lime, 7.3ms\n",
            "image 163/180 /content/drive/MyDrive/AyushVision/yolo8/dataset/ayushvision_fruits/test/images/IMG_20240617_210714_jpg.rf.b80901ac30c91b2e4cb7449779dd6559.jpg: 640x640 1 Lime, 7.3ms\n",
            "image 164/180 /content/drive/MyDrive/AyushVision/yolo8/dataset/ayushvision_fruits/test/images/IMG_20240617_211118_jpg.rf.fbb9b4ee2d114d73e79a1a3b53222189.jpg: 640x640 1 Lime, 7.2ms\n",
            "image 165/180 /content/drive/MyDrive/AyushVision/yolo8/dataset/ayushvision_fruits/test/images/IMG_20240617_211152_jpg.rf.9ea667b124dd6421cd6d249f51a1bc05.jpg: 640x640 1 Lime, 7.2ms\n",
            "image 166/180 /content/drive/MyDrive/AyushVision/yolo8/dataset/ayushvision_fruits/test/images/IMG_20240617_211216_jpg.rf.e495cefde88e55bf68157d8f9c290136.jpg: 640x640 1 Lime, 7.3ms\n",
            "image 167/180 /content/drive/MyDrive/AyushVision/yolo8/dataset/ayushvision_fruits/test/images/IMG_20240617_211319_jpg.rf.6f29d1d3b57aff18127ee360783b2d8c.jpg: 640x640 7 Limes, 7.3ms\n",
            "image 168/180 /content/drive/MyDrive/AyushVision/yolo8/dataset/ayushvision_fruits/test/images/IMG_20240617_211332_jpg.rf.23db53294bc6867fcea080392d88427a.jpg: 640x640 1 Lime, 7.6ms\n",
            "image 169/180 /content/drive/MyDrive/AyushVision/yolo8/dataset/ayushvision_fruits/test/images/IMG_20240617_211507_jpg.rf.d5946e811f1e09a995bfa0b2e143bad0.jpg: 640x640 1 Lime, 7.3ms\n",
            "image 170/180 /content/drive/MyDrive/AyushVision/yolo8/dataset/ayushvision_fruits/test/images/IMG_20240617_211649_jpg.rf.521d312cc09fd14f2c42092e67e73cd3.jpg: 640x640 1 Lime, 7.2ms\n",
            "image 171/180 /content/drive/MyDrive/AyushVision/yolo8/dataset/ayushvision_fruits/test/images/IMG_20240617_211717_jpg.rf.7b056917538e463372911682bd6755c9.jpg: 640x640 2 Limes, 7.2ms\n",
            "image 172/180 /content/drive/MyDrive/AyushVision/yolo8/dataset/ayushvision_fruits/test/images/IMG_20240617_211730_jpg.rf.8a6c7d04cc8202278e831f9b14474862.jpg: 640x640 1 Lime, 7.4ms\n",
            "image 173/180 /content/drive/MyDrive/AyushVision/yolo8/dataset/ayushvision_fruits/test/images/IMG_20240617_211747_jpg.rf.f4bef0d0d0c3883ab5107f0c54eea1df.jpg: 640x640 1 Lime, 7.2ms\n",
            "image 174/180 /content/drive/MyDrive/AyushVision/yolo8/dataset/ayushvision_fruits/test/images/gen_IMG20240209124924_png.rf.11f8ca1ebafbc004190cf6b6dff9d2dc.jpg: 640x640 3 Red_Pea_Eggplants, 7.3ms\n",
            "image 175/180 /content/drive/MyDrive/AyushVision/yolo8/dataset/ayushvision_fruits/test/images/gen_IMG20240209125122_png.rf.3a89f9edbd6a6c42778aa66e5b702d06.jpg: 640x640 1 Red_Pea_Eggplant, 7.3ms\n",
            "image 176/180 /content/drive/MyDrive/AyushVision/yolo8/dataset/ayushvision_fruits/test/images/gen_IMG20240209125653_png.rf.9d23f0ded6dd80b86c27fbaf5eae7a7b.jpg: 640x640 1 Red_Pea_Eggplant, 7.2ms\n",
            "image 177/180 /content/drive/MyDrive/AyushVision/yolo8/dataset/ayushvision_fruits/test/images/gen_IMG20240209130252_png.rf.923bd1e4fc64e5a6fde5ad5852f1ce74.jpg: 640x640 1 Red_Pea_Eggplant, 7.3ms\n",
            "image 178/180 /content/drive/MyDrive/AyushVision/yolo8/dataset/ayushvision_fruits/test/images/gen_IMG20240209130507_png.rf.fa3615fb95349d89c8de6bf054a25792.jpg: 640x640 1 Red_Pea_Eggplant, 7.3ms\n",
            "image 179/180 /content/drive/MyDrive/AyushVision/yolo8/dataset/ayushvision_fruits/test/images/gen_IMG20240209131916_png.rf.adfe651fa56b63407169b5fe032347ed.jpg: 640x640 1 Red_Pea_Eggplant, 7.2ms\n",
            "image 180/180 /content/drive/MyDrive/AyushVision/yolo8/dataset/ayushvision_fruits/test/images/gen_IMG20240209132258_png.rf.485ee60d84c92b2d18572c01e169cbf4.jpg: 640x640 1 Red_Pea_Eggplant, 7.2ms\n",
            "Speed: 2.7ms preprocess, 9.1ms inference, 1.6ms postprocess per image at shape (1, 3, 640, 640)\n",
            "Results saved to \u001b[1mruns/detect/predict2\u001b[0m\n"
          ]
        }
      ],
      "source": [
        "results=model.predict(source=f'{work_dirctory_root}/dataset/ayushvision_fruits/test/images',save=True)"
      ]
    },
    {
      "cell_type": "code",
      "execution_count": 117,
      "metadata": {
        "id": "0RUmmiBt4lXL"
      },
      "outputs": [],
      "source": [
        "predicts=[]"
      ]
    },
    {
      "cell_type": "code",
      "execution_count": 118,
      "metadata": {
        "id": "kc95wLTF4B3s"
      },
      "outputs": [],
      "source": [
        "for file in os.listdir(results[0].save_dir):\n",
        "  if os.path.isfile(f\"{results[0].save_dir}/{file}\"):\n",
        "    blob = bucket.blob(f\"yolo/fruit/predict/{epochs}/{file}\")\n",
        "    blob.upload_from_filename(f\"{results[0].save_dir}/{file}\")\n",
        "    blob.make_public()\n",
        "    predicts.append(blob.public_url)"
      ]
    },
    {
      "cell_type": "code",
      "execution_count": 119,
      "metadata": {
        "id": "fZ5L5tpg4htg",
        "colab": {
          "base_uri": "https://localhost:8080/"
        },
        "outputId": "e386004b-8010-419e-f56c-de133f5ae12c"
      },
      "outputs": [
        {
          "output_type": "execute_result",
          "data": {
            "text/plain": [
              "(DatetimeWithNanoseconds(2024, 9, 6, 1, 54, 54, 342486, tzinfo=datetime.timezone.utc),\n",
              " <google.cloud.firestore_v1.document.DocumentReference at 0x7e6f8fecdb70>)"
            ]
          },
          "metadata": {},
          "execution_count": 119
        }
      ],
      "source": [
        "today_ref.collection('Predict').add({\n",
        "    'files':predicts\n",
        "})"
      ]
    },
    {
      "cell_type": "markdown",
      "metadata": {
        "id": "IQWY9Bqbn7Hq"
      },
      "source": [
        "### Export Model"
      ]
    },
    {
      "cell_type": "code",
      "execution_count": 120,
      "metadata": {
        "colab": {
          "base_uri": "https://localhost:8080/",
          "height": 281
        },
        "id": "YezH7LaIn7Hq",
        "outputId": "2112ab2b-bba3-4170-f353-03a1cde0f843"
      },
      "outputs": [
        {
          "output_type": "stream",
          "name": "stdout",
          "text": [
            "Ultralytics YOLOv8.2.88 🚀 Python-3.10.12 torch-2.4.0+cu121 CPU (Intel Xeon 2.20GHz)\n",
            "\n",
            "\u001b[34m\u001b[1mPyTorch:\u001b[0m starting from '/content/drive/MyDrive/AyushVision/yolo8/training/06_09_2024/00001725580800/fruits/runs/train20/weights/best.pt' with input shape (1, 3, 640, 640) BCHW and output shape(s) (1, 13, 8400) (6.0 MB)\n",
            "\n",
            "\u001b[34m\u001b[1mONNX:\u001b[0m starting export with onnx 1.16.2 opset 19...\n",
            "\u001b[34m\u001b[1mONNX:\u001b[0m slimming with onnxslim 0.1.32...\n",
            "\u001b[34m\u001b[1mONNX:\u001b[0m export success ✅ 20.6s, saved as '/content/drive/MyDrive/AyushVision/yolo8/training/06_09_2024/00001725580800/fruits/runs/train20/weights/best.onnx' (11.6 MB)\n",
            "\n",
            "Export complete (22.1s)\n",
            "Results saved to \u001b[1m/content/drive/MyDrive/AyushVision/yolo8/training/06_09_2024/00001725580800/fruits/runs/train20/weights\u001b[0m\n",
            "Predict:         yolo predict task=detect model=/content/drive/MyDrive/AyushVision/yolo8/training/06_09_2024/00001725580800/fruits/runs/train20/weights/best.onnx imgsz=640  \n",
            "Validate:        yolo val task=detect model=/content/drive/MyDrive/AyushVision/yolo8/training/06_09_2024/00001725580800/fruits/runs/train20/weights/best.onnx imgsz=640 data=/content/drive/MyDrive/AyushVision/yolo8/dataset/ayushvision_fruits/data.yaml  \n",
            "Visualize:       https://netron.app\n"
          ]
        },
        {
          "output_type": "execute_result",
          "data": {
            "text/plain": [
              "'/content/drive/MyDrive/AyushVision/yolo8/training/06_09_2024/00001725580800/fruits/runs/train20/weights/best.onnx'"
            ],
            "application/vnd.google.colaboratory.intrinsic+json": {
              "type": "string"
            }
          },
          "metadata": {},
          "execution_count": 120
        }
      ],
      "source": [
        "format='onnx'\n",
        "model.export(format=format,keras=True,dynamic=True,simplify=True,)"
      ]
    },
    {
      "cell_type": "code",
      "execution_count": 121,
      "metadata": {
        "id": "v5HGcR1t5xnO"
      },
      "outputs": [],
      "source": [
        "blob = bucket.blob(f\"yolo/fruit/model/{epochs}/best.onnx\")\n",
        "blob.upload_from_filename(f\"{today_work_dirctory}/fruits/runs/{name}/weights/best.onnx\")\n",
        "blob.make_public()"
      ]
    },
    {
      "cell_type": "code",
      "execution_count": 122,
      "metadata": {
        "id": "Y0czVsQg5Kjr",
        "colab": {
          "base_uri": "https://localhost:8080/"
        },
        "outputId": "80dd31f9-2bc6-4302-83ef-4286eb24ee84"
      },
      "outputs": [
        {
          "output_type": "execute_result",
          "data": {
            "text/plain": [
              "(DatetimeWithNanoseconds(2024, 9, 6, 1, 55, 19, 894237, tzinfo=datetime.timezone.utc),\n",
              " <google.cloud.firestore_v1.document.DocumentReference at 0x7e6f8fdd4820>)"
            ]
          },
          "metadata": {},
          "execution_count": 122
        }
      ],
      "source": [
        "today_ref.collection('Model').add({\n",
        "    'format':format,\n",
        "    \"keras\":True,\n",
        "    \"dynamic\":True,\n",
        "    \"simplify\":True,\n",
        "    \"model\":blob.public_url\n",
        "})"
      ]
    }
  ],
  "metadata": {
    "accelerator": "GPU",
    "colab": {
      "gpuType": "T4",
      "provenance": [],
      "include_colab_link": true
    },
    "kernelspec": {
      "display_name": "Python 3",
      "name": "python3"
    },
    "language_info": {
      "name": "python"
    }
  },
  "nbformat": 4,
  "nbformat_minor": 0
}