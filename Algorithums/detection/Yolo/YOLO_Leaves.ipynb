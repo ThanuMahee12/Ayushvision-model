{
  "cells": [
    {
      "cell_type": "markdown",
      "metadata": {
        "id": "view-in-github",
        "colab_type": "text"
      },
      "source": [
        "<a href=\"https://colab.research.google.com/github/ThanuMahee12/ayush-vision/blob/yolo/Algorithums/detection/Yolo/YOLO_Leaves.ipynb\" target=\"_parent\"><img src=\"https://colab.research.google.com/assets/colab-badge.svg\" alt=\"Open In Colab\"/></a>"
      ]
    },
    {
      "cell_type": "markdown",
      "metadata": {
        "id": "mWi18aj0n7HU"
      },
      "source": [
        "# YOLO Leaves"
      ]
    },
    {
      "cell_type": "markdown",
      "metadata": {
        "id": "0CM_KjiNtVB7"
      },
      "source": [
        "## Colab"
      ]
    },
    {
      "cell_type": "code",
      "execution_count": 2,
      "metadata": {
        "colab": {
          "base_uri": "https://localhost:8080/"
        },
        "id": "3r-r4NsGoIwe",
        "outputId": "d44f3ade-5677-46db-80d3-f23b07b5aa04"
      },
      "outputs": [
        {
          "output_type": "stream",
          "name": "stdout",
          "text": [
            "Mounted at /content/drive\n"
          ]
        }
      ],
      "source": [
        "from google.colab import drive\n",
        "drive.mount('/content/drive')"
      ]
    },
    {
      "cell_type": "code",
      "execution_count": 3,
      "metadata": {
        "id": "ZKSwn8-clJNR"
      },
      "outputs": [],
      "source": [
        "basicdata={'account':'thanumahee440@gmail.com','user':\"Thanush126\"}\n"
      ]
    },
    {
      "cell_type": "code",
      "execution_count": 4,
      "metadata": {
        "colab": {
          "base_uri": "https://localhost:8080/"
        },
        "id": "z0Q4dWFHbYdR",
        "outputId": "6de9342c-32be-4c85-93b7-ac9a47995778"
      },
      "outputs": [
        {
          "output_type": "stream",
          "name": "stdout",
          "text": [
            "Generating locales (this might take a while)...\n",
            "  en_US.UTF-8... done\n",
            "Generation complete.\n"
          ]
        }
      ],
      "source": [
        "! locale-gen en_US.UTF-8\n",
        "! export LC_ALL=en_US.UTF-8"
      ]
    },
    {
      "cell_type": "code",
      "source": [
        "firebase_count=1"
      ],
      "metadata": {
        "id": "QchwXMyYnQGQ"
      },
      "execution_count": 5,
      "outputs": []
    },
    {
      "cell_type": "markdown",
      "metadata": {
        "id": "h4jrfd8WtYpd"
      },
      "source": [
        "## Intallations"
      ]
    },
    {
      "cell_type": "code",
      "execution_count": null,
      "metadata": {
        "id": "uRKGcqEKhzzt"
      },
      "outputs": [],
      "source": [
        "!pip install firebase-admin"
      ]
    },
    {
      "cell_type": "code",
      "execution_count": 6,
      "metadata": {
        "colab": {
          "base_uri": "https://localhost:8080/"
        },
        "id": "xx51cd0goqWi",
        "outputId": "09298166-3693-4607-c1df-a73333627d19"
      },
      "outputs": [
        {
          "output_type": "stream",
          "name": "stdout",
          "text": [
            "Collecting ultralytics\n",
            "  Downloading ultralytics-8.2.92-py3-none-any.whl.metadata (41 kB)\n",
            "\u001b[?25l     \u001b[90m━━━━━━━━━━━━━━━━━━━━━━━━━━━━━━━━━━━━━━━━\u001b[0m \u001b[32m0.0/41.9 kB\u001b[0m \u001b[31m?\u001b[0m eta \u001b[36m-:--:--\u001b[0m\r\u001b[2K     \u001b[90m━━━━━━━━━━━━━━━━━━━━━━━━━━━━━━━━━━━━━━━━\u001b[0m \u001b[32m41.9/41.9 kB\u001b[0m \u001b[31m3.6 MB/s\u001b[0m eta \u001b[36m0:00:00\u001b[0m\n",
            "\u001b[?25hRequirement already satisfied: numpy<2.0.0,>=1.23.0 in /usr/local/lib/python3.10/dist-packages (from ultralytics) (1.26.4)\n",
            "Requirement already satisfied: matplotlib>=3.3.0 in /usr/local/lib/python3.10/dist-packages (from ultralytics) (3.7.1)\n",
            "Requirement already satisfied: opencv-python>=4.6.0 in /usr/local/lib/python3.10/dist-packages (from ultralytics) (4.10.0.84)\n",
            "Requirement already satisfied: pillow>=7.1.2 in /usr/local/lib/python3.10/dist-packages (from ultralytics) (9.4.0)\n",
            "Requirement already satisfied: pyyaml>=5.3.1 in /usr/local/lib/python3.10/dist-packages (from ultralytics) (6.0.2)\n",
            "Requirement already satisfied: requests>=2.23.0 in /usr/local/lib/python3.10/dist-packages (from ultralytics) (2.32.3)\n",
            "Requirement already satisfied: scipy>=1.4.1 in /usr/local/lib/python3.10/dist-packages (from ultralytics) (1.13.1)\n",
            "Requirement already satisfied: torch>=1.8.0 in /usr/local/lib/python3.10/dist-packages (from ultralytics) (2.4.0+cu121)\n",
            "Requirement already satisfied: torchvision>=0.9.0 in /usr/local/lib/python3.10/dist-packages (from ultralytics) (0.19.0+cu121)\n",
            "Requirement already satisfied: tqdm>=4.64.0 in /usr/local/lib/python3.10/dist-packages (from ultralytics) (4.66.5)\n",
            "Requirement already satisfied: psutil in /usr/local/lib/python3.10/dist-packages (from ultralytics) (5.9.5)\n",
            "Requirement already satisfied: py-cpuinfo in /usr/local/lib/python3.10/dist-packages (from ultralytics) (9.0.0)\n",
            "Requirement already satisfied: pandas>=1.1.4 in /usr/local/lib/python3.10/dist-packages (from ultralytics) (2.1.4)\n",
            "Requirement already satisfied: seaborn>=0.11.0 in /usr/local/lib/python3.10/dist-packages (from ultralytics) (0.13.1)\n",
            "Collecting ultralytics-thop>=2.0.0 (from ultralytics)\n",
            "  Downloading ultralytics_thop-2.0.6-py3-none-any.whl.metadata (9.1 kB)\n",
            "Requirement already satisfied: contourpy>=1.0.1 in /usr/local/lib/python3.10/dist-packages (from matplotlib>=3.3.0->ultralytics) (1.3.0)\n",
            "Requirement already satisfied: cycler>=0.10 in /usr/local/lib/python3.10/dist-packages (from matplotlib>=3.3.0->ultralytics) (0.12.1)\n",
            "Requirement already satisfied: fonttools>=4.22.0 in /usr/local/lib/python3.10/dist-packages (from matplotlib>=3.3.0->ultralytics) (4.53.1)\n",
            "Requirement already satisfied: kiwisolver>=1.0.1 in /usr/local/lib/python3.10/dist-packages (from matplotlib>=3.3.0->ultralytics) (1.4.7)\n",
            "Requirement already satisfied: packaging>=20.0 in /usr/local/lib/python3.10/dist-packages (from matplotlib>=3.3.0->ultralytics) (24.1)\n",
            "Requirement already satisfied: pyparsing>=2.3.1 in /usr/local/lib/python3.10/dist-packages (from matplotlib>=3.3.0->ultralytics) (3.1.4)\n",
            "Requirement already satisfied: python-dateutil>=2.7 in /usr/local/lib/python3.10/dist-packages (from matplotlib>=3.3.0->ultralytics) (2.8.2)\n",
            "Requirement already satisfied: pytz>=2020.1 in /usr/local/lib/python3.10/dist-packages (from pandas>=1.1.4->ultralytics) (2024.1)\n",
            "Requirement already satisfied: tzdata>=2022.1 in /usr/local/lib/python3.10/dist-packages (from pandas>=1.1.4->ultralytics) (2024.1)\n",
            "Requirement already satisfied: charset-normalizer<4,>=2 in /usr/local/lib/python3.10/dist-packages (from requests>=2.23.0->ultralytics) (3.3.2)\n",
            "Requirement already satisfied: idna<4,>=2.5 in /usr/local/lib/python3.10/dist-packages (from requests>=2.23.0->ultralytics) (3.8)\n",
            "Requirement already satisfied: urllib3<3,>=1.21.1 in /usr/local/lib/python3.10/dist-packages (from requests>=2.23.0->ultralytics) (2.0.7)\n",
            "Requirement already satisfied: certifi>=2017.4.17 in /usr/local/lib/python3.10/dist-packages (from requests>=2.23.0->ultralytics) (2024.8.30)\n",
            "Requirement already satisfied: filelock in /usr/local/lib/python3.10/dist-packages (from torch>=1.8.0->ultralytics) (3.16.0)\n",
            "Requirement already satisfied: typing-extensions>=4.8.0 in /usr/local/lib/python3.10/dist-packages (from torch>=1.8.0->ultralytics) (4.12.2)\n",
            "Requirement already satisfied: sympy in /usr/local/lib/python3.10/dist-packages (from torch>=1.8.0->ultralytics) (1.13.2)\n",
            "Requirement already satisfied: networkx in /usr/local/lib/python3.10/dist-packages (from torch>=1.8.0->ultralytics) (3.3)\n",
            "Requirement already satisfied: jinja2 in /usr/local/lib/python3.10/dist-packages (from torch>=1.8.0->ultralytics) (3.1.4)\n",
            "Requirement already satisfied: fsspec in /usr/local/lib/python3.10/dist-packages (from torch>=1.8.0->ultralytics) (2024.6.1)\n",
            "Requirement already satisfied: six>=1.5 in /usr/local/lib/python3.10/dist-packages (from python-dateutil>=2.7->matplotlib>=3.3.0->ultralytics) (1.16.0)\n",
            "Requirement already satisfied: MarkupSafe>=2.0 in /usr/local/lib/python3.10/dist-packages (from jinja2->torch>=1.8.0->ultralytics) (2.1.5)\n",
            "Requirement already satisfied: mpmath<1.4,>=1.1.0 in /usr/local/lib/python3.10/dist-packages (from sympy->torch>=1.8.0->ultralytics) (1.3.0)\n",
            "Downloading ultralytics-8.2.92-py3-none-any.whl (871 kB)\n",
            "\u001b[2K   \u001b[90m━━━━━━━━━━━━━━━━━━━━━━━━━━━━━━━━━━━━━━━━\u001b[0m \u001b[32m871.9/871.9 kB\u001b[0m \u001b[31m35.8 MB/s\u001b[0m eta \u001b[36m0:00:00\u001b[0m\n",
            "\u001b[?25hDownloading ultralytics_thop-2.0.6-py3-none-any.whl (26 kB)\n",
            "Installing collected packages: ultralytics-thop, ultralytics\n",
            "Successfully installed ultralytics-8.2.92 ultralytics-thop-2.0.6\n"
          ]
        }
      ],
      "source": [
        "!pip install ultralytics"
      ]
    },
    {
      "cell_type": "markdown",
      "metadata": {
        "id": "dF-FeFKVtc0j"
      },
      "source": [
        "## Imports"
      ]
    },
    {
      "cell_type": "code",
      "execution_count": 7,
      "metadata": {
        "id": "LA6879REh_Yu"
      },
      "outputs": [],
      "source": [
        "import firebase_admin\n"
      ]
    },
    {
      "cell_type": "code",
      "execution_count": 8,
      "metadata": {
        "id": "TxfkdTzEiEie"
      },
      "outputs": [],
      "source": [
        "from firebase_admin import credentials,storage\n"
      ]
    },
    {
      "cell_type": "code",
      "execution_count": 9,
      "metadata": {
        "id": "Z1wqn3xWiGgv"
      },
      "outputs": [],
      "source": [
        "from firebase_admin import firestore"
      ]
    },
    {
      "cell_type": "code",
      "execution_count": 10,
      "metadata": {
        "id": "vWoaQzKEn7He"
      },
      "outputs": [],
      "source": [
        "from ultralytics import YOLO"
      ]
    },
    {
      "cell_type": "code",
      "execution_count": 11,
      "metadata": {
        "id": "2vAitzxpoa7a"
      },
      "outputs": [],
      "source": [
        "from datetime import date,datetime"
      ]
    },
    {
      "cell_type": "code",
      "execution_count": 12,
      "metadata": {
        "id": "QXBrUhRTn7Hg"
      },
      "outputs": [],
      "source": [
        "import os"
      ]
    },
    {
      "cell_type": "code",
      "execution_count": 13,
      "metadata": {
        "id": "3H26Ktufn7Hh"
      },
      "outputs": [],
      "source": [
        "import numpy as np"
      ]
    },
    {
      "cell_type": "code",
      "execution_count": 14,
      "metadata": {
        "id": "YX-4QEzwn7Hi"
      },
      "outputs": [],
      "source": [
        "from matplotlib import pyplot as plt"
      ]
    },
    {
      "cell_type": "code",
      "execution_count": 15,
      "metadata": {
        "id": "VPtnbmKmpo6w"
      },
      "outputs": [],
      "source": [
        "import random"
      ]
    },
    {
      "cell_type": "code",
      "execution_count": 16,
      "metadata": {
        "id": "3zftmIrTuI99"
      },
      "outputs": [],
      "source": [
        "import yaml"
      ]
    },
    {
      "cell_type": "code",
      "source": [
        "import csv"
      ],
      "metadata": {
        "id": "Ao5cEidSgm4D"
      },
      "execution_count": 17,
      "outputs": []
    },
    {
      "cell_type": "code",
      "source": [
        "import json"
      ],
      "metadata": {
        "id": "W9ZafQyMgoug"
      },
      "execution_count": 18,
      "outputs": []
    },
    {
      "cell_type": "markdown",
      "metadata": {
        "id": "VLe9eLGetyX_"
      },
      "source": [
        "## Config"
      ]
    },
    {
      "cell_type": "code",
      "execution_count": 217,
      "metadata": {
        "id": "c_qNgMdot0QK"
      },
      "outputs": [],
      "source": [
        "epochs=100\n",
        "imageSize=640\n",
        "optimizer='Adam'\n",
        "dropout=0.25"
      ]
    },
    {
      "cell_type": "markdown",
      "metadata": {
        "id": "xPNvfYoiKmz8"
      },
      "source": [
        "### Dirctory"
      ]
    },
    {
      "cell_type": "code",
      "execution_count": 221,
      "metadata": {
        "id": "hrtvf7FqKZzj"
      },
      "outputs": [],
      "source": [
        "work_dirctory=\"/content/drive/MyDrive/AyushVision/yolo/training\"\n",
        "work_dirctory_root=\"/content/drive/MyDrive/AyushVision/yolo\"\n",
        "firebase_key=\"/content/drive/MyDrive/AyushVision/ServiceKey.json\""
      ]
    },
    {
      "cell_type": "code",
      "execution_count": 222,
      "metadata": {
        "id": "NWkZ6kdWl9Tc"
      },
      "outputs": [],
      "source": [
        "today_work_dirctory=f\"{work_dirctory}/{date.today().strftime('%d_%m_%Y')}/{datetime.now().strftime('%H%M%S')}\""
      ]
    },
    {
      "cell_type": "code",
      "execution_count": 223,
      "metadata": {
        "id": "VCixGiXvmBWf"
      },
      "outputs": [],
      "source": [
        "if not os.path.exists(work_dirctory):\n",
        "  os.makedirs(work_dirctory,exist_ok=True)\n",
        "if not os.path.exists(today_work_dirctory):\n",
        "  os.makedirs(today_work_dirctory,exist_ok=True)"
      ]
    },
    {
      "cell_type": "code",
      "execution_count": 224,
      "metadata": {
        "id": "iAbj-AXXmEo7"
      },
      "outputs": [],
      "source": [
        "data=\"/content/drive/MyDrive/AyushVision/yolo/workingdir/final/data.yaml\""
      ]
    },
    {
      "cell_type": "code",
      "execution_count": 225,
      "metadata": {
        "id": "J77aImwXtlPV"
      },
      "outputs": [],
      "source": [
        "project=f\"{today_work_dirctory}/leaves/runs\"\n",
        "name=f'train{epochs}'"
      ]
    },
    {
      "cell_type": "markdown",
      "metadata": {
        "id": "XV9QP9llluYJ"
      },
      "source": [
        "## Firebase"
      ]
    },
    {
      "cell_type": "code",
      "execution_count": 226,
      "metadata": {
        "id": "RpsSJqZBiPpe"
      },
      "outputs": [],
      "source": [
        "\n",
        "if firebase_count==1:\n",
        "  cred = credentials.Certificate(firebase_key)\n",
        "  firebase_admin.initialize_app(cred,{\n",
        "    'storageBucket': 'ayush-vision-asw4gh.appspot.com'\n",
        "  })\n",
        "firebase_count=firebase_count+1"
      ]
    },
    {
      "cell_type": "code",
      "execution_count": 227,
      "metadata": {
        "id": "UlsbRiTTj259"
      },
      "outputs": [],
      "source": [
        "db = firestore.client()"
      ]
    },
    {
      "cell_type": "code",
      "execution_count": 228,
      "metadata": {
        "id": "1MqZJtEzv4eF"
      },
      "outputs": [],
      "source": [
        "bucket = storage.bucket()"
      ]
    },
    {
      "cell_type": "code",
      "execution_count": 229,
      "metadata": {
        "id": "FjHEnE_7qSNN"
      },
      "outputs": [],
      "source": [
        "yolo_ref = db.collection(\"training1\").document('yolo')\n",
        "doc = yolo_ref.get()"
      ]
    },
    {
      "cell_type": "code",
      "execution_count": 230,
      "metadata": {
        "id": "mivbo7JFl00U"
      },
      "outputs": [],
      "source": [
        "if not doc.exists:\n",
        "  doc_ref= db.collection(\"training1\").document('yolo')\n",
        "  doc_ref.set({'algorithum':'yolo','version':'V8','mode':'detection','url':'ultralytics'})\n",
        "else:\n",
        "  doc_ref= yolo_ref"
      ]
    },
    {
      "cell_type": "markdown",
      "metadata": {
        "id": "LtFuKd42KznG"
      },
      "source": [
        "### Roboflow"
      ]
    },
    {
      "cell_type": "markdown",
      "metadata": {
        "id": "AapMM59Xn7Hj"
      },
      "source": [
        "## Model"
      ]
    },
    {
      "cell_type": "code",
      "source": [
        "document_id=f'{datetime.now().strftime(f\"%Y%m%d%%S\")}_{epochs}'"
      ],
      "metadata": {
        "id": "0zKnjUWKotRg"
      },
      "execution_count": 231,
      "outputs": []
    },
    {
      "cell_type": "code",
      "source": [
        "storageLocation=f'training/yolo/leaves/{document_id}'"
      ],
      "metadata": {
        "id": "X0vdMJ2Eo9AS"
      },
      "execution_count": 232,
      "outputs": []
    },
    {
      "cell_type": "code",
      "execution_count": 233,
      "metadata": {
        "id": "Mwg3H-G3orDr"
      },
      "outputs": [],
      "source": [
        "today_ref=doc_ref.collection(\"Leave\").document(document_id)"
      ]
    },
    {
      "cell_type": "code",
      "execution_count": 234,
      "metadata": {
        "id": "7UvmNAyIreO8"
      },
      "outputs": [],
      "source": [
        "basicdata['imageSize']=imageSize\n",
        "basicdata['project']=project\n",
        "basicdata['name']=name\n",
        "basicdata['training_date']=datetime.now().strftime(\"%Y/%m/%d %H:%M:%S\")\n",
        "basicdata['filename']='YOLO_Leaves'"
      ]
    },
    {
      "cell_type": "code",
      "execution_count": 235,
      "metadata": {
        "id": "-YZRg5JWuAEM"
      },
      "outputs": [],
      "source": [
        "with open(data, 'r') as file:\n",
        "    yaml_content = yaml.safe_load(file)"
      ]
    },
    {
      "cell_type": "code",
      "execution_count": 236,
      "metadata": {
        "id": "PY06W962uaMn"
      },
      "outputs": [],
      "source": [
        "basicdata['names']=yaml_content['names']"
      ]
    },
    {
      "cell_type": "code",
      "execution_count": 237,
      "metadata": {
        "colab": {
          "base_uri": "https://localhost:8080/"
        },
        "id": "UafSx86dkAcs",
        "outputId": "27d64ad8-a885-4e23-ba6d-cfb767e60f9f"
      },
      "outputs": [
        {
          "output_type": "execute_result",
          "data": {
            "text/plain": [
              "update_time {\n",
              "  seconds: 1726207112\n",
              "  nanos: 937343000\n",
              "}"
            ]
          },
          "metadata": {},
          "execution_count": 237
        }
      ],
      "source": [
        "today_ref.set(basicdata)"
      ]
    },
    {
      "cell_type": "code",
      "execution_count": 238,
      "metadata": {
        "colab": {
          "base_uri": "https://localhost:8080/"
        },
        "id": "uTFQPVebn7Hk",
        "outputId": "236be559-555b-4ba9-8722-ce2189bd8501"
      },
      "outputs": [
        {
          "output_type": "stream",
          "name": "stdout",
          "text": [
            "Transferred 355/355 items from pretrained weights\n"
          ]
        }
      ],
      "source": [
        "yolo_model = YOLO('yolov8n.yaml').load('yolov8n.pt')"
      ]
    },
    {
      "cell_type": "markdown",
      "metadata": {
        "id": "8EMUXQQAn7Hm"
      },
      "source": [
        "#### Training"
      ]
    },
    {
      "cell_type": "code",
      "execution_count": null,
      "metadata": {
        "colab": {
          "base_uri": "https://localhost:8080/"
        },
        "id": "cyofPiscn7Hn",
        "outputId": "e5543f9f-f3f3-4a7f-b222-59afebc704cb"
      },
      "outputs": [
        {
          "metadata": {
            "tags": null
          },
          "name": "stdout",
          "output_type": "stream",
          "text": [
            "Ultralytics YOLOv8.2.92 🚀 Python-3.10.12 torch-2.4.0+cu121 CUDA:0 (Tesla T4, 15102MiB)\n",
            "\u001b[34m\u001b[1mengine/trainer: \u001b[0mtask=detect, mode=train, model=yolov8n.yaml, data=/content/drive/MyDrive/AyushVision/yolo/workingdir/final/data.yaml, epochs=100, time=None, patience=5, batch=16, imgsz=640, save=True, save_period=-1, cache=False, device=None, workers=8, project=/content/drive/MyDrive/AyushVision/yolo/training/13_09_2024/055808/leaves/runs, name=train100, exist_ok=False, pretrained=yolov8n.pt, optimizer=Adam, verbose=True, seed=0, deterministic=True, single_cls=False, rect=False, cos_lr=False, close_mosaic=10, resume=False, amp=True, fraction=1.0, profile=False, freeze=None, multi_scale=False, overlap_mask=True, mask_ratio=4, dropout=0.25, val=True, split=val, save_json=False, save_hybrid=False, conf=None, iou=0.7, max_det=300, half=False, dnn=False, plots=True, source=None, vid_stride=1, stream_buffer=False, visualize=False, augment=True, agnostic_nms=False, classes=None, retina_masks=False, embed=None, show=False, save_frames=False, save_txt=False, save_conf=False, save_crop=False, show_labels=True, show_conf=True, show_boxes=True, line_width=None, format=torchscript, keras=False, optimize=False, int8=False, dynamic=False, simplify=False, opset=None, workspace=4, nms=False, lr0=0.01, lrf=0.1, momentum=0.937, weight_decay=0.0005, warmup_epochs=3, warmup_momentum=0.8, warmup_bias_lr=0.1, box=7.5, cls=0.5, dfl=1.5, pose=12.0, kobj=1.0, label_smoothing=0.0, nbs=64, hsv_h=0.015, hsv_s=0.7, hsv_v=0.4, degrees=0.0, translate=0.1, scale=0.5, shear=0.0, perspective=0.0, flipud=0.0, fliplr=0.5, bgr=0.0, mosaic=1.0, mixup=0.0, copy_paste=0.0, auto_augment=randaugment, erasing=0.4, crop_fraction=1.0, cfg=None, tracker=botsort.yaml, save_dir=/content/drive/MyDrive/AyushVision/yolo/training/13_09_2024/055808/leaves/runs/train100\n",
            "Overriding model.yaml nc=80 with nc=32\n",
            "\n",
            "                   from  n    params  module                                       arguments                     \n",
            "  0                  -1  1       464  ultralytics.nn.modules.conv.Conv             [3, 16, 3, 2]                 \n",
            "  1                  -1  1      4672  ultralytics.nn.modules.conv.Conv             [16, 32, 3, 2]                \n",
            "  2                  -1  1      7360  ultralytics.nn.modules.block.C2f             [32, 32, 1, True]             \n",
            "  3                  -1  1     18560  ultralytics.nn.modules.conv.Conv             [32, 64, 3, 2]                \n",
            "  4                  -1  2     49664  ultralytics.nn.modules.block.C2f             [64, 64, 2, True]             \n",
            "  5                  -1  1     73984  ultralytics.nn.modules.conv.Conv             [64, 128, 3, 2]               \n",
            "  6                  -1  2    197632  ultralytics.nn.modules.block.C2f             [128, 128, 2, True]           \n",
            "  7                  -1  1    295424  ultralytics.nn.modules.conv.Conv             [128, 256, 3, 2]              \n",
            "  8                  -1  1    460288  ultralytics.nn.modules.block.C2f             [256, 256, 1, True]           \n",
            "  9                  -1  1    164608  ultralytics.nn.modules.block.SPPF            [256, 256, 5]                 \n",
            " 10                  -1  1         0  torch.nn.modules.upsampling.Upsample         [None, 2, 'nearest']          \n",
            " 11             [-1, 6]  1         0  ultralytics.nn.modules.conv.Concat           [1]                           \n",
            " 12                  -1  1    148224  ultralytics.nn.modules.block.C2f             [384, 128, 1]                 \n",
            " 13                  -1  1         0  torch.nn.modules.upsampling.Upsample         [None, 2, 'nearest']          \n",
            " 14             [-1, 4]  1         0  ultralytics.nn.modules.conv.Concat           [1]                           \n",
            " 15                  -1  1     37248  ultralytics.nn.modules.block.C2f             [192, 64, 1]                  \n",
            " 16                  -1  1     36992  ultralytics.nn.modules.conv.Conv             [64, 64, 3, 2]                \n",
            " 17            [-1, 12]  1         0  ultralytics.nn.modules.conv.Concat           [1]                           \n",
            " 18                  -1  1    123648  ultralytics.nn.modules.block.C2f             [192, 128, 1]                 \n",
            " 19                  -1  1    147712  ultralytics.nn.modules.conv.Conv             [128, 128, 3, 2]              \n",
            " 20             [-1, 9]  1         0  ultralytics.nn.modules.conv.Concat           [1]                           \n",
            " 21                  -1  1    493056  ultralytics.nn.modules.block.C2f             [384, 256, 1]                 \n",
            " 22        [15, 18, 21]  1    757552  ultralytics.nn.modules.head.Detect           [32, [64, 128, 256]]          \n",
            "YOLOv8n summary: 225 layers, 3,017,088 parameters, 3,017,072 gradients, 8.2 GFLOPs\n",
            "\n",
            "Transferred 319/355 items from pretrained weights\n",
            "\u001b[34m\u001b[1mTensorBoard: \u001b[0mStart with 'tensorboard --logdir /content/drive/MyDrive/AyushVision/yolo/training/13_09_2024/055808/leaves/runs/train100', view at http://localhost:6006/\n",
            "Freezing layer 'model.22.dfl.conv.weight'\n",
            "\u001b[34m\u001b[1mAMP: \u001b[0mrunning Automatic Mixed Precision (AMP) checks with YOLOv8n...\n",
            "\u001b[34m\u001b[1mAMP: \u001b[0mchecks passed ✅\n"
          ]
        },
        {
          "metadata": {
            "tags": null
          },
          "name": "stderr",
          "output_type": "stream",
          "text": [
            "\u001b[34m\u001b[1mtrain: \u001b[0mScanning /content/drive/MyDrive/AyushVision/yolo/workingdir/final/train/labels.cache... 11092 images, 7 backgrounds, 0 corrupt: 100%|██████████| 11092/11092 [00:00<?, ?it/s]"
          ]
        },
        {
          "metadata": {
            "tags": null
          },
          "name": "stdout",
          "output_type": "stream",
          "text": [
            "\u001b[34m\u001b[1mtrain: \u001b[0mWARNING ⚠️ /content/drive/MyDrive/AyushVision/yolo/workingdir/final/train/images/IMG20240426122434_jpg.rf.e316a4e0bfeb309d4f5c70d8ce6f8f68.jpg: 1 duplicate labels removed\n",
            "\u001b[34m\u001b[1mtrain: \u001b[0mWARNING ⚠️ /content/drive/MyDrive/AyushVision/yolo/workingdir/final/train/images/IMG20240519182033_jpg.rf.70e9e12811b93d615bb6d6bc69c7f913.jpg: 1 duplicate labels removed\n",
            "\u001b[34m\u001b[1malbumentations: \u001b[0mBlur(p=0.01, blur_limit=(3, 7)), MedianBlur(p=0.01, blur_limit=(3, 7)), ToGray(p=0.01), CLAHE(p=0.01, clip_limit=(1, 4.0), tile_grid_size=(8, 8))\n"
          ]
        },
        {
          "metadata": {
            "tags": null
          },
          "name": "stderr",
          "output_type": "stream",
          "text": [
            "\n",
            "\u001b[34m\u001b[1mval: \u001b[0mScanning /content/drive/MyDrive/AyushVision/yolo/workingdir/final/valid/labels.cache... 3173 images, 1 backgrounds, 0 corrupt: 100%|██████████| 3173/3173 [00:00<?, ?it/s]\n"
          ]
        },
        {
          "metadata": {
            "tags": null
          },
          "name": "stdout",
          "output_type": "stream",
          "text": [
            "Plotting labels to /content/drive/MyDrive/AyushVision/yolo/training/13_09_2024/055808/leaves/runs/train100/labels.jpg... \n",
            "\u001b[34m\u001b[1moptimizer:\u001b[0m Adam(lr=0.01, momentum=0.937) with parameter groups 57 weight(decay=0.0), 64 weight(decay=0.0005), 63 bias(decay=0.0)\n",
            "\u001b[34m\u001b[1mTensorBoard: \u001b[0mmodel graph visualization added ✅\n",
            "Image sizes 640 train, 640 val\n",
            "Using 8 dataloader workers\n",
            "Logging results to \u001b[1m/content/drive/MyDrive/AyushVision/yolo/training/13_09_2024/055808/leaves/runs/train100\u001b[0m\n",
            "Starting training for 100 epochs...\n",
            "\n",
            "      Epoch    GPU_mem   box_loss   cls_loss   dfl_loss  Instances       Size\n"
          ]
        },
        {
          "metadata": {
            "tags": null
          },
          "name": "stderr",
          "output_type": "stream",
          "text": [
            "      1/100      2.28G      1.543      3.252      1.759         17        640: 100%|██████████| 694/694 [02:02<00:00,  5.66it/s]\n",
            "                 Class     Images  Instances      Box(P          R      mAP50  mAP50-95): 100%|██████████| 100/100 [00:26<00:00,  3.79it/s]\n"
          ]
        },
        {
          "metadata": {
            "tags": null
          },
          "name": "stdout",
          "output_type": "stream",
          "text": [
            "                   all       3173       4723      0.249      0.228     0.0651     0.0334\n",
            "\n",
            "      Epoch    GPU_mem   box_loss   cls_loss   dfl_loss  Instances       Size\n"
          ]
        },
        {
          "metadata": {
            "tags": null
          },
          "name": "stderr",
          "output_type": "stream",
          "text": [
            "      2/100      2.32G      1.519      2.877      1.727         11        640: 100%|██████████| 694/694 [01:55<00:00,  6.00it/s]\n",
            "                 Class     Images  Instances      Box(P          R      mAP50  mAP50-95): 100%|██████████| 100/100 [00:22<00:00,  4.37it/s]\n"
          ]
        },
        {
          "metadata": {
            "tags": null
          },
          "name": "stdout",
          "output_type": "stream",
          "text": [
            "                   all       3173       4723      0.211      0.202      0.119     0.0699\n",
            "\n",
            "      Epoch    GPU_mem   box_loss   cls_loss   dfl_loss  Instances       Size\n"
          ]
        },
        {
          "metadata": {
            "tags": null
          },
          "name": "stderr",
          "output_type": "stream",
          "text": [
            "      3/100      2.32G      1.472      2.733      1.679         16        640: 100%|██████████| 694/694 [01:52<00:00,  6.14it/s]\n",
            "                 Class     Images  Instances      Box(P          R      mAP50  mAP50-95): 100%|██████████| 100/100 [00:22<00:00,  4.45it/s]\n"
          ]
        },
        {
          "metadata": {
            "tags": null
          },
          "name": "stdout",
          "output_type": "stream",
          "text": [
            "                   all       3173       4723      0.333      0.328      0.185      0.108\n",
            "\n",
            "      Epoch    GPU_mem   box_loss   cls_loss   dfl_loss  Instances       Size\n"
          ]
        },
        {
          "metadata": {
            "tags": null
          },
          "name": "stderr",
          "output_type": "stream",
          "text": [
            "      4/100      2.31G      1.413      2.576      1.625          9        640: 100%|██████████| 694/694 [01:52<00:00,  6.17it/s]\n",
            "                 Class     Images  Instances      Box(P          R      mAP50  mAP50-95): 100%|██████████| 100/100 [00:22<00:00,  4.39it/s]\n"
          ]
        },
        {
          "metadata": {
            "tags": null
          },
          "name": "stdout",
          "output_type": "stream",
          "text": [
            "                   all       3173       4723      0.328       0.41      0.304      0.182\n",
            "\n",
            "      Epoch    GPU_mem   box_loss   cls_loss   dfl_loss  Instances       Size\n"
          ]
        },
        {
          "metadata": {
            "tags": null
          },
          "name": "stderr",
          "output_type": "stream",
          "text": [
            "      5/100      2.33G      1.385      2.418      1.595         10        640: 100%|██████████| 694/694 [01:52<00:00,  6.16it/s]\n",
            "                 Class     Images  Instances      Box(P          R      mAP50  mAP50-95): 100%|██████████| 100/100 [00:21<00:00,  4.55it/s]\n"
          ]
        },
        {
          "metadata": {
            "tags": null
          },
          "name": "stdout",
          "output_type": "stream",
          "text": [
            "                   all       3173       4723      0.345      0.419      0.337      0.199\n",
            "\n",
            "      Epoch    GPU_mem   box_loss   cls_loss   dfl_loss  Instances       Size\n"
          ]
        },
        {
          "metadata": {
            "tags": null
          },
          "name": "stderr",
          "output_type": "stream",
          "text": [
            "      6/100      2.31G      1.371      2.296      1.581         16        640: 100%|██████████| 694/694 [01:52<00:00,  6.17it/s]\n",
            "                 Class     Images  Instances      Box(P          R      mAP50  mAP50-95): 100%|██████████| 100/100 [00:22<00:00,  4.43it/s]\n"
          ]
        },
        {
          "metadata": {
            "tags": null
          },
          "name": "stdout",
          "output_type": "stream",
          "text": [
            "                   all       3173       4723      0.405      0.431      0.376      0.225\n",
            "\n",
            "      Epoch    GPU_mem   box_loss   cls_loss   dfl_loss  Instances       Size\n"
          ]
        },
        {
          "metadata": {
            "tags": null
          },
          "name": "stderr",
          "output_type": "stream",
          "text": [
            "      7/100      2.34G      1.349      2.189      1.561          8        640: 100%|██████████| 694/694 [01:52<00:00,  6.17it/s]\n",
            "                 Class     Images  Instances      Box(P          R      mAP50  mAP50-95): 100%|██████████| 100/100 [00:22<00:00,  4.40it/s]\n"
          ]
        },
        {
          "metadata": {
            "tags": null
          },
          "name": "stdout",
          "output_type": "stream",
          "text": [
            "                   all       3173       4723      0.467      0.522      0.474      0.305\n",
            "\n",
            "      Epoch    GPU_mem   box_loss   cls_loss   dfl_loss  Instances       Size\n"
          ]
        },
        {
          "metadata": {
            "tags": null
          },
          "name": "stderr",
          "output_type": "stream",
          "text": [
            "      8/100      2.34G       1.34      2.114      1.547         15        640: 100%|██████████| 694/694 [01:52<00:00,  6.19it/s]\n",
            "                 Class     Images  Instances      Box(P          R      mAP50  mAP50-95): 100%|██████████| 100/100 [00:21<00:00,  4.66it/s]\n"
          ]
        },
        {
          "metadata": {
            "tags": null
          },
          "name": "stdout",
          "output_type": "stream",
          "text": [
            "                   all       3173       4723      0.532       0.53      0.521      0.333\n",
            "\n",
            "      Epoch    GPU_mem   box_loss   cls_loss   dfl_loss  Instances       Size\n"
          ]
        },
        {
          "output_type": "stream",
          "name": "stderr",
          "text": [
            "      9/100      2.34G      1.334      2.049      1.544         14        640: 100%|██████████| 694/694 [01:52<00:00,  6.19it/s]\n",
            "                 Class     Images  Instances      Box(P          R      mAP50  mAP50-95): 100%|██████████| 100/100 [00:22<00:00,  4.46it/s]\n"
          ]
        },
        {
          "output_type": "stream",
          "name": "stdout",
          "text": [
            "                   all       3173       4723      0.495      0.534      0.511      0.329\n",
            "\n",
            "      Epoch    GPU_mem   box_loss   cls_loss   dfl_loss  Instances       Size\n"
          ]
        },
        {
          "output_type": "stream",
          "name": "stderr",
          "text": [
            "     10/100      2.31G      1.318      1.994      1.529         12        640: 100%|██████████| 694/694 [01:52<00:00,  6.19it/s]\n",
            "                 Class     Images  Instances      Box(P          R      mAP50  mAP50-95): 100%|██████████| 100/100 [00:22<00:00,  4.53it/s]\n"
          ]
        },
        {
          "output_type": "stream",
          "name": "stdout",
          "text": [
            "                   all       3173       4723      0.538       0.54      0.518      0.332\n",
            "\n",
            "      Epoch    GPU_mem   box_loss   cls_loss   dfl_loss  Instances       Size\n"
          ]
        },
        {
          "output_type": "stream",
          "name": "stderr",
          "text": [
            "     11/100      2.32G      1.316      1.946      1.527         10        640: 100%|██████████| 694/694 [01:52<00:00,  6.20it/s]\n",
            "                 Class     Images  Instances      Box(P          R      mAP50  mAP50-95): 100%|██████████| 100/100 [00:22<00:00,  4.53it/s]\n"
          ]
        },
        {
          "output_type": "stream",
          "name": "stdout",
          "text": [
            "                   all       3173       4723      0.579      0.561      0.576       0.37\n",
            "\n",
            "      Epoch    GPU_mem   box_loss   cls_loss   dfl_loss  Instances       Size\n"
          ]
        },
        {
          "output_type": "stream",
          "name": "stderr",
          "text": [
            "     12/100      2.28G      1.316       1.91      1.529         15        640: 100%|██████████| 694/694 [01:51<00:00,  6.20it/s]\n",
            "                 Class     Images  Instances      Box(P          R      mAP50  mAP50-95): 100%|██████████| 100/100 [00:21<00:00,  4.55it/s]\n"
          ]
        },
        {
          "output_type": "stream",
          "name": "stdout",
          "text": [
            "                   all       3173       4723       0.56      0.572      0.576      0.361\n",
            "\n",
            "      Epoch    GPU_mem   box_loss   cls_loss   dfl_loss  Instances       Size\n"
          ]
        },
        {
          "output_type": "stream",
          "name": "stderr",
          "text": [
            "     13/100      2.26G      1.309      1.866      1.521         10        640: 100%|██████████| 694/694 [01:51<00:00,  6.20it/s]\n",
            "                 Class     Images  Instances      Box(P          R      mAP50  mAP50-95): 100%|██████████| 100/100 [00:21<00:00,  4.70it/s]\n"
          ]
        },
        {
          "output_type": "stream",
          "name": "stdout",
          "text": [
            "                   all       3173       4723      0.577      0.575      0.607       0.39\n",
            "\n",
            "      Epoch    GPU_mem   box_loss   cls_loss   dfl_loss  Instances       Size\n"
          ]
        },
        {
          "output_type": "stream",
          "name": "stderr",
          "text": [
            "     14/100      2.31G      1.305      1.832      1.516         13        640: 100%|██████████| 694/694 [01:51<00:00,  6.22it/s]\n",
            "                 Class     Images  Instances      Box(P          R      mAP50  mAP50-95): 100%|██████████| 100/100 [00:21<00:00,  4.63it/s]\n"
          ]
        },
        {
          "output_type": "stream",
          "name": "stdout",
          "text": [
            "                   all       3173       4723      0.538      0.568      0.579      0.369\n",
            "\n",
            "      Epoch    GPU_mem   box_loss   cls_loss   dfl_loss  Instances       Size\n"
          ]
        },
        {
          "output_type": "stream",
          "name": "stderr",
          "text": [
            "     15/100      2.32G      1.296      1.802      1.507         18        640: 100%|██████████| 694/694 [01:51<00:00,  6.21it/s]\n",
            "                 Class     Images  Instances      Box(P          R      mAP50  mAP50-95): 100%|██████████| 100/100 [00:21<00:00,  4.59it/s]\n"
          ]
        },
        {
          "output_type": "stream",
          "name": "stdout",
          "text": [
            "                   all       3173       4723      0.609      0.566      0.602      0.401\n",
            "\n",
            "      Epoch    GPU_mem   box_loss   cls_loss   dfl_loss  Instances       Size\n"
          ]
        },
        {
          "output_type": "stream",
          "name": "stderr",
          "text": [
            "     16/100      2.31G      1.291       1.79      1.508         13        640: 100%|██████████| 694/694 [01:51<00:00,  6.21it/s]\n",
            "                 Class     Images  Instances      Box(P          R      mAP50  mAP50-95): 100%|██████████| 100/100 [00:22<00:00,  4.42it/s]\n"
          ]
        },
        {
          "output_type": "stream",
          "name": "stdout",
          "text": [
            "                   all       3173       4723      0.663      0.616      0.661      0.434\n",
            "\n",
            "      Epoch    GPU_mem   box_loss   cls_loss   dfl_loss  Instances       Size\n"
          ]
        },
        {
          "output_type": "stream",
          "name": "stderr",
          "text": [
            "     17/100      2.32G      1.293      1.745      1.503         13        640: 100%|██████████| 694/694 [01:51<00:00,  6.20it/s]\n",
            "                 Class     Images  Instances      Box(P          R      mAP50  mAP50-95):  42%|████▏     | 42/100 [00:09<00:12,  4.66it/s]"
          ]
        }
      ],
      "source": [
        "results = yolo_model.train(\n",
        "    data=data,\n",
        "    name=name,\n",
        "    epochs=epochs,                 # Number of epochs\n",
        "    imgsz=imageSize,               # Image size\n",
        "    project=project,           # Project directory\n",
        "    optimizer=optimizer,          # Optimizer\n",
        "    plots=True,                # Enable plots\n",
        "    dropout=dropout,               # Dropout rate\n",
        "    lr0=0.01,                  # Initial learning rate\n",
        "    lrf=0.1,                   # Final learning rate (lr0 * lrf)\n",
        "    warmup_epochs=3,           # Number of warmup epochs\n",
        "    patience=5,                # Patience for early stopping\n",
        "    augment=True                # Data augmentation\n",
        ")"
      ]
    },
    {
      "cell_type": "code",
      "source": [
        "args_yaml=f'{project}/{name}/args.yaml'"
      ],
      "metadata": {
        "id": "DvZnNECFhFeT"
      },
      "execution_count": 178,
      "outputs": []
    },
    {
      "cell_type": "code",
      "source": [
        "resultcsv=f'{project}/{name}/results.csv'"
      ],
      "metadata": {
        "id": "SO4n0G5EhJA6"
      },
      "execution_count": 179,
      "outputs": []
    },
    {
      "cell_type": "code",
      "source": [
        "with open(resultcsv, mode='r') as file:\n",
        "     csv_reader = csv.DictReader(file)\n",
        "     data_dict = [row for row in csv_reader]"
      ],
      "metadata": {
        "id": "Aiu9ngptJt1A"
      },
      "execution_count": 180,
      "outputs": []
    },
    {
      "cell_type": "code",
      "source": [
        "with open(args_yaml, 'r') as file:\n",
        "    yaml_content = yaml.safe_load(file)"
      ],
      "metadata": {
        "id": "8Uw3V5VihL6M"
      },
      "execution_count": 181,
      "outputs": []
    },
    {
      "cell_type": "code",
      "execution_count": 182,
      "metadata": {
        "id": "j0b7pQMdwiee"
      },
      "outputs": [],
      "source": [
        "today_training_colref=today_ref.collection('Train')"
      ]
    },
    {
      "cell_type": "code",
      "source": [
        "today_training_ref=today_training_colref.document('args')"
      ],
      "metadata": {
        "id": "k7fDm31ghVFV"
      },
      "execution_count": 183,
      "outputs": []
    },
    {
      "cell_type": "code",
      "source": [
        "today_training_ref.set(yaml_content)"
      ],
      "metadata": {
        "id": "J_1uaRjBhW-_",
        "outputId": "e7121f5e-046e-4a94-a6cc-bf774cda37c0",
        "colab": {
          "base_uri": "https://localhost:8080/"
        }
      },
      "execution_count": 184,
      "outputs": [
        {
          "output_type": "execute_result",
          "data": {
            "text/plain": [
              "update_time {\n",
              "  seconds: 1726206207\n",
              "  nanos: 730980000\n",
              "}"
            ]
          },
          "metadata": {},
          "execution_count": 184
        }
      ]
    },
    {
      "cell_type": "code",
      "source": [
        "todayresultref=today_training_colref.document('results')"
      ],
      "metadata": {
        "id": "vtduLfTXhZ52"
      },
      "execution_count": 185,
      "outputs": []
    },
    {
      "cell_type": "code",
      "source": [
        "todayresultref.set({'results':data_dict})"
      ],
      "metadata": {
        "id": "Dq-GrSl0hf1v",
        "outputId": "5579de64-145b-4457-90cc-d766909e3f0d",
        "colab": {
          "base_uri": "https://localhost:8080/"
        }
      },
      "execution_count": 186,
      "outputs": [
        {
          "output_type": "execute_result",
          "data": {
            "text/plain": [
              "update_time {\n",
              "  seconds: 1726206209\n",
              "  nanos: 248336000\n",
              "}"
            ]
          },
          "metadata": {},
          "execution_count": 186
        }
      ]
    },
    {
      "cell_type": "code",
      "execution_count": 187,
      "metadata": {
        "id": "g-BcnpaezP3a"
      },
      "outputs": [],
      "source": [
        "trainfiles={}\n",
        "wights={}"
      ]
    },
    {
      "cell_type": "code",
      "execution_count": 188,
      "metadata": {
        "id": "jhuDVlf7xyNL"
      },
      "outputs": [],
      "source": [
        "for file in os.listdir(f\"{project}/{name}\"):\n",
        "  if os.path.isfile(f\"{project}/{name}/{file}\"):\n",
        "    blob = bucket.blob(f\"{storageLocation}/train/{file}\")\n",
        "    blob.upload_from_filename(f\"{project}/{name}/{file}\")\n",
        "    blob.make_public()\n",
        "    trainfiles[os.path.splitext(file)[0]]=blob.public_url\n"
      ]
    },
    {
      "cell_type": "code",
      "execution_count": 189,
      "metadata": {
        "id": "qbmOsJHgNmoU"
      },
      "outputs": [],
      "source": [
        "for file in os.listdir(f\"{project}/{name}/weights\"):\n",
        "  if os.path.isfile(f\"{project}/{name}/weights/{file}\"):\n",
        "    blob = bucket.blob(f\"{storageLocation}/train/weights/{file}\")\n",
        "    blob.upload_from_filename(f\"{project}/{name}/weights/{file}\")\n",
        "    blob.make_public()\n",
        "    wights[os.path.splitext(file)[0]]=blob.public_url"
      ]
    },
    {
      "cell_type": "code",
      "execution_count": 190,
      "metadata": {
        "id": "rMcQNIy10MUP",
        "outputId": "67db7d0d-f157-4d81-ec48-421f9deaa656",
        "colab": {
          "base_uri": "https://localhost:8080/"
        }
      },
      "outputs": [
        {
          "output_type": "execute_result",
          "data": {
            "text/plain": [
              "update_time {\n",
              "  seconds: 1726206284\n",
              "  nanos: 567753000\n",
              "}"
            ]
          },
          "metadata": {},
          "execution_count": 190
        }
      ],
      "source": [
        "today_training_files=today_training_colref.document('files')\n",
        "today_training_files.set(trainfiles)"
      ]
    },
    {
      "cell_type": "code",
      "source": [
        "today_weights_files=today_training_colref.document('weights')\n",
        "today_weights_files.set(wights)"
      ],
      "metadata": {
        "id": "JaS_sPzuhmk7",
        "outputId": "71f2dc97-4f51-4aaa-e870-c45e50569d51",
        "colab": {
          "base_uri": "https://localhost:8080/"
        }
      },
      "execution_count": 191,
      "outputs": [
        {
          "output_type": "execute_result",
          "data": {
            "text/plain": [
              "update_time {\n",
              "  seconds: 1726194481\n",
              "  nanos: 741385000\n",
              "}"
            ]
          },
          "metadata": {},
          "execution_count": 191
        }
      ]
    },
    {
      "cell_type": "markdown",
      "metadata": {
        "id": "vebaeyvan7Ho"
      },
      "source": [
        "#### Validation"
      ]
    },
    {
      "cell_type": "code",
      "execution_count": 192,
      "metadata": {
        "id": "-9orCdN0n7Ho"
      },
      "outputs": [],
      "source": [
        "model_train_path=f'{project}/{name}/weights/best.pt'"
      ]
    },
    {
      "cell_type": "code",
      "execution_count": 193,
      "metadata": {
        "id": "eGWISZx7n7Hp"
      },
      "outputs": [],
      "source": [
        "model = YOLO(model_train_path)  # load a custom trained model"
      ]
    },
    {
      "cell_type": "code",
      "execution_count": 194,
      "metadata": {
        "id": "AXl1m-taeNDN",
        "outputId": "e7f30c16-bcb9-408a-dc2e-a22b5c057712",
        "colab": {
          "base_uri": "https://localhost:8080/"
        }
      },
      "outputs": [
        {
          "output_type": "stream",
          "name": "stdout",
          "text": [
            "Ultralytics YOLOv8.2.92 🚀 Python-3.10.12 torch-2.4.0+cu121 CUDA:0 (Tesla T4, 15102MiB)\n",
            "YOLOv8n summary (fused): 168 layers, 3,011,888 parameters, 0 gradients, 8.1 GFLOPs\n"
          ]
        },
        {
          "output_type": "stream",
          "name": "stderr",
          "text": [
            "\u001b[34m\u001b[1mval: \u001b[0mScanning /content/drive/MyDrive/AyushVision/yolo/workingdir/final/valid/labels.cache... 3173 images, 1 backgrounds, 0 corrupt: 100%|██████████| 3173/3173 [00:00<?, ?it/s]\n",
            "                 Class     Images  Instances      Box(P          R      mAP50  mAP50-95): 100%|██████████| 199/199 [00:59<00:00,  3.32it/s]\n"
          ]
        },
        {
          "output_type": "stream",
          "name": "stdout",
          "text": [
            "                   all       3173       4723      0.826      0.792      0.853       0.61\n",
            "              Hibiscus         98         98      0.961      0.994      0.984      0.844\n",
            "          Sleepy_plant        106        153      0.754      0.739      0.829      0.452\n",
            "                  lime        100        112       0.92      0.964      0.986      0.778\n",
            "       Adamant_Creeper         98        174      0.659      0.222      0.436      0.231\n",
            "               Alovera        103        124      0.819      0.758      0.831      0.586\n",
            "                 Betel         93         98      0.897      0.929      0.946      0.803\n",
            "     Black_honey_shrub        108        195      0.738        0.6      0.693      0.429\n",
            "   Calotropis_gigantea         99        101       0.98      0.983      0.995      0.808\n",
            "                Caster         95        125      0.938      0.851      0.919      0.735\n",
            "              Cinnamon         98        105       0.95      0.943      0.965      0.847\n",
            "                Ginger         90         96      0.883      0.868      0.947      0.704\n",
            "                 Henna         98        138      0.801      0.903      0.935      0.599\n",
            "             Holybasil         97        108      0.968      0.851      0.918      0.656\n",
            "         Indian_Mallow         98        122      0.877      0.787      0.885      0.523\n",
            "             Ivy_gourd         98        102      0.972      0.971      0.994      0.893\n",
            "              Landrina         98        192      0.692      0.772      0.828      0.569\n",
            "           Lemon_grass         99        114      0.766      0.746      0.782      0.457\n",
            "           Long_pepper         99        220      0.781      0.777      0.828      0.526\n",
            "          Miracle_leaf         99        113       0.94      0.858      0.943      0.721\n",
            "    Mountain_Knotgrass         98        399      0.606      0.456      0.569      0.264\n",
            "                  Neem         99        108      0.926       0.93      0.947      0.751\n",
            "        Acalyphaindica        100        124      0.898       0.96      0.986      0.748\n",
            "               Oregano        100        111      0.924      0.882      0.933       0.75\n",
            "         Pedaliummurex        100        140      0.786      0.821      0.873      0.482\n",
            "      Redpea_egg_plant        100        138      0.752      0.826      0.877      0.634\n",
            "        Ringworm_plant        100        201      0.675      0.363      0.524      0.387\n",
            "       Seedsunder_leaf        100        264      0.692      0.648      0.728      0.341\n",
            "   Tallperennial_grass        100        116      0.696      0.819      0.826      0.529\n",
            "            Thornapple        100        119      0.846      0.916      0.964      0.731\n",
            "              Turmeric        100        146      0.887      0.756      0.867      0.631\n",
            "          Vitexnegundo        100        148      0.762      0.655      0.758      0.514\n",
            "         Wild_Turmeric        101        219      0.675      0.787      0.807      0.582\n",
            "Speed: 0.3ms preprocess, 4.0ms inference, 0.0ms loss, 1.2ms postprocess per image\n",
            "Saving /content/drive/MyDrive/AyushVision/yolo/training/13_09_2024/031726/leaves/runs/val50/predictions.json...\n",
            "Results saved to \u001b[1m/content/drive/MyDrive/AyushVision/yolo/training/13_09_2024/031726/leaves/runs/val50\u001b[0m\n"
          ]
        }
      ],
      "source": [
        "metrics = model.val(save_json=True,plots=True,project=project,name=f'val{epochs}')  # no arguments needed, dataset and settings remembered"
      ]
    },
    {
      "cell_type": "code",
      "execution_count": 195,
      "metadata": {
        "id": "q9FLMqVSzVDo"
      },
      "outputs": [],
      "source": [
        "val_today_col=today_ref.collection('Val')"
      ]
    },
    {
      "cell_type": "code",
      "source": [
        "predication_file=f'{project}/val{epochs}/predictions.json'"
      ],
      "metadata": {
        "id": "27h9s3UHh0tI"
      },
      "execution_count": 196,
      "outputs": []
    },
    {
      "cell_type": "code",
      "source": [
        "with open(predication_file, 'r') as file:\n",
        "    data_dict = json.load(file)"
      ],
      "metadata": {
        "id": "Vl-fCG-dh29I"
      },
      "execution_count": 197,
      "outputs": []
    },
    {
      "cell_type": "code",
      "source": [
        "val_today_ref_files=val_today_col.document('files')"
      ],
      "metadata": {
        "id": "09j8IGJph5x7"
      },
      "execution_count": 198,
      "outputs": []
    },
    {
      "cell_type": "code",
      "execution_count": 199,
      "metadata": {
        "id": "zUlTjrFB0JtF"
      },
      "outputs": [],
      "source": [
        "valfiles={}"
      ]
    },
    {
      "cell_type": "code",
      "execution_count": 200,
      "metadata": {
        "id": "f5kMLdoCTg9l"
      },
      "outputs": [],
      "source": [
        "for file in os.listdir(f\"{project}/val{epochs}\"):\n",
        "  if os.path.isfile(f\"{project}/val{epochs}/{file}\"):\n",
        "    blob = bucket.blob(f\"{storageLocation}/val/{file}\")\n",
        "    blob.upload_from_filename(f\"{project}/val{epochs}/{file}\")\n",
        "    blob.make_public()\n",
        "    valfiles[os.path.splitext(file)[0]]=blob.public_url"
      ]
    },
    {
      "cell_type": "code",
      "execution_count": 201,
      "metadata": {
        "id": "P5xtzL5GUB_H",
        "outputId": "749bc323-b958-40b7-9fd6-d9d7ad7f2f3b",
        "colab": {
          "base_uri": "https://localhost:8080/"
        }
      },
      "outputs": [
        {
          "output_type": "execute_result",
          "data": {
            "text/plain": [
              "update_time {\n",
              "  seconds: 1726194584\n",
              "  nanos: 846180000\n",
              "}"
            ]
          },
          "metadata": {},
          "execution_count": 201
        }
      ],
      "source": [
        "val_today_ref_files.set(valfiles)"
      ]
    },
    {
      "cell_type": "code",
      "source": [
        "val_today_ref_metrics=val_today_col.document('metrics')"
      ],
      "metadata": {
        "id": "E9UV7ub9iECt"
      },
      "execution_count": 202,
      "outputs": []
    },
    {
      "cell_type": "code",
      "source": [
        "\n",
        "val_today_ref_metrics.set({\n",
        "    'confusion_matrix':{\n",
        "        'conf':metrics.confusion_matrix.conf\n",
        "    },\n",
        "    'maps':np.array(metrics.maps).tolist(),\n",
        "    'fitness':metrics.fitness,\n",
        "'results_dict':metrics.results_dict,\n",
        "    'speed':metrics.speed,\n",
        "    'box':{\n",
        "        'map':metrics.box.map,\n",
        "        'map50':metrics.box.map50,\n",
        "        'map75':metrics.box.map75,\n",
        "        'mp':metrics.box.mp,\n",
        "'mr':metrics.box.mr,\n",
        "        'nc':metrics.box.nc,\n",
        "        'p':np.array(metrics.box.p).tolist(),\n",
        "        'r':np.array(metrics.box.r).tolist(),\n",
        "        'ap':np.array(metrics.box.ap).tolist(),\n",
        "        'ap50':np.array(metrics.box.ap50).tolist(),\n",
        "        'ap_class_index':np.array(metrics.box.ap_class_index).tolist(),\n",
        "        }\n",
        "})"
      ],
      "metadata": {
        "id": "y5oEEll4iDqZ",
        "outputId": "27d8c7ef-1ed7-4c5e-a393-4eb356c16cdb",
        "colab": {
          "base_uri": "https://localhost:8080/"
        }
      },
      "execution_count": 203,
      "outputs": [
        {
          "output_type": "execute_result",
          "data": {
            "text/plain": [
              "update_time {\n",
              "  seconds: 1726206430\n",
              "  nanos: 521243000\n",
              "}"
            ]
          },
          "metadata": {},
          "execution_count": 203
        }
      ]
    },
    {
      "cell_type": "code",
      "execution_count": 204,
      "metadata": {
        "id": "P8B6V3_wwohd",
        "outputId": "f0bdb628-e9a1-456a-a003-b837ae85ca3a",
        "colab": {
          "base_uri": "https://localhost:8080/"
        }
      },
      "outputs": [
        {
          "output_type": "execute_result",
          "data": {
            "text/plain": [
              "0.85320959220812"
            ]
          },
          "metadata": {},
          "execution_count": 204
        }
      ],
      "source": [
        "metrics.box.map50"
      ]
    },
    {
      "cell_type": "code",
      "execution_count": 205,
      "metadata": {
        "id": "ZN0NsU2kwsYW",
        "outputId": "5e0a5183-c66e-4b04-e8a0-93bc74e48bda",
        "colab": {
          "base_uri": "https://localhost:8080/"
        }
      },
      "outputs": [
        {
          "output_type": "execute_result",
          "data": {
            "text/plain": [
              "0.6901504043208593"
            ]
          },
          "metadata": {},
          "execution_count": 205
        }
      ],
      "source": [
        "metrics.box.map75"
      ]
    },
    {
      "cell_type": "code",
      "execution_count": 206,
      "metadata": {
        "id": "xaONZry0wx04",
        "outputId": "929a80bb-c94b-4d4c-a88c-4bdf7670f2c0",
        "colab": {
          "base_uri": "https://localhost:8080/"
        }
      },
      "outputs": [
        {
          "output_type": "execute_result",
          "data": {
            "text/plain": [
              "array([    0.84375,     0.45231,     0.77849,     0.23129,     0.58566,     0.80346,     0.42912,     0.80792,     0.73532,     0.84688,     0.70355,     0.59922,     0.65613,     0.52326,     0.89301,     0.56914,     0.45696,     0.52638,     0.72089,     0.26411,     0.75101,     0.74819,     0.74979,     0.48201,\n",
              "           0.63428,     0.38725,     0.34138,     0.52942,     0.73129,     0.63059,     0.51391,     0.58154])"
            ]
          },
          "metadata": {},
          "execution_count": 206
        }
      ],
      "source": [
        "metrics.box.maps"
      ]
    },
    {
      "cell_type": "markdown",
      "metadata": {
        "id": "jkbwnnv_n7Hp"
      },
      "source": [
        "#### Predict"
      ]
    },
    {
      "cell_type": "code",
      "execution_count": 209,
      "metadata": {
        "id": "xKZ8DDRumwwW",
        "outputId": "8a0b767c-72de-4865-8897-978af0c5ede3",
        "colab": {
          "base_uri": "https://localhost:8080/"
        }
      },
      "outputs": [
        {
          "metadata": {
            "tags": null
          },
          "name": "stdout",
          "output_type": "stream",
          "text": [
            "\n",
            "\n",
            "WARNING ⚠️ inference results will accumulate in RAM unless `stream=True` is passed, causing potential out-of-memory\n",
            "errors for large sources or long-running streams and videos. See https://docs.ultralytics.com/modes/predict/ for help.\n",
            "\n",
            "Example:\n",
            "    results = model(source=..., stream=True)  # generator of Results objects\n",
            "    for r in results:\n",
            "        boxes = r.boxes  # Boxes object for bbox outputs\n",
            "        masks = r.masks  # Masks object for segment masks outputs\n",
            "        probs = r.probs  # Class probabilities for classification outputs\n",
            "\n",
            "image 1/1584 /content/drive/MyDrive/AyushVision/yolo/workingdir/final/test/images/IMG-20231225-WA0147_jpg.rf.fad3861a5cb7173ed916de2d690eb0fb.jpg: 640x640 2 Holybasils, 1 Indian_Mallow, 7.8ms\n",
            "image 2/1584 /content/drive/MyDrive/AyushVision/yolo/workingdir/final/test/images/IMG-20231227-WA0057_jpg.rf.92342f1c0496e3c9ad48101f370678d8.jpg: 640x640 2 Aloveras, 8.9ms\n",
            "image 3/1584 /content/drive/MyDrive/AyushVision/yolo/workingdir/final/test/images/IMG-20240424-WA0044_jpg.rf.65cb6db7f8d31cf48b83d4288a776a19.jpg: 640x640 1 Holybasil, 7.6ms\n",
            "image 4/1584 /content/drive/MyDrive/AyushVision/yolo/workingdir/final/test/images/IMG20231224112146_jpg.rf.bdb1b8337aa0cf7dda29e0c64e3f9b42.jpg: 640x640 3 Holybasils, 1 Acalyphaindica, 7.9ms\n",
            "image 5/1584 /content/drive/MyDrive/AyushVision/yolo/workingdir/final/test/images/IMG20231224112306_jpg.rf.bfa6e34242937314d46996e7c6a7476a.jpg: 640x640 1 Holybasil, 7.4ms\n",
            "image 6/1584 /content/drive/MyDrive/AyushVision/yolo/workingdir/final/test/images/IMG20231224112704_jpg.rf.63786b09ef9536e83f43dae37fc4dca7.jpg: 640x640 1 Holybasil, 10.6ms\n",
            "image 7/1584 /content/drive/MyDrive/AyushVision/yolo/workingdir/final/test/images/IMG20231224112736_jpg.rf.2d2a9373e27629653d7130de8abf4f4a.jpg: 640x640 1 Holybasil, 7.7ms\n",
            "image 8/1584 /content/drive/MyDrive/AyushVision/yolo/workingdir/final/test/images/IMG20231224112954_jpg.rf.e70ff3a8a0a3bcaaae9c2965d5cf675b.jpg: 640x640 1 Holybasil, 9.6ms\n",
            "image 9/1584 /content/drive/MyDrive/AyushVision/yolo/workingdir/final/test/images/IMG20231224113038_jpg.rf.8299c5cbab1deaf671fc972227e3467d.jpg: 640x640 1 Holybasil, 10.7ms\n",
            "image 10/1584 /content/drive/MyDrive/AyushVision/yolo/workingdir/final/test/images/IMG20231224113121_jpg.rf.e0cfcadb3922b6200d01d056342b2231.jpg: 640x640 1 Holybasil, 7.4ms\n",
            "image 11/1584 /content/drive/MyDrive/AyushVision/yolo/workingdir/final/test/images/IMG20231224113311_jpg.rf.3fc06d95a33d0fc36e2de8f205fc78d4.jpg: 640x640 1 Holybasil, 11.7ms\n",
            "image 12/1584 /content/drive/MyDrive/AyushVision/yolo/workingdir/final/test/images/IMG20231224113412_jpg.rf.6d44915286c37fc0ca4992032903b018.jpg: 640x640 1 Holybasil, 8.5ms\n",
            "image 13/1584 /content/drive/MyDrive/AyushVision/yolo/workingdir/final/test/images/IMG20231224125103_jpg.rf.2fe8465b003bc69c2ae004219df1a281.jpg: 640x640 1 Ginger, 7.4ms\n",
            "image 14/1584 /content/drive/MyDrive/AyushVision/yolo/workingdir/final/test/images/IMG20231224125125_jpg.rf.29836b98312a6039dac47776be6a5fab.jpg: 640x640 1 Black_honey_shrub, 12.2ms\n",
            "image 15/1584 /content/drive/MyDrive/AyushVision/yolo/workingdir/final/test/images/IMG20231224125506_jpg.rf.8d50c62138dd835f2702554be3619f10.jpg: 640x640 1 Ginger, 7.4ms\n",
            "image 16/1584 /content/drive/MyDrive/AyushVision/yolo/workingdir/final/test/images/IMG20231224125651_jpg.rf.35b619bc601d4ba77c017874c7030d15.jpg: 640x640 1 Black_honey_shrub, 12.9ms\n",
            "image 17/1584 /content/drive/MyDrive/AyushVision/yolo/workingdir/final/test/images/IMG20231224125653_jpg.rf.b1a764683a1794e210a376309572cca5.jpg: 640x640 1 Black_honey_shrub, 8.8ms\n",
            "image 18/1584 /content/drive/MyDrive/AyushVision/yolo/workingdir/final/test/images/IMG20231224125704_jpg.rf.6b426bbdaf81392e1c7ffc0d69e228c2.jpg: 640x640 1 Black_honey_shrub, 9.1ms\n",
            "image 19/1584 /content/drive/MyDrive/AyushVision/yolo/workingdir/final/test/images/IMG20231224130341_jpg.rf.c91f5fa6af74e945583356ded3ea75fb.jpg: 640x640 1 Holybasil, 1 Acalyphaindica, 9.3ms\n",
            "image 20/1584 /content/drive/MyDrive/AyushVision/yolo/workingdir/final/test/images/IMG20231224130756_jpg.rf.95aa48122bce04b923d6a4ddfaefe637.jpg: 640x640 1 Holybasil, 1 Acalyphaindica, 10.5ms\n",
            "image 21/1584 /content/drive/MyDrive/AyushVision/yolo/workingdir/final/test/images/IMG20231225154248_jpg.rf.c75a152900d7038d13a8d84bdf9ded7f.jpg: 640x640 1 Betel, 8.9ms\n",
            "image 22/1584 /content/drive/MyDrive/AyushVision/yolo/workingdir/final/test/images/IMG20231225154253_jpg.rf.08fd1182827c08029d21264a7939affa.jpg: 640x640 1 Betel, 7.3ms\n",
            "image 23/1584 /content/drive/MyDrive/AyushVision/yolo/workingdir/final/test/images/IMG20231225154726_jpg.rf.471bb9041cb8a5e489b4db15cd8f232f.jpg: 640x640 1 Betel, 7.3ms\n",
            "image 24/1584 /content/drive/MyDrive/AyushVision/yolo/workingdir/final/test/images/IMG20231225154825_jpg.rf.586d3c9e5f814da0a98af81e5da34f53.jpg: 640x640 1 Betel, 7.3ms\n",
            "image 25/1584 /content/drive/MyDrive/AyushVision/yolo/workingdir/final/test/images/IMG20231225155210_jpg.rf.a52777874c34726148f44dd9e749d037.jpg: 640x640 1 Betel, 9.1ms\n",
            "image 26/1584 /content/drive/MyDrive/AyushVision/yolo/workingdir/final/test/images/IMG20231225155237_jpg.rf.5b721cd2c26a2a663f4dcd96aaf7fa78.jpg: 640x640 1 Betel, 9.5ms\n",
            "image 27/1584 /content/drive/MyDrive/AyushVision/yolo/workingdir/final/test/images/IMG20231225155443_jpg.rf.5b608b5e8010f485ff1f3c232172c557.jpg: 640x640 1 Betel, 10.2ms\n",
            "image 28/1584 /content/drive/MyDrive/AyushVision/yolo/workingdir/final/test/images/IMG20231225155842_jpg.rf.ee163ec7600bfe2f75f584f0bc9df82a.jpg: 640x640 1 Betel, 8.3ms\n",
            "image 29/1584 /content/drive/MyDrive/AyushVision/yolo/workingdir/final/test/images/IMG20231225155933_jpg.rf.439a6b0e60163efd897b92c84a9273e1.jpg: 640x640 1 Betel, 9.4ms\n",
            "image 30/1584 /content/drive/MyDrive/AyushVision/yolo/workingdir/final/test/images/IMG20231225155955_jpg.rf.1c7efcfd380983729f76c4d1292531aa.jpg: 640x640 1 Betel, 9.6ms\n",
            "image 31/1584 /content/drive/MyDrive/AyushVision/yolo/workingdir/final/test/images/IMG20231225160002_jpg.rf.c53e181f1bdee553142e6dcfc2d259d3.jpg: 640x640 1 Betel, 7.3ms\n",
            "image 32/1584 /content/drive/MyDrive/AyushVision/yolo/workingdir/final/test/images/IMG20231225160118_jpg.rf.d469d8157bda8c0fbe0d1926482a4ab5.jpg: 640x640 1 Betel, 7.3ms\n",
            "image 33/1584 /content/drive/MyDrive/AyushVision/yolo/workingdir/final/test/images/IMG20231225160150_jpg.rf.3c7242bcb329c95487649d911ed9fa33.jpg: 640x640 1 Betel, 8.5ms\n",
            "image 34/1584 /content/drive/MyDrive/AyushVision/yolo/workingdir/final/test/images/IMG20231225160302_jpg.rf.c1ef23fc09d216dc90210d48973dc15e.jpg: 640x640 1 Betel, 8.5ms\n",
            "image 35/1584 /content/drive/MyDrive/AyushVision/yolo/workingdir/final/test/images/IMG20231229163341_jpg.rf.f585bfff37af5fc135eef19af4235166.jpg: 640x640 1 Betel, 1 Long_pepper, 7.3ms\n",
            "image 36/1584 /content/drive/MyDrive/AyushVision/yolo/workingdir/final/test/images/IMG20231230123233_jpg.rf.5d920f4dc294d89c91f9535f23f529f9.jpg: 640x640 5 Long_peppers, 9.9ms\n",
            "image 37/1584 /content/drive/MyDrive/AyushVision/yolo/workingdir/final/test/images/IMG20231230123240_jpg.rf.127b24a18aad2864fb6af7be030b0653.jpg: 640x640 9 Long_peppers, 7.3ms\n",
            "image 38/1584 /content/drive/MyDrive/AyushVision/yolo/workingdir/final/test/images/IMG20231230123332_jpg.rf.d9cbe794093eb6cef6cfae4e8fef7687.jpg: 640x640 4 Long_peppers, 8.9ms\n",
            "image 39/1584 /content/drive/MyDrive/AyushVision/yolo/workingdir/final/test/images/IMG20231230123356_jpg.rf.9ea84b68b2cd131b33260fc26e805a1b.jpg: 640x640 9 Long_peppers, 7.3ms\n",
            "image 40/1584 /content/drive/MyDrive/AyushVision/yolo/workingdir/final/test/images/IMG20231230123545_jpg.rf.4a343a0724b95470eaf454bb253059e5.jpg: 640x640 8 Long_peppers, 7.3ms\n",
            "image 41/1584 /content/drive/MyDrive/AyushVision/yolo/workingdir/final/test/images/IMG20231230123556_jpg.rf.6cc28a537b2b556dbe736b5260321337.jpg: 640x640 10 Long_peppers, 9.2ms\n",
            "image 42/1584 /content/drive/MyDrive/AyushVision/yolo/workingdir/final/test/images/IMG20231230123609_jpg.rf.855ff51fb067a844e02ad8096fe085c7.jpg: 640x640 12 Long_peppers, 7.4ms\n",
            "image 43/1584 /content/drive/MyDrive/AyushVision/yolo/workingdir/final/test/images/IMG20231230123624_jpg.rf.78f4a5080c73eea6f2233d5dedacf548.jpg: 640x640 8 Long_peppers, 8.7ms\n",
            "image 44/1584 /content/drive/MyDrive/AyushVision/yolo/workingdir/final/test/images/IMG20231230123644_jpg.rf.6f772e7878f0c4723de998703b7d5450.jpg: 640x640 14 Long_peppers, 7.5ms\n",
            "image 45/1584 /content/drive/MyDrive/AyushVision/yolo/workingdir/final/test/images/IMG20231230123749_jpg.rf.d5a6aa9f59bfdb6f331407870c19fcd9.jpg: 640x640 17 Long_peppers, 9.9ms\n",
            "image 46/1584 /content/drive/MyDrive/AyushVision/yolo/workingdir/final/test/images/IMG20231230123754_jpg.rf.fb1832322b56ec79b5cc3d3c66f74e79.jpg: 640x640 13 Long_peppers, 8.1ms\n",
            "image 47/1584 /content/drive/MyDrive/AyushVision/yolo/workingdir/final/test/images/IMG20240106142634_jpg.rf.ac73390d5eaa249e775a29869b31189f.jpg: 640x640 1 Alovera, 8.3ms\n",
            "image 48/1584 /content/drive/MyDrive/AyushVision/yolo/workingdir/final/test/images/IMG20240106142635_jpg.rf.679e04629985f70c5818baaf0f8434d8.jpg: 640x640 1 Alovera, 8.7ms\n",
            "image 49/1584 /content/drive/MyDrive/AyushVision/yolo/workingdir/final/test/images/IMG20240117142004_02_jpg.rf.d1469b810d3da8cfef769547daffef6a.jpg: 640x640 1 Black_honey_shrub, 2 Ringworm_plants, 7.6ms\n",
            "image 50/1584 /content/drive/MyDrive/AyushVision/yolo/workingdir/final/test/images/IMG20240117142004_03_jpg.rf.3cb9caf779aa21b18cdb3981f9f23ed3.jpg: 640x640 1 Black_honey_shrub, 1 Ringworm_plant, 9.4ms\n",
            "image 51/1584 /content/drive/MyDrive/AyushVision/yolo/workingdir/final/test/images/IMG20240117142015_jpg.rf.96e2023c404d7b58162f56e210055502.jpg: 640x640 1 Ringworm_plant, 7.3ms\n",
            "image 52/1584 /content/drive/MyDrive/AyushVision/yolo/workingdir/final/test/images/IMG20240117142016_01_jpg.rf.5d41e0cf4107444c7f1e2f26b4f415a8.jpg: 640x640 1 Ringworm_plant, 7.3ms\n",
            "image 53/1584 /content/drive/MyDrive/AyushVision/yolo/workingdir/final/test/images/IMG20240117142127_jpg.rf.9bd19648eb25025a40ffdd5ef294e713.jpg: 640x640 4 Ringworm_plants, 7.3ms\n",
            "image 54/1584 /content/drive/MyDrive/AyushVision/yolo/workingdir/final/test/images/IMG20240117142210_jpg.rf.900ea244d232605e10fd115cca138308.jpg: 640x640 1 Ringworm_plant, 8.6ms\n",
            "image 55/1584 /content/drive/MyDrive/AyushVision/yolo/workingdir/final/test/images/IMG20240117142407_jpg.rf.18b6c7422d8a8059d4265bfbabb7417f.jpg: 640x640 1 Ringworm_plant, 7.5ms\n",
            "image 56/1584 /content/drive/MyDrive/AyushVision/yolo/workingdir/final/test/images/IMG20240117142657_01_jpg.rf.d02196b6b1474d6b330d25233bdc8db5.jpg: 640x640 1 Caster, 8.0ms\n",
            "image 57/1584 /content/drive/MyDrive/AyushVision/yolo/workingdir/final/test/images/IMG20240117142919_jpg.rf.374ae555b1a2c87268d0c27f73b3b3f8.jpg: 640x640 1 Caster, 10.5ms\n",
            "image 58/1584 /content/drive/MyDrive/AyushVision/yolo/workingdir/final/test/images/IMG20240117142925_01_jpg.rf.9af847926f29e3ff8aec3c9e1b79119b.jpg: 640x640 2 Casters, 7.7ms\n",
            "image 59/1584 /content/drive/MyDrive/AyushVision/yolo/workingdir/final/test/images/IMG20240117142933_jpg.rf.0f6c43e76e66c8e3ac7984f6a6ce55bb.jpg: 640x640 2 Casters, 7.3ms\n",
            "image 60/1584 /content/drive/MyDrive/AyushVision/yolo/workingdir/final/test/images/IMG20240117142950_jpg.rf.7f7392fa8628993d2e78df4ddfaecf40.jpg: 640x640 1 Alovera, 8.0ms\n",
            "image 61/1584 /content/drive/MyDrive/AyushVision/yolo/workingdir/final/test/images/IMG20240121135259_jpg.rf.8e157fd1f7b8507ba6494be714f17783.jpg: 640x640 1 Oregano, 7.4ms\n",
            "image 62/1584 /content/drive/MyDrive/AyushVision/yolo/workingdir/final/test/images/IMG20240121135508_jpg.rf.7c77346b206e0d2b3c00bd2c5ff2c2d8.jpg: 640x640 1 Oregano, 10.7ms\n",
            "image 63/1584 /content/drive/MyDrive/AyushVision/yolo/workingdir/final/test/images/IMG20240121135750_jpg.rf.46b26a1063334cb04b6e1c5e18bda2bd.jpg: 640x640 1 Oregano, 9.6ms\n",
            "image 64/1584 /content/drive/MyDrive/AyushVision/yolo/workingdir/final/test/images/IMG20240121135927_jpg.rf.ec132fcf6085593cd1ece5c2df4ee57c.jpg: 640x640 1 Oregano, 8.2ms\n",
            "image 65/1584 /content/drive/MyDrive/AyushVision/yolo/workingdir/final/test/images/IMG20240121135937_jpg.rf.00d2392f0edde9a57575d8fb4e6ca74a.jpg: 640x640 1 Oregano, 7.3ms\n",
            "image 66/1584 /content/drive/MyDrive/AyushVision/yolo/workingdir/final/test/images/IMG20240121135940_jpg.rf.865456b7a5041a43d5e1c02a90fbec79.jpg: 640x640 1 Oregano, 8.7ms\n",
            "image 67/1584 /content/drive/MyDrive/AyushVision/yolo/workingdir/final/test/images/IMG20240121140009_jpg.rf.cbef2a79f618b3d5ccbf8d467369085c.jpg: 640x640 1 Oregano, 8.7ms\n",
            "image 68/1584 /content/drive/MyDrive/AyushVision/yolo/workingdir/final/test/images/IMG20240121140021_jpg.rf.ca38f686a5a8f11836f48196d46f0960.jpg: 640x640 1 Oregano, 7.3ms\n",
            "image 69/1584 /content/drive/MyDrive/AyushVision/yolo/workingdir/final/test/images/IMG20240121150736_jpg.rf.4df770dbd8df3e4034a2fa2b46ab196b.jpg: 640x640 1 Oregano, 11.9ms\n",
            "image 70/1584 /content/drive/MyDrive/AyushVision/yolo/workingdir/final/test/images/IMG20240121150800_jpg.rf.7b484a28619863915192888bb633d5fd.jpg: 640x640 1 Oregano, 8.4ms\n",
            "image 71/1584 /content/drive/MyDrive/AyushVision/yolo/workingdir/final/test/images/IMG20240121151006_jpg.rf.a464d61afd50003834d600813d920349.jpg: 640x640 1 Oregano, 7.6ms\n",
            "image 72/1584 /content/drive/MyDrive/AyushVision/yolo/workingdir/final/test/images/IMG20240121151035_jpg.rf.65a5946541f45cac91f383d8fbe5b8a1.jpg: 640x640 1 Oregano, 7.3ms\n",
            "image 73/1584 /content/drive/MyDrive/AyushVision/yolo/workingdir/final/test/images/IMG20240121151044_jpg.rf.73fbd0ea3a4436739afb15ee98c4ec1d.jpg: 640x640 1 Oregano, 7.3ms\n",
            "image 74/1584 /content/drive/MyDrive/AyushVision/yolo/workingdir/final/test/images/IMG20240121151226_jpg.rf.a2e2a16ade723a2e509bc3711ed342ad.jpg: 640x640 1 Oregano, 7.3ms\n",
            "image 75/1584 /content/drive/MyDrive/AyushVision/yolo/workingdir/final/test/images/IMG20240121151344_jpg.rf.eb99b625cfa5a9358312fd455521c698.jpg: 640x640 1 Oregano, 7.8ms\n",
            "image 76/1584 /content/drive/MyDrive/AyushVision/yolo/workingdir/final/test/images/IMG20240208171550_jpg.rf.73c0ef25be45216ab8cb7b02889a5f82.jpg: 640x640 1 Alovera, 8.4ms\n",
            "image 77/1584 /content/drive/MyDrive/AyushVision/yolo/workingdir/final/test/images/IMG20240208200538_jpg.rf.6b3b30067fcd84d43d11eb0e824082d3.jpg: 640x640 1 Henna, 7.3ms\n",
            "image 78/1584 /content/drive/MyDrive/AyushVision/yolo/workingdir/final/test/images/IMG20240208200655_jpg.rf.f67aa95af70ce7f30e7af8034b21a829.jpg: 640x640 1 Henna, 7.3ms\n",
            "image 79/1584 /content/drive/MyDrive/AyushVision/yolo/workingdir/final/test/images/IMG20240208201607_jpg.rf.fc9e7d01362c7a9414be357f59760c1f.jpg: 640x640 1 Henna, 7.3ms\n",
            "image 80/1584 /content/drive/MyDrive/AyushVision/yolo/workingdir/final/test/images/IMG20240208201855_jpg.rf.0974f403a08fa2ce0f925e1163cb9a50.jpg: 640x640 1 Henna, 7.3ms\n",
            "image 81/1584 /content/drive/MyDrive/AyushVision/yolo/workingdir/final/test/images/IMG20240208202958_jpg.rf.30f4dedb3db4fab79ce9a107b59930a7.jpg: 640x640 1 Henna, 7.3ms\n",
            "image 82/1584 /content/drive/MyDrive/AyushVision/yolo/workingdir/final/test/images/IMG20240208203117_jpg.rf.9adc5247566720452e9b50c3b361105e.jpg: 640x640 1 Henna, 7.3ms\n",
            "image 83/1584 /content/drive/MyDrive/AyushVision/yolo/workingdir/final/test/images/IMG20240208203202_jpg.rf.20d61a2435ea25711ad485cbd6b2c45e.jpg: 640x640 1 Henna, 7.3ms\n",
            "image 84/1584 /content/drive/MyDrive/AyushVision/yolo/workingdir/final/test/images/IMG20240208203239_jpg.rf.9b74ee84ebc18bdaf8543f98fb3c062d.jpg: 640x640 1 Henna, 7.3ms\n",
            "image 85/1584 /content/drive/MyDrive/AyushVision/yolo/workingdir/final/test/images/IMG20240208203249_jpg.rf.1a84f8e3760491ef78f018b3d6998b10.jpg: 640x640 1 Henna, 9.0ms\n",
            "image 86/1584 /content/drive/MyDrive/AyushVision/yolo/workingdir/final/test/images/IMG20240208204146_jpg.rf.6691ecf93107258c35ff3207420b5566.jpg: 640x640 1 Henna, 11.1ms\n",
            "image 87/1584 /content/drive/MyDrive/AyushVision/yolo/workingdir/final/test/images/IMG20240208204214_jpg.rf.ee1243cd84d61a66dee82ac3e36a2c67.jpg: 640x640 1 Henna, 7.7ms\n",
            "image 88/1584 /content/drive/MyDrive/AyushVision/yolo/workingdir/final/test/images/IMG20240208204429_jpg.rf.dcb3e12bf0f220cfafd941d99c8b6e0e.jpg: 640x640 1 Henna, 7.3ms\n",
            "image 89/1584 /content/drive/MyDrive/AyushVision/yolo/workingdir/final/test/images/IMG20240208204512_jpg.rf.83c2274bda5ab4b3389bd6a4ca253682.jpg: 640x640 2 Hennas, 7.3ms\n",
            "image 90/1584 /content/drive/MyDrive/AyushVision/yolo/workingdir/final/test/images/IMG20240208204550_jpg.rf.878b136a4935807234870f6cf1b9dee0.jpg: 640x640 1 Henna, 7.3ms\n",
            "image 91/1584 /content/drive/MyDrive/AyushVision/yolo/workingdir/final/test/images/IMG20240208204611_jpg.rf.e994fd9b9708ecd4e80bb671057c8cae.jpg: 640x640 1 Henna, 7.3ms\n",
            "image 92/1584 /content/drive/MyDrive/AyushVision/yolo/workingdir/final/test/images/IMG20240208204613_jpg.rf.2f89843c0837c2bb27db9f0316109fd4.jpg: 640x640 1 Henna, 7.3ms\n",
            "image 93/1584 /content/drive/MyDrive/AyushVision/yolo/workingdir/final/test/images/IMG20240208204637_jpg.rf.b70e83b54c5cd9caec0060cc6c26e710.jpg: 640x640 1 Henna, 7.3ms\n",
            "image 94/1584 /content/drive/MyDrive/AyushVision/yolo/workingdir/final/test/images/IMG20240208204713_jpg.rf.14f0d1d56be37a3598a402618b4d37e4.jpg: 640x640 1 Henna, 7.3ms\n",
            "image 95/1584 /content/drive/MyDrive/AyushVision/yolo/workingdir/final/test/images/IMG20240208205337_jpg.rf.830d0e053cf8b53ef55a1f94274b45f4.jpg: 640x640 1 Henna, 7.3ms\n",
            "image 96/1584 /content/drive/MyDrive/AyushVision/yolo/workingdir/final/test/images/IMG20240208205632_jpg.rf.60e2b2200bbdfaf45887cee6896eeddb.jpg: 640x640 1 Henna, 7.3ms\n",
            "image 97/1584 /content/drive/MyDrive/AyushVision/yolo/workingdir/final/test/images/IMG20240208205713_jpg.rf.76c293a2864d430ebbb4147a389dc9b3.jpg: 640x640 1 Henna, 10.2ms\n",
            "image 98/1584 /content/drive/MyDrive/AyushVision/yolo/workingdir/final/test/images/IMG20240208205800_jpg.rf.d6ce95db54a0839b5a7397342016e244.jpg: 640x640 1 Henna, 7.3ms\n",
            "image 99/1584 /content/drive/MyDrive/AyushVision/yolo/workingdir/final/test/images/IMG20240208205821_jpg.rf.c0f64209ee217383bc94e913e0d039a6.jpg: 640x640 2 Hennas, 7.3ms\n",
            "image 100/1584 /content/drive/MyDrive/AyushVision/yolo/workingdir/final/test/images/IMG20240209102644_jpg.rf.93a20cd7b8d1d2aa5957f44f6e77977d.jpg: 640x640 1 Cinnamon, 7.3ms\n",
            "image 101/1584 /content/drive/MyDrive/AyushVision/yolo/workingdir/final/test/images/IMG20240209104030_jpg.rf.3981315934d5e29ecca6ede963803202.jpg: 640x640 1 Cinnamon, 7.3ms\n",
            "image 102/1584 /content/drive/MyDrive/AyushVision/yolo/workingdir/final/test/images/IMG20240209104039_jpg.rf.283e8e62681790e4e5e6d055f18b8b29.jpg: 640x640 1 Cinnamon, 7.3ms\n",
            "image 103/1584 /content/drive/MyDrive/AyushVision/yolo/workingdir/final/test/images/IMG20240209104044_jpg.rf.808455c26744e3c99305ac44473671cb.jpg: 640x640 1 Cinnamon, 7.3ms\n",
            "image 104/1584 /content/drive/MyDrive/AyushVision/yolo/workingdir/final/test/images/IMG20240209104052_jpg.rf.daad7d112af67ad0733099c6db30c4ad.jpg: 640x640 1 Cinnamon, 7.3ms\n",
            "image 105/1584 /content/drive/MyDrive/AyushVision/yolo/workingdir/final/test/images/IMG20240209131740_jpg.rf.288f5246ffa6ee300eca1ecc2b3ea4b8.jpg: 640x640 1 Redpea_egg_plant, 7.3ms\n",
            "image 106/1584 /content/drive/MyDrive/AyushVision/yolo/workingdir/final/test/images/IMG20240209131744_jpg.rf.6189ad541fdf779226ae904c82990a28.jpg: 640x640 1 Redpea_egg_plant, 7.3ms\n",
            "image 107/1584 /content/drive/MyDrive/AyushVision/yolo/workingdir/final/test/images/IMG20240209193554_jpg.rf.13f5019112fe1072eb3d52b0ffd514cf.jpg: 640x640 1 Redpea_egg_plant, 7.3ms\n",
            "image 108/1584 /content/drive/MyDrive/AyushVision/yolo/workingdir/final/test/images/IMG20240209193800_jpg.rf.c8f23dcabd86aa23d0393051a3e51828.jpg: 640x640 (no detections), 8.0ms\n",
            "image 109/1584 /content/drive/MyDrive/AyushVision/yolo/workingdir/final/test/images/IMG20240209194146_jpg.rf.d7a81ad365486e0df4989faeab421f1b.jpg: 640x640 1 Redpea_egg_plant, 9.5ms\n",
            "image 110/1584 /content/drive/MyDrive/AyushVision/yolo/workingdir/final/test/images/IMG20240209195127_jpg.rf.19c55e9a8d0edee40e25c9b010ef4386.jpg: 640x640 1 Redpea_egg_plant, 7.3ms\n",
            "image 111/1584 /content/drive/MyDrive/AyushVision/yolo/workingdir/final/test/images/IMG20240209195150_jpg.rf.f2a9754a9d5a0102cca7fa2d82eaabc3.jpg: 640x640 1 Redpea_egg_plant, 8.0ms\n",
            "image 112/1584 /content/drive/MyDrive/AyushVision/yolo/workingdir/final/test/images/IMG20240209195156_jpg.rf.575f20bc138af545a11e88202c5b3fc9.jpg: 640x640 1 Redpea_egg_plant, 8.4ms\n",
            "image 113/1584 /content/drive/MyDrive/AyushVision/yolo/workingdir/final/test/images/IMG20240209195522_jpg.rf.e26ca9b838da4bfe2f59566f01b5b1b9.jpg: 640x640 1 Redpea_egg_plant, 9.4ms\n",
            "image 114/1584 /content/drive/MyDrive/AyushVision/yolo/workingdir/final/test/images/IMG20240209195528_jpg.rf.32c306fe743ded10e85dfc59b34643f4.jpg: 640x640 1 Redpea_egg_plant, 9.1ms\n",
            "image 115/1584 /content/drive/MyDrive/AyushVision/yolo/workingdir/final/test/images/IMG20240210091448_jpg.rf.4b24a3807f8fcd5a9c5f0f42d25acad0.jpg: 640x640 1 Redpea_egg_plant, 7.1ms\n",
            "image 116/1584 /content/drive/MyDrive/AyushVision/yolo/workingdir/final/test/images/IMG20240210091742_jpg.rf.920df9d075300cf28e37864e4fff64e3.jpg: 640x640 1 Redpea_egg_plant, 7.1ms\n",
            "image 117/1584 /content/drive/MyDrive/AyushVision/yolo/workingdir/final/test/images/IMG20240210091829_jpg.rf.5f4e4e3569b47463ebc0a7d13ac6663c.jpg: 640x640 1 Redpea_egg_plant, 7.1ms\n",
            "image 118/1584 /content/drive/MyDrive/AyushVision/yolo/workingdir/final/test/images/IMG20240210091846_jpg.rf.e901388f640c3ec8d101fc8215fa776d.jpg: 640x640 1 Redpea_egg_plant, 7.2ms\n",
            "image 119/1584 /content/drive/MyDrive/AyushVision/yolo/workingdir/final/test/images/IMG20240210091901_jpg.rf.9c97f62d3a5a23934982d506ce0f1ff5.jpg: 640x640 1 Redpea_egg_plant, 7.1ms\n",
            "image 120/1584 /content/drive/MyDrive/AyushVision/yolo/workingdir/final/test/images/IMG20240210092013_jpg.rf.9fd56131b75fbf2b9498335298f19750.jpg: 640x640 1 Redpea_egg_plant, 7.1ms\n",
            "image 121/1584 /content/drive/MyDrive/AyushVision/yolo/workingdir/final/test/images/IMG20240210092214_jpg.rf.f4cafecf339dc1756819c5e19de6324b.jpg: 640x640 6 Redpea_egg_plants, 7.1ms\n",
            "image 122/1584 /content/drive/MyDrive/AyushVision/yolo/workingdir/final/test/images/IMG20240210092340_jpg.rf.848178f471f95aa1ac88a0e758b400c0.jpg: 640x640 1 Redpea_egg_plant, 9.4ms\n",
            "image 123/1584 /content/drive/MyDrive/AyushVision/yolo/workingdir/final/test/images/IMG20240210092429_jpg.rf.042cc2f0287fe72910325a46e5f8afac.jpg: 640x640 1 Redpea_egg_plant, 7.1ms\n",
            "image 124/1584 /content/drive/MyDrive/AyushVision/yolo/workingdir/final/test/images/IMG20240210092723_jpg.rf.030bdd2863bd7cb364e9c750748cf39d.jpg: 640x640 1 Redpea_egg_plant, 8.7ms\n",
            "image 125/1584 /content/drive/MyDrive/AyushVision/yolo/workingdir/final/test/images/IMG20240210092741_jpg.rf.9f1fc4f33b6dba3c113d306a878f1224.jpg: 640x640 1 Redpea_egg_plant, 7.2ms\n",
            "image 126/1584 /content/drive/MyDrive/AyushVision/yolo/workingdir/final/test/images/IMG20240210092746_jpg.rf.84509760fe8cbced0e5f09380b83ab02.jpg: 640x640 1 Redpea_egg_plant, 7.1ms\n",
            "image 127/1584 /content/drive/MyDrive/AyushVision/yolo/workingdir/final/test/images/IMG20240210093256_jpg.rf.4c128254caefdeec8ebf04f73db92a0c.jpg: 640x640 1 Redpea_egg_plant, 9.0ms\n",
            "image 128/1584 /content/drive/MyDrive/AyushVision/yolo/workingdir/final/test/images/IMG20240210093315_jpg.rf.c042ad90c040536770920ade8fb2454d.jpg: 640x640 1 Redpea_egg_plant, 8.1ms\n",
            "image 129/1584 /content/drive/MyDrive/AyushVision/yolo/workingdir/final/test/images/IMG20240210093328_jpg.rf.a99ba7bd2ded7aef5aadcf1b1b733029.jpg: 640x640 1 Redpea_egg_plant, 7.7ms\n",
            "image 130/1584 /content/drive/MyDrive/AyushVision/yolo/workingdir/final/test/images/IMG20240210093359_jpg.rf.1c7787c59de4e42205383d870e92441e.jpg: 640x640 1 Redpea_egg_plant, 8.0ms\n",
            "image 131/1584 /content/drive/MyDrive/AyushVision/yolo/workingdir/final/test/images/IMG20240210093451_jpg.rf.b6d5f6b62f5c745a57d90cb674efd026.jpg: 640x640 1 Redpea_egg_plant, 7.2ms\n",
            "image 132/1584 /content/drive/MyDrive/AyushVision/yolo/workingdir/final/test/images/IMG20240210093641_jpg.rf.b045f8e58fe3d95d5207d90775b47578.jpg: 640x640 1 Redpea_egg_plant, 7.3ms\n",
            "image 133/1584 /content/drive/MyDrive/AyushVision/yolo/workingdir/final/test/images/IMG20240210093658_jpg.rf.5c7c645224211daf25437d43f1785f0a.jpg: 640x640 2 Redpea_egg_plants, 7.1ms\n",
            "image 134/1584 /content/drive/MyDrive/AyushVision/yolo/workingdir/final/test/images/IMG20240210094548_jpg.rf.9e8f35862e061cf547f4817f05112d83.jpg: 640x640 1 Adamant_Creeper, 1 Redpea_egg_plant, 11.5ms\n",
            "image 135/1584 /content/drive/MyDrive/AyushVision/yolo/workingdir/final/test/images/IMG20240210094720_jpg.rf.ed547cd5ac85fa6134cfb1a1d7b5b5c5.jpg: 640x640 1 Redpea_egg_plant, 7.2ms\n",
            "image 136/1584 /content/drive/MyDrive/AyushVision/yolo/workingdir/final/test/images/IMG20240210094724_jpg.rf.40d7ee52e4c5b193f6035db1758c8bb5.jpg: 640x640 1 Adamant_Creeper, 7.4ms\n",
            "image 137/1584 /content/drive/MyDrive/AyushVision/yolo/workingdir/final/test/images/IMG20240210094732_jpg.rf.9e1a2bcaabd1975ee90f933af56bc717.jpg: 640x640 1 Redpea_egg_plant, 9.3ms\n",
            "image 138/1584 /content/drive/MyDrive/AyushVision/yolo/workingdir/final/test/images/IMG20240210094748_jpg.rf.3d022800feaf0cf40cb36025d7dc9e27.jpg: 640x640 1 Redpea_egg_plant, 10.5ms\n",
            "image 139/1584 /content/drive/MyDrive/AyushVision/yolo/workingdir/final/test/images/IMG20240210094754_jpg.rf.de1a4615f07f78b1047b864453e69f21.jpg: 640x640 1 Redpea_egg_plant, 7.7ms\n",
            "image 140/1584 /content/drive/MyDrive/AyushVision/yolo/workingdir/final/test/images/IMG20240210094800_jpg.rf.bca368cf619158b6973af9821b26813a.jpg: 640x640 1 Redpea_egg_plant, 7.4ms\n",
            "image 141/1584 /content/drive/MyDrive/AyushVision/yolo/workingdir/final/test/images/IMG20240210094829_jpg.rf.b60efc8c790ca5a36ff048058a265fba.jpg: 640x640 1 Redpea_egg_plant, 7.5ms\n",
            "image 142/1584 /content/drive/MyDrive/AyushVision/yolo/workingdir/final/test/images/IMG20240210094901_jpg.rf.c5bea3839cd5bdba03e4213a4b173077.jpg: 640x640 1 Redpea_egg_plant, 7.3ms\n",
            "image 143/1584 /content/drive/MyDrive/AyushVision/yolo/workingdir/final/test/images/IMG20240210094920_jpg.rf.8a49a584e88863b8e0c71ad8c2da9eb4.jpg: 640x640 1 Redpea_egg_plant, 12.2ms\n",
            "image 144/1584 /content/drive/MyDrive/AyushVision/yolo/workingdir/final/test/images/IMG20240210095136_jpg.rf.13787d528e4a755ff6399824b925a256.jpg: 640x640 1 Redpea_egg_plant, 7.3ms\n",
            "image 145/1584 /content/drive/MyDrive/AyushVision/yolo/workingdir/final/test/images/IMG20240210095238_jpg.rf.86594e072a93103113791f504e5e0041.jpg: 640x640 6 Redpea_egg_plants, 7.7ms\n",
            "image 146/1584 /content/drive/MyDrive/AyushVision/yolo/workingdir/final/test/images/IMG20240210095242_jpg.rf.f784ad18dc1975666d90496ba1cb34c0.jpg: 640x640 4 Redpea_egg_plants, 9.0ms\n",
            "image 147/1584 /content/drive/MyDrive/AyushVision/yolo/workingdir/final/test/images/IMG20240210095253_jpg.rf.42b62628f1c8e813fdf2c86c50297c4a.jpg: 640x640 1 Redpea_egg_plant, 7.3ms\n",
            "image 148/1584 /content/drive/MyDrive/AyushVision/yolo/workingdir/final/test/images/IMG20240210095338_jpg.rf.485c234f91bdcbd6d5905419a091dcf6.jpg: 640x640 1 Redpea_egg_plant, 7.3ms\n",
            "image 149/1584 /content/drive/MyDrive/AyushVision/yolo/workingdir/final/test/images/IMG20240210095416_jpg.rf.acc3ddaadfe3a6a2bb22a5381ac5c9be.jpg: 640x640 1 Redpea_egg_plant, 7.3ms\n",
            "image 150/1584 /content/drive/MyDrive/AyushVision/yolo/workingdir/final/test/images/IMG20240210095634_jpg.rf.bab7dffe484f24bb68909da5b19b51f0.jpg: 640x640 1 Redpea_egg_plant, 7.3ms\n",
            "image 151/1584 /content/drive/MyDrive/AyushVision/yolo/workingdir/final/test/images/IMG20240210095653_jpg.rf.e5d11796441ff0259ba933f10f06c035.jpg: 640x640 1 Redpea_egg_plant, 9.0ms\n",
            "image 152/1584 /content/drive/MyDrive/AyushVision/yolo/workingdir/final/test/images/IMG20240210095915_jpg.rf.2823839e5a8a87d1f97a2f976a01771f.jpg: 640x640 1 Redpea_egg_plant, 9.4ms\n",
            "image 153/1584 /content/drive/MyDrive/AyushVision/yolo/workingdir/final/test/images/IMG20240210100206_jpg.rf.6d1357f7ba52742d3ac3aa838fc8b41c.jpg: 640x640 1 Henna, 4 Redpea_egg_plants, 10.9ms\n",
            "image 154/1584 /content/drive/MyDrive/AyushVision/yolo/workingdir/final/test/images/IMG20240210100222_jpg.rf.de953d836033d76393223a8895452bbc.jpg: 640x640 8 Redpea_egg_plants, 10.5ms\n",
            "image 155/1584 /content/drive/MyDrive/AyushVision/yolo/workingdir/final/test/images/IMG20240210103313_jpg.rf.6a2049fbc08e03b0cf9ac5846b38389f.jpg: 640x640 1 Ginger, 12.8ms\n",
            "image 156/1584 /content/drive/MyDrive/AyushVision/yolo/workingdir/final/test/images/IMG20240210103334_jpg.rf.38740ecb998d2ef760bfcf5d51515e35.jpg: 640x640 2 Gingers, 7.3ms\n",
            "image 157/1584 /content/drive/MyDrive/AyushVision/yolo/workingdir/final/test/images/IMG20240210103912_jpg.rf.af7f4b888f0f3e098157717e910f200c.jpg: 640x640 1 Ginger, 7.3ms\n",
            "image 158/1584 /content/drive/MyDrive/AyushVision/yolo/workingdir/final/test/images/IMG20240210103928_jpg.rf.cab28678199a1ec15f88b02c7a10b31f.jpg: 640x640 1 Ginger, 8.6ms\n",
            "image 159/1584 /content/drive/MyDrive/AyushVision/yolo/workingdir/final/test/images/IMG20240210103939_jpg.rf.efdb28cc0881e2d847bd6b42c2c7ee70.jpg: 640x640 1 Ginger, 8.7ms\n",
            "image 160/1584 /content/drive/MyDrive/AyushVision/yolo/workingdir/final/test/images/IMG20240210104042_jpg.rf.ca1e244350713cdadcb8c03092c1823b.jpg: 640x640 1 Ginger, 8.1ms\n",
            "image 161/1584 /content/drive/MyDrive/AyushVision/yolo/workingdir/final/test/images/IMG20240210104054_jpg.rf.dc90035e0cd9cc3624602ad500c8bf40.jpg: 640x640 1 Ginger, 7.7ms\n",
            "image 162/1584 /content/drive/MyDrive/AyushVision/yolo/workingdir/final/test/images/IMG20240210104114_jpg.rf.98195adf1070ef4e35af642ad4edcd26.jpg: 640x640 1 Ginger, 7.3ms\n",
            "image 163/1584 /content/drive/MyDrive/AyushVision/yolo/workingdir/final/test/images/IMG20240210104247_jpg.rf.61c15a3c284f6b6eed260aab5c870625.jpg: 640x640 1 Ginger, 7.3ms\n",
            "image 164/1584 /content/drive/MyDrive/AyushVision/yolo/workingdir/final/test/images/IMG20240210104327_jpg.rf.896407015cc4ae6f5ef96466eae15cd2.jpg: 640x640 1 Ginger, 7.3ms\n",
            "image 165/1584 /content/drive/MyDrive/AyushVision/yolo/workingdir/final/test/images/IMG20240210104408_jpg.rf.075ec19bb0ff67f706e4a0a8cda5a41d.jpg: 640x640 1 Ginger, 7.5ms\n",
            "image 166/1584 /content/drive/MyDrive/AyushVision/yolo/workingdir/final/test/images/IMG20240210104415_jpg.rf.f0ca67d6fe84a602374c9a431644c351.jpg: 640x640 1 Ginger, 7.4ms\n",
            "image 167/1584 /content/drive/MyDrive/AyushVision/yolo/workingdir/final/test/images/IMG20240210104612_jpg.rf.82de0030c761a79febb8a74fd1377b13.jpg: 640x640 1 Ginger, 7.3ms\n",
            "image 168/1584 /content/drive/MyDrive/AyushVision/yolo/workingdir/final/test/images/IMG20240210104616_jpg.rf.8702369306fd9fd89f0efe9d6d3bc366.jpg: 640x640 1 Ginger, 7.3ms\n",
            "image 169/1584 /content/drive/MyDrive/AyushVision/yolo/workingdir/final/test/images/IMG20240210105327_jpg.rf.51e7fbf03cdeafcbd9b686aa6370f301.jpg: 640x640 1 Ginger, 10.5ms\n",
            "image 170/1584 /content/drive/MyDrive/AyushVision/yolo/workingdir/final/test/images/IMG20240210105419_jpg.rf.3d9a71b594c26b1dc8ba30b6a5d04cfa.jpg: 640x640 1 Ginger, 7.3ms\n",
            "image 171/1584 /content/drive/MyDrive/AyushVision/yolo/workingdir/final/test/images/IMG20240210105934_jpg.rf.0510217c323915edabae8b69ac67fe99.jpg: 640x640 1 Ginger, 10.5ms\n",
            "image 172/1584 /content/drive/MyDrive/AyushVision/yolo/workingdir/final/test/images/IMG20240210110110_jpg.rf.ec771b35662b8ee08c326ff14b2f11c7.jpg: 640x640 1 Ginger, 7.3ms\n",
            "image 173/1584 /content/drive/MyDrive/AyushVision/yolo/workingdir/final/test/images/IMG20240210111948_jpg.rf.6c06bdae972227278f2033b239a139ee.jpg: 640x640 1 Ginger, 7.3ms\n",
            "image 174/1584 /content/drive/MyDrive/AyushVision/yolo/workingdir/final/test/images/IMG20240210113317_jpg.rf.054a7d9e57f2a2892823c47b67b2b11c.jpg: 640x640 1 Ginger, 7.3ms\n",
            "image 175/1584 /content/drive/MyDrive/AyushVision/yolo/workingdir/final/test/images/IMG20240210113427_jpg.rf.661ed9010ef15d813be100c9e9d24f42.jpg: 640x640 1 Ginger, 7.3ms\n",
            "image 176/1584 /content/drive/MyDrive/AyushVision/yolo/workingdir/final/test/images/IMG20240210113636_jpg.rf.ab9313eaa29651073888a68b2ad66ef1.jpg: 640x640 1 Ginger, 8.7ms\n",
            "image 177/1584 /content/drive/MyDrive/AyushVision/yolo/workingdir/final/test/images/IMG20240210113819_jpg.rf.32ab81b483c81a0aab5145d753ad27ed.jpg: 640x640 1 Ginger, 7.3ms\n",
            "image 178/1584 /content/drive/MyDrive/AyushVision/yolo/workingdir/final/test/images/IMG20240210150348_jpg.rf.e153eea44f426b19214be3fd49a2c9a2.jpg: 640x640 1 Betel, 7.3ms\n",
            "image 179/1584 /content/drive/MyDrive/AyushVision/yolo/workingdir/final/test/images/IMG20240210150412_jpg.rf.c4f62e5b748397a6181f540cd289be32.jpg: 640x640 1 Betel, 1 Landrina, 9.5ms\n",
            "image 180/1584 /content/drive/MyDrive/AyushVision/yolo/workingdir/final/test/images/IMG20240210150509_jpg.rf.2eee7a2c5215697a0dae118f883b6f3d.jpg: 640x640 1 Betel, 8.4ms\n",
            "image 181/1584 /content/drive/MyDrive/AyushVision/yolo/workingdir/final/test/images/IMG20240210150707_jpg.rf.e583c5ad7330e656815966fb17df61ed.jpg: 640x640 1 Betel, 7.3ms\n",
            "image 182/1584 /content/drive/MyDrive/AyushVision/yolo/workingdir/final/test/images/IMG20240210150911_jpg.rf.4f754bc8e9aeed3856fb42e70d443f68.jpg: 640x640 1 Betel, 7.3ms\n",
            "image 183/1584 /content/drive/MyDrive/AyushVision/yolo/workingdir/final/test/images/IMG20240210151922_jpg.rf.34d3aa4baa3c7f148a2d50bef30e41e1.jpg: 640x640 1 Betel, 1 Long_pepper, 9.9ms\n",
            "image 184/1584 /content/drive/MyDrive/AyushVision/yolo/workingdir/final/test/images/IMG20240210153456_jpg.rf.dddd2d6b6847ad92d083f25472d2f8d0.jpg: 640x640 1 Betel, 7.3ms\n",
            "image 185/1584 /content/drive/MyDrive/AyushVision/yolo/workingdir/final/test/images/IMG20240210153524_jpg.rf.714ace0b4ec05e316b3aa5b8843208c0.jpg: 640x640 1 Betel, 9.8ms\n",
            "image 186/1584 /content/drive/MyDrive/AyushVision/yolo/workingdir/final/test/images/IMG20240210153556_jpg.rf.c97addca0ef26ffa628c6326e66962db.jpg: 640x640 1 Betel, 7.3ms\n",
            "image 187/1584 /content/drive/MyDrive/AyushVision/yolo/workingdir/final/test/images/IMG20240210153600_jpg.rf.c96d446e0022927e37c513a852c022fa.jpg: 640x640 1 Betel, 7.3ms\n",
            "image 188/1584 /content/drive/MyDrive/AyushVision/yolo/workingdir/final/test/images/IMG20240210153835_jpg.rf.81df9397d3352eecef65c7eba8b36e75.jpg: 640x640 1 Cinnamon, 7.3ms\n",
            "image 189/1584 /content/drive/MyDrive/AyushVision/yolo/workingdir/final/test/images/IMG20240210154103_jpg.rf.3a2681ce14e8d7d86e4f6cc8aedf5b00.jpg: 640x640 1 Betel, 7.3ms\n",
            "image 190/1584 /content/drive/MyDrive/AyushVision/yolo/workingdir/final/test/images/IMG20240210154124_jpg.rf.327f67f3d86752301850866d587d6467.jpg: 640x640 1 Cinnamon, 7.3ms\n",
            "image 191/1584 /content/drive/MyDrive/AyushVision/yolo/workingdir/final/test/images/IMG20240210154206_jpg.rf.200513be53a5f3c732eb6c0aeacddc93.jpg: 640x640 1 Betel, 7.7ms\n",
            "image 192/1584 /content/drive/MyDrive/AyushVision/yolo/workingdir/final/test/images/IMG20240210154308_jpg.rf.d6c304f740b5c5d6242caa787d6dcb94.jpg: 640x640 1 Betel, 9.6ms\n",
            "image 193/1584 /content/drive/MyDrive/AyushVision/yolo/workingdir/final/test/images/IMG20240210160602_jpg.rf.965d7b5cae81c52898fb03e06e03e435.jpg: 640x640 1 Cinnamon, 7.3ms\n",
            "image 194/1584 /content/drive/MyDrive/AyushVision/yolo/workingdir/final/test/images/IMG20240210160803_jpg.rf.8b0a1c8ab760b6fbd0f483a7a176dc5b.jpg: 640x640 1 Cinnamon, 8.2ms\n",
            "image 195/1584 /content/drive/MyDrive/AyushVision/yolo/workingdir/final/test/images/IMG20240210160845_jpg.rf.34e8c81ef2bd8423f7a9c780d4fd6cf2.jpg: 640x640 1 Cinnamon, 7.3ms\n",
            "image 196/1584 /content/drive/MyDrive/AyushVision/yolo/workingdir/final/test/images/IMG20240210161518_jpg.rf.ebff76e593a85d11fccb4264f3c01d59.jpg: 640x640 1 Cinnamon, 7.3ms\n",
            "image 197/1584 /content/drive/MyDrive/AyushVision/yolo/workingdir/final/test/images/IMG20240210163930_jpg.rf.4074e822f4df9906ab22ee48d66be392.jpg: 640x640 3 Seedsunder_leafs, 7.3ms\n",
            "image 198/1584 /content/drive/MyDrive/AyushVision/yolo/workingdir/final/test/images/IMG20240210164001_jpg.rf.b08deebdc33f8ccc122587feb8848148.jpg: 640x640 1 Seedsunder_leaf, 9.6ms\n",
            "image 199/1584 /content/drive/MyDrive/AyushVision/yolo/workingdir/final/test/images/IMG20240210164313_jpg.rf.a8bdbebf78db789221523c0d6e3408c2.jpg: 640x640 7 Seedsunder_leafs, 9.3ms\n",
            "image 200/1584 /content/drive/MyDrive/AyushVision/yolo/workingdir/final/test/images/IMG20240210164456_jpg.rf.f7a0df03aa0f1ca2340ae633a4d70562.jpg: 640x640 3 Seedsunder_leafs, 7.3ms\n",
            "image 201/1584 /content/drive/MyDrive/AyushVision/yolo/workingdir/final/test/images/IMG20240210164629_jpg.rf.1b394cb77f90b77575a6a9d8aa7f80cb.jpg: 640x640 1 Seedsunder_leaf, 8.1ms\n",
            "image 202/1584 /content/drive/MyDrive/AyushVision/yolo/workingdir/final/test/images/IMG20240210164715_jpg.rf.d5eac03f59901d2f83cbc1fbad000c56.jpg: 640x640 7 Seedsunder_leafs, 7.3ms\n",
            "image 203/1584 /content/drive/MyDrive/AyushVision/yolo/workingdir/final/test/images/IMG20240210164910_jpg.rf.c268e2e1442fdef18007155e7c01ee77.jpg: 640x640 2 Seedsunder_leafs, 10.6ms\n",
            "image 204/1584 /content/drive/MyDrive/AyushVision/yolo/workingdir/final/test/images/IMG20240210165005_jpg.rf.d87391db3222877cb45dbba54a33ac02.jpg: 640x640 5 Seedsunder_leafs, 7.3ms\n",
            "image 205/1584 /content/drive/MyDrive/AyushVision/yolo/workingdir/final/test/images/IMG20240210165106_jpg.rf.5e639d9078df1eba88115c18843057e2.jpg: 640x640 5 Seedsunder_leafs, 7.3ms\n",
            "image 206/1584 /content/drive/MyDrive/AyushVision/yolo/workingdir/final/test/images/IMG20240210165125_jpg.rf.a2663b750ecabaa192486b72d43acdd9.jpg: 640x640 5 Seedsunder_leafs, 9.0ms\n",
            "image 207/1584 /content/drive/MyDrive/AyushVision/yolo/workingdir/final/test/images/IMG20240210165909_jpg.rf.06c755065d0f91bafe31c881df7a3e9d.jpg: 640x640 2 Seedsunder_leafs, 7.3ms\n",
            "image 208/1584 /content/drive/MyDrive/AyushVision/yolo/workingdir/final/test/images/IMG20240210165949_jpg.rf.b80f2eb335aa87bf603f648c9898cc4a.jpg: 640x640 8 Seedsunder_leafs, 7.3ms\n",
            "image 209/1584 /content/drive/MyDrive/AyushVision/yolo/workingdir/final/test/images/IMG20240210170034_jpg.rf.15921ed713b718ccb7fb6dc4bf19759e.jpg: 640x640 6 Seedsunder_leafs, 9.1ms\n",
            "image 210/1584 /content/drive/MyDrive/AyushVision/yolo/workingdir/final/test/images/IMG20240210170214_jpg.rf.4e833842f57c43405b5e3fbfb95392f0.jpg: 640x640 2 Seedsunder_leafs, 7.3ms\n",
            "image 211/1584 /content/drive/MyDrive/AyushVision/yolo/workingdir/final/test/images/IMG20240210170302_jpg.rf.544a867effaf555d033d608d0072202d.jpg: 640x640 1 Seedsunder_leaf, 7.3ms\n",
            "image 212/1584 /content/drive/MyDrive/AyushVision/yolo/workingdir/final/test/images/IMG20240210170348_jpg.rf.7300b23ea6e6c10a8703db22977cb1c1.jpg: 640x640 3 Seedsunder_leafs, 8.1ms\n",
            "image 213/1584 /content/drive/MyDrive/AyushVision/yolo/workingdir/final/test/images/IMG20240210170829_jpg.rf.85d1a9f4da6b3b2bb67cfd089c998f3d.jpg: 640x640 1 Seedsunder_leaf, 9.9ms\n",
            "image 214/1584 /content/drive/MyDrive/AyushVision/yolo/workingdir/final/test/images/IMG20240210171207_jpg.rf.03b416b04d5d150e5e9c2771d45f75c8.jpg: 640x640 3 Seedsunder_leafs, 7.7ms\n",
            "image 215/1584 /content/drive/MyDrive/AyushVision/yolo/workingdir/final/test/images/IMG20240210171346_jpg.rf.1b5983d3e8557bbcbb79f335cee48316.jpg: 640x640 4 Seedsunder_leafs, 7.3ms\n",
            "image 216/1584 /content/drive/MyDrive/AyushVision/yolo/workingdir/final/test/images/IMG20240210171630_jpg.rf.2cf0d62a675090c669757c082827e9ce.jpg: 640x640 5 Seedsunder_leafs, 10.9ms\n",
            "image 217/1584 /content/drive/MyDrive/AyushVision/yolo/workingdir/final/test/images/IMG20240210171631_jpg.rf.1a5829453b8530d159b30cba28622a5e.jpg: 640x640 5 Seedsunder_leafs, 7.3ms\n",
            "image 218/1584 /content/drive/MyDrive/AyushVision/yolo/workingdir/final/test/images/IMG20240210172155_jpg.rf.d864748fcafceacaeee683e4fb6d4406.jpg: 640x640 1 Black_honey_shrub, 2 Seedsunder_leafs, 10.7ms\n",
            "image 219/1584 /content/drive/MyDrive/AyushVision/yolo/workingdir/final/test/images/IMG20240210172255_jpg.rf.8847c42fe3b6108e3b63ec9be744d0b0.jpg: 640x640 7 Seedsunder_leafs, 8.5ms\n",
            "image 220/1584 /content/drive/MyDrive/AyushVision/yolo/workingdir/final/test/images/IMG20240210172313_jpg.rf.50b3f2b6a0042e7ecf20babed0f0399e.jpg: 640x640 10 Seedsunder_leafs, 13.0ms\n",
            "image 221/1584 /content/drive/MyDrive/AyushVision/yolo/workingdir/final/test/images/IMG20240210174925_jpg.rf.2d89cc3e604d19b92859c1285c6e91cc.jpg: 640x640 1 Cinnamon, 11.6ms\n",
            "image 222/1584 /content/drive/MyDrive/AyushVision/yolo/workingdir/final/test/images/IMG20240210175148_jpg.rf.d293ab0313bb1e1a6fb5067ccc09ba63.jpg: 640x640 1 Cinnamon, 7.3ms\n",
            "image 223/1584 /content/drive/MyDrive/AyushVision/yolo/workingdir/final/test/images/IMG20240210180628_jpg.rf.92c5ed5687e5c51c7720a4e9e5b56916.jpg: 640x640 1 Cinnamon, 7.3ms\n",
            "image 224/1584 /content/drive/MyDrive/AyushVision/yolo/workingdir/final/test/images/IMG20240210180632_jpg.rf.c9e2bbfa34492430251d9517fe06bb77.jpg: 640x640 1 Cinnamon, 8.3ms\n",
            "image 225/1584 /content/drive/MyDrive/AyushVision/yolo/workingdir/final/test/images/IMG20240210180703_jpg.rf.cd2a222bb1388938f28d2acb4b1db7e9.jpg: 640x640 1 Cinnamon, 7.3ms\n",
            "image 226/1584 /content/drive/MyDrive/AyushVision/yolo/workingdir/final/test/images/IMG20240210180712_jpg.rf.319bd19213d1a6fe27ac4299c3f23fb5.jpg: 640x640 1 Cinnamon, 7.3ms\n",
            "image 227/1584 /content/drive/MyDrive/AyushVision/yolo/workingdir/final/test/images/IMG20240210180834_jpg.rf.eda6e014920d4e1b7903b827b44c69c4.jpg: 640x640 1 Cinnamon, 8.1ms\n",
            "image 228/1584 /content/drive/MyDrive/AyushVision/yolo/workingdir/final/test/images/IMG20240210180924_jpg.rf.f424072998b8df014b2a3461f42bffb8.jpg: 640x640 1 Cinnamon, 7.3ms\n",
            "image 229/1584 /content/drive/MyDrive/AyushVision/yolo/workingdir/final/test/images/IMG20240210181215_jpg.rf.7c456a70dbfda0f0df060d57a18dd051.jpg: 640x640 1 Cinnamon, 11.4ms\n",
            "image 230/1584 /content/drive/MyDrive/AyushVision/yolo/workingdir/final/test/images/IMG20240210181651_jpg.rf.b6c8ce83a0820631d14ff6801a539929.jpg: 640x640 1 Cinnamon, 9.4ms\n",
            "image 231/1584 /content/drive/MyDrive/AyushVision/yolo/workingdir/final/test/images/IMG20240210181715_jpg.rf.c4a782630351cc488211245c2885e8ca.jpg: 640x640 1 Cinnamon, 9.1ms\n",
            "image 232/1584 /content/drive/MyDrive/AyushVision/yolo/workingdir/final/test/images/IMG20240210181718_jpg.rf.a2a900fc60d184d5e8cd5e903d2052b7.jpg: 640x640 1 Cinnamon, 1 Ginger, 9.3ms\n",
            "image 233/1584 /content/drive/MyDrive/AyushVision/yolo/workingdir/final/test/images/IMG20240210181818_jpg.rf.94bddc98d3fd8b540a70766eed537f00.jpg: 640x640 2 Cinnamons, 7.3ms\n",
            "image 234/1584 /content/drive/MyDrive/AyushVision/yolo/workingdir/final/test/images/IMG20240211085416_jpg.rf.15a892609fee2f9150b9c2ddc1f74d1c.jpg: 640x640 2 Aloveras, 9.8ms\n",
            "image 235/1584 /content/drive/MyDrive/AyushVision/yolo/workingdir/final/test/images/IMG20240211085430_jpg.rf.974b0fdf33eeeba066b6adaaf0b96f2a.jpg: 640x640 1 Alovera, 9.3ms\n",
            "image 236/1584 /content/drive/MyDrive/AyushVision/yolo/workingdir/final/test/images/IMG20240211095407_jpg.rf.dd3196011d42900ada99da67d214507a.jpg: 640x640 1 Landrina, 7.3ms\n",
            "image 237/1584 /content/drive/MyDrive/AyushVision/yolo/workingdir/final/test/images/IMG20240211095839_jpg.rf.aafdc53cbe4a727965a167c24b1d27cd.jpg: 640x640 1 Landrina, 7.3ms\n",
            "image 238/1584 /content/drive/MyDrive/AyushVision/yolo/workingdir/final/test/images/IMG20240211095943_jpg.rf.1dd8438a7d2210fe27d268a969bd89e0.jpg: 640x640 1 Landrina, 1 Mountain_Knotgrass, 9.6ms\n",
            "image 239/1584 /content/drive/MyDrive/AyushVision/yolo/workingdir/final/test/images/IMG20240211095958_jpg.rf.6e98099e6c9b8aae597ee8cac9027b71.jpg: 640x640 3 Landrinas, 7.3ms\n",
            "image 240/1584 /content/drive/MyDrive/AyushVision/yolo/workingdir/final/test/images/IMG20240211100100_jpg.rf.d006cdd3aa6cff618cdcf53e8daffcb4.jpg: 640x640 1 Landrina, 11.9ms\n",
            "image 241/1584 /content/drive/MyDrive/AyushVision/yolo/workingdir/final/test/images/IMG20240211100122_jpg.rf.bcf8ff216e624dedbc619bd0f4a6a97d.jpg: 640x640 1 Landrina, 7.3ms\n",
            "image 242/1584 /content/drive/MyDrive/AyushVision/yolo/workingdir/final/test/images/IMG20240211100208_jpg.rf.1f7a3dd3c17398dc0526f576cf664443.jpg: 640x640 1 Landrina, 7.3ms\n",
            "image 243/1584 /content/drive/MyDrive/AyushVision/yolo/workingdir/final/test/images/IMG20240211100305_jpg.rf.0f388fc5a455f14f7d1c88a18b33952f.jpg: 640x640 1 Landrina, 7.3ms\n",
            "image 244/1584 /content/drive/MyDrive/AyushVision/yolo/workingdir/final/test/images/IMG20240211100401_jpg.rf.07303775837ce9c3c0fea21866654762.jpg: 640x640 1 Landrina, 7.4ms\n",
            "image 245/1584 /content/drive/MyDrive/AyushVision/yolo/workingdir/final/test/images/IMG20240211100932_jpg.rf.2425a3d6399fe2d831ab0f35e16cc620.jpg: 640x640 1 Landrina, 7.5ms\n",
            "image 246/1584 /content/drive/MyDrive/AyushVision/yolo/workingdir/final/test/images/IMG20240211101003_jpg.rf.57e7d60ab43a30e2ac4084a3d332e6a1.jpg: 640x640 1 Landrina, 8.5ms\n",
            "image 247/1584 /content/drive/MyDrive/AyushVision/yolo/workingdir/final/test/images/IMG20240211101123_jpg.rf.05ff1e2224a3165c37ee7fa599782f46.jpg: 640x640 1 Landrina, 7.3ms\n",
            "image 248/1584 /content/drive/MyDrive/AyushVision/yolo/workingdir/final/test/images/IMG20240211101209_jpg.rf.babbf404a15af811837878cea60ffb84.jpg: 640x640 1 Miracle_leaf, 7.6ms\n",
            "image 249/1584 /content/drive/MyDrive/AyushVision/yolo/workingdir/final/test/images/IMG20240211101236_jpg.rf.1f839bbef717c169922f747179b0f2c1.jpg: 640x640 2 Landrinas, 7.3ms\n",
            "image 250/1584 /content/drive/MyDrive/AyushVision/yolo/workingdir/final/test/images/IMG20240211103005_jpg.rf.b18d63e1c1399737c5d8589f454fc5f4.jpg: 640x640 7 Landrinas, 2 Mountain_Knotgrasss, 9.2ms\n",
            "image 251/1584 /content/drive/MyDrive/AyushVision/yolo/workingdir/final/test/images/IMG20240211103110_jpg.rf.ab2e8486b3519602f7c1b34cf15a1bf2.jpg: 640x640 3 Landrinas, 9.2ms\n",
            "image 252/1584 /content/drive/MyDrive/AyushVision/yolo/workingdir/final/test/images/IMG20240211103216_jpg.rf.1441f2b9b5c343edfcb3dc5d81827460.jpg: 640x640 4 Landrinas, 7.9ms\n",
            "image 253/1584 /content/drive/MyDrive/AyushVision/yolo/workingdir/final/test/images/IMG20240424153113_jpg.rf.d808f2156f12bb2796d57080881e30fc.jpg: 640x640 2 limes, 7.3ms\n",
            "image 254/1584 /content/drive/MyDrive/AyushVision/yolo/workingdir/final/test/images/IMG20240424153258_jpg.rf.31540565aa84f4f17e0f87edcc7d7950.jpg: 640x640 1 lime, 7.4ms\n",
            "image 255/1584 /content/drive/MyDrive/AyushVision/yolo/workingdir/final/test/images/IMG20240424153451_jpg.rf.a2e5b1dd1c99763d1ac74795a6d9d2a4.jpg: 640x640 1 lime, 7.5ms\n",
            "image 256/1584 /content/drive/MyDrive/AyushVision/yolo/workingdir/final/test/images/IMG20240424153638_jpg.rf.e98198726e74360697ce0a497f83afea.jpg: 640x640 1 lime, 9.9ms\n",
            "image 257/1584 /content/drive/MyDrive/AyushVision/yolo/workingdir/final/test/images/IMG20240424153700_jpg.rf.5230e1e4c403eabcce28e0d2781f8dc3.jpg: 640x640 1 lime, 10.0ms\n",
            "image 258/1584 /content/drive/MyDrive/AyushVision/yolo/workingdir/final/test/images/IMG20240424153803_jpg.rf.b0b1beeffd6da1925daa77c873c4a6fc.jpg: 640x640 1 lime, 7.8ms\n",
            "image 259/1584 /content/drive/MyDrive/AyushVision/yolo/workingdir/final/test/images/IMG20240424153845_jpg.rf.b5ce2b5fc3d02c444306a38c52887141.jpg: 640x640 1 lime, 8.7ms\n",
            "image 260/1584 /content/drive/MyDrive/AyushVision/yolo/workingdir/final/test/images/IMG20240424153947_jpg.rf.900d50cec15d38d7c488783db925cc3c.jpg: 640x640 1 lime, 9.2ms\n",
            "image 261/1584 /content/drive/MyDrive/AyushVision/yolo/workingdir/final/test/images/IMG20240424154005_jpg.rf.daf36230d98bdace35e387526788b5b2.jpg: 640x640 1 lime, 7.5ms\n",
            "image 262/1584 /content/drive/MyDrive/AyushVision/yolo/workingdir/final/test/images/IMG20240424154035_jpg.rf.9b7434ba777999899a3f201604d6a991.jpg: 640x640 1 lime, 8.1ms\n",
            "image 263/1584 /content/drive/MyDrive/AyushVision/yolo/workingdir/final/test/images/IMG20240424154117_jpg.rf.85070b5c5719949d795c80ec7e3d881e.jpg: 640x640 1 lime, 1 Ginger, 7.4ms\n",
            "image 264/1584 /content/drive/MyDrive/AyushVision/yolo/workingdir/final/test/images/IMG20240424154256_jpg.rf.edba09dcf183bde1cd29e9f8f53bfabd.jpg: 640x640 2 limes, 8.3ms\n",
            "image 265/1584 /content/drive/MyDrive/AyushVision/yolo/workingdir/final/test/images/IMG20240424203800_jpg.rf.77746e7af295d279aec5ecbd33829192.jpg: 640x640 1 lime, 1 Henna, 8.4ms\n",
            "image 266/1584 /content/drive/MyDrive/AyushVision/yolo/workingdir/final/test/images/IMG20240424203840_jpg.rf.556820fadb80e2dbee2e061a5548da11.jpg: 640x640 1 lime, 8.2ms\n",
            "image 267/1584 /content/drive/MyDrive/AyushVision/yolo/workingdir/final/test/images/IMG20240424203955_jpg.rf.c0aa65804eea1dee4158e8eaf79ed27e.jpg: 640x640 1 lime, 9.7ms\n",
            "image 268/1584 /content/drive/MyDrive/AyushVision/yolo/workingdir/final/test/images/IMG20240424204100_jpg.rf.bde3b234132052685391933602f85c51.jpg: 640x640 1 lime, 10.4ms\n",
            "image 269/1584 /content/drive/MyDrive/AyushVision/yolo/workingdir/final/test/images/IMG20240424204536_jpg.rf.d24d4547ef7645485b4b1a49a76b5d52.jpg: 640x640 1 lime, 7.3ms\n",
            "image 270/1584 /content/drive/MyDrive/AyushVision/yolo/workingdir/final/test/images/IMG20240424204738_jpg.rf.372a0a2f0d2174d95906e3490a36abb2.jpg: 640x640 6 limes, 7.3ms\n",
            "image 271/1584 /content/drive/MyDrive/AyushVision/yolo/workingdir/final/test/images/IMG20240425081416_jpg.rf.745498734c832361988f19ce74e33881.jpg: 640x640 1 Alovera, 11.4ms\n",
            "image 272/1584 /content/drive/MyDrive/AyushVision/yolo/workingdir/final/test/images/IMG20240425081442_jpg.rf.d0fc02bb66ec4893a89483423a479a3c.jpg: 640x640 1 Alovera, 7.3ms\n",
            "image 273/1584 /content/drive/MyDrive/AyushVision/yolo/workingdir/final/test/images/IMG20240425082245_jpg.rf.3bbb4d34b8d6135b56cffecad7bee063.jpg: 640x640 2 Aloveras, 9.5ms\n",
            "image 274/1584 /content/drive/MyDrive/AyushVision/yolo/workingdir/final/test/images/IMG20240425083953_jpg.rf.2877260f05feaff132ac2fb509901d2b.jpg: 640x640 1 Alovera, 10.4ms\n",
            "image 275/1584 /content/drive/MyDrive/AyushVision/yolo/workingdir/final/test/images/IMG20240426091856_jpg.rf.795c15d9fd6d1a1c33935d33ea6f6095.jpg: 640x640 1 Pedaliummurex, 7.3ms\n",
            "image 276/1584 /content/drive/MyDrive/AyushVision/yolo/workingdir/final/test/images/IMG20240426091908_jpg.rf.af68dcfa96544278fbc44e0f105dd8ce.jpg: 640x640 1 Pedaliummurex, 7.3ms\n",
            "image 277/1584 /content/drive/MyDrive/AyushVision/yolo/workingdir/final/test/images/IMG20240426091922_jpg.rf.c4b0bc301c18fdc099a258eb0448dab2.jpg: 640x640 1 Holybasil, 1 Acalyphaindica, 7.3ms\n",
            "image 278/1584 /content/drive/MyDrive/AyushVision/yolo/workingdir/final/test/images/IMG20240426091929_jpg.rf.e35b6f527c733821d059b298b82906df.jpg: 640x640 1 Pedaliummurex, 7.3ms\n",
            "image 279/1584 /content/drive/MyDrive/AyushVision/yolo/workingdir/final/test/images/IMG20240426093743_jpg.rf.5c5e777a2ec9a96def860d5eef2cafcc.jpg: 640x640 1 Pedaliummurex, 9.1ms\n",
            "image 280/1584 /content/drive/MyDrive/AyushVision/yolo/workingdir/final/test/images/IMG20240426093756_jpg.rf.e4f721a58ef4cee84d92fa6962ca7684.jpg: 640x640 1 Pedaliummurex, 7.3ms\n",
            "image 281/1584 /content/drive/MyDrive/AyushVision/yolo/workingdir/final/test/images/IMG20240426093837_jpg.rf.fe57d86732e50a8d0facf047b06e5b33.jpg: 640x640 1 Acalyphaindica, 7.3ms\n",
            "image 282/1584 /content/drive/MyDrive/AyushVision/yolo/workingdir/final/test/images/IMG20240426093945_jpg.rf.6b8919b2d8e43b5512cbbae014934b7c.jpg: 640x640 1 Pedaliummurex, 7.9ms\n",
            "image 283/1584 /content/drive/MyDrive/AyushVision/yolo/workingdir/final/test/images/IMG20240426101226_jpg.rf.f02491eb53741552bc431607f891a562.jpg: 640x640 1 Pedaliummurex, 7.3ms\n",
            "image 284/1584 /content/drive/MyDrive/AyushVision/yolo/workingdir/final/test/images/IMG20240426115535_jpg.rf.a75f1e57ebf7aecb17aa96ec8c89046a.jpg: 640x640 1 Alovera, 7.3ms\n",
            "image 285/1584 /content/drive/MyDrive/AyushVision/yolo/workingdir/final/test/images/IMG20240426115731_jpg.rf.1d710c7a113c79925eb3dbab9c3c2028.jpg: 640x640 1 Alovera, 8.6ms\n",
            "image 286/1584 /content/drive/MyDrive/AyushVision/yolo/workingdir/final/test/images/IMG20240426115737_jpg.rf.61dd29cbf2edd9c6574356b30d4295ac.jpg: 640x640 3 Aloveras, 7.3ms\n",
            "image 287/1584 /content/drive/MyDrive/AyushVision/yolo/workingdir/final/test/images/IMG20240426120125_jpg.rf.93ccfeb7554c12b1ebf0f5fb77c6e0a5.jpg: 640x640 1 Alovera, 7.3ms\n",
            "image 288/1584 /content/drive/MyDrive/AyushVision/yolo/workingdir/final/test/images/IMG20240426121012_jpg.rf.a99b41925c11f6155838453953891447.jpg: 640x640 1 Alovera, 7.7ms\n",
            "image 289/1584 /content/drive/MyDrive/AyushVision/yolo/workingdir/final/test/images/IMG20240426121036_jpg.rf.2b369ef0e08ebee02084d8eccfc0dbc3.jpg: 640x640 1 Alovera, 8.3ms\n",
            "image 290/1584 /content/drive/MyDrive/AyushVision/yolo/workingdir/final/test/images/IMG20240426122419_jpg.rf.a5bd252362708381cbab4a188c845cb6.jpg: 640x640 1 Ginger, 7.3ms\n",
            "image 291/1584 /content/drive/MyDrive/AyushVision/yolo/workingdir/final/test/images/IMG20240426122445_jpg.rf.868207698994c29754edcfaecc8069ea.jpg: 640x640 1 Alovera, 7.4ms\n",
            "image 292/1584 /content/drive/MyDrive/AyushVision/yolo/workingdir/final/test/images/IMG20240426165621_jpg.rf.8f70941064b171b0afdd4a718a9a89e1.jpg: 640x640 1 Betel, 8.7ms\n",
            "image 293/1584 /content/drive/MyDrive/AyushVision/yolo/workingdir/final/test/images/IMG20240426165813_jpg.rf.dbd8d7bc2b3bad0e26603b4861d6cfa8.jpg: 640x640 1 Betel, 9.6ms\n",
            "image 294/1584 /content/drive/MyDrive/AyushVision/yolo/workingdir/final/test/images/IMG20240426165917_jpg.rf.9f23ac4fe63669c9b73939377b47d9be.jpg: 640x640 1 Betel, 9.2ms\n",
            "image 295/1584 /content/drive/MyDrive/AyushVision/yolo/workingdir/final/test/images/IMG20240426170513_jpg.rf.739fc5bd5730f08d13c2f10389787914.jpg: 640x640 1 Pedaliummurex, 9.6ms\n",
            "image 296/1584 /content/drive/MyDrive/AyushVision/yolo/workingdir/final/test/images/IMG20240426170601_jpg.rf.2679eb223165a24a309c4d65c2991ba6.jpg: 640x640 1 Pedaliummurex, 7.1ms\n",
            "image 297/1584 /content/drive/MyDrive/AyushVision/yolo/workingdir/final/test/images/IMG20240426170737_jpg.rf.3ba2fff427212ea5a764bb1845b62271.jpg: 640x640 1 Pedaliummurex, 7.1ms\n",
            "image 298/1584 /content/drive/MyDrive/AyushVision/yolo/workingdir/final/test/images/IMG20240426171809_jpg.rf.174022262bd83104dc94d0f0aa131d46.jpg: 640x640 3 Pedaliummurexs, 9.2ms\n",
            "image 299/1584 /content/drive/MyDrive/AyushVision/yolo/workingdir/final/test/images/IMG20240426171830_jpg.rf.e260b3ed0f911873341ec7b57a6c62af.jpg: 640x640 2 Pedaliummurexs, 9.5ms\n",
            "image 300/1584 /content/drive/MyDrive/AyushVision/yolo/workingdir/final/test/images/IMG20240426172011_jpg.rf.313a3cf911573c1d5d3324ca23791b9b.jpg: 640x640 1 Pedaliummurex, 7.4ms\n",
            "image 301/1584 /content/drive/MyDrive/AyushVision/yolo/workingdir/final/test/images/IMG20240426172042_jpg.rf.e1c76b958c38006b8854ca2d9e641d07.jpg: 640x640 1 Pedaliummurex, 8.2ms\n",
            "image 302/1584 /content/drive/MyDrive/AyushVision/yolo/workingdir/final/test/images/IMG20240426172109_jpg.rf.970f894cc8d087d34e5a712f1d470bb0.jpg: 640x640 1 Pedaliummurex, 8.6ms\n",
            "image 303/1584 /content/drive/MyDrive/AyushVision/yolo/workingdir/final/test/images/IMG20240426172135_jpg.rf.a45daf8ee9be8cd7692a178ae488b6d3.jpg: 640x640 1 Pedaliummurex, 8.4ms\n",
            "image 304/1584 /content/drive/MyDrive/AyushVision/yolo/workingdir/final/test/images/IMG20240426172150_jpg.rf.57ed275079ebac0108e532473eb32d99.jpg: 640x640 1 Pedaliummurex, 9.3ms\n",
            "image 305/1584 /content/drive/MyDrive/AyushVision/yolo/workingdir/final/test/images/IMG20240426172202_jpg.rf.fb1e55dccec3b61094c5fc347b54ed71.jpg: 640x640 1 Pedaliummurex, 8.8ms\n",
            "image 306/1584 /content/drive/MyDrive/AyushVision/yolo/workingdir/final/test/images/IMG20240426172222_jpg.rf.637a1fa097e6d05b796fac1ed13ff562.jpg: 640x640 1 Pedaliummurex, 7.3ms\n",
            "image 307/1584 /content/drive/MyDrive/AyushVision/yolo/workingdir/final/test/images/IMG20240426172652_jpg.rf.62c911fa6628ed8dd0a6bdba5140844b.jpg: 640x640 1 Pedaliummurex, 8.7ms\n",
            "image 308/1584 /content/drive/MyDrive/AyushVision/yolo/workingdir/final/test/images/IMG20240426172720_jpg.rf.80e3a7ca8a02893793c5d9249ddfa36c.jpg: 640x640 1 Pedaliummurex, 8.1ms\n",
            "image 309/1584 /content/drive/MyDrive/AyushVision/yolo/workingdir/final/test/images/IMG20240426172742_jpg.rf.985241b5bc3ac114abfbe9b79df16305.jpg: 640x640 3 Pedaliummurexs, 10.4ms\n",
            "image 310/1584 /content/drive/MyDrive/AyushVision/yolo/workingdir/final/test/images/IMG20240426172824_jpg.rf.e4160b92c1aa92672a8b39f72fb29338.jpg: 640x640 1 Pedaliummurex, 7.3ms\n",
            "image 311/1584 /content/drive/MyDrive/AyushVision/yolo/workingdir/final/test/images/IMG20240426172927_jpg.rf.3982c2c7c8b6ca199b3ed75d91bc3883.jpg: 640x640 1 Landrina, 3 Pedaliummurexs, 7.4ms\n",
            "image 312/1584 /content/drive/MyDrive/AyushVision/yolo/workingdir/final/test/images/IMG20240426173008_jpg.rf.0259db63a9d23e7f83afcc7309096bc5.jpg: 640x640 2 Pedaliummurexs, 10.0ms\n",
            "image 313/1584 /content/drive/MyDrive/AyushVision/yolo/workingdir/final/test/images/IMG20240426173704_jpg.rf.a24c75a6b66cffbe35d2aaa4db37e7d9.jpg: 640x640 1 Pedaliummurex, 7.3ms\n",
            "image 314/1584 /content/drive/MyDrive/AyushVision/yolo/workingdir/final/test/images/IMG20240426174018_jpg.rf.cbc77cfd898a7a5e92fb649b2990e637.jpg: 640x640 1 Pedaliummurex, 8.6ms\n",
            "image 315/1584 /content/drive/MyDrive/AyushVision/yolo/workingdir/final/test/images/IMG20240426174230_jpg.rf.3739b9666d70f7e0bbca2efa7d9054ac.jpg: 640x640 1 Pedaliummurex, 7.3ms\n",
            "image 316/1584 /content/drive/MyDrive/AyushVision/yolo/workingdir/final/test/images/IMG20240426174232_jpg.rf.aa9d0cac3f5714fcac4ea4d9ae947f8d.jpg: 640x640 1 Pedaliummurex, 7.3ms\n",
            "image 317/1584 /content/drive/MyDrive/AyushVision/yolo/workingdir/final/test/images/IMG20240426174259_jpg.rf.b8b3523d6cc4313fb35ed07014bbcad3.jpg: 640x640 1 Pedaliummurex, 7.3ms\n",
            "image 318/1584 /content/drive/MyDrive/AyushVision/yolo/workingdir/final/test/images/IMG20240426174313_jpg.rf.8b68ef6bcd27e604526d69fad2087d7c.jpg: 640x640 2 Pedaliummurexs, 7.3ms\n",
            "image 319/1584 /content/drive/MyDrive/AyushVision/yolo/workingdir/final/test/images/IMG20240426174323_jpg.rf.d819d7b6c7fb5e5931a468087e923663.jpg: 640x640 1 Pedaliummurex, 7.3ms\n",
            "image 320/1584 /content/drive/MyDrive/AyushVision/yolo/workingdir/final/test/images/IMG20240426174601_jpg.rf.fd0997fad2687029fe753068e318a171.jpg: 640x640 5 Pedaliummurexs, 7.3ms\n",
            "image 321/1584 /content/drive/MyDrive/AyushVision/yolo/workingdir/final/test/images/IMG20240426175631_jpg.rf.c2bc3482ecafb7530a89a4ca19c62d9a.jpg: 640x640 2 Pedaliummurexs, 7.3ms\n",
            "image 322/1584 /content/drive/MyDrive/AyushVision/yolo/workingdir/final/test/images/IMG20240426175736_jpg.rf.0b252caa39494a51c9eb6d7c554802fe.jpg: 640x640 2 Pedaliummurexs, 9.8ms\n",
            "image 323/1584 /content/drive/MyDrive/AyushVision/yolo/workingdir/final/test/images/IMG20240426175924_jpg.rf.7055bcc81afe0d11ee5be2a831a157c8.jpg: 640x640 4 Pedaliummurexs, 7.3ms\n",
            "image 324/1584 /content/drive/MyDrive/AyushVision/yolo/workingdir/final/test/images/IMG20240426180030_jpg.rf.9568745dbcf81394f67d86b1ba3f015d.jpg: 640x640 2 Pedaliummurexs, 7.3ms\n",
            "image 325/1584 /content/drive/MyDrive/AyushVision/yolo/workingdir/final/test/images/IMG20240426180224_jpg.rf.8d727e83586c56c6c7bb36be24d1822e.jpg: 640x640 2 Pedaliummurexs, 7.3ms\n",
            "image 326/1584 /content/drive/MyDrive/AyushVision/yolo/workingdir/final/test/images/IMG20240426180522_jpg.rf.f7e36dcd794c30caad824b2342d48e78.jpg: 640x640 3 Pedaliummurexs, 7.3ms\n",
            "image 327/1584 /content/drive/MyDrive/AyushVision/yolo/workingdir/final/test/images/IMG20240426195534_jpg.rf.3c0e31dc358e9c9df8689a545deacad0.jpg: 640x640 1 Acalyphaindica, 7.3ms\n",
            "image 328/1584 /content/drive/MyDrive/AyushVision/yolo/workingdir/final/test/images/IMG20240426195554_jpg.rf.83318aaba05d93136032d2b8ee4bb9a8.jpg: 640x640 1 Acalyphaindica, 7.3ms\n",
            "image 329/1584 /content/drive/MyDrive/AyushVision/yolo/workingdir/final/test/images/IMG20240426195837_jpg.rf.cc74bf212cff274a422f67a646cd36ba.jpg: 640x640 1 Acalyphaindica, 7.3ms\n",
            "image 330/1584 /content/drive/MyDrive/AyushVision/yolo/workingdir/final/test/images/IMG20240426195844_jpg.rf.93839d3e6d2daae3f27ed0ddc188522d.jpg: 640x640 1 Acalyphaindica, 7.3ms\n",
            "image 331/1584 /content/drive/MyDrive/AyushVision/yolo/workingdir/final/test/images/IMG20240426200000_jpg.rf.6070eb0903d60c5b88060683f2d31825.jpg: 640x640 1 Acalyphaindica, 10.3ms\n",
            "image 332/1584 /content/drive/MyDrive/AyushVision/yolo/workingdir/final/test/images/IMG20240426200006_jpg.rf.883ab696f2fa542a2aab0c7a21d47ed8.jpg: 640x640 1 Acalyphaindica, 7.3ms\n",
            "image 333/1584 /content/drive/MyDrive/AyushVision/yolo/workingdir/final/test/images/IMG20240426200010_jpg.rf.02a56d884b7be3a47abf0c40f3e3243c.jpg: 640x640 1 Acalyphaindica, 7.3ms\n",
            "image 334/1584 /content/drive/MyDrive/AyushVision/yolo/workingdir/final/test/images/IMG20240426200024_jpg.rf.a3631042b834320252ca9ab58aa802c5.jpg: 640x640 1 Acalyphaindica, 7.3ms\n",
            "image 335/1584 /content/drive/MyDrive/AyushVision/yolo/workingdir/final/test/images/IMG20240426200152_jpg.rf.da51ccc13837f5f42162017d83e2ec99.jpg: 640x640 1 Acalyphaindica, 7.3ms\n",
            "image 336/1584 /content/drive/MyDrive/AyushVision/yolo/workingdir/final/test/images/IMG20240426200321_jpg.rf.efb956113e10b9e4784ce0ffc0d16139.jpg: 640x640 1 Acalyphaindica, 7.3ms\n",
            "image 337/1584 /content/drive/MyDrive/AyushVision/yolo/workingdir/final/test/images/IMG20240426200336_jpg.rf.a3b1fb2e580303125d975c2a3ccea478.jpg: 640x640 1 Acalyphaindica, 7.3ms\n",
            "image 338/1584 /content/drive/MyDrive/AyushVision/yolo/workingdir/final/test/images/IMG20240426200406_jpg.rf.b8ac862cbdc0a9eb33263ace613793c6.jpg: 640x640 1 Acalyphaindica, 8.6ms\n",
            "image 339/1584 /content/drive/MyDrive/AyushVision/yolo/workingdir/final/test/images/IMG20240426200434_jpg.rf.e5827ac618f1ee30d12bbefbed051928.jpg: 640x640 1 Acalyphaindica, 9.4ms\n",
            "image 340/1584 /content/drive/MyDrive/AyushVision/yolo/workingdir/final/test/images/IMG20240426200438_jpg.rf.865775f78ae165113fb3de919f07ea43.jpg: 640x640 1 Acalyphaindica, 8.5ms\n",
            "image 341/1584 /content/drive/MyDrive/AyushVision/yolo/workingdir/final/test/images/IMG20240426201430_jpg.rf.a286eac9e71e542e1b26be7f8ca91006.jpg: 640x640 1 Acalyphaindica, 7.3ms\n",
            "image 342/1584 /content/drive/MyDrive/AyushVision/yolo/workingdir/final/test/images/IMG20240426201518_jpg.rf.d2adffd6a415f7af96e0588717069d2c.jpg: 640x640 1 Acalyphaindica, 9.5ms\n",
            "image 343/1584 /content/drive/MyDrive/AyushVision/yolo/workingdir/final/test/images/IMG20240426201631_jpg.rf.93953411af8ed595fe50a41f9c2f55ce.jpg: 640x640 1 Acalyphaindica, 7.3ms\n",
            "image 344/1584 /content/drive/MyDrive/AyushVision/yolo/workingdir/final/test/images/IMG20240426201711_jpg.rf.ce6b4968fde383cb1bd0ffb30cdf1d0e.jpg: 640x640 1 Acalyphaindica, 9.0ms\n",
            "image 345/1584 /content/drive/MyDrive/AyushVision/yolo/workingdir/final/test/images/IMG20240426201723_jpg.rf.2045d4a14bd8feea5f30d9706c45ca54.jpg: 640x640 1 Acalyphaindica, 9.0ms\n",
            "image 346/1584 /content/drive/MyDrive/AyushVision/yolo/workingdir/final/test/images/IMG20240426202113_jpg.rf.83f79a83dda01539fbea1bb313c8ffeb.jpg: 640x640 4 Acalyphaindicas, 8.7ms\n",
            "image 347/1584 /content/drive/MyDrive/AyushVision/yolo/workingdir/final/test/images/IMG20240426202316_jpg.rf.84a92540b02120b606ca8c62903165ee.jpg: 640x640 1 Acalyphaindica, 8.1ms\n",
            "image 348/1584 /content/drive/MyDrive/AyushVision/yolo/workingdir/final/test/images/IMG20240426202344_jpg.rf.b90897bd5cc43de8355b0c3952477f19.jpg: 640x640 1 Acalyphaindica, 7.3ms\n",
            "image 349/1584 /content/drive/MyDrive/AyushVision/yolo/workingdir/final/test/images/IMG20240426202415_jpg.rf.f2556a205ec0a5355105ef72f3b33e0e.jpg: 640x640 1 Acalyphaindica, 8.6ms\n",
            "image 350/1584 /content/drive/MyDrive/AyushVision/yolo/workingdir/final/test/images/IMG20240426202726_jpg.rf.9e05763e9b7d7dadc57a1875bd0ffef1.jpg: 640x640 2 Acalyphaindicas, 7.3ms\n",
            "image 351/1584 /content/drive/MyDrive/AyushVision/yolo/workingdir/final/test/images/IMG20240426203213_jpg.rf.072b0e0d07015f97364dfe77272b0792.jpg: 640x640 4 Acalyphaindicas, 7.3ms\n",
            "image 352/1584 /content/drive/MyDrive/AyushVision/yolo/workingdir/final/test/images/IMG20240426203342_jpg.rf.f7df180d717082721b80a20704cdd9b8.jpg: 640x640 3 Acalyphaindicas, 7.3ms\n",
            "image 353/1584 /content/drive/MyDrive/AyushVision/yolo/workingdir/final/test/images/IMG20240426203430_jpg.rf.987846dfb08c80da9ea71427e4783eae.jpg: 640x640 4 Acalyphaindicas, 7.4ms\n",
            "image 354/1584 /content/drive/MyDrive/AyushVision/yolo/workingdir/final/test/images/IMG20240426204055_jpg.rf.743ff8bea52940b5407b9f675367b095.jpg: 640x640 3 Acalyphaindicas, 7.3ms\n",
            "image 355/1584 /content/drive/MyDrive/AyushVision/yolo/workingdir/final/test/images/IMG20240426204551_jpg.rf.cfdd2f0db89a34d07d2ebf3eea63fc4b.jpg: 640x640 4 Acalyphaindicas, 9.6ms\n",
            "image 356/1584 /content/drive/MyDrive/AyushVision/yolo/workingdir/final/test/images/IMG20240426205847_jpg.rf.a07936a87391887bb60d6837f9eb34ca.jpg: 640x640 1 Oregano, 7.7ms\n",
            "image 357/1584 /content/drive/MyDrive/AyushVision/yolo/workingdir/final/test/images/IMG20240426210102_jpg.rf.eba67b04f54604f482a8c85bc15cfaf9.jpg: 640x640 1 Oregano, 7.3ms\n",
            "image 358/1584 /content/drive/MyDrive/AyushVision/yolo/workingdir/final/test/images/IMG20240426210217_jpg.rf.d0da8a686cd9c736c72a6edfb70bd1c3.jpg: 640x640 1 Oregano, 7.7ms\n",
            "image 359/1584 /content/drive/MyDrive/AyushVision/yolo/workingdir/final/test/images/IMG20240426210305_jpg.rf.b26eedb0771e21287d4c09cc3e4ddeba.jpg: 640x640 1 Oregano, 7.9ms\n",
            "image 360/1584 /content/drive/MyDrive/AyushVision/yolo/workingdir/final/test/images/IMG20240427093025_jpg.rf.749c67339155381ba4ff574687dd4e44.jpg: 640x640 1 Betel, 7.3ms\n",
            "image 361/1584 /content/drive/MyDrive/AyushVision/yolo/workingdir/final/test/images/IMG20240427093118_jpg.rf.5c9caee20d1a7b5f21fdd91f47614df4.jpg: 640x640 1 Betel, 7.3ms\n",
            "image 362/1584 /content/drive/MyDrive/AyushVision/yolo/workingdir/final/test/images/IMG20240427093613_jpg.rf.129f1669e955914c997e0bf8d0fb95d9.jpg: 640x640 1 Betel, 8.4ms\n",
            "image 363/1584 /content/drive/MyDrive/AyushVision/yolo/workingdir/final/test/images/IMG20240427093941_jpg.rf.d66dcbceb80eda1cb1ce051261e51d22.jpg: 640x640 1 Betel, 10.6ms\n",
            "image 364/1584 /content/drive/MyDrive/AyushVision/yolo/workingdir/final/test/images/IMG20240427094338_jpg.rf.ea5866171da393f087de7f00ed37786a.jpg: 640x640 1 Betel, 9.3ms\n",
            "image 365/1584 /content/drive/MyDrive/AyushVision/yolo/workingdir/final/test/images/IMG20240427094406_jpg.rf.36a62c90636b0df365c8a50e3cb80c0d.jpg: 640x640 1 Betel, 7.3ms\n",
            "image 366/1584 /content/drive/MyDrive/AyushVision/yolo/workingdir/final/test/images/IMG20240427095642_jpg.rf.3d8e8f1029422204dfb827a02fb597ca.jpg: 640x640 1 Betel, 7.3ms\n",
            "image 367/1584 /content/drive/MyDrive/AyushVision/yolo/workingdir/final/test/images/IMG20240427095653_jpg.rf.55cc63bbaa11c142f4a711dbe04b83b8.jpg: 640x640 1 Betel, 7.3ms\n",
            "image 368/1584 /content/drive/MyDrive/AyushVision/yolo/workingdir/final/test/images/IMG20240427100510_jpg.rf.e6435c9735eb47bb57fed445206094d6.jpg: 640x640 1 Betel, 7.3ms\n",
            "image 369/1584 /content/drive/MyDrive/AyushVision/yolo/workingdir/final/test/images/IMG20240427153301_jpg.rf.eaa4c4146d95d36976cee0caea2277b0.jpg: 640x640 1 Betel, 8.0ms\n",
            "image 370/1584 /content/drive/MyDrive/AyushVision/yolo/workingdir/final/test/images/IMG20240427153657_jpg.rf.58210f5b71853494e622c2fda979d63b.jpg: 640x640 1 Betel, 9.6ms\n",
            "image 371/1584 /content/drive/MyDrive/AyushVision/yolo/workingdir/final/test/images/IMG20240427153701_jpg.rf.3cb1691dfbf52b1fe3edf6fef394ad18.jpg: 640x640 1 Betel, 7.3ms\n",
            "image 372/1584 /content/drive/MyDrive/AyushVision/yolo/workingdir/final/test/images/IMG20240427153853_jpg.rf.5073e9015ecbfc3b746108b25ea891fc.jpg: 640x640 1 Betel, 7.3ms\n",
            "image 373/1584 /content/drive/MyDrive/AyushVision/yolo/workingdir/final/test/images/IMG20240427153935_jpg.rf.b40b64b10f443fad13d3300b976d80d3.jpg: 640x640 1 Betel, 7.3ms\n",
            "image 374/1584 /content/drive/MyDrive/AyushVision/yolo/workingdir/final/test/images/IMG20240427154038_jpg.rf.5c711d65a8e1a3cd731f5f3faf194f6f.jpg: 640x640 1 Betel, 7.3ms\n",
            "image 375/1584 /content/drive/MyDrive/AyushVision/yolo/workingdir/final/test/images/IMG20240427154046_jpg.rf.00a24f7bbfde9da229839c16c81737f9.jpg: 640x640 1 Betel, 9.4ms\n",
            "image 376/1584 /content/drive/MyDrive/AyushVision/yolo/workingdir/final/test/images/IMG20240427154424_jpg.rf.7dfd231382166cd75c54e3f355c38941.jpg: 640x640 1 Betel, 8.3ms\n",
            "image 377/1584 /content/drive/MyDrive/AyushVision/yolo/workingdir/final/test/images/IMG20240427160220_jpg.rf.8a5e9a9a8f9ec099866259dafc5ac362.jpg: 640x640 1 Cinnamon, 7.3ms\n",
            "image 378/1584 /content/drive/MyDrive/AyushVision/yolo/workingdir/final/test/images/IMG20240427160349_jpg.rf.d3b0834543f4d6d371ff9ff1813f8cdd.jpg: 640x640 1 Cinnamon, 7.3ms\n",
            "image 379/1584 /content/drive/MyDrive/AyushVision/yolo/workingdir/final/test/images/IMG20240427160525_jpg.rf.8f9b3b5a3a36cab3e1ec1b3f30f11847.jpg: 640x640 1 Cinnamon, 7.3ms\n",
            "image 380/1584 /content/drive/MyDrive/AyushVision/yolo/workingdir/final/test/images/IMG20240427160808_jpg.rf.8dfc6a85b8f8d0f0c107c19998afc2c1.jpg: 640x640 1 Cinnamon, 7.3ms\n",
            "image 381/1584 /content/drive/MyDrive/AyushVision/yolo/workingdir/final/test/images/IMG20240427160841_jpg.rf.a00f0e3fff11b06ba6f93778ab0704f1.jpg: 640x640 1 Cinnamon, 7.3ms\n",
            "image 382/1584 /content/drive/MyDrive/AyushVision/yolo/workingdir/final/test/images/IMG20240427160925_jpg.rf.d6b26c20ca7c3e3c70dfcf67d6ed20ea.jpg: 640x640 1 Cinnamon, 7.3ms\n",
            "image 383/1584 /content/drive/MyDrive/AyushVision/yolo/workingdir/final/test/images/IMG20240427164700_jpg.rf.b292eeb5d44c87660b78b93882ea4a9d.jpg: 640x640 1 Alovera, 7.3ms\n",
            "image 384/1584 /content/drive/MyDrive/AyushVision/yolo/workingdir/final/test/images/IMG20240427164720_jpg.rf.67727e72ab3c759195307f8c45e5600d.jpg: 640x640 1 Alovera, 7.3ms\n",
            "image 385/1584 /content/drive/MyDrive/AyushVision/yolo/workingdir/final/test/images/IMG20240427164725_jpg.rf.abe6b16afd0e9ecf3b1a81197acad54b.jpg: 640x640 1 Alovera, 7.3ms\n",
            "image 386/1584 /content/drive/MyDrive/AyushVision/yolo/workingdir/final/test/images/IMG20240427164847_jpg.rf.2d74b453f40e1c2b02b736bcf7435a8e.jpg: 640x640 1 Alovera, 8.8ms\n",
            "image 387/1584 /content/drive/MyDrive/AyushVision/yolo/workingdir/final/test/images/IMG20240427165127_jpg.rf.cef2e3e3e0e1cef5e0c061db83cd362f.jpg: 640x640 1 Alovera, 7.8ms\n",
            "image 388/1584 /content/drive/MyDrive/AyushVision/yolo/workingdir/final/test/images/IMG20240427165134_jpg.rf.8a78b03db6ac8ea2d680ea5f97fd3f68.jpg: 640x640 1 Alovera, 7.4ms\n",
            "image 389/1584 /content/drive/MyDrive/AyushVision/yolo/workingdir/final/test/images/IMG20240427165153_jpg.rf.47dbaff47e84d3bad87481ab06189430.jpg: 640x640 1 Alovera, 7.3ms\n",
            "image 390/1584 /content/drive/MyDrive/AyushVision/yolo/workingdir/final/test/images/IMG20240427165327_jpg.rf.7487ef79a77ba6b5e86ce4754596134d.jpg: 640x640 1 Alovera, 7.3ms\n",
            "image 391/1584 /content/drive/MyDrive/AyushVision/yolo/workingdir/final/test/images/IMG20240427171113_jpg.rf.cdffa8f88128fa99f5fb2192606761a9.jpg: 640x640 2 Cinnamons, 7.3ms\n",
            "image 392/1584 /content/drive/MyDrive/AyushVision/yolo/workingdir/final/test/images/IMG20240427171318_jpg.rf.20a0bad8eacb4f194501b30f2290329a.jpg: 640x640 1 Cinnamon, 7.3ms\n",
            "image 393/1584 /content/drive/MyDrive/AyushVision/yolo/workingdir/final/test/images/IMG20240427171452_jpg.rf.03e2c8928d1a3ef74c6cb99f9bff71b8.jpg: 640x640 1 Cinnamon, 7.5ms\n",
            "image 394/1584 /content/drive/MyDrive/AyushVision/yolo/workingdir/final/test/images/IMG20240427171504_jpg.rf.d89f976b79a96a4d3ff6bc35a8492617.jpg: 640x640 1 Cinnamon, 8.2ms\n",
            "image 395/1584 /content/drive/MyDrive/AyushVision/yolo/workingdir/final/test/images/IMG20240427171546_jpg.rf.c1de025e31d1a141507358b0c67e2857.jpg: 640x640 1 Cinnamon, 8.1ms\n",
            "image 396/1584 /content/drive/MyDrive/AyushVision/yolo/workingdir/final/test/images/IMG20240427171551_jpg.rf.016be330c955ef9a8f824977b7d912d8.jpg: 640x640 1 Cinnamon, 7.4ms\n",
            "image 397/1584 /content/drive/MyDrive/AyushVision/yolo/workingdir/final/test/images/IMG20240427171655_jpg.rf.dd9d52eb883eade04e24e63a56faa021.jpg: 640x640 1 Cinnamon, 7.9ms\n",
            "image 398/1584 /content/drive/MyDrive/AyushVision/yolo/workingdir/final/test/images/IMG20240427171757_jpg.rf.abfc2f16f1385e41fe71e3b26e35e6a8.jpg: 640x640 (no detections), 7.3ms\n",
            "image 399/1584 /content/drive/MyDrive/AyushVision/yolo/workingdir/final/test/images/IMG20240427171952_jpg.rf.fc4737e5fe8dadaa7ce472643ffef91a.jpg: 640x640 1 Cinnamon, 9.6ms\n",
            "image 400/1584 /content/drive/MyDrive/AyushVision/yolo/workingdir/final/test/images/IMG20240427172101_jpg.rf.d9b9083ae1e24bd97cca5efcea01bb06.jpg: 640x640 1 Cinnamon, 7.3ms\n",
            "image 401/1584 /content/drive/MyDrive/AyushVision/yolo/workingdir/final/test/images/IMG20240427172139_jpg.rf.d17099831ee89b9caa2237deda38fd82.jpg: 640x640 1 Cinnamon, 7.3ms\n",
            "image 402/1584 /content/drive/MyDrive/AyushVision/yolo/workingdir/final/test/images/IMG20240427172358_jpg.rf.ac548c34c416dcd1f2326b84d049b6c1.jpg: 640x640 1 Cinnamon, 7.3ms\n",
            "image 403/1584 /content/drive/MyDrive/AyushVision/yolo/workingdir/final/test/images/IMG20240427172435_jpg.rf.1ea17dd40bc4d9076c550b0b8f5958c5.jpg: 640x640 1 Cinnamon, 7.3ms\n",
            "image 404/1584 /content/drive/MyDrive/AyushVision/yolo/workingdir/final/test/images/IMG20240427172459_jpg.rf.4c37194a5bc4a42445108cc2b3d9983d.jpg: 640x640 1 Cinnamon, 8.2ms\n",
            "image 405/1584 /content/drive/MyDrive/AyushVision/yolo/workingdir/final/test/images/IMG20240427172554_jpg.rf.6a81d7bc996a9319273879c68c6ddfd4.jpg: 640x640 1 Cinnamon, 8.1ms\n",
            "image 406/1584 /content/drive/MyDrive/AyushVision/yolo/workingdir/final/test/images/IMG20240427172624_jpg.rf.b3ae0d76218babb7043ea45e7e027d95.jpg: 640x640 1 Cinnamon, 7.9ms\n",
            "image 407/1584 /content/drive/MyDrive/AyushVision/yolo/workingdir/final/test/images/IMG20240427172710_jpg.rf.17873c03f6acc9da6772e96dcabf2b28.jpg: 640x640 1 Vitexnegundo, 7.3ms\n",
            "image 408/1584 /content/drive/MyDrive/AyushVision/yolo/workingdir/final/test/images/IMG20240427193707_jpg.rf.51caac6082334ec6ce3ec1e4ccd9d549.jpg: 640x640 3 Acalyphaindicas, 7.3ms\n",
            "image 409/1584 /content/drive/MyDrive/AyushVision/yolo/workingdir/final/test/images/IMG20240427193717_jpg.rf.08d97ec2d0e9a7414972515d4b35ab55.jpg: 640x640 2 Acalyphaindicas, 8.0ms\n",
            "image 410/1584 /content/drive/MyDrive/AyushVision/yolo/workingdir/final/test/images/IMG20240427194008_jpg.rf.189cc1650f0a798c64edf1defc468899.jpg: 640x640 6 Acalyphaindicas, 7.4ms\n",
            "image 411/1584 /content/drive/MyDrive/AyushVision/yolo/workingdir/final/test/images/IMG20240427194039_jpg.rf.bea748be7938f3d5f2d4d9d829704985.jpg: 640x640 3 Acalyphaindicas, 8.5ms\n",
            "image 412/1584 /content/drive/MyDrive/AyushVision/yolo/workingdir/final/test/images/IMG20240427194422_jpg.rf.d2a49751f43c8ea4aa21ab4ff9fa29a9.jpg: 640x640 3 Acalyphaindicas, 7.3ms\n",
            "image 413/1584 /content/drive/MyDrive/AyushVision/yolo/workingdir/final/test/images/IMG20240427201156_jpg.rf.4e1769c9d5f8c1ac45d85f67bb1442d4.jpg: 640x640 1 Black_honey_shrub, 7.3ms\n",
            "image 414/1584 /content/drive/MyDrive/AyushVision/yolo/workingdir/final/test/images/IMG20240427201745_jpg.rf.93970b6fcd57982a24e2b6228720ae07.jpg: 640x640 2 Black_honey_shrubs, 7.3ms\n",
            "image 415/1584 /content/drive/MyDrive/AyushVision/yolo/workingdir/final/test/images/IMG20240427201925_jpg.rf.ba1f6ca6b63be2257797964ce0c7ba8c.jpg: 640x640 1 Black_honey_shrub, 7.3ms\n",
            "image 416/1584 /content/drive/MyDrive/AyushVision/yolo/workingdir/final/test/images/IMG20240427202446_jpg.rf.ab4d64653ce1338c37a7149c29c901d1.jpg: 640x640 1 Black_honey_shrub, 7.3ms\n",
            "image 417/1584 /content/drive/MyDrive/AyushVision/yolo/workingdir/final/test/images/IMG20240427202452_jpg.rf.c33af215d5e58619d8035be3bd344676.jpg: 640x640 1 Black_honey_shrub, 7.3ms\n",
            "image 418/1584 /content/drive/MyDrive/AyushVision/yolo/workingdir/final/test/images/IMG20240427202528_jpg.rf.ac1f81e208823d83203c3b0a301b7af5.jpg: 640x640 2 Black_honey_shrubs, 7.3ms\n",
            "image 419/1584 /content/drive/MyDrive/AyushVision/yolo/workingdir/final/test/images/IMG20240427203211_jpg.rf.da76c2ccf449c77d701441a1527c1570.jpg: 640x640 1 Black_honey_shrub, 7.3ms\n",
            "image 420/1584 /content/drive/MyDrive/AyushVision/yolo/workingdir/final/test/images/IMG20240427203744_jpg.rf.313bea97618bf8a8ab61f2dea936c6d5.jpg: 640x640 1 Black_honey_shrub, 7.3ms\n",
            "image 421/1584 /content/drive/MyDrive/AyushVision/yolo/workingdir/final/test/images/IMG20240427203820_jpg.rf.a341d3ca9004912b18e97cb0b02b1d47.jpg: 640x640 1 Black_honey_shrub, 7.3ms\n",
            "image 422/1584 /content/drive/MyDrive/AyushVision/yolo/workingdir/final/test/images/IMG20240427203823_jpg.rf.d8412f6ca2deef2dc1a349914113030a.jpg: 640x640 1 Black_honey_shrub, 8.4ms\n",
            "image 423/1584 /content/drive/MyDrive/AyushVision/yolo/workingdir/final/test/images/IMG20240427210752_jpg.rf.34cbc162357724ec8c9354081af7632d.jpg: 640x640 1 Oregano, 7.3ms\n",
            "image 424/1584 /content/drive/MyDrive/AyushVision/yolo/workingdir/final/test/images/IMG20240427210936_jpg.rf.a6f3c40e9723eb4a074f46cd9c036cb7.jpg: 640x640 1 Indian_Mallow, 1 Oregano, 7.4ms\n",
            "image 425/1584 /content/drive/MyDrive/AyushVision/yolo/workingdir/final/test/images/IMG20240427211351_jpg.rf.ce955e6f47142da122a52ba2ea23dcaf.jpg: 640x640 1 Oregano, 7.4ms\n",
            "image 426/1584 /content/drive/MyDrive/AyushVision/yolo/workingdir/final/test/images/IMG20240427211558_jpg.rf.2027ad9416cb683f2b5e67cfe64773a2.jpg: 640x640 1 Oregano, 7.3ms\n",
            "image 427/1584 /content/drive/MyDrive/AyushVision/yolo/workingdir/final/test/images/IMG20240427211927_jpg.rf.b457cab27223b788ad58e6f81dc07967.jpg: 640x640 1 Oregano, 7.3ms\n",
            "image 428/1584 /content/drive/MyDrive/AyushVision/yolo/workingdir/final/test/images/IMG20240427212220_jpg.rf.257f16c515c9bdedc43d14c6388eb170.jpg: 640x640 1 Oregano, 7.3ms\n",
            "image 429/1584 /content/drive/MyDrive/AyushVision/yolo/workingdir/final/test/images/IMG20240427212237_jpg.rf.7356a084682a2e31b63969f2d43cd85c.jpg: 640x640 1 Oregano, 7.3ms\n",
            "image 430/1584 /content/drive/MyDrive/AyushVision/yolo/workingdir/final/test/images/IMG20240427212358_jpg.rf.a50cf07b3d9b6fc9beadad87a51ed7fd.jpg: 640x640 1 Oregano, 7.3ms\n",
            "image 431/1584 /content/drive/MyDrive/AyushVision/yolo/workingdir/final/test/images/IMG20240427212614_jpg.rf.cdcac67f2eb71a47e29a5c71ed5b39e2.jpg: 640x640 1 Oregano, 7.3ms\n",
            "image 432/1584 /content/drive/MyDrive/AyushVision/yolo/workingdir/final/test/images/IMG20240427212726_jpg.rf.b9677841a0f329325d83a011ecd6595b.jpg: 640x640 1 Pedaliummurex, 7.3ms\n",
            "image 433/1584 /content/drive/MyDrive/AyushVision/yolo/workingdir/final/test/images/IMG20240427212840_jpg.rf.1891153c2aab46bd86186cd2464947c6.jpg: 640x640 1 Pedaliummurex, 9.4ms\n",
            "image 434/1584 /content/drive/MyDrive/AyushVision/yolo/workingdir/final/test/images/IMG20240427213018_jpg.rf.41100b1df8ad16419f766c58fe1f4284.jpg: 640x640 1 Pedaliummurex, 7.3ms\n",
            "image 435/1584 /content/drive/MyDrive/AyushVision/yolo/workingdir/final/test/images/IMG20240427213106_jpg.rf.85cf72b5197477a3e14c4ff2a815debe.jpg: 640x640 1 Oregano, 7.3ms\n",
            "image 436/1584 /content/drive/MyDrive/AyushVision/yolo/workingdir/final/test/images/IMG20240427213202_jpg.rf.932de1fb6210da201f23aa5593525f98.jpg: 640x640 1 Oregano, 7.3ms\n",
            "image 437/1584 /content/drive/MyDrive/AyushVision/yolo/workingdir/final/test/images/IMG20240427213253_jpg.rf.4bca3b7da848167ee4bf1f91b4844e20.jpg: 640x640 1 Oregano, 9.1ms\n",
            "image 438/1584 /content/drive/MyDrive/AyushVision/yolo/workingdir/final/test/images/IMG20240427213311_jpg.rf.8ec0aa4672deeb7cc3e9e5d6967b60fd.jpg: 640x640 1 Pedaliummurex, 8.7ms\n",
            "image 439/1584 /content/drive/MyDrive/AyushVision/yolo/workingdir/final/test/images/IMG20240427213341_jpg.rf.04541b478fc94d4da532b1050c901c96.jpg: 640x640 1 Pedaliummurex, 8.1ms\n",
            "image 440/1584 /content/drive/MyDrive/AyushVision/yolo/workingdir/final/test/images/IMG20240427213602_jpg.rf.730cd64194bcd7443a687a864b7ae2c0.jpg: 640x640 1 Pedaliummurex, 7.3ms\n",
            "image 441/1584 /content/drive/MyDrive/AyushVision/yolo/workingdir/final/test/images/IMG20240427213619_jpg.rf.889a5276d1ce04f76dd90dcc7f0e5ccb.jpg: 640x640 1 Pedaliummurex, 7.3ms\n",
            "image 442/1584 /content/drive/MyDrive/AyushVision/yolo/workingdir/final/test/images/IMG20240427213710_jpg.rf.afcdc543964631da226a01aa9565c859.jpg: 640x640 1 Pedaliummurex, 7.3ms\n",
            "image 443/1584 /content/drive/MyDrive/AyushVision/yolo/workingdir/final/test/images/IMG20240427213833_jpg.rf.a49998918d9f4a54370bdd6565905776.jpg: 640x640 1 Pedaliummurex, 7.3ms\n",
            "image 444/1584 /content/drive/MyDrive/AyushVision/yolo/workingdir/final/test/images/IMG20240427215803_jpg.rf.8ad438c20632b1a59d4e2a33c5704d8a.jpg: 640x640 1 Oregano, 7.3ms\n",
            "image 445/1584 /content/drive/MyDrive/AyushVision/yolo/workingdir/final/test/images/IMG20240427215806_jpg.rf.78d8d287c0fdd6c8e7cb2f50de05c230.jpg: 640x640 1 Oregano, 8.1ms\n",
            "image 446/1584 /content/drive/MyDrive/AyushVision/yolo/workingdir/final/test/images/IMG20240427220120_jpg.rf.7cae7be6805a6d344dd46fe63725a0f8.jpg: 640x640 1 Oregano, 7.3ms\n",
            "image 447/1584 /content/drive/MyDrive/AyushVision/yolo/workingdir/final/test/images/IMG20240427220131_jpg.rf.48e9e7af2d1f3866bddedaa22237b9db.jpg: 640x640 1 Oregano, 7.3ms\n",
            "image 448/1584 /content/drive/MyDrive/AyushVision/yolo/workingdir/final/test/images/IMG20240427220243_jpg.rf.5db67f8390fdb432383c81d4e49394ec.jpg: 640x640 1 Oregano, 8.7ms\n",
            "image 449/1584 /content/drive/MyDrive/AyushVision/yolo/workingdir/final/test/images/IMG20240427220335_jpg.rf.3398e68d95df283bb1ffc08a57105d0a.jpg: 640x640 1 Oregano, 7.3ms\n",
            "image 450/1584 /content/drive/MyDrive/AyushVision/yolo/workingdir/final/test/images/IMG20240427220549_jpg.rf.510696e8bd19626712d132db7afc52b6.jpg: 640x640 3 Oreganos, 7.3ms\n",
            "image 451/1584 /content/drive/MyDrive/AyushVision/yolo/workingdir/final/test/images/IMG20240427220644_jpg.rf.9c61974f3478e7c30e04e1456efd22ce.jpg: 640x640 1 Oregano, 7.3ms\n",
            "image 452/1584 /content/drive/MyDrive/AyushVision/yolo/workingdir/final/test/images/IMG20240427220654_jpg.rf.1588d6ad615308fc0a54223a232d1fee.jpg: 640x640 1 Oregano, 8.7ms\n",
            "image 453/1584 /content/drive/MyDrive/AyushVision/yolo/workingdir/final/test/images/IMG20240427220832_jpg.rf.5cfc02eeeb681de7b76a569cce91eab7.jpg: 640x640 1 Oregano, 7.3ms\n",
            "image 454/1584 /content/drive/MyDrive/AyushVision/yolo/workingdir/final/test/images/IMG20240427221214_jpg.rf.5d5e30118bf61200c911aac6936cceee.jpg: 640x640 1 Oregano, 10.9ms\n",
            "image 455/1584 /content/drive/MyDrive/AyushVision/yolo/workingdir/final/test/images/IMG20240427221228_jpg.rf.69d2ba750fc0c91da71c31b5846c1bca.jpg: 640x640 1 Oregano, 8.1ms\n",
            "image 456/1584 /content/drive/MyDrive/AyushVision/yolo/workingdir/final/test/images/IMG20240427221711_jpg.rf.06c8e4d52ed72e38fd7724eaa671b2d7.jpg: 640x640 3 Black_honey_shrubs, 7.3ms\n",
            "image 457/1584 /content/drive/MyDrive/AyushVision/yolo/workingdir/final/test/images/IMG20240427221713_jpg.rf.960e93ac6781f408ec43ead417516657.jpg: 640x640 4 Black_honey_shrubs, 9.6ms\n",
            "image 458/1584 /content/drive/MyDrive/AyushVision/yolo/workingdir/final/test/images/IMG20240427221729_jpg.rf.6ce9d865d0977a5db915cfba44567726.jpg: 640x640 1 Black_honey_shrub, 7.3ms\n",
            "image 459/1584 /content/drive/MyDrive/AyushVision/yolo/workingdir/final/test/images/IMG20240427222626_jpg.rf.fbc4f4ad65292042e85ff7873b0eb880.jpg: 640x640 1 Black_honey_shrub, 7.7ms\n",
            "image 460/1584 /content/drive/MyDrive/AyushVision/yolo/workingdir/final/test/images/IMG20240427222644_jpg.rf.ec5ac94fb9e575d8f417dcd6407eb431.jpg: 640x640 5 Black_honey_shrubs, 8.3ms\n",
            "image 461/1584 /content/drive/MyDrive/AyushVision/yolo/workingdir/final/test/images/IMG20240428170156_jpg.rf.fc55e43c026248da6694e7f181c19196.jpg: 640x640 1 Black_honey_shrub, 7.3ms\n",
            "image 462/1584 /content/drive/MyDrive/AyushVision/yolo/workingdir/final/test/images/IMG20240428170202_jpg.rf.fa3349f9087f708161e0560bd65673d3.jpg: 640x640 1 Black_honey_shrub, 7.3ms\n",
            "image 463/1584 /content/drive/MyDrive/AyushVision/yolo/workingdir/final/test/images/IMG20240428170208_jpg.rf.55a92142f87ede8d41dbb5d1a088c27f.jpg: 640x640 1 Black_honey_shrub, 7.3ms\n",
            "image 464/1584 /content/drive/MyDrive/AyushVision/yolo/workingdir/final/test/images/IMG20240428170220_jpg.rf.dd510a2bc481fba45b891381dc69a3c6.jpg: 640x640 1 Black_honey_shrub, 7.3ms\n",
            "image 465/1584 /content/drive/MyDrive/AyushVision/yolo/workingdir/final/test/images/IMG20240428170548_jpg.rf.e24d88a48c91734efa4ce85d4b7dcb8e.jpg: 640x640 1 Black_honey_shrub, 8.1ms\n",
            "image 466/1584 /content/drive/MyDrive/AyushVision/yolo/workingdir/final/test/images/IMG20240428170733_jpg.rf.0680385ee9a8488a4a6ae371a3ccbd6b.jpg: 640x640 1 Black_honey_shrub, 7.3ms\n",
            "image 467/1584 /content/drive/MyDrive/AyushVision/yolo/workingdir/final/test/images/IMG20240428171131_jpg.rf.2a6dda1251c877b69fff51e095b8c5be.jpg: 640x640 1 Black_honey_shrub, 7.3ms\n",
            "image 468/1584 /content/drive/MyDrive/AyushVision/yolo/workingdir/final/test/images/IMG20240428171520_01_jpg.rf.6949b27662079847e45c73455c8eddbd.jpg: 640x640 1 Black_honey_shrub, 8.5ms\n",
            "image 469/1584 /content/drive/MyDrive/AyushVision/yolo/workingdir/final/test/images/IMG20240428171823_jpg.rf.2e2252db2ae97c45e08a95cab62dbc55.jpg: 640x640 3 Seedsunder_leafs, 7.3ms\n",
            "image 470/1584 /content/drive/MyDrive/AyushVision/yolo/workingdir/final/test/images/IMG20240428171954_jpg.rf.381be8ed97e8bb2f440a3dc268661fba.jpg: 640x640 1 Black_honey_shrub, 8.4ms\n",
            "image 471/1584 /content/drive/MyDrive/AyushVision/yolo/workingdir/final/test/images/IMG20240428172131_jpg.rf.b528019c434d833ef75fc7f94595144c.jpg: 640x640 1 Black_honey_shrub, 7.9ms\n",
            "image 472/1584 /content/drive/MyDrive/AyushVision/yolo/workingdir/final/test/images/IMG20240428172257_jpg.rf.f154d5233dbb8dde726f286e684472ca.jpg: 640x640 1 Black_honey_shrub, 8.2ms\n",
            "image 473/1584 /content/drive/MyDrive/AyushVision/yolo/workingdir/final/test/images/IMG20240428172341_jpg.rf.21f9883e60caf5189aea39cc9ac02c92.jpg: 640x640 1 Black_honey_shrub, 7.3ms\n",
            "image 474/1584 /content/drive/MyDrive/AyushVision/yolo/workingdir/final/test/images/IMG20240428172412_jpg.rf.cfb9f5b0092727c2bc4e06cab75bed6a.jpg: 640x640 1 Black_honey_shrub, 11.7ms\n",
            "image 475/1584 /content/drive/MyDrive/AyushVision/yolo/workingdir/final/test/images/IMG20240428172415_jpg.rf.25d84bd05b5a8b3da2b9f144109c3995.jpg: 640x640 1 Black_honey_shrub, 8.2ms\n",
            "image 476/1584 /content/drive/MyDrive/AyushVision/yolo/workingdir/final/test/images/IMG20240428172518_jpg.rf.6f2914ff5ffe2774e495a353df7abe2e.jpg: 640x640 1 Black_honey_shrub, 7.3ms\n",
            "image 477/1584 /content/drive/MyDrive/AyushVision/yolo/workingdir/final/test/images/IMG20240428172824_jpg.rf.08139933d7a22004960ed9005fc2dc89.jpg: 640x640 1 Black_honey_shrub, 7.3ms\n",
            "image 478/1584 /content/drive/MyDrive/AyushVision/yolo/workingdir/final/test/images/IMG20240428172925_jpg.rf.906b7205602c90bd9343dd994a5ae745.jpg: 640x640 1 Black_honey_shrub, 10.0ms\n",
            "image 479/1584 /content/drive/MyDrive/AyushVision/yolo/workingdir/final/test/images/IMG20240428173019_jpg.rf.9dc2f8d4e127f14602d0b508095d16bb.jpg: 640x640 1 Black_honey_shrub, 7.4ms\n",
            "image 480/1584 /content/drive/MyDrive/AyushVision/yolo/workingdir/final/test/images/IMG20240428173024_jpg.rf.94abaa0011afbb8db97c508576f31290.jpg: 640x640 1 Black_honey_shrub, 7.3ms\n",
            "image 481/1584 /content/drive/MyDrive/AyushVision/yolo/workingdir/final/test/images/IMG20240428173056_jpg.rf.a1a59b317db76c1194cebac6085ffc1b.jpg: 640x640 1 Black_honey_shrub, 7.3ms\n",
            "image 482/1584 /content/drive/MyDrive/AyushVision/yolo/workingdir/final/test/images/IMG20240428173340_jpg.rf.6e1c2076c50e32963f7df093606105a9.jpg: 640x640 1 Black_honey_shrub, 7.5ms\n",
            "image 483/1584 /content/drive/MyDrive/AyushVision/yolo/workingdir/final/test/images/IMG20240428173344_jpg.rf.74b75c43cda6caef81ed47718b8ce1a6.jpg: 640x640 1 Black_honey_shrub, 7.3ms\n",
            "image 484/1584 /content/drive/MyDrive/AyushVision/yolo/workingdir/final/test/images/IMG20240428173357_jpg.rf.133e84a1320839b6a9e73406171d80ba.jpg: 640x640 1 Black_honey_shrub, 8.5ms\n",
            "image 485/1584 /content/drive/MyDrive/AyushVision/yolo/workingdir/final/test/images/IMG20240428173723_jpg.rf.3f2f81c8b9aa999b4185f92ad06ce849.jpg: 640x640 1 Black_honey_shrub, 8.5ms\n",
            "image 486/1584 /content/drive/MyDrive/AyushVision/yolo/workingdir/final/test/images/IMG20240428173746_jpg.rf.0d77b6d7efd9217f0f3de6f2e1c5b381.jpg: 640x640 1 Black_honey_shrub, 8.6ms\n",
            "image 487/1584 /content/drive/MyDrive/AyushVision/yolo/workingdir/final/test/images/IMG20240430152242_jpg.rf.13d7547b1c5ba42ba51cfe536e3b89d2.jpg: 640x640 1 Neem, 8.9ms\n",
            "image 488/1584 /content/drive/MyDrive/AyushVision/yolo/workingdir/final/test/images/IMG20240430152336_jpg.rf.df4e6a6cd3989333eda1c42e34dc8fb7.jpg: 640x640 1 Neem, 7.3ms\n",
            "image 489/1584 /content/drive/MyDrive/AyushVision/yolo/workingdir/final/test/images/IMG20240430152402_jpg.rf.3b76f12dfb519058d7b3ad11f0466248.jpg: 640x640 2 Neems, 7.3ms\n",
            "image 490/1584 /content/drive/MyDrive/AyushVision/yolo/workingdir/final/test/images/IMG20240430152529_jpg.rf.acbaa1e3b6207ae667bca1f55f081fb7.jpg: 640x640 1 Neem, 7.3ms\n",
            "image 491/1584 /content/drive/MyDrive/AyushVision/yolo/workingdir/final/test/images/IMG20240430152636_jpg.rf.4647b8ef89195912912c81268c45c939.jpg: 640x640 1 Neem, 7.3ms\n",
            "image 492/1584 /content/drive/MyDrive/AyushVision/yolo/workingdir/final/test/images/IMG20240430152914_jpg.rf.91ec0a60b01ea2949c23fd32a89f90e6.jpg: 640x640 1 Neem, 7.3ms\n",
            "image 493/1584 /content/drive/MyDrive/AyushVision/yolo/workingdir/final/test/images/IMG20240430152922_jpg.rf.0072afa5c6c883ff06d534957706d702.jpg: 640x640 1 Neem, 7.3ms\n",
            "image 494/1584 /content/drive/MyDrive/AyushVision/yolo/workingdir/final/test/images/IMG20240430153104_jpg.rf.7a4655c709918f211cc1d66a609cbaea.jpg: 640x640 1 Neem, 7.3ms\n",
            "image 495/1584 /content/drive/MyDrive/AyushVision/yolo/workingdir/final/test/images/IMG20240430153138_jpg.rf.139265ad8d314542fcd39985f4a2d043.jpg: 640x640 1 Neem, 7.3ms\n",
            "image 496/1584 /content/drive/MyDrive/AyushVision/yolo/workingdir/final/test/images/IMG20240501095314_jpg.rf.5eee8666dad09db209ba95d19317546f.jpg: 640x640 1 Black_honey_shrub, 7.3ms\n",
            "image 497/1584 /content/drive/MyDrive/AyushVision/yolo/workingdir/final/test/images/IMG20240501100711_jpg.rf.2ad618a31274c24c075df292412ff88e.jpg: 640x640 1 Black_honey_shrub, 7.3ms\n",
            "image 498/1584 /content/drive/MyDrive/AyushVision/yolo/workingdir/final/test/images/IMG20240501100818_jpg.rf.c49f0cf4076471db152764ee7f5c52d6.jpg: 640x640 1 Black_honey_shrub, 7.9ms\n",
            "image 499/1584 /content/drive/MyDrive/AyushVision/yolo/workingdir/final/test/images/IMG20240501100935_jpg.rf.347b9e2dd3fdea11fd5e9e6a65b34de9.jpg: 640x640 1 Black_honey_shrub, 7.3ms\n",
            "image 500/1584 /content/drive/MyDrive/AyushVision/yolo/workingdir/final/test/images/IMG20240501101028_jpg.rf.079450a23a8f4780820fed06220e2017.jpg: 640x640 1 Black_honey_shrub, 7.5ms\n",
            "image 501/1584 /content/drive/MyDrive/AyushVision/yolo/workingdir/final/test/images/IMG20240501101102_jpg.rf.d8929b389250a941d9d40aa78bc588b3.jpg: 640x640 1 Black_honey_shrub, 8.7ms\n",
            "image 502/1584 /content/drive/MyDrive/AyushVision/yolo/workingdir/final/test/images/IMG20240501101218_jpg.rf.8907ef07f5e04a70d10b00cb8d308c12.jpg: 640x640 1 Black_honey_shrub, 7.4ms\n",
            "image 503/1584 /content/drive/MyDrive/AyushVision/yolo/workingdir/final/test/images/IMG20240501101241_jpg.rf.c85c9b465c022d277687b8360bfa9a6e.jpg: 640x640 1 Black_honey_shrub, 7.7ms\n",
            "image 504/1584 /content/drive/MyDrive/AyushVision/yolo/workingdir/final/test/images/IMG20240501161255_jpg.rf.ae6b1c92eb44960757acefbf6b8269f2.jpg: 640x640 1 Neem, 8.5ms\n",
            "image 505/1584 /content/drive/MyDrive/AyushVision/yolo/workingdir/final/test/images/IMG20240501161400_jpg.rf.4e2c2d52e27b29546113e4cda1a59370.jpg: 640x640 1 Neem, 7.3ms\n",
            "image 506/1584 /content/drive/MyDrive/AyushVision/yolo/workingdir/final/test/images/IMG20240501161704_jpg.rf.50a10fe55c9466d2988f4cd00b777b89.jpg: 640x640 1 Neem, 7.4ms\n",
            "image 507/1584 /content/drive/MyDrive/AyushVision/yolo/workingdir/final/test/images/IMG20240501162534_jpg.rf.20c06fc9bca4078ff586661a842e2b1d.jpg: 640x640 1 Neem, 8.8ms\n",
            "image 508/1584 /content/drive/MyDrive/AyushVision/yolo/workingdir/final/test/images/IMG20240501175832_jpg.rf.d7ba20e8567dc7fd9d4b03924f523740.jpg: 640x640 1 Alovera, 8.7ms\n",
            "image 509/1584 /content/drive/MyDrive/AyushVision/yolo/workingdir/final/test/images/IMG20240501175838_jpg.rf.fe856e9150fd7508084cb67f46251dc5.jpg: 640x640 1 Alovera, 7.3ms\n",
            "image 510/1584 /content/drive/MyDrive/AyushVision/yolo/workingdir/final/test/images/IMG20240501175856_jpg.rf.81c6a93c457b53d871eaff91afab9baf.jpg: 640x640 1 Alovera, 7.3ms\n",
            "image 511/1584 /content/drive/MyDrive/AyushVision/yolo/workingdir/final/test/images/IMG20240501190805_jpg.rf.8f2201fb8d68ec416c837d0142b51e35.jpg: 640x640 1 Ivy_gourd, 7.3ms\n",
            "image 512/1584 /content/drive/MyDrive/AyushVision/yolo/workingdir/final/test/images/IMG20240501190912_jpg.rf.5bf95c5dcce1cb961e7ccbfd97cb93fe.jpg: 640x640 1 Ivy_gourd, 7.3ms\n",
            "image 513/1584 /content/drive/MyDrive/AyushVision/yolo/workingdir/final/test/images/IMG20240501190921_jpg.rf.d07622511d1647c677f04c2b7d05ea45.jpg: 640x640 1 Ivy_gourd, 7.3ms\n",
            "image 514/1584 /content/drive/MyDrive/AyushVision/yolo/workingdir/final/test/images/IMG20240501191032_jpg.rf.e10e190c8ce1038760a2557fbf84fd89.jpg: 640x640 1 Ivy_gourd, 7.3ms\n",
            "image 515/1584 /content/drive/MyDrive/AyushVision/yolo/workingdir/final/test/images/IMG20240501191225_jpg.rf.fd28e2144d9282a2770eb2f2dee0ccfa.jpg: 640x640 1 Ivy_gourd, 7.3ms\n",
            "image 516/1584 /content/drive/MyDrive/AyushVision/yolo/workingdir/final/test/images/IMG20240501191230_jpg.rf.11d2b692a6208ab42e052cfcaf27b0ee.jpg: 640x640 1 Ivy_gourd, 7.3ms\n",
            "image 517/1584 /content/drive/MyDrive/AyushVision/yolo/workingdir/final/test/images/IMG20240501191257_jpg.rf.b20b00e1ab50c9df99ca7931d3705a45.jpg: 640x640 1 Ivy_gourd, 9.4ms\n",
            "image 518/1584 /content/drive/MyDrive/AyushVision/yolo/workingdir/final/test/images/IMG20240501191401_jpg.rf.89d4348cf4b9b120a080e0d111115c6a.jpg: 640x640 1 Ivy_gourd, 12.0ms\n",
            "image 519/1584 /content/drive/MyDrive/AyushVision/yolo/workingdir/final/test/images/IMG20240501191404_jpg.rf.839a6dffe2d0d48b6a6f09d5646bfa9d.jpg: 640x640 1 Ivy_gourd, 11.1ms\n",
            "image 520/1584 /content/drive/MyDrive/AyushVision/yolo/workingdir/final/test/images/IMG20240501191442_jpg.rf.157b7972d3fd4c2b7a84c1768d19e065.jpg: 640x640 1 Ivy_gourd, 7.4ms\n",
            "image 521/1584 /content/drive/MyDrive/AyushVision/yolo/workingdir/final/test/images/IMG20240501191505_jpg.rf.45941720d95af21c9419fe9a2ef6f754.jpg: 640x640 1 Ivy_gourd, 7.3ms\n",
            "image 522/1584 /content/drive/MyDrive/AyushVision/yolo/workingdir/final/test/images/IMG20240501191903_jpg.rf.fb046ea92071f23654a6a1473002d638.jpg: 640x640 1 Ivy_gourd, 8.6ms\n",
            "image 523/1584 /content/drive/MyDrive/AyushVision/yolo/workingdir/final/test/images/IMG20240501192022_jpg.rf.a8fb2a7b7860a19ba5be5e614fd31aa5.jpg: 640x640 1 Ivy_gourd, 8.2ms\n",
            "image 524/1584 /content/drive/MyDrive/AyushVision/yolo/workingdir/final/test/images/IMG20240501192622_jpg.rf.0ebea3117a281da2e5fa67ffaca6d771.jpg: 640x640 1 Ivy_gourd, 7.3ms\n",
            "image 525/1584 /content/drive/MyDrive/AyushVision/yolo/workingdir/final/test/images/IMG20240501192913_jpg.rf.3d0a7e43e520097500825c8db5d94a1a.jpg: 640x640 1 Ivy_gourd, 7.3ms\n",
            "image 526/1584 /content/drive/MyDrive/AyushVision/yolo/workingdir/final/test/images/IMG20240501192923_jpg.rf.955b77759e7b49b891b4ae4c3d4a773d.jpg: 640x640 1 Ivy_gourd, 7.3ms\n",
            "image 527/1584 /content/drive/MyDrive/AyushVision/yolo/workingdir/final/test/images/IMG20240501192932_jpg.rf.891416ef6a120bb50abe97a766cc20d3.jpg: 640x640 1 Ivy_gourd, 7.3ms\n",
            "image 528/1584 /content/drive/MyDrive/AyushVision/yolo/workingdir/final/test/images/IMG20240501193130_jpg.rf.97871fba2770ce15b0d533a5ec79274c.jpg: 640x640 1 Ivy_gourd, 10.5ms\n",
            "image 529/1584 /content/drive/MyDrive/AyushVision/yolo/workingdir/final/test/images/IMG20240501193327_jpg.rf.dee310e89770ff9cb7b3a090d2aa6cf1.jpg: 640x640 1 Ivy_gourd, 7.3ms\n",
            "image 530/1584 /content/drive/MyDrive/AyushVision/yolo/workingdir/final/test/images/IMG20240501193736_jpg.rf.39cab2afcd95fb3304c0a23bbedc0ac8.jpg: 640x640 1 Ivy_gourd, 7.3ms\n",
            "image 531/1584 /content/drive/MyDrive/AyushVision/yolo/workingdir/final/test/images/IMG20240501194109_jpg.rf.bfcd20a1c3ee0ccea693cc3e81e7b647.jpg: 640x640 1 Ivy_gourd, 7.3ms\n",
            "image 532/1584 /content/drive/MyDrive/AyushVision/yolo/workingdir/final/test/images/IMG20240501194136_jpg.rf.14030c4cc2718cba09c72d3197940225.jpg: 640x640 1 Ivy_gourd, 7.3ms\n",
            "image 533/1584 /content/drive/MyDrive/AyushVision/yolo/workingdir/final/test/images/IMG20240501194223_jpg.rf.7f237ae72f50bff073965b8d1ab7680a.jpg: 640x640 1 Ivy_gourd, 7.3ms\n",
            "image 534/1584 /content/drive/MyDrive/AyushVision/yolo/workingdir/final/test/images/IMG20240501194435_jpg.rf.5cac1385902d181b71b5afdec1088068.jpg: 640x640 1 Ivy_gourd, 7.3ms\n",
            "image 535/1584 /content/drive/MyDrive/AyushVision/yolo/workingdir/final/test/images/IMG20240501194507_jpg.rf.5b58f9f5ae9ef8fa7b2e594234dc09c6.jpg: 640x640 1 Ivy_gourd, 7.3ms\n",
            "image 536/1584 /content/drive/MyDrive/AyushVision/yolo/workingdir/final/test/images/IMG20240501194517_jpg.rf.0ef88b39a7bd1eafb96c2719eb91cf25.jpg: 640x640 1 Ivy_gourd, 7.3ms\n",
            "image 537/1584 /content/drive/MyDrive/AyushVision/yolo/workingdir/final/test/images/IMG20240501194656_jpg.rf.be8001fb377417eea7950170f283a2ce.jpg: 640x640 1 Ivy_gourd, 7.3ms\n",
            "image 538/1584 /content/drive/MyDrive/AyushVision/yolo/workingdir/final/test/images/IMG20240501195224_jpg.rf.88509e48632d6c76642792f9269649d3.jpg: 640x640 1 Ivy_gourd, 7.3ms\n",
            "image 539/1584 /content/drive/MyDrive/AyushVision/yolo/workingdir/final/test/images/IMG20240501195301_jpg.rf.b57d04bbf6eaaa62b7b754e2734e8bec.jpg: 640x640 1 Ivy_gourd, 7.3ms\n",
            "image 540/1584 /content/drive/MyDrive/AyushVision/yolo/workingdir/final/test/images/IMG20240501195349_jpg.rf.c55df2beefe3207edcdeacdb21606687.jpg: 640x640 1 Ivy_gourd, 7.3ms\n",
            "image 541/1584 /content/drive/MyDrive/AyushVision/yolo/workingdir/final/test/images/IMG20240501195752_jpg.rf.e63f0ffde25de5b11f109dd7bfcca842.jpg: 640x640 1 Ivy_gourd, 7.3ms\n",
            "image 542/1584 /content/drive/MyDrive/AyushVision/yolo/workingdir/final/test/images/IMG20240501195834_jpg.rf.1de7dcfdb54679ad32bbb70dab2888c9.jpg: 640x640 1 Ivy_gourd, 7.3ms\n",
            "image 543/1584 /content/drive/MyDrive/AyushVision/yolo/workingdir/final/test/images/IMG20240501200520_jpg.rf.cba315aeffb8af0d9c3df5b34268ba9d.jpg: 640x640 1 Henna, 7.3ms\n",
            "image 544/1584 /content/drive/MyDrive/AyushVision/yolo/workingdir/final/test/images/IMG20240501214137_jpg.rf.74c6879e565a473c1cb3278bfd7b8d58.jpg: 640x640 1 Neem, 7.3ms\n",
            "image 545/1584 /content/drive/MyDrive/AyushVision/yolo/workingdir/final/test/images/IMG20240501214230_jpg.rf.1deb63aeb7412b706007e3a078b007f2.jpg: 640x640 1 Neem, 7.3ms\n",
            "image 546/1584 /content/drive/MyDrive/AyushVision/yolo/workingdir/final/test/images/IMG20240501214421_jpg.rf.5bdd95fef53924cdc92b54dd1fdb065a.jpg: 640x640 1 Neem, 7.3ms\n",
            "image 547/1584 /content/drive/MyDrive/AyushVision/yolo/workingdir/final/test/images/IMG20240501214458_jpg.rf.2ce95abb5a058f1f0863a97e7bb9a72b.jpg: 640x640 1 Adamant_Creeper, 7.3ms\n",
            "image 548/1584 /content/drive/MyDrive/AyushVision/yolo/workingdir/final/test/images/IMG20240501214511_jpg.rf.846708897ad640c06590bb53f6076f4b.jpg: 640x640 1 Neem, 7.4ms\n",
            "image 549/1584 /content/drive/MyDrive/AyushVision/yolo/workingdir/final/test/images/IMG20240501215358_jpg.rf.57009badddebcf5ca49d7ea38c9061e7.jpg: 640x640 1 Pedaliummurex, 7.3ms\n",
            "image 550/1584 /content/drive/MyDrive/AyushVision/yolo/workingdir/final/test/images/IMG20240501215512_jpg.rf.50069783ecddf0c3e99d80469876dd4f.jpg: 640x640 1 Neem, 1 Pedaliummurex, 7.4ms\n",
            "image 551/1584 /content/drive/MyDrive/AyushVision/yolo/workingdir/final/test/images/IMG20240501215717_jpg.rf.5232286aabdf4c410471a89adfa3f271.jpg: 640x640 1 Neem, 7.3ms\n",
            "image 552/1584 /content/drive/MyDrive/AyushVision/yolo/workingdir/final/test/images/IMG20240501215842_jpg.rf.b9227fa397290e4f2c5bb950866ab5aa.jpg: 640x640 1 Neem, 7.3ms\n",
            "image 553/1584 /content/drive/MyDrive/AyushVision/yolo/workingdir/final/test/images/IMG20240501220921_jpg.rf.d3a4b77c334bb37b33a46b21284a9b38.jpg: 640x640 7 Hennas, 7.3ms\n",
            "image 554/1584 /content/drive/MyDrive/AyushVision/yolo/workingdir/final/test/images/IMG20240502101310_jpg.rf.f557190e2fe86f1886c3bdef584bccfb.jpg: 640x640 1 Henna, 7.3ms\n",
            "image 555/1584 /content/drive/MyDrive/AyushVision/yolo/workingdir/final/test/images/IMG20240502101329_jpg.rf.48ed76b328f09992826b9d97ae675f2b.jpg: 640x640 2 Hennas, 7.3ms\n",
            "image 556/1584 /content/drive/MyDrive/AyushVision/yolo/workingdir/final/test/images/IMG20240502101403_jpg.rf.79376196eb789d7f53cc7fc3097a0ef1.jpg: 640x640 1 Sleepy_plant, 7.3ms\n",
            "image 557/1584 /content/drive/MyDrive/AyushVision/yolo/workingdir/final/test/images/IMG20240502101408_jpg.rf.9d6e078daced32e10a83351909f04087.jpg: 640x640 3 Hennas, 7.9ms\n",
            "image 558/1584 /content/drive/MyDrive/AyushVision/yolo/workingdir/final/test/images/IMG20240502101513_jpg.rf.442c5d46f73577411dd2b7db00ce1e08.jpg: 640x640 3 Hennas, 1 Acalyphaindica, 7.3ms\n",
            "image 559/1584 /content/drive/MyDrive/AyushVision/yolo/workingdir/final/test/images/IMG20240502101544_jpg.rf.6462b20b837d22f7b72481e7f5c5ad35.jpg: 640x640 1 Henna, 7.3ms\n",
            "image 560/1584 /content/drive/MyDrive/AyushVision/yolo/workingdir/final/test/images/IMG20240502102206_jpg.rf.bcefa288da8f8937b5b43ba580f4e25d.jpg: 640x640 1 Henna, 7.3ms\n",
            "image 561/1584 /content/drive/MyDrive/AyushVision/yolo/workingdir/final/test/images/IMG20240502102926_jpg.rf.6285fa00ae78335fc469352a79c18985.jpg: 640x640 3 Hennas, 7.3ms\n",
            "image 562/1584 /content/drive/MyDrive/AyushVision/yolo/workingdir/final/test/images/IMG20240502103111_jpg.rf.4597e8d1208cbdcc9611f1115d02ec15.jpg: 640x640 1 Henna, 7.3ms\n",
            "image 563/1584 /content/drive/MyDrive/AyushVision/yolo/workingdir/final/test/images/IMG20240502103918_jpg.rf.84367c5a9817eb56ff1928b130146182.jpg: 640x640 1 Henna, 7.3ms\n",
            "image 564/1584 /content/drive/MyDrive/AyushVision/yolo/workingdir/final/test/images/IMG20240502104051_jpg.rf.98b23399dad1b9986d1a13d83a3b8ad8.jpg: 640x640 3 Hennas, 1 Redpea_egg_plant, 1 Vitexnegundo, 7.3ms\n",
            "image 565/1584 /content/drive/MyDrive/AyushVision/yolo/workingdir/final/test/images/IMG20240502104248_jpg.rf.d1d091d882f2a6df9976bd21c99cd3ef.jpg: 640x640 6 Hennas, 7.3ms\n",
            "image 566/1584 /content/drive/MyDrive/AyushVision/yolo/workingdir/final/test/images/IMG20240502104503_jpg.rf.9c4df26b8f585303310cd9b8c61f10fd.jpg: 640x640 1 Henna, 7.5ms\n",
            "image 567/1584 /content/drive/MyDrive/AyushVision/yolo/workingdir/final/test/images/IMG20240502104526_jpg.rf.4818023ae52c5b4c4dd95769172abff8.jpg: 640x640 1 Henna, 7.8ms\n",
            "image 568/1584 /content/drive/MyDrive/AyushVision/yolo/workingdir/final/test/images/IMG20240502104818_jpg.rf.938994ad7bc4de27fe81b760a7af8ad5.jpg: 640x640 2 Hennas, 7.3ms\n",
            "image 569/1584 /content/drive/MyDrive/AyushVision/yolo/workingdir/final/test/images/IMG20240502104828_jpg.rf.ab6b5bc1dc27ac16f575430281b07fb3.jpg: 640x640 1 lime, 2 Hennas, 7.6ms\n",
            "image 570/1584 /content/drive/MyDrive/AyushVision/yolo/workingdir/final/test/images/IMG20240502105402_jpg.rf.fa33a802c3b089a70bb3238d27d86476.jpg: 640x640 1 Henna, 7.1ms\n",
            "image 571/1584 /content/drive/MyDrive/AyushVision/yolo/workingdir/final/test/images/IMG20240502105444_jpg.rf.1f78c2a5b1ac41e1d691e332f3b442a4.jpg: 640x640 1 Henna, 8.0ms\n",
            "image 572/1584 /content/drive/MyDrive/AyushVision/yolo/workingdir/final/test/images/IMG20240502105455_jpg.rf.a98aaf43c9798570c7eec46ff20b5519.jpg: 640x640 1 Henna, 7.1ms\n",
            "image 573/1584 /content/drive/MyDrive/AyushVision/yolo/workingdir/final/test/images/IMG20240502105515_jpg.rf.0e044b18656758fb1641a63b5e1702b4.jpg: 640x640 2 Hennas, 7.4ms\n",
            "image 574/1584 /content/drive/MyDrive/AyushVision/yolo/workingdir/final/test/images/IMG20240502105518_jpg.rf.82fbaf5d293f48d58a5da1a6d46a4288.jpg: 640x640 1 Henna, 7.4ms\n",
            "image 575/1584 /content/drive/MyDrive/AyushVision/yolo/workingdir/final/test/images/IMG20240502105801_jpg.rf.6a6f889bf83150efc11e4be511d451d6.jpg: 640x640 1 Henna, 7.4ms\n",
            "image 576/1584 /content/drive/MyDrive/AyushVision/yolo/workingdir/final/test/images/IMG20240502105804_jpg.rf.e01852014b6cd693a3b4fe8e3f2a39d9.jpg: 640x640 1 Henna, 7.4ms\n",
            "image 577/1584 /content/drive/MyDrive/AyushVision/yolo/workingdir/final/test/images/IMG20240502105811_jpg.rf.0c0f3df40bf219239deca06333b89870.jpg: 640x640 1 Henna, 7.4ms\n",
            "image 578/1584 /content/drive/MyDrive/AyushVision/yolo/workingdir/final/test/images/IMG20240502105927_jpg.rf.b45d6e494dd4ab318ac39500c63b57ab.jpg: 640x640 2 Hennas, 7.4ms\n",
            "image 579/1584 /content/drive/MyDrive/AyushVision/yolo/workingdir/final/test/images/IMG20240512132609_jpg.rf.ebc9470c9ea86765e4fc83442adbaca0.jpg: 640x640 1 Hibiscus, 7.3ms\n",
            "image 580/1584 /content/drive/MyDrive/AyushVision/yolo/workingdir/final/test/images/IMG20240512132738_jpg.rf.5e732be98cafa12af2aad39aaf4f357d.jpg: 640x640 1 Hibiscus, 7.3ms\n",
            "image 581/1584 /content/drive/MyDrive/AyushVision/yolo/workingdir/final/test/images/IMG20240512132807_jpg.rf.f94c0363c0c2b23e44bc5e41975c8fcf.jpg: 640x640 1 Hibiscus, 8.0ms\n",
            "image 582/1584 /content/drive/MyDrive/AyushVision/yolo/workingdir/final/test/images/IMG20240512133116_jpg.rf.cec06923df886c3fc905e2b4f4a2851b.jpg: 640x640 1 Hibiscus, 7.3ms\n",
            "image 583/1584 /content/drive/MyDrive/AyushVision/yolo/workingdir/final/test/images/IMG20240512133127_jpg.rf.6f713a0248c1e8e41b3315ba7423c396.jpg: 640x640 1 Hibiscus, 7.3ms\n",
            "image 584/1584 /content/drive/MyDrive/AyushVision/yolo/workingdir/final/test/images/IMG20240512133254_jpg.rf.eb3e3dd2ddbacf3db21c89b7e87dad81.jpg: 640x640 1 Hibiscus, 7.3ms\n",
            "image 585/1584 /content/drive/MyDrive/AyushVision/yolo/workingdir/final/test/images/IMG20240512133344_jpg.rf.9707a02179e2d05952076a776d3e8253.jpg: 640x640 1 Hibiscus, 7.3ms\n",
            "image 586/1584 /content/drive/MyDrive/AyushVision/yolo/workingdir/final/test/images/IMG20240512133453_jpg.rf.4cec92818d902e8882caa74abf10a9ad.jpg: 640x640 1 Hibiscus, 7.3ms\n",
            "image 587/1584 /content/drive/MyDrive/AyushVision/yolo/workingdir/final/test/images/IMG20240512133520_jpg.rf.e3e63c353898a203b7a3ef4b833e4aad.jpg: 640x640 1 Hibiscus, 8.3ms\n",
            "image 588/1584 /content/drive/MyDrive/AyushVision/yolo/workingdir/final/test/images/IMG20240512133526_jpg.rf.ef53d34813ce809507652b053cc08c5e.jpg: 640x640 1 Hibiscus, 7.3ms\n",
            "image 589/1584 /content/drive/MyDrive/AyushVision/yolo/workingdir/final/test/images/IMG20240512133653_jpg.rf.701ec2535044eaa8eee944bb33e9b8f4.jpg: 640x640 1 Hibiscus, 7.3ms\n",
            "image 590/1584 /content/drive/MyDrive/AyushVision/yolo/workingdir/final/test/images/IMG20240512134037_jpg.rf.7442f309e8ce849e9df5aced28dc9944.jpg: 640x640 1 Hibiscus, 7.3ms\n",
            "image 591/1584 /content/drive/MyDrive/AyushVision/yolo/workingdir/final/test/images/IMG20240512134156_jpg.rf.44a306e545573abf3e413b46469a21b6.jpg: 640x640 1 Hibiscus, 7.3ms\n",
            "image 592/1584 /content/drive/MyDrive/AyushVision/yolo/workingdir/final/test/images/IMG20240512134309_jpg.rf.f4196e7bea37aff8d336437c6e7f2306.jpg: 640x640 1 Hibiscus, 7.3ms\n",
            "image 593/1584 /content/drive/MyDrive/AyushVision/yolo/workingdir/final/test/images/IMG20240512134425_jpg.rf.aaa036cff947d53f66d9c832f7460e7a.jpg: 640x640 1 Hibiscus, 7.3ms\n",
            "image 594/1584 /content/drive/MyDrive/AyushVision/yolo/workingdir/final/test/images/IMG20240512134507_jpg.rf.da957249d02c2a42113a598dd15e1349.jpg: 640x640 1 Hibiscus, 7.3ms\n",
            "image 595/1584 /content/drive/MyDrive/AyushVision/yolo/workingdir/final/test/images/IMG20240512134521_jpg.rf.eedc251229a589818eb771e3b33b019a.jpg: 640x640 1 Hibiscus, 7.3ms\n",
            "image 596/1584 /content/drive/MyDrive/AyushVision/yolo/workingdir/final/test/images/IMG20240512134618_jpg.rf.b631ea4914e5b93b19b5c209cdbbaf95.jpg: 640x640 1 Hibiscus, 7.3ms\n",
            "image 597/1584 /content/drive/MyDrive/AyushVision/yolo/workingdir/final/test/images/IMG20240512134624_jpg.rf.f95ba5efe6d01abe33b6fb550b6d0731.jpg: 640x640 1 Hibiscus, 7.8ms\n",
            "image 598/1584 /content/drive/MyDrive/AyushVision/yolo/workingdir/final/test/images/IMG20240512135353_jpg.rf.d3868c02588cbf9fbe837e0a5ee33bc1.jpg: 640x640 1 Hibiscus, 7.3ms\n",
            "image 599/1584 /content/drive/MyDrive/AyushVision/yolo/workingdir/final/test/images/IMG20240512135448_jpg.rf.4f5cf19d4edba203bf2da8d9f89ee9c6.jpg: 640x640 1 Hibiscus, 7.3ms\n",
            "image 600/1584 /content/drive/MyDrive/AyushVision/yolo/workingdir/final/test/images/IMG20240512135455_jpg.rf.63bff00c842ee8a6ec84e333fdc4ed00.jpg: 640x640 1 Hibiscus, 7.3ms\n",
            "image 601/1584 /content/drive/MyDrive/AyushVision/yolo/workingdir/final/test/images/IMG20240512135727_jpg.rf.38c187e0f4f7dbe87d682bf9bd953e12.jpg: 640x640 1 Hibiscus, 8.1ms\n",
            "image 602/1584 /content/drive/MyDrive/AyushVision/yolo/workingdir/final/test/images/IMG20240512135800_jpg.rf.570ea04cd6334e7c7a58ba64663a7034.jpg: 640x640 1 Hibiscus, 8.3ms\n",
            "image 603/1584 /content/drive/MyDrive/AyushVision/yolo/workingdir/final/test/images/IMG20240512135945_jpg.rf.086f6927e2e4990b23e1eb303184afc0.jpg: 640x640 1 Hibiscus, 7.9ms\n",
            "image 604/1584 /content/drive/MyDrive/AyushVision/yolo/workingdir/final/test/images/IMG20240512140203_jpg.rf.0d8c548fe4afc2a1b0af4e7280b236b2.jpg: 640x640 1 Hibiscus, 8.9ms\n",
            "image 605/1584 /content/drive/MyDrive/AyushVision/yolo/workingdir/final/test/images/IMG20240512140225_jpg.rf.7fb42d8f84905d573aceaad52f0c01f1.jpg: 640x640 1 Hibiscus, 7.3ms\n",
            "image 606/1584 /content/drive/MyDrive/AyushVision/yolo/workingdir/final/test/images/IMG20240512140235_jpg.rf.6271ac03d36b090839ed1701e57a2a4f.jpg: 640x640 1 Hibiscus, 7.3ms\n",
            "image 607/1584 /content/drive/MyDrive/AyushVision/yolo/workingdir/final/test/images/IMG20240512140307_jpg.rf.69b20f39f95f93084ae88636b979aa54.jpg: 640x640 1 Hibiscus, 7.3ms\n",
            "image 608/1584 /content/drive/MyDrive/AyushVision/yolo/workingdir/final/test/images/IMG20240512140312_jpg.rf.6f6a6e35c0fbd5a6f5ac0559b6b4dab0.jpg: 640x640 1 Hibiscus, 8.3ms\n",
            "image 609/1584 /content/drive/MyDrive/AyushVision/yolo/workingdir/final/test/images/IMG20240512140323_jpg.rf.90d0811458ead185c0b7f81ba9798d0a.jpg: 640x640 1 Hibiscus, 7.3ms\n",
            "image 610/1584 /content/drive/MyDrive/AyushVision/yolo/workingdir/final/test/images/IMG20240512140351_jpg.rf.376afd2e959e08f2bf2fbdbaff820d72.jpg: 640x640 1 Hibiscus, 7.3ms\n",
            "image 611/1584 /content/drive/MyDrive/AyushVision/yolo/workingdir/final/test/images/IMG20240512140430_jpg.rf.5b76a80718160cac0a461ed70f2312db.jpg: 640x640 1 Hibiscus, 7.3ms\n",
            "image 612/1584 /content/drive/MyDrive/AyushVision/yolo/workingdir/final/test/images/IMG20240512140433_jpg.rf.916a83b9a249664b550d6baedf806d60.jpg: 640x640 1 Hibiscus, 7.3ms\n",
            "image 613/1584 /content/drive/MyDrive/AyushVision/yolo/workingdir/final/test/images/IMG20240512140614_jpg.rf.2d47dd2f2b26e6a0061aaaec033de3c9.jpg: 640x640 1 Hibiscus, 7.3ms\n",
            "image 614/1584 /content/drive/MyDrive/AyushVision/yolo/workingdir/final/test/images/IMG20240512140719_jpg.rf.b70010c5c48c67b0e369f28782ad0623.jpg: 640x640 1 Hibiscus, 8.1ms\n",
            "image 615/1584 /content/drive/MyDrive/AyushVision/yolo/workingdir/final/test/images/IMG20240512140732_jpg.rf.9eaa4b4978347047a4ea8653f8b5d8f7.jpg: 640x640 1 Hibiscus, 7.7ms\n",
            "image 616/1584 /content/drive/MyDrive/AyushVision/yolo/workingdir/final/test/images/IMG20240512140757_jpg.rf.9951758667344296f5991e60b61cf3ea.jpg: 640x640 1 Hibiscus, 7.3ms\n",
            "image 617/1584 /content/drive/MyDrive/AyushVision/yolo/workingdir/final/test/images/IMG20240512140812_jpg.rf.f0f8342be5684ceb55da5c7d97f165b1.jpg: 640x640 1 Hibiscus, 7.3ms\n",
            "image 618/1584 /content/drive/MyDrive/AyushVision/yolo/workingdir/final/test/images/IMG20240512140848_jpg.rf.73dbf3a92725aabce139d4b9d5bd59be.jpg: 640x640 1 Hibiscus, 7.3ms\n",
            "image 619/1584 /content/drive/MyDrive/AyushVision/yolo/workingdir/final/test/images/IMG20240512140857_jpg.rf.75d91a2df548f23d09df03ecdfabe248.jpg: 640x640 1 Hibiscus, 7.3ms\n",
            "image 620/1584 /content/drive/MyDrive/AyushVision/yolo/workingdir/final/test/images/IMG20240512140906_jpg.rf.f7cee22114bdf4ee9d9d7df6114d9bba.jpg: 640x640 1 Hibiscus, 7.3ms\n",
            "image 621/1584 /content/drive/MyDrive/AyushVision/yolo/workingdir/final/test/images/IMG20240512140916_jpg.rf.b0988d5d64672444c8748b22292cb364.jpg: 640x640 1 Hibiscus, 8.1ms\n",
            "image 622/1584 /content/drive/MyDrive/AyushVision/yolo/workingdir/final/test/images/IMG20240512141103_jpg.rf.146097896a06c51ea45dffa7f20a43e5.jpg: 640x640 1 Hibiscus, 7.3ms\n",
            "image 623/1584 /content/drive/MyDrive/AyushVision/yolo/workingdir/final/test/images/IMG20240512141150_jpg.rf.1194d89e5d6856c7cf8e699a771fb604.jpg: 640x640 1 Hibiscus, 7.3ms\n",
            "image 624/1584 /content/drive/MyDrive/AyushVision/yolo/workingdir/final/test/images/IMG20240512141237_jpg.rf.d1ae7645377807b14bdd4b242cbcf5f0.jpg: 640x640 1 Hibiscus, 7.3ms\n",
            "image 625/1584 /content/drive/MyDrive/AyushVision/yolo/workingdir/final/test/images/IMG20240512141324_jpg.rf.fcce2c6a79871b2a60930d93d42749a5.jpg: 640x640 1 Hibiscus, 7.3ms\n",
            "image 626/1584 /content/drive/MyDrive/AyushVision/yolo/workingdir/final/test/images/IMG20240512141355_jpg.rf.2a0d3e5e3274432bac8c3ff69f873dc2.jpg: 640x640 1 Hibiscus, 7.3ms\n",
            "image 627/1584 /content/drive/MyDrive/AyushVision/yolo/workingdir/final/test/images/IMG20240512141410_jpg.rf.8bfa2804abf5aedcc0e29af86ba7406f.jpg: 640x640 1 Hibiscus, 7.3ms\n",
            "image 628/1584 /content/drive/MyDrive/AyushVision/yolo/workingdir/final/test/images/IMG20240512141433_jpg.rf.1855776f73461cbf320499cdfdbb06e8.jpg: 640x640 1 Hibiscus, 7.3ms\n",
            "image 629/1584 /content/drive/MyDrive/AyushVision/yolo/workingdir/final/test/images/IMG20240518103803_jpg.rf.075417608f15edba1485d3860bb1ffb5.jpg: 640x640 5 Wild_Turmerics, 7.3ms\n",
            "image 630/1584 /content/drive/MyDrive/AyushVision/yolo/workingdir/final/test/images/IMG20240518103805_jpg.rf.234c392a96f100ecf913eec769a78947.jpg: 640x640 4 Wild_Turmerics, 7.3ms\n",
            "image 631/1584 /content/drive/MyDrive/AyushVision/yolo/workingdir/final/test/images/IMG20240518103808-Copy_jpg.rf.d9b7de9e3e6bb6a68d4a00639110590e.jpg: 640x640 3 Wild_Turmerics, 7.3ms\n",
            "image 632/1584 /content/drive/MyDrive/AyushVision/yolo/workingdir/final/test/images/IMG20240518103925_jpg.rf.5df94ab8ec900809a7365b891c4f7587.jpg: 640x640 3 Wild_Turmerics, 7.3ms\n",
            "image 633/1584 /content/drive/MyDrive/AyushVision/yolo/workingdir/final/test/images/IMG20240518103953_jpg.rf.c9734b034a3ef538e0e685853ad257ce.jpg: 640x640 1 Alovera, 7.3ms\n",
            "image 634/1584 /content/drive/MyDrive/AyushVision/yolo/workingdir/final/test/images/IMG20240518104249_jpg.rf.706f2a02cd99be245ab178fd49ea75cd.jpg: 640x640 1 Alovera, 7.3ms\n",
            "image 635/1584 /content/drive/MyDrive/AyushVision/yolo/workingdir/final/test/images/IMG20240518104255_jpg.rf.a0f0c947c80e9778763c23b8cbbc3083.jpg: 640x640 1 Alovera, 7.6ms\n",
            "image 636/1584 /content/drive/MyDrive/AyushVision/yolo/workingdir/final/test/images/IMG20240518104620_jpg.rf.45941d5f34020de8116f3ee8c73a5272.jpg: 640x640 1 Alovera, 7.3ms\n",
            "image 637/1584 /content/drive/MyDrive/AyushVision/yolo/workingdir/final/test/images/IMG20240518104621_jpg.rf.a6d7e2c9ee76e5dabe9cbea6b2fc3581.jpg: 640x640 1 Alovera, 7.3ms\n",
            "image 638/1584 /content/drive/MyDrive/AyushVision/yolo/workingdir/final/test/images/IMG20240518104634-Copy_jpg.rf.246549945034a5e6759ec4f6174bdb78.jpg: 640x640 1 Alovera, 7.3ms\n",
            "image 639/1584 /content/drive/MyDrive/AyushVision/yolo/workingdir/final/test/images/IMG20240518104635_jpg.rf.c4e14f7c9b1a239d4765ac152b259423.jpg: 640x640 1 Alovera, 7.3ms\n",
            "image 640/1584 /content/drive/MyDrive/AyushVision/yolo/workingdir/final/test/images/IMG20240518105044_jpg.rf.57d5afd89dcc03074b0579efd8e2fe03.jpg: 640x640 1 Alovera, 7.3ms\n",
            "image 641/1584 /content/drive/MyDrive/AyushVision/yolo/workingdir/final/test/images/IMG20240518105309_jpg.rf.85e139f57c065bfe0d7f8628d503c34f.jpg: 640x640 2 Wild_Turmerics, 7.3ms\n",
            "image 642/1584 /content/drive/MyDrive/AyushVision/yolo/workingdir/final/test/images/IMG20240518105628_jpg.rf.40f4d893b8cd37ee5e97b7918282ffac.jpg: 640x640 1 Wild_Turmeric, 7.3ms\n",
            "image 643/1584 /content/drive/MyDrive/AyushVision/yolo/workingdir/final/test/images/IMG20240518105634_jpg.rf.df6d6df11d41fad9a17b8f497df400eb.jpg: 640x640 2 Wild_Turmerics, 8.1ms\n",
            "image 644/1584 /content/drive/MyDrive/AyushVision/yolo/workingdir/final/test/images/IMG20240518110203_jpg.rf.f73025f3be4e3eacf0d5b790dfaf4bd1.jpg: 640x640 2 Wild_Turmerics, 7.3ms\n",
            "image 645/1584 /content/drive/MyDrive/AyushVision/yolo/workingdir/final/test/images/IMG20240518110238_jpg.rf.bbea6932170f818d04188575568c2a81.jpg: 640x640 4 Wild_Turmerics, 7.3ms\n",
            "image 646/1584 /content/drive/MyDrive/AyushVision/yolo/workingdir/final/test/images/IMG20240518111316_jpg.rf.1c645dda12475bbf98e650de09c9530e.jpg: 640x640 1 Wild_Turmeric, 7.3ms\n",
            "image 647/1584 /content/drive/MyDrive/AyushVision/yolo/workingdir/final/test/images/IMG20240518111522_jpg.rf.bd5b874fe52947f897da77fb43238556.jpg: 640x640 6 Wild_Turmerics, 9.0ms\n",
            "image 648/1584 /content/drive/MyDrive/AyushVision/yolo/workingdir/final/test/images/IMG20240518111604_jpg.rf.d7b6b7c9925e3eedc1c00c68c31447e9.jpg: 640x640 3 Wild_Turmerics, 7.3ms\n",
            "image 649/1584 /content/drive/MyDrive/AyushVision/yolo/workingdir/final/test/images/IMG20240518111625_jpg.rf.b2b30860a3d8bf6ae4eed865b03e0832.jpg: 640x640 1 Wild_Turmeric, 9.0ms\n",
            "image 650/1584 /content/drive/MyDrive/AyushVision/yolo/workingdir/final/test/images/IMG20240518111820_jpg.rf.ea440d9d3d7e3199f09d1ee830e8a6bd.jpg: 640x640 5 Wild_Turmerics, 7.5ms\n",
            "image 651/1584 /content/drive/MyDrive/AyushVision/yolo/workingdir/final/test/images/IMG20240518111859_jpg.rf.1e25f4ed8447c8b7d7bbc42deb31f7a5.jpg: 640x640 1 Wild_Turmeric, 7.5ms\n",
            "image 652/1584 /content/drive/MyDrive/AyushVision/yolo/workingdir/final/test/images/IMG20240519174423_jpg.rf.2e4794e1f10ba5584c8ef468f88adeb1.jpg: 640x640 1 Caster, 7.3ms\n",
            "image 653/1584 /content/drive/MyDrive/AyushVision/yolo/workingdir/final/test/images/IMG20240519181353_jpg.rf.b7516fc025cdaec9e3eb6008d4fb00f5.jpg: 640x640 1 Caster, 7.3ms\n",
            "image 654/1584 /content/drive/MyDrive/AyushVision/yolo/workingdir/final/test/images/IMG20240519181410_jpg.rf.835ed4e84536e7611b6ee44272ce1f08.jpg: 640x640 1 Caster, 7.3ms\n",
            "image 655/1584 /content/drive/MyDrive/AyushVision/yolo/workingdir/final/test/images/IMG20240519181455_jpg.rf.f747e0eda9ebe298bfb9da3f5e55a9e3.jpg: 640x640 1 Caster, 7.3ms\n",
            "image 656/1584 /content/drive/MyDrive/AyushVision/yolo/workingdir/final/test/images/IMG20240519181512_jpg.rf.1af7728223962262e841b02a640803a3.jpg: 640x640 1 Caster, 1 Neem, 7.3ms\n",
            "image 657/1584 /content/drive/MyDrive/AyushVision/yolo/workingdir/final/test/images/IMG20240519181634_jpg.rf.81e41071c4054f775eeda0f615abe263.jpg: 640x640 1 Caster, 7.3ms\n",
            "image 658/1584 /content/drive/MyDrive/AyushVision/yolo/workingdir/final/test/images/IMG20240519181715_jpg.rf.ff3d9ba0a118019ccae70537d407f7c6.jpg: 640x640 1 Caster, 7.5ms\n",
            "image 659/1584 /content/drive/MyDrive/AyushVision/yolo/workingdir/final/test/images/IMG20240519181855_jpg.rf.f3ea605dea89e3daeb33bb55443e866e.jpg: 640x640 1 Caster, 7.7ms\n",
            "image 660/1584 /content/drive/MyDrive/AyushVision/yolo/workingdir/final/test/images/IMG20240519182029_jpg.rf.47926520c246b64b139a3ca24b8e2f87.jpg: 640x640 1 Caster, 7.3ms\n",
            "image 661/1584 /content/drive/MyDrive/AyushVision/yolo/workingdir/final/test/images/IMG20240519182533_jpg.rf.fbd2ba108042168817d9388683f9c339.jpg: 640x640 1 Caster, 7.3ms\n",
            "image 662/1584 /content/drive/MyDrive/AyushVision/yolo/workingdir/final/test/images/IMG20240519182559_jpg.rf.75cd8664fb5ea666f1d0a4f32f75ce08.jpg: 640x640 1 Caster, 7.3ms\n",
            "image 663/1584 /content/drive/MyDrive/AyushVision/yolo/workingdir/final/test/images/IMG20240519182646_jpg.rf.4dc57e88e1cbc0f9eff399644c49e9be.jpg: 640x640 1 Caster, 7.3ms\n",
            "image 664/1584 /content/drive/MyDrive/AyushVision/yolo/workingdir/final/test/images/IMG20240519183624_jpg.rf.16a0e484dada5242c503fbdbd65f7bda.jpg: 640x640 1 Caster, 7.3ms\n",
            "image 665/1584 /content/drive/MyDrive/AyushVision/yolo/workingdir/final/test/images/IMG20240519183714_jpg.rf.bcdf0422e33483f51d624c5bce3f31af.jpg: 640x640 1 Caster, 7.3ms\n",
            "image 666/1584 /content/drive/MyDrive/AyushVision/yolo/workingdir/final/test/images/IMG20240519185122_jpg.rf.36abec969e6c40f173af2dba82e5eec9.jpg: 640x640 1 Caster, 7.7ms\n",
            "image 667/1584 /content/drive/MyDrive/AyushVision/yolo/workingdir/final/test/images/IMG20240519185124_jpg.rf.a9ac9c258d01714604a1087108c529a2.jpg: 640x640 1 Caster, 7.3ms\n",
            "image 668/1584 /content/drive/MyDrive/AyushVision/yolo/workingdir/final/test/images/IMG20240519185231_jpg.rf.8a3c1823e84e481b4122689301d030de.jpg: 640x640 1 Caster, 7.3ms\n",
            "image 669/1584 /content/drive/MyDrive/AyushVision/yolo/workingdir/final/test/images/IMG20240519185238_jpg.rf.81cac2f75f78e761859636be19efe2a3.jpg: 640x640 1 Caster, 7.3ms\n",
            "image 670/1584 /content/drive/MyDrive/AyushVision/yolo/workingdir/final/test/images/IMG20240519204204_jpg.rf.503f35b810eae482b446e5fd5ab9d0b7.jpg: 640x640 1 Caster, 7.3ms\n",
            "image 671/1584 /content/drive/MyDrive/AyushVision/yolo/workingdir/final/test/images/IMG20240519204251_jpg.rf.b35a3b085c517e15540bff8614175492.jpg: 640x640 1 Caster, 7.3ms\n",
            "image 672/1584 /content/drive/MyDrive/AyushVision/yolo/workingdir/final/test/images/IMG20240519204314_jpg.rf.f227cde2710f3b010d65a98ec98dd194.jpg: 640x640 1 Caster, 8.0ms\n",
            "image 673/1584 /content/drive/MyDrive/AyushVision/yolo/workingdir/final/test/images/IMG20240519204318_jpg.rf.fb436db04aaec7a9bd77af86d4b2846f.jpg: 640x640 1 Caster, 7.3ms\n",
            "image 674/1584 /content/drive/MyDrive/AyushVision/yolo/workingdir/final/test/images/IMG20240519204325_jpg.rf.1dc612ff7626ac39edd9c910dd189e00.jpg: 640x640 1 Caster, 7.4ms\n",
            "image 675/1584 /content/drive/MyDrive/AyushVision/yolo/workingdir/final/test/images/IMG20240523160058_jpg.rf.9c5ec11486179ec8338c7da4615d1208.jpg: 640x640 1 Ginger, 7.3ms\n",
            "image 676/1584 /content/drive/MyDrive/AyushVision/yolo/workingdir/final/test/images/IMG20240523160147_jpg.rf.08874a6a10e6d3fabd41a59d21719ed9.jpg: 640x640 1 Ginger, 7.3ms\n",
            "image 677/1584 /content/drive/MyDrive/AyushVision/yolo/workingdir/final/test/images/IMG20240523160247_jpg.rf.308004c7183d8f9fa67c4da4d9dc848d.jpg: 640x640 1 Ginger, 7.3ms\n",
            "image 678/1584 /content/drive/MyDrive/AyushVision/yolo/workingdir/final/test/images/IMG20240523160320_jpg.rf.d0fe3a8859fded2b20b5648f54400f69.jpg: 640x640 1 Ginger, 7.3ms\n",
            "image 679/1584 /content/drive/MyDrive/AyushVision/yolo/workingdir/final/test/images/IMG20240523160356_jpg.rf.2f77b108ae49dc0044c178c4c968b801.jpg: 640x640 2 Gingers, 7.3ms\n",
            "image 680/1584 /content/drive/MyDrive/AyushVision/yolo/workingdir/final/test/images/IMG20240523160832_jpg.rf.b10d5f0c611c6c7f84cb071cc0fddf69.jpg: 640x640 1 Ginger, 7.3ms\n",
            "image 681/1584 /content/drive/MyDrive/AyushVision/yolo/workingdir/final/test/images/IMG20240523161035_jpg.rf.5670976a9e6a5293a6eb306707e26eca.jpg: 640x640 1 Ginger, 7.3ms\n",
            "image 682/1584 /content/drive/MyDrive/AyushVision/yolo/workingdir/final/test/images/IMG20240523161054_jpg.rf.99a2f1c94a20990a9427275e7393ef94.jpg: 640x640 1 Ginger, 7.3ms\n",
            "image 683/1584 /content/drive/MyDrive/AyushVision/yolo/workingdir/final/test/images/IMG20240523161116_jpg.rf.f3cb9aa3628f445f276eae8ab3d9cf0b.jpg: 640x640 1 Ginger, 7.3ms\n",
            "image 684/1584 /content/drive/MyDrive/AyushVision/yolo/workingdir/final/test/images/IMG20240523161251_jpg.rf.9da9ef9ca7a6c2e2d1727f6aa823bf1b.jpg: 640x640 1 Ginger, 8.4ms\n",
            "image 685/1584 /content/drive/MyDrive/AyushVision/yolo/workingdir/final/test/images/IMG20240523161258_jpg.rf.87d744898107e6e4ce96099d58faecfd.jpg: 640x640 1 Ginger, 7.3ms\n",
            "image 686/1584 /content/drive/MyDrive/AyushVision/yolo/workingdir/final/test/images/IMG20240523161407_jpg.rf.2ff12825e9b5ad23bf88ba67478a2119.jpg: 640x640 1 Ginger, 7.3ms\n",
            "image 687/1584 /content/drive/MyDrive/AyushVision/yolo/workingdir/final/test/images/IMG20240523161708_jpg.rf.3908174f5a4ebd71c6586bc7b4e6c935.jpg: 640x640 1 Ginger, 8.5ms\n",
            "image 688/1584 /content/drive/MyDrive/AyushVision/yolo/workingdir/final/test/images/IMG20240523161802_jpg.rf.3ee36dc41871f8fdd69694d82c9ecf15.jpg: 640x640 1 Ginger, 7.3ms\n",
            "image 689/1584 /content/drive/MyDrive/AyushVision/yolo/workingdir/final/test/images/IMG20240523162119_jpg.rf.3f526020bf60d8d90c2e5e11e82c507a.jpg: 640x640 1 Ginger, 7.3ms\n",
            "image 690/1584 /content/drive/MyDrive/AyushVision/yolo/workingdir/final/test/images/IMG20240523162129_jpg.rf.04eb0788ce01375f688a2e00aeddbfdc.jpg: 640x640 1 Ginger, 7.5ms\n",
            "image 691/1584 /content/drive/MyDrive/AyushVision/yolo/workingdir/final/test/images/IMG20240523162250_jpg.rf.88a317f7f2b601c2aeac1af8963ffd51.jpg: 640x640 1 Ginger, 7.8ms\n",
            "image 692/1584 /content/drive/MyDrive/AyushVision/yolo/workingdir/final/test/images/IMG20240523162430_jpg.rf.a829100d09b74c5a61ae2070fe221952.jpg: 640x640 1 Ginger, 7.3ms\n",
            "image 693/1584 /content/drive/MyDrive/AyushVision/yolo/workingdir/final/test/images/IMG20240523162922_jpg.rf.752bdb579be892b0d418cd2ca11b2f93.jpg: 640x640 1 Ginger, 7.9ms\n",
            "image 694/1584 /content/drive/MyDrive/AyushVision/yolo/workingdir/final/test/images/IMG20240523163754_jpg.rf.811cf7ae1401312713b67ad8f8fc5184.jpg: 640x640 1 Acalyphaindica, 7.3ms\n",
            "image 695/1584 /content/drive/MyDrive/AyushVision/yolo/workingdir/final/test/images/IMG20240523164120_jpg.rf.5288e21c67f7a7ed17bc7cdbc93d3598.jpg: 640x640 1 Acalyphaindica, 7.3ms\n",
            "image 696/1584 /content/drive/MyDrive/AyushVision/yolo/workingdir/final/test/images/IMG20240523165845_jpg.rf.3bbc0e927cad4485bb4f64d9e33ef84d.jpg: 640x640 1 Acalyphaindica, 7.3ms\n",
            "image 697/1584 /content/drive/MyDrive/AyushVision/yolo/workingdir/final/test/images/IMG20240523165934_jpg.rf.249335f894564067034b02f0a9651094.jpg: 640x640 1 Acalyphaindica, 7.3ms\n",
            "image 698/1584 /content/drive/MyDrive/AyushVision/yolo/workingdir/final/test/images/IMG20240523165946_jpg.rf.d50b91e9d4f375ec1181a2668188c243.jpg: 640x640 1 Acalyphaindica, 7.3ms\n",
            "image 699/1584 /content/drive/MyDrive/AyushVision/yolo/workingdir/final/test/images/IMG20240523170038_jpg.rf.d35cb007d221569355708fe7f155aae2.jpg: 640x640 1 Acalyphaindica, 7.3ms\n",
            "image 700/1584 /content/drive/MyDrive/AyushVision/yolo/workingdir/final/test/images/IMG20240524171756_jpg.rf.084a05c5bc03c0e365c8822f68693f75.jpg: 640x640 1 Ivy_gourd, 7.5ms\n",
            "image 701/1584 /content/drive/MyDrive/AyushVision/yolo/workingdir/final/test/images/IMG20240524172037_jpg.rf.b5a1128d0fdc7107065e620158e3e6bd.jpg: 640x640 1 Ivy_gourd, 7.3ms\n",
            "image 702/1584 /content/drive/MyDrive/AyushVision/yolo/workingdir/final/test/images/IMG20240524175645_jpg.rf.7c25e57d52dbc58059f54288ec6b3a25.jpg: 640x640 1 Ivy_gourd, 8.3ms\n",
            "image 703/1584 /content/drive/MyDrive/AyushVision/yolo/workingdir/final/test/images/IMG20240524175836_jpg.rf.f80a6442230943a3927779051a070aae.jpg: 640x640 1 Ivy_gourd, 7.3ms\n",
            "image 704/1584 /content/drive/MyDrive/AyushVision/yolo/workingdir/final/test/images/IMG20240524175839_jpg.rf.dee90513bb8dea73e38f3e46664383fc.jpg: 640x640 1 Ivy_gourd, 7.3ms\n",
            "image 705/1584 /content/drive/MyDrive/AyushVision/yolo/workingdir/final/test/images/IMG20240524175940_jpg.rf.f87c4e05ae66d4b1f2941d6263530ffc.jpg: 640x640 1 Ivy_gourd, 7.3ms\n",
            "image 706/1584 /content/drive/MyDrive/AyushVision/yolo/workingdir/final/test/images/IMG20240524214010_jpg.rf.802408278da8d0f9016bf3d4486c4413.jpg: 640x640 1 Ivy_gourd, 7.3ms\n",
            "image 707/1584 /content/drive/MyDrive/AyushVision/yolo/workingdir/final/test/images/IMG20240524214021_jpg.rf.8727aae3b4dd1f9578309548f93ea863.jpg: 640x640 1 Ivy_gourd, 7.3ms\n",
            "image 708/1584 /content/drive/MyDrive/AyushVision/yolo/workingdir/final/test/images/IMG20240524214254_jpg.rf.417954cd45f3dab29b9b373b52e55c54.jpg: 640x640 1 Ivy_gourd, 7.3ms\n",
            "image 709/1584 /content/drive/MyDrive/AyushVision/yolo/workingdir/final/test/images/IMG20240524214341_jpg.rf.4ab1aa12b7c0e2634d018f824cc1c031.jpg: 640x640 1 Ivy_gourd, 7.3ms\n",
            "image 710/1584 /content/drive/MyDrive/AyushVision/yolo/workingdir/final/test/images/IMG20240524214411_jpg.rf.f26563b675d2119aa76cf51bf39083ab.jpg: 640x640 1 Ivy_gourd, 7.3ms\n",
            "image 711/1584 /content/drive/MyDrive/AyushVision/yolo/workingdir/final/test/images/IMG20240524214417_jpg.rf.6e237aea6efd00172bc329a9edcef61a.jpg: 640x640 1 Ivy_gourd, 7.3ms\n",
            "image 712/1584 /content/drive/MyDrive/AyushVision/yolo/workingdir/final/test/images/IMG20240524214424_jpg.rf.ffa85310dd48ccb6231fe6e099655704.jpg: 640x640 1 Ivy_gourd, 7.3ms\n",
            "image 713/1584 /content/drive/MyDrive/AyushVision/yolo/workingdir/final/test/images/IMG20240524214514_jpg.rf.7498d018e2ef7e45a4cade455337fbe5.jpg: 640x640 1 Ivy_gourd, 7.3ms\n",
            "image 714/1584 /content/drive/MyDrive/AyushVision/yolo/workingdir/final/test/images/IMG20240524214559_jpg.rf.50b92ad177c368c4bd2f5aaa4ba05d38.jpg: 640x640 1 Ivy_gourd, 7.3ms\n",
            "image 715/1584 /content/drive/MyDrive/AyushVision/yolo/workingdir/final/test/images/IMG20240524214639_jpg.rf.84c210cf48ae0a7a514dfa46c6266b26.jpg: 640x640 1 Ivy_gourd, 7.3ms\n",
            "image 716/1584 /content/drive/MyDrive/AyushVision/yolo/workingdir/final/test/images/IMG20240524214649_jpg.rf.98061be0027c60e4adeb453aebc00cc2.jpg: 640x640 1 Ivy_gourd, 7.3ms\n",
            "image 717/1584 /content/drive/MyDrive/AyushVision/yolo/workingdir/final/test/images/IMG20240527172100_jpg.rf.6c535487d557d8463bb8cb91dd68e292.jpg: 640x640 2 Mountain_Knotgrasss, 7.3ms\n",
            "image 718/1584 /content/drive/MyDrive/AyushVision/yolo/workingdir/final/test/images/IMG20240527172102_jpg.rf.e0215fa6f1d0d5fa7d8d2422acf458d1.jpg: 640x640 2 Mountain_Knotgrasss, 7.3ms\n",
            "image 719/1584 /content/drive/MyDrive/AyushVision/yolo/workingdir/final/test/images/IMG20240527172156_jpg.rf.ffd31ee52f20b59f972b4d5fd9ed6793.jpg: 640x640 2 Mountain_Knotgrasss, 7.3ms\n",
            "image 720/1584 /content/drive/MyDrive/AyushVision/yolo/workingdir/final/test/images/IMG20240527172335_jpg.rf.11a9ffa46d5630e418e4887696126d2b.jpg: 640x640 3 Mountain_Knotgrasss, 7.3ms\n",
            "image 721/1584 /content/drive/MyDrive/AyushVision/yolo/workingdir/final/test/images/IMG20240527172340_jpg.rf.50209540018e790b325800a1e2ca4ced.jpg: 640x640 2 Mountain_Knotgrasss, 7.3ms\n",
            "image 722/1584 /content/drive/MyDrive/AyushVision/yolo/workingdir/final/test/images/IMG20240527172717_jpg.rf.c461d157ed3c851ee30e1450015ba9fe.jpg: 640x640 2 Landrinas, 1 Mountain_Knotgrass, 7.3ms\n",
            "image 723/1584 /content/drive/MyDrive/AyushVision/yolo/workingdir/final/test/images/IMG20240527172724_jpg.rf.74d972bb971820b9cd352a7eef68f54e.jpg: 640x640 2 Mountain_Knotgrasss, 7.3ms\n",
            "image 724/1584 /content/drive/MyDrive/AyushVision/yolo/workingdir/final/test/images/IMG20240527173045_jpg.rf.3ad82e892a23cda7f70cdf4769388b5e.jpg: 640x640 3 Mountain_Knotgrasss, 7.3ms\n",
            "image 725/1584 /content/drive/MyDrive/AyushVision/yolo/workingdir/final/test/images/IMG20240527173048_jpg.rf.d03f17f61396caa20eb2749de1ab70b8.jpg: 640x640 5 Mountain_Knotgrasss, 7.3ms\n",
            "image 726/1584 /content/drive/MyDrive/AyushVision/yolo/workingdir/final/test/images/IMG20240527173600_jpg.rf.02a3acfbf32ca7b8b651c5aa477394b2.jpg: 640x640 1 Mountain_Knotgrass, 7.3ms\n",
            "image 727/1584 /content/drive/MyDrive/AyushVision/yolo/workingdir/final/test/images/IMG20240527173627_jpg.rf.e7f8536e485bec3abd969d78518102b0.jpg: 640x640 1 Landrina, 7.3ms\n",
            "image 728/1584 /content/drive/MyDrive/AyushVision/yolo/workingdir/final/test/images/IMG20240527173736_jpg.rf.5cfc6de6ac646231765d977a2ed5250d.jpg: 640x640 2 Mountain_Knotgrasss, 7.7ms\n",
            "image 729/1584 /content/drive/MyDrive/AyushVision/yolo/workingdir/final/test/images/IMG20240527173756_jpg.rf.8a72cf80c44cf973c2ae73176037c93b.jpg: 640x640 1 Mountain_Knotgrass, 7.3ms\n",
            "image 730/1584 /content/drive/MyDrive/AyushVision/yolo/workingdir/final/test/images/IMG20240527173802_jpg.rf.a9ae9beea8d07376c7191d5d92748e1e.jpg: 640x640 2 Mountain_Knotgrasss, 7.3ms\n",
            "image 731/1584 /content/drive/MyDrive/AyushVision/yolo/workingdir/final/test/images/IMG20240527173830_jpg.rf.be2f3064ca0182f3d8fed7b7abbe812c.jpg: 640x640 3 Mountain_Knotgrasss, 7.3ms\n",
            "image 732/1584 /content/drive/MyDrive/AyushVision/yolo/workingdir/final/test/images/IMG20240527173831_jpg.rf.a4b8fcef114b06c246e0cb3fd17e9981.jpg: 640x640 1 Mountain_Knotgrass, 7.9ms\n",
            "image 733/1584 /content/drive/MyDrive/AyushVision/yolo/workingdir/final/test/images/IMG20240527173900_jpg.rf.baea70e632e7155422d4d6cea099af9a.jpg: 640x640 1 Landrina, 7.3ms\n",
            "image 734/1584 /content/drive/MyDrive/AyushVision/yolo/workingdir/final/test/images/IMG20240527175332_jpg.rf.9e252abc71cf716fe470f35a63c4cac8.jpg: 640x640 3 Mountain_Knotgrasss, 7.3ms\n",
            "image 735/1584 /content/drive/MyDrive/AyushVision/yolo/workingdir/final/test/images/IMG20240527175505_jpg.rf.d22a0542f58cceb7c8ef7420a59a89ca.jpg: 640x640 5 Mountain_Knotgrasss, 7.3ms\n",
            "image 736/1584 /content/drive/MyDrive/AyushVision/yolo/workingdir/final/test/images/IMG20240527175630_jpg.rf.ddee8d7d59b8f43011308218b2887ed3.jpg: 640x640 3 Mountain_Knotgrasss, 7.3ms\n",
            "image 737/1584 /content/drive/MyDrive/AyushVision/yolo/workingdir/final/test/images/IMG20240527175706_jpg.rf.4d5d1272bcfd628f89c0d2d0f6c136fc.jpg: 640x640 3 Mountain_Knotgrasss, 7.3ms\n",
            "image 738/1584 /content/drive/MyDrive/AyushVision/yolo/workingdir/final/test/images/IMG20240527175712_jpg.rf.3d3840b3ab9eee0b2c508611de382a5d.jpg: 640x640 3 Mountain_Knotgrasss, 7.3ms\n",
            "image 739/1584 /content/drive/MyDrive/AyushVision/yolo/workingdir/final/test/images/IMG20240527175732_jpg.rf.e894fb2ffa75b7a21f0ba86224e0b5e5.jpg: 640x640 (no detections), 7.3ms\n",
            "image 740/1584 /content/drive/MyDrive/AyushVision/yolo/workingdir/final/test/images/IMG20240527175816_jpg.rf.869fc2ae488db6c89854aa34507420a0.jpg: 640x640 2 Mountain_Knotgrasss, 10.2ms\n",
            "image 741/1584 /content/drive/MyDrive/AyushVision/yolo/workingdir/final/test/images/IMG20240527175903_jpg.rf.5fc82647542625cb15a2c739ecd45c0c.jpg: 640x640 6 Mountain_Knotgrasss, 7.3ms\n",
            "image 742/1584 /content/drive/MyDrive/AyushVision/yolo/workingdir/final/test/images/IMG20240527175916_jpg.rf.c3d1384889fee55dd8126f999ac4288e.jpg: 640x640 2 Mountain_Knotgrasss, 9.9ms\n",
            "image 743/1584 /content/drive/MyDrive/AyushVision/yolo/workingdir/final/test/images/IMG20240527180224_jpg.rf.fa922ac50c1cbcd910bbf4fcacaad0fe.jpg: 640x640 3 Mountain_Knotgrasss, 7.3ms\n",
            "image 744/1584 /content/drive/MyDrive/AyushVision/yolo/workingdir/final/test/images/IMG20240527180622_jpg.rf.400e92d6ccddcd3d0d52190de8783237.jpg: 640x640 2 Mountain_Knotgrasss, 7.3ms\n",
            "image 745/1584 /content/drive/MyDrive/AyushVision/yolo/workingdir/final/test/images/IMG20240527180627_jpg.rf.a390cff3782750a20b8260f2022b07e7.jpg: 640x640 5 Mountain_Knotgrasss, 8.0ms\n",
            "image 746/1584 /content/drive/MyDrive/AyushVision/yolo/workingdir/final/test/images/IMG20240527180631_jpg.rf.bdce88ce6d1a7b1f1a84e97271835b7b.jpg: 640x640 4 Mountain_Knotgrasss, 7.5ms\n",
            "image 747/1584 /content/drive/MyDrive/AyushVision/yolo/workingdir/final/test/images/IMG20240527180757_jpg.rf.ce930c186de5c1aff2f6dd8051c0427c.jpg: 640x640 4 Mountain_Knotgrasss, 7.3ms\n",
            "image 748/1584 /content/drive/MyDrive/AyushVision/yolo/workingdir/final/test/images/IMG20240527181100_jpg.rf.204ea291fa54e34b2022c6eb04eb0792.jpg: 640x640 4 Mountain_Knotgrasss, 7.3ms\n",
            "image 749/1584 /content/drive/MyDrive/AyushVision/yolo/workingdir/final/test/images/IMG20240527181107_jpg.rf.88202ea001dea9a7dec6eb5f62c44b8d.jpg: 640x640 4 Mountain_Knotgrasss, 8.4ms\n",
            "image 750/1584 /content/drive/MyDrive/AyushVision/yolo/workingdir/final/test/images/IMG20240527181112_jpg.rf.f5c2c690c7d26a8e073a739de1708362.jpg: 640x640 3 Mountain_Knotgrasss, 7.3ms\n",
            "image 751/1584 /content/drive/MyDrive/AyushVision/yolo/workingdir/final/test/images/IMG20240527181120_jpg.rf.00a138e1e71c9b776752f65a13c40109.jpg: 640x640 (no detections), 7.3ms\n",
            "image 752/1584 /content/drive/MyDrive/AyushVision/yolo/workingdir/final/test/images/IMG20240527181244_jpg.rf.e106649a99f278cae5225e8d49e23df7.jpg: 640x640 2 Mountain_Knotgrasss, 7.3ms\n",
            "image 753/1584 /content/drive/MyDrive/AyushVision/yolo/workingdir/final/test/images/IMG20240527181253_jpg.rf.69412cf31dc302563edfc80416a3bf45.jpg: 640x640 4 Mountain_Knotgrasss, 7.3ms\n",
            "image 754/1584 /content/drive/MyDrive/AyushVision/yolo/workingdir/final/test/images/IMG20240527181259_jpg.rf.7f752b81735813b96fca5785501a3a2d.jpg: 640x640 2 Mountain_Knotgrasss, 7.3ms\n",
            "image 755/1584 /content/drive/MyDrive/AyushVision/yolo/workingdir/final/test/images/IMG20240527181303_jpg.rf.f15fa194d8e32a7f082eced049a9d1f6.jpg: 640x640 1 Mountain_Knotgrass, 7.3ms\n",
            "image 756/1584 /content/drive/MyDrive/AyushVision/yolo/workingdir/final/test/images/IMG20240527181350_jpg.rf.2833df86d5fd5beac81c43471422b313.jpg: 640x640 3 Mountain_Knotgrasss, 7.3ms\n",
            "image 757/1584 /content/drive/MyDrive/AyushVision/yolo/workingdir/final/test/images/IMG20240527181416_jpg.rf.3913c2de41cbfc3446bc6b19a6a6919a.jpg: 640x640 3 Mountain_Knotgrasss, 7.3ms\n",
            "image 758/1584 /content/drive/MyDrive/AyushVision/yolo/workingdir/final/test/images/IMG20240527181542_jpg.rf.c555fb9b09f4c556a815d2b33ee9e7c4.jpg: 640x640 2 Mountain_Knotgrasss, 7.3ms\n",
            "image 759/1584 /content/drive/MyDrive/AyushVision/yolo/workingdir/final/test/images/IMG20240527181554_jpg.rf.6c29a902e2b51bed2bfd2bc76fb65d3e.jpg: 640x640 7 Mountain_Knotgrasss, 7.3ms\n",
            "image 760/1584 /content/drive/MyDrive/AyushVision/yolo/workingdir/final/test/images/IMG20240527181853_jpg.rf.bc7c23fa5d4c5344129b5dde467c2a43.jpg: 640x640 2 Mountain_Knotgrasss, 7.8ms\n",
            "image 761/1584 /content/drive/MyDrive/AyushVision/yolo/workingdir/final/test/images/IMG20240527181858_jpg.rf.f4f7defc7e539b8ade345da107f8dbc9.jpg: 640x640 5 Mountain_Knotgrasss, 7.3ms\n",
            "image 762/1584 /content/drive/MyDrive/AyushVision/yolo/workingdir/final/test/images/IMG20240527182007_jpg.rf.5a3e2cb226aa22856949d12a911411df.jpg: 640x640 (no detections), 7.3ms\n",
            "image 763/1584 /content/drive/MyDrive/AyushVision/yolo/workingdir/final/test/images/IMG20240527182039_jpg.rf.2717f1f5f4321ca570032a5add604c0a.jpg: 640x640 2 Mountain_Knotgrasss, 7.3ms\n",
            "image 764/1584 /content/drive/MyDrive/AyushVision/yolo/workingdir/final/test/images/IMG20240527182048_jpg.rf.4cefe524d472f785d4eb34229a4c7821.jpg: 640x640 4 Mountain_Knotgrasss, 8.4ms\n",
            "image 765/1584 /content/drive/MyDrive/AyushVision/yolo/workingdir/final/test/images/IMG20240527182235_jpg.rf.310e2aef765d4fff1da5c8771c6853e2.jpg: 640x640 2 Mountain_Knotgrasss, 7.3ms\n",
            "image 766/1584 /content/drive/MyDrive/AyushVision/yolo/workingdir/final/test/images/IMG20240527182246_jpg.rf.b021c8690a498c22f28911b25698cf89.jpg: 640x640 4 Mountain_Knotgrasss, 7.3ms\n",
            "image 767/1584 /content/drive/MyDrive/AyushVision/yolo/workingdir/final/test/images/IMG20240527193106_jpg.rf.9c3f2037c99ae3a50cb586702208e6eb.jpg: 640x640 1 Acalyphaindica, 7.3ms\n",
            "image 768/1584 /content/drive/MyDrive/AyushVision/yolo/workingdir/final/test/images/IMG20240527193217_jpg.rf.6287c3854ece10bdf81b18d0389f0f88.jpg: 640x640 1 Acalyphaindica, 7.3ms\n",
            "image 769/1584 /content/drive/MyDrive/AyushVision/yolo/workingdir/final/test/images/IMG20240527193226_jpg.rf.f4d81d1b599ebf65b71d259bb1e941be.jpg: 640x640 1 Acalyphaindica, 7.3ms\n",
            "image 770/1584 /content/drive/MyDrive/AyushVision/yolo/workingdir/final/test/images/IMG20240527193322_jpg.rf.a4022533f1311da4513396839056363b.jpg: 640x640 2 Acalyphaindicas, 7.3ms\n",
            "image 771/1584 /content/drive/MyDrive/AyushVision/yolo/workingdir/final/test/images/IMG20240527193702_jpg.rf.17938cffbe8952ff84a50abe59a8c548.jpg: 640x640 1 Acalyphaindica, 7.3ms\n",
            "image 772/1584 /content/drive/MyDrive/AyushVision/yolo/workingdir/final/test/images/IMG20240527193924_jpg.rf.9cd120993e1b82ee884c5a002ca6ab74.jpg: 640x640 1 Acalyphaindica, 7.3ms\n",
            "image 773/1584 /content/drive/MyDrive/AyushVision/yolo/workingdir/final/test/images/IMG20240527193933_jpg.rf.5b5bd5c58a9d32b650fb1150fed57263.jpg: 640x640 1 Acalyphaindica, 7.3ms\n",
            "image 774/1584 /content/drive/MyDrive/AyushVision/yolo/workingdir/final/test/images/IMG20240527194849_jpg.rf.ae5b49ef2b983be015e8cb464c535bf4.jpg: 640x640 1 Acalyphaindica, 7.3ms\n",
            "image 775/1584 /content/drive/MyDrive/AyushVision/yolo/workingdir/final/test/images/IMG20240528214312_jpg.rf.fd1372cd5aec032aef2a9118d8bdba21.jpg: 640x640 1 Tallperennial_grass, 7.3ms\n",
            "image 776/1584 /content/drive/MyDrive/AyushVision/yolo/workingdir/final/test/images/IMG20240528214322_jpg.rf.de6ba42100494c5bddf561ccc9e59af8.jpg: 640x640 2 Tallperennial_grasss, 7.3ms\n",
            "image 777/1584 /content/drive/MyDrive/AyushVision/yolo/workingdir/final/test/images/IMG20240528214507_jpg.rf.d7fc5e4666e67b63b419d870cbce842b.jpg: 640x640 1 Tallperennial_grass, 7.3ms\n",
            "image 778/1584 /content/drive/MyDrive/AyushVision/yolo/workingdir/final/test/images/IMG20240528214520_jpg.rf.08811a5b5787aeb62f03f150295b2c49.jpg: 640x640 1 Tallperennial_grass, 7.3ms\n",
            "image 779/1584 /content/drive/MyDrive/AyushVision/yolo/workingdir/final/test/images/IMG20240528214522_jpg.rf.d9e0426e39ad3828a6e1e3c92c3247e8.jpg: 640x640 1 Tallperennial_grass, 7.3ms\n",
            "image 780/1584 /content/drive/MyDrive/AyushVision/yolo/workingdir/final/test/images/IMG20240528214541_jpg.rf.23572431821c96a6c49f9566b71f0598.jpg: 640x640 1 Tallperennial_grass, 7.3ms\n",
            "image 781/1584 /content/drive/MyDrive/AyushVision/yolo/workingdir/final/test/images/IMG20240528214925_jpg.rf.ddd359da2b56d247bc588ffeabc03712.jpg: 640x640 2 Tallperennial_grasss, 7.3ms\n",
            "image 782/1584 /content/drive/MyDrive/AyushVision/yolo/workingdir/final/test/images/IMG20240528215525_jpg.rf.7219f8b3d93c6ea2cbff236de444d90a.jpg: 640x640 3 Tallperennial_grasss, 7.3ms\n",
            "image 783/1584 /content/drive/MyDrive/AyushVision/yolo/workingdir/final/test/images/IMG20240528215605_jpg.rf.027b82e55a3af22f210c6b28776c1141.jpg: 640x640 1 Tallperennial_grass, 7.3ms\n",
            "image 784/1584 /content/drive/MyDrive/AyushVision/yolo/workingdir/final/test/images/IMG20240528215700_jpg.rf.f93913064cb5abd30f21eeb3ff9ea83d.jpg: 640x640 4 Tallperennial_grasss, 7.3ms\n",
            "image 785/1584 /content/drive/MyDrive/AyushVision/yolo/workingdir/final/test/images/IMG20240528215916_jpg.rf.8e98f724f8b354c00e45c2701fc00d7b.jpg: 640x640 2 Tallperennial_grasss, 8.0ms\n",
            "image 786/1584 /content/drive/MyDrive/AyushVision/yolo/workingdir/final/test/images/IMG20240528220350_jpg.rf.a8ce33f63ecb11e3f04e310688e97b17.jpg: 640x640 1 Tallperennial_grass, 8.3ms\n",
            "image 787/1584 /content/drive/MyDrive/AyushVision/yolo/workingdir/final/test/images/IMG20240528220458_jpg.rf.fdf3f6a5e8ceae4b27972e99d8edff04.jpg: 640x640 1 Tallperennial_grass, 7.3ms\n",
            "image 788/1584 /content/drive/MyDrive/AyushVision/yolo/workingdir/final/test/images/IMG20240528220554_jpg.rf.f9d8d4adb5a33fb7036445b2ebaf33ae.jpg: 640x640 1 Tallperennial_grass, 8.4ms\n",
            "image 789/1584 /content/drive/MyDrive/AyushVision/yolo/workingdir/final/test/images/IMG20240528220733_jpg.rf.40e86046438554fd4b29d2564fcd5612.jpg: 640x640 1 Tallperennial_grass, 7.7ms\n",
            "image 790/1584 /content/drive/MyDrive/AyushVision/yolo/workingdir/final/test/images/IMG20240528220757_jpg.rf.5853e85a8493a89cad5ae9bffa20bce3.jpg: 640x640 4 Tallperennial_grasss, 7.9ms\n",
            "image 791/1584 /content/drive/MyDrive/AyushVision/yolo/workingdir/final/test/images/IMG20240528220841_jpg.rf.215595e5fd9291af90ac36bc60fa4e3a.jpg: 640x640 1 Tallperennial_grass, 7.3ms\n",
            "image 792/1584 /content/drive/MyDrive/AyushVision/yolo/workingdir/final/test/images/IMG20240529055840_jpg.rf.0c9d8a8d8f9b58b132d822d13585d28b.jpg: 640x640 1 Tallperennial_grass, 7.3ms\n",
            "image 793/1584 /content/drive/MyDrive/AyushVision/yolo/workingdir/final/test/images/IMG20240529055842_jpg.rf.9fa3cf386bb4d08bfab880ddba8ad0c5.jpg: 640x640 1 Tallperennial_grass, 7.3ms\n",
            "image 794/1584 /content/drive/MyDrive/AyushVision/yolo/workingdir/final/test/images/IMG20240529055903_jpg.rf.c499673dc618f1e4fbae9cdf798e68aa.jpg: 640x640 1 Tallperennial_grass, 7.3ms\n",
            "image 795/1584 /content/drive/MyDrive/AyushVision/yolo/workingdir/final/test/images/IMG20240529060215_jpg.rf.ce29c315aa8ad2ae796d0fd38d41e4cc.jpg: 640x640 1 Tallperennial_grass, 7.3ms\n",
            "image 796/1584 /content/drive/MyDrive/AyushVision/yolo/workingdir/final/test/images/IMG20240529060219_jpg.rf.a22502176a988752d4141e3aa8a3312b.jpg: 640x640 1 Tallperennial_grass, 7.3ms\n",
            "image 797/1584 /content/drive/MyDrive/AyushVision/yolo/workingdir/final/test/images/IMG20240529060329_jpg.rf.816ddeba645a05ddd7aae376a2d55bdc.jpg: 640x640 1 Tallperennial_grass, 7.3ms\n",
            "image 798/1584 /content/drive/MyDrive/AyushVision/yolo/workingdir/final/test/images/IMG20240529060400_jpg.rf.99bb0c481150feb82d3177aa9481b46d.jpg: 640x640 1 Tallperennial_grass, 8.8ms\n",
            "image 799/1584 /content/drive/MyDrive/AyushVision/yolo/workingdir/final/test/images/IMG20240529060528_jpg.rf.33a592a27dd8b482f4f1f79e64e2f669.jpg: 640x640 1 Tallperennial_grass, 7.3ms\n",
            "image 800/1584 /content/drive/MyDrive/AyushVision/yolo/workingdir/final/test/images/IMG20240529060645_jpg.rf.7cfc71e1761c1c326b30920c2bbc48b5.jpg: 640x640 1 Tallperennial_grass, 7.3ms\n",
            "image 801/1584 /content/drive/MyDrive/AyushVision/yolo/workingdir/final/test/images/IMG20240529060646_jpg.rf.80bfc6dcad00e00dc5ecd0d5d5824349.jpg: 640x640 1 Tallperennial_grass, 7.3ms\n",
            "image 802/1584 /content/drive/MyDrive/AyushVision/yolo/workingdir/final/test/images/IMG20240530213414_jpg.rf.edb2a10fb02c0e054c9ebb915cacb73a.jpg: 640x640 1 Tallperennial_grass, 7.3ms\n",
            "image 803/1584 /content/drive/MyDrive/AyushVision/yolo/workingdir/final/test/images/IMG20240530214044_jpg.rf.98fc07c5e821f901666db5962ec793e4.jpg: 640x640 2 Tallperennial_grasss, 7.9ms\n",
            "image 804/1584 /content/drive/MyDrive/AyushVision/yolo/workingdir/final/test/images/IMG20240530214302_jpg.rf.eb8d1b547e75e4513237bfddccd5c8c2.jpg: 640x640 1 Tallperennial_grass, 8.0ms\n",
            "image 805/1584 /content/drive/MyDrive/AyushVision/yolo/workingdir/final/test/images/IMG20240530214320_jpg.rf.09e143e65f84e178963e486f224de462.jpg: 640x640 1 Tallperennial_grass, 7.3ms\n",
            "image 806/1584 /content/drive/MyDrive/AyushVision/yolo/workingdir/final/test/images/IMG20240606084058_jpg.rf.ed63df6a6b874fd3563420a20d0ea0bb.jpg: 640x640 3 Seedsunder_leafs, 7.7ms\n",
            "image 807/1584 /content/drive/MyDrive/AyushVision/yolo/workingdir/final/test/images/IMG20240606084218_jpg.rf.b292f96a3fac3f601a89529e2dce7960.jpg: 640x640 1 Seedsunder_leaf, 7.3ms\n",
            "image 808/1584 /content/drive/MyDrive/AyushVision/yolo/workingdir/final/test/images/IMG20240606084248_jpg.rf.df9e4cf7684cc77ca13a0dbf4c64ab25.jpg: 640x640 2 Seedsunder_leafs, 7.3ms\n",
            "image 809/1584 /content/drive/MyDrive/AyushVision/yolo/workingdir/final/test/images/IMG20240606084619_jpg.rf.909bdb6773ef59fea2e733ac9ddd60d8.jpg: 640x640 1 Seedsunder_leaf, 7.3ms\n",
            "image 810/1584 /content/drive/MyDrive/AyushVision/yolo/workingdir/final/test/images/IMG20240606084656_jpg.rf.f8e1f78db3417313ae7f3629522492af.jpg: 640x640 1 Seedsunder_leaf, 7.3ms\n",
            "image 811/1584 /content/drive/MyDrive/AyushVision/yolo/workingdir/final/test/images/IMG20240606085053_jpg.rf.ac68db2553497b50160392db9965f97f.jpg: 640x640 2 Seedsunder_leafs, 7.3ms\n",
            "image 812/1584 /content/drive/MyDrive/AyushVision/yolo/workingdir/final/test/images/IMG20240606085055_jpg.rf.625b39a83f2bc2ec1cc576b7efdac3b4.jpg: 640x640 2 Seedsunder_leafs, 7.3ms\n",
            "image 813/1584 /content/drive/MyDrive/AyushVision/yolo/workingdir/final/test/images/IMG20240606085143_jpg.rf.b7285a96cd0f0646bc4b8001bce75294.jpg: 640x640 3 Seedsunder_leafs, 7.3ms\n",
            "image 814/1584 /content/drive/MyDrive/AyushVision/yolo/workingdir/final/test/images/IMG20240606085234_jpg.rf.9bd4d30f838d653b130573f337331906.jpg: 640x640 1 Seedsunder_leaf, 7.3ms\n",
            "image 815/1584 /content/drive/MyDrive/AyushVision/yolo/workingdir/final/test/images/IMG20240606085319_jpg.rf.a86b396d6c6e465dda09282d03d5b9ea.jpg: 640x640 1 Seedsunder_leaf, 7.3ms\n",
            "image 816/1584 /content/drive/MyDrive/AyushVision/yolo/workingdir/final/test/images/IMG20240606085334_jpg.rf.b26f180010022c36283a68e7b37a3353.jpg: 640x640 1 Seedsunder_leaf, 7.3ms\n",
            "image 817/1584 /content/drive/MyDrive/AyushVision/yolo/workingdir/final/test/images/IMG20240606085531_jpg.rf.db4ac3439898b4085b100694a1eedae3.jpg: 640x640 1 Seedsunder_leaf, 7.3ms\n",
            "image 818/1584 /content/drive/MyDrive/AyushVision/yolo/workingdir/final/test/images/IMG20240606085631_jpg.rf.6aaf198b03e8b9c75a8cc02b98132d31.jpg: 640x640 2 Seedsunder_leafs, 7.3ms\n",
            "image 819/1584 /content/drive/MyDrive/AyushVision/yolo/workingdir/final/test/images/IMG20240606090228_jpg.rf.30e61df791c743e893bf6df301c1e9d0.jpg: 640x640 3 Seedsunder_leafs, 7.1ms\n",
            "image 820/1584 /content/drive/MyDrive/AyushVision/yolo/workingdir/final/test/images/IMG20240606090241_jpg.rf.9426dcb964948c7eda846aa1702d74aa.jpg: 640x640 3 Seedsunder_leafs, 8.1ms\n",
            "image 821/1584 /content/drive/MyDrive/AyushVision/yolo/workingdir/final/test/images/IMG20240606090402_jpg.rf.e80928a11885940afebf34ec0fc1c120.jpg: 640x640 2 Seedsunder_leafs, 7.1ms\n",
            "image 822/1584 /content/drive/MyDrive/AyushVision/yolo/workingdir/final/test/images/IMG20240606090431_jpg.rf.ee232561b18ab38355aec8fc02118f00.jpg: 640x640 2 Seedsunder_leafs, 7.1ms\n",
            "image 823/1584 /content/drive/MyDrive/AyushVision/yolo/workingdir/final/test/images/IMG20240606090739_jpg.rf.c3e19603729994edd479ac9398f7c9aa.jpg: 640x640 2 Seedsunder_leafs, 7.3ms\n",
            "image 824/1584 /content/drive/MyDrive/AyushVision/yolo/workingdir/final/test/images/IMG20240606091104_jpg.rf.0aa5913cbb1d45528e6c072a7fb5a210.jpg: 640x640 1 Seedsunder_leaf, 7.5ms\n",
            "image 825/1584 /content/drive/MyDrive/AyushVision/yolo/workingdir/final/test/images/IMG20240606091110_jpg.rf.ab351d0a74217e3704ead9f5abfd5fe6.jpg: 640x640 2 Seedsunder_leafs, 7.4ms\n",
            "image 826/1584 /content/drive/MyDrive/AyushVision/yolo/workingdir/final/test/images/IMG20240606094939_jpg.rf.484b8be094e2336118f164ae023827f2.jpg: 640x640 2 Landrinas, 7.4ms\n",
            "image 827/1584 /content/drive/MyDrive/AyushVision/yolo/workingdir/final/test/images/IMG20240606095022_jpg.rf.6731f0bbcfc098532ba0bbfbfb780474.jpg: 640x640 1 Landrina, 7.4ms\n",
            "image 828/1584 /content/drive/MyDrive/AyushVision/yolo/workingdir/final/test/images/IMG20240606095029_jpg.rf.c2c147db12b77a7448408338d8da62f0.jpg: 640x640 1 Landrina, 7.3ms\n",
            "image 829/1584 /content/drive/MyDrive/AyushVision/yolo/workingdir/final/test/images/IMG20240606095046_jpg.rf.9a7ee9385a2b0d8ef16ce742241145ae.jpg: 640x640 1 Landrina, 7.3ms\n",
            "image 830/1584 /content/drive/MyDrive/AyushVision/yolo/workingdir/final/test/images/IMG20240606095402_jpg.rf.ab6a1fb84bb4bc7347b58b03aa5a88ef.jpg: 640x640 4 Landrinas, 7.3ms\n",
            "image 831/1584 /content/drive/MyDrive/AyushVision/yolo/workingdir/final/test/images/IMG20240606095852_jpg.rf.8376073044492df0b56790480f16d8ba.jpg: 640x640 4 Landrinas, 7.3ms\n",
            "image 832/1584 /content/drive/MyDrive/AyushVision/yolo/workingdir/final/test/images/IMG20240606111315_jpg.rf.d72bdb48a30662acea0a5fcfc44561e1.jpg: 640x640 1 Landrina, 7.3ms\n",
            "image 833/1584 /content/drive/MyDrive/AyushVision/yolo/workingdir/final/test/images/IMG20240606182344_jpg.rf.f65846426861757cad981d9db43ac522.jpg: 640x640 1 Indian_Mallow, 7.3ms\n",
            "image 834/1584 /content/drive/MyDrive/AyushVision/yolo/workingdir/final/test/images/IMG20240606182356_jpg.rf.8273d8bd1a8e28dc9ed6222e64496c1e.jpg: 640x640 1 Indian_Mallow, 7.3ms\n",
            "image 835/1584 /content/drive/MyDrive/AyushVision/yolo/workingdir/final/test/images/IMG20240606182412_jpg.rf.1bc61dbfeac0e6658d1ea2e3add9aa96.jpg: 640x640 1 Indian_Mallow, 7.4ms\n",
            "image 836/1584 /content/drive/MyDrive/AyushVision/yolo/workingdir/final/test/images/IMG20240606182607_jpg.rf.8b9ef3c773a44b1521f30b184928602d.jpg: 640x640 1 Indian_Mallow, 7.3ms\n",
            "image 837/1584 /content/drive/MyDrive/AyushVision/yolo/workingdir/final/test/images/IMG20240606182745_jpg.rf.9f0e360eab0c284e8eb8bed3469c47bc.jpg: 640x640 1 Indian_Mallow, 7.3ms\n",
            "image 838/1584 /content/drive/MyDrive/AyushVision/yolo/workingdir/final/test/images/IMG20240606182912_jpg.rf.caf5de4dc1ab480d3f6bdd77a824cbb6.jpg: 640x640 1 Indian_Mallow, 7.3ms\n",
            "image 839/1584 /content/drive/MyDrive/AyushVision/yolo/workingdir/final/test/images/IMG20240606182953_jpg.rf.945acf3717f6c53c0cb5794072ea2980.jpg: 640x640 1 Indian_Mallow, 7.3ms\n",
            "image 840/1584 /content/drive/MyDrive/AyushVision/yolo/workingdir/final/test/images/IMG20240606183105_jpg.rf.0a695810b58a9e62ff5f972966d1cf53.jpg: 640x640 1 Indian_Mallow, 7.3ms\n",
            "image 841/1584 /content/drive/MyDrive/AyushVision/yolo/workingdir/final/test/images/IMG20240606183157_jpg.rf.e6ee676fbc8b731e3fbbbba33bfde45a.jpg: 640x640 1 Indian_Mallow, 8.5ms\n",
            "image 842/1584 /content/drive/MyDrive/AyushVision/yolo/workingdir/final/test/images/IMG20240606183214_jpg.rf.745d85cd0af60f8e2841383c7ef8207c.jpg: 640x640 1 Indian_Mallow, 8.2ms\n",
            "image 843/1584 /content/drive/MyDrive/AyushVision/yolo/workingdir/final/test/images/IMG20240606183241_jpg.rf.2ad7fe1a79ea55016eb718a0638f62ba.jpg: 640x640 1 Indian_Mallow, 7.3ms\n",
            "image 844/1584 /content/drive/MyDrive/AyushVision/yolo/workingdir/final/test/images/IMG20240606194503_jpg.rf.f61e7e1d6e9678266e5a6759cae2d9f5.jpg: 640x640 1 lime, 7.3ms\n",
            "image 845/1584 /content/drive/MyDrive/AyushVision/yolo/workingdir/final/test/images/IMG20240606194549_jpg.rf.3895e0eea42141c894ad4e94f51bf95d.jpg: 640x640 1 lime, 7.3ms\n",
            "image 846/1584 /content/drive/MyDrive/AyushVision/yolo/workingdir/final/test/images/IMG20240606194557_jpg.rf.69849b14938bb2e5b34e6faddc117be4.jpg: 640x640 1 lime, 7.3ms\n",
            "image 847/1584 /content/drive/MyDrive/AyushVision/yolo/workingdir/final/test/images/IMG20240606194634_jpg.rf.1432568f2baa9b4284d0621797f651ca.jpg: 640x640 1 lime, 7.3ms\n",
            "image 848/1584 /content/drive/MyDrive/AyushVision/yolo/workingdir/final/test/images/IMG20240606194730_jpg.rf.a66d94fc6e89cac9ba3e7968ded908cb.jpg: 640x640 1 lime, 7.3ms\n",
            "image 849/1584 /content/drive/MyDrive/AyushVision/yolo/workingdir/final/test/images/IMG20240606194752_jpg.rf.0d0c1798edcb4b721ea1ecea5f4e16b7.jpg: 640x640 1 lime, 7.3ms\n",
            "image 850/1584 /content/drive/MyDrive/AyushVision/yolo/workingdir/final/test/images/IMG20240606194841_jpg.rf.8b9a576a236c8b9a8118a3c5e5c08e16.jpg: 640x640 1 lime, 7.3ms\n",
            "image 851/1584 /content/drive/MyDrive/AyushVision/yolo/workingdir/final/test/images/IMG20240606194911_jpg.rf.dca2b6a1a2d3cfd121e7fda7eec964e8.jpg: 640x640 1 lime, 7.3ms\n",
            "image 852/1584 /content/drive/MyDrive/AyushVision/yolo/workingdir/final/test/images/IMG20240606195024_jpg.rf.7c3597ac6c175f9b139e978868775436.jpg: 640x640 1 lime, 8.2ms\n",
            "image 853/1584 /content/drive/MyDrive/AyushVision/yolo/workingdir/final/test/images/IMG20240606195033_jpg.rf.634a135c9409dc4acbb865b753b0b3d8.jpg: 640x640 1 lime, 7.3ms\n",
            "image 854/1584 /content/drive/MyDrive/AyushVision/yolo/workingdir/final/test/images/IMG20240606195221_jpg.rf.d8353bb40b576df1af4bca795baf9ad7.jpg: 640x640 1 lime, 7.3ms\n",
            "image 855/1584 /content/drive/MyDrive/AyushVision/yolo/workingdir/final/test/images/IMG20240606195331_jpg.rf.9c0f371f4bf14d26a6635949e58cff35.jpg: 640x640 1 lime, 7.3ms\n",
            "image 856/1584 /content/drive/MyDrive/AyushVision/yolo/workingdir/final/test/images/IMG20240606195559_jpg.rf.ae90a91ece2addf146e209b5515f2411.jpg: 640x640 1 lime, 7.3ms\n",
            "image 857/1584 /content/drive/MyDrive/AyushVision/yolo/workingdir/final/test/images/IMG20240606195806_jpg.rf.82cf91e73aa966d0ca6992cbb0d939ff.jpg: 640x640 1 lime, 7.3ms\n",
            "image 858/1584 /content/drive/MyDrive/AyushVision/yolo/workingdir/final/test/images/IMG20240606195957_jpg.rf.1537691eb46a1b7448f4bf01f0f5cdda.jpg: 640x640 1 lime, 7.3ms\n",
            "image 859/1584 /content/drive/MyDrive/AyushVision/yolo/workingdir/final/test/images/IMG20240606200017_jpg.rf.df4980db2ddd80357a35c62d66c6edf4.jpg: 640x640 1 lime, 8.0ms\n",
            "image 860/1584 /content/drive/MyDrive/AyushVision/yolo/workingdir/final/test/images/IMG20240606200056_jpg.rf.83d1c715d775204e0f141948c8d96341.jpg: 640x640 1 lime, 7.3ms\n",
            "image 861/1584 /content/drive/MyDrive/AyushVision/yolo/workingdir/final/test/images/IMG20240606200305_jpg.rf.451fe5863a7db902fa3e1d362a15cfc8.jpg: 640x640 1 lime, 7.3ms\n",
            "image 862/1584 /content/drive/MyDrive/AyushVision/yolo/workingdir/final/test/images/IMG20240606200309_jpg.rf.53b24e9fb04f7b1f184258d6c33ecb46.jpg: 640x640 1 lime, 7.3ms\n",
            "image 863/1584 /content/drive/MyDrive/AyushVision/yolo/workingdir/final/test/images/IMG20240606220317_jpg.rf.d55691d0feaead104d0ca12f272a7075.jpg: 640x640 1 lime, 7.3ms\n",
            "image 864/1584 /content/drive/MyDrive/AyushVision/yolo/workingdir/final/test/images/IMG20240606220320_jpg.rf.29ef3c4d99754fbbfe4a51a7253ffa82.jpg: 640x640 1 lime, 7.3ms\n",
            "image 865/1584 /content/drive/MyDrive/AyushVision/yolo/workingdir/final/test/images/IMG20240606220327_jpg.rf.acae96d1c5d9870ce14a4378e2ab57db.jpg: 640x640 1 lime, 7.3ms\n",
            "image 866/1584 /content/drive/MyDrive/AyushVision/yolo/workingdir/final/test/images/IMG20240606220451_jpg.rf.179ea7046eb06c40acb4ef472184626f.jpg: 640x640 1 lime, 7.3ms\n",
            "image 867/1584 /content/drive/MyDrive/AyushVision/yolo/workingdir/final/test/images/IMG20240606220529_jpg.rf.b93ed7c0af14698639f47a0a985d08b1.jpg: 640x640 1 lime, 7.3ms\n",
            "image 868/1584 /content/drive/MyDrive/AyushVision/yolo/workingdir/final/test/images/IMG20240606220817_jpg.rf.0eaac9a63cff1f9a5075a7ccc6c90b40.jpg: 640x640 1 lime, 7.3ms\n",
            "image 869/1584 /content/drive/MyDrive/AyushVision/yolo/workingdir/final/test/images/IMG20240606220838_jpg.rf.a1a5fe4c1aeb8b4176fe97fb8b5042da.jpg: 640x640 1 lime, 7.3ms\n",
            "image 870/1584 /content/drive/MyDrive/AyushVision/yolo/workingdir/final/test/images/IMG20240606220908_jpg.rf.caa16a45af61e2f9b0fba51579315b82.jpg: 640x640 1 lime, 7.3ms\n",
            "image 871/1584 /content/drive/MyDrive/AyushVision/yolo/workingdir/final/test/images/IMG20240606221244_jpg.rf.f465253ce79978be7b2551e288cf08b8.jpg: 640x640 1 lime, 7.3ms\n",
            "image 872/1584 /content/drive/MyDrive/AyushVision/yolo/workingdir/final/test/images/IMG20240606221313_jpg.rf.6da02f037ca2cfc168884664b42c0e8d.jpg: 640x640 1 lime, 7.3ms\n",
            "image 873/1584 /content/drive/MyDrive/AyushVision/yolo/workingdir/final/test/images/IMG20240606221352_jpg.rf.c976d43a4284dc4031225cfa90452faf.jpg: 640x640 1 lime, 7.3ms\n",
            "image 874/1584 /content/drive/MyDrive/AyushVision/yolo/workingdir/final/test/images/IMG20240606221358_jpg.rf.67358470083005d849fa6d48a6c0bb10.jpg: 640x640 1 lime, 7.3ms\n",
            "image 875/1584 /content/drive/MyDrive/AyushVision/yolo/workingdir/final/test/images/IMG20240608105941_jpg.rf.3a2ec44facd4466ab7f05036947ae4bf.jpg: 640x640 2 Wild_Turmerics, 7.3ms\n",
            "image 876/1584 /content/drive/MyDrive/AyushVision/yolo/workingdir/final/test/images/IMG20240608110115_jpg.rf.b58633dd95f6550011007795d360980c.jpg: 640x640 2 Wild_Turmerics, 7.3ms\n",
            "image 877/1584 /content/drive/MyDrive/AyushVision/yolo/workingdir/final/test/images/IMG20240608110245_jpg.rf.4a0794b90658fd80a411dffed4fe86b3.jpg: 640x640 2 Wild_Turmerics, 7.3ms\n",
            "image 878/1584 /content/drive/MyDrive/AyushVision/yolo/workingdir/final/test/images/IMG20240608110407_01_jpg.rf.4de5580d3aad840e18576221a271d955.jpg: 640x640 3 Wild_Turmerics, 7.7ms\n",
            "image 879/1584 /content/drive/MyDrive/AyushVision/yolo/workingdir/final/test/images/IMG20240608110409_jpg.rf.b539f27a9b21687a2f80519751b2f7e7.jpg: 640x640 5 Wild_Turmerics, 8.1ms\n",
            "image 880/1584 /content/drive/MyDrive/AyushVision/yolo/workingdir/final/test/images/IMG20240608110533_jpg.rf.ed5682b0cf9603e1cd53f8fbbfd7e297.jpg: 640x640 2 Wild_Turmerics, 7.3ms\n",
            "image 881/1584 /content/drive/MyDrive/AyushVision/yolo/workingdir/final/test/images/IMG20240608110534_jpg.rf.78cdea1f1404b36632113d0d44246e57.jpg: 640x640 3 Wild_Turmerics, 7.3ms\n",
            "image 882/1584 /content/drive/MyDrive/AyushVision/yolo/workingdir/final/test/images/IMG20240608110539_jpg.rf.b71889a2e0d9fad022cea490435650e8.jpg: 640x640 1 Wild_Turmeric, 10.5ms\n",
            "image 883/1584 /content/drive/MyDrive/AyushVision/yolo/workingdir/final/test/images/IMG20240608110549_jpg.rf.ce0e3cde7c2389354e32855dbd096410.jpg: 640x640 1 Wild_Turmeric, 7.3ms\n",
            "image 884/1584 /content/drive/MyDrive/AyushVision/yolo/workingdir/final/test/images/IMG20240608110637_jpg.rf.7a0c96b1fb05725db86749c2530454eb.jpg: 640x640 2 Wild_Turmerics, 7.3ms\n",
            "image 885/1584 /content/drive/MyDrive/AyushVision/yolo/workingdir/final/test/images/IMG20240608110649_jpg.rf.e97c0c1df165c1b2171f35d0679be2bb.jpg: 640x640 4 Wild_Turmerics, 7.3ms\n",
            "image 886/1584 /content/drive/MyDrive/AyushVision/yolo/workingdir/final/test/images/IMG20240608110752_01_jpg.rf.2b969221f33d6dca70669f15c6145361.jpg: 640x640 1 Wild_Turmeric, 7.3ms\n",
            "image 887/1584 /content/drive/MyDrive/AyushVision/yolo/workingdir/final/test/images/IMG20240608110808_jpg.rf.4765c485aadd3cf938b92bc34eb176bd.jpg: 640x640 2 Wild_Turmerics, 7.3ms\n",
            "image 888/1584 /content/drive/MyDrive/AyushVision/yolo/workingdir/final/test/images/IMG20240608110812_jpg.rf.b3b6c7c87321cf1a32af78c323bb585c.jpg: 640x640 1 Wild_Turmeric, 7.3ms\n",
            "image 889/1584 /content/drive/MyDrive/AyushVision/yolo/workingdir/final/test/images/IMG20240608110818_jpg.rf.7b308c78928eca209f0a3ff89c1d2237.jpg: 640x640 1 Turmeric, 3 Wild_Turmerics, 7.3ms\n",
            "image 890/1584 /content/drive/MyDrive/AyushVision/yolo/workingdir/final/test/images/IMG20240608110826_jpg.rf.82936025ad16998586b265170324dc8c.jpg: 640x640 2 Wild_Turmerics, 7.3ms\n",
            "image 891/1584 /content/drive/MyDrive/AyushVision/yolo/workingdir/final/test/images/IMG20240608110847_jpg.rf.70bd8953ff5c7a1b4cc6af7b0b669d92.jpg: 640x640 8 Wild_Turmerics, 7.3ms\n",
            "image 892/1584 /content/drive/MyDrive/AyushVision/yolo/workingdir/final/test/images/IMG20240608110902_jpg.rf.86717db7cb0156482bfb0403c26bd648.jpg: 640x640 3 Wild_Turmerics, 7.6ms\n",
            "image 893/1584 /content/drive/MyDrive/AyushVision/yolo/workingdir/final/test/images/IMG20240608110942_jpg.rf.fa6c9cbf4e986720e6a1633bda5e3610.jpg: 640x640 1 Wild_Turmeric, 7.3ms\n",
            "image 894/1584 /content/drive/MyDrive/AyushVision/yolo/workingdir/final/test/images/IMG20240608111107_jpg.rf.39a8b1816a3fa6360a7f3e0a9f9e2a24.jpg: 640x640 1 Wild_Turmeric, 8.8ms\n",
            "image 895/1584 /content/drive/MyDrive/AyushVision/yolo/workingdir/final/test/images/IMG20240608111122_jpg.rf.2758a44ed4aedc5b8fa56cebe0ae53bd.jpg: 640x640 3 Wild_Turmerics, 7.3ms\n",
            "image 896/1584 /content/drive/MyDrive/AyushVision/yolo/workingdir/final/test/images/IMG20240608120353_jpg.rf.73dd646558f703b949e6f6d037c23c04.jpg: 640x640 1 Miracle_leaf, 7.3ms\n",
            "image 897/1584 /content/drive/MyDrive/AyushVision/yolo/workingdir/final/test/images/IMG20240608120415_jpg.rf.66a7e2c390f4db67966bfd5ed3653035.jpg: 640x640 1 Miracle_leaf, 7.3ms\n",
            "image 898/1584 /content/drive/MyDrive/AyushVision/yolo/workingdir/final/test/images/IMG20240608120503_jpg.rf.6cbaaf3abaedf054c1ba45360afbc1d4.jpg: 640x640 1 Miracle_leaf, 7.3ms\n",
            "image 899/1584 /content/drive/MyDrive/AyushVision/yolo/workingdir/final/test/images/IMG20240608120611_jpg.rf.2b4b5f5af1b6941c55705409a2afd9b0.jpg: 640x640 1 Miracle_leaf, 7.3ms\n",
            "image 900/1584 /content/drive/MyDrive/AyushVision/yolo/workingdir/final/test/images/IMG20240608122044_jpg.rf.ae65ca3e83750b6781eb4593e3ae05dd.jpg: 640x640 1 Miracle_leaf, 7.3ms\n",
            "image 901/1584 /content/drive/MyDrive/AyushVision/yolo/workingdir/final/test/images/IMG20240608122205_jpg.rf.285367211af3becdabc4cfec01b32bca.jpg: 640x640 1 Miracle_leaf, 7.3ms\n",
            "image 902/1584 /content/drive/MyDrive/AyushVision/yolo/workingdir/final/test/images/IMG20240608122242_jpg.rf.2801fc26d0371e6f71417ba47d217afa.jpg: 640x640 1 Miracle_leaf, 8.3ms\n",
            "image 903/1584 /content/drive/MyDrive/AyushVision/yolo/workingdir/final/test/images/IMG20240608122553_jpg.rf.7e4861c2a32ded335ffebb69975996d4.jpg: 640x640 1 Miracle_leaf, 7.3ms\n",
            "image 904/1584 /content/drive/MyDrive/AyushVision/yolo/workingdir/final/test/images/IMG20240608122729_jpg.rf.c2c4c1aac36553082af8748171afb44e.jpg: 640x640 1 Miracle_leaf, 7.3ms\n",
            "image 905/1584 /content/drive/MyDrive/AyushVision/yolo/workingdir/final/test/images/IMG20240608172812_jpg.rf.67c728e94577ac87e13905c71f46adb3.jpg: 640x640 1 Lemon_grass, 7.3ms\n",
            "image 906/1584 /content/drive/MyDrive/AyushVision/yolo/workingdir/final/test/images/IMG20240608173201_jpg.rf.01358af5cc2ba08128c3401809102260.jpg: 640x640 1 Lemon_grass, 7.3ms\n",
            "image 907/1584 /content/drive/MyDrive/AyushVision/yolo/workingdir/final/test/images/IMG20240608173309_jpg.rf.af597e77b1a93820bfaa0e0011b83c5f.jpg: 640x640 2 Lemon_grasss, 7.3ms\n",
            "image 908/1584 /content/drive/MyDrive/AyushVision/yolo/workingdir/final/test/images/IMG20240608173339_jpg.rf.bc696664abd285afc570c877cb8633ec.jpg: 640x640 2 Lemon_grasss, 7.3ms\n",
            "image 909/1584 /content/drive/MyDrive/AyushVision/yolo/workingdir/final/test/images/IMG20240608173913_jpg.rf.11358a0dad4cae615c039d7d1fda3ba9.jpg: 640x640 1 Lemon_grass, 7.3ms\n",
            "image 910/1584 /content/drive/MyDrive/AyushVision/yolo/workingdir/final/test/images/IMG20240608173954_jpg.rf.70c3c854e179c1c7777718cbe165e434.jpg: 640x640 1 Lemon_grass, 7.3ms\n",
            "image 911/1584 /content/drive/MyDrive/AyushVision/yolo/workingdir/final/test/images/IMG20240608174146_jpg.rf.c53e049473c9b01e3a615f27bf053ef8.jpg: 640x640 1 Lemon_grass, 7.3ms\n",
            "image 912/1584 /content/drive/MyDrive/AyushVision/yolo/workingdir/final/test/images/IMG20240608174636_jpg.rf.3130d6fbc607db3c4c1c1d2d97151e3d.jpg: 640x640 2 Lemon_grasss, 7.3ms\n",
            "image 913/1584 /content/drive/MyDrive/AyushVision/yolo/workingdir/final/test/images/IMG20240608174710_jpg.rf.6f9a3c76bd67380668c44f8a4610c5ce.jpg: 640x640 1 Lemon_grass, 7.3ms\n",
            "image 914/1584 /content/drive/MyDrive/AyushVision/yolo/workingdir/final/test/images/IMG20240608174911_jpg.rf.1df3cfa79e486fd4b815bdc7053576b0.jpg: 640x640 2 Lemon_grasss, 7.3ms\n",
            "image 915/1584 /content/drive/MyDrive/AyushVision/yolo/workingdir/final/test/images/IMG20240608180313_jpg.rf.f7f5caec6bbea6c402f048b894e44fd1.jpg: 640x640 1 Tallperennial_grass, 7.3ms\n",
            "image 916/1584 /content/drive/MyDrive/AyushVision/yolo/workingdir/final/test/images/IMG20240608180322_jpg.rf.91eac5a98c674ad6dce740df7259f42f.jpg: 640x640 1 Lemon_grass, 7.3ms\n",
            "image 917/1584 /content/drive/MyDrive/AyushVision/yolo/workingdir/final/test/images/IMG20240608180338_jpg.rf.9e3baf8ae076d015c19f7670b9fa6fde.jpg: 640x640 1 Lemon_grass, 8.8ms\n",
            "image 918/1584 /content/drive/MyDrive/AyushVision/yolo/workingdir/final/test/images/IMG20240608180505_jpg.rf.9651b5391947d17eb8b9c051e3332d4f.jpg: 640x640 1 Tallperennial_grass, 7.3ms\n",
            "image 919/1584 /content/drive/MyDrive/AyushVision/yolo/workingdir/final/test/images/IMG20240608181954_jpg.rf.eecf0bad3bbd5a3a3a885b67c51ba8dc.jpg: 640x640 1 Lemon_grass, 1 Tallperennial_grass, 7.3ms\n",
            "image 920/1584 /content/drive/MyDrive/AyushVision/yolo/workingdir/final/test/images/IMG20240608213306_jpg.rf.1cde8706afe6aa5d25167f565c1c8258.jpg: 640x640 1 Lemon_grass, 1 Tallperennial_grass, 8.4ms\n",
            "image 921/1584 /content/drive/MyDrive/AyushVision/yolo/workingdir/final/test/images/IMG20240608213325_jpg.rf.e08329438f2857509a6734115a90b891.jpg: 640x640 1 Tallperennial_grass, 7.3ms\n",
            "image 922/1584 /content/drive/MyDrive/AyushVision/yolo/workingdir/final/test/images/IMG20240608213451_jpg.rf.b7de47e5eb1b45e82bb876873623a8e2.jpg: 640x640 1 Tallperennial_grass, 8.0ms\n",
            "image 923/1584 /content/drive/MyDrive/AyushVision/yolo/workingdir/final/test/images/IMG20240608213453_jpg.rf.89037c12a2b3f875d94e5ed54c61f5b0.jpg: 640x640 1 Tallperennial_grass, 8.5ms\n",
            "image 924/1584 /content/drive/MyDrive/AyushVision/yolo/workingdir/final/test/images/IMG20240608214336_jpg.rf.4d0625880554c6e8e4281ba7639650a0.jpg: 640x640 1 Tallperennial_grass, 7.3ms\n",
            "image 925/1584 /content/drive/MyDrive/AyushVision/yolo/workingdir/final/test/images/IMG20240608214640_jpg.rf.e4d5cbbebf3e1f0aea14c78982980631.jpg: 640x640 1 Tallperennial_grass, 7.3ms\n",
            "image 926/1584 /content/drive/MyDrive/AyushVision/yolo/workingdir/final/test/images/IMG20240608214708_jpg.rf.58cb4fbcc47624a5b640c49d6ec24aaa.jpg: 640x640 1 Lemon_grass, 7.3ms\n",
            "image 927/1584 /content/drive/MyDrive/AyushVision/yolo/workingdir/final/test/images/IMG20240608214740_jpg.rf.6dc98a90d6bee8da6a89d379cac38b63.jpg: 640x640 1 Lemon_grass, 9.4ms\n",
            "image 928/1584 /content/drive/MyDrive/AyushVision/yolo/workingdir/final/test/images/IMG20240608214743_jpg.rf.e9f2197aa9be0c8c6155b8b7b42bd254.jpg: 640x640 1 Lemon_grass, 7.3ms\n",
            "image 929/1584 /content/drive/MyDrive/AyushVision/yolo/workingdir/final/test/images/IMG20240608214745_jpg.rf.435b02e27344ee8e64b04904cbae98fa.jpg: 640x640 1 Lemon_grass, 7.3ms\n",
            "image 930/1584 /content/drive/MyDrive/AyushVision/yolo/workingdir/final/test/images/IMG20240608214904_jpg.rf.272fb0c98d6ffaafdf3ccf152823ef9c.jpg: 640x640 1 Tallperennial_grass, 7.3ms\n",
            "image 931/1584 /content/drive/MyDrive/AyushVision/yolo/workingdir/final/test/images/IMG20240608215037_jpg.rf.1097f573e02510a002da2225e7e31567.jpg: 640x640 1 Tallperennial_grass, 7.3ms\n",
            "image 932/1584 /content/drive/MyDrive/AyushVision/yolo/workingdir/final/test/images/IMG20240608215211_jpg.rf.da45dee656c4ff96a1370baee54ec25d.jpg: 640x640 (no detections), 7.3ms\n",
            "image 933/1584 /content/drive/MyDrive/AyushVision/yolo/workingdir/final/test/images/IMG20240608215310_jpg.rf.4522a41d11fcd6d4f39ff8f05a705535.jpg: 640x640 1 Lemon_grass, 2 Tallperennial_grasss, 7.3ms\n",
            "image 934/1584 /content/drive/MyDrive/AyushVision/yolo/workingdir/final/test/images/IMG20240608221638_jpg.rf.05949564d2beae8173639639a410f0db.jpg: 640x640 2 Lemon_grasss, 1 Tallperennial_grass, 7.3ms\n",
            "image 935/1584 /content/drive/MyDrive/AyushVision/yolo/workingdir/final/test/images/IMG20240608221716_jpg.rf.d0e818b1db8d4a4dfbf08a2ca2bd09f9.jpg: 640x640 1 Lemon_grass, 8.2ms\n",
            "image 936/1584 /content/drive/MyDrive/AyushVision/yolo/workingdir/final/test/images/IMG20240608221719_jpg.rf.cad47a1c5beee3b1b25fb2d3f38badd5.jpg: 640x640 1 Lemon_grass, 1 Tallperennial_grass, 7.3ms\n",
            "image 937/1584 /content/drive/MyDrive/AyushVision/yolo/workingdir/final/test/images/IMG20240608221945_jpg.rf.e20672f5575728bf381bce495ca1f60a.jpg: 640x640 1 Tallperennial_grass, 8.6ms\n",
            "image 938/1584 /content/drive/MyDrive/AyushVision/yolo/workingdir/final/test/images/IMG20240608221949_jpg.rf.214008f1063945e72f363c128de89703.jpg: 640x640 1 Tallperennial_grass, 8.2ms\n",
            "image 939/1584 /content/drive/MyDrive/AyushVision/yolo/workingdir/final/test/images/IMG20240608222428_jpg.rf.14f2c2a27c66da4a1c1ac1ab7b1d2d84.jpg: 640x640 1 Tallperennial_grass, 7.3ms\n",
            "image 940/1584 /content/drive/MyDrive/AyushVision/yolo/workingdir/final/test/images/IMG20240608222450_jpg.rf.2aa90c382ce3609d9da46da9911ca326.jpg: 640x640 1 Tallperennial_grass, 7.3ms\n",
            "image 941/1584 /content/drive/MyDrive/AyushVision/yolo/workingdir/final/test/images/IMG20240608222510_jpg.rf.59ca163b747520bd18aca40fb6f345b4.jpg: 640x640 1 Tallperennial_grass, 7.3ms\n",
            "image 942/1584 /content/drive/MyDrive/AyushVision/yolo/workingdir/final/test/images/IMG20240608222643_jpg.rf.91badd80c19ad41d0e5e317fdc4250bc.jpg: 640x640 1 Tallperennial_grass, 7.3ms\n",
            "image 943/1584 /content/drive/MyDrive/AyushVision/yolo/workingdir/final/test/images/IMG20240608222747_jpg.rf.bce2211c3a7940528e8959b8efce79cb.jpg: 640x640 1 Tallperennial_grass, 7.3ms\n",
            "image 944/1584 /content/drive/MyDrive/AyushVision/yolo/workingdir/final/test/images/IMG20240608222749_jpg.rf.b6c9b3543714351f2fe57e6ed93eb254.jpg: 640x640 1 Tallperennial_grass, 7.3ms\n",
            "image 945/1584 /content/drive/MyDrive/AyushVision/yolo/workingdir/final/test/images/IMG20240608222801_jpg.rf.0a866cf317eadd9cdd63d69191532cca.jpg: 640x640 1 Tallperennial_grass, 7.4ms\n",
            "image 946/1584 /content/drive/MyDrive/AyushVision/yolo/workingdir/final/test/images/IMG20240608222856_jpg.rf.24971320bc4d27a9db0ba248856ec305.jpg: 640x640 1 Tallperennial_grass, 7.3ms\n",
            "image 947/1584 /content/drive/MyDrive/AyushVision/yolo/workingdir/final/test/images/IMG20240608223144_jpg.rf.75c722929553cfac7750b157f573d10b.jpg: 640x640 2 Lemon_grasss, 7.3ms\n",
            "image 948/1584 /content/drive/MyDrive/AyushVision/yolo/workingdir/final/test/images/IMG20240608223318_jpg.rf.3f6682b3512aff3f930e3c9e461dd0bc.jpg: 640x640 1 Tallperennial_grass, 7.3ms\n",
            "image 949/1584 /content/drive/MyDrive/AyushVision/yolo/workingdir/final/test/images/IMG20240608223516_jpg.rf.0c0c866c533f4d8135bc050b5e69ba79.jpg: 640x640 1 Tallperennial_grass, 7.3ms\n",
            "image 950/1584 /content/drive/MyDrive/AyushVision/yolo/workingdir/final/test/images/IMG20240608223659_jpg.rf.81c1dd56e3ed7837976db2fabde53e45.jpg: 640x640 1 Tallperennial_grass, 8.0ms\n",
            "image 951/1584 /content/drive/MyDrive/AyushVision/yolo/workingdir/final/test/images/IMG20240608223757_jpg.rf.2a5da1c1f97246ec91efff0a82e9ba86.jpg: 640x640 1 Tallperennial_grass, 7.3ms\n",
            "image 952/1584 /content/drive/MyDrive/AyushVision/yolo/workingdir/final/test/images/IMG20240608224025_jpg.rf.19347a5beb0dce942aeea131cab42819.jpg: 640x640 1 Tallperennial_grass, 7.3ms\n",
            "image 953/1584 /content/drive/MyDrive/AyushVision/yolo/workingdir/final/test/images/IMG20240608224102_jpg.rf.7f1ec278458a61b7465f45b5a7991fb5.jpg: 640x640 1 Tallperennial_grass, 7.3ms\n",
            "image 954/1584 /content/drive/MyDrive/AyushVision/yolo/workingdir/final/test/images/IMG20240608224117_jpg.rf.0987c213e8a4679f251d5c4bcccfe8c9.jpg: 640x640 1 Tallperennial_grass, 7.3ms\n",
            "image 955/1584 /content/drive/MyDrive/AyushVision/yolo/workingdir/final/test/images/IMG20240608224142_jpg.rf.156f66c78b64f86a40d98336c7511491.jpg: 640x640 1 Tallperennial_grass, 7.3ms\n",
            "image 956/1584 /content/drive/MyDrive/AyushVision/yolo/workingdir/final/test/images/IMG20240608224155_jpg.rf.b447c3dfc9c8b5d092dd0e9a234ac1d7.jpg: 640x640 1 Lemon_grass, 1 Tallperennial_grass, 7.3ms\n",
            "image 957/1584 /content/drive/MyDrive/AyushVision/yolo/workingdir/final/test/images/IMG20240608224229_jpg.rf.1efcdad7daf80c62c1d4bc49ac245579.jpg: 640x640 1 Tallperennial_grass, 7.3ms\n",
            "image 958/1584 /content/drive/MyDrive/AyushVision/yolo/workingdir/final/test/images/IMG20240609084407_jpg.rf.ba4c45aeaf66c3d62a03d4523955121b.jpg: 640x640 1 Betel, 1 Cinnamon, 1 Long_pepper, 7.3ms\n",
            "image 959/1584 /content/drive/MyDrive/AyushVision/yolo/workingdir/final/test/images/IMG20240609084409_jpg.rf.9839ad359af179b45f42b70a1a68c9d8.jpg: 640x640 1 Betel, 1 Long_pepper, 7.3ms\n",
            "image 960/1584 /content/drive/MyDrive/AyushVision/yolo/workingdir/final/test/images/IMG20240609084418_jpg.rf.ef594304b2d3e15258bb959bb5473ed4.jpg: 640x640 1 Long_pepper, 7.3ms\n",
            "image 961/1584 /content/drive/MyDrive/AyushVision/yolo/workingdir/final/test/images/IMG20240609084624_jpg.rf.df7ee65b0ff2408fc88e545b544fe5ca.jpg: 640x640 1 Long_pepper, 7.3ms\n",
            "image 962/1584 /content/drive/MyDrive/AyushVision/yolo/workingdir/final/test/images/IMG20240609084638_jpg.rf.4eb24475d0e76d2373b2c0e678cc2c03.jpg: 640x640 1 Long_pepper, 7.3ms\n",
            "image 963/1584 /content/drive/MyDrive/AyushVision/yolo/workingdir/final/test/images/IMG20240609084705_jpg.rf.c830fbf946742bcead15aa78237d28a6.jpg: 640x640 1 Long_pepper, 7.3ms\n",
            "image 964/1584 /content/drive/MyDrive/AyushVision/yolo/workingdir/final/test/images/IMG20240609084739_jpg.rf.1464965f732505bbe86cfb4a03f1f34f.jpg: 640x640 1 Long_pepper, 7.9ms\n",
            "image 965/1584 /content/drive/MyDrive/AyushVision/yolo/workingdir/final/test/images/IMG20240609084742_jpg.rf.b061f0d94fcf124c27bd408e7aa5688e.jpg: 640x640 1 Long_pepper, 7.3ms\n",
            "image 966/1584 /content/drive/MyDrive/AyushVision/yolo/workingdir/final/test/images/IMG20240609090004_jpg.rf.781e08376dcb4eed410bb5c519d4e6ff.jpg: 640x640 1 Pedaliummurex, 7.3ms\n",
            "image 967/1584 /content/drive/MyDrive/AyushVision/yolo/workingdir/final/test/images/IMG20240609090113_jpg.rf.3729bfdba022bdfef4e0cbe5437d1070.jpg: 640x640 1 Betel, 1 Long_pepper, 7.3ms\n",
            "image 968/1584 /content/drive/MyDrive/AyushVision/yolo/workingdir/final/test/images/IMG20240609090159_jpg.rf.9f29c369cbb9d38acd13852736512627.jpg: 640x640 3 Long_peppers, 7.3ms\n",
            "image 969/1584 /content/drive/MyDrive/AyushVision/yolo/workingdir/final/test/images/IMG20240609090747_jpg.rf.65af7ea5e12bfb4f1e60a38eeeded0a0.jpg: 640x640 1 Long_pepper, 7.3ms\n",
            "image 970/1584 /content/drive/MyDrive/AyushVision/yolo/workingdir/final/test/images/IMG20240609090828_jpg.rf.30c49c2bf006c384f76f651ffaa70109.jpg: 640x640 1 Betel, 1 Long_pepper, 7.3ms\n",
            "image 971/1584 /content/drive/MyDrive/AyushVision/yolo/workingdir/final/test/images/IMG20240609091044_jpg.rf.766edc777d0a12a0fc77988a55a2f394.jpg: 640x640 1 Long_pepper, 7.3ms\n",
            "image 972/1584 /content/drive/MyDrive/AyushVision/yolo/workingdir/final/test/images/IMG20240609091140_jpg.rf.4cd9a53dd3ee4aed4139c00682f29a86.jpg: 640x640 3 Long_peppers, 7.3ms\n",
            "image 973/1584 /content/drive/MyDrive/AyushVision/yolo/workingdir/final/test/images/IMG20240609091237_jpg.rf.70aad06efc61ec499d5840f1e8ac4313.jpg: 640x640 1 Long_pepper, 7.3ms\n",
            "image 974/1584 /content/drive/MyDrive/AyushVision/yolo/workingdir/final/test/images/IMG20240609091404_jpg.rf.edc477f7fe10bb263659d467f812b815.jpg: 640x640 2 Long_peppers, 7.3ms\n",
            "image 975/1584 /content/drive/MyDrive/AyushVision/yolo/workingdir/final/test/images/IMG20240609091535_jpg.rf.76aebf14a32aa1115337a91b3199f10a.jpg: 640x640 1 Long_pepper, 8.3ms\n",
            "image 976/1584 /content/drive/MyDrive/AyushVision/yolo/workingdir/final/test/images/IMG20240609091622_jpg.rf.5a209c9dcb795aca75bf38a34cf068ba.jpg: 640x640 4 Long_peppers, 7.5ms\n",
            "image 977/1584 /content/drive/MyDrive/AyushVision/yolo/workingdir/final/test/images/IMG20240609091727_jpg.rf.c8cc8cbb2b1195c439c0148afeac9d45.jpg: 640x640 2 Long_peppers, 7.3ms\n",
            "image 978/1584 /content/drive/MyDrive/AyushVision/yolo/workingdir/final/test/images/IMG20240609092334_jpg.rf.9d37f1eeba058b3bb9816f1b2fe147f6.jpg: 640x640 4 Long_peppers, 1 Redpea_egg_plant, 7.3ms\n",
            "image 979/1584 /content/drive/MyDrive/AyushVision/yolo/workingdir/final/test/images/IMG20240609092412_jpg.rf.9e340e9f4118455b15d3209faa1f65bc.jpg: 640x640 1 Long_pepper, 7.8ms\n",
            "image 980/1584 /content/drive/MyDrive/AyushVision/yolo/workingdir/final/test/images/IMG20240609092420_jpg.rf.2516a796e71fb1a31e99f24625b1bffa.jpg: 640x640 3 Long_peppers, 7.3ms\n",
            "image 981/1584 /content/drive/MyDrive/AyushVision/yolo/workingdir/final/test/images/IMG20240609092503_jpg.rf.d73d738bd5ae74becd189682900640b0.jpg: 640x640 1 Long_pepper, 7.4ms\n",
            "image 982/1584 /content/drive/MyDrive/AyushVision/yolo/workingdir/final/test/images/IMG20240609092745_jpg.rf.5fef5335b01d3d571a73080a8b023b90.jpg: 640x640 2 Long_peppers, 7.7ms\n",
            "image 983/1584 /content/drive/MyDrive/AyushVision/yolo/workingdir/final/test/images/IMG20240609092859_jpg.rf.e0e45868736275802ba08b5698235e8c.jpg: 640x640 1 Long_pepper, 7.3ms\n",
            "image 984/1584 /content/drive/MyDrive/AyushVision/yolo/workingdir/final/test/images/IMG20240609093133_jpg.rf.d3f8a6c92f0a7b9325454f6d06817cd4.jpg: 640x640 1 Long_pepper, 7.3ms\n",
            "image 985/1584 /content/drive/MyDrive/AyushVision/yolo/workingdir/final/test/images/IMG20240609093306_jpg.rf.2973386c3b43c2148c712a85e7eb6f36.jpg: 640x640 3 Long_peppers, 7.3ms\n",
            "image 986/1584 /content/drive/MyDrive/AyushVision/yolo/workingdir/final/test/images/IMG20240609093335_jpg.rf.94d3deb0b722fe05be87f7694c0d00f9.jpg: 640x640 5 Long_peppers, 7.3ms\n",
            "image 987/1584 /content/drive/MyDrive/AyushVision/yolo/workingdir/final/test/images/IMG20240609093424_jpg.rf.96c57dec544531430595cd3f695e5fda.jpg: 640x640 1 Long_pepper, 7.3ms\n",
            "image 988/1584 /content/drive/MyDrive/AyushVision/yolo/workingdir/final/test/images/IMG20240609093431_jpg.rf.c63468a051bcd46ba1e63841c34108b4.jpg: 640x640 1 Long_pepper, 7.3ms\n",
            "image 989/1584 /content/drive/MyDrive/AyushVision/yolo/workingdir/final/test/images/IMG20240609093624_jpg.rf.880ab725bd7764e6fb34252fee954b75.jpg: 640x640 1 Long_pepper, 1 Redpea_egg_plant, 7.3ms\n",
            "image 990/1584 /content/drive/MyDrive/AyushVision/yolo/workingdir/final/test/images/IMG20240609093652_jpg.rf.d56ff3face70ee6d1194c7fed23cfabe.jpg: 640x640 1 Long_pepper, 7.3ms\n",
            "image 991/1584 /content/drive/MyDrive/AyushVision/yolo/workingdir/final/test/images/IMG20240609093956_jpg.rf.8969bd33b9b988dd121c7f15a397e3de.jpg: 640x640 1 Long_pepper, 7.3ms\n",
            "image 992/1584 /content/drive/MyDrive/AyushVision/yolo/workingdir/final/test/images/IMG20240609094055_jpg.rf.3ed4f5ffa4555b00411534be6e5fe905.jpg: 640x640 3 Long_peppers, 9.2ms\n",
            "image 993/1584 /content/drive/MyDrive/AyushVision/yolo/workingdir/final/test/images/IMG20240609094714_jpg.rf.06e654de3d5c793de9b6dbbb5da2d719.jpg: 640x640 1 Long_pepper, 7.6ms\n",
            "image 994/1584 /content/drive/MyDrive/AyushVision/yolo/workingdir/final/test/images/IMG20240609094738_jpg.rf.bf8bebcced142a367641127fd5045fc4.jpg: 640x640 1 Long_pepper, 7.3ms\n",
            "image 995/1584 /content/drive/MyDrive/AyushVision/yolo/workingdir/final/test/images/IMG20240609095442_jpg.rf.746c9a37df21f388de51c9a31a3c3f15.jpg: 640x640 1 Miracle_leaf, 7.3ms\n",
            "image 996/1584 /content/drive/MyDrive/AyushVision/yolo/workingdir/final/test/images/IMG20240609095445_jpg.rf.512ca6eaba3ddad00758e5c5e340c6b8.jpg: 640x640 1 Miracle_leaf, 7.3ms\n",
            "image 997/1584 /content/drive/MyDrive/AyushVision/yolo/workingdir/final/test/images/IMG20240609095719_jpg.rf.1951182457dc012f38f198abaa9967c6.jpg: 640x640 1 Miracle_leaf, 8.6ms\n",
            "image 998/1584 /content/drive/MyDrive/AyushVision/yolo/workingdir/final/test/images/IMG20240609095757_jpg.rf.fee3b07e935b24e61aac79b09dc0fbb8.jpg: 640x640 1 Miracle_leaf, 8.5ms\n",
            "image 999/1584 /content/drive/MyDrive/AyushVision/yolo/workingdir/final/test/images/IMG20240609095820_jpg.rf.2b99403606cbdfb4363075a77747342c.jpg: 640x640 1 Miracle_leaf, 7.3ms\n",
            "image 1000/1584 /content/drive/MyDrive/AyushVision/yolo/workingdir/final/test/images/IMG20240609095833_jpg.rf.a54aa93908d004433402290a912e38f8.jpg: 640x640 1 Miracle_leaf, 7.3ms\n",
            "image 1001/1584 /content/drive/MyDrive/AyushVision/yolo/workingdir/final/test/images/IMG20240609095914_jpg.rf.fc3b612a56b7a800588d34ef08c6df1c.jpg: 640x640 1 Miracle_leaf, 7.5ms\n",
            "image 1002/1584 /content/drive/MyDrive/AyushVision/yolo/workingdir/final/test/images/IMG20240609100048_jpg.rf.f5e828b5d4e9a3e3f97028d5e4f927b6.jpg: 640x640 1 Miracle_leaf, 7.3ms\n",
            "image 1003/1584 /content/drive/MyDrive/AyushVision/yolo/workingdir/final/test/images/IMG20240609142236_jpg.rf.fd39aec759600e484e6ddfbcea7210ca.jpg: 640x640 1 Miracle_leaf, 7.3ms\n",
            "image 1004/1584 /content/drive/MyDrive/AyushVision/yolo/workingdir/final/test/images/IMG20240609142238_jpg.rf.04ae25f60102264dccae925892459745.jpg: 640x640 1 Miracle_leaf, 8.3ms\n",
            "image 1005/1584 /content/drive/MyDrive/AyushVision/yolo/workingdir/final/test/images/IMG20240609142341_jpg.rf.9a5bc02d863a54695b2e7b911499302a.jpg: 640x640 (no detections), 7.3ms\n",
            "image 1006/1584 /content/drive/MyDrive/AyushVision/yolo/workingdir/final/test/images/IMG20240609142413_jpg.rf.ff2761c8b658f39932e5bc230291a3f0.jpg: 640x640 1 Miracle_leaf, 7.3ms\n",
            "image 1007/1584 /content/drive/MyDrive/AyushVision/yolo/workingdir/final/test/images/IMG20240609142641_jpg.rf.24e873462c91d271d659c3b23b00ba76.jpg: 640x640 1 Miracle_leaf, 7.3ms\n",
            "image 1008/1584 /content/drive/MyDrive/AyushVision/yolo/workingdir/final/test/images/IMG20240609142810_jpg.rf.2b59cae76ee6423398edca9cd1b4f5d2.jpg: 640x640 1 Miracle_leaf, 7.3ms\n",
            "image 1009/1584 /content/drive/MyDrive/AyushVision/yolo/workingdir/final/test/images/IMG20240609142905_jpg.rf.0085551c72369401ba15d2c88f5a7541.jpg: 640x640 1 Miracle_leaf, 7.4ms\n",
            "image 1010/1584 /content/drive/MyDrive/AyushVision/yolo/workingdir/final/test/images/IMG20240609142930_jpg.rf.043e4f8aa3035f2d24c615047f5647d5.jpg: 640x640 1 Miracle_leaf, 7.3ms\n",
            "image 1011/1584 /content/drive/MyDrive/AyushVision/yolo/workingdir/final/test/images/IMG20240609143001_jpg.rf.493b7868d1719313b860775d963b3452.jpg: 640x640 1 Miracle_leaf, 7.3ms\n",
            "image 1012/1584 /content/drive/MyDrive/AyushVision/yolo/workingdir/final/test/images/IMG20240609143045_jpg.rf.a014534d54f85346abb2e9cbd1817d85.jpg: 640x640 1 Miracle_leaf, 7.3ms\n",
            "image 1013/1584 /content/drive/MyDrive/AyushVision/yolo/workingdir/final/test/images/IMG20240609143103_jpg.rf.6a7d914333bccfdd72b89a9fb81216cb.jpg: 640x640 1 Miracle_leaf, 7.3ms\n",
            "image 1014/1584 /content/drive/MyDrive/AyushVision/yolo/workingdir/final/test/images/IMG20240609143114_jpg.rf.bf909fcd4e0354594e878ad47c59c954.jpg: 640x640 1 Miracle_leaf, 7.3ms\n",
            "image 1015/1584 /content/drive/MyDrive/AyushVision/yolo/workingdir/final/test/images/IMG20240609143121_jpg.rf.39617b60cd948d75a5a6f56dea394cca.jpg: 640x640 1 Miracle_leaf, 7.3ms\n",
            "image 1016/1584 /content/drive/MyDrive/AyushVision/yolo/workingdir/final/test/images/IMG20240609143458_jpg.rf.87a034924670c9f094369e21fbdd70fa.jpg: 640x640 1 Miracle_leaf, 7.7ms\n",
            "image 1017/1584 /content/drive/MyDrive/AyushVision/yolo/workingdir/final/test/images/IMG20240609143507_jpg.rf.e58df7c92a0d9b5263c7f6283b3702f5.jpg: 640x640 1 Miracle_leaf, 7.4ms\n",
            "image 1018/1584 /content/drive/MyDrive/AyushVision/yolo/workingdir/final/test/images/IMG20240609143528_jpg.rf.012d48d8f6c6df5a73eb2bbb98123809.jpg: 640x640 2 Miracle_leafs, 1 Acalyphaindica, 7.5ms\n",
            "image 1019/1584 /content/drive/MyDrive/AyushVision/yolo/workingdir/final/test/images/IMG20240609144001_jpg.rf.b8e83ca569631c935d6a1d6fab637fc6.jpg: 640x640 1 Miracle_leaf, 12.8ms\n",
            "image 1020/1584 /content/drive/MyDrive/AyushVision/yolo/workingdir/final/test/images/IMG20240609144222_jpg.rf.e14ec28c2bc7021488abd67156c1462d.jpg: 640x640 1 Miracle_leaf, 8.1ms\n",
            "image 1021/1584 /content/drive/MyDrive/AyushVision/yolo/workingdir/final/test/images/IMG20240609144224_jpg.rf.502fb026b4d0c7f5757bebabcbd7e769.jpg: 640x640 1 Miracle_leaf, 7.5ms\n",
            "image 1022/1584 /content/drive/MyDrive/AyushVision/yolo/workingdir/final/test/images/IMG20240609144308_jpg.rf.f0586d4511f8e1f8297404e54e8ba359.jpg: 640x640 1 Miracle_leaf, 8.2ms\n",
            "image 1023/1584 /content/drive/MyDrive/AyushVision/yolo/workingdir/final/test/images/IMG20240609144443_jpg.rf.5bc1210fa8ff8ca7a9624d42c2367331.jpg: 640x640 1 Miracle_leaf, 7.8ms\n",
            "image 1024/1584 /content/drive/MyDrive/AyushVision/yolo/workingdir/final/test/images/IMG20240609144448_jpg.rf.6c66d24b513a9b6e2a46b1f76ea81e4e.jpg: 640x640 1 Miracle_leaf, 9.0ms\n",
            "image 1025/1584 /content/drive/MyDrive/AyushVision/yolo/workingdir/final/test/images/IMG20240609144451_jpg.rf.f9f52cdb763d1e418f790f2ff44d8759.jpg: 640x640 1 Miracle_leaf, 7.5ms\n",
            "image 1026/1584 /content/drive/MyDrive/AyushVision/yolo/workingdir/final/test/images/IMG20240609144455_jpg.rf.f60ff2286d4261cfc3728769081032b7.jpg: 640x640 1 Miracle_leaf, 8.0ms\n",
            "image 1027/1584 /content/drive/MyDrive/AyushVision/yolo/workingdir/final/test/images/IMG20240609145100_jpg.rf.b3552f033af104fae59ccc063c865aee.jpg: 640x640 1 Miracle_leaf, 1 Neem, 7.6ms\n",
            "image 1028/1584 /content/drive/MyDrive/AyushVision/yolo/workingdir/final/test/images/IMG20240610101001_jpg.rf.4cb0ac6d62919f6e5a094a8ffe5b96b9.jpg: 640x640 1 Turmeric, 7.4ms\n",
            "image 1029/1584 /content/drive/MyDrive/AyushVision/yolo/workingdir/final/test/images/IMG20240610101120_jpg.rf.0950a4a1c335ead5718c6d8f9f9913ca.jpg: 640x640 1 Cinnamon, 1 Turmeric, 8.6ms\n",
            "image 1030/1584 /content/drive/MyDrive/AyushVision/yolo/workingdir/final/test/images/IMG20240610101122_jpg.rf.348ec3a68eb0d7d25a0d0053db9ef9f1.jpg: 640x640 1 Turmeric, 7.3ms\n",
            "image 1031/1584 /content/drive/MyDrive/AyushVision/yolo/workingdir/final/test/images/IMG20240610101147_jpg.rf.4dc6cfcabda45249b7d6fdee498989a2.jpg: 640x640 1 Turmeric, 7.7ms\n",
            "image 1032/1584 /content/drive/MyDrive/AyushVision/yolo/workingdir/final/test/images/IMG20240610101356_jpg.rf.b2b5f619f134e262644580de808d55e5.jpg: 640x640 1 Turmeric, 7.3ms\n",
            "image 1033/1584 /content/drive/MyDrive/AyushVision/yolo/workingdir/final/test/images/IMG20240610101429_jpg.rf.e6480d18a86c0ccdcb3d0974b3720f5c.jpg: 640x640 1 Turmeric, 7.3ms\n",
            "image 1034/1584 /content/drive/MyDrive/AyushVision/yolo/workingdir/final/test/images/IMG20240610101435_jpg.rf.b8627e3df2e61d1eea4ce4a114f0f927.jpg: 640x640 1 Turmeric, 7.4ms\n",
            "image 1035/1584 /content/drive/MyDrive/AyushVision/yolo/workingdir/final/test/images/IMG20240610101508_jpg.rf.8a4ca8970101f3451185e2e54e365c27.jpg: 640x640 1 Turmeric, 7.3ms\n",
            "image 1036/1584 /content/drive/MyDrive/AyushVision/yolo/workingdir/final/test/images/IMG20240610101521_jpg.rf.85c1350fd2c281350b7e729865f0bd4d.jpg: 640x640 1 Turmeric, 8.7ms\n",
            "image 1037/1584 /content/drive/MyDrive/AyushVision/yolo/workingdir/final/test/images/IMG20240610101523_jpg.rf.3ff6105ee73a49a3d6723bd461368d2b.jpg: 640x640 1 Turmeric, 9.3ms\n",
            "image 1038/1584 /content/drive/MyDrive/AyushVision/yolo/workingdir/final/test/images/IMG20240610101550_jpg.rf.45e790d926a649b91fe2a86b8875527f.jpg: 640x640 1 Turmeric, 7.3ms\n",
            "image 1039/1584 /content/drive/MyDrive/AyushVision/yolo/workingdir/final/test/images/IMG20240610101643_jpg.rf.e6b4d64df5474d9595bcdf3213681351.jpg: 640x640 1 Turmeric, 7.3ms\n",
            "image 1040/1584 /content/drive/MyDrive/AyushVision/yolo/workingdir/final/test/images/IMG20240610101727_jpg.rf.684d8db08733840ae412435e35733a47.jpg: 640x640 1 Turmeric, 7.3ms\n",
            "image 1041/1584 /content/drive/MyDrive/AyushVision/yolo/workingdir/final/test/images/IMG20240610101735_jpg.rf.b41793a5e03140e8dbfc6e9ddc20cf46.jpg: 640x640 1 Turmeric, 7.3ms\n",
            "image 1042/1584 /content/drive/MyDrive/AyushVision/yolo/workingdir/final/test/images/IMG20240610101746_jpg.rf.1f27c98209260505828f37cec793a577.jpg: 640x640 1 Turmeric, 7.3ms\n",
            "image 1043/1584 /content/drive/MyDrive/AyushVision/yolo/workingdir/final/test/images/IMG20240610101809_jpg.rf.2016cea44c6782f3bc4a961deb4673df.jpg: 640x640 1 Turmeric, 7.4ms\n",
            "image 1044/1584 /content/drive/MyDrive/AyushVision/yolo/workingdir/final/test/images/IMG20240610101812_jpg.rf.570458005e1e7ad38420d97c1210031c.jpg: 640x640 1 Turmeric, 7.3ms\n",
            "image 1045/1584 /content/drive/MyDrive/AyushVision/yolo/workingdir/final/test/images/IMG20240610101837_jpg.rf.5148bf0a1c9498a23c2aabb35bfc8ba6.jpg: 640x640 1 Turmeric, 7.3ms\n",
            "image 1046/1584 /content/drive/MyDrive/AyushVision/yolo/workingdir/final/test/images/IMG20240610101859_jpg.rf.4428166cdf56a6e5865dabd11f454874.jpg: 640x640 1 Turmeric, 7.3ms\n",
            "image 1047/1584 /content/drive/MyDrive/AyushVision/yolo/workingdir/final/test/images/IMG20240610101917_jpg.rf.1b8c4b2a2e1afdf19c745ec8dba36bfe.jpg: 640x640 1 Turmeric, 7.3ms\n",
            "image 1048/1584 /content/drive/MyDrive/AyushVision/yolo/workingdir/final/test/images/IMG20240610175853_jpg.rf.260a776d29f60bee2a808bb3475b4701.jpg: 640x640 1 Landrina, 7.3ms\n",
            "image 1049/1584 /content/drive/MyDrive/AyushVision/yolo/workingdir/final/test/images/IMG20240610175901_jpg.rf.082f80a532c4312d95cd79b2bcaaeb08.jpg: 640x640 2 Landrinas, 7.3ms\n",
            "image 1050/1584 /content/drive/MyDrive/AyushVision/yolo/workingdir/final/test/images/IMG20240610175914_jpg.rf.a16e29e0dfb0515253a4c97fc4f462f9.jpg: 640x640 1 Landrina, 7.7ms\n",
            "image 1051/1584 /content/drive/MyDrive/AyushVision/yolo/workingdir/final/test/images/IMG20240610175917_jpg.rf.c0d81a26710beef15f7a2abaf32fa71d.jpg: 640x640 1 Landrina, 7.3ms\n",
            "image 1052/1584 /content/drive/MyDrive/AyushVision/yolo/workingdir/final/test/images/IMG20240610175943_jpg.rf.6856b6d8cd01d749f07c05699d0a224e.jpg: 640x640 3 Landrinas, 7.3ms\n",
            "image 1053/1584 /content/drive/MyDrive/AyushVision/yolo/workingdir/final/test/images/IMG20240610180140_jpg.rf.e750b80ddcbf968a91f6aecfaa1812b5.jpg: 640x640 1 Landrina, 7.3ms\n",
            "image 1054/1584 /content/drive/MyDrive/AyushVision/yolo/workingdir/final/test/images/IMG20240610180208_jpg.rf.7a5d38d5787dfb1eb57b0cd8adb459d6.jpg: 640x640 2 Landrinas, 1 Mountain_Knotgrass, 7.3ms\n",
            "image 1055/1584 /content/drive/MyDrive/AyushVision/yolo/workingdir/final/test/images/IMG20240610180243_jpg.rf.d1ff2162b9b71c88791777b28ca79512.jpg: 640x640 1 Landrina, 7.3ms\n",
            "image 1056/1584 /content/drive/MyDrive/AyushVision/yolo/workingdir/final/test/images/IMG20240610180248_jpg.rf.b36125cebb3f74488453a662f798f0ae.jpg: 640x640 1 Landrina, 7.3ms\n",
            "image 1057/1584 /content/drive/MyDrive/AyushVision/yolo/workingdir/final/test/images/IMG20240610180321_jpg.rf.6461a79f1fab1c072c2d0cf4b07aed96.jpg: 640x640 1 Landrina, 2 Mountain_Knotgrasss, 7.3ms\n",
            "image 1058/1584 /content/drive/MyDrive/AyushVision/yolo/workingdir/final/test/images/IMG20240610180327_jpg.rf.d6aa209e0d2bd617cd1697cace0610bd.jpg: 640x640 1 Landrina, 9.9ms\n",
            "image 1059/1584 /content/drive/MyDrive/AyushVision/yolo/workingdir/final/test/images/IMG20240610180431_jpg.rf.189a929b5bc56078106fdac6e1c735c9.jpg: 640x640 1 Landrina, 8.2ms\n",
            "image 1060/1584 /content/drive/MyDrive/AyushVision/yolo/workingdir/final/test/images/IMG20240610180433_jpg.rf.529083f81d722f74d1adae62bbd7359b.jpg: 640x640 1 Landrina, 7.3ms\n",
            "image 1061/1584 /content/drive/MyDrive/AyushVision/yolo/workingdir/final/test/images/IMG20240610180508_jpg.rf.eaf8eab505808fc1e4f50ac2d13fded3.jpg: 640x640 1 Landrina, 7.3ms\n",
            "image 1062/1584 /content/drive/MyDrive/AyushVision/yolo/workingdir/final/test/images/IMG20240610180514_jpg.rf.72dfc4569d43c433d2ad48cc88eb41ac.jpg: 640x640 1 Landrina, 7.3ms\n",
            "image 1063/1584 /content/drive/MyDrive/AyushVision/yolo/workingdir/final/test/images/IMG20240610180703_jpg.rf.37adfd501ac8d2c56fd6cda675e5d1e2.jpg: 640x640 1 Landrina, 7.3ms\n",
            "image 1064/1584 /content/drive/MyDrive/AyushVision/yolo/workingdir/final/test/images/IMG20240610180738_jpg.rf.faf585ffcd2aa6b2e85271fbea06ee09.jpg: 640x640 4 Landrinas, 7.6ms\n",
            "image 1065/1584 /content/drive/MyDrive/AyushVision/yolo/workingdir/final/test/images/IMG20240610180759_jpg.rf.467bcff604bd35649e6f39531612f7a4.jpg: 640x640 1 Landrina, 7.3ms\n",
            "image 1066/1584 /content/drive/MyDrive/AyushVision/yolo/workingdir/final/test/images/IMG20240610180804_jpg.rf.014700f45d4fc3fd4f23a1d473bdb85e.jpg: 640x640 1 Landrina, 7.3ms\n",
            "image 1067/1584 /content/drive/MyDrive/AyushVision/yolo/workingdir/final/test/images/IMG20240610181606_jpg.rf.af286f4c631942b831c109ffcde88219.jpg: 640x640 1 Landrina, 7.3ms\n",
            "image 1068/1584 /content/drive/MyDrive/AyushVision/yolo/workingdir/final/test/images/IMG20240610181702_jpg.rf.bf4a077c01e21d1c052d04558c60ff53.jpg: 640x640 4 Landrinas, 7.3ms\n",
            "image 1069/1584 /content/drive/MyDrive/AyushVision/yolo/workingdir/final/test/images/IMG20240610181721_jpg.rf.f8590ce7a4ef6a32b33b9026fe7571fb.jpg: 640x640 1 Landrina, 7.3ms\n",
            "image 1070/1584 /content/drive/MyDrive/AyushVision/yolo/workingdir/final/test/images/IMG20240610181740_jpg.rf.a84bef7f338595ded8b1727867b6f2f7.jpg: 640x640 2 Landrinas, 7.3ms\n",
            "image 1071/1584 /content/drive/MyDrive/AyushVision/yolo/workingdir/final/test/images/IMG20240610182005_jpg.rf.23453a3b04d205a1a9cb1749ce862d06.jpg: 640x640 1 Landrina, 7.3ms\n",
            "image 1072/1584 /content/drive/MyDrive/AyushVision/yolo/workingdir/final/test/images/IMG20240610182022_jpg.rf.28717a03843bb6f92b26399ef7600f4f.jpg: 640x640 2 Landrinas, 7.6ms\n",
            "image 1073/1584 /content/drive/MyDrive/AyushVision/yolo/workingdir/final/test/images/IMG20240610192435_jpg.rf.3d5dd1aa5d90e7bf5f3d2fdcb460f1aa.jpg: 640x640 1 Vitexnegundo, 7.3ms\n",
            "image 1074/1584 /content/drive/MyDrive/AyushVision/yolo/workingdir/final/test/images/IMG20240610193057_jpg.rf.36b6d884b4754a7cd1d77df1020778cb.jpg: 640x640 4 Vitexnegundos, 7.3ms\n",
            "image 1075/1584 /content/drive/MyDrive/AyushVision/yolo/workingdir/final/test/images/IMG20240610193110_jpg.rf.b23c2146b8438864e04e74a0bef3244b.jpg: 640x640 3 Vitexnegundos, 7.3ms\n",
            "image 1076/1584 /content/drive/MyDrive/AyushVision/yolo/workingdir/final/test/images/IMG20240610194155_jpg.rf.18fefaf73047c849f3bc856f996e57da.jpg: 640x640 1 Vitexnegundo, 7.3ms\n",
            "image 1077/1584 /content/drive/MyDrive/AyushVision/yolo/workingdir/final/test/images/IMG20240610194225_jpg.rf.6ca5432a0c147cf080fb542e6512af87.jpg: 640x640 1 Vitexnegundo, 7.3ms\n",
            "image 1078/1584 /content/drive/MyDrive/AyushVision/yolo/workingdir/final/test/images/IMG20240610194228_jpg.rf.2bb321d37d4da2bc71597c867327e1fa.jpg: 640x640 1 Vitexnegundo, 7.4ms\n",
            "image 1079/1584 /content/drive/MyDrive/AyushVision/yolo/workingdir/final/test/images/IMG20240610194726_jpg.rf.bbf11be85781138343400c26fdecb913.jpg: 640x640 1 Vitexnegundo, 7.3ms\n",
            "image 1080/1584 /content/drive/MyDrive/AyushVision/yolo/workingdir/final/test/images/IMG20240610194809_jpg.rf.ab0a89a1b34f0ac18f0dc1ad784c0f21.jpg: 640x640 1 Vitexnegundo, 7.3ms\n",
            "image 1081/1584 /content/drive/MyDrive/AyushVision/yolo/workingdir/final/test/images/IMG20240610194819_jpg.rf.74a51e9ca00c1bf466b4d9bc1ebc9106.jpg: 640x640 1 Vitexnegundo, 8.4ms\n",
            "image 1082/1584 /content/drive/MyDrive/AyushVision/yolo/workingdir/final/test/images/IMG20240610195150_jpg.rf.2aef71481bef4600e504c11df47d30a5.jpg: 640x640 2 Vitexnegundos, 7.3ms\n",
            "image 1083/1584 /content/drive/MyDrive/AyushVision/yolo/workingdir/final/test/images/IMG20240610195355_jpg.rf.dc281662c344d544ff0b11607ab6d973.jpg: 640x640 1 Vitexnegundo, 7.3ms\n",
            "image 1084/1584 /content/drive/MyDrive/AyushVision/yolo/workingdir/final/test/images/IMG20240610195613_jpg.rf.4b91daee69489ae91616a379cc467902.jpg: 640x640 2 Vitexnegundos, 7.4ms\n",
            "image 1085/1584 /content/drive/MyDrive/AyushVision/yolo/workingdir/final/test/images/IMG20240610195800_jpg.rf.b7eebd30153ca30dd8b554a67167d566.jpg: 640x640 1 Vitexnegundo, 7.3ms\n",
            "image 1086/1584 /content/drive/MyDrive/AyushVision/yolo/workingdir/final/test/images/IMG20240610195930_jpg.rf.2ca8c26e49bcac852aa0f2ef3e28536e.jpg: 640x640 1 Vitexnegundo, 7.3ms\n",
            "image 1087/1584 /content/drive/MyDrive/AyushVision/yolo/workingdir/final/test/images/IMG20240610200048_jpg.rf.704bdae9ecf67f6c5e81e495ac3bcbdc.jpg: 640x640 3 Vitexnegundos, 7.4ms\n",
            "image 1088/1584 /content/drive/MyDrive/AyushVision/yolo/workingdir/final/test/images/IMG20240610200336_jpg.rf.86ada66d3668b4f7707762a369b75d26.jpg: 640x640 1 Vitexnegundo, 7.3ms\n",
            "image 1089/1584 /content/drive/MyDrive/AyushVision/yolo/workingdir/final/test/images/IMG20240610201838_jpg.rf.19914d974b4906b20263cbeaf7c42e32.jpg: 640x640 1 Vitexnegundo, 9.9ms\n",
            "image 1090/1584 /content/drive/MyDrive/AyushVision/yolo/workingdir/final/test/images/IMG20240610202235_jpg.rf.50e211aefc9990f1292d2dbb7d1cdb50.jpg: 640x640 1 Vitexnegundo, 7.3ms\n",
            "image 1091/1584 /content/drive/MyDrive/AyushVision/yolo/workingdir/final/test/images/IMG20240610202248_jpg.rf.69b2f27cae31ef5ff53a57c02b5e23a8.jpg: 640x640 1 Vitexnegundo, 7.3ms\n",
            "image 1092/1584 /content/drive/MyDrive/AyushVision/yolo/workingdir/final/test/images/IMG20240610202656_jpg.rf.645659e586e60421ee94e66550b0ba50.jpg: 640x640 1 Vitexnegundo, 8.1ms\n",
            "image 1093/1584 /content/drive/MyDrive/AyushVision/yolo/workingdir/final/test/images/IMG20240610202731_jpg.rf.4b58cd79ea0e08a0873917a4141c3191.jpg: 640x640 1 Vitexnegundo, 7.3ms\n",
            "image 1094/1584 /content/drive/MyDrive/AyushVision/yolo/workingdir/final/test/images/IMG20240610202955_jpg.rf.c5e191a28135eef01900857610e757af.jpg: 640x640 2 Vitexnegundos, 7.3ms\n",
            "image 1095/1584 /content/drive/MyDrive/AyushVision/yolo/workingdir/final/test/images/IMG20240610203004_jpg.rf.eed0662cb3b6b53fcf51f2911f0e380c.jpg: 640x640 2 Vitexnegundos, 7.3ms\n",
            "image 1096/1584 /content/drive/MyDrive/AyushVision/yolo/workingdir/final/test/images/IMG20240610203307_jpg.rf.d6051b23e18d098205a1522f3d447c5b.jpg: 640x640 1 Vitexnegundo, 7.3ms\n",
            "image 1097/1584 /content/drive/MyDrive/AyushVision/yolo/workingdir/final/test/images/IMG20240610203439_jpg.rf.da705c8400e33d8897aa6dc62f6083b7.jpg: 640x640 1 Vitexnegundo, 7.3ms\n",
            "image 1098/1584 /content/drive/MyDrive/AyushVision/yolo/workingdir/final/test/images/IMG20240610203447_jpg.rf.89c6e7fd901731d713c54a18ffa8c5c2.jpg: 640x640 1 Vitexnegundo, 7.3ms\n",
            "image 1099/1584 /content/drive/MyDrive/AyushVision/yolo/workingdir/final/test/images/IMG20240610203522_jpg.rf.aff3773bc08970b50ba85dd573b2d915.jpg: 640x640 1 Vitexnegundo, 7.3ms\n",
            "image 1100/1584 /content/drive/MyDrive/AyushVision/yolo/workingdir/final/test/images/IMG20240610203659_jpg.rf.171577eab483c15328212a7226cf5545.jpg: 640x640 4 Vitexnegundos, 7.3ms\n",
            "image 1101/1584 /content/drive/MyDrive/AyushVision/yolo/workingdir/final/test/images/IMG20240610203811_jpg.rf.041f63f360ec7e55abb26b54f246d295.jpg: 640x640 1 Vitexnegundo, 7.3ms\n",
            "image 1102/1584 /content/drive/MyDrive/AyushVision/yolo/workingdir/final/test/images/IMG20240610203909_jpg.rf.fa9ad9466694b109dde710dc31a1d52d.jpg: 640x640 1 Vitexnegundo, 9.7ms\n",
            "image 1103/1584 /content/drive/MyDrive/AyushVision/yolo/workingdir/final/test/images/IMG20240610204047_jpg.rf.928d3a5a7fa093b72735c409660480cb.jpg: 640x640 3 Vitexnegundos, 7.7ms\n",
            "image 1104/1584 /content/drive/MyDrive/AyushVision/yolo/workingdir/final/test/images/IMG20240610204108_jpg.rf.e1c6bc4798bb18e70606d51f1e23894e.jpg: 640x640 1 Vitexnegundo, 9.5ms\n",
            "image 1105/1584 /content/drive/MyDrive/AyushVision/yolo/workingdir/final/test/images/IMG20240610204213_jpg.rf.60362fb75dc86a67f97123df229a5f2a.jpg: 640x640 1 Vitexnegundo, 9.3ms\n",
            "image 1106/1584 /content/drive/MyDrive/AyushVision/yolo/workingdir/final/test/images/IMG20240610204727_jpg.rf.a597222b57d1d87f01ca8a1176cb9718.jpg: 640x640 1 Vitexnegundo, 8.2ms\n",
            "image 1107/1584 /content/drive/MyDrive/AyushVision/yolo/workingdir/final/test/images/IMG20240610205413_jpg.rf.a3a98c8cbc5dfb5180b2f77b600299cf.jpg: 640x640 4 Vitexnegundos, 9.8ms\n",
            "image 1108/1584 /content/drive/MyDrive/AyushVision/yolo/workingdir/final/test/images/IMG20240610205707_jpg.rf.6388e145ec23f505e31d852b62385cd7.jpg: 640x640 3 Vitexnegundos, 8.0ms\n",
            "image 1109/1584 /content/drive/MyDrive/AyushVision/yolo/workingdir/final/test/images/IMG20240610205714_jpg.rf.17c6c8994aa3707a0f6fd653fff766c8.jpg: 640x640 2 Vitexnegundos, 9.8ms\n",
            "image 1110/1584 /content/drive/MyDrive/AyushVision/yolo/workingdir/final/test/images/IMG20240610210250_jpg.rf.66d7c39498e35080174756e38c59c774.jpg: 640x640 1 Vitexnegundo, 7.3ms\n",
            "image 1111/1584 /content/drive/MyDrive/AyushVision/yolo/workingdir/final/test/images/IMG20240610210419_jpg.rf.04139d5a6afa7658446df3e625db76eb.jpg: 640x640 1 Vitexnegundo, 7.3ms\n",
            "image 1112/1584 /content/drive/MyDrive/AyushVision/yolo/workingdir/final/test/images/IMG20240611102333_jpg.rf.db267ffc371b1bc0e6b958b9c4b35405.jpg: 640x640 1 Seedsunder_leaf, 7.3ms\n",
            "image 1113/1584 /content/drive/MyDrive/AyushVision/yolo/workingdir/final/test/images/IMG20240611102401_jpg.rf.8dea09c0af4876546812aa7d0fed6ead.jpg: 640x640 1 Seedsunder_leaf, 9.7ms\n",
            "image 1114/1584 /content/drive/MyDrive/AyushVision/yolo/workingdir/final/test/images/IMG20240611102713_jpg.rf.ff85785cc1f2e83b075d83b88b39fc6e.jpg: 640x640 2 Seedsunder_leafs, 7.4ms\n",
            "image 1115/1584 /content/drive/MyDrive/AyushVision/yolo/workingdir/final/test/images/IMG20240611102732_jpg.rf.092da67b122fb9ee138bbe422e03f50d.jpg: 640x640 4 Seedsunder_leafs, 7.3ms\n",
            "image 1116/1584 /content/drive/MyDrive/AyushVision/yolo/workingdir/final/test/images/IMG20240611102735_jpg.rf.e61216b7cf7d883267171e6b9f06ffa7.jpg: 640x640 3 Seedsunder_leafs, 7.3ms\n",
            "image 1117/1584 /content/drive/MyDrive/AyushVision/yolo/workingdir/final/test/images/IMG20240611102822_jpg.rf.c72f748f4d239da20a6dc7559564dadb.jpg: 640x640 1 Seedsunder_leaf, 7.3ms\n",
            "image 1118/1584 /content/drive/MyDrive/AyushVision/yolo/workingdir/final/test/images/IMG20240615213008_jpg.rf.5fe3083bf2858d5c61d348cbaec5b0ea.jpg: 640x640 1 Turmeric, 7.3ms\n",
            "image 1119/1584 /content/drive/MyDrive/AyushVision/yolo/workingdir/final/test/images/IMG20240615213437_jpg.rf.9db923593c610ed0be446be036bd115d.jpg: 640x640 1 Turmeric, 7.3ms\n",
            "image 1120/1584 /content/drive/MyDrive/AyushVision/yolo/workingdir/final/test/images/IMG20240615213638_jpg.rf.c9dd04a445e4325cb2603ff12a108cfa.jpg: 640x640 1 Turmeric, 11.7ms\n",
            "image 1121/1584 /content/drive/MyDrive/AyushVision/yolo/workingdir/final/test/images/IMG20240615213937_jpg.rf.70a333c529793c246816ba640dd94a08.jpg: 640x640 1 Turmeric, 7.3ms\n",
            "image 1122/1584 /content/drive/MyDrive/AyushVision/yolo/workingdir/final/test/images/IMG20240616151127_jpg.rf.625858056e8074529230482637cc47a8.jpg: 640x640 1 Lemon_grass, 7.3ms\n",
            "image 1123/1584 /content/drive/MyDrive/AyushVision/yolo/workingdir/final/test/images/IMG20240616151157_jpg.rf.563918de0b18f23f072b5ed6e588978c.jpg: 640x640 1 Lemon_grass, 7.3ms\n",
            "image 1124/1584 /content/drive/MyDrive/AyushVision/yolo/workingdir/final/test/images/IMG20240616151349_jpg.rf.0c8c11fb449c81113073412e745a40e5.jpg: 640x640 1 Lemon_grass, 10.3ms\n",
            "image 1125/1584 /content/drive/MyDrive/AyushVision/yolo/workingdir/final/test/images/IMG20240616151534_jpg.rf.d1069526434a60692114d554effd10c6.jpg: 640x640 1 Lemon_grass, 11.7ms\n",
            "image 1126/1584 /content/drive/MyDrive/AyushVision/yolo/workingdir/final/test/images/IMG20240616151645_jpg.rf.89c39b98db9979ba603cae64175f6c3b.jpg: 640x640 1 Lemon_grass, 7.3ms\n",
            "image 1127/1584 /content/drive/MyDrive/AyushVision/yolo/workingdir/final/test/images/IMG20240616151655_jpg.rf.8e13a941dc65783e82cc1c97b398757f.jpg: 640x640 2 Lemon_grasss, 7.4ms\n",
            "image 1128/1584 /content/drive/MyDrive/AyushVision/yolo/workingdir/final/test/images/IMG20240616151743_jpg.rf.4694e2810ee51ab80b06a2cb9b49684c.jpg: 640x640 1 Lemon_grass, 7.3ms\n",
            "image 1129/1584 /content/drive/MyDrive/AyushVision/yolo/workingdir/final/test/images/IMG20240616152559_jpg.rf.9504b6846aab470637f791e5c36065e5.jpg: 640x640 1 Lemon_grass, 7.7ms\n",
            "image 1130/1584 /content/drive/MyDrive/AyushVision/yolo/workingdir/final/test/images/IMG20240616152904_jpg.rf.48af38c5a78822d31b156969fd817236.jpg: 640x640 1 Lemon_grass, 7.4ms\n",
            "image 1131/1584 /content/drive/MyDrive/AyushVision/yolo/workingdir/final/test/images/IMG20240616172351_jpg.rf.1715d8b73d30c0a46187d6fc611d28b3.jpg: 640x640 1 Lemon_grass, 10.0ms\n",
            "image 1132/1584 /content/drive/MyDrive/AyushVision/yolo/workingdir/final/test/images/IMG20240616172451_jpg.rf.be8739f1d5add09f10d9d62eebd3d5bb.jpg: 640x640 1 Lemon_grass, 7.4ms\n",
            "image 1133/1584 /content/drive/MyDrive/AyushVision/yolo/workingdir/final/test/images/IMG20240616172651_jpg.rf.1b240a2e3cadb375b9542f70d5c6d71f.jpg: 640x640 1 Lemon_grass, 10.4ms\n",
            "image 1134/1584 /content/drive/MyDrive/AyushVision/yolo/workingdir/final/test/images/IMG20240616172714_jpg.rf.f853301aa94313dcebdbd47bf3523460.jpg: 640x640 2 Lemon_grasss, 7.3ms\n",
            "image 1135/1584 /content/drive/MyDrive/AyushVision/yolo/workingdir/final/test/images/IMG20240616180629_jpg.rf.afb47a13136bdf3821181cca620c11a9.jpg: 640x640 1 Holybasil, 7.3ms\n",
            "image 1136/1584 /content/drive/MyDrive/AyushVision/yolo/workingdir/final/test/images/IMG20240616180657_jpg.rf.55c5f4d84cc266d56d7a21e27dec42b5.jpg: 640x640 1 Holybasil, 7.3ms\n",
            "image 1137/1584 /content/drive/MyDrive/AyushVision/yolo/workingdir/final/test/images/IMG20240616180846_jpg.rf.ecf1f742a9db989ea1eb07abbf9a8ff5.jpg: 640x640 1 Holybasil, 7.4ms\n",
            "image 1138/1584 /content/drive/MyDrive/AyushVision/yolo/workingdir/final/test/images/IMG20240616185730_jpg.rf.aaa9cbba179b49c5bfe48f0c031f664d.jpg: 640x640 1 Neem, 7.3ms\n",
            "image 1139/1584 /content/drive/MyDrive/AyushVision/yolo/workingdir/final/test/images/IMG20240616185825_jpg.rf.6372733c209bdd5cf6d22cf9d92331a4.jpg: 640x640 1 Neem, 9.1ms\n",
            "image 1140/1584 /content/drive/MyDrive/AyushVision/yolo/workingdir/final/test/images/IMG20240616185834_jpg.rf.61bbc7d6d9e69ceafc7d9ec9f1cf9922.jpg: 640x640 1 Neem, 9.7ms\n",
            "image 1141/1584 /content/drive/MyDrive/AyushVision/yolo/workingdir/final/test/images/IMG20240616190552_jpg.rf.7914fef392b8d5f2185a6b5575864626.jpg: 640x640 1 Neem, 8.6ms\n",
            "image 1142/1584 /content/drive/MyDrive/AyushVision/yolo/workingdir/final/test/images/IMG20240616190611_jpg.rf.e0dca79c9190f84fd2c95383cfbde0fe.jpg: 640x640 1 Neem, 7.5ms\n",
            "image 1143/1584 /content/drive/MyDrive/AyushVision/yolo/workingdir/final/test/images/IMG20240616190633_jpg.rf.b004edb8f35307940f316f3ee02bed43.jpg: 640x640 1 Neem, 7.3ms\n",
            "image 1144/1584 /content/drive/MyDrive/AyushVision/yolo/workingdir/final/test/images/IMG20240616190741_jpg.rf.7451d5b4dcf63c7e4c4b5cbdd4a4e211.jpg: 640x640 1 Neem, 7.3ms\n",
            "image 1145/1584 /content/drive/MyDrive/AyushVision/yolo/workingdir/final/test/images/IMG20240616190744_jpg.rf.7a8eae1ab1d8e65b1c74ee1cae32a4fb.jpg: 640x640 1 Neem, 7.3ms\n",
            "image 1146/1584 /content/drive/MyDrive/AyushVision/yolo/workingdir/final/test/images/IMG20240616190824_jpg.rf.625871d08e3547841a99ad456e6cbce6.jpg: 640x640 1 Neem, 7.3ms\n",
            "image 1147/1584 /content/drive/MyDrive/AyushVision/yolo/workingdir/final/test/images/IMG20240616190853_jpg.rf.fb99fd2d08bf75005070679c4ab19318.jpg: 640x640 1 Neem, 9.8ms\n",
            "image 1148/1584 /content/drive/MyDrive/AyushVision/yolo/workingdir/final/test/images/IMG20240616190917_jpg.rf.40dd2ff62f2b100876dc0720454e74ae.jpg: 640x640 1 Neem, 11.0ms\n",
            "image 1149/1584 /content/drive/MyDrive/AyushVision/yolo/workingdir/final/test/images/IMG20240616191130_jpg.rf.40d803488d271f974467934d44f6593d.jpg: 640x640 1 Neem, 7.3ms\n",
            "image 1150/1584 /content/drive/MyDrive/AyushVision/yolo/workingdir/final/test/images/IMG20240616191133_jpg.rf.b3177f2be9796dd61620615ee0aa8d17.jpg: 640x640 1 Neem, 10.6ms\n",
            "image 1151/1584 /content/drive/MyDrive/AyushVision/yolo/workingdir/final/test/images/IMG20240616191440_jpg.rf.9856d0c1f2dd5315d21b8044710077dc.jpg: 640x640 1 Neem, 10.6ms\n",
            "image 1152/1584 /content/drive/MyDrive/AyushVision/yolo/workingdir/final/test/images/IMG20240616191519_jpg.rf.ffe9e072918d13415ca07b810376621d.jpg: 640x640 1 Neem, 8.0ms\n",
            "image 1153/1584 /content/drive/MyDrive/AyushVision/yolo/workingdir/final/test/images/IMG20240616191529_jpg.rf.5deb1ceb9be20df47053167090a1d9e5.jpg: 640x640 1 Neem, 11.0ms\n",
            "image 1154/1584 /content/drive/MyDrive/AyushVision/yolo/workingdir/final/test/images/IMG20240625155102_jpg.rf.36994ead337661caeb23a44cdfaf215a.jpg: 640x640 1 Alovera, 7.4ms\n",
            "image 1155/1584 /content/drive/MyDrive/AyushVision/yolo/workingdir/final/test/images/IMG20240625155114_jpg.rf.0a1168ac6314a35ca36cdd39aef95742.jpg: 640x640 2 Aloveras, 7.3ms\n",
            "image 1156/1584 /content/drive/MyDrive/AyushVision/yolo/workingdir/final/test/images/IMG20240625155216_jpg.rf.763772ee53292e65c69a2b0fd7a48906.jpg: 640x640 1 Alovera, 7.3ms\n",
            "image 1157/1584 /content/drive/MyDrive/AyushVision/yolo/workingdir/final/test/images/IMG20240625155224_jpg.rf.a3b29e93623db253171bb4607e656e05.jpg: 640x640 1 Alovera, 11.6ms\n",
            "image 1158/1584 /content/drive/MyDrive/AyushVision/yolo/workingdir/final/test/images/IMG20240625155226_jpg.rf.2dca691875484deca2e2c03424e526aa.jpg: 640x640 1 Alovera, 1 Ginger, 7.3ms\n",
            "image 1159/1584 /content/drive/MyDrive/AyushVision/yolo/workingdir/final/test/images/IMG20240625155231_jpg.rf.25cd4794697d9fa22e8227c27ad13c0b.jpg: 640x640 1 Alovera, 7.3ms\n",
            "image 1160/1584 /content/drive/MyDrive/AyushVision/yolo/workingdir/final/test/images/IMG20240625155240_jpg.rf.4a4395ec021e03781f2db626ff660307.jpg: 640x640 1 Alovera, 9.0ms\n",
            "image 1161/1584 /content/drive/MyDrive/AyushVision/yolo/workingdir/final/test/images/IMG20240625155321_jpg.rf.b0385be6d95146fbe0686a50dd3559c0.jpg: 640x640 1 Alovera, 11.9ms\n",
            "image 1162/1584 /content/drive/MyDrive/AyushVision/yolo/workingdir/final/test/images/IMG20240625155526_jpg.rf.f12af6a9a9ae64daeaf71fc252fcb5e7.jpg: 640x640 1 Alovera, 7.3ms\n",
            "image 1163/1584 /content/drive/MyDrive/AyushVision/yolo/workingdir/final/test/images/IMG20240625155757_jpg.rf.51d6796b118ec4bbdb3d68458aff220d.jpg: 640x640 1 Alovera, 7.3ms\n",
            "image 1164/1584 /content/drive/MyDrive/AyushVision/yolo/workingdir/final/test/images/IMG20240709150446_jpg.rf.ee683d45032ea897482aeda97ab9706a.jpg: 640x640 1 Calotropis_gigantea, 7.3ms\n",
            "image 1165/1584 /content/drive/MyDrive/AyushVision/yolo/workingdir/final/test/images/IMG20240709150520_jpg.rf.37fb5482028f3906f1e4a4c2a46cb79f.jpg: 640x640 1 Calotropis_gigantea, 7.3ms\n",
            "image 1166/1584 /content/drive/MyDrive/AyushVision/yolo/workingdir/final/test/images/IMG20240709150554_jpg.rf.9d12da0660f6a53f64bdd679b676c0ff.jpg: 640x640 1 Calotropis_gigantea, 7.3ms\n",
            "image 1167/1584 /content/drive/MyDrive/AyushVision/yolo/workingdir/final/test/images/IMG20240709150709_jpg.rf.89f13d098a0b0abafb8ac6096e1ed0d2.jpg: 640x640 1 Calotropis_gigantea, 11.5ms\n",
            "image 1168/1584 /content/drive/MyDrive/AyushVision/yolo/workingdir/final/test/images/IMG20240709150814_jpg.rf.f40e0dd64688f4d9e02665b6077e7daf.jpg: 640x640 1 Calotropis_gigantea, 7.3ms\n",
            "image 1169/1584 /content/drive/MyDrive/AyushVision/yolo/workingdir/final/test/images/IMG20240709151021_jpg.rf.6f0e6b8978abe1fd8227ad9a296abc62.jpg: 640x640 1 Calotropis_gigantea, 9.1ms\n",
            "image 1170/1584 /content/drive/MyDrive/AyushVision/yolo/workingdir/final/test/images/IMG20240709151148_jpg.rf.b4776ad24d6ea93f0b856536d0c4d975.jpg: 640x640 1 Calotropis_gigantea, 7.3ms\n",
            "image 1171/1584 /content/drive/MyDrive/AyushVision/yolo/workingdir/final/test/images/IMG20240709151219_jpg.rf.ee2448631232c7f8bf7b720d769c24c0.jpg: 640x640 1 Calotropis_gigantea, 7.3ms\n",
            "image 1172/1584 /content/drive/MyDrive/AyushVision/yolo/workingdir/final/test/images/IMG20240709151234_jpg.rf.a3eed12b537536e2a600ae35c69e64fd.jpg: 640x640 1 Calotropis_gigantea, 8.7ms\n",
            "image 1173/1584 /content/drive/MyDrive/AyushVision/yolo/workingdir/final/test/images/IMG20240709151317_jpg.rf.9b103cfe2284930e5cbceab4fc1418b4.jpg: 640x640 1 Calotropis_gigantea, 7.3ms\n",
            "image 1174/1584 /content/drive/MyDrive/AyushVision/yolo/workingdir/final/test/images/IMG20240709151405_jpg.rf.a4f5711f57fb0b767aff5e7d6250b3ba.jpg: 640x640 1 Calotropis_gigantea, 7.3ms\n",
            "image 1175/1584 /content/drive/MyDrive/AyushVision/yolo/workingdir/final/test/images/IMG20240709151419_jpg.rf.5af9913834f14aa19737ce21fc6d4aea.jpg: 640x640 1 Calotropis_gigantea, 7.3ms\n",
            "image 1176/1584 /content/drive/MyDrive/AyushVision/yolo/workingdir/final/test/images/IMG20240709151426_jpg.rf.d1fa984c9c80304359505df944fc3d5b.jpg: 640x640 1 Calotropis_gigantea, 7.3ms\n",
            "image 1177/1584 /content/drive/MyDrive/AyushVision/yolo/workingdir/final/test/images/IMG20240709151442_jpg.rf.f8494461bc9cba4d16962d7c8b14d219.jpg: 640x640 1 Calotropis_gigantea, 7.3ms\n",
            "image 1178/1584 /content/drive/MyDrive/AyushVision/yolo/workingdir/final/test/images/IMG20240709151443_jpg.rf.c5d771e64613303847c40c629ff0349f.jpg: 640x640 1 Calotropis_gigantea, 7.3ms\n",
            "image 1179/1584 /content/drive/MyDrive/AyushVision/yolo/workingdir/final/test/images/IMG20240709151903_jpg.rf.5006c4d021b37624754e76148e16d516.jpg: 640x640 1 Calotropis_gigantea, 7.3ms\n",
            "image 1180/1584 /content/drive/MyDrive/AyushVision/yolo/workingdir/final/test/images/IMG20240709163142_jpg.rf.4292dab5e48c991622a455b86cc46611.jpg: 640x640 1 Calotropis_gigantea, 7.3ms\n",
            "image 1181/1584 /content/drive/MyDrive/AyushVision/yolo/workingdir/final/test/images/IMG20240709163625_jpg.rf.67c9e739a047f9a89948698c6c6de481.jpg: 640x640 1 Calotropis_gigantea, 8.4ms\n",
            "image 1182/1584 /content/drive/MyDrive/AyushVision/yolo/workingdir/final/test/images/IMG20240709163845_jpg.rf.d2da639e68822a513ee480dd9cbca7d8.jpg: 640x640 1 Calotropis_gigantea, 7.3ms\n",
            "image 1183/1584 /content/drive/MyDrive/AyushVision/yolo/workingdir/final/test/images/IMG20240709163848_jpg.rf.275d464f30345ff69339afb6ed1425df.jpg: 640x640 1 Calotropis_gigantea, 7.7ms\n",
            "image 1184/1584 /content/drive/MyDrive/AyushVision/yolo/workingdir/final/test/images/IMG20240709163943_jpg.rf.694c3cdb01d52e691d4ea58e81b66ade.jpg: 640x640 1 Calotropis_gigantea, 8.7ms\n",
            "image 1185/1584 /content/drive/MyDrive/AyushVision/yolo/workingdir/final/test/images/IMG20240709164132_jpg.rf.fe5137a0966cbb87b2677af81c84dddb.jpg: 640x640 1 Calotropis_gigantea, 11.6ms\n",
            "image 1186/1584 /content/drive/MyDrive/AyushVision/yolo/workingdir/final/test/images/IMG20240709164142_jpg.rf.696655186feb90f3603c20a2182ffa2a.jpg: 640x640 1 Calotropis_gigantea, 10.3ms\n",
            "image 1187/1584 /content/drive/MyDrive/AyushVision/yolo/workingdir/final/test/images/IMG20240709164204_jpg.rf.673488b6f8a09c7d4f42ab777121dd86.jpg: 640x640 1 Calotropis_gigantea, 9.0ms\n",
            "image 1188/1584 /content/drive/MyDrive/AyushVision/yolo/workingdir/final/test/images/IMG20240709164330_jpg.rf.0779bd77e3832cbb7a14cc967eb480f5.jpg: 640x640 1 Calotropis_gigantea, 7.4ms\n",
            "image 1189/1584 /content/drive/MyDrive/AyushVision/yolo/workingdir/final/test/images/IMG20240709165534_jpg.rf.4e4c31de8dbfcecc55379514dc0b3c6a.jpg: 640x640 1 Calotropis_gigantea, 8.5ms\n",
            "image 1190/1584 /content/drive/MyDrive/AyushVision/yolo/workingdir/final/test/images/IMG20240709165817_jpg.rf.bf5cb87bccc7cf0be2be7e98668e2a60.jpg: 640x640 1 Calotropis_gigantea, 7.4ms\n",
            "image 1191/1584 /content/drive/MyDrive/AyushVision/yolo/workingdir/final/test/images/IMG20240709165914_jpg.rf.c8488c51a3347ee3d41d4e8be671c233.jpg: 640x640 1 Calotropis_gigantea, 8.8ms\n",
            "image 1192/1584 /content/drive/MyDrive/AyushVision/yolo/workingdir/final/test/images/IMG20240709165934_jpg.rf.f6b759e48de00d62fe52c678f0cd26f4.jpg: 640x640 1 Calotropis_gigantea, 11.6ms\n",
            "image 1193/1584 /content/drive/MyDrive/AyushVision/yolo/workingdir/final/test/images/IMG20240709170009_jpg.rf.da60cd85f40b27c05d6eb98dcdaee838.jpg: 640x640 1 Calotropis_gigantea, 8.2ms\n",
            "image 1194/1584 /content/drive/MyDrive/AyushVision/yolo/workingdir/final/test/images/IMG20240709170204_jpg.rf.2bbc958df4575c3f1a38635692ddf74a.jpg: 640x640 1 Calotropis_gigantea, 9.5ms\n",
            "image 1195/1584 /content/drive/MyDrive/AyushVision/yolo/workingdir/final/test/images/IMG20240709170410_jpg.rf.423731c486eef76d48fb49dc965f8a63.jpg: 640x640 1 Calotropis_gigantea, 9.8ms\n",
            "image 1196/1584 /content/drive/MyDrive/AyushVision/yolo/workingdir/final/test/images/IMG20240709170524_jpg.rf.a1bf1422b7682ae5688c5c0252efda01.jpg: 640x640 1 Calotropis_gigantea, 9.6ms\n",
            "image 1197/1584 /content/drive/MyDrive/AyushVision/yolo/workingdir/final/test/images/IMG20240709170607_jpg.rf.a1942d710e31e3e61dca1290a6c24d28.jpg: 640x640 1 Calotropis_gigantea, 7.3ms\n",
            "image 1198/1584 /content/drive/MyDrive/AyushVision/yolo/workingdir/final/test/images/IMG20240709170700_jpg.rf.73f2247ed371c0684570cec45ee7c4fc.jpg: 640x640 1 Calotropis_gigantea, 8.2ms\n",
            "image 1199/1584 /content/drive/MyDrive/AyushVision/yolo/workingdir/final/test/images/IMG20240709170727_jpg.rf.f30f2f3818adb3bda524240f6c3fd5c5.jpg: 640x640 1 Calotropis_gigantea, 8.0ms\n",
            "image 1200/1584 /content/drive/MyDrive/AyushVision/yolo/workingdir/final/test/images/IMG20240709170730_jpg.rf.5ce8e0289b79d06afff6a903721fe91a.jpg: 640x640 1 Calotropis_gigantea, 7.3ms\n",
            "image 1201/1584 /content/drive/MyDrive/AyushVision/yolo/workingdir/final/test/images/IMG20240709170732_jpg.rf.500ea735b112a1a0f2813c0126a5b32f.jpg: 640x640 1 Calotropis_gigantea, 9.7ms\n",
            "image 1202/1584 /content/drive/MyDrive/AyushVision/yolo/workingdir/final/test/images/IMG20240709183725_jpg.rf.3ca05f2f97b6777b22e58ecbdb3078be.jpg: 640x640 1 Calotropis_gigantea, 8.7ms\n",
            "image 1203/1584 /content/drive/MyDrive/AyushVision/yolo/workingdir/final/test/images/IMG20240709183838_jpg.rf.28dcbeb614c582584281bd2def9b759d.jpg: 640x640 1 Calotropis_gigantea, 7.3ms\n",
            "image 1204/1584 /content/drive/MyDrive/AyushVision/yolo/workingdir/final/test/images/IMG20240709183908_jpg.rf.5ccdde07337caa7952bdd5a29cfbb14d.jpg: 640x640 1 Calotropis_gigantea, 7.3ms\n",
            "image 1205/1584 /content/drive/MyDrive/AyushVision/yolo/workingdir/final/test/images/IMG20240709184105_jpg.rf.7e6fbaba64ee8f215c870b21e48478a4.jpg: 640x640 1 Calotropis_gigantea, 7.4ms\n",
            "image 1206/1584 /content/drive/MyDrive/AyushVision/yolo/workingdir/final/test/images/IMG20240709184120_jpg.rf.685458cbb38a5a32ea72ff103beeac01.jpg: 640x640 1 Calotropis_gigantea, 9.3ms\n",
            "image 1207/1584 /content/drive/MyDrive/AyushVision/yolo/workingdir/final/test/images/IMG20240709184130_jpg.rf.76bceb2f6e112c9cb84abe8704fe24de.jpg: 640x640 1 Calotropis_gigantea, 9.9ms\n",
            "image 1208/1584 /content/drive/MyDrive/AyushVision/yolo/workingdir/final/test/images/IMG20240709184236_jpg.rf.6860b00f8a7c5ddfa01ba3a7d82537c1.jpg: 640x640 1 Calotropis_gigantea, 9.8ms\n",
            "image 1209/1584 /content/drive/MyDrive/AyushVision/yolo/workingdir/final/test/images/IMG20240709184244_jpg.rf.709e93298ca6d2b69a2bd08c7f2ffe13.jpg: 640x640 1 Calotropis_gigantea, 7.3ms\n",
            "image 1210/1584 /content/drive/MyDrive/AyushVision/yolo/workingdir/final/test/images/IMG20240709184419_jpg.rf.f79f8964e6efd78c24fbc706ac3f60af.jpg: 640x640 1 Calotropis_gigantea, 10.2ms\n",
            "image 1211/1584 /content/drive/MyDrive/AyushVision/yolo/workingdir/final/test/images/IMG20240709184522_jpg.rf.65fd7949169fa86acaa0b1bf6d176731.jpg: 640x640 1 Calotropis_gigantea, 10.3ms\n",
            "image 1212/1584 /content/drive/MyDrive/AyushVision/yolo/workingdir/final/test/images/IMG20240709184541_jpg.rf.eb6222417d02fbd064b350529afbcc13.jpg: 640x640 1 Calotropis_gigantea, 9.7ms\n",
            "image 1213/1584 /content/drive/MyDrive/AyushVision/yolo/workingdir/final/test/images/IMG20240713185513_jpg.rf.6844c6b473225ea11b38374609dfa3a7.jpg: 640x640 1 Lemon_grass, 8.4ms\n",
            "image 1214/1584 /content/drive/MyDrive/AyushVision/yolo/workingdir/final/test/images/IMG20240713185757_jpg.rf.0aa4393ba7792234015370c57ffeb65b.jpg: 640x640 1 Lemon_grass, 7.3ms\n",
            "image 1215/1584 /content/drive/MyDrive/AyushVision/yolo/workingdir/final/test/images/IMG20240713190511_jpg.rf.8f76770d9fe99f826f962df3b00f2a42.jpg: 640x640 1 Holybasil, 8.1ms\n",
            "image 1216/1584 /content/drive/MyDrive/AyushVision/yolo/workingdir/final/test/images/IMG20240713190611_jpg.rf.2251e4f300c3929a49598043dbbdb101.jpg: 640x640 1 Holybasil, 8.0ms\n",
            "image 1217/1584 /content/drive/MyDrive/AyushVision/yolo/workingdir/final/test/images/IMG20240713190635_jpg.rf.cf4d737e3d8cac3d78b882404dc6cc91.jpg: 640x640 1 Holybasil, 9.2ms\n",
            "image 1218/1584 /content/drive/MyDrive/AyushVision/yolo/workingdir/final/test/images/IMG20240713190659_jpg.rf.10ab76cbad2178b087184cff5094dccb.jpg: 640x640 1 Holybasil, 7.3ms\n",
            "image 1219/1584 /content/drive/MyDrive/AyushVision/yolo/workingdir/final/test/images/IMG20240713190717_jpg.rf.c365d148b518dede332687d16fd9974f.jpg: 640x640 1 Holybasil, 8.0ms\n",
            "image 1220/1584 /content/drive/MyDrive/AyushVision/yolo/workingdir/final/test/images/IMG20240713190838_jpg.rf.6a301e20d668a3813094c62bdcf53ca6.jpg: 640x640 1 Holybasil, 8.5ms\n",
            "image 1221/1584 /content/drive/MyDrive/AyushVision/yolo/workingdir/final/test/images/IMG20240713190909_jpg.rf.5c75af6b30a98dfeb74ebe150a5fa869.jpg: 640x640 2 Holybasils, 9.2ms\n",
            "image 1222/1584 /content/drive/MyDrive/AyushVision/yolo/workingdir/final/test/images/IMG20240713191021_jpg.rf.a4c0417e55a0a65b65bac6784c8f75c5.jpg: 640x640 1 Holybasil, 8.3ms\n",
            "image 1223/1584 /content/drive/MyDrive/AyushVision/yolo/workingdir/final/test/images/IMG20240713191032_jpg.rf.a076eb6bf58d37ce32a2d266ff994cc9.jpg: 640x640 1 Holybasil, 9.5ms\n",
            "image 1224/1584 /content/drive/MyDrive/AyushVision/yolo/workingdir/final/test/images/IMG20240713191222_jpg.rf.1dc294ec3a56f28b633df383f756c968.jpg: 640x640 1 Holybasil, 10.4ms\n",
            "image 1225/1584 /content/drive/MyDrive/AyushVision/yolo/workingdir/final/test/images/IMG20240713191314_jpg.rf.65dac45439fbeb019364df9f55fe0ece.jpg: 640x640 1 Holybasil, 8.8ms\n",
            "image 1226/1584 /content/drive/MyDrive/AyushVision/yolo/workingdir/final/test/images/IMG20240713191342_jpg.rf.cfa14b5ebe3701acc690663d6532ecaf.jpg: 640x640 1 Holybasil, 8.9ms\n",
            "image 1227/1584 /content/drive/MyDrive/AyushVision/yolo/workingdir/final/test/images/IMG20240713191422_jpg.rf.51a2e3076bfa6ddca9518abb228baa3a.jpg: 640x640 1 Holybasil, 10.0ms\n",
            "image 1228/1584 /content/drive/MyDrive/AyushVision/yolo/workingdir/final/test/images/IMG20240713192858_jpg.rf.c41ea124876994850e5bbc4f57ae5cab.jpg: 640x640 1 Holybasil, 8.2ms\n",
            "image 1229/1584 /content/drive/MyDrive/AyushVision/yolo/workingdir/final/test/images/IMG20240713192922_jpg.rf.a68ed8a4b36f19db9fca0ff5f2bf0c36.jpg: 640x640 1 Holybasil, 10.5ms\n",
            "image 1230/1584 /content/drive/MyDrive/AyushVision/yolo/workingdir/final/test/images/IMG20240713192928_jpg.rf.c2623b2b4f5ceb1fd04b4240c722bfd8.jpg: 640x640 1 Holybasil, 10.3ms\n",
            "image 1231/1584 /content/drive/MyDrive/AyushVision/yolo/workingdir/final/test/images/IMG20240713193000_jpg.rf.84ba90f87be4faedf90bdd2a404fe0dc.jpg: 640x640 1 Holybasil, 8.3ms\n",
            "image 1232/1584 /content/drive/MyDrive/AyushVision/yolo/workingdir/final/test/images/IMG20240713193105_jpg.rf.98f27e74d967276fc425ed8a3d710d48.jpg: 640x640 1 Holybasil, 12.8ms\n",
            "image 1233/1584 /content/drive/MyDrive/AyushVision/yolo/workingdir/final/test/images/IMG20240713193113_jpg.rf.9520c23665e2295ea9f3a898dff9ef86.jpg: 640x640 1 Holybasil, 11.4ms\n",
            "image 1234/1584 /content/drive/MyDrive/AyushVision/yolo/workingdir/final/test/images/IMG20240713193227_jpg.rf.711596583921be82db30e4b26622f296.jpg: 640x640 1 Holybasil, 9.0ms\n",
            "image 1235/1584 /content/drive/MyDrive/AyushVision/yolo/workingdir/final/test/images/IMG20240713193253_jpg.rf.a1f9ab0ab262aadbf9d735493e12d340.jpg: 640x640 1 Holybasil, 7.4ms\n",
            "image 1236/1584 /content/drive/MyDrive/AyushVision/yolo/workingdir/final/test/images/IMG20240713193256_jpg.rf.09f4206e1a1081540f85300203bf4abf.jpg: 640x640 1 Holybasil, 10.1ms\n",
            "image 1237/1584 /content/drive/MyDrive/AyushVision/yolo/workingdir/final/test/images/IMG20240713193304_jpg.rf.da9a8c312aa71d496a586156e9653418.jpg: 640x640 1 Holybasil, 9.1ms\n",
            "image 1238/1584 /content/drive/MyDrive/AyushVision/yolo/workingdir/final/test/images/IMG20240713193334_jpg.rf.c60ba769c8593b60b589a17c2a4cdc3d.jpg: 640x640 1 Holybasil, 8.3ms\n",
            "image 1239/1584 /content/drive/MyDrive/AyushVision/yolo/workingdir/final/test/images/IMG20240713193837_jpg.rf.d2886b6d1f136ddcc7be373764ea8e42.jpg: 640x640 1 Holybasil, 8.5ms\n",
            "image 1240/1584 /content/drive/MyDrive/AyushVision/yolo/workingdir/final/test/images/IMG20240713194304_jpg.rf.5d01ae507014a1f429713bdfd51c864b.jpg: 640x640 1 Holybasil, 9.4ms\n",
            "image 1241/1584 /content/drive/MyDrive/AyushVision/yolo/workingdir/final/test/images/IMG20240713194331_jpg.rf.6ea75ca4ee7ce2f424d072efdfff469c.jpg: 640x640 1 Holybasil, 8.9ms\n",
            "image 1242/1584 /content/drive/MyDrive/AyushVision/yolo/workingdir/final/test/images/IMG20240713194403_jpg.rf.a2557349f14b1002e0f8951750f5e616.jpg: 640x640 1 Holybasil, 8.7ms\n",
            "image 1243/1584 /content/drive/MyDrive/AyushVision/yolo/workingdir/final/test/images/IMG20240713194630_jpg.rf.fa2082846f1030da968564bd6bdae8ee.jpg: 640x640 1 Holybasil, 9.0ms\n",
            "image 1244/1584 /content/drive/MyDrive/AyushVision/yolo/workingdir/final/test/images/IMG20240713194644_jpg.rf.0e8c6610ec56c39cdb40a9d77452ceb6.jpg: 640x640 1 Holybasil, 11.4ms\n",
            "image 1245/1584 /content/drive/MyDrive/AyushVision/yolo/workingdir/final/test/images/IMG20240713194717_jpg.rf.30f61799a53d29eb973c2185b4539a74.jpg: 640x640 1 Holybasil, 9.7ms\n",
            "image 1246/1584 /content/drive/MyDrive/AyushVision/yolo/workingdir/final/test/images/IMG20240713194733_jpg.rf.f14a1b132873fdbab9002a4d992d68a0.jpg: 640x640 1 Holybasil, 8.0ms\n",
            "image 1247/1584 /content/drive/MyDrive/AyushVision/yolo/workingdir/final/test/images/IMG20240713194741_jpg.rf.ec5682e677107cdc5200524cabecfe6e.jpg: 640x640 1 Holybasil, 8.0ms\n",
            "image 1248/1584 /content/drive/MyDrive/AyushVision/yolo/workingdir/final/test/images/IMG20240713195423_jpg.rf.49f12227810704362a901bafb9982edc.jpg: 640x640 1 Holybasil, 7.3ms\n",
            "image 1249/1584 /content/drive/MyDrive/AyushVision/yolo/workingdir/final/test/images/IMG20240713195510_jpg.rf.3e3bbbf0814e9828015327edf410cccc.jpg: 640x640 1 Holybasil, 11.9ms\n",
            "image 1250/1584 /content/drive/MyDrive/AyushVision/yolo/workingdir/final/test/images/IMG20240713195721_jpg.rf.17afad99a0fabf1c4c3d1c37c71c840a.jpg: 640x640 1 Holybasil, 7.3ms\n",
            "image 1251/1584 /content/drive/MyDrive/AyushVision/yolo/workingdir/final/test/images/IMG20240713200406_jpg.rf.a43f540f8d2c1bb86721b7c674f49bb2.jpg: 640x640 1 lime, 1 Landrina, 7.3ms\n",
            "image 1252/1584 /content/drive/MyDrive/AyushVision/yolo/workingdir/final/test/images/IMG20240713200453_jpg.rf.d08f0df4ce08efdbf9c236bf1670fd0c.jpg: 640x640 1 lime, 7.3ms\n",
            "image 1253/1584 /content/drive/MyDrive/AyushVision/yolo/workingdir/final/test/images/IMG20240713201251_jpg.rf.09ac7185d6cc543333ec857bb70a7585.jpg: 640x640 1 Neem, 9.2ms\n",
            "image 1254/1584 /content/drive/MyDrive/AyushVision/yolo/workingdir/final/test/images/IMG20240713202531_jpg.rf.f321ad30dbd29b9d8efa797a8d734ff6.jpg: 640x640 1 Neem, 8.6ms\n",
            "image 1255/1584 /content/drive/MyDrive/AyushVision/yolo/workingdir/final/test/images/IMG20240713202537_jpg.rf.e7935325859eef8d20bc73f2e151b374.jpg: 640x640 1 Neem, 7.3ms\n",
            "image 1256/1584 /content/drive/MyDrive/AyushVision/yolo/workingdir/final/test/images/IMG20240713202549_jpg.rf.85ddc1c5da47a28f18820dd7554e7ce7.jpg: 640x640 1 Neem, 12.0ms\n",
            "image 1257/1584 /content/drive/MyDrive/AyushVision/yolo/workingdir/final/test/images/IMG20240713202649_jpg.rf.7a36ec83ed5c4e00c9b70b9ceff36032.jpg: 640x640 1 Neem, 8.1ms\n",
            "image 1258/1584 /content/drive/MyDrive/AyushVision/yolo/workingdir/final/test/images/IMG20240713202704_jpg.rf.b434d87cd7f7f718804ca017d74ad5d8.jpg: 640x640 1 Neem, 7.3ms\n",
            "image 1259/1584 /content/drive/MyDrive/AyushVision/yolo/workingdir/final/test/images/IMG20240713202735_jpg.rf.8752a0d255bab2e100efa74bdd5636f3.jpg: 640x640 1 Neem, 8.4ms\n",
            "image 1260/1584 /content/drive/MyDrive/AyushVision/yolo/workingdir/final/test/images/IMG20240713203119_jpg.rf.96d8f73d30f4a2eb502ed2a71e984288.jpg: 640x640 1 Neem, 9.5ms\n",
            "image 1261/1584 /content/drive/MyDrive/AyushVision/yolo/workingdir/final/test/images/IMG20240713203148_jpg.rf.7db738e4519e0d860afa6313c6893925.jpg: 640x640 2 Neems, 7.8ms\n",
            "image 1262/1584 /content/drive/MyDrive/AyushVision/yolo/workingdir/final/test/images/IMG20240713203627_jpg.rf.f22b757638d247e80d1d2938725d1d4f.jpg: 640x640 1 Neem, 7.4ms\n",
            "image 1263/1584 /content/drive/MyDrive/AyushVision/yolo/workingdir/final/test/images/IMG20240713203632_jpg.rf.97fda0a167552830b2e71eb4ab7d1b36.jpg: 640x640 1 Neem, 8.6ms\n",
            "image 1264/1584 /content/drive/MyDrive/AyushVision/yolo/workingdir/final/test/images/IMG20240723090059_jpg.rf.3aaa586adc6b8fdea90a6c27d640da72.jpg: 640x640 1 Sleepy_plant, 8.1ms\n",
            "image 1265/1584 /content/drive/MyDrive/AyushVision/yolo/workingdir/final/test/images/IMG20240723090131_jpg.rf.5c738372ce0733e4bc37730f117f41e1.jpg: 640x640 1 Sleepy_plant, 8.3ms\n",
            "image 1266/1584 /content/drive/MyDrive/AyushVision/yolo/workingdir/final/test/images/IMG20240723090144_jpg.rf.0acceff465ba46d5b3661fe067670f49.jpg: 640x640 1 Sleepy_plant, 7.4ms\n",
            "image 1267/1584 /content/drive/MyDrive/AyushVision/yolo/workingdir/final/test/images/IMG20240723090506_jpg.rf.1ecc68cffd2040ac0bcbd517e958ecfe.jpg: 640x640 1 Sleepy_plant, 8.7ms\n",
            "image 1268/1584 /content/drive/MyDrive/AyushVision/yolo/workingdir/final/test/images/IMG20240723090519_jpg.rf.658747ccc353dc60a31260800924b39b.jpg: 640x640 1 Sleepy_plant, 11.2ms\n",
            "image 1269/1584 /content/drive/MyDrive/AyushVision/yolo/workingdir/final/test/images/IMG20240723090533_jpg.rf.abc0df30e20555e3ef2af70e7597a9dd.jpg: 640x640 1 Sleepy_plant, 7.3ms\n",
            "image 1270/1584 /content/drive/MyDrive/AyushVision/yolo/workingdir/final/test/images/IMG20240723090603_jpg.rf.01b9296744db778cda3d6733f3b1cc8a.jpg: 640x640 1 Sleepy_plant, 7.9ms\n",
            "image 1271/1584 /content/drive/MyDrive/AyushVision/yolo/workingdir/final/test/images/IMG20240723090612_jpg.rf.c9c2531dab0460d8b0ec6c1d817f85e2.jpg: 640x640 1 Sleepy_plant, 9.6ms\n",
            "image 1272/1584 /content/drive/MyDrive/AyushVision/yolo/workingdir/final/test/images/IMG20240723090643_jpg.rf.8d0b883b431fa6a3a15e0f4c00486ad5.jpg: 640x640 2 Sleepy_plants, 7.3ms\n",
            "image 1273/1584 /content/drive/MyDrive/AyushVision/yolo/workingdir/final/test/images/IMG20240723090740_jpg.rf.35346f69b6c9db63beccbc0690b553fb.jpg: 640x640 2 Sleepy_plants, 7.9ms\n",
            "image 1274/1584 /content/drive/MyDrive/AyushVision/yolo/workingdir/final/test/images/IMG20240723090819_jpg.rf.afd72b45ec2b49ce754ece02e8ae1286.jpg: 640x640 1 Sleepy_plant, 7.3ms\n",
            "image 1275/1584 /content/drive/MyDrive/AyushVision/yolo/workingdir/final/test/images/IMG20240723090841_jpg.rf.e1f6df5985f21596aa21374f42e90afe.jpg: 640x640 1 Sleepy_plant, 7.3ms\n",
            "image 1276/1584 /content/drive/MyDrive/AyushVision/yolo/workingdir/final/test/images/IMG20240723090908_jpg.rf.e2d3fd721747a51d5cc303423bcf0d42.jpg: 640x640 2 Sleepy_plants, 10.4ms\n",
            "image 1277/1584 /content/drive/MyDrive/AyushVision/yolo/workingdir/final/test/images/IMG20240723090915_jpg.rf.e975315f8ed5a515ad46701cc0da5cbe.jpg: 640x640 2 Sleepy_plants, 10.7ms\n",
            "image 1278/1584 /content/drive/MyDrive/AyushVision/yolo/workingdir/final/test/images/IMG20240723090943_jpg.rf.3c5a2614702775ecbced994597f49fe2.jpg: 640x640 3 Sleepy_plants, 7.3ms\n",
            "image 1279/1584 /content/drive/MyDrive/AyushVision/yolo/workingdir/final/test/images/IMG20240723090949_jpg.rf.139bcf4b27c10cf09b64e6273667beb3.jpg: 640x640 4 Sleepy_plants, 7.5ms\n",
            "image 1280/1584 /content/drive/MyDrive/AyushVision/yolo/workingdir/final/test/images/IMG20240723091124_01_jpg.rf.19cf0a79099ee8f9515496c4c357c48d.jpg: 640x640 2 Sleepy_plants, 10.1ms\n",
            "image 1281/1584 /content/drive/MyDrive/AyushVision/yolo/workingdir/final/test/images/IMG20240723091211_jpg.rf.1dfb89844e475a14d2f57e078b891428.jpg: 640x640 1 Sleepy_plant, 8.4ms\n",
            "image 1282/1584 /content/drive/MyDrive/AyushVision/yolo/workingdir/final/test/images/IMG20240723091229_jpg.rf.fa0987945110415d285397c7e707d3b3.jpg: 640x640 2 Sleepy_plants, 9.3ms\n",
            "image 1283/1584 /content/drive/MyDrive/AyushVision/yolo/workingdir/final/test/images/IMG20240723091251_jpg.rf.371014ba145ac488062110e752fcb2f8.jpg: 640x640 1 Sleepy_plant, 10.1ms\n",
            "image 1284/1584 /content/drive/MyDrive/AyushVision/yolo/workingdir/final/test/images/IMG20240723091634_jpg.rf.946fefcdafb823f24d580dba545d9d46.jpg: 640x640 1 Sleepy_plant, 7.3ms\n",
            "image 1285/1584 /content/drive/MyDrive/AyushVision/yolo/workingdir/final/test/images/IMG20240723091646_jpg.rf.ce62414eeb50c285c2e5eec94b43927b.jpg: 640x640 1 Sleepy_plant, 9.4ms\n",
            "image 1286/1584 /content/drive/MyDrive/AyushVision/yolo/workingdir/final/test/images/IMG20240723091831_jpg.rf.f288d558732eee3d8f6fb9e60eca3938.jpg: 640x640 1 Sleepy_plant, 8.4ms\n",
            "image 1287/1584 /content/drive/MyDrive/AyushVision/yolo/workingdir/final/test/images/IMG20240723091834_jpg.rf.6c5febcdf3d6940f208753eba95149c8.jpg: 640x640 1 Sleepy_plant, 7.3ms\n",
            "image 1288/1584 /content/drive/MyDrive/AyushVision/yolo/workingdir/final/test/images/IMG20240723091919_jpg.rf.4e82cb234b2f3cd6a91e710c42e7b0dc.jpg: 640x640 2 Sleepy_plants, 9.0ms\n",
            "image 1289/1584 /content/drive/MyDrive/AyushVision/yolo/workingdir/final/test/images/IMG20240723092245_jpg.rf.83451d8148f95cf4e22d8463a0db807c.jpg: 640x640 1 Sleepy_plant, 7.3ms\n",
            "image 1290/1584 /content/drive/MyDrive/AyushVision/yolo/workingdir/final/test/images/IMG20240723092329_jpg.rf.1bdb665a7977252fbd15a0a16cd4b801.jpg: 640x640 2 Sleepy_plants, 9.6ms\n",
            "image 1291/1584 /content/drive/MyDrive/AyushVision/yolo/workingdir/final/test/images/IMG20240723092339_jpg.rf.1459e8f2a881dafe87230b37729374ec.jpg: 640x640 2 Sleepy_plants, 8.2ms\n",
            "image 1292/1584 /content/drive/MyDrive/AyushVision/yolo/workingdir/final/test/images/IMG_20231227_083637_jpg.rf.47dcbd78e691fad10346c28f4a5b641c.jpg: 640x640 1 Wild_Turmeric, 9.7ms\n",
            "image 1293/1584 /content/drive/MyDrive/AyushVision/yolo/workingdir/final/test/images/IMG_20231227_083639_jpg.rf.32d01f059551da3271283a179263d593.jpg: 640x640 1 Alovera, 7.8ms\n",
            "image 1294/1584 /content/drive/MyDrive/AyushVision/yolo/workingdir/final/test/images/IMG_20231227_083701_jpg.rf.3c17fd584cb78e267ac7b4e0c2bc3f85.jpg: 640x640 1 Caster, 7.3ms\n",
            "image 1295/1584 /content/drive/MyDrive/AyushVision/yolo/workingdir/final/test/images/IMG_20231227_083838_jpg.rf.e4af4c9ebe64ab76a28a11f9f809c1a0.jpg: 640x640 1 Alovera, 10.7ms\n",
            "image 1296/1584 /content/drive/MyDrive/AyushVision/yolo/workingdir/final/test/images/IMG_20231227_111409_jpg.rf.b2f5fe06b5f8ef4907ee52a4db44623f.jpg: 640x640 1 Turmeric, 9.3ms\n",
            "image 1297/1584 /content/drive/MyDrive/AyushVision/yolo/workingdir/final/test/images/IMG_20231227_111412_1_jpg.rf.a4df1c17b8877095bafc889b435b2195.jpg: 640x640 1 Turmeric, 7.7ms\n",
            "image 1298/1584 /content/drive/MyDrive/AyushVision/yolo/workingdir/final/test/images/IMG_20231227_111428_1_jpg.rf.ae98b46ab7650f7dc88a8b0e3767622c.jpg: 640x640 2 Turmerics, 1 Wild_Turmeric, 7.3ms\n",
            "image 1299/1584 /content/drive/MyDrive/AyushVision/yolo/workingdir/final/test/images/IMG_20231227_111742_1_jpg.rf.7159523662beae0fdae710964efac593.jpg: 640x640 1 Wild_Turmeric, 12.7ms\n",
            "image 1300/1584 /content/drive/MyDrive/AyushVision/yolo/workingdir/final/test/images/IMG_20231227_111743_jpg.rf.da6f31e41ff6d1cfc25ab615d6438a29.jpg: 640x640 (no detections), 8.4ms\n",
            "image 1301/1584 /content/drive/MyDrive/AyushVision/yolo/workingdir/final/test/images/IMG_20231227_111825_jpg.rf.f7003088f2f415d6a2fb119a3baef678.jpg: 640x640 1 Turmeric, 2 Wild_Turmerics, 11.7ms\n",
            "image 1302/1584 /content/drive/MyDrive/AyushVision/yolo/workingdir/final/test/images/IMG_20231227_111859_jpg.rf.fd97d1f06f06a9d027198edad9460e93.jpg: 640x640 1 Turmeric, 1 Wild_Turmeric, 8.0ms\n",
            "image 1303/1584 /content/drive/MyDrive/AyushVision/yolo/workingdir/final/test/images/IMG_20231227_111933_jpg.rf.2d7cefc818f5360abbc11c25d8740a76.jpg: 640x640 6 Turmerics, 1 Wild_Turmeric, 9.1ms\n",
            "image 1304/1584 /content/drive/MyDrive/AyushVision/yolo/workingdir/final/test/images/IMG_20231227_111937_1_jpg.rf.28c115fae8a6f1fbdc9f9f020bb5f945.jpg: 640x640 4 Turmerics, 1 Wild_Turmeric, 10.3ms\n",
            "image 1305/1584 /content/drive/MyDrive/AyushVision/yolo/workingdir/final/test/images/IMG_20231228_091046_jpg.rf.8d84a1fab7bc85b006b24245c394eb5a.jpg: 640x640 1 Alovera, 1 Long_pepper, 7.3ms\n",
            "image 1306/1584 /content/drive/MyDrive/AyushVision/yolo/workingdir/final/test/images/IMG_20231228_092349_jpg.rf.22f5fc81d6579cfc4c64718ce3017e20.jpg: 640x640 1 Cinnamon, 7.3ms\n",
            "image 1307/1584 /content/drive/MyDrive/AyushVision/yolo/workingdir/final/test/images/IMG_20231228_092638_jpg.rf.e4a238f80bcce9e5cf76dfcc7b5429c5.jpg: 640x640 1 Cinnamon, 10.2ms\n",
            "image 1308/1584 /content/drive/MyDrive/AyushVision/yolo/workingdir/final/test/images/IMG_20231228_094440_1_jpg.rf.724b0d518bd2e219ee6558d357dba458.jpg: 640x640 1 Caster, 1 Neem, 10.2ms\n",
            "image 1309/1584 /content/drive/MyDrive/AyushVision/yolo/workingdir/final/test/images/IMG_20231228_094935_jpg.rf.f1914286ec31ada6e8cf06cb2f03d7a9.jpg: 640x640 1 Caster, 10.2ms\n",
            "image 1310/1584 /content/drive/MyDrive/AyushVision/yolo/workingdir/final/test/images/IMG_20231228_094959_jpg.rf.06a570eaeb800b8fb65633484758d745.jpg: 640x640 1 Caster, 7.3ms\n",
            "image 1311/1584 /content/drive/MyDrive/AyushVision/yolo/workingdir/final/test/images/IMG_20231228_095031_jpg.rf.a49c42073138f46ae09766eb8b4c2a41.jpg: 640x640 1 Caster, 9.1ms\n",
            "image 1312/1584 /content/drive/MyDrive/AyushVision/yolo/workingdir/final/test/images/IMG_20231228_095044_jpg.rf.bdf604e2ce3386f12b471d7a5032b883.jpg: 640x640 1 Caster, 9.7ms\n",
            "image 1313/1584 /content/drive/MyDrive/AyushVision/yolo/workingdir/final/test/images/IMG_20231228_095321_jpg.rf.6430ee614f907cba8e16669589c892ae.jpg: 640x640 1 Caster, 9.3ms\n",
            "image 1314/1584 /content/drive/MyDrive/AyushVision/yolo/workingdir/final/test/images/IMG_20231228_095335_jpg.rf.5a681113b830899486afca6ee76909f2.jpg: 640x640 1 Caster, 1 Thornapple, 9.1ms\n",
            "image 1315/1584 /content/drive/MyDrive/AyushVision/yolo/workingdir/final/test/images/IMG_20231228_101823_1_jpg.rf.bf01d88e6269a390473f08f3482c7c4b.jpg: 640x640 3 Casters, 9.9ms\n",
            "image 1316/1584 /content/drive/MyDrive/AyushVision/yolo/workingdir/final/test/images/IMG_20231228_101825_1_jpg.rf.899065157a37b73de8c9b73080c88a16.jpg: 640x640 2 Casters, 9.4ms\n",
            "image 1317/1584 /content/drive/MyDrive/AyushVision/yolo/workingdir/final/test/images/IMG_20231228_101842_jpg.rf.b621cf66f7490a28312688a3a9eeca6c.jpg: 640x640 1 Caster, 7.3ms\n",
            "image 1318/1584 /content/drive/MyDrive/AyushVision/yolo/workingdir/final/test/images/IMG_20231228_101844_jpg.rf.41bff98935429a3ae90fc42a4aa2d0fa.jpg: 640x640 2 Casters, 7.3ms\n",
            "image 1319/1584 /content/drive/MyDrive/AyushVision/yolo/workingdir/final/test/images/IMG_20231228_101846_jpg.rf.39d0a1b95850c14ba2540d182ecf8fe6.jpg: 640x640 3 Casters, 7.3ms\n",
            "image 1320/1584 /content/drive/MyDrive/AyushVision/yolo/workingdir/final/test/images/IMG_20231228_101854_3_jpg.rf.7a388eda4b6c2f071a933e9119be6d24.jpg: 640x640 1 Caster, 10.1ms\n",
            "image 1321/1584 /content/drive/MyDrive/AyushVision/yolo/workingdir/final/test/images/IMG_20231228_101916_jpg.rf.1def0e11c426a99592f77c7d7f8efb58.jpg: 640x640 1 Caster, 8.7ms\n",
            "image 1322/1584 /content/drive/MyDrive/AyushVision/yolo/workingdir/final/test/images/IMG_20231228_101917_jpg.rf.a9570c563b169da5349ab1b153a36fe6.jpg: 640x640 1 Caster, 8.7ms\n",
            "image 1323/1584 /content/drive/MyDrive/AyushVision/yolo/workingdir/final/test/images/IMG_20231228_102105_1_jpg.rf.a19db14471a9c77afc8dd3c32f8d1d9e.jpg: 640x640 3 Casters, 8.9ms\n",
            "image 1324/1584 /content/drive/MyDrive/AyushVision/yolo/workingdir/final/test/images/IMG_20231228_110424_1_jpg.rf.5b242287316303c73fad6f09b67a9f39.jpg: 640x640 1 Wild_Turmeric, 10.1ms\n",
            "image 1325/1584 /content/drive/MyDrive/AyushVision/yolo/workingdir/final/test/images/IMG_20231228_110444_1_jpg.rf.201c3f5eb071e69009a10e5ad5d22bb5.jpg: 640x640 1 Wild_Turmeric, 9.1ms\n",
            "image 1326/1584 /content/drive/MyDrive/AyushVision/yolo/workingdir/final/test/images/IMG_20231228_110515_jpg.rf.34cf397a5c85995b3d97641f2073004b.jpg: 640x640 2 Wild_Turmerics, 9.8ms\n",
            "image 1327/1584 /content/drive/MyDrive/AyushVision/yolo/workingdir/final/test/images/IMG_20231228_110531_jpg.rf.f018798c2cbfec1f5e12d98da9d31726.jpg: 640x640 2 Wild_Turmerics, 10.3ms\n",
            "image 1328/1584 /content/drive/MyDrive/AyushVision/yolo/workingdir/final/test/images/IMG_20231228_110536_jpg.rf.147364fa8a498e5ea9ea4197fe36dd9e.jpg: 640x640 2 Wild_Turmerics, 7.3ms\n",
            "image 1329/1584 /content/drive/MyDrive/AyushVision/yolo/workingdir/final/test/images/IMG_20231228_110600_2_jpg.rf.96960bc5ba8827e3b27f2be93e3a1dba.jpg: 640x640 4 Wild_Turmerics, 10.5ms\n",
            "image 1330/1584 /content/drive/MyDrive/AyushVision/yolo/workingdir/final/test/images/IMG_20231228_110600_jpg.rf.cc28cb7afcbec258fb52cf2cf080a7e6.jpg: 640x640 4 Wild_Turmerics, 10.3ms\n",
            "image 1331/1584 /content/drive/MyDrive/AyushVision/yolo/workingdir/final/test/images/IMG_20231228_110614_jpg.rf.948094caa2eb472e3ef3a327237b3302.jpg: 640x640 3 Wild_Turmerics, 7.3ms\n",
            "image 1332/1584 /content/drive/MyDrive/AyushVision/yolo/workingdir/final/test/images/IMG_20231228_111051_jpg.rf.e886bbb224fa82c2286e189ef908fbd2.jpg: 640x640 1 Caster, 10.4ms\n",
            "image 1333/1584 /content/drive/MyDrive/AyushVision/yolo/workingdir/final/test/images/IMG_20231228_111053_1_jpg.rf.d953cc37e1307118873892cc801a9ea0.jpg: 640x640 2 Casters, 9.3ms\n",
            "image 1334/1584 /content/drive/MyDrive/AyushVision/yolo/workingdir/final/test/images/IMG_20231228_111119_jpg.rf.a5a87055c4732cc676c440815f69ff45.jpg: 640x640 1 Wild_Turmeric, 7.3ms\n",
            "image 1335/1584 /content/drive/MyDrive/AyushVision/yolo/workingdir/final/test/images/IMG_20231228_111127_1_jpg.rf.ee7c41438ccd335dce6fb0b64d0061ed.jpg: 640x640 2 Wild_Turmerics, 7.5ms\n",
            "image 1336/1584 /content/drive/MyDrive/AyushVision/yolo/workingdir/final/test/images/IMG_20231228_111133_jpg.rf.be7f890d51f6a1430d55e47ed082845e.jpg: 640x640 1 Wild_Turmeric, 7.3ms\n",
            "image 1337/1584 /content/drive/MyDrive/AyushVision/yolo/workingdir/final/test/images/IMG_20231228_111207_3_jpg.rf.1569724015a581eb23fe53960ccd080e.jpg: 640x640 3 Wild_Turmerics, 8.8ms\n",
            "image 1338/1584 /content/drive/MyDrive/AyushVision/yolo/workingdir/final/test/images/IMG_20231228_113234_jpg.rf.9f4248eb8604d5c853fa7040c09c9f9d.jpg: 640x640 3 Turmerics, 7.4ms\n",
            "image 1339/1584 /content/drive/MyDrive/AyushVision/yolo/workingdir/final/test/images/IMG_20231228_113237_jpg.rf.f4f5da0c7bdf066413ea19ee262056a1.jpg: 640x640 3 Turmerics, 7.4ms\n",
            "image 1340/1584 /content/drive/MyDrive/AyushVision/yolo/workingdir/final/test/images/IMG_20231228_113238_1_jpg.rf.1490d03a212744926b433666059dde2a.jpg: 640x640 3 Turmerics, 9.1ms\n",
            "image 1341/1584 /content/drive/MyDrive/AyushVision/yolo/workingdir/final/test/images/IMG_20231228_122738_1_jpg.rf.0ff7ac63b820202a5b30101e8ebf9aa9.jpg: 640x640 1 Miracle_leaf, 11.0ms\n",
            "image 1342/1584 /content/drive/MyDrive/AyushVision/yolo/workingdir/final/test/images/IMG_20231228_122750_3_jpg.rf.84cef9754fe8f6a5c428408266714e83.jpg: 640x640 1 Miracle_leaf, 7.3ms\n",
            "image 1343/1584 /content/drive/MyDrive/AyushVision/yolo/workingdir/final/test/images/IMG_20231230_172834_jpg.rf.65c61a0659b52c9c1a89bce7da19e121.jpg: 640x640 1 Indian_Mallow, 10.0ms\n",
            "image 1344/1584 /content/drive/MyDrive/AyushVision/yolo/workingdir/final/test/images/IMG_20231230_172950_jpg.rf.09c2ca909f9527b18c0f175868d9e6c4.jpg: 640x640 1 Indian_Mallow, 7.8ms\n",
            "image 1345/1584 /content/drive/MyDrive/AyushVision/yolo/workingdir/final/test/images/IMG_20231230_173013_1_jpg.rf.ff9c317c519f6334a7e518c55eef5760.jpg: 640x640 1 Indian_Mallow, 11.9ms\n",
            "image 1346/1584 /content/drive/MyDrive/AyushVision/yolo/workingdir/final/test/images/IMG_20231230_173110_2_jpg.rf.89ca598ae9e73abb5ed1f0f9a621b803.jpg: 640x640 1 Indian_Mallow, 7.4ms\n",
            "image 1347/1584 /content/drive/MyDrive/AyushVision/yolo/workingdir/final/test/images/IMG_20231230_173110_jpg.rf.b342619de8af2ac6877ee1f2473cee1c.jpg: 640x640 1 Indian_Mallow, 7.6ms\n",
            "image 1348/1584 /content/drive/MyDrive/AyushVision/yolo/workingdir/final/test/images/IMG_20231230_173625_1_jpg.rf.6416de06db814fccdc7723c5add9ad47.jpg: 640x640 1 Oregano, 11.9ms\n",
            "image 1349/1584 /content/drive/MyDrive/AyushVision/yolo/workingdir/final/test/images/IMG_20231230_173627_jpg.rf.962a4c8064fadd36edae23e05849e4a6.jpg: 640x640 1 Oregano, 7.3ms\n",
            "image 1350/1584 /content/drive/MyDrive/AyushVision/yolo/workingdir/final/test/images/IMG_20231230_175329_1_jpg.rf.0a0af58b6e4a4466c1388ed7ad4d233f.jpg: 640x640 1 Oregano, 9.5ms\n",
            "image 1351/1584 /content/drive/MyDrive/AyushVision/yolo/workingdir/final/test/images/IMG_20231230_175348_4_jpg.rf.0a7895ba797a669dd117cc981081e994.jpg: 640x640 1 Oregano, 7.3ms\n",
            "image 1352/1584 /content/drive/MyDrive/AyushVision/yolo/workingdir/final/test/images/IMG_20231230_175356_jpg.rf.ad7d9deec3e3430a32e647e03300d943.jpg: 640x640 1 Oregano, 11.5ms\n",
            "image 1353/1584 /content/drive/MyDrive/AyushVision/yolo/workingdir/final/test/images/IMG_20231230_175406_3_jpg.rf.0a0774e29b59a4951e0197de8742970c.jpg: 640x640 1 Oregano, 8.6ms\n",
            "image 1354/1584 /content/drive/MyDrive/AyushVision/yolo/workingdir/final/test/images/IMG_20231230_175538_1_jpg.rf.6c240b25a593f0bb6c82c4319b809722.jpg: 640x640 1 Oregano, 8.2ms\n",
            "image 1355/1584 /content/drive/MyDrive/AyushVision/yolo/workingdir/final/test/images/IMG_20240427_092733_jpg.rf.82fcc71d6f5098ac4d85a04cb205221a.jpg: 640x640 (no detections), 8.4ms\n",
            "image 1356/1584 /content/drive/MyDrive/AyushVision/yolo/workingdir/final/test/images/IMG_20240427_092756_jpg.rf.27019f320b2581195384610593cb2cdb.jpg: 640x640 1 Adamant_Creeper, 9.4ms\n",
            "image 1357/1584 /content/drive/MyDrive/AyushVision/yolo/workingdir/final/test/images/IMG_20240427_092800_jpg.rf.00ad238b30918c4d142e9a1a42776288.jpg: 640x640 (no detections), 9.1ms\n",
            "image 1358/1584 /content/drive/MyDrive/AyushVision/yolo/workingdir/final/test/images/IMG_20240427_093159_jpg.rf.01aa25195b458eb898c18697009a9469.jpg: 640x640 1 Adamant_Creeper, 7.7ms\n",
            "image 1359/1584 /content/drive/MyDrive/AyushVision/yolo/workingdir/final/test/images/IMG_20240427_094908_2_jpg.rf.e43d94ddfaed551aca3246c51cac3248.jpg: 640x640 (no detections), 9.8ms\n",
            "image 1360/1584 /content/drive/MyDrive/AyushVision/yolo/workingdir/final/test/images/IMG_20240427_094924_jpg.rf.8fe9316f7153a2669e4ab406e7b92cd9.jpg: 640x640 1 Ginger, 9.9ms\n",
            "image 1361/1584 /content/drive/MyDrive/AyushVision/yolo/workingdir/final/test/images/IMG_20240427_094935_3_jpg.rf.2f0cdc0b518489f6ed74e21bd8dea18b.jpg: 640x640 (no detections), 10.0ms\n",
            "image 1362/1584 /content/drive/MyDrive/AyushVision/yolo/workingdir/final/test/images/IMG_20240427_102915_jpg.rf.4e6a0757127988b168998446ebc1f172.jpg: 640x640 (no detections), 8.7ms\n",
            "image 1363/1584 /content/drive/MyDrive/AyushVision/yolo/workingdir/final/test/images/IMG_20240427_135409_jpg.rf.7ce0a20e7fe83390728f8e8446cf8617.jpg: 640x640 (no detections), 7.3ms\n",
            "image 1364/1584 /content/drive/MyDrive/AyushVision/yolo/workingdir/final/test/images/IMG_20240427_140526_1_jpg.rf.0df6fd48bf5a11dd6eb0869212c2c399.jpg: 640x640 1 Adamant_Creeper, 7.8ms\n",
            "image 1365/1584 /content/drive/MyDrive/AyushVision/yolo/workingdir/final/test/images/IMG_20240427_140632_jpg.rf.daa79979983b29cdc4ecd881d1e6f483.jpg: 640x640 1 Adamant_Creeper, 9.4ms\n",
            "image 1366/1584 /content/drive/MyDrive/AyushVision/yolo/workingdir/final/test/images/IMG_20240427_141101_jpg.rf.e64f647baa8ff5015439d5a292c00947.jpg: 640x640 1 Adamant_Creeper, 8.6ms\n",
            "image 1367/1584 /content/drive/MyDrive/AyushVision/yolo/workingdir/final/test/images/IMG_20240427_141256_jpg.rf.424b4c171ad6ca524575d6f66d495490.jpg: 640x640 1 Adamant_Creeper, 7.3ms\n",
            "image 1368/1584 /content/drive/MyDrive/AyushVision/yolo/workingdir/final/test/images/IMG_20240427_141306_jpg.rf.54a50ba56715c887ec8de02cccb4bb45.jpg: 640x640 1 Adamant_Creeper, 7.3ms\n",
            "image 1369/1584 /content/drive/MyDrive/AyushVision/yolo/workingdir/final/test/images/IMG_20240427_141325_jpg.rf.dcd435b52b73cfdb77914222fcbd99e2.jpg: 640x640 1 Adamant_Creeper, 8.7ms\n",
            "image 1370/1584 /content/drive/MyDrive/AyushVision/yolo/workingdir/final/test/images/IMG_20240427_141945_1_jpg.rf.5f0fc0b0b7199d69313ccb3e40df8e2c.jpg: 640x640 (no detections), 10.4ms\n",
            "image 1371/1584 /content/drive/MyDrive/AyushVision/yolo/workingdir/final/test/images/IMG_20240427_143209_jpg.rf.71d99f127224a5e978971062cc4da861.jpg: 640x640 1 Adamant_Creeper, 9.6ms\n",
            "image 1372/1584 /content/drive/MyDrive/AyushVision/yolo/workingdir/final/test/images/IMG_20240427_143234_jpg.rf.4fb0358f8b23e82f5a3f4ff037b59557.jpg: 640x640 1 Adamant_Creeper, 7.3ms\n",
            "image 1373/1584 /content/drive/MyDrive/AyushVision/yolo/workingdir/final/test/images/IMG_20240427_143409_jpg.rf.ab33b3755aac7c638ec5ae4f26eca5f8.jpg: 640x640 2 Adamant_Creepers, 7.3ms\n",
            "image 1374/1584 /content/drive/MyDrive/AyushVision/yolo/workingdir/final/test/images/IMG_20240427_143443_jpg.rf.c2a7312f2e2b6a625b0591cdea0dfcb6.jpg: 640x640 1 Adamant_Creeper, 7.3ms\n",
            "image 1375/1584 /content/drive/MyDrive/AyushVision/yolo/workingdir/final/test/images/IMG_20240427_143521_jpg.rf.720c35ba0a0ae5102da6487605087563.jpg: 640x640 1 Adamant_Creeper, 7.3ms\n",
            "image 1376/1584 /content/drive/MyDrive/AyushVision/yolo/workingdir/final/test/images/IMG_20240427_143716_1_jpg.rf.0d57f068da0755eb7d2f56762d75d877.jpg: 640x640 1 Adamant_Creeper, 9.6ms\n",
            "image 1377/1584 /content/drive/MyDrive/AyushVision/yolo/workingdir/final/test/images/IMG_20240427_143721_jpg.rf.52691f8b7563cfe3dbe0f409bc3877aa.jpg: 640x640 1 Adamant_Creeper, 7.3ms\n",
            "image 1378/1584 /content/drive/MyDrive/AyushVision/yolo/workingdir/final/test/images/IMG_20240427_143728_1_jpg.rf.4eb1f8ba4f01f5c6323fa0e22652fef5.jpg: 640x640 2 Adamant_Creepers, 7.3ms\n",
            "image 1379/1584 /content/drive/MyDrive/AyushVision/yolo/workingdir/final/test/images/IMG_20240427_143740_1_jpg.rf.db6434f39bb90f055cb47017dc6f92d3.jpg: 640x640 1 Adamant_Creeper, 9.1ms\n",
            "image 1380/1584 /content/drive/MyDrive/AyushVision/yolo/workingdir/final/test/images/IMG_20240427_143802_1_jpg.rf.cdb6c339ed8f164e4f7b80023baab1c0.jpg: 640x640 1 Adamant_Creeper, 7.6ms\n",
            "image 1381/1584 /content/drive/MyDrive/AyushVision/yolo/workingdir/final/test/images/IMG_20240427_143829_jpg.rf.c15dd11d32c15441db1c4c0207b2a77f.jpg: 640x640 (no detections), 8.8ms\n",
            "image 1382/1584 /content/drive/MyDrive/AyushVision/yolo/workingdir/final/test/images/IMG_20240427_143900_jpg.rf.1bebc95b19b9603f7d92d9b0f8ac9fb5.jpg: 640x640 1 Adamant_Creeper, 9.3ms\n",
            "image 1383/1584 /content/drive/MyDrive/AyushVision/yolo/workingdir/final/test/images/IMG_20240427_143929_1_jpg.rf.933160732e3389876c061ee780457655.jpg: 640x640 (no detections), 9.7ms\n",
            "image 1384/1584 /content/drive/MyDrive/AyushVision/yolo/workingdir/final/test/images/IMG_20240427_143958_jpg.rf.b0f18f51390440760b0ecf17b1b6c699.jpg: 640x640 2 Adamant_Creepers, 8.7ms\n",
            "image 1385/1584 /content/drive/MyDrive/AyushVision/yolo/workingdir/final/test/images/IMG_20240427_144013_jpg.rf.e2b7ab027eb3b14a2c02ee8e0e1c459c.jpg: 640x640 (no detections), 9.1ms\n",
            "image 1386/1584 /content/drive/MyDrive/AyushVision/yolo/workingdir/final/test/images/IMG_20240427_144209_1_jpg.rf.daff7b17d38462a6f6844acf61af3c6c.jpg: 640x640 1 Adamant_Creeper, 7.3ms\n",
            "image 1387/1584 /content/drive/MyDrive/AyushVision/yolo/workingdir/final/test/images/IMG_20240427_144209_jpg.rf.701781fcc859ddf445ff69e9c146d527.jpg: 640x640 1 Adamant_Creeper, 8.2ms\n",
            "image 1388/1584 /content/drive/MyDrive/AyushVision/yolo/workingdir/final/test/images/IMG_20240427_144226_jpg.rf.262a4e3fe74035ee4f5a9c057dc09f47.jpg: 640x640 1 Adamant_Creeper, 10.6ms\n",
            "image 1389/1584 /content/drive/MyDrive/AyushVision/yolo/workingdir/final/test/images/IMG_20240427_144246_jpg.rf.2eb1fd5f21b94df892990837ed354ea4.jpg: 640x640 (no detections), 9.8ms\n",
            "image 1390/1584 /content/drive/MyDrive/AyushVision/yolo/workingdir/final/test/images/IMG_20240427_144249_jpg.rf.87d95e41f413cccfd600a662988011c6.jpg: 640x640 2 Adamant_Creepers, 7.3ms\n",
            "image 1391/1584 /content/drive/MyDrive/AyushVision/yolo/workingdir/final/test/images/IMG_20240427_144255_1_jpg.rf.cc48d224b2c7b4522994910759d1308d.jpg: 640x640 1 Adamant_Creeper, 7.3ms\n",
            "image 1392/1584 /content/drive/MyDrive/AyushVision/yolo/workingdir/final/test/images/IMG_20240427_144255_jpg.rf.99fa1f04e2425945cf071566d5cdfa1a.jpg: 640x640 1 Adamant_Creeper, 9.0ms\n",
            "image 1393/1584 /content/drive/MyDrive/AyushVision/yolo/workingdir/final/test/images/IMG_20240427_145626_jpg.rf.def9358c340409306e30cb53fa79ac77.jpg: 640x640 1 Adamant_Creeper, 8.7ms\n",
            "image 1394/1584 /content/drive/MyDrive/AyushVision/yolo/workingdir/final/test/images/IMG_20240427_145824_jpg.rf.203c19e1a292d5f30b5336cb638b8bbf.jpg: 640x640 (no detections), 7.3ms\n",
            "image 1395/1584 /content/drive/MyDrive/AyushVision/yolo/workingdir/final/test/images/IMG_20240427_145936_jpg.rf.c0baf681d794de6ce70b44b9728f065f.jpg: 640x640 (no detections), 7.3ms\n",
            "image 1396/1584 /content/drive/MyDrive/AyushVision/yolo/workingdir/final/test/images/IMG_20240427_150019_jpg.rf.9bd1bac1dfaa03c5d8475d2b149f106c.jpg: 640x640 2 Adamant_Creepers, 7.3ms\n",
            "image 1397/1584 /content/drive/MyDrive/AyushVision/yolo/workingdir/final/test/images/IMG_20240427_150052_jpg.rf.f1214e710fba6f9ee88a27647f1e2f8d.jpg: 640x640 1 Adamant_Creeper, 9.4ms\n",
            "image 1398/1584 /content/drive/MyDrive/AyushVision/yolo/workingdir/final/test/images/IMG_20240427_150053_jpg.rf.9de6b72811ea69af852e74ecec478000.jpg: 640x640 1 Adamant_Creeper, 8.8ms\n",
            "image 1399/1584 /content/drive/MyDrive/AyushVision/yolo/workingdir/final/test/images/IMG_20240427_150130_jpg.rf.e9beccedc4c676268691144e82097249.jpg: 640x640 1 Adamant_Creeper, 8.6ms\n",
            "image 1400/1584 /content/drive/MyDrive/AyushVision/yolo/workingdir/final/test/images/IMG_20240427_150616_1_jpg.rf.3228b397dbab1cfe1085c55d76e30d3e.jpg: 640x640 1 Adamant_Creeper, 7.3ms\n",
            "image 1401/1584 /content/drive/MyDrive/AyushVision/yolo/workingdir/final/test/images/IMG_20240427_150616_jpg.rf.854cdcc60d955b0fafc10b128774722f.jpg: 640x640 1 Adamant_Creeper, 8.4ms\n",
            "image 1402/1584 /content/drive/MyDrive/AyushVision/yolo/workingdir/final/test/images/IMG_20240427_150625_jpg.rf.2236eac2d112f13c829999834dd7f376.jpg: 640x640 1 Adamant_Creeper, 7.3ms\n",
            "image 1403/1584 /content/drive/MyDrive/AyushVision/yolo/workingdir/final/test/images/IMG_20240427_150738_1_jpg.rf.ce5d3707211100366da74161b4dac6d3.jpg: 640x640 1 Adamant_Creeper, 7.3ms\n",
            "image 1404/1584 /content/drive/MyDrive/AyushVision/yolo/workingdir/final/test/images/IMG_20240427_150825_jpg.rf.7cf8f307c3a7f4874162917ded1ad2f8.jpg: 640x640 1 Adamant_Creeper, 7.3ms\n",
            "image 1405/1584 /content/drive/MyDrive/AyushVision/yolo/workingdir/final/test/images/IMG_20240503_022427_jpg.rf.e06db436f2ca5aa0d04776398fb9f88f.jpg: 640x640 2 Ringworm_plants, 9.8ms\n",
            "image 1406/1584 /content/drive/MyDrive/AyushVision/yolo/workingdir/final/test/images/IMG_20240503_022448_jpg.rf.e2383759e4825f707306532e46634492.jpg: 640x640 2 Ringworm_plants, 7.3ms\n",
            "image 1407/1584 /content/drive/MyDrive/AyushVision/yolo/workingdir/final/test/images/IMG_20240503_022806_jpg.rf.1d51d4fe302b0fb307842c482e57b4c9.jpg: 640x640 1 Ringworm_plant, 9.7ms\n",
            "image 1408/1584 /content/drive/MyDrive/AyushVision/yolo/workingdir/final/test/images/IMG_20240503_022837_jpg.rf.6b945b31efdc480cbb7c06d5b477ac2d.jpg: 640x640 1 Ringworm_plant, 10.9ms\n",
            "image 1409/1584 /content/drive/MyDrive/AyushVision/yolo/workingdir/final/test/images/IMG_20240503_022933_jpg.rf.886cd5ef3d69c19d7ebdc2a9c873f38e.jpg: 640x640 1 Ringworm_plant, 9.6ms\n",
            "image 1410/1584 /content/drive/MyDrive/AyushVision/yolo/workingdir/final/test/images/IMG_20240503_023002_jpg.rf.e1123e80020c68fc2cd9cd7723f06e2c.jpg: 640x640 2 Ringworm_plants, 7.3ms\n",
            "image 1411/1584 /content/drive/MyDrive/AyushVision/yolo/workingdir/final/test/images/IMG_20240503_023021_jpg.rf.132cb5147b3e04fb99d605991122c7e1.jpg: 640x640 1 Ringworm_plant, 9.7ms\n",
            "image 1412/1584 /content/drive/MyDrive/AyushVision/yolo/workingdir/final/test/images/IMG_20240503_023039_jpg.rf.04c9596f09e799d10df99f4ceed99b0e.jpg: 640x640 1 Ringworm_plant, 9.8ms\n",
            "image 1413/1584 /content/drive/MyDrive/AyushVision/yolo/workingdir/final/test/images/IMG_20240503_023052_1_jpg.rf.62795bed87ca4c9f88a403deb2405a6d.jpg: 640x640 1 Ringworm_plant, 9.9ms\n",
            "image 1414/1584 /content/drive/MyDrive/AyushVision/yolo/workingdir/final/test/images/IMG_20240503_023052_jpg.rf.9bf78049490ea46958df3d01756bbb66.jpg: 640x640 1 Ringworm_plant, 9.9ms\n",
            "image 1415/1584 /content/drive/MyDrive/AyushVision/yolo/workingdir/final/test/images/IMG_20240503_023226_jpg.rf.cb949f940192cc78de5b128a5aada1a8.jpg: 640x640 (no detections), 9.5ms\n",
            "image 1416/1584 /content/drive/MyDrive/AyushVision/yolo/workingdir/final/test/images/IMG_20240503_085235_jpg.rf.03e636bc7d4626523167fe9071a1561c.jpg: 640x640 1 Ringworm_plant, 9.6ms\n",
            "image 1417/1584 /content/drive/MyDrive/AyushVision/yolo/workingdir/final/test/images/IMG_20240503_085559_jpg.rf.6efb30fe47031e8f80e73f47372024f5.jpg: 640x640 1 Ringworm_plant, 9.8ms\n",
            "image 1418/1584 /content/drive/MyDrive/AyushVision/yolo/workingdir/final/test/images/IMG_20240503_085613_jpg.rf.e91041f72c4183f9ef7cb16251e93095.jpg: 640x640 1 Ringworm_plant, 10.9ms\n",
            "image 1419/1584 /content/drive/MyDrive/AyushVision/yolo/workingdir/final/test/images/IMG_20240503_090057_jpg.rf.35390b79b1e7daf7587978ab4d2c7410.jpg: 640x640 1 Ringworm_plant, 12.6ms\n",
            "image 1420/1584 /content/drive/MyDrive/AyushVision/yolo/workingdir/final/test/images/IMG_20240503_090100_jpg.rf.e6841b47130f5f4a359190298786c0d5.jpg: 640x640 1 Ringworm_plant, 9.8ms\n",
            "image 1421/1584 /content/drive/MyDrive/AyushVision/yolo/workingdir/final/test/images/IMG_20240503_090102_jpg.rf.061aeb5d5e08281a2585cfa6bd301832.jpg: 640x640 1 Ringworm_plant, 10.1ms\n",
            "image 1422/1584 /content/drive/MyDrive/AyushVision/yolo/workingdir/final/test/images/IMG_20240503_090114_jpg.rf.bd02fe8160cc825a00eb6033dac6ce7f.jpg: 640x640 1 Ringworm_plant, 9.8ms\n",
            "image 1423/1584 /content/drive/MyDrive/AyushVision/yolo/workingdir/final/test/images/IMG_20240503_090120_jpg.rf.8c915c882f55369cf2f7b25159a661ba.jpg: 640x640 1 Ringworm_plant, 7.3ms\n",
            "image 1424/1584 /content/drive/MyDrive/AyushVision/yolo/workingdir/final/test/images/IMG_20240503_090148_jpg.rf.b89df415eeadf7f778b4330cb5fe8e56.jpg: 640x640 2 Ringworm_plants, 8.7ms\n",
            "image 1425/1584 /content/drive/MyDrive/AyushVision/yolo/workingdir/final/test/images/IMG_20240503_112353_1_jpg.rf.fd2d1473ed440b5c39a95eba40244e9f.jpg: 640x640 1 Ringworm_plant, 7.3ms\n",
            "image 1426/1584 /content/drive/MyDrive/AyushVision/yolo/workingdir/final/test/images/IMG_20240503_112500_jpg.rf.9697f6c346acbf81ad6b9d7afa7ad378.jpg: 640x640 1 Ringworm_plant, 11.7ms\n",
            "image 1427/1584 /content/drive/MyDrive/AyushVision/yolo/workingdir/final/test/images/IMG_20240503_112616_jpg.rf.43b45887eb227aa016563b5b82806f84.jpg: 640x640 1 Ringworm_plant, 7.4ms\n",
            "image 1428/1584 /content/drive/MyDrive/AyushVision/yolo/workingdir/final/test/images/IMG_20240503_112705_jpg.rf.c091d921b7b1f30785b1506ee1cc8851.jpg: 640x640 1 Ringworm_plant, 9.3ms\n",
            "image 1429/1584 /content/drive/MyDrive/AyushVision/yolo/workingdir/final/test/images/IMG_20240503_112905_jpg.rf.01bd9fcd40ca89f535aeb66122c03a6b.jpg: 640x640 1 Ringworm_plant, 10.2ms\n",
            "image 1430/1584 /content/drive/MyDrive/AyushVision/yolo/workingdir/final/test/images/IMG_20240503_113436_jpg.rf.38180f8ed96ee9c1a43df58b11e34a9a.jpg: 640x640 (no detections), 10.2ms\n",
            "image 1431/1584 /content/drive/MyDrive/AyushVision/yolo/workingdir/final/test/images/IMG_20240503_113502_jpg.rf.afa2288a3723ab71284284089e5d9a6b.jpg: 640x640 (no detections), 7.3ms\n",
            "image 1432/1584 /content/drive/MyDrive/AyushVision/yolo/workingdir/final/test/images/IMG_20240503_113507_jpg.rf.2119cceab5ff901a712643ae4903581b.jpg: 640x640 (no detections), 7.9ms\n",
            "image 1433/1584 /content/drive/MyDrive/AyushVision/yolo/workingdir/final/test/images/IMG_20240503_113533_jpg.rf.f6158affc790b7c612aa02020914a38b.jpg: 640x640 3 Ringworm_plants, 7.3ms\n",
            "image 1434/1584 /content/drive/MyDrive/AyushVision/yolo/workingdir/final/test/images/IMG_20240503_113556_jpg.rf.88b46a4c2841df2fc8aab4e5af12bbc8.jpg: 640x640 (no detections), 7.3ms\n",
            "image 1435/1584 /content/drive/MyDrive/AyushVision/yolo/workingdir/final/test/images/IMG_20240503_114050_jpg.rf.161269f502c8f2dede33628588ac2c6b.jpg: 640x640 1 Ringworm_plant, 7.3ms\n",
            "image 1436/1584 /content/drive/MyDrive/AyushVision/yolo/workingdir/final/test/images/IMG_20240503_114300_jpg.rf.b2116a18eb3c20bf1b463defb2a73329.jpg: 640x640 4 Ringworm_plants, 9.2ms\n",
            "image 1437/1584 /content/drive/MyDrive/AyushVision/yolo/workingdir/final/test/images/IMG_20240503_114416_jpg.rf.1d0a79f961cbdd21bd3559d846102d44.jpg: 640x640 3 Ringworm_plants, 9.7ms\n",
            "image 1438/1584 /content/drive/MyDrive/AyushVision/yolo/workingdir/final/test/images/IMG_20240503_114446_jpg.rf.a06b656e1eef61eeba97ed89f50efead.jpg: 640x640 2 Ringworm_plants, 10.8ms\n",
            "image 1439/1584 /content/drive/MyDrive/AyushVision/yolo/workingdir/final/test/images/IMG_20240503_114558_jpg.rf.07f12ce3140d4e28482db6c1fbc6c4e6.jpg: 640x640 1 Ringworm_plant, 7.3ms\n",
            "image 1440/1584 /content/drive/MyDrive/AyushVision/yolo/workingdir/final/test/images/IMG_20240503_114644_jpg.rf.de191869aac6aa0f5a8d262681bf0181.jpg: 640x640 1 Ringworm_plant, 7.3ms\n",
            "image 1441/1584 /content/drive/MyDrive/AyushVision/yolo/workingdir/final/test/images/IMG_20240503_123952_jpg.rf.1f7ed55260419cbb45974ee52ceb09ee.jpg: 640x640 1 Ringworm_plant, 8.9ms\n",
            "image 1442/1584 /content/drive/MyDrive/AyushVision/yolo/workingdir/final/test/images/IMG_20240503_124014_jpg.rf.6375ac28eb0a23643e37bb57d81c5697.jpg: 640x640 1 Ringworm_plant, 8.9ms\n",
            "image 1443/1584 /content/drive/MyDrive/AyushVision/yolo/workingdir/final/test/images/IMG_20240503_124043_jpg.rf.0b9843a5c44397e471bfd05cd49b74dc.jpg: 640x640 1 Ringworm_plant, 7.3ms\n",
            "image 1444/1584 /content/drive/MyDrive/AyushVision/yolo/workingdir/final/test/images/IMG_20240503_124207_jpg.rf.e2d65f25e1b0683628362d3fd8dc5ec7.jpg: 640x640 1 Ringworm_plant, 8.6ms\n",
            "image 1445/1584 /content/drive/MyDrive/AyushVision/yolo/workingdir/final/test/images/IMG_20240503_124222_jpg.rf.25b96d0584b6ac67666848148f5e9d44.jpg: 640x640 1 Ringworm_plant, 7.3ms\n",
            "image 1446/1584 /content/drive/MyDrive/AyushVision/yolo/workingdir/final/test/images/IMG_20240503_124251_jpg.rf.bc6c4bc489df71362d91e8ea0f6beaa8.jpg: 640x640 1 Ringworm_plant, 7.3ms\n",
            "image 1447/1584 /content/drive/MyDrive/AyushVision/yolo/workingdir/final/test/images/IMG_20240503_124330_jpg.rf.61a0e293395b20259801d0774552c94f.jpg: 640x640 1 Ringworm_plant, 7.3ms\n",
            "image 1448/1584 /content/drive/MyDrive/AyushVision/yolo/workingdir/final/test/images/IMG_20240504_104842_jpg.rf.0f9ab4de7265e8fc0f3ff7b9bf7bbd3a.jpg: 640x640 1 Turmeric, 8.3ms\n",
            "image 1449/1584 /content/drive/MyDrive/AyushVision/yolo/workingdir/final/test/images/IMG_20240504_104853_jpg.rf.c86cc59935a65388b208989226325f98.jpg: 640x640 1 Turmeric, 12.0ms\n",
            "image 1450/1584 /content/drive/MyDrive/AyushVision/yolo/workingdir/final/test/images/IMG_20240504_104944_jpg.rf.da1e31aff936db32de14cc07978b4e08.jpg: 640x640 1 Turmeric, 7.7ms\n",
            "image 1451/1584 /content/drive/MyDrive/AyushVision/yolo/workingdir/final/test/images/IMG_20240504_105003_jpg.rf.72cfc40adf81d3e2fbf7aa71e839b487.jpg: 640x640 1 Turmeric, 7.3ms\n",
            "image 1452/1584 /content/drive/MyDrive/AyushVision/yolo/workingdir/final/test/images/IMG_20240504_105217_jpg.rf.debedd3d83cbc8e1801d0f96a13ca456.jpg: 640x640 1 Turmeric, 9.6ms\n",
            "image 1453/1584 /content/drive/MyDrive/AyushVision/yolo/workingdir/final/test/images/IMG_20240504_105323_jpg.rf.47819276fb1acbb859f123852d6edd05.jpg: 640x640 1 Turmeric, 9.0ms\n",
            "image 1454/1584 /content/drive/MyDrive/AyushVision/yolo/workingdir/final/test/images/IMG_20240504_105347_jpg.rf.64083f536229cc5381d9303c214996bc.jpg: 640x640 1 Turmeric, 7.3ms\n",
            "image 1455/1584 /content/drive/MyDrive/AyushVision/yolo/workingdir/final/test/images/IMG_20240504_105705_jpg.rf.0c07845f039990a02821bae3f4f505de.jpg: 640x640 1 Turmeric, 9.7ms\n",
            "image 1456/1584 /content/drive/MyDrive/AyushVision/yolo/workingdir/final/test/images/IMG_20240504_105755_jpg.rf.0705531d9ee1efc83e24e71d38bfd38a.jpg: 640x640 1 Turmeric, 7.3ms\n",
            "image 1457/1584 /content/drive/MyDrive/AyushVision/yolo/workingdir/final/test/images/IMG_20240504_105901_jpg.rf.925ddd3067b59f95d0017053d59de3f0.jpg: 640x640 1 Turmeric, 7.8ms\n",
            "image 1458/1584 /content/drive/MyDrive/AyushVision/yolo/workingdir/final/test/images/IMG_20240504_110400_jpg.rf.37b50bcfdedbb679ddbac7e26afaf7ba.jpg: 640x640 1 Turmeric, 9.4ms\n",
            "image 1459/1584 /content/drive/MyDrive/AyushVision/yolo/workingdir/final/test/images/IMG_20240504_110443_jpg.rf.1159fe95a35d50423bab562c1ed75b82.jpg: 640x640 1 Turmeric, 7.3ms\n",
            "image 1460/1584 /content/drive/MyDrive/AyushVision/yolo/workingdir/final/test/images/IMG_20240504_110449_jpg.rf.00e7572db5ebb0fc2f9c0b448474a9f0.jpg: 640x640 1 Turmeric, 9.2ms\n",
            "image 1461/1584 /content/drive/MyDrive/AyushVision/yolo/workingdir/final/test/images/IMG_20240505_115311_jpg.rf.857cc02f6b92df879f4d2aebf3f52635.jpg: 640x640 1 Indian_Mallow, 7.3ms\n",
            "image 1462/1584 /content/drive/MyDrive/AyushVision/yolo/workingdir/final/test/images/IMG_20240505_115400_jpg.rf.2290cc052be8d4a73bddc6d2470b6727.jpg: 640x640 1 Indian_Mallow, 8.4ms\n",
            "image 1463/1584 /content/drive/MyDrive/AyushVision/yolo/workingdir/final/test/images/IMG_20240505_115642_jpg.rf.0f863f5274319db4225c7e4024c6f619.jpg: 640x640 1 Indian_Mallow, 7.4ms\n",
            "image 1464/1584 /content/drive/MyDrive/AyushVision/yolo/workingdir/final/test/images/IMG_20240505_115653_jpg.rf.40d477e32c048467f80d07affdcf1ae7.jpg: 640x640 1 Indian_Mallow, 7.4ms\n",
            "image 1465/1584 /content/drive/MyDrive/AyushVision/yolo/workingdir/final/test/images/IMG_20240505_115828_jpg.rf.fc52dca90862c5acf0719383cd14ebe8.jpg: 640x640 1 Indian_Mallow, 9.0ms\n",
            "image 1466/1584 /content/drive/MyDrive/AyushVision/yolo/workingdir/final/test/images/IMG_20240505_115922_jpg.rf.094f7bb5b4137986ad78d38955038521.jpg: 640x640 1 Indian_Mallow, 10.6ms\n",
            "image 1467/1584 /content/drive/MyDrive/AyushVision/yolo/workingdir/final/test/images/IMG_20240505_121415_jpg.rf.c28d7a762ee8e4a8dcf4a4b8c44773bb.jpg: 640x640 1 Indian_Mallow, 7.4ms\n",
            "image 1468/1584 /content/drive/MyDrive/AyushVision/yolo/workingdir/final/test/images/IMG_20240505_121424_jpg.rf.5c15a27fec1cfd612fde05426a80f106.jpg: 640x640 1 Indian_Mallow, 12.4ms\n",
            "image 1469/1584 /content/drive/MyDrive/AyushVision/yolo/workingdir/final/test/images/IMG_20240505_121448_jpg.rf.d309f7fb58dafcdf2ded96aedd0f5b93.jpg: 640x640 1 Indian_Mallow, 10.0ms\n",
            "image 1470/1584 /content/drive/MyDrive/AyushVision/yolo/workingdir/final/test/images/IMG_20240505_121508_jpg.rf.ce1c011249fadbe23b47d47d8d2922f6.jpg: 640x640 1 Indian_Mallow, 9.5ms\n",
            "image 1471/1584 /content/drive/MyDrive/AyushVision/yolo/workingdir/final/test/images/IMG_20240505_121517_jpg.rf.485dc0c04ad71de09a5d3fbb21e19a07.jpg: 640x640 1 Sleepy_plant, 1 Indian_Mallow, 9.4ms\n",
            "image 1472/1584 /content/drive/MyDrive/AyushVision/yolo/workingdir/final/test/images/IMG_20240505_122051_jpg.rf.ffc16b3f06eaafefd03817f20ea074c3.jpg: 640x640 1 Indian_Mallow, 9.5ms\n",
            "image 1473/1584 /content/drive/MyDrive/AyushVision/yolo/workingdir/final/test/images/IMG_20240505_122145_jpg.rf.5de0be5b460af96e88cca9dc0618cc9e.jpg: 640x640 1 Indian_Mallow, 7.3ms\n",
            "image 1474/1584 /content/drive/MyDrive/AyushVision/yolo/workingdir/final/test/images/IMG_20240505_122509_jpg.rf.47795be17ab7d7e3ccd864ad3553f5b9.jpg: 640x640 1 Indian_Mallow, 7.3ms\n",
            "image 1475/1584 /content/drive/MyDrive/AyushVision/yolo/workingdir/final/test/images/IMG_20240505_123445_jpg.rf.65d3721d1b6378e74f9ba7cebde217ca.jpg: 640x640 1 Indian_Mallow, 7.3ms\n",
            "image 1476/1584 /content/drive/MyDrive/AyushVision/yolo/workingdir/final/test/images/IMG_20240505_123511_jpg.rf.d650fc86ce5bbbfa2a5f133e1339c844.jpg: 640x640 2 Indian_Mallows, 9.9ms\n",
            "image 1477/1584 /content/drive/MyDrive/AyushVision/yolo/workingdir/final/test/images/IMG_20240505_170652_jpg.rf.66c4379ec397d11a777dac5f3c1e6c22.jpg: 640x640 1 Indian_Mallow, 9.8ms\n",
            "image 1478/1584 /content/drive/MyDrive/AyushVision/yolo/workingdir/final/test/images/IMG_20240505_170758_jpg.rf.e2206622dacb8296ee06ae3f6fecee2d.jpg: 640x640 2 Indian_Mallows, 7.3ms\n",
            "image 1479/1584 /content/drive/MyDrive/AyushVision/yolo/workingdir/final/test/images/IMG_20240505_171016_jpg.rf.80d94f31c160305f579eb7246812b0eb.jpg: 640x640 1 Indian_Mallow, 7.3ms\n",
            "image 1480/1584 /content/drive/MyDrive/AyushVision/yolo/workingdir/final/test/images/IMG_20240505_171149_jpg.rf.40eb432ce298361960315da78ee0d8ee.jpg: 640x640 1 Indian_Mallow, 9.2ms\n",
            "image 1481/1584 /content/drive/MyDrive/AyushVision/yolo/workingdir/final/test/images/IMG_20240505_171228_jpg.rf.68f7bf30d0f73e3f8ea9fcaeef1cccb5.jpg: 640x640 1 Indian_Mallow, 7.5ms\n",
            "image 1482/1584 /content/drive/MyDrive/AyushVision/yolo/workingdir/final/test/images/IMG_20240505_171614_jpg.rf.86a9e2cd8bc31474f6dec2639e085f8e.jpg: 640x640 1 Indian_Mallow, 7.3ms\n",
            "image 1483/1584 /content/drive/MyDrive/AyushVision/yolo/workingdir/final/test/images/IMG_20240505_171716_jpg.rf.c5c8d498faf6040605648e1f37eef13e.jpg: 640x640 1 Indian_Mallow, 9.4ms\n",
            "image 1484/1584 /content/drive/MyDrive/AyushVision/yolo/workingdir/final/test/images/IMG_20240505_172017_jpg.rf.57f061a9eb5cad0808dd5a4454931962.jpg: 640x640 1 Indian_Mallow, 7.3ms\n",
            "image 1485/1584 /content/drive/MyDrive/AyushVision/yolo/workingdir/final/test/images/IMG_20240505_172116_jpg.rf.20a24741af0d7e0b79e7fda1c8ceb4cd.jpg: 640x640 (no detections), 8.7ms\n",
            "image 1486/1584 /content/drive/MyDrive/AyushVision/yolo/workingdir/final/test/images/IMG_20240505_172122_jpg.rf.f35ce949f55183e455c13aaf424c3130.jpg: 640x640 1 Indian_Mallow, 8.5ms\n",
            "image 1487/1584 /content/drive/MyDrive/AyushVision/yolo/workingdir/final/test/images/IMG_20240505_173334_jpg.rf.9ee003080b604cdb55ba1fafead22387.jpg: 640x640 1 Indian_Mallow, 7.3ms\n",
            "image 1488/1584 /content/drive/MyDrive/AyushVision/yolo/workingdir/final/test/images/IMG_20240505_173605_jpg.rf.83c378b56f9aa906d00bd1fef36900b7.jpg: 640x640 2 Indian_Mallows, 10.0ms\n",
            "image 1489/1584 /content/drive/MyDrive/AyushVision/yolo/workingdir/final/test/images/IMG_20240505_173641_jpg.rf.d3297229c8879cacd563a4f7f05a82fb.jpg: 640x640 1 Indian_Mallow, 9.0ms\n",
            "image 1490/1584 /content/drive/MyDrive/AyushVision/yolo/workingdir/final/test/images/IMG_20240505_174323_jpg.rf.1885d858a26d5e81d8a2a2295eb14fd9.jpg: 640x640 1 Indian_Mallow, 7.4ms\n",
            "image 1491/1584 /content/drive/MyDrive/AyushVision/yolo/workingdir/final/test/images/IMG_20240505_174732_jpg.rf.35b3dd9b0361ad4d00a910172e9fc2d0.jpg: 640x640 1 Indian_Mallow, 7.3ms\n",
            "image 1492/1584 /content/drive/MyDrive/AyushVision/yolo/workingdir/final/test/images/IMG_20240505_174748_jpg.rf.0c5dbdf51c1d845888e879003c17aaaf.jpg: 640x640 1 Indian_Mallow, 9.5ms\n",
            "image 1493/1584 /content/drive/MyDrive/AyushVision/yolo/workingdir/final/test/images/IMG_20240505_231500_jpg.rf.a332e8a5d21281becbd1f55fde27b727.jpg: 640x640 1 Adamant_Creeper, 9.6ms\n",
            "image 1494/1584 /content/drive/MyDrive/AyushVision/yolo/workingdir/final/test/images/IMG_20240505_231545_jpg.rf.bf14792111922e1de34b9ccc4e411abd.jpg: 640x640 1 Vitexnegundo, 8.8ms\n",
            "image 1495/1584 /content/drive/MyDrive/AyushVision/yolo/workingdir/final/test/images/IMG_20240505_231556_jpg.rf.05bf9970d202b86b62533421a63b40ab.jpg: 640x640 1 Vitexnegundo, 7.3ms\n",
            "image 1496/1584 /content/drive/MyDrive/AyushVision/yolo/workingdir/final/test/images/IMG_20240505_231612_jpg.rf.8ebeb5a9add9c917cfb319e5b54de4f6.jpg: 640x640 1 Vitexnegundo, 7.3ms\n",
            "image 1497/1584 /content/drive/MyDrive/AyushVision/yolo/workingdir/final/test/images/IMG_20240505_231746_jpg.rf.96b9dfea38fb34bb7ffeed14471c10c8.jpg: 640x640 1 Vitexnegundo, 7.3ms\n",
            "image 1498/1584 /content/drive/MyDrive/AyushVision/yolo/workingdir/final/test/images/IMG_20240505_231853_jpg.rf.1c7f339557312ba1f7893cb0ea7c7c19.jpg: 640x640 1 Vitexnegundo, 10.2ms\n",
            "image 1499/1584 /content/drive/MyDrive/AyushVision/yolo/workingdir/final/test/images/IMG_20240505_231918_jpg.rf.93801bbc6893b07b47fbcd133d9fe65a.jpg: 640x640 1 Vitexnegundo, 9.4ms\n",
            "image 1500/1584 /content/drive/MyDrive/AyushVision/yolo/workingdir/final/test/images/IMG_20240505_231921_jpg.rf.bdcd4740c352698812eaf6c692839f35.jpg: 640x640 1 Vitexnegundo, 9.3ms\n",
            "image 1501/1584 /content/drive/MyDrive/AyushVision/yolo/workingdir/final/test/images/IMG_20240505_231930_jpg.rf.55199d1b9c369aee99570a5b4a82b0f0.jpg: 640x640 1 Vitexnegundo, 11.2ms\n",
            "image 1502/1584 /content/drive/MyDrive/AyushVision/yolo/workingdir/final/test/images/IMG_20240505_232021_jpg.rf.9bec51fa7dcc39d6992a671beade5ebf.jpg: 640x640 1 Vitexnegundo, 10.7ms\n",
            "image 1503/1584 /content/drive/MyDrive/AyushVision/yolo/workingdir/final/test/images/IMG_20240505_232205_jpg.rf.ccbb967594858e2017e538f3bfcfc8b3.jpg: 640x640 1 Vitexnegundo, 11.7ms\n",
            "image 1504/1584 /content/drive/MyDrive/AyushVision/yolo/workingdir/final/test/images/IMG_20240506_103252_jpg.rf.2e5f8ee0c80e42bc77c13913fc17b6eb.jpg: 640x640 1 Miracle_leaf, 8.9ms\n",
            "image 1505/1584 /content/drive/MyDrive/AyushVision/yolo/workingdir/final/test/images/IMG_20240506_103311_1_jpg.rf.cb1f140764ce8aafb508deb2c1e55f0b.jpg: 640x640 1 Miracle_leaf, 13.0ms\n",
            "image 1506/1584 /content/drive/MyDrive/AyushVision/yolo/workingdir/final/test/images/IMG_20240506_105412_jpg.rf.06d69264ff3917ba116a631ca1d81037.jpg: 640x640 (no detections), 7.3ms\n",
            "image 1507/1584 /content/drive/MyDrive/AyushVision/yolo/workingdir/final/test/images/IMG_20240506_105500_1_jpg.rf.415efc73487ae26bfeb2665eee21a15d.jpg: 640x640 1 Miracle_leaf, 7.3ms\n",
            "image 1508/1584 /content/drive/MyDrive/AyushVision/yolo/workingdir/final/test/images/IMG_20240506_114545_jpg.rf.fa0bf575b15bb543d942b4f11009ab99.jpg: 640x640 3 Thornapples, 10.1ms\n",
            "image 1509/1584 /content/drive/MyDrive/AyushVision/yolo/workingdir/final/test/images/IMG_20240506_114559_jpg.rf.6bd2ac841d1034049197c694cc9f2e17.jpg: 640x640 2 Thornapples, 9.9ms\n",
            "image 1510/1584 /content/drive/MyDrive/AyushVision/yolo/workingdir/final/test/images/IMG_20240506_114604_jpg.rf.2a23b8a7cdc32e7d03fbd7cc8f45f155.jpg: 640x640 4 Thornapples, 8.8ms\n",
            "image 1511/1584 /content/drive/MyDrive/AyushVision/yolo/workingdir/final/test/images/IMG_20240506_114736_jpg.rf.9cb50f3e277ef6f4d2ffd07c709dc5ea.jpg: 640x640 1 Thornapple, 7.3ms\n",
            "image 1512/1584 /content/drive/MyDrive/AyushVision/yolo/workingdir/final/test/images/IMG_20240506_114756_jpg.rf.27afa4c01bb0c257806e808587d56b3f.jpg: 640x640 1 Thornapple, 11.8ms\n",
            "image 1513/1584 /content/drive/MyDrive/AyushVision/yolo/workingdir/final/test/images/IMG_20240506_114808_jpg.rf.f56af096589687573e5f88f9cdbad8df.jpg: 640x640 1 Thornapple, 7.3ms\n",
            "image 1514/1584 /content/drive/MyDrive/AyushVision/yolo/workingdir/final/test/images/IMG_20240506_114835_jpg.rf.fdf92c95226b1d3436ed0bc29b51f2fb.jpg: 640x640 1 Thornapple, 8.1ms\n",
            "image 1515/1584 /content/drive/MyDrive/AyushVision/yolo/workingdir/final/test/images/IMG_20240506_114859_jpg.rf.844e00b8060b421a5b1315e6c9e99171.jpg: 640x640 1 Thornapple, 7.7ms\n",
            "image 1516/1584 /content/drive/MyDrive/AyushVision/yolo/workingdir/final/test/images/IMG_20240506_115230_jpg.rf.77e6757e5f6c7098b8c161a8ac23668a.jpg: 640x640 1 Thornapple, 8.4ms\n",
            "image 1517/1584 /content/drive/MyDrive/AyushVision/yolo/workingdir/final/test/images/IMG_20240506_115236_jpg.rf.bc09bafda294d17df34983f796b329cd.jpg: 640x640 1 Thornapple, 7.3ms\n",
            "image 1518/1584 /content/drive/MyDrive/AyushVision/yolo/workingdir/final/test/images/IMG_20240506_115241_jpg.rf.b002a0e9a5e8c3ceff9b14b90e6bbe48.jpg: 640x640 (no detections), 9.3ms\n",
            "image 1519/1584 /content/drive/MyDrive/AyushVision/yolo/workingdir/final/test/images/IMG_20240506_115450_jpg.rf.18928fb0d671de8ab4056407d0d30ce4.jpg: 640x640 1 Thornapple, 9.0ms\n",
            "image 1520/1584 /content/drive/MyDrive/AyushVision/yolo/workingdir/final/test/images/IMG_20240506_115514_jpg.rf.3d1e4d28d03d30c6f9d28536ba3a17db.jpg: 640x640 1 Thornapple, 9.5ms\n",
            "image 1521/1584 /content/drive/MyDrive/AyushVision/yolo/workingdir/final/test/images/IMG_20240506_115527_jpg.rf.04f05fe87d9655a952ced170f0a3c4db.jpg: 640x640 1 Thornapple, 9.4ms\n",
            "image 1522/1584 /content/drive/MyDrive/AyushVision/yolo/workingdir/final/test/images/IMG_20240506_115538_jpg.rf.f161b9e6cbee497c0477f34635b19fd2.jpg: 640x640 1 Thornapple, 9.0ms\n",
            "image 1523/1584 /content/drive/MyDrive/AyushVision/yolo/workingdir/final/test/images/IMG_20240506_115740_jpg.rf.8c0b6169f35acb6ed8e90a506907d5b3.jpg: 640x640 1 Thornapple, 9.7ms\n",
            "image 1524/1584 /content/drive/MyDrive/AyushVision/yolo/workingdir/final/test/images/IMG_20240616_161327_jpg.rf.d532deebb6a1559870c144ea7836722c.jpg: 640x640 1 Thornapple, 9.7ms\n",
            "image 1525/1584 /content/drive/MyDrive/AyushVision/yolo/workingdir/final/test/images/IMG_20240616_161332_jpg.rf.0609943c8f065e0fdd7532d71a5c9869.jpg: 640x640 1 Thornapple, 8.7ms\n",
            "image 1526/1584 /content/drive/MyDrive/AyushVision/yolo/workingdir/final/test/images/IMG_20240616_161337_jpg.rf.857bbefc4876a81c6ebb403054efa4c2.jpg: 640x640 1 Thornapple, 7.3ms\n",
            "image 1527/1584 /content/drive/MyDrive/AyushVision/yolo/workingdir/final/test/images/IMG_20240616_161419_jpg.rf.7dff4e025aa0873e7b8550c63309e86e.jpg: 640x640 1 Thornapple, 7.3ms\n",
            "image 1528/1584 /content/drive/MyDrive/AyushVision/yolo/workingdir/final/test/images/IMG_20240616_161431_jpg.rf.595cba49ec95baed52c419fc64f24e16.jpg: 640x640 1 Thornapple, 8.4ms\n",
            "image 1529/1584 /content/drive/MyDrive/AyushVision/yolo/workingdir/final/test/images/IMG_20240616_161456_jpg.rf.f4207d4c763ba74e78329784f1f8d344.jpg: 640x640 1 Thornapple, 10.6ms\n",
            "image 1530/1584 /content/drive/MyDrive/AyushVision/yolo/workingdir/final/test/images/IMG_20240616_161501_1_jpg.rf.aaee7f69ddd0df5b9ecbc915c1d5b965.jpg: 640x640 1 Thornapple, 12.1ms\n",
            "image 1531/1584 /content/drive/MyDrive/AyushVision/yolo/workingdir/final/test/images/IMG_20240616_161800_jpg.rf.e26e87b47461978cebc55e0f570f778e.jpg: 640x640 1 Thornapple, 9.7ms\n",
            "image 1532/1584 /content/drive/MyDrive/AyushVision/yolo/workingdir/final/test/images/IMG_20240616_161848_jpg.rf.fd57d0637764240c6618a2d02d49b5ef.jpg: 640x640 1 Thornapple, 9.4ms\n",
            "image 1533/1584 /content/drive/MyDrive/AyushVision/yolo/workingdir/final/test/images/IMG_20240616_161929_jpg.rf.4f347e2b8e22504a598f58d496d2f732.jpg: 640x640 1 Thornapple, 9.6ms\n",
            "image 1534/1584 /content/drive/MyDrive/AyushVision/yolo/workingdir/final/test/images/IMG_20240616_161943_jpg.rf.867a9ee0586c5d1a87510a0b64b0bbfd.jpg: 640x640 1 Thornapple, 7.3ms\n",
            "image 1535/1584 /content/drive/MyDrive/AyushVision/yolo/workingdir/final/test/images/IMG_20240616_162012_jpg.rf.7e3bf8f295145b9f31f49e32e172f059.jpg: 640x640 1 Thornapple, 7.3ms\n",
            "image 1536/1584 /content/drive/MyDrive/AyushVision/yolo/workingdir/final/test/images/IMG_20240616_162102_jpg.rf.b91a09076741981b2d5bc7fd0a11a85b.jpg: 640x640 1 Thornapple, 9.9ms\n",
            "image 1537/1584 /content/drive/MyDrive/AyushVision/yolo/workingdir/final/test/images/IMG_20240616_162110_jpg.rf.f925d9c5756a19103f89b1e25a91be6e.jpg: 640x640 1 Thornapple, 7.4ms\n",
            "image 1538/1584 /content/drive/MyDrive/AyushVision/yolo/workingdir/final/test/images/IMG_20240616_162252_1_jpg.rf.e7af79a211d4af8f926e1328517a5218.jpg: 640x640 1 Thornapple, 9.0ms\n",
            "image 1539/1584 /content/drive/MyDrive/AyushVision/yolo/workingdir/final/test/images/IMG_20240616_195612_jpg.rf.d2b0e7abf7d80454d584ba4b05f56469.jpg: 640x640 1 Thornapple, 8.6ms\n",
            "image 1540/1584 /content/drive/MyDrive/AyushVision/yolo/workingdir/final/test/images/IMG_20240616_195629_jpg.rf.65ba266fb8f22ef8dbcedaef5754958d.jpg: 640x640 1 Indian_Mallow, 8.8ms\n",
            "image 1541/1584 /content/drive/MyDrive/AyushVision/yolo/workingdir/final/test/images/IMG_20240616_195718_jpg.rf.d335e76b5a1b4cf04e030b047c737ac0.jpg: 640x640 1 Thornapple, 9.7ms\n",
            "image 1542/1584 /content/drive/MyDrive/AyushVision/yolo/workingdir/final/test/images/IMG_20240616_195835_jpg.rf.4270e99b54e4d8902fd90a42c17f564d.jpg: 640x640 1 Thornapple, 8.5ms\n",
            "image 1543/1584 /content/drive/MyDrive/AyushVision/yolo/workingdir/final/test/images/IMG_20240616_195932_jpg.rf.531c5e3154d9aef8c9683a9b80231c81.jpg: 640x640 1 Thornapple, 9.7ms\n",
            "image 1544/1584 /content/drive/MyDrive/AyushVision/yolo/workingdir/final/test/images/IMG_20240616_200006_jpg.rf.7758547eda844e46399ecd799ebeaf68.jpg: 640x640 1 Ringworm_plant, 1 Thornapple, 9.9ms\n",
            "image 1545/1584 /content/drive/MyDrive/AyushVision/yolo/workingdir/final/test/images/IMG_20240616_200147_jpg.rf.1315f23cca27fa26ab61b1286e0567f4.jpg: 640x640 1 Thornapple, 7.3ms\n",
            "image 1546/1584 /content/drive/MyDrive/AyushVision/yolo/workingdir/final/test/images/IMG_20240616_200305_jpg.rf.6517e1907e0025be134ee357cb6d371c.jpg: 640x640 1 Thornapple, 8.5ms\n",
            "image 1547/1584 /content/drive/MyDrive/AyushVision/yolo/workingdir/final/test/images/IMG_20240616_200344_jpg.rf.d2d4bae098c19c70b7e4492388e985c2.jpg: 640x640 1 Thornapple, 8.2ms\n",
            "image 1548/1584 /content/drive/MyDrive/AyushVision/yolo/workingdir/final/test/images/IMG_20240616_200551_jpg.rf.04ce3732e8ee98ef25c23bb6ca9211aa.jpg: 640x640 1 Thornapple, 12.0ms\n",
            "image 1549/1584 /content/drive/MyDrive/AyushVision/yolo/workingdir/final/test/images/IMG_20240616_200707_jpg.rf.ad8a96667baffc823254e99974fd9484.jpg: 640x640 1 Thornapple, 10.3ms\n",
            "image 1550/1584 /content/drive/MyDrive/AyushVision/yolo/workingdir/final/test/images/IMG_20240616_200827_jpg.rf.544fd27691ddbacb64d85d0f13457da7.jpg: 640x640 1 Thornapple, 10.0ms\n",
            "image 1551/1584 /content/drive/MyDrive/AyushVision/yolo/workingdir/final/test/images/IMG_20240616_201004_jpg.rf.ae9759748fd90e7d45fe5a8b1dd63a87.jpg: 640x640 1 Ringworm_plant, 8.8ms\n",
            "image 1552/1584 /content/drive/MyDrive/AyushVision/yolo/workingdir/final/test/images/IMG_20240616_201632_jpg.rf.46af844e77aacf6a8b3e7315d2fa2085.jpg: 640x640 1 Thornapple, 7.4ms\n",
            "image 1553/1584 /content/drive/MyDrive/AyushVision/yolo/workingdir/final/test/images/IMG_20240616_202035_1_jpg.rf.bf78d3992db7d20fefe8ce982f113005.jpg: 640x640 3 Thornapples, 11.8ms\n",
            "image 1554/1584 /content/drive/MyDrive/AyushVision/yolo/workingdir/final/test/images/IMG_20240616_202118_1_jpg.rf.255dfd08f6fe30547941300cd340d93e.jpg: 640x640 1 Thornapple, 9.1ms\n",
            "image 1555/1584 /content/drive/MyDrive/AyushVision/yolo/workingdir/final/test/images/IMG_20240616_202251_jpg.rf.011203f06a1b4517a29f1df1e63db078.jpg: 640x640 1 Thornapple, 10.1ms\n",
            "image 1556/1584 /content/drive/MyDrive/AyushVision/yolo/workingdir/final/test/images/IMG_20240718_124259_jpg.rf.6a09e23a10f547010a93e96c65155bf4.jpg: 640x640 1 Sleepy_plant, 9.1ms\n",
            "image 1557/1584 /content/drive/MyDrive/AyushVision/yolo/workingdir/final/test/images/IMG_20240718_124341_jpg.rf.15d86232951b2bc8aba2f76382a508ec.jpg: 640x640 1 Sleepy_plant, 7.4ms\n",
            "image 1558/1584 /content/drive/MyDrive/AyushVision/yolo/workingdir/final/test/images/IMG_20240718_124346_jpg.rf.d841d5a1d7186bf4fb09d6d61279377f.jpg: 640x640 2 Sleepy_plants, 11.4ms\n",
            "image 1559/1584 /content/drive/MyDrive/AyushVision/yolo/workingdir/final/test/images/IMG_20240718_124436_jpg.rf.d3a279322389448fb30b3498f2bac310.jpg: 640x640 2 Sleepy_plants, 8.9ms\n",
            "image 1560/1584 /content/drive/MyDrive/AyushVision/yolo/workingdir/final/test/images/IMG_20240718_124457_jpg.rf.b40995ed1d0e6ee0a032569630c3eeb8.jpg: 640x640 1 Sleepy_plant, 10.2ms\n",
            "image 1561/1584 /content/drive/MyDrive/AyushVision/yolo/workingdir/final/test/images/IMG_20240718_124622_jpg.rf.b3f736f123295a7edd0cc3cb5319881a.jpg: 640x640 1 Sleepy_plant, 10.1ms\n",
            "image 1562/1584 /content/drive/MyDrive/AyushVision/yolo/workingdir/final/test/images/IMG_20240718_124638_jpg.rf.3253daa549e690b9df6566446e347ef4.jpg: 640x640 1 Sleepy_plant, 8.9ms\n",
            "image 1563/1584 /content/drive/MyDrive/AyushVision/yolo/workingdir/final/test/images/IMG_20240718_124801_jpg.rf.227c53485150480c5f4c77bf0a55b790.jpg: 640x640 1 Sleepy_plant, 7.8ms\n",
            "image 1564/1584 /content/drive/MyDrive/AyushVision/yolo/workingdir/final/test/images/IMG_20240718_124810_1_jpg.rf.6df4ffb94f4571ff835c3325901740cb.jpg: 640x640 2 Sleepy_plants, 10.8ms\n",
            "image 1565/1584 /content/drive/MyDrive/AyushVision/yolo/workingdir/final/test/images/IMG_20240718_124949_jpg.rf.65002eccc9dbb82daf67bd02420da8db.jpg: 640x640 1 Sleepy_plant, 9.1ms\n",
            "image 1566/1584 /content/drive/MyDrive/AyushVision/yolo/workingdir/final/test/images/IMG_20240718_164812_jpg.rf.c35ab8ec17485c3158431c9d88f8f8fc.jpg: 640x640 1 Sleepy_plant, 8.2ms\n",
            "image 1567/1584 /content/drive/MyDrive/AyushVision/yolo/workingdir/final/test/images/IMG_20240718_164828_jpg.rf.8c0910900587c8bac97bf506c7638225.jpg: 640x640 2 Sleepy_plants, 10.6ms\n",
            "image 1568/1584 /content/drive/MyDrive/AyushVision/yolo/workingdir/final/test/images/IMG_20240718_164832_jpg.rf.a160eba4a8ffa0e8f43f446677291354.jpg: 640x640 1 Sleepy_plant, 11.1ms\n",
            "image 1569/1584 /content/drive/MyDrive/AyushVision/yolo/workingdir/final/test/images/IMG_20240718_164841_jpg.rf.18c3659b39c6e344fdc7a1800bb082d7.jpg: 640x640 1 Sleepy_plant, 9.9ms\n",
            "image 1570/1584 /content/drive/MyDrive/AyushVision/yolo/workingdir/final/test/images/IMG_20240718_164844_jpg.rf.c0b513bc2fa26fe504715a052531b05b.jpg: 640x640 1 Sleepy_plant, 10.0ms\n",
            "image 1571/1584 /content/drive/MyDrive/AyushVision/yolo/workingdir/final/test/images/IMG_20240718_164919_jpg.rf.2426b8c6e23e11c271cc283c9cf52f6d.jpg: 640x640 1 Sleepy_plant, 9.9ms\n",
            "image 1572/1584 /content/drive/MyDrive/AyushVision/yolo/workingdir/final/test/images/IMG_20240718_164932_1_jpg.rf.364f7e6935555901e200db5dc46cdf44.jpg: 640x640 1 Sleepy_plant, 7.5ms\n",
            "image 1573/1584 /content/drive/MyDrive/AyushVision/yolo/workingdir/final/test/images/IMG_20240718_165033_1_jpg.rf.496bc5594556967eb9ccfcf1396144b3.jpg: 640x640 3 Sleepy_plants, 7.3ms\n",
            "image 1574/1584 /content/drive/MyDrive/AyushVision/yolo/workingdir/final/test/images/IMG_20240718_165052_jpg.rf.fb6bd65845a2c83ec2d18775878fe8bf.jpg: 640x640 1 Sleepy_plant, 7.4ms\n",
            "image 1575/1584 /content/drive/MyDrive/AyushVision/yolo/workingdir/final/test/images/IMG_20240718_165100_jpg.rf.002c44460252148ea44fcf7da23967c7.jpg: 640x640 1 Sleepy_plant, 7.3ms\n",
            "image 1576/1584 /content/drive/MyDrive/AyushVision/yolo/workingdir/final/test/images/IMG_20240718_165240_jpg.rf.b9740de159d9a1fa0ee2a5ced171ad6c.jpg: 640x640 1 Sleepy_plant, 9.8ms\n",
            "image 1577/1584 /content/drive/MyDrive/AyushVision/yolo/workingdir/final/test/images/IMG_20240718_165243_jpg.rf.66883d760c9eb48e0246adc7a9436c5d.jpg: 640x640 1 Sleepy_plant, 8.1ms\n",
            "image 1578/1584 /content/drive/MyDrive/AyushVision/yolo/workingdir/final/test/images/gen_IMG20240610101814_png.rf.2b25963909eb068fcb3d686ad89e1a9f.jpg: 640x640 1 Turmeric, 10.9ms\n",
            "image 1579/1584 /content/drive/MyDrive/AyushVision/yolo/workingdir/final/test/images/gen_IMG20240615213125_png.rf.d3bb14ae8b03f579ac92e63e94e15f9d.jpg: 640x640 2 Turmerics, 7.6ms\n",
            "image 1580/1584 /content/drive/MyDrive/AyushVision/yolo/workingdir/final/test/images/leaves_Caster_212-jpg_jpg.rf.7756b738efdce27e02feb15d6b02176a.jpg: 640x640 1 Caster, 7.3ms\n",
            "image 1581/1584 /content/drive/MyDrive/AyushVision/yolo/workingdir/final/test/images/leaves_Caster_218-jpg_jpg.rf.6490cf73b3deb975f730ad5a4218fa74.jpg: 640x640 1 Caster, 8.0ms\n",
            "image 1582/1584 /content/drive/MyDrive/AyushVision/yolo/workingdir/final/test/images/leaves_Cinnamon_115-jpg_jpg.rf.f8e8a72b6ccedfdd028eb2caaa8a10d4.jpg: 640x640 1 Cinnamon, 10.0ms\n",
            "image 1583/1584 /content/drive/MyDrive/AyushVision/yolo/workingdir/final/test/images/leaves_ThornApple_311-jpg_jpg.rf.1829aa951509ab7ae02d163081d3a279.jpg: 640x640 1 Oregano, 10.0ms\n",
            "image 1584/1584 /content/drive/MyDrive/AyushVision/yolo/workingdir/final/test/images/leaves_ThornApple_369-jpg_jpg.rf.6c90a8207d3897d092b988ccd631438b.jpg: 640x640 (no detections), 9.9ms\n",
            "Speed: 2.2ms preprocess, 8.1ms inference, 1.5ms postprocess per image at shape (1, 3, 640, 640)\n",
            "Results saved to \u001b[1mruns/detect/predict2\u001b[0m\n"
          ]
        }
      ],
      "source": [
        "\n",
        "results=model.predict(source=f'/content/drive/MyDrive/AyushVision/yolo/workingdir/final/test/images',save=True)"
      ]
    },
    {
      "cell_type": "code",
      "execution_count": null,
      "metadata": {
        "id": "hB4kWph9xI05"
      },
      "outputs": [],
      "source": [
        "predicts=[]"
      ]
    },
    {
      "cell_type": "code",
      "source": [
        "for r in results:\n",
        "        boxes = r.boxes\n",
        "        masks = r.masks\n",
        "        probs = r.probs"
      ],
      "metadata": {
        "id": "zCY_C_UhBTG5"
      },
      "execution_count": null,
      "outputs": []
    },
    {
      "cell_type": "code",
      "source": [
        "image_files = [f for f in os.listdir(results[0].save_dir) if f.endswith(('.png', '.jpg', '.jpeg', '.bmp', '.tiff'))]\n",
        "\n",
        "# Set the number of images per row\n",
        "images_per_row = 10\n",
        "\n",
        "# Calculate the number of rows needed\n",
        "n_rows = len(image_files) // images_per_row + int(len(image_files) % images_per_row > 0)\n",
        "\n",
        "# Create a figure with the necessary number of subplots\n",
        "fig, axs = plt.subplots(n_rows, images_per_row, figsize=(20, n_rows * 2))\n",
        "\n",
        "# Flatten the axes array for easy iteration (in case of multiple rows)\n",
        "axs = axs.flatten()\n",
        "\n",
        "# Loop through the images and plot them\n",
        "for i, img_file in enumerate(image_files):\n",
        "    # Open the image\n",
        "    img = Image.open(os.path.join(image_folder, img_file))\n",
        "\n",
        "    # Display the image in the grid\n",
        "    axs[i].imshow(img)\n",
        "\n",
        "    # Turn off the axis labels\n",
        "    axs[i].axis('off')\n",
        "\n",
        "    # Set the filename as the title (use `splitext` to remove the file extension)\n",
        "    axs[i].set_title(os.path.splitext(img_file)[0], fontsize=8)\n",
        "\n",
        "# Hide any remaining subplots (if the number of images is less than the number of subplots)\n",
        "for i in range(len(image_files), len(axs)):\n",
        "    axs[i].axis('off')\n",
        "\n",
        "# Adjust layout\n",
        "plt.tight_layout()\n",
        "plt.show()"
      ],
      "metadata": {
        "id": "MIiGKLoF_F1g"
      },
      "execution_count": null,
      "outputs": []
    },
    {
      "cell_type": "code",
      "execution_count": null,
      "metadata": {
        "id": "_gWIS5rDx1Fd"
      },
      "outputs": [],
      "source": [
        "# for file in os.listdir(results[0].save_dir):\n",
        "#   if os.path.isfile(f\"{results[0].save_dir}/{file}\"):\n",
        "#     blob = bucket.blob(f\"{storageLocation}/predict/{file}\")\n",
        "#     blob.upload_from_filename(f\"{results[0].save_dir}/{file}\")\n",
        "#     blob.make_public()\n",
        "#     predicts.append(blob.public_url)"
      ]
    },
    {
      "cell_type": "code",
      "execution_count": null,
      "metadata": {
        "id": "34-zsVB32uF8"
      },
      "outputs": [],
      "source": [
        "# today_ref.collection('Predict').add({\n",
        "#     'files':predicts\n",
        "# })"
      ]
    },
    {
      "cell_type": "markdown",
      "metadata": {
        "id": "IQWY9Bqbn7Hq"
      },
      "source": [
        "### Export Model"
      ]
    },
    {
      "cell_type": "code",
      "execution_count": 210,
      "metadata": {
        "id": "YezH7LaIn7Hq",
        "outputId": "b33248e6-5a95-4d74-e1d2-b8c2e68ffe9d",
        "colab": {
          "base_uri": "https://localhost:8080/",
          "height": 281
        }
      },
      "outputs": [
        {
          "output_type": "stream",
          "name": "stdout",
          "text": [
            "Ultralytics YOLOv8.2.92 🚀 Python-3.10.12 torch-2.4.0+cu121 CPU (Intel Xeon 2.00GHz)\n",
            "\n",
            "\u001b[34m\u001b[1mPyTorch:\u001b[0m starting from '/content/drive/MyDrive/AyushVision/yolo/training/13_09_2024/031726/leaves/runs/train50/weights/best.pt' with input shape (1, 3, 640, 640) BCHW and output shape(s) (1, 36, 8400) (6.0 MB)\n",
            "\n",
            "\u001b[34m\u001b[1mONNX:\u001b[0m starting export with onnx 1.16.2 opset 19...\n",
            "\u001b[34m\u001b[1mONNX:\u001b[0m slimming with onnxslim 0.1.32...\n",
            "\u001b[34m\u001b[1mONNX:\u001b[0m export success ✅ 18.8s, saved as '/content/drive/MyDrive/AyushVision/yolo/training/13_09_2024/031726/leaves/runs/train50/weights/best.onnx' (11.6 MB)\n",
            "\n",
            "Export complete (20.4s)\n",
            "Results saved to \u001b[1m/content/drive/MyDrive/AyushVision/yolo/training/13_09_2024/031726/leaves/runs/train50/weights\u001b[0m\n",
            "Predict:         yolo predict task=detect model=/content/drive/MyDrive/AyushVision/yolo/training/13_09_2024/031726/leaves/runs/train50/weights/best.onnx imgsz=640  \n",
            "Validate:        yolo val task=detect model=/content/drive/MyDrive/AyushVision/yolo/training/13_09_2024/031726/leaves/runs/train50/weights/best.onnx imgsz=640 data=/content/drive/MyDrive/AyushVision/yolo/workingdir/final/data.yaml  \n",
            "Visualize:       https://netron.app\n"
          ]
        },
        {
          "output_type": "execute_result",
          "data": {
            "text/plain": [
              "'/content/drive/MyDrive/AyushVision/yolo/training/13_09_2024/031726/leaves/runs/train50/weights/best.onnx'"
            ],
            "application/vnd.google.colaboratory.intrinsic+json": {
              "type": "string"
            }
          },
          "metadata": {},
          "execution_count": 210
        }
      ],
      "source": [
        "format='onnx'\n",
        "model.export(format=format,keras=True,dynamic=True,simplify=True,)"
      ]
    },
    {
      "cell_type": "code",
      "source": [
        "model.export(format='saved_model',keras=True,simplify=True)"
      ],
      "metadata": {
        "id": "G5nSuPKUPYHU",
        "outputId": "626632b2-b15d-4dff-83c7-d96cf77c1c10",
        "colab": {
          "base_uri": "https://localhost:8080/",
          "height": 350
        }
      },
      "execution_count": 211,
      "outputs": [
        {
          "output_type": "stream",
          "name": "stdout",
          "text": [
            "Ultralytics YOLOv8.2.92 🚀 Python-3.10.12 torch-2.4.0+cu121 CPU (Intel Xeon 2.00GHz)\n",
            "\n",
            "\u001b[34m\u001b[1mPyTorch:\u001b[0m starting from '/content/drive/MyDrive/AyushVision/yolo/training/13_09_2024/031726/leaves/runs/train50/weights/best.pt' with input shape (1, 3, 640, 640) BCHW and output shape(s) (1, 36, 8400) (6.0 MB)\n",
            "\n",
            "\u001b[34m\u001b[1mTensorFlow SavedModel:\u001b[0m starting export with tensorflow 2.17.0...\n",
            "\n",
            "\u001b[34m\u001b[1mONNX:\u001b[0m starting export with onnx 1.16.2 opset 19...\n",
            "\u001b[34m\u001b[1mONNX:\u001b[0m slimming with onnxslim 0.1.32...\n",
            "\u001b[34m\u001b[1mONNX:\u001b[0m export success ✅ 1.4s, saved as '/content/drive/MyDrive/AyushVision/yolo/training/13_09_2024/031726/leaves/runs/train50/weights/best.onnx' (11.7 MB)\n",
            "\u001b[34m\u001b[1mTensorFlow SavedModel:\u001b[0m starting TFLite export with onnx2tf 1.22.3...\n",
            "\u001b[34m\u001b[1mTensorFlow SavedModel:\u001b[0m export success ✅ 132.0s, saved as '/content/drive/MyDrive/AyushVision/yolo/training/13_09_2024/031726/leaves/runs/train50/weights/best_saved_model' (29.3 MB)\n",
            "\n",
            "Export complete (133.4s)\n",
            "Results saved to \u001b[1m/content/drive/MyDrive/AyushVision/yolo/training/13_09_2024/031726/leaves/runs/train50/weights\u001b[0m\n",
            "Predict:         yolo predict task=detect model=/content/drive/MyDrive/AyushVision/yolo/training/13_09_2024/031726/leaves/runs/train50/weights/best_saved_model imgsz=640  \n",
            "Validate:        yolo val task=detect model=/content/drive/MyDrive/AyushVision/yolo/training/13_09_2024/031726/leaves/runs/train50/weights/best_saved_model imgsz=640 data=/content/drive/MyDrive/AyushVision/yolo/workingdir/final/data.yaml  \n",
            "Visualize:       https://netron.app\n"
          ]
        },
        {
          "output_type": "execute_result",
          "data": {
            "text/plain": [
              "'/content/drive/MyDrive/AyushVision/yolo/training/13_09_2024/031726/leaves/runs/train50/weights/best_saved_model'"
            ],
            "application/vnd.google.colaboratory.intrinsic+json": {
              "type": "string"
            }
          },
          "metadata": {},
          "execution_count": 211
        }
      ]
    },
    {
      "cell_type": "code",
      "source": [
        "model.export(format='tflite',keras=True,simplify=True)"
      ],
      "metadata": {
        "id": "TfheWxPVSFYk",
        "outputId": "fcdba65e-2a37-4b8f-e206-d6519114781d",
        "colab": {
          "base_uri": "https://localhost:8080/",
          "height": 403
        }
      },
      "execution_count": 212,
      "outputs": [
        {
          "output_type": "stream",
          "name": "stdout",
          "text": [
            "Ultralytics YOLOv8.2.92 🚀 Python-3.10.12 torch-2.4.0+cu121 CPU (Intel Xeon 2.00GHz)\n",
            "\n",
            "\u001b[34m\u001b[1mPyTorch:\u001b[0m starting from '/content/drive/MyDrive/AyushVision/yolo/training/13_09_2024/031726/leaves/runs/train50/weights/best.pt' with input shape (1, 3, 640, 640) BCHW and output shape(s) (1, 36, 8400) (6.0 MB)\n",
            "\n",
            "\u001b[34m\u001b[1mTensorFlow SavedModel:\u001b[0m starting export with tensorflow 2.17.0...\n",
            "\n",
            "\u001b[34m\u001b[1mONNX:\u001b[0m starting export with onnx 1.16.2 opset 19...\n",
            "\u001b[34m\u001b[1mONNX:\u001b[0m slimming with onnxslim 0.1.32...\n",
            "\u001b[34m\u001b[1mONNX:\u001b[0m export success ✅ 1.4s, saved as '/content/drive/MyDrive/AyushVision/yolo/training/13_09_2024/031726/leaves/runs/train50/weights/best.onnx' (11.8 MB)\n",
            "\u001b[34m\u001b[1mTensorFlow SavedModel:\u001b[0m starting TFLite export with onnx2tf 1.22.3...\n",
            "\u001b[34m\u001b[1mTensorFlow SavedModel:\u001b[0m export success ✅ 10.0s, saved as '/content/drive/MyDrive/AyushVision/yolo/training/13_09_2024/031726/leaves/runs/train50/weights/best_saved_model' (29.5 MB)\n",
            "\n",
            "\u001b[34m\u001b[1mTensorFlow Lite:\u001b[0m starting export with tensorflow 2.17.0...\n",
            "\u001b[34m\u001b[1mTensorFlow Lite:\u001b[0m export success ✅ 0.0s, saved as '/content/drive/MyDrive/AyushVision/yolo/training/13_09_2024/031726/leaves/runs/train50/weights/best_saved_model/best_float32.tflite' (11.7 MB)\n",
            "\n",
            "Export complete (11.5s)\n",
            "Results saved to \u001b[1m/content/drive/MyDrive/AyushVision/yolo/training/13_09_2024/031726/leaves/runs/train50/weights\u001b[0m\n",
            "Predict:         yolo predict task=detect model=/content/drive/MyDrive/AyushVision/yolo/training/13_09_2024/031726/leaves/runs/train50/weights/best_saved_model/best_float32.tflite imgsz=640  \n",
            "Validate:        yolo val task=detect model=/content/drive/MyDrive/AyushVision/yolo/training/13_09_2024/031726/leaves/runs/train50/weights/best_saved_model/best_float32.tflite imgsz=640 data=/content/drive/MyDrive/AyushVision/yolo/workingdir/final/data.yaml  \n",
            "Visualize:       https://netron.app\n"
          ]
        },
        {
          "output_type": "execute_result",
          "data": {
            "text/plain": [
              "'/content/drive/MyDrive/AyushVision/yolo/training/13_09_2024/031726/leaves/runs/train50/weights/best_saved_model/best_float32.tflite'"
            ],
            "application/vnd.google.colaboratory.intrinsic+json": {
              "type": "string"
            }
          },
          "metadata": {},
          "execution_count": 212
        }
      ]
    },
    {
      "cell_type": "code",
      "execution_count": 213,
      "metadata": {
        "id": "v5HGcR1t5xnO"
      },
      "outputs": [],
      "source": [
        "blob = bucket.blob(f\"{storageLocation}/model/best.onnx\")\n",
        "blob.upload_from_filename(f\"{today_work_dirctory}/leaves/runs/{name}/weights/best.onnx\")\n",
        "blob.make_public()"
      ]
    },
    {
      "cell_type": "code",
      "source": [
        "blobsavedmodel = bucket.blob(f\"{storageLocation}/model/best_saved_model.pb\")\n",
        "blobsavedmodel.upload_from_filename(f\"{today_work_dirctory}/leaves/runs/{name}/weights/best_saved_model/saved_model.pb\")\n",
        "blobsavedmodel.make_public()"
      ],
      "metadata": {
        "id": "-ENAxGDwRvtX"
      },
      "execution_count": 214,
      "outputs": []
    },
    {
      "cell_type": "code",
      "source": [
        "blobtflite = bucket.blob(f\"{storageLocation}/model/best_float32.tflite\")\n",
        "blobtflite.upload_from_filename(f\"{today_work_dirctory}/leaves/runs/{name}/weights/best_saved_model/best_float32.tflite\")\n",
        "blobtflite.make_public()"
      ],
      "metadata": {
        "id": "NyWJiQ6hSQoe"
      },
      "execution_count": 215,
      "outputs": []
    },
    {
      "cell_type": "code",
      "execution_count": 216,
      "metadata": {
        "id": "Y0czVsQg5Kjr",
        "outputId": "ea8f94ab-e0a1-4a05-e96c-9ff9743d9482",
        "colab": {
          "base_uri": "https://localhost:8080/"
        }
      },
      "outputs": [
        {
          "output_type": "execute_result",
          "data": {
            "text/plain": [
              "(DatetimeWithNanoseconds(2024, 9, 13, 5, 56, 27, 957796, tzinfo=datetime.timezone.utc),\n",
              " <google.cloud.firestore_v1.document.DocumentReference at 0x7d47c46e4610>)"
            ]
          },
          "metadata": {},
          "execution_count": 216
        }
      ],
      "source": [
        "today_ref.collection('Model').add({\n",
        "    'format':format,\n",
        "    \"keras\":True,\n",
        "    \"dynamic\":True,\n",
        "    \"simplify\":True,\n",
        "    \"model\":blob.public_url,\n",
        "    \"tflite\":blobtflite.public_url,\n",
        "    \"save_model\":blobsavedmodel.public_url\n",
        "})"
      ]
    }
  ],
  "metadata": {
    "colab": {
      "provenance": [],
      "machine_shape": "hm",
      "gpuType": "T4",
      "include_colab_link": true
    },
    "kernelspec": {
      "display_name": "Python 3",
      "name": "python3"
    },
    "language_info": {
      "name": "python"
    },
    "accelerator": "GPU"
  },
  "nbformat": 4,
  "nbformat_minor": 0
}