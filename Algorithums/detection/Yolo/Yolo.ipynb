{
  "nbformat": 4,
  "nbformat_minor": 0,
  "metadata": {
    "colab": {
      "provenance": [],
      "include_colab_link": true
    },
    "kernelspec": {
      "name": "python3",
      "display_name": "Python 3"
    },
    "language_info": {
      "name": "python"
    }
  },
  "cells": [
    {
      "cell_type": "markdown",
      "metadata": {
        "id": "view-in-github",
        "colab_type": "text"
      },
      "source": [
        "<a href=\"https://colab.research.google.com/github/ThanuMahee12/ayush-vision/blob/yolo/Algorithums/detection/Yolo/Yolo.ipynb\" target=\"_parent\"><img src=\"https://colab.research.google.com/assets/colab-badge.svg\" alt=\"Open In Colab\"/></a>"
      ]
    },
    {
      "cell_type": "markdown",
      "source": [
        "# **YOLO**"
      ],
      "metadata": {
        "id": "1HeuguqWZKL0"
      }
    },
    {
      "cell_type": "code",
      "source": [
        "!pip install ultralytics"
      ],
      "metadata": {
        "id": "2mWDR1prS2h7"
      },
      "execution_count": null,
      "outputs": []
    },
    {
      "cell_type": "markdown",
      "source": [
        "## Imports"
      ],
      "metadata": {
        "id": "ZEdTZY-FSP4L"
      }
    },
    {
      "cell_type": "code",
      "execution_count": null,
      "metadata": {
        "id": "8PdfvACsZGEl"
      },
      "outputs": [],
      "source": [
        "from ultralytics import YOLO"
      ]
    },
    {
      "cell_type": "markdown",
      "source": [
        "### model Created"
      ],
      "metadata": {
        "id": "IyjRcMfETb69"
      }
    },
    {
      "cell_type": "code",
      "source": [
        "# pre Yolo model create from scrach but weights loaded\n",
        "model = YOLO('yolov8n.yaml').load('yolov8n.pt')"
      ],
      "metadata": {
        "id": "JVWMTM7fTefh"
      },
      "execution_count": null,
      "outputs": []
    },
    {
      "cell_type": "markdown",
      "source": [
        "### Model trained"
      ],
      "metadata": {
        "id": "F6rdYgS-TmEW"
      }
    },
    {
      "cell_type": "code",
      "source": [
        "data=\"coco8.yaml\";\n",
        "epochs=10\n",
        "imageSize=640"
      ],
      "metadata": {
        "id": "_Q5J4BnsTrKG"
      },
      "execution_count": null,
      "outputs": []
    },
    {
      "cell_type": "code",
      "source": [
        "results = model.train(data=data, epochs=epochs, imgsz=imageSize)"
      ],
      "metadata": {
        "id": "8h-ikle5T1Zj"
      },
      "execution_count": null,
      "outputs": []
    },
    {
      "cell_type": "markdown",
      "source": [
        "### validation"
      ],
      "metadata": {
        "id": "qiCEwUyLT7VT"
      }
    },
    {
      "cell_type": "code",
      "source": [
        "modelval='path/to/best.pt'"
      ],
      "metadata": {
        "id": "zRHhGhe_T4V7"
      },
      "execution_count": null,
      "outputs": []
    },
    {
      "cell_type": "markdown",
      "source": [
        "### Model Result"
      ],
      "metadata": {
        "id": "mJ0W39HNUC2j"
      }
    },
    {
      "cell_type": "code",
      "source": [
        "\n",
        "model = YOLO('path/to/best.pt')  # load a custom trained model\n",
        "metrics = model.val()  # no arguments needed, dataset and settings remembered\n",
        "metrics.box.map    # map50-95\n",
        "metrics.box.map50  # map50\n",
        "metrics.box.map75  # map75\n",
        "metrics.box.maps"
      ],
      "metadata": {
        "id": "UCBGRXASUGhH"
      },
      "execution_count": null,
      "outputs": []
    },
    {
      "cell_type": "markdown",
      "source": [
        "###  Model Predict"
      ],
      "metadata": {
        "id": "juvRaAupUYMT"
      }
    },
    {
      "cell_type": "code",
      "source": [
        "model = YOLO(modelval)  # load a custom model"
      ],
      "metadata": {
        "id": "lEiX9u5fUToJ"
      },
      "execution_count": null,
      "outputs": []
    },
    {
      "cell_type": "code",
      "source": [
        "# Predict with the model\n",
        "results = model('https://ultralytics.com/images/bus.jpg')  #"
      ],
      "metadata": {
        "id": "XgF__gqOUhxq"
      },
      "execution_count": null,
      "outputs": []
    },
    {
      "cell_type": "markdown",
      "source": [
        "### Export Model"
      ],
      "metadata": {
        "id": "6oJhaUcZUltY"
      }
    },
    {
      "cell_type": "code",
      "source": [
        "format='onnx'\n",
        "model = YOLO(modelval)  # load a custom trained model\n",
        "\n",
        "# Export the model\n",
        "model.export(format=format)"
      ],
      "metadata": {
        "id": "CIhqjPSnU7CA"
      },
      "execution_count": null,
      "outputs": []
    }
  ]
}