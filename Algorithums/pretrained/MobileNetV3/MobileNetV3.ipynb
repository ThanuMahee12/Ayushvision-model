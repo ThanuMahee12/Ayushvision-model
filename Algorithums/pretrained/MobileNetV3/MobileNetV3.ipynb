{
  "cells": [
    {
      "cell_type": "markdown",
      "metadata": {
        "id": "view-in-github",
        "colab_type": "text"
      },
      "source": [
        "<a href=\"https://colab.research.google.com/github/ThanuMahee12/ayush-vision/blob/mobile-net/Algorithums/pretrained/MobileNetV3/MobileNetV3.ipynb\" target=\"_parent\"><img src=\"https://colab.research.google.com/assets/colab-badge.svg\" alt=\"Open In Colab\"/></a>"
      ]
    },
    {
      "cell_type": "markdown",
      "metadata": {
        "id": "2bowAAElvCDW"
      },
      "source": [
        "# MobileNet v3"
      ]
    },
    {
      "cell_type": "markdown",
      "source": [
        "## Imports"
      ],
      "metadata": {
        "id": "8eTv_O1kvJwv"
      }
    },
    {
      "cell_type": "markdown",
      "source": [
        "### Collab Imports"
      ],
      "metadata": {
        "id": "nB3vvwLyvkwX"
      }
    },
    {
      "cell_type": "code",
      "source": [
        "from google.colab import files\n",
        "from google.colab import drive"
      ],
      "metadata": {
        "id": "bkWRg7-mvI4B"
      },
      "execution_count": null,
      "outputs": []
    },
    {
      "cell_type": "markdown",
      "source": [
        "### Data Set Handle Imports"
      ],
      "metadata": {
        "id": "JaK0JNT6vxfo"
      }
    },
    {
      "cell_type": "code",
      "source": [
        "import zipfile"
      ],
      "metadata": {
        "id": "sqFrAOSGv9EC"
      },
      "execution_count": null,
      "outputs": []
    },
    {
      "cell_type": "markdown",
      "source": [
        "### Default Nessary Imports"
      ],
      "metadata": {
        "id": "qNIqJkA0wK6i"
      }
    },
    {
      "cell_type": "code",
      "source": [
        "import numpy as np\n",
        "import pandas as pd\n",
        "import matplotlib.pyplot as plt\n",
        "import os"
      ],
      "metadata": {
        "id": "GFVIoWAswFdb"
      },
      "execution_count": null,
      "outputs": []
    },
    {
      "cell_type": "markdown",
      "source": [
        "### Tensorflow Imports"
      ],
      "metadata": {
        "id": "Jsz1l9cewVxo"
      }
    },
    {
      "cell_type": "code",
      "source": [
        "import os\n",
        "import tensorflow as tf\n",
        "from tensorflow.keras.utils import image_dataset_from_directory\n",
        "from tensorflow.keras.preprocessing import image\n",
        "from tensorflow.keras.optimizers import Adam\n",
        "from tensorflow.keras.models import Sequential\n",
        "from tensorflow.keras.applications import MobileNetV3Large\n",
        "from tensorflow.keras.layers import Dense,Conv2D, MaxPooling2D, Flatten,GlobalAveragePooling2D"
      ],
      "metadata": {
        "id": "1870sUacwaM2"
      },
      "execution_count": null,
      "outputs": []
    },
    {
      "cell_type": "markdown",
      "source": [
        "## Variables"
      ],
      "metadata": {
        "id": "ehXo5c_80EOM"
      }
    },
    {
      "cell_type": "markdown",
      "source": [
        "### Path variables"
      ],
      "metadata": {
        "id": "y9ZRN4Tx0LCL"
      }
    },
    {
      "cell_type": "code",
      "source": [
        "dataset_zip_path=\"\" # zip path in drive the dataset\n",
        "extract_folder_path=\"\" # when We extract the dataset"
      ],
      "metadata": {
        "id": "r7056y250H0i"
      },
      "execution_count": null,
      "outputs": []
    },
    {
      "cell_type": "code",
      "source": [
        "dataset_dir='' #datasetbase dirctory"
      ],
      "metadata": {
        "id": "EMEcZoJt3J6E"
      },
      "execution_count": null,
      "outputs": []
    },
    {
      "cell_type": "code",
      "source": [
        "dataset_train_dir=os.path.join(dataset_dir,'train')\n",
        "dataset_test_dir=os.path.join(dataset_dir,'val')\n",
        "dataset_val_dir=os.path.join(dataset_dir,'val')"
      ],
      "metadata": {
        "id": "MEP4zYoc3W0y"
      },
      "execution_count": null,
      "outputs": []
    },
    {
      "cell_type": "markdown",
      "source": [
        "### Genrator Variable"
      ],
      "metadata": {
        "id": "ifz4Gosy7Jf0"
      }
    },
    {
      "cell_type": "code",
      "source": [
        "rescale=1/255"
      ],
      "metadata": {
        "id": "WxzxLjTJ7N2R"
      },
      "execution_count": null,
      "outputs": []
    },
    {
      "cell_type": "markdown",
      "source": [
        "### Configration Variables"
      ],
      "metadata": {
        "id": "noQZt9AT8s39"
      }
    },
    {
      "cell_type": "code",
      "source": [
        "target_size=()\n",
        "class_mode=''"
      ],
      "metadata": {
        "id": "0M5APq8U8wdj"
      },
      "execution_count": null,
      "outputs": []
    },
    {
      "cell_type": "markdown",
      "source": [
        "### Model Variables"
      ],
      "metadata": {
        "id": "Dxx_ewkNvGEP"
      }
    },
    {
      "cell_type": "markdown",
      "source": [
        "#### Number If Classes"
      ],
      "metadata": {
        "id": "xIv_Hh05vJ-M"
      }
    },
    {
      "cell_type": "code",
      "source": [
        "no_of_classes=32"
      ],
      "metadata": {
        "id": "1rVO9kLQvNF7"
      },
      "execution_count": null,
      "outputs": []
    },
    {
      "cell_type": "markdown",
      "source": [
        "## Envirumentatl Setup"
      ],
      "metadata": {
        "id": "RAY9WhFNxI5l"
      }
    },
    {
      "cell_type": "markdown",
      "source": [
        "### Collab"
      ],
      "metadata": {
        "id": "k3TJCwCUxNiP"
      }
    },
    {
      "cell_type": "code",
      "source": [
        "drive.mount('/content/drive') # drive activate for Use"
      ],
      "metadata": {
        "id": "VKvkxb2xxP6P"
      },
      "execution_count": null,
      "outputs": []
    },
    {
      "cell_type": "code",
      "source": [
        "uploaded = files.upload() # for File uploaded"
      ],
      "metadata": {
        "id": "SMvUiH5HzTvU"
      },
      "execution_count": null,
      "outputs": []
    },
    {
      "cell_type": "markdown",
      "source": [
        "## Validations"
      ],
      "metadata": {
        "id": "8rPbqEgK1Wr8"
      }
    },
    {
      "cell_type": "code",
      "source": [
        "f'{dataset_zip_path} is Correct' if os.path.exists(dataset_zip_path) and os.path.isfile(dataset_zip_path) else f'{dataset_zip_path} is incorrect'"
      ],
      "metadata": {
        "id": "bXrcPUzL1aAc"
      },
      "execution_count": null,
      "outputs": []
    },
    {
      "cell_type": "code",
      "source": [
        "f'{extract_folder_path} is Correct' if !os.path.exists(extract_folder_path) and os.path.isdir(extract_folder_path) else f' {extract_folder_path} is incorrect'"
      ],
      "metadata": {
        "id": "vj_JGwAx2eZ7"
      },
      "execution_count": null,
      "outputs": []
    },
    {
      "cell_type": "code",
      "source": [
        "f'{dataset_train_dir} is Correct' if os.path.exists(dataset_train_dir) and os.path.isdir(dataset_train_dir) else f' {dataset_train_dir} is incorrect'\n"
      ],
      "metadata": {
        "id": "404OTbpS4ysB"
      },
      "execution_count": null,
      "outputs": []
    },
    {
      "cell_type": "code",
      "source": [
        "f'{dataset_test_dir} is Correct' if os.path.exists(dataset_test_dir) and os.path.isdir(dataset_train_dir) else f' {dataset_test_dir} is incorrect'\n"
      ],
      "metadata": {
        "id": "qg53pP8q5TxB"
      },
      "execution_count": null,
      "outputs": []
    },
    {
      "cell_type": "code",
      "source": [
        "f'{dataset_val_dir} is Correct' if os.path.exists(dataset_val_dir) and os.path.isdir(dataset_val_dir) else f' {dataset_val_dir} is incorrect'"
      ],
      "metadata": {
        "id": "2YeeG1CK5VaE"
      },
      "execution_count": null,
      "outputs": []
    },
    {
      "cell_type": "markdown",
      "source": [
        "## DataSet"
      ],
      "metadata": {
        "id": "3fTiill8zzef"
      }
    },
    {
      "cell_type": "code",
      "source": [
        "with zipfile.ZipFile(dataset_zip_path, 'r') as zip_ref:\n",
        "    zip_ref.extractall(extract_folder_path)                   #unzip Folder"
      ],
      "metadata": {
        "id": "n5KYiD--z2Tq"
      },
      "execution_count": null,
      "outputs": []
    },
    {
      "cell_type": "markdown",
      "source": [
        "### Image Genarator"
      ],
      "metadata": {
        "id": "I2BunOax5fWk"
      }
    },
    {
      "cell_type": "code",
      "source": [
        "train_data_genrator=image.ImageDataGenerator(rescale=rescale)"
      ],
      "metadata": {
        "id": "Wbnr0KTw6sOn"
      },
      "execution_count": null,
      "outputs": []
    },
    {
      "cell_type": "code",
      "source": [
        "test_data_genrator=image.ImageDataGenerator(rescale=rescale)"
      ],
      "metadata": {
        "id": "hsLpWRvK7U1X"
      },
      "execution_count": null,
      "outputs": []
    },
    {
      "cell_type": "code",
      "source": [
        "val_data_genrator=image.ImageDataGenerator(rescale=rescale)"
      ],
      "metadata": {
        "id": "XoTIixHF7XyY"
      },
      "execution_count": null,
      "outputs": []
    },
    {
      "cell_type": "markdown",
      "source": [
        "### Prepared Dataset"
      ],
      "metadata": {
        "id": "PxYUE9dG8__v"
      }
    },
    {
      "cell_type": "code",
      "source": [
        "train_ds_gen=train_data_genrator.flow_from_directory(\n",
        "    dataset_train_dir,\n",
        "    target_size=target_size,\n",
        "    class_mode=class_mode\n",
        ")\n",
        "val_ds_gen=val_data_genrator.flow_from_directory(\n",
        "    dataset_val_dir,\n",
        "    target_size=target_size,\n",
        "    class_mode=class_mode\n",
        ")\n",
        "\n",
        "test_ds_gen=test_data_genrator.flow_from_directory(\n",
        "    dataset_test_dir,\n",
        "    target_size=target_size,\n",
        "    class_mode=class_mode\n",
        ")"
      ],
      "metadata": {
        "id": "bnj4OQce9D9e"
      },
      "execution_count": null,
      "outputs": []
    },
    {
      "cell_type": "markdown",
      "source": [
        "## Model\n"
      ],
      "metadata": {
        "id": "aaWo1hLltAaS"
      }
    },
    {
      "cell_type": "markdown",
      "source": [
        "### Base Model MobileNetV3"
      ],
      "metadata": {
        "id": "exq_qfzttIhc"
      }
    },
    {
      "cell_type": "markdown",
      "source": [],
      "metadata": {
        "id": "SpSZnurvtIf6"
      }
    },
    {
      "cell_type": "code",
      "source": [
        "ayush_mobilenetV3_base=MobileNetV3Large()"
      ],
      "metadata": {
        "id": "Y7YWxKditGcq"
      },
      "execution_count": null,
      "outputs": []
    },
    {
      "cell_type": "markdown",
      "source": [
        "### Layers setup for Base Model"
      ],
      "metadata": {
        "id": "k20JYY3etkBS"
      }
    },
    {
      "cell_type": "code",
      "source": [
        "for layer in ayush_mobilenetV3_base.layers:\n",
        "    layer.trainable=False"
      ],
      "metadata": {
        "id": "TpS2tukutrxR"
      },
      "execution_count": null,
      "outputs": []
    },
    {
      "cell_type": "markdown",
      "source": [
        "### Final Model"
      ],
      "metadata": {
        "id": "3lO56BpGt2wa"
      }
    },
    {
      "cell_type": "code",
      "source": [
        "ayushVision_MobileNetV3_Model=Sequential([ayush_mobilenetV3_base])\n"
      ],
      "metadata": {
        "id": "GIdrUMvvt5B-"
      },
      "execution_count": null,
      "outputs": []
    },
    {
      "cell_type": "markdown",
      "source": [
        "#### Middle Layers"
      ],
      "metadata": {
        "id": "_Q4oSgBeuQxF"
      }
    },
    {
      "cell_type": "code",
      "source": [
        "ayushVision_MobileNetV3_Model.add(GlobalAveragePooling2D())"
      ],
      "metadata": {
        "id": "mJLXX6YEuPxa"
      },
      "execution_count": null,
      "outputs": []
    },
    {
      "cell_type": "markdown",
      "source": [
        "#### Last Layer"
      ],
      "metadata": {
        "id": "utS5sXR5uhVM"
      }
    },
    {
      "cell_type": "code",
      "source": [
        "ayushVision_MobileNetV3_Model.add(Dense(no_of_classes,activation='softmax'))"
      ],
      "metadata": {
        "id": "2fmSZDuyukgC"
      },
      "execution_count": null,
      "outputs": []
    },
    {
      "cell_type": "markdown",
      "source": [
        "## Model Compile"
      ],
      "metadata": {
        "id": "zEiEjznRvZem"
      }
    },
    {
      "cell_type": "markdown",
      "source": [
        "#### Optimizer"
      ],
      "metadata": {
        "id": "kA3tibbGvc50"
      }
    },
    {
      "cell_type": "code",
      "source": [
        "optimizer = Adam(learning_rate=0.001)"
      ],
      "metadata": {
        "id": "1sdUtwB2vf5b"
      },
      "execution_count": null,
      "outputs": []
    },
    {
      "cell_type": "markdown",
      "source": [
        "#### Compile"
      ],
      "metadata": {
        "id": "aaWBdoaQv6i8"
      }
    },
    {
      "cell_type": "markdown",
      "source": [
        "##### Variables"
      ],
      "metadata": {
        "id": "l3E3gVJfv9UR"
      }
    },
    {
      "cell_type": "code",
      "source": [
        "metrics=[\"accuracy\"]\n",
        "lossfn='categorical_crossentropy'"
      ],
      "metadata": {
        "id": "pn4gUOczwANx"
      },
      "execution_count": null,
      "outputs": []
    },
    {
      "cell_type": "code",
      "source": [
        "ayushVision_MobileNetV3_Model.compile(\n",
        "    optimizer=optimizer,\n",
        "    loss=lossfn,\n",
        "    metrics=metrics)"
      ],
      "metadata": {
        "id": "qGgqeXZQvuTS"
      },
      "execution_count": null,
      "outputs": []
    },
    {
      "cell_type": "markdown",
      "source": [
        "### Trainning"
      ],
      "metadata": {
        "id": "5UCcEs7iwfij"
      }
    },
    {
      "cell_type": "code",
      "source": [
        "epochs=10"
      ],
      "metadata": {
        "id": "FfNVPY1Vwpw8"
      },
      "execution_count": null,
      "outputs": []
    },
    {
      "cell_type": "code",
      "source": [
        "model_history=ayushVision_MobileNetV3_Model.fit(\n",
        "    train_ds_gen,\n",
        "    epochs=epochs,\n",
        "    validation_data=val_ds_gen)"
      ],
      "metadata": {
        "id": "Q19Al6Y-wipO"
      },
      "execution_count": null,
      "outputs": []
    },
    {
      "cell_type": "markdown",
      "source": [
        "### Evaluation"
      ],
      "metadata": {
        "id": "XVogOJoXxbEk"
      }
    },
    {
      "cell_type": "code",
      "source": [
        "test_loss, test_accuracy = model.evaluate(test_ds_gen)"
      ],
      "metadata": {
        "id": "9sCSzfRUxdor"
      },
      "execution_count": null,
      "outputs": []
    }
  ],
  "metadata": {
    "language_info": {
      "name": "python"
    },
    "colab": {
      "provenance": [],
      "include_colab_link": true
    },
    "kernelspec": {
      "name": "python3",
      "display_name": "Python 3"
    }
  },
  "nbformat": 4,
  "nbformat_minor": 0
}