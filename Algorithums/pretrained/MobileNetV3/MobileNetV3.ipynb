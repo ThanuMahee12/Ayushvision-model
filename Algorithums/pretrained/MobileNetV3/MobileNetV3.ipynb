{
  "cells": [
    {
      "cell_type": "markdown",
      "metadata": {
        "colab_type": "text",
        "id": "view-in-github"
      },
      "source": [
        "<a href=\"https://colab.research.google.com/github/ThanuMahee12/ayush-vision/blob/mobile-net/Algorithums/pretrained/MobileNetV3/MobileNetV3.ipynb\" target=\"_parent\"><img src=\"https://colab.research.google.com/assets/colab-badge.svg\" alt=\"Open In Colab\"/></a>"
      ]
    },
    {
      "cell_type": "markdown",
      "metadata": {
        "id": "2bowAAElvCDW"
      },
      "source": [
        "# MobileNet v3"
      ]
    },
    {
      "cell_type": "markdown",
      "metadata": {
        "id": "8eTv_O1kvJwv"
      },
      "source": [
        "## Imports"
      ]
    },
    {
      "cell_type": "markdown",
      "metadata": {
        "id": "nB3vvwLyvkwX"
      },
      "source": [
        "### Collab Imports"
      ]
    },
    {
      "cell_type": "code",
      "execution_count": null,
      "metadata": {
        "id": "bkWRg7-mvI4B"
      },
      "outputs": [],
      "source": [
        "from google.colab import drive"
      ]
    },
    {
      "cell_type": "markdown",
      "metadata": {
        "id": "qNIqJkA0wK6i"
      },
      "source": [
        "### Default Nessary Imports"
      ]
    },
    {
      "cell_type": "code",
      "execution_count": 1,
      "metadata": {
        "id": "GFVIoWAswFdb"
      },
      "outputs": [],
      "source": [
        "import numpy as np\n",
        "import pandas as pd\n",
        "import matplotlib.pyplot as plt\n",
        "import os"
      ]
    },
    {
      "cell_type": "markdown",
      "metadata": {
        "id": "Jsz1l9cewVxo"
      },
      "source": [
        "### Tensorflow Imports"
      ]
    },
    {
      "cell_type": "code",
      "execution_count": 2,
      "metadata": {
        "id": "1870sUacwaM2"
      },
      "outputs": [
        {
          "ename": "ModuleNotFoundError",
          "evalue": "No module named 'tensorflow'",
          "output_type": "error",
          "traceback": [
            "\u001b[1;31m---------------------------------------------------------------------------\u001b[0m",
            "\u001b[1;31mModuleNotFoundError\u001b[0m                       Traceback (most recent call last)",
            "Cell \u001b[1;32mIn[2], line 2\u001b[0m\n\u001b[0;32m      1\u001b[0m \u001b[38;5;28;01mimport\u001b[39;00m \u001b[38;5;21;01mos\u001b[39;00m\n\u001b[1;32m----> 2\u001b[0m \u001b[38;5;28;01mimport\u001b[39;00m \u001b[38;5;21;01mtensorflow\u001b[39;00m \u001b[38;5;28;01mas\u001b[39;00m \u001b[38;5;21;01mtf\u001b[39;00m\n\u001b[0;32m      3\u001b[0m \u001b[38;5;28;01mfrom\u001b[39;00m \u001b[38;5;21;01mtensorflow\u001b[39;00m\u001b[38;5;21;01m.\u001b[39;00m\u001b[38;5;21;01mkeras\u001b[39;00m\u001b[38;5;21;01m.\u001b[39;00m\u001b[38;5;21;01mutils\u001b[39;00m \u001b[38;5;28;01mimport\u001b[39;00m image_dataset_from_directory\n\u001b[0;32m      4\u001b[0m \u001b[38;5;28;01mfrom\u001b[39;00m \u001b[38;5;21;01mtensorflow\u001b[39;00m\u001b[38;5;21;01m.\u001b[39;00m\u001b[38;5;21;01mkeras\u001b[39;00m\u001b[38;5;21;01m.\u001b[39;00m\u001b[38;5;21;01mpreprocessing\u001b[39;00m \u001b[38;5;28;01mimport\u001b[39;00m image\n",
            "\u001b[1;31mModuleNotFoundError\u001b[0m: No module named 'tensorflow'"
          ]
        }
      ],
      "source": [
        "import os\n",
        "import tensorflow as tf\n",
        "from tensorflow.keras.utils import image_dataset_from_directory\n",
        "from tensorflow.keras.preprocessing import image\n",
        "from tensorflow.keras.optimizers import Adam\n",
        "from tensorflow.keras.models import Sequential\n",
        "from tensorflow.keras.applications import MobileNetV3Large\n",
        "from tensorflow.keras.layers import Dense,Conv2D, MaxPooling2D, Flatten,GlobalAveragePooling2D"
      ]
    },
    {
      "cell_type": "markdown",
      "metadata": {
        "id": "ehXo5c_80EOM"
      },
      "source": [
        "## Variables"
      ]
    },
    {
      "cell_type": "markdown",
      "metadata": {
        "id": "y9ZRN4Tx0LCL"
      },
      "source": [
        "### Path variables"
      ]
    },
    {
      "cell_type": "code",
      "execution_count": null,
      "metadata": {
        "id": "EMEcZoJt3J6E"
      },
      "outputs": [],
      "source": [
        "dataset_dir='' #datasetbase dirctory"
      ]
    },
    {
      "cell_type": "code",
      "execution_count": null,
      "metadata": {
        "id": "MEP4zYoc3W0y"
      },
      "outputs": [],
      "source": [
        "dataset_train_dir=os.path.join(dataset_dir,'train')\n",
        "dataset_test_dir=os.path.join(dataset_dir,'val')\n",
        "dataset_val_dir=os.path.join(dataset_dir,'val')"
      ]
    },
    {
      "cell_type": "markdown",
      "metadata": {
        "id": "ifz4Gosy7Jf0"
      },
      "source": [
        "### Genrator Variable"
      ]
    },
    {
      "cell_type": "code",
      "execution_count": null,
      "metadata": {
        "id": "WxzxLjTJ7N2R"
      },
      "outputs": [],
      "source": [
        "rescale=1/255"
      ]
    },
    {
      "cell_type": "markdown",
      "metadata": {
        "id": "noQZt9AT8s39"
      },
      "source": [
        "### Configration Variables"
      ]
    },
    {
      "cell_type": "code",
      "execution_count": null,
      "metadata": {
        "id": "0M5APq8U8wdj"
      },
      "outputs": [],
      "source": [
        "target_size=(224,224)\n",
        "class_mode='categorical'\n",
        "input_shape=(224,224,3)"
      ]
    },
    {
      "cell_type": "markdown",
      "metadata": {
        "id": "Dxx_ewkNvGEP"
      },
      "source": [
        "### Model Variables"
      ]
    },
    {
      "cell_type": "markdown",
      "metadata": {
        "id": "xIv_Hh05vJ-M"
      },
      "source": [
        "#### Number If Classes"
      ]
    },
    {
      "cell_type": "code",
      "execution_count": null,
      "metadata": {
        "id": "1rVO9kLQvNF7"
      },
      "outputs": [],
      "source": [
        "no_of_classes=32"
      ]
    },
    {
      "cell_type": "markdown",
      "metadata": {
        "id": "RAY9WhFNxI5l"
      },
      "source": [
        "## Envirumentatl Setup"
      ]
    },
    {
      "cell_type": "markdown",
      "metadata": {
        "id": "k3TJCwCUxNiP"
      },
      "source": [
        "### Collab"
      ]
    },
    {
      "cell_type": "code",
      "execution_count": null,
      "metadata": {
        "id": "VKvkxb2xxP6P"
      },
      "outputs": [],
      "source": [
        "drive.mount('/content/drive') # drive activate for Use"
      ]
    },
    {
      "cell_type": "markdown",
      "metadata": {
        "id": "8rPbqEgK1Wr8"
      },
      "source": [
        "## Validations"
      ]
    },
    {
      "cell_type": "code",
      "execution_count": null,
      "metadata": {
        "id": "404OTbpS4ysB"
      },
      "outputs": [],
      "source": [
        "f'{dataset_train_dir} is Correct' if os.path.exists(dataset_train_dir) and os.path.isdir(dataset_train_dir) else f' {dataset_train_dir} is incorrect'\n"
      ]
    },
    {
      "cell_type": "code",
      "execution_count": null,
      "metadata": {
        "id": "qg53pP8q5TxB"
      },
      "outputs": [],
      "source": [
        "f'{dataset_test_dir} is Correct' if os.path.exists(dataset_test_dir) and os.path.isdir(dataset_train_dir) else f' {dataset_test_dir} is incorrect'\n"
      ]
    },
    {
      "cell_type": "code",
      "execution_count": null,
      "metadata": {
        "id": "2YeeG1CK5VaE"
      },
      "outputs": [],
      "source": [
        "f'{dataset_val_dir} is Correct' if os.path.exists(dataset_val_dir) and os.path.isdir(dataset_val_dir) else f' {dataset_val_dir} is incorrect'"
      ]
    },
    {
      "cell_type": "markdown",
      "metadata": {
        "id": "3fTiill8zzef"
      },
      "source": [
        "## DataSet"
      ]
    },
    {
      "cell_type": "markdown",
      "metadata": {
        "id": "I2BunOax5fWk"
      },
      "source": [
        "### Image Genarator"
      ]
    },
    {
      "cell_type": "code",
      "execution_count": null,
      "metadata": {
        "id": "Wbnr0KTw6sOn"
      },
      "outputs": [],
      "source": [
        "train_data_genrator=image.ImageDataGenerator(rescale=rescale)"
      ]
    },
    {
      "cell_type": "code",
      "execution_count": null,
      "metadata": {
        "id": "hsLpWRvK7U1X"
      },
      "outputs": [],
      "source": [
        "test_data_genrator=image.ImageDataGenerator(rescale=rescale)"
      ]
    },
    {
      "cell_type": "code",
      "execution_count": null,
      "metadata": {
        "id": "XoTIixHF7XyY"
      },
      "outputs": [],
      "source": [
        "val_data_genrator=image.ImageDataGenerator(rescale=rescale)"
      ]
    },
    {
      "cell_type": "markdown",
      "metadata": {
        "id": "PxYUE9dG8__v"
      },
      "source": [
        "### Prepared Dataset"
      ]
    },
    {
      "cell_type": "code",
      "execution_count": null,
      "metadata": {
        "id": "bnj4OQce9D9e"
      },
      "outputs": [],
      "source": [
        "train_ds_gen=train_data_genrator.flow_from_directory(\n",
        "    dataset_train_dir,\n",
        "    target_size=target_size,\n",
        "    class_mode=class_mode\n",
        ")\n",
        "val_ds_gen=val_data_genrator.flow_from_directory(\n",
        "    dataset_val_dir,\n",
        "    target_size=target_size,\n",
        "    class_mode=class_mode\n",
        ")\n",
        "\n",
        "test_ds_gen=test_data_genrator.flow_from_directory(\n",
        "    dataset_test_dir,\n",
        "    target_size=target_size,\n",
        "    class_mode=class_mode\n",
        ")"
      ]
    },
    {
      "cell_type": "markdown",
      "metadata": {
        "id": "aaWo1hLltAaS"
      },
      "source": [
        "## Model\n"
      ]
    },
    {
      "cell_type": "markdown",
      "metadata": {
        "id": "exq_qfzttIhc"
      },
      "source": [
        "### Base Model MobileNetV3"
      ]
    },
    {
      "cell_type": "code",
      "execution_count": null,
      "metadata": {
        "id": "Y7YWxKditGcq"
      },
      "outputs": [],
      "source": [
        "ayush_mobilenetV3_base=MobileNetV3Large(input_shape=target_size,\n",
        "                       include_top=False,  # We don't want the dense layers on top\n",
        "                       weights='imagenet')"
      ]
    },
    {
      "cell_type": "markdown",
      "metadata": {
        "id": "k20JYY3etkBS"
      },
      "source": [
        "### Layers setup for Base Model"
      ]
    },
    {
      "cell_type": "code",
      "execution_count": null,
      "metadata": {
        "id": "TpS2tukutrxR"
      },
      "outputs": [],
      "source": [
        "for layer in ayush_mobilenetV3_base.layers:\n",
        "    layer.trainable=False"
      ]
    },
    {
      "cell_type": "markdown",
      "metadata": {
        "id": "3lO56BpGt2wa"
      },
      "source": [
        "### Final Model"
      ]
    },
    {
      "cell_type": "code",
      "execution_count": null,
      "metadata": {
        "id": "GIdrUMvvt5B-"
      },
      "outputs": [],
      "source": [
        "ayushVision_MobileNetV3_Model=Sequential([ayush_mobilenetV3_base])\n"
      ]
    },
    {
      "cell_type": "markdown",
      "metadata": {
        "id": "_Q4oSgBeuQxF"
      },
      "source": [
        "#### Middle Layers"
      ]
    },
    {
      "cell_type": "code",
      "execution_count": null,
      "metadata": {
        "id": "mJLXX6YEuPxa"
      },
      "outputs": [],
      "source": [
        "ayushVision_MobileNetV3_Model.add(GlobalAveragePooling2D())"
      ]
    },
    {
      "cell_type": "markdown",
      "metadata": {
        "id": "utS5sXR5uhVM"
      },
      "source": [
        "#### Last Layer"
      ]
    },
    {
      "cell_type": "code",
      "execution_count": null,
      "metadata": {
        "id": "2fmSZDuyukgC"
      },
      "outputs": [],
      "source": [
        "ayushVision_MobileNetV3_Model.add(Dense(no_of_classes,activation='softmax'))"
      ]
    },
    {
      "cell_type": "markdown",
      "metadata": {
        "id": "zEiEjznRvZem"
      },
      "source": [
        "## Model Compile"
      ]
    },
    {
      "cell_type": "markdown",
      "metadata": {
        "id": "kA3tibbGvc50"
      },
      "source": [
        "#### Optimizer"
      ]
    },
    {
      "cell_type": "code",
      "execution_count": null,
      "metadata": {
        "id": "1sdUtwB2vf5b"
      },
      "outputs": [],
      "source": [
        "optimizer = Adam(learning_rate=0.001)"
      ]
    },
    {
      "cell_type": "markdown",
      "metadata": {
        "id": "aaWBdoaQv6i8"
      },
      "source": [
        "#### Compile"
      ]
    },
    {
      "cell_type": "markdown",
      "metadata": {
        "id": "l3E3gVJfv9UR"
      },
      "source": [
        "##### Variables"
      ]
    },
    {
      "cell_type": "code",
      "execution_count": null,
      "metadata": {
        "id": "pn4gUOczwANx"
      },
      "outputs": [],
      "source": [
        "metrics=[\"accuracy\"]\n",
        "lossfn='categorical_crossentropy'"
      ]
    },
    {
      "cell_type": "code",
      "execution_count": null,
      "metadata": {
        "id": "qGgqeXZQvuTS"
      },
      "outputs": [],
      "source": [
        "ayushVision_MobileNetV3_Model.compile(\n",
        "    optimizer=optimizer,\n",
        "    loss=lossfn,\n",
        "    metrics=metrics)"
      ]
    },
    {
      "cell_type": "markdown",
      "metadata": {
        "id": "5UCcEs7iwfij"
      },
      "source": [
        "### Trainning"
      ]
    },
    {
      "cell_type": "code",
      "execution_count": null,
      "metadata": {
        "id": "FfNVPY1Vwpw8"
      },
      "outputs": [],
      "source": [
        "epochs=10"
      ]
    },
    {
      "cell_type": "code",
      "execution_count": null,
      "metadata": {
        "id": "Q19Al6Y-wipO"
      },
      "outputs": [],
      "source": [
        "model_history=ayushVision_MobileNetV3_Model.fit(\n",
        "    train_ds_gen,\n",
        "    epochs=epochs,\n",
        "    validation_data=val_ds_gen)"
      ]
    },
    {
      "cell_type": "markdown",
      "metadata": {
        "id": "XVogOJoXxbEk"
      },
      "source": [
        "### Evaluation"
      ]
    },
    {
      "cell_type": "code",
      "execution_count": null,
      "metadata": {
        "id": "9sCSzfRUxdor"
      },
      "outputs": [],
      "source": [
        "test_loss, test_accuracy = model.evaluate(test_ds_gen)"
      ]
    }
  ],
  "metadata": {
    "colab": {
      "include_colab_link": true,
      "provenance": []
    },
    "kernelspec": {
      "display_name": "Python 3",
      "name": "python3"
    },
    "language_info": {
      "codemirror_mode": {
        "name": "ipython",
        "version": 3
      },
      "file_extension": ".py",
      "mimetype": "text/x-python",
      "name": "python",
      "nbconvert_exporter": "python",
      "pygments_lexer": "ipython3",
      "version": "3.12.4"
    }
  },
  "nbformat": 4,
  "nbformat_minor": 0
}
