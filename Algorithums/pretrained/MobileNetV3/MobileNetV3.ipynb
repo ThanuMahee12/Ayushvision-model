{
  "cells": [
    {
      "cell_type": "markdown",
      "metadata": {
        "id": "view-in-github",
        "colab_type": "text"
      },
      "source": [
        "<a href=\"https://colab.research.google.com/github/ThanuMahee12/ayush-vision-idenification/blob/mobile-net/Algorithums/pretrained/MobileNetV3/MobileNetV3.ipynb\" target=\"_parent\"><img src=\"https://colab.research.google.com/assets/colab-badge.svg\" alt=\"Open In Colab\"/></a>"
      ]
    },
    {
      "cell_type": "markdown",
      "metadata": {
        "id": "2bowAAElvCDW"
      },
      "source": [
        "# MobileNet v3"
      ]
    },
    {
      "cell_type": "markdown",
      "source": [
        "## Imports"
      ],
      "metadata": {
        "id": "8eTv_O1kvJwv"
      }
    },
    {
      "cell_type": "markdown",
      "source": [
        "### Collab Imports"
      ],
      "metadata": {
        "id": "nB3vvwLyvkwX"
      }
    },
    {
      "cell_type": "code",
      "source": [
        "from google.colab import files\n",
        "from google.colab import drive"
      ],
      "metadata": {
        "id": "bkWRg7-mvI4B"
      },
      "execution_count": 1,
      "outputs": []
    },
    {
      "cell_type": "markdown",
      "source": [
        "### Data Set Handle Imports"
      ],
      "metadata": {
        "id": "JaK0JNT6vxfo"
      }
    },
    {
      "cell_type": "code",
      "source": [
        "import zipfile"
      ],
      "metadata": {
        "id": "sqFrAOSGv9EC"
      },
      "execution_count": 2,
      "outputs": []
    },
    {
      "cell_type": "markdown",
      "source": [
        "### Default Nessary Imports"
      ],
      "metadata": {
        "id": "qNIqJkA0wK6i"
      }
    },
    {
      "cell_type": "code",
      "source": [
        "import numpy as np\n",
        "import pandas as pd\n",
        "import matplotlib.pyplot as plt\n",
        "import os"
      ],
      "metadata": {
        "id": "GFVIoWAswFdb"
      },
      "execution_count": 3,
      "outputs": []
    },
    {
      "cell_type": "markdown",
      "source": [
        "### Tensorflow Imports"
      ],
      "metadata": {
        "id": "Jsz1l9cewVxo"
      }
    },
    {
      "cell_type": "code",
      "source": [
        "import os\n",
        "import tensorflow as tf\n",
        "from tensorflow.keras.utils import image_dataset_from_directory\n",
        "from tensorflow.keras.preprocessing import image\n",
        "from tensorflow.keras.optimizers import Adam\n",
        "from tensorflow.keras.models import Sequential\n",
        "from tensorflow.keras.applications import MobileNetV3Large\n",
        "from tensorflow.keras.layers import Dense,Conv2D, MaxPooling2D, Flatten,GlobalAveragePooling2D"
      ],
      "metadata": {
        "id": "1870sUacwaM2"
      },
      "execution_count": 4,
      "outputs": []
    },
    {
      "cell_type": "markdown",
      "source": [
        "## Variables"
      ],
      "metadata": {
        "id": "ehXo5c_80EOM"
      }
    },
    {
      "cell_type": "markdown",
      "source": [
        "### Path variables"
      ],
      "metadata": {
        "id": "y9ZRN4Tx0LCL"
      }
    },
    {
      "cell_type": "code",
      "source": [
        "dataset_zip_path=\"\" # zip path in drive the dataset\n",
        "extract_folder_path=\"\" # when We extract the dataset"
      ],
      "metadata": {
        "id": "r7056y250H0i"
      },
      "execution_count": null,
      "outputs": []
    },
    {
      "cell_type": "markdown",
      "source": [
        "## Envirumentatl Setup"
      ],
      "metadata": {
        "id": "RAY9WhFNxI5l"
      }
    },
    {
      "cell_type": "markdown",
      "source": [
        "### Collab"
      ],
      "metadata": {
        "id": "k3TJCwCUxNiP"
      }
    },
    {
      "cell_type": "code",
      "source": [
        "drive.mount('/content/drive') # drive activate for Use"
      ],
      "metadata": {
        "id": "VKvkxb2xxP6P"
      },
      "execution_count": null,
      "outputs": []
    },
    {
      "cell_type": "code",
      "source": [
        "uploaded = files.upload() # for File uploaded"
      ],
      "metadata": {
        "id": "SMvUiH5HzTvU"
      },
      "execution_count": null,
      "outputs": []
    },
    {
      "cell_type": "markdown",
      "source": [
        "### Gentral"
      ],
      "metadata": {
        "id": "3fTiill8zzef"
      }
    },
    {
      "cell_type": "code",
      "source": [
        "with zipfile.ZipFile(dataset_zip_path, 'r') as zip_ref:\n",
        "    zip_ref.extractall(extract_folder_path)                   #unzip Folder"
      ],
      "metadata": {
        "id": "n5KYiD--z2Tq"
      },
      "execution_count": null,
      "outputs": []
    }
  ],
  "metadata": {
    "language_info": {
      "name": "python"
    },
    "colab": {
      "provenance": [],
      "include_colab_link": true
    },
    "kernelspec": {
      "name": "python3",
      "display_name": "Python 3"
    }
  },
  "nbformat": 4,
  "nbformat_minor": 0
}