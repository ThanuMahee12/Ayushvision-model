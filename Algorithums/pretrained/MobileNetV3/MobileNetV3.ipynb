{
  "cells": [
    {
      "cell_type": "markdown",
      "metadata": {
        "id": "view-in-github",
        "colab_type": "text"
      },
      "source": [
        "<a href=\"https://colab.research.google.com/github/ThanuMahee12/ayush-vision/blob/mobile-net/Algorithums/pretrained/MobileNetV3/MobileNetV3.ipynb\" target=\"_parent\"><img src=\"https://colab.research.google.com/assets/colab-badge.svg\" alt=\"Open In Colab\"/></a>"
      ]
    },
    {
      "cell_type": "markdown",
      "metadata": {
        "id": "2bowAAElvCDW"
      },
      "source": [
        "# MobileNet v3"
      ]
    },
    {
      "cell_type": "code",
      "execution_count": 2,
      "metadata": {
        "id": "bkWRg7-mvI4B"
      },
      "outputs": [],
      "source": [
        "from google.colab import drive"
      ]
    },
    {
      "cell_type": "code",
      "execution_count": 3,
      "metadata": {
        "id": "VKvkxb2xxP6P",
        "colab": {
          "base_uri": "https://localhost:8080/"
        },
        "outputId": "69c39171-3e9e-47ee-d46a-4ffd24485611"
      },
      "outputs": [
        {
          "output_type": "stream",
          "name": "stdout",
          "text": [
            "Mounted at /content/drive\n"
          ]
        }
      ],
      "source": [
        "drive.mount('/content/drive') # drive activate for Use"
      ]
    },
    {
      "cell_type": "code",
      "source": [
        "!pip install firebase-admin"
      ],
      "metadata": {
        "id": "QGuKQhwzi6h-"
      },
      "execution_count": null,
      "outputs": []
    },
    {
      "cell_type": "markdown",
      "metadata": {
        "id": "8eTv_O1kvJwv"
      },
      "source": [
        "## Imports"
      ]
    },
    {
      "cell_type": "markdown",
      "metadata": {
        "id": "nB3vvwLyvkwX"
      },
      "source": [
        "### Collab Imports"
      ]
    },
    {
      "cell_type": "code",
      "source": [
        "firebase_count=1"
      ],
      "metadata": {
        "id": "sa-fiitYMm2O"
      },
      "execution_count": 4,
      "outputs": []
    },
    {
      "cell_type": "markdown",
      "metadata": {
        "id": "qNIqJkA0wK6i"
      },
      "source": [
        "### Default Nessary Imports"
      ]
    },
    {
      "cell_type": "code",
      "execution_count": 5,
      "metadata": {
        "id": "GFVIoWAswFdb"
      },
      "outputs": [],
      "source": [
        "import numpy as np\n",
        "import pandas as pd\n",
        "import matplotlib.pyplot as plt\n",
        "import os\n",
        "from datetime import date,datetime\n",
        "import json\n",
        "import csv"
      ]
    },
    {
      "cell_type": "markdown",
      "metadata": {
        "id": "Jsz1l9cewVxo"
      },
      "source": [
        "### Tensorflow Imports"
      ]
    },
    {
      "cell_type": "code",
      "execution_count": 6,
      "metadata": {
        "id": "1870sUacwaM2"
      },
      "outputs": [],
      "source": [
        "import tensorflow as tf\n",
        "from tensorflow.keras.utils import image_dataset_from_directory\n",
        "from tensorflow.keras.preprocessing import image\n",
        "from tensorflow.keras.optimizers import Adam\n",
        "from tensorflow.keras.models import Sequential\n",
        "from tensorflow.keras.applications import MobileNetV3Large\n",
        "from tensorflow.keras.layers import Dense,Conv2D, MaxPooling2D, Flatten,GlobalAveragePooling2D,Dropout\n",
        "import firebase_admin\n",
        "from firebase_admin import credentials,storage\n",
        "from firebase_admin import firestore"
      ]
    },
    {
      "cell_type": "markdown",
      "metadata": {
        "id": "ehXo5c_80EOM"
      },
      "source": [
        "## Variables"
      ]
    },
    {
      "cell_type": "markdown",
      "metadata": {
        "id": "y9ZRN4Tx0LCL"
      },
      "source": [
        "### Path variables"
      ]
    },
    {
      "cell_type": "code",
      "execution_count": 7,
      "metadata": {
        "id": "EMEcZoJt3J6E"
      },
      "outputs": [],
      "source": [
        "dataset_dir='/content/drive/MyDrive/AYUSHVISION/preTrained/final' #datasetbase dirctory"
      ]
    },
    {
      "cell_type": "code",
      "source": [
        "epochs=10"
      ],
      "metadata": {
        "id": "1R-R94ygjZss"
      },
      "execution_count": 8,
      "outputs": []
    },
    {
      "cell_type": "code",
      "source": [
        "document_id=f'{datetime.now().strftime(\"%Y_%m_%d_%H\")}_{epochs}'\n",
        "storageLocation=f'training/mobile_net/'"
      ],
      "metadata": {
        "id": "3RWX0TESjeVR"
      },
      "execution_count": 9,
      "outputs": []
    },
    {
      "cell_type": "code",
      "source": [
        "working_dir=f'/content/drive/MyDrive/AYUSHVISION/ready/{document_id}'"
      ],
      "metadata": {
        "id": "kh0Qf2DFjg6k"
      },
      "execution_count": 10,
      "outputs": []
    },
    {
      "cell_type": "code",
      "execution_count": 11,
      "metadata": {
        "id": "MEP4zYoc3W0y"
      },
      "outputs": [],
      "source": [
        "dataset_train_dir=os.path.join(dataset_dir,'train')\n",
        "dataset_test_dir=os.path.join(dataset_dir,'test')\n",
        "dataset_val_dir=os.path.join(dataset_dir,'val')"
      ]
    },
    {
      "cell_type": "markdown",
      "metadata": {
        "id": "ifz4Gosy7Jf0"
      },
      "source": [
        "### Genrator Variable"
      ]
    },
    {
      "cell_type": "code",
      "execution_count": 12,
      "metadata": {
        "id": "WxzxLjTJ7N2R"
      },
      "outputs": [],
      "source": [
        "rescale=1/255"
      ]
    },
    {
      "cell_type": "markdown",
      "metadata": {
        "id": "noQZt9AT8s39"
      },
      "source": [
        "### Configration Variables"
      ]
    },
    {
      "cell_type": "code",
      "execution_count": 13,
      "metadata": {
        "id": "0M5APq8U8wdj"
      },
      "outputs": [],
      "source": [
        "target_size=(224,224)\n",
        "class_mode='categorical'\n",
        "input_shape=(224,224,3)"
      ]
    },
    {
      "cell_type": "markdown",
      "metadata": {
        "id": "Dxx_ewkNvGEP"
      },
      "source": [
        "### Model Variables"
      ]
    },
    {
      "cell_type": "markdown",
      "metadata": {
        "id": "xIv_Hh05vJ-M"
      },
      "source": [
        "#### Number If Classes"
      ]
    },
    {
      "cell_type": "code",
      "execution_count": 14,
      "metadata": {
        "id": "1rVO9kLQvNF7"
      },
      "outputs": [],
      "source": [
        "no_of_classes=32"
      ]
    },
    {
      "cell_type": "markdown",
      "metadata": {
        "id": "RAY9WhFNxI5l"
      },
      "source": [
        "## Envirumentatl Setup"
      ]
    },
    {
      "cell_type": "markdown",
      "metadata": {
        "id": "k3TJCwCUxNiP"
      },
      "source": [
        "### Collab"
      ]
    },
    {
      "cell_type": "markdown",
      "source": [
        "## Firebase"
      ],
      "metadata": {
        "id": "to7p7HhKjFMj"
      }
    },
    {
      "cell_type": "code",
      "source": [
        "\n",
        "if firebase_count==1:\n",
        "  cred = credentials.Certificate(\"/content/drive/MyDrive/ServiceKey.json\")\n",
        "  firebase_admin.initialize_app(cred,{\n",
        "    'storageBucket': 'ayush-vision-asw4gh.appspot.com'\n",
        "})\n",
        "firebase_count=firebase_count+1"
      ],
      "metadata": {
        "id": "pB7bO92PjIB0"
      },
      "execution_count": 15,
      "outputs": []
    },
    {
      "cell_type": "code",
      "source": [
        "db = firestore.client()"
      ],
      "metadata": {
        "id": "QzBzWu-kjri7"
      },
      "execution_count": 16,
      "outputs": []
    },
    {
      "cell_type": "code",
      "source": [
        "bucket = storage.bucket()"
      ],
      "metadata": {
        "id": "Fk5vTcmVjvlb"
      },
      "execution_count": 17,
      "outputs": []
    },
    {
      "cell_type": "code",
      "source": [
        "dcnn_ref = db.collection(\"training1\").document('mobile-net')\n",
        "doc = dcnn_ref.get()"
      ],
      "metadata": {
        "id": "54PAZjwCjyRL"
      },
      "execution_count": 18,
      "outputs": []
    },
    {
      "cell_type": "code",
      "source": [
        "if not doc.exists:\n",
        "  doc_ref= db.collection(\"training1\").document('mobile-net')\n",
        "  doc_ref.set({'algorithum':'mobile-net','version':'1','mode':'classification','url':'mobile-net'})\n",
        "else:\n",
        "  doc_ref= dcnn_ref"
      ],
      "metadata": {
        "id": "_JsEt9Ljj1pR"
      },
      "execution_count": 19,
      "outputs": []
    },
    {
      "cell_type": "markdown",
      "metadata": {
        "id": "8rPbqEgK1Wr8"
      },
      "source": [
        "## Validations"
      ]
    },
    {
      "cell_type": "code",
      "execution_count": 20,
      "metadata": {
        "id": "404OTbpS4ysB",
        "colab": {
          "base_uri": "https://localhost:8080/",
          "height": 35
        },
        "outputId": "3205a1a3-be0e-4a17-8d22-0abd3137d69d"
      },
      "outputs": [
        {
          "output_type": "execute_result",
          "data": {
            "text/plain": [
              "'/content/drive/MyDrive/AYUSHVISION/preTrained/final/train is Correct'"
            ],
            "application/vnd.google.colaboratory.intrinsic+json": {
              "type": "string"
            }
          },
          "metadata": {},
          "execution_count": 20
        }
      ],
      "source": [
        "f'{dataset_train_dir} is Correct' if os.path.exists(dataset_train_dir) and os.path.isdir(dataset_train_dir) else f' {dataset_train_dir} is incorrect'\n"
      ]
    },
    {
      "cell_type": "code",
      "execution_count": 21,
      "metadata": {
        "id": "qg53pP8q5TxB",
        "colab": {
          "base_uri": "https://localhost:8080/",
          "height": 35
        },
        "outputId": "981e5a3b-470a-4407-9ed7-833bb2f33b83"
      },
      "outputs": [
        {
          "output_type": "execute_result",
          "data": {
            "text/plain": [
              "'/content/drive/MyDrive/AYUSHVISION/preTrained/final/test is Correct'"
            ],
            "application/vnd.google.colaboratory.intrinsic+json": {
              "type": "string"
            }
          },
          "metadata": {},
          "execution_count": 21
        }
      ],
      "source": [
        "f'{dataset_test_dir} is Correct' if os.path.exists(dataset_test_dir) and os.path.isdir(dataset_train_dir) else f' {dataset_test_dir} is incorrect'\n"
      ]
    },
    {
      "cell_type": "code",
      "execution_count": 22,
      "metadata": {
        "id": "2YeeG1CK5VaE",
        "colab": {
          "base_uri": "https://localhost:8080/",
          "height": 35
        },
        "outputId": "58c92b08-7fc3-4794-f816-13f411bcf9a6"
      },
      "outputs": [
        {
          "output_type": "execute_result",
          "data": {
            "text/plain": [
              "'/content/drive/MyDrive/AYUSHVISION/preTrained/final/val is Correct'"
            ],
            "application/vnd.google.colaboratory.intrinsic+json": {
              "type": "string"
            }
          },
          "metadata": {},
          "execution_count": 22
        }
      ],
      "source": [
        "f'{dataset_val_dir} is Correct' if os.path.exists(dataset_val_dir) and os.path.isdir(dataset_val_dir) else f' {dataset_val_dir} is incorrect'"
      ]
    },
    {
      "cell_type": "code",
      "source": [
        "if not os.path.exists(working_dir):\n",
        "  os.makedirs(working_dir)"
      ],
      "metadata": {
        "id": "WNLS5Xu2kTIr"
      },
      "execution_count": 23,
      "outputs": []
    },
    {
      "cell_type": "markdown",
      "metadata": {
        "id": "3fTiill8zzef"
      },
      "source": [
        "## DataSet"
      ]
    },
    {
      "cell_type": "markdown",
      "metadata": {
        "id": "I2BunOax5fWk"
      },
      "source": [
        "### Image Genarator"
      ]
    },
    {
      "cell_type": "code",
      "execution_count": 24,
      "metadata": {
        "id": "Wbnr0KTw6sOn"
      },
      "outputs": [],
      "source": [
        "train_data_genrator=image.ImageDataGenerator(rescale=rescale)"
      ]
    },
    {
      "cell_type": "code",
      "execution_count": 25,
      "metadata": {
        "id": "hsLpWRvK7U1X"
      },
      "outputs": [],
      "source": [
        "test_data_genrator=image.ImageDataGenerator(rescale=rescale)"
      ]
    },
    {
      "cell_type": "code",
      "execution_count": 26,
      "metadata": {
        "id": "XoTIixHF7XyY"
      },
      "outputs": [],
      "source": [
        "val_data_genrator=image.ImageDataGenerator(rescale=rescale)"
      ]
    },
    {
      "cell_type": "code",
      "source": [
        "train_ds_gen=train_data_genrator.flow_from_directory(\n",
        "    dataset_train_dir,\n",
        "    target_size=(224,224),\n",
        "    class_mode=class_mode\n",
        ")"
      ],
      "metadata": {
        "id": "hpL1WQUYCpIs",
        "outputId": "a8086aa2-d96a-49c7-c0a7-14254a9a9b6b",
        "colab": {
          "base_uri": "https://localhost:8080/"
        }
      },
      "execution_count": 27,
      "outputs": [
        {
          "output_type": "stream",
          "name": "stdout",
          "text": [
            "Found 11174 images belonging to 32 classes.\n"
          ]
        }
      ]
    },
    {
      "cell_type": "code",
      "source": [
        "val_ds_gen=val_data_genrator.flow_from_directory(\n",
        "    dataset_val_dir,\n",
        "    target_size=target_size,\n",
        "    class_mode=class_mode\n",
        ")"
      ],
      "metadata": {
        "id": "Glu_ohpSFeTC",
        "outputId": "73b923ba-a943-4915-cdb4-d6b6ddfb149d",
        "colab": {
          "base_uri": "https://localhost:8080/"
        }
      },
      "execution_count": 28,
      "outputs": [
        {
          "output_type": "stream",
          "name": "stdout",
          "text": [
            "Found 1598 images belonging to 32 classes.\n"
          ]
        }
      ]
    },
    {
      "cell_type": "code",
      "execution_count": 29,
      "metadata": {
        "id": "bnj4OQce9D9e",
        "colab": {
          "base_uri": "https://localhost:8080/"
        },
        "outputId": "bd711b7b-64ce-46de-a367-cd25975e7efd"
      },
      "outputs": [
        {
          "output_type": "stream",
          "name": "stdout",
          "text": [
            "Found 3197 images belonging to 32 classes.\n"
          ]
        }
      ],
      "source": [
        "test_ds_gen=test_data_genrator.flow_from_directory(\n",
        "    dataset_test_dir,\n",
        "    target_size=target_size,\n",
        "    class_mode=class_mode\n",
        ")"
      ]
    },
    {
      "cell_type": "markdown",
      "metadata": {
        "id": "aaWo1hLltAaS"
      },
      "source": [
        "## Model\n"
      ]
    },
    {
      "cell_type": "code",
      "source": [
        "basicdata={'account':'vediothanu@gmail.com','user':\"Thanush\"}"
      ],
      "metadata": {
        "id": "bO80DHZqj8Vb"
      },
      "execution_count": 31,
      "outputs": []
    },
    {
      "cell_type": "code",
      "source": [
        "basicdata['imageSize']=[224,224]\n",
        "basicdata['project']=working_dir\n",
        "basicdata['name']=document_id\n",
        "basicdata['training_date']=datetime.now().strftime(\"%Y/%m/%d %H:%M:%S\")\n",
        "basicdata['filename']='MobileNet_Root'\n"
      ],
      "metadata": {
        "id": "YgTY9lnfkCC9"
      },
      "execution_count": 32,
      "outputs": []
    },
    {
      "cell_type": "code",
      "source": [
        "basicdata['names']=os.listdir(os.path.join(dataset_dir,'train'))"
      ],
      "metadata": {
        "id": "pQgz_vQgkFH7"
      },
      "execution_count": 33,
      "outputs": []
    },
    {
      "cell_type": "code",
      "source": [
        "today_ref=doc_ref.collection(\"Pretrained\").document(document_id)"
      ],
      "metadata": {
        "id": "JNOLkD-jkIpz"
      },
      "execution_count": 34,
      "outputs": []
    },
    {
      "cell_type": "code",
      "source": [
        "today_ref.set(basicdata)"
      ],
      "metadata": {
        "id": "utT4WEkwkLU8",
        "colab": {
          "base_uri": "https://localhost:8080/"
        },
        "outputId": "9eb25283-2234-4295-8748-a1aaf0943b37"
      },
      "execution_count": 35,
      "outputs": [
        {
          "output_type": "execute_result",
          "data": {
            "text/plain": [
              "update_time {\n",
              "  seconds: 1726028989\n",
              "  nanos: 228243000\n",
              "}"
            ]
          },
          "metadata": {},
          "execution_count": 35
        }
      ]
    },
    {
      "cell_type": "markdown",
      "metadata": {
        "id": "exq_qfzttIhc"
      },
      "source": [
        "### Base Model MobileNetV3"
      ]
    },
    {
      "cell_type": "code",
      "execution_count": 36,
      "metadata": {
        "id": "Y7YWxKditGcq",
        "outputId": "df134785-6b29-40dc-b4f8-6b9e0dc7bfc1",
        "colab": {
          "base_uri": "https://localhost:8080/"
        }
      },
      "outputs": [
        {
          "output_type": "stream",
          "name": "stdout",
          "text": [
            "Downloading data from https://storage.googleapis.com/tensorflow/keras-applications/mobilenet_v3/weights_mobilenet_v3_large_224_1.0_float_no_top_v2.h5\n",
            "\u001b[1m12683000/12683000\u001b[0m \u001b[32m━━━━━━━━━━━━━━━━━━━━\u001b[0m\u001b[37m\u001b[0m \u001b[1m1s\u001b[0m 0us/step\n"
          ]
        }
      ],
      "source": [
        "ayush_mobilenetV3_base=MobileNetV3Large(input_shape=input_shape,  # We don't want the dense layers on top\n",
        "                       input_tensor=None,\n",
        "                        include_top=False,\n",
        "                        weights='imagenet')"
      ]
    },
    {
      "cell_type": "markdown",
      "metadata": {
        "id": "k20JYY3etkBS"
      },
      "source": [
        "### Layers setup for Base Model"
      ]
    },
    {
      "cell_type": "code",
      "execution_count": 37,
      "metadata": {
        "id": "TpS2tukutrxR"
      },
      "outputs": [],
      "source": [
        "ayush_mobilenetV3_base.trainable=True"
      ]
    },
    {
      "cell_type": "markdown",
      "metadata": {
        "id": "3lO56BpGt2wa"
      },
      "source": [
        "### Final Model"
      ]
    },
    {
      "cell_type": "code",
      "execution_count": 38,
      "metadata": {
        "id": "GIdrUMvvt5B-"
      },
      "outputs": [],
      "source": [
        "ayushVision_MobileNetV3_Model=Sequential()\n"
      ]
    },
    {
      "cell_type": "code",
      "source": [
        "ayushVision_MobileNetV3_Model.add(ayush_mobilenetV3_base)"
      ],
      "metadata": {
        "id": "XSp0e1iiKVBO"
      },
      "execution_count": 39,
      "outputs": []
    },
    {
      "cell_type": "markdown",
      "metadata": {
        "id": "_Q4oSgBeuQxF"
      },
      "source": [
        "#### Middle Layers"
      ]
    },
    {
      "cell_type": "code",
      "source": [
        "ayushVision_MobileNetV3_Model.add(GlobalAveragePooling2D())"
      ],
      "metadata": {
        "id": "2EvSKrDMKrNa"
      },
      "execution_count": 40,
      "outputs": []
    },
    {
      "cell_type": "code",
      "source": [
        "ayushVision_MobileNetV3_Model.add(Dense(320, activation='relu'))"
      ],
      "metadata": {
        "id": "PpgeAUT-KvRg"
      },
      "execution_count": 41,
      "outputs": []
    },
    {
      "cell_type": "code",
      "source": [
        "ayushVision_MobileNetV3_Model.add(Dropout(0.2))"
      ],
      "metadata": {
        "id": "NceA_gKtLMY0"
      },
      "execution_count": 42,
      "outputs": []
    },
    {
      "cell_type": "code",
      "source": [
        "ayushVision_MobileNetV3_Model.add(Dense(320, activation='relu'))"
      ],
      "metadata": {
        "id": "sM_ZkPxeLcym"
      },
      "execution_count": 43,
      "outputs": []
    },
    {
      "cell_type": "markdown",
      "metadata": {
        "id": "utS5sXR5uhVM"
      },
      "source": [
        "#### Last Layer"
      ]
    },
    {
      "cell_type": "code",
      "execution_count": 44,
      "metadata": {
        "id": "2fmSZDuyukgC"
      },
      "outputs": [],
      "source": [
        "ayushVision_MobileNetV3_Model.add(Dense(no_of_classes, activation='softmax'))"
      ]
    },
    {
      "cell_type": "code",
      "source": [
        "today_training_colref=today_ref.collection('Train')"
      ],
      "metadata": {
        "id": "I3Y6A92qk9ic"
      },
      "execution_count": 47,
      "outputs": []
    },
    {
      "cell_type": "markdown",
      "metadata": {
        "id": "zEiEjznRvZem"
      },
      "source": [
        "## Model Compile"
      ]
    },
    {
      "cell_type": "markdown",
      "metadata": {
        "id": "kA3tibbGvc50"
      },
      "source": [
        "#### Optimizer"
      ]
    },
    {
      "cell_type": "code",
      "execution_count": 48,
      "metadata": {
        "id": "1sdUtwB2vf5b"
      },
      "outputs": [],
      "source": [
        "optimizer = Adam(learning_rate=0.001)"
      ]
    },
    {
      "cell_type": "markdown",
      "metadata": {
        "id": "aaWBdoaQv6i8"
      },
      "source": [
        "#### Compile"
      ]
    },
    {
      "cell_type": "markdown",
      "metadata": {
        "id": "l3E3gVJfv9UR"
      },
      "source": [
        "##### Variables"
      ]
    },
    {
      "cell_type": "code",
      "execution_count": 49,
      "metadata": {
        "id": "pn4gUOczwANx"
      },
      "outputs": [],
      "source": [
        "metrics=[\"accuracy\"]\n",
        "lossfn='categorical_crossentropy'"
      ]
    },
    {
      "cell_type": "code",
      "execution_count": 50,
      "metadata": {
        "id": "qGgqeXZQvuTS"
      },
      "outputs": [],
      "source": [
        "ayushVision_MobileNetV3_Model.compile(\n",
        "    optimizer=optimizer,\n",
        "    loss=lossfn,\n",
        "    metrics=metrics)"
      ]
    },
    {
      "cell_type": "code",
      "source": [
        "todat_fit_train_ref=today_training_colref.document('fit')"
      ],
      "metadata": {
        "id": "MEpm1ZE8lary"
      },
      "execution_count": 51,
      "outputs": []
    },
    {
      "cell_type": "code",
      "source": [
        "todat_fit_train_ref.set({\n",
        "    'epochs':epochs,\n",
        "    'loss':lossfn,\n",
        "    'optimizer':optimizer.get_config()\n",
        "\n",
        "})"
      ],
      "metadata": {
        "id": "rcO1kiYAleEE",
        "colab": {
          "base_uri": "https://localhost:8080/"
        },
        "outputId": "f6856eec-ff03-444b-dbdc-e79472b241a7"
      },
      "execution_count": 52,
      "outputs": [
        {
          "output_type": "execute_result",
          "data": {
            "text/plain": [
              "update_time {\n",
              "  seconds: 1726029041\n",
              "  nanos: 651095000\n",
              "}"
            ]
          },
          "metadata": {},
          "execution_count": 52
        }
      ]
    },
    {
      "cell_type": "markdown",
      "metadata": {
        "id": "5UCcEs7iwfij"
      },
      "source": [
        "### Trainning"
      ]
    },
    {
      "cell_type": "code",
      "execution_count": 53,
      "metadata": {
        "id": "Q19Al6Y-wipO",
        "colab": {
          "base_uri": "https://localhost:8080/"
        },
        "outputId": "a993fca6-0c6f-4327-b392-3869f071a42c"
      },
      "outputs": [
        {
          "metadata": {
            "tags": null
          },
          "name": "stdout",
          "output_type": "stream",
          "text": [
            "Epoch 1/10\n"
          ]
        },
        {
          "metadata": {
            "tags": null
          },
          "name": "stderr",
          "output_type": "stream",
          "text": [
            "/usr/local/lib/python3.10/dist-packages/keras/src/trainers/data_adapters/py_dataset_adapter.py:121: UserWarning: Your `PyDataset` class should call `super().__init__(**kwargs)` in its constructor. `**kwargs` can include `workers`, `use_multiprocessing`, `max_queue_size`. Do not pass these arguments to `fit()`, as they will be ignored.\n",
            "  self._warn_if_super_not_called()\n"
          ]
        },
        {
          "output_type": "stream",
          "name": "stdout",
          "text": [
            "\u001b[1m350/350\u001b[0m \u001b[32m━━━━━━━━━━━━━━━━━━━━\u001b[0m\u001b[37m\u001b[0m \u001b[1m8056s\u001b[0m 22s/step - accuracy: 0.4557 - loss: 1.9689 - val_accuracy: 0.0313 - val_loss: 7.6096\n",
            "Epoch 2/10\n",
            "\u001b[1m350/350\u001b[0m \u001b[32m━━━━━━━━━━━━━━━━━━━━\u001b[0m\u001b[37m\u001b[0m \u001b[1m44s\u001b[0m 123ms/step - accuracy: 0.8329 - loss: 0.5849 - val_accuracy: 0.0313 - val_loss: 12.9123\n",
            "Epoch 3/10\n",
            "\u001b[1m350/350\u001b[0m \u001b[32m━━━━━━━━━━━━━━━━━━━━\u001b[0m\u001b[37m\u001b[0m \u001b[1m43s\u001b[0m 122ms/step - accuracy: 0.8935 - loss: 0.3640 - val_accuracy: 0.0294 - val_loss: 5.2152\n",
            "Epoch 4/10\n",
            "\u001b[1m350/350\u001b[0m \u001b[32m━━━━━━━━━━━━━━━━━━━━\u001b[0m\u001b[37m\u001b[0m \u001b[1m44s\u001b[0m 123ms/step - accuracy: 0.9168 - loss: 0.2892 - val_accuracy: 0.0369 - val_loss: 20.8655\n",
            "Epoch 5/10\n",
            "\u001b[1m350/350\u001b[0m \u001b[32m━━━━━━━━━━━━━━━━━━━━\u001b[0m\u001b[37m\u001b[0m \u001b[1m43s\u001b[0m 121ms/step - accuracy: 0.9252 - loss: 0.2763 - val_accuracy: 0.0338 - val_loss: 54.5025\n",
            "Epoch 6/10\n",
            "\u001b[1m350/350\u001b[0m \u001b[32m━━━━━━━━━━━━━━━━━━━━\u001b[0m\u001b[37m\u001b[0m \u001b[1m42s\u001b[0m 119ms/step - accuracy: 0.9287 - loss: 0.2688 - val_accuracy: 0.0432 - val_loss: 626.8578\n",
            "Epoch 7/10\n",
            "\u001b[1m350/350\u001b[0m \u001b[32m━━━━━━━━━━━━━━━━━━━━\u001b[0m\u001b[37m\u001b[0m \u001b[1m43s\u001b[0m 121ms/step - accuracy: 0.9430 - loss: 0.2002 - val_accuracy: 0.0325 - val_loss: 8.6409\n",
            "Epoch 8/10\n",
            "\u001b[1m350/350\u001b[0m \u001b[32m━━━━━━━━━━━━━━━━━━━━\u001b[0m\u001b[37m\u001b[0m \u001b[1m44s\u001b[0m 124ms/step - accuracy: 0.9526 - loss: 0.1771 - val_accuracy: 0.0207 - val_loss: 212244.9062\n",
            "Epoch 9/10\n",
            "\u001b[1m350/350\u001b[0m \u001b[32m━━━━━━━━━━━━━━━━━━━━\u001b[0m\u001b[37m\u001b[0m \u001b[1m44s\u001b[0m 122ms/step - accuracy: 0.9539 - loss: 0.1633 - val_accuracy: 0.0338 - val_loss: 4658.7534\n",
            "Epoch 10/10\n",
            "\u001b[1m350/350\u001b[0m \u001b[32m━━━━━━━━━━━━━━━━━━━━\u001b[0m\u001b[37m\u001b[0m \u001b[1m43s\u001b[0m 120ms/step - accuracy: 0.9599 - loss: 0.1588 - val_accuracy: 0.0313 - val_loss: 1721.9934\n"
          ]
        }
      ],
      "source": [
        "model_history=ayushVision_MobileNetV3_Model.fit(\n",
        "    train_ds_gen,\n",
        "    epochs=epochs,\n",
        "    validation_data=val_ds_gen)"
      ]
    },
    {
      "cell_type": "code",
      "source": [
        "# Plot training history\n",
        "plt.plot(model_history.history['accuracy'], label='Training Accuracy')\n",
        "plt.plot(model_history.history['val_accuracy'], label='Validation Accuracy')\n",
        "plt.legend()\n",
        "plt.savefig(f\"{working_dir}/mobile_net{epochs}_model_accuracy.jpg\")\n",
        "plt.show()"
      ],
      "metadata": {
        "id": "Fx74o0rZlui2",
        "colab": {
          "base_uri": "https://localhost:8080/",
          "height": 434
        },
        "outputId": "a9c7272b-887d-4d10-820a-d1c8a09521a9"
      },
      "execution_count": 54,
      "outputs": [
        {
          "output_type": "display_data",
          "data": {
            "text/plain": [
              "<Figure size 640x480 with 1 Axes>"
            ],
            "image/png": "[encoded data removed]"
          },
          "metadata": {}
        }
      ]
    },
    {
      "cell_type": "code",
      "source": [
        "blob = bucket.blob(f\"{storageLocation+document_id}/val/training_plot{document_id}.jpg\")\n",
        "blob.upload_from_filename(f'{working_dir}/mobile_net{epochs}_model_accuracy.jpg')\n",
        "blob.make_public()"
      ],
      "metadata": {
        "id": "N7AN_6vpl7Zj"
      },
      "execution_count": 55,
      "outputs": []
    },
    {
      "cell_type": "code",
      "source": [
        "validationref=today_ref.collection('Val')"
      ],
      "metadata": {
        "id": "BeAFovJdl-UW"
      },
      "execution_count": 56,
      "outputs": []
    },
    {
      "cell_type": "code",
      "source": [
        "valhistory_ref=validationref.document('history')\n",
        "valaccuracy_ref=validationref.document('accuracy_plot')"
      ],
      "metadata": {
        "id": "R2bVG5u4mAkz"
      },
      "execution_count": 57,
      "outputs": []
    },
    {
      "cell_type": "code",
      "source": [
        "valhistory_ref.set(\n",
        "    model_history.history\n",
        ")"
      ],
      "metadata": {
        "id": "FQk6xfJTmDcT",
        "colab": {
          "base_uri": "https://localhost:8080/"
        },
        "outputId": "593b42c4-8050-4726-8b8b-5848740a55d3"
      },
      "execution_count": 58,
      "outputs": [
        {
          "output_type": "execute_result",
          "data": {
            "text/plain": [
              "update_time {\n",
              "  seconds: 1726037859\n",
              "  nanos: 472886000\n",
              "}"
            ]
          },
          "metadata": {},
          "execution_count": 58
        }
      ]
    },
    {
      "cell_type": "code",
      "source": [
        "valaccuracy_ref.set({\n",
        "    'url':blob.public_url\n",
        "})"
      ],
      "metadata": {
        "id": "569sj9rKmG18",
        "colab": {
          "base_uri": "https://localhost:8080/"
        },
        "outputId": "6c26024d-1716-4ae1-a2ea-8dad39a55af1"
      },
      "execution_count": 59,
      "outputs": [
        {
          "output_type": "execute_result",
          "data": {
            "text/plain": [
              "update_time {\n",
              "  seconds: 1726037862\n",
              "  nanos: 466051000\n",
              "}"
            ]
          },
          "metadata": {},
          "execution_count": 59
        }
      ]
    },
    {
      "cell_type": "markdown",
      "metadata": {
        "id": "XVogOJoXxbEk"
      },
      "source": [
        "### Evaluation"
      ]
    },
    {
      "cell_type": "code",
      "execution_count": 60,
      "metadata": {
        "id": "9sCSzfRUxdor",
        "outputId": "85861a76-abbb-4046-cac3-4142d416e9bb",
        "colab": {
          "base_uri": "https://localhost:8080/"
        }
      },
      "outputs": [
        {
          "metadata": {
            "tags": null
          },
          "name": "stdout",
          "output_type": "stream",
          "text": [
            "\r\u001b[1m  1/100\u001b[0m \u001b[37m━━━━━━━━━━━━━━━━━━━━\u001b[0m \u001b[1m15s\u001b[0m 157ms/step - accuracy: 0.0000e+00 - loss: 1640.2012"
          ]
        },
        {
          "metadata": {
            "tags": null
          },
          "name": "stderr",
          "output_type": "stream",
          "text": [
            "/usr/local/lib/python3.10/dist-packages/keras/src/trainers/data_adapters/py_dataset_adapter.py:121: UserWarning: Your `PyDataset` class should call `super().__init__(**kwargs)` in its constructor. `**kwargs` can include `workers`, `use_multiprocessing`, `max_queue_size`. Do not pass these arguments to `fit()`, as they will be ignored.\n",
            "  self._warn_if_super_not_called()\n"
          ]
        },
        {
          "output_type": "stream",
          "name": "stdout",
          "text": [
            "\u001b[1m100/100\u001b[0m \u001b[32m━━━━━━━━━━━━━━━━━━━━\u001b[0m\u001b[37m\u001b[0m \u001b[1m2039s\u001b[0m 21s/step - accuracy: 0.0302 - loss: 1645.1375\n",
            "Test Accuracy: 3.25%\n"
          ]
        }
      ],
      "source": [
        "test_loss, test_accuracy = ayushVision_MobileNetV3_Model.evaluate(test_ds_gen)\n",
        "print(f'Test Accuracy: {test_accuracy*100:.2f}%')"
      ]
    },
    {
      "cell_type": "code",
      "source": [
        "testref=today_ref.collection('Test')"
      ],
      "metadata": {
        "id": "eXLQ7UiAmV9J"
      },
      "execution_count": 61,
      "outputs": []
    },
    {
      "cell_type": "code",
      "source": [
        "test_accuracy_loss=testref.document('test_accuracy_lost')\n",
        "test_accuracy_loss.set({\n",
        "    'accuracy':test_accuracy,\n",
        "    'loss':test_loss\n",
        "})"
      ],
      "metadata": {
        "id": "hBXxplAGmdbZ",
        "colab": {
          "base_uri": "https://localhost:8080/"
        },
        "outputId": "b2c21e47-33eb-469c-a28c-e1ab499a17fc"
      },
      "execution_count": 62,
      "outputs": [
        {
          "output_type": "execute_result",
          "data": {
            "text/plain": [
              "update_time {\n",
              "  seconds: 1726040104\n",
              "  nanos: 152891000\n",
              "}"
            ]
          },
          "metadata": {},
          "execution_count": 62
        }
      ]
    },
    {
      "cell_type": "code",
      "source": [
        "modelref=today_ref.collection('Model')"
      ],
      "metadata": {
        "id": "f-BJM8mwmiPh"
      },
      "execution_count": 63,
      "outputs": []
    },
    {
      "cell_type": "code",
      "source": [
        "ayushVision_MobileNetV3_Model.save(f'{working_dir}/mobile_net_root_{epochs}.h5',)"
      ],
      "metadata": {
        "id": "NVutoIkImk6E",
        "colab": {
          "base_uri": "https://localhost:8080/"
        },
        "outputId": "0bcaa984-9d20-499a-adee-773eb1cb6c63"
      },
      "execution_count": 64,
      "outputs": [
        {
          "output_type": "stream",
          "name": "stderr",
          "text": [
            "WARNING:absl:You are saving your model as an HDF5 file via `model.save()` or `keras.saving.save_model(model)`. This file format is considered legacy. We recommend using instead the native Keras format, e.g. `model.save('my_model.keras')` or `keras.saving.save_model(model, 'my_model.keras')`. \n"
          ]
        }
      ]
    },
    {
      "cell_type": "code",
      "source": [
        "savemodel=modelref.document('model')"
      ],
      "metadata": {
        "id": "yW2EPdnKmncZ"
      },
      "execution_count": 65,
      "outputs": []
    },
    {
      "cell_type": "code",
      "source": [
        "blob = bucket.blob(f\"{storageLocation+document_id}/model/mobile_net_root_{epochs}.h5\")\n",
        "blob.upload_from_filename(f'{working_dir}/mobile_net_root_{epochs}.h5')\n",
        "blob.make_public()\n",
        "h5model=blob.public_url"
      ],
      "metadata": {
        "id": "wE2ysPPlmrZH"
      },
      "execution_count": 66,
      "outputs": []
    },
    {
      "cell_type": "code",
      "source": [
        "savemodel.set({'model':h5model})"
      ],
      "metadata": {
        "id": "E1Zffwscmwbq",
        "colab": {
          "base_uri": "https://localhost:8080/"
        },
        "outputId": "b82a32f5-d26c-45ee-f67e-594e0abd7fff"
      },
      "execution_count": 67,
      "outputs": [
        {
          "output_type": "execute_result",
          "data": {
            "text/plain": [
              "update_time {\n",
              "  seconds: 1726040118\n",
              "  nanos: 650747000\n",
              "}"
            ]
          },
          "metadata": {},
          "execution_count": 67
        }
      ]
    },
    {
      "cell_type": "code",
      "source": [
        "directory_path = 'sample/predict'\n",
        "files = os.listdir(directory_path)\n",
        "\n",
        "for file in files:\n",
        "    image_path = os.path.join(directory_path, file)\n",
        "\n",
        "    if os.path.isfile(os.path.join(directory_path, file)):\n",
        "        # Load and preprocess the image\n",
        "        img = image.load_img(image_path, target_size=(150, 150))\n",
        "        img_array = image.img_to_array(img)\n",
        "        img_array = np.expand_dims(img_array, axis=0)\n",
        "        img_array /= 255.0\n",
        "        # Make a prediction\n",
        "        prediction = model.predict(img_array)\n",
        "        print(prediction)\n",
        "\n",
        "\n",
        "        predicted_class_index = np.argmax(prediction)\n",
        "\n",
        "        # Define your class labels\n",
        "        class_labels = ['cat', 'dog']\n",
        "\n",
        "        # Get the corresponding class label\n",
        "        predicted_class_label = class_labels[predicted_class_index]\n",
        "\n",
        "        # Get the confidence score for the predicted class\n",
        "        confidence_score = prediction[0, predicted_class_index]\n",
        "\n",
        "        # Display the results\n",
        "        print(f'Predicted Class: {predicted_class_label}')\n",
        "        print(f'Confidence Score: {confidence_score * 100:.2f}%')\n"
      ],
      "metadata": {
        "id": "XNhE2eOxm1Bw"
      },
      "execution_count": null,
      "outputs": []
    }
  ],
  "metadata": {
    "colab": {
      "provenance": [],
      "machine_shape": "hm",
      "gpuType": "T4",
      "include_colab_link": true
    },
    "kernelspec": {
      "display_name": "Python 3",
      "name": "python3"
    },
    "language_info": {
      "codemirror_mode": {
        "name": "ipython",
        "version": 3
      },
      "file_extension": ".py",
      "mimetype": "text/x-python",
      "name": "python",
      "nbconvert_exporter": "python",
      "pygments_lexer": "ipython3",
      "version": "3.12.4"
    },
    "accelerator": "GPU"
  },
  "nbformat": 4,
  "nbformat_minor": 0
}