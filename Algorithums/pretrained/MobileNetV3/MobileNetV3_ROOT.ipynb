{
  "cells": [
    {
      "cell_type": "markdown",
      "metadata": {
        "id": "view-in-github",
        "colab_type": "text"
      },
      "source": [
        "<a href=\"https://colab.research.google.com/github/ThanuMahee12/ayush-vision/blob/mobile-net/Algorithums/pretrained/MobileNetV3/MobileNetV3_ROOT.ipynb\" target=\"_parent\"><img src=\"https://colab.research.google.com/assets/colab-badge.svg\" alt=\"Open In Colab\"/></a>"
      ]
    },
    {
      "cell_type": "markdown",
      "metadata": {
        "id": "2bowAAElvCDW"
      },
      "source": [
        "# MobileNet v3"
      ]
    },
    {
      "cell_type": "code",
      "source": [
        "!pip install firebase-admin"
      ],
      "metadata": {
        "id": "QGuKQhwzi6h-"
      },
      "execution_count": null,
      "outputs": []
    },
    {
      "cell_type": "markdown",
      "metadata": {
        "id": "8eTv_O1kvJwv"
      },
      "source": [
        "## Imports"
      ]
    },
    {
      "cell_type": "markdown",
      "metadata": {
        "id": "nB3vvwLyvkwX"
      },
      "source": [
        "### Collab Imports"
      ]
    },
    {
      "cell_type": "code",
      "execution_count": null,
      "metadata": {
        "id": "bkWRg7-mvI4B"
      },
      "outputs": [],
      "source": [
        "from google.colab import drive"
      ]
    },
    {
      "cell_type": "markdown",
      "metadata": {
        "id": "qNIqJkA0wK6i"
      },
      "source": [
        "### Default Nessary Imports"
      ]
    },
    {
      "cell_type": "code",
      "execution_count": null,
      "metadata": {
        "id": "GFVIoWAswFdb"
      },
      "outputs": [],
      "source": [
        "import numpy as np\n",
        "import pandas as pd\n",
        "import matplotlib.pyplot as plt\n",
        "import os"
      ]
    },
    {
      "cell_type": "markdown",
      "metadata": {
        "id": "Jsz1l9cewVxo"
      },
      "source": [
        "### Tensorflow Imports"
      ]
    },
    {
      "cell_type": "code",
      "execution_count": null,
      "metadata": {
        "id": "1870sUacwaM2"
      },
      "outputs": [],
      "source": [
        "import os\n",
        "import tensorflow as tf\n",
        "from tensorflow.keras.utils import image_dataset_from_directory\n",
        "from tensorflow.keras.preprocessing import image\n",
        "from tensorflow.keras.optimizers import Adam\n",
        "from tensorflow.keras.models import Sequential\n",
        "from tensorflow.keras.applications import MobileNetV3Large\n",
        "from tensorflow.keras.layers import Dense,Conv2D, MaxPooling2D, Flatten,GlobalAveragePooling2D\n",
        "import firebase_admin\n",
        "from firebase_admin import credentials,storage\n",
        "from firebase_admin import firestore"
      ]
    },
    {
      "cell_type": "markdown",
      "metadata": {
        "id": "ehXo5c_80EOM"
      },
      "source": [
        "## Variables"
      ]
    },
    {
      "cell_type": "markdown",
      "metadata": {
        "id": "y9ZRN4Tx0LCL"
      },
      "source": [
        "### Path variables"
      ]
    },
    {
      "cell_type": "code",
      "execution_count": null,
      "metadata": {
        "id": "EMEcZoJt3J6E"
      },
      "outputs": [],
      "source": [
        "dataset_dir='/content/drive/MyDrive/AYUSHVISION/working' #datasetbase dirctory"
      ]
    },
    {
      "cell_type": "code",
      "source": [
        "epochs=50"
      ],
      "metadata": {
        "id": "1R-R94ygjZss"
      },
      "execution_count": null,
      "outputs": []
    },
    {
      "cell_type": "code",
      "source": [
        "document_id=f'{datetime.now().strftime(\"%Y_%m_%d_%H\")}_{epochs}'\n",
        "storageLocation=f'training/mobile_net/root/'"
      ],
      "metadata": {
        "id": "3RWX0TESjeVR"
      },
      "execution_count": null,
      "outputs": []
    },
    {
      "cell_type": "code",
      "source": [
        "working_dir=f'/content/drive/MyDrive/AYUSHVISION/ready/{document_id}'"
      ],
      "metadata": {
        "id": "kh0Qf2DFjg6k"
      },
      "execution_count": null,
      "outputs": []
    },
    {
      "cell_type": "code",
      "execution_count": null,
      "metadata": {
        "id": "MEP4zYoc3W0y"
      },
      "outputs": [],
      "source": [
        "dataset_train_dir=os.path.join(dataset_dir,'train')\n",
        "dataset_test_dir=os.path.join(dataset_dir,'val')\n",
        "dataset_val_dir=os.path.join(dataset_dir,'val')"
      ]
    },
    {
      "cell_type": "markdown",
      "metadata": {
        "id": "ifz4Gosy7Jf0"
      },
      "source": [
        "### Genrator Variable"
      ]
    },
    {
      "cell_type": "code",
      "execution_count": null,
      "metadata": {
        "id": "WxzxLjTJ7N2R"
      },
      "outputs": [],
      "source": [
        "rescale=1/255"
      ]
    },
    {
      "cell_type": "markdown",
      "metadata": {
        "id": "noQZt9AT8s39"
      },
      "source": [
        "### Configration Variables"
      ]
    },
    {
      "cell_type": "code",
      "execution_count": null,
      "metadata": {
        "id": "0M5APq8U8wdj"
      },
      "outputs": [],
      "source": [
        "target_size=(224,224)\n",
        "class_mode='categorical'\n",
        "input_shape=(224,224,3)"
      ]
    },
    {
      "cell_type": "markdown",
      "metadata": {
        "id": "Dxx_ewkNvGEP"
      },
      "source": [
        "### Model Variables"
      ]
    },
    {
      "cell_type": "markdown",
      "metadata": {
        "id": "xIv_Hh05vJ-M"
      },
      "source": [
        "#### Number If Classes"
      ]
    },
    {
      "cell_type": "code",
      "execution_count": null,
      "metadata": {
        "id": "1rVO9kLQvNF7"
      },
      "outputs": [],
      "source": [
        "no_of_classes=1"
      ]
    },
    {
      "cell_type": "markdown",
      "metadata": {
        "id": "RAY9WhFNxI5l"
      },
      "source": [
        "## Envirumentatl Setup"
      ]
    },
    {
      "cell_type": "markdown",
      "metadata": {
        "id": "k3TJCwCUxNiP"
      },
      "source": [
        "### Collab"
      ]
    },
    {
      "cell_type": "code",
      "execution_count": null,
      "metadata": {
        "id": "VKvkxb2xxP6P",
        "colab": {
          "base_uri": "https://localhost:8080/"
        },
        "outputId": "e9545df0-ee25-4dba-bde1-cc5f2b6e04f3"
      },
      "outputs": [
        {
          "output_type": "stream",
          "name": "stdout",
          "text": [
            "Mounted at /content/drive\n"
          ]
        }
      ],
      "source": [
        "drive.mount('/content/drive') # drive activate for Use"
      ]
    },
    {
      "cell_type": "markdown",
      "source": [
        "## Firebase"
      ],
      "metadata": {
        "id": "to7p7HhKjFMj"
      }
    },
    {
      "cell_type": "code",
      "source": [
        "firebase_count=1\n",
        "if firebase_count==1:\n",
        "  cred = credentials.Certificate(\"/content/drive/MyDrive/AYUSHVISION/ServiceKey.json\")\n",
        "  firebase_admin.initialize_app(cred,{\n",
        "    'storageBucket': 'ayush-vision-asw4gh.appspot.com'\n",
        "})\n",
        "firebase_count=firebase_count+1"
      ],
      "metadata": {
        "id": "pB7bO92PjIB0"
      },
      "execution_count": null,
      "outputs": []
    },
    {
      "cell_type": "code",
      "source": [
        "db = firestore.client()"
      ],
      "metadata": {
        "id": "QzBzWu-kjri7"
      },
      "execution_count": null,
      "outputs": []
    },
    {
      "cell_type": "code",
      "source": [
        "bucket = storage.bucket()"
      ],
      "metadata": {
        "id": "Fk5vTcmVjvlb"
      },
      "execution_count": null,
      "outputs": []
    },
    {
      "cell_type": "code",
      "source": [
        "dcnn_ref = db.collection(\"training1\").document('mobile-net')\n",
        "doc = dcnn_ref.get()"
      ],
      "metadata": {
        "id": "54PAZjwCjyRL"
      },
      "execution_count": null,
      "outputs": []
    },
    {
      "cell_type": "code",
      "source": [
        "if not doc.exists:\n",
        "  doc_ref= db.collection(\"training1\").document('mobile-net')\n",
        "  doc_ref.set({'algorithum':'mobile-net','version':'1','mode':'classification','url':'mobile-net'})\n",
        "else:\n",
        "  doc_ref= dcnn_ref"
      ],
      "metadata": {
        "id": "_JsEt9Ljj1pR"
      },
      "execution_count": null,
      "outputs": []
    },
    {
      "cell_type": "markdown",
      "metadata": {
        "id": "8rPbqEgK1Wr8"
      },
      "source": [
        "## Validations"
      ]
    },
    {
      "cell_type": "code",
      "execution_count": null,
      "metadata": {
        "id": "404OTbpS4ysB",
        "colab": {
          "base_uri": "https://localhost:8080/",
          "height": 36
        },
        "outputId": "06179c0d-d791-490d-e708-6b875a3b305b"
      },
      "outputs": [
        {
          "output_type": "execute_result",
          "data": {
            "text/plain": [
              "'/content/drive/MyDrive/AYUSHVISION/working/train is Correct'"
            ],
            "application/vnd.google.colaboratory.intrinsic+json": {
              "type": "string"
            }
          },
          "metadata": {},
          "execution_count": 19
        }
      ],
      "source": [
        "f'{dataset_train_dir} is Correct' if os.path.exists(dataset_train_dir) and os.path.isdir(dataset_train_dir) else f' {dataset_train_dir} is incorrect'\n"
      ]
    },
    {
      "cell_type": "code",
      "execution_count": null,
      "metadata": {
        "id": "qg53pP8q5TxB",
        "colab": {
          "base_uri": "https://localhost:8080/",
          "height": 36
        },
        "outputId": "1ab2b14d-d570-4556-f978-3df3f70cc500"
      },
      "outputs": [
        {
          "output_type": "execute_result",
          "data": {
            "text/plain": [
              "'/content/drive/MyDrive/AYUSHVISION/working/val is Correct'"
            ],
            "application/vnd.google.colaboratory.intrinsic+json": {
              "type": "string"
            }
          },
          "metadata": {},
          "execution_count": 20
        }
      ],
      "source": [
        "f'{dataset_test_dir} is Correct' if os.path.exists(dataset_test_dir) and os.path.isdir(dataset_train_dir) else f' {dataset_test_dir} is incorrect'\n"
      ]
    },
    {
      "cell_type": "code",
      "execution_count": null,
      "metadata": {
        "id": "2YeeG1CK5VaE",
        "colab": {
          "base_uri": "https://localhost:8080/",
          "height": 36
        },
        "outputId": "ff43bd59-bd84-4279-ec8d-7a99bf81c317"
      },
      "outputs": [
        {
          "output_type": "execute_result",
          "data": {
            "text/plain": [
              "'/content/drive/MyDrive/AYUSHVISION/working/val is Correct'"
            ],
            "application/vnd.google.colaboratory.intrinsic+json": {
              "type": "string"
            }
          },
          "metadata": {},
          "execution_count": 21
        }
      ],
      "source": [
        "f'{dataset_val_dir} is Correct' if os.path.exists(dataset_val_dir) and os.path.isdir(dataset_val_dir) else f' {dataset_val_dir} is incorrect'"
      ]
    },
    {
      "cell_type": "code",
      "source": [
        "if not os.path.exists(working_dir):\n",
        "  os.makedirs(working_dir)"
      ],
      "metadata": {
        "id": "WNLS5Xu2kTIr"
      },
      "execution_count": null,
      "outputs": []
    },
    {
      "cell_type": "markdown",
      "metadata": {
        "id": "3fTiill8zzef"
      },
      "source": [
        "## DataSet"
      ]
    },
    {
      "cell_type": "markdown",
      "metadata": {
        "id": "I2BunOax5fWk"
      },
      "source": [
        "### Image Genarator"
      ]
    },
    {
      "cell_type": "code",
      "execution_count": null,
      "metadata": {
        "id": "Wbnr0KTw6sOn"
      },
      "outputs": [],
      "source": [
        "train_data_genrator=image.ImageDataGenerator(rescale=rescale)"
      ]
    },
    {
      "cell_type": "code",
      "execution_count": null,
      "metadata": {
        "id": "hsLpWRvK7U1X"
      },
      "outputs": [],
      "source": [
        "test_data_genrator=image.ImageDataGenerator(rescale=rescale)"
      ]
    },
    {
      "cell_type": "code",
      "execution_count": null,
      "metadata": {
        "id": "XoTIixHF7XyY"
      },
      "outputs": [],
      "source": [
        "val_data_genrator=image.ImageDataGenerator(rescale=rescale)"
      ]
    },
    {
      "cell_type": "markdown",
      "metadata": {
        "id": "PxYUE9dG8__v"
      },
      "source": [
        "### Prepared Dataset"
      ]
    },
    {
      "cell_type": "code",
      "execution_count": null,
      "metadata": {
        "id": "bnj4OQce9D9e",
        "colab": {
          "base_uri": "https://localhost:8080/"
        },
        "outputId": "0019668c-2fe6-4adf-cdfb-19a9057d7473"
      },
      "outputs": [
        {
          "output_type": "stream",
          "name": "stdout",
          "text": [
            "Found 140 images belonging to 1 classes.\n",
            "Found 20 images belonging to 1 classes.\n",
            "Found 20 images belonging to 1 classes.\n"
          ]
        }
      ],
      "source": [
        "train_ds_gen=train_data_genrator.flow_from_directory(\n",
        "    dataset_train_dir,\n",
        "    target_size=target_size,\n",
        "    class_mode=class_mode\n",
        ")\n",
        "val_ds_gen=val_data_genrator.flow_from_directory(\n",
        "    dataset_val_dir,\n",
        "    target_size=target_size,\n",
        "    class_mode=class_mode\n",
        ")\n",
        "\n",
        "test_ds_gen=test_data_genrator.flow_from_directory(\n",
        "    dataset_test_dir,\n",
        "    target_size=target_size,\n",
        "    class_mode=class_mode\n",
        ")"
      ]
    },
    {
      "cell_type": "markdown",
      "metadata": {
        "id": "aaWo1hLltAaS"
      },
      "source": [
        "## Model\n"
      ]
    },
    {
      "cell_type": "code",
      "source": [
        "basicdata={'account':'mtthanu126.com','user':\"Thanush\"}"
      ],
      "metadata": {
        "id": "bO80DHZqj8Vb"
      },
      "execution_count": null,
      "outputs": []
    },
    {
      "cell_type": "code",
      "source": [
        "basicdata['imageSize']=[224,224]\n",
        "basicdata['project']=working_dir\n",
        "basicdata['name']=document_id\n",
        "basicdata['training_date']=datetime.now().strftime(\"%Y/%m/%d %H:%M:%S\")\n",
        "basicdata['filename']='MobileNet_Root'\n"
      ],
      "metadata": {
        "id": "YgTY9lnfkCC9"
      },
      "execution_count": null,
      "outputs": []
    },
    {
      "cell_type": "code",
      "source": [
        "basicdata['names']=os.listdir(os.path.join(dataset_path,'train'))"
      ],
      "metadata": {
        "id": "pQgz_vQgkFH7"
      },
      "execution_count": null,
      "outputs": []
    },
    {
      "cell_type": "code",
      "source": [
        "today_ref=doc_ref.collection(\"Root\").document(document_id)"
      ],
      "metadata": {
        "id": "JNOLkD-jkIpz"
      },
      "execution_count": null,
      "outputs": []
    },
    {
      "cell_type": "code",
      "source": [
        "today_ref.set(basicdata)"
      ],
      "metadata": {
        "id": "utT4WEkwkLU8"
      },
      "execution_count": null,
      "outputs": []
    },
    {
      "cell_type": "markdown",
      "metadata": {
        "id": "exq_qfzttIhc"
      },
      "source": [
        "### Base Model MobileNetV3"
      ]
    },
    {
      "cell_type": "code",
      "execution_count": null,
      "metadata": {
        "id": "Y7YWxKditGcq"
      },
      "outputs": [],
      "source": [
        "ayush_mobilenetV3_base=MobileNetV3Large(input_shape=input_shape,  # We don't want the dense layers on top\n",
        "                       weights=None)"
      ]
    },
    {
      "cell_type": "markdown",
      "metadata": {
        "id": "k20JYY3etkBS"
      },
      "source": [
        "### Layers setup for Base Model"
      ]
    },
    {
      "cell_type": "code",
      "execution_count": null,
      "metadata": {
        "id": "TpS2tukutrxR"
      },
      "outputs": [],
      "source": [
        "ayush_mobilenetV3_base.trainable=True"
      ]
    },
    {
      "cell_type": "markdown",
      "metadata": {
        "id": "3lO56BpGt2wa"
      },
      "source": [
        "### Final Model"
      ]
    },
    {
      "cell_type": "code",
      "execution_count": null,
      "metadata": {
        "id": "GIdrUMvvt5B-"
      },
      "outputs": [],
      "source": [
        "ayushVision_MobileNetV3_Model=Sequential([ayush_mobilenetV3_base])\n"
      ]
    },
    {
      "cell_type": "markdown",
      "metadata": {
        "id": "_Q4oSgBeuQxF"
      },
      "source": [
        "#### Middle Layers"
      ]
    },
    {
      "cell_type": "markdown",
      "metadata": {
        "id": "utS5sXR5uhVM"
      },
      "source": [
        "#### Last Layer"
      ]
    },
    {
      "cell_type": "code",
      "execution_count": null,
      "metadata": {
        "id": "2fmSZDuyukgC"
      },
      "outputs": [],
      "source": [
        "ayushVision_MobileNetV3_Model.add(Dense(no_of_classes,activation='softmax'))"
      ]
    },
    {
      "cell_type": "code",
      "source": [
        "model.summary()"
      ],
      "metadata": {
        "id": "wVJI1wIikkJd"
      },
      "execution_count": null,
      "outputs": []
    },
    {
      "cell_type": "code",
      "source": [
        "args=json.loads(model.to_json())"
      ],
      "metadata": {
        "id": "DcWVp7SIkn50"
      },
      "execution_count": null,
      "outputs": []
    },
    {
      "cell_type": "code",
      "source": [
        "plot_model(ayushVision_MobileNetV3_Model, to_file= f'{working_dir}/mobile_net{epochs}.jpg' , show_shapes=True, show_layer_names=True)"
      ],
      "metadata": {
        "id": "nL4ad2YwkrN9"
      },
      "execution_count": null,
      "outputs": []
    },
    {
      "cell_type": "code",
      "source": [
        "blob = bucket.blob(f\"{storageLocation+document_id}/train/model_summary{document_id}.jpg\")\n",
        "blob.upload_from_filename(f'{working_dir}/mobile_net{epochs}.jpg')\n",
        "blob.make_public()"
      ],
      "metadata": {
        "id": "sgXPwzzFk5Ya"
      },
      "execution_count": null,
      "outputs": []
    },
    {
      "cell_type": "code",
      "source": [
        "today_training_colref=today_ref.collection('Train')"
      ],
      "metadata": {
        "id": "I3Y6A92qk9ic"
      },
      "execution_count": null,
      "outputs": []
    },
    {
      "cell_type": "code",
      "source": [
        "today_training_ref=today_training_colref.document('args')"
      ],
      "metadata": {
        "id": "1yXXd7l5lAFS"
      },
      "execution_count": null,
      "outputs": []
    },
    {
      "cell_type": "code",
      "source": [
        "today_training_ref.set(args)"
      ],
      "metadata": {
        "id": "0BmkDWvZlEaS"
      },
      "execution_count": null,
      "outputs": []
    },
    {
      "cell_type": "code",
      "source": [
        "today_training_summary_ref=today_training_colref.document('model_summary_plot')"
      ],
      "metadata": {
        "id": "YdjT-6WAlPId"
      },
      "execution_count": null,
      "outputs": []
    },
    {
      "cell_type": "code",
      "source": [
        "today_training_summary_ref.set({\n",
        "    'url':blob.public_url\n",
        "})"
      ],
      "metadata": {
        "id": "CrhyHDA1lSBH"
      },
      "execution_count": null,
      "outputs": []
    },
    {
      "cell_type": "markdown",
      "metadata": {
        "id": "zEiEjznRvZem"
      },
      "source": [
        "## Model Compile"
      ]
    },
    {
      "cell_type": "markdown",
      "metadata": {
        "id": "kA3tibbGvc50"
      },
      "source": [
        "#### Optimizer"
      ]
    },
    {
      "cell_type": "code",
      "execution_count": null,
      "metadata": {
        "id": "1sdUtwB2vf5b"
      },
      "outputs": [],
      "source": [
        "optimizer = Adam(learning_rate=0.001)"
      ]
    },
    {
      "cell_type": "markdown",
      "metadata": {
        "id": "aaWBdoaQv6i8"
      },
      "source": [
        "#### Compile"
      ]
    },
    {
      "cell_type": "markdown",
      "metadata": {
        "id": "l3E3gVJfv9UR"
      },
      "source": [
        "##### Variables"
      ]
    },
    {
      "cell_type": "code",
      "execution_count": null,
      "metadata": {
        "id": "pn4gUOczwANx"
      },
      "outputs": [],
      "source": [
        "metrics=[\"accuracy\"]\n",
        "lossfn='categorical_crossentropy'"
      ]
    },
    {
      "cell_type": "code",
      "execution_count": null,
      "metadata": {
        "id": "qGgqeXZQvuTS"
      },
      "outputs": [],
      "source": [
        "ayushVision_MobileNetV3_Model.compile(\n",
        "    optimizer=optimizer,\n",
        "    loss=lossfn,\n",
        "    metrics=metrics)"
      ]
    },
    {
      "cell_type": "code",
      "source": [
        "todat_fit_train_ref=today_training_colref.document('fit')"
      ],
      "metadata": {
        "id": "MEpm1ZE8lary"
      },
      "execution_count": null,
      "outputs": []
    },
    {
      "cell_type": "code",
      "source": [
        "todat_fit_train_ref.set({\n",
        "    'epochs':epochs,\n",
        "    'loss':lossfn,\n",
        "    'optimizer':optimizer.get_config()\n",
        "\n",
        "})"
      ],
      "metadata": {
        "id": "rcO1kiYAleEE"
      },
      "execution_count": null,
      "outputs": []
    },
    {
      "cell_type": "markdown",
      "metadata": {
        "id": "5UCcEs7iwfij"
      },
      "source": [
        "### Trainning"
      ]
    },
    {
      "cell_type": "code",
      "execution_count": null,
      "metadata": {
        "id": "Q19Al6Y-wipO",
        "colab": {
          "base_uri": "https://localhost:8080/"
        },
        "outputId": "395cfbe9-f1b9-4aff-ff82-d5e65b2cf1ad"
      },
      "outputs": [
        {
          "output_type": "stream",
          "name": "stdout",
          "text": [
            "Epoch 1/10\n"
          ]
        },
        {
          "output_type": "stream",
          "name": "stderr",
          "text": [
            "/usr/local/lib/python3.10/dist-packages/keras/src/ops/nn.py:545: UserWarning: You are using a softmax over axis -1 of a tensor of shape (None, 1). This axis has size 1. The softmax operation will always return the value 1, which is likely not what you intended. Did you mean to use a sigmoid instead?\n",
            "  warnings.warn(\n",
            "/usr/local/lib/python3.10/dist-packages/keras/src/losses/losses.py:27: SyntaxWarning: In loss categorical_crossentropy, expected y_pred.shape to be (batch_size, num_classes) with num_classes > 1. Received: y_pred.shape=(None, 1). Consider using 'binary_crossentropy' if you only have 2 classes.\n",
            "  return self.fn(y_true, y_pred, **self._fn_kwargs)\n",
            "/usr/local/lib/python3.10/dist-packages/keras/src/trainers/data_adapters/py_dataset_adapter.py:121: UserWarning: Your `PyDataset` class should call `super().__init__(**kwargs)` in its constructor. `**kwargs` can include `workers`, `use_multiprocessing`, `max_queue_size`. Do not pass these arguments to `fit()`, as they will be ignored.\n",
            "  self._warn_if_super_not_called()\n"
          ]
        },
        {
          "output_type": "stream",
          "name": "stdout",
          "text": [
            "\u001b[1m5/5\u001b[0m \u001b[32m━━━━━━━━━━━━━━━━━━━━\u001b[0m\u001b[37m\u001b[0m \u001b[1m113s\u001b[0m 13s/step - accuracy: 1.0000 - loss: 0.0000e+00 - val_accuracy: 1.0000 - val_loss: 0.0000e+00\n",
            "Epoch 2/10\n",
            "\u001b[1m5/5\u001b[0m \u001b[32m━━━━━━━━━━━━━━━━━━━━\u001b[0m\u001b[37m\u001b[0m \u001b[1m1s\u001b[0m 107ms/step - accuracy: 1.0000 - loss: 0.0000e+00 - val_accuracy: 1.0000 - val_loss: 0.0000e+00\n",
            "Epoch 3/10\n",
            "\u001b[1m5/5\u001b[0m \u001b[32m━━━━━━━━━━━━━━━━━━━━\u001b[0m\u001b[37m\u001b[0m \u001b[1m1s\u001b[0m 114ms/step - accuracy: 1.0000 - loss: 0.0000e+00 - val_accuracy: 1.0000 - val_loss: 0.0000e+00\n",
            "Epoch 4/10\n",
            "\u001b[1m5/5\u001b[0m \u001b[32m━━━━━━━━━━━━━━━━━━━━\u001b[0m\u001b[37m\u001b[0m \u001b[1m1s\u001b[0m 111ms/step - accuracy: 1.0000 - loss: 0.0000e+00 - val_accuracy: 1.0000 - val_loss: 0.0000e+00\n",
            "Epoch 5/10\n",
            "\u001b[1m5/5\u001b[0m \u001b[32m━━━━━━━━━━━━━━━━━━━━\u001b[0m\u001b[37m\u001b[0m \u001b[1m1s\u001b[0m 112ms/step - accuracy: 1.0000 - loss: 0.0000e+00 - val_accuracy: 1.0000 - val_loss: 0.0000e+00\n",
            "Epoch 6/10\n",
            "\u001b[1m5/5\u001b[0m \u001b[32m━━━━━━━━━━━━━━━━━━━━\u001b[0m\u001b[37m\u001b[0m \u001b[1m1s\u001b[0m 107ms/step - accuracy: 1.0000 - loss: 0.0000e+00 - val_accuracy: 1.0000 - val_loss: 0.0000e+00\n",
            "Epoch 7/10\n",
            "\u001b[1m5/5\u001b[0m \u001b[32m━━━━━━━━━━━━━━━━━━━━\u001b[0m\u001b[37m\u001b[0m \u001b[1m1s\u001b[0m 96ms/step - accuracy: 1.0000 - loss: 0.0000e+00 - val_accuracy: 1.0000 - val_loss: 0.0000e+00\n",
            "Epoch 8/10\n",
            "\u001b[1m5/5\u001b[0m \u001b[32m━━━━━━━━━━━━━━━━━━━━\u001b[0m\u001b[37m\u001b[0m \u001b[1m1s\u001b[0m 108ms/step - accuracy: 1.0000 - loss: 0.0000e+00 - val_accuracy: 1.0000 - val_loss: 0.0000e+00\n",
            "Epoch 9/10\n",
            "\u001b[1m5/5\u001b[0m \u001b[32m━━━━━━━━━━━━━━━━━━━━\u001b[0m\u001b[37m\u001b[0m \u001b[1m1s\u001b[0m 94ms/step - accuracy: 1.0000 - loss: 0.0000e+00 - val_accuracy: 1.0000 - val_loss: 0.0000e+00\n",
            "Epoch 10/10\n",
            "\u001b[1m5/5\u001b[0m \u001b[32m━━━━━━━━━━━━━━━━━━━━\u001b[0m\u001b[37m\u001b[0m \u001b[1m1s\u001b[0m 100ms/step - accuracy: 1.0000 - loss: 0.0000e+00 - val_accuracy: 1.0000 - val_loss: 0.0000e+00\n"
          ]
        }
      ],
      "source": [
        "model_history=ayushVision_MobileNetV3_Model.fit(\n",
        "    train_ds_gen,\n",
        "    epochs=epochs,\n",
        "    validation_data=val_ds_gen)"
      ]
    },
    {
      "cell_type": "code",
      "source": [
        "# Plot training history\n",
        "plt.plot(model_history.history['accuracy'], label='Training Accuracy')\n",
        "plt.plot(model_history.history['val_accuracy'], label='Validation Accuracy')\n",
        "plt.legend()\n",
        "plt.savefig(f\"{working_dir}/mobile_net{epochs}_model_accuracy.jpg\")\n",
        "plt.show()"
      ],
      "metadata": {
        "id": "Fx74o0rZlui2"
      },
      "execution_count": null,
      "outputs": []
    },
    {
      "cell_type": "code",
      "source": [
        "blob = bucket.blob(f\"{storageLocation+document_id}/val/training_plot{document_id}.jpg\")\n",
        "blob.upload_from_filename(f'{working_dir}/mobile_net{epochs}_model_accuracy.jpg')\n",
        "blob.make_public()"
      ],
      "metadata": {
        "id": "N7AN_6vpl7Zj"
      },
      "execution_count": null,
      "outputs": []
    },
    {
      "cell_type": "code",
      "source": [
        "validationref=today_ref.collection('Val')"
      ],
      "metadata": {
        "id": "BeAFovJdl-UW"
      },
      "execution_count": null,
      "outputs": []
    },
    {
      "cell_type": "code",
      "source": [
        "-valhistory_ref=validationref.document('history')\n",
        "valaccuracy_ref=validationref.document('accuracy_plot')"
      ],
      "metadata": {
        "id": "R2bVG5u4mAkz"
      },
      "execution_count": null,
      "outputs": []
    },
    {
      "cell_type": "code",
      "source": [
        "valhistory_ref.set(\n",
        "    model_history.history\n",
        ")"
      ],
      "metadata": {
        "id": "FQk6xfJTmDcT"
      },
      "execution_count": null,
      "outputs": []
    },
    {
      "cell_type": "code",
      "source": [
        "valaccuracy_ref.set({\n",
        "    'url':blob.public_url\n",
        "})"
      ],
      "metadata": {
        "id": "569sj9rKmG18"
      },
      "execution_count": null,
      "outputs": []
    },
    {
      "cell_type": "markdown",
      "metadata": {
        "id": "XVogOJoXxbEk"
      },
      "source": [
        "### Evaluation"
      ]
    },
    {
      "cell_type": "code",
      "execution_count": null,
      "metadata": {
        "id": "9sCSzfRUxdor",
        "outputId": "0fcaaafd-3b47-4fe2-8850-98fd6a8a37c7",
        "colab": {
          "base_uri": "https://localhost:8080/"
        }
      },
      "outputs": [
        {
          "output_type": "stream",
          "name": "stdout",
          "text": [
            "\u001b[1m1/1\u001b[0m \u001b[32m━━━━━━━━━━━━━━━━━━━━\u001b[0m\u001b[37m\u001b[0m \u001b[1m0s\u001b[0m 108ms/step - accuracy: 1.0000 - loss: 0.0000e+00\n"
          ]
        }
      ],
      "source": [
        "test_loss, test_accuracy = ayushVision_MobileNetV3_Model.evaluate(test_ds_gen)\n",
        "print(f'Test Accuracy: {test_accuracy*100:.2f}%')"
      ]
    },
    {
      "cell_type": "code",
      "source": [
        "testref=today_ref.collection('Test')"
      ],
      "metadata": {
        "id": "eXLQ7UiAmV9J"
      },
      "execution_count": null,
      "outputs": []
    },
    {
      "cell_type": "code",
      "source": [
        "test_accuracy_loss=testref.document('test_accuracy_lost')\n",
        "test_accuracy_loss.set({\n",
        "    'accuracy':test_accuracy,\n",
        "    'loss':test_loss\n",
        "})"
      ],
      "metadata": {
        "id": "hBXxplAGmdbZ"
      },
      "execution_count": null,
      "outputs": []
    },
    {
      "cell_type": "code",
      "source": [
        "modelref=today_ref.collection('Model')"
      ],
      "metadata": {
        "id": "f-BJM8mwmiPh"
      },
      "execution_count": null,
      "outputs": []
    },
    {
      "cell_type": "code",
      "source": [
        "model.save(f'{working_dir}/mobile_net_root_{epochs}.h5',)"
      ],
      "metadata": {
        "id": "NVutoIkImk6E"
      },
      "execution_count": null,
      "outputs": []
    },
    {
      "cell_type": "code",
      "source": [
        "savemodel=modelref.document('model')"
      ],
      "metadata": {
        "id": "yW2EPdnKmncZ"
      },
      "execution_count": null,
      "outputs": []
    },
    {
      "cell_type": "code",
      "source": [
        "blob = bucket.blob(f\"{storageLocation+document_id}/model/mobile_net_root_{epochs}.h5\")\n",
        "blob.upload_from_filename(f'{working_dir}/mobile_net_root_{epochs}.h5')\n",
        "blob.make_public()\n",
        "h5model=blob.public_url"
      ],
      "metadata": {
        "id": "wE2ysPPlmrZH"
      },
      "execution_count": null,
      "outputs": []
    },
    {
      "cell_type": "code",
      "source": [
        "savemodel.set({'model':h5model})"
      ],
      "metadata": {
        "id": "E1Zffwscmwbq"
      },
      "execution_count": null,
      "outputs": []
    },
    {
      "cell_type": "code",
      "source": [
        "directory_path = 'sample/predict'\n",
        "files = os.listdir(directory_path)\n",
        "\n",
        "for file in files:\n",
        "    image_path = os.path.join(directory_path, file)\n",
        "\n",
        "    if os.path.isfile(os.path.join(directory_path, file)):\n",
        "        # Load and preprocess the image\n",
        "        img = image.load_img(image_path, target_size=(150, 150))\n",
        "        img_array = image.img_to_array(img)\n",
        "        img_array = np.expand_dims(img_array, axis=0)\n",
        "        img_array /= 255.0\n",
        "        # Make a prediction\n",
        "        prediction = model.predict(img_array)\n",
        "        print(prediction)\n",
        "\n",
        "\n",
        "        predicted_class_index = np.argmax(prediction)\n",
        "\n",
        "        # Define your class labels\n",
        "        class_labels = ['cat', 'dog']\n",
        "\n",
        "        # Get the corresponding class label\n",
        "        predicted_class_label = class_labels[predicted_class_index]\n",
        "\n",
        "        # Get the confidence score for the predicted class\n",
        "        confidence_score = prediction[0, predicted_class_index]\n",
        "\n",
        "        # Display the results\n",
        "        print(f'Predicted Class: {predicted_class_label}')\n",
        "        print(f'Confidence Score: {confidence_score * 100:.2f}%')\n"
      ],
      "metadata": {
        "id": "XNhE2eOxm1Bw"
      },
      "execution_count": null,
      "outputs": []
    }
  ],
  "metadata": {
    "colab": {
      "provenance": [],
      "gpuType": "T4",
      "include_colab_link": true
    },
    "kernelspec": {
      "display_name": "Python 3",
      "name": "python3"
    },
    "language_info": {
      "codemirror_mode": {
        "name": "ipython",
        "version": 3
      },
      "file_extension": ".py",
      "mimetype": "text/x-python",
      "name": "python",
      "nbconvert_exporter": "python",
      "pygments_lexer": "ipython3",
      "version": "3.12.4"
    },
    "accelerator": "GPU"
  },
  "nbformat": 4,
  "nbformat_minor": 0
}