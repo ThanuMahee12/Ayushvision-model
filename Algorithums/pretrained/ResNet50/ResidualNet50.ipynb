{
  "cells": [
    {
      "cell_type": "markdown",
      "metadata": {
        "id": "view-in-github",
        "colab_type": "text"
      },
      "source": [
        "<a href=\"https://colab.research.google.com/github/ThanuMahee12/ayush-vision/blob/res-net/Algorithums/pretrained/ResNet50/ResidualNet50.ipynb\" target=\"_parent\"><img src=\"https://colab.research.google.com/assets/colab-badge.svg\" alt=\"Open In Colab\"/></a>"
      ]
    },
    {
      "cell_type": "markdown",
      "metadata": {
        "id": "2bowAAElvCDW"
      },
      "source": [
        "# ResNet 50"
      ]
    },
    {
      "cell_type": "markdown",
      "metadata": {
        "id": "8eTv_O1kvJwv"
      },
      "source": [
        "## Imports"
      ]
    },
    {
      "cell_type": "markdown",
      "metadata": {
        "id": "nB3vvwLyvkwX"
      },
      "source": [
        "### Collab Imports"
      ]
    },
    {
      "cell_type": "code",
      "execution_count": 1,
      "metadata": {
        "id": "bkWRg7-mvI4B"
      },
      "outputs": [],
      "source": [
        "from google.colab import drive"
      ]
    },
    {
      "cell_type": "code",
      "execution_count": 2,
      "metadata": {
        "id": "GFVIoWAswFdb"
      },
      "outputs": [],
      "source": [
        "import numpy as np\n",
        "import pandas as pd\n",
        "import matplotlib.pyplot as plt\n",
        "import os"
      ]
    },
    {
      "cell_type": "markdown",
      "metadata": {
        "id": "Jsz1l9cewVxo"
      },
      "source": [
        "### Tensorflow Imports"
      ]
    },
    {
      "cell_type": "code",
      "execution_count": 3,
      "metadata": {
        "id": "1870sUacwaM2"
      },
      "outputs": [],
      "source": [
        "import os\n",
        "import tensorflow as tf\n",
        "from tensorflow.keras.utils import image_dataset_from_directory\n",
        "from tensorflow.keras.preprocessing import image\n",
        "from tensorflow.keras.optimizers import Adam\n",
        "from tensorflow.keras.models import Sequential\n",
        "from tensorflow.keras.applications import ResNet50\n",
        "from tensorflow.keras import Input\n",
        "from tensorflow.keras.utils import plot_model\n",
        "from tensorflow.keras.layers import Dense,Conv2D, MaxPooling2D, Flatten,GlobalAveragePooling2D"
      ]
    },
    {
      "cell_type": "markdown",
      "metadata": {
        "id": "ehXo5c_80EOM"
      },
      "source": [
        "## Variables"
      ]
    },
    {
      "cell_type": "markdown",
      "metadata": {
        "id": "y9ZRN4Tx0LCL"
      },
      "source": [
        "### Path variables"
      ]
    },
    {
      "cell_type": "code",
      "execution_count": 4,
      "metadata": {
        "id": "EMEcZoJt3J6E"
      },
      "outputs": [],
      "source": [
        "dataset_dir='/content/drive/MyDrive/ayushvision_root' #datasetbase dirctory"
      ]
    },
    {
      "cell_type": "code",
      "execution_count": 17,
      "metadata": {
        "id": "MEP4zYoc3W0y"
      },
      "outputs": [],
      "source": [
        "dataset_train_dir=os.path.join(dataset_dir,'train')\n",
        "dataset_val_dir=os.path.join(dataset_dir,'val')\n",
        "dataset_test_dir=os.path.join(dataset_dir,'test')"
      ]
    },
    {
      "cell_type": "markdown",
      "metadata": {
        "id": "ifz4Gosy7Jf0"
      },
      "source": [
        "### Genrator Variable"
      ]
    },
    {
      "cell_type": "code",
      "execution_count": 6,
      "metadata": {
        "id": "WxzxLjTJ7N2R"
      },
      "outputs": [],
      "source": [
        "rescale=1/255"
      ]
    },
    {
      "cell_type": "markdown",
      "metadata": {
        "id": "noQZt9AT8s39"
      },
      "source": [
        "### Configration Variables"
      ]
    },
    {
      "cell_type": "code",
      "execution_count": 49,
      "metadata": {
        "id": "0M5APq8U8wdj"
      },
      "outputs": [],
      "source": [
        "target_size=(224,224)\n",
        "class_mode='sparse'\n",
        "input_shape=(224,224,3)"
      ]
    },
    {
      "cell_type": "markdown",
      "metadata": {
        "id": "Dxx_ewkNvGEP"
      },
      "source": [
        "### Model Variables"
      ]
    },
    {
      "cell_type": "markdown",
      "metadata": {
        "id": "xIv_Hh05vJ-M"
      },
      "source": [
        "#### Number If Classes"
      ]
    },
    {
      "cell_type": "code",
      "execution_count": 8,
      "metadata": {
        "id": "1rVO9kLQvNF7"
      },
      "outputs": [],
      "source": [
        "no_of_classes=32"
      ]
    },
    {
      "cell_type": "markdown",
      "metadata": {
        "id": "RAY9WhFNxI5l"
      },
      "source": [
        "## Envirumentatl Setup"
      ]
    },
    {
      "cell_type": "markdown",
      "metadata": {
        "id": "k3TJCwCUxNiP"
      },
      "source": [
        "### Collab"
      ]
    },
    {
      "cell_type": "code",
      "execution_count": 9,
      "metadata": {
        "id": "VKvkxb2xxP6P",
        "outputId": "20a0af1d-5952-4d37-be73-4852fafb2c7d",
        "colab": {
          "base_uri": "https://localhost:8080/"
        }
      },
      "outputs": [
        {
          "output_type": "stream",
          "name": "stdout",
          "text": [
            "Mounted at /content/drive\n"
          ]
        }
      ],
      "source": [
        "drive.mount('/content/drive') # drive activate for Use"
      ]
    },
    {
      "cell_type": "markdown",
      "metadata": {
        "id": "8rPbqEgK1Wr8"
      },
      "source": [
        "## Validations"
      ]
    },
    {
      "cell_type": "code",
      "execution_count": 18,
      "metadata": {
        "id": "404OTbpS4ysB",
        "outputId": "95f17c70-b72c-424f-ebb3-f686afb8b3f1",
        "colab": {
          "base_uri": "https://localhost:8080/",
          "height": 36
        }
      },
      "outputs": [
        {
          "output_type": "execute_result",
          "data": {
            "text/plain": [
              "'/content/drive/MyDrive/ayushvision_root/train is Correct'"
            ],
            "application/vnd.google.colaboratory.intrinsic+json": {
              "type": "string"
            }
          },
          "metadata": {},
          "execution_count": 18
        }
      ],
      "source": [
        "f'{dataset_train_dir} is Correct' if os.path.exists(dataset_train_dir) and os.path.isdir(dataset_train_dir) else f' {dataset_train_dir} is incorrect'\n"
      ]
    },
    {
      "cell_type": "code",
      "execution_count": 19,
      "metadata": {
        "id": "qg53pP8q5TxB",
        "outputId": "059fb2cc-5934-4841-9289-89d470551e5c",
        "colab": {
          "base_uri": "https://localhost:8080/",
          "height": 36
        }
      },
      "outputs": [
        {
          "output_type": "execute_result",
          "data": {
            "text/plain": [
              "'/content/drive/MyDrive/ayushvision_root/test is Correct'"
            ],
            "application/vnd.google.colaboratory.intrinsic+json": {
              "type": "string"
            }
          },
          "metadata": {},
          "execution_count": 19
        }
      ],
      "source": [
        "f'{dataset_test_dir} is Correct' if os.path.exists(dataset_test_dir) and os.path.isdir(dataset_train_dir) else f' {dataset_test_dir} is incorrect'\n"
      ]
    },
    {
      "cell_type": "code",
      "execution_count": 20,
      "metadata": {
        "id": "2YeeG1CK5VaE",
        "outputId": "844800fa-29be-4063-a45a-b06f81aced62",
        "colab": {
          "base_uri": "https://localhost:8080/",
          "height": 36
        }
      },
      "outputs": [
        {
          "output_type": "execute_result",
          "data": {
            "text/plain": [
              "'/content/drive/MyDrive/ayushvision_root/val is Correct'"
            ],
            "application/vnd.google.colaboratory.intrinsic+json": {
              "type": "string"
            }
          },
          "metadata": {},
          "execution_count": 20
        }
      ],
      "source": [
        "f'{dataset_val_dir} is Correct' if os.path.exists(dataset_val_dir) and os.path.isdir(dataset_val_dir) else f' {dataset_val_dir} is incorrect'"
      ]
    },
    {
      "cell_type": "markdown",
      "metadata": {
        "id": "3fTiill8zzef"
      },
      "source": [
        "## DataSet"
      ]
    },
    {
      "cell_type": "markdown",
      "metadata": {
        "id": "I2BunOax5fWk"
      },
      "source": [
        "### Image Genarator"
      ]
    },
    {
      "cell_type": "code",
      "execution_count": 21,
      "metadata": {
        "id": "Wbnr0KTw6sOn"
      },
      "outputs": [],
      "source": [
        "train_data_genrator=image.ImageDataGenerator(rescale=rescale)"
      ]
    },
    {
      "cell_type": "code",
      "execution_count": 22,
      "metadata": {
        "id": "hsLpWRvK7U1X"
      },
      "outputs": [],
      "source": [
        "test_data_genrator=image.ImageDataGenerator(rescale=rescale)"
      ]
    },
    {
      "cell_type": "code",
      "execution_count": 23,
      "metadata": {
        "id": "XoTIixHF7XyY"
      },
      "outputs": [],
      "source": [
        "val_data_genrator=image.ImageDataGenerator(rescale=rescale)"
      ]
    },
    {
      "cell_type": "markdown",
      "metadata": {
        "id": "PxYUE9dG8__v"
      },
      "source": [
        "### Prepared Dataset"
      ]
    },
    {
      "cell_type": "code",
      "execution_count": 24,
      "metadata": {
        "id": "bnj4OQce9D9e",
        "outputId": "c8d75716-6ef7-47aa-e1bf-178ac8f1a49a",
        "colab": {
          "base_uri": "https://localhost:8080/"
        }
      },
      "outputs": [
        {
          "output_type": "stream",
          "name": "stdout",
          "text": [
            "Found 420 images belonging to 1 classes.\n"
          ]
        }
      ],
      "source": [
        "train_ds_gen=train_data_genrator.flow_from_directory(\n",
        "    dataset_train_dir,\n",
        "    target_size=target_size,\n",
        "    class_mode=class_mode\n",
        ")\n"
      ]
    },
    {
      "cell_type": "code",
      "source": [
        "val_ds_gen=val_data_genrator.flow_from_directory(\n",
        "    dataset_val_dir,\n",
        "    target_size=target_size,\n",
        "    class_mode=class_mode\n",
        ")\n",
        "\n"
      ],
      "metadata": {
        "id": "pp5xcgFzVRfL",
        "outputId": "0db15e77-5394-44f4-f65f-c5446f8d0342",
        "colab": {
          "base_uri": "https://localhost:8080/"
        }
      },
      "execution_count": 25,
      "outputs": [
        {
          "output_type": "stream",
          "name": "stdout",
          "text": [
            "Found 46 images belonging to 1 classes.\n"
          ]
        }
      ]
    },
    {
      "cell_type": "code",
      "source": [
        "test_ds_gen=test_data_genrator.flow_from_directory(\n",
        "    dataset_test_dir,\n",
        "    target_size=target_size,\n",
        "    class_mode=class_mode\n",
        ")"
      ],
      "metadata": {
        "id": "I3bDEWhAVVqV",
        "outputId": "93b543f8-eb53-4537-bf8c-3cf8c78b09a9",
        "colab": {
          "base_uri": "https://localhost:8080/"
        }
      },
      "execution_count": 50,
      "outputs": [
        {
          "output_type": "stream",
          "name": "stdout",
          "text": [
            "Found 14 images belonging to 2 classes.\n"
          ]
        }
      ]
    },
    {
      "cell_type": "markdown",
      "metadata": {
        "id": "aaWo1hLltAaS"
      },
      "source": [
        "## Model\n"
      ]
    },
    {
      "cell_type": "markdown",
      "metadata": {
        "id": "exq_qfzttIhc"
      },
      "source": [
        "### Base Model ResNet50"
      ]
    },
    {
      "cell_type": "code",
      "execution_count": 27,
      "metadata": {
        "id": "Y7YWxKditGcq",
        "outputId": "e114c046-f9fb-4b94-85a1-e29bc4290e0a",
        "colab": {
          "base_uri": "https://localhost:8080/"
        }
      },
      "outputs": [
        {
          "output_type": "stream",
          "name": "stdout",
          "text": [
            "Downloading data from https://storage.googleapis.com/tensorflow/keras-applications/resnet/resnet50_weights_tf_dim_ordering_tf_kernels.h5\n",
            "\u001b[1m102967424/102967424\u001b[0m \u001b[32m━━━━━━━━━━━━━━━━━━━━\u001b[0m\u001b[37m\u001b[0m \u001b[1m0s\u001b[0m 0us/step\n"
          ]
        }
      ],
      "source": [
        "ayush_resnet50_base=ResNet50()"
      ]
    },
    {
      "cell_type": "markdown",
      "metadata": {
        "id": "k20JYY3etkBS"
      },
      "source": [
        "### Layers setup for Base Model"
      ]
    },
    {
      "cell_type": "code",
      "execution_count": 28,
      "metadata": {
        "id": "TpS2tukutrxR"
      },
      "outputs": [],
      "source": [
        "for layer in ayush_resnet50_base.layers:\n",
        "    layer.trainable=False"
      ]
    },
    {
      "cell_type": "markdown",
      "metadata": {
        "id": "3lO56BpGt2wa"
      },
      "source": [
        "### Final Model"
      ]
    },
    {
      "cell_type": "code",
      "execution_count": 29,
      "metadata": {
        "id": "GIdrUMvvt5B-"
      },
      "outputs": [],
      "source": [
        "ayushVision_Resnet50_Model=Sequential([Input(shape=input_shape),ayush_resnet50_base])\n"
      ]
    },
    {
      "cell_type": "markdown",
      "metadata": {
        "id": "_Q4oSgBeuQxF"
      },
      "source": [
        "#### Middle Layers"
      ]
    },
    {
      "cell_type": "markdown",
      "metadata": {
        "id": "utS5sXR5uhVM"
      },
      "source": [
        "#### Last Layer"
      ]
    },
    {
      "cell_type": "code",
      "execution_count": 30,
      "metadata": {
        "id": "2fmSZDuyukgC"
      },
      "outputs": [],
      "source": [
        "ayushVision_Resnet50_Model.add(Dense(no_of_classes,activation='softmax'))"
      ]
    },
    {
      "cell_type": "code",
      "execution_count": 43,
      "metadata": {
        "id": "FfNVPY1Vwpw8"
      },
      "outputs": [],
      "source": [
        "epochs=10"
      ]
    },
    {
      "cell_type": "code",
      "source": [
        "ayushVision_Resnet50_Model.summary()"
      ],
      "metadata": {
        "id": "9eA3xusfWFgy",
        "outputId": "7920c0f6-516e-4fa5-9ef6-55652976f354",
        "colab": {
          "base_uri": "https://localhost:8080/",
          "height": 193
        }
      },
      "execution_count": 31,
      "outputs": [
        {
          "output_type": "display_data",
          "data": {
            "text/plain": [
              "\u001b[1mModel: \"sequential\"\u001b[0m\n"
            ],
            "text/html": [
              "<pre style=\"white-space:pre;overflow-x:auto;line-height:normal;font-family:Menlo,'DejaVu Sans Mono',consolas,'Courier New',monospace\"><span style=\"font-weight: bold\">Model: \"sequential\"</span>\n",
              "</pre>\n"
            ]
          },
          "metadata": {}
        },
        {
          "output_type": "display_data",
          "data": {
            "text/plain": [
              "┏━━━━━━━━━━━━━━━━━━━━━━━━━━━━━━━━━━━━━━┳━━━━━━━━━━━━━━━━━━━━━━━━━━━━━┳━━━━━━━━━━━━━━━━━┓\n",
              "┃\u001b[1m \u001b[0m\u001b[1mLayer (type)                        \u001b[0m\u001b[1m \u001b[0m┃\u001b[1m \u001b[0m\u001b[1mOutput Shape               \u001b[0m\u001b[1m \u001b[0m┃\u001b[1m \u001b[0m\u001b[1m        Param #\u001b[0m\u001b[1m \u001b[0m┃\n",
              "┡━━━━━━━━━━━━━━━━━━━━━━━━━━━━━━━━━━━━━━╇━━━━━━━━━━━━━━━━━━━━━━━━━━━━━╇━━━━━━━━━━━━━━━━━┩\n",
              "│ resnet50 (\u001b[38;5;33mFunctional\u001b[0m)                │ (\u001b[38;5;45mNone\u001b[0m, \u001b[38;5;34m1000\u001b[0m)                │      \u001b[38;5;34m25,636,712\u001b[0m │\n",
              "├──────────────────────────────────────┼─────────────────────────────┼─────────────────┤\n",
              "│ dense (\u001b[38;5;33mDense\u001b[0m)                        │ (\u001b[38;5;45mNone\u001b[0m, \u001b[38;5;34m32\u001b[0m)                  │          \u001b[38;5;34m32,032\u001b[0m │\n",
              "└──────────────────────────────────────┴─────────────────────────────┴─────────────────┘\n"
            ],
            "text/html": [
              "<pre style=\"white-space:pre;overflow-x:auto;line-height:normal;font-family:Menlo,'DejaVu Sans Mono',consolas,'Courier New',monospace\">┏━━━━━━━━━━━━━━━━━━━━━━━━━━━━━━━━━━━━━━┳━━━━━━━━━━━━━━━━━━━━━━━━━━━━━┳━━━━━━━━━━━━━━━━━┓\n",
              "┃<span style=\"font-weight: bold\"> Layer (type)                         </span>┃<span style=\"font-weight: bold\"> Output Shape                </span>┃<span style=\"font-weight: bold\">         Param # </span>┃\n",
              "┡━━━━━━━━━━━━━━━━━━━━━━━━━━━━━━━━━━━━━━╇━━━━━━━━━━━━━━━━━━━━━━━━━━━━━╇━━━━━━━━━━━━━━━━━┩\n",
              "│ resnet50 (<span style=\"color: #0087ff; text-decoration-color: #0087ff\">Functional</span>)                │ (<span style=\"color: #00d7ff; text-decoration-color: #00d7ff\">None</span>, <span style=\"color: #00af00; text-decoration-color: #00af00\">1000</span>)                │      <span style=\"color: #00af00; text-decoration-color: #00af00\">25,636,712</span> │\n",
              "├──────────────────────────────────────┼─────────────────────────────┼─────────────────┤\n",
              "│ dense (<span style=\"color: #0087ff; text-decoration-color: #0087ff\">Dense</span>)                        │ (<span style=\"color: #00d7ff; text-decoration-color: #00d7ff\">None</span>, <span style=\"color: #00af00; text-decoration-color: #00af00\">32</span>)                  │          <span style=\"color: #00af00; text-decoration-color: #00af00\">32,032</span> │\n",
              "└──────────────────────────────────────┴─────────────────────────────┴─────────────────┘\n",
              "</pre>\n"
            ]
          },
          "metadata": {}
        },
        {
          "output_type": "display_data",
          "data": {
            "text/plain": [
              "\u001b[1m Total params: \u001b[0m\u001b[38;5;34m25,668,744\u001b[0m (97.92 MB)\n"
            ],
            "text/html": [
              "<pre style=\"white-space:pre;overflow-x:auto;line-height:normal;font-family:Menlo,'DejaVu Sans Mono',consolas,'Courier New',monospace\"><span style=\"font-weight: bold\"> Total params: </span><span style=\"color: #00af00; text-decoration-color: #00af00\">25,668,744</span> (97.92 MB)\n",
              "</pre>\n"
            ]
          },
          "metadata": {}
        },
        {
          "output_type": "display_data",
          "data": {
            "text/plain": [
              "\u001b[1m Trainable params: \u001b[0m\u001b[38;5;34m32,032\u001b[0m (125.12 KB)\n"
            ],
            "text/html": [
              "<pre style=\"white-space:pre;overflow-x:auto;line-height:normal;font-family:Menlo,'DejaVu Sans Mono',consolas,'Courier New',monospace\"><span style=\"font-weight: bold\"> Trainable params: </span><span style=\"color: #00af00; text-decoration-color: #00af00\">32,032</span> (125.12 KB)\n",
              "</pre>\n"
            ]
          },
          "metadata": {}
        },
        {
          "output_type": "display_data",
          "data": {
            "text/plain": [
              "\u001b[1m Non-trainable params: \u001b[0m\u001b[38;5;34m25,636,712\u001b[0m (97.80 MB)\n"
            ],
            "text/html": [
              "<pre style=\"white-space:pre;overflow-x:auto;line-height:normal;font-family:Menlo,'DejaVu Sans Mono',consolas,'Courier New',monospace\"><span style=\"font-weight: bold\"> Non-trainable params: </span><span style=\"color: #00af00; text-decoration-color: #00af00\">25,636,712</span> (97.80 MB)\n",
              "</pre>\n"
            ]
          },
          "metadata": {}
        }
      ]
    },
    {
      "cell_type": "code",
      "source": [
        "plot_model(ayushVision_Resnet50_Model, to_file= f'/content/drive/My Drive/res50{epochs}.png' , show_shapes=True, show_layer_names=True)"
      ],
      "metadata": {
        "id": "FxNlIlN8aQKR",
        "outputId": "9b59233b-8fcd-4be9-a64b-0983f0bbec78",
        "colab": {
          "base_uri": "https://localhost:8080/",
          "height": 571
        }
      },
      "execution_count": 32,
      "outputs": [
        {
          "output_type": "execute_result",
          "data": {
            "image/png": "[encoded data removed]",
            "text/plain": [
              "<IPython.core.display.Image object>"
            ]
          },
          "metadata": {},
          "execution_count": 32
        }
      ]
    },
    {
      "cell_type": "markdown",
      "metadata": {
        "id": "zEiEjznRvZem"
      },
      "source": [
        "## Model Compile"
      ]
    },
    {
      "cell_type": "markdown",
      "metadata": {
        "id": "kA3tibbGvc50"
      },
      "source": [
        "#### Optimizer"
      ]
    },
    {
      "cell_type": "code",
      "execution_count": 33,
      "metadata": {
        "id": "1sdUtwB2vf5b"
      },
      "outputs": [],
      "source": [
        "optimizer = Adam(learning_rate=0.001)"
      ]
    },
    {
      "cell_type": "markdown",
      "metadata": {
        "id": "aaWBdoaQv6i8"
      },
      "source": [
        "#### Compile"
      ]
    },
    {
      "cell_type": "markdown",
      "metadata": {
        "id": "l3E3gVJfv9UR"
      },
      "source": [
        "##### Variables"
      ]
    },
    {
      "cell_type": "code",
      "execution_count": 38,
      "metadata": {
        "id": "pn4gUOczwANx"
      },
      "outputs": [],
      "source": [
        "metrics=[\"accuracy\"]\n",
        "lossfn='sparse_categorical_crossentropy'"
      ]
    },
    {
      "cell_type": "code",
      "execution_count": 39,
      "metadata": {
        "id": "qGgqeXZQvuTS"
      },
      "outputs": [],
      "source": [
        "ayushVision_Resnet50_Model.compile(\n",
        "    optimizer=optimizer,\n",
        "    loss=lossfn,\n",
        "    metrics=metrics)"
      ]
    },
    {
      "cell_type": "markdown",
      "metadata": {
        "id": "5UCcEs7iwfij"
      },
      "source": [
        "### Trainning"
      ]
    },
    {
      "cell_type": "code",
      "execution_count": 44,
      "metadata": {
        "id": "Q19Al6Y-wipO",
        "outputId": "7854aa0f-6194-4257-a68a-3fa0ae898ab5",
        "colab": {
          "base_uri": "https://localhost:8080/"
        }
      },
      "outputs": [
        {
          "output_type": "stream",
          "name": "stdout",
          "text": [
            "Epoch 1/10\n",
            "\u001b[1m14/14\u001b[0m \u001b[32m━━━━━━━━━━━━━━━━━━━━\u001b[0m\u001b[37m\u001b[0m \u001b[1m5s\u001b[0m 206ms/step - accuracy: 1.0000 - loss: 3.3860 - val_accuracy: 1.0000 - val_loss: 3.3452\n",
            "Epoch 2/10\n",
            "\u001b[1m14/14\u001b[0m \u001b[32m━━━━━━━━━━━━━━━━━━━━\u001b[0m\u001b[37m\u001b[0m \u001b[1m4s\u001b[0m 206ms/step - accuracy: 1.0000 - loss: 3.3322 - val_accuracy: 1.0000 - val_loss: 3.2915\n",
            "Epoch 3/10\n",
            "\u001b[1m14/14\u001b[0m \u001b[32m━━━━━━━━━━━━━━━━━━━━\u001b[0m\u001b[37m\u001b[0m \u001b[1m4s\u001b[0m 147ms/step - accuracy: 1.0000 - loss: 3.2787 - val_accuracy: 1.0000 - val_loss: 3.2379\n",
            "Epoch 4/10\n",
            "\u001b[1m14/14\u001b[0m \u001b[32m━━━━━━━━━━━━━━━━━━━━\u001b[0m\u001b[37m\u001b[0m \u001b[1m5s\u001b[0m 169ms/step - accuracy: 1.0000 - loss: 3.2240 - val_accuracy: 1.0000 - val_loss: 3.1845\n",
            "Epoch 5/10\n",
            "\u001b[1m14/14\u001b[0m \u001b[32m━━━━━━━━━━━━━━━━━━━━\u001b[0m\u001b[37m\u001b[0m \u001b[1m5s\u001b[0m 146ms/step - accuracy: 1.0000 - loss: 3.1718 - val_accuracy: 1.0000 - val_loss: 3.1313\n",
            "Epoch 6/10\n",
            "\u001b[1m14/14\u001b[0m \u001b[32m━━━━━━━━━━━━━━━━━━━━\u001b[0m\u001b[37m\u001b[0m \u001b[1m5s\u001b[0m 149ms/step - accuracy: 1.0000 - loss: 3.1183 - val_accuracy: 1.0000 - val_loss: 3.0782\n",
            "Epoch 7/10\n",
            "\u001b[1m14/14\u001b[0m \u001b[32m━━━━━━━━━━━━━━━━━━━━\u001b[0m\u001b[37m\u001b[0m \u001b[1m3s\u001b[0m 133ms/step - accuracy: 1.0000 - loss: 3.0656 - val_accuracy: 1.0000 - val_loss: 3.0253\n",
            "Epoch 8/10\n",
            "\u001b[1m14/14\u001b[0m \u001b[32m━━━━━━━━━━━━━━━━━━━━\u001b[0m\u001b[37m\u001b[0m \u001b[1m5s\u001b[0m 132ms/step - accuracy: 1.0000 - loss: 3.0127 - val_accuracy: 1.0000 - val_loss: 2.9727\n",
            "Epoch 9/10\n",
            "\u001b[1m14/14\u001b[0m \u001b[32m━━━━━━━━━━━━━━━━━━━━\u001b[0m\u001b[37m\u001b[0m \u001b[1m3s\u001b[0m 138ms/step - accuracy: 1.0000 - loss: 2.9603 - val_accuracy: 1.0000 - val_loss: 2.9203\n",
            "Epoch 10/10\n",
            "\u001b[1m14/14\u001b[0m \u001b[32m━━━━━━━━━━━━━━━━━━━━\u001b[0m\u001b[37m\u001b[0m \u001b[1m3s\u001b[0m 145ms/step - accuracy: 1.0000 - loss: 2.9079 - val_accuracy: 1.0000 - val_loss: 2.8681\n"
          ]
        }
      ],
      "source": [
        "model_history=ayushVision_Resnet50_Model.fit(\n",
        "    train_ds_gen,\n",
        "    epochs=epochs,\n",
        "    validation_data=val_ds_gen)"
      ]
    },
    {
      "cell_type": "code",
      "source": [
        "plt.plot(model_history.history['accuracy'], label='Training Accuracy')\n",
        "plt.plot(model_history.history['val_accuracy'], label='Validation Accuracy')\n",
        "plt.legend()\n",
        "plt.savefig(f'accuracy{epochs}.png')\n",
        "plt.show()"
      ],
      "metadata": {
        "id": "JIiy7o09cRst",
        "outputId": "4fea52a6-bb81-4273-ccf9-48949d5564be",
        "colab": {
          "base_uri": "https://localhost:8080/",
          "height": 430
        }
      },
      "execution_count": 46,
      "outputs": [
        {
          "output_type": "display_data",
          "data": {
            "text/plain": [
              "<Figure size 640x480 with 1 Axes>"
            ],
            "image/png": "[encoded data removed]"
          },
          "metadata": {}
        }
      ]
    },
    {
      "cell_type": "markdown",
      "metadata": {
        "id": "XVogOJoXxbEk"
      },
      "source": [
        "### Evaluation"
      ]
    }
  ],
  "metadata": {
    "colab": {
      "provenance": [],
      "gpuType": "T4",
      "include_colab_link": true
    },
    "kernelspec": {
      "display_name": "Python 3",
      "name": "python3"
    },
    "language_info": {
      "name": "python"
    },
    "accelerator": "GPU"
  },
  "nbformat": 4,
  "nbformat_minor": 0
}